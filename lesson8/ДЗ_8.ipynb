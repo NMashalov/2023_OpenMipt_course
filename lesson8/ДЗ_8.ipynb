{
  "cells": [
    {
      "cell_type": "markdown",
      "metadata": {
        "id": "view-in-github",
        "colab_type": "text"
      },
      "source": [
        "<a href=\"https://colab.research.google.com/github/NMashalov/2023_OpenMipt_course/blob/main/lesson8/%D0%94%D0%97_8.ipynb\" target=\"_parent\"><img src=\"https://colab.research.google.com/assets/colab-badge.svg\" alt=\"Open In Colab\"/></a>"
      ]
    },
    {
      "cell_type": "markdown",
      "id": "39f63c43",
      "metadata": {
        "id": "39f63c43",
        "pycharm": {
          "name": "#%% md\n"
        }
      },
      "source": [
        "# <a href=\"https://miptstats.github.io/courses/ad_mipt.html\">Phystech@DataScience</a>\n",
        "## Домашнее задание 8\n",
        "\n",
        "**Правила, <font color=\"red\">прочитайте внимательно</font>:**\n",
        "\n",
        "* Выполненную работу нужно отправить телеграм-боту `@miptstats_pds_bot`. Для начала работы с ботом каждый раз отправляйте `/start`. **Работы, присланные иным способом, не принимаются.**\n",
        "* Дедлайн см. в боте. После дедлайна работы не принимаются кроме случаев наличия уважительной причины.\n",
        "* Прислать нужно ноутбук в формате `ipynb`.\n",
        "* Выполнять задание необходимо полностью самостоятельно. **При обнаружении списывания все участники списывания будут сдавать устный зачет.**\n",
        "* Решения, размещенные на каких-либо интернет-ресурсах, не принимаются. Кроме того, публикация решения в открытом доступе может быть приравнена к предоставлении возможности списать.\n",
        "* Для выполнения задания используйте этот ноутбук в качестве основы, ничего не удаляя из него. Можно добавлять необходимое количество ячеек.\n",
        "* Комментарии к решению пишите в markdown-ячейках.\n",
        "* Выполнение задания (ход решения, выводы и пр.) должно быть осуществлено на русском языке.\n",
        "* Если код будет не понятен проверяющему, оценка может быть снижена.\n",
        "* Никакой код из данного задания при проверке запускаться не будет. *Если код студента не выполнен, недописан и т.д., то он не оценивается.*\n",
        "* **Код из рассказанных на занятиях ноутбуков можно использовать без ограничений.**\n",
        "\n",
        "**Правила оформления теоретических задач:**\n",
        "\n",
        "* Решения необходимо прислать одним из следующих способов:\n",
        "  * фотографией в правильной ориентации, где все четко видно, а почерк разборчив,\n",
        "    * отправив ее как файл боту вместе с ноутбуком *или*\n",
        "    * вставив ее в ноутбук посредством `Edit -> Insert Image` (<font color=\"red\">фото, вставленные ссылкой, не принимаются</font>);\n",
        "  * в виде $\\LaTeX$ в markdown-ячейках.\n",
        "* Решения не проверяются, если какое-то требование не выполнено. Особенно внимательно все проверьте в случае выбора второго пункта (вставки фото в ноутбук). <font color=\"red\"><b>Неправильно вставленные фотографии могут не передаться при отправке.</b></font> Для проверки попробуйте переместить `ipynb` в другую папку и открыть его там.\n",
        "* В решениях поясняйте, чем вы пользуетесь, хотя бы кратко. Например, если пользуетесь независимостью, то достаточно подписи вида \"*X и Y незав.*\"\n",
        "* Решение, в котором есть только ответ, и отсутствуют вычисления, оценивается в 0 баллов.\n",
        "\n",
        "**Баллы за задание:**\n",
        "\n",
        "* Задача 1 &mdash;  40 баллов\n",
        "\n",
        "\n",
        "\n",
        "\n",
        "\n",
        "\n",
        "-----"
      ]
    },
    {
      "cell_type": "code",
      "execution_count": 1,
      "id": "8b36c456",
      "metadata": {
        "id": "8b36c456"
      },
      "outputs": [],
      "source": [
        "# Bot check\n",
        "\n",
        "# HW_ID: phds_hw8\n",
        "# Бот проверит этот ID и предупредит, если случайно сдать что-то не то.\n",
        "\n",
        "# Status: not final\n",
        "# Перед отправкой в финальном решении удали \"not\" в строчке выше.\n",
        "# Так бот проверит, что ты отправляешь финальную версию, а не промежуточную.\n",
        "# Никакие значения в этой ячейке не влияют на факт сдачи работы."
      ]
    },
    {
      "cell_type": "code",
      "execution_count": 2,
      "id": "69110754",
      "metadata": {
        "id": "69110754",
        "pycharm": {
          "name": "#%%\n"
        }
      },
      "outputs": [],
      "source": [
        "import numpy as np\n",
        "import pandas as pd\n",
        "\n",
        "import matplotlib.pyplot as plt\n",
        "import seaborn as sns\n",
        "sns.set(font_scale=1.3)\n",
        "%matplotlib inline\n",
        "\n",
        "from sklearn.ensemble import RandomForestRegressor\n",
        "\n",
        "from sklearn.model_selection import train_test_split"
      ]
    },
    {
      "cell_type": "markdown",
      "id": "1ff50b12749539ae",
      "metadata": {
        "collapsed": false,
        "id": "1ff50b12749539ae"
      },
      "source": [
        "## Задача 1\n",
        "\n",
        "Попробуем поработать с категориальными признаками в задаче бинарной классификации.\n",
        "\n",
        "В качестве данных возьмем следующиq датасет:\n",
        "\n",
        "<https://www.kaggle.com/datasets/devzohaib/mushroom-edibility-classification?select=secondary_data.csv>. Будем предсказывать, является гриб съедобным или ядовитым."
      ]
    },
    {
      "cell_type": "markdown",
      "id": "3fbb6d4ddcabb91",
      "metadata": {
        "collapsed": false,
        "id": "3fbb6d4ddcabb91"
      },
      "source": [
        "#### Загрузка данных:"
      ]
    },
    {
      "cell_type": "code",
      "source": [
        "!pip install opendatasets"
      ],
      "metadata": {
        "id": "1KjGIh64kCmy",
        "outputId": "cb396899-27b9-4556-967f-bba9ceb3fb24",
        "colab": {
          "base_uri": "https://localhost:8080/"
        }
      },
      "id": "1KjGIh64kCmy",
      "execution_count": 3,
      "outputs": [
        {
          "output_type": "stream",
          "name": "stdout",
          "text": [
            "Requirement already satisfied: opendatasets in /usr/local/lib/python3.10/dist-packages (0.1.22)\n",
            "Requirement already satisfied: tqdm in /usr/local/lib/python3.10/dist-packages (from opendatasets) (4.66.1)\n",
            "Requirement already satisfied: kaggle in /usr/local/lib/python3.10/dist-packages (from opendatasets) (1.5.16)\n",
            "Requirement already satisfied: click in /usr/local/lib/python3.10/dist-packages (from opendatasets) (8.1.7)\n",
            "Requirement already satisfied: six>=1.10 in /usr/local/lib/python3.10/dist-packages (from kaggle->opendatasets) (1.16.0)\n",
            "Requirement already satisfied: certifi in /usr/local/lib/python3.10/dist-packages (from kaggle->opendatasets) (2023.7.22)\n",
            "Requirement already satisfied: python-dateutil in /usr/local/lib/python3.10/dist-packages (from kaggle->opendatasets) (2.8.2)\n",
            "Requirement already satisfied: requests in /usr/local/lib/python3.10/dist-packages (from kaggle->opendatasets) (2.31.0)\n",
            "Requirement already satisfied: python-slugify in /usr/local/lib/python3.10/dist-packages (from kaggle->opendatasets) (8.0.1)\n",
            "Requirement already satisfied: urllib3 in /usr/local/lib/python3.10/dist-packages (from kaggle->opendatasets) (2.0.7)\n",
            "Requirement already satisfied: bleach in /usr/local/lib/python3.10/dist-packages (from kaggle->opendatasets) (6.1.0)\n",
            "Requirement already satisfied: webencodings in /usr/local/lib/python3.10/dist-packages (from bleach->kaggle->opendatasets) (0.5.1)\n",
            "Requirement already satisfied: text-unidecode>=1.3 in /usr/local/lib/python3.10/dist-packages (from python-slugify->kaggle->opendatasets) (1.3)\n",
            "Requirement already satisfied: charset-normalizer<4,>=2 in /usr/local/lib/python3.10/dist-packages (from requests->kaggle->opendatasets) (3.3.2)\n",
            "Requirement already satisfied: idna<4,>=2.5 in /usr/local/lib/python3.10/dist-packages (from requests->kaggle->opendatasets) (3.4)\n",
            "\u001b[31mERROR: Operation cancelled by user\u001b[0m\u001b[31m\n",
            "\u001b[0m"
          ]
        }
      ]
    },
    {
      "cell_type": "code",
      "source": [
        "!pip install -U scikit-learn"
      ],
      "metadata": {
        "id": "MQefdhirxOqo",
        "outputId": "742b38eb-75dd-4f91-9b30-abe3895b03bd",
        "colab": {
          "base_uri": "https://localhost:8080/"
        }
      },
      "id": "MQefdhirxOqo",
      "execution_count": 4,
      "outputs": [
        {
          "output_type": "stream",
          "name": "stdout",
          "text": [
            "Requirement already satisfied: scikit-learn in /usr/local/lib/python3.10/dist-packages (1.3.2)\n",
            "Requirement already satisfied: numpy<2.0,>=1.17.3 in /usr/local/lib/python3.10/dist-packages (from scikit-learn) (1.23.5)\n",
            "Requirement already satisfied: scipy>=1.5.0 in /usr/local/lib/python3.10/dist-packages (from scikit-learn) (1.11.3)\n",
            "Requirement already satisfied: joblib>=1.1.1 in /usr/local/lib/python3.10/dist-packages (from scikit-learn) (1.3.2)\n",
            "Requirement already satisfied: threadpoolctl>=2.0.0 in /usr/local/lib/python3.10/dist-packages (from scikit-learn) (3.2.0)\n",
            "\u001b[31mERROR: Operation cancelled by user\u001b[0m\u001b[31m\n",
            "\u001b[0m"
          ]
        }
      ]
    },
    {
      "cell_type": "code",
      "source": [
        "import opendatasets as od\n",
        "od.download('https://www.kaggle.com/datasets/devzohaib/mushroom-edibility-classification/data')"
      ],
      "metadata": {
        "id": "QwnIEuapkIsl",
        "outputId": "52336a61-3d21-4018-cf75-c93470098465",
        "colab": {
          "base_uri": "https://localhost:8080/"
        }
      },
      "id": "QwnIEuapkIsl",
      "execution_count": 5,
      "outputs": [
        {
          "output_type": "stream",
          "name": "stdout",
          "text": [
            "Skipping, found downloaded files in \"./mushroom-edibility-classification\" (use force=True to force download)\n"
          ]
        }
      ]
    },
    {
      "cell_type": "code",
      "execution_count": 4,
      "id": "69ecb581b272e991",
      "metadata": {
        "id": "69ecb581b272e991"
      },
      "outputs": [],
      "source": [
        "import pandas as pd\n",
        "data = pd.read_csv('mushroom-edibility-classification/secondary_data.csv', sep=';').drop(['spore-print-color', 'gill-spacing', 'cap-surface', 'gill-attachment', 'stem-root', 'stem-surface', 'veil-type', 'veil-color'], axis=1).dropna()"
      ]
    },
    {
      "cell_type": "code",
      "execution_count": 5,
      "id": "2042e81c27b207da",
      "metadata": {
        "id": "2042e81c27b207da"
      },
      "outputs": [],
      "source": [
        "from sklearn.model_selection import train_test_split\n",
        "X = data.drop('class', axis=1)\n",
        "y =  (data['class'] == 'p').astype('int')\n",
        "X_train, X_test, y_train, y_test = train_test_split(X, y, test_size=0.25, random_state=0)"
      ]
    },
    {
      "cell_type": "code",
      "source": [
        "X_train.head(2)"
      ],
      "metadata": {
        "id": "nQ52KUp5k5YV",
        "outputId": "82a50f9e-e4f9-417b-80db-38b354d30113",
        "colab": {
          "base_uri": "https://localhost:8080/",
          "height": 112
        }
      },
      "id": "nQ52KUp5k5YV",
      "execution_count": 6,
      "outputs": [
        {
          "output_type": "execute_result",
          "data": {
            "text/plain": [
              "       cap-diameter cap-shape cap-color does-bruise-or-bleed gill-color  \\\n",
              "37692          2.00         p         n                    f          g   \n",
              "54783          3.74         s         y                    f          f   \n",
              "\n",
              "       stem-height  stem-width stem-color has-ring ring-type habitat season  \n",
              "37692         6.64        2.66          y        t         e       m      a  \n",
              "54783         6.79        7.74          o        f         f       d      a  "
            ],
            "text/html": [
              "\n",
              "  <div id=\"df-b157ab3f-7612-4daf-be93-cfe49f13b7f3\" class=\"colab-df-container\">\n",
              "    <div>\n",
              "<style scoped>\n",
              "    .dataframe tbody tr th:only-of-type {\n",
              "        vertical-align: middle;\n",
              "    }\n",
              "\n",
              "    .dataframe tbody tr th {\n",
              "        vertical-align: top;\n",
              "    }\n",
              "\n",
              "    .dataframe thead th {\n",
              "        text-align: right;\n",
              "    }\n",
              "</style>\n",
              "<table border=\"1\" class=\"dataframe\">\n",
              "  <thead>\n",
              "    <tr style=\"text-align: right;\">\n",
              "      <th></th>\n",
              "      <th>cap-diameter</th>\n",
              "      <th>cap-shape</th>\n",
              "      <th>cap-color</th>\n",
              "      <th>does-bruise-or-bleed</th>\n",
              "      <th>gill-color</th>\n",
              "      <th>stem-height</th>\n",
              "      <th>stem-width</th>\n",
              "      <th>stem-color</th>\n",
              "      <th>has-ring</th>\n",
              "      <th>ring-type</th>\n",
              "      <th>habitat</th>\n",
              "      <th>season</th>\n",
              "    </tr>\n",
              "  </thead>\n",
              "  <tbody>\n",
              "    <tr>\n",
              "      <th>37692</th>\n",
              "      <td>2.00</td>\n",
              "      <td>p</td>\n",
              "      <td>n</td>\n",
              "      <td>f</td>\n",
              "      <td>g</td>\n",
              "      <td>6.64</td>\n",
              "      <td>2.66</td>\n",
              "      <td>y</td>\n",
              "      <td>t</td>\n",
              "      <td>e</td>\n",
              "      <td>m</td>\n",
              "      <td>a</td>\n",
              "    </tr>\n",
              "    <tr>\n",
              "      <th>54783</th>\n",
              "      <td>3.74</td>\n",
              "      <td>s</td>\n",
              "      <td>y</td>\n",
              "      <td>f</td>\n",
              "      <td>f</td>\n",
              "      <td>6.79</td>\n",
              "      <td>7.74</td>\n",
              "      <td>o</td>\n",
              "      <td>f</td>\n",
              "      <td>f</td>\n",
              "      <td>d</td>\n",
              "      <td>a</td>\n",
              "    </tr>\n",
              "  </tbody>\n",
              "</table>\n",
              "</div>\n",
              "    <div class=\"colab-df-buttons\">\n",
              "\n",
              "  <div class=\"colab-df-container\">\n",
              "    <button class=\"colab-df-convert\" onclick=\"convertToInteractive('df-b157ab3f-7612-4daf-be93-cfe49f13b7f3')\"\n",
              "            title=\"Convert this dataframe to an interactive table.\"\n",
              "            style=\"display:none;\">\n",
              "\n",
              "  <svg xmlns=\"http://www.w3.org/2000/svg\" height=\"24px\" viewBox=\"0 -960 960 960\">\n",
              "    <path d=\"M120-120v-720h720v720H120Zm60-500h600v-160H180v160Zm220 220h160v-160H400v160Zm0 220h160v-160H400v160ZM180-400h160v-160H180v160Zm440 0h160v-160H620v160ZM180-180h160v-160H180v160Zm440 0h160v-160H620v160Z\"/>\n",
              "  </svg>\n",
              "    </button>\n",
              "\n",
              "  <style>\n",
              "    .colab-df-container {\n",
              "      display:flex;\n",
              "      gap: 12px;\n",
              "    }\n",
              "\n",
              "    .colab-df-convert {\n",
              "      background-color: #E8F0FE;\n",
              "      border: none;\n",
              "      border-radius: 50%;\n",
              "      cursor: pointer;\n",
              "      display: none;\n",
              "      fill: #1967D2;\n",
              "      height: 32px;\n",
              "      padding: 0 0 0 0;\n",
              "      width: 32px;\n",
              "    }\n",
              "\n",
              "    .colab-df-convert:hover {\n",
              "      background-color: #E2EBFA;\n",
              "      box-shadow: 0px 1px 2px rgba(60, 64, 67, 0.3), 0px 1px 3px 1px rgba(60, 64, 67, 0.15);\n",
              "      fill: #174EA6;\n",
              "    }\n",
              "\n",
              "    .colab-df-buttons div {\n",
              "      margin-bottom: 4px;\n",
              "    }\n",
              "\n",
              "    [theme=dark] .colab-df-convert {\n",
              "      background-color: #3B4455;\n",
              "      fill: #D2E3FC;\n",
              "    }\n",
              "\n",
              "    [theme=dark] .colab-df-convert:hover {\n",
              "      background-color: #434B5C;\n",
              "      box-shadow: 0px 1px 3px 1px rgba(0, 0, 0, 0.15);\n",
              "      filter: drop-shadow(0px 1px 2px rgba(0, 0, 0, 0.3));\n",
              "      fill: #FFFFFF;\n",
              "    }\n",
              "  </style>\n",
              "\n",
              "    <script>\n",
              "      const buttonEl =\n",
              "        document.querySelector('#df-b157ab3f-7612-4daf-be93-cfe49f13b7f3 button.colab-df-convert');\n",
              "      buttonEl.style.display =\n",
              "        google.colab.kernel.accessAllowed ? 'block' : 'none';\n",
              "\n",
              "      async function convertToInteractive(key) {\n",
              "        const element = document.querySelector('#df-b157ab3f-7612-4daf-be93-cfe49f13b7f3');\n",
              "        const dataTable =\n",
              "          await google.colab.kernel.invokeFunction('convertToInteractive',\n",
              "                                                    [key], {});\n",
              "        if (!dataTable) return;\n",
              "\n",
              "        const docLinkHtml = 'Like what you see? Visit the ' +\n",
              "          '<a target=\"_blank\" href=https://colab.research.google.com/notebooks/data_table.ipynb>data table notebook</a>'\n",
              "          + ' to learn more about interactive tables.';\n",
              "        element.innerHTML = '';\n",
              "        dataTable['output_type'] = 'display_data';\n",
              "        await google.colab.output.renderOutput(dataTable, element);\n",
              "        const docLink = document.createElement('div');\n",
              "        docLink.innerHTML = docLinkHtml;\n",
              "        element.appendChild(docLink);\n",
              "      }\n",
              "    </script>\n",
              "  </div>\n",
              "\n",
              "\n",
              "<div id=\"df-37e597b6-3946-44ee-98e9-75bb04724649\">\n",
              "  <button class=\"colab-df-quickchart\" onclick=\"quickchart('df-37e597b6-3946-44ee-98e9-75bb04724649')\"\n",
              "            title=\"Suggest charts\"\n",
              "            style=\"display:none;\">\n",
              "\n",
              "<svg xmlns=\"http://www.w3.org/2000/svg\" height=\"24px\"viewBox=\"0 0 24 24\"\n",
              "     width=\"24px\">\n",
              "    <g>\n",
              "        <path d=\"M19 3H5c-1.1 0-2 .9-2 2v14c0 1.1.9 2 2 2h14c1.1 0 2-.9 2-2V5c0-1.1-.9-2-2-2zM9 17H7v-7h2v7zm4 0h-2V7h2v10zm4 0h-2v-4h2v4z\"/>\n",
              "    </g>\n",
              "</svg>\n",
              "  </button>\n",
              "\n",
              "<style>\n",
              "  .colab-df-quickchart {\n",
              "      --bg-color: #E8F0FE;\n",
              "      --fill-color: #1967D2;\n",
              "      --hover-bg-color: #E2EBFA;\n",
              "      --hover-fill-color: #174EA6;\n",
              "      --disabled-fill-color: #AAA;\n",
              "      --disabled-bg-color: #DDD;\n",
              "  }\n",
              "\n",
              "  [theme=dark] .colab-df-quickchart {\n",
              "      --bg-color: #3B4455;\n",
              "      --fill-color: #D2E3FC;\n",
              "      --hover-bg-color: #434B5C;\n",
              "      --hover-fill-color: #FFFFFF;\n",
              "      --disabled-bg-color: #3B4455;\n",
              "      --disabled-fill-color: #666;\n",
              "  }\n",
              "\n",
              "  .colab-df-quickchart {\n",
              "    background-color: var(--bg-color);\n",
              "    border: none;\n",
              "    border-radius: 50%;\n",
              "    cursor: pointer;\n",
              "    display: none;\n",
              "    fill: var(--fill-color);\n",
              "    height: 32px;\n",
              "    padding: 0;\n",
              "    width: 32px;\n",
              "  }\n",
              "\n",
              "  .colab-df-quickchart:hover {\n",
              "    background-color: var(--hover-bg-color);\n",
              "    box-shadow: 0 1px 2px rgba(60, 64, 67, 0.3), 0 1px 3px 1px rgba(60, 64, 67, 0.15);\n",
              "    fill: var(--button-hover-fill-color);\n",
              "  }\n",
              "\n",
              "  .colab-df-quickchart-complete:disabled,\n",
              "  .colab-df-quickchart-complete:disabled:hover {\n",
              "    background-color: var(--disabled-bg-color);\n",
              "    fill: var(--disabled-fill-color);\n",
              "    box-shadow: none;\n",
              "  }\n",
              "\n",
              "  .colab-df-spinner {\n",
              "    border: 2px solid var(--fill-color);\n",
              "    border-color: transparent;\n",
              "    border-bottom-color: var(--fill-color);\n",
              "    animation:\n",
              "      spin 1s steps(1) infinite;\n",
              "  }\n",
              "\n",
              "  @keyframes spin {\n",
              "    0% {\n",
              "      border-color: transparent;\n",
              "      border-bottom-color: var(--fill-color);\n",
              "      border-left-color: var(--fill-color);\n",
              "    }\n",
              "    20% {\n",
              "      border-color: transparent;\n",
              "      border-left-color: var(--fill-color);\n",
              "      border-top-color: var(--fill-color);\n",
              "    }\n",
              "    30% {\n",
              "      border-color: transparent;\n",
              "      border-left-color: var(--fill-color);\n",
              "      border-top-color: var(--fill-color);\n",
              "      border-right-color: var(--fill-color);\n",
              "    }\n",
              "    40% {\n",
              "      border-color: transparent;\n",
              "      border-right-color: var(--fill-color);\n",
              "      border-top-color: var(--fill-color);\n",
              "    }\n",
              "    60% {\n",
              "      border-color: transparent;\n",
              "      border-right-color: var(--fill-color);\n",
              "    }\n",
              "    80% {\n",
              "      border-color: transparent;\n",
              "      border-right-color: var(--fill-color);\n",
              "      border-bottom-color: var(--fill-color);\n",
              "    }\n",
              "    90% {\n",
              "      border-color: transparent;\n",
              "      border-bottom-color: var(--fill-color);\n",
              "    }\n",
              "  }\n",
              "</style>\n",
              "\n",
              "  <script>\n",
              "    async function quickchart(key) {\n",
              "      const quickchartButtonEl =\n",
              "        document.querySelector('#' + key + ' button');\n",
              "      quickchartButtonEl.disabled = true;  // To prevent multiple clicks.\n",
              "      quickchartButtonEl.classList.add('colab-df-spinner');\n",
              "      try {\n",
              "        const charts = await google.colab.kernel.invokeFunction(\n",
              "            'suggestCharts', [key], {});\n",
              "      } catch (error) {\n",
              "        console.error('Error during call to suggestCharts:', error);\n",
              "      }\n",
              "      quickchartButtonEl.classList.remove('colab-df-spinner');\n",
              "      quickchartButtonEl.classList.add('colab-df-quickchart-complete');\n",
              "    }\n",
              "    (() => {\n",
              "      let quickchartButtonEl =\n",
              "        document.querySelector('#df-37e597b6-3946-44ee-98e9-75bb04724649 button');\n",
              "      quickchartButtonEl.style.display =\n",
              "        google.colab.kernel.accessAllowed ? 'block' : 'none';\n",
              "    })();\n",
              "  </script>\n",
              "</div>\n",
              "    </div>\n",
              "  </div>\n"
            ]
          },
          "metadata": {},
          "execution_count": 6
        }
      ]
    },
    {
      "cell_type": "markdown",
      "id": "817da02ea1efef0b",
      "metadata": {
        "collapsed": false,
        "id": "817da02ea1efef0b"
      },
      "source": [
        "Найдем категориальные столбцы:"
      ]
    },
    {
      "cell_type": "code",
      "source": [
        "from sklearn.compose import make_column_selector as selector\n",
        "\n",
        "categorical_columns_selector = selector(dtype_include=object)\n",
        "categorical_columns = categorical_columns_selector(X_train)\n",
        "categorical_columns"
      ],
      "metadata": {
        "id": "uhhGv866s7uS",
        "outputId": "1665f70b-8593-4238-dcf9-0f2514ad7e76",
        "colab": {
          "base_uri": "https://localhost:8080/"
        }
      },
      "id": "uhhGv866s7uS",
      "execution_count": 7,
      "outputs": [
        {
          "output_type": "execute_result",
          "data": {
            "text/plain": [
              "['cap-shape',\n",
              " 'cap-color',\n",
              " 'does-bruise-or-bleed',\n",
              " 'gill-color',\n",
              " 'stem-color',\n",
              " 'has-ring',\n",
              " 'ring-type',\n",
              " 'habitat',\n",
              " 'season']"
            ]
          },
          "metadata": {},
          "execution_count": 7
        }
      ]
    },
    {
      "cell_type": "code",
      "execution_count": 8,
      "id": "f4965f1b87a1950",
      "metadata": {
        "id": "f4965f1b87a1950"
      },
      "outputs": [],
      "source": [
        "cat_features = categorical_columns\n",
        "numerical_features = X_train.columns.drop(cat_features).tolist()"
      ]
    },
    {
      "cell_type": "markdown",
      "id": "aa287407b6e5227b",
      "metadata": {
        "collapsed": false,
        "id": "aa287407b6e5227b"
      },
      "source": [
        "Сравните качество получаемых моделей в двух случаях: первую модель обучите на данных без учета категориальных признаков, а для обучения второй модели каждый категориальный признак преобразуйте наиболее подходящим методом: OneHotEncoding'ом, LabelEncoding'ом или MeanEncoding'ом, объясните свой выбор. В качестве модели используйте случайный лес. Для оценки качества выберите подходящую метрику.\n",
        "\n",
        "Не забывайте в процессе решения пояснять что вы делаете."
      ]
    },
    {
      "cell_type": "code",
      "source": [
        "from sklearn.preprocessing import OneHotEncoder\n",
        "\n",
        "from sklearn.feature_extraction import FeatureHasher"
      ],
      "metadata": {
        "id": "7O_7XkTums7r"
      },
      "id": "7O_7XkTums7r",
      "execution_count": 9,
      "outputs": []
    },
    {
      "cell_type": "markdown",
      "source": [],
      "metadata": {
        "id": "yA2WMhmw5e1X"
      },
      "id": "yA2WMhmw5e1X"
    },
    {
      "cell_type": "markdown",
      "source": [
        "## Catboost"
      ],
      "metadata": {
        "id": "tx1Hd57r4HTj"
      },
      "id": "tx1Hd57r4HTj"
    },
    {
      "cell_type": "code",
      "source": [
        "!pip install catboost -q"
      ],
      "metadata": {
        "id": "LQnu7Hmw4JIK"
      },
      "id": "LQnu7Hmw4JIK",
      "execution_count": 10,
      "outputs": []
    },
    {
      "cell_type": "code",
      "source": [
        "from catboost import CatBoostClassifier\n",
        "\n",
        "print('CatBoost',CatBoostClassifier(iterations=200,cat_features=cat_features,verbose=False).fit(X_train,y_train).score(X_test,y_test))"
      ],
      "metadata": {
        "id": "5Z0ZqLhh4GaT",
        "outputId": "6867bd2f-fc6b-4fec-bba4-2a5c9bafe8ef",
        "colab": {
          "base_uri": "https://localhost:8080/"
        }
      },
      "id": "5Z0ZqLhh4GaT",
      "execution_count": 13,
      "outputs": [
        {
          "output_type": "stream",
          "name": "stdout",
          "text": [
            "CatBoost 0.9947440273037542\n"
          ]
        }
      ]
    },
    {
      "cell_type": "markdown",
      "id": "1fa8ee968c1af39e",
      "metadata": {
        "collapsed": false,
        "id": "1fa8ee968c1af39e"
      },
      "source": [
        "**Вывод:** Модуль catboost упрощает работу с категориальными признаками. Значение метрики accuracy $\\approx$ 1 означает, что задача имеет детерминированное решение.  \n",
        "\n",
        "\n"
      ]
    },
    {
      "cell_type": "markdown",
      "source": [
        "### Without cat features"
      ],
      "metadata": {
        "id": "XO_DrGyTpvy7"
      },
      "id": "XO_DrGyTpvy7"
    },
    {
      "cell_type": "code",
      "execution_count": 17,
      "id": "fc0b528a982595b5",
      "metadata": {
        "id": "fc0b528a982595b5",
        "outputId": "3bdb57d0-f008-428b-e90c-117fcd7c2849",
        "colab": {
          "base_uri": "https://localhost:8080/"
        }
      },
      "outputs": [
        {
          "output_type": "stream",
          "name": "stdout",
          "text": [
            "without cat features 0.7974061433447099\n"
          ]
        }
      ],
      "source": [
        "from sklearn.ensemble import GradientBoostingClassifier\n",
        "\n",
        "print('without cat features',\n",
        "    CatBoostClassifier(iterations=200,cat_features=None,verbose=False).fit(\n",
        "        X_train.drop(cat_features,axis=1),\n",
        "        y_train\n",
        "    ).score(\n",
        "        X_test.drop(\n",
        "            cat_features,axis=1\n",
        "        ),\n",
        "    y_test)\n",
        ")\n"
      ]
    },
    {
      "cell_type": "markdown",
      "source": [
        "Для детерминированного решения необходимо использовать категориальные признаки"
      ],
      "metadata": {
        "id": "gDGBHoljt17_"
      },
      "id": "gDGBHoljt17_"
    },
    {
      "cell_type": "code",
      "source": [
        "from sklearn.pipeline import make_pipeline\n",
        "from sklearn.linear_model import LogisticRegression\n",
        "\n",
        "\n",
        "print('without cat features',\n",
        "    LogisticRegression(max_iter=10_000).fit(\n",
        "        X_train.drop(cat_features,axis=1),\n",
        "        y_train\n",
        "    ).score(\n",
        "        X_test.drop(cat_features,axis=1),\n",
        "        y_test\n",
        "    )\n",
        ")\n",
        "\n",
        "\n",
        "\n"
      ],
      "metadata": {
        "id": "_8pmBOy2F1kA",
        "outputId": "93490bab-bb24-44c8-ce02-7e04748fc6cc",
        "colab": {
          "base_uri": "https://localhost:8080/"
        }
      },
      "id": "_8pmBOy2F1kA",
      "execution_count": 36,
      "outputs": [
        {
          "output_type": "stream",
          "name": "stdout",
          "text": [
            "without cat features 0.5853242320819113\n"
          ]
        }
      ]
    },
    {
      "cell_type": "markdown",
      "source": [
        "Также замерим прирост в метриках на линейных моделях\n",
        "\n",
        "Логистическая регрессия решает задачу значительно хуже. Заключаю, что для предсказания важно учитывать совместное распределение признаков"
      ],
      "metadata": {
        "id": "2EDrKfeeGVeL"
      },
      "id": "2EDrKfeeGVeL"
    },
    {
      "cell_type": "markdown",
      "source": [
        "### MeanEncoder"
      ],
      "metadata": {
        "id": "vgUG2E7Up3_d"
      },
      "id": "vgUG2E7Up3_d"
    },
    {
      "cell_type": "code",
      "source": [
        "from sklearn.compose import ColumnTransformer\n",
        "from sklearn.preprocessing import OneHotEncoder, OrdinalEncoder, TargetEncoder\n",
        "preprocessor = ColumnTransformer(\n",
        "    [\n",
        "        (\"numerical\", \"passthrough\", numerical_features),\n",
        "        (\n",
        "            \"cat_feature\",\n",
        "            TargetEncoder(target_type=\"binary\"),\n",
        "            cat_features,\n",
        "        ),\n",
        "\n",
        "    ]\n",
        ")"
      ],
      "metadata": {
        "id": "-wzD_2oOv7Cj"
      },
      "id": "-wzD_2oOv7Cj",
      "execution_count": 33,
      "outputs": []
    },
    {
      "cell_type": "code",
      "source": [
        "from sklearn.pipeline import make_pipeline\n",
        "\n",
        "pipe = make_pipeline(\n",
        "    preprocessor,\n",
        "    CatBoostClassifier(iterations=200,cat_features=None,verbose=False),\n",
        ")\n",
        "\n",
        "print('',pipe.fit(X_train,y_train).score(X_test,y_test))\n"
      ],
      "metadata": {
        "id": "sRbxxfiYpfcM",
        "outputId": "a6703481-62ef-45e5-f09f-d8e975517d60",
        "colab": {
          "base_uri": "https://localhost:8080/"
        }
      },
      "id": "sRbxxfiYpfcM",
      "execution_count": 34,
      "outputs": [
        {
          "output_type": "stream",
          "name": "stdout",
          "text": [
            " 0.9919453924914676\n"
          ]
        }
      ]
    },
    {
      "cell_type": "markdown",
      "source": [
        "MeanEncoder позволяет детерминированно решать задачу без расширения признакового пространства"
      ],
      "metadata": {
        "id": "X9ukyOMoB_x7"
      },
      "id": "X9ukyOMoB_x7"
    },
    {
      "cell_type": "code",
      "source": [
        "from sklearn.pipeline import make_pipeline\n",
        "from sklearn.linear_model import LogisticRegression\n",
        "\n",
        "\n",
        "pipe = make_pipeline(\n",
        "    preprocessor,\n",
        "    LogisticRegression(max_iter=10_000),\n",
        ")\n",
        "\n",
        "print('LR',pipe.fit(X_train,y_train).score(X_test,y_test))\n",
        "\n",
        "\n",
        "\n"
      ],
      "metadata": {
        "id": "Frf-rdZgDOW_",
        "outputId": "59334185-4751-41a4-bfe6-a2f3a8155373",
        "colab": {
          "base_uri": "https://localhost:8080/"
        }
      },
      "id": "Frf-rdZgDOW_",
      "execution_count": 35,
      "outputs": [
        {
          "output_type": "stream",
          "name": "stdout",
          "text": [
            "LR 0.7236177474402731\n"
          ]
        }
      ]
    },
    {
      "cell_type": "markdown",
      "source": [
        "Mean encoding дает значительный в прирост в предсказательную силу логистической регрессии"
      ],
      "metadata": {
        "id": "Ly-mW1O_GQ5y"
      },
      "id": "Ly-mW1O_GQ5y"
    },
    {
      "cell_type": "markdown",
      "source": [
        "## One Hot Encoder"
      ],
      "metadata": {
        "id": "UpgsSRQJu1c4"
      },
      "id": "UpgsSRQJu1c4"
    },
    {
      "cell_type": "code",
      "source": [
        "from sklearn.compose import ColumnTransformer\n",
        "from sklearn.preprocessing import OneHotEncoder, OrdinalEncoder, TargetEncoder\n",
        "preprocessor = ColumnTransformer(\n",
        "    [\n",
        "        (\"numerical\", \"passthrough\", numerical_features),\n",
        "        (\n",
        "            \"cat_feature\",\n",
        "            OneHotEncoder(),\n",
        "            cat_features,\n",
        "        ),\n",
        "\n",
        "    ]\n",
        ")"
      ],
      "metadata": {
        "id": "6gCW5eXJv58W"
      },
      "id": "6gCW5eXJv58W",
      "execution_count": 20,
      "outputs": []
    },
    {
      "cell_type": "code",
      "source": [
        "from sklearn.pipeline import make_pipeline\n",
        "\n",
        "pipe = make_pipeline(\n",
        "    preprocessor,\n",
        "    CatBoostClassifier(iterations=200,cat_features=None,verbose=False),\n",
        ")\n",
        "\n",
        "print('',pipe.fit(X_train,y_train).score(X_test,y_test))\n"
      ],
      "metadata": {
        "id": "uxwcmCMBv2wW",
        "outputId": "a6ed618e-d6d6-4990-ccac-3b1a0dbad158",
        "colab": {
          "base_uri": "https://localhost:8080/"
        }
      },
      "id": "uxwcmCMBv2wW",
      "execution_count": 21,
      "outputs": [
        {
          "output_type": "stream",
          "name": "stdout",
          "text": [
            " 0.9969965870307167\n"
          ]
        }
      ]
    },
    {
      "cell_type": "markdown",
      "source": [
        "OneHotEncoding также позволяет решать задачу детерминированно. При этом подход значительно расширяет признаковое простраство. Это может быть критично для алгоритмов не использующих"
      ],
      "metadata": {
        "id": "R7auuLaDCVl3"
      },
      "id": "R7auuLaDCVl3"
    },
    {
      "cell_type": "code",
      "source": [
        "from sklearn.pipeline import make_pipeline\n",
        "from sklearn.linear_model import LogisticRegression\n",
        "\n",
        "\n",
        "pipe = make_pipeline(\n",
        "    preprocessor,\n",
        "    LogisticRegression(max_iter=10_000),\n",
        ")\n",
        "\n",
        "print('LR',pipe.fit(X_train,y_train).score(X_test,y_test))\n",
        "\n",
        "\n",
        "\n"
      ],
      "metadata": {
        "id": "3UwumiQLFA3K",
        "outputId": "b0b68fda-2621-4fc0-c8b4-b451e2cdf348",
        "colab": {
          "base_uri": "https://localhost:8080/"
        }
      },
      "id": "3UwumiQLFA3K",
      "execution_count": 32,
      "outputs": [
        {
          "output_type": "stream",
          "name": "stdout",
          "text": [
            "LR 0.7235494880546075\n"
          ]
        }
      ]
    },
    {
      "cell_type": "markdown",
      "source": [
        "Качество предсказания с помощью методов Mean encoding и One Hot Encoding не различаются для линейных моделей  "
      ],
      "metadata": {
        "id": "droLNlymHH8k"
      },
      "id": "droLNlymHH8k"
    }
  ],
  "metadata": {
    "kernelspec": {
      "display_name": "Python 3 (ipykernel)",
      "language": "python",
      "name": "python3"
    },
    "language_info": {
      "codemirror_mode": {
        "name": "ipython",
        "version": 3
      },
      "file_extension": ".py",
      "mimetype": "text/x-python",
      "name": "python",
      "nbconvert_exporter": "python",
      "pygments_lexer": "ipython3",
      "version": "3.9.6"
    },
    "colab": {
      "provenance": [],
      "include_colab_link": true
    }
  },
  "nbformat": 4,
  "nbformat_minor": 5
}