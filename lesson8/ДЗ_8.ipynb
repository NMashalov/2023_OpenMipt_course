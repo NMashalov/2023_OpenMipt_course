{
 "cells": [
  {
   "cell_type": "markdown",
   "id": "39f63c43",
   "metadata": {
    "id": "JYLSkWtOs48n",
    "pycharm": {
     "name": "#%% md\n"
    }
   },
   "source": [
    "# <a href=\"https://miptstats.github.io/courses/ad_mipt.html\">Phystech@DataScience</a>\n",
    "## Домашнее задание 8\n",
    "\n",
    "**Правила, <font color=\"red\">прочитайте внимательно</font>:**\n",
    "\n",
    "* Выполненную работу нужно отправить телеграм-боту `@miptstats_pds_bot`. Для начала работы с ботом каждый раз отправляйте `/start`. **Работы, присланные иным способом, не принимаются.**\n",
    "* Дедлайн см. в боте. После дедлайна работы не принимаются кроме случаев наличия уважительной причины.\n",
    "* Прислать нужно ноутбук в формате `ipynb`.\n",
    "* Выполнять задание необходимо полностью самостоятельно. **При обнаружении списывания все участники списывания будут сдавать устный зачет.**\n",
    "* Решения, размещенные на каких-либо интернет-ресурсах, не принимаются. Кроме того, публикация решения в открытом доступе может быть приравнена к предоставлении возможности списать.\n",
    "* Для выполнения задания используйте этот ноутбук в качестве основы, ничего не удаляя из него. Можно добавлять необходимое количество ячеек.\n",
    "* Комментарии к решению пишите в markdown-ячейках.\n",
    "* Выполнение задания (ход решения, выводы и пр.) должно быть осуществлено на русском языке.\n",
    "* Если код будет не понятен проверяющему, оценка может быть снижена.\n",
    "* Никакой код из данного задания при проверке запускаться не будет. *Если код студента не выполнен, недописан и т.д., то он не оценивается.*\n",
    "* **Код из рассказанных на занятиях ноутбуков можно использовать без ограничений.**\n",
    "\n",
    "**Правила оформления теоретических задач:**\n",
    "\n",
    "* Решения необходимо прислать одним из следующих способов:\n",
    "  * фотографией в правильной ориентации, где все четко видно, а почерк разборчив,\n",
    "    * отправив ее как файл боту вместе с ноутбуком *или*\n",
    "    * вставив ее в ноутбук посредством `Edit -> Insert Image` (<font color=\"red\">фото, вставленные ссылкой, не принимаются</font>);\n",
    "  * в виде $\\LaTeX$ в markdown-ячейках.\n",
    "* Решения не проверяются, если какое-то требование не выполнено. Особенно внимательно все проверьте в случае выбора второго пункта (вставки фото в ноутбук). <font color=\"red\"><b>Неправильно вставленные фотографии могут не передаться при отправке.</b></font> Для проверки попробуйте переместить `ipynb` в другую папку и открыть его там.\n",
    "* В решениях поясняйте, чем вы пользуетесь, хотя бы кратко. Например, если пользуетесь независимостью, то достаточно подписи вида \"*X и Y незав.*\"\n",
    "* Решение, в котором есть только ответ, и отсутствуют вычисления, оценивается в 0 баллов.\n",
    "\n",
    "**Баллы за задание:**\n",
    "\n",
    "* Задача 1 &mdash;  40 баллов\n",
    "\n",
    "\n",
    "\n",
    "\n",
    "\n",
    "\n",
    "-----"
   ]
  },
  {
   "cell_type": "code",
   "execution_count": null,
   "id": "8b36c456",
   "metadata": {},
   "outputs": [],
   "source": [
    "# Bot check\n",
    "\n",
    "# HW_ID: phds_hw8\n",
    "# Бот проверит этот ID и предупредит, если случайно сдать что-то не то.\n",
    "\n",
    "# Status: not final\n",
    "# Перед отправкой в финальном решении удали \"not\" в строчке выше.\n",
    "# Так бот проверит, что ты отправляешь финальную версию, а не промежуточную.\n",
    "# Никакие значения в этой ячейке не влияют на факт сдачи работы."
   ]
  },
  {
   "cell_type": "code",
   "execution_count": null,
   "id": "69110754",
   "metadata": {
    "id": "lQJgbOfCqTo0",
    "pycharm": {
     "name": "#%%\n"
    }
   },
   "outputs": [],
   "source": [
    "import numpy as np\n",
    "import pandas as pd\n",
    "\n",
    "import matplotlib.pyplot as plt\n",
    "import seaborn as sns\n",
    "sns.set(font_scale=1.3)\n",
    "%matplotlib inline\n",
    "\n",
    "from sklearn.ensemble import RandomForestRegressor\n",
    "\n",
    "from sklearn.model_selection import train_test_split"
   ]
  },
  {
   "cell_type": "markdown",
   "id": "1ff50b12749539ae",
   "metadata": {
    "collapsed": false
   },
   "source": [
    "## Задача 1\n",
    "\n",
    "Попробуем поработать с категориальными признаками в задаче бинарной классификации.\n",
    "\n",
    "В качестве данных возьмем следующиq датасет:\n",
    "\n",
    "<https://www.kaggle.com/datasets/devzohaib/mushroom-edibility-classification?select=secondary_data.csv>. Будем предсказывать, является гриб съедобным или ядовитым."
   ]
  },
  {
   "cell_type": "markdown",
   "id": "3fbb6d4ddcabb91",
   "metadata": {
    "collapsed": false
   },
   "source": [
    "#### Загрузка данных:"
   ]
  },
  {
   "cell_type": "code",
   "execution_count": null,
   "id": "69ecb581b272e991",
   "metadata": {
    "collapsed": false
   },
   "outputs": [],
   "source": [
    "data = pd.read_csv('secondary_data.csv', sep=';').drop(['spore-print-color', 'gill-spacing', 'cap-surface', 'gill-attachment', 'stem-root', 'stem-surface', 'veil-type', 'veil-color'], axis=1).dropna()"
   ]
  },
  {
   "cell_type": "code",
   "execution_count": null,
   "id": "2042e81c27b207da",
   "metadata": {
    "collapsed": false
   },
   "outputs": [],
   "source": [
    "X = data.drop('class', axis=1)\n",
    "y =  (data['class'] == 'p').astype('int')\n",
    "X_train, X_test, y_train, y_test = train_test_split(X, y, test_size=0.25, random_state=0)"
   ]
  },
  {
   "cell_type": "markdown",
   "id": "817da02ea1efef0b",
   "metadata": {
    "collapsed": false
   },
   "source": [
    "Найдем категориальные столбцы:"
   ]
  },
  {
   "cell_type": "code",
   "execution_count": null,
   "id": "f4965f1b87a1950",
   "metadata": {
    "collapsed": false
   },
   "outputs": [],
   "source": [
    "cat_features = <...>"
   ]
  },
  {
   "cell_type": "markdown",
   "id": "aa287407b6e5227b",
   "metadata": {
    "collapsed": false
   },
   "source": [
    "Сравните качество получаемых моделей в двух случаях: первую модель обучите на данных без учета категориальных признаков, а для обучения второй модели каждый категориальный признак преобразуйте наиболее подходящим методом: OneHotEncoding'ом, LabelEncoding'ом или MeanEncoding'ом, объясните свой выбор. В качестве модели используйте случайный лес. Для оценки качества выберите подходящую метрику.\n",
    "\n",
    "Не забывайте в процессе решения пояснять что вы делаете. "
   ]
  },
  {
   "cell_type": "code",
   "execution_count": null,
   "id": "fc0b528a982595b5",
   "metadata": {
    "collapsed": false
   },
   "outputs": [],
   "source": [
    "<...>"
   ]
  },
  {
   "cell_type": "markdown",
   "id": "1fa8ee968c1af39e",
   "metadata": {
    "collapsed": false
   },
   "source": [
    "**Вывод:** <...>"
   ]
  }
 ],
 "metadata": {
  "kernelspec": {
   "display_name": "Python 3 (ipykernel)",
   "language": "python",
   "name": "python3"
  },
  "language_info": {
   "codemirror_mode": {
    "name": "ipython",
    "version": 3
   },
   "file_extension": ".py",
   "mimetype": "text/x-python",
   "name": "python",
   "nbconvert_exporter": "python",
   "pygments_lexer": "ipython3",
   "version": "3.9.6"
  }
 },
 "nbformat": 4,
 "nbformat_minor": 5
}
