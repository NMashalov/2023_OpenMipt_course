{
 "cells": [
  {
   "cell_type": "code",
   "execution_count": null,
   "outputs": [],
   "source": [
    "import pandas as pd\n",
    "\n",
    "from sklearn.metrics import mean_squared_error as MSE\n",
    "from sklearn.model_selection import train_test_split\n",
    "from sklearn.preprocessing import StandardScaler\n",
    "from sklearn.linear_model import Lasso\n",
    "from sklearn.ensemble import RandomForestRegressor\n",
    "import seaborn as sns\n",
    "\n",
    "sns.set(context='poster')\n",
    "%matplotlib inline"
   ],
   "metadata": {
    "collapsed": false
   },
   "id": "68e524ec5a9cae96"
  },
  {
   "cell_type": "markdown",
   "id": "6b132fcd",
   "metadata": {
    "pycharm": {
     "name": "#%% md\n"
    }
   },
   "source": [
    "### Задача 1:"
   ]
  },
  {
   "cell_type": "markdown",
   "id": "21602547",
   "metadata": {
    "pycharm": {
     "name": "#%% md\n"
    }
   },
   "source": [
    "Рассмотрим как можно провести отбор признаков с помощью обучения линейной регрессии и леса с малым количеством деревьев на примере задачи регрессии. Будем использовать датасет <https://www.kaggle.com/datasets/abrambeyer/openintro-possum> и пытаться предсказать возраст оппосумов на основе различных параметров их тела.\n",
    "\n",
    "Для упрощения задачи избавимся от категориальных признаков"
   ]
  },
  {
   "cell_type": "code",
   "execution_count": null,
   "id": "e33ab772",
   "metadata": {
    "pycharm": {
     "name": "#%%\n"
    }
   },
   "outputs": [],
   "source": [
    "data = pd.read_csv('possum.csv').dropna()\n",
    "X = data[data.columns.drop(['sex', 'Pop', 'age'])]\n",
    "y = data['age']"
   ]
  },
  {
   "cell_type": "markdown",
   "id": "ad2ecc9d",
   "metadata": {
    "pycharm": {
     "name": "#%% md\n"
    }
   },
   "source": [
    "Разделим выборку на тренировочную и тестовую часть"
   ]
  },
  {
   "cell_type": "code",
   "execution_count": null,
   "id": "8654d280",
   "metadata": {
    "pycharm": {
     "name": "#%%\n"
    }
   },
   "outputs": [],
   "source": [
    "X_train, X_test, y_train, y_test = train_test_split(X, y, test_size=0.33, random_state=42)"
   ]
  },
  {
   "cell_type": "markdown",
   "id": "8f7cdd4e",
   "metadata": {
    "pycharm": {
     "name": "#%% md\n"
    }
   },
   "source": [
    "Стандартизируем данные для корректной работы линейной регрессии:"
   ]
  },
  {
   "cell_type": "code",
   "execution_count": null,
   "id": "15160c3f",
   "metadata": {
    "pycharm": {
     "name": "#%%\n"
    }
   },
   "outputs": [],
   "source": [
    "scaler = <...>\n",
    "X_train_norm = <...>\n",
    "X_test_norm = <...>"
   ]
  },
  {
   "cell_type": "markdown",
   "id": "518281a3",
   "metadata": {
    "pycharm": {
     "name": "#%% md\n"
    }
   },
   "source": [
    "Обучим модель линейной регрессии с L1-регуляризацией на всех данных, посмотрим на метрику качества"
   ]
  },
  {
   "cell_type": "code",
   "execution_count": null,
   "id": "d6410500",
   "metadata": {
    "pycharm": {
     "name": "#%%\n"
    }
   },
   "outputs": [],
   "source": [
    "lin_model = <...>\n",
    "print('Коэффиценты модели:', <...>)\n",
    "print('Значение MSE на тренировочной выборке:', MSE(lin_model.predict(X_train_norm), y_train))\n",
    "print('Значение MSE на тестовой выборке:', MSE(lin_model.predict(X_test_norm), y_test))"
   ]
  },
  {
   "cell_type": "markdown",
   "id": "ffc918fd",
   "metadata": {
    "pycharm": {
     "name": "#%% md\n"
    }
   },
   "source": [
    "Проделаем аналогичную процедуру с лесом c небольшим количеством деревьев:"
   ]
  },
  {
   "cell_type": "code",
   "execution_count": null,
   "id": "4ae946f2",
   "metadata": {
    "pycharm": {
     "name": "#%%\n"
    }
   },
   "outputs": [],
   "source": [
    "forest = <...>\n",
    "print('Важность признаков:', <...>)\n",
    "print('Значение MSE на тренировочной выборке:', MSE(forest.predict(X_train), y_train))\n",
    "print('Значение MSE на тестовой выборке:', MSE(forest.predict(X_test), y_test))"
   ]
  },
  {
   "cell_type": "markdown",
   "id": "89a4694e",
   "metadata": {
    "pycharm": {
     "name": "#%% md\n"
    }
   },
   "source": [
    "Составим 2 списка наиболее важных признаков - один с признаками, наиболее важными для линейной регрессии, второй с наиболее важными для леса"
   ]
  },
  {
   "cell_type": "code",
   "execution_count": null,
   "id": "13a25ff0",
   "metadata": {
    "pycharm": {
     "name": "#%%\n"
    }
   },
   "outputs": [],
   "source": [
    "lin_imp = []\n",
    "forest_imp = []\n",
    "for i, column in enumerate(X.columns):\n",
    "    if lin_model.coef_[i] > 0.1:\n",
    "        lin_imp.append(i)\n",
    "    if forest.feature_importances_[i] > 0.1:\n",
    "        forest_imp.append(column)"
   ]
  },
  {
   "cell_type": "markdown",
   "id": "07705dd7",
   "metadata": {
    "pycharm": {
     "name": "#%% md\n"
    }
   },
   "source": [
    "Теперь обучим модели только на важных признаках:"
   ]
  },
  {
   "cell_type": "code",
   "execution_count": null,
   "id": "a7b269c4",
   "metadata": {
    "pycharm": {
     "name": "#%%\n"
    }
   },
   "outputs": [],
   "source": [
    "X_train_norm_lin_imp = X_train_norm[:, lin_imp]\n",
    "X_test_norm_lin_imp = X_test_norm[:, lin_imp]\n",
    "\n",
    "X_train_forest_imp = X_train[forest_imp]\n",
    "X_test_forest_imp = X_test[forest_imp]"
   ]
  },
  {
   "cell_type": "code",
   "execution_count": null,
   "id": "33d54368",
   "metadata": {
    "pycharm": {
     "name": "#%%\n"
    }
   },
   "outputs": [],
   "source": [
    "lin_model_2 = Lasso(alpha=0.1).fit(X_train_norm_lin_imp, y_train)\n",
    "print('Коэффиценты модели:', lin_model_2.coef_)\n",
    "print('Значение MSE на тренировочной выборке:', MSE(lin_model_2.predict(X_train_norm_lin_imp), y_train))\n",
    "print('Значение MSE на тестовой выборке:', MSE(lin_model_2.predict(X_test_norm_lin_imp), y_test))"
   ]
  },
  {
   "cell_type": "code",
   "execution_count": null,
   "id": "c4f0c848",
   "metadata": {
    "pycharm": {
     "name": "#%%\n"
    }
   },
   "outputs": [],
   "source": [
    "forest_2 = <...>\n",
    "print('Важность признаков:', <...>)\n",
    "print('Значение MSE на тренировочной выборке:', MSE(forest_2.predict(X_train_forest_imp), y_train))\n",
    "print('Значение MSE на тестовой выборке:', MSE(forest_2.predict(X_test_forest_imp), y_test))"
   ]
  },
  {
   "cell_type": "markdown",
   "id": "c7febc6a",
   "metadata": {},
   "source": [
    "**Вывод:** <...>"
   ]
  }
 ],
 "metadata": {
  "kernelspec": {
   "display_name": "Python 3 (ipykernel)",
   "language": "python",
   "name": "python3"
  },
  "language_info": {
   "codemirror_mode": {
    "name": "ipython",
    "version": 3
   },
   "file_extension": ".py",
   "mimetype": "text/x-python",
   "name": "python",
   "nbconvert_exporter": "python",
   "pygments_lexer": "ipython3",
   "version": "3.9.6"
  }
 },
 "nbformat": 4,
 "nbformat_minor": 5
}
