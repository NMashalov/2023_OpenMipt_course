{
  "cells": [
    {
      "cell_type": "markdown",
      "metadata": {
        "id": "view-in-github",
        "colab_type": "text"
      },
      "source": [
        "<a href=\"https://colab.research.google.com/github/NMashalov/2023_OpenMipt_course/blob/main/lesson8/sem_FE_empty.ipynb\" target=\"_parent\"><img src=\"https://colab.research.google.com/assets/colab-badge.svg\" alt=\"Open In Colab\"/></a>"
      ]
    },
    {
      "cell_type": "code",
      "execution_count": 1,
      "outputs": [],
      "source": [
        "import pandas as pd\n",
        "\n",
        "from sklearn.metrics import mean_squared_error as MSE\n",
        "from sklearn.model_selection import train_test_split\n",
        "from sklearn.preprocessing import StandardScaler\n",
        "from sklearn.linear_model import Lasso\n",
        "from sklearn.ensemble import RandomForestRegressor\n",
        "import seaborn as sns\n",
        "\n",
        "sns.set(context='poster')\n",
        "%matplotlib inline"
      ],
      "metadata": {
        "id": "68e524ec5a9cae96"
      },
      "id": "68e524ec5a9cae96"
    },
    {
      "cell_type": "markdown",
      "id": "6b132fcd",
      "metadata": {
        "pycharm": {
          "name": "#%% md\n"
        },
        "id": "6b132fcd"
      },
      "source": [
        "### Задача 1:"
      ]
    },
    {
      "cell_type": "markdown",
      "id": "21602547",
      "metadata": {
        "pycharm": {
          "name": "#%% md\n"
        },
        "id": "21602547"
      },
      "source": [
        "Рассмотрим как можно провести отбор признаков с помощью обучения линейной регрессии и леса с малым количеством деревьев на примере задачи регрессии. Будем использовать датасет <https://www.kaggle.com/datasets/abrambeyer/openintro-possum> и пытаться предсказать возраст оппосумов на основе различных параметров их тела.\n",
        "\n",
        "Для упрощения задачи избавимся от категориальных признаков"
      ]
    },
    {
      "cell_type": "code",
      "source": [
        "!pip install opendatasets -q"
      ],
      "metadata": {
        "id": "Ows4aMD26POq"
      },
      "id": "Ows4aMD26POq",
      "execution_count": 2,
      "outputs": []
    },
    {
      "cell_type": "code",
      "source": [
        "import opendatasets as od\n",
        "\n",
        "od.download('https://www.kaggle.com/datasets/abrambeyer/openintro-possum')"
      ],
      "metadata": {
        "id": "b2-GoG_Q6TVv",
        "outputId": "efc22c2f-e427-4441-e6f6-5dce6ba4aed8",
        "colab": {
          "base_uri": "https://localhost:8080/"
        }
      },
      "id": "b2-GoG_Q6TVv",
      "execution_count": 3,
      "outputs": [
        {
          "output_type": "stream",
          "name": "stdout",
          "text": [
            "Please provide your Kaggle credentials to download this dataset. Learn more: http://bit.ly/kaggle-creds\n",
            "Your Kaggle username: mashalovne\n",
            "Your Kaggle Key: ··········\n",
            "Downloading openintro-possum.zip to ./openintro-possum\n"
          ]
        },
        {
          "output_type": "stream",
          "name": "stderr",
          "text": [
            "100%|██████████| 2.15k/2.15k [00:00<00:00, 3.67MB/s]"
          ]
        },
        {
          "output_type": "stream",
          "name": "stdout",
          "text": [
            "\n"
          ]
        },
        {
          "output_type": "stream",
          "name": "stderr",
          "text": [
            "\n"
          ]
        }
      ]
    },
    {
      "cell_type": "code",
      "execution_count": 6,
      "id": "e33ab772",
      "metadata": {
        "pycharm": {
          "name": "#%%\n"
        },
        "id": "e33ab772"
      },
      "outputs": [],
      "source": [
        "data = pd.read_csv('openintro-possum/possum.csv').dropna()\n",
        "X = data[data.columns.drop(['sex', 'Pop', 'age'])]\n",
        "y = data['age']"
      ]
    },
    {
      "cell_type": "markdown",
      "id": "ad2ecc9d",
      "metadata": {
        "pycharm": {
          "name": "#%% md\n"
        },
        "id": "ad2ecc9d"
      },
      "source": [
        "Разделим выборку на тренировочную и тестовую часть"
      ]
    },
    {
      "cell_type": "code",
      "execution_count": 7,
      "id": "8654d280",
      "metadata": {
        "pycharm": {
          "name": "#%%\n"
        },
        "id": "8654d280"
      },
      "outputs": [],
      "source": [
        "X_train, X_test, y_train, y_test = train_test_split(X, y, test_size=0.33, random_state=42)"
      ]
    },
    {
      "cell_type": "markdown",
      "id": "8f7cdd4e",
      "metadata": {
        "pycharm": {
          "name": "#%% md\n"
        },
        "id": "8f7cdd4e"
      },
      "source": [
        "Стандартизируем данные для корректной работы линейной регрессии:"
      ]
    },
    {
      "cell_type": "code",
      "execution_count": 19,
      "id": "15160c3f",
      "metadata": {
        "pycharm": {
          "name": "#%%\n"
        },
        "id": "15160c3f"
      },
      "outputs": [],
      "source": [
        "from sklearn.preprocessing import StandardScaler\n",
        "scaler = StandardScaler()\n",
        "X_train_norm = scaler.fit_transform(X_train)\n",
        "X_test_norm = scaler.transform(X_test)"
      ]
    },
    {
      "cell_type": "markdown",
      "id": "518281a3",
      "metadata": {
        "pycharm": {
          "name": "#%% md\n"
        },
        "id": "518281a3"
      },
      "source": [
        "Обучим модель линейной регрессии с L1-регуляризацией на всех данных, посмотрим на метрику качества"
      ]
    },
    {
      "cell_type": "code",
      "execution_count": 30,
      "id": "d6410500",
      "metadata": {
        "pycharm": {
          "name": "#%%\n"
        },
        "id": "d6410500",
        "outputId": "2756b712-d2e8-44b9-8392-c187573bcb6d",
        "colab": {
          "base_uri": "https://localhost:8080/"
        }
      },
      "outputs": [
        {
          "output_type": "stream",
          "name": "stdout",
          "text": [
            "Коэффиценты модели: [-0.0215647   0.21001336  0.08407756  0.05269576 -0.         -0.\n",
            " -0.15057077  0.08691628  0.16517017  0.          0.15754382]\n",
            "Значение MSE на тренировочной выборке: 147.7999211446977\n",
            "Значение MSE на тестовой выборке: 151.61153891046658\n"
          ]
        },
        {
          "output_type": "stream",
          "name": "stderr",
          "text": [
            "/usr/local/lib/python3.10/dist-packages/sklearn/base.py:439: UserWarning: X does not have valid feature names, but Lasso was fitted with feature names\n",
            "  warnings.warn(\n",
            "/usr/local/lib/python3.10/dist-packages/sklearn/base.py:439: UserWarning: X does not have valid feature names, but Lasso was fitted with feature names\n",
            "  warnings.warn(\n"
          ]
        }
      ],
      "source": [
        "from sklearn.linear_model import Lasso\n",
        "lin_model = Lasso(alpha=0.1).fit(X_train,y_train)\n",
        "print('Коэффиценты модели:', lin_model.coef_)\n",
        "print('Значение MSE на тренировочной выборке:', MSE(lin_model.predict(X_train_norm), y_train))\n",
        "print('Значение MSE на тестовой выборке:', MSE(lin_model.predict(X_test_norm), y_test))"
      ]
    },
    {
      "cell_type": "markdown",
      "id": "ffc918fd",
      "metadata": {
        "pycharm": {
          "name": "#%% md\n"
        },
        "id": "ffc918fd"
      },
      "source": [
        "Проделаем аналогичную процедуру с лесом c небольшим количеством деревьев:"
      ]
    },
    {
      "cell_type": "code",
      "execution_count": 31,
      "id": "4ae946f2",
      "metadata": {
        "pycharm": {
          "name": "#%%\n"
        },
        "id": "4ae946f2",
        "outputId": "451da5bf-75ea-460d-8615-8e0ef92a8c51",
        "colab": {
          "base_uri": "https://localhost:8080/"
        }
      },
      "outputs": [
        {
          "output_type": "stream",
          "name": "stdout",
          "text": [
            "Важность признаков: [0.08730419 0.00711945 0.16815096 0.28876889 0.08033358 0.04137316\n",
            " 0.07938556 0.08041343 0.08623102 0.00493033 0.07598942]\n",
            "Значение MSE на тренировочной выборке: 0.5591044776119402\n",
            "Значение MSE на тестовой выборке: 2.657058823529412\n"
          ]
        }
      ],
      "source": [
        "from sklearn.ensemble import RandomForestRegressor\n",
        "forest =  RandomForestRegressor(n_estimators=10).fit(X_train,y_train)\n",
        "print('Важность признаков:', forest.feature_importances_)\n",
        "print('Значение MSE на тренировочной выборке:', MSE(forest.predict(X_train), y_train))\n",
        "print('Значение MSE на тестовой выборке:', MSE(forest.predict(X_test), y_test))"
      ]
    },
    {
      "cell_type": "markdown",
      "id": "89a4694e",
      "metadata": {
        "pycharm": {
          "name": "#%% md\n"
        },
        "id": "89a4694e"
      },
      "source": [
        "Составим 2 списка наиболее важных признаков - один с признаками, наиболее важными для линейной регрессии, второй с наиболее важными для леса"
      ]
    },
    {
      "cell_type": "code",
      "execution_count": 35,
      "id": "13a25ff0",
      "metadata": {
        "pycharm": {
          "name": "#%%\n"
        },
        "id": "13a25ff0"
      },
      "outputs": [],
      "source": [
        "lin_imp = []\n",
        "forest_imp = []\n",
        "for i, column in enumerate(X.columns):\n",
        "    if abs(lin_model.coef_[i]) > 0.1: # i added model as importance is sign-idependent\n",
        "        lin_imp.append(i)\n",
        "    if forest.feature_importances_[i] > 0.1:\n",
        "        forest_imp.append(column)"
      ]
    },
    {
      "cell_type": "markdown",
      "id": "07705dd7",
      "metadata": {
        "pycharm": {
          "name": "#%% md\n"
        },
        "id": "07705dd7"
      },
      "source": [
        "Теперь обучим модели только на важных признаках:"
      ]
    },
    {
      "cell_type": "code",
      "execution_count": 36,
      "id": "a7b269c4",
      "metadata": {
        "pycharm": {
          "name": "#%%\n"
        },
        "id": "a7b269c4"
      },
      "outputs": [],
      "source": [
        "X_train_norm_lin_imp = X_train_norm[:, lin_imp]\n",
        "X_test_norm_lin_imp = X_test_norm[:, lin_imp]\n",
        "\n",
        "X_train_forest_imp = X_train[forest_imp]\n",
        "X_test_forest_imp = X_test[forest_imp]"
      ]
    },
    {
      "cell_type": "code",
      "execution_count": 37,
      "id": "33d54368",
      "metadata": {
        "pycharm": {
          "name": "#%%\n"
        },
        "id": "33d54368",
        "outputId": "d10f8db5-2cd8-4995-e52d-97b1659f6707",
        "colab": {
          "base_uri": "https://localhost:8080/"
        }
      },
      "outputs": [
        {
          "output_type": "stream",
          "name": "stdout",
          "text": [
            "Коэффиценты модели: [ 0.         -0.0123311   0.3047265   0.45966172]\n",
            "Значение MSE на тренировочной выборке: 3.1845617227795286\n",
            "Значение MSE на тестовой выборке: 2.9906052916563404\n"
          ]
        }
      ],
      "source": [
        "lin_model_2 = Lasso(alpha=0.1).fit(X_train_norm_lin_imp, y_train)\n",
        "print('Коэффиценты модели:', lin_model_2.coef_)\n",
        "print('Значение MSE на тренировочной выборке:', MSE(lin_model_2.predict(X_train_norm_lin_imp), y_train))\n",
        "print('Значение MSE на тестовой выборке:', MSE(lin_model_2.predict(X_test_norm_lin_imp), y_test))"
      ]
    },
    {
      "cell_type": "code",
      "execution_count": 41,
      "id": "c4f0c848",
      "metadata": {
        "pycharm": {
          "name": "#%%\n"
        },
        "id": "c4f0c848",
        "outputId": "42c7ea01-5e39-4c25-9b29-9de00a0994ed",
        "colab": {
          "base_uri": "https://localhost:8080/"
        }
      },
      "outputs": [
        {
          "output_type": "stream",
          "name": "stdout",
          "text": [
            "Важность признаков: [0.51681292 0.48318708]\n",
            "Значение MSE на тренировочной выборке: 0.5580597014925374\n",
            "Значение MSE на тестовой выборке: 2.219117647058823\n"
          ]
        }
      ],
      "source": [
        "forest_2 = RandomForestRegressor(n_estimators=10).fit(X_train_forest_imp,y_train)\n",
        "print('Важность признаков:', forest_2.feature_importances_)\n",
        "print('Значение MSE на тренировочной выборке:', MSE(forest_2.predict(X_train_forest_imp), y_train))\n",
        "print('Значение MSE на тестовой выборке:', MSE(forest_2.predict(X_test_forest_imp), y_test))"
      ]
    },
    {
      "cell_type": "markdown",
      "id": "c7febc6a",
      "metadata": {
        "id": "c7febc6a"
      },
      "source": [
        "**Вывод:**\n",
        "Отбор признаков позволяет значительно улучшить качество предсказания для линейных моделей. Предсказания случайного леса улучшились незначительно. Сужение выборки и признакового пространства при обучении для каждого элемента ансамбля позволяют случайному леса давать качественные предсказния без необходимости в отборе признаков."
      ]
    }
  ],
  "metadata": {
    "kernelspec": {
      "display_name": "Python 3 (ipykernel)",
      "language": "python",
      "name": "python3"
    },
    "language_info": {
      "codemirror_mode": {
        "name": "ipython",
        "version": 3
      },
      "file_extension": ".py",
      "mimetype": "text/x-python",
      "name": "python",
      "nbconvert_exporter": "python",
      "pygments_lexer": "ipython3",
      "version": "3.9.6"
    },
    "colab": {
      "provenance": [],
      "include_colab_link": true
    }
  },
  "nbformat": 4,
  "nbformat_minor": 5
}