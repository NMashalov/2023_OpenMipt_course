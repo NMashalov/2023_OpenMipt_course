{
  "cells": [
    {
      "cell_type": "code",
      "execution_count": null,
      "metadata": {},
      "outputs": [],
      "source": [
        "!pip install dowhy -q"
      ]
    },
    {
      "cell_type": "code",
      "execution_count": 2,
      "metadata": {
        "id": "QPLXBhgzTFhz"
      },
      "outputs": [
        {
          "ename": "ModuleNotFoundError",
          "evalue": "No module named 'dowhy'",
          "output_type": "error",
          "traceback": [
            "\u001b[1;31m---------------------------------------------------------------------------\u001b[0m",
            "\u001b[1;31mModuleNotFoundError\u001b[0m                       Traceback (most recent call last)",
            "Cell \u001b[1;32mIn[2], line 8\u001b[0m\n\u001b[0;32m      5\u001b[0m \u001b[38;5;28;01mfrom\u001b[39;00m \u001b[38;5;21;01mtqdm\u001b[39;00m\u001b[38;5;21;01m.\u001b[39;00m\u001b[38;5;21;01mnotebook\u001b[39;00m \u001b[38;5;28;01mimport\u001b[39;00m tqdm\n\u001b[0;32m      7\u001b[0m \u001b[38;5;28;01mimport\u001b[39;00m \u001b[38;5;21;01mnetworkx\u001b[39;00m \u001b[38;5;28;01mas\u001b[39;00m \u001b[38;5;21;01mnx\u001b[39;00m\n\u001b[1;32m----> 8\u001b[0m \u001b[38;5;28;01mfrom\u001b[39;00m \u001b[38;5;21;01mdowhy\u001b[39;00m \u001b[38;5;28;01mimport\u001b[39;00m gcm\n\u001b[0;32m     10\u001b[0m \u001b[38;5;28;01mfrom\u001b[39;00m \u001b[38;5;21;01mdowhy\u001b[39;00m \u001b[38;5;28;01mimport\u001b[39;00m CausalModel\n\u001b[0;32m     11\u001b[0m \u001b[38;5;28;01mimport\u001b[39;00m \u001b[38;5;21;01mdowhy\u001b[39;00m\u001b[38;5;21;01m.\u001b[39;00m\u001b[38;5;21;01mdatasets\u001b[39;00m\n",
            "\u001b[1;31mModuleNotFoundError\u001b[0m: No module named 'dowhy'"
          ]
        }
      ],
      "source": [
        "import numpy as np\n",
        "import pandas as pd\n",
        "import matplotlib.pyplot as plt\n",
        "import seaborn as sns\n",
        "from tqdm.notebook import tqdm\n",
        "\n",
        "import networkx as nx\n",
        "from dowhy import gcm\n",
        "\n",
        "from dowhy import CausalModel\n",
        "import dowhy.datasets\n",
        "\n",
        "import networkx as nx\n",
        "from IPython.display import Image, display\n",
        "\n",
        "options = {\n",
        "    \"font_size\": 14,\n",
        "    \"node_size\": 1500,\n",
        "    \"node_color\": \"#99FF99\",\n",
        "    \"edge_color\": \"#9999FF\",\n",
        "    \"arrowsize\": 25,\n",
        "    \"width\": 3,\n",
        "}\n",
        "\n",
        "def draw_graph(graphs, options):\n",
        "    nx.draw_networkx(graphs, **options)\n",
        "    ax = plt.gca()\n",
        "    ax.margins(0.20)\n",
        "    plt.axis(\"off\")\n",
        "\n",
        "sns.set(style='whitegrid', palette='Set2')"
      ]
    },
    {
      "cell_type": "code",
      "execution_count": null,
      "metadata": {
        "id": "-DNP3SvoKu3C"
      },
      "outputs": [],
      "source": []
    },
    {
      "cell_type": "markdown",
      "metadata": {
        "id": "RboO7vUsPqow"
      },
      "source": [
        "---\n",
        "\n",
        "## Задача 1.\n",
        "\n",
        "При проведении испытания лекарства получены следующие данные. В каждом случае указано количество успешных случаев.\n",
        "\n",
        "\n",
        "| Количество успешных        | Принимали плацебо | Принимали лекарство  |\n",
        "| :------------- |-------------:| -----:|\n",
        "| Низкое давление      | 81 из 87 | 234 из 270 |\n",
        "| Высокое давление     | 192 из 263      |   55 из 80 |\n",
        "\n",
        "\n",
        "Требуется оценить эффект влияния лекарства на успех в двух следующих случаях.\n",
        "\n",
        "* Кровяное давление пациентов измерялось до начала испытания, после чего принималось решение о приеме лекарства.\n",
        "\n",
        "* Кровяное давление пациентов измерялось в конце испытания. При этом известно, что лекарство может оказывать эффект на кровяное давление, которое в свою очередь может оказывать эффект на выздоровление.\n",
        "\n",
        "Часть этой задачи мы уже разобрали на занятии. Сейчас давайте на ее примере разберемся досконально в разных тонкостях."
      ]
    },
    {
      "cell_type": "markdown",
      "metadata": {
        "id": "c822cD5jPqox"
      },
      "source": [
        "**1.** Нарисуйте граф причинно-следственных связей для каждого случая.\n",
        "\n",
        "---\n",
        "\n",
        "Обозначим\n",
        "* $X$ &mdash; лечение;\n",
        "* $Y$ &mdash; результат;\n",
        "* $Z$ &mdash; давление.\n"
      ]
    },
    {
      "cell_type": "markdown",
      "metadata": {
        "id": "jZfYE8_tPqox"
      },
      "source": [
        "**Первый случай**\n",
        "\n",
        "Кровяное давление пациентов измерялось до начала испытания, после чего принималось решение о приеме лекарства.\n",
        "$$p(x, y, z) = p(z)p(x|z)p(y|x, z)$$\n",
        "$$\\widehat{\\mathsf{P}}(Z = 1) = \\frac{263+80}{263+80+87+270}$$\n",
        "$$\\widehat{\\mathsf{P}}(X=1\\ |\\ Z = 0) = \\frac{270}{87+270}$$\n",
        "$$\\widehat{\\mathsf{P}}(X=1\\ |\\ Z = 1) = \\frac{80}{263+80}$$\n",
        "$$\\widehat{\\mathsf{P}}(Y=1\\ |\\ X=0, Z = 0) = \\frac{81}{87}$$\n",
        "$$\\widehat{\\mathsf{P}}(Y=1\\ |\\ X=1, Z = 0) = \\frac{234}{270}$$\n",
        "$$\\widehat{\\mathsf{P}}(Y=1\\ |\\ X=0, Z = 1) = \\frac{192}{263}$$\n",
        "$$\\widehat{\\mathsf{P}}(Y=1\\ |\\ X=1, Z = 1) = \\frac{55}{80}$$\n",
        "\n",
        "\n",
        "**Второй случай**\n",
        "\n",
        "Кровяное давление пациентов измерялось в конце испытания. При этом известно, что лекарство может оказывать эффект на кровяное давление, которое в свою очередь может оказывать эффект на выздоровление.\n",
        "$$p(x, y, z) = p(x)p(z|x)p(y|x, z)$$\n",
        "$$\\widehat{\\mathsf{P}}(X = 1) = \\frac{270+80}{263+80+87+270}$$\n",
        "$$\\widehat{\\mathsf{P}}(Z=1\\ |\\ X = 0) = \\frac{270}{270+80}$$\n",
        "$$\\widehat{\\mathsf{P}}(Z=1\\ |\\ X = 1) = \\frac{80}{270+80}$$\n",
        "$$\\widehat{\\mathsf{P}}(Y=1\\ |\\ X=0, Z = 0) = \\frac{81}{87}$$\n",
        "$$\\widehat{\\mathsf{P}}(Y=1\\ |\\ X=1, Z = 0) = \\frac{234}{270}$$\n",
        "$$\\widehat{\\mathsf{P}}(Y=1\\ |\\ X=0, Z = 1) = \\frac{192}{263}$$\n",
        "$$\\widehat{\\mathsf{P}}(Y=1\\ |\\ X=1, Z = 1) = \\frac{55}{80}$$"
      ]
    },
    {
      "cell_type": "code",
      "execution_count": null,
      "metadata": {
        "id": "5u8HaTR6Pqox"
      },
      "outputs": [],
      "source": [
        "plt.figure(figsize=(12, 5))\n",
        "\n",
        "causal_graphs = [\n",
        "    nx.DiGraph([<...>]),\n",
        "    nx.DiGraph([<...>]),\n",
        "]\n",
        "\n",
        "for i, graphs in enumerate(causal_graphs):\n",
        "    plt.subplot(1, 2, i+1)\n",
        "    draw_graph(graphs, options)\n",
        "    plt.title(f'{i+1}-й случай')\n",
        "\n",
        "plt.show()"
      ]
    },
    {
      "cell_type": "markdown",
      "metadata": {
        "id": "9OUJQKVAzaFl"
      },
      "source": [
        "Создадим датасет."
      ]
    },
    {
      "cell_type": "code",
      "execution_count": null,
      "metadata": {
        "id": "TTJSlJBgPqoy"
      },
      "outputs": [],
      "source": [
        "data = pd.DataFrame()\n",
        "data['treatment'] = [0]*(87+263) + [1]*(270+80)\n",
        "data['blood_pressure'] = [0]*87 + [1]*263 + [0]*270 + [1]*80\n",
        "data['result'] = [1]*81 + [0]*(87-81) + [1]*192 + [0]*(263-192) \\\n",
        "                + [1]*234 + [0]*(270-234) + [1]*55 + [0]*(80-55)\n",
        "data.index.name = 'patient'\n",
        "\n",
        "data"
      ]
    },
    {
      "cell_type": "markdown",
      "metadata": {
        "id": "fej87KFjzL5p"
      },
      "source": [
        "\n",
        "| Количество успешных        | Принимали плацебо X=0 | Принимали лекарство X=1 |\n",
        "| :------------- |-------------:| -----:|\n",
        "| Низкое давление Z=0      | 81 из 87 | 234 из 270 |\n",
        "| Высокое давление Z=1    | 192 из 263      |   55 из 80 |\n",
        "\n",
        "\n"
      ]
    },
    {
      "cell_type": "markdown",
      "metadata": {
        "id": "w2bZtEKIZgwg"
      },
      "source": [
        "Постройте графы обоих вариантов в случае интервенции."
      ]
    },
    {
      "cell_type": "code",
      "execution_count": null,
      "metadata": {
        "id": "ds2JTEdCPqoz"
      },
      "outputs": [],
      "source": [
        "plt.figure(figsize=(12, 5))\n",
        "\n",
        "causal_graphs = [\n",
        "    nx.DiGraph([<...>]),\n",
        "    nx.DiGraph([<...>]),\n",
        "]\n",
        "\n",
        "for i, graphs in enumerate(causal_graphs):\n",
        "    plt.subplot(1, 2, i+1)\n",
        "    draw_graph(graphs, options)\n",
        "    plt.title(f'{i+1}-й случай')\n",
        "\n",
        "plt.show()"
      ]
    },
    {
      "cell_type": "markdown",
      "metadata": {
        "id": "FXn6g-SEPqoz"
      },
      "source": [
        "**2.** Поэкспериментируем с библиотекой DoWhy."
      ]
    },
    {
      "cell_type": "markdown",
      "metadata": {
        "id": "Cyl5URrpPqoz"
      },
      "source": [
        "Задайте граф причинно-следственных связей(задайте правильно названия вершин графа) и постройте по нему модель `StructuralCausalModel` с автоматическим определением механизма причинно-следственных связей. Обучите полученную модель."
      ]
    },
    {
      "cell_type": "markdown",
      "metadata": {
        "id": "f9D5gp8-dDrF"
      },
      "source": [
        "**Первый случай.**"
      ]
    },
    {
      "cell_type": "code",
      "execution_count": null,
      "metadata": {
        "id": "lHzCR7MFPqo0"
      },
      "outputs": [],
      "source": [
        "causal_graph = <...>"
      ]
    },
    {
      "cell_type": "code",
      "execution_count": null,
      "metadata": {
        "id": "e8TLlXT_eA1S"
      },
      "outputs": [],
      "source": [
        "causal_model = <...>"
      ]
    },
    {
      "cell_type": "markdown",
      "metadata": {
        "id": "b6BYGNv-Pqo0"
      },
      "source": [
        "Выясните, какие зависимости подобрались и напечатайте параметры этих моделей."
      ]
    },
    {
      "cell_type": "code",
      "execution_count": null,
      "metadata": {
        "id": "V29xuSBXPqo0"
      },
      "outputs": [],
      "source": [
        "model_X = causal_model.causal_mechanism('treatment')\n",
        "model_Y = causal_model.causal_mechanism('result')\n",
        "model_Z = causal_model.causal_mechanism('blood_pressure')\n",
        "\n",
        "model_X, model_Y, model_Z"
      ]
    },
    {
      "cell_type": "code",
      "execution_count": null,
      "metadata": {
        "id": "Qc5JmFgEPqo0",
        "scrolled": true
      },
      "outputs": [],
      "source": [
        "sklearn_model = model_Y.prediction_model.sklearn_model\n",
        "sklearn_model.coef_, sklearn_model.intercept_"
      ]
    },
    {
      "cell_type": "code",
      "execution_count": null,
      "metadata": {
        "id": "5x5OIreqPqo0"
      },
      "outputs": [],
      "source": [
        "sklearn_model = model_X.prediction_model.sklearn_model\n",
        "sklearn_model"
      ]
    },
    {
      "cell_type": "markdown",
      "metadata": {
        "id": "SBdo5QW_Pqo0"
      },
      "source": [
        "Как видим, были использованы модели с аддитивным шумом, в то время как наши данные дискретны.\n",
        "\n",
        "Поменяем тип данных на строковые"
      ]
    },
    {
      "cell_type": "code",
      "execution_count": null,
      "metadata": {
        "id": "0d5HPHODPqo0"
      },
      "outputs": [],
      "source": [
        "data = data.astype(str)"
      ]
    },
    {
      "cell_type": "markdown",
      "metadata": {
        "id": "y7z-wG6IPqo0"
      },
      "source": [
        "Задайте модели наследования вручную. Если у вершины нет предков, то используйте эмпирическое распределение, иначе &mdash; классификатор `gcm.ClassifierFCM()`. Обучите полученную causal модель."
      ]
    },
    {
      "cell_type": "code",
      "execution_count": null,
      "metadata": {
        "id": "QXh75DWdPqo1"
      },
      "outputs": [],
      "source": []
    },
    {
      "cell_type": "markdown",
      "metadata": {
        "id": "ykWtkNxNPqo1"
      },
      "source": [
        "Наконец, посчитайте оценку ATE с помощью интервенции в построенной модели. Не забудьте, что в качестве значения интервенции нужно указать строку, а полученные семплы перевести обратно в числа перед усреднением."
      ]
    },
    {
      "cell_type": "code",
      "execution_count": null,
      "metadata": {
        "id": "WoYGuW5VPqo1"
      },
      "outputs": [],
      "source": [
        "num_samples_to_draw = 1_000_000\n",
        "interventional_mean = []\n",
        "\n",
        "for i in range(2):\n",
        "    samples = gcm.interventional_samples(\n",
        "        causal_model,\n",
        "        {'treatment': lambda y: str(i) },  # условие интервенции\n",
        "        num_samples_to_draw=num_samples_to_draw  # количество семплирований\n",
        "    )\n",
        "    interventional_mean.append(<...>)\n",
        "\n",
        "ATE = <...>"
      ]
    },
    {
      "cell_type": "markdown",
      "metadata": {
        "id": "NxsVoZEa0t0Z"
      },
      "source": [
        "**Второй случай.**\n",
        "\n",
        "Задайте модель по аналогии с первым случаем и обучите её."
      ]
    },
    {
      "cell_type": "code",
      "execution_count": null,
      "metadata": {
        "id": "5UHFhS6kPqo1",
        "scrolled": true
      },
      "outputs": [],
      "source": [
        "causal_graph = <...>\n",
        "\n",
        "causal_model = <...>"
      ]
    },
    {
      "cell_type": "code",
      "execution_count": null,
      "metadata": {
        "id": "zlr0XQoLPqo1"
      },
      "outputs": [],
      "source": [
        "num_samples_to_draw = 1_000_000\n",
        "interventional_mean = []\n",
        "\n",
        "for i in range(2):\n",
        "    samples = gcm.interventional_samples(\n",
        "        causal_model,\n",
        "        {'treatment': lambda y: str(i) },  # условие интервенции\n",
        "        num_samples_to_draw=num_samples_to_draw  # количество семплирований\n",
        "    )\n",
        "    interventional_mean.append(<...>)\n",
        "\n",
        "ATE = <...>"
      ]
    },
    {
      "cell_type": "markdown",
      "metadata": {
        "id": "XE5unajqPqo1"
      },
      "source": [
        "**Вывод:**"
      ]
    },
    {
      "cell_type": "markdown",
      "metadata": {
        "id": "ceLUPYrzPbAX"
      },
      "source": [
        "# Propensity score и работа с ним в библиотеке DoWhy"
      ]
    },
    {
      "cell_type": "markdown",
      "metadata": {
        "id": "9d4ccab2"
      },
      "source": [
        "## Задача 2. Пайплайн оценки\n",
        "\n",
        "\n",
        "Для оценки эффекта библиотека DoWhy предоставляет четырехступенчатый интерфейс причинно-следственного вывода:\n",
        "1. Определение модели для причинно-следственной задачи\n",
        "2. Определение оценщика в рамках модели\n",
        "3. Оценка причинно-следственной связи по выбранному оценщику\n",
        "4. Тестирование полученной оценки\n"
      ]
    },
    {
      "cell_type": "markdown",
      "metadata": {
        "id": "2afcbc78"
      },
      "source": [
        "### 2.1. Определение модели\n",
        "\n",
        "```\n",
        "CausalModel(\n",
        "    data,\n",
        "    treatment,\n",
        "    outcome,\n",
        "    graph=None,\n",
        "    common_causes=None,\n",
        "    instruments=None,\n",
        "    effect_modifiers=None,\n",
        "    estimand_type='nonparametric-ate',\n",
        "    proceed_when_unidentifiable=False,\n",
        "    missing_nodes_as_confounders=False,\n",
        "    identify_vars=False,\n",
        "    **kwargs,\n",
        ")\n",
        "```\n",
        "\n",
        "**Стандартный способ**\n",
        "\n",
        "Определение причинно-следственной модели на основе данных и заданного графа. Этот граф не обязательно должен быть полным — можно предоставить частичный граф с предварительными знаниями о некоторых признаках. Тогда DoWhy автоматически рассматривает остальные признаким как потенциальные конфаундеры.\n",
        "\n",
        "Используйте граф случая, где `blood_pressure` является конфаундером."
      ]
    },
    {
      "cell_type": "code",
      "execution_count": null,
      "metadata": {
        "id": "5da9f13f"
      },
      "outputs": [],
      "source": [
        "model = CausalModel(\n",
        "    data=data,\n",
        "    treatment=\"treatment\",\n",
        "    outcome=\"result\",\n",
        "    graph=causal_graph\n",
        ")\n",
        "\n",
        "model.view_model(file_name=\"causal_model\", size=(6, 4))\n",
        "display(Image(filename=\"causal_model.png\"))"
      ]
    },
    {
      "cell_type": "markdown",
      "metadata": {
        "id": "81b31675"
      },
      "source": [
        "**Другой способ**\n",
        "\n",
        "Указание ковариат и инструментов в случае наличия."
      ]
    },
    {
      "cell_type": "code",
      "execution_count": null,
      "metadata": {
        "id": "4dfbe17b"
      },
      "outputs": [],
      "source": [
        "model_2 = CausalModel(\n",
        "    data=data,\n",
        "    treatment=\"treatment\",\n",
        "    outcome=\"result\",\n",
        "    common_causes=\"blood_pressure\"\n",
        ")\n",
        "\n",
        "model_2.view_model(file_name=\"causal_model\", size=(6, 4))\n",
        "display(Image(filename=\"causal_model.png\"))"
      ]
    },
    {
      "cell_type": "markdown",
      "metadata": {
        "id": "c1226c8c"
      },
      "source": [
        "### 2.2. Определение оценщика в рамках модели\n",
        "\n",
        "Основываясь на причинно-следственном графе, DoWhy находит все возможные способы идентификации желаемого причинно-следственного эффекта на основе графа. Используются критерии на графах и do-исчисление, для поиска всех возможных моделей, которые могут оценить причинно-следственную связь в данном случае."
      ]
    },
    {
      "cell_type": "code",
      "execution_count": null,
      "metadata": {
        "id": "aea8b5e1"
      },
      "outputs": [],
      "source": [
        "identified_estimand = model_2.identify_effect()\n",
        "print(identified_estimand)"
      ]
    },
    {
      "cell_type": "markdown",
      "metadata": {
        "id": "3f39c506"
      },
      "source": [
        "### 2.3. Оценка причинно-следственной связи\n",
        "\n",
        "```\n",
        "model.estimate_effect(\n",
        "    identified_estimand,\n",
        "    method_name=None,\n",
        "    control_value=0,\n",
        "    treatment_value=1,\n",
        "    test_significance=None,\n",
        "    evaluate_effect_strength=False,\n",
        "    confidence_intervals=False,\n",
        "    target_units='ate',\n",
        "    effect_modifiers=None,\n",
        "    fit_estimator=True,\n",
        "    method_params=None,\n",
        ")\n",
        "\n",
        "```\n",
        "\n",
        "\n",
        "Поддерживаются следущие методы\n",
        "* Propensity Score Matching: \"`backdoor.propensity_score_matching`\"\n",
        "* Propensity Score Stratification: \"`backdoor.propensity_score_stratification`\" &mdash; использование оценок propensity score для определения бинов, по котором выполняется стратификация\n",
        "* Propensity Score-based Inverse Weighting: \"`backdoor.propensity_score_weighting`\"\n",
        "* Linear Regression: \"`backdoor.linear_regression`\"\n",
        "* Generalized Linear Models (e.g., logistic regression): \"`backdoor.generalized_linear_model`\"\n",
        "* Instrumental Variables: \"`iv.instrumental_variable`\"\n",
        "* Regression Discontinuity: \"`iv.regression_discontinuity`\""
      ]
    },
    {
      "cell_type": "code",
      "execution_count": null,
      "metadata": {
        "id": "ba75b8fb"
      },
      "outputs": [],
      "source": [
        "estimate = model.estimate_effect(\n",
        "    identified_estimand,\n",
        "    method_name=\"backdoor.propensity_score_weighting\",\n",
        ")\n",
        "\n",
        "print(estimate)"
      ]
    },
    {
      "cell_type": "markdown",
      "metadata": {
        "id": "af8044c4"
      },
      "source": [
        "Можно извлечь саму оценку причинно-следственного эффекта"
      ]
    },
    {
      "cell_type": "code",
      "execution_count": null,
      "metadata": {
        "id": "fe7fcf72",
        "outputId": "5e85a291-0986-4d99-dfa5-3fa59171b592"
      },
      "outputs": [
        {
          "data": {
            "image/png": "[encoded data removed]",
            "text/latex": [
              "$\\displaystyle 10.7444499624423$"
            ],
            "text/plain": [
              "10.744449962442255"
            ]
          },
          "execution_count": 16,
          "metadata": {},
          "output_type": "execute_result"
        }
      ],
      "source": [
        "estimate.value"
      ]
    },
    {
      "cell_type": "markdown",
      "metadata": {
        "id": "2e65ab6c"
      },
      "source": [
        "Также можно отдельно построить для нее доверительный интервал\n",
        "\n",
        "```\n",
        "estimate.get_confidence_intervals(\n",
        "    confidence_level=None,\n",
        "    method=None,\n",
        "    **kwargs,\n",
        ")\n",
        "```\n",
        "\n",
        "По умолчанию используется формула построения доверительного интервала для конкретного метода. Можно также использовать бутстреп, указав `method='bootstrap'`. Для некоторых методов интервал можно построить только бустрепом, например, для Propensity Score Stratification."
      ]
    },
    {
      "cell_type": "code",
      "execution_count": null,
      "metadata": {
        "id": "deabf50c"
      },
      "outputs": [],
      "source": [
        "%%time\n",
        "estimate.get_confidence_intervals()"
      ]
    },
    {
      "cell_type": "markdown",
      "metadata": {
        "id": "49c5117c"
      },
      "source": [
        "И проверить стат. значимость отличия от нуля, получив p-value. Здесь также можно использовать бутстреп"
      ]
    },
    {
      "cell_type": "code",
      "execution_count": null,
      "metadata": {
        "id": "d15cd431"
      },
      "outputs": [],
      "source": [
        "%%time\n",
        "estimate.test_stat_significance()"
      ]
    },
    {
      "cell_type": "markdown",
      "metadata": {
        "id": "dd60b8b4"
      },
      "source": [
        "Также можно извлечь оценку стандартного отклонения"
      ]
    },
    {
      "cell_type": "code",
      "execution_count": null,
      "metadata": {
        "id": "691a0ceb",
        "outputId": "70c47f99-f6a7-4768-991d-a8484586a111"
      },
      "outputs": [
        {
          "data": {
            "image/png": "[encoded data removed]",
            "text/latex": [
              "$\\displaystyle 0.470186738082104$"
            ],
            "text/plain": [
              "0.4701867380821037"
            ]
          },
          "execution_count": 19,
          "metadata": {},
          "output_type": "execute_result"
        }
      ],
      "source": [
        "estimate.get_standard_error()"
      ]
    },
    {
      "cell_type": "markdown",
      "metadata": {
        "id": "c4854182"
      },
      "source": [
        "Оценка произведена с помощью следующей формулы"
      ]
    },
    {
      "cell_type": "code",
      "execution_count": null,
      "metadata": {
        "id": "2ae9ad99"
      },
      "outputs": [],
      "source": [
        "estimate.realized_estimand_expr"
      ]
    },
    {
      "cell_type": "markdown",
      "metadata": {
        "id": "29c40628"
      },
      "source": [
        "Также можно посмотреть на то, какие признаки использованы"
      ]
    },
    {
      "cell_type": "code",
      "execution_count": null,
      "metadata": {
        "id": "fd470f25"
      },
      "outputs": [],
      "source": [
        "estimate.target_estimand.treatment_variable"
      ]
    },
    {
      "cell_type": "markdown",
      "metadata": {
        "id": "4a6ec527"
      },
      "source": [
        "### 2.4. Тестирование полученной оценки\n",
        "\n",
        "```\n",
        "model.refute_estimate(\n",
        "    estimand,\n",
        "    estimate,\n",
        "    method_name=None,\n",
        "    show_progress_bar=False,\n",
        "    **kwargs,\n",
        ")\n",
        "```\n",
        "\n",
        "Одно из основных преимущество DoWhy &mdash; несколько методов проверки устойчивости моделей.\n",
        "\n",
        "Поддерживаемые методы опровержения\n",
        "* **Добавить рандомный конфаундер:** Изменяет ли метод свою оценку добавления конфаундера-рандом в набор данных?\n",
        "    * *так не должно быть*\n",
        "\n",
        "* **Тритмент:** Что происходит с предполагаемым причинно-следственным эффектом, если мы тритмент заменим на рандом?\n",
        "    * *эффект должен быть равен нулю*\n",
        "\n",
        "* **Фиктивный результат:** Что происходит с предполагаемым причинно-следственным эффектом, при замене таргета на рандом?\n",
        "    * *эффект должен быть равен нулю*\n",
        "\n",
        "* **Моделирование:** Что происходит с предполагаемым причинно-следственным эффектом, при замене реального набора данных на искусственный, наиболее похожий по отношению к данному набору данных?\n",
        "    * *он должен соответствовать параметру effect из процесса генерации данных*\n",
        "\n",
        "* **Добавить ненаблюдаемый конфаундер:** Насколько чувствительна оценка эффекта при дополнительного конфаундера?\n",
        "    * *она не должен быть слишком чувствительным*\n",
        "\n",
        "* **Проверка подмножеств данных:** Существенно ли изменяется оцененный эффект при замене данных на случайно выбранное подмножество?\n",
        "    * *так не должно быть*\n",
        "\n",
        "* **Проверка бутстрепом:** Существенно ли меняется предполагаемый эффект при замене данных на бутстрепные рализации?\n",
        "    * *так не должно быть*\n"
      ]
    },
    {
      "cell_type": "code",
      "execution_count": null,
      "metadata": {
        "id": "f16b4993",
        "scrolled": true
      },
      "outputs": [],
      "source": [
        "refute_results = model.refute_estimate(\n",
        "    identified_estimand, estimate,\n",
        "    method_name=\"random_common_cause\",\n",
        "    show_progress_bar=True\n",
        ")\n",
        "\n",
        "print(refute_results)"
      ]
    },
    {
      "cell_type": "code",
      "execution_count": null,
      "metadata": {
        "id": "8e51a747"
      },
      "outputs": [],
      "source": [
        "refute_results = model.refute_estimate(\n",
        "    identified_estimand, estimate,\n",
        "    method_name=\"add_unobserved_common_cause\",\n",
        "    show_progress_bar=True\n",
        ")\n",
        "\n",
        "print(refute_results)"
      ]
    },
    {
      "cell_type": "code",
      "execution_count": null,
      "metadata": {
        "id": "1b6900b0"
      },
      "outputs": [],
      "source": [
        "refute_results = model.refute_estimate(\n",
        "    identified_estimand, estimate,\n",
        "    method_name=\"placebo_treatment_refuter\",\n",
        "    show_progress_bar=True\n",
        ")\n",
        "\n",
        "print(refute_results)"
      ]
    },
    {
      "cell_type": "code",
      "execution_count": null,
      "metadata": {
        "id": "3ce3b34b"
      },
      "outputs": [],
      "source": [
        "refute_results = model.refute_estimate(\n",
        "    identified_estimand, estimate,\n",
        "    method_name=\"data_subset_refuter\",\n",
        "    show_progress_bar=True\n",
        ")\n",
        "\n",
        "print(refute_results)"
      ]
    },
    {
      "cell_type": "markdown",
      "metadata": {
        "id": "jOmIAg3zMBqc"
      },
      "source": [
        "**Вывод:**"
      ]
    },
    {
      "cell_type": "code",
      "execution_count": null,
      "metadata": {
        "id": "IkPeV9w0MDlf"
      },
      "outputs": [],
      "source": []
    }
  ],
  "metadata": {
    "colab": {
      "provenance": []
    },
    "kernelspec": {
      "display_name": "Python 3",
      "name": "python3"
    },
    "language_info": {
      "codemirror_mode": {
        "name": "ipython",
        "version": 3
      },
      "file_extension": ".py",
      "mimetype": "text/x-python",
      "name": "python",
      "nbconvert_exporter": "python",
      "pygments_lexer": "ipython3",
      "version": "3.11.3"
    }
  },
  "nbformat": 4,
  "nbformat_minor": 0
}
