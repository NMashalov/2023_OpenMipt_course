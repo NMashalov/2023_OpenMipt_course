{
  "cells": [
    {
      "cell_type": "code",
      "execution_count": 1,
      "metadata": {},
      "outputs": [
        {
          "name": "stderr",
          "output_type": "stream",
          "text": [
            "\n",
            "[notice] A new release of pip available: 22.3.1 -> 23.3.2\n",
            "[notice] To update, run: python.exe -m pip install --upgrade pip\n"
          ]
        }
      ],
      "source": [
        "!pip install dowhy -q"
      ]
    },
    {
      "cell_type": "code",
      "execution_count": 2,
      "metadata": {
        "id": "QPLXBhgzTFhz"
      },
      "outputs": [
        {
          "name": "stderr",
          "output_type": "stream",
          "text": [
            "c:\\Users\\bug\\2023_mipt_nn_course\\.venv\\Lib\\site-packages\\tqdm\\auto.py:21: TqdmWarning: IProgress not found. Please update jupyter and ipywidgets. See https://ipywidgets.readthedocs.io/en/stable/user_install.html\n",
            "  from .autonotebook import tqdm as notebook_tqdm\n"
          ]
        }
      ],
      "source": [
        "import numpy as np\n",
        "import pandas as pd\n",
        "import matplotlib.pyplot as plt\n",
        "import seaborn as sns\n",
        "from tqdm.notebook import tqdm\n",
        "\n",
        "import networkx as nx\n",
        "from dowhy import gcm\n",
        "\n",
        "from dowhy import CausalModel\n",
        "import dowhy.datasets\n",
        "\n",
        "import networkx as nx\n",
        "from IPython.display import Image, display\n",
        "\n",
        "options = {\n",
        "    \"font_size\": 14,\n",
        "    \"node_size\": 1500,\n",
        "    \"node_color\": \"#99FF99\",\n",
        "    \"edge_color\": \"#9999FF\",\n",
        "    \"arrowsize\": 25,\n",
        "    \"width\": 3,\n",
        "}\n",
        "\n",
        "def draw_graph(graphs, options):\n",
        "    nx.draw_networkx(graphs, **options)\n",
        "    ax = plt.gca()\n",
        "    ax.margins(0.20)\n",
        "    plt.axis(\"off\")\n",
        "\n",
        "sns.set(style='whitegrid', palette='Set2')"
      ]
    },
    {
      "cell_type": "markdown",
      "metadata": {
        "id": "RboO7vUsPqow"
      },
      "source": [
        "---\n",
        "\n",
        "## Задача 1.\n",
        "\n",
        "При проведении испытания лекарства получены следующие данные. В каждом случае указано количество успешных случаев.\n",
        "\n",
        "\n",
        "| Количество успешных        | Принимали плацебо | Принимали лекарство  |\n",
        "| :------------- |-------------:| -----:|\n",
        "| Низкое давление      | 81 из 87 | 234 из 270 |\n",
        "| Высокое давление     | 192 из 263      |   55 из 80 |\n",
        "\n",
        "\n",
        "Требуется оценить эффект влияния лекарства на успех в двух следующих случаях.\n",
        "\n",
        "* Кровяное давление пациентов измерялось до начала испытания, после чего принималось решение о приеме лекарства.\n",
        "\n",
        "* Кровяное давление пациентов измерялось в конце испытания. При этом известно, что лекарство может оказывать эффект на кровяное давление, которое в свою очередь может оказывать эффект на выздоровление.\n",
        "\n",
        "Часть этой задачи мы уже разобрали на занятии. Сейчас давайте на ее примере разберемся досконально в разных тонкостях."
      ]
    },
    {
      "cell_type": "markdown",
      "metadata": {
        "id": "c822cD5jPqox"
      },
      "source": [
        "**1.** Нарисуйте граф причинно-следственных связей для каждого случая.\n",
        "\n",
        "---\n",
        "\n",
        "Обозначим\n",
        "* $X$ &mdash; лечение;\n",
        "* $Y$ &mdash; результат;\n",
        "* $Z$ &mdash; давление.\n"
      ]
    },
    {
      "cell_type": "markdown",
      "metadata": {
        "id": "jZfYE8_tPqox"
      },
      "source": [
        "**Первый случай**\n",
        "\n",
        "Кровяное давление пациентов измерялось до начала испытания, после чего принималось решение о приеме лекарства.\n",
        "$$p(x, y, z) = p(z)p(x|z)p(y|x, z)$$\n",
        "$$\\widehat{\\mathsf{P}}(Z = 1) = \\frac{263+80}{263+80+87+270}$$\n",
        "$$\\widehat{\\mathsf{P}}(X=1\\ |\\ Z = 0) = \\frac{270}{87+270}$$\n",
        "$$\\widehat{\\mathsf{P}}(X=1\\ |\\ Z = 1) = \\frac{80}{263+80}$$\n",
        "$$\\widehat{\\mathsf{P}}(Y=1\\ |\\ X=0, Z = 0) = \\frac{81}{87}$$\n",
        "$$\\widehat{\\mathsf{P}}(Y=1\\ |\\ X=1, Z = 0) = \\frac{234}{270}$$\n",
        "$$\\widehat{\\mathsf{P}}(Y=1\\ |\\ X=0, Z = 1) = \\frac{192}{263}$$\n",
        "$$\\widehat{\\mathsf{P}}(Y=1\\ |\\ X=1, Z = 1) = \\frac{55}{80}$$\n",
        "\n",
        "\n",
        "**Второй случай**\n",
        "\n",
        "Кровяное давление пациентов измерялось в конце испытания. При этом известно, что лекарство может оказывать эффект на кровяное давление, которое в свою очередь может оказывать эффект на выздоровление.\n",
        "$$p(x, y, z) = p(x)p(z|x)p(y|x, z)$$\n",
        "$$\\widehat{\\mathsf{P}}(X = 1) = \\frac{270+80}{263+80+87+270}$$\n",
        "$$\\widehat{\\mathsf{P}}(Z=1\\ |\\ X = 0) = \\frac{270}{270+80}$$\n",
        "$$\\widehat{\\mathsf{P}}(Z=1\\ |\\ X = 1) = \\frac{80}{270+80}$$\n",
        "$$\\widehat{\\mathsf{P}}(Y=1\\ |\\ X=0, Z = 0) = \\frac{81}{87}$$\n",
        "$$\\widehat{\\mathsf{P}}(Y=1\\ |\\ X=1, Z = 0) = \\frac{234}{270}$$\n",
        "$$\\widehat{\\mathsf{P}}(Y=1\\ |\\ X=0, Z = 1) = \\frac{192}{263}$$\n",
        "$$\\widehat{\\mathsf{P}}(Y=1\\ |\\ X=1, Z = 1) = \\frac{55}{80}$$"
      ]
    },
    {
      "cell_type": "code",
      "execution_count": 3,
      "metadata": {
        "id": "5u8HaTR6Pqox"
      },
      "outputs": [
        {
          "data": {
            "image/png": "[encoded data removed]",
            "text/plain": [
              "<Figure size 1200x500 with 2 Axes>"
            ]
          },
          "metadata": {},
          "output_type": "display_data"
        }
      ],
      "source": [
        "plt.figure(figsize=(12, 5))\n",
        "# X- лечение, Y - результат, Z - давление\n",
        "causal_graphs = [\n",
        "    nx.DiGraph([('Z','X'),('X','Y'),('Z','Y')]), # давление влияло на лечение, лечение и давление влияют на выздоровление\n",
        "    nx.DiGraph([('X','Z'),('X','Y'),('Z','Y')]), # лечение влияло на давление и выздоровление, давление также влияет на выздоровление\n",
        "]\n",
        "\n",
        "for i, graphs in enumerate(causal_graphs):\n",
        "    plt.subplot(1, 2, i+1)\n",
        "    draw_graph(graphs, options)\n",
        "    plt.title(f'{i+1}-й случай')\n",
        "\n",
        "plt.show()"
      ]
    },
    {
      "cell_type": "markdown",
      "metadata": {
        "id": "9OUJQKVAzaFl"
      },
      "source": [
        "Создадим датасет."
      ]
    },
    {
      "cell_type": "code",
      "execution_count": 4,
      "metadata": {
        "id": "TTJSlJBgPqoy"
      },
      "outputs": [
        {
          "data": {
            "text/html": [
              "<div>\n",
              "<style scoped>\n",
              "    .dataframe tbody tr th:only-of-type {\n",
              "        vertical-align: middle;\n",
              "    }\n",
              "\n",
              "    .dataframe tbody tr th {\n",
              "        vertical-align: top;\n",
              "    }\n",
              "\n",
              "    .dataframe thead th {\n",
              "        text-align: right;\n",
              "    }\n",
              "</style>\n",
              "<table border=\"1\" class=\"dataframe\">\n",
              "  <thead>\n",
              "    <tr style=\"text-align: right;\">\n",
              "      <th></th>\n",
              "      <th>treatment</th>\n",
              "      <th>blood_pressure</th>\n",
              "      <th>result</th>\n",
              "    </tr>\n",
              "    <tr>\n",
              "      <th>patient</th>\n",
              "      <th></th>\n",
              "      <th></th>\n",
              "      <th></th>\n",
              "    </tr>\n",
              "  </thead>\n",
              "  <tbody>\n",
              "    <tr>\n",
              "      <th>0</th>\n",
              "      <td>0</td>\n",
              "      <td>0</td>\n",
              "      <td>1</td>\n",
              "    </tr>\n",
              "    <tr>\n",
              "      <th>1</th>\n",
              "      <td>0</td>\n",
              "      <td>0</td>\n",
              "      <td>1</td>\n",
              "    </tr>\n",
              "    <tr>\n",
              "      <th>2</th>\n",
              "      <td>0</td>\n",
              "      <td>0</td>\n",
              "      <td>1</td>\n",
              "    </tr>\n",
              "    <tr>\n",
              "      <th>3</th>\n",
              "      <td>0</td>\n",
              "      <td>0</td>\n",
              "      <td>1</td>\n",
              "    </tr>\n",
              "    <tr>\n",
              "      <th>4</th>\n",
              "      <td>0</td>\n",
              "      <td>0</td>\n",
              "      <td>1</td>\n",
              "    </tr>\n",
              "    <tr>\n",
              "      <th>...</th>\n",
              "      <td>...</td>\n",
              "      <td>...</td>\n",
              "      <td>...</td>\n",
              "    </tr>\n",
              "    <tr>\n",
              "      <th>695</th>\n",
              "      <td>1</td>\n",
              "      <td>1</td>\n",
              "      <td>0</td>\n",
              "    </tr>\n",
              "    <tr>\n",
              "      <th>696</th>\n",
              "      <td>1</td>\n",
              "      <td>1</td>\n",
              "      <td>0</td>\n",
              "    </tr>\n",
              "    <tr>\n",
              "      <th>697</th>\n",
              "      <td>1</td>\n",
              "      <td>1</td>\n",
              "      <td>0</td>\n",
              "    </tr>\n",
              "    <tr>\n",
              "      <th>698</th>\n",
              "      <td>1</td>\n",
              "      <td>1</td>\n",
              "      <td>0</td>\n",
              "    </tr>\n",
              "    <tr>\n",
              "      <th>699</th>\n",
              "      <td>1</td>\n",
              "      <td>1</td>\n",
              "      <td>0</td>\n",
              "    </tr>\n",
              "  </tbody>\n",
              "</table>\n",
              "<p>700 rows × 3 columns</p>\n",
              "</div>"
            ],
            "text/plain": [
              "         treatment  blood_pressure  result\n",
              "patient                                   \n",
              "0                0               0       1\n",
              "1                0               0       1\n",
              "2                0               0       1\n",
              "3                0               0       1\n",
              "4                0               0       1\n",
              "...            ...             ...     ...\n",
              "695              1               1       0\n",
              "696              1               1       0\n",
              "697              1               1       0\n",
              "698              1               1       0\n",
              "699              1               1       0\n",
              "\n",
              "[700 rows x 3 columns]"
            ]
          },
          "execution_count": 4,
          "metadata": {},
          "output_type": "execute_result"
        }
      ],
      "source": [
        "data = pd.DataFrame()\n",
        "data['treatment'] = [0]*(87+263) + [1]*(270+80)\n",
        "data['blood_pressure'] = [0]*87 + [1]*263 + [0]*270 + [1]*80\n",
        "data['result'] = [1]*81 + [0]*(87-81) + [1]*192 + [0]*(263-192) \\\n",
        "                + [1]*234 + [0]*(270-234) + [1]*55 + [0]*(80-55)\n",
        "data.index.name = 'patient'\n",
        "\n",
        "data"
      ]
    },
    {
      "cell_type": "markdown",
      "metadata": {
        "id": "fej87KFjzL5p"
      },
      "source": [
        "\n",
        "| Количество успешных        | Принимали плацебо X=0 | Принимали лекарство X=1 |\n",
        "| :------------- |-------------:| -----:|\n",
        "| Низкое давление Z=0      | 81 из 87 | 234 из 270 |\n",
        "| Высокое давление Z=1    | 192 из 263      |   55 из 80 |\n",
        "\n",
        "\n"
      ]
    },
    {
      "cell_type": "markdown",
      "metadata": {
        "id": "w2bZtEKIZgwg"
      },
      "source": [
        "Постройте графы обоих вариантов в случае интервенции."
      ]
    },
    {
      "cell_type": "code",
      "execution_count": 5,
      "metadata": {
        "id": "ds2JTEdCPqoz"
      },
      "outputs": [
        {
          "data": {
            "image/png": "[encoded data removed]",
            "text/plain": [
              "<Figure size 1200x500 with 2 Axes>"
            ]
          },
          "metadata": {},
          "output_type": "display_data"
        }
      ],
      "source": [
        "plt.figure(figsize=(12, 5))\n",
        "\n",
        "causal_graphs = [\n",
        "    nx.DiGraph([('Z','X'),('X','Y'),('Z','Y')]),\n",
        "    nx.DiGraph([('Z','X'),('X','Y'),('Z','Y')]),\n",
        "]\n",
        "\n",
        "for i, graphs in enumerate(causal_graphs):\n",
        "    plt.subplot(1, 2, i+1)\n",
        "    draw_graph(graphs, options)\n",
        "    plt.title(f'{i+1}-й случай')\n",
        "\n",
        "plt.show()"
      ]
    },
    {
      "cell_type": "markdown",
      "metadata": {
        "id": "FXn6g-SEPqoz"
      },
      "source": [
        "**2.** Поэкспериментируем с библиотекой DoWhy."
      ]
    },
    {
      "cell_type": "markdown",
      "metadata": {
        "id": "Cyl5URrpPqoz"
      },
      "source": [
        "Задайте граф причинно-следственных связей(задайте правильно названия вершин графа) и постройте по нему модель `StructuralCausalModel` с автоматическим определением механизма причинно-следственных связей. Обучите полученную модель."
      ]
    },
    {
      "cell_type": "markdown",
      "metadata": {
        "id": "f9D5gp8-dDrF"
      },
      "source": [
        "**Первый случай.**"
      ]
    },
    {
      "cell_type": "code",
      "execution_count": 6,
      "metadata": {},
      "outputs": [
        {
          "data": {
            "text/html": [
              "<div>\n",
              "<style scoped>\n",
              "    .dataframe tbody tr th:only-of-type {\n",
              "        vertical-align: middle;\n",
              "    }\n",
              "\n",
              "    .dataframe tbody tr th {\n",
              "        vertical-align: top;\n",
              "    }\n",
              "\n",
              "    .dataframe thead th {\n",
              "        text-align: right;\n",
              "    }\n",
              "</style>\n",
              "<table border=\"1\" class=\"dataframe\">\n",
              "  <thead>\n",
              "    <tr style=\"text-align: right;\">\n",
              "      <th></th>\n",
              "      <th>treatment</th>\n",
              "      <th>blood_pressure</th>\n",
              "      <th>result</th>\n",
              "    </tr>\n",
              "    <tr>\n",
              "      <th>patient</th>\n",
              "      <th></th>\n",
              "      <th></th>\n",
              "      <th></th>\n",
              "    </tr>\n",
              "  </thead>\n",
              "  <tbody>\n",
              "    <tr>\n",
              "      <th>0</th>\n",
              "      <td>0</td>\n",
              "      <td>0</td>\n",
              "      <td>1</td>\n",
              "    </tr>\n",
              "    <tr>\n",
              "      <th>1</th>\n",
              "      <td>0</td>\n",
              "      <td>0</td>\n",
              "      <td>1</td>\n",
              "    </tr>\n",
              "  </tbody>\n",
              "</table>\n",
              "</div>"
            ],
            "text/plain": [
              "         treatment  blood_pressure  result\n",
              "patient                                   \n",
              "0                0               0       1\n",
              "1                0               0       1"
            ]
          },
          "execution_count": 6,
          "metadata": {},
          "output_type": "execute_result"
        }
      ],
      "source": [
        "data.head(2)"
      ]
    },
    {
      "cell_type": "code",
      "execution_count": 7,
      "metadata": {
        "id": "lHzCR7MFPqo0"
      },
      "outputs": [],
      "source": [
        "causal_graph = nx.DiGraph([('blood_pressure','treatment'),('treatment','result'),('blood_pressure','result')])"
      ]
    },
    {
      "cell_type": "code",
      "execution_count": 8,
      "metadata": {
        "id": "e8TLlXT_eA1S"
      },
      "outputs": [],
      "source": [
        "from dowhy import gcm\n",
        "causal_model = gcm.StructuralCausalModel(causal_graph)"
      ]
    },
    {
      "cell_type": "code",
      "execution_count": 9,
      "metadata": {},
      "outputs": [
        {
          "name": "stderr",
          "output_type": "stream",
          "text": [
            "Fitting causal mechanism of node result: 100%|██████████| 3/3 [00:00<00:00, 12.25it/s]   \n"
          ]
        }
      ],
      "source": [
        "gcm.auto.assign_causal_mechanisms(causal_model, data)\n",
        "\n",
        "gcm.fit(causal_model, data)"
      ]
    },
    {
      "cell_type": "markdown",
      "metadata": {
        "id": "b6BYGNv-Pqo0"
      },
      "source": [
        "Выясните, какие зависимости подобрались и напечатайте параметры этих моделей."
      ]
    },
    {
      "cell_type": "code",
      "execution_count": 10,
      "metadata": {
        "id": "V29xuSBXPqo0"
      },
      "outputs": [
        {
          "data": {
            "text/plain": [
              "(<dowhy.gcm.causal_mechanisms.DiscreteAdditiveNoiseModel at 0x1dbf220bd90>,\n",
              " <dowhy.gcm.causal_mechanisms.DiscreteAdditiveNoiseModel at 0x1dbf21d6210>,\n",
              " <dowhy.gcm.stochastic_models.EmpiricalDistribution at 0x1dbee5f4a90>)"
            ]
          },
          "execution_count": 10,
          "metadata": {},
          "output_type": "execute_result"
        }
      ],
      "source": [
        "model_X = causal_model.causal_mechanism('treatment')\n",
        "model_Y = causal_model.causal_mechanism('result')\n",
        "model_Z = causal_model.causal_mechanism('blood_pressure')\n",
        "\n",
        "model_X, model_Y, model_Z"
      ]
    },
    {
      "cell_type": "code",
      "execution_count": 11,
      "metadata": {
        "id": "Qc5JmFgEPqo0",
        "scrolled": true
      },
      "outputs": [
        {
          "data": {
            "text/plain": [
              "(array([-0.1903959 , -0.05383557]), 0.923068918671536)"
            ]
          },
          "execution_count": 11,
          "metadata": {},
          "output_type": "execute_result"
        }
      ],
      "source": [
        "sklearn_model = model_Y.prediction_model.sklearn_model\n",
        "sklearn_model.coef_, sklearn_model.intercept_"
      ]
    },
    {
      "cell_type": "code",
      "execution_count": 12,
      "metadata": {
        "id": "5x5OIreqPqo0"
      },
      "outputs": [
        {
          "data": {
            "text/html": [
              "<style>#sk-container-id-1 {color: black;}#sk-container-id-1 pre{padding: 0;}#sk-container-id-1 div.sk-toggleable {background-color: white;}#sk-container-id-1 label.sk-toggleable__label {cursor: pointer;display: block;width: 100%;margin-bottom: 0;padding: 0.3em;box-sizing: border-box;text-align: center;}#sk-container-id-1 label.sk-toggleable__label-arrow:before {content: \"▸\";float: left;margin-right: 0.25em;color: #696969;}#sk-container-id-1 label.sk-toggleable__label-arrow:hover:before {color: black;}#sk-container-id-1 div.sk-estimator:hover label.sk-toggleable__label-arrow:before {color: black;}#sk-container-id-1 div.sk-toggleable__content {max-height: 0;max-width: 0;overflow: hidden;text-align: left;background-color: #f0f8ff;}#sk-container-id-1 div.sk-toggleable__content pre {margin: 0.2em;color: black;border-radius: 0.25em;background-color: #f0f8ff;}#sk-container-id-1 input.sk-toggleable__control:checked~div.sk-toggleable__content {max-height: 200px;max-width: 100%;overflow: auto;}#sk-container-id-1 input.sk-toggleable__control:checked~label.sk-toggleable__label-arrow:before {content: \"▾\";}#sk-container-id-1 div.sk-estimator input.sk-toggleable__control:checked~label.sk-toggleable__label {background-color: #d4ebff;}#sk-container-id-1 div.sk-label input.sk-toggleable__control:checked~label.sk-toggleable__label {background-color: #d4ebff;}#sk-container-id-1 input.sk-hidden--visually {border: 0;clip: rect(1px 1px 1px 1px);clip: rect(1px, 1px, 1px, 1px);height: 1px;margin: -1px;overflow: hidden;padding: 0;position: absolute;width: 1px;}#sk-container-id-1 div.sk-estimator {font-family: monospace;background-color: #f0f8ff;border: 1px dotted black;border-radius: 0.25em;box-sizing: border-box;margin-bottom: 0.5em;}#sk-container-id-1 div.sk-estimator:hover {background-color: #d4ebff;}#sk-container-id-1 div.sk-parallel-item::after {content: \"\";width: 100%;border-bottom: 1px solid gray;flex-grow: 1;}#sk-container-id-1 div.sk-label:hover label.sk-toggleable__label {background-color: #d4ebff;}#sk-container-id-1 div.sk-serial::before {content: \"\";position: absolute;border-left: 1px solid gray;box-sizing: border-box;top: 0;bottom: 0;left: 50%;z-index: 0;}#sk-container-id-1 div.sk-serial {display: flex;flex-direction: column;align-items: center;background-color: white;padding-right: 0.2em;padding-left: 0.2em;position: relative;}#sk-container-id-1 div.sk-item {position: relative;z-index: 1;}#sk-container-id-1 div.sk-parallel {display: flex;align-items: stretch;justify-content: center;background-color: white;position: relative;}#sk-container-id-1 div.sk-item::before, #sk-container-id-1 div.sk-parallel-item::before {content: \"\";position: absolute;border-left: 1px solid gray;box-sizing: border-box;top: 0;bottom: 0;left: 50%;z-index: -1;}#sk-container-id-1 div.sk-parallel-item {display: flex;flex-direction: column;z-index: 1;position: relative;background-color: white;}#sk-container-id-1 div.sk-parallel-item:first-child::after {align-self: flex-end;width: 50%;}#sk-container-id-1 div.sk-parallel-item:last-child::after {align-self: flex-start;width: 50%;}#sk-container-id-1 div.sk-parallel-item:only-child::after {width: 0;}#sk-container-id-1 div.sk-dashed-wrapped {border: 1px dashed gray;margin: 0 0.4em 0.5em 0.4em;box-sizing: border-box;padding-bottom: 0.4em;background-color: white;}#sk-container-id-1 div.sk-label label {font-family: monospace;font-weight: bold;display: inline-block;line-height: 1.2em;}#sk-container-id-1 div.sk-label-container {text-align: center;}#sk-container-id-1 div.sk-container {/* jupyter's `normalize.less` sets `[hidden] { display: none; }` but bootstrap.min.css set `[hidden] { display: none !important; }` so we also need the `!important` here to be able to override the default hidden behavior on the sphinx rendered scikit-learn.org. See: https://github.com/scikit-learn/scikit-learn/issues/21755 */display: inline-block !important;position: relative;}#sk-container-id-1 div.sk-text-repr-fallback {display: none;}</style><div id=\"sk-container-id-1\" class=\"sk-top-container\"><div class=\"sk-text-repr-fallback\"><pre>HistGradientBoostingRegressor()</pre><b>In a Jupyter environment, please rerun this cell to show the HTML representation or trust the notebook. <br />On GitHub, the HTML representation is unable to render, please try loading this page with nbviewer.org.</b></div><div class=\"sk-container\" hidden><div class=\"sk-item\"><div class=\"sk-estimator sk-toggleable\"><input class=\"sk-toggleable__control sk-hidden--visually\" id=\"sk-estimator-id-1\" type=\"checkbox\" checked><label for=\"sk-estimator-id-1\" class=\"sk-toggleable__label sk-toggleable__label-arrow\">HistGradientBoostingRegressor</label><div class=\"sk-toggleable__content\"><pre>HistGradientBoostingRegressor()</pre></div></div></div></div></div>"
            ],
            "text/plain": [
              "HistGradientBoostingRegressor()"
            ]
          },
          "execution_count": 12,
          "metadata": {},
          "output_type": "execute_result"
        }
      ],
      "source": [
        "sklearn_model = model_X.prediction_model.sklearn_model\n",
        "sklearn_model"
      ]
    },
    {
      "cell_type": "markdown",
      "metadata": {
        "id": "SBdo5QW_Pqo0"
      },
      "source": [
        "Как видим, были использованы модели с аддитивным шумом, в то время как наши данные дискретны.\n",
        "\n",
        "Поменяем тип данных на строковые"
      ]
    },
    {
      "cell_type": "code",
      "execution_count": 13,
      "metadata": {
        "id": "0d5HPHODPqo0"
      },
      "outputs": [],
      "source": [
        "data = data.astype(str)"
      ]
    },
    {
      "cell_type": "markdown",
      "metadata": {
        "id": "y7z-wG6IPqo0"
      },
      "source": [
        "Задайте модели наследования вручную. Если у вершины нет предков, то используйте эмпирическое распределение, иначе &mdash; классификатор `gcm.ClassifierFCM()`. Обучите полученную causal модель."
      ]
    },
    {
      "cell_type": "code",
      "execution_count": 14,
      "metadata": {
        "id": "QXh75DWdPqo1"
      },
      "outputs": [
        {
          "name": "stderr",
          "output_type": "stream",
          "text": [
            "Fitting causal mechanism of node result: 100%|██████████| 3/3 [00:00<00:00, 27.85it/s]\n"
          ]
        }
      ],
      "source": [
        "from dowhy import gcm\n",
        "causal_model = gcm.StructuralCausalModel(causal_graph)\n",
        "\n",
        "causal_model.set_causal_mechanism('blood_pressure', gcm.EmpiricalDistribution())\n",
        "causal_model.set_causal_mechanism('treatment', gcm.ClassifierFCM())\n",
        "causal_model.set_causal_mechanism('result', gcm.ClassifierFCM())\n",
        "\n",
        "gcm.fit(causal_model,data)"
      ]
    },
    {
      "cell_type": "markdown",
      "metadata": {
        "id": "ykWtkNxNPqo1"
      },
      "source": [
        "Наконец, посчитайте оценку ATE с помощью интервенции в построенной модели. Не забудьте, что в качестве значения интервенции нужно указать строку, а полученные семплы перевести обратно в числа перед усреднением."
      ]
    },
    {
      "cell_type": "code",
      "execution_count": 15,
      "metadata": {
        "id": "WoYGuW5VPqo1"
      },
      "outputs": [
        {
          "data": {
            "text/plain": [
              "-587"
            ]
          },
          "execution_count": 15,
          "metadata": {},
          "output_type": "execute_result"
        }
      ],
      "source": [
        "num_samples_to_draw = 10_000\n",
        "interventional_mean = []\n",
        "\n",
        "for i in range(2):\n",
        "    samples = gcm.interventional_samples(\n",
        "        causal_model,\n",
        "        {'treatment': lambda y: str(i) },  # условие интервенции\n",
        "        num_samples_to_draw=num_samples_to_draw  # количество семплирований\n",
        "    )\n",
        "    interventional_mean.append(samples)\n",
        "\n",
        "\n",
        "ATE = interventional_mean[1]['result'].astype(int).sum() - interventional_mean[0]['result'].astype(int).sum()\n",
        "ATE"
      ]
    },
    {
      "cell_type": "code",
      "execution_count": 20,
      "metadata": {},
      "outputs": [],
      "source": [
        "ATE / 2"
      ]
    },
    {
      "cell_type": "markdown",
      "metadata": {
        "id": "NxsVoZEa0t0Z"
      },
      "source": [
        "**Второй случай.**\n",
        "\n",
        "Задайте модель по аналогии с первым случаем и обучите её."
      ]
    },
    {
      "cell_type": "code",
      "execution_count": 16,
      "metadata": {
        "id": "5UHFhS6kPqo1",
        "scrolled": true
      },
      "outputs": [],
      "source": [
        "causal_graph = nx.DiGraph([\n",
        "    ('treatment','result',),\n",
        "    ('treatment','blood_pressure'),\n",
        "    ('blood_pressure','result')\n",
        "])\n",
        "\n",
        "\n",
        "causal_model = gcm.StructuralCausalModel(causal_graph)\n",
        "\n",
        "\n",
        "causal_model.set_causal_mechanism('blood_pressure', gcm.EmpiricalDistribution())\n",
        "causal_model.set_causal_mechanism('treatment', gcm.ClassifierFCM())\n",
        "causal_model.set_causal_mechanism('result', gcm.ClassifierFCM())\n"
      ]
    },
    {
      "cell_type": "code",
      "execution_count": 17,
      "metadata": {
        "id": "zlr0XQoLPqo1"
      },
      "outputs": [
        {
          "ename": "SyntaxError",
          "evalue": "invalid syntax (3657101525.py, line 10)",
          "output_type": "error",
          "traceback": [
            "\u001b[1;36m  Cell \u001b[1;32mIn[17], line 10\u001b[1;36m\u001b[0m\n\u001b[1;33m    interventional_mean.append(<...>)\u001b[0m\n\u001b[1;37m                               ^\u001b[0m\n\u001b[1;31mSyntaxError\u001b[0m\u001b[1;31m:\u001b[0m invalid syntax\n"
          ]
        }
      ],
      "source": [
        "num_samples_to_draw = 1_000_000\n",
        "interventional_mean = []\n",
        "\n",
        "for i in range(2):\n",
        "    samples = gcm.interventional_samples(\n",
        "        causal_model,\n",
        "        {'treatment': lambda y: str(i) },  # условие интервенции\n",
        "        num_samples_to_draw=num_samples_to_draw  # количество семплирований\n",
        "    )\n",
        "    interventional_mean.append(<...>)\n",
        "\n",
        "ATE = <...>"
      ]
    },
    {
      "cell_type": "markdown",
      "metadata": {
        "id": "XE5unajqPqo1"
      },
      "source": [
        "**Вывод:**"
      ]
    },
    {
      "cell_type": "markdown",
      "metadata": {
        "id": "ceLUPYrzPbAX"
      },
      "source": [
        "# Propensity score и работа с ним в библиотеке DoWhy"
      ]
    },
    {
      "cell_type": "markdown",
      "metadata": {
        "id": "9d4ccab2"
      },
      "source": [
        "## Задача 2. Пайплайн оценки\n",
        "\n",
        "\n",
        "Для оценки эффекта библиотека DoWhy предоставляет четырехступенчатый интерфейс причинно-следственного вывода:\n",
        "1. Определение модели для причинно-следственной задачи\n",
        "2. Определение оценщика в рамках модели\n",
        "3. Оценка причинно-следственной связи по выбранному оценщику\n",
        "4. Тестирование полученной оценки\n"
      ]
    },
    {
      "cell_type": "markdown",
      "metadata": {
        "id": "2afcbc78"
      },
      "source": [
        "### 2.1. Определение модели\n",
        "\n",
        "```\n",
        "CausalModel(\n",
        "    data,\n",
        "    treatment,\n",
        "    outcome,\n",
        "    graph=None,\n",
        "    common_causes=None,\n",
        "    instruments=None,\n",
        "    effect_modifiers=None,\n",
        "    estimand_type='nonparametric-ate',\n",
        "    proceed_when_unidentifiable=False,\n",
        "    missing_nodes_as_confounders=False,\n",
        "    identify_vars=False,\n",
        "    **kwargs,\n",
        ")\n",
        "```\n",
        "\n",
        "**Стандартный способ**\n",
        "\n",
        "Определение причинно-следственной модели на основе данных и заданного графа. Этот граф не обязательно должен быть полным — можно предоставить частичный граф с предварительными знаниями о некоторых признаках. Тогда DoWhy автоматически рассматривает остальные признаким как потенциальные конфаундеры.\n",
        "\n",
        "Используйте граф случая, где `blood_pressure` является конфаундером."
      ]
    },
    {
      "cell_type": "code",
      "execution_count": null,
      "metadata": {
        "id": "5da9f13f"
      },
      "outputs": [],
      "source": [
        "model = CausalModel(\n",
        "    data=data,\n",
        "    treatment=\"treatment\",\n",
        "    outcome=\"result\",\n",
        "    graph=causal_graph\n",
        ")\n",
        "\n",
        "model.view_model(file_name=\"causal_model\", size=(6, 4))\n",
        "display(Image(filename=\"causal_model.png\"))"
      ]
    },
    {
      "cell_type": "markdown",
      "metadata": {
        "id": "81b31675"
      },
      "source": [
        "**Другой способ**\n",
        "\n",
        "Указание ковариат и инструментов в случае наличия."
      ]
    },
    {
      "cell_type": "code",
      "execution_count": null,
      "metadata": {
        "id": "4dfbe17b"
      },
      "outputs": [],
      "source": [
        "model_2 = CausalModel(\n",
        "    data=data,\n",
        "    treatment=\"treatment\",\n",
        "    outcome=\"result\",\n",
        "    common_causes=\"blood_pressure\"\n",
        ")\n",
        "\n",
        "model_2.view_model(file_name=\"causal_model\", size=(6, 4))\n",
        "display(Image(filename=\"causal_model.png\"))"
      ]
    },
    {
      "cell_type": "markdown",
      "metadata": {
        "id": "c1226c8c"
      },
      "source": [
        "### 2.2. Определение оценщика в рамках модели\n",
        "\n",
        "Основываясь на причинно-следственном графе, DoWhy находит все возможные способы идентификации желаемого причинно-следственного эффекта на основе графа. Используются критерии на графах и do-исчисление, для поиска всех возможных моделей, которые могут оценить причинно-следственную связь в данном случае."
      ]
    },
    {
      "cell_type": "code",
      "execution_count": null,
      "metadata": {
        "id": "aea8b5e1"
      },
      "outputs": [],
      "source": [
        "identified_estimand = model_2.identify_effect()\n",
        "print(identified_estimand)"
      ]
    },
    {
      "cell_type": "markdown",
      "metadata": {
        "id": "3f39c506"
      },
      "source": [
        "### 2.3. Оценка причинно-следственной связи\n",
        "\n",
        "```\n",
        "model.estimate_effect(\n",
        "    identified_estimand,\n",
        "    method_name=None,\n",
        "    control_value=0,\n",
        "    treatment_value=1,\n",
        "    test_significance=None,\n",
        "    evaluate_effect_strength=False,\n",
        "    confidence_intervals=False,\n",
        "    target_units='ate',\n",
        "    effect_modifiers=None,\n",
        "    fit_estimator=True,\n",
        "    method_params=None,\n",
        ")\n",
        "\n",
        "```\n",
        "\n",
        "\n",
        "Поддерживаются следущие методы\n",
        "* Propensity Score Matching: \"`backdoor.propensity_score_matching`\"\n",
        "* Propensity Score Stratification: \"`backdoor.propensity_score_stratification`\" &mdash; использование оценок propensity score для определения бинов, по котором выполняется стратификация\n",
        "* Propensity Score-based Inverse Weighting: \"`backdoor.propensity_score_weighting`\"\n",
        "* Linear Regression: \"`backdoor.linear_regression`\"\n",
        "* Generalized Linear Models (e.g., logistic regression): \"`backdoor.generalized_linear_model`\"\n",
        "* Instrumental Variables: \"`iv.instrumental_variable`\"\n",
        "* Regression Discontinuity: \"`iv.regression_discontinuity`\""
      ]
    },
    {
      "cell_type": "code",
      "execution_count": null,
      "metadata": {
        "id": "ba75b8fb"
      },
      "outputs": [],
      "source": [
        "estimate = model.estimate_effect(\n",
        "    identified_estimand,\n",
        "    method_name=\"backdoor.propensity_score_weighting\",\n",
        ")\n",
        "\n",
        "print(estimate)"
      ]
    },
    {
      "cell_type": "markdown",
      "metadata": {
        "id": "af8044c4"
      },
      "source": [
        "Можно извлечь саму оценку причинно-следственного эффекта"
      ]
    },
    {
      "cell_type": "code",
      "execution_count": null,
      "metadata": {
        "id": "fe7fcf72",
        "outputId": "5e85a291-0986-4d99-dfa5-3fa59171b592"
      },
      "outputs": [
        {
          "data": {
            "image/png": "[encoded data removed]",
            "text/latex": [
              "$\\displaystyle 10.7444499624423$"
            ],
            "text/plain": [
              "10.744449962442255"
            ]
          },
          "execution_count": 16,
          "metadata": {},
          "output_type": "execute_result"
        }
      ],
      "source": [
        "estimate.value"
      ]
    },
    {
      "cell_type": "markdown",
      "metadata": {
        "id": "2e65ab6c"
      },
      "source": [
        "Также можно отдельно построить для нее доверительный интервал\n",
        "\n",
        "```\n",
        "estimate.get_confidence_intervals(\n",
        "    confidence_level=None,\n",
        "    method=None,\n",
        "    **kwargs,\n",
        ")\n",
        "```\n",
        "\n",
        "По умолчанию используется формула построения доверительного интервала для конкретного метода. Можно также использовать бутстреп, указав `method='bootstrap'`. Для некоторых методов интервал можно построить только бустрепом, например, для Propensity Score Stratification."
      ]
    },
    {
      "cell_type": "code",
      "execution_count": null,
      "metadata": {
        "id": "deabf50c"
      },
      "outputs": [],
      "source": [
        "%%time\n",
        "estimate.get_confidence_intervals()"
      ]
    },
    {
      "cell_type": "markdown",
      "metadata": {
        "id": "49c5117c"
      },
      "source": [
        "И проверить стат. значимость отличия от нуля, получив p-value. Здесь также можно использовать бутстреп"
      ]
    },
    {
      "cell_type": "code",
      "execution_count": null,
      "metadata": {
        "id": "d15cd431"
      },
      "outputs": [],
      "source": [
        "%%time\n",
        "estimate.test_stat_significance()"
      ]
    },
    {
      "cell_type": "markdown",
      "metadata": {
        "id": "dd60b8b4"
      },
      "source": [
        "Также можно извлечь оценку стандартного отклонения"
      ]
    },
    {
      "cell_type": "code",
      "execution_count": null,
      "metadata": {
        "id": "691a0ceb",
        "outputId": "70c47f99-f6a7-4768-991d-a8484586a111"
      },
      "outputs": [
        {
          "data": {
            "image/png": "[encoded data removed]",
            "text/latex": [
              "$\\displaystyle 0.470186738082104$"
            ],
            "text/plain": [
              "0.4701867380821037"
            ]
          },
          "execution_count": 19,
          "metadata": {},
          "output_type": "execute_result"
        }
      ],
      "source": [
        "estimate.get_standard_error()"
      ]
    },
    {
      "cell_type": "markdown",
      "metadata": {
        "id": "c4854182"
      },
      "source": [
        "Оценка произведена с помощью следующей формулы"
      ]
    },
    {
      "cell_type": "code",
      "execution_count": null,
      "metadata": {
        "id": "2ae9ad99"
      },
      "outputs": [],
      "source": [
        "estimate.realized_estimand_expr"
      ]
    },
    {
      "cell_type": "markdown",
      "metadata": {
        "id": "29c40628"
      },
      "source": [
        "Также можно посмотреть на то, какие признаки использованы"
      ]
    },
    {
      "cell_type": "code",
      "execution_count": null,
      "metadata": {
        "id": "fd470f25"
      },
      "outputs": [],
      "source": [
        "estimate.target_estimand.treatment_variable"
      ]
    },
    {
      "cell_type": "markdown",
      "metadata": {
        "id": "4a6ec527"
      },
      "source": [
        "### 2.4. Тестирование полученной оценки\n",
        "\n",
        "```\n",
        "model.refute_estimate(\n",
        "    estimand,\n",
        "    estimate,\n",
        "    method_name=None,\n",
        "    show_progress_bar=False,\n",
        "    **kwargs,\n",
        ")\n",
        "```\n",
        "\n",
        "Одно из основных преимущество DoWhy &mdash; несколько методов проверки устойчивости моделей.\n",
        "\n",
        "Поддерживаемые методы опровержения\n",
        "* **Добавить рандомный конфаундер:** Изменяет ли метод свою оценку добавления конфаундера-рандом в набор данных?\n",
        "    * *так не должно быть*\n",
        "\n",
        "* **Тритмент:** Что происходит с предполагаемым причинно-следственным эффектом, если мы тритмент заменим на рандом?\n",
        "    * *эффект должен быть равен нулю*\n",
        "\n",
        "* **Фиктивный результат:** Что происходит с предполагаемым причинно-следственным эффектом, при замене таргета на рандом?\n",
        "    * *эффект должен быть равен нулю*\n",
        "\n",
        "* **Моделирование:** Что происходит с предполагаемым причинно-следственным эффектом, при замене реального набора данных на искусственный, наиболее похожий по отношению к данному набору данных?\n",
        "    * *он должен соответствовать параметру effect из процесса генерации данных*\n",
        "\n",
        "* **Добавить ненаблюдаемый конфаундер:** Насколько чувствительна оценка эффекта при дополнительного конфаундера?\n",
        "    * *она не должен быть слишком чувствительным*\n",
        "\n",
        "* **Проверка подмножеств данных:** Существенно ли изменяется оцененный эффект при замене данных на случайно выбранное подмножество?\n",
        "    * *так не должно быть*\n",
        "\n",
        "* **Проверка бутстрепом:** Существенно ли меняется предполагаемый эффект при замене данных на бутстрепные рализации?\n",
        "    * *так не должно быть*\n"
      ]
    },
    {
      "cell_type": "code",
      "execution_count": null,
      "metadata": {
        "id": "f16b4993",
        "scrolled": true
      },
      "outputs": [],
      "source": [
        "refute_results = model.refute_estimate(\n",
        "    identified_estimand, estimate,\n",
        "    method_name=\"random_common_cause\",\n",
        "    show_progress_bar=True\n",
        ")\n",
        "\n",
        "print(refute_results)"
      ]
    },
    {
      "cell_type": "code",
      "execution_count": null,
      "metadata": {
        "id": "8e51a747"
      },
      "outputs": [],
      "source": [
        "refute_results = model.refute_estimate(\n",
        "    identified_estimand, estimate,\n",
        "    method_name=\"add_unobserved_common_cause\",\n",
        "    show_progress_bar=True\n",
        ")\n",
        "\n",
        "print(refute_results)"
      ]
    },
    {
      "cell_type": "code",
      "execution_count": null,
      "metadata": {
        "id": "1b6900b0"
      },
      "outputs": [],
      "source": [
        "refute_results = model.refute_estimate(\n",
        "    identified_estimand, estimate,\n",
        "    method_name=\"placebo_treatment_refuter\",\n",
        "    show_progress_bar=True\n",
        ")\n",
        "\n",
        "print(refute_results)"
      ]
    },
    {
      "cell_type": "code",
      "execution_count": null,
      "metadata": {
        "id": "3ce3b34b"
      },
      "outputs": [],
      "source": [
        "refute_results = model.refute_estimate(\n",
        "    identified_estimand, estimate,\n",
        "    method_name=\"data_subset_refuter\",\n",
        "    show_progress_bar=True\n",
        ")\n",
        "\n",
        "print(refute_results)"
      ]
    },
    {
      "cell_type": "markdown",
      "metadata": {
        "id": "jOmIAg3zMBqc"
      },
      "source": [
        "**Вывод:**"
      ]
    },
    {
      "cell_type": "code",
      "execution_count": null,
      "metadata": {
        "id": "IkPeV9w0MDlf"
      },
      "outputs": [],
      "source": []
    }
  ],
  "metadata": {
    "colab": {
      "provenance": []
    },
    "kernelspec": {
      "display_name": "Python 3",
      "name": "python3"
    },
    "language_info": {
      "codemirror_mode": {
        "name": "ipython",
        "version": 3
      },
      "file_extension": ".py",
      "mimetype": "text/x-python",
      "name": "python",
      "nbconvert_exporter": "python",
      "pygments_lexer": "ipython3",
      "version": "3.11.3"
    }
  },
  "nbformat": 4,
  "nbformat_minor": 0
}
