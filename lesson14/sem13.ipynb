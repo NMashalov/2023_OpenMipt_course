{
  "cells": [
    {
      "cell_type": "markdown",
      "metadata": {
        "id": "view-in-github",
        "colab_type": "text"
      },
      "source": [
        "<a href=\"https://colab.research.google.com/github/NMashalov/2023_OpenMipt_course/blob/main/lesson14/sem13.ipynb\" target=\"_parent\"><img src=\"https://colab.research.google.com/assets/colab-badge.svg\" alt=\"Open In Colab\"/></a>"
      ]
    },
    {
      "cell_type": "code",
      "execution_count": 1,
      "metadata": {
        "id": "oCsTAG2RYiRz",
        "outputId": "2dca98e3-96c0-46a7-925c-aabbbada7e8f",
        "colab": {
          "base_uri": "https://localhost:8080/"
        }
      },
      "outputs": [
        {
          "output_type": "stream",
          "name": "stdout",
          "text": [
            "\u001b[2K     \u001b[90m━━━━━━━━━━━━━━━━━━━━━━━━━━━━━━━━━━━━━━━━\u001b[0m \u001b[32m377.7/377.7 kB\u001b[0m \u001b[31m3.1 MB/s\u001b[0m eta \u001b[36m0:00:00\u001b[0m\n",
            "\u001b[2K     \u001b[90m━━━━━━━━━━━━━━━━━━━━━━━━━━━━━━━━━━━━━━━━\u001b[0m \u001b[32m174.4/174.4 kB\u001b[0m \u001b[31m14.6 MB/s\u001b[0m eta \u001b[36m0:00:00\u001b[0m\n",
            "\u001b[?25h"
          ]
        }
      ],
      "source": [
        "!pip install dowhy -q"
      ]
    },
    {
      "cell_type": "code",
      "execution_count": 2,
      "metadata": {
        "id": "QPLXBhgzTFhz"
      },
      "outputs": [],
      "source": [
        "import numpy as np\n",
        "import pandas as pd\n",
        "import matplotlib.pyplot as plt\n",
        "import seaborn as sns\n",
        "from tqdm.notebook import tqdm\n",
        "\n",
        "import networkx as nx\n",
        "from dowhy import gcm\n",
        "\n",
        "from dowhy import CausalModel\n",
        "import dowhy.datasets\n",
        "\n",
        "import networkx as nx\n",
        "from IPython.display import Image, display\n",
        "\n",
        "options = {\n",
        "    \"font_size\": 14,\n",
        "    \"node_size\": 1500,\n",
        "    \"node_color\": \"#99FF99\",\n",
        "    \"edge_color\": \"#9999FF\",\n",
        "    \"arrowsize\": 25,\n",
        "    \"width\": 3,\n",
        "}\n",
        "\n",
        "def draw_graph(graphs, options):\n",
        "    nx.draw_networkx(graphs, **options)\n",
        "    ax = plt.gca()\n",
        "    ax.margins(0.20)\n",
        "    plt.axis(\"off\")\n",
        "\n",
        "sns.set(style='whitegrid', palette='Set2')"
      ]
    },
    {
      "cell_type": "markdown",
      "metadata": {
        "id": "RboO7vUsPqow"
      },
      "source": [
        "---\n",
        "\n",
        "## Задача 1.\n",
        "\n",
        "При проведении испытания лекарства получены следующие данные. В каждом случае указано количество успешных случаев.\n",
        "\n",
        "\n",
        "| Количество успешных        | Принимали плацебо | Принимали лекарство  |\n",
        "| :------------- |-------------:| -----:|\n",
        "| Низкое давление      | 81 из 87 | 234 из 270 |\n",
        "| Высокое давление     | 192 из 263      |   55 из 80 |\n",
        "\n",
        "\n",
        "Требуется оценить эффект влияния лекарства на успех в двух следующих случаях.\n",
        "\n",
        "* Кровяное давление пациентов измерялось до начала испытания, после чего принималось решение о приеме лекарства.\n",
        "\n",
        "* Кровяное давление пациентов измерялось в конце испытания. При этом известно, что лекарство может оказывать эффект на кровяное давление, которое в свою очередь может оказывать эффект на выздоровление.\n",
        "\n",
        "Часть этой задачи мы уже разобрали на занятии. Сейчас давайте на ее примере разберемся досконально в разных тонкостях."
      ]
    },
    {
      "cell_type": "markdown",
      "metadata": {
        "id": "c822cD5jPqox"
      },
      "source": [
        "**1.** Нарисуйте граф причинно-следственных связей для каждого случая.\n",
        "\n",
        "---\n",
        "\n",
        "Обозначим\n",
        "* $X$ &mdash; лечение;\n",
        "* $Y$ &mdash; результат;\n",
        "* $Z$ &mdash; давление.\n"
      ]
    },
    {
      "cell_type": "markdown",
      "metadata": {
        "id": "jZfYE8_tPqox"
      },
      "source": [
        "**Первый случай**\n",
        "\n",
        "Кровяное давление пациентов измерялось до начала испытания, после чего принималось решение о приеме лекарства.\n",
        "$$p(x, y, z) = p(z)p(x|z)p(y|x, z)$$\n",
        "$$\\widehat{\\mathsf{P}}(Z = 1) = \\frac{263+80}{263+80+87+270}$$\n",
        "$$\\widehat{\\mathsf{P}}(X=1\\ |\\ Z = 0) = \\frac{270}{87+270}$$\n",
        "$$\\widehat{\\mathsf{P}}(X=1\\ |\\ Z = 1) = \\frac{80}{263+80}$$\n",
        "$$\\widehat{\\mathsf{P}}(Y=1\\ |\\ X=0, Z = 0) = \\frac{81}{87}$$\n",
        "$$\\widehat{\\mathsf{P}}(Y=1\\ |\\ X=1, Z = 0) = \\frac{234}{270}$$\n",
        "$$\\widehat{\\mathsf{P}}(Y=1\\ |\\ X=0, Z = 1) = \\frac{192}{263}$$\n",
        "$$\\widehat{\\mathsf{P}}(Y=1\\ |\\ X=1, Z = 1) = \\frac{55}{80}$$\n",
        "\n",
        "\n",
        "**Второй случай**\n",
        "\n",
        "Кровяное давление пациентов измерялось в конце испытания. При этом известно, что лекарство может оказывать эффект на кровяное давление, которое в свою очередь может оказывать эффект на выздоровление.\n",
        "$$p(x, y, z) = p(x)p(z|x)p(y|x, z)$$\n",
        "$$\\widehat{\\mathsf{P}}(X = 1) = \\frac{270+80}{263+80+87+270}$$\n",
        "$$\\widehat{\\mathsf{P}}(Z=1\\ |\\ X = 0) = \\frac{270}{270+80}$$\n",
        "$$\\widehat{\\mathsf{P}}(Z=1\\ |\\ X = 1) = \\frac{80}{270+80}$$\n",
        "$$\\widehat{\\mathsf{P}}(Y=1\\ |\\ X=0, Z = 0) = \\frac{81}{87}$$\n",
        "$$\\widehat{\\mathsf{P}}(Y=1\\ |\\ X=1, Z = 0) = \\frac{234}{270}$$\n",
        "$$\\widehat{\\mathsf{P}}(Y=1\\ |\\ X=0, Z = 1) = \\frac{192}{263}$$\n",
        "$$\\widehat{\\mathsf{P}}(Y=1\\ |\\ X=1, Z = 1) = \\frac{55}{80}$$"
      ]
    },
    {
      "cell_type": "code",
      "execution_count": 3,
      "metadata": {
        "id": "5u8HaTR6Pqox",
        "outputId": "c7ef7609-124b-4071-baa9-949d94fd3c8a",
        "colab": {
          "base_uri": "https://localhost:8080/",
          "height": 444
        }
      },
      "outputs": [
        {
          "output_type": "display_data",
          "data": {
            "text/plain": [
              "<Figure size 1200x500 with 2 Axes>"
            ],
            "image/png": "[encoded data removed]"
          },
          "metadata": {}
        }
      ],
      "source": [
        "plt.figure(figsize=(12, 5))\n",
        "# X- лечение, Y - результат, Z - давление\n",
        "causal_graphs = [\n",
        "    nx.DiGraph([('Z','X'),('X','Y'),('Z','Y')]), # давление влияло на лечение, лечение и давление влияют на выздоровление\n",
        "    nx.DiGraph([('X','Z'),('X','Y'),('Z','Y')]), # лечение влияло на давление и выздоровление, давление также влияет на выздоровление\n",
        "]\n",
        "\n",
        "for i, graphs in enumerate(causal_graphs):\n",
        "    plt.subplot(1, 2, i+1)\n",
        "    draw_graph(graphs, options)\n",
        "    plt.title(f'{i+1}-й случай')\n",
        "\n",
        "plt.show()"
      ]
    },
    {
      "cell_type": "markdown",
      "metadata": {
        "id": "9OUJQKVAzaFl"
      },
      "source": [
        "Создадим датасет."
      ]
    },
    {
      "cell_type": "code",
      "execution_count": 4,
      "metadata": {
        "id": "TTJSlJBgPqoy",
        "outputId": "36bd80a5-1c8d-46eb-9681-084fc560f903",
        "colab": {
          "base_uri": "https://localhost:8080/",
          "height": 455
        }
      },
      "outputs": [
        {
          "output_type": "execute_result",
          "data": {
            "text/plain": [
              "         treatment  blood_pressure  result\n",
              "patient                                   \n",
              "0                0               0       1\n",
              "1                0               0       1\n",
              "2                0               0       1\n",
              "3                0               0       1\n",
              "4                0               0       1\n",
              "...            ...             ...     ...\n",
              "695              1               1       0\n",
              "696              1               1       0\n",
              "697              1               1       0\n",
              "698              1               1       0\n",
              "699              1               1       0\n",
              "\n",
              "[700 rows x 3 columns]"
            ],
            "text/html": [
              "\n",
              "  <div id=\"df-7b4ef397-64cc-4742-9388-ceb479bcfd30\" class=\"colab-df-container\">\n",
              "    <div>\n",
              "<style scoped>\n",
              "    .dataframe tbody tr th:only-of-type {\n",
              "        vertical-align: middle;\n",
              "    }\n",
              "\n",
              "    .dataframe tbody tr th {\n",
              "        vertical-align: top;\n",
              "    }\n",
              "\n",
              "    .dataframe thead th {\n",
              "        text-align: right;\n",
              "    }\n",
              "</style>\n",
              "<table border=\"1\" class=\"dataframe\">\n",
              "  <thead>\n",
              "    <tr style=\"text-align: right;\">\n",
              "      <th></th>\n",
              "      <th>treatment</th>\n",
              "      <th>blood_pressure</th>\n",
              "      <th>result</th>\n",
              "    </tr>\n",
              "    <tr>\n",
              "      <th>patient</th>\n",
              "      <th></th>\n",
              "      <th></th>\n",
              "      <th></th>\n",
              "    </tr>\n",
              "  </thead>\n",
              "  <tbody>\n",
              "    <tr>\n",
              "      <th>0</th>\n",
              "      <td>0</td>\n",
              "      <td>0</td>\n",
              "      <td>1</td>\n",
              "    </tr>\n",
              "    <tr>\n",
              "      <th>1</th>\n",
              "      <td>0</td>\n",
              "      <td>0</td>\n",
              "      <td>1</td>\n",
              "    </tr>\n",
              "    <tr>\n",
              "      <th>2</th>\n",
              "      <td>0</td>\n",
              "      <td>0</td>\n",
              "      <td>1</td>\n",
              "    </tr>\n",
              "    <tr>\n",
              "      <th>3</th>\n",
              "      <td>0</td>\n",
              "      <td>0</td>\n",
              "      <td>1</td>\n",
              "    </tr>\n",
              "    <tr>\n",
              "      <th>4</th>\n",
              "      <td>0</td>\n",
              "      <td>0</td>\n",
              "      <td>1</td>\n",
              "    </tr>\n",
              "    <tr>\n",
              "      <th>...</th>\n",
              "      <td>...</td>\n",
              "      <td>...</td>\n",
              "      <td>...</td>\n",
              "    </tr>\n",
              "    <tr>\n",
              "      <th>695</th>\n",
              "      <td>1</td>\n",
              "      <td>1</td>\n",
              "      <td>0</td>\n",
              "    </tr>\n",
              "    <tr>\n",
              "      <th>696</th>\n",
              "      <td>1</td>\n",
              "      <td>1</td>\n",
              "      <td>0</td>\n",
              "    </tr>\n",
              "    <tr>\n",
              "      <th>697</th>\n",
              "      <td>1</td>\n",
              "      <td>1</td>\n",
              "      <td>0</td>\n",
              "    </tr>\n",
              "    <tr>\n",
              "      <th>698</th>\n",
              "      <td>1</td>\n",
              "      <td>1</td>\n",
              "      <td>0</td>\n",
              "    </tr>\n",
              "    <tr>\n",
              "      <th>699</th>\n",
              "      <td>1</td>\n",
              "      <td>1</td>\n",
              "      <td>0</td>\n",
              "    </tr>\n",
              "  </tbody>\n",
              "</table>\n",
              "<p>700 rows × 3 columns</p>\n",
              "</div>\n",
              "    <div class=\"colab-df-buttons\">\n",
              "\n",
              "  <div class=\"colab-df-container\">\n",
              "    <button class=\"colab-df-convert\" onclick=\"convertToInteractive('df-7b4ef397-64cc-4742-9388-ceb479bcfd30')\"\n",
              "            title=\"Convert this dataframe to an interactive table.\"\n",
              "            style=\"display:none;\">\n",
              "\n",
              "  <svg xmlns=\"http://www.w3.org/2000/svg\" height=\"24px\" viewBox=\"0 -960 960 960\">\n",
              "    <path d=\"M120-120v-720h720v720H120Zm60-500h600v-160H180v160Zm220 220h160v-160H400v160Zm0 220h160v-160H400v160ZM180-400h160v-160H180v160Zm440 0h160v-160H620v160ZM180-180h160v-160H180v160Zm440 0h160v-160H620v160Z\"/>\n",
              "  </svg>\n",
              "    </button>\n",
              "\n",
              "  <style>\n",
              "    .colab-df-container {\n",
              "      display:flex;\n",
              "      gap: 12px;\n",
              "    }\n",
              "\n",
              "    .colab-df-convert {\n",
              "      background-color: #E8F0FE;\n",
              "      border: none;\n",
              "      border-radius: 50%;\n",
              "      cursor: pointer;\n",
              "      display: none;\n",
              "      fill: #1967D2;\n",
              "      height: 32px;\n",
              "      padding: 0 0 0 0;\n",
              "      width: 32px;\n",
              "    }\n",
              "\n",
              "    .colab-df-convert:hover {\n",
              "      background-color: #E2EBFA;\n",
              "      box-shadow: 0px 1px 2px rgba(60, 64, 67, 0.3), 0px 1px 3px 1px rgba(60, 64, 67, 0.15);\n",
              "      fill: #174EA6;\n",
              "    }\n",
              "\n",
              "    .colab-df-buttons div {\n",
              "      margin-bottom: 4px;\n",
              "    }\n",
              "\n",
              "    [theme=dark] .colab-df-convert {\n",
              "      background-color: #3B4455;\n",
              "      fill: #D2E3FC;\n",
              "    }\n",
              "\n",
              "    [theme=dark] .colab-df-convert:hover {\n",
              "      background-color: #434B5C;\n",
              "      box-shadow: 0px 1px 3px 1px rgba(0, 0, 0, 0.15);\n",
              "      filter: drop-shadow(0px 1px 2px rgba(0, 0, 0, 0.3));\n",
              "      fill: #FFFFFF;\n",
              "    }\n",
              "  </style>\n",
              "\n",
              "    <script>\n",
              "      const buttonEl =\n",
              "        document.querySelector('#df-7b4ef397-64cc-4742-9388-ceb479bcfd30 button.colab-df-convert');\n",
              "      buttonEl.style.display =\n",
              "        google.colab.kernel.accessAllowed ? 'block' : 'none';\n",
              "\n",
              "      async function convertToInteractive(key) {\n",
              "        const element = document.querySelector('#df-7b4ef397-64cc-4742-9388-ceb479bcfd30');\n",
              "        const dataTable =\n",
              "          await google.colab.kernel.invokeFunction('convertToInteractive',\n",
              "                                                    [key], {});\n",
              "        if (!dataTable) return;\n",
              "\n",
              "        const docLinkHtml = 'Like what you see? Visit the ' +\n",
              "          '<a target=\"_blank\" href=https://colab.research.google.com/notebooks/data_table.ipynb>data table notebook</a>'\n",
              "          + ' to learn more about interactive tables.';\n",
              "        element.innerHTML = '';\n",
              "        dataTable['output_type'] = 'display_data';\n",
              "        await google.colab.output.renderOutput(dataTable, element);\n",
              "        const docLink = document.createElement('div');\n",
              "        docLink.innerHTML = docLinkHtml;\n",
              "        element.appendChild(docLink);\n",
              "      }\n",
              "    </script>\n",
              "  </div>\n",
              "\n",
              "\n",
              "<div id=\"df-09d5ff9d-44ab-4ec3-a515-f1ee35c58902\">\n",
              "  <button class=\"colab-df-quickchart\" onclick=\"quickchart('df-09d5ff9d-44ab-4ec3-a515-f1ee35c58902')\"\n",
              "            title=\"Suggest charts\"\n",
              "            style=\"display:none;\">\n",
              "\n",
              "<svg xmlns=\"http://www.w3.org/2000/svg\" height=\"24px\"viewBox=\"0 0 24 24\"\n",
              "     width=\"24px\">\n",
              "    <g>\n",
              "        <path d=\"M19 3H5c-1.1 0-2 .9-2 2v14c0 1.1.9 2 2 2h14c1.1 0 2-.9 2-2V5c0-1.1-.9-2-2-2zM9 17H7v-7h2v7zm4 0h-2V7h2v10zm4 0h-2v-4h2v4z\"/>\n",
              "    </g>\n",
              "</svg>\n",
              "  </button>\n",
              "\n",
              "<style>\n",
              "  .colab-df-quickchart {\n",
              "      --bg-color: #E8F0FE;\n",
              "      --fill-color: #1967D2;\n",
              "      --hover-bg-color: #E2EBFA;\n",
              "      --hover-fill-color: #174EA6;\n",
              "      --disabled-fill-color: #AAA;\n",
              "      --disabled-bg-color: #DDD;\n",
              "  }\n",
              "\n",
              "  [theme=dark] .colab-df-quickchart {\n",
              "      --bg-color: #3B4455;\n",
              "      --fill-color: #D2E3FC;\n",
              "      --hover-bg-color: #434B5C;\n",
              "      --hover-fill-color: #FFFFFF;\n",
              "      --disabled-bg-color: #3B4455;\n",
              "      --disabled-fill-color: #666;\n",
              "  }\n",
              "\n",
              "  .colab-df-quickchart {\n",
              "    background-color: var(--bg-color);\n",
              "    border: none;\n",
              "    border-radius: 50%;\n",
              "    cursor: pointer;\n",
              "    display: none;\n",
              "    fill: var(--fill-color);\n",
              "    height: 32px;\n",
              "    padding: 0;\n",
              "    width: 32px;\n",
              "  }\n",
              "\n",
              "  .colab-df-quickchart:hover {\n",
              "    background-color: var(--hover-bg-color);\n",
              "    box-shadow: 0 1px 2px rgba(60, 64, 67, 0.3), 0 1px 3px 1px rgba(60, 64, 67, 0.15);\n",
              "    fill: var(--button-hover-fill-color);\n",
              "  }\n",
              "\n",
              "  .colab-df-quickchart-complete:disabled,\n",
              "  .colab-df-quickchart-complete:disabled:hover {\n",
              "    background-color: var(--disabled-bg-color);\n",
              "    fill: var(--disabled-fill-color);\n",
              "    box-shadow: none;\n",
              "  }\n",
              "\n",
              "  .colab-df-spinner {\n",
              "    border: 2px solid var(--fill-color);\n",
              "    border-color: transparent;\n",
              "    border-bottom-color: var(--fill-color);\n",
              "    animation:\n",
              "      spin 1s steps(1) infinite;\n",
              "  }\n",
              "\n",
              "  @keyframes spin {\n",
              "    0% {\n",
              "      border-color: transparent;\n",
              "      border-bottom-color: var(--fill-color);\n",
              "      border-left-color: var(--fill-color);\n",
              "    }\n",
              "    20% {\n",
              "      border-color: transparent;\n",
              "      border-left-color: var(--fill-color);\n",
              "      border-top-color: var(--fill-color);\n",
              "    }\n",
              "    30% {\n",
              "      border-color: transparent;\n",
              "      border-left-color: var(--fill-color);\n",
              "      border-top-color: var(--fill-color);\n",
              "      border-right-color: var(--fill-color);\n",
              "    }\n",
              "    40% {\n",
              "      border-color: transparent;\n",
              "      border-right-color: var(--fill-color);\n",
              "      border-top-color: var(--fill-color);\n",
              "    }\n",
              "    60% {\n",
              "      border-color: transparent;\n",
              "      border-right-color: var(--fill-color);\n",
              "    }\n",
              "    80% {\n",
              "      border-color: transparent;\n",
              "      border-right-color: var(--fill-color);\n",
              "      border-bottom-color: var(--fill-color);\n",
              "    }\n",
              "    90% {\n",
              "      border-color: transparent;\n",
              "      border-bottom-color: var(--fill-color);\n",
              "    }\n",
              "  }\n",
              "</style>\n",
              "\n",
              "  <script>\n",
              "    async function quickchart(key) {\n",
              "      const quickchartButtonEl =\n",
              "        document.querySelector('#' + key + ' button');\n",
              "      quickchartButtonEl.disabled = true;  // To prevent multiple clicks.\n",
              "      quickchartButtonEl.classList.add('colab-df-spinner');\n",
              "      try {\n",
              "        const charts = await google.colab.kernel.invokeFunction(\n",
              "            'suggestCharts', [key], {});\n",
              "      } catch (error) {\n",
              "        console.error('Error during call to suggestCharts:', error);\n",
              "      }\n",
              "      quickchartButtonEl.classList.remove('colab-df-spinner');\n",
              "      quickchartButtonEl.classList.add('colab-df-quickchart-complete');\n",
              "    }\n",
              "    (() => {\n",
              "      let quickchartButtonEl =\n",
              "        document.querySelector('#df-09d5ff9d-44ab-4ec3-a515-f1ee35c58902 button');\n",
              "      quickchartButtonEl.style.display =\n",
              "        google.colab.kernel.accessAllowed ? 'block' : 'none';\n",
              "    })();\n",
              "  </script>\n",
              "</div>\n",
              "    </div>\n",
              "  </div>\n"
            ]
          },
          "metadata": {},
          "execution_count": 4
        }
      ],
      "source": [
        "data = pd.DataFrame()\n",
        "data['treatment'] = [0]*(87+263) + [1]*(270+80)\n",
        "data['blood_pressure'] = [0]*87 + [1]*263 + [0]*270 + [1]*80\n",
        "data['result'] = [1]*81 + [0]*(87-81) + [1]*192 + [0]*(263-192) \\\n",
        "                + [1]*234 + [0]*(270-234) + [1]*55 + [0]*(80-55)\n",
        "data.index.name = 'patient'\n",
        "\n",
        "data"
      ]
    },
    {
      "cell_type": "markdown",
      "metadata": {
        "id": "fej87KFjzL5p"
      },
      "source": [
        "\n",
        "| Количество успешных        | Принимали плацебо X=0 | Принимали лекарство X=1 |\n",
        "| :------------- |-------------:| -----:|\n",
        "| Низкое давление Z=0      | 81 из 87 | 234 из 270 |\n",
        "| Высокое давление Z=1    | 192 из 263      |   55 из 80 |\n",
        "\n",
        "\n"
      ]
    },
    {
      "cell_type": "markdown",
      "metadata": {
        "id": "w2bZtEKIZgwg"
      },
      "source": [
        "Постройте графы обоих вариантов в случае интервенции."
      ]
    },
    {
      "cell_type": "code",
      "execution_count": 5,
      "metadata": {
        "id": "ds2JTEdCPqoz",
        "outputId": "96ed37b4-ed41-498b-c182-07d6de07c7d8",
        "colab": {
          "base_uri": "https://localhost:8080/",
          "height": 444
        }
      },
      "outputs": [
        {
          "output_type": "display_data",
          "data": {
            "text/plain": [
              "<Figure size 1200x500 with 2 Axes>"
            ],
            "image/png": "[encoded data removed]"
          },
          "metadata": {}
        }
      ],
      "source": [
        "plt.figure(figsize=(12, 5))\n",
        "\n",
        "# X- лечение, Y - результат, Z - давление\n",
        "# фиксируем лечение\n",
        "causal_graphs = [\n",
        "    nx.DiGraph([('X','Y'),('Z','Y')]), # давление влияло на лечение, лечение и давление влияют на выздоровление\n",
        "    nx.DiGraph([('X','Z'),('X','Y'),('Z','Y')]), # лечение влияло на давление и выздоровление, давление также влияет на выздоровление\n",
        "]\n",
        "\n",
        "for i, graphs in enumerate(causal_graphs):\n",
        "    plt.subplot(1, 2, i+1)\n",
        "    draw_graph(graphs, options)\n",
        "    plt.title(f'{i+1}-й случай')\n",
        "\n",
        "plt.show()"
      ]
    },
    {
      "cell_type": "markdown",
      "metadata": {
        "id": "FXn6g-SEPqoz"
      },
      "source": [
        "**2.** Поэкспериментируем с библиотекой DoWhy."
      ]
    },
    {
      "cell_type": "markdown",
      "metadata": {
        "id": "Cyl5URrpPqoz"
      },
      "source": [
        "Задайте граф причинно-следственных связей(задайте правильно названия вершин графа) и постройте по нему модель `StructuralCausalModel` с автоматическим определением механизма причинно-следственных связей. Обучите полученную модель."
      ]
    },
    {
      "cell_type": "markdown",
      "metadata": {
        "id": "f9D5gp8-dDrF"
      },
      "source": [
        "**Первый случай.**"
      ]
    },
    {
      "cell_type": "code",
      "execution_count": 6,
      "metadata": {
        "id": "okkR_V51YiR6",
        "outputId": "1f6acba3-a685-4c81-c37f-b53d3e2eb601",
        "colab": {
          "base_uri": "https://localhost:8080/",
          "height": 144
        }
      },
      "outputs": [
        {
          "output_type": "execute_result",
          "data": {
            "text/plain": [
              "         treatment  blood_pressure  result\n",
              "patient                                   \n",
              "0                0               0       1\n",
              "1                0               0       1"
            ],
            "text/html": [
              "\n",
              "  <div id=\"df-82331b61-6608-4e66-984c-f2b87e5aa177\" class=\"colab-df-container\">\n",
              "    <div>\n",
              "<style scoped>\n",
              "    .dataframe tbody tr th:only-of-type {\n",
              "        vertical-align: middle;\n",
              "    }\n",
              "\n",
              "    .dataframe tbody tr th {\n",
              "        vertical-align: top;\n",
              "    }\n",
              "\n",
              "    .dataframe thead th {\n",
              "        text-align: right;\n",
              "    }\n",
              "</style>\n",
              "<table border=\"1\" class=\"dataframe\">\n",
              "  <thead>\n",
              "    <tr style=\"text-align: right;\">\n",
              "      <th></th>\n",
              "      <th>treatment</th>\n",
              "      <th>blood_pressure</th>\n",
              "      <th>result</th>\n",
              "    </tr>\n",
              "    <tr>\n",
              "      <th>patient</th>\n",
              "      <th></th>\n",
              "      <th></th>\n",
              "      <th></th>\n",
              "    </tr>\n",
              "  </thead>\n",
              "  <tbody>\n",
              "    <tr>\n",
              "      <th>0</th>\n",
              "      <td>0</td>\n",
              "      <td>0</td>\n",
              "      <td>1</td>\n",
              "    </tr>\n",
              "    <tr>\n",
              "      <th>1</th>\n",
              "      <td>0</td>\n",
              "      <td>0</td>\n",
              "      <td>1</td>\n",
              "    </tr>\n",
              "  </tbody>\n",
              "</table>\n",
              "</div>\n",
              "    <div class=\"colab-df-buttons\">\n",
              "\n",
              "  <div class=\"colab-df-container\">\n",
              "    <button class=\"colab-df-convert\" onclick=\"convertToInteractive('df-82331b61-6608-4e66-984c-f2b87e5aa177')\"\n",
              "            title=\"Convert this dataframe to an interactive table.\"\n",
              "            style=\"display:none;\">\n",
              "\n",
              "  <svg xmlns=\"http://www.w3.org/2000/svg\" height=\"24px\" viewBox=\"0 -960 960 960\">\n",
              "    <path d=\"M120-120v-720h720v720H120Zm60-500h600v-160H180v160Zm220 220h160v-160H400v160Zm0 220h160v-160H400v160ZM180-400h160v-160H180v160Zm440 0h160v-160H620v160ZM180-180h160v-160H180v160Zm440 0h160v-160H620v160Z\"/>\n",
              "  </svg>\n",
              "    </button>\n",
              "\n",
              "  <style>\n",
              "    .colab-df-container {\n",
              "      display:flex;\n",
              "      gap: 12px;\n",
              "    }\n",
              "\n",
              "    .colab-df-convert {\n",
              "      background-color: #E8F0FE;\n",
              "      border: none;\n",
              "      border-radius: 50%;\n",
              "      cursor: pointer;\n",
              "      display: none;\n",
              "      fill: #1967D2;\n",
              "      height: 32px;\n",
              "      padding: 0 0 0 0;\n",
              "      width: 32px;\n",
              "    }\n",
              "\n",
              "    .colab-df-convert:hover {\n",
              "      background-color: #E2EBFA;\n",
              "      box-shadow: 0px 1px 2px rgba(60, 64, 67, 0.3), 0px 1px 3px 1px rgba(60, 64, 67, 0.15);\n",
              "      fill: #174EA6;\n",
              "    }\n",
              "\n",
              "    .colab-df-buttons div {\n",
              "      margin-bottom: 4px;\n",
              "    }\n",
              "\n",
              "    [theme=dark] .colab-df-convert {\n",
              "      background-color: #3B4455;\n",
              "      fill: #D2E3FC;\n",
              "    }\n",
              "\n",
              "    [theme=dark] .colab-df-convert:hover {\n",
              "      background-color: #434B5C;\n",
              "      box-shadow: 0px 1px 3px 1px rgba(0, 0, 0, 0.15);\n",
              "      filter: drop-shadow(0px 1px 2px rgba(0, 0, 0, 0.3));\n",
              "      fill: #FFFFFF;\n",
              "    }\n",
              "  </style>\n",
              "\n",
              "    <script>\n",
              "      const buttonEl =\n",
              "        document.querySelector('#df-82331b61-6608-4e66-984c-f2b87e5aa177 button.colab-df-convert');\n",
              "      buttonEl.style.display =\n",
              "        google.colab.kernel.accessAllowed ? 'block' : 'none';\n",
              "\n",
              "      async function convertToInteractive(key) {\n",
              "        const element = document.querySelector('#df-82331b61-6608-4e66-984c-f2b87e5aa177');\n",
              "        const dataTable =\n",
              "          await google.colab.kernel.invokeFunction('convertToInteractive',\n",
              "                                                    [key], {});\n",
              "        if (!dataTable) return;\n",
              "\n",
              "        const docLinkHtml = 'Like what you see? Visit the ' +\n",
              "          '<a target=\"_blank\" href=https://colab.research.google.com/notebooks/data_table.ipynb>data table notebook</a>'\n",
              "          + ' to learn more about interactive tables.';\n",
              "        element.innerHTML = '';\n",
              "        dataTable['output_type'] = 'display_data';\n",
              "        await google.colab.output.renderOutput(dataTable, element);\n",
              "        const docLink = document.createElement('div');\n",
              "        docLink.innerHTML = docLinkHtml;\n",
              "        element.appendChild(docLink);\n",
              "      }\n",
              "    </script>\n",
              "  </div>\n",
              "\n",
              "\n",
              "<div id=\"df-4d1895aa-27fa-4598-8769-2509800f31cc\">\n",
              "  <button class=\"colab-df-quickchart\" onclick=\"quickchart('df-4d1895aa-27fa-4598-8769-2509800f31cc')\"\n",
              "            title=\"Suggest charts\"\n",
              "            style=\"display:none;\">\n",
              "\n",
              "<svg xmlns=\"http://www.w3.org/2000/svg\" height=\"24px\"viewBox=\"0 0 24 24\"\n",
              "     width=\"24px\">\n",
              "    <g>\n",
              "        <path d=\"M19 3H5c-1.1 0-2 .9-2 2v14c0 1.1.9 2 2 2h14c1.1 0 2-.9 2-2V5c0-1.1-.9-2-2-2zM9 17H7v-7h2v7zm4 0h-2V7h2v10zm4 0h-2v-4h2v4z\"/>\n",
              "    </g>\n",
              "</svg>\n",
              "  </button>\n",
              "\n",
              "<style>\n",
              "  .colab-df-quickchart {\n",
              "      --bg-color: #E8F0FE;\n",
              "      --fill-color: #1967D2;\n",
              "      --hover-bg-color: #E2EBFA;\n",
              "      --hover-fill-color: #174EA6;\n",
              "      --disabled-fill-color: #AAA;\n",
              "      --disabled-bg-color: #DDD;\n",
              "  }\n",
              "\n",
              "  [theme=dark] .colab-df-quickchart {\n",
              "      --bg-color: #3B4455;\n",
              "      --fill-color: #D2E3FC;\n",
              "      --hover-bg-color: #434B5C;\n",
              "      --hover-fill-color: #FFFFFF;\n",
              "      --disabled-bg-color: #3B4455;\n",
              "      --disabled-fill-color: #666;\n",
              "  }\n",
              "\n",
              "  .colab-df-quickchart {\n",
              "    background-color: var(--bg-color);\n",
              "    border: none;\n",
              "    border-radius: 50%;\n",
              "    cursor: pointer;\n",
              "    display: none;\n",
              "    fill: var(--fill-color);\n",
              "    height: 32px;\n",
              "    padding: 0;\n",
              "    width: 32px;\n",
              "  }\n",
              "\n",
              "  .colab-df-quickchart:hover {\n",
              "    background-color: var(--hover-bg-color);\n",
              "    box-shadow: 0 1px 2px rgba(60, 64, 67, 0.3), 0 1px 3px 1px rgba(60, 64, 67, 0.15);\n",
              "    fill: var(--button-hover-fill-color);\n",
              "  }\n",
              "\n",
              "  .colab-df-quickchart-complete:disabled,\n",
              "  .colab-df-quickchart-complete:disabled:hover {\n",
              "    background-color: var(--disabled-bg-color);\n",
              "    fill: var(--disabled-fill-color);\n",
              "    box-shadow: none;\n",
              "  }\n",
              "\n",
              "  .colab-df-spinner {\n",
              "    border: 2px solid var(--fill-color);\n",
              "    border-color: transparent;\n",
              "    border-bottom-color: var(--fill-color);\n",
              "    animation:\n",
              "      spin 1s steps(1) infinite;\n",
              "  }\n",
              "\n",
              "  @keyframes spin {\n",
              "    0% {\n",
              "      border-color: transparent;\n",
              "      border-bottom-color: var(--fill-color);\n",
              "      border-left-color: var(--fill-color);\n",
              "    }\n",
              "    20% {\n",
              "      border-color: transparent;\n",
              "      border-left-color: var(--fill-color);\n",
              "      border-top-color: var(--fill-color);\n",
              "    }\n",
              "    30% {\n",
              "      border-color: transparent;\n",
              "      border-left-color: var(--fill-color);\n",
              "      border-top-color: var(--fill-color);\n",
              "      border-right-color: var(--fill-color);\n",
              "    }\n",
              "    40% {\n",
              "      border-color: transparent;\n",
              "      border-right-color: var(--fill-color);\n",
              "      border-top-color: var(--fill-color);\n",
              "    }\n",
              "    60% {\n",
              "      border-color: transparent;\n",
              "      border-right-color: var(--fill-color);\n",
              "    }\n",
              "    80% {\n",
              "      border-color: transparent;\n",
              "      border-right-color: var(--fill-color);\n",
              "      border-bottom-color: var(--fill-color);\n",
              "    }\n",
              "    90% {\n",
              "      border-color: transparent;\n",
              "      border-bottom-color: var(--fill-color);\n",
              "    }\n",
              "  }\n",
              "</style>\n",
              "\n",
              "  <script>\n",
              "    async function quickchart(key) {\n",
              "      const quickchartButtonEl =\n",
              "        document.querySelector('#' + key + ' button');\n",
              "      quickchartButtonEl.disabled = true;  // To prevent multiple clicks.\n",
              "      quickchartButtonEl.classList.add('colab-df-spinner');\n",
              "      try {\n",
              "        const charts = await google.colab.kernel.invokeFunction(\n",
              "            'suggestCharts', [key], {});\n",
              "      } catch (error) {\n",
              "        console.error('Error during call to suggestCharts:', error);\n",
              "      }\n",
              "      quickchartButtonEl.classList.remove('colab-df-spinner');\n",
              "      quickchartButtonEl.classList.add('colab-df-quickchart-complete');\n",
              "    }\n",
              "    (() => {\n",
              "      let quickchartButtonEl =\n",
              "        document.querySelector('#df-4d1895aa-27fa-4598-8769-2509800f31cc button');\n",
              "      quickchartButtonEl.style.display =\n",
              "        google.colab.kernel.accessAllowed ? 'block' : 'none';\n",
              "    })();\n",
              "  </script>\n",
              "</div>\n",
              "    </div>\n",
              "  </div>\n"
            ]
          },
          "metadata": {},
          "execution_count": 6
        }
      ],
      "source": [
        "data.head(2)"
      ]
    },
    {
      "cell_type": "code",
      "execution_count": 7,
      "metadata": {
        "id": "lHzCR7MFPqo0"
      },
      "outputs": [],
      "source": [
        "causal_graph = nx.DiGraph([('blood_pressure','treatment'),('treatment','result'),('blood_pressure','result')])"
      ]
    },
    {
      "cell_type": "code",
      "execution_count": 8,
      "metadata": {
        "id": "e8TLlXT_eA1S"
      },
      "outputs": [],
      "source": [
        "from dowhy import gcm\n",
        "causal_model = gcm.StructuralCausalModel(causal_graph)"
      ]
    },
    {
      "cell_type": "code",
      "execution_count": 9,
      "metadata": {
        "id": "ceq31PZGYiR6",
        "outputId": "bc6c89d5-ddcf-43dd-8ffe-40cd6097351d",
        "colab": {
          "base_uri": "https://localhost:8080/"
        }
      },
      "outputs": [
        {
          "output_type": "stream",
          "name": "stderr",
          "text": [
            "Fitting causal mechanism of node result: 100%|██████████| 3/3 [00:00<00:00, 38.05it/s]\n"
          ]
        }
      ],
      "source": [
        "gcm.auto.assign_causal_mechanisms(causal_model, data)\n",
        "\n",
        "gcm.fit(causal_model, data)"
      ]
    },
    {
      "cell_type": "markdown",
      "metadata": {
        "id": "b6BYGNv-Pqo0"
      },
      "source": [
        "Выясните, какие зависимости подобрались и напечатайте параметры этих моделей."
      ]
    },
    {
      "cell_type": "code",
      "execution_count": 10,
      "metadata": {
        "id": "V29xuSBXPqo0",
        "outputId": "402e064a-ec68-4d05-ce24-e6e0e35d8828",
        "colab": {
          "base_uri": "https://localhost:8080/"
        }
      },
      "outputs": [
        {
          "output_type": "execute_result",
          "data": {
            "text/plain": [
              "(<dowhy.gcm.causal_mechanisms.DiscreteAdditiveNoiseModel at 0x79a1475298a0>,\n",
              " <dowhy.gcm.causal_mechanisms.DiscreteAdditiveNoiseModel at 0x79a14752a3e0>,\n",
              " <dowhy.gcm.stochastic_models.EmpiricalDistribution at 0x79a147383a90>)"
            ]
          },
          "metadata": {},
          "execution_count": 10
        }
      ],
      "source": [
        "model_X = causal_model.causal_mechanism('treatment')\n",
        "model_Y = causal_model.causal_mechanism('result')\n",
        "model_Z = causal_model.causal_mechanism('blood_pressure')\n",
        "\n",
        "model_X, model_Y, model_Z"
      ]
    },
    {
      "cell_type": "code",
      "execution_count": 11,
      "metadata": {
        "id": "Qc5JmFgEPqo0",
        "scrolled": true,
        "outputId": "b4c743aa-1dc1-478c-c775-b43625efbf65",
        "colab": {
          "base_uri": "https://localhost:8080/"
        }
      },
      "outputs": [
        {
          "output_type": "execute_result",
          "data": {
            "text/plain": [
              "(array([-0.1903959 , -0.05383557]), 0.9230689186715357)"
            ]
          },
          "metadata": {},
          "execution_count": 11
        }
      ],
      "source": [
        "sklearn_model = model_Y.prediction_model.sklearn_model\n",
        "sklearn_model.coef_, sklearn_model.intercept_"
      ]
    },
    {
      "cell_type": "code",
      "execution_count": 12,
      "metadata": {
        "id": "5x5OIreqPqo0",
        "outputId": "bb201c76-7053-4cf6-9680-07d5927993d3",
        "colab": {
          "base_uri": "https://localhost:8080/",
          "height": 75
        }
      },
      "outputs": [
        {
          "output_type": "execute_result",
          "data": {
            "text/plain": [
              "HistGradientBoostingRegressor()"
            ],
            "text/html": [
              "<style>#sk-container-id-1 {color: black;background-color: white;}#sk-container-id-1 pre{padding: 0;}#sk-container-id-1 div.sk-toggleable {background-color: white;}#sk-container-id-1 label.sk-toggleable__label {cursor: pointer;display: block;width: 100%;margin-bottom: 0;padding: 0.3em;box-sizing: border-box;text-align: center;}#sk-container-id-1 label.sk-toggleable__label-arrow:before {content: \"▸\";float: left;margin-right: 0.25em;color: #696969;}#sk-container-id-1 label.sk-toggleable__label-arrow:hover:before {color: black;}#sk-container-id-1 div.sk-estimator:hover label.sk-toggleable__label-arrow:before {color: black;}#sk-container-id-1 div.sk-toggleable__content {max-height: 0;max-width: 0;overflow: hidden;text-align: left;background-color: #f0f8ff;}#sk-container-id-1 div.sk-toggleable__content pre {margin: 0.2em;color: black;border-radius: 0.25em;background-color: #f0f8ff;}#sk-container-id-1 input.sk-toggleable__control:checked~div.sk-toggleable__content {max-height: 200px;max-width: 100%;overflow: auto;}#sk-container-id-1 input.sk-toggleable__control:checked~label.sk-toggleable__label-arrow:before {content: \"▾\";}#sk-container-id-1 div.sk-estimator input.sk-toggleable__control:checked~label.sk-toggleable__label {background-color: #d4ebff;}#sk-container-id-1 div.sk-label input.sk-toggleable__control:checked~label.sk-toggleable__label {background-color: #d4ebff;}#sk-container-id-1 input.sk-hidden--visually {border: 0;clip: rect(1px 1px 1px 1px);clip: rect(1px, 1px, 1px, 1px);height: 1px;margin: -1px;overflow: hidden;padding: 0;position: absolute;width: 1px;}#sk-container-id-1 div.sk-estimator {font-family: monospace;background-color: #f0f8ff;border: 1px dotted black;border-radius: 0.25em;box-sizing: border-box;margin-bottom: 0.5em;}#sk-container-id-1 div.sk-estimator:hover {background-color: #d4ebff;}#sk-container-id-1 div.sk-parallel-item::after {content: \"\";width: 100%;border-bottom: 1px solid gray;flex-grow: 1;}#sk-container-id-1 div.sk-label:hover label.sk-toggleable__label {background-color: #d4ebff;}#sk-container-id-1 div.sk-serial::before {content: \"\";position: absolute;border-left: 1px solid gray;box-sizing: border-box;top: 0;bottom: 0;left: 50%;z-index: 0;}#sk-container-id-1 div.sk-serial {display: flex;flex-direction: column;align-items: center;background-color: white;padding-right: 0.2em;padding-left: 0.2em;position: relative;}#sk-container-id-1 div.sk-item {position: relative;z-index: 1;}#sk-container-id-1 div.sk-parallel {display: flex;align-items: stretch;justify-content: center;background-color: white;position: relative;}#sk-container-id-1 div.sk-item::before, #sk-container-id-1 div.sk-parallel-item::before {content: \"\";position: absolute;border-left: 1px solid gray;box-sizing: border-box;top: 0;bottom: 0;left: 50%;z-index: -1;}#sk-container-id-1 div.sk-parallel-item {display: flex;flex-direction: column;z-index: 1;position: relative;background-color: white;}#sk-container-id-1 div.sk-parallel-item:first-child::after {align-self: flex-end;width: 50%;}#sk-container-id-1 div.sk-parallel-item:last-child::after {align-self: flex-start;width: 50%;}#sk-container-id-1 div.sk-parallel-item:only-child::after {width: 0;}#sk-container-id-1 div.sk-dashed-wrapped {border: 1px dashed gray;margin: 0 0.4em 0.5em 0.4em;box-sizing: border-box;padding-bottom: 0.4em;background-color: white;}#sk-container-id-1 div.sk-label label {font-family: monospace;font-weight: bold;display: inline-block;line-height: 1.2em;}#sk-container-id-1 div.sk-label-container {text-align: center;}#sk-container-id-1 div.sk-container {/* jupyter's `normalize.less` sets `[hidden] { display: none; }` but bootstrap.min.css set `[hidden] { display: none !important; }` so we also need the `!important` here to be able to override the default hidden behavior on the sphinx rendered scikit-learn.org. See: https://github.com/scikit-learn/scikit-learn/issues/21755 */display: inline-block !important;position: relative;}#sk-container-id-1 div.sk-text-repr-fallback {display: none;}</style><div id=\"sk-container-id-1\" class=\"sk-top-container\"><div class=\"sk-text-repr-fallback\"><pre>HistGradientBoostingRegressor()</pre><b>In a Jupyter environment, please rerun this cell to show the HTML representation or trust the notebook. <br />On GitHub, the HTML representation is unable to render, please try loading this page with nbviewer.org.</b></div><div class=\"sk-container\" hidden><div class=\"sk-item\"><div class=\"sk-estimator sk-toggleable\"><input class=\"sk-toggleable__control sk-hidden--visually\" id=\"sk-estimator-id-1\" type=\"checkbox\" checked><label for=\"sk-estimator-id-1\" class=\"sk-toggleable__label sk-toggleable__label-arrow\">HistGradientBoostingRegressor</label><div class=\"sk-toggleable__content\"><pre>HistGradientBoostingRegressor()</pre></div></div></div></div></div>"
            ]
          },
          "metadata": {},
          "execution_count": 12
        }
      ],
      "source": [
        "sklearn_model = model_X.prediction_model.sklearn_model\n",
        "sklearn_model"
      ]
    },
    {
      "cell_type": "markdown",
      "metadata": {
        "id": "SBdo5QW_Pqo0"
      },
      "source": [
        "Как видим, были использованы модели с аддитивным шумом, в то время как наши данные дискретны.\n",
        "\n",
        "Поменяем тип данных на строковые"
      ]
    },
    {
      "cell_type": "code",
      "execution_count": 13,
      "metadata": {
        "id": "0d5HPHODPqo0"
      },
      "outputs": [],
      "source": [
        "data = data.astype(str)"
      ]
    },
    {
      "cell_type": "markdown",
      "metadata": {
        "id": "y7z-wG6IPqo0"
      },
      "source": [
        "Задайте модели наследования вручную. Если у вершины нет предков, то используйте эмпирическое распределение, иначе &mdash; классификатор `gcm.ClassifierFCM()`. Обучите полученную causal модель."
      ]
    },
    {
      "cell_type": "code",
      "execution_count": 14,
      "metadata": {
        "id": "QXh75DWdPqo1",
        "outputId": "30c06a11-5b46-4d5b-b338-5830dcd5fb6f",
        "colab": {
          "base_uri": "https://localhost:8080/"
        }
      },
      "outputs": [
        {
          "output_type": "stream",
          "name": "stderr",
          "text": [
            "Fitting causal mechanism of node result: 100%|██████████| 3/3 [00:00<00:00, 18.63it/s]\n"
          ]
        }
      ],
      "source": [
        "from dowhy import gcm\n",
        "causal_model = gcm.StructuralCausalModel(causal_graph)\n",
        "\n",
        "causal_model.set_causal_mechanism('blood_pressure', gcm.EmpiricalDistribution())\n",
        "causal_model.set_causal_mechanism('treatment', gcm.ClassifierFCM())\n",
        "causal_model.set_causal_mechanism('result', gcm.ClassifierFCM())\n",
        "\n",
        "gcm.fit(causal_model,data)"
      ]
    },
    {
      "cell_type": "markdown",
      "metadata": {
        "id": "ykWtkNxNPqo1"
      },
      "source": [
        "Наконец, посчитайте оценку ATE с помощью интервенции в построенной модели. Не забудьте, что в качестве значения интервенции нужно указать строку, а полученные семплы перевести обратно в числа перед усреднением."
      ]
    },
    {
      "cell_type": "code",
      "execution_count": 18,
      "metadata": {
        "id": "WoYGuW5VPqo1",
        "outputId": "3acbbe56-7b0c-4ada-8b64-ec1933d9e138",
        "colab": {
          "base_uri": "https://localhost:8080/",
          "height": 37
        }
      },
      "outputs": [
        {
          "output_type": "execute_result",
          "data": {
            "text/plain": [
              "-0.053649999999999975"
            ],
            "text/latex": "$\\displaystyle -0.05365$"
          },
          "metadata": {},
          "execution_count": 18
        }
      ],
      "source": [
        "num_samples_to_draw = 100_000\n",
        "interventional_mean = []\n",
        "\n",
        "for i in range(2):\n",
        "    samples = gcm.interventional_samples(\n",
        "        causal_model,\n",
        "        {'treatment': lambda y: str(i) },  # условие интервенции\n",
        "        num_samples_to_draw=num_samples_to_draw  # количество семплирований\n",
        "    )\n",
        "    interventional_mean.append(samples)\n",
        "\n",
        "\n",
        "ATE = interventional_mean[1]['result'].astype(int).mean() - interventional_mean[0]['result'].astype(int).mean()\n",
        "ATE"
      ]
    },
    {
      "cell_type": "markdown",
      "metadata": {
        "id": "NxsVoZEa0t0Z"
      },
      "source": [
        "**Второй случай.**\n",
        "\n",
        "Задайте модель по аналогии с первым случаем и обучите её."
      ]
    },
    {
      "cell_type": "code",
      "execution_count": 22,
      "metadata": {
        "id": "5UHFhS6kPqo1",
        "scrolled": true,
        "outputId": "c041ac15-74e9-4f46-a290-6576de711902",
        "colab": {
          "base_uri": "https://localhost:8080/"
        }
      },
      "outputs": [
        {
          "output_type": "stream",
          "name": "stderr",
          "text": [
            "Fitting causal mechanism of node blood_pressure: 100%|██████████| 3/3 [00:00<00:00, 17.03it/s]\n"
          ]
        }
      ],
      "source": [
        "causal_graph = nx.DiGraph([\n",
        "    ('treatment','result',),\n",
        "    ('treatment','blood_pressure'),\n",
        "    ('blood_pressure','result')\n",
        "])\n",
        "\n",
        "\n",
        "causal_model = gcm.StructuralCausalModel(causal_graph)\n",
        "\n",
        "\n",
        "causal_model.set_causal_mechanism('blood_pressure',gcm.ClassifierFCM())\n",
        "causal_model.set_causal_mechanism('treatment', gcm.EmpiricalDistribution())\n",
        "causal_model.set_causal_mechanism('result', gcm.ClassifierFCM())\n",
        "\n",
        "\n",
        "gcm.fit(causal_model,data)"
      ]
    },
    {
      "cell_type": "code",
      "execution_count": 24,
      "metadata": {
        "id": "zlr0XQoLPqo1",
        "outputId": "9b58d584-d1f6-46d6-cdb7-bb39bcd70422",
        "colab": {
          "base_uri": "https://localhost:8080/",
          "height": 37
        }
      },
      "outputs": [
        {
          "output_type": "execute_result",
          "data": {
            "text/plain": [
              "0.045009999999999994"
            ],
            "text/latex": "$\\displaystyle 0.04501$"
          },
          "metadata": {},
          "execution_count": 24
        }
      ],
      "source": [
        "num_samples_to_draw = 100_000\n",
        "interventional_mean = []\n",
        "\n",
        "for i in range(2):\n",
        "    samples = gcm.interventional_samples(\n",
        "        causal_model,\n",
        "        {'treatment': lambda y: str(i) },  # условие интервенции\n",
        "        num_samples_to_draw=num_samples_to_draw  # количество семплирований\n",
        "    )\n",
        "    interventional_mean.append(samples)\n",
        "\n",
        "ATE = interventional_mean[1]['result'].astype(int).mean() - interventional_mean[0]['result'].astype(int).mean()\n",
        "ATE"
      ]
    },
    {
      "cell_type": "markdown",
      "metadata": {
        "id": "XE5unajqPqo1"
      },
      "source": [
        "**Вывод:**"
      ]
    },
    {
      "cell_type": "markdown",
      "metadata": {
        "id": "ceLUPYrzPbAX"
      },
      "source": [
        "# Propensity score и работа с ним в библиотеке DoWhy"
      ]
    },
    {
      "cell_type": "markdown",
      "metadata": {
        "id": "9d4ccab2"
      },
      "source": [
        "## Задача 2. Пайплайн оценки\n",
        "\n",
        "\n",
        "Для оценки эффекта библиотека DoWhy предоставляет четырехступенчатый интерфейс причинно-следственного вывода:\n",
        "1. Определение модели для причинно-следственной задачи\n",
        "2. Определение оценщика в рамках модели\n",
        "3. Оценка причинно-следственной связи по выбранному оценщику\n",
        "4. Тестирование полученной оценки\n"
      ]
    },
    {
      "cell_type": "markdown",
      "metadata": {
        "id": "2afcbc78"
      },
      "source": [
        "### 2.1. Определение модели\n",
        "\n",
        "```\n",
        "CausalModel(\n",
        "    data,\n",
        "    treatment,\n",
        "    outcome,\n",
        "    graph=None,\n",
        "    common_causes=None,\n",
        "    instruments=None,\n",
        "    effect_modifiers=None,\n",
        "    estimand_type='nonparametric-ate',\n",
        "    proceed_when_unidentifiable=False,\n",
        "    missing_nodes_as_confounders=False,\n",
        "    identify_vars=False,\n",
        "    **kwargs,\n",
        ")\n",
        "```\n",
        "\n",
        "**Стандартный способ**\n",
        "\n",
        "Определение причинно-следственной модели на основе данных и заданного графа. Этот граф не обязательно должен быть полным — можно предоставить частичный граф с предварительными знаниями о некоторых признаках. Тогда DoWhy автоматически рассматривает остальные признаким как потенциальные конфаундеры.\n",
        "\n",
        "Используйте граф случая, где `blood_pressure` является конфаундером."
      ]
    },
    {
      "cell_type": "code",
      "source": [
        "data = data.astype(float)"
      ],
      "metadata": {
        "id": "cpltvKDUber2"
      },
      "execution_count": 33,
      "outputs": []
    },
    {
      "cell_type": "code",
      "execution_count": 34,
      "metadata": {
        "id": "5da9f13f",
        "outputId": "cd8dcdf4-8439-4523-e5b3-cd48e7471780",
        "colab": {
          "base_uri": "https://localhost:8080/",
          "height": 362
        }
      },
      "outputs": [
        {
          "output_type": "stream",
          "name": "stderr",
          "text": [
            "WARNING:dowhy.causal_model:There are an additional 1 variables in the dataset that are not in the graph. Variable names are: '['propensity_score']'\n"
          ]
        },
        {
          "output_type": "display_data",
          "data": {
            "text/plain": [
              "<Figure size 600x400 with 1 Axes>"
            ],
            "image/png": "[encoded data removed]"
          },
          "metadata": {}
        }
      ],
      "source": [
        "model = CausalModel(\n",
        "    data=data,\n",
        "    treatment=\"treatment\",\n",
        "    outcome=\"result\",\n",
        "    graph=causal_graph\n",
        ")\n",
        "\n",
        "model.view_model(file_name=\"causal_model\", size=(6, 4))\n",
        "#display(Image(filename=\"causal_model.png\"))\n",
        "pass"
      ]
    },
    {
      "cell_type": "markdown",
      "metadata": {
        "id": "81b31675"
      },
      "source": [
        "**Другой способ**\n",
        "\n",
        "Указание ковариат и инструментов в случае наличия."
      ]
    },
    {
      "cell_type": "code",
      "execution_count": 35,
      "metadata": {
        "id": "4dfbe17b",
        "outputId": "48bf1512-fb7c-4c6f-8f03-7c68c993489b",
        "colab": {
          "base_uri": "https://localhost:8080/",
          "height": 380
        }
      },
      "outputs": [
        {
          "output_type": "stream",
          "name": "stderr",
          "text": [
            "WARNING:dowhy.causal_model:Causal Graph not provided. DoWhy will construct a graph based on data inputs.\n",
            "WARNING:dowhy.causal_model:There are an additional 1 variables in the dataset that are not in the graph. Variable names are: '['propensity_score']'\n"
          ]
        },
        {
          "output_type": "display_data",
          "data": {
            "text/plain": [
              "<Figure size 600x400 with 1 Axes>"
            ],
            "image/png": "[encoded data removed]"
          },
          "metadata": {}
        }
      ],
      "source": [
        "model_2 = CausalModel(\n",
        "    data=data,\n",
        "    treatment=\"treatment\",\n",
        "    outcome=\"result\",\n",
        "    common_causes=\"blood_pressure\"\n",
        ")\n",
        "\n",
        "model_2.view_model(file_name=\"causal_model\", size=(6, 4))\n",
        "#display(Image(filename=\"causal_model.png\"))"
      ]
    },
    {
      "cell_type": "markdown",
      "metadata": {
        "id": "c1226c8c"
      },
      "source": [
        "### 2.2. Определение оценщика в рамках модели\n",
        "\n",
        "Основываясь на причинно-следственном графе, DoWhy находит все возможные способы идентификации желаемого причинно-следственного эффекта на основе графа. Используются критерии на графах и do-исчисление, для поиска всех возможных моделей, которые могут оценить причинно-следственную связь в данном случае."
      ]
    },
    {
      "cell_type": "code",
      "execution_count": 36,
      "metadata": {
        "id": "aea8b5e1",
        "outputId": "89f00a9c-a00f-4fbe-d22a-9b1353a5d72b",
        "colab": {
          "base_uri": "https://localhost:8080/"
        }
      },
      "outputs": [
        {
          "output_type": "stream",
          "name": "stdout",
          "text": [
            "Estimand type: EstimandType.NONPARAMETRIC_ATE\n",
            "\n",
            "### Estimand : 1\n",
            "Estimand name: backdoor\n",
            "Estimand expression:\n",
            "     d                               \n",
            "────────────(E[result|bloodₚᵣₑₛₛᵤᵣₑ])\n",
            "d[treatment]                         \n",
            "Estimand assumption 1, Unconfoundedness: If U→{treatment} and U→result then P(result|treatment,blood_pressure,U) = P(result|treatment,blood_pressure)\n",
            "\n",
            "### Estimand : 2\n",
            "Estimand name: iv\n",
            "No such variable(s) found!\n",
            "\n",
            "### Estimand : 3\n",
            "Estimand name: frontdoor\n",
            "No such variable(s) found!\n",
            "\n"
          ]
        }
      ],
      "source": [
        "identified_estimand = model_2.identify_effect()\n",
        "print(identified_estimand)"
      ]
    },
    {
      "cell_type": "markdown",
      "metadata": {
        "id": "3f39c506"
      },
      "source": [
        "### 2.3. Оценка причинно-следственной связи\n",
        "\n",
        "```\n",
        "model.estimate_effect(\n",
        "    identified_estimand,\n",
        "    method_name=None,\n",
        "    control_value=0,\n",
        "    treatment_value=1,\n",
        "    test_significance=None,\n",
        "    evaluate_effect_strength=False,\n",
        "    confidence_intervals=False,\n",
        "    target_units='ate',\n",
        "    effect_modifiers=None,\n",
        "    fit_estimator=True,\n",
        "    method_params=None,\n",
        ")\n",
        "\n",
        "```\n",
        "\n",
        "\n",
        "Поддерживаются следущие методы\n",
        "* Propensity Score Matching: \"`backdoor.propensity_score_matching`\"\n",
        "* Propensity Score Stratification: \"`backdoor.propensity_score_stratification`\" &mdash; использование оценок propensity score для определения бинов, по котором выполняется стратификация\n",
        "* Propensity Score-based Inverse Weighting: \"`backdoor.propensity_score_weighting`\"\n",
        "* Linear Regression: \"`backdoor.linear_regression`\"\n",
        "* Generalized Linear Models (e.g., logistic regression): \"`backdoor.generalized_linear_model`\"\n",
        "* Instrumental Variables: \"`iv.instrumental_variable`\"\n",
        "* Regression Discontinuity: \"`iv.regression_discontinuity`\""
      ]
    },
    {
      "cell_type": "code",
      "execution_count": 37,
      "metadata": {
        "id": "ba75b8fb",
        "outputId": "4eab0ca7-0c09-433d-84ff-2400816ab684",
        "colab": {
          "base_uri": "https://localhost:8080/"
        }
      },
      "outputs": [
        {
          "output_type": "stream",
          "name": "stdout",
          "text": [
            "*** Causal Estimate ***\n",
            "\n",
            "## Identified estimand\n",
            "Estimand type: EstimandType.NONPARAMETRIC_ATE\n",
            "\n",
            "### Estimand : 1\n",
            "Estimand name: backdoor\n",
            "Estimand expression:\n",
            "     d                               \n",
            "────────────(E[result|bloodₚᵣₑₛₛᵤᵣₑ])\n",
            "d[treatment]                         \n",
            "Estimand assumption 1, Unconfoundedness: If U→{treatment} and U→result then P(result|treatment,blood_pressure,U) = P(result|treatment,blood_pressure)\n",
            "\n",
            "## Realized estimand\n",
            "b: result~treatment+blood_pressure\n",
            "Target units: ate\n",
            "\n",
            "## Estimate\n",
            "Mean value: -0.050337685257286546\n",
            "\n"
          ]
        }
      ],
      "source": [
        "estimate = model.estimate_effect(\n",
        "    identified_estimand,\n",
        "    method_name=\"backdoor.propensity_score_weighting\",\n",
        ")\n",
        "\n",
        "print(estimate)"
      ]
    },
    {
      "cell_type": "markdown",
      "metadata": {
        "id": "af8044c4"
      },
      "source": [
        "Можно извлечь саму оценку причинно-следственного эффекта"
      ]
    },
    {
      "cell_type": "code",
      "execution_count": 38,
      "metadata": {
        "id": "fe7fcf72",
        "outputId": "3b6c6c1d-5569-470c-b364-19f308eddc69",
        "colab": {
          "base_uri": "https://localhost:8080/",
          "height": 37
        }
      },
      "outputs": [
        {
          "output_type": "execute_result",
          "data": {
            "text/plain": [
              "-0.050337685257286546"
            ],
            "text/latex": "$\\displaystyle -0.0503376852572865$"
          },
          "metadata": {},
          "execution_count": 38
        }
      ],
      "source": [
        "estimate.value"
      ]
    },
    {
      "cell_type": "markdown",
      "metadata": {
        "id": "2e65ab6c"
      },
      "source": [
        "Также можно отдельно построить для нее доверительный интервал\n",
        "\n",
        "```\n",
        "estimate.get_confidence_intervals(\n",
        "    confidence_level=None,\n",
        "    method=None,\n",
        "    **kwargs,\n",
        ")\n",
        "```\n",
        "\n",
        "По умолчанию используется формула построения доверительного интервала для конкретного метода. Можно также использовать бутстреп, указав `method='bootstrap'`. Для некоторых методов интервал можно построить только бустрепом, например, для Propensity Score Stratification."
      ]
    },
    {
      "cell_type": "code",
      "execution_count": 39,
      "metadata": {
        "id": "deabf50c",
        "outputId": "88473da2-5876-4fa8-c72a-0f84da19dd6d",
        "colab": {
          "base_uri": "https://localhost:8080/",
          "height": 72
        }
      },
      "outputs": [
        {
          "output_type": "stream",
          "name": "stdout",
          "text": [
            "CPU times: user 6.49 s, sys: 80.8 ms, total: 6.57 s\n",
            "Wall time: 6.56 s\n"
          ]
        },
        {
          "output_type": "execute_result",
          "data": {
            "text/plain": [
              "(-0.10888649568667463, 0.0091258736283506)"
            ],
            "text/latex": "$\\displaystyle \\left( -0.108886495686675, \\  0.0091258736283506\\right)$"
          },
          "metadata": {},
          "execution_count": 39
        }
      ],
      "source": [
        "%%time\n",
        "estimate.get_confidence_intervals()"
      ]
    },
    {
      "cell_type": "markdown",
      "metadata": {
        "id": "49c5117c"
      },
      "source": [
        "И проверить стат. значимость отличия от нуля, получив p-value. Здесь также можно использовать бутстреп"
      ]
    },
    {
      "cell_type": "code",
      "execution_count": 40,
      "metadata": {
        "id": "d15cd431",
        "outputId": "957370c6-dae5-40e6-fc75-e59c39f64c14",
        "colab": {
          "base_uri": "https://localhost:8080/"
        }
      },
      "outputs": [
        {
          "output_type": "stream",
          "name": "stdout",
          "text": [
            "CPU times: user 19.1 s, sys: 129 ms, total: 19.3 s\n",
            "Wall time: 19.5 s\n"
          ]
        },
        {
          "output_type": "execute_result",
          "data": {
            "text/plain": [
              "{'p_value': 0.064}"
            ]
          },
          "metadata": {},
          "execution_count": 40
        }
      ],
      "source": [
        "%%time\n",
        "estimate.test_stat_significance()"
      ]
    },
    {
      "cell_type": "markdown",
      "metadata": {
        "id": "dd60b8b4"
      },
      "source": [
        "Также можно извлечь оценку стандартного отклонения"
      ]
    },
    {
      "cell_type": "code",
      "execution_count": 41,
      "metadata": {
        "id": "691a0ceb",
        "outputId": "e7273b88-7eed-4793-8a7b-f6023f8c2798",
        "colab": {
          "base_uri": "https://localhost:8080/",
          "height": 37
        }
      },
      "outputs": [
        {
          "output_type": "execute_result",
          "data": {
            "text/plain": [
              "0.03625134558698228"
            ],
            "text/latex": "$\\displaystyle 0.0362513455869823$"
          },
          "metadata": {},
          "execution_count": 41
        }
      ],
      "source": [
        "estimate.get_standard_error()"
      ]
    },
    {
      "cell_type": "markdown",
      "metadata": {
        "id": "c4854182"
      },
      "source": [
        "Оценка произведена с помощью следующей формулы"
      ]
    },
    {
      "cell_type": "code",
      "execution_count": 42,
      "metadata": {
        "id": "2ae9ad99",
        "outputId": "f9a09d67-41fb-4d00-b517-29354088007f",
        "colab": {
          "base_uri": "https://localhost:8080/",
          "height": 35
        }
      },
      "outputs": [
        {
          "output_type": "execute_result",
          "data": {
            "text/plain": [
              "'b: result~treatment+blood_pressure'"
            ],
            "application/vnd.google.colaboratory.intrinsic+json": {
              "type": "string"
            }
          },
          "metadata": {},
          "execution_count": 42
        }
      ],
      "source": [
        "estimate.realized_estimand_expr"
      ]
    },
    {
      "cell_type": "markdown",
      "metadata": {
        "id": "29c40628"
      },
      "source": [
        "Также можно посмотреть на то, какие признаки использованы"
      ]
    },
    {
      "cell_type": "code",
      "execution_count": 43,
      "metadata": {
        "id": "fd470f25",
        "outputId": "765ac7b2-eaae-409e-9f7d-23d1ff03b15f",
        "colab": {
          "base_uri": "https://localhost:8080/"
        }
      },
      "outputs": [
        {
          "output_type": "execute_result",
          "data": {
            "text/plain": [
              "['treatment']"
            ]
          },
          "metadata": {},
          "execution_count": 43
        }
      ],
      "source": [
        "estimate.target_estimand.treatment_variable"
      ]
    },
    {
      "cell_type": "markdown",
      "metadata": {
        "id": "4a6ec527"
      },
      "source": [
        "### 2.4. Тестирование полученной оценки\n",
        "\n",
        "```\n",
        "model.refute_estimate(\n",
        "    estimand,\n",
        "    estimate,\n",
        "    method_name=None,\n",
        "    show_progress_bar=False,\n",
        "    **kwargs,\n",
        ")\n",
        "```\n",
        "\n",
        "Одно из основных преимущество DoWhy &mdash; несколько методов проверки устойчивости моделей.\n",
        "\n",
        "Поддерживаемые методы опровержения\n",
        "* **Добавить рандомный конфаундер:** Изменяет ли метод свою оценку добавления конфаундера-рандом в набор данных?\n",
        "    * *так не должно быть*\n",
        "\n",
        "* **Тритмент:** Что происходит с предполагаемым причинно-следственным эффектом, если мы тритмент заменим на рандом?\n",
        "    * *эффект должен быть равен нулю*\n",
        "\n",
        "* **Фиктивный результат:** Что происходит с предполагаемым причинно-следственным эффектом, при замене таргета на рандом?\n",
        "    * *эффект должен быть равен нулю*\n",
        "\n",
        "* **Моделирование:** Что происходит с предполагаемым причинно-следственным эффектом, при замене реального набора данных на искусственный, наиболее похожий по отношению к данному набору данных?\n",
        "    * *он должен соответствовать параметру effect из процесса генерации данных*\n",
        "\n",
        "* **Добавить ненаблюдаемый конфаундер:** Насколько чувствительна оценка эффекта при дополнительного конфаундера?\n",
        "    * *она не должен быть слишком чувствительным*\n",
        "\n",
        "* **Проверка подмножеств данных:** Существенно ли изменяется оцененный эффект при замене данных на случайно выбранное подмножество?\n",
        "    * *так не должно быть*\n",
        "\n",
        "* **Проверка бутстрепом:** Существенно ли меняется предполагаемый эффект при замене данных на бутстрепные рализации?\n",
        "    * *так не должно быть*\n"
      ]
    },
    {
      "cell_type": "code",
      "execution_count": 44,
      "metadata": {
        "id": "f16b4993",
        "scrolled": true,
        "outputId": "28f3d23e-7328-40ef-927b-d9bbc65476b4",
        "colab": {
          "base_uri": "https://localhost:8080/",
          "height": 136,
          "referenced_widgets": [
            "118fd286679348beab7c646d34d7f695",
            "2f7be50fea61453181a44c93c2ca765d",
            "9b725078f2f1429593548de467184ac3",
            "bfc503e46e464974a463f5e554dbf03e",
            "cc4df2197fdb48619715a623ae1234c0",
            "638dde7f24cb4878b8d422c860490db9",
            "63e32a9294d94ec9a5c2b2123c1c1e0a",
            "521e00ad474e4a538e0be482fdc263b3",
            "5a16456a9cdd44c69e53f7cbdedd7ef8",
            "c436fee3eb354161b2c76b92f3653e88",
            "aa73fa0393314ed1a2af4326b00d0a85"
          ]
        }
      },
      "outputs": [
        {
          "output_type": "display_data",
          "data": {
            "text/plain": [
              "Refuting Estimates:   0%|          | 0/100 [00:00<?, ?it/s]"
            ],
            "application/vnd.jupyter.widget-view+json": {
              "version_major": 2,
              "version_minor": 0,
              "model_id": "118fd286679348beab7c646d34d7f695"
            }
          },
          "metadata": {}
        },
        {
          "output_type": "stream",
          "name": "stdout",
          "text": [
            "Refute: Add a random common cause\n",
            "Estimated effect:-0.050337685257286546\n",
            "New effect:-0.05033768525728654\n",
            "p value:1.0\n",
            "\n"
          ]
        }
      ],
      "source": [
        "refute_results = model.refute_estimate(\n",
        "    identified_estimand, estimate,\n",
        "    method_name=\"random_common_cause\",\n",
        "    show_progress_bar=True\n",
        ")\n",
        "\n",
        "print(refute_results)"
      ]
    },
    {
      "cell_type": "code",
      "execution_count": 45,
      "metadata": {
        "id": "8e51a747",
        "outputId": "f32b0c4b-5f76-4fc1-b42c-cec04d16197c",
        "colab": {
          "base_uri": "https://localhost:8080/"
        }
      },
      "outputs": [
        {
          "output_type": "stream",
          "name": "stdout",
          "text": [
            "Refute: Add an Unobserved Common Cause\n",
            "Estimated effect:-0.050337685257286546\n",
            "New effect:-0.026729364648139686\n",
            "\n"
          ]
        },
        {
          "output_type": "stream",
          "name": "stderr",
          "text": [
            "/usr/local/lib/python3.10/dist-packages/sklearn/utils/validation.py:1143: DataConversionWarning: A column-vector y was passed when a 1d array was expected. Please change the shape of y to (n_samples, ), for example using ravel().\n",
            "  y = column_or_1d(y, warn=True)\n"
          ]
        }
      ],
      "source": [
        "refute_results = model.refute_estimate(\n",
        "    identified_estimand, estimate,\n",
        "    method_name=\"add_unobserved_common_cause\",\n",
        "    show_progress_bar=True\n",
        ")\n",
        "\n",
        "print(refute_results)"
      ]
    },
    {
      "cell_type": "code",
      "execution_count": 46,
      "metadata": {
        "id": "1b6900b0",
        "outputId": "22569629-f5be-4348-9676-70f413bd03d0",
        "colab": {
          "base_uri": "https://localhost:8080/",
          "height": 1000,
          "referenced_widgets": [
            "74b41128d9cd4e4cbdade99c8838e1ff",
            "d73c67a3a25e498b945335d874017016",
            "2adb297efbdc4da59fcc653a2ede13fd",
            "49a8ab15b81849fbbae8bf11a2de371d",
            "6086783115c0463aa56072e6d40eae1d",
            "4b591fa55220428586c74b65b3fb65ed",
            "4d5547428ded442ca76d86934a997ef3",
            "653d74ace067405cb1f5c491aa356c30",
            "ed76c0bf22364d56a6ba5e61689e0378",
            "f42d6a879c974219b029a180a4d626f1",
            "cc84bf56602547d7b60ff744aad618f7"
          ]
        }
      },
      "outputs": [
        {
          "output_type": "display_data",
          "data": {
            "text/plain": [
              "Refuting Estimates:   0%|          | 0/100 [00:00<?, ?it/s]"
            ],
            "application/vnd.jupyter.widget-view+json": {
              "version_major": 2,
              "version_minor": 0,
              "model_id": "74b41128d9cd4e4cbdade99c8838e1ff"
            }
          },
          "metadata": {}
        },
        {
          "output_type": "stream",
          "name": "stderr",
          "text": [
            "/usr/local/lib/python3.10/dist-packages/dowhy/causal_estimators/propensity_score_weighting_estimator.py:245: RuntimeWarning: invalid value encountered in double_scalars\n",
            "  est = data[\"d_y\"].sum() / sum_dy_weights - data[\"dbar_y\"].sum() / sum_dbary_weights\n",
            "/usr/local/lib/python3.10/dist-packages/dowhy/causal_estimators/propensity_score_weighting_estimator.py:245: RuntimeWarning: invalid value encountered in double_scalars\n",
            "  est = data[\"d_y\"].sum() / sum_dy_weights - data[\"dbar_y\"].sum() / sum_dbary_weights\n",
            "/usr/local/lib/python3.10/dist-packages/dowhy/causal_estimators/propensity_score_weighting_estimator.py:245: RuntimeWarning: invalid value encountered in double_scalars\n",
            "  est = data[\"d_y\"].sum() / sum_dy_weights - data[\"dbar_y\"].sum() / sum_dbary_weights\n",
            "/usr/local/lib/python3.10/dist-packages/dowhy/causal_estimators/propensity_score_weighting_estimator.py:245: RuntimeWarning: invalid value encountered in double_scalars\n",
            "  est = data[\"d_y\"].sum() / sum_dy_weights - data[\"dbar_y\"].sum() / sum_dbary_weights\n",
            "/usr/local/lib/python3.10/dist-packages/dowhy/causal_estimators/propensity_score_weighting_estimator.py:245: RuntimeWarning: invalid value encountered in double_scalars\n",
            "  est = data[\"d_y\"].sum() / sum_dy_weights - data[\"dbar_y\"].sum() / sum_dbary_weights\n",
            "/usr/local/lib/python3.10/dist-packages/dowhy/causal_estimators/propensity_score_weighting_estimator.py:245: RuntimeWarning: invalid value encountered in double_scalars\n",
            "  est = data[\"d_y\"].sum() / sum_dy_weights - data[\"dbar_y\"].sum() / sum_dbary_weights\n",
            "/usr/local/lib/python3.10/dist-packages/dowhy/causal_estimators/propensity_score_weighting_estimator.py:245: RuntimeWarning: invalid value encountered in double_scalars\n",
            "  est = data[\"d_y\"].sum() / sum_dy_weights - data[\"dbar_y\"].sum() / sum_dbary_weights\n",
            "/usr/local/lib/python3.10/dist-packages/dowhy/causal_estimators/propensity_score_weighting_estimator.py:245: RuntimeWarning: invalid value encountered in double_scalars\n",
            "  est = data[\"d_y\"].sum() / sum_dy_weights - data[\"dbar_y\"].sum() / sum_dbary_weights\n",
            "/usr/local/lib/python3.10/dist-packages/dowhy/causal_estimators/propensity_score_weighting_estimator.py:245: RuntimeWarning: invalid value encountered in double_scalars\n",
            "  est = data[\"d_y\"].sum() / sum_dy_weights - data[\"dbar_y\"].sum() / sum_dbary_weights\n",
            "/usr/local/lib/python3.10/dist-packages/dowhy/causal_estimators/propensity_score_weighting_estimator.py:245: RuntimeWarning: invalid value encountered in double_scalars\n",
            "  est = data[\"d_y\"].sum() / sum_dy_weights - data[\"dbar_y\"].sum() / sum_dbary_weights\n",
            "/usr/local/lib/python3.10/dist-packages/dowhy/causal_estimators/propensity_score_weighting_estimator.py:245: RuntimeWarning: invalid value encountered in double_scalars\n",
            "  est = data[\"d_y\"].sum() / sum_dy_weights - data[\"dbar_y\"].sum() / sum_dbary_weights\n",
            "/usr/local/lib/python3.10/dist-packages/dowhy/causal_estimators/propensity_score_weighting_estimator.py:245: RuntimeWarning: invalid value encountered in double_scalars\n",
            "  est = data[\"d_y\"].sum() / sum_dy_weights - data[\"dbar_y\"].sum() / sum_dbary_weights\n",
            "/usr/local/lib/python3.10/dist-packages/dowhy/causal_estimators/propensity_score_weighting_estimator.py:245: RuntimeWarning: invalid value encountered in double_scalars\n",
            "  est = data[\"d_y\"].sum() / sum_dy_weights - data[\"dbar_y\"].sum() / sum_dbary_weights\n",
            "/usr/local/lib/python3.10/dist-packages/dowhy/causal_estimators/propensity_score_weighting_estimator.py:245: RuntimeWarning: invalid value encountered in double_scalars\n",
            "  est = data[\"d_y\"].sum() / sum_dy_weights - data[\"dbar_y\"].sum() / sum_dbary_weights\n",
            "/usr/local/lib/python3.10/dist-packages/dowhy/causal_estimators/propensity_score_weighting_estimator.py:245: RuntimeWarning: invalid value encountered in double_scalars\n",
            "  est = data[\"d_y\"].sum() / sum_dy_weights - data[\"dbar_y\"].sum() / sum_dbary_weights\n",
            "/usr/local/lib/python3.10/dist-packages/dowhy/causal_estimators/propensity_score_weighting_estimator.py:245: RuntimeWarning: invalid value encountered in double_scalars\n",
            "  est = data[\"d_y\"].sum() / sum_dy_weights - data[\"dbar_y\"].sum() / sum_dbary_weights\n",
            "/usr/local/lib/python3.10/dist-packages/dowhy/causal_estimators/propensity_score_weighting_estimator.py:245: RuntimeWarning: invalid value encountered in double_scalars\n",
            "  est = data[\"d_y\"].sum() / sum_dy_weights - data[\"dbar_y\"].sum() / sum_dbary_weights\n",
            "/usr/local/lib/python3.10/dist-packages/dowhy/causal_estimators/propensity_score_weighting_estimator.py:245: RuntimeWarning: invalid value encountered in double_scalars\n",
            "  est = data[\"d_y\"].sum() / sum_dy_weights - data[\"dbar_y\"].sum() / sum_dbary_weights\n",
            "/usr/local/lib/python3.10/dist-packages/dowhy/causal_estimators/propensity_score_weighting_estimator.py:245: RuntimeWarning: invalid value encountered in double_scalars\n",
            "  est = data[\"d_y\"].sum() / sum_dy_weights - data[\"dbar_y\"].sum() / sum_dbary_weights\n",
            "/usr/local/lib/python3.10/dist-packages/dowhy/causal_estimators/propensity_score_weighting_estimator.py:245: RuntimeWarning: invalid value encountered in double_scalars\n",
            "  est = data[\"d_y\"].sum() / sum_dy_weights - data[\"dbar_y\"].sum() / sum_dbary_weights\n",
            "/usr/local/lib/python3.10/dist-packages/dowhy/causal_estimators/propensity_score_weighting_estimator.py:245: RuntimeWarning: invalid value encountered in double_scalars\n",
            "  est = data[\"d_y\"].sum() / sum_dy_weights - data[\"dbar_y\"].sum() / sum_dbary_weights\n",
            "/usr/local/lib/python3.10/dist-packages/dowhy/causal_estimators/propensity_score_weighting_estimator.py:245: RuntimeWarning: invalid value encountered in double_scalars\n",
            "  est = data[\"d_y\"].sum() / sum_dy_weights - data[\"dbar_y\"].sum() / sum_dbary_weights\n",
            "/usr/local/lib/python3.10/dist-packages/dowhy/causal_estimators/propensity_score_weighting_estimator.py:245: RuntimeWarning: invalid value encountered in double_scalars\n",
            "  est = data[\"d_y\"].sum() / sum_dy_weights - data[\"dbar_y\"].sum() / sum_dbary_weights\n",
            "/usr/local/lib/python3.10/dist-packages/dowhy/causal_estimators/propensity_score_weighting_estimator.py:245: RuntimeWarning: invalid value encountered in double_scalars\n",
            "  est = data[\"d_y\"].sum() / sum_dy_weights - data[\"dbar_y\"].sum() / sum_dbary_weights\n",
            "/usr/local/lib/python3.10/dist-packages/dowhy/causal_estimators/propensity_score_weighting_estimator.py:245: RuntimeWarning: invalid value encountered in double_scalars\n",
            "  est = data[\"d_y\"].sum() / sum_dy_weights - data[\"dbar_y\"].sum() / sum_dbary_weights\n",
            "/usr/local/lib/python3.10/dist-packages/dowhy/causal_estimators/propensity_score_weighting_estimator.py:245: RuntimeWarning: invalid value encountered in double_scalars\n",
            "  est = data[\"d_y\"].sum() / sum_dy_weights - data[\"dbar_y\"].sum() / sum_dbary_weights\n",
            "/usr/local/lib/python3.10/dist-packages/dowhy/causal_estimators/propensity_score_weighting_estimator.py:245: RuntimeWarning: invalid value encountered in double_scalars\n",
            "  est = data[\"d_y\"].sum() / sum_dy_weights - data[\"dbar_y\"].sum() / sum_dbary_weights\n",
            "/usr/local/lib/python3.10/dist-packages/dowhy/causal_estimators/propensity_score_weighting_estimator.py:245: RuntimeWarning: invalid value encountered in double_scalars\n",
            "  est = data[\"d_y\"].sum() / sum_dy_weights - data[\"dbar_y\"].sum() / sum_dbary_weights\n",
            "/usr/local/lib/python3.10/dist-packages/dowhy/causal_estimators/propensity_score_weighting_estimator.py:245: RuntimeWarning: invalid value encountered in double_scalars\n",
            "  est = data[\"d_y\"].sum() / sum_dy_weights - data[\"dbar_y\"].sum() / sum_dbary_weights\n",
            "/usr/local/lib/python3.10/dist-packages/dowhy/causal_estimators/propensity_score_weighting_estimator.py:245: RuntimeWarning: invalid value encountered in double_scalars\n",
            "  est = data[\"d_y\"].sum() / sum_dy_weights - data[\"dbar_y\"].sum() / sum_dbary_weights\n",
            "/usr/local/lib/python3.10/dist-packages/dowhy/causal_estimators/propensity_score_weighting_estimator.py:245: RuntimeWarning: invalid value encountered in double_scalars\n",
            "  est = data[\"d_y\"].sum() / sum_dy_weights - data[\"dbar_y\"].sum() / sum_dbary_weights\n",
            "/usr/local/lib/python3.10/dist-packages/dowhy/causal_estimators/propensity_score_weighting_estimator.py:245: RuntimeWarning: invalid value encountered in double_scalars\n",
            "  est = data[\"d_y\"].sum() / sum_dy_weights - data[\"dbar_y\"].sum() / sum_dbary_weights\n",
            "/usr/local/lib/python3.10/dist-packages/dowhy/causal_estimators/propensity_score_weighting_estimator.py:245: RuntimeWarning: invalid value encountered in double_scalars\n",
            "  est = data[\"d_y\"].sum() / sum_dy_weights - data[\"dbar_y\"].sum() / sum_dbary_weights\n",
            "/usr/local/lib/python3.10/dist-packages/dowhy/causal_estimators/propensity_score_weighting_estimator.py:245: RuntimeWarning: invalid value encountered in double_scalars\n",
            "  est = data[\"d_y\"].sum() / sum_dy_weights - data[\"dbar_y\"].sum() / sum_dbary_weights\n",
            "/usr/local/lib/python3.10/dist-packages/dowhy/causal_estimators/propensity_score_weighting_estimator.py:245: RuntimeWarning: invalid value encountered in double_scalars\n",
            "  est = data[\"d_y\"].sum() / sum_dy_weights - data[\"dbar_y\"].sum() / sum_dbary_weights\n",
            "/usr/local/lib/python3.10/dist-packages/dowhy/causal_estimators/propensity_score_weighting_estimator.py:245: RuntimeWarning: invalid value encountered in double_scalars\n",
            "  est = data[\"d_y\"].sum() / sum_dy_weights - data[\"dbar_y\"].sum() / sum_dbary_weights\n",
            "/usr/local/lib/python3.10/dist-packages/dowhy/causal_estimators/propensity_score_weighting_estimator.py:245: RuntimeWarning: invalid value encountered in double_scalars\n",
            "  est = data[\"d_y\"].sum() / sum_dy_weights - data[\"dbar_y\"].sum() / sum_dbary_weights\n",
            "/usr/local/lib/python3.10/dist-packages/dowhy/causal_estimators/propensity_score_weighting_estimator.py:245: RuntimeWarning: invalid value encountered in double_scalars\n",
            "  est = data[\"d_y\"].sum() / sum_dy_weights - data[\"dbar_y\"].sum() / sum_dbary_weights\n",
            "/usr/local/lib/python3.10/dist-packages/dowhy/causal_estimators/propensity_score_weighting_estimator.py:245: RuntimeWarning: invalid value encountered in double_scalars\n",
            "  est = data[\"d_y\"].sum() / sum_dy_weights - data[\"dbar_y\"].sum() / sum_dbary_weights\n",
            "/usr/local/lib/python3.10/dist-packages/dowhy/causal_estimators/propensity_score_weighting_estimator.py:245: RuntimeWarning: invalid value encountered in double_scalars\n",
            "  est = data[\"d_y\"].sum() / sum_dy_weights - data[\"dbar_y\"].sum() / sum_dbary_weights\n",
            "/usr/local/lib/python3.10/dist-packages/dowhy/causal_estimators/propensity_score_weighting_estimator.py:245: RuntimeWarning: invalid value encountered in double_scalars\n",
            "  est = data[\"d_y\"].sum() / sum_dy_weights - data[\"dbar_y\"].sum() / sum_dbary_weights\n",
            "/usr/local/lib/python3.10/dist-packages/dowhy/causal_estimators/propensity_score_weighting_estimator.py:245: RuntimeWarning: invalid value encountered in double_scalars\n",
            "  est = data[\"d_y\"].sum() / sum_dy_weights - data[\"dbar_y\"].sum() / sum_dbary_weights\n",
            "/usr/local/lib/python3.10/dist-packages/dowhy/causal_estimators/propensity_score_weighting_estimator.py:245: RuntimeWarning: invalid value encountered in double_scalars\n",
            "  est = data[\"d_y\"].sum() / sum_dy_weights - data[\"dbar_y\"].sum() / sum_dbary_weights\n",
            "/usr/local/lib/python3.10/dist-packages/dowhy/causal_estimators/propensity_score_weighting_estimator.py:245: RuntimeWarning: invalid value encountered in double_scalars\n",
            "  est = data[\"d_y\"].sum() / sum_dy_weights - data[\"dbar_y\"].sum() / sum_dbary_weights\n",
            "/usr/local/lib/python3.10/dist-packages/dowhy/causal_estimators/propensity_score_weighting_estimator.py:245: RuntimeWarning: invalid value encountered in double_scalars\n",
            "  est = data[\"d_y\"].sum() / sum_dy_weights - data[\"dbar_y\"].sum() / sum_dbary_weights\n",
            "/usr/local/lib/python3.10/dist-packages/dowhy/causal_estimators/propensity_score_weighting_estimator.py:245: RuntimeWarning: invalid value encountered in double_scalars\n",
            "  est = data[\"d_y\"].sum() / sum_dy_weights - data[\"dbar_y\"].sum() / sum_dbary_weights\n",
            "/usr/local/lib/python3.10/dist-packages/dowhy/causal_estimators/propensity_score_weighting_estimator.py:245: RuntimeWarning: invalid value encountered in double_scalars\n",
            "  est = data[\"d_y\"].sum() / sum_dy_weights - data[\"dbar_y\"].sum() / sum_dbary_weights\n",
            "/usr/local/lib/python3.10/dist-packages/dowhy/causal_estimators/propensity_score_weighting_estimator.py:245: RuntimeWarning: invalid value encountered in double_scalars\n",
            "  est = data[\"d_y\"].sum() / sum_dy_weights - data[\"dbar_y\"].sum() / sum_dbary_weights\n",
            "/usr/local/lib/python3.10/dist-packages/dowhy/causal_estimators/propensity_score_weighting_estimator.py:245: RuntimeWarning: invalid value encountered in double_scalars\n",
            "  est = data[\"d_y\"].sum() / sum_dy_weights - data[\"dbar_y\"].sum() / sum_dbary_weights\n",
            "/usr/local/lib/python3.10/dist-packages/dowhy/causal_estimators/propensity_score_weighting_estimator.py:245: RuntimeWarning: invalid value encountered in double_scalars\n",
            "  est = data[\"d_y\"].sum() / sum_dy_weights - data[\"dbar_y\"].sum() / sum_dbary_weights\n",
            "/usr/local/lib/python3.10/dist-packages/dowhy/causal_estimators/propensity_score_weighting_estimator.py:245: RuntimeWarning: invalid value encountered in double_scalars\n",
            "  est = data[\"d_y\"].sum() / sum_dy_weights - data[\"dbar_y\"].sum() / sum_dbary_weights\n",
            "/usr/local/lib/python3.10/dist-packages/dowhy/causal_estimators/propensity_score_weighting_estimator.py:245: RuntimeWarning: invalid value encountered in double_scalars\n",
            "  est = data[\"d_y\"].sum() / sum_dy_weights - data[\"dbar_y\"].sum() / sum_dbary_weights\n",
            "/usr/local/lib/python3.10/dist-packages/dowhy/causal_estimators/propensity_score_weighting_estimator.py:245: RuntimeWarning: invalid value encountered in double_scalars\n",
            "  est = data[\"d_y\"].sum() / sum_dy_weights - data[\"dbar_y\"].sum() / sum_dbary_weights\n",
            "/usr/local/lib/python3.10/dist-packages/dowhy/causal_estimators/propensity_score_weighting_estimator.py:245: RuntimeWarning: invalid value encountered in double_scalars\n",
            "  est = data[\"d_y\"].sum() / sum_dy_weights - data[\"dbar_y\"].sum() / sum_dbary_weights\n",
            "/usr/local/lib/python3.10/dist-packages/dowhy/causal_estimators/propensity_score_weighting_estimator.py:245: RuntimeWarning: invalid value encountered in double_scalars\n",
            "  est = data[\"d_y\"].sum() / sum_dy_weights - data[\"dbar_y\"].sum() / sum_dbary_weights\n",
            "/usr/local/lib/python3.10/dist-packages/dowhy/causal_estimators/propensity_score_weighting_estimator.py:245: RuntimeWarning: invalid value encountered in double_scalars\n",
            "  est = data[\"d_y\"].sum() / sum_dy_weights - data[\"dbar_y\"].sum() / sum_dbary_weights\n",
            "/usr/local/lib/python3.10/dist-packages/dowhy/causal_estimators/propensity_score_weighting_estimator.py:245: RuntimeWarning: invalid value encountered in double_scalars\n",
            "  est = data[\"d_y\"].sum() / sum_dy_weights - data[\"dbar_y\"].sum() / sum_dbary_weights\n",
            "/usr/local/lib/python3.10/dist-packages/dowhy/causal_estimators/propensity_score_weighting_estimator.py:245: RuntimeWarning: invalid value encountered in double_scalars\n",
            "  est = data[\"d_y\"].sum() / sum_dy_weights - data[\"dbar_y\"].sum() / sum_dbary_weights\n",
            "/usr/local/lib/python3.10/dist-packages/dowhy/causal_estimators/propensity_score_weighting_estimator.py:245: RuntimeWarning: invalid value encountered in double_scalars\n",
            "  est = data[\"d_y\"].sum() / sum_dy_weights - data[\"dbar_y\"].sum() / sum_dbary_weights\n",
            "/usr/local/lib/python3.10/dist-packages/dowhy/causal_estimators/propensity_score_weighting_estimator.py:245: RuntimeWarning: invalid value encountered in double_scalars\n",
            "  est = data[\"d_y\"].sum() / sum_dy_weights - data[\"dbar_y\"].sum() / sum_dbary_weights\n",
            "/usr/local/lib/python3.10/dist-packages/dowhy/causal_estimators/propensity_score_weighting_estimator.py:245: RuntimeWarning: invalid value encountered in double_scalars\n",
            "  est = data[\"d_y\"].sum() / sum_dy_weights - data[\"dbar_y\"].sum() / sum_dbary_weights\n",
            "/usr/local/lib/python3.10/dist-packages/dowhy/causal_estimators/propensity_score_weighting_estimator.py:245: RuntimeWarning: invalid value encountered in double_scalars\n",
            "  est = data[\"d_y\"].sum() / sum_dy_weights - data[\"dbar_y\"].sum() / sum_dbary_weights\n",
            "/usr/local/lib/python3.10/dist-packages/dowhy/causal_estimators/propensity_score_weighting_estimator.py:245: RuntimeWarning: invalid value encountered in double_scalars\n",
            "  est = data[\"d_y\"].sum() / sum_dy_weights - data[\"dbar_y\"].sum() / sum_dbary_weights\n",
            "/usr/local/lib/python3.10/dist-packages/dowhy/causal_estimators/propensity_score_weighting_estimator.py:245: RuntimeWarning: invalid value encountered in double_scalars\n",
            "  est = data[\"d_y\"].sum() / sum_dy_weights - data[\"dbar_y\"].sum() / sum_dbary_weights\n",
            "/usr/local/lib/python3.10/dist-packages/dowhy/causal_estimators/propensity_score_weighting_estimator.py:245: RuntimeWarning: invalid value encountered in double_scalars\n",
            "  est = data[\"d_y\"].sum() / sum_dy_weights - data[\"dbar_y\"].sum() / sum_dbary_weights\n",
            "/usr/local/lib/python3.10/dist-packages/dowhy/causal_estimators/propensity_score_weighting_estimator.py:245: RuntimeWarning: invalid value encountered in double_scalars\n",
            "  est = data[\"d_y\"].sum() / sum_dy_weights - data[\"dbar_y\"].sum() / sum_dbary_weights\n",
            "/usr/local/lib/python3.10/dist-packages/dowhy/causal_estimators/propensity_score_weighting_estimator.py:245: RuntimeWarning: invalid value encountered in double_scalars\n",
            "  est = data[\"d_y\"].sum() / sum_dy_weights - data[\"dbar_y\"].sum() / sum_dbary_weights\n",
            "/usr/local/lib/python3.10/dist-packages/dowhy/causal_estimators/propensity_score_weighting_estimator.py:245: RuntimeWarning: invalid value encountered in double_scalars\n",
            "  est = data[\"d_y\"].sum() / sum_dy_weights - data[\"dbar_y\"].sum() / sum_dbary_weights\n",
            "/usr/local/lib/python3.10/dist-packages/dowhy/causal_estimators/propensity_score_weighting_estimator.py:245: RuntimeWarning: invalid value encountered in double_scalars\n",
            "  est = data[\"d_y\"].sum() / sum_dy_weights - data[\"dbar_y\"].sum() / sum_dbary_weights\n",
            "/usr/local/lib/python3.10/dist-packages/dowhy/causal_estimators/propensity_score_weighting_estimator.py:245: RuntimeWarning: invalid value encountered in double_scalars\n",
            "  est = data[\"d_y\"].sum() / sum_dy_weights - data[\"dbar_y\"].sum() / sum_dbary_weights\n",
            "/usr/local/lib/python3.10/dist-packages/dowhy/causal_estimators/propensity_score_weighting_estimator.py:245: RuntimeWarning: invalid value encountered in double_scalars\n",
            "  est = data[\"d_y\"].sum() / sum_dy_weights - data[\"dbar_y\"].sum() / sum_dbary_weights\n",
            "/usr/local/lib/python3.10/dist-packages/dowhy/causal_estimators/propensity_score_weighting_estimator.py:245: RuntimeWarning: invalid value encountered in double_scalars\n",
            "  est = data[\"d_y\"].sum() / sum_dy_weights - data[\"dbar_y\"].sum() / sum_dbary_weights\n",
            "/usr/local/lib/python3.10/dist-packages/dowhy/causal_estimators/propensity_score_weighting_estimator.py:245: RuntimeWarning: invalid value encountered in double_scalars\n",
            "  est = data[\"d_y\"].sum() / sum_dy_weights - data[\"dbar_y\"].sum() / sum_dbary_weights\n",
            "/usr/local/lib/python3.10/dist-packages/dowhy/causal_estimators/propensity_score_weighting_estimator.py:245: RuntimeWarning: invalid value encountered in double_scalars\n",
            "  est = data[\"d_y\"].sum() / sum_dy_weights - data[\"dbar_y\"].sum() / sum_dbary_weights\n",
            "/usr/local/lib/python3.10/dist-packages/dowhy/causal_estimators/propensity_score_weighting_estimator.py:245: RuntimeWarning: invalid value encountered in double_scalars\n",
            "  est = data[\"d_y\"].sum() / sum_dy_weights - data[\"dbar_y\"].sum() / sum_dbary_weights\n",
            "/usr/local/lib/python3.10/dist-packages/dowhy/causal_estimators/propensity_score_weighting_estimator.py:245: RuntimeWarning: invalid value encountered in double_scalars\n",
            "  est = data[\"d_y\"].sum() / sum_dy_weights - data[\"dbar_y\"].sum() / sum_dbary_weights\n",
            "/usr/local/lib/python3.10/dist-packages/dowhy/causal_estimators/propensity_score_weighting_estimator.py:245: RuntimeWarning: invalid value encountered in double_scalars\n",
            "  est = data[\"d_y\"].sum() / sum_dy_weights - data[\"dbar_y\"].sum() / sum_dbary_weights\n",
            "/usr/local/lib/python3.10/dist-packages/dowhy/causal_estimators/propensity_score_weighting_estimator.py:245: RuntimeWarning: invalid value encountered in double_scalars\n",
            "  est = data[\"d_y\"].sum() / sum_dy_weights - data[\"dbar_y\"].sum() / sum_dbary_weights\n",
            "/usr/local/lib/python3.10/dist-packages/dowhy/causal_estimators/propensity_score_weighting_estimator.py:245: RuntimeWarning: invalid value encountered in double_scalars\n",
            "  est = data[\"d_y\"].sum() / sum_dy_weights - data[\"dbar_y\"].sum() / sum_dbary_weights\n",
            "/usr/local/lib/python3.10/dist-packages/dowhy/causal_estimators/propensity_score_weighting_estimator.py:245: RuntimeWarning: invalid value encountered in double_scalars\n",
            "  est = data[\"d_y\"].sum() / sum_dy_weights - data[\"dbar_y\"].sum() / sum_dbary_weights\n",
            "/usr/local/lib/python3.10/dist-packages/dowhy/causal_estimators/propensity_score_weighting_estimator.py:245: RuntimeWarning: invalid value encountered in double_scalars\n",
            "  est = data[\"d_y\"].sum() / sum_dy_weights - data[\"dbar_y\"].sum() / sum_dbary_weights\n",
            "/usr/local/lib/python3.10/dist-packages/dowhy/causal_estimators/propensity_score_weighting_estimator.py:245: RuntimeWarning: invalid value encountered in double_scalars\n",
            "  est = data[\"d_y\"].sum() / sum_dy_weights - data[\"dbar_y\"].sum() / sum_dbary_weights\n",
            "/usr/local/lib/python3.10/dist-packages/dowhy/causal_estimators/propensity_score_weighting_estimator.py:245: RuntimeWarning: invalid value encountered in double_scalars\n",
            "  est = data[\"d_y\"].sum() / sum_dy_weights - data[\"dbar_y\"].sum() / sum_dbary_weights\n",
            "/usr/local/lib/python3.10/dist-packages/dowhy/causal_estimators/propensity_score_weighting_estimator.py:245: RuntimeWarning: invalid value encountered in double_scalars\n",
            "  est = data[\"d_y\"].sum() / sum_dy_weights - data[\"dbar_y\"].sum() / sum_dbary_weights\n",
            "/usr/local/lib/python3.10/dist-packages/dowhy/causal_estimators/propensity_score_weighting_estimator.py:245: RuntimeWarning: invalid value encountered in double_scalars\n",
            "  est = data[\"d_y\"].sum() / sum_dy_weights - data[\"dbar_y\"].sum() / sum_dbary_weights\n",
            "/usr/local/lib/python3.10/dist-packages/dowhy/causal_estimators/propensity_score_weighting_estimator.py:245: RuntimeWarning: invalid value encountered in double_scalars\n",
            "  est = data[\"d_y\"].sum() / sum_dy_weights - data[\"dbar_y\"].sum() / sum_dbary_weights\n",
            "/usr/local/lib/python3.10/dist-packages/dowhy/causal_estimators/propensity_score_weighting_estimator.py:245: RuntimeWarning: invalid value encountered in double_scalars\n",
            "  est = data[\"d_y\"].sum() / sum_dy_weights - data[\"dbar_y\"].sum() / sum_dbary_weights\n",
            "/usr/local/lib/python3.10/dist-packages/dowhy/causal_estimators/propensity_score_weighting_estimator.py:245: RuntimeWarning: invalid value encountered in double_scalars\n",
            "  est = data[\"d_y\"].sum() / sum_dy_weights - data[\"dbar_y\"].sum() / sum_dbary_weights\n",
            "/usr/local/lib/python3.10/dist-packages/dowhy/causal_estimators/propensity_score_weighting_estimator.py:245: RuntimeWarning: invalid value encountered in double_scalars\n",
            "  est = data[\"d_y\"].sum() / sum_dy_weights - data[\"dbar_y\"].sum() / sum_dbary_weights\n",
            "/usr/local/lib/python3.10/dist-packages/dowhy/causal_estimators/propensity_score_weighting_estimator.py:245: RuntimeWarning: invalid value encountered in double_scalars\n",
            "  est = data[\"d_y\"].sum() / sum_dy_weights - data[\"dbar_y\"].sum() / sum_dbary_weights\n",
            "/usr/local/lib/python3.10/dist-packages/dowhy/causal_estimators/propensity_score_weighting_estimator.py:245: RuntimeWarning: invalid value encountered in double_scalars\n",
            "  est = data[\"d_y\"].sum() / sum_dy_weights - data[\"dbar_y\"].sum() / sum_dbary_weights\n",
            "/usr/local/lib/python3.10/dist-packages/dowhy/causal_estimators/propensity_score_weighting_estimator.py:245: RuntimeWarning: invalid value encountered in double_scalars\n",
            "  est = data[\"d_y\"].sum() / sum_dy_weights - data[\"dbar_y\"].sum() / sum_dbary_weights\n",
            "/usr/local/lib/python3.10/dist-packages/dowhy/causal_estimators/propensity_score_weighting_estimator.py:245: RuntimeWarning: invalid value encountered in double_scalars\n",
            "  est = data[\"d_y\"].sum() / sum_dy_weights - data[\"dbar_y\"].sum() / sum_dbary_weights\n",
            "/usr/local/lib/python3.10/dist-packages/dowhy/causal_estimators/propensity_score_weighting_estimator.py:245: RuntimeWarning: invalid value encountered in double_scalars\n",
            "  est = data[\"d_y\"].sum() / sum_dy_weights - data[\"dbar_y\"].sum() / sum_dbary_weights\n",
            "/usr/local/lib/python3.10/dist-packages/dowhy/causal_estimators/propensity_score_weighting_estimator.py:245: RuntimeWarning: invalid value encountered in double_scalars\n",
            "  est = data[\"d_y\"].sum() / sum_dy_weights - data[\"dbar_y\"].sum() / sum_dbary_weights\n",
            "/usr/local/lib/python3.10/dist-packages/dowhy/causal_estimators/propensity_score_weighting_estimator.py:245: RuntimeWarning: invalid value encountered in double_scalars\n",
            "  est = data[\"d_y\"].sum() / sum_dy_weights - data[\"dbar_y\"].sum() / sum_dbary_weights\n",
            "/usr/local/lib/python3.10/dist-packages/dowhy/causal_estimators/propensity_score_weighting_estimator.py:245: RuntimeWarning: invalid value encountered in double_scalars\n",
            "  est = data[\"d_y\"].sum() / sum_dy_weights - data[\"dbar_y\"].sum() / sum_dbary_weights\n"
          ]
        },
        {
          "output_type": "stream",
          "name": "stdout",
          "text": [
            "Refute: Use a Placebo Treatment\n",
            "Estimated effect:-0.050337685257286546\n",
            "New effect:nan\n",
            "p value:0.0\n",
            "\n"
          ]
        },
        {
          "output_type": "stream",
          "name": "stderr",
          "text": [
            "/usr/local/lib/python3.10/dist-packages/dowhy/causal_estimators/propensity_score_weighting_estimator.py:245: RuntimeWarning: invalid value encountered in double_scalars\n",
            "  est = data[\"d_y\"].sum() / sum_dy_weights - data[\"dbar_y\"].sum() / sum_dbary_weights\n",
            "/usr/local/lib/python3.10/dist-packages/dowhy/causal_estimators/propensity_score_weighting_estimator.py:245: RuntimeWarning: invalid value encountered in double_scalars\n",
            "  est = data[\"d_y\"].sum() / sum_dy_weights - data[\"dbar_y\"].sum() / sum_dbary_weights\n",
            "/usr/local/lib/python3.10/dist-packages/dowhy/causal_estimators/propensity_score_weighting_estimator.py:245: RuntimeWarning: invalid value encountered in double_scalars\n",
            "  est = data[\"d_y\"].sum() / sum_dy_weights - data[\"dbar_y\"].sum() / sum_dbary_weights\n"
          ]
        }
      ],
      "source": [
        "refute_results = model.refute_estimate(\n",
        "    identified_estimand, estimate,\n",
        "    method_name=\"placebo_treatment_refuter\",\n",
        "    show_progress_bar=True\n",
        ")\n",
        "\n",
        "print(refute_results)"
      ]
    },
    {
      "cell_type": "code",
      "execution_count": 47,
      "metadata": {
        "id": "3ce3b34b",
        "outputId": "93155193-6d39-4a3d-dc72-47fc6224f7aa",
        "colab": {
          "base_uri": "https://localhost:8080/",
          "height": 136,
          "referenced_widgets": [
            "03e2691ba0ab4b7a9748b10de8e11627",
            "439afad23b3c416993a3cc15a8a77631",
            "fcd76363a5554a129990577038e0db06",
            "b782dd2b9e0941469b4dae0bf9a3f9df",
            "9dd4bdd19f144e6e94930cdca7fb51ad",
            "a5e311ef08054f45b928d94dd81dc75e",
            "7c65fac3640549d089c1f1fe88b2e2c4",
            "d637a5d1b7d643d699727cf3233d1ca6",
            "5035046f3c6c41f7af4f8b23bcbfb364",
            "008c4ec676a1463cab5db08b4718fd67",
            "22b6b9d3708c4efcbd55106712817ad9"
          ]
        }
      },
      "outputs": [
        {
          "output_type": "display_data",
          "data": {
            "text/plain": [
              "Refuting Estimates:   0%|          | 0/100 [00:00<?, ?it/s]"
            ],
            "application/vnd.jupyter.widget-view+json": {
              "version_major": 2,
              "version_minor": 0,
              "model_id": "03e2691ba0ab4b7a9748b10de8e11627"
            }
          },
          "metadata": {}
        },
        {
          "output_type": "stream",
          "name": "stdout",
          "text": [
            "Refute: Use a subset of data\n",
            "Estimated effect:-0.050337685257286546\n",
            "New effect:-0.05224513757932712\n",
            "p value:0.92\n",
            "\n"
          ]
        }
      ],
      "source": [
        "refute_results = model.refute_estimate(\n",
        "    identified_estimand, estimate,\n",
        "    method_name=\"data_subset_refuter\",\n",
        "    show_progress_bar=True\n",
        ")\n",
        "\n",
        "print(refute_results)"
      ]
    },
    {
      "cell_type": "markdown",
      "metadata": {
        "id": "jOmIAg3zMBqc"
      },
      "source": [
        "**Вывод:**"
      ]
    },
    {
      "cell_type": "code",
      "execution_count": null,
      "metadata": {
        "id": "IkPeV9w0MDlf"
      },
      "outputs": [],
      "source": []
    }
  ],
  "metadata": {
    "colab": {
      "provenance": [],
      "include_colab_link": true
    },
    "kernelspec": {
      "display_name": "Python 3",
      "name": "python3"
    },
    "language_info": {
      "codemirror_mode": {
        "name": "ipython",
        "version": 3
      },
      "file_extension": ".py",
      "mimetype": "text/x-python",
      "name": "python",
      "nbconvert_exporter": "python",
      "pygments_lexer": "ipython3",
      "version": "3.11.3"
    },
    "widgets": {
      "application/vnd.jupyter.widget-state+json": {
        "118fd286679348beab7c646d34d7f695": {
          "model_module": "@jupyter-widgets/controls",
          "model_name": "HBoxModel",
          "model_module_version": "1.5.0",
          "state": {
            "_dom_classes": [],
            "_model_module": "@jupyter-widgets/controls",
            "_model_module_version": "1.5.0",
            "_model_name": "HBoxModel",
            "_view_count": null,
            "_view_module": "@jupyter-widgets/controls",
            "_view_module_version": "1.5.0",
            "_view_name": "HBoxView",
            "box_style": "",
            "children": [
              "IPY_MODEL_2f7be50fea61453181a44c93c2ca765d",
              "IPY_MODEL_9b725078f2f1429593548de467184ac3",
              "IPY_MODEL_bfc503e46e464974a463f5e554dbf03e"
            ],
            "layout": "IPY_MODEL_cc4df2197fdb48619715a623ae1234c0"
          }
        },
        "2f7be50fea61453181a44c93c2ca765d": {
          "model_module": "@jupyter-widgets/controls",
          "model_name": "HTMLModel",
          "model_module_version": "1.5.0",
          "state": {
            "_dom_classes": [],
            "_model_module": "@jupyter-widgets/controls",
            "_model_module_version": "1.5.0",
            "_model_name": "HTMLModel",
            "_view_count": null,
            "_view_module": "@jupyter-widgets/controls",
            "_view_module_version": "1.5.0",
            "_view_name": "HTMLView",
            "description": "",
            "description_tooltip": null,
            "layout": "IPY_MODEL_638dde7f24cb4878b8d422c860490db9",
            "placeholder": "​",
            "style": "IPY_MODEL_63e32a9294d94ec9a5c2b2123c1c1e0a",
            "value": "Refuting Estimates: 100%"
          }
        },
        "9b725078f2f1429593548de467184ac3": {
          "model_module": "@jupyter-widgets/controls",
          "model_name": "FloatProgressModel",
          "model_module_version": "1.5.0",
          "state": {
            "_dom_classes": [],
            "_model_module": "@jupyter-widgets/controls",
            "_model_module_version": "1.5.0",
            "_model_name": "FloatProgressModel",
            "_view_count": null,
            "_view_module": "@jupyter-widgets/controls",
            "_view_module_version": "1.5.0",
            "_view_name": "ProgressView",
            "bar_style": "success",
            "description": "",
            "description_tooltip": null,
            "layout": "IPY_MODEL_521e00ad474e4a538e0be482fdc263b3",
            "max": 100,
            "min": 0,
            "orientation": "horizontal",
            "style": "IPY_MODEL_5a16456a9cdd44c69e53f7cbdedd7ef8",
            "value": 100
          }
        },
        "bfc503e46e464974a463f5e554dbf03e": {
          "model_module": "@jupyter-widgets/controls",
          "model_name": "HTMLModel",
          "model_module_version": "1.5.0",
          "state": {
            "_dom_classes": [],
            "_model_module": "@jupyter-widgets/controls",
            "_model_module_version": "1.5.0",
            "_model_name": "HTMLModel",
            "_view_count": null,
            "_view_module": "@jupyter-widgets/controls",
            "_view_module_version": "1.5.0",
            "_view_name": "HTMLView",
            "description": "",
            "description_tooltip": null,
            "layout": "IPY_MODEL_c436fee3eb354161b2c76b92f3653e88",
            "placeholder": "​",
            "style": "IPY_MODEL_aa73fa0393314ed1a2af4326b00d0a85",
            "value": " 100/100 [00:01&lt;00:00, 55.19it/s]"
          }
        },
        "cc4df2197fdb48619715a623ae1234c0": {
          "model_module": "@jupyter-widgets/base",
          "model_name": "LayoutModel",
          "model_module_version": "1.2.0",
          "state": {
            "_model_module": "@jupyter-widgets/base",
            "_model_module_version": "1.2.0",
            "_model_name": "LayoutModel",
            "_view_count": null,
            "_view_module": "@jupyter-widgets/base",
            "_view_module_version": "1.2.0",
            "_view_name": "LayoutView",
            "align_content": null,
            "align_items": null,
            "align_self": null,
            "border": null,
            "bottom": null,
            "display": null,
            "flex": null,
            "flex_flow": null,
            "grid_area": null,
            "grid_auto_columns": null,
            "grid_auto_flow": null,
            "grid_auto_rows": null,
            "grid_column": null,
            "grid_gap": null,
            "grid_row": null,
            "grid_template_areas": null,
            "grid_template_columns": null,
            "grid_template_rows": null,
            "height": null,
            "justify_content": null,
            "justify_items": null,
            "left": null,
            "margin": null,
            "max_height": null,
            "max_width": null,
            "min_height": null,
            "min_width": null,
            "object_fit": null,
            "object_position": null,
            "order": null,
            "overflow": null,
            "overflow_x": null,
            "overflow_y": null,
            "padding": null,
            "right": null,
            "top": null,
            "visibility": null,
            "width": null
          }
        },
        "638dde7f24cb4878b8d422c860490db9": {
          "model_module": "@jupyter-widgets/base",
          "model_name": "LayoutModel",
          "model_module_version": "1.2.0",
          "state": {
            "_model_module": "@jupyter-widgets/base",
            "_model_module_version": "1.2.0",
            "_model_name": "LayoutModel",
            "_view_count": null,
            "_view_module": "@jupyter-widgets/base",
            "_view_module_version": "1.2.0",
            "_view_name": "LayoutView",
            "align_content": null,
            "align_items": null,
            "align_self": null,
            "border": null,
            "bottom": null,
            "display": null,
            "flex": null,
            "flex_flow": null,
            "grid_area": null,
            "grid_auto_columns": null,
            "grid_auto_flow": null,
            "grid_auto_rows": null,
            "grid_column": null,
            "grid_gap": null,
            "grid_row": null,
            "grid_template_areas": null,
            "grid_template_columns": null,
            "grid_template_rows": null,
            "height": null,
            "justify_content": null,
            "justify_items": null,
            "left": null,
            "margin": null,
            "max_height": null,
            "max_width": null,
            "min_height": null,
            "min_width": null,
            "object_fit": null,
            "object_position": null,
            "order": null,
            "overflow": null,
            "overflow_x": null,
            "overflow_y": null,
            "padding": null,
            "right": null,
            "top": null,
            "visibility": null,
            "width": null
          }
        },
        "63e32a9294d94ec9a5c2b2123c1c1e0a": {
          "model_module": "@jupyter-widgets/controls",
          "model_name": "DescriptionStyleModel",
          "model_module_version": "1.5.0",
          "state": {
            "_model_module": "@jupyter-widgets/controls",
            "_model_module_version": "1.5.0",
            "_model_name": "DescriptionStyleModel",
            "_view_count": null,
            "_view_module": "@jupyter-widgets/base",
            "_view_module_version": "1.2.0",
            "_view_name": "StyleView",
            "description_width": ""
          }
        },
        "521e00ad474e4a538e0be482fdc263b3": {
          "model_module": "@jupyter-widgets/base",
          "model_name": "LayoutModel",
          "model_module_version": "1.2.0",
          "state": {
            "_model_module": "@jupyter-widgets/base",
            "_model_module_version": "1.2.0",
            "_model_name": "LayoutModel",
            "_view_count": null,
            "_view_module": "@jupyter-widgets/base",
            "_view_module_version": "1.2.0",
            "_view_name": "LayoutView",
            "align_content": null,
            "align_items": null,
            "align_self": null,
            "border": null,
            "bottom": null,
            "display": null,
            "flex": null,
            "flex_flow": null,
            "grid_area": null,
            "grid_auto_columns": null,
            "grid_auto_flow": null,
            "grid_auto_rows": null,
            "grid_column": null,
            "grid_gap": null,
            "grid_row": null,
            "grid_template_areas": null,
            "grid_template_columns": null,
            "grid_template_rows": null,
            "height": null,
            "justify_content": null,
            "justify_items": null,
            "left": null,
            "margin": null,
            "max_height": null,
            "max_width": null,
            "min_height": null,
            "min_width": null,
            "object_fit": null,
            "object_position": null,
            "order": null,
            "overflow": null,
            "overflow_x": null,
            "overflow_y": null,
            "padding": null,
            "right": null,
            "top": null,
            "visibility": null,
            "width": null
          }
        },
        "5a16456a9cdd44c69e53f7cbdedd7ef8": {
          "model_module": "@jupyter-widgets/controls",
          "model_name": "ProgressStyleModel",
          "model_module_version": "1.5.0",
          "state": {
            "_model_module": "@jupyter-widgets/controls",
            "_model_module_version": "1.5.0",
            "_model_name": "ProgressStyleModel",
            "_view_count": null,
            "_view_module": "@jupyter-widgets/base",
            "_view_module_version": "1.2.0",
            "_view_name": "StyleView",
            "bar_color": "green",
            "description_width": ""
          }
        },
        "c436fee3eb354161b2c76b92f3653e88": {
          "model_module": "@jupyter-widgets/base",
          "model_name": "LayoutModel",
          "model_module_version": "1.2.0",
          "state": {
            "_model_module": "@jupyter-widgets/base",
            "_model_module_version": "1.2.0",
            "_model_name": "LayoutModel",
            "_view_count": null,
            "_view_module": "@jupyter-widgets/base",
            "_view_module_version": "1.2.0",
            "_view_name": "LayoutView",
            "align_content": null,
            "align_items": null,
            "align_self": null,
            "border": null,
            "bottom": null,
            "display": null,
            "flex": null,
            "flex_flow": null,
            "grid_area": null,
            "grid_auto_columns": null,
            "grid_auto_flow": null,
            "grid_auto_rows": null,
            "grid_column": null,
            "grid_gap": null,
            "grid_row": null,
            "grid_template_areas": null,
            "grid_template_columns": null,
            "grid_template_rows": null,
            "height": null,
            "justify_content": null,
            "justify_items": null,
            "left": null,
            "margin": null,
            "max_height": null,
            "max_width": null,
            "min_height": null,
            "min_width": null,
            "object_fit": null,
            "object_position": null,
            "order": null,
            "overflow": null,
            "overflow_x": null,
            "overflow_y": null,
            "padding": null,
            "right": null,
            "top": null,
            "visibility": null,
            "width": null
          }
        },
        "aa73fa0393314ed1a2af4326b00d0a85": {
          "model_module": "@jupyter-widgets/controls",
          "model_name": "DescriptionStyleModel",
          "model_module_version": "1.5.0",
          "state": {
            "_model_module": "@jupyter-widgets/controls",
            "_model_module_version": "1.5.0",
            "_model_name": "DescriptionStyleModel",
            "_view_count": null,
            "_view_module": "@jupyter-widgets/base",
            "_view_module_version": "1.2.0",
            "_view_name": "StyleView",
            "description_width": ""
          }
        },
        "74b41128d9cd4e4cbdade99c8838e1ff": {
          "model_module": "@jupyter-widgets/controls",
          "model_name": "HBoxModel",
          "model_module_version": "1.5.0",
          "state": {
            "_dom_classes": [],
            "_model_module": "@jupyter-widgets/controls",
            "_model_module_version": "1.5.0",
            "_model_name": "HBoxModel",
            "_view_count": null,
            "_view_module": "@jupyter-widgets/controls",
            "_view_module_version": "1.5.0",
            "_view_name": "HBoxView",
            "box_style": "",
            "children": [
              "IPY_MODEL_d73c67a3a25e498b945335d874017016",
              "IPY_MODEL_2adb297efbdc4da59fcc653a2ede13fd",
              "IPY_MODEL_49a8ab15b81849fbbae8bf11a2de371d"
            ],
            "layout": "IPY_MODEL_6086783115c0463aa56072e6d40eae1d"
          }
        },
        "d73c67a3a25e498b945335d874017016": {
          "model_module": "@jupyter-widgets/controls",
          "model_name": "HTMLModel",
          "model_module_version": "1.5.0",
          "state": {
            "_dom_classes": [],
            "_model_module": "@jupyter-widgets/controls",
            "_model_module_version": "1.5.0",
            "_model_name": "HTMLModel",
            "_view_count": null,
            "_view_module": "@jupyter-widgets/controls",
            "_view_module_version": "1.5.0",
            "_view_name": "HTMLView",
            "description": "",
            "description_tooltip": null,
            "layout": "IPY_MODEL_4b591fa55220428586c74b65b3fb65ed",
            "placeholder": "​",
            "style": "IPY_MODEL_4d5547428ded442ca76d86934a997ef3",
            "value": "Refuting Estimates: 100%"
          }
        },
        "2adb297efbdc4da59fcc653a2ede13fd": {
          "model_module": "@jupyter-widgets/controls",
          "model_name": "FloatProgressModel",
          "model_module_version": "1.5.0",
          "state": {
            "_dom_classes": [],
            "_model_module": "@jupyter-widgets/controls",
            "_model_module_version": "1.5.0",
            "_model_name": "FloatProgressModel",
            "_view_count": null,
            "_view_module": "@jupyter-widgets/controls",
            "_view_module_version": "1.5.0",
            "_view_name": "ProgressView",
            "bar_style": "success",
            "description": "",
            "description_tooltip": null,
            "layout": "IPY_MODEL_653d74ace067405cb1f5c491aa356c30",
            "max": 100,
            "min": 0,
            "orientation": "horizontal",
            "style": "IPY_MODEL_ed76c0bf22364d56a6ba5e61689e0378",
            "value": 100
          }
        },
        "49a8ab15b81849fbbae8bf11a2de371d": {
          "model_module": "@jupyter-widgets/controls",
          "model_name": "HTMLModel",
          "model_module_version": "1.5.0",
          "state": {
            "_dom_classes": [],
            "_model_module": "@jupyter-widgets/controls",
            "_model_module_version": "1.5.0",
            "_model_name": "HTMLModel",
            "_view_count": null,
            "_view_module": "@jupyter-widgets/controls",
            "_view_module_version": "1.5.0",
            "_view_name": "HTMLView",
            "description": "",
            "description_tooltip": null,
            "layout": "IPY_MODEL_f42d6a879c974219b029a180a4d626f1",
            "placeholder": "​",
            "style": "IPY_MODEL_cc84bf56602547d7b60ff744aad618f7",
            "value": " 100/100 [00:02&lt;00:00, 50.75it/s]"
          }
        },
        "6086783115c0463aa56072e6d40eae1d": {
          "model_module": "@jupyter-widgets/base",
          "model_name": "LayoutModel",
          "model_module_version": "1.2.0",
          "state": {
            "_model_module": "@jupyter-widgets/base",
            "_model_module_version": "1.2.0",
            "_model_name": "LayoutModel",
            "_view_count": null,
            "_view_module": "@jupyter-widgets/base",
            "_view_module_version": "1.2.0",
            "_view_name": "LayoutView",
            "align_content": null,
            "align_items": null,
            "align_self": null,
            "border": null,
            "bottom": null,
            "display": null,
            "flex": null,
            "flex_flow": null,
            "grid_area": null,
            "grid_auto_columns": null,
            "grid_auto_flow": null,
            "grid_auto_rows": null,
            "grid_column": null,
            "grid_gap": null,
            "grid_row": null,
            "grid_template_areas": null,
            "grid_template_columns": null,
            "grid_template_rows": null,
            "height": null,
            "justify_content": null,
            "justify_items": null,
            "left": null,
            "margin": null,
            "max_height": null,
            "max_width": null,
            "min_height": null,
            "min_width": null,
            "object_fit": null,
            "object_position": null,
            "order": null,
            "overflow": null,
            "overflow_x": null,
            "overflow_y": null,
            "padding": null,
            "right": null,
            "top": null,
            "visibility": null,
            "width": null
          }
        },
        "4b591fa55220428586c74b65b3fb65ed": {
          "model_module": "@jupyter-widgets/base",
          "model_name": "LayoutModel",
          "model_module_version": "1.2.0",
          "state": {
            "_model_module": "@jupyter-widgets/base",
            "_model_module_version": "1.2.0",
            "_model_name": "LayoutModel",
            "_view_count": null,
            "_view_module": "@jupyter-widgets/base",
            "_view_module_version": "1.2.0",
            "_view_name": "LayoutView",
            "align_content": null,
            "align_items": null,
            "align_self": null,
            "border": null,
            "bottom": null,
            "display": null,
            "flex": null,
            "flex_flow": null,
            "grid_area": null,
            "grid_auto_columns": null,
            "grid_auto_flow": null,
            "grid_auto_rows": null,
            "grid_column": null,
            "grid_gap": null,
            "grid_row": null,
            "grid_template_areas": null,
            "grid_template_columns": null,
            "grid_template_rows": null,
            "height": null,
            "justify_content": null,
            "justify_items": null,
            "left": null,
            "margin": null,
            "max_height": null,
            "max_width": null,
            "min_height": null,
            "min_width": null,
            "object_fit": null,
            "object_position": null,
            "order": null,
            "overflow": null,
            "overflow_x": null,
            "overflow_y": null,
            "padding": null,
            "right": null,
            "top": null,
            "visibility": null,
            "width": null
          }
        },
        "4d5547428ded442ca76d86934a997ef3": {
          "model_module": "@jupyter-widgets/controls",
          "model_name": "DescriptionStyleModel",
          "model_module_version": "1.5.0",
          "state": {
            "_model_module": "@jupyter-widgets/controls",
            "_model_module_version": "1.5.0",
            "_model_name": "DescriptionStyleModel",
            "_view_count": null,
            "_view_module": "@jupyter-widgets/base",
            "_view_module_version": "1.2.0",
            "_view_name": "StyleView",
            "description_width": ""
          }
        },
        "653d74ace067405cb1f5c491aa356c30": {
          "model_module": "@jupyter-widgets/base",
          "model_name": "LayoutModel",
          "model_module_version": "1.2.0",
          "state": {
            "_model_module": "@jupyter-widgets/base",
            "_model_module_version": "1.2.0",
            "_model_name": "LayoutModel",
            "_view_count": null,
            "_view_module": "@jupyter-widgets/base",
            "_view_module_version": "1.2.0",
            "_view_name": "LayoutView",
            "align_content": null,
            "align_items": null,
            "align_self": null,
            "border": null,
            "bottom": null,
            "display": null,
            "flex": null,
            "flex_flow": null,
            "grid_area": null,
            "grid_auto_columns": null,
            "grid_auto_flow": null,
            "grid_auto_rows": null,
            "grid_column": null,
            "grid_gap": null,
            "grid_row": null,
            "grid_template_areas": null,
            "grid_template_columns": null,
            "grid_template_rows": null,
            "height": null,
            "justify_content": null,
            "justify_items": null,
            "left": null,
            "margin": null,
            "max_height": null,
            "max_width": null,
            "min_height": null,
            "min_width": null,
            "object_fit": null,
            "object_position": null,
            "order": null,
            "overflow": null,
            "overflow_x": null,
            "overflow_y": null,
            "padding": null,
            "right": null,
            "top": null,
            "visibility": null,
            "width": null
          }
        },
        "ed76c0bf22364d56a6ba5e61689e0378": {
          "model_module": "@jupyter-widgets/controls",
          "model_name": "ProgressStyleModel",
          "model_module_version": "1.5.0",
          "state": {
            "_model_module": "@jupyter-widgets/controls",
            "_model_module_version": "1.5.0",
            "_model_name": "ProgressStyleModel",
            "_view_count": null,
            "_view_module": "@jupyter-widgets/base",
            "_view_module_version": "1.2.0",
            "_view_name": "StyleView",
            "bar_color": "green",
            "description_width": ""
          }
        },
        "f42d6a879c974219b029a180a4d626f1": {
          "model_module": "@jupyter-widgets/base",
          "model_name": "LayoutModel",
          "model_module_version": "1.2.0",
          "state": {
            "_model_module": "@jupyter-widgets/base",
            "_model_module_version": "1.2.0",
            "_model_name": "LayoutModel",
            "_view_count": null,
            "_view_module": "@jupyter-widgets/base",
            "_view_module_version": "1.2.0",
            "_view_name": "LayoutView",
            "align_content": null,
            "align_items": null,
            "align_self": null,
            "border": null,
            "bottom": null,
            "display": null,
            "flex": null,
            "flex_flow": null,
            "grid_area": null,
            "grid_auto_columns": null,
            "grid_auto_flow": null,
            "grid_auto_rows": null,
            "grid_column": null,
            "grid_gap": null,
            "grid_row": null,
            "grid_template_areas": null,
            "grid_template_columns": null,
            "grid_template_rows": null,
            "height": null,
            "justify_content": null,
            "justify_items": null,
            "left": null,
            "margin": null,
            "max_height": null,
            "max_width": null,
            "min_height": null,
            "min_width": null,
            "object_fit": null,
            "object_position": null,
            "order": null,
            "overflow": null,
            "overflow_x": null,
            "overflow_y": null,
            "padding": null,
            "right": null,
            "top": null,
            "visibility": null,
            "width": null
          }
        },
        "cc84bf56602547d7b60ff744aad618f7": {
          "model_module": "@jupyter-widgets/controls",
          "model_name": "DescriptionStyleModel",
          "model_module_version": "1.5.0",
          "state": {
            "_model_module": "@jupyter-widgets/controls",
            "_model_module_version": "1.5.0",
            "_model_name": "DescriptionStyleModel",
            "_view_count": null,
            "_view_module": "@jupyter-widgets/base",
            "_view_module_version": "1.2.0",
            "_view_name": "StyleView",
            "description_width": ""
          }
        },
        "03e2691ba0ab4b7a9748b10de8e11627": {
          "model_module": "@jupyter-widgets/controls",
          "model_name": "HBoxModel",
          "model_module_version": "1.5.0",
          "state": {
            "_dom_classes": [],
            "_model_module": "@jupyter-widgets/controls",
            "_model_module_version": "1.5.0",
            "_model_name": "HBoxModel",
            "_view_count": null,
            "_view_module": "@jupyter-widgets/controls",
            "_view_module_version": "1.5.0",
            "_view_name": "HBoxView",
            "box_style": "",
            "children": [
              "IPY_MODEL_439afad23b3c416993a3cc15a8a77631",
              "IPY_MODEL_fcd76363a5554a129990577038e0db06",
              "IPY_MODEL_b782dd2b9e0941469b4dae0bf9a3f9df"
            ],
            "layout": "IPY_MODEL_9dd4bdd19f144e6e94930cdca7fb51ad"
          }
        },
        "439afad23b3c416993a3cc15a8a77631": {
          "model_module": "@jupyter-widgets/controls",
          "model_name": "HTMLModel",
          "model_module_version": "1.5.0",
          "state": {
            "_dom_classes": [],
            "_model_module": "@jupyter-widgets/controls",
            "_model_module_version": "1.5.0",
            "_model_name": "HTMLModel",
            "_view_count": null,
            "_view_module": "@jupyter-widgets/controls",
            "_view_module_version": "1.5.0",
            "_view_name": "HTMLView",
            "description": "",
            "description_tooltip": null,
            "layout": "IPY_MODEL_a5e311ef08054f45b928d94dd81dc75e",
            "placeholder": "​",
            "style": "IPY_MODEL_7c65fac3640549d089c1f1fe88b2e2c4",
            "value": "Refuting Estimates: 100%"
          }
        },
        "fcd76363a5554a129990577038e0db06": {
          "model_module": "@jupyter-widgets/controls",
          "model_name": "FloatProgressModel",
          "model_module_version": "1.5.0",
          "state": {
            "_dom_classes": [],
            "_model_module": "@jupyter-widgets/controls",
            "_model_module_version": "1.5.0",
            "_model_name": "FloatProgressModel",
            "_view_count": null,
            "_view_module": "@jupyter-widgets/controls",
            "_view_module_version": "1.5.0",
            "_view_name": "ProgressView",
            "bar_style": "success",
            "description": "",
            "description_tooltip": null,
            "layout": "IPY_MODEL_d637a5d1b7d643d699727cf3233d1ca6",
            "max": 100,
            "min": 0,
            "orientation": "horizontal",
            "style": "IPY_MODEL_5035046f3c6c41f7af4f8b23bcbfb364",
            "value": 100
          }
        },
        "b782dd2b9e0941469b4dae0bf9a3f9df": {
          "model_module": "@jupyter-widgets/controls",
          "model_name": "HTMLModel",
          "model_module_version": "1.5.0",
          "state": {
            "_dom_classes": [],
            "_model_module": "@jupyter-widgets/controls",
            "_model_module_version": "1.5.0",
            "_model_name": "HTMLModel",
            "_view_count": null,
            "_view_module": "@jupyter-widgets/controls",
            "_view_module_version": "1.5.0",
            "_view_name": "HTMLView",
            "description": "",
            "description_tooltip": null,
            "layout": "IPY_MODEL_008c4ec676a1463cab5db08b4718fd67",
            "placeholder": "​",
            "style": "IPY_MODEL_22b6b9d3708c4efcbd55106712817ad9",
            "value": " 100/100 [00:01&lt;00:00, 57.06it/s]"
          }
        },
        "9dd4bdd19f144e6e94930cdca7fb51ad": {
          "model_module": "@jupyter-widgets/base",
          "model_name": "LayoutModel",
          "model_module_version": "1.2.0",
          "state": {
            "_model_module": "@jupyter-widgets/base",
            "_model_module_version": "1.2.0",
            "_model_name": "LayoutModel",
            "_view_count": null,
            "_view_module": "@jupyter-widgets/base",
            "_view_module_version": "1.2.0",
            "_view_name": "LayoutView",
            "align_content": null,
            "align_items": null,
            "align_self": null,
            "border": null,
            "bottom": null,
            "display": null,
            "flex": null,
            "flex_flow": null,
            "grid_area": null,
            "grid_auto_columns": null,
            "grid_auto_flow": null,
            "grid_auto_rows": null,
            "grid_column": null,
            "grid_gap": null,
            "grid_row": null,
            "grid_template_areas": null,
            "grid_template_columns": null,
            "grid_template_rows": null,
            "height": null,
            "justify_content": null,
            "justify_items": null,
            "left": null,
            "margin": null,
            "max_height": null,
            "max_width": null,
            "min_height": null,
            "min_width": null,
            "object_fit": null,
            "object_position": null,
            "order": null,
            "overflow": null,
            "overflow_x": null,
            "overflow_y": null,
            "padding": null,
            "right": null,
            "top": null,
            "visibility": null,
            "width": null
          }
        },
        "a5e311ef08054f45b928d94dd81dc75e": {
          "model_module": "@jupyter-widgets/base",
          "model_name": "LayoutModel",
          "model_module_version": "1.2.0",
          "state": {
            "_model_module": "@jupyter-widgets/base",
            "_model_module_version": "1.2.0",
            "_model_name": "LayoutModel",
            "_view_count": null,
            "_view_module": "@jupyter-widgets/base",
            "_view_module_version": "1.2.0",
            "_view_name": "LayoutView",
            "align_content": null,
            "align_items": null,
            "align_self": null,
            "border": null,
            "bottom": null,
            "display": null,
            "flex": null,
            "flex_flow": null,
            "grid_area": null,
            "grid_auto_columns": null,
            "grid_auto_flow": null,
            "grid_auto_rows": null,
            "grid_column": null,
            "grid_gap": null,
            "grid_row": null,
            "grid_template_areas": null,
            "grid_template_columns": null,
            "grid_template_rows": null,
            "height": null,
            "justify_content": null,
            "justify_items": null,
            "left": null,
            "margin": null,
            "max_height": null,
            "max_width": null,
            "min_height": null,
            "min_width": null,
            "object_fit": null,
            "object_position": null,
            "order": null,
            "overflow": null,
            "overflow_x": null,
            "overflow_y": null,
            "padding": null,
            "right": null,
            "top": null,
            "visibility": null,
            "width": null
          }
        },
        "7c65fac3640549d089c1f1fe88b2e2c4": {
          "model_module": "@jupyter-widgets/controls",
          "model_name": "DescriptionStyleModel",
          "model_module_version": "1.5.0",
          "state": {
            "_model_module": "@jupyter-widgets/controls",
            "_model_module_version": "1.5.0",
            "_model_name": "DescriptionStyleModel",
            "_view_count": null,
            "_view_module": "@jupyter-widgets/base",
            "_view_module_version": "1.2.0",
            "_view_name": "StyleView",
            "description_width": ""
          }
        },
        "d637a5d1b7d643d699727cf3233d1ca6": {
          "model_module": "@jupyter-widgets/base",
          "model_name": "LayoutModel",
          "model_module_version": "1.2.0",
          "state": {
            "_model_module": "@jupyter-widgets/base",
            "_model_module_version": "1.2.0",
            "_model_name": "LayoutModel",
            "_view_count": null,
            "_view_module": "@jupyter-widgets/base",
            "_view_module_version": "1.2.0",
            "_view_name": "LayoutView",
            "align_content": null,
            "align_items": null,
            "align_self": null,
            "border": null,
            "bottom": null,
            "display": null,
            "flex": null,
            "flex_flow": null,
            "grid_area": null,
            "grid_auto_columns": null,
            "grid_auto_flow": null,
            "grid_auto_rows": null,
            "grid_column": null,
            "grid_gap": null,
            "grid_row": null,
            "grid_template_areas": null,
            "grid_template_columns": null,
            "grid_template_rows": null,
            "height": null,
            "justify_content": null,
            "justify_items": null,
            "left": null,
            "margin": null,
            "max_height": null,
            "max_width": null,
            "min_height": null,
            "min_width": null,
            "object_fit": null,
            "object_position": null,
            "order": null,
            "overflow": null,
            "overflow_x": null,
            "overflow_y": null,
            "padding": null,
            "right": null,
            "top": null,
            "visibility": null,
            "width": null
          }
        },
        "5035046f3c6c41f7af4f8b23bcbfb364": {
          "model_module": "@jupyter-widgets/controls",
          "model_name": "ProgressStyleModel",
          "model_module_version": "1.5.0",
          "state": {
            "_model_module": "@jupyter-widgets/controls",
            "_model_module_version": "1.5.0",
            "_model_name": "ProgressStyleModel",
            "_view_count": null,
            "_view_module": "@jupyter-widgets/base",
            "_view_module_version": "1.2.0",
            "_view_name": "StyleView",
            "bar_color": "green",
            "description_width": ""
          }
        },
        "008c4ec676a1463cab5db08b4718fd67": {
          "model_module": "@jupyter-widgets/base",
          "model_name": "LayoutModel",
          "model_module_version": "1.2.0",
          "state": {
            "_model_module": "@jupyter-widgets/base",
            "_model_module_version": "1.2.0",
            "_model_name": "LayoutModel",
            "_view_count": null,
            "_view_module": "@jupyter-widgets/base",
            "_view_module_version": "1.2.0",
            "_view_name": "LayoutView",
            "align_content": null,
            "align_items": null,
            "align_self": null,
            "border": null,
            "bottom": null,
            "display": null,
            "flex": null,
            "flex_flow": null,
            "grid_area": null,
            "grid_auto_columns": null,
            "grid_auto_flow": null,
            "grid_auto_rows": null,
            "grid_column": null,
            "grid_gap": null,
            "grid_row": null,
            "grid_template_areas": null,
            "grid_template_columns": null,
            "grid_template_rows": null,
            "height": null,
            "justify_content": null,
            "justify_items": null,
            "left": null,
            "margin": null,
            "max_height": null,
            "max_width": null,
            "min_height": null,
            "min_width": null,
            "object_fit": null,
            "object_position": null,
            "order": null,
            "overflow": null,
            "overflow_x": null,
            "overflow_y": null,
            "padding": null,
            "right": null,
            "top": null,
            "visibility": null,
            "width": null
          }
        },
        "22b6b9d3708c4efcbd55106712817ad9": {
          "model_module": "@jupyter-widgets/controls",
          "model_name": "DescriptionStyleModel",
          "model_module_version": "1.5.0",
          "state": {
            "_model_module": "@jupyter-widgets/controls",
            "_model_module_version": "1.5.0",
            "_model_name": "DescriptionStyleModel",
            "_view_count": null,
            "_view_module": "@jupyter-widgets/base",
            "_view_module_version": "1.2.0",
            "_view_name": "StyleView",
            "description_width": ""
          }
        }
      }
    }
  },
  "nbformat": 4,
  "nbformat_minor": 0
}