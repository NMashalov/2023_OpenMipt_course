{
  "cells": [
    {
      "cell_type": "markdown",
      "metadata": {
        "id": "zduL2QSiVQEE"
      },
      "source": [
        "# <a href=\"https://miptstats.github.io/courses/ad_mipt.html\">Phystech@DataScience</a>\n",
        "## Семинар 3\n",
        "## Аугментация и Transfer learning\n"
      ]
    },
    {
      "cell_type": "code",
      "execution_count": null,
      "metadata": {
        "id": "HBNTbRK9kPYW"
      },
      "outputs": [],
      "source": [
        "import os\n",
        "import gc\n",
        "import time\n",
        "import glob\n",
        "import requests\n",
        "from tqdm.notebook import tqdm\n",
        "from collections import defaultdict\n",
        "\n",
        "import numpy as np\n",
        "import matplotlib.pyplot as plt\n",
        "import seaborn as sns\n",
        "\n",
        "from sklearn.model_selection import train_test_split\n",
        "\n",
        "import torch\n",
        "from torch import nn\n",
        "import torch.nn.functional as F\n",
        "\n",
        "import torchvision\n",
        "from torchvision import transforms\n",
        "\n",
        "from IPython.display import clear_output\n",
        "%matplotlib inline\n",
        "\n",
        "sns.set(font_scale=1.2, style='whitegrid')\n",
        "\n",
        "# device_num = 0\n",
        "# torch.cuda.set_device(device_num)"
      ]
    },
    {
      "cell_type": "code",
      "execution_count": null,
      "metadata": {
        "colab": {
          "base_uri": "https://localhost:8080/"
        },
        "id": "ioZX3SPqnMM6",
        "outputId": "df09429b-0230-457f-baca-a9cba06cdc78"
      },
      "outputs": [],
      "source": [
        "device = f\"cuda\" if torch.cuda.is_available() else \"cpu\"\n",
        "# device = \"cpu\"\n",
        "print(device)"
      ]
    },
    {
      "cell_type": "markdown",
      "metadata": {
        "id": "12fT1cPpjl7F"
      },
      "source": [
        "### 1. Аугментация <a id='augmentations'> </a>\n",
        "\n",
        "![](https://sun9-5.userapi.com/c857216/v857216818/1815e6/OxQ8e3-o0oU.jpg)\n",
        "\n",
        "**Дополнение данных / Аугментация данных / Data augmentations** &mdash; это метод, направленный на увеличение размеров обучающей выборки. Дополнение обучающей выборки разнообразными, \"хорошими\" и \"плохими\" примерами, позволяет получить модель более устойчивую на тестовых данных, так как для неё в тестовых данных будет меньше \"неожиданностей\"."
      ]
    },
    {
      "cell_type": "markdown",
      "metadata": {
        "id": "PgwMFpTog8uo"
      },
      "source": [
        "Благодаря модулю `torchvision.transforms` агументации можно делать очень просто. Про все реализованные в библиотеке преобразования можно почитать [здесь](https://pytorch.org/vision/stable/transforms.html#transforms-scriptability). Мы рассмотрим наиболее распространенные классы аугментаций.\n",
        "\n",
        "* `RandomAffine(degrees, translate=None, scale=None, shear=None, interpolation=<InterpolationMode.NEAREST: 'nearest'>, fill=0, fillcolor=None, resample=None)` &mdash; **случайное афинное преобразование** с сохранением центра. `degrees` &mdash; градус вращения. `translate` &mdash; смещение. `scale` &mdash; масштаб. Подробнее в документации.\n",
        "\n",
        "\n",
        "* `ColorJitter(brightness=0, contrast=0, saturation=0, hue=0)` &mdash; *случайное* изменение **яркости** / brightness, **контраста** / contrast, **насыщенности** / saturation и **тонов** / hue цветов. Если на вход приходит torch.Tensor, то его размерность дожна быть `[..., 3, H, W]`. Если PIL.Image, то без альфа-канала. Каждый из параметров может быть быть задан в виде float числа: param, или пары float чисел: min, max. Значение парметра выбирается случайно из отрезка `[1 - param, 1 + param]` или `[min, max]` для brightness, contrast, saturation. Значение парметра должно быть нотрицательным. Значение парметра hue выбирается случайно из отрезка `[-hue, hue]` или `[min, max]`. При этом значение 0<= `hue <= 0.5` or `-0.5 <= min <= max <= 0.5`.  \n",
        "\n",
        "\n",
        "* `CenterCrop(size)` &mdash; вырезает **прямоугольную область** размером `size[0] x size[1]`, если size задан туплом, если `size` задан числом &mdash; `size x size` **из центра картинки**.\n",
        "\n",
        "\n",
        "* `GaussianBlur(kernel_size, sigma)` &mdash; *случайное* **гауссовское размытие изображения**. `kernel_size` &mdash; размер гауссовского ядра. `sigma` &mdash; стандартное отклонение. `sigma` может быть задано в виде чила, тогда парметр фиксирован, или в виде тупла in, max, тогда оно выбирается случайно из отрезка `[min, max]`.  \n",
        "\n",
        "\n",
        "* `Grayscale(num_output_channels=1)` и `RandomGrayscale`(p=0.1) &mdash; неслучайная и *случайная* **трансформации картинки в ч/б формат**. Grayscale имеет парметр `num_output_channels`, который означет количество каналов на выходе, он может быть равен 1 или 3. RandomGrayscale имеет парметр p, который равен вероятности применения преобразования. Тензор на выхоже будет иметь столько же каналов, сколько тензор на входе.   \n",
        "\n",
        "\n",
        "* `Normalize(mean, std, inplace=False)` &mdash; **нормализация тензора картинки** с заданными средним и отклонением для каждого канала. То есть `mean = (mean[1], ..., mean[n])`, `std = (std[1], ..., std[n])`, где `n` &mdash; количество каналов. Не поддерживает PIL.Image формат!   \n",
        "\n",
        "\n",
        "* `RandomResizedCrop(size, scale=(0.08, 1.0), ratio=(0.75, 1.3333333333333333), interpolation=<InterpolationMode.BILINEAR: 'bilinear'>)` &mdash; **случайное обрезание картинки** со случайным выбором размера и соотношения сторон и последующим **увеличеним картинки до первонального размера**.  \n",
        "\n",
        "* `Resize(size, interpolation=<InterpolationMode.BILINEAR: 'bilinear'>)`  &mdash; **изменение размеров кратинки**. Если `size` задан числом, то наименьшая из размерностей картинки приобретает размер `size`. Иначе, если размер задан парой, то размер картинки становится равным `size[0] x size[1]`.\n",
        "\n",
        "Для того, чтобы получить преобразование, которого нет в модуле torchvision.transforms можно использовать `Lambda` преобразование. Например, получить гауссовский шум на изображении можно так:\n",
        "```\n",
        "Lambda(lambda x : x + torch.randn_like(x))\n",
        "```\n",
        "\n",
        "Выше перечисленные трансформации применяются к данным типа PIL.Image или torch.Tensor,на выходе выдают соотвествующий формат. Для того, чтобы в через тарнсформации получить PIL.Image, можно использовать класс `ToPILImage`, для того, чтобы получить torch.Tensor &mdash; `ToTensor`. Эти классы в методе forward могут использовать torch.Tensor, np.ndarray и PIL.Image, np.ndarray соотвественно.\n",
        "\n",
        "Чтобы объединить несколько трансформаций можно использовать `Compose`(transforms), где transforms &mdash; список из объектов коассов преобразований."
      ]
    },
    {
      "cell_type": "markdown",
      "metadata": {
        "id": "c47wLlIEckQQ"
      },
      "source": [
        "### Практика по аугментации"
      ]
    },
    {
      "cell_type": "code",
      "execution_count": null,
      "metadata": {
        "id": "bR3kkaXAdM4Q"
      },
      "outputs": [],
      "source": [
        "from PIL import Image"
      ]
    },
    {
      "cell_type": "code",
      "execution_count": null,
      "metadata": {
        "colab": {
          "base_uri": "https://localhost:8080/"
        },
        "id": "6RVudrADco2R",
        "outputId": "47802263-e14e-44bb-dda4-e39974d5baa0"
      },
      "outputs": [],
      "source": [
        "! wget https://www.kotzendes-einhorn.de/blog/wp-content/uploads/2011/01/lenna.jpg"
      ]
    },
    {
      "cell_type": "code",
      "execution_count": null,
      "metadata": {
        "colab": {
          "base_uri": "https://localhost:8080/",
          "height": 529
        },
        "id": "k7BvmXwxdPY6",
        "outputId": "5c8eee77-4699-45f4-f30e-b4b5c936aafb"
      },
      "outputs": [],
      "source": [
        "image = Image.open('./lenna.jpg')\n",
        "image"
      ]
    },
    {
      "cell_type": "markdown",
      "metadata": {
        "id": "7STSYhFiqOKS"
      },
      "source": [
        "Выберите  [отсюда](https://pytorch.org/vision/stable/transforms.html#transforms-on-pil-image-and-torch-tensor) 3 преобразования, прмените их к исходному изображению и объясните, что эти преобразования делают.\n",
        "\n",
        "Пример применения:"
      ]
    },
    {
      "cell_type": "code",
      "execution_count": null,
      "metadata": {
        "colab": {
          "base_uri": "https://localhost:8080/",
          "height": 529
        },
        "id": "n9_1AhFwdiYB",
        "outputId": "a300463e-ebb7-4adf-e300-1e30bee39049"
      },
      "outputs": [],
      "source": [
        "transform = transforms.RandomAffine(degrees=75)\n",
        "\n",
        "transform(image)"
      ]
    },
    {
      "cell_type": "code",
      "execution_count": null,
      "metadata": {
        "colab": {
          "base_uri": "https://localhost:8080/",
          "height": 529
        },
        "id": "2il1ghmzrPxs",
        "outputId": "d480cc8a-c613-40fc-d93f-3595a401a753"
      },
      "outputs": [],
      "source": [
        "# ваше преобразование\n"
      ]
    },
    {
      "cell_type": "code",
      "execution_count": null,
      "metadata": {},
      "outputs": [],
      "source": [
        "# ваше преобразование\n"
      ]
    },
    {
      "cell_type": "code",
      "execution_count": null,
      "metadata": {},
      "outputs": [],
      "source": [
        "# ваше преобразование\n",
        "\n"
      ]
    },
    {
      "cell_type": "markdown",
      "metadata": {
        "id": "IGK1gccTa8fk"
      },
      "source": [
        "### 2. Transfer Learning <a id=trans></a>\n",
        "\n",
        "**Transfer Learning** &mdash; это процесс дообучения на *новых данных* какой-либо нейросети, предобученной до этого на других данных. Обычно предобучение производят на хорошем, большом  датасете размером около миллиона картинок, например, ImageNet ~ 14 млн картинок.\n",
        "\n",
        "На данный момент есть множество предобученных моделей: `AlexNet`, `DenseNet`, `ResNet`, `VGG`, `Inception` и другие, а также их различные модификации. Все они отличаются архитектурой и входными данными."
      ]
    },
    {
      "cell_type": "markdown",
      "metadata": {
        "id": "H5JCuydFZV5O"
      },
      "source": [
        "#### 2.1 Описание метода:\n",
        "\n",
        "Представим, что eсть новый набор данных, и вы хотите научить сеть классифицировать объекты из этой выборки.  \n",
        "\n",
        "* **1. Fine Tuning / дообучение**  \n",
        "   * Берём сеть, обученную на ImageNet.\n",
        "   * Убираем последние Fully-Connected слои сети, отвечающие за классификацию.\n",
        "   * Замораживаем веса только нескольких первых слоев сети (`param.requires_grad = False`). Последние веса оставляем обучаемыми.\n",
        "   * Добавляем свои если если нужно. Например, пару FC-слоёв.\n",
        "   * Обучаем получившуюся архитектуру на новых данных.\n",
        "\n",
        "* **2. Feature Extractor / средство для извлечения признаков**\n",
        "    * Берём сеть, обученную на ImageNet.\n",
        "    * Убираем последние Fully-Connected слои сети, отвечающие за классификацию.\n",
        "    * Замораживаем (`param.requires_grad = False`) веса всех предыдущих слоёв.\n",
        "    * Добавляем свои сли если нужно. Например, пару FC-слоёв.\n",
        "    * Обучаем на выходах полученной сети свой классификатор (пару FC-слоёв, например) на новых данных.\n",
        "\n",
        "Ниже эти подходы изображены на примере VGG архитектуры:\n",
        "    \n",
        "<img src=\"https://sun9-66.userapi.com/c857632/v857632819/1ea161/rtU9L7NIrag.jpg\" alt=\"tfl\" width=\"600\"/>\n",
        "\n",
        "<style>\n",
        "div.input {\n",
        "\n",
        "В зависимости от количества и природы Ваших данных есть выбор из **нескольких стратегий Transfer Learning**, а именно:\n",
        "\n",
        "* *У Вас **мало данных** ($\\le 10k$), и они **похожи** на данные, на которых была обучена сеть до этого*  \n",
        "\n",
        "    * если данные совсем похожи, можно попробовать использовать готовую модель\n",
        "    * если качество Вас не устраивает, то тогда стоит обратиться к методу Feature Extractor\n",
        "    * Fine Tuning лучше не использовать. Так как данные похожи на те, на которых обучалась сеть, то высокоуровневые признаки, полученные с помощью последних слоёв сети, должны оказаться информативными. Если делать в этом случае Fine-Tuning, то сеть может переобучиться, поскольку данных мало\n",
        "\n",
        "* *У Вас **мало данных** ($\\le 10k$), и они **не похожи** на данные, на которых была обучена сеть до этого*  \n",
        "    * в данном случае мы *не можем* ожидать от сети, что выходы последних слоёв будут информативными для новых данных. Следует использовать Feature Extractor, но брать как признаки выходы более ранних слоёв. Ведь, как ожидается, они соответствуют более общим паттернам в данных.\n",
        "* *У Вас **много данных** ($\\ge 10k$), и они **похожи** на данные, на которых была обучена сеть до этого*  \n",
        "    * можно попробовать использовать готовую модель\n",
        "    * если качество Вас не устраивает, то тогда стоит cделать Fine-Tuning, ведь данных много, и вероятность переобучения меньше. Имеет смысл попробовать разморохить веса последних нескольких слоёв (можно разморозить и всю сеть)\n",
        "* *У Вас **много данных** ($\\ge 10k$), и они **не похожи** на данные, на которых была обучена сеть до этого*\n",
        "    * Fine-Tuning практически всей сети. Веса предобученной сети оставляют в качестве инициализации для обучения на новых данных\n",
        "    \n",
        "display:none;\n",
        "}\n",
        "</style>"
      ]
    },
    {
      "cell_type": "markdown",
      "metadata": {
        "id": "wubD_CGfM-ym"
      },
      "source": [
        "В зависимости от нового датасета имеет смысл использовать разные стратегии дообучения:\n",
        "- если датасет *похож* на тот, на котором модель предобучена, то возможно стоит просто заменить слои классификации;\n",
        "- если датасет *не похож*, то возможно стоит разморозить и сверточные слои тоже.\n",
        "\n",
        "**Эмпирическое правило**: *чем больше новый датасет не похож* на тот, на котором обучали модель, *тем больше слоев с конца стоит размораживать*.\n",
        "\n",
        "Если новый датасет достаточно большой (на каждый класс > 1000 изображений), то можно попробовать разморозить всю нейросеть и обучить со случайных весов, как мы это делали до того, как узнали про Transfer Learning."
      ]
    },
    {
      "cell_type": "markdown",
      "metadata": {
        "id": "Qa7OBWp0aslX"
      },
      "source": [
        "Рассмотрим [**ResNet50**](https://arxiv.org/abs/1512.03385), предобученную на одном из самых крупных датасетов картинок ImageNet, который содержит 1000 классов. Подробнее про данный датасет можно почитать [здесь](http://image-net.org/).\n",
        "\n",
        "Архитектура **ResNet50** основана на residual connections, которые позволяют избежать затухания градиентов:\n",
        "\n",
        "![](https://sun9-72.userapi.com/c855620/v855620860/204ab7/DHbavFbU7QU.jpg)"
      ]
    },
    {
      "cell_type": "markdown",
      "metadata": {
        "id": "LarrYWbtVJhD"
      },
      "source": [
        "#### 2.2 Изучение модели"
      ]
    },
    {
      "cell_type": "markdown",
      "metadata": {
        "id": "kQF6sAc21fPe"
      },
      "source": [
        "Загрузим предобученную модель."
      ]
    },
    {
      "cell_type": "code",
      "execution_count": null,
      "metadata": {
        "colab": {
          "base_uri": "https://localhost:8080/"
        },
        "id": "GTjov2l1Sc4U",
        "outputId": "358e39a3-6d6b-4bba-8eda-351ec8ce9c1a"
      },
      "outputs": [],
      "source": [
        "from torchvision.models import resnet50\n",
        "\n",
        "model = resnet50(pretrained=True)  # скачиваем предобученные веса"
      ]
    },
    {
      "cell_type": "code",
      "execution_count": null,
      "metadata": {
        "colab": {
          "base_uri": "https://localhost:8080/"
        },
        "id": "Hf0pgtzqYg-Q",
        "outputId": "1d684bf2-715e-4ef6-ba34-baab9ca64cf5"
      },
      "outputs": [],
      "source": [
        "model"
      ]
    },
    {
      "cell_type": "markdown",
      "metadata": {
        "id": "W-rghCUd0tXE"
      },
      "source": [
        "Посмотрим на веса сверток на первом слое. Так как модель предобучена, то они веса уже имеют определенную структуру."
      ]
    },
    {
      "cell_type": "code",
      "execution_count": null,
      "metadata": {
        "colab": {
          "base_uri": "https://localhost:8080/",
          "height": 824
        },
        "id": "eahF8N_y0rp2",
        "outputId": "3f55895f-1fe5-4a47-fa25-366b93c743fd"
      },
      "outputs": [],
      "source": [
        "# Минимальные и максимальные значения весов в слое.\n",
        "max_val = model.conv1.weight.max().detach()\n",
        "min_val = model.conv1.weight.min().detach()\n",
        "# Нормировка весов для корректного отображения\n",
        "weight = (model.conv1.weight - min_val) / (max_val - min_val)\n",
        "print(f\"Веса первого слоя ResNet50. Размер слоя: {weight.shape}\")\n",
        "\n",
        "plt.figure(figsize=(10, 10))\n",
        "for i, filter in enumerate(weight):\n",
        "    plt.subplot(8, 8, i + 1)\n",
        "    plt.imshow(filter.permute(1, 2, 0).detach().cpu())\n",
        "    plt.axis(\"off\")"
      ]
    },
    {
      "cell_type": "markdown",
      "metadata": {
        "id": "-ahN5rz5Fln6"
      },
      "source": [
        "Кратко **объясните**, как вы понимаете то, что мы только что получили.\n",
        "\n",
        "**Ответ:**"
      ]
    },
    {
      "cell_type": "markdown",
      "metadata": {
        "id": "zxkM45w81kM9"
      },
      "source": [
        "### 2.3 Transfer Learning на практике: СIFAR10\n",
        "\n",
        "На прошлом семинаре мы строили свёрточную нейросеть для задачи классификации и обучали её на датасете СIFAR10. Напоминание: датасет состоит из 60k картинок 32х32х3.\n",
        "\n",
        "50k &mdash; обучающая выборка, 10k &mdash; тестовая.\n",
        "\n",
        " ![](https://sun9-72.userapi.com/c857216/v857216523/12dbca/vdSCet5LS_0.jpg)"
      ]
    },
    {
      "cell_type": "markdown",
      "metadata": {
        "id": "hAs8AmJZJy5w"
      },
      "source": [
        "У вас должны были получиться подобные результаты:\n",
        "\n",
        "![image.png](data:image/png;base64,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)"
      ]
    },
    {
      "cell_type": "markdown",
      "metadata": {
        "id": "gRhV5MedKCyY"
      },
      "source": [
        "Далее отдельно рассмотрим, как можно применять предобученную нейронную сеть `resnet50` используя оба вышеупомянутых подхода. В целях экономии времени на семинаре, не запускайте ячейки с обучением в этом блоке. Все остальные ячейки можно смело запускать."
      ]
    },
    {
      "cell_type": "markdown",
      "metadata": {
        "id": "l8M4sIipnMOZ"
      },
      "source": [
        "❗При использовании предобученных моделей нужно для начала изучать особенности их обучения. Например, при обучении `resnet50` использовалась следующая последовательность преобразований:\n",
        "\n",
        "1. Ресайз изображения до размера 256 с помощью билинейной интерполяции\n",
        "2. Центральная обрезка до размера 224\n",
        "3. Перевод на отрезок [0.0, 1.0]\n",
        "4. Нормализация со средним mean=[0.485, 0.456, 0.406] и дисперсией std=[0.229, 0.224, 0.225]\n",
        "\n",
        "Рекомендуется делать эти же преобразования и при кастомном использовании `resnet50`. К счастью, они уже реализованы в torch:"
      ]
    },
    {
      "cell_type": "code",
      "execution_count": null,
      "metadata": {
        "colab": {
          "base_uri": "https://localhost:8080/"
        },
        "id": "6-Cq0HZPBjwH",
        "outputId": "fccb909a-7c95-4474-86bc-9fbb31704f82"
      },
      "outputs": [],
      "source": [
        "transform = torchvision.models.ResNet50_Weights.IMAGENET1K_V1.transforms()\n",
        "transform"
      ]
    },
    {
      "cell_type": "code",
      "execution_count": null,
      "metadata": {
        "colab": {
          "base_uri": "https://localhost:8080/"
        },
        "id": "a-zt-6WdL9Bw",
        "outputId": "085806ce-2964-4dee-e113-c389407f3b29"
      },
      "outputs": [],
      "source": [
        "# Загрузим часть данных для обучения\n",
        "dataset = torchvision.datasets.CIFAR10(\n",
        "    root='./data',\n",
        "    train=True,\n",
        "    download=True,\n",
        "    transform=transform\n",
        ")\n",
        "# Разделим выборку на обучение и валидацию\n",
        "train_dataset, val_dataset = torch.utils.data.random_split(dataset, [40000, 10000])\n",
        "\n",
        "# Загрузим тестеовую часть данных\n",
        "test_dataset = torchvision.datasets.CIFAR10(\n",
        "    root='./data',\n",
        "    train=False,\n",
        "    download=True,\n",
        "    transform=transforms.ToTensor()\n",
        ")\n",
        "classes = ('plane', 'car', 'bird', 'cat',\n",
        "           'deer', 'dog', 'frog', 'horse', 'ship', 'truck')"
      ]
    },
    {
      "cell_type": "markdown",
      "metadata": {
        "id": "4dtBOWmynMOe"
      },
      "source": [
        "Посмотрим на упомянутые преобразования:"
      ]
    },
    {
      "cell_type": "code",
      "execution_count": null,
      "metadata": {
        "colab": {
          "base_uri": "https://localhost:8080/",
          "height": 629
        },
        "id": "2545RD-DnMOf",
        "outputId": "a0d78faf-655c-48ef-d154-27ff30439892"
      },
      "outputs": [],
      "source": [
        "sns.set_style(style='white')\n",
        "\n",
        "fig, ax = plt.subplots(\n",
        "    nrows=2, ncols=3, figsize=(8, 6),\n",
        "    sharey=True, sharex=True\n",
        ")\n",
        "\n",
        "for fig_x in ax.flatten():\n",
        "    idx = np.random.randint(low=0, high=6000)\n",
        "    img, label = val_dataset[idx]\n",
        "    fig_x.set_title(classes[val_dataset[idx][1]])\n",
        "    fig_x.imshow(img.numpy().transpose((1, 2, 0)))"
      ]
    },
    {
      "cell_type": "markdown",
      "metadata": {
        "id": "Dmd-ag68CtWQ"
      },
      "source": [
        "Что ж... странно, но создателям резнета виднее."
      ]
    },
    {
      "cell_type": "markdown",
      "metadata": {
        "id": "WIeihLAOnMOU"
      },
      "source": [
        "Инициализируем генераторы батчей:"
      ]
    },
    {
      "cell_type": "code",
      "execution_count": null,
      "metadata": {
        "id": "sR30TkZaLwUG"
      },
      "outputs": [],
      "source": [
        "batch_size = 64\n",
        "\n",
        "train_batch_gen = torch.utils.data.DataLoader(train_dataset, batch_size=batch_size, shuffle=True)\n",
        "val_batch_gen = torch.utils.data.DataLoader(val_dataset, batch_size=batch_size, shuffle=True)\n",
        "test_batch_gen = torch.utils.data.DataLoader(test_dataset, batch_size=batch_size, shuffle=False)"
      ]
    },
    {
      "cell_type": "markdown",
      "metadata": {
        "id": "k_J2DeLCarBI"
      },
      "source": [
        "Напишем функции для обучения и визуализации:"
      ]
    },
    {
      "cell_type": "code",
      "execution_count": null,
      "metadata": {
        "id": "HAQ-YBl_amUf"
      },
      "outputs": [],
      "source": [
        "def plot_learning_curves(history):\n",
        "    '''\n",
        "    Функция для вывода лосса и метрики во время обучения.\n",
        "\n",
        "    :param history: (dict)\n",
        "        accuracy и loss на обучении и валидации\n",
        "    '''\n",
        "    # sns.set_style(style='whitegrid')\n",
        "    fig = plt.figure(figsize=(20, 7))\n",
        "\n",
        "    plt.subplot(1,2,1)\n",
        "    plt.title('Лосс', fontsize=15)\n",
        "    plt.plot(history['loss']['train'], label='train')\n",
        "    plt.plot(history['loss']['val'], label='val')\n",
        "    plt.ylabel('лосс', fontsize=15)\n",
        "    plt.xlabel('эпоха', fontsize=15)\n",
        "    plt.legend()\n",
        "\n",
        "    plt.subplot(1,2,2)\n",
        "    plt.title('Точность', fontsize=15)\n",
        "    plt.plot(history['acc']['train'], label='train')\n",
        "    plt.plot(history['acc']['val'], label='val')\n",
        "    plt.ylabel('точность', fontsize=15)\n",
        "    plt.xlabel('эпоха', fontsize=15)\n",
        "    plt.legend()\n",
        "    plt.show()\n",
        "\n",
        "\n",
        "def train(\n",
        "    model,\n",
        "    criterion,\n",
        "    optimizer,\n",
        "    train_batch_gen,\n",
        "    val_batch_gen,\n",
        "    num_epochs=50\n",
        "):\n",
        "    '''\n",
        "    Функция для обучения модели и вывода лосса и метрики во время обучения.\n",
        "\n",
        "    :param model: обучаемая модель\n",
        "    :param criterion: функция потерь\n",
        "    :param optimizer: метод оптимизации\n",
        "    :param train_batch_gen: генератор батчей для обучения\n",
        "    :param val_batch_gen: генератор батчей для валидации\n",
        "    :param num_epochs: количество эпох\n",
        "\n",
        "    :return: обученная модель\n",
        "    :return: (dict) accuracy и loss на обучении и валидации (\"история\" обучения)\n",
        "    '''\n",
        "\n",
        "    history = defaultdict(lambda: defaultdict(list))\n",
        "\n",
        "    for epoch in range(num_epochs):\n",
        "        train_loss = 0\n",
        "        train_acc = 0\n",
        "        val_loss = 0\n",
        "        val_acc = 0\n",
        "\n",
        "        start_time = time.time()\n",
        "\n",
        "        # Устанавливаем поведение dropout / batch_norm  в обучение\n",
        "        model.train(True)\n",
        "\n",
        "        # На каждой \"эпохе\" делаем полный проход по данным\n",
        "        for X_batch, y_batch in train_batch_gen:\n",
        "\n",
        "            # Обучаемся на батче (одна \"итерация\" обучения нейросети)\n",
        "            X_batch = X_batch.to(device)\n",
        "            y_batch = y_batch.to(device)\n",
        "\n",
        "            # Логиты на выходе модели\n",
        "            logits = model(X_batch)\n",
        "\n",
        "            # Подсчитываем лосс\n",
        "            loss = criterion(logits, y_batch.long().to(device))\n",
        "\n",
        "            # Обратный проход\n",
        "            loss.backward()\n",
        "            # Шаг градиента\n",
        "            optimizer.step()\n",
        "            # Зануляем градиенты\n",
        "            optimizer.zero_grad()\n",
        "\n",
        "            # Сохраяняем лоссы и точность на трейне\n",
        "            train_loss += loss.detach().cpu().numpy()\n",
        "            y_pred = logits.max(1)[1].detach().cpu().numpy()\n",
        "            train_acc += np.mean(y_batch.cpu().numpy() == y_pred)\n",
        "\n",
        "        # Подсчитываем лоссы и сохраням в \"историю\"\n",
        "        train_loss /= len(train_batch_gen)\n",
        "        train_acc /= len(train_batch_gen)\n",
        "        history['loss']['train'].append(train_loss)\n",
        "        history['acc']['train'].append(train_acc)\n",
        "\n",
        "        # Устанавливаем поведение dropout / batch_norm в режим тестирования\n",
        "        model.train(False)\n",
        "\n",
        "        # Полный проход по валидации\n",
        "        with torch.no_grad():\n",
        "            for X_batch, y_batch in val_batch_gen:\n",
        "\n",
        "                X_batch = X_batch.to(device)\n",
        "                y_batch = y_batch.to(device)\n",
        "\n",
        "                # Логиты, полученные моделью\n",
        "                logits = model(X_batch)\n",
        "\n",
        "                # Лосс на валидации\n",
        "                loss = criterion(logits, y_batch.long().to(device))\n",
        "\n",
        "                # Сохраяняем лоссы и точность на валидации\n",
        "                val_loss += loss.detach().cpu().numpy()\n",
        "                y_pred = logits.max(1)[1].detach().cpu().numpy()\n",
        "                val_acc += np.mean(y_batch.cpu().numpy() == y_pred)\n",
        "\n",
        "        # Подсчитываем лоссы и сохраням в \"историю\"\n",
        "        val_loss /= len(val_batch_gen)\n",
        "        val_acc /= len(val_batch_gen)\n",
        "        history['loss']['val'].append(val_loss)\n",
        "        history['acc']['val'].append(val_acc)\n",
        "\n",
        "        clear_output()\n",
        "\n",
        "        # Печатаем результаты после каждой эпохи\n",
        "        print(\"Epoch {} of {} took {:.3f}s\".format(\n",
        "            epoch + 1, num_epochs, time.time() - start_time))\n",
        "        print(\"  training loss (in-iteration): \\t{:.6f}\".format(train_loss))\n",
        "        print(\"  validation loss (in-iteration): \\t{:.6f}\".format(val_loss))\n",
        "        print(\"  training accuracy: \\t\\t\\t{:.2f} %\".format(train_acc * 100))\n",
        "        print(\"  validation accuracy: \\t\\t\\t{:.2f} %\".format(val_acc * 100))\n",
        "\n",
        "        plot_learning_curves(history)\n",
        "\n",
        "    return model, history"
      ]
    },
    {
      "cell_type": "markdown",
      "metadata": {
        "id": "dKnIL5vX81uC"
      },
      "source": [
        "#### 2.3.1 Fine Tuning (с полной разморозкой)\n",
        "\n",
        "Добавляем новые слои классификации под датасет CIFAR10:"
      ]
    },
    {
      "cell_type": "code",
      "execution_count": null,
      "metadata": {
        "id": "CIfOLNct9UfK"
      },
      "outputs": [],
      "source": [
        "fine_tuning_model = nn.Sequential()\n",
        "\n",
        "# предобученная на датасете ImageNet нейросеть ResNet50\n",
        "fine_tuning_model.add_module('resnet', resnet50(pretrained=True))\n",
        "\n",
        "# добавляем 2 FC слоя после выходов предобученной неросети\n",
        "fine_tuning_model.add_module('relu_1', nn.ReLU())\n",
        "fine_tuning_model.add_module('fc_1', nn.Linear(1000, 512))\n",
        "fine_tuning_model.add_module('relu_2', nn.ReLU())\n",
        "fine_tuning_model.add_module('fc_2', nn.Linear(512, 10))\n",
        "\n",
        "# чистка видеокарты\n",
        "torch.cuda.empty_cache()\n",
        "gc.collect()\n",
        "\n",
        "fine_tuning_model = fine_tuning_model.to(device)"
      ]
    },
    {
      "cell_type": "markdown",
      "metadata": {
        "id": "qF7PkF9A9uGq"
      },
      "source": [
        "Убедимся, что все параметры сети \"разморожены\", то есть являются обучаемыми:"
      ]
    },
    {
      "cell_type": "code",
      "execution_count": null,
      "metadata": {
        "id": "W8oHf1SN9vGi"
      },
      "outputs": [],
      "source": [
        "for param in fine_tuning_model.parameters():\n",
        "    assert(param.requires_grad)\n",
        "    assert(param.is_cuda)"
      ]
    },
    {
      "cell_type": "markdown",
      "metadata": {
        "id": "j-x9li-X9xuB"
      },
      "source": [
        "**✏️ Замечание-рекомендация✏️**\n",
        "\n",
        "Когда запускаете обучение тяжёлой модели, может возникнуть ошибка:\n",
        "\n",
        "```\n",
        "OutOfMemoryError: CUDA out of memory.\n",
        "```\n",
        "Это значит что вы исчерпали всю предоставленную вам оперативную память GPU. В таком случае:\n",
        "\n",
        "\n",
        "1. Убедитесь, что вы зануляете градиенты после очередного шага оптимизатора и оборачиваете валидацию в тело \"`with torch.no_grad():`\"\n",
        "2.   Перезапустите среду выполнения. Возможно, после предыдущего запуска, в результате, например, аварийного завершения или ещё по каким-то причинам, на видеокарте остались старые данные.\n",
        "3. Для уверенности, что перед обучением на видеокарте точно нет мусора, очищайте кэш:\n",
        "\n",
        "\n",
        "```\n",
        "import gc\n",
        "torch.cuda.empty_cache()\n",
        "gc.collect()\n",
        "```\n",
        "\n"
      ]
    },
    {
      "cell_type": "markdown",
      "metadata": {
        "id": "ZNFSIj-SDYzA"
      },
      "source": [
        "Зафайнтюним наконец получившуюся модель на наших данных:"
      ]
    },
    {
      "cell_type": "code",
      "execution_count": null,
      "metadata": {
        "colab": {
          "base_uri": "https://localhost:8080/",
          "height": 666
        },
        "id": "qdDO6S9VDfqf",
        "outputId": "b535d413-0fea-43c8-ea22-7b07a5860b59"
      },
      "outputs": [],
      "source": [
        "criterion = nn.CrossEntropyLoss()\n",
        "optimizer = torch.optim.SGD(fine_tuning_model.parameters(), lr=0.01)\n",
        "\n",
        "fine_tuning_model, history = train(\n",
        "    fine_tuning_model, criterion, optimizer,\n",
        "    train_batch_gen, val_batch_gen,\n",
        "    num_epochs=5\n",
        ")"
      ]
    },
    {
      "cell_type": "markdown",
      "metadata": {
        "id": "XSclAn1EEbCx"
      },
      "source": [
        "Сделайте вывод, сравните с обучением собственной свёрточной нейросети с прошлого семинара.\n",
        "\n",
        "**Вывод:**"
      ]
    },
    {
      "cell_type": "markdown",
      "metadata": {
        "id": "BIBL8xFOfSZQ"
      },
      "source": [
        "#### 2.3.2 Feature Extractor (с практически полной заморозкой).\n",
        "Импортируем ResNet заново:"
      ]
    },
    {
      "cell_type": "code",
      "execution_count": null,
      "metadata": {
        "id": "wmtvAzoH_AHc"
      },
      "outputs": [],
      "source": [
        "feature_extractor_model = resnet50(pretrained=True)"
      ]
    },
    {
      "cell_type": "markdown",
      "metadata": {
        "id": "SktjcLuLAfni"
      },
      "source": [
        "\"Замораживаем\" все веса всех слоев:"
      ]
    },
    {
      "cell_type": "code",
      "execution_count": null,
      "metadata": {
        "id": "EQR_yudrfTL-"
      },
      "outputs": [],
      "source": [
        "for param in feature_extractor_model.parameters():\n",
        "    param.requires_grad = False"
      ]
    },
    {
      "cell_type": "markdown",
      "metadata": {
        "id": "RUtkqwwPQGMo"
      },
      "source": [
        "Последний слой ResNet50 переводит выход основной части модели в вектор размерности 1000:"
      ]
    },
    {
      "cell_type": "code",
      "execution_count": null,
      "metadata": {
        "colab": {
          "base_uri": "https://localhost:8080/"
        },
        "id": "K9pPmMCUWNGp",
        "outputId": "9ec3088f-1029-4b13-d080-441eef36cb3d"
      },
      "outputs": [],
      "source": [
        "feature_extractor_model.fc"
      ]
    },
    {
      "cell_type": "markdown",
      "metadata": {
        "id": "cXUXelq4WcAp"
      },
      "source": [
        "У нас классов всего 10, поэтому заменим последний слой, сделав его обучаемым:"
      ]
    },
    {
      "cell_type": "code",
      "execution_count": null,
      "metadata": {
        "colab": {
          "base_uri": "https://localhost:8080/"
        },
        "id": "LNTIi4VpWgW3",
        "outputId": "fd813b24-4991-4429-ca8e-08c2fec0fb47"
      },
      "outputs": [],
      "source": [
        "feature_extractor_model.fc = nn.Linear(2048, len(classes))\n",
        "feature_extractor_model.fc"
      ]
    },
    {
      "cell_type": "code",
      "execution_count": null,
      "metadata": {
        "id": "o_A1cD_PU2rV"
      },
      "outputs": [],
      "source": [
        "for param in feature_extractor_model.fc.parameters():\n",
        "  assert param.requires_grad"
      ]
    },
    {
      "cell_type": "markdown",
      "metadata": {
        "id": "3vcn3wvbGZ_v"
      },
      "source": [
        "Снова инициализируем даталоадеры, так как они являются генераторами:"
      ]
    },
    {
      "cell_type": "code",
      "execution_count": null,
      "metadata": {
        "id": "FD4N_99FGbTX"
      },
      "outputs": [],
      "source": [
        "train_batch_gen = torch.utils.data.DataLoader(train_dataset, batch_size=batch_size, shuffle=True)\n",
        "val_batch_gen = torch.utils.data.DataLoader(val_dataset, batch_size=batch_size, shuffle=True)"
      ]
    },
    {
      "cell_type": "code",
      "execution_count": null,
      "metadata": {
        "colab": {
          "base_uri": "https://localhost:8080/",
          "height": 481
        },
        "id": "1-dXs_HCVD_8",
        "outputId": "053a2ca1-93d4-439d-daa7-34b4c0af9858"
      },
      "outputs": [],
      "source": [
        "plt.imshow(val_dataset[0][0].numpy().transpose((1, 2, 0)))"
      ]
    },
    {
      "cell_type": "markdown",
      "metadata": {
        "id": "EyiB9tE5fTTb"
      },
      "source": [
        "Дообучим ResNet под наши данные:"
      ]
    },
    {
      "cell_type": "code",
      "execution_count": null,
      "metadata": {
        "colab": {
          "base_uri": "https://localhost:8080/",
          "height": 739
        },
        "id": "ATwUjWgfzl70",
        "outputId": "9950c0a6-f9ce-4ab7-bd61-9d1b623a4d2c"
      },
      "outputs": [],
      "source": [
        "torch.cuda.empty_cache()\n",
        "gc.collect()\n",
        "\n",
        "feature_extractor_model = feature_extractor_model.to(device)\n",
        "criterion = nn.CrossEntropyLoss()\n",
        "optimizer = torch.optim.SGD(feature_extractor_model.parameters(), lr=0.01)\n",
        "\n",
        "feature_extractor_model, history = train(\n",
        "    feature_extractor_model, criterion, optimizer,\n",
        "    train_batch_gen, val_batch_gen,\n",
        "    num_epochs=20\n",
        ")"
      ]
    },
    {
      "cell_type": "markdown",
      "metadata": {
        "id": "XG_du_RtFAhX"
      },
      "source": [
        "Какой метод, как вам кажется, дал лучшие результаты? Напишите свои мысли."
      ]
    },
    {
      "cell_type": "markdown",
      "metadata": {
        "id": "lS3oKdKoFYmZ"
      },
      "source": [
        "#### 2.3 Практика по transfer learning\n",
        "\n",
        "Скачайте предобученную `resnet18` и используйте ее в качестве feature extractor."
      ]
    },
    {
      "cell_type": "code",
      "execution_count": null,
      "metadata": {
        "id": "XW2sZIRe7IoT"
      },
      "outputs": [],
      "source": [
        "# импортируйте модель и посмотрите на её структуру"
      ]
    },
    {
      "cell_type": "code",
      "execution_count": null,
      "metadata": {
        "id": "fsZ9oVf_ckrA"
      },
      "outputs": [],
      "source": [
        "transform = torchvision.models.ResNet18_Weights.IMAGENET1K_V1.transforms()"
      ]
    },
    {
      "cell_type": "markdown",
      "metadata": {
        "id": "MZSYJVyW8AxD"
      },
      "source": [
        "Снова загрузите датасет и инициализируйте даталоадеры:"
      ]
    },
    {
      "cell_type": "code",
      "execution_count": null,
      "metadata": {
        "id": "fSKAIKsW7Xvz"
      },
      "outputs": [],
      "source": []
    },
    {
      "cell_type": "markdown",
      "metadata": {
        "id": "9ZZl9wMH-UpF"
      },
      "source": [
        "Создайте модель обучите её на ОДНОМ БАТЧЕ."
      ]
    },
    {
      "cell_type": "code",
      "execution_count": null,
      "metadata": {
        "id": "qQ0NlWipOts-"
      },
      "outputs": [],
      "source": []
    },
    {
      "cell_type": "markdown",
      "metadata": {
        "id": "7efxdvk_DXSY"
      },
      "source": [
        "Сделайте предсказания на одном батче из тестовой выборки, выведите сетку картинок 8х8 и укажите на ней предсказанные классы и истинные.\n",
        "\n",
        "Достать батч можно следующим образом: `next(iter(test_batch_gen))`, а убрать назойливые числа на осях при помощи `plt.axis(\"off\")`.\n",
        "\n",
        "Не забудьте, что картинку для предсказания также необходимо преобразовывать."
      ]
    },
    {
      "cell_type": "code",
      "execution_count": null,
      "metadata": {
        "id": "x9RvE6DqCUeb"
      },
      "outputs": [],
      "source": [
        "model.train(False)"
      ]
    },
    {
      "cell_type": "markdown",
      "metadata": {
        "id": "PUNpDsJteFp0"
      },
      "source": [
        "**Вывод:**"
      ]
    }
  ],
  "metadata": {
    "accelerator": "GPU",
    "colab": {
      "gpuType": "T4",
      "provenance": []
    },
    "kernelspec": {
      "display_name": "Python 3",
      "name": "python3"
    },
    "language_info": {
      "codemirror_mode": {
        "name": "ipython",
        "version": 3
      },
      "file_extension": ".py",
      "mimetype": "text/x-python",
      "name": "python",
      "nbconvert_exporter": "python",
      "pygments_lexer": "ipython3",
      "version": "3.11.5"
    },
    "toc": {
      "base_numbering": 1,
      "nav_menu": {},
      "number_sections": true,
      "sideBar": true,
      "skip_h1_title": false,
      "title_cell": "Table of Contents",
      "title_sidebar": "Contents",
      "toc_cell": false,
      "toc_position": {},
      "toc_section_display": true,
      "toc_window_display": false
    }
  },
  "nbformat": 4,
  "nbformat_minor": 0
}
