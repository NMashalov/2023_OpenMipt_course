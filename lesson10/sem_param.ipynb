{
 "cells": [
  {
   "cell_type": "code",
   "execution_count": null,
   "metadata": {
    "ExecuteTime": {
     "end_time": "2022-04-03T14:08:11.998104Z",
     "start_time": "2022-04-03T14:08:10.866681Z"
    },
    "id": "gduLLylOysDS"
   },
   "outputs": [],
   "source": [
    "import numpy as np\n",
    "import pandas as pd\n",
    "import scipy.stats as sps\n",
    "from tqdm import tqdm\n",
    "import warnings\n",
    "warnings.filterwarnings(\"ignore\")\n",
    "\n",
    "import matplotlib.pyplot as plt\n",
    "import seaborn as sns\n",
    "sns.set(style='darkgrid', font_scale=1.3, palette='Set2')\n",
    "\n",
    "%matplotlib inline"
   ]
  },
  {
   "cell_type": "markdown",
   "metadata": {
    "id": "isxbdR0xSZkG"
   },
   "source": [
    "### Одновыборочный T-test\n",
    "\n",
    "Дана одна выборка $X_1, ..., X_n$.\n",
    "\n",
    "Критерий проверяет гипотезы\n",
    "\n",
    "$\\mathsf{H}_0\\colon \\mathsf{E} X = a_0$\n",
    "\n",
    "$\\mathsf{H}_1\\colon \\mathsf{E} X \\not= a_0$\n",
    "\n",
    "<a href=\"https://docs.scipy.org/doc/scipy/reference/generated/scipy.stats.ttest_1samp.html#scipy.stats.ttest_1samp\">`ttest_1samp`</a>`(a, popmean): statistic, pvalue`\n",
    "\n",
    "* `a` &mdash; выборка\n",
    "* `popmean` &mdash; равно $a_0$"
   ]
  },
  {
   "cell_type": "code",
   "execution_count": null,
   "metadata": {
    "id": "SgeRcE4gSZkJ"
   },
   "outputs": [],
   "source": [
    "sample = sps.norm(loc=0).rvs(size=100)\n",
    "sps.ttest_1samp(sample, 0), sps.ttest_1samp(sample, 0.5)"
   ]
  },
  {
   "cell_type": "markdown",
   "metadata": {
    "id": "uISSJPJYSZkK"
   },
   "source": [
    "### Двухвыборочный T-test &mdash; независимые выборки\n",
    "\n",
    "Даны две независимые выборки\n",
    "\n",
    "* $X_1, ..., X_n$,\n",
    "\n",
    "* $Y_1, ..., Y_m$.\n",
    "\n",
    "Критерий проверяет для их гипотезы о равенстве среднего:\n",
    "\n",
    "$\\mathsf{H}_0\\colon \\mathsf{E} X_1 = \\mathsf{E} X_2$\n",
    "\n",
    "$\\mathsf{H}_1\\colon \\mathsf{E} X_1 \\not= \\mathsf{E} X_2$\n",
    "\n",
    "<a href=\"https://docs.scipy.org/doc/scipy/reference/generated/scipy.stats.ttest_ind.html#scipy.stats.ttest_ind\">`ttest_ind`</a>`(a, b, equal_var=True): statistic, pvalue`\n",
    "\n",
    "`a`, `b` &mdash; выборка\n",
    "\n",
    "`equal_var` &mdash; известно ли равенство дисперсий"
   ]
  },
  {
   "cell_type": "code",
   "execution_count": null,
   "metadata": {
    "id": "qs4dpPxbSZkL"
   },
   "outputs": [],
   "source": [
    "sample_1 = sps.norm(loc=0).rvs(size=100)\n",
    "sample_2 = sps.norm(loc=1).rvs(size=100)\n",
    "sps.ttest_ind(sample_1, sample_2)"
   ]
  },
  {
   "cell_type": "code",
   "execution_count": null,
   "metadata": {
    "id": "y6tHd9OUSZkL"
   },
   "outputs": [],
   "source": [
    "sample_1 = sps.norm(loc=0).rvs(size=100)\n",
    "sample_2 = sps.norm(loc=1, scale=7).rvs(size=100)\n",
    "sps.ttest_ind(sample_1, sample_2, equal_var=False)"
   ]
  },
  {
   "cell_type": "markdown",
   "metadata": {
    "id": "TOouBlTUSZkM"
   },
   "source": [
    "### Двухвыборочный T-test &mdash; связные выборки\n",
    "\n",
    "Даны две связные выборки\n",
    "\n",
    "* $X_1, ..., X_n$,\n",
    "\n",
    "* $Y_1, ..., Y_n$.\n",
    "\n",
    "\n",
    "Критерий проверяет для их гипотезы о равенстве среднего:\n",
    "\n",
    "$\\mathsf{H}_0\\colon \\mathsf{E} X_1 = \\mathsf{E} X_2$\n",
    "\n",
    "$\\mathsf{H}_1\\colon \\mathsf{E} X_1 \\not= \\mathsf{E} X_2$\n",
    "\n",
    "<a href=\"https://docs.scipy.org/doc/scipy/reference/generated/scipy.stats.ttest_rel.html#scipy.stats.ttest_rel\">`ttest_rel`</a>`(a, b): statistic, pvalue`\n",
    "\n",
    "`a`, `b` &mdash; выборка"
   ]
  },
  {
   "cell_type": "code",
   "execution_count": null,
   "metadata": {
    "id": "sR7L_kBPSZkM"
   },
   "outputs": [],
   "source": [
    "sample_1 = sps.norm(loc=0).rvs(size=100)\n",
    "sample_2 = sample_1 + sps.norm(loc=0, scale=0.5).rvs(size=100)\n",
    "sps.ttest_rel(sample_1, sample_2)"
   ]
  },
  {
   "cell_type": "code",
   "execution_count": null,
   "metadata": {
    "id": "qq4FuccySZkN"
   },
   "outputs": [],
   "source": [
    "sample_1 = sps.norm(loc=0).rvs(size=100)\n",
    "sample_2 = sample_1 + sps.norm(loc=0.5, scale=0.5).rvs(size=100)\n",
    "sps.ttest_rel(sample_1, sample_2)"
   ]
  },
  {
   "cell_type": "markdown",
   "metadata": {
    "id": "xvxDlDYASZkN"
   },
   "source": [
    "### Пример: ирисы Фишера\n",
    "\n",
    "Визуализация данных"
   ]
  },
  {
   "cell_type": "code",
   "execution_count": null,
   "metadata": {
    "id": "FixDXYMMSZkN"
   },
   "outputs": [],
   "source": [
    "df = sns.load_dataset(\"iris\")\n",
    "\n",
    "g = sns.PairGrid(df, hue='species')\n",
    "g.map_lower(sns.kdeplot, cmap =\"Blues_d\")\n",
    "g.map_upper(plt.scatter)\n",
    "g.map_diag(sns.kdeplot, lw=3)\n",
    "plt.legend();"
   ]
  },
  {
   "cell_type": "markdown",
   "metadata": {
    "id": "y1mf3eMlSZkO"
   },
   "source": [
    "Как выглядят данные"
   ]
  },
  {
   "cell_type": "code",
   "execution_count": null,
   "metadata": {
    "id": "KCLOJufMSZkO"
   },
   "outputs": [],
   "source": [
    "df.head()"
   ]
  },
  {
   "cell_type": "markdown",
   "metadata": {
    "id": "D-WS-WwwSZkO"
   },
   "source": [
    "Виды ирисов"
   ]
  },
  {
   "cell_type": "code",
   "execution_count": null,
   "metadata": {
    "id": "uxnVJJreSZkO"
   },
   "outputs": [],
   "source": [
    "np.unique(df.species)"
   ]
  },
  {
   "cell_type": "code",
   "execution_count": null,
   "metadata": {
    "id": "AT6Q8G37SZkP"
   },
   "outputs": [],
   "source": [
    "sps.ttest_ind(df[df.species == 'setosa'].sepal_length,\n",
    "              df[df.species == 'versicolor'].sepal_length,\n",
    "              equal_var=False)"
   ]
  },
  {
   "cell_type": "code",
   "execution_count": null,
   "metadata": {
    "id": "zH74cBnoSZkP"
   },
   "outputs": [],
   "source": [
    "sps.ttest_ind(df[df.species == 'virginica'].sepal_length,\n",
    "              df[df.species == 'versicolor'].sepal_length,\n",
    "              equal_var=False)"
   ]
  },
  {
   "cell_type": "code",
   "execution_count": null,
   "metadata": {
    "id": "2AS7loUgSZkP"
   },
   "outputs": [],
   "source": [
    "sps.ttest_ind(df[df.species == 'virginica'].sepal_width,\n",
    "              df[df.species == 'versicolor'].sepal_width,\n",
    "              equal_var=False)"
   ]
  },
  {
   "cell_type": "markdown",
   "metadata": {
    "id": "5fvBu_vZSZkQ"
   },
   "source": [
    "*Замечание.* Строго говоря, неоходима поправка на множественное тестирование гипотез."
   ]
  },
  {
   "cell_type": "markdown",
   "metadata": {
    "id": "GmSeryKAysDN"
   },
   "source": [
    "## AA-тесты: валидация критериев"
   ]
  },
  {
   "cell_type": "markdown",
   "metadata": {
    "id": "MUONOzByysDU"
   },
   "source": [
    "Напишем функцию, реализующую относительный t-test. Функция возвращает значение статистики, доверительный интервал, p-value."
   ]
  },
  {
   "cell_type": "markdown",
   "metadata": {
    "id": "NMcXPh5dEqPy"
   },
   "source": [
    "Для подсчёта статистики воспользуемся следующей формулой\n",
    "\n",
    "$$R = \\overline{X} / \\overline{Y} - 1$$\n",
    "\n",
    "где n - размер выборки. Вам здесь поможет функция `np.var`"
   ]
  },
  {
   "cell_type": "markdown",
   "metadata": {
    "id": "F9WswXGJh9qQ"
   },
   "source": [
    "Для подсчёта `pvalue` найдите вероятность того, что стандартно распределённая случайная велечина имеет значение по модулю болшее чем\n",
    "\n",
    "$$z = \\sqrt{n}\\frac{|R|}{\\sqrt{\\frac{\\overline{(X - \\overline{X})^2}}{\\overline{Y}^2} + \\frac{\\overline{(Y - \\overline{Y})^2}\\overline{X}^2}{\\overline{Y}^4}}}$$\n",
    "\n",
    "Вам понадобится функция `sps.norm.sf`"
   ]
  },
  {
   "cell_type": "markdown",
   "metadata": {
    "id": "PnHQg5eprYEM"
   },
   "source": [
    "Посчитайте доверительный интервал. Для этого найдите\n",
    "\n",
    "$$q = \\Phi^{-1}(1-\\alpha/2)$$\n",
    "\n",
    "где $\\Phi$ - функция распределения стандартного нормального распределения (воспользуйтесь методом `sps.norm.ppf`), $\\alpha$ - уровень значимости. Затем от $R$ отложите\n",
    "\n",
    "$$\\frac{q \\cdot \\sigma_R}{\\sqrt{n}}$$\n",
    "\n",
    "где $\\sigma_R$ - знаменатель из формулы для расчёта $z$."
   ]
  },
  {
   "cell_type": "code",
   "execution_count": null,
   "metadata": {
    "ExecuteTime": {
     "end_time": "2022-04-03T14:08:12.532352Z",
     "start_time": "2022-04-03T14:08:12.526376Z"
    },
    "id": "bYOi8FY6ysDU"
   },
   "outputs": [],
   "source": [
    "def relative_ttest(x, y, alpha=0.05):\n",
    "    '''\n",
    "    Относительный t-test.\n",
    "\n",
    "    Аргументы:\n",
    "    x, y -- выборки одинакового размера\n",
    "    alpha -- уровень значимости\n",
    "\n",
    "    Возвращает:\n",
    "    stat -- статистика критерия\n",
    "    left_bound, right_bound -- границы дов. интервала\n",
    "    pvalue\n",
    "    '''\n",
    "\n",
    "    n =\n",
    "    x_mean =\n",
    "    y_mean =\n",
    "\n",
    "    stat =\n",
    "    std =\n",
    "\n",
    "    z =\n",
    "    pvalue =\n",
    "\n",
    "    q =\n",
    "    left_bound = stat -\n",
    "    right_bound = stat +\n",
    "\n",
    "    return stat, left_bound, right_bound, pvalue"
   ]
  },
  {
   "cell_type": "code",
   "execution_count": null,
   "metadata": {
    "ExecuteTime": {
     "end_time": "2022-04-03T14:08:12.543454Z",
     "start_time": "2022-04-03T14:08:12.534345Z"
    },
    "id": "sD7vkRIVysDV"
   },
   "outputs": [],
   "source": [
    "def calculate_real_alpha(n_errors, n_iter):\n",
    "    '''\n",
    "    Оценка реального уровня значимости и его дов. интервала.\n",
    "\n",
    "    Аргументы:\n",
    "    n_errors -- количество ошибок в эксперименте\n",
    "    n_iter -- количество экспериментов\n",
    "\n",
    "    Возвращает:\n",
    "    real_alpha -- оценка реального уровня значимости\n",
    "    left_alpha, right_alpha -- границы соотв. дов. интервала\n",
    "    '''\n",
    "\n",
    "    real_alpha = n_errors / n_iter\n",
    "    std = np.sqrt(real_alpha * (1-real_alpha) / n_iter)\n",
    "    left_alpha = real_alpha - 2 * std\n",
    "    right_alpha = real_alpha + 2 * std\n",
    "\n",
    "    return real_alpha, left_alpha, right_alpha"
   ]
  },
  {
   "cell_type": "code",
   "execution_count": null,
   "metadata": {
    "ExecuteTime": {
     "end_time": "2022-04-03T14:08:12.559009Z",
     "start_time": "2022-04-03T14:08:12.546478Z"
    },
    "id": "QlV2kjagysDV"
   },
   "outputs": [],
   "source": [
    "def draw_interval(\n",
    "    real_alpha, left_alpha, right_alpha,\n",
    "    alpha=0.05, new_fig=True\n",
    "):\n",
    "    '''\n",
    "    Отрисовка интервала для реального уровня значимости\n",
    "    '''\n",
    "\n",
    "    if new_fig:\n",
    "        plt.figure(figsize=(7, 3.5))\n",
    "\n",
    "    plt.hlines(0, 0, 1, color='black', lw=2, alpha=0.6)\n",
    "    plt.vlines(alpha, -1, 1, color='red', lw=2, linestyle='--', alpha=0.6)\n",
    "    plt.fill_between([left_alpha, right_alpha], [0.1]*2, [-0.1]*2, color='green', alpha=0.6)\n",
    "    plt.scatter(real_alpha, 0, s=300, marker='*', color='red')\n",
    "    plt.xlim((min(alpha, left_alpha)-1e-3, max(alpha, right_alpha)+1e-3))\n",
    "    plt.title('Доля отвержений')\n",
    "    plt.ylim((-0.5, 0.5))\n",
    "    plt.yticks([])"
   ]
  },
  {
   "cell_type": "code",
   "execution_count": null,
   "metadata": {
    "ExecuteTime": {
     "end_time": "2022-04-03T14:08:12.572272Z",
     "start_time": "2022-04-03T14:08:12.561692Z"
    },
    "id": "8QapNx6jysDV"
   },
   "outputs": [],
   "source": [
    "def AB_test(\n",
    "    distr1, distr2, n_iter=10000, sample_size=1000, alpha=0.05\n",
    "):\n",
    "    '''\n",
    "    Проведение серии AB-тестов на искусственных выборках.\n",
    "\n",
    "    Аргументы:\n",
    "    distr1, distr2 -- распределения для семплирования выборок\n",
    "    n_iter -- количество итераций\n",
    "    sample_size -- размер выборок\n",
    "    alpha -- уровень значимости\n",
    "    '''\n",
    "\n",
    "    n_errors = 0  # количество отвержений H_0\n",
    "\n",
    "    # Проведение экспериментов\n",
    "    for _ in tqdm(range(n_iter)):\n",
    "        x = distr1.rvs(size=sample_size)\n",
    "        y = distr2.rvs(size=sample_size)\n",
    "        n_errors += relative_ttest(x, y)[3] < alpha\n",
    "\n",
    "    # Реальный уровень значимости\n",
    "    real_alpha, left_alpha, right_alpha = calculate_real_alpha(n_errors, n_iter)\n",
    "    print('{:.4f} +/- {:.4f}'.format(\n",
    "        real_alpha, (right_alpha - left_alpha)/2\n",
    "    ))\n",
    "\n",
    "    plt.figure(figsize=(14, 3.5))\n",
    "\n",
    "    # График плотности распределений\n",
    "    with sns.axes_style(\"darkgrid\"):\n",
    "        plt.subplot(1, 2, 1)\n",
    "        for d, label in zip([distr1, distr2], ['A', 'B']):\n",
    "            grid = np.linspace(d.ppf(0.005) - 0.2, d.ppf(0.995) + 0.2, 1000)\n",
    "            plt.plot(grid, d.pdf(grid), label=label, lw=3)\n",
    "        plt.legend()\n",
    "        plt.title('Плотности выборок')\n",
    "\n",
    "    # График интервала\n",
    "    with sns.axes_style(\"whitegrid\"):\n",
    "        plt.subplot(1, 2, 2)\n",
    "        draw_interval(\n",
    "            real_alpha, left_alpha, right_alpha,\n",
    "            alpha=alpha, new_fig=False\n",
    "        )\n",
    "\n",
    "    plt.tight_layout()"
   ]
  },
  {
   "cell_type": "markdown",
   "metadata": {
    "id": "1tsVv3OpysDW"
   },
   "source": [
    "Проверим корректность критерия методом AA-тестирования на искусственных данных. Рассмотрите разные виды распределений и разный размер выборки. Представим полученные результаты в удобном виде."
   ]
  },
  {
   "cell_type": "code",
   "execution_count": null,
   "metadata": {
    "ExecuteTime": {
     "end_time": "2022-04-03T14:08:12.581595Z",
     "start_time": "2022-04-03T14:08:12.573656Z"
    },
    "id": "TwJg3bRNysDW"
   },
   "outputs": [],
   "source": [
    "n_iter = 200000  # количество итераций в одном эксперименте\n",
    "alpha = 0.05  # уровень значимости"
   ]
  },
  {
   "cell_type": "markdown",
   "metadata": {
    "id": "StdjQoy_ysDW"
   },
   "source": [
    "#### Экспоненциальное распределение"
   ]
  },
  {
   "cell_type": "code",
   "execution_count": null,
   "metadata": {
    "ExecuteTime": {
     "end_time": "2022-04-03T14:09:42.586193Z",
     "start_time": "2022-04-03T14:08:12.583031Z"
    },
    "id": "Pa1BuRflysDW"
   },
   "outputs": [],
   "source": [
    "AB_test(sps.expon, sps.expon, n_iter=n_iter, sample_size=10, alpha=alpha)"
   ]
  },
  {
   "cell_type": "code",
   "execution_count": null,
   "metadata": {
    "ExecuteTime": {
     "end_time": "2022-04-03T14:11:12.583522Z",
     "start_time": "2022-04-03T14:09:42.588030Z"
    },
    "id": "wS445wSyysDX"
   },
   "outputs": [],
   "source": [
    "AB_test(sps.expon, sps.expon, n_iter=n_iter, sample_size=100, alpha=alpha)"
   ]
  },
  {
   "cell_type": "code",
   "execution_count": null,
   "metadata": {
    "ExecuteTime": {
     "end_time": "2022-04-03T14:12:53.323272Z",
     "start_time": "2022-04-03T14:11:12.585332Z"
    },
    "id": "V0uLnLoHysDX"
   },
   "outputs": [],
   "source": [
    "AB_test(sps.expon, sps.expon, n_iter=n_iter, sample_size=1000, alpha=alpha)"
   ]
  },
  {
   "cell_type": "code",
   "execution_count": null,
   "metadata": {
    "ExecuteTime": {
     "end_time": "2022-04-03T14:15:55.145951Z",
     "start_time": "2022-04-03T14:12:53.324744Z"
    },
    "id": "W-4yDw9BysDY"
   },
   "outputs": [],
   "source": [
    "AB_test(sps.expon, sps.expon, n_iter=n_iter, sample_size=10000, alpha=alpha)"
   ]
  },
  {
   "cell_type": "markdown",
   "metadata": {
    "id": "iGKtEFJPysDY"
   },
   "source": [
    "#### Гамма-распределение"
   ]
  },
  {
   "cell_type": "code",
   "execution_count": null,
   "metadata": {
    "ExecuteTime": {
     "end_time": "2022-04-03T14:17:28.216873Z",
     "start_time": "2022-04-03T14:15:55.147873Z"
    },
    "id": "XXtWTuWLysDY"
   },
   "outputs": [],
   "source": [
    "AB_test(sps.gamma(a=3), sps.gamma(a=3), n_iter=n_iter, sample_size=10, alpha=alpha)"
   ]
  },
  {
   "cell_type": "code",
   "execution_count": null,
   "metadata": {
    "ExecuteTime": {
     "end_time": "2022-04-03T14:19:02.945420Z",
     "start_time": "2022-04-03T14:17:28.222701Z"
    },
    "id": "jvUE-LRRysDY"
   },
   "outputs": [],
   "source": [
    "AB_test(sps.gamma(a=3), sps.gamma(a=3), n_iter=n_iter, sample_size=100, alpha=alpha)"
   ]
  },
  {
   "cell_type": "code",
   "execution_count": null,
   "metadata": {
    "ExecuteTime": {
     "end_time": "2022-04-03T14:24:19.435697Z",
     "start_time": "2022-04-03T14:19:02.947484Z"
    },
    "id": "RFk7evqNysDZ"
   },
   "outputs": [],
   "source": [
    "AB_test(sps.gamma(a=3), sps.gamma(a=3), n_iter=n_iter, sample_size=10000, alpha=alpha)"
   ]
  },
  {
   "cell_type": "markdown",
   "metadata": {
    "id": "Cii0IifnysDZ"
   },
   "source": [
    "#### Распределение Коши"
   ]
  },
  {
   "cell_type": "code",
   "execution_count": null,
   "metadata": {
    "ExecuteTime": {
     "end_time": "2022-04-03T14:26:17.500791Z",
     "start_time": "2022-04-03T14:24:19.437450Z"
    },
    "id": "t_7RYKYKysDZ"
   },
   "outputs": [],
   "source": [
    "AB_test(sps.cauchy(loc=1000), sps.cauchy(loc=1000), n_iter=n_iter, sample_size=1000, alpha=alpha)"
   ]
  },
  {
   "cell_type": "markdown",
   "metadata": {
    "id": "kt4uSAdzysDZ"
   },
   "source": [
    "#### Нормальное распределение"
   ]
  },
  {
   "cell_type": "code",
   "execution_count": null,
   "metadata": {
    "ExecuteTime": {
     "end_time": "2022-04-03T14:27:47.483274Z",
     "start_time": "2022-04-03T14:26:17.502691Z"
    },
    "id": "ngL8szFzysDZ"
   },
   "outputs": [],
   "source": [
    "AB_test(sps.norm, sps.norm, n_iter=n_iter, sample_size=100, alpha=alpha)"
   ]
  },
  {
   "cell_type": "code",
   "execution_count": null,
   "metadata": {
    "ExecuteTime": {
     "end_time": "2022-04-03T14:29:29.593693Z",
     "start_time": "2022-04-03T14:27:47.484753Z"
    },
    "id": "lq4E-8oDysDa"
   },
   "outputs": [],
   "source": [
    "AB_test(sps.norm, sps.norm, n_iter=n_iter, sample_size=1000, alpha=alpha)"
   ]
  },
  {
   "cell_type": "markdown",
   "metadata": {
    "id": "8WWBfZPfV3MJ"
   },
   "source": [
    "**Вывод:**"
   ]
  },
  {
   "cell_type": "markdown",
   "metadata": {
    "id": "ymaUyG9FysDa"
   },
   "source": [
    "#### Мощность для распределения\n",
    "\n",
    "Зафиксируйте тип распределения и размер выборки. Исследуйте мощность критерия помощью добавления смещения к одной из выборок."
   ]
  },
  {
   "cell_type": "code",
   "execution_count": null,
   "metadata": {
    "ExecuteTime": {
     "end_time": "2022-04-03T14:29:29.597475Z",
     "start_time": "2022-04-03T14:29:29.595137Z"
    },
    "id": "9C5W4mMgysDa"
   },
   "outputs": [],
   "source": [
    "alpha=0.05"
   ]
  },
  {
   "cell_type": "code",
   "execution_count": null,
   "metadata": {
    "ExecuteTime": {
     "end_time": "2022-04-03T14:31:04.556443Z",
     "start_time": "2022-04-03T14:29:29.599134Z"
    },
    "id": "JBPTUxPzysDa"
   },
   "outputs": [],
   "source": [
    "AB_test(sps.gamma(a=3), sps.gamma(a=3, loc=0.01), n_iter=n_iter, sample_size=100, alpha=alpha)"
   ]
  },
  {
   "cell_type": "code",
   "execution_count": null,
   "metadata": {
    "ExecuteTime": {
     "end_time": "2022-04-03T14:32:40.663781Z",
     "start_time": "2022-04-03T14:31:04.557858Z"
    },
    "id": "mPSlNFh3ysDa"
   },
   "outputs": [],
   "source": [
    "AB_test(sps.gamma(a=3), sps.gamma(a=3, loc=0.1), n_iter=n_iter, sample_size=100, alpha=alpha)"
   ]
  },
  {
   "cell_type": "code",
   "execution_count": null,
   "metadata": {
    "ExecuteTime": {
     "end_time": "2022-04-03T14:34:16.042201Z",
     "start_time": "2022-04-03T14:32:40.665340Z"
    },
    "id": "L-PcYUCpysDb"
   },
   "outputs": [],
   "source": [
    "AB_test(sps.gamma(a=3), sps.gamma(a=3, loc=1), n_iter=n_iter, sample_size=100, alpha=alpha)"
   ]
  },
  {
   "cell_type": "markdown",
   "metadata": {
    "id": "8Igah0U4ysDb"
   },
   "source": [
    "Рассмотрим сетку значений сдвига"
   ]
  },
  {
   "cell_type": "code",
   "execution_count": null,
   "metadata": {
    "ExecuteTime": {
     "end_time": "2022-04-03T16:37:25.939978Z",
     "start_time": "2022-04-03T14:34:16.043817Z"
    },
    "id": "ZGXCfIYyysDb"
   },
   "outputs": [],
   "source": [
    "n_errors = []  # количество отвержений H_0\n",
    "sample_size = 1000\n",
    "shifts = np.linspace(0, 0.5, 21)\n",
    "\n",
    "for loc in tqdm(shifts):\n",
    "    n_errors.append(0)\n",
    "    for _ in range(n_iter):\n",
    "        x = sps.gamma.rvs(a=3, size=sample_size)\n",
    "        y = sps.gamma.rvs(a=3, size=sample_size) + loc\n",
    "        n_errors[-1] += relative_ttest(x, y)[3] < alpha"
   ]
  },
  {
   "cell_type": "code",
   "execution_count": null,
   "metadata": {
    "ExecuteTime": {
     "end_time": "2022-04-03T16:37:26.125757Z",
     "start_time": "2022-04-03T16:37:25.941628Z"
    },
    "id": "LAc9XCSWysDb"
   },
   "outputs": [],
   "source": [
    "plt.plot(shifts, np.array(n_errors)/n_iter, lw=3)\n",
    "plt.title('Мощность относительного t-test')\n",
    "plt.xlabel('Смещение')\n",
    "plt.ylabel('Мощность');"
   ]
  },
  {
   "cell_type": "markdown",
   "metadata": {
    "id": "YcMlnvSFVrTz"
   },
   "source": [
    "**Вывод:**"
   ]
  }
 ],
 "metadata": {
  "colab": {
   "provenance": []
  },
  "kernelspec": {
   "display_name": "Python 3 (ipykernel)",
   "language": "python",
   "name": "python3"
  },
  "language_info": {
   "codemirror_mode": {
    "name": "ipython",
    "version": 3
   },
   "file_extension": ".py",
   "mimetype": "text/x-python",
   "name": "python",
   "nbconvert_exporter": "python",
   "pygments_lexer": "ipython3",
   "version": "3.9.6"
  }
 },
 "nbformat": 4,
 "nbformat_minor": 1
}
