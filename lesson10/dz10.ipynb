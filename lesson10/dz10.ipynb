{
  "cells": [
    {
      "cell_type": "markdown",
      "metadata": {},
      "source": [
        "# <a href=\"https://miptstats.github.io/courses/ad_mipt.html\">Phystech@DataScience</a>\n",
        "## Домашнее задание 10\n",
        "\n",
        "**Правила, <font color=\"red\">прочитайте внимательно</font>:**\n",
        "\n",
        "* Выполненную работу нужно отправить телеграм-боту `@miptstats_pds_bot`. Для начала работы с ботом каждый раз отправляйте `/start`. **Работы, присланные иным способом, не принимаются.**\n",
        "* Дедлайн см. в боте. После дедлайна работы не принимаются кроме случаев наличия уважительной причины.\n",
        "* Прислать нужно ноутбук в формате `ipynb`.\n",
        "* Выполнять задание необходимо полностью самостоятельно. **При обнаружении списывания все участники списывания будут сдавать устный зачет.**\n",
        "* Решения, размещенные на каких-либо интернет-ресурсах, не принимаются. Кроме того, публикация решения в открытом доступе может быть приравнена к предоставлении возможности списать.\n",
        "* Для выполнения задания используйте этот ноутбук в качестве основы, ничего не удаляя из него. Можно добавлять необходимое количество ячеек.\n",
        "* Комментарии к решению пишите в markdown-ячейках.\n",
        "* Выполнение задания (ход решения, выводы и пр.) должно быть осуществлено на русском языке.\n",
        "* Если код будет не понятен проверяющему, оценка может быть снижена.\n",
        "* Никакой код из данного задания при проверке запускаться не будет. *Если код студента не выполнен, недописан и т.д., то он не оценивается.*\n",
        "* **Код из рассказанных на занятиях ноутбуков можно использовать без ограничений.**\n",
        "\n",
        "**Правила оформления теоретических задач:**\n",
        "\n",
        "* Решения необходимо прислать одним из следующих способов:\n",
        "  * фотографией в правильной ориентации, где все четко видно, а почерк разборчив,\n",
        "    * отправив ее как файл боту вместе с ноутбуком *или*\n",
        "    * вставив ее в ноутбук посредством `Edit -> Insert Image` (<font color=\"red\">фото, вставленные ссылкой, не принимаются</font>);\n",
        "  * в виде $\\LaTeX$ в markdown-ячейках.\n",
        "* Решения не проверяются, если какое-то требование не выполнено. Особенно внимательно все проверьте в случае выбора второго пункта (вставки фото в ноутбук). <font color=\"red\"><b>Неправильно вставленные фотографии могут не передаться при отправке.</b></font> Для проверки попробуйте переместить `ipynb` в другую папку и открыть его там.\n",
        "* В решениях поясняйте, чем вы пользуетесь, хотя бы кратко. Например, если пользуетесь независимостью, то достаточно подписи вида \"*X и Y незав.*\"\n",
        "* Решение, в котором есть только ответ, и отсутствуют вычисления, оценивается в 0 баллов.\n",
        "\n",
        "**Баллы за задание:**\n",
        "\n",
        "* Задача 1 &mdash;  30 баллов\n",
        "* Задача 2 &mdash;  60 баллов\n",
        "* Задача 3 &mdash;  60 баллов\n",
        "\n",
        "\n",
        "\n",
        "\n",
        "\n",
        "\n",
        "-----"
      ]
    },
    {
      "cell_type": "code",
      "execution_count": null,
      "metadata": {
        "id": "nyN6FVSQlivE"
      },
      "outputs": [],
      "source": [
        "from __future__ import print_function\n",
        "import pandas as pd\n",
        "import numpy as np\n",
        "from tqdm import tqdm as tqdm\n",
        "from scipy import integrate\n",
        "import scipy.stats as sps\n",
        "from scipy.stats import ttest_rel\n",
        "import matplotlib.pyplot as plt\n",
        "import seaborn as sns\n",
        "from tqdm import tqdm as tqdm\n",
        "\n",
        "sns.set(font_scale=1.3, palette='Set2')\n",
        "%matplotlib inline"
      ]
    },
    {
      "cell_type": "code",
      "execution_count": null,
      "metadata": {
        "id": "CBPGUY1VUzZ2"
      },
      "outputs": [],
      "source": [
        "from google.colab import drive\n",
        "drive.mount('/content/drive')"
      ]
    },
    {
      "cell_type": "code",
      "execution_count": null,
      "metadata": {},
      "outputs": [],
      "source": [
        "# Bot check\n",
        "\n",
        "# HW_ID: phds_hw10\n",
        "# Бот проверит этот ID и предупредит, если случайно сдать что-то не то.\n",
        "\n",
        "# Status: not final\n",
        "# Перед отправкой в финальном решении удали \"not\" в строчке выше.\n",
        "# Так бот проверит, что ты отправляешь финальную версию, а не промежуточную.\n",
        "# Никакие значения в этой ячейке не влияют на факт сдачи работы."
      ]
    },
    {
      "cell_type": "markdown",
      "metadata": {
        "id": "mbnKDtki7kKD"
      },
      "source": [
        "### Задача 1 \n",
        "\n",
        "Проверьте, отличается ли распределение поперечного импульса `pT` $\\pi^+$ (`id = 211`) и $\\pi^-$ (`id = -211`) мюонов. Постройте гистограммы распределений и провидите относительный t-тест. [Ссылка на данные](https://drive.google.com/file/d/1qGNN9pcSg6safgxqvWeimQEPtlyggOYc/view?usp=share_link)\n",
        "\n",
        "Сделайте выводы."
      ]
    },
    {
      "cell_type": "code",
      "execution_count": null,
      "metadata": {
        "id": "Ym4vkU-DAImT"
      },
      "outputs": [],
      "source": [
        "df = pd.read_csv('pi.csv')\n",
        "df.head()"
      ]
    },
    {
      "cell_type": "code",
      "execution_count": null,
      "metadata": {
        "id": "WdPDR_FU8Bxy"
      },
      "outputs": [],
      "source": [
        "# ваш код"
      ]
    },
    {
      "cell_type": "markdown",
      "metadata": {
        "id": "uNW1a44hAWLF"
      },
      "source": [
        "Объясните выбор теста и сделайте выводы.\n",
        "\n",
        "**Вывод:**"
      ]
    },
    {
      "cell_type": "markdown",
      "metadata": {
        "id": "46qvBOpkvRlG"
      },
      "source": [
        "#### **Профиль биология**\n",
        "\n",
        "Рассмотрим данные об экспрессии белка DYRK1_A в мышах в разные дни. Загрузите датасет и выясните, различается ли средний уровень экспрессии белка в день 1 и 2."
      ]
    },
    {
      "cell_type": "code",
      "execution_count": null,
      "metadata": {
        "id": "6iCW62aOnhTw"
      },
      "outputs": [],
      "source": [
        "<...>"
      ]
    },
    {
      "cell_type": "markdown",
      "metadata": {
        "id": "ksXSDYD77Ma4"
      },
      "source": [
        "Объясните выбор теста и сделайте выводы.\n",
        "\n",
        "**Вывод:**"
      ]
    },
    {
      "cell_type": "markdown",
      "metadata": {
        "id": "bICi_1yYj_lD"
      },
      "source": [
        "### Задача 2 \n",
        "#### **Профиль физика**\n",
        "\n",
        "\n",
        "Как известно, частицы по величине спина можно разделить на две группы: бозоны и фермионы. Так как бозоны могут занимать одно и то же квантовое состояние, а фермионы не могут, то системы из нескольких таких частиц будет иметь различные распределения по энергиям. Однако, идеальный газ из таких частиц при высоких температурах будет иметь примерно одинаковое. распределение, а именно больцомонавское. В этой задаче вам требуется посмотреть, используя для этого t-test независимых выборок, как распределения энергий бозе- и ферми-газа отличаются статистически друг от друга при различных температурах."
      ]
    },
    {
      "cell_type": "code",
      "execution_count": null,
      "metadata": {
        "id": "4K6IRO2c9u6M"
      },
      "outputs": [],
      "source": [
        "P_f = lambda x, T: x ** 0.5 / (np.exp((x + T * np.log(T)) / T) + 1)\n",
        "P_b = lambda x, T: x ** 0.5 / (np.exp((x + T * np.log(T)) / T) - 1)"
      ]
    },
    {
      "cell_type": "code",
      "execution_count": null,
      "metadata": {
        "id": "KOb6i3evpcEP"
      },
      "outputs": [],
      "source": [
        "T = 1.1\n",
        "\n",
        "Z_f = integrate.quad(P_f, 0, 10 * T, args=(T))[0]\n",
        "Z_b = integrate.quad(P_b, 0, 10 * T, args=(T))[0]"
      ]
    },
    {
      "cell_type": "code",
      "execution_count": null,
      "metadata": {
        "id": "9JYbTpTelYQm"
      },
      "outputs": [],
      "source": [
        "x_vals = np.linspace(0, 10 * T, 1000)\n",
        "y_vals_f = P_f(x_vals, T)\n",
        "y_vals_b = P_b(x_vals, T)\n",
        "plt.figure(1)\n",
        "plt.plot(x_vals, y_vals_f / Z_f, 'r', label='P_f(x)')\n",
        "plt.plot(x_vals, y_vals_b / Z_b, 'b', label='P_b(x)')\n",
        "plt.legend(loc='upper right', shadow=True)\n",
        "plt.show()"
      ]
    },
    {
      "cell_type": "markdown",
      "metadata": {
        "id": "v2wZsOadK16c"
      },
      "source": [
        "Для начала научимся генериовать выборки из интересующих нас распределений. Чтобы получить такие выборки воспользуемся алгоритмом Метрополиса-Гастингса."
      ]
    },
    {
      "cell_type": "code",
      "execution_count": null,
      "metadata": {
        "id": "7cz1lYuoPEqW"
      },
      "outputs": [],
      "source": [
        "def sample_gas(T, P, steps=20000, sigma=3, cool_down=20):\n",
        "\n",
        "    Q = lambda t1, t0: np.exp(-(t0)**2/(2 * (sigma * T)**2)/ \\\n",
        "        (np.sqrt(2 * np.pi) * (sigma * T)))\n",
        "\n",
        "    Z = integrate.quad(P, 0, 100 * T, args=(T))[0]\n",
        "\n",
        "    x0 = np.random.uniform(0, 2 * T)\n",
        "    xt = x0\n",
        "\n",
        "    samples = []\n",
        "\n",
        "    for i in range(steps):\n",
        "        xt_candidate = np.abs(np.random.normal(loc=xt, scale=sigma * T))\n",
        "\n",
        "        accept_prob = (P(xt_candidate, T) * Q(xt, xt_candidate))/ \\\n",
        "            (P(xt, T) * Q(xt_candidate, xt))\n",
        "\n",
        "        if np.random.uniform(0, 1) < accept_prob:\n",
        "            xt = xt_candidate\n",
        "\n",
        "        if i % cool_down == 0:\n",
        "            samples.append(xt)\n",
        "\n",
        "    burn_in = 1000 // cool_down\n",
        "\n",
        "    samples = np.array(samples[burn_in:])\n",
        "\n",
        "    return samples, Z"
      ]
    },
    {
      "cell_type": "code",
      "execution_count": null,
      "metadata": {
        "id": "R9p9WZcwQNii"
      },
      "outputs": [],
      "source": [
        "samples_f, Z_f = sample_gas(T, P_f)\n",
        "samples_b, Z_b = sample_gas(T, P_b)"
      ]
    },
    {
      "cell_type": "code",
      "execution_count": null,
      "metadata": {
        "id": "ljvRvjrclpwH"
      },
      "outputs": [],
      "source": [
        "plt.hist(samples_f, bins=20, histtype='bar', facecolor='r', alpha=0.3, density=True, label='f')\n",
        "plt.hist(samples_b, bins=20, histtype='bar', facecolor='b', alpha=0.3, density=True, label='b')\n",
        "plt.plot(x_vals, y_vals_f/Z_f, 'r', label='P_f(x)')\n",
        "plt.plot(x_vals, y_vals_b/Z_b, 'b', label='P_b(x)')\n",
        "plt.title('Metropolis Hastings')\n",
        "plt.legend(loc='upper right', shadow=True)\n",
        "plt.show()"
      ]
    },
    {
      "cell_type": "markdown",
      "metadata": {
        "id": "u874kWYwj_lD"
      },
      "source": [
        "\n",
        "**1.**\n",
        "Зафиксируйте значение \"температуры\" `T` и несколько АА-тестов для выборок ферми-газа, чтобы убедиться в корректности работы нашего теста. Для этого 2000 раз сгенерируйте две выборки для ферми-газа и посчитайте p-value t-теста независимых выборок."
      ]
    },
    {
      "cell_type": "code",
      "execution_count": null,
      "metadata": {
        "id": "dENVw7VGj_lE"
      },
      "outputs": [],
      "source": [
        "# ваш код"
      ]
    },
    {
      "cell_type": "markdown",
      "metadata": {
        "id": "0E5R4rFQj_lE"
      },
      "source": [
        "Постройте гистограмму значений p-value. Корректно ли работает t-тест на ваших данных?"
      ]
    },
    {
      "cell_type": "code",
      "execution_count": null,
      "metadata": {
        "id": "XBRyqkGMj_lE"
      },
      "outputs": [],
      "source": [
        "# ваш код"
      ]
    },
    {
      "cell_type": "markdown",
      "metadata": {
        "id": "g-6-d34KF45b"
      },
      "source": [
        "**Вывод:**"
      ]
    },
    {
      "cell_type": "markdown",
      "metadata": {
        "id": "eUMGT6Jfj_lE"
      },
      "source": [
        "**2.** С помощью проведения AB-тестов узнайте, какова мощность теста для разных значений \"температуры\" (постройте график). Для наглядности используйте логарифмическое разбиение шкалы \"температуры\" `np.logspace` и стройте график в логарифмическом масштабе"
      ]
    },
    {
      "cell_type": "code",
      "execution_count": null,
      "metadata": {
        "id": "7C0l0zJTQwQi"
      },
      "outputs": [],
      "source": [
        "Ts = np.logspace(0.001, 1, 20)"
      ]
    },
    {
      "cell_type": "code",
      "execution_count": null,
      "metadata": {
        "id": "OGdNgOXBj_lE"
      },
      "outputs": [],
      "source": [
        "# ваш код"
      ]
    },
    {
      "cell_type": "markdown",
      "metadata": {
        "id": "AZ6KIAjzj_lE"
      },
      "source": [
        "**Вывод:**"
      ]
    },
    {
      "cell_type": "markdown",
      "metadata": {
        "id": "O4K2dpDKsoJs"
      },
      "source": [
        "#### **Профиль биология**\n"
      ]
    },
    {
      "cell_type": "markdown",
      "metadata": {
        "id": "92Skft2GEDWb"
      },
      "source": [
        "Рассмотрим [данные по медицинским страховкам](https://www.kaggle.com/datasets/gauravduttakiit/medical-insurance-cost?select=Train_Data.csv):\n",
        "\n",
        "Скачайте файл с тренировочными данными и оставьте колонку:\n",
        "* `charges` &mdash; стоимость страховки человека."
      ]
    },
    {
      "cell_type": "code",
      "execution_count": null,
      "metadata": {
        "id": "6DNvwg1dj_lD"
      },
      "outputs": [],
      "source": [
        "# ваш код"
      ]
    },
    {
      "cell_type": "markdown",
      "metadata": {
        "id": "qbB9qdlREDWc"
      },
      "source": [
        "Министерство здравоохранения хочет провести AB-тест для оценки значимости эффекта от новых рекомендаций по употреблению витаминов и использовать для этого t-test независимых выборок. Ожидается, что новые рекомендации повысят здоровье общества и снизят траты на страховку. На время тестирования решено выдать рекомендации случайной группе из 1000 людей.\n",
        "\n",
        "**1.**\n",
        "Проведите 2000 случайных AA-тестов для проверки правильности работы t-теста. Использовать нужно группы одинакого размера, конечно же, они не должны пересекаться."
      ]
    },
    {
      "cell_type": "code",
      "execution_count": null,
      "metadata": {
        "id": "94fDQ9GbEDWc"
      },
      "outputs": [],
      "source": [
        "# ваш код"
      ]
    },
    {
      "cell_type": "markdown",
      "metadata": {
        "id": "qkY4s_2EEDWc"
      },
      "source": [
        "Постройте гистограмму значений p-value. Корректно ли работает t-тест на ваших данных?"
      ]
    },
    {
      "cell_type": "code",
      "execution_count": null,
      "metadata": {
        "id": "NXqHlq7eEDWd"
      },
      "outputs": [],
      "source": [
        "# ваш код"
      ]
    },
    {
      "cell_type": "markdown",
      "metadata": {
        "id": "sxD_rK80LQmJ"
      },
      "source": [
        "**Вывод:**"
      ]
    },
    {
      "cell_type": "markdown",
      "metadata": {
        "id": "NWAw0FNfEDWd"
      },
      "source": [
        "**2.** Зафиксируйте две выборки одинакового размера: контрольную и тестовую. С помощью проведения AB-теста выясните, какова мощность теста для разных значений эффекта. Схема проведения аналогична предыдущему пункту, но к тестовой группе нужно добавить отрицательное смещение.\n",
        "\n",
        "При добавлении искусственного смещения рекомендуется также добавлять небольшой шум для каждого человека. Поясните, для этого это может быть полезно. Сделайте выводы."
      ]
    },
    {
      "cell_type": "code",
      "execution_count": null,
      "metadata": {
        "id": "67yLjbaERIPA"
      },
      "outputs": [],
      "source": [
        "# ваш код"
      ]
    },
    {
      "cell_type": "markdown",
      "metadata": {
        "id": "ZH3llScELQ_n"
      },
      "source": [
        "**Вывод:**"
      ]
    },
    {
      "cell_type": "markdown",
      "metadata": {
        "id": "_8tGhWia1sF7"
      },
      "source": [
        "### Задача 3 \n",
        "#### **Профиль физика**\n",
        "\n",
        "\n",
        "Рассмотрим [данные о RGB (Red Giant Branch) и\n",
        "HeB (Helium Burning) звездах](https://www.kaggle.com/datasets/fernandolima23/classification-in-asteroseismology?select=classification_in_asteroseismology.csv):\n",
        "\n",
        "Датасет содержит информацию о звездах, целевая переменная — класс звезд.\n",
        "\n",
        "С помощью методов дисперсионного анализа исследуйте, по каким параметрам наблюдается различие между двумя рассматриваемыми классами (звездами RGB и HeB). При возможности оцените также степень различия, в т.ч. доверительный интервал.\n",
        "\n",
        "Скачайте файл и визуализируйте колонки (например, pairplot):\n",
        "* `Dnu` &mdash; разделение мод с одинаковой степенью и последовательным порядком;\n",
        "* `numax` &mdash; частота максимальной мощности колебаний;\n",
        "* `epsilon` &mdash; расположение режима l=0 ;\n",
        "* `Pop` &mdash; Population (0 = RGB, 1 = HeB)"
      ]
    },
    {
      "cell_type": "code",
      "execution_count": null,
      "metadata": {
        "id": "2LyrppUY9ECO"
      },
      "outputs": [],
      "source": [
        "data = <...>"
      ]
    },
    {
      "cell_type": "code",
      "execution_count": null,
      "metadata": {
        "id": "ZSTn3RT0tP3i"
      },
      "outputs": [],
      "source": [
        "<...> # визуализация"
      ]
    },
    {
      "cell_type": "markdown",
      "metadata": {
        "id": "15T9RO76CYsA"
      },
      "source": [
        "Насколько сильно отличаются распределения между классами? Есть ли очевидные отличия, сдвиг?\n",
        "\n",
        "**Вывод:**"
      ]
    },
    {
      "cell_type": "markdown",
      "metadata": {
        "id": "5zs6Bf2CCgVY"
      },
      "source": [
        "Оцените, по каким признакам различаются классы, степень различия (сдвиг) и доверительный интервал сдвига. В качестве доверительного интервала используйте бутстрепный перцентильный. Объясните выбор статистического теста.\n",
        "\n",
        "Подсказка: выбирая статистический тест и интерпретируя результаты, помните о нулевой гипотезе и мощности. Например, немного об этом в контексте АВ тестов можно почитать [здесь](https://https://habr.com/ru/companies/avito/articles/709596/)."
      ]
    },
    {
      "cell_type": "code",
      "execution_count": null,
      "metadata": {
        "id": "P1fA_scJCJWy"
      },
      "outputs": [],
      "source": [
        "def shift(x, y):\n",
        "    W = <...>\n",
        "    return np.median(W)\n",
        "\n",
        "def estimation(data, target, feature, p_values, shifts, ci_lefts, ci_rights, alpha=0.05):\n",
        "    x = <...>\n",
        "    y = <...>\n",
        "\n",
        "    p_values.append(<...>)\n",
        "\n",
        "    shifts.append(shift(x, y))\n",
        "\n",
        "    res = <...> # бутстрепный доверительный интервал\n",
        "    ci_lefts.append(res[0])\n",
        "    ci_rights.append(res[1])\n"
      ]
    },
    {
      "cell_type": "code",
      "execution_count": null,
      "metadata": {
        "id": "jVZaeSkPCu91"
      },
      "outputs": [],
      "source": [
        "p_values, shifts, ci_lefts, ci_rights = [], [], [], []\n",
        "for column in tqdm(data.columns[1:]):\n",
        "    estimation(<...>)"
      ]
    },
    {
      "cell_type": "code",
      "execution_count": null,
      "metadata": {
        "id": "v5UAH7BACy3H"
      },
      "outputs": [],
      "source": [
        "results = {'feature': data.columns[1:],\n",
        "           'p_value': p_values,\n",
        "           'shift': shifts,\n",
        "           'ci_left': ci_lefts,\n",
        "           'ci_right': ci_rights}\n",
        "results = pd.DataFrame(results)"
      ]
    },
    {
      "cell_type": "code",
      "execution_count": null,
      "metadata": {
        "id": "bPxEx_9uC_TG"
      },
      "outputs": [],
      "source": [
        "results"
      ]
    },
    {
      "cell_type": "markdown",
      "metadata": {
        "id": "NOYJnD7GDAeG"
      },
      "source": [
        "*Замечание.* Строго говоря, необходима поправка на множественное тестирование\n",
        "\n",
        "Какой тест вы использовали и почему? Какие выводы можно сделать по p_value? Как доверительный интервал подтверждает эти выводы? Дополнительно: обратите внимание на `epsilon`: корректно ли оценивать сдвиг между распределениями по этой величине?\n",
        "\n",
        "**Вывод:**"
      ]
    },
    {
      "cell_type": "markdown",
      "metadata": {
        "id": "E7GvwFhC2MXK"
      },
      "source": [
        "#### **Профиль биология**\n"
      ]
    },
    {
      "cell_type": "markdown",
      "metadata": {
        "id": "he6aEDNqMg4r"
      },
      "source": [
        "Рассмотрим [данные о расстройствах сна](https://www.kaggle.com/datasets/uom190346a/sleep-health-and-lifestyle-dataset?select=Sleep_health_and_lifestyle_dataset.csv):\n",
        "\n",
        "Датасет содержит информацию о образе жизни людей, целевая переменная — есть ли у них расстройство сна.\n",
        "\n",
        "С помощью методов дисперсионного анализа исследуйте, по каким параметрам наблюдается различие между двумя рассматриваемыми классами (теми, у кого есть расстройство сна и теми, у кого нет). При возможности оцените также степень различия, в т.ч. доверительный интервал.\n",
        "\n",
        "Скачайте файл и оставьте колонки:\n",
        "* `Age` &mdash; возраст;\n",
        "* `Sleep Duration` &mdash; длительность сна;\n",
        "* `Physical Activity Level` &mdash; уровень физической активности;\n",
        "* `Heart Rate` &mdash; ЧСС;\n",
        "* `Daily Steps` &mdash; число пройденных шагов в день;\n",
        "* `Sleep Disorder` &mdash; целевая переменная;"
      ]
    },
    {
      "cell_type": "code",
      "execution_count": null,
      "metadata": {
        "id": "HNoVq5Kc1eei"
      },
      "outputs": [],
      "source": [
        "data = <...>"
      ]
    },
    {
      "cell_type": "code",
      "execution_count": null,
      "metadata": {
        "id": "I16fRLfO4_bO"
      },
      "outputs": [],
      "source": [
        "columns = ['Age', 'Sleep Duration', 'Physical Activity Level',\n",
        "           'Heart Rate', 'Daily Steps', 'Sleep Disorder']"
      ]
    },
    {
      "cell_type": "code",
      "execution_count": null,
      "metadata": {
        "id": "Y5J632Lr4XZi"
      },
      "outputs": [],
      "source": [
        "data = data[columns]\n",
        "data"
      ]
    },
    {
      "cell_type": "markdown",
      "metadata": {
        "id": "C-UOXpgAJffG"
      },
      "source": [
        "Для упрощения задачи не будем рассматривать вид расстройства сна &mdash; только есть оно или нет."
      ]
    },
    {
      "cell_type": "code",
      "execution_count": null,
      "metadata": {
        "id": "Z5Qm4AvA-4HU"
      },
      "outputs": [],
      "source": [
        "dis = data.loc[:, 'Sleep Disorder'].copy()\n",
        "dis[dis != 'None'] = 'Disorder'\n",
        "data['Sleep Disorder'] = dis\n",
        "data"
      ]
    },
    {
      "cell_type": "markdown",
      "metadata": {
        "id": "hLNZZMKmw0aN"
      },
      "source": [
        "Визуализируйте распределение признаков при разных значениях целевой переменной (например, pairplot)"
      ]
    },
    {
      "cell_type": "code",
      "execution_count": null,
      "metadata": {
        "id": "KaOdTGph1wYm"
      },
      "outputs": [],
      "source": [
        "<...> # визуализация"
      ]
    },
    {
      "cell_type": "markdown",
      "metadata": {
        "id": "IlBozDb60c6O"
      },
      "source": [
        "Насколько сильно отличаются распределения между классами? Есть ли очевидные отличия, сдвиг?\n",
        "\n",
        "**Вывод:**"
      ]
    },
    {
      "cell_type": "markdown",
      "metadata": {
        "id": "8dG2uhWtqOsR"
      },
      "source": [
        "Оцените, по каким признакам различаются классы, степень различия (сдвиг) и доверительный интервал сдвига. В качестве доверительного интервала используйте бутстрепный перцентильный. Объясните выбор статистического теста.\n",
        "\n",
        "Подсказка: выбирая статистический тест и интерпретируя результаты, помните о нулевой гипотезе и мощности. Например, немного об этом в контексте АВ тестов можно почитать [здесь](https://https://habr.com/ru/companies/avito/articles/709596/)."
      ]
    },
    {
      "cell_type": "code",
      "execution_count": null,
      "metadata": {
        "id": "1z4aJ9EAjCNd"
      },
      "outputs": [],
      "source": [
        "def shift(x, y):\n",
        "    W = <...>\n",
        "    return np.median(W)\n",
        "\n",
        "def estimation(data, target, feature, p_values, shifts, ci_lefts, ci_rights, alpha=0.05):\n",
        "    x = <...>\n",
        "    y = <...>\n",
        "\n",
        "    p_values.append(<...>)\n",
        "\n",
        "    shifts.append(shift(x, y))\n",
        "\n",
        "    res = <...> # бутстрепный доверительный интервал\n",
        "    ci_lefts.append(res[0])\n",
        "    ci_rights.append(res[1])\n"
      ]
    },
    {
      "cell_type": "code",
      "execution_count": null,
      "metadata": {
        "id": "h6mkiLrIQgoi"
      },
      "outputs": [],
      "source": [
        "p_values, shifts, ci_lefts, ci_rights = [], [], [], []\n",
        "for column in tqdm(columns[:-1]):\n",
        "    estimation(<...>)"
      ]
    },
    {
      "cell_type": "code",
      "execution_count": null,
      "metadata": {
        "id": "W6hS7JWKmYje"
      },
      "outputs": [],
      "source": [
        "results = {'feature': columns[:-1],\n",
        "           'p_value': p_values,\n",
        "           'shift': shifts,\n",
        "           'ci_left': ci_lefts,\n",
        "           'ci_right': ci_rights}\n",
        "results = pd.DataFrame(results)"
      ]
    },
    {
      "cell_type": "code",
      "execution_count": null,
      "metadata": {
        "id": "Eh-aNYe-ozzX"
      },
      "outputs": [],
      "source": [
        "results"
      ]
    },
    {
      "cell_type": "markdown",
      "metadata": {
        "id": "zn8N0aW31fnB"
      },
      "source": [
        "*Замечание.* Строго говоря, необходима поправка на множественное тестирование\n",
        "\n",
        "Какой тест вы использовали и почему? Какие выводы можно сделать по p-value? Как доверительный интервал соотносится с этими выводами?\n",
        "\n",
        "**Вывод:**"
      ]
    }
  ],
  "metadata": {
    "colab": {
      "provenance": []
    },
    "kernelspec": {
      "display_name": "Python 3",
      "name": "python3"
    },
    "language_info": {
      "name": "python"
    }
  },
  "nbformat": 4,
  "nbformat_minor": 0
}
