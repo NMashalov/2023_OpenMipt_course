{
 "cells": [
  {
   "cell_type": "code",
   "execution_count": null,
   "metadata": {
    "ExecuteTime": {
     "end_time": "2022-09-09T12:49:49.318404Z",
     "start_time": "2022-09-09T12:49:47.263445Z"
    },
    "id": "6Oz4d6jcq5Fj"
   },
   "outputs": [],
   "source": [
    "import os\n",
    "import numpy as np\n",
    "import scipy as sp\n",
    "from sklearn.decomposition import PCA\n",
    "\n",
    "import seaborn as sns\n",
    "import matplotlib.pyplot as plt\n",
    "from mpl_toolkits.mplot3d import Axes3D\n",
    "%matplotlib inline\n",
    "\n",
    "import plotly\n",
    "import plotly.graph_objs as go\n",
    "plotly.offline.init_notebook_mode()\n",
    "\n",
    "sns.set(font_scale=1.3)\n",
    "\n",
    "red = '#FF3300'\n",
    "blue = '#0099CC'\n",
    "green = '#00CC66'"
   ]
  },
  {
   "cell_type": "markdown",
   "metadata": {
    "id": "Mw6S16mRq5GB"
   },
   "source": [
    "# Метод главных компонент\n",
    "### (Principal component analysis, PCA)\n",
    "\n",
    "\n",
    "Интерактивная визуализация PCA и собственных векторов:\n",
    "\n",
    "* <a href=\"http://setosa.io/ev/principal-component-analysis/\">Principal Component Analysis</a>\n",
    "\n",
    "* <a href=\"http://setosa.io/ev/eigenvectors-and-eigenvalues/\">Eigenvectors and Eigenvalues</a>"
   ]
  },
  {
   "cell_type": "markdown",
   "metadata": {
    "id": "xR03V00iq5GQ"
   },
   "source": [
    "## PCA\n",
    "\n",
    "Реализация из sklearn:\n",
    "\n",
    "<a href=\"https://scikit-learn.org/stable/modules/generated/sklearn.decomposition.PCA\">`sklearn.decomposition.PCA`</a>`(n_components=None)`\n",
    "\n",
    "Методы класса:\n",
    "* `fit(X)` — обучиться на данных `X`;\n",
    "* `fit_transforn(X)` — обучиться на данных `X` и вернуть сжатое представление `X`;\n",
    "* `transform(X_new)` — вернуть сжатое представление `X_new` для обученной ранее модели;\n",
    "* `inverse_transform(Y)` — восстановить сжатые данные `Y` в исходное пространство.\n",
    "\n",
    "Атрибуты класса:\n",
    "\n",
    "* `components_` — главные компоненты в порядке убывания собственных чисел, размер (n_components, n_features);\n",
    "* `explained_variance_` — дисперсия вдоль главных компонент, равны собственным числам, размер (n_components,);\n",
    "* `explained_variance_ratio_` —- доля дисперсии, объясняемая каждой компонентой, размер (n_components,);\n",
    "* `mean_` — среднее по данным, размер (n_components,);\n",
    "* `noise_variance_` — оценка дисперсии шума для метода Probabilistic PCA.\n",
    "\n",
    "Другие модификации, реализованные в sklearn:\n",
    "\n",
    "* <a href=\"https://scikit-learn.org/stable/modules/generated/sklearn.decomposition.KernelPCA\">`KernelPCA`</a>;\n",
    "* <a href=\"https://scikit-learn.org/stable/modules/generated/sklearn.decomposition.SparsePCA\">`SparsePCA`</a>;\n",
    "* <a href=\"https://scikit-learn.org/stable/modules/generated/sklearn.decomposition.IncrementalPCA\">`IncrementalPCA`</a>."
   ]
  },
  {
   "cell_type": "markdown",
   "metadata": {
    "id": "_ijs7O0qq5GT"
   },
   "source": [
    "Генерируем двумерный датасет из нормального распределения."
   ]
  },
  {
   "cell_type": "code",
   "execution_count": null,
   "metadata": {
    "ExecuteTime": {
     "end_time": "2022-09-09T12:50:25.092950Z",
     "start_time": "2022-09-09T12:50:25.087148Z"
    },
    "id": "ZBBmCNaCq5GW"
   },
   "outputs": [],
   "source": [
    "X = sp.stats.multivariate_normal.rvs(size=150, mean=[0, 3], \n",
    "                                     cov=[[3, 1], [1, 1]])"
   ]
  },
  {
   "cell_type": "markdown",
   "metadata": {
    "id": "rl63GTEeq5GX"
   },
   "source": [
    "Применяем PCA с одной главной компонентой."
   ]
  },
  {
   "cell_type": "code",
   "execution_count": null,
   "metadata": {
    "ExecuteTime": {
     "end_time": "2022-09-09T12:50:35.002576Z",
     "start_time": "2022-09-09T12:50:34.997003Z"
    },
    "id": "7jMA2XwXq5Gj"
   },
   "outputs": [],
   "source": [
    "pca = # ваш код\n",
    "Y = # ваш код\n",
    "X_hat = # ваш код"
   ]
  },
  {
   "cell_type": "markdown",
   "metadata": {
    "id": "Qk4T_wYwq5Gk"
   },
   "source": [
    "Его главные компоненты (точнее, одна компонента) — двумерные векторы."
   ]
  },
  {
   "cell_type": "code",
   "execution_count": null,
   "metadata": {
    "ExecuteTime": {
     "end_time": "2022-09-09T12:50:38.987455Z",
     "start_time": "2022-09-09T12:50:38.982078Z"
    },
    "colab": {
     "base_uri": "https://localhost:8080/"
    },
    "executionInfo": {
     "elapsed": 475,
     "status": "ok",
     "timestamp": 1613580178793,
     "user": {
      "displayName": "Александра Сергеевна Шлычкова",
      "photoUrl": "",
      "userId": "11107783970073005928"
     },
     "user_tz": -180
    },
    "id": "rpBuWAIRq5Gl",
    "outputId": "60ed83ac-3711-419b-e042-f013d2d9d2c0"
   },
   "outputs": [],
   "source": [
    "pca.components_"
   ]
  },
  {
   "cell_type": "markdown",
   "metadata": {
    "id": "iTrCnyzXq5Gm"
   },
   "source": [
    "Вектор средних:"
   ]
  },
  {
   "cell_type": "code",
   "execution_count": null,
   "metadata": {
    "ExecuteTime": {
     "end_time": "2022-09-09T12:50:45.805022Z",
     "start_time": "2022-09-09T12:50:45.801495Z"
    },
    "colab": {
     "base_uri": "https://localhost:8080/"
    },
    "executionInfo": {
     "elapsed": 850,
     "status": "ok",
     "timestamp": 1613580179785,
     "user": {
      "displayName": "Александра Сергеевна Шлычкова",
      "photoUrl": "",
      "userId": "11107783970073005928"
     },
     "user_tz": -180
    },
    "id": "4H9RUpvjq5Gm",
    "outputId": "d71395a0-202d-43a1-ef18-9a80eb5c1a8a"
   },
   "outputs": [],
   "source": [
    "pca.mean_"
   ]
  },
  {
   "cell_type": "markdown",
   "metadata": {
    "id": "c3fx4Kzzq5Gn"
   },
   "source": [
    "На первом графике синим отмечены исходные точки, красным - они же после проецирования и обратного преобразования.\n",
    "На втором графике точки в одномерном пространстве."
   ]
  },
  {
   "cell_type": "code",
   "execution_count": null,
   "metadata": {
    "ExecuteTime": {
     "end_time": "2022-09-09T12:51:39.516943Z",
     "start_time": "2022-09-09T12:51:39.164370Z"
    },
    "colab": {
     "base_uri": "https://localhost:8080/",
     "height": 568
    },
    "executionInfo": {
     "elapsed": 1656,
     "status": "ok",
     "timestamp": 1613580181377,
     "user": {
      "displayName": "Александра Сергеевна Шлычкова",
      "photoUrl": "",
      "userId": "11107783970073005928"
     },
     "user_tz": -180
    },
    "id": "Ej-Sg_VJq5Go",
    "outputId": "3a3e84ab-264d-4f18-c6d0-0073fd5318f4"
   },
   "outputs": [],
   "source": [
    "plt.figure(figsize=(12, 7))\n",
    "plt.scatter(X[:, 0], X[:, 1], alpha=0.7, color=blue)\n",
    "plt.scatter(X_hat[:, 0], X_hat[:, 1], color=red, alpha=0.7)\n",
    "plt.xlabel('Исходный признак 1')\n",
    "plt.ylabel('Исходный признак 2')\n",
    "plt.axis('equal')\n",
    "plt.show()\n",
    "\n",
    "plt.figure(figsize=(10, 1))\n",
    "plt.scatter(Y, np.zeros(len(Y)), alpha=0.5, color=red)\n",
    "plt.xlabel('Проекция на первую главную компоненту')\n",
    "plt.show()"
   ]
  },
  {
   "cell_type": "markdown",
   "metadata": {
    "id": "f5X-MF8Iq5Gp"
   },
   "source": [
    "Сгенерируем и визуализируем два хорошо разделимых класса из нормального распределения с отличающимися векторами средних."
   ]
  },
  {
   "cell_type": "code",
   "execution_count": null,
   "metadata": {
    "ExecuteTime": {
     "end_time": "2022-09-09T12:51:50.422374Z",
     "start_time": "2022-09-09T12:51:50.202657Z"
    },
    "colab": {
     "base_uri": "https://localhost:8080/",
     "height": 563
    },
    "executionInfo": {
     "elapsed": 1250,
     "status": "ok",
     "timestamp": 1613580184291,
     "user": {
      "displayName": "Александра Сергеевна Шлычкова",
      "photoUrl": "",
      "userId": "11107783970073005928"
     },
     "user_tz": -180
    },
    "id": "H59Jk2FSq5Gq",
    "outputId": "cfb47086-ae4d-4e13-bfd5-7f0aab99c67f"
   },
   "outputs": [],
   "source": [
    "a = sp.stats.multivariate_normal.rvs(size=150, mean=[4, 3], \n",
    "                                     cov=[[2, 1], [1, 2]])\n",
    "b = sp.stats.multivariate_normal.rvs(size=150, mean=[0, 6], \n",
    "                                     cov=[[2, 1], [1, 2]])\n",
    "X = np.vstack([a, b])\n",
    "c = np.hstack([np.zeros(len(a)), np.ones(len(b))])\n",
    "\n",
    "plt.figure(figsize=(12, 9))\n",
    "plt.scatter(X[:, 0], X[:, 1], c=c, alpha=0.7, cmap='rainbow')\n",
    "plt.xlabel('Исходный признак 1')\n",
    "plt.ylabel('Исходный признак 2')\n",
    "plt.xlim((-5, 9)), plt.ylim((-1, 10))\n",
    "plt.axis('equal')\n",
    "plt.show()"
   ]
  },
  {
   "cell_type": "markdown",
   "metadata": {
    "id": "MWeMl3tvq5Gt"
   },
   "source": [
    "Проецируем на одномерное подпространство, тут хорошо заметна пространственная структура классов. При помощи метода `inverse_transform`, применненного к результату разложения на нужное количество компонент, можно получить проекции на эти компоненты."
   ]
  },
  {
   "cell_type": "code",
   "execution_count": null,
   "metadata": {
    "ExecuteTime": {
     "end_time": "2022-09-09T12:52:13.067282Z",
     "start_time": "2022-09-09T12:52:12.704205Z"
    },
    "colab": {
     "base_uri": "https://localhost:8080/",
     "height": 731
    },
    "executionInfo": {
     "elapsed": 1949,
     "status": "ok",
     "timestamp": 1613580246926,
     "user": {
      "displayName": "Александра Сергеевна Шлычкова",
      "photoUrl": "",
      "userId": "11107783970073005928"
     },
     "user_tz": -180
    },
    "id": "QogpzFE1q5Gu",
    "outputId": "108e6fb7-457d-4712-c81f-71f214e71ffc"
   },
   "outputs": [],
   "source": [
    "pca = # ваш код\n",
    "Y = # ваш код\n",
    "X_hat = # ваш код\n",
    "\n",
    "plt.figure(figsize=(12, 10))\n",
    "plt.scatter(X[:, 0], X[:, 1], c=c, alpha=0.5, cmap='rainbow')\n",
    "plt.scatter(X_hat[:, 0], X_hat[:, 1], c=green, alpha=0.7)\n",
    "plt.xlabel('Исходный признак 1')\n",
    "plt.ylabel('Исходный признак 2')\n",
    "plt.xlim((-5, 9)), plt.ylim((-1, 10))\n",
    "plt.axis('equal')\n",
    "plt.show()\n",
    "\n",
    "plt.figure(figsize=(10, 1))\n",
    "plt.scatter(Y, np.zeros(len(Y)), c=c, alpha=0.3, cmap='rainbow')\n",
    "plt.xlabel('Проекция на первую главную компоненту')\n",
    "plt.show()"
   ]
  },
  {
   "cell_type": "markdown",
   "metadata": {
    "id": "vKu1NNpcq5Gv"
   },
   "source": [
    "А что, если два вытянутых класса, расположенных близко, как на рисунке ниже? Сгенерируем и визуализируем такие классы."
   ]
  },
  {
   "cell_type": "code",
   "execution_count": null,
   "metadata": {
    "ExecuteTime": {
     "end_time": "2022-09-09T12:52:21.786309Z",
     "start_time": "2022-09-09T12:52:21.602247Z"
    },
    "colab": {
     "base_uri": "https://localhost:8080/",
     "height": 563
    },
    "executionInfo": {
     "elapsed": 1201,
     "status": "ok",
     "timestamp": 1613580250334,
     "user": {
      "displayName": "Александра Сергеевна Шлычкова",
      "photoUrl": "",
      "userId": "11107783970073005928"
     },
     "user_tz": -180
    },
    "id": "tWDxdjyuq5Gw",
    "outputId": "9404952b-8d8c-4e4f-e12c-740e84964160"
   },
   "outputs": [],
   "source": [
    "a = sp.stats.multivariate_normal.rvs(size=150, mean=[0, 3], \n",
    "                                     cov=[[2, 1.9], [1.9, 2]])\n",
    "b = sp.stats.multivariate_normal.rvs(size=150, mean=[-1, 4], \n",
    "                                     cov=[[2, 1.9], [1.9, 2]])\n",
    "X = np.vstack([a, b])\n",
    "c = np.hstack([np.zeros(len(a)), np.ones(len(b))])\n",
    "\n",
    "plt.figure(figsize=(9, 9))\n",
    "plt.scatter(X[:, 0], X[:, 1], c=c, alpha=0.5, cmap='rainbow')\n",
    "plt.xlabel('Исходный признак 1')\n",
    "plt.ylabel('Исходный признак 2')\n",
    "plt.xlim((-5, 5)), plt.ylim((-1, 9))\n",
    "plt.axis('equal')\n",
    "plt.show()"
   ]
  },
  {
   "cell_type": "markdown",
   "metadata": {
    "id": "Xv3aeEDlq5Gy"
   },
   "source": [
    "Главная компонента направлена вдоль этих классов, и при проецировании точки классов смешаются."
   ]
  },
  {
   "cell_type": "code",
   "execution_count": null,
   "metadata": {
    "ExecuteTime": {
     "end_time": "2022-09-09T12:52:30.606661Z",
     "start_time": "2022-09-09T12:52:30.253981Z"
    },
    "colab": {
     "base_uri": "https://localhost:8080/",
     "height": 731
    },
    "executionInfo": {
     "elapsed": 3148,
     "status": "ok",
     "timestamp": 1613580255850,
     "user": {
      "displayName": "Александра Сергеевна Шлычкова",
      "photoUrl": "",
      "userId": "11107783970073005928"
     },
     "user_tz": -180
    },
    "id": "jblEz0qPq5Gz",
    "outputId": "ef2500c9-ca4c-4bc0-e38f-b781c2abbb06"
   },
   "outputs": [],
   "source": [
    "pca = # ваш код\n",
    "Y = # ваш код\n",
    "X_hat = # ваш код\n",
    "\n",
    "plt.figure(figsize=(12, 10))\n",
    "plt.scatter(X[:, 0], X[:, 1], c=c, alpha=0.5, cmap='rainbow')\n",
    "plt.scatter(X_hat[:, 0], X_hat[:, 1], c=green, alpha=0.7)\n",
    "plt.xlabel('Исходный признак 1')\n",
    "plt.ylabel('Исходный признак 2')\n",
    "plt.xlim((-5, 5)), plt.ylim((-1, 9))\n",
    "plt.axis('equal')\n",
    "plt.show()\n",
    "\n",
    "plt.figure(figsize=(10, 1))\n",
    "plt.scatter(Y, np.zeros(len(Y)), c=c, alpha=0.3, cmap='rainbow')\n",
    "plt.xlabel('Проекция на первую главную компоненту')\n",
    "plt.show()"
   ]
  },
  {
   "cell_type": "markdown",
   "metadata": {
    "id": "9xxB9v6Z4XjN"
   },
   "source": [
    "Генерируем трехмерный датасет из нормального распределения."
   ]
  },
  {
   "cell_type": "code",
   "execution_count": null,
   "metadata": {
    "ExecuteTime": {
     "end_time": "2022-09-09T12:52:40.948182Z",
     "start_time": "2022-09-09T12:52:40.942016Z"
    },
    "id": "3qkwf4PHq5G1"
   },
   "outputs": [],
   "source": [
    "a = sp.stats.multivariate_normal.rvs(size=150, mean=[-2, 1, 0], \n",
    "                                     cov=[[3, -1, 1], \n",
    "                                          [-1, 4, 0.5], \n",
    "                                          [1, 0.5, 1.5]])\n",
    "b = sp.stats.multivariate_normal.rvs(size=150, mean=[7, 3, 4], \n",
    "                                     cov=[[3, 2, 1], \n",
    "                                          [2, 4, 0.5], \n",
    "                                          [1, 0.5, 1.5]])\n",
    "X = np.vstack([a, b])\n",
    "c = np.hstack([np.zeros(len(a)), np.ones(len(b))])"
   ]
  },
  {
   "cell_type": "markdown",
   "metadata": {
    "id": "BYUUkSBffZJl"
   },
   "source": [
    "Визуализируем датасет."
   ]
  },
  {
   "cell_type": "code",
   "execution_count": null,
   "metadata": {
    "ExecuteTime": {
     "end_time": "2022-09-09T12:52:43.924080Z",
     "start_time": "2022-09-09T12:52:43.788245Z"
    },
    "colab": {
     "base_uri": "https://localhost:8080/",
     "height": 575
    },
    "executionInfo": {
     "elapsed": 1752,
     "status": "ok",
     "timestamp": 1613580317360,
     "user": {
      "displayName": "Александра Сергеевна Шлычкова",
      "photoUrl": "",
      "userId": "11107783970073005928"
     },
     "user_tz": -180
    },
    "id": "kVC7a70eq5G3",
    "outputId": "d5b09c49-1706-4489-a473-5f3f199bee1e"
   },
   "outputs": [],
   "source": [
    "sns.set(font_scale=1.3, style='whitegrid')\n",
    "\n",
    "fig = plt.figure(figsize=(15, 10))\n",
    "ax = fig.add_subplot(111, projection='3d')\n",
    "ax.scatter(X[:, 0], X[:, 1], X[:, 2], \n",
    "           s=50, c=c, alpha=0.5, cmap='rainbow')\n",
    "ax.set_xlabel('Исходный признак 1')\n",
    "ax.set_ylabel('Исходный признак 2')\n",
    "ax.set_zlabel('Исходный признак 3')\n",
    "# ax.axis('equal')\n",
    "plt.show()"
   ]
  },
  {
   "cell_type": "markdown",
   "metadata": {
    "id": "jHB6JA0l4fXU"
   },
   "source": [
    "Посмотрим на проекции на две первые главные компоненты."
   ]
  },
  {
   "cell_type": "code",
   "execution_count": null,
   "metadata": {
    "ExecuteTime": {
     "end_time": "2022-09-09T12:53:00.354506Z",
     "start_time": "2022-09-09T12:52:59.990407Z"
    },
    "colab": {
     "base_uri": "https://localhost:8080/",
     "height": 969
    },
    "executionInfo": {
     "elapsed": 2300,
     "status": "ok",
     "timestamp": 1613580374477,
     "user": {
      "displayName": "Александра Сергеевна Шлычкова",
      "photoUrl": "",
      "userId": "11107783970073005928"
     },
     "user_tz": -180
    },
    "id": "zD8mbCAQq5G3",
    "outputId": "b1691c44-24b5-4ca5-c9f2-e1dc4e2c4607"
   },
   "outputs": [],
   "source": [
    "pca = # ваш код\n",
    "Y = # ваш код\n",
    "X_hat = # ваш код\n",
    "\n",
    "fig = plt.figure(figsize=(15, 10))\n",
    "ax = fig.add_subplot(111, projection='3d')\n",
    "ax.scatter(X[:, 0], X[:, 1], X[:, 2], \n",
    "           s=50, c=c, alpha=0.5, cmap='rainbow')\n",
    "ax.scatter(X_hat[:, 0], X_hat[:, 1], X_hat[:, 2], \n",
    "           s=20, c='green', alpha=0.9)\n",
    "ax.set_xlabel('Исходный признак 1')\n",
    "ax.set_ylabel('Исходный признак 2')\n",
    "ax.set_zlabel('Исходный признак 3')\n",
    "# ax.axis('equal')\n",
    "plt.show()\n",
    "\n",
    "sns.set(font_scale=1.3)\n",
    "plt.figure(figsize=(6, 6))\n",
    "plt.scatter(Y[:, 0], Y[:, 1], c=c, alpha=0.3, cmap='rainbow')\n",
    "plt.xlabel('Проекция на первую главную компоненту')\n",
    "plt.ylabel('Проекция на вторую главную компоненту')\n",
    "plt.axis('equal')\n",
    "plt.show()"
   ]
  },
  {
   "cell_type": "markdown",
   "metadata": {
    "id": "BCECZvZW8XPS"
   },
   "source": [
    "Нарисуем интерактивный график для удобной визуализации."
   ]
  },
  {
   "cell_type": "code",
   "execution_count": null,
   "metadata": {
    "ExecuteTime": {
     "end_time": "2022-09-09T12:58:47.997574Z",
     "start_time": "2022-09-09T12:58:47.274623Z"
    },
    "colab": {
     "base_uri": "https://localhost:8080/",
     "height": 1000
    },
    "executionInfo": {
     "elapsed": 1154,
     "status": "ok",
     "timestamp": 1613580706707,
     "user": {
      "displayName": "Александра Сергеевна Шлычкова",
      "photoUrl": "",
      "userId": "11107783970073005928"
     },
     "user_tz": -180
    },
    "id": "WblM8cX2q5HA",
    "outputId": "22e488f1-bca8-4b8d-a923-15aedfa57f0b"
   },
   "outputs": [],
   "source": [
    "fig = go.Figure()\n",
    "fig.update_layout(\n",
    "        autosize=False,\n",
    "        width=1000,\n",
    "        height=1000,\n",
    ")\n",
    "\n",
    "fig.add_trace(go.Scatter3d(\n",
    "    x=X[c==0, 0], y=X[c==0, 1], z=X[c==0, 2], mode='markers',\n",
    "    marker={'size': 7, 'opacity': 0.65, 'color': red}\n",
    "))\n",
    "\n",
    "fig.add_trace(go.Scatter3d(\n",
    "    x=X[c==1, 0], y=X[c==1, 1], z=X[c==1, 2], mode='markers',\n",
    "    marker={'size': 7, 'opacity': 0.65, 'color': blue}\n",
    "))\n",
    "\n",
    "fig.add_trace(go.Scatter3d(\n",
    "    x=X_hat[:, 0], y=X_hat[:, 1], z=X_hat[:, 2], mode='markers',\n",
    "    marker={'size': 4, 'opacity': 0.9, 'color': green}\n",
    "))\n",
    "\n",
    "fig.update_layout(\n",
    "        margin={'l': 0, 'r': 0, 'b': 0, 't': 0},\n",
    "        scene = dict(\n",
    "            xaxis_title='Признак 1',\n",
    "            yaxis_title='Признак 2',\n",
    "            zaxis_title='Признак 3',\n",
    "        )\n",
    "    )\n",
    "\n",
    "# Отображение.\n",
    "plotly.offline.iplot(fig)"
   ]
  }
 ],
 "metadata": {
  "colab": {
   "collapsed_sections": [],
   "name": "Копия 1_PCA_examples.ipynb",
   "provenance": []
  },
  "kernelspec": {
   "display_name": "Python 3 (ipykernel)",
   "language": "python",
   "name": "python3"
  },
  "language_info": {
   "codemirror_mode": {
    "name": "ipython",
    "version": 3
   },
   "file_extension": ".py",
   "mimetype": "text/x-python",
   "name": "python",
   "nbconvert_exporter": "python",
   "pygments_lexer": "ipython3",
   "version": "3.11.5"
  },
  "varInspector": {
   "cols": {
    "lenName": 16,
    "lenType": 16,
    "lenVar": 40
   },
   "kernels_config": {
    "python": {
     "delete_cmd_postfix": "",
     "delete_cmd_prefix": "del ",
     "library": "var_list.py",
     "varRefreshCmd": "print(var_dic_list())"
    },
    "r": {
     "delete_cmd_postfix": ") ",
     "delete_cmd_prefix": "rm(",
     "library": "var_list.r",
     "varRefreshCmd": "cat(var_dic_list()) "
    }
   },
   "types_to_exclude": [
    "module",
    "function",
    "builtin_function_or_method",
    "instance",
    "_Feature"
   ],
   "window_display": false
  }
 },
 "nbformat": 4,
 "nbformat_minor": 1
}
