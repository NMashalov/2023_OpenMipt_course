{
 "cells": [
  {
   "cell_type": "markdown",
   "id": "58810077",
   "metadata": {},
   "source": [
    "# <a href=\"https://miptstats.github.io/courses/ad_mipt.html\">Phystech@DataScience</a>\n",
    "## Семинар 6\n",
    "### **Решающие деревья и лес: повторение**"
   ]
  },
  {
   "cell_type": "code",
   "execution_count": null,
   "id": "e7e1c4dcc55bd732",
   "metadata": {
    "collapsed": false
   },
   "outputs": [],
   "source": [
    "import matplotlib.pyplot as plt\n",
    "import numpy as np\n",
    "import pandas as pd\n",
    "\n",
    "from sklearn.metrics import mean_squared_error as MSE\n",
    "from sklearn.metrics import accuracy_score, r2_score\n",
    "from sklearn.model_selection import train_test_split\n",
    "from sklearn.preprocessing import StandardScaler\n",
    "from sklearn.linear_model import Lasso, Ridge\n",
    "from sklearn.ensemble import RandomForestRegressor, RandomForestClassifier\n",
    "from sklearn.tree import DecisionTreeClassifier\n",
    "from sklearn.tree import plot_tree\n",
    "import seaborn as sns\n",
    "import scipy.stats\n",
    "from tqdm import tqdm_notebook\n",
    "from sklearn import datasets\n",
    "from sklearn.model_selection import GridSearchCV\n",
    "\n",
    "import warnings\n",
    "warnings.simplefilter(\"ignore\", DeprecationWarning)\n",
    "\n",
    "sns.set(context='poster')\n",
    "%matplotlib inline"
   ]
  },
  {
   "cell_type": "markdown",
   "id": "5eec7f92b8f04a22",
   "metadata": {
    "collapsed": false
   },
   "source": [
    "### Задача 1:"
   ]
  },
  {
   "cell_type": "markdown",
   "id": "14b200e9da3068df",
   "metadata": {
    "collapsed": false
   },
   "source": [
    "Скачайте датасет про классификацию женщин с диабетом. Разделите на трейн и тест."
   ]
  },
  {
   "cell_type": "code",
   "execution_count": null,
   "id": "e8283d7472c5dcb2",
   "metadata": {
    "collapsed": false
   },
   "outputs": [],
   "source": [
    "data = pd.read_csv(\"diabetes.csv\")"
   ]
  },
  {
   "cell_type": "code",
   "execution_count": null,
   "id": "1a28fa40a65f363f",
   "metadata": {
    "collapsed": false
   },
   "outputs": [],
   "source": [
    "data"
   ]
  },
  {
   "cell_type": "code",
   "execution_count": null,
   "id": "8409324601afb64d",
   "metadata": {
    "collapsed": false
   },
   "outputs": [],
   "source": [
    "X = <...>\n",
    "y = <...>"
   ]
  },
  {
   "cell_type": "code",
   "execution_count": null,
   "id": "29bd20dddc122b78",
   "metadata": {
    "collapsed": false
   },
   "outputs": [],
   "source": [
    "X_train, X_test, y_train, y_test = <...>"
   ]
  },
  {
   "cell_type": "markdown",
   "id": "dfb74ad445b8ce1f",
   "metadata": {
    "collapsed": false
   },
   "source": [
    "Обучите обычное решающее дерево глубины 3. Выведите его графическое представление, а также accuracy на тренировочной и тестовой выборке."
   ]
  },
  {
   "cell_type": "code",
   "execution_count": null,
   "id": "fce47642884e8f49",
   "metadata": {
    "collapsed": false
   },
   "outputs": [],
   "source": [
    "<...>"
   ]
  },
  {
   "cell_type": "markdown",
   "id": "8b392c0ab3655e81",
   "metadata": {
    "collapsed": false
   },
   "source": [
    "Посчитайте accuracy"
   ]
  },
  {
   "cell_type": "code",
   "execution_count": null,
   "id": "59fd03c1fa553802",
   "metadata": {
    "collapsed": false
   },
   "outputs": [],
   "source": [
    "<...>"
   ]
  },
  {
   "cell_type": "markdown",
   "id": "3d24f5788327f5d5",
   "metadata": {
    "collapsed": false
   },
   "source": [
    "Визуализируйте дерево"
   ]
  },
  {
   "cell_type": "code",
   "execution_count": null,
   "id": "e0d793304e040e70",
   "metadata": {
    "collapsed": false
   },
   "outputs": [],
   "source": [
    "<...>"
   ]
  },
  {
   "cell_type": "markdown",
   "id": "4ef37e76f8f769f8",
   "metadata": {
    "collapsed": false
   },
   "source": [
    "Теперь обучите случайный лес с 100 деревьями."
   ]
  },
  {
   "cell_type": "code",
   "execution_count": null,
   "id": "33ec6d26033e494e",
   "metadata": {
    "collapsed": false
   },
   "outputs": [],
   "source": [
    "n_estimators = 100\n",
    "\n",
    "<....>"
   ]
  },
  {
   "cell_type": "markdown",
   "id": "5729287fba74dee5",
   "metadata": {
    "collapsed": false
   },
   "source": [
    "Выведите параметры леса."
   ]
  },
  {
   "cell_type": "code",
   "execution_count": null,
   "id": "4921ba840e599fbf",
   "metadata": {
    "collapsed": false
   },
   "outputs": [],
   "source": [
    "<...>"
   ]
  },
  {
   "cell_type": "markdown",
   "id": "684cbfcfd459965",
   "metadata": {
    "collapsed": false
   },
   "source": [
    "Какие параметры уже известны и относятся к решающему дереву?"
   ]
  },
  {
   "cell_type": "markdown",
   "id": "230bec67da9b341a",
   "metadata": {
    "collapsed": false
   },
   "source": [
    "**Ответ:** <...>"
   ]
  },
  {
   "cell_type": "markdown",
   "id": "974ae7b31b802f8",
   "metadata": {
    "collapsed": false
   },
   "source": [
    "\n",
    "\n",
    "Появляются новые важные гиперпараметры: n_estimators (количество деревьев в лесу). Также важным является гиперапараметр max_features &mdash; максимальное количество признаков, которые могут быть перебраны при разбиении вершины дерева. Перед каждым разбиением дерева генерируется выборка из `min(k, max_features)` случайных признаков (`k` — количество признаков в датасете) и только эти признаки рассматриваются как разделяющие в данной вершине."
   ]
  },
  {
   "cell_type": "markdown",
   "id": "e7219606fbbf055c",
   "metadata": {
    "collapsed": false
   },
   "source": [
    "Выведите качество, сравните с деревом."
   ]
  },
  {
   "cell_type": "code",
   "execution_count": null,
   "id": "5aed76572732ef5d",
   "metadata": {
    "collapsed": false
   },
   "outputs": [],
   "source": [
    "<...>"
   ]
  },
  {
   "cell_type": "markdown",
   "id": "c2fadfa82a28bcba",
   "metadata": {
    "collapsed": false
   },
   "source": [
    "**Вывод:** <...>"
   ]
  },
  {
   "cell_type": "markdown",
   "id": "86861f603b5bd096",
   "metadata": {
    "collapsed": false
   },
   "source": [
    "Нарисуйте первые 6 деревьев леса."
   ]
  },
  {
   "cell_type": "code",
   "execution_count": null,
   "id": "324e9a4a5696bdc4",
   "metadata": {
    "collapsed": false
   },
   "outputs": [],
   "source": [
    "<...>"
   ]
  },
  {
   "cell_type": "markdown",
   "id": "e501ca96f98c4380",
   "metadata": {
    "collapsed": false
   },
   "source": [
    "Как выглядят деревья в решающем дереве? Насколько они отличаются от обученного ранее дерева и друг от друга?"
   ]
  },
  {
   "cell_type": "markdown",
   "id": "f143c2083a703271",
   "metadata": {
    "collapsed": false
   },
   "source": [
    "**Вывод:** <...>"
   ]
  }
 ],
 "metadata": {
  "kernelspec": {
   "display_name": "Python 3",
   "language": "python",
   "name": "python3"
  },
  "language_info": {
   "codemirror_mode": {
    "name": "ipython",
    "version": 2
   },
   "file_extension": ".py",
   "mimetype": "text/x-python",
   "name": "python",
   "nbconvert_exporter": "python",
   "pygments_lexer": "ipython2",
   "version": "2.7.6"
  }
 },
 "nbformat": 4,
 "nbformat_minor": 5
}
