{
 "cells": [
  {
   "cell_type": "markdown",
   "id": "39f63c43",
   "metadata": {
    "id": "JYLSkWtOs48n",
    "pycharm": {
     "name": "#%% md\n"
    }
   },
   "source": [
    "# <a href=\"https://miptstats.github.io/courses/ad_mipt.html\">Phystech@DataScience</a>\n",
    "## Домашнее задание 6\n",
    "\n",
    "**Правила, <font color=\"red\">прочитайте внимательно</font>:**\n",
    "\n",
    "* Выполненную работу нужно отправить телеграм-боту `@miptstats_pds_bot`. Для начала работы с ботом каждый раз отправляйте `/start`. **Работы, присланные иным способом, не принимаются.**\n",
    "* Дедлайн см. в боте. После дедлайна работы не принимаются кроме случаев наличия уважительной причины.\n",
    "* Прислать нужно ноутбук в формате `ipynb`.\n",
    "* Выполнять задание необходимо полностью самостоятельно. **При обнаружении списывания все участники списывания будут сдавать устный зачет.**\n",
    "* Решения, размещенные на каких-либо интернет-ресурсах, не принимаются. Кроме того, публикация решения в открытом доступе может быть приравнена к предоставлении возможности списать.\n",
    "* Для выполнения задания используйте этот ноутбук в качестве основы, ничего не удаляя из него. Можно добавлять необходимое количество ячеек.\n",
    "* Комментарии к решению пишите в markdown-ячейках.\n",
    "* Выполнение задания (ход решения, выводы и пр.) должно быть осуществлено на русском языке.\n",
    "* Если код будет не понятен проверяющему, оценка может быть снижена.\n",
    "* Никакой код из данного задания при проверке запускаться не будет. *Если код студента не выполнен, недописан и т.д., то он не оценивается.*\n",
    "* **Код из рассказанных на занятиях ноутбуков можно использовать без ограничений.**\n",
    "\n",
    "**Правила оформления теоретических задач:**\n",
    "\n",
    "* Решения необходимо прислать одним из следующих способов:\n",
    "  * фотографией в правильной ориентации, где все четко видно, а почерк разборчив,\n",
    "    * отправив ее как файл боту вместе с ноутбуком *или*\n",
    "    * вставив ее в ноутбук посредством `Edit -> Insert Image` (<font color=\"red\">фото, вставленные ссылкой, не принимаются</font>);\n",
    "  * в виде $\\LaTeX$ в markdown-ячейках.\n",
    "* Решения не проверяются, если какое-то требование не выполнено. Особенно внимательно все проверьте в случае выбора второго пункта (вставки фото в ноутбук). <font color=\"red\"><b>Неправильно вставленные фотографии могут не передаться при отправке.</b></font> Для проверки попробуйте переместить `ipynb` в другую папку и открыть его там.\n",
    "* В решениях поясняйте, чем вы пользуетесь, хотя бы кратко. Например, если пользуетесь независимостью, то достаточно подписи вида \"*X и Y незав.*\"\n",
    "* Решение, в котором есть только ответ, и отсутствуют вычисления, оценивается в 0 баллов.\n",
    "\n",
    "**Баллы за задание:**\n",
    "\n",
    "* Задача 1 &mdash;  30 баллов\n",
    "* Задача 2 &mdash;  30 баллов\n",
    "\n",
    "\n",
    "\n",
    "\n",
    "\n",
    "\n",
    "-----"
   ]
  },
  {
   "cell_type": "code",
   "execution_count": null,
   "id": "0c6331d7",
   "metadata": {},
   "outputs": [],
   "source": [
    "# Bot check\n",
    "\n",
    "# HW_ID: phds_hw6\n",
    "# Бот проверит этот ID и предупредит, если случайно сдать что-то не то.\n",
    "\n",
    "# Status: not final\n",
    "# Перед отправкой в финальном решении удали \"not\" в строчке выше.\n",
    "# Так бот проверит, что ты отправляешь финальную версию, а не промежуточную.\n",
    "# Никакие значения в этой ячейке не влияют на факт сдачи работы."
   ]
  },
  {
   "cell_type": "code",
   "execution_count": null,
   "id": "69110754",
   "metadata": {
    "ExecuteTime": {
     "end_time": "2023-10-10T17:18:57.377839Z",
     "start_time": "2023-10-10T17:18:56.195069Z"
    },
    "id": "lQJgbOfCqTo0",
    "pycharm": {
     "name": "#%%\n"
    }
   },
   "outputs": [],
   "source": [
    "import numpy as np\n",
    "import pandas as pd\n",
    "import scipy.stats as sps\n",
    "\n",
    "import matplotlib.pyplot as plt\n",
    "import seaborn as sns\n",
    "sns.set(font_scale=1.3)\n",
    "%matplotlib inline\n",
    "\n",
    "from sklearn.ensemble import RandomForestRegressor\n",
    "from sklearn.datasets import fetch_california_housing\n",
    "\n",
    "from statsmodels.api import Logit\n",
    "from sklearn.model_selection import train_test_split"
   ]
  },
  {
   "cell_type": "markdown",
   "id": "eb0a7b78",
   "metadata": {
    "id": "oFzjaVlV1Yyc",
    "pycharm": {
     "name": "#%% md\n"
    }
   },
   "source": [
    "### Задача 1\n"
   ]
  },
  {
   "cell_type": "markdown",
   "id": "c157cfa8",
   "metadata": {
    "id": "B5Idbe9o1Yyc",
    "pycharm": {
     "name": "#%% md\n"
    }
   },
   "source": [
    "В этой задаче вам предлагается исследовать зависимость качества предсказаний модели случайного леса в зависимости от различных гиперпараметров на примере задаче регрессии. Будем использовать класс `RandomForestRegressor` библиотеки `sklearn`."
   ]
  },
  {
   "cell_type": "markdown",
   "id": "83e48837acb0c2f5",
   "metadata": {
    "collapsed": false
   },
   "source": [
    "В качестве данных возьмём следующие датасеты:\n",
    "\n",
    "**Профиль физика:** https://www.kaggle.com/datasets/khsamaha/solar-flares-rhessi. Будем предсказывать длительность солнечных вспышек. Используйте файл с данными до 2018 года.\n",
    "\n",
    "**Профиль биология:** https://archive.ics.uci.edu/dataset/1/abalone. Будем предсказывать возраст моллюсков.\n",
    "\n",
    "*Совет.* При отладке кода используйте небольшую часть данных. Финальные вычисления проведите на полных данных. Для оценки времени работы используйте `tqdm` в циклах."
   ]
  },
  {
   "cell_type": "markdown",
   "id": "5bfa0dbc5fd11f86",
   "metadata": {
    "collapsed": false
   },
   "source": [
    "#### Загрузка и предобработка данных:"
   ]
  },
  {
   "cell_type": "markdown",
   "id": "3a3c12a605ab4e3d",
   "metadata": {
    "collapsed": false
   },
   "source": [
    "**Физика:**"
   ]
  },
  {
   "cell_type": "code",
   "execution_count": null,
   "id": "700b5ff8cb0627b8",
   "metadata": {
    "collapsed": false
   },
   "outputs": [],
   "source": [
    "data = pd.read_csv('hessi.solar.flare.UP_To_2018.csv')"
   ]
  },
  {
   "cell_type": "code",
   "execution_count": null,
   "id": "504c5d363da47f7c",
   "metadata": {
    "collapsed": false
   },
   "outputs": [],
   "source": [
    "data.columns"
   ]
  },
  {
   "cell_type": "markdown",
   "id": "406f469d4f664a2",
   "metadata": {
    "collapsed": false
   },
   "source": [
    "Уберем категориальные признаки, а также дату и время начала и время конца вспышки:"
   ]
  },
  {
   "cell_type": "code",
   "execution_count": null,
   "id": "fcfc47b833e2029d",
   "metadata": {
    "collapsed": false
   },
   "outputs": [],
   "source": [
    "data = data.drop(['flare', 'start.date', 'start.time', 'end', 'flag.1', 'flag.2', 'flag.3', 'flag.4', 'flag.5'], axis=1)"
   ]
  },
  {
   "cell_type": "code",
   "execution_count": null,
   "id": "b68fca208f747400",
   "metadata": {
    "collapsed": false
   },
   "outputs": [],
   "source": [
    "data.columns"
   ]
  },
  {
   "cell_type": "code",
   "execution_count": null,
   "id": "63c956e928ad8269",
   "metadata": {
    "collapsed": false
   },
   "outputs": [],
   "source": [
    "X = data.drop('duration.s', axis=1)\n",
    "y = data['duration.s']"
   ]
  },
  {
   "cell_type": "markdown",
   "id": "397e905be6716e60",
   "metadata": {
    "collapsed": false
   },
   "source": [
    "**Биология:**"
   ]
  },
  {
   "cell_type": "code",
   "execution_count": null,
   "id": "954e9880496013d5",
   "metadata": {
    "collapsed": false
   },
   "outputs": [],
   "source": [
    "data = pd.read_csv('abalone.data', names=['Sex', 'Length', 'Diameter', 'Height', 'Whole weight', \n",
    "                                          'Shucked weight', 'Viscera weight', 'Shell weight',\n",
    "                                          'Rings'])\n",
    "data"
   ]
  },
  {
   "cell_type": "markdown",
   "id": "cea5c6df02894f20",
   "metadata": {
    "collapsed": false
   },
   "source": [
    "Уберем категориальный признак:"
   ]
  },
  {
   "cell_type": "code",
   "execution_count": null,
   "id": "a6aadf0f16f468e9",
   "metadata": {
    "collapsed": false
   },
   "outputs": [],
   "source": [
    "data = data.drop('Sex', axis=1)"
   ]
  },
  {
   "cell_type": "code",
   "execution_count": null,
   "id": "1a3e9cd3f8503970",
   "metadata": {
    "collapsed": false
   },
   "outputs": [],
   "source": [
    "X = data.drop('Rings', axis=1)\n",
    "y = data['Rings'] + 1.5"
   ]
  },
  {
   "cell_type": "markdown",
   "id": "d0fa3220",
   "metadata": {
    "id": "VxKMeSjx1Yyd",
    "pycharm": {
     "name": "#%% md\n"
    }
   },
   "source": [
    "Разбейте данные на обучающую выборку и на валидацию, выделив на валидацию 25% данных."
   ]
  },
  {
   "cell_type": "code",
   "execution_count": null,
   "id": "196b8c10",
   "metadata": {
    "id": "c_wZNFMV1Yyd",
    "pycharm": {
     "name": "#%%\n"
    }
   },
   "outputs": [],
   "source": [
    "X_train, X_test, y_train, y_test = <...>"
   ]
  },
  {
   "cell_type": "markdown",
   "id": "e6d4a24b",
   "metadata": {
    "id": "qF8YAVOl1Yyd",
    "pycharm": {
     "name": "#%% md\n"
    }
   },
   "source": [
    "Посмотрите, как изменяется качество леса в зависимости от выбранных параметров. Для этого постройте графики зависимости MSE на тестовой выборке от количества деревьев (от 1 до 100) и от максимальной глубины дерева (от 3 до 25). Когда варьируете один из параметров, в качестве другого берите значение по умолчанию. Для того, чтобы исследовать зависимость от количества деревьев, обучите лес **один** раз и посчитайте предсказания каждого отдельного дерева в лесу. После этого используйте усреднение первых $k$ предсказаний в качестве ответа для $k$ деревьев. "
   ]
  },
  {
   "cell_type": "code",
   "execution_count": null,
   "id": "44b45571",
   "metadata": {
    "id": "-HDA0nmu1Yye",
    "pycharm": {
     "name": "#%%\n"
    }
   },
   "outputs": [],
   "source": [
    "<...>"
   ]
  },
  {
   "cell_type": "markdown",
   "id": "f8c19413",
   "metadata": {
    "id": "IP0P7tUl1Yye",
    "pycharm": {
     "name": "#%% md\n"
    }
   },
   "source": [
    "Основываясь на полученных графиках, ответьте на следующие вопросы.\n",
    "\n",
    "1. Какие закономерности можно увидеть на построенных графиках? Почему графики получились такими?\n",
    "\n",
    "2. Как изменяется качество предсказаний с увеличением исследуемых параметров, когда эти параметры уже достаточно большие.\n",
    "\n",
    "3. В предыдущем задании вы на практике убедились, что решающее дерево начинает переобучаться при достаточно больших значениях максимальной глубины. Справедливо ли это утверждение для случайного леса? Поясните свой ответ, опираясь на своё знание статистики."
   ]
  },
  {
   "cell_type": "markdown",
   "id": "1ed403c1",
   "metadata": {
    "id": "TRQh_XUE1Yye",
    "pycharm": {
     "name": "#%% md\n"
    }
   },
   "source": [
    "**Ответ:** <...>"
   ]
  },
  {
   "cell_type": "markdown",
   "id": "d3848ca4",
   "metadata": {
    "id": "ER4aAZe_1Yyf",
    "pycharm": {
     "name": "#%% md\n"
    }
   },
   "source": [
    "Обучите случайный лес с параметрами по умолчанию и выведите mse на тестовой выборке. Проведите эксперимент 3 раза. Почему результаты отличаются?"
   ]
  },
  {
   "cell_type": "code",
   "execution_count": null,
   "id": "8bd41b9f",
   "metadata": {
    "id": "QdGZMujR1Yyf",
    "pycharm": {
     "name": "#%%\n"
    }
   },
   "outputs": [],
   "source": [
    "<...>"
   ]
  },
  {
   "cell_type": "markdown",
   "id": "0f35f0d6",
   "metadata": {
    "id": "Q4PTiQ871Yyf",
    "pycharm": {
     "name": "#%% md\n"
    }
   },
   "source": [
    "**Ответ:** <...>"
   ]
  },
  {
   "cell_type": "markdown",
   "id": "88f44d15",
   "metadata": {
    "id": "uuFZfhIw1Yyg",
    "pycharm": {
     "name": "#%% md\n"
    }
   },
   "source": [
    "Было бы неплохо определиться с тем, какое количество деревьев нужно использовать и какой максимальной глубины они будут. Подберите оптимальные значения `max_depth` и `n_estimators` с помощью кросс-валидации."
   ]
  },
  {
   "cell_type": "code",
   "execution_count": null,
   "id": "eb31c297",
   "metadata": {
    "id": "IJXz7GHH1Yyg",
    "pycharm": {
     "name": "#%%\n"
    }
   },
   "outputs": [],
   "source": [
    "<...>"
   ]
  },
  {
   "cell_type": "markdown",
   "id": "0bcfa52b",
   "metadata": {
    "id": "ynYWfIax1Yyg",
    "pycharm": {
     "name": "#%% md\n"
    }
   },
   "source": [
    "Выведите найденные оптимальные параметры. Поясните, согласуются ли наблюдения с теорией."
   ]
  },
  {
   "cell_type": "code",
   "execution_count": null,
   "id": "ddb5a319",
   "metadata": {
    "id": "zMKdm0gP1Yyg",
    "pycharm": {
     "name": "#%%\n"
    }
   },
   "outputs": [],
   "source": [
    "<...>"
   ]
  },
  {
   "cell_type": "markdown",
   "id": "187db28c",
   "metadata": {
    "id": "pshfsHRA8Vlm",
    "pycharm": {
     "name": "#%% md\n"
    }
   },
   "source": [
    "**Вывод** "
   ]
  },
  {
   "cell_type": "markdown",
   "id": "ee2edd85",
   "metadata": {
    "id": "ibGC4QxY1Yyh",
    "pycharm": {
     "name": "#%% md\n"
    }
   },
   "source": [
    "Зафиксируем эти оптимальные значения параметров и в дальнейшим будем их использовать."
   ]
  },
  {
   "cell_type": "code",
   "execution_count": null,
   "id": "6df3fb57",
   "metadata": {
    "id": "EGHcSF671Yyh",
    "pycharm": {
     "name": "#%%\n"
    }
   },
   "outputs": [],
   "source": [
    "max_depth = <...>\n",
    "n_estimators = <...>"
   ]
  },
  {
   "cell_type": "markdown",
   "id": "a7dc3e80",
   "metadata": {
    "id": "YHzyaE9Y1Yyh",
    "pycharm": {
     "name": "#%% md\n"
    }
   },
   "source": [
    "Оценим качество предсказаний обученного решающего леса."
   ]
  },
  {
   "cell_type": "code",
   "execution_count": null,
   "id": "6a047820",
   "metadata": {
    "id": "YfrIGGrg1Yyh",
    "pycharm": {
     "name": "#%%\n"
    }
   },
   "outputs": [],
   "source": [
    "<...>"
   ]
  },
  {
   "cell_type": "markdown",
   "id": "b87f8bf0",
   "metadata": {
    "id": "Pb7VZ6x-1Yyh",
    "pycharm": {
     "name": "#%% md\n"
    }
   },
   "source": [
    "Исследуйте зависимость метрики `mse` от количества признаков, по которым происходит разбиение в вершине дерева. Поскольку количество признаков в датасете не очень большое (их 8), то можно перебрать все возможные варианты количества признаков, использующихся при разбиении вершин.\n",
    "\n",
    "Не забывайте делать пояснения и выводы!"
   ]
  },
  {
   "cell_type": "code",
   "execution_count": null,
   "id": "6ccb672a",
   "metadata": {
    "id": "9k3cIi381Yyi",
    "pycharm": {
     "name": "#%%\n"
    }
   },
   "outputs": [],
   "source": [
    "<...>"
   ]
  },
  {
   "cell_type": "markdown",
   "id": "533615ce",
   "metadata": {
    "id": "zRukHKCH1Yyi",
    "pycharm": {
     "name": "#%% md\n"
    }
   },
   "source": [
    "Постройте график зависимости метрики mse на `test` и `train` в зависимости от числа признаков, использующихся при разбиении в каждой вершине."
   ]
  },
  {
   "cell_type": "code",
   "execution_count": null,
   "id": "e9af4768",
   "metadata": {
    "id": "KHjI8Gsp1Yyi",
    "pycharm": {
     "name": "#%%\n"
    }
   },
   "outputs": [],
   "source": [
    "<...>"
   ]
  },
  {
   "cell_type": "markdown",
   "id": "c172d982",
   "metadata": {
    "id": "SaLQSeD_1Yyi",
    "pycharm": {
     "name": "#%% md\n"
    }
   },
   "source": [
    "Почему график получился таким? Как зависит разнообразие деревьев от величины `n_features`?"
   ]
  },
  {
   "cell_type": "markdown",
   "id": "319d0f79",
   "metadata": {
    "id": "Ulb9pq6Q1Yyi",
    "pycharm": {
     "name": "#%% md\n"
    }
   },
   "source": [
    "**Ответ:** <...>"
   ]
  },
  {
   "cell_type": "markdown",
   "id": "5651b0de",
   "metadata": {
    "id": "PgNPC6Zv-m6z",
    "pycharm": {
     "name": "#%% md\n"
    }
   },
   "source": [
    "Зафиксируйте наилучшие гиперпараметры.\n",
    "\n",
    "Проведите исследование скорости обучения и предсказания. \n",
    "\n",
    "Засеките время обучения и предсказания, например, с помощью модуля `time`.\n",
    "\n"
   ]
  },
  {
   "cell_type": "code",
   "execution_count": null,
   "id": "7cf45009",
   "metadata": {
    "id": "Oc6IMwVJFEsh",
    "pycharm": {
     "name": "#%%\n"
    }
   },
   "outputs": [],
   "source": [
    "<...>"
   ]
  },
  {
   "cell_type": "markdown",
   "id": "21e46193",
   "metadata": {
    "id": "JqjOmHjBB4jV",
    "pycharm": {
     "name": "#%% md\n"
    }
   },
   "source": [
    "Посчитайте среднюю глубину дерева в случайном лесе. Используйте функцию `get_depth()` для отдельных деревьев леса.\n",
    "Посчитайте среднее количество листьев, используя функцию `get_n_leaves()` для отдельных деревьев.\n",
    "\n"
   ]
  },
  {
   "cell_type": "code",
   "execution_count": null,
   "id": "24b930ea",
   "metadata": {
    "id": "QdID1z8zFGXG",
    "pycharm": {
     "name": "#%%\n"
    }
   },
   "outputs": [],
   "source": [
    "<...>"
   ]
  },
  {
   "cell_type": "markdown",
   "id": "3be9c8cf",
   "metadata": {
    "id": "jk1JSh9AECg6",
    "pycharm": {
     "name": "#%% md\n"
    }
   },
   "source": [
    "Сделайте выводы. Какие деревья обычно используются в случайном лесу? Как вы предполагаете, как от этого зависит скорость обучения и предсказания?"
   ]
  },
  {
   "cell_type": "markdown",
   "id": "c2f4fc46",
   "metadata": {
    "id": "63U3tcrJEWP5",
    "pycharm": {
     "name": "#%% md\n"
    }
   },
   "source": [
    "**Ответ** <...>"
   ]
  },
  {
   "cell_type": "markdown",
   "id": "ea705c18",
   "metadata": {
    "id": "81q8TGgU9PV1",
    "pycharm": {
     "name": "#%% md\n"
    }
   },
   "source": [
    "Исследуйте важности признаков для следующих случаев:\n",
    "\n",
    "\n",
    "\n",
    "*   Решающее  дерево\n",
    "*   Случайный лес\n",
    "*   Лес из первых 5-10 деревьев случайного леса из предыдущего пункта.\n",
    "\n",
    "Также проанализируйте качество моделей выше.\n",
    "\n",
    "Сделайте выводы. Отличаются ли посчитанные важности? Есть ли связь важностей признаков и качества моделей? О чем говорят посчитанные важности признаков?\n",
    "\n"
   ]
  },
  {
   "cell_type": "code",
   "execution_count": null,
   "id": "58690019",
   "metadata": {
    "id": "V9-YSaXE95ev",
    "pycharm": {
     "name": "#%%\n"
    }
   },
   "outputs": [],
   "source": [
    "<...>"
   ]
  },
  {
   "cell_type": "markdown",
   "id": "f83426e7",
   "metadata": {
    "id": "jPgp5LW896gR",
    "pycharm": {
     "name": "#%% md\n"
    }
   },
   "source": [
    "**Ответ:** <...>"
   ]
  },
  {
   "cell_type": "markdown",
   "id": "d8e9ac60",
   "metadata": {
    "id": "8poRoqGP1Yyj",
    "pycharm": {
     "name": "#%% md\n"
    }
   },
   "source": [
    "### Задача 2\n",
    "\n",
    "На лекции была получена формула bias-variance разложения для беггинга. Проведите эксперимент, в котором выясните, насколько уменьшается разброс (variance-компонента) беггинг-модели на 100 базовых моделях по отношению к одной базовой модели. Используйте данные из предыдущей задачи. Рассмотрите случайный лес и беггинг на моделях ридж-регрессии.\n",
    "\n",
    "\n",
    "Для реализации данного эксперимента используйте класс беггинг-модели\n",
    "`sklearn.ensemble.BaggingRegressor` , у которого используйте следующие поля:\n",
    "* `base_estimator` — базовая модель;\n",
    "* `max_features` — количество признаков для каждой базовой модели;\n",
    "* `n_estimators` — количество базовых моделей.\n",
    "\n",
    "Для решения задачи потребуется оценить корреляции предсказаний на тестовой выборке базовых моделей, входящих в состав беггинг-модели. Эти модели можно получить с помощью поля `estimators_` у обученной беггинг-модели. Корреляции моделей можно смотреть как корреляции векторов их предсказаний.\n",
    "\n",
    "Насколько уменьшается разброс в каждом случае? Для каждого случая постройте также матрицу корреляций предсказаний базовых моделей и гистограмму по ним. Какую оценку коэффициента корреляции вы используете и почему?"
   ]
  },
  {
   "cell_type": "code",
   "execution_count": null,
   "id": "d08782f6",
   "metadata": {
    "id": "5Dz4l6XEPNvu",
    "pycharm": {
     "name": "#%%\n"
    }
   },
   "outputs": [],
   "source": [
    "<...>"
   ]
  }
 ],
 "metadata": {
  "kernelspec": {
   "display_name": "Python 3 (ipykernel)",
   "language": "python",
   "name": "python3"
  },
  "language_info": {
   "codemirror_mode": {
    "name": "ipython",
    "version": 3
   },
   "file_extension": ".py",
   "mimetype": "text/x-python",
   "name": "python",
   "nbconvert_exporter": "python",
   "pygments_lexer": "ipython3",
   "version": "3.11.5"
  }
 },
 "nbformat": 4,
 "nbformat_minor": 5
}
