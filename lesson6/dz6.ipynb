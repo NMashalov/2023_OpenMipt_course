{
  "cells": [
    {
      "cell_type": "markdown",
      "metadata": {
        "id": "view-in-github",
        "colab_type": "text"
      },
      "source": [
        "<a href=\"https://colab.research.google.com/github/NMashalov/2023_OpenMipt_course/blob/main/lesson6/dz6.ipynb\" target=\"_parent\"><img src=\"https://colab.research.google.com/assets/colab-badge.svg\" alt=\"Open In Colab\"/></a>"
      ]
    },
    {
      "cell_type": "markdown",
      "id": "39f63c43",
      "metadata": {
        "id": "39f63c43",
        "pycharm": {
          "name": "#%% md\n"
        }
      },
      "source": [
        "# <a href=\"https://miptstats.github.io/courses/ad_mipt.html\">Phystech@DataScience</a>\n",
        "## Домашнее задание 6\n",
        "\n",
        "**Правила, <font color=\"red\">прочитайте внимательно</font>:**\n",
        "\n",
        "* Выполненную работу нужно отправить телеграм-боту `@miptstats_pds_bot`. Для начала работы с ботом каждый раз отправляйте `/start`. **Работы, присланные иным способом, не принимаются.**\n",
        "* Дедлайн см. в боте. После дедлайна работы не принимаются кроме случаев наличия уважительной причины.\n",
        "* Прислать нужно ноутбук в формате `ipynb`.\n",
        "* Выполнять задание необходимо полностью самостоятельно. **При обнаружении списывания все участники списывания будут сдавать устный зачет.**\n",
        "* Решения, размещенные на каких-либо интернет-ресурсах, не принимаются. Кроме того, публикация решения в открытом доступе может быть приравнена к предоставлении возможности списать.\n",
        "* Для выполнения задания используйте этот ноутбук в качестве основы, ничего не удаляя из него. Можно добавлять необходимое количество ячеек.\n",
        "* Комментарии к решению пишите в markdown-ячейках.\n",
        "* Выполнение задания (ход решения, выводы и пр.) должно быть осуществлено на русском языке.\n",
        "* Если код будет не понятен проверяющему, оценка может быть снижена.\n",
        "* Никакой код из данного задания при проверке запускаться не будет. *Если код студента не выполнен, недописан и т.д., то он не оценивается.*\n",
        "* **Код из рассказанных на занятиях ноутбуков можно использовать без ограничений.**\n",
        "\n",
        "**Правила оформления теоретических задач:**\n",
        "\n",
        "* Решения необходимо прислать одним из следующих способов:\n",
        "  * фотографией в правильной ориентации, где все четко видно, а почерк разборчив,\n",
        "    * отправив ее как файл боту вместе с ноутбуком *или*\n",
        "    * вставив ее в ноутбук посредством `Edit -> Insert Image` (<font color=\"red\">фото, вставленные ссылкой, не принимаются</font>);\n",
        "  * в виде $\\LaTeX$ в markdown-ячейках.\n",
        "* Решения не проверяются, если какое-то требование не выполнено. Особенно внимательно все проверьте в случае выбора второго пункта (вставки фото в ноутбук). <font color=\"red\"><b>Неправильно вставленные фотографии могут не передаться при отправке.</b></font> Для проверки попробуйте переместить `ipynb` в другую папку и открыть его там.\n",
        "* В решениях поясняйте, чем вы пользуетесь, хотя бы кратко. Например, если пользуетесь независимостью, то достаточно подписи вида \"*X и Y незав.*\"\n",
        "* Решение, в котором есть только ответ, и отсутствуют вычисления, оценивается в 0 баллов.\n",
        "\n",
        "**Баллы за задание:**\n",
        "\n",
        "* Задача 1 &mdash;  30 баллов\n",
        "* Задача 2 &mdash;  30 баллов\n",
        "\n",
        "\n",
        "\n",
        "\n",
        "\n",
        "\n",
        "-----"
      ]
    },
    {
      "cell_type": "code",
      "execution_count": null,
      "id": "0c6331d7",
      "metadata": {
        "id": "0c6331d7"
      },
      "outputs": [],
      "source": [
        "# Bot check\n",
        "\n",
        "# HW_ID: phds_hw6\n",
        "# Бот проверит этот ID и предупредит, если случайно сдать что-то не то.\n",
        "\n",
        "# Status: not final\n",
        "# Перед отправкой в финальном решении удали \"not\" в строчке выше.\n",
        "# Так бот проверит, что ты отправляешь финальную версию, а не промежуточную.\n",
        "# Никакие значения в этой ячейке не влияют на факт сдачи работы."
      ]
    },
    {
      "cell_type": "code",
      "execution_count": 1,
      "id": "69110754",
      "metadata": {
        "ExecuteTime": {
          "end_time": "2023-10-10T17:18:57.377839Z",
          "start_time": "2023-10-10T17:18:56.195069Z"
        },
        "id": "69110754",
        "pycharm": {
          "name": "#%%\n"
        }
      },
      "outputs": [],
      "source": [
        "import numpy as np\n",
        "import pandas as pd\n",
        "import scipy.stats as sps\n",
        "\n",
        "import matplotlib.pyplot as plt\n",
        "import seaborn as sns\n",
        "sns.set(font_scale=1.3)\n",
        "%matplotlib inline\n",
        "\n",
        "from sklearn.ensemble import RandomForestRegressor\n",
        "from sklearn.datasets import fetch_california_housing\n",
        "\n",
        "from statsmodels.api import Logit\n",
        "from sklearn.model_selection import train_test_split"
      ]
    },
    {
      "cell_type": "markdown",
      "id": "eb0a7b78",
      "metadata": {
        "id": "eb0a7b78",
        "pycharm": {
          "name": "#%% md\n"
        }
      },
      "source": [
        "### Задача 1\n"
      ]
    },
    {
      "cell_type": "markdown",
      "id": "c157cfa8",
      "metadata": {
        "id": "c157cfa8",
        "pycharm": {
          "name": "#%% md\n"
        }
      },
      "source": [
        "В этой задаче вам предлагается исследовать зависимость качества предсказаний модели случайного леса в зависимости от различных гиперпараметров на примере задаче регрессии. Будем использовать класс `RandomForestRegressor` библиотеки `sklearn`."
      ]
    },
    {
      "cell_type": "markdown",
      "id": "83e48837acb0c2f5",
      "metadata": {
        "collapsed": false,
        "id": "83e48837acb0c2f5"
      },
      "source": [
        "В качестве данных возьмём следующие датасеты:\n",
        "\n",
        "**Профиль физика:** https://www.kaggle.com/datasets/khsamaha/solar-flares-rhessi. Будем предсказывать длительность солнечных вспышек. Используйте файл с данными до 2018 года.\n",
        "\n",
        "**Профиль биология:** https://archive.ics.uci.edu/dataset/1/abalone. Будем предсказывать возраст моллюсков.\n",
        "\n",
        "*Совет.* При отладке кода используйте небольшую часть данных. Финальные вычисления проведите на полных данных. Для оценки времени работы используйте `tqdm` в циклах."
      ]
    },
    {
      "cell_type": "markdown",
      "id": "5bfa0dbc5fd11f86",
      "metadata": {
        "collapsed": false,
        "id": "5bfa0dbc5fd11f86"
      },
      "source": [
        "#### Загрузка и предобработка данных:"
      ]
    },
    {
      "cell_type": "code",
      "source": [
        "!wget https://archive.ics.uci.edu/static/public/1/abalone.zip\n",
        "!unzip abalone.zip"
      ],
      "metadata": {
        "colab": {
          "base_uri": "https://localhost:8080/"
        },
        "id": "HaZQr_rLvjcp",
        "outputId": "a78f202d-cca6-4540-b542-c963a0375568"
      },
      "id": "HaZQr_rLvjcp",
      "execution_count": 4,
      "outputs": [
        {
          "output_type": "stream",
          "name": "stdout",
          "text": [
            "--2023-10-28 10:16:28--  https://archive.ics.uci.edu/static/public/1/abalone.zip\n",
            "Resolving archive.ics.uci.edu (archive.ics.uci.edu)... 128.195.10.252\n",
            "Connecting to archive.ics.uci.edu (archive.ics.uci.edu)|128.195.10.252|:443... connected.\n",
            "HTTP request sent, awaiting response... 200 OK\n",
            "Length: unspecified\n",
            "Saving to: ‘abalone.zip.1’\n",
            "\n",
            "abalone.zip.1           [ <=>                ]  54.06K  --.-KB/s    in 0.1s    \n",
            "\n",
            "2023-10-28 10:16:29 (426 KB/s) - ‘abalone.zip.1’ saved [55357]\n",
            "\n",
            "Archive:  abalone.zip\n",
            "  inflating: Index                   \n",
            "  inflating: abalone.data            \n",
            "  inflating: abalone.names           \n"
          ]
        }
      ]
    },
    {
      "cell_type": "markdown",
      "id": "397e905be6716e60",
      "metadata": {
        "collapsed": false,
        "id": "397e905be6716e60"
      },
      "source": [
        "**Биология:**"
      ]
    },
    {
      "cell_type": "code",
      "execution_count": 5,
      "id": "954e9880496013d5",
      "metadata": {
        "colab": {
          "base_uri": "https://localhost:8080/",
          "height": 424
        },
        "id": "954e9880496013d5",
        "outputId": "0e93d695-03fa-4a42-b221-5e62e9074ed6"
      },
      "outputs": [
        {
          "output_type": "execute_result",
          "data": {
            "text/plain": [
              "     Sex  Length  Diameter  Height  Whole weight  Shucked weight  \\\n",
              "0      M   0.455     0.365   0.095        0.5140          0.2245   \n",
              "1      M   0.350     0.265   0.090        0.2255          0.0995   \n",
              "2      F   0.530     0.420   0.135        0.6770          0.2565   \n",
              "3      M   0.440     0.365   0.125        0.5160          0.2155   \n",
              "4      I   0.330     0.255   0.080        0.2050          0.0895   \n",
              "...   ..     ...       ...     ...           ...             ...   \n",
              "4172   F   0.565     0.450   0.165        0.8870          0.3700   \n",
              "4173   M   0.590     0.440   0.135        0.9660          0.4390   \n",
              "4174   M   0.600     0.475   0.205        1.1760          0.5255   \n",
              "4175   F   0.625     0.485   0.150        1.0945          0.5310   \n",
              "4176   M   0.710     0.555   0.195        1.9485          0.9455   \n",
              "\n",
              "      Viscera weight  Shell weight  Rings  \n",
              "0             0.1010        0.1500     15  \n",
              "1             0.0485        0.0700      7  \n",
              "2             0.1415        0.2100      9  \n",
              "3             0.1140        0.1550     10  \n",
              "4             0.0395        0.0550      7  \n",
              "...              ...           ...    ...  \n",
              "4172          0.2390        0.2490     11  \n",
              "4173          0.2145        0.2605     10  \n",
              "4174          0.2875        0.3080      9  \n",
              "4175          0.2610        0.2960     10  \n",
              "4176          0.3765        0.4950     12  \n",
              "\n",
              "[4177 rows x 9 columns]"
            ],
            "text/html": [
              "\n",
              "  <div id=\"df-8082c810-57ff-44df-bf0d-dbb51b773e8a\" class=\"colab-df-container\">\n",
              "    <div>\n",
              "<style scoped>\n",
              "    .dataframe tbody tr th:only-of-type {\n",
              "        vertical-align: middle;\n",
              "    }\n",
              "\n",
              "    .dataframe tbody tr th {\n",
              "        vertical-align: top;\n",
              "    }\n",
              "\n",
              "    .dataframe thead th {\n",
              "        text-align: right;\n",
              "    }\n",
              "</style>\n",
              "<table border=\"1\" class=\"dataframe\">\n",
              "  <thead>\n",
              "    <tr style=\"text-align: right;\">\n",
              "      <th></th>\n",
              "      <th>Sex</th>\n",
              "      <th>Length</th>\n",
              "      <th>Diameter</th>\n",
              "      <th>Height</th>\n",
              "      <th>Whole weight</th>\n",
              "      <th>Shucked weight</th>\n",
              "      <th>Viscera weight</th>\n",
              "      <th>Shell weight</th>\n",
              "      <th>Rings</th>\n",
              "    </tr>\n",
              "  </thead>\n",
              "  <tbody>\n",
              "    <tr>\n",
              "      <th>0</th>\n",
              "      <td>M</td>\n",
              "      <td>0.455</td>\n",
              "      <td>0.365</td>\n",
              "      <td>0.095</td>\n",
              "      <td>0.5140</td>\n",
              "      <td>0.2245</td>\n",
              "      <td>0.1010</td>\n",
              "      <td>0.1500</td>\n",
              "      <td>15</td>\n",
              "    </tr>\n",
              "    <tr>\n",
              "      <th>1</th>\n",
              "      <td>M</td>\n",
              "      <td>0.350</td>\n",
              "      <td>0.265</td>\n",
              "      <td>0.090</td>\n",
              "      <td>0.2255</td>\n",
              "      <td>0.0995</td>\n",
              "      <td>0.0485</td>\n",
              "      <td>0.0700</td>\n",
              "      <td>7</td>\n",
              "    </tr>\n",
              "    <tr>\n",
              "      <th>2</th>\n",
              "      <td>F</td>\n",
              "      <td>0.530</td>\n",
              "      <td>0.420</td>\n",
              "      <td>0.135</td>\n",
              "      <td>0.6770</td>\n",
              "      <td>0.2565</td>\n",
              "      <td>0.1415</td>\n",
              "      <td>0.2100</td>\n",
              "      <td>9</td>\n",
              "    </tr>\n",
              "    <tr>\n",
              "      <th>3</th>\n",
              "      <td>M</td>\n",
              "      <td>0.440</td>\n",
              "      <td>0.365</td>\n",
              "      <td>0.125</td>\n",
              "      <td>0.5160</td>\n",
              "      <td>0.2155</td>\n",
              "      <td>0.1140</td>\n",
              "      <td>0.1550</td>\n",
              "      <td>10</td>\n",
              "    </tr>\n",
              "    <tr>\n",
              "      <th>4</th>\n",
              "      <td>I</td>\n",
              "      <td>0.330</td>\n",
              "      <td>0.255</td>\n",
              "      <td>0.080</td>\n",
              "      <td>0.2050</td>\n",
              "      <td>0.0895</td>\n",
              "      <td>0.0395</td>\n",
              "      <td>0.0550</td>\n",
              "      <td>7</td>\n",
              "    </tr>\n",
              "    <tr>\n",
              "      <th>...</th>\n",
              "      <td>...</td>\n",
              "      <td>...</td>\n",
              "      <td>...</td>\n",
              "      <td>...</td>\n",
              "      <td>...</td>\n",
              "      <td>...</td>\n",
              "      <td>...</td>\n",
              "      <td>...</td>\n",
              "      <td>...</td>\n",
              "    </tr>\n",
              "    <tr>\n",
              "      <th>4172</th>\n",
              "      <td>F</td>\n",
              "      <td>0.565</td>\n",
              "      <td>0.450</td>\n",
              "      <td>0.165</td>\n",
              "      <td>0.8870</td>\n",
              "      <td>0.3700</td>\n",
              "      <td>0.2390</td>\n",
              "      <td>0.2490</td>\n",
              "      <td>11</td>\n",
              "    </tr>\n",
              "    <tr>\n",
              "      <th>4173</th>\n",
              "      <td>M</td>\n",
              "      <td>0.590</td>\n",
              "      <td>0.440</td>\n",
              "      <td>0.135</td>\n",
              "      <td>0.9660</td>\n",
              "      <td>0.4390</td>\n",
              "      <td>0.2145</td>\n",
              "      <td>0.2605</td>\n",
              "      <td>10</td>\n",
              "    </tr>\n",
              "    <tr>\n",
              "      <th>4174</th>\n",
              "      <td>M</td>\n",
              "      <td>0.600</td>\n",
              "      <td>0.475</td>\n",
              "      <td>0.205</td>\n",
              "      <td>1.1760</td>\n",
              "      <td>0.5255</td>\n",
              "      <td>0.2875</td>\n",
              "      <td>0.3080</td>\n",
              "      <td>9</td>\n",
              "    </tr>\n",
              "    <tr>\n",
              "      <th>4175</th>\n",
              "      <td>F</td>\n",
              "      <td>0.625</td>\n",
              "      <td>0.485</td>\n",
              "      <td>0.150</td>\n",
              "      <td>1.0945</td>\n",
              "      <td>0.5310</td>\n",
              "      <td>0.2610</td>\n",
              "      <td>0.2960</td>\n",
              "      <td>10</td>\n",
              "    </tr>\n",
              "    <tr>\n",
              "      <th>4176</th>\n",
              "      <td>M</td>\n",
              "      <td>0.710</td>\n",
              "      <td>0.555</td>\n",
              "      <td>0.195</td>\n",
              "      <td>1.9485</td>\n",
              "      <td>0.9455</td>\n",
              "      <td>0.3765</td>\n",
              "      <td>0.4950</td>\n",
              "      <td>12</td>\n",
              "    </tr>\n",
              "  </tbody>\n",
              "</table>\n",
              "<p>4177 rows × 9 columns</p>\n",
              "</div>\n",
              "    <div class=\"colab-df-buttons\">\n",
              "\n",
              "  <div class=\"colab-df-container\">\n",
              "    <button class=\"colab-df-convert\" onclick=\"convertToInteractive('df-8082c810-57ff-44df-bf0d-dbb51b773e8a')\"\n",
              "            title=\"Convert this dataframe to an interactive table.\"\n",
              "            style=\"display:none;\">\n",
              "\n",
              "  <svg xmlns=\"http://www.w3.org/2000/svg\" height=\"24px\" viewBox=\"0 -960 960 960\">\n",
              "    <path d=\"M120-120v-720h720v720H120Zm60-500h600v-160H180v160Zm220 220h160v-160H400v160Zm0 220h160v-160H400v160ZM180-400h160v-160H180v160Zm440 0h160v-160H620v160ZM180-180h160v-160H180v160Zm440 0h160v-160H620v160Z\"/>\n",
              "  </svg>\n",
              "    </button>\n",
              "\n",
              "  <style>\n",
              "    .colab-df-container {\n",
              "      display:flex;\n",
              "      gap: 12px;\n",
              "    }\n",
              "\n",
              "    .colab-df-convert {\n",
              "      background-color: #E8F0FE;\n",
              "      border: none;\n",
              "      border-radius: 50%;\n",
              "      cursor: pointer;\n",
              "      display: none;\n",
              "      fill: #1967D2;\n",
              "      height: 32px;\n",
              "      padding: 0 0 0 0;\n",
              "      width: 32px;\n",
              "    }\n",
              "\n",
              "    .colab-df-convert:hover {\n",
              "      background-color: #E2EBFA;\n",
              "      box-shadow: 0px 1px 2px rgba(60, 64, 67, 0.3), 0px 1px 3px 1px rgba(60, 64, 67, 0.15);\n",
              "      fill: #174EA6;\n",
              "    }\n",
              "\n",
              "    .colab-df-buttons div {\n",
              "      margin-bottom: 4px;\n",
              "    }\n",
              "\n",
              "    [theme=dark] .colab-df-convert {\n",
              "      background-color: #3B4455;\n",
              "      fill: #D2E3FC;\n",
              "    }\n",
              "\n",
              "    [theme=dark] .colab-df-convert:hover {\n",
              "      background-color: #434B5C;\n",
              "      box-shadow: 0px 1px 3px 1px rgba(0, 0, 0, 0.15);\n",
              "      filter: drop-shadow(0px 1px 2px rgba(0, 0, 0, 0.3));\n",
              "      fill: #FFFFFF;\n",
              "    }\n",
              "  </style>\n",
              "\n",
              "    <script>\n",
              "      const buttonEl =\n",
              "        document.querySelector('#df-8082c810-57ff-44df-bf0d-dbb51b773e8a button.colab-df-convert');\n",
              "      buttonEl.style.display =\n",
              "        google.colab.kernel.accessAllowed ? 'block' : 'none';\n",
              "\n",
              "      async function convertToInteractive(key) {\n",
              "        const element = document.querySelector('#df-8082c810-57ff-44df-bf0d-dbb51b773e8a');\n",
              "        const dataTable =\n",
              "          await google.colab.kernel.invokeFunction('convertToInteractive',\n",
              "                                                    [key], {});\n",
              "        if (!dataTable) return;\n",
              "\n",
              "        const docLinkHtml = 'Like what you see? Visit the ' +\n",
              "          '<a target=\"_blank\" href=https://colab.research.google.com/notebooks/data_table.ipynb>data table notebook</a>'\n",
              "          + ' to learn more about interactive tables.';\n",
              "        element.innerHTML = '';\n",
              "        dataTable['output_type'] = 'display_data';\n",
              "        await google.colab.output.renderOutput(dataTable, element);\n",
              "        const docLink = document.createElement('div');\n",
              "        docLink.innerHTML = docLinkHtml;\n",
              "        element.appendChild(docLink);\n",
              "      }\n",
              "    </script>\n",
              "  </div>\n",
              "\n",
              "\n",
              "<div id=\"df-dcb9ff0f-8df6-4ee8-8403-332e7cd3c5dc\">\n",
              "  <button class=\"colab-df-quickchart\" onclick=\"quickchart('df-dcb9ff0f-8df6-4ee8-8403-332e7cd3c5dc')\"\n",
              "            title=\"Suggest charts.\"\n",
              "            style=\"display:none;\">\n",
              "\n",
              "<svg xmlns=\"http://www.w3.org/2000/svg\" height=\"24px\"viewBox=\"0 0 24 24\"\n",
              "     width=\"24px\">\n",
              "    <g>\n",
              "        <path d=\"M19 3H5c-1.1 0-2 .9-2 2v14c0 1.1.9 2 2 2h14c1.1 0 2-.9 2-2V5c0-1.1-.9-2-2-2zM9 17H7v-7h2v7zm4 0h-2V7h2v10zm4 0h-2v-4h2v4z\"/>\n",
              "    </g>\n",
              "</svg>\n",
              "  </button>\n",
              "\n",
              "<style>\n",
              "  .colab-df-quickchart {\n",
              "      --bg-color: #E8F0FE;\n",
              "      --fill-color: #1967D2;\n",
              "      --hover-bg-color: #E2EBFA;\n",
              "      --hover-fill-color: #174EA6;\n",
              "      --disabled-fill-color: #AAA;\n",
              "      --disabled-bg-color: #DDD;\n",
              "  }\n",
              "\n",
              "  [theme=dark] .colab-df-quickchart {\n",
              "      --bg-color: #3B4455;\n",
              "      --fill-color: #D2E3FC;\n",
              "      --hover-bg-color: #434B5C;\n",
              "      --hover-fill-color: #FFFFFF;\n",
              "      --disabled-bg-color: #3B4455;\n",
              "      --disabled-fill-color: #666;\n",
              "  }\n",
              "\n",
              "  .colab-df-quickchart {\n",
              "    background-color: var(--bg-color);\n",
              "    border: none;\n",
              "    border-radius: 50%;\n",
              "    cursor: pointer;\n",
              "    display: none;\n",
              "    fill: var(--fill-color);\n",
              "    height: 32px;\n",
              "    padding: 0;\n",
              "    width: 32px;\n",
              "  }\n",
              "\n",
              "  .colab-df-quickchart:hover {\n",
              "    background-color: var(--hover-bg-color);\n",
              "    box-shadow: 0 1px 2px rgba(60, 64, 67, 0.3), 0 1px 3px 1px rgba(60, 64, 67, 0.15);\n",
              "    fill: var(--button-hover-fill-color);\n",
              "  }\n",
              "\n",
              "  .colab-df-quickchart-complete:disabled,\n",
              "  .colab-df-quickchart-complete:disabled:hover {\n",
              "    background-color: var(--disabled-bg-color);\n",
              "    fill: var(--disabled-fill-color);\n",
              "    box-shadow: none;\n",
              "  }\n",
              "\n",
              "  .colab-df-spinner {\n",
              "    border: 2px solid var(--fill-color);\n",
              "    border-color: transparent;\n",
              "    border-bottom-color: var(--fill-color);\n",
              "    animation:\n",
              "      spin 1s steps(1) infinite;\n",
              "  }\n",
              "\n",
              "  @keyframes spin {\n",
              "    0% {\n",
              "      border-color: transparent;\n",
              "      border-bottom-color: var(--fill-color);\n",
              "      border-left-color: var(--fill-color);\n",
              "    }\n",
              "    20% {\n",
              "      border-color: transparent;\n",
              "      border-left-color: var(--fill-color);\n",
              "      border-top-color: var(--fill-color);\n",
              "    }\n",
              "    30% {\n",
              "      border-color: transparent;\n",
              "      border-left-color: var(--fill-color);\n",
              "      border-top-color: var(--fill-color);\n",
              "      border-right-color: var(--fill-color);\n",
              "    }\n",
              "    40% {\n",
              "      border-color: transparent;\n",
              "      border-right-color: var(--fill-color);\n",
              "      border-top-color: var(--fill-color);\n",
              "    }\n",
              "    60% {\n",
              "      border-color: transparent;\n",
              "      border-right-color: var(--fill-color);\n",
              "    }\n",
              "    80% {\n",
              "      border-color: transparent;\n",
              "      border-right-color: var(--fill-color);\n",
              "      border-bottom-color: var(--fill-color);\n",
              "    }\n",
              "    90% {\n",
              "      border-color: transparent;\n",
              "      border-bottom-color: var(--fill-color);\n",
              "    }\n",
              "  }\n",
              "</style>\n",
              "\n",
              "  <script>\n",
              "    async function quickchart(key) {\n",
              "      const quickchartButtonEl =\n",
              "        document.querySelector('#' + key + ' button');\n",
              "      quickchartButtonEl.disabled = true;  // To prevent multiple clicks.\n",
              "      quickchartButtonEl.classList.add('colab-df-spinner');\n",
              "      try {\n",
              "        const charts = await google.colab.kernel.invokeFunction(\n",
              "            'suggestCharts', [key], {});\n",
              "      } catch (error) {\n",
              "        console.error('Error during call to suggestCharts:', error);\n",
              "      }\n",
              "      quickchartButtonEl.classList.remove('colab-df-spinner');\n",
              "      quickchartButtonEl.classList.add('colab-df-quickchart-complete');\n",
              "    }\n",
              "    (() => {\n",
              "      let quickchartButtonEl =\n",
              "        document.querySelector('#df-dcb9ff0f-8df6-4ee8-8403-332e7cd3c5dc button');\n",
              "      quickchartButtonEl.style.display =\n",
              "        google.colab.kernel.accessAllowed ? 'block' : 'none';\n",
              "    })();\n",
              "  </script>\n",
              "</div>\n",
              "    </div>\n",
              "  </div>\n"
            ]
          },
          "metadata": {},
          "execution_count": 5
        }
      ],
      "source": [
        "data = pd.read_csv('abalone.data', names=['Sex', 'Length', 'Diameter', 'Height', 'Whole weight',\n",
        "                                          'Shucked weight', 'Viscera weight', 'Shell weight',\n",
        "                                          'Rings'])\n",
        "data"
      ]
    },
    {
      "cell_type": "markdown",
      "id": "cea5c6df02894f20",
      "metadata": {
        "collapsed": false,
        "id": "cea5c6df02894f20"
      },
      "source": [
        "Уберем категориальный признак:"
      ]
    },
    {
      "cell_type": "code",
      "execution_count": 6,
      "id": "a6aadf0f16f468e9",
      "metadata": {
        "id": "a6aadf0f16f468e9"
      },
      "outputs": [],
      "source": [
        "data = data.drop('Sex', axis=1)"
      ]
    },
    {
      "cell_type": "code",
      "execution_count": 7,
      "id": "1a3e9cd3f8503970",
      "metadata": {
        "id": "1a3e9cd3f8503970"
      },
      "outputs": [],
      "source": [
        "X = data.drop('Rings', axis=1)\n",
        "y = data['Rings'] + 1.5"
      ]
    },
    {
      "cell_type": "markdown",
      "id": "d0fa3220",
      "metadata": {
        "id": "d0fa3220",
        "pycharm": {
          "name": "#%% md\n"
        }
      },
      "source": [
        "Разбейте данные на обучающую выборку и на валидацию, выделив на валидацию 25% данных."
      ]
    },
    {
      "cell_type": "code",
      "execution_count": 9,
      "id": "196b8c10",
      "metadata": {
        "id": "196b8c10",
        "pycharm": {
          "name": "#%%\n"
        }
      },
      "outputs": [],
      "source": [
        "X_train, X_test, y_train, y_test = train_test_split(X,y)"
      ]
    },
    {
      "cell_type": "markdown",
      "id": "e6d4a24b",
      "metadata": {
        "id": "e6d4a24b",
        "pycharm": {
          "name": "#%% md\n"
        }
      },
      "source": [
        "Посмотрите, как изменяется качество леса в зависимости от выбранных параметров. Для этого постройте графики зависимости MSE на тестовой выборке от количества деревьев (от 1 до 100) и от максимальной глубины дерева (от 3 до 25). Когда варьируете один из параметров, в качестве другого берите значение по умолчанию. Для того, чтобы исследовать зависимость от количества деревьев, обучите лес **один** раз и посчитайте предсказания каждого отдельного дерева в лесу. После этого используйте усреднение первых $k$ предсказаний в качестве ответа для $k$ деревьев."
      ]
    },
    {
      "cell_type": "code",
      "execution_count": 17,
      "id": "44b45571",
      "metadata": {
        "id": "44b45571",
        "pycharm": {
          "name": "#%%\n"
        },
        "colab": {
          "base_uri": "https://localhost:8080/"
        },
        "outputId": "46f74b01-ccd1-41da-a799-efe9a1095fe3"
      },
      "outputs": [
        {
          "output_type": "stream",
          "name": "stderr",
          "text": [
            "100%|██████████| 23/23 [00:28<00:00,  1.25s/it]\n"
          ]
        }
      ],
      "source": [
        "from tqdm import tqdm\n",
        "# start with depth estimation\n",
        "rf = [RandomForestRegressor(max_depth=max_depth).fit(X_train,y_train) for max_depth in tqdm(range(3,26))]"
      ]
    },
    {
      "cell_type": "code",
      "source": [
        "from sklearn.metrics import mean_squared_error as MSE\n",
        "train_acc = [MSE(ens.predict(X_train),y_train) for ens in rf]\n",
        "test_acc = [MSE(ens.predict(X_test),y_test) for ens in rf]\n",
        "\n",
        "plt.plot(train_acc,label='train')\n",
        "plt.plot(test_acc,label='test')\n",
        "plt.legend()"
      ],
      "metadata": {
        "colab": {
          "base_uri": "https://localhost:8080/",
          "height": 455
        },
        "id": "juQpp4b1zP9R",
        "outputId": "5992440f-9d0f-457a-a089-dfa61fd84c25"
      },
      "id": "juQpp4b1zP9R",
      "execution_count": 13,
      "outputs": [
        {
          "output_type": "execute_result",
          "data": {
            "text/plain": [
              "<matplotlib.legend.Legend at 0x7a920f5abc40>"
            ]
          },
          "metadata": {},
          "execution_count": 13
        },
        {
          "output_type": "display_data",
          "data": {
            "text/plain": [
              "<Figure size 640x480 with 1 Axes>"
            ],
            "image/png": "[encoded data removed]"
          },
          "metadata": {}
        }
      ]
    },
    {
      "cell_type": "code",
      "source": [
        "from tqdm import tqdm\n",
        "import warnings\n",
        "warnings.filterwarnings(\"ignore\")\n",
        "# start with depth estimation\n",
        "rf = RandomForestRegressor(n_estimators=100)\n",
        "rf.fit(X_train,y_train)\n",
        "train_pred = [est.predict(X_train) for est in rf.estimators_]\n",
        "test_pred = [est.predict(X_test) for est in rf.estimators_]"
      ],
      "metadata": {
        "id": "M-JuvSb_yguK"
      },
      "id": "M-JuvSb_yguK",
      "execution_count": 19,
      "outputs": []
    },
    {
      "cell_type": "code",
      "source": [
        "train_cum_pred = [sum(train_pred[:i])/i for i in range(1,len(train_pred))]\n",
        "test_cum_pred = [sum(test_pred[:i])/i for i in range(1,len(test_pred))]\n",
        "\n",
        "train_acc = [MSE(pred,y_train) for pred in train_cum_pred]\n",
        "test_acc = [MSE(pred,y_test) for pred in test_cum_pred]\n",
        "\n",
        "\n",
        "plt.plot(train_acc,label='train')\n",
        "plt.plot(test_acc,label='test')\n",
        "plt.legend()"
      ],
      "metadata": {
        "colab": {
          "base_uri": "https://localhost:8080/",
          "height": 459
        },
        "id": "KWT4zxil0tf9",
        "outputId": "02cd289a-e71f-4ee4-e897-17580a6c4ae2"
      },
      "id": "KWT4zxil0tf9",
      "execution_count": 24,
      "outputs": [
        {
          "output_type": "execute_result",
          "data": {
            "text/plain": [
              "<matplotlib.legend.Legend at 0x7a91cd032620>"
            ]
          },
          "metadata": {},
          "execution_count": 24
        },
        {
          "output_type": "display_data",
          "data": {
            "text/plain": [
              "<Figure size 640x480 with 1 Axes>"
            ],
            "image/png": "[encoded data removed]"
          },
          "metadata": {}
        }
      ]
    },
    {
      "cell_type": "markdown",
      "id": "f8c19413",
      "metadata": {
        "id": "f8c19413",
        "pycharm": {
          "name": "#%% md\n"
        }
      },
      "source": [
        "Основываясь на полученных графиках, ответьте на следующие вопросы.\n",
        "\n",
        "1. Какие закономерности можно увидеть на построенных графиках? Почему графики получились такими?\n",
        "\n",
        "2. Как изменяется качество предсказаний с увеличением исследуемых параметров, когда эти параметры уже достаточно большие.\n",
        "\n",
        "3. В предыдущем задании вы на практике убедились, что решающее дерево начинает переобучаться при достаточно больших значениях максимальной глубины. Справедливо ли это утверждение для случайного леса? Поясните свой ответ, опираясь на своё знание статистики."
      ]
    },
    {
      "cell_type": "markdown",
      "id": "1ed403c1",
      "metadata": {
        "id": "1ed403c1",
        "pycharm": {
          "name": "#%% md\n"
        }
      },
      "source": [
        "**Ответ:**\n",
        "\n",
        "1. На обоих графиках значение ошибки на тесте с ростом параметра выходит на плато. Характер убывания до плато стремительный - гиперболический. В обоих случаях пространство параметров модели расширялось - > модель становилась сложнее. Видим, что есть порог при котором усложнение модели не ведет к улучшению предсказательной силы.\n",
        "\n",
        "2. Случайные лес устойчив к переобучению. Несмотря на увеличении числа параметров, предсказания случайного леса на тестовой выборке не ухудшаются. Это свойство крайне полезно для быстрой разведки данных без подбора гиперпараметров на кросс-валидации.\n",
        "\n",
        "3. При анализе ошибки удобно использовать декомпозоцию итоговой ошибки на вариацию предсказания модели $\\mathbf{D}\\hat{y}(x)$ и смещение $(\\mathbf{E}(\\hat{y}(x)-f(x,\\varepsilon)))^2$. Уточню, что под вариацией предсказания модели понимают её чувствительность к изменениям обучающей выборки D\n",
        "Потому ошибку переобучения дерева связывают с первым членом -> глубокое дерево \"запоминает\" целевую переменную на выборке, потому крайне чувствительно к D.\n",
        "\n",
        "Для случайного леса значение variance зависит от двух компонент:\n",
        "\n",
        "$$\n",
        "    Variance = D(\\hat{y}(x))=\\frac{1}{T} D(\\hat{y_1}(x)) + \\frac{T-1}{T} cov(y1,y2)\n",
        "$$\n",
        "\n",
        "- ошибка отдельного экземпляра гиперболически убывает с ростом экспертов\n",
        "- фиксированная ошибка корреляции между экземплярами, которая примерно постоянна при большом числе экспертов\n",
        "\n",
        "Тогда выход на плато можем интерпертировать как зануление первого члена - ошибки отдельного экземпляра деленного на число экземпляров - и фиксированное значение скореллированности экземпляров. Выход на плато по скореллированности связан с ограниченностью вариативности в экземпляры. Новые экземпляры перестают отличаются от старых.\n",
        "\n",
        "\n",
        "Уточню, что устойчивость к переобучению доступна только на достаточно больших выборках и при ограниченном размере признакового пространствах. Случайный лес скорее всего будет переобучаться на выборке из 100 элементов, здесь лучше использовать регрессию :)\n"
      ]
    },
    {
      "cell_type": "markdown",
      "id": "d3848ca4",
      "metadata": {
        "id": "d3848ca4",
        "pycharm": {
          "name": "#%% md\n"
        }
      },
      "source": [
        "Обучите случайный лес с параметрами по умолчанию и выведите mse на тестовой выборке. Проведите эксперимент 3 раза. Почему результаты отличаются?"
      ]
    },
    {
      "cell_type": "code",
      "execution_count": 56,
      "id": "8bd41b9f",
      "metadata": {
        "id": "8bd41b9f",
        "pycharm": {
          "name": "#%%\n"
        },
        "colab": {
          "base_uri": "https://localhost:8080/"
        },
        "outputId": "eecbc514-4a45-47b6-efd0-b8d0b806b283"
      },
      "outputs": [
        {
          "output_type": "execute_result",
          "data": {
            "text/plain": [
              "[4.375841339712918, 4.38992076555024, 4.427584401913876]"
            ]
          },
          "metadata": {},
          "execution_count": 56
        }
      ],
      "source": [
        "[\n",
        "    MSE(\n",
        "        RandomForestRegressor().fit(X_train,y_train).predict(X_test),y_test\n",
        "    )\n",
        "for _ in range(3)\n",
        "]"
      ]
    },
    {
      "cell_type": "markdown",
      "id": "0f35f0d6",
      "metadata": {
        "id": "0f35f0d6",
        "pycharm": {
          "name": "#%% md\n"
        }
      },
      "source": [
        "**Ответ:** в основе обучения random forest лежит стохастический принципы модификации обучающие выборки \\\n",
        "Закладывается два основных принципа:\n",
        "- выборка для обучения деревьев составляется случайно с возвратом - bootstrap/bagging\n",
        "- признаковое пространство для каждого из дерева случайным образом ограничено - Random Subspaces\n",
        "\n",
        "Стохастическая природа аугментаций приводит к различию результатов на тестовой выборке -> позволяет численно оценить качество предсказания"
      ]
    },
    {
      "cell_type": "markdown",
      "id": "88f44d15",
      "metadata": {
        "id": "88f44d15",
        "pycharm": {
          "name": "#%% md\n"
        }
      },
      "source": [
        "Было бы неплохо определиться с тем, какое количество деревьев нужно использовать и какой максимальной глубины они будут. Подберите оптимальные значения `max_depth` и `n_estimators` с помощью кросс-валидации."
      ]
    },
    {
      "cell_type": "code",
      "execution_count": 29,
      "id": "eb31c297",
      "metadata": {
        "id": "eb31c297",
        "pycharm": {
          "name": "#%%\n"
        }
      },
      "outputs": [],
      "source": [
        "from sklearn.model_selection import GridSearchCV\n",
        "estimator=RandomForestRegressor(random_state=42)\n",
        "param_grid={\n",
        "      'max_depth': list(range(5,10)),\n",
        "      'n_estimators': list(range(10,50,5)),\n",
        "  }\n",
        "\n",
        "tree_gridsearch = GridSearchCV(estimator,param_grid)"
      ]
    },
    {
      "cell_type": "code",
      "source": [
        "tree_gridsearch.fit(X_train,y_train)"
      ],
      "metadata": {
        "colab": {
          "base_uri": "https://localhost:8080/",
          "height": 121
        },
        "id": "pb-gnKLg4KPK",
        "outputId": "abd14bb7-00ee-4b92-ad4c-896963770385"
      },
      "id": "pb-gnKLg4KPK",
      "execution_count": 30,
      "outputs": [
        {
          "output_type": "execute_result",
          "data": {
            "text/plain": [
              "GridSearchCV(estimator=RandomForestRegressor(random_state=42),\n",
              "             param_grid={'max_depth': [5, 6, 7, 8, 9],\n",
              "                         'n_estimators': [10, 15, 20, 25, 30, 35, 40, 45]})"
            ],
            "text/html": [
              "<style>#sk-container-id-1 {color: black;background-color: white;}#sk-container-id-1 pre{padding: 0;}#sk-container-id-1 div.sk-toggleable {background-color: white;}#sk-container-id-1 label.sk-toggleable__label {cursor: pointer;display: block;width: 100%;margin-bottom: 0;padding: 0.3em;box-sizing: border-box;text-align: center;}#sk-container-id-1 label.sk-toggleable__label-arrow:before {content: \"▸\";float: left;margin-right: 0.25em;color: #696969;}#sk-container-id-1 label.sk-toggleable__label-arrow:hover:before {color: black;}#sk-container-id-1 div.sk-estimator:hover label.sk-toggleable__label-arrow:before {color: black;}#sk-container-id-1 div.sk-toggleable__content {max-height: 0;max-width: 0;overflow: hidden;text-align: left;background-color: #f0f8ff;}#sk-container-id-1 div.sk-toggleable__content pre {margin: 0.2em;color: black;border-radius: 0.25em;background-color: #f0f8ff;}#sk-container-id-1 input.sk-toggleable__control:checked~div.sk-toggleable__content {max-height: 200px;max-width: 100%;overflow: auto;}#sk-container-id-1 input.sk-toggleable__control:checked~label.sk-toggleable__label-arrow:before {content: \"▾\";}#sk-container-id-1 div.sk-estimator input.sk-toggleable__control:checked~label.sk-toggleable__label {background-color: #d4ebff;}#sk-container-id-1 div.sk-label input.sk-toggleable__control:checked~label.sk-toggleable__label {background-color: #d4ebff;}#sk-container-id-1 input.sk-hidden--visually {border: 0;clip: rect(1px 1px 1px 1px);clip: rect(1px, 1px, 1px, 1px);height: 1px;margin: -1px;overflow: hidden;padding: 0;position: absolute;width: 1px;}#sk-container-id-1 div.sk-estimator {font-family: monospace;background-color: #f0f8ff;border: 1px dotted black;border-radius: 0.25em;box-sizing: border-box;margin-bottom: 0.5em;}#sk-container-id-1 div.sk-estimator:hover {background-color: #d4ebff;}#sk-container-id-1 div.sk-parallel-item::after {content: \"\";width: 100%;border-bottom: 1px solid gray;flex-grow: 1;}#sk-container-id-1 div.sk-label:hover label.sk-toggleable__label {background-color: #d4ebff;}#sk-container-id-1 div.sk-serial::before {content: \"\";position: absolute;border-left: 1px solid gray;box-sizing: border-box;top: 0;bottom: 0;left: 50%;z-index: 0;}#sk-container-id-1 div.sk-serial {display: flex;flex-direction: column;align-items: center;background-color: white;padding-right: 0.2em;padding-left: 0.2em;position: relative;}#sk-container-id-1 div.sk-item {position: relative;z-index: 1;}#sk-container-id-1 div.sk-parallel {display: flex;align-items: stretch;justify-content: center;background-color: white;position: relative;}#sk-container-id-1 div.sk-item::before, #sk-container-id-1 div.sk-parallel-item::before {content: \"\";position: absolute;border-left: 1px solid gray;box-sizing: border-box;top: 0;bottom: 0;left: 50%;z-index: -1;}#sk-container-id-1 div.sk-parallel-item {display: flex;flex-direction: column;z-index: 1;position: relative;background-color: white;}#sk-container-id-1 div.sk-parallel-item:first-child::after {align-self: flex-end;width: 50%;}#sk-container-id-1 div.sk-parallel-item:last-child::after {align-self: flex-start;width: 50%;}#sk-container-id-1 div.sk-parallel-item:only-child::after {width: 0;}#sk-container-id-1 div.sk-dashed-wrapped {border: 1px dashed gray;margin: 0 0.4em 0.5em 0.4em;box-sizing: border-box;padding-bottom: 0.4em;background-color: white;}#sk-container-id-1 div.sk-label label {font-family: monospace;font-weight: bold;display: inline-block;line-height: 1.2em;}#sk-container-id-1 div.sk-label-container {text-align: center;}#sk-container-id-1 div.sk-container {/* jupyter's `normalize.less` sets `[hidden] { display: none; }` but bootstrap.min.css set `[hidden] { display: none !important; }` so we also need the `!important` here to be able to override the default hidden behavior on the sphinx rendered scikit-learn.org. See: https://github.com/scikit-learn/scikit-learn/issues/21755 */display: inline-block !important;position: relative;}#sk-container-id-1 div.sk-text-repr-fallback {display: none;}</style><div id=\"sk-container-id-1\" class=\"sk-top-container\"><div class=\"sk-text-repr-fallback\"><pre>GridSearchCV(estimator=RandomForestRegressor(random_state=42),\n",
              "             param_grid={&#x27;max_depth&#x27;: [5, 6, 7, 8, 9],\n",
              "                         &#x27;n_estimators&#x27;: [10, 15, 20, 25, 30, 35, 40, 45]})</pre><b>In a Jupyter environment, please rerun this cell to show the HTML representation or trust the notebook. <br />On GitHub, the HTML representation is unable to render, please try loading this page with nbviewer.org.</b></div><div class=\"sk-container\" hidden><div class=\"sk-item sk-dashed-wrapped\"><div class=\"sk-label-container\"><div class=\"sk-label sk-toggleable\"><input class=\"sk-toggleable__control sk-hidden--visually\" id=\"sk-estimator-id-1\" type=\"checkbox\" ><label for=\"sk-estimator-id-1\" class=\"sk-toggleable__label sk-toggleable__label-arrow\">GridSearchCV</label><div class=\"sk-toggleable__content\"><pre>GridSearchCV(estimator=RandomForestRegressor(random_state=42),\n",
              "             param_grid={&#x27;max_depth&#x27;: [5, 6, 7, 8, 9],\n",
              "                         &#x27;n_estimators&#x27;: [10, 15, 20, 25, 30, 35, 40, 45]})</pre></div></div></div><div class=\"sk-parallel\"><div class=\"sk-parallel-item\"><div class=\"sk-item\"><div class=\"sk-label-container\"><div class=\"sk-label sk-toggleable\"><input class=\"sk-toggleable__control sk-hidden--visually\" id=\"sk-estimator-id-2\" type=\"checkbox\" ><label for=\"sk-estimator-id-2\" class=\"sk-toggleable__label sk-toggleable__label-arrow\">estimator: RandomForestRegressor</label><div class=\"sk-toggleable__content\"><pre>RandomForestRegressor(random_state=42)</pre></div></div></div><div class=\"sk-serial\"><div class=\"sk-item\"><div class=\"sk-estimator sk-toggleable\"><input class=\"sk-toggleable__control sk-hidden--visually\" id=\"sk-estimator-id-3\" type=\"checkbox\" ><label for=\"sk-estimator-id-3\" class=\"sk-toggleable__label sk-toggleable__label-arrow\">RandomForestRegressor</label><div class=\"sk-toggleable__content\"><pre>RandomForestRegressor(random_state=42)</pre></div></div></div></div></div></div></div></div></div></div>"
            ]
          },
          "metadata": {},
          "execution_count": 30
        }
      ]
    },
    {
      "cell_type": "markdown",
      "id": "0bcfa52b",
      "metadata": {
        "id": "0bcfa52b",
        "pycharm": {
          "name": "#%% md\n"
        }
      },
      "source": [
        "Выведите найденные оптимальные параметры. Поясните, согласуются ли наблюдения с теорией."
      ]
    },
    {
      "cell_type": "code",
      "execution_count": 31,
      "id": "ddb5a319",
      "metadata": {
        "id": "ddb5a319",
        "pycharm": {
          "name": "#%%\n"
        },
        "colab": {
          "base_uri": "https://localhost:8080/"
        },
        "outputId": "de295ff0-70da-403b-bbef-9451a3929320"
      },
      "outputs": [
        {
          "output_type": "execute_result",
          "data": {
            "text/plain": [
              "{'max_depth': 8, 'n_estimators': 40}"
            ]
          },
          "metadata": {},
          "execution_count": 31
        }
      ],
      "source": [
        "tree_gridsearch.best_params_"
      ]
    },
    {
      "cell_type": "markdown",
      "id": "187db28c",
      "metadata": {
        "id": "187db28c",
        "pycharm": {
          "name": "#%% md\n"
        }
      },
      "source": [
        "**Вывод**  Да, полученные деревья получились достаточно глубокими. Число моделей в ансамбле также достаточно велико -> вариативность экспертов позволяет получать лучшее качество предсказания"
      ]
    },
    {
      "cell_type": "markdown",
      "id": "ee2edd85",
      "metadata": {
        "id": "ee2edd85",
        "pycharm": {
          "name": "#%% md\n"
        }
      },
      "source": [
        "Зафиксируем эти оптимальные значения параметров и в дальнейшим будем их использовать."
      ]
    },
    {
      "cell_type": "code",
      "execution_count": 45,
      "id": "6df3fb57",
      "metadata": {
        "id": "6df3fb57",
        "pycharm": {
          "name": "#%%\n"
        }
      },
      "outputs": [],
      "source": [
        "max_depth = 8\n",
        "n_estimators = 40"
      ]
    },
    {
      "cell_type": "markdown",
      "id": "a7dc3e80",
      "metadata": {
        "id": "a7dc3e80",
        "pycharm": {
          "name": "#%% md\n"
        }
      },
      "source": [
        "Оценим качество предсказаний обученного решающего леса."
      ]
    },
    {
      "cell_type": "code",
      "execution_count": 46,
      "id": "6a047820",
      "metadata": {
        "id": "6a047820",
        "pycharm": {
          "name": "#%%\n"
        },
        "colab": {
          "base_uri": "https://localhost:8080/"
        },
        "outputId": "1f0ab027-b37a-4c2c-d96e-5c1d402fff7a"
      },
      "outputs": [
        {
          "output_type": "execute_result",
          "data": {
            "text/plain": [
              "4.384830472072345"
            ]
          },
          "metadata": {},
          "execution_count": 46
        }
      ],
      "source": [
        "estimator=RandomForestRegressor(max_depth = max_depth,n_estimators = n_estimators )\n",
        "MSE(estimator.fit(X_train,y_train).predict(X_test),y_test)"
      ]
    },
    {
      "cell_type": "markdown",
      "id": "b87f8bf0",
      "metadata": {
        "id": "b87f8bf0",
        "pycharm": {
          "name": "#%% md\n"
        }
      },
      "source": [
        "Исследуйте зависимость метрики `mse` от количества признаков, по которым происходит разбиение в вершине дерева. Поскольку количество признаков в датасете не очень большое (их 8), то можно перебрать все возможные варианты количества признаков, использующихся при разбиении вершин.\n",
        "\n",
        "Не забывайте делать пояснения и выводы!"
      ]
    },
    {
      "cell_type": "code",
      "source": [
        "from itertools import chain, combinations\n",
        "\n",
        "def powerset(iterable):\n",
        "    \"powerset([1,2,3]) --> () (1,) (2,) (3,) (1,2) (1,3) (2,3) (1,2,3)\"\n",
        "    s = list(iterable)  # allows duplicate elements\n",
        "    return list(map(list,chain.from_iterable(combinations(s, r) for r in range(1,len(s)+1))))\n",
        "\n",
        "c = [(combo,MSE(estimator.fit(X_train[combo],y_train).predict(X_test[combo]),y_test)) for combo in tqdm(powerset(X_train.columns))]\n",
        ""
      ],
      "metadata": {
        "colab": {
          "base_uri": "https://localhost:8080/"
        },
        "id": "gqYonOHp5kB_",
        "outputId": "16a99cb8-10a9-46cd-bea2-1c573db561ee"
      },
      "id": "gqYonOHp5kB_",
      "execution_count": 48,
      "outputs": [
        {
          "output_type": "stream",
          "name": "stderr",
          "text": [
            "127it [00:42,  2.97it/s]\n"
          ]
        }
      ]
    },
    {
      "cell_type": "code",
      "execution_count": 49,
      "id": "6ccb672a",
      "metadata": {
        "id": "6ccb672a",
        "pycharm": {
          "name": "#%%\n"
        },
        "colab": {
          "base_uri": "https://localhost:8080/"
        },
        "outputId": "b3a7d268-1ccb-4290-bb17-a68065105926"
      },
      "outputs": [
        {
          "output_type": "execute_result",
          "data": {
            "text/plain": [
              "[(['Length',\n",
              "   'Diameter',\n",
              "   'Height',\n",
              "   'Whole weight',\n",
              "   'Shucked weight',\n",
              "   'Viscera weight',\n",
              "   'Shell weight'],\n",
              "  4.286298273960023),\n",
              " (['Length', 'Diameter', 'Whole weight', 'Shucked weight', 'Shell weight'],\n",
              "  4.291985373351069),\n",
              " (['Length',\n",
              "   'Diameter',\n",
              "   'Height',\n",
              "   'Whole weight',\n",
              "   'Shucked weight',\n",
              "   'Shell weight'],\n",
              "  4.305895078772976),\n",
              " (['Diameter', 'Height', 'Whole weight', 'Shucked weight', 'Shell weight'],\n",
              "  4.328177511108222),\n",
              " (['Length', 'Height', 'Whole weight', 'Shucked weight', 'Shell weight'],\n",
              "  4.33868345878465),\n",
              " (['Height', 'Whole weight', 'Shucked weight', 'Shell weight'],\n",
              "  4.3844429038534996),\n",
              " (['Diameter',\n",
              "   'Whole weight',\n",
              "   'Shucked weight',\n",
              "   'Viscera weight',\n",
              "   'Shell weight'],\n",
              "  4.439364012890179),\n",
              " (['Length',\n",
              "   'Height',\n",
              "   'Whole weight',\n",
              "   'Shucked weight',\n",
              "   'Viscera weight',\n",
              "   'Shell weight'],\n",
              "  4.4405565787872865),\n",
              " (['Diameter',\n",
              "   'Height',\n",
              "   'Whole weight',\n",
              "   'Shucked weight',\n",
              "   'Viscera weight',\n",
              "   'Shell weight'],\n",
              "  4.442946368378215),\n",
              " (['Diameter', 'Whole weight', 'Shucked weight', 'Shell weight'],\n",
              "  4.446554622639103),\n",
              " (['Whole weight', 'Shucked weight', 'Shell weight'], 4.460019469178792),\n",
              " (['Length', 'Diameter', 'Height', 'Shucked weight', 'Shell weight'],\n",
              "  4.465925995297241),\n",
              " (['Whole weight', 'Shucked weight', 'Viscera weight', 'Shell weight'],\n",
              "  4.467790839885874),\n",
              " (['Length', 'Whole weight', 'Shucked weight', 'Shell weight'],\n",
              "  4.4726764594357205),\n",
              " (['Length',\n",
              "   'Diameter',\n",
              "   'Height',\n",
              "   'Shucked weight',\n",
              "   'Viscera weight',\n",
              "   'Shell weight'],\n",
              "  4.472759239740123),\n",
              " (['Length',\n",
              "   'Diameter',\n",
              "   'Whole weight',\n",
              "   'Shucked weight',\n",
              "   'Viscera weight',\n",
              "   'Shell weight'],\n",
              "  4.478757215087211),\n",
              " (['Length', 'Height', 'Shucked weight', 'Shell weight'], 4.482593718916134),\n",
              " (['Length',\n",
              "   'Whole weight',\n",
              "   'Shucked weight',\n",
              "   'Viscera weight',\n",
              "   'Shell weight'],\n",
              "  4.487125493710336),\n",
              " (['Diameter', 'Height', 'Shucked weight', 'Shell weight'], 4.490525278370873),\n",
              " (['Height',\n",
              "   'Whole weight',\n",
              "   'Shucked weight',\n",
              "   'Viscera weight',\n",
              "   'Shell weight'],\n",
              "  4.4961452117772955),\n",
              " (['Length', 'Height', 'Shucked weight', 'Viscera weight', 'Shell weight'],\n",
              "  4.510125230223851),\n",
              " (['Height', 'Shucked weight', 'Shell weight'], 4.515341525662092),\n",
              " (['Length', 'Diameter', 'Shucked weight', 'Shell weight'], 4.51684821086969),\n",
              " (['Diameter', 'Shucked weight', 'Shell weight'], 4.546921598420191),\n",
              " (['Length', 'Shucked weight', 'Shell weight'], 4.552080199463443),\n",
              " (['Diameter', 'Height', 'Shucked weight', 'Viscera weight', 'Shell weight'],\n",
              "  4.5844926002786375),\n",
              " (['Length', 'Diameter', 'Shucked weight', 'Viscera weight', 'Shell weight'],\n",
              "  4.594962454365534),\n",
              " (['Height', 'Shucked weight', 'Viscera weight', 'Shell weight'],\n",
              "  4.643977793700694),\n",
              " (['Whole weight', 'Shucked weight', 'Viscera weight'], 4.65080770911035),\n",
              " (['Shucked weight', 'Shell weight'], 4.651411577320988),\n",
              " (['Length', 'Whole weight', 'Shucked weight', 'Viscera weight'],\n",
              "  4.655598696274463),\n",
              " (['Length', 'Shucked weight', 'Viscera weight', 'Shell weight'],\n",
              "  4.655899661161612),\n",
              " (['Length', 'Diameter', 'Whole weight', 'Shucked weight'], 4.686299854801577),\n",
              " (['Diameter', 'Whole weight', 'Shucked weight', 'Viscera weight'],\n",
              "  4.695940190271906),\n",
              " (['Length', 'Diameter', 'Whole weight', 'Shucked weight', 'Viscera weight'],\n",
              "  4.699001957296593),\n",
              " (['Diameter', 'Shucked weight', 'Viscera weight', 'Shell weight'],\n",
              "  4.699958138945373),\n",
              " (['Whole weight', 'Shucked weight'], 4.7047185275221475),\n",
              " (['Length', 'Height', 'Whole weight', 'Shucked weight', 'Viscera weight'],\n",
              "  4.706198520551233),\n",
              " (['Diameter', 'Whole weight', 'Shucked weight'], 4.711172323426593),\n",
              " (['Length', 'Height', 'Whole weight', 'Shucked weight'], 4.7229683857150535),\n",
              " (['Length', 'Whole weight', 'Shucked weight'], 4.723083913221545),\n",
              " (['Diameter', 'Height', 'Whole weight', 'Shucked weight'], 4.740296249532835),\n",
              " (['Height', 'Whole weight', 'Shucked weight'], 4.76244796413065),\n",
              " (['Shucked weight', 'Viscera weight', 'Shell weight'], 4.766772570780277),\n",
              " (['Length',\n",
              "   'Diameter',\n",
              "   'Height',\n",
              "   'Whole weight',\n",
              "   'Shucked weight',\n",
              "   'Viscera weight'],\n",
              "  4.802660401169257),\n",
              " (['Length', 'Diameter', 'Height', 'Whole weight', 'Shucked weight'],\n",
              "  4.83300860687769),\n",
              " (['Height', 'Whole weight', 'Shucked weight', 'Viscera weight'],\n",
              "  4.854643575937939),\n",
              " (['Length', 'Diameter', 'Viscera weight', 'Shell weight'],\n",
              "  4.9076134423463165),\n",
              " (['Length',\n",
              "   'Diameter',\n",
              "   'Height',\n",
              "   'Whole weight',\n",
              "   'Viscera weight',\n",
              "   'Shell weight'],\n",
              "  4.929359219901791),\n",
              " (['Diameter', 'Height', 'Whole weight', 'Shucked weight', 'Viscera weight'],\n",
              "  4.941541254537664),\n",
              " (['Length', 'Whole weight', 'Viscera weight', 'Shell weight'],\n",
              "  4.963623923645091),\n",
              " (['Length', 'Diameter', 'Height', 'Viscera weight', 'Shell weight'],\n",
              "  4.968783284396657),\n",
              " (['Length', 'Height', 'Whole weight', 'Shell weight'], 4.994140185378477),\n",
              " (['Length', 'Height', 'Whole weight', 'Viscera weight', 'Shell weight'],\n",
              "  5.000140390052683),\n",
              " (['Diameter', 'Height', 'Whole weight', 'Viscera weight', 'Shell weight'],\n",
              "  5.019867829520183),\n",
              " (['Length', 'Diameter', 'Whole weight', 'Viscera weight', 'Shell weight'],\n",
              "  5.019967577022761),\n",
              " (['Length', 'Diameter', 'Whole weight', 'Shell weight'], 5.022910417324657),\n",
              " (['Diameter', 'Whole weight', 'Viscera weight', 'Shell weight'],\n",
              "  5.0242536223348555),\n",
              " (['Length', 'Height', 'Viscera weight', 'Shell weight'], 5.032185416431075),\n",
              " (['Length', 'Diameter', 'Height', 'Whole weight', 'Shell weight'],\n",
              "  5.033309788268614),\n",
              " (['Length', 'Whole weight', 'Shell weight'], 5.033311853453156),\n",
              " (['Length', 'Diameter', 'Height', 'Shell weight'], 5.046380014362177),\n",
              " (['Length', 'Diameter', 'Shell weight'], 5.054570557450963),\n",
              " (['Length', 'Height', 'Shell weight'], 5.103791989055244),\n",
              " (['Length', 'Shell weight'], 5.135732547842307),\n",
              " (['Diameter', 'Viscera weight', 'Shell weight'], 5.152800985561477),\n",
              " (['Diameter', 'Height', 'Viscera weight', 'Shell weight'], 5.154279387881802),\n",
              " (['Length', 'Viscera weight', 'Shell weight'], 5.181040606827247),\n",
              " (['Diameter', 'Height', 'Whole weight', 'Shell weight'], 5.183480202917657),\n",
              " (['Diameter', 'Whole weight', 'Shell weight'], 5.216016604151125),\n",
              " (['Height', 'Whole weight', 'Viscera weight', 'Shell weight'],\n",
              "  5.261895979710849),\n",
              " (['Whole weight', 'Viscera weight', 'Shell weight'], 5.289951826570906),\n",
              " (['Diameter', 'Height', 'Shell weight'], 5.310751231935185),\n",
              " (['Diameter', 'Shell weight'], 5.338681308967035),\n",
              " (['Whole weight', 'Shell weight'], 5.380131868608935),\n",
              " (['Height', 'Whole weight', 'Shell weight'], 5.450090296037781),\n",
              " (['Length', 'Diameter', 'Height', 'Shucked weight', 'Viscera weight'],\n",
              "  5.582127572055097),\n",
              " (['Viscera weight', 'Shell weight'], 5.585263787163604),\n",
              " (['Length', 'Height', 'Shucked weight', 'Viscera weight'],\n",
              "  5.6705618856137345),\n",
              " (['Diameter', 'Height', 'Shucked weight', 'Viscera weight'],\n",
              "  5.694784295876209),\n",
              " (['Height', 'Viscera weight', 'Shell weight'], 5.70529331800235),\n",
              " (['Diameter', 'Height', 'Shucked weight'], 5.720867318898384),\n",
              " (['Length', 'Diameter', 'Height', 'Shucked weight'], 5.741526979736041),\n",
              " (['Shell weight'], 5.798319475500142),\n",
              " (['Height', 'Shucked weight', 'Viscera weight'], 5.857054831243351),\n",
              " (['Length', 'Height', 'Shucked weight'], 5.874758132448335),\n",
              " (['Height', 'Shell weight'], 5.991369165521027),\n",
              " (['Height', 'Shucked weight'], 6.2209073900740375),\n",
              " (['Length', 'Diameter', 'Shucked weight', 'Viscera weight'],\n",
              "  6.274042573115911),\n",
              " (['Diameter', 'Shucked weight', 'Viscera weight'], 6.292229949278753),\n",
              " (['Length', 'Diameter', 'Height', 'Whole weight'], 6.298682145282607),\n",
              " (['Length', 'Diameter', 'Height', 'Whole weight', 'Viscera weight'],\n",
              "  6.314147203778166),\n",
              " (['Diameter', 'Height', 'Whole weight', 'Viscera weight'], 6.315628159814504),\n",
              " (['Diameter', 'Height', 'Whole weight'], 6.406328394761591),\n",
              " (['Length', 'Height', 'Whole weight'], 6.42171648289664),\n",
              " (['Length', 'Height', 'Whole weight', 'Viscera weight'], 6.446605074443498),\n",
              " (['Length', 'Diameter', 'Height'], 6.4534690176634015),\n",
              " (['Length', 'Diameter', 'Shucked weight'], 6.459814306617034),\n",
              " (['Length', 'Diameter', 'Height', 'Viscera weight'], 6.460068890810398),\n",
              " (['Diameter', 'Height', 'Viscera weight'], 6.466838094063251),\n",
              " (['Height', 'Whole weight', 'Viscera weight'], 6.468901548791332),\n",
              " (['Diameter', 'Shucked weight'], 6.486573712431029),\n",
              " (['Height'], 6.544373933988696),\n",
              " (['Height', 'Whole weight'], 6.553677693039875),\n",
              " (['Length', 'Height'], 6.568723985050768),\n",
              " (['Diameter', 'Height'], 6.5944260416565506),\n",
              " (['Length', 'Height', 'Viscera weight'], 6.638925177497707),\n",
              " (['Length', 'Diameter', 'Whole weight', 'Viscera weight'], 6.6754568662208),\n",
              " (['Length', 'Shucked weight', 'Viscera weight'], 6.699431245151225),\n",
              " (['Height', 'Viscera weight'], 6.724910750863142),\n",
              " (['Length', 'Whole weight'], 6.802985079765586),\n",
              " (['Length', 'Shucked weight'], 6.823577535439221),\n",
              " (['Length', 'Whole weight', 'Viscera weight'], 6.835670714552724),\n",
              " (['Length', 'Diameter', 'Whole weight'], 6.836838650738419),\n",
              " (['Shucked weight', 'Viscera weight'], 6.890390376630014),\n",
              " (['Diameter', 'Whole weight', 'Viscera weight'], 6.912339396207432),\n",
              " (['Whole weight', 'Viscera weight'], 6.940301885344236),\n",
              " (['Diameter', 'Whole weight'], 6.986490192075005),\n",
              " (['Length', 'Diameter', 'Viscera weight'], 7.043171160699627),\n",
              " (['Length'], 7.071398689832721),\n",
              " (['Diameter'], 7.126816310969011),\n",
              " (['Whole weight'], 7.172226474694871),\n",
              " (['Diameter', 'Viscera weight'], 7.178227033065581),\n",
              " (['Length', 'Diameter'], 7.179993022927934),\n",
              " (['Length', 'Viscera weight'], 7.2835780883859895),\n",
              " (['Viscera weight'], 7.459372348336342),\n",
              " (['Shucked weight'], 7.574684954099063)]"
            ]
          },
          "metadata": {},
          "execution_count": 49
        }
      ],
      "source": [
        "sorted(c, key = lambda x: x[1])"
      ]
    },
    {
      "cell_type": "markdown",
      "id": "533615ce",
      "metadata": {
        "id": "533615ce",
        "pycharm": {
          "name": "#%% md\n"
        }
      },
      "source": [
        "Постройте график зависимости метрики mse на `test` и `train` в зависимости от числа признаков, использующихся при разбиении в каждой вершине."
      ]
    },
    {
      "cell_type": "code",
      "execution_count": 55,
      "id": "e9af4768",
      "metadata": {
        "id": "e9af4768",
        "pycharm": {
          "name": "#%%\n"
        },
        "colab": {
          "base_uri": "https://localhost:8080/",
          "height": 455
        },
        "outputId": "bafb5761-306f-4481-c870-8c8f3437444b"
      },
      "outputs": [
        {
          "output_type": "execute_result",
          "data": {
            "text/plain": [
              "[<matplotlib.lines.Line2D at 0x7a91cce65900>]"
            ]
          },
          "metadata": {},
          "execution_count": 55
        },
        {
          "output_type": "display_data",
          "data": {
            "text/plain": [
              "<Figure size 640x480 with 1 Axes>"
            ],
            "image/png": "[encoded data removed]"
          },
          "metadata": {}
        }
      ],
      "source": [
        "# находим лучший accuracy при фиксированном размере признакового пространства\n",
        "plt.plot([min([item[1] for item in c if len(item[0])==feat_dim]) for feat_dim in range(1,8)])"
      ]
    },
    {
      "cell_type": "markdown",
      "id": "c172d982",
      "metadata": {
        "id": "c172d982",
        "pycharm": {
          "name": "#%% md\n"
        }
      },
      "source": [
        "Почему график получился таким? Как зависит разнообразие деревьев от величины `n_features`?"
      ]
    },
    {
      "cell_type": "markdown",
      "id": "319d0f79",
      "metadata": {
        "id": "319d0f79",
        "pycharm": {
          "name": "#%% md\n"
        }
      },
      "source": [
        "** Ответ:** не все признаки могут быть информативны для конкретной задачи. Видим, что для предсказания достаточно 4 признаков. \\\n",
        "Достоинство Random forest заключается в том, что качество предсказания не ухудшается при увеличении признакового пространства. Таким образом можно проводить разведку информативных параметров."
      ]
    },
    {
      "cell_type": "markdown",
      "id": "5651b0de",
      "metadata": {
        "id": "5651b0de",
        "pycharm": {
          "name": "#%% md\n"
        }
      },
      "source": [
        "Зафиксируйте наилучшие гиперпараметры.\n",
        "\n",
        "Проведите исследование скорости обучения и предсказания.\n",
        "\n",
        "Засеките время обучения и предсказания, например, с помощью модуля `time`.\n",
        "\n"
      ]
    },
    {
      "cell_type": "code",
      "execution_count": 63,
      "id": "7cf45009",
      "metadata": {
        "id": "7cf45009",
        "pycharm": {
          "name": "#%%\n"
        },
        "colab": {
          "base_uri": "https://localhost:8080/"
        },
        "outputId": "591f95ff-97eb-43f3-ea7c-e44c0c618266"
      },
      "outputs": [
        {
          "output_type": "stream",
          "name": "stderr",
          "text": [
            "100%|██████████| 100/100 [00:44<00:00,  2.26it/s]"
          ]
        },
        {
          "output_type": "stream",
          "name": "stdout",
          "text": [
            "0.44333561897277834\n"
          ]
        },
        {
          "output_type": "stream",
          "name": "stderr",
          "text": [
            "\n"
          ]
        }
      ],
      "source": [
        "import time\n",
        "start = time.time()\n",
        "N = 100\n",
        "[RandomForestRegressor(max_depth = max_depth,n_estimators = n_estimators).fit(X_train,y_train) for i in tqdm(range(N))]\n",
        "end = time.time()\n",
        "\n",
        "print((end - start)/N)"
      ]
    },
    {
      "cell_type": "code",
      "source": [
        "import time\n",
        "start = time.time()\n",
        "N = 1_000\n",
        "[estimator.predict(X_test) for i in range(N)]\n",
        "end = time.time()\n",
        "\n",
        "print((end - start)/N)"
      ],
      "metadata": {
        "colab": {
          "base_uri": "https://localhost:8080/"
        },
        "id": "4QdrJuvQJre7",
        "outputId": "fe69c141-3d1c-4f10-f5e8-5469d84163a5"
      },
      "id": "4QdrJuvQJre7",
      "execution_count": 69,
      "outputs": [
        {
          "output_type": "stream",
          "name": "stdout",
          "text": [
            "0.0079440860748291\n"
          ]
        }
      ]
    },
    {
      "cell_type": "markdown",
      "id": "21e46193",
      "metadata": {
        "id": "21e46193",
        "pycharm": {
          "name": "#%% md\n"
        }
      },
      "source": [
        "Посчитайте среднюю глубину дерева в случайном лесе. Используйте функцию `get_depth()` для отдельных деревьев леса.\n",
        "Посчитайте среднее количество листьев, используя функцию `get_n_leaves()` для отдельных деревьев.\n",
        "\n"
      ]
    },
    {
      "cell_type": "code",
      "execution_count": 59,
      "id": "24b930ea",
      "metadata": {
        "id": "24b930ea",
        "pycharm": {
          "name": "#%%\n"
        },
        "colab": {
          "base_uri": "https://localhost:8080/"
        },
        "outputId": "8c7d9ec9-469f-4142-f22f-56cc2039619d"
      },
      "outputs": [
        {
          "output_type": "execute_result",
          "data": {
            "text/plain": [
              "(8.0, 180.8)"
            ]
          },
          "metadata": {},
          "execution_count": 59
        }
      ],
      "source": [
        "np.mean([est.get_depth() for est in estimator.estimators_]), np.mean([est.get_n_leaves() for est in estimator.estimators_])"
      ]
    },
    {
      "cell_type": "markdown",
      "id": "3be9c8cf",
      "metadata": {
        "id": "3be9c8cf",
        "pycharm": {
          "name": "#%% md\n"
        }
      },
      "source": [
        "Сделайте выводы. Какие деревья обычно используются в случайном лесу? Как вы предполагаете, как от этого зависит скорость обучения и предсказания?"
      ]
    },
    {
      "cell_type": "markdown",
      "id": "c2f4fc46",
      "metadata": {
        "id": "c2f4fc46",
        "pycharm": {
          "name": "#%% md\n"
        }
      },
      "source": [
        "**Ответ** преимущественно используются деревья с максимально доступной глубиной. В среднем используются 3/4 возможных сплитов. Из-за этого деревья долго предсказывают и обучаются даже на малых выборках порядка 1000 сэмплов."
      ]
    },
    {
      "cell_type": "markdown",
      "id": "ea705c18",
      "metadata": {
        "id": "ea705c18",
        "pycharm": {
          "name": "#%% md\n"
        }
      },
      "source": [
        "Исследуйте важности признаков для следующих случаев:\n",
        "\n",
        "\n",
        "\n",
        "*   Решающее  дерево\n",
        "*   Случайный лес\n",
        "*   Лес из первых 5-10 деревьев случайного леса из предыдущего пункта.\n",
        "\n",
        "Также проанализируйте качество моделей выше.\n",
        "\n",
        "Сделайте выводы. Отличаются ли посчитанные важности? Есть ли связь важностей признаков и качества моделей? О чем говорят посчитанные важности признаков?\n",
        "\n"
      ]
    },
    {
      "cell_type": "code",
      "source": [
        "from sklearn.tree import DecisionTreeRegressor\n",
        "dt = DecisionTreeRegressor().fit(X_train,y_train)\n",
        "\n",
        "plt.bar(range(7),dt.feature_importances_)\n",
        "plt.title('Decision Tree')"
      ],
      "metadata": {
        "colab": {
          "base_uri": "https://localhost:8080/",
          "height": 480
        },
        "id": "EVQnNmVqLYej",
        "outputId": "b462f45c-0a85-495b-a91c-7edf313ed6c0"
      },
      "id": "EVQnNmVqLYej",
      "execution_count": 75,
      "outputs": [
        {
          "output_type": "execute_result",
          "data": {
            "text/plain": [
              "Text(0.5, 1.0, 'Decision Tree')"
            ]
          },
          "metadata": {},
          "execution_count": 75
        },
        {
          "output_type": "display_data",
          "data": {
            "text/plain": [
              "<Figure size 640x480 with 1 Axes>"
            ],
            "image/png": "[encoded data removed]"
          },
          "metadata": {}
        }
      ]
    },
    {
      "cell_type": "code",
      "execution_count": 76,
      "id": "58690019",
      "metadata": {
        "id": "58690019",
        "pycharm": {
          "name": "#%%\n"
        },
        "colab": {
          "base_uri": "https://localhost:8080/",
          "height": 480
        },
        "outputId": "ec3bb53a-3d2e-4809-8cb5-383322a55661"
      },
      "outputs": [
        {
          "output_type": "execute_result",
          "data": {
            "text/plain": [
              "Text(0.5, 1.0, 'Random Forest')"
            ]
          },
          "metadata": {},
          "execution_count": 76
        },
        {
          "output_type": "display_data",
          "data": {
            "text/plain": [
              "<Figure size 640x480 with 1 Axes>"
            ],
            "image/png": "[encoded data removed]"
          },
          "metadata": {}
        }
      ],
      "source": [
        "plt.bar(range(7),estimator.feature_importances_)\n",
        "plt.title('Random Forest')"
      ]
    },
    {
      "cell_type": "code",
      "source": [
        "plt.bar(range(7),sum([est.feature_importances_ for est in estimator.estimators_[:10]]) /10 )\n",
        "plt.title('Random Forest @ first 10 trees')"
      ],
      "metadata": {
        "colab": {
          "base_uri": "https://localhost:8080/",
          "height": 480
        },
        "id": "xPUJ3Nt7LjH_",
        "outputId": "281cf90f-aaa0-43b5-81fb-8b268d9f7aab"
      },
      "id": "xPUJ3Nt7LjH_",
      "execution_count": 80,
      "outputs": [
        {
          "output_type": "execute_result",
          "data": {
            "text/plain": [
              "Text(0.5, 1.0, 'Random Forest @ first 10 trees')"
            ]
          },
          "metadata": {},
          "execution_count": 80
        },
        {
          "output_type": "display_data",
          "data": {
            "text/plain": [
              "<Figure size 640x480 with 1 Axes>"
            ],
            "image/png": "[encoded data removed]"
          },
          "metadata": {}
        }
      ]
    },
    {
      "cell_type": "markdown",
      "id": "f83426e7",
      "metadata": {
        "id": "f83426e7",
        "pycharm": {
          "name": "#%% md\n"
        }
      },
      "source": [
        "**Ответ:** Есть вариации в Feature Importance, но их нельзя назвать значимыми."
      ]
    },
    {
      "cell_type": "markdown",
      "id": "d8e9ac60",
      "metadata": {
        "id": "d8e9ac60",
        "pycharm": {
          "name": "#%% md\n"
        }
      },
      "source": [
        "### Задача 2\n",
        "\n",
        "На лекции была получена формула bias-variance разложения для беггинга. Проведите эксперимент, в котором выясните, насколько уменьшается разброс (variance-компонента) беггинг-модели на 100 базовых моделях по отношению к одной базовой модели. Используйте данные из предыдущей задачи. Рассмотрите случайный лес и беггинг на моделях ридж-регрессии.\n",
        "\n",
        "\n",
        "Для реализации данного эксперимента используйте класс беггинг-модели\n",
        "`sklearn.ensemble.BaggingRegressor` , у которого используйте следующие поля:\n",
        "* `base_estimator` — базовая модель;\n",
        "* `max_features` — количество признаков для каждой базовой модели;\n",
        "* `n_estimators` — количество базовых моделей.\n",
        "\n",
        "Для решения задачи потребуется оценить корреляции предсказаний на тестовой выборке базовых моделей, входящих в состав беггинг-модели. Эти модели можно получить с помощью поля `estimators_` у обученной беггинг-модели. Корреляции моделей можно смотреть как корреляции векторов их предсказаний.\n",
        "\n",
        "Насколько уменьшается разброс в каждом случае? Для каждого случая постройте также матрицу корреляций предсказаний базовых моделей и гистограмму по ним. Какую оценку коэффициента корреляции вы используете и почему?"
      ]
    },
    {
      "cell_type": "markdown",
      "source": [],
      "metadata": {
        "id": "ADchm1oQOzgL"
      },
      "id": "ADchm1oQOzgL"
    },
    {
      "cell_type": "code",
      "source": [
        "# Cлучайный лес\n",
        "rf =RandomForestRegressor(n_estimators = 100).fit(X_train,y_train)\n",
        "pred = [est.predict(X_test) for est in rf.estimators_]"
      ],
      "metadata": {
        "id": "1gN_UyMxOsvO"
      },
      "id": "1gN_UyMxOsvO",
      "execution_count": 103,
      "outputs": []
    },
    {
      "cell_type": "code",
      "source": [
        "from scipy import stats\n",
        "# берем верхнюю часть матрицы корреляции и усредняем\n",
        "print('Корреляция Пирсона',np.mean(np.corrcoef(pred)[np.triu_indices(100,1)]))\n",
        "print('Корреляция Спирмэна', np.mean(stats.spearmanr(pred,axis=1).statistic[np.triu_indices(100,1)]))"
      ],
      "metadata": {
        "id": "hF2FMiwSOyAx",
        "outputId": "a8f8c6da-ef3f-49fb-b295-02222241b6a0",
        "colab": {
          "base_uri": "https://localhost:8080/"
        }
      },
      "id": "hF2FMiwSOyAx",
      "execution_count": 104,
      "outputs": [
        {
          "output_type": "stream",
          "name": "stdout",
          "text": [
            "Корреляция Пирсона 0.5712383307752028\n",
            "Корреляция Спирмэна 0.6122298581578265\n"
          ]
        }
      ]
    },
    {
      "cell_type": "code",
      "execution_count": 106,
      "id": "d08782f6",
      "metadata": {
        "id": "d08782f6",
        "pycharm": {
          "name": "#%%\n"
        }
      },
      "outputs": [],
      "source": [
        "# Ансамбль регрессий\n",
        "from sklearn.ensemble import BaggingRegressor\n",
        "from sklearn.linear_model import Ridge\n",
        "\n",
        "ridge_ensemble = BaggingRegressor(base_estimator=Ridge(),max_features=7,n_estimators=100)\n",
        "\n",
        "ridge_ensemble.fit(X_train,y_train)\n",
        "pred = [est.predict(X_test) for est in ridge_ensemble.estimators_]"
      ]
    },
    {
      "cell_type": "code",
      "source": [
        "from scipy import stats\n",
        "# берем верхнюю часть матрицы корреляции и усредняем\n",
        "print('Корреляция Пирсона',np.mean(np.corrcoef(pred)[np.triu_indices(100,1)]))\n",
        "print('Корреляция Спирмэна', np.mean(stats.spearmanr(pred,axis=1).statistic[np.triu_indices(100,1)]))"
      ],
      "metadata": {
        "id": "vC4Cbh7kNdDv",
        "outputId": "cadb6925-8a65-4fac-aa59-1db9f4212c78",
        "colab": {
          "base_uri": "https://localhost:8080/"
        }
      },
      "id": "vC4Cbh7kNdDv",
      "execution_count": 107,
      "outputs": [
        {
          "output_type": "stream",
          "name": "stdout",
          "text": [
            "Корреляция Пирсона 0.9984718297546298\n",
            "Корреляция Спирмэна 0.9984733881823918\n"
          ]
        }
      ]
    },
    {
      "cell_type": "markdown",
      "source": [
        "Ранговая и численная корреляции мало отличаются. Анализ различаться не будет\n",
        "\n",
        "Скоррелированность в ансамбле деревьев ниже до двух раз. Поэтому ансамбли дереьев теоритически должны иметь меньшую ошибку в вариативности модели."
      ],
      "metadata": {
        "id": "28CmsfULNWss"
      },
      "id": "28CmsfULNWss"
    }
  ],
  "metadata": {
    "kernelspec": {
      "display_name": "Python 3 (ipykernel)",
      "language": "python",
      "name": "python3"
    },
    "language_info": {
      "codemirror_mode": {
        "name": "ipython",
        "version": 3
      },
      "file_extension": ".py",
      "mimetype": "text/x-python",
      "name": "python",
      "nbconvert_exporter": "python",
      "pygments_lexer": "ipython3",
      "version": "3.11.5"
    },
    "colab": {
      "provenance": [],
      "include_colab_link": true
    }
  },
  "nbformat": 4,
  "nbformat_minor": 5
}