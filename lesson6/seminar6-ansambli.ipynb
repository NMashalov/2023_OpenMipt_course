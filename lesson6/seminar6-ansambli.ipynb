{
 "cells": [
  {
   "cell_type": "markdown",
   "id": "881b98cf",
   "metadata": {},
   "source": [
    "# <a href=\"https://miptstats.github.io/courses/ad_mipt.html\">Phystech@DataScience</a>\n",
    "## Семинар 6\n",
    "### **Ансамбли моделей**"
   ]
  },
  {
   "cell_type": "code",
   "execution_count": null,
   "id": "f2e3c62842801406",
   "metadata": {
    "collapsed": false
   },
   "outputs": [],
   "source": [
    "import matplotlib.pyplot as plt\n",
    "import numpy as np\n",
    "import pandas as pd\n",
    "\n",
    "from sklearn.metrics import mean_squared_error as MSE\n",
    "from sklearn.metrics import accuracy_score, r2_score\n",
    "from sklearn.model_selection import train_test_split\n",
    "from sklearn.preprocessing import StandardScaler\n",
    "from sklearn.linear_model import Lasso, Ridge\n",
    "from sklearn.ensemble import RandomForestRegressor, RandomForestClassifier\n",
    "from sklearn.tree import DecisionTreeClassifier\n",
    "from sklearn.tree import plot_tree\n",
    "import seaborn as sns\n",
    "import scipy.stats\n",
    "from tqdm import tqdm_notebook\n",
    "from sklearn import datasets\n",
    "from sklearn.model_selection import GridSearchCV\n",
    "\n",
    "import warnings\n",
    "warnings.simplefilter(\"ignore\", DeprecationWarning)\n",
    "\n",
    "sns.set(context='poster')\n",
    "%matplotlib inline"
   ]
  },
  {
   "cell_type": "markdown",
   "id": "105da1ca1720f717",
   "metadata": {
    "collapsed": false
   },
   "source": [
    "### Задача 2"
   ]
  },
  {
   "cell_type": "code",
   "execution_count": null,
   "id": "61a7eb1f1f4f2175",
   "metadata": {
    "collapsed": false
   },
   "outputs": [],
   "source": [
    "np.random.seed(42)\n",
    "X_train = scipy.stats.multivariate_normal.rvs(\n",
    "    size=500, mean=[0, 0], cov=[[3, 0], [0, 3]]\n",
    ")\n",
    "y_train = (X_train[:, 0] ** 2 + X_train[:, 1] ** 2) ** 0.5\n",
    "\n",
    "plt.figure(figsize=(10, 8))\n",
    "plt.scatter(X_train[:, 0], X_train[:, 1], c=y_train, cmap='spring', \n",
    "            s=100, alpha=0.8, linewidths=1, edgecolors='black')\n",
    "plt.show()"
   ]
  },
  {
   "cell_type": "markdown",
   "id": "1f2c669a7c0189fd",
   "metadata": {
    "collapsed": false
   },
   "source": [
    "### Зависимость  качества предсказаний леса от `n_estimators`"
   ]
  },
  {
   "cell_type": "markdown",
   "id": "a25e04fa6bfe3dcb",
   "metadata": {
    "collapsed": false
   },
   "source": [
    "Создадим тестовую выборку"
   ]
  },
  {
   "cell_type": "code",
   "execution_count": null,
   "id": "c3d9204d0cdb7dae",
   "metadata": {
    "collapsed": false
   },
   "outputs": [],
   "source": [
    "np.random.seed(42)\n",
    "X_test = scipy.stats.multivariate_normal.rvs(\n",
    "    size=1000, mean=[0, 0], cov=[[3, 0], [0, 3]]\n",
    ")\n",
    "y_test = (X_test[:, 0] ** 2 + X_test[:, 1] ** 2) ** 0.5"
   ]
  },
  {
   "cell_type": "markdown",
   "id": "ea3d20adc628e034",
   "metadata": {
    "collapsed": false
   },
   "source": []
  },
  {
   "cell_type": "code",
   "execution_count": null,
   "id": "beb7a259242e6680",
   "metadata": {
    "collapsed": false
   },
   "outputs": [],
   "source": [
    "def cum_metric(model, metric, x_test, y_test):\n",
    "    ''' \n",
    "    Считает значение метрики в зависимости от количества деревьев в модели\n",
    "    \n",
    "    Мы не обучаем много лесов с разным кол-вом деревьев, \n",
    "    а смотрим на один обученный лес. Предсказание леса из k деревьев — \n",
    "    усредненное предсказание первых k деревьев из нашего леса.\n",
    "\n",
    "    Параметры.\n",
    "    1) model — модель случайного леса,\n",
    "    2) metric — вычисляемая метрика,\n",
    "    3) x_test — данные тестовой выборки,\n",
    "    4) y_test — метки тестовой выборки.\n",
    "    '''\n",
    "    \n",
    "    predictions_by_estimators = [<...> for est in model.estimators_] # предсказания конкретных деревьев\n",
    "    cumpred = np.array(predictions_by_estimators).cumsum(axis=0) \\\n",
    "              / (np.arange(len(predictions_by_estimators)) + 1)[:, np.newaxis] # усреднение первых k моделей для k от 1 до n_estimators\n",
    "    cumacc = [<...> for pred in cumpred] # значения метрики качества для k деревьев\n",
    "    return np.array(cumacc)"
   ]
  },
  {
   "cell_type": "markdown",
   "id": "60024dd32232db3e",
   "metadata": {
    "collapsed": false
   },
   "source": [
    "Визуализируем значение метрики MSE в зависимости от количества деревьев в модели.\n",
    "Поскольку каждая модель является случайной, **проведем обучение 1000 раз** и усредним значения метрики.\n",
    "На графике также нарисуем полупрозрачными кривыми зависимость MSE от количества деревьев для каждой модели."
   ]
  },
  {
   "cell_type": "code",
   "execution_count": null,
   "id": "10d68ad99131073f",
   "metadata": {
    "collapsed": false
   },
   "outputs": [],
   "source": [
    "%%time\n",
    "\n",
    "n_iterations = 1000\n",
    "n_estimators = 200\n",
    "scores_train = np.zeros((n_iterations, n_estimators))\n",
    "scores_test = np.zeros((n_iterations, n_estimators))\n",
    "estrimator_range = np.arange(n_estimators) + 1\n",
    "\n",
    "plt.figure(figsize=(18, 9))\n",
    "\n",
    "for i in tqdm_notebook(range(n_iterations), leave=False):\n",
    "    rf = <...>\n",
    "    scores_train[i] = cum_metric(rf, mean_squared_error, <...>)\n",
    "    scores_test[i] = cum_metric(rf, mean_squared_error, <...>)\n",
    "    plt.plot(estrimator_range, scores_train[i], color='blue', alpha=0.07)\n",
    "    plt.plot(estrimator_range, scores_test[i], color='pink', alpha=0.07)\n",
    "\n",
    "plt.plot(estrimator_range, scores_train.mean(axis=0), \n",
    "         lw=5, color='yellow', label='train')\n",
    "plt.plot(estrimator_range, scores_test.mean(axis=0), \n",
    "         lw=5, color='green', label='test')\n",
    "plt.xlabel('Количество деревьев'), plt.ylabel('MSE')\n",
    "plt.xlim((0, 200)), plt.ylim((0, 0.1))\n",
    "plt.legend()\n",
    "plt.show()"
   ]
  },
  {
   "cell_type": "markdown",
   "id": "27d42654ab4787d0",
   "metadata": {
    "collapsed": false
   },
   "source": [
    "Как ведет себя ошибка с увеличением количества деревьев? Есть ли переобучение? Как это связано с пройденной теорией?"
   ]
  },
  {
   "cell_type": "markdown",
   "id": "151eff44f5706b88",
   "metadata": {
    "collapsed": false
   },
   "source": [
    "### Зависимость  качества предсказаний леса от значений гиперпараметров"
   ]
  },
  {
   "cell_type": "markdown",
   "id": "b1028e237e7408ab",
   "metadata": {
    "collapsed": false
   },
   "source": [
    "Теперь исследуем зависимость качества предсказаний случайного леса от значений гиперпараметров. Рассмотрим датасет `diabetes` из `sklearn`. В нём исследуется численная оценка прогрессирования диабета у пациентов на основе таких признаков, как возраст, пол, масса тела, среднее кровяное давление и некоторых других. Для того, чтобы лучше понять, что из себя представляют признаки в этом датасете, можно обратиться к этой странице: https://www4.stat.ncsu.edu/~boos/var.select/diabetes.html."
   ]
  },
  {
   "cell_type": "code",
   "execution_count": null,
   "id": "d11b50c3dc7d7566",
   "metadata": {
    "collapsed": false
   },
   "outputs": [],
   "source": [
    "diabetes = datasets.load_diabetes() \n",
    "X = diabetes.data\n",
    "y = diabetes.target"
   ]
  },
  {
   "cell_type": "code",
   "execution_count": null,
   "id": "5ba791d5063d16f7",
   "metadata": {
    "collapsed": false
   },
   "outputs": [],
   "source": [
    "print('data shape:', X.shape)\n",
    "print('target shape:', y.shape)"
   ]
  },
  {
   "cell_type": "markdown",
   "id": "cbd0fdf51e2bcb35",
   "metadata": {
    "collapsed": false
   },
   "source": [
    "Как и в предыдущих экспериментах, разобьём данные на обучение и тест."
   ]
  },
  {
   "cell_type": "code",
   "execution_count": null,
   "id": "f2604bde2e944fbd",
   "metadata": {
    "collapsed": false
   },
   "outputs": [],
   "source": [
    "X_train, X_test, y_train, y_test = train_test_split(\n",
    "    X, y, random_state=42\n",
    ")"
   ]
  },
  {
   "cell_type": "markdown",
   "id": "764541b3afff526e",
   "metadata": {
    "collapsed": false
   },
   "source": [
    "Подберём оптимальные параметры для `RandomForestRegressor` по сетке."
   ]
  },
  {
   "cell_type": "code",
   "execution_count": null,
   "id": "756359af6ac01dcb",
   "metadata": {
    "collapsed": false
   },
   "outputs": [],
   "source": [
    "estimator=RandomForestRegressor(random_state=42),\n",
    "param_grid={\n",
    "      'max_depth': [3, 5, None], \n",
    "      'n_estimators': [5, 10, 25, 50],\n",
    "      'min_samples_leaf': [1, 2, 5], \n",
    "      'min_samples_split': [2, 5]\n",
    "  }\n",
    "    \n",
    "    tree_gridsearch = <...>"
   ]
  },
  {
   "cell_type": "code",
   "execution_count": null,
   "id": "81e939afbbabfb37",
   "metadata": {
    "collapsed": false
   },
   "outputs": [],
   "source": [
    "<...>"
   ]
  },
  {
   "cell_type": "markdown",
   "id": "3ba74161a3e8c97a",
   "metadata": {
    "collapsed": false
   },
   "source": [
    "Выведите лучшие параметры."
   ]
  },
  {
   "cell_type": "code",
   "execution_count": null,
   "id": "d85d7436fbeec4c4",
   "metadata": {
    "collapsed": false
   },
   "outputs": [],
   "source": [
    "print(tree_gridsearch.best_params_)"
   ]
  },
  {
   "cell_type": "markdown",
   "id": "829c33a8064679c5",
   "metadata": {
    "collapsed": false
   },
   "source": [
    "Посчитаем значение метрики `r2-score` для лучшей модели."
   ]
  },
  {
   "cell_type": "code",
   "execution_count": null,
   "id": "ec8c8abe55f89a11",
   "metadata": {
    "collapsed": false
   },
   "outputs": [],
   "source": [
    "print('train r2_score {:.4f}'.format(\n",
    "    r2_score(tree_gridsearch.best_estimator_.predict(X_train), y_train)\n",
    "))\n",
    "print('test r2_score {:.4f}'.format(\n",
    "    r2_score(tree_gridsearch.best_estimator_.predict(X_test), y_test)\n",
    "))"
   ]
  },
  {
   "cell_type": "markdown",
   "id": "692594e66210cae3",
   "metadata": {
    "collapsed": false
   },
   "source": [
    "Теперь попробуем резко увеличить значение `min_samples_leaf`. Проведите аналогичный эксперимент."
   ]
  },
  {
   "cell_type": "code",
   "execution_count": null,
   "id": "20f636662a28093e",
   "metadata": {
    "collapsed": false
   },
   "outputs": [],
   "source": [
    "<...>"
   ]
  },
  {
   "cell_type": "markdown",
   "id": "7e05372d9c52adf7",
   "metadata": {
    "collapsed": false
   },
   "source": [
    "**Вывод.**\n",
    "\n",
    "Теперь попробуем, наоборот, сделать значение `min_samples_leaf` меньше оптимального."
   ]
  },
  {
   "cell_type": "code",
   "execution_count": null,
   "id": "4ba1fa0495ff1efd",
   "metadata": {
    "collapsed": false
   },
   "outputs": [],
   "source": [
    "<...>"
   ]
  },
  {
   "cell_type": "markdown",
   "id": "86e8c23988a39bfc",
   "metadata": {
    "collapsed": false
   },
   "source": [
    "**Вывод.**\n",
    "\n"
   ]
  }
 ],
 "metadata": {
  "kernelspec": {
   "display_name": "Python 3",
   "language": "python",
   "name": "python3"
  },
  "language_info": {
   "codemirror_mode": {
    "name": "ipython",
    "version": 2
   },
   "file_extension": ".py",
   "mimetype": "text/x-python",
   "name": "python",
   "nbconvert_exporter": "python",
   "pygments_lexer": "ipython2",
   "version": "2.7.6"
  }
 },
 "nbformat": 4,
 "nbformat_minor": 5
}
