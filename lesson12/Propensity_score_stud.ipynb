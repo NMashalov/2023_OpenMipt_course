{
  "cells": [
    {
      "cell_type": "markdown",
      "metadata": {
        "id": "view-in-github",
        "colab_type": "text"
      },
      "source": [
        "<a href=\"https://colab.research.google.com/github/NMashalov/2023_OpenMipt_course/blob/main/lesson12/Propensity_score_stud.ipynb\" target=\"_parent\"><img src=\"https://colab.research.google.com/assets/colab-badge.svg\" alt=\"Open In Colab\"/></a>"
      ]
    },
    {
      "cell_type": "code",
      "execution_count": 44,
      "metadata": {
        "id": "1b51d8ef"
      },
      "outputs": [],
      "source": [
        "import warnings\n",
        "warnings.filterwarnings('ignore')\n",
        "\n",
        "import numpy as np\n",
        "import pandas as pd\n",
        "from matplotlib import pyplot as plt\n",
        "import seaborn as sns\n",
        "\n",
        "import statsmodels.formula.api as smf\n",
        "from sklearn.linear_model import LogisticRegression, LinearRegression\n",
        "\n",
        "from joblib import Parallel, delayed\n",
        "\n",
        "sns.set(font_scale=1.3, palette='Set2', style='whitegrid')"
      ]
    },
    {
      "cell_type": "markdown",
      "metadata": {
        "id": "89dkWnZx6xku"
      },
      "source": [
        "На основе материалов <a href=\"https://matheusfacure.github.io/python-causality-handbook/landing-page.html\">учебника</a>."
      ]
    },
    {
      "cell_type": "markdown",
      "metadata": {
        "id": "7bae61c9"
      },
      "source": [
        "## 1. Propensity Score"
      ]
    },
    {
      "cell_type": "markdown",
      "metadata": {
        "id": "0fc0733d"
      },
      "source": [
        "Рассмотрим [данные](https://github.com/matheusfacure/python-causality-handbook/blob/c817a34e69ef96d2344064f01eeccc129ab365ca/causal-inference-for-the-brave-and-true/data/learning_mindset.csv) об исследовании семинаров о Growth Mindset (установка на рост). Это рандомизированное исследование, проведенное в государственных школах США, целью которого является выявление влияния специальных семинаров Growth Mindset. После прохождения семинаров исследователи наблюдают за студентами во время учебы в колледже. Реальные данные по этому исследованию не являются общедоступными для сохранения конфиденциальности. Будем работать с искусственным набором данных с теми же статистическими свойствами.\n",
        "\n",
        "\n",
        "Признаки\n",
        "\n",
        "* `schoolid` &mdash; идентификатор школы учащегося;\n",
        "\n",
        "* `intervention` &mdash; назначен ли ученику специальный семинар;\n",
        "\n",
        "* `achievement_score` &mdash; успешность ученика, стандартизированный признак;\n",
        "\n",
        "* `success_expect` &mdash; самооценка успеха в будущем, показатель предыдущих достижений, измеренный до случайного тритмента;\n",
        "\n",
        "* `ethnicity` &mdash; этническая принадлежность студента, категориальный признак;\n",
        "\n",
        "* `gender` &mdash; пол ученика, категориальный признак;\n",
        "\n",
        "* `frst_in_family` &mdash; первый ли в семье, поступивший в колледж, категориальный признак;\n",
        "\n",
        "* `school_urbanicity` &mdash; уровень урбанизации школы (сельская, пригородная и т.д.), категориальный признак;\n",
        "\n",
        "* `school_mindset` &mdash; среднее значение типа мышления учащихся на уровне школы, зафиксированное до эксперимента, стандартизированный признак;\n",
        "\n",
        "* `school_achievement` &mdash; уровень школьных достижений, измеряемый результатами тестов и подготовкой к колледжу для предыдущих 4 групп учащихся, стандартизированный признак;\n",
        "\n",
        "* `school_ethnic_minority` &mdash; этнический состав школы, т.е. процент чернокожих, латиноамериканцев или коренных американцев среди учащихся, стандартизированный признак;\n",
        "\n",
        "* `school_poverty` &mdash; концентрация бедности в школе, т.е. процент учащихся из семей, доходы которых ниже черты бедности, стандартизированный признак;\n",
        "\n",
        "* `school_size` &mdash; общее количество учащихся во всех четырех классах школы, стандартизированный признак."
      ]
    },
    {
      "cell_type": "code",
      "source": [
        "!wget https://raw.githubusercontent.com/matheusfacure/python-causality-handbook/c817a34e69ef96d2344064f01eeccc129ab365ca/causal-inference-for-the-brave-and-true/data/learning_mindset.csv"
      ],
      "metadata": {
        "id": "EGVnsACQU7kz",
        "outputId": "b8a6d37c-2669-4e9a-b2b3-376fb36630ce",
        "colab": {
          "base_uri": "https://localhost:8080/"
        }
      },
      "execution_count": 45,
      "outputs": [
        {
          "output_type": "stream",
          "name": "stdout",
          "text": [
            "--2024-01-03 16:48:51--  https://raw.githubusercontent.com/matheusfacure/python-causality-handbook/c817a34e69ef96d2344064f01eeccc129ab365ca/causal-inference-for-the-brave-and-true/data/learning_mindset.csv\n",
            "Resolving raw.githubusercontent.com (raw.githubusercontent.com)... 185.199.108.133, 185.199.109.133, 185.199.110.133, ...\n",
            "Connecting to raw.githubusercontent.com (raw.githubusercontent.com)|185.199.108.133|:443... connected.\n",
            "HTTP request sent, awaiting response... 200 OK\n",
            "Length: 1322568 (1.3M) [text/plain]\n",
            "Saving to: ‘learning_mindset.csv.2’\n",
            "\n",
            "\rlearning_mindset.cs   0%[                    ]       0  --.-KB/s               \rlearning_mindset.cs 100%[===================>]   1.26M  --.-KB/s    in 0.06s   \n",
            "\n",
            "2024-01-03 16:48:51 (22.3 MB/s) - ‘learning_mindset.csv.2’ saved [1322568/1322568]\n",
            "\n"
          ]
        }
      ]
    },
    {
      "cell_type": "code",
      "execution_count": 46,
      "metadata": {
        "id": "3d4c2d17",
        "outputId": "102f331d-af28-46a5-c7ea-afac3e333943",
        "colab": {
          "base_uri": "https://localhost:8080/",
          "height": 206
        }
      },
      "outputs": [
        {
          "output_type": "execute_result",
          "data": {
            "text/plain": [
              "       schoolid  intervention  achievement_score  success_expect  ethnicity  \\\n",
              "3213          3             1           0.871522               7          4   \n",
              "3717         74             0          -0.703856               5         10   \n",
              "6394         47             0           1.504203               6          4   \n",
              "10299         2             0          -0.597267               5          4   \n",
              "2707         15             1           0.419579               6          4   \n",
              "\n",
              "       gender  frst_in_family  school_urbanicity  school_mindset  \\\n",
              "3213        2               0                  2       -2.081630   \n",
              "3717        1               1                  4        0.983982   \n",
              "6394        1               0                  4       -1.239272   \n",
              "10299       1               1                  4        0.208298   \n",
              "2707        2               1                  2       -0.009954   \n",
              "\n",
              "       school_achievement  school_ethnic_minority  school_poverty  school_size  \n",
              "3213             2.171815               -0.145265       -0.785322     0.882281  \n",
              "3717            -0.449943                0.088159       -0.657131    -0.323959  \n",
              "6394             0.599242                0.005429        1.267680     0.958510  \n",
              "10299           -0.122386                1.199492       -0.337134     0.352747  \n",
              "2707             0.762804               -0.225752        0.082613     0.350672  "
            ],
            "text/html": [
              "\n",
              "  <div id=\"df-caacd422-17f0-4af0-9f9f-e4942e526753\" class=\"colab-df-container\">\n",
              "    <div>\n",
              "<style scoped>\n",
              "    .dataframe tbody tr th:only-of-type {\n",
              "        vertical-align: middle;\n",
              "    }\n",
              "\n",
              "    .dataframe tbody tr th {\n",
              "        vertical-align: top;\n",
              "    }\n",
              "\n",
              "    .dataframe thead th {\n",
              "        text-align: right;\n",
              "    }\n",
              "</style>\n",
              "<table border=\"1\" class=\"dataframe\">\n",
              "  <thead>\n",
              "    <tr style=\"text-align: right;\">\n",
              "      <th></th>\n",
              "      <th>schoolid</th>\n",
              "      <th>intervention</th>\n",
              "      <th>achievement_score</th>\n",
              "      <th>success_expect</th>\n",
              "      <th>ethnicity</th>\n",
              "      <th>gender</th>\n",
              "      <th>frst_in_family</th>\n",
              "      <th>school_urbanicity</th>\n",
              "      <th>school_mindset</th>\n",
              "      <th>school_achievement</th>\n",
              "      <th>school_ethnic_minority</th>\n",
              "      <th>school_poverty</th>\n",
              "      <th>school_size</th>\n",
              "    </tr>\n",
              "  </thead>\n",
              "  <tbody>\n",
              "    <tr>\n",
              "      <th>3213</th>\n",
              "      <td>3</td>\n",
              "      <td>1</td>\n",
              "      <td>0.871522</td>\n",
              "      <td>7</td>\n",
              "      <td>4</td>\n",
              "      <td>2</td>\n",
              "      <td>0</td>\n",
              "      <td>2</td>\n",
              "      <td>-2.081630</td>\n",
              "      <td>2.171815</td>\n",
              "      <td>-0.145265</td>\n",
              "      <td>-0.785322</td>\n",
              "      <td>0.882281</td>\n",
              "    </tr>\n",
              "    <tr>\n",
              "      <th>3717</th>\n",
              "      <td>74</td>\n",
              "      <td>0</td>\n",
              "      <td>-0.703856</td>\n",
              "      <td>5</td>\n",
              "      <td>10</td>\n",
              "      <td>1</td>\n",
              "      <td>1</td>\n",
              "      <td>4</td>\n",
              "      <td>0.983982</td>\n",
              "      <td>-0.449943</td>\n",
              "      <td>0.088159</td>\n",
              "      <td>-0.657131</td>\n",
              "      <td>-0.323959</td>\n",
              "    </tr>\n",
              "    <tr>\n",
              "      <th>6394</th>\n",
              "      <td>47</td>\n",
              "      <td>0</td>\n",
              "      <td>1.504203</td>\n",
              "      <td>6</td>\n",
              "      <td>4</td>\n",
              "      <td>1</td>\n",
              "      <td>0</td>\n",
              "      <td>4</td>\n",
              "      <td>-1.239272</td>\n",
              "      <td>0.599242</td>\n",
              "      <td>0.005429</td>\n",
              "      <td>1.267680</td>\n",
              "      <td>0.958510</td>\n",
              "    </tr>\n",
              "    <tr>\n",
              "      <th>10299</th>\n",
              "      <td>2</td>\n",
              "      <td>0</td>\n",
              "      <td>-0.597267</td>\n",
              "      <td>5</td>\n",
              "      <td>4</td>\n",
              "      <td>1</td>\n",
              "      <td>1</td>\n",
              "      <td>4</td>\n",
              "      <td>0.208298</td>\n",
              "      <td>-0.122386</td>\n",
              "      <td>1.199492</td>\n",
              "      <td>-0.337134</td>\n",
              "      <td>0.352747</td>\n",
              "    </tr>\n",
              "    <tr>\n",
              "      <th>2707</th>\n",
              "      <td>15</td>\n",
              "      <td>1</td>\n",
              "      <td>0.419579</td>\n",
              "      <td>6</td>\n",
              "      <td>4</td>\n",
              "      <td>2</td>\n",
              "      <td>1</td>\n",
              "      <td>2</td>\n",
              "      <td>-0.009954</td>\n",
              "      <td>0.762804</td>\n",
              "      <td>-0.225752</td>\n",
              "      <td>0.082613</td>\n",
              "      <td>0.350672</td>\n",
              "    </tr>\n",
              "  </tbody>\n",
              "</table>\n",
              "</div>\n",
              "    <div class=\"colab-df-buttons\">\n",
              "\n",
              "  <div class=\"colab-df-container\">\n",
              "    <button class=\"colab-df-convert\" onclick=\"convertToInteractive('df-caacd422-17f0-4af0-9f9f-e4942e526753')\"\n",
              "            title=\"Convert this dataframe to an interactive table.\"\n",
              "            style=\"display:none;\">\n",
              "\n",
              "  <svg xmlns=\"http://www.w3.org/2000/svg\" height=\"24px\" viewBox=\"0 -960 960 960\">\n",
              "    <path d=\"M120-120v-720h720v720H120Zm60-500h600v-160H180v160Zm220 220h160v-160H400v160Zm0 220h160v-160H400v160ZM180-400h160v-160H180v160Zm440 0h160v-160H620v160ZM180-180h160v-160H180v160Zm440 0h160v-160H620v160Z\"/>\n",
              "  </svg>\n",
              "    </button>\n",
              "\n",
              "  <style>\n",
              "    .colab-df-container {\n",
              "      display:flex;\n",
              "      gap: 12px;\n",
              "    }\n",
              "\n",
              "    .colab-df-convert {\n",
              "      background-color: #E8F0FE;\n",
              "      border: none;\n",
              "      border-radius: 50%;\n",
              "      cursor: pointer;\n",
              "      display: none;\n",
              "      fill: #1967D2;\n",
              "      height: 32px;\n",
              "      padding: 0 0 0 0;\n",
              "      width: 32px;\n",
              "    }\n",
              "\n",
              "    .colab-df-convert:hover {\n",
              "      background-color: #E2EBFA;\n",
              "      box-shadow: 0px 1px 2px rgba(60, 64, 67, 0.3), 0px 1px 3px 1px rgba(60, 64, 67, 0.15);\n",
              "      fill: #174EA6;\n",
              "    }\n",
              "\n",
              "    .colab-df-buttons div {\n",
              "      margin-bottom: 4px;\n",
              "    }\n",
              "\n",
              "    [theme=dark] .colab-df-convert {\n",
              "      background-color: #3B4455;\n",
              "      fill: #D2E3FC;\n",
              "    }\n",
              "\n",
              "    [theme=dark] .colab-df-convert:hover {\n",
              "      background-color: #434B5C;\n",
              "      box-shadow: 0px 1px 3px 1px rgba(0, 0, 0, 0.15);\n",
              "      filter: drop-shadow(0px 1px 2px rgba(0, 0, 0, 0.3));\n",
              "      fill: #FFFFFF;\n",
              "    }\n",
              "  </style>\n",
              "\n",
              "    <script>\n",
              "      const buttonEl =\n",
              "        document.querySelector('#df-caacd422-17f0-4af0-9f9f-e4942e526753 button.colab-df-convert');\n",
              "      buttonEl.style.display =\n",
              "        google.colab.kernel.accessAllowed ? 'block' : 'none';\n",
              "\n",
              "      async function convertToInteractive(key) {\n",
              "        const element = document.querySelector('#df-caacd422-17f0-4af0-9f9f-e4942e526753');\n",
              "        const dataTable =\n",
              "          await google.colab.kernel.invokeFunction('convertToInteractive',\n",
              "                                                    [key], {});\n",
              "        if (!dataTable) return;\n",
              "\n",
              "        const docLinkHtml = 'Like what you see? Visit the ' +\n",
              "          '<a target=\"_blank\" href=https://colab.research.google.com/notebooks/data_table.ipynb>data table notebook</a>'\n",
              "          + ' to learn more about interactive tables.';\n",
              "        element.innerHTML = '';\n",
              "        dataTable['output_type'] = 'display_data';\n",
              "        await google.colab.output.renderOutput(dataTable, element);\n",
              "        const docLink = document.createElement('div');\n",
              "        docLink.innerHTML = docLinkHtml;\n",
              "        element.appendChild(docLink);\n",
              "      }\n",
              "    </script>\n",
              "  </div>\n",
              "\n",
              "\n",
              "<div id=\"df-4c8fd115-9b08-42e8-b668-c658f9d0c02f\">\n",
              "  <button class=\"colab-df-quickchart\" onclick=\"quickchart('df-4c8fd115-9b08-42e8-b668-c658f9d0c02f')\"\n",
              "            title=\"Suggest charts\"\n",
              "            style=\"display:none;\">\n",
              "\n",
              "<svg xmlns=\"http://www.w3.org/2000/svg\" height=\"24px\"viewBox=\"0 0 24 24\"\n",
              "     width=\"24px\">\n",
              "    <g>\n",
              "        <path d=\"M19 3H5c-1.1 0-2 .9-2 2v14c0 1.1.9 2 2 2h14c1.1 0 2-.9 2-2V5c0-1.1-.9-2-2-2zM9 17H7v-7h2v7zm4 0h-2V7h2v10zm4 0h-2v-4h2v4z\"/>\n",
              "    </g>\n",
              "</svg>\n",
              "  </button>\n",
              "\n",
              "<style>\n",
              "  .colab-df-quickchart {\n",
              "      --bg-color: #E8F0FE;\n",
              "      --fill-color: #1967D2;\n",
              "      --hover-bg-color: #E2EBFA;\n",
              "      --hover-fill-color: #174EA6;\n",
              "      --disabled-fill-color: #AAA;\n",
              "      --disabled-bg-color: #DDD;\n",
              "  }\n",
              "\n",
              "  [theme=dark] .colab-df-quickchart {\n",
              "      --bg-color: #3B4455;\n",
              "      --fill-color: #D2E3FC;\n",
              "      --hover-bg-color: #434B5C;\n",
              "      --hover-fill-color: #FFFFFF;\n",
              "      --disabled-bg-color: #3B4455;\n",
              "      --disabled-fill-color: #666;\n",
              "  }\n",
              "\n",
              "  .colab-df-quickchart {\n",
              "    background-color: var(--bg-color);\n",
              "    border: none;\n",
              "    border-radius: 50%;\n",
              "    cursor: pointer;\n",
              "    display: none;\n",
              "    fill: var(--fill-color);\n",
              "    height: 32px;\n",
              "    padding: 0;\n",
              "    width: 32px;\n",
              "  }\n",
              "\n",
              "  .colab-df-quickchart:hover {\n",
              "    background-color: var(--hover-bg-color);\n",
              "    box-shadow: 0 1px 2px rgba(60, 64, 67, 0.3), 0 1px 3px 1px rgba(60, 64, 67, 0.15);\n",
              "    fill: var(--button-hover-fill-color);\n",
              "  }\n",
              "\n",
              "  .colab-df-quickchart-complete:disabled,\n",
              "  .colab-df-quickchart-complete:disabled:hover {\n",
              "    background-color: var(--disabled-bg-color);\n",
              "    fill: var(--disabled-fill-color);\n",
              "    box-shadow: none;\n",
              "  }\n",
              "\n",
              "  .colab-df-spinner {\n",
              "    border: 2px solid var(--fill-color);\n",
              "    border-color: transparent;\n",
              "    border-bottom-color: var(--fill-color);\n",
              "    animation:\n",
              "      spin 1s steps(1) infinite;\n",
              "  }\n",
              "\n",
              "  @keyframes spin {\n",
              "    0% {\n",
              "      border-color: transparent;\n",
              "      border-bottom-color: var(--fill-color);\n",
              "      border-left-color: var(--fill-color);\n",
              "    }\n",
              "    20% {\n",
              "      border-color: transparent;\n",
              "      border-left-color: var(--fill-color);\n",
              "      border-top-color: var(--fill-color);\n",
              "    }\n",
              "    30% {\n",
              "      border-color: transparent;\n",
              "      border-left-color: var(--fill-color);\n",
              "      border-top-color: var(--fill-color);\n",
              "      border-right-color: var(--fill-color);\n",
              "    }\n",
              "    40% {\n",
              "      border-color: transparent;\n",
              "      border-right-color: var(--fill-color);\n",
              "      border-top-color: var(--fill-color);\n",
              "    }\n",
              "    60% {\n",
              "      border-color: transparent;\n",
              "      border-right-color: var(--fill-color);\n",
              "    }\n",
              "    80% {\n",
              "      border-color: transparent;\n",
              "      border-right-color: var(--fill-color);\n",
              "      border-bottom-color: var(--fill-color);\n",
              "    }\n",
              "    90% {\n",
              "      border-color: transparent;\n",
              "      border-bottom-color: var(--fill-color);\n",
              "    }\n",
              "  }\n",
              "</style>\n",
              "\n",
              "  <script>\n",
              "    async function quickchart(key) {\n",
              "      const quickchartButtonEl =\n",
              "        document.querySelector('#' + key + ' button');\n",
              "      quickchartButtonEl.disabled = true;  // To prevent multiple clicks.\n",
              "      quickchartButtonEl.classList.add('colab-df-spinner');\n",
              "      try {\n",
              "        const charts = await google.colab.kernel.invokeFunction(\n",
              "            'suggestCharts', [key], {});\n",
              "      } catch (error) {\n",
              "        console.error('Error during call to suggestCharts:', error);\n",
              "      }\n",
              "      quickchartButtonEl.classList.remove('colab-df-spinner');\n",
              "      quickchartButtonEl.classList.add('colab-df-quickchart-complete');\n",
              "    }\n",
              "    (() => {\n",
              "      let quickchartButtonEl =\n",
              "        document.querySelector('#df-4c8fd115-9b08-42e8-b668-c658f9d0c02f button');\n",
              "      quickchartButtonEl.style.display =\n",
              "        google.colab.kernel.accessAllowed ? 'block' : 'none';\n",
              "    })();\n",
              "  </script>\n",
              "</div>\n",
              "\n",
              "    </div>\n",
              "  </div>\n"
            ]
          },
          "metadata": {},
          "execution_count": 46
        }
      ],
      "source": [
        "data = pd.read_csv(\"learning_mindset.csv\")\n",
        "data.sample(5)"
      ]
    },
    {
      "cell_type": "markdown",
      "metadata": {
        "id": "4QGLQ7Y5EMqA"
      },
      "source": [
        "Хотя исследование было рандомизированным, не похоже на отсутствие смещения в данных. Дело в том, что возможность принять участие была случайной, но само участие таковым не является. Например, мы можем видеть, что студенты с более высокой самооценкой (до начала эксперимента) с большей вероятностью присоединились к семинару."
      ]
    },
    {
      "cell_type": "code",
      "execution_count": 47,
      "metadata": {
        "id": "48093f71",
        "outputId": "de565de6-7a29-44bb-cbec-7b1ba514de19",
        "colab": {
          "base_uri": "https://localhost:8080/"
        }
      },
      "outputs": [
        {
          "output_type": "execute_result",
          "data": {
            "text/plain": [
              "success_expect\n",
              "1    0.271739\n",
              "2    0.265957\n",
              "3    0.294118\n",
              "4    0.271617\n",
              "5    0.311070\n",
              "6    0.354287\n",
              "7    0.362319\n",
              "Name: intervention, dtype: float64"
            ]
          },
          "metadata": {},
          "execution_count": 47
        }
      ],
      "source": [
        "data.groupby(\"success_expect\")[\"intervention\"].mean()"
      ]
    },
    {
      "cell_type": "markdown",
      "metadata": {
        "id": "95fd355c"
      },
      "source": [
        "Тем не менее, посмотрим на разность средних $\\mathsf{E}(Y|T=1) - \\mathsf{E}(Y|T=0)$, будем рассматривать ее как бейзлайн"
      ]
    },
    {
      "cell_type": "code",
      "execution_count": 48,
      "metadata": {
        "id": "0ef88117",
        "outputId": "06c0533e-533d-4961-f2e6-29d4d28caaa7",
        "colab": {
          "base_uri": "https://localhost:8080/",
          "height": 80
        }
      },
      "outputs": [
        {
          "output_type": "execute_result",
          "data": {
            "text/plain": [
              "<class 'statsmodels.iolib.table.SimpleTable'>"
            ],
            "text/html": [
              "<table class=\"simpletable\">\n",
              "<tr>\n",
              "        <td></td>          <th>coef</th>     <th>std err</th>      <th>t</th>      <th>P>|t|</th>  <th>[0.025</th>    <th>0.975]</th>  \n",
              "</tr>\n",
              "<tr>\n",
              "  <th>Intercept</th>    <td>   -0.1538</td> <td>    0.012</td> <td>  -13.201</td> <td> 0.000</td> <td>   -0.177</td> <td>   -0.131</td>\n",
              "</tr>\n",
              "<tr>\n",
              "  <th>intervention</th> <td>    0.4723</td> <td>    0.020</td> <td>   23.133</td> <td> 0.000</td> <td>    0.432</td> <td>    0.512</td>\n",
              "</tr>\n",
              "</table>"
            ],
            "text/latex": "\\begin{center}\n\\begin{tabular}{lcccccc}\n\\toprule\n                      & \\textbf{coef} & \\textbf{std err} & \\textbf{t} & \\textbf{P$> |$t$|$} & \\textbf{[0.025} & \\textbf{0.975]}  \\\\\n\\midrule\n\\textbf{Intercept}    &      -0.1538  &        0.012     &   -13.201  &         0.000        &       -0.177    &       -0.131     \\\\\n\\textbf{intervention} &       0.4723  &        0.020     &    23.133  &         0.000        &        0.432    &        0.512     \\\\\n\\bottomrule\n\\end{tabular}\n\\end{center}"
          },
          "metadata": {},
          "execution_count": 48
        }
      ],
      "source": [
        "smf.ols(\"achievement_score ~ intervention\", data=data).fit().summary().tables[1]"
      ]
    },
    {
      "cell_type": "markdown",
      "metadata": {
        "id": "4114a8c4"
      },
      "source": [
        "Видим, что у посещающих семинар оценка достижений в среднем на $0,3185 = 0,4723 - 0,1538$ выше среднего балл, который равен нулю, поскольку оценка стандартизирована."
      ]
    },
    {
      "cell_type": "code",
      "execution_count": 49,
      "metadata": {
        "id": "fa1ab00d",
        "outputId": "27a59c32-91a1-4e33-e20e-be91b009d056",
        "colab": {
          "base_uri": "https://localhost:8080/",
          "height": 464
        }
      },
      "outputs": [
        {
          "output_type": "display_data",
          "data": {
            "text/plain": [
              "<Figure size 640x480 with 1 Axes>"
            ],
            "image/png": "[encoded data removed]"
          },
          "metadata": {}
        }
      ],
      "source": [
        "plt.hist(\n",
        "    data[\"achievement_score\"],\n",
        "    bins=20, alpha=0.3, label=\"Вся совокупность\"\n",
        ")\n",
        "plt.hist(\n",
        "    data.query(\"intervention==0\")[\"achievement_score\"],\n",
        "    bins=20, alpha=0.3, color=\"C2\"\n",
        ")\n",
        "plt.hist(\n",
        "    data.query(\"intervention==1\")[\"achievement_score\"],\n",
        "    bins=20, alpha=0.3, color=\"C3\"\n",
        ")\n",
        "plt.vlines(-0.1538, 0, 300, label=\"Контроль\", color=\"C2\")\n",
        "plt.vlines(-0.1538+0.4723, 0, 300, label=\"Тест\", color=\"C3\")\n",
        "plt.xlabel(\"Успешность ученика\")\n",
        "plt.legend()\n",
        "plt.show();"
      ]
    },
    {
      "cell_type": "markdown",
      "metadata": {
        "id": "819959ff"
      },
      "source": [
        "### 1.1 Непосредственно Propensity score\n",
        "\n",
        "Идея: нет необходимости напрямую в модели контролировать все конфаундеры $X$ для достижения условной независимости $(С_1, С_0){\\perp\\!\\!\\!\\perp} T | X$. Вместо этого достаточно контролировать условное мат. ожидание $\\mathsf{E}(T|X)$ как случайную величины. Если тритмент бинарный, то он является условной вероятностью тритмента $\\mathsf{P}(T=1|X)$, также называемый **propensity score** $P(x) = \\mathsf{P}(T=1|X=x)$.\n",
        "\n",
        "Propensity score позволяет не ставить условие на весь $X$ для получения независимости. Достаточно поставить условие только на propensity score\n",
        "$$(C_1, C_0) \\perp T | P(X)$$\n",
        "\n",
        "Propensity score &mdash; это условная вероятность тритмента, по сути это функция, которая преобразует признаки $X$ в тритмент $T$. В ней сосредоточена вся информация о том, как признаки $X$ влияют на $T$. Все остальное &mdash; непрогнозируемый шум. Если мы фиксируем $P(X)$, то сам $X$ ничего не говорит о том, каким может быть $T$."
      ]
    },
    {
      "cell_type": "markdown",
      "metadata": {
        "id": "ZhPSbSak-yiQ"
      },
      "source": [
        "Посмотрим, как будет выглядеть наш граф."
      ]
    },
    {
      "cell_type": "markdown",
      "metadata": {
        "id": "r6KizV5L9Px4"
      },
      "source": [
        "<img src=\"data:image/png;base64,iVBORw0KGgoAAAANSUhEUgAAAHsAAAFbCAYAAAD1HPH9AAAABmJLR0QA/wD/AP+gvaeTAAAgAElEQVR4nO2deVhVVdv/v/uMjDLPg8zzEM6aYmZplxWSOb32mIFK+VYOYZo9lVlP+TilDfpqPmamZphZ5oCA4QCYhqghojxOyIzMAgfOAc79+8PfoVDGwz57nwPnc11cXnL2Xuu7+Z611r33XuteDBER9PQHtgn4VqCHO/Rm9yP0ZvcjRHwLaI/KykoUFxejuroaDQ0NkMvlkMlkEIlEMDU1hVAohLm5Oezs7GBnZwehUMi3ZJ2AN7OJCNnZ2bh48SKysrKQlZWFnJwcFBYWorGxsdvlCIVC2NnZwcPDA0FBQQgKCkJISAiGDh0KAwMDDV6B7sFwGY3fvXsXhw8fRnJyMlJSUlBeXg6pVAp/f38EBgbC398fLi4ucHBwgKOjIywtLWFgYACpVAojIyM0NTWhrq4OSqUSlZWVKC0tRVFREYqKipCTk4Ps7GxkZWWhsrISUqkUw4YNwxNPPIFJkyZh+PDhYBiGq0vVRrZp3OzCwkLs2rULBw8eREZGBszMzDB27Fg88cQTCA8PR2hoKEQidjuYu3fv4vTp0zhz5gxOnjyJ27dvw8nJCZGRkXjppZcwcuRIVuvTEbaBNIBSqaSEhASKjIwkkUhE1tbWFBMTQ/Hx8SSXyzVRZadkZmbSqlWrKCQkhABQaGgobdmyhWpraznXwiNbWTc7KSmJhg4dSgBo8ODBtG3bNpLJZGxXozYXLlygmJgYMjY2JisrK1q5ciVVV1fzLYsL2DP73LlzNGTIEGIYhiIjI+nSpUtsFa0RysrKaMWKFWRqakrW1ta0detWamlp4VuWJum92VVVVfTqq6+SQCCgcePGab3JD1NeXk6xsbEkFotp2LBhlJGRwbckTdE7s1NTU8nV1ZXs7e1pz549bInihStXrtCYMWNILBbT2rVrSalU8i2JbdQ3e/Xq1SQSiei5556jsrIyNkXxhlKppDVr1pBYLKZnnnmGqqqq+JbEJj03u7m5mWJiYkgoFNLGjRv7Ygugc+fOkbOzMwUFBVF+fj7fctiiZ2Y3NTXRCy+8QEZGRnTo0CFNidIK8vLyKDAwkFxcXOjmzZt8y2GD7putVCppzpw5ZGxsTKmpqZoUpTVUVlbSkCFDyNPTk0pKSviW01u6b/Y///lPkkgkdPz4cU0K0jru3btHPj4+NGjQIGpoaOBbTm/ontknTpwggUBA27dv17QgreTWrVtkbm5Or7/+Ot9SekPXZldWVpKjoyNNnz6dC0FaS1xcHDEMQ0eOHOFbirp0bXZsbCzZ2tr2tdsQtfif//kf8vb2JoVCwbcUdejc7Nu3b5NUKqXNmzdzJYiIiEaOHEkikYgAkFgsprCwMCouLiYiop07d5KTkxMBICsrK0615ebmkoGBAX355Zec1ckinZu9ZMkScnd35+WbfOLECWIYhry8vKi+vr7NZ99//z0NGzaMF10LFy4kd3d3XXyO3rHZCoWCbGxs6OOPP+ZSUBsWLFhAAOjNN99s/V1OTg65uLjQnTt3eNF07do1AkC//fYbL/X3go7Njo+PJ4ZhKC8vj0tBbairqyMPDw9iGIZOnjxJMpmMQkJC6JdffuFNExHR8OHDae7cubxqUIOtHc4uTUlJga+vL1xcXLiZR9EOxsbG2LlzJwAgOjoaMTExGD9+PCZPnsybJgB46qmnkJqayqsGtejoa/Dkk09SVFQUl9+8Dlm0aBEB4C1+eJijR48SwzBUXl7Ot5Se0HHLzs3Nha+vL4dfu46Jjo4G8EBTSkoKz2oAHx8fEBHy8vL4ltIjOjS7oqICVlZWXGppF7lcjqioKLz//vsQCASIjo5GbW0tr5pUf5fy8nJedfSUDs2WyWQwNDTkUku7LFmyBGPHjsVHH32EpUuX4u7du4iNjeVVk7GxMQCgvr6eVx09pUOzLSwsUFVVxaWWR9i/fz8yMjKwZs0aAMCqVasQGBiI7du34/jx47zpqqysBABYWlrypkEdOjTb2toaZWVlXGppw61bt7Bs2TLExcVBLBYDAKRSKXbt2gWRSIR58+ahurqaF22qv4u1tTUv9atLh2YHBgbi0qVLXGppRS6XY8aMGdi0aRPc3NzafDZ48GCsWLEChYWFWLRoES/6Ll68CKlUCk9PT17qV5uO4vSNGzeStbU159OOvvrqK7K2tiYA5ObmRj/88EObz9966y2ysrIiAK23YydOnOBU46uvvkqPP/44p3WyQMdP0DIzMwkApaSkcClI62lqaiJHR0f64IMP+JbSUzq+zw4ODkZYWBi++eYbrjoZnSA+Ph7FxcV4+eWX+ZbSYzpdjD9v3jzExcWhqKiIKz1az6ZNm/Dkk0/q3ngNdDxmExE1NDTQwIEDad68eVx1NVrNsWPHdHlo63qmyu7du0koFNL58+e5EKS1yGQyCggIoMmTJ/MtRV26NlupVNKzzz5Lnp6eVFNTw4UorWTBggVkbm7O23t0Fuje7NLi4mKytbWladOm6eIMjV6zd+9eYhiG9u/fz7eU3tD9eeMnT54kqVTaZtZIfyAhIYEkEgktXbqUbym9pWfLfw4cOEBCoZCWLVvWJ9d4PUxSUhKZmJjQ7Nmz+8L19nxh3+7du0ksFtPs2bO1YiKBptizZw9JJBKaNWtWX7lO9ZbsJiQkkKmpKY0ePZru3r3LtiheUSgU9PbbbxPDMLR06dK+0KJVqL8++8qVKxQQEECWlpZ04MABNkXxxo0bN2j48OFkbGxMO3fu5FsO2/Qu80J9fT3Nnz+fAFBERITO3pY0NDTQhx9+SAYGBhQaGkrXrl3jW5ImYCeBTnJyMvn7+5ORkRGtWLFCZzIxNDc3065du8jT05NMTU1p/fr1fWV8bg/2siUpFArasGED2drakomJCb3zzjtam7VAJpPRjh07yNvbm0QiEUVFRVFBQQHfsjQN+3nQ6urqaN26dWRvb09CoZAiIiLoyJEjWtFirly5QosXLyYLCwuSSCT0yiuv9JWsCt2BfbNVyOVyiouLo3HjxhHDMGRpaUlz5syhQ4cOcZZZsLm5mdLT0+ndd98lPz8/AkAeHh60evXqvpBJoads5SRR7Z07d3Dw4EEcPHgQ586dg0AgwKBBgzBmzBgMHz4cQUFB8Pb27nUO08LCQly9ehUZGRlITU1Famoq7t+/Dzc3N0yZMgVTpkzByJEjIRD0yzTrmk9U+zClpaU4ffo0UlJScOrUKVy7dg0tLS2QSCTw8fGBq6sr7O3t4ezsjAEDBsDU1LQ1z7gq77hcLkdNTQ1KS0tRUFCAkpIS5OTktM6GdXJywujRoxEeHo7w8HAEBQVxeYnaCvdmP0xjYyOuXbuGq1ev4vr16ygoKMDp06chEomgUChQW1vbmnpaIpHA2NgYBgYGMDU1hZ2dHZycnGBvbw9PT0+sWrUKc+bMwfr16/m8JG1FM1mJe0N5eTkBoMTExB6f+95775G9vb1WBINaSMdz0Pji4sWLAIDQ0NAenzt//nyUlZXhyJEjbMvqE2id2ZcvX4ajoyNsbW17fK6rqysmTJiA7du3a0CZ7qN1Zv/555947LHH1D5//vz5SEhIQG5uLnui+ghaZ/bly5d7Zfbzzz8PBwcH7Nixg0VVfQOtMruxsRE5OTlqjdcqRCIRoqKi8J///AdNTU0sqtN9tMrsK1euoLm5uVctG9AHah2hVWZfvnwZxsbG8PLy6lU5+kCtfbTK7D///BOhoaGsPM7UB2qPolVmX758uVfj9d/RB2qPojVmExGuXLmCkJAQVsrTB2qPojVm5+fn4/79+6y+tNAHam3RGrOzs7MBAAEBAayVqQ/U2qI1Zl+9ehUODg6sJ6XRB2p/oTVmZ2dns9qqVegDtb/QGrOvXr2KwMBA1svVB2p/oRVmExGuX7+ukZYN6AM1FVphdn5+PmpqajTSsgF9oKZCK8zWRCT+MPpATUvMvnr1Kuzt7TWaHlIfqGmJ2dnZ2RrrwlXoAzUtMVtTkfjD9PdATSvMvn79Ovz9/TVeT38P1Hg3u7S0FDU1NfD29uakvv4cqPFu9q1btwCg1xMWukt/DtR4N/vmzZuQSqVwdnbmpL7+HKjxbvatW7fg4eEBoVDIWZ39NVDj3eybN29yNl6r6K+BmlaYzdV4/Xf6Y6CmFWbzkc65PwZqvJpdVVWFyspKXlp2fwzUeDX7xo0bALi77XqY/hao8Wr2zZs3IRaL4erqykv9HQVq+fn5+Ne//sWLJk3Cu9nu7u69zqXSG1SB2q1bt3D48GFMmjQJbm5ueP/999Hc3MybLk3A318ZD+6x+d5r47HHHoOZmRmGDBmCmpoaiEQiKJVKAA+2XzQzM+NVH5vw2rLz8vIe2aSNC5RKJU6cOIEXX3wR3t7eqK+vR3V1NYioTbAmk8k416ZJeG3Z+fn5ePrppzmtMycnB08++SSKi4shFArR0tKClpaWdo+tq6vjVJum4bVlFxUVwcnJidM6fX19MXPmTDAM0+WYrGu76HYFb2ZXVlaioaGBc7MBYN26dYiIiOgyMNSbzRKFhYUAwIvZAoEA+/btw6BBg1p38G0PfTfOEnyaDQAGBgY4duwYnJ2dOzRc37JZorCwECYmJhgwYABfEmBlZYUTJ07AxMTkkVesAoFAbzZbFBYW8taq/46HhwcSEhIgEonAMEzr74VCob4bZwttMRsAhg4dij179rT5HcMw+pbNFtpkNgBMnToV69ata/2/3mwWKSws5GzeWXeJjY3F66+/DqFQ2JoJuS/B2xM0bWvZKj7//HPk5ubi6NGjbVp2XV0dCgoKUFNTg9raWiiVStTU1AAAzMzMIBAIYGpqCjMzMzg7O8PExISvS+gQXsxuampCeXk57O3t+ai+Q5RKJbKzs/HCCy/gwoULOHLkCJKTk1FQUNDjLt3Y2BjOzs7w9fVFQEAAAgICEBYWhoCAAN52MuDF7PLychCRWpmH2ebq1as4evQoUlJSkJaWhqqqKkilUnh5eUGpVGLmzJlwdXWFra0tnJ2dYWlpCWNjYwgEgtY3YjU1NVAqlairq0NVVRUKCgpw79493L17F9evX0d8fDw2btwIuVwOCwsLPP744wgPD8ezzz6r0ZWrj8BHlvPMzEwCwNtmaRkZGRQbG0uenp4EoHW76C+++IIuXbpEzc3NRPRgcze2aGpqoosXL9Lnn39OU6dOJRsbGwJAXl5etHTpUrp48SJrdXWA5nb/6YzffvuNAHC62dv9+/dpy5YtNGjQIAJAPj4+tHz5ckpLS+NlT/CWlhZKTU2lZcuWkZeXFwGgIUOG0NatWzW1OxI/ZsfFxZFQKGxtQZqkpqaG/v3vf5OlpSUZGBjQtGnTKCkpSes2VL1w4QLFxMSQsbExWVlZ0cqVK6miooLNKvgx+6uvviIbGxuN1tHY2EiffPIJmZqakqWlpSb+eBqhvLycPvjgA7KwsKABAwbQ6tWrqbGxkY2i+TH7ww8/JH9/f42Vf+TIEfLy8iJjY2P6+OOP6f79+xqrS1PU1NTQqlWryMjIiLy9venYsWO9LZIfs9944w0aM2YM6+XW1tbS3LlzCQDNmDFDa/cC7Ql5eXk0ffp0AkDz58+nuro6dYvix+wZM2bQlClTWC3z0qVL5OXlRdbW1vTzzz+zWrY2cPDgQbKysiIfHx/KzMxUpwh+tnoqLy+HtbU1a+XFx8cjPDwcrq6uyMzMRGRkJGtlawsvvPACMjMz4eDggNGjRyMhIaHHZfBidllZGWxsbFgpa9euXYiIiMDUqVNx/PhxODg4sFKuNuLo6IjExERERkbiueeew+7du3tWANvdTXdwdHSkjRs39rqc/fv3k1AopHfffZcFVbqDUqmkZcuWkUgkop9++qm7p/EzZkulUtq9e3evykhOTiaJREKLFi1iSZXu8frrr5NUKqXTp09353Duza6pqSEAdPz4cbXLKCkpIXt7e5o+fbrWPRzhEqVSSS+++CI5ODhQaWlpV4dzH6CVlZUBgNoBGhFh9uzZMDExwfbt29tMJepvMAyDHTt2wNDQEC+//HKXx3Nudnl5OQCoHaAdOHAAv/32G/bs2cPrZEVtwczMDHv27EFiYiJ++umnzg/moLdpw+HDhwkA1dfX9/jchoYGcnNzozlz5vRax4EDB8jd3Z0AtP6IRCJydHSkWbNmUXZ2drvnJSUl0TvvvENERCNHjiSRSEQASCwWU1hYGBUXFxMR0c6dO8nJyYkAkJWVFW3evJkOHTpE//73vzXyTuAf//gHeXh4dPZolfsxe+fOnWRkZKTWud9++y1JJBIqKChgTY+npyeZmZkREVFdXR39+uuv5OrqSiYmJnT9+vU2x37wwQf0/PPPt3n8euLECWIYhry8vB75An///fc0bNiwNvt5b9q0icaOHUtVVVWsXQPRgydtYrGY9uzZ09Eh3Ju9du1aGjhwoFrnPv744zR9+nRW9fzdbBU///wzAaDXX3+99XerV68mHx+fdt9xL1iwgADQm2++2fq7nJwccnFxoTt37jxy/MKFC2nkyJHU1NTE3oUQ0ZQpUyg8PLyjj7k3e9myZTR48OAen3fnzh0CQAkJCazqac/swsJCAkBjx44lIqIbN26QSCSiffv2tVtGXV0deXh4EMMwdPLkSZLJZBQSEkK//PJLu8dXVlaSoaEhrVu3jtVriY+PJ4Zh6O7du+19zH00Xl5erlZwdubMGUilUoSHh2tAVVtUqzulUikA4IsvvgARISIiot3jjY2NsXPnTgBAdHQ0YmJiMH78eEyePLnd4y0sLDB27Fhs2rQJRMSa7rFjx0IikSAlJaXdz3m59VLntistLQ1Dhw6FgYGBBlS15cyZMwDQulXk0aNH4evrCyMjow7PCQ8Px8KFC3Hnzh2kpaVhzZo1ndYRFhaGwsJC/Pnnn6zpNjQ0xODBg5Gamtru55ybXVlZqdaOAXfu3IGfn58GFP1FfX09fvrpJyxduhS2trZYtGgR6uvrcefOnW6lA4mOjgYA5Obmdti6VKiyOl65cqX3wv+Gr69vh4n8ODe7qqpKLbMrKipYfVP2d2pqasAwDMzMzLBo0SJMmjQJf/zxB5ycnHDv3j0QUaetGgDkcjmioqLw/vvvQyAQIDo6GrW1tR0eryqvtLSU1WuxsbFpfZbxMJxPJa6qqoK5uXmPz5PJZDA0NNSAogcPJqqrq9v9rLGxEcBf43dHLFmyBGPHjsVHH30EhUKBNWvWIDY2Fl9//XW7x6uuRVU+WxgbG3c4x52Xlm1hYdHj8ywtLVFVVaUBRZ2jMqWjvCsAsH//fmRkZLSO06tWrUJgYCC2b9+O48ePt3uOQqFoUz5bVFRUwMrKqt3PODVbLpejsbFRLbOtrKxw7949DajqHFtbWzAM07rU52Fu3bqFZcuWIS4urnVRv1Qqxa5duyASiTBv3rx2ew1VeXZ2dqzqvXfvnnaYrWqZ6nTjwcHBuHjxItuSusTIyAgeHh4oKCh45DO5XI4ZM2Zg06ZNj6T4Gjx4MFasWIHCwkIsWrTokXNV5QUHB7OqNyMjo+MyWb2r74Ls7GwCQFeuXOnxuceOHSOGYbrzKq9bpKWlkY+PT+tzcQcHB5o2bVq7xy5cuJDEYjHJZLLW33311VdkbW1NAMjNzY1++OGHNue89dZbZGVl1Vq+u7s7nThxovXzZ599lpycnFh9RVtSUtLZ62Nun6CdPXuWAKg167OmpoYMDQ1p69atGlDWOaonaL2dcKGivLycDAwMaP369ayUp2Lz5s1kZGTU0dRpbs0+evQoAVB7OuzLL79MoaGhLKvqHp9++il5e3uzsjTnjTfeoBEjRrR5QcIGYWFhFB0d3dHH3Jq9d+9eEovFap+flpZGAOi3335jUVX3effdd+nZZ5+l6upqtcvYsGEDjR49miorK1lURpSYmEgA6Pz58x0dwq3ZbCz7mTRpEoWGhnKyTqw9EhISaPny5Wqd+8svv9Cnn37Kuvbm5mYKDg6myMjIzg7j1ux//etf5OPj06sysrOzSSQS0aZNm1hSpfts3LiRxGIx5eTkdHYYt2+9qqur1brH/jv+/v744IMPsHz5cmRkZLCkTHdJT0/H8uXL8eGHH8LHx6fzg7n69hERzZ07lyZOnNjrclpaWmj8+PHk4eHROg2oP1JYWEhubm40ceLE7qwx172WDTzIPvj9999DJBJhwoQJqKysZEGdblFRUYEJEybA0NAQe/bs6VaeFs6foKnz9Kw9bG1tkZSUhJqaGkycOJH1t0faTHFxMZ5++mnU19cjMTGx228DOTebjZatwtXVFcnJyaipqcGIESOQnZ3NWtnaSlZWFkaMGAGZTIbk5OQe5ZLjvBtnq2Wr8PT0xO+//w4XFxeMHDnykbSUfYldu3Zh1KhRcHd3x9mzZ+Hu7t6zArgIJFRYWlpq7HFnY2MjLVmyhBiGoZkzZ1J5eblG6uGD8vJymj59OjEMQ7GxsSSXy9Uphtv7bLFYTHv37tVoHQkJCeTo6EiWlpa0ZcsW3h6+sEFTUxN99dVXZGlpSU5OTpSUlNSb4rgzW6FQEIAOp9eySU1NDS1dupTEYjEFBwfTjz/+yEv6K3VpaWmhuLg4CgoKIolEQm+//TYbeWG4M7uqqooA9Pbb2SOuX79OU6dOJYFAQP7+/rRz5842rym1jfr6etqxYwf5+fmRQCCg6dOnd/VUrCdwZ3ZBQQEBoLS0NK6qbCU7O5tmz55NEomEzM3N6X//938pPT2dcx3toVQq6fz58/Taa6+RmZkZSSQSmjNnziNLj1iAO7NzcnIIAF2+fJmrKh+htLSU1q1bR35+fgSABg4cSAsXLqQTJ05w2uJlMhklJSXRG2+8QS4uLgSA/P39af369XTv3j1NVbuVIWJxSUInXL58GWFhYbhx4wZvu+r+nYyMDPzyyy/45ZdfkJWVBYlEgiFDhmD06NEYOnQoAgIC4O3t3enuQN2hqakJN27cwNWrV5Geno60tDRcuHABCoUCwcHBiIyMRGRkJAYNGsTSlXXINs7MTktLw+jRo1FYWAhHR0cuquw2d+/exZkzZ5CWlobU1FRcv34dLS0tEIvF8PLygouLC+zt7eHo6Ahzc/PWB0OqZwaqCYVVVVWorq5GUVERSkpKkJ+fj5s3b6KpqQlCoRD+/v4YPXp0a1ZijncX5s7sxMRETJw4EdXV1Vq/malcLse1a9dw7do1XL9+HQUFBSgtLUVhYSHu37/fOnFS9a/KfAsLC5iZmcHR0RH29vZwcnKCv78//P394efn1+Xccw2zjbNFAqqJ612trNAGpFIpHnvsMTz22GMdHqNUKiEUCvHjjz9i6tSpHKpTH84el8pkMkgkkl6PgdqCaqUnn3t/9xTOzK6vr9eJVt1dVCtE9Ga3Q319PYyNjbmqTuOoWvbDO/1pM3qz1UTfjXeCTCbTd+M8o2/ZaqLvxjuhr5qtb9ntIJfL+X6owCr6brwTWlpadKrL6wp9N94JfdVsfctuh+bmZp36w3SFvhvvhL7asnXpmvRmq4m+G++Evma2vhvvhL5mtr4b74S+ara+ZbdDXzNb3413Ql8zW9+Nd0JfNVvfstuhr5mt78Y7oa+Zre/GO6GlpUWnWkFX6LvxTuBoejpnqLpxfctuB5FI1Noa+gK6+GKHM7PFYrHebJ7htGU3NTVxVZ3G0cWAk9OW3ZfM1rfsTtCbzT96s9VE3413gj5A4x99gKYmerM7Qd+N8w9nX01dNvvs2bOYNWtW6zCk2uGvpqYGwcHBEAgEsLCwAMMwGD9+PN577z2eFbeP3uxuMHToUFRWVrburVlYWNj6WVZWVptjY2JiONXWE/SPS7uBWCzG1KlTu8waYWRk1OGe2dqAfszuJtOnT+9Uv1gsxsyZM7V6WbLe7G4yfvx4DBgwoMPPm5qa8PLLL3OoqOdwZrZEImndWVYXEYvFePHFFzvsyh0dHTFmzBiOVfUMzsw2MjKCTCbjqjqN0FFXLpFIEBUV1a19OviEM3UmJiaoq6vjqjqN0FFXrlAo8I9//IMHRT2DM7ONjY113uz2onKGYTBo0CD4+fnxqKx7cNqyVVkOdZmHu3KBQIDo6GgeFXUfTs1ubm5GY2MjV1VqhPHjxz+yqc2MGTN4UtMzODUbgM63bpFIhClTpkAsFkMkEmHSpEnd3leLbzg3W9fHbeCvrrylpQVz5szhW0634ezZuCotli6aXVlZieLiYlRXV6OhoQGNjY0wMjICEcHIyAgnT56Eubk57OzsYGdnp7VvwzgzW9tbNhEhOzsbFy9eRFZWFrKyspCTk4PCwsJO44xJkya1+b9QKISdnR08PDwQFBSEoKAghISEYOjQoTAwMND0ZXQK52Zr05h99+5dHD58GMnJyUhJSUF5eTmkUin8/f0RGBiIqKgouLi4wMHBAY6OjrC0tISBgQGkUilSU1NhaGiIoKAgKJVKVFZWorS0FEVFRSgqKkJOTg6ys7Oxf/9+VFZWQiqVYtiwYXjiiScwadIkDB8+HAzDcHvBmtp95GEaGxsJAB06dIirKtuloKCAPvnkExo8eDABIDMzM4qIiKDPPvuMLly4QE1NTd0qp6mpiZRKZbeOzc3NpV27dtHcuXPJw8ODAJCTkxO9/vrrdPbs2d5cTk/oezv2tYdSqaSEhASKjIwkkUhE1tbWFBMTQ/Hx8epuddgrMjMzadWqVRQSEkIAKDQ0lLZs2UK1tbWarJZbs83Nzenrr7/mskpKSkqioUOHEgAaPHgwbdu2Tas2crtw4QLFxMSQsbExWVlZ0cqVK6m6uloTVXFrtrOzM3322Wec1HXu3DkaMmQIMQxDkZGRdOnSJU7qVZeysjJasWIFmZqakrW1NW3dupXtLSW5NdvPz48++ugjjdZRVVVFr776KgkEAho3bpzWm/ww5eXlFBsbS2KxmIYNG0YZGRlsFb2V03dymn7zlZaWhtDQUBw6dAjfffcdkpOTO93BRxuxsrLC+mh3xBwAABVeSURBVPXrcfHiRUilUowYMQLr1q1jZ8kzW1+b7jB+/Hh67bXXNFL26tWrSSQS0XPPPUdlZWUaqYNrlEolrVmzhsRiMT3zzDNUVVXVm+K47cZffPFFmjlzJqtlNjc3U0xMDAmFQtq4cWO3b4d0iXPnzpGzszMFBQVRfn6+usVw242bm5u37nLHBs3NzZg2bRr27NmDgwcPYvHixdw/qOCA4cOH4+zZsyAijBo1Crdu3VKrHM7NVu1b2VuICPPmzUNiYiISExMRERHBSrnaiouLC1JSUmBnZ4eJEyeitLS0x2XorNnvv/8+9u3bh59++gmPP/44K2VqOxYWFjh27BiEQiEmTZrU47kBOmn2b7/9htWrV2Pz5s2YOHEiC8p0BxsbG8THx+P27dtYunRpz05mL4zomt27d5NEIulVGZWVleTo6EjTp09nSZVuEhcXRwzD0JEjR7p7CrcBmoWFBRQKRa+mFH/yySdobm7Gtm3bWFSme0yfPh0zZ87EkiVLur/4QpPfvodJTU0lAFRYWKjW+bdv3yapVEqbN29mWVnnzJgxgwB06+fw4cOc6crNzSUDAwP68ssvu3M497deANQet7/88ks4Ojpi/vz5bMrqFomJiaiurkZTUxOKi4sBABEREVAoFKivr8e9e/c41zVw4EDExMTgs88+g1Kp7PJ4XsxW5167qakJe/bsQXR0NOd7cDMMg8cffxxmZmZtsi0wDAOxWAwjIyPY2Nhg8ODBnOoCgAULFuDOnTs4depU1wdruqv5O/X19QSgJ0FFK/Hx8cQwDOXl5WlAWc8oLi4mADR58mS+pRAR0fDhw2nu3LldHcZtN25kZASpVKpWN56SkgJfX1+4uLhoQJlu89RTTyE1NbXL4zhfiaZKUdFTzp07h5EjR2pAke4zatQo/Pe//0VFRUWnx3FutrrPx3Nzc+Hr66sBRbqPj48PiAh5eXmdHseL2TU1NT0+r6KiAlZWVhpQpPuo/i7l5eWdHse52RYWFmp14zKZDIaGhhpQpPuoFmB0NU1bZ7pxCwsLVl+P9iUqKysBAJaWlp0epzNmW1tbo6ysTAOKdB/V36WrBYacm21lZdX6TewJgYGBuHTpkgYU6T6q+Wqenp6dHse52ZaWll3eIrTHqFGj8Pvvv/O610htbS3Gjh2LwMBAAMDhw4fh7e2NTz/9lDdNAPD7779jyJAhkEqlnR+o+ec7bdm5cycZGRn1+LzMzEwCQCkpKRpQpbs0NTWRo6MjffDBB10dyu0TNOBBNy6TyXo8yyI4OBhhYWH45ptvNKRMN4mPj0dxcXG3crDx0o0DUGvcnjdvHuLi4lBUVMS2LJ1l06ZNePLJJ7scrwGeAjQAao3b0dHRsLGxwcqVK9mWpZPEx8cjOTkZH374YfdO4GJc+Tv37t0jAHTy5Em1zt+9ezcJhUI6f/48u8J0DJlMRgEBAT1588b9mK3Ky61OywaAl156Cc888wxmzZqF+/fvs6xOd4iNjUVRURE2bdrU7XM4N1skEsHMzEytMRt4MGHgP//5D2prazFv3rxuzdDoa3z//ffYunUrvv76a7i5uXX7PF6Sbap7r63C3t4ecXFx+PXXX7F48WIWlWk/iYmJiIqKQmxsLKZNm9azkzU5rnTE0KFDaenSpb0u58CBAyQUCmnZsmV9co3XwyQlJZGJiQnNnj1bnevldmGfimeeeYaio6NZKWv37t0kFotp9uzZpFAoWClTG9mzZw9JJBKaNWuWutfJj9mzZs1idf5WQkICmZqa0ujRo+nu3buslasNKBQKevvtt4lhGFq6dGlvejDuo3Hgwb12b8bsh5kwYQLOnj2LyspKhIWF4aeffmKtbD65efMmxowZgy1btuCbb77BunXrerVKlTez1Y3GOyIoKAjp6el48cUXMXXqVEyePBm5ubms1sEVjY2NWLVqFYKDg9HY2IgLFy7glVde6X3BbHY53eWLL74gOzs7jZWfnJxM/v7+ZGRkRCtWrNCZTAzNzc20a9cu8vT0JFNTU1q/fj2bcQg/Y/bevXtJLBZrNIJWKBS0YcMGsrW1JRMTE3rnnXd6k7VAo8hkMtqxYwd5e3uTSCSiqKgoKigoYLsafsw+fvw4AaCamhqN11VXV0fr1q0je3t7EgqFFBERQUeOHNGKyP3KlSu0ePFisrCwIIlEQq+88grdvHlTU9XxY/Yff/xBAOj27duc1SmXyykuLo7GjRtHDMOQpaUlzZkzhw4dOqTpzIKtNDc3U3p6Or377rvk5+dHAMjDw4NWr15NJSUlmq5+K0PE/dSP27dvw9PTExcuXOBlfdSdO3dw8OBBHDx4EOfOnYNAIMCgQYMwZswYDB8+HEFBQfD29u71LrqFhYW4evUqMjIykJqaitTUVNy/fx9ubm6YMmUKpkyZgpEjR3K1a9A2XsyuqamBubk5EhISMGHCBK6rb0NpaSlOnz6NlJQUnDp1CteuXUNLSwskEgl8fHzg6uoKe3t7ODs7Y8CAATA1NYVIJIKpqSnkcjlkMhnkcjlqampQWlqKgoIClJSUICcnp3VipZOTE0aPHo3w8HCEh4cjKCiIj0vlx2wiglQqxbfffotZs2ZxXX2npKenY9iwYfjnP/8JAK3mFRYW4v79+6itrUVTUxPq6uogkUhgbGwMAwMDmJqaws7ODk5OTrC3t4e3tzcCAwMRFBSkLYsbtvGy2zfDMLCxscG9e/f4qL5Tvv32W/j6+uLjjz/uc2m2eNtizs7OTq30TpqkoaEB33//PWJiYvqc0QCPZtva2mpdy963bx9kMhlmz57NtxSNoG/Zf+Prr7/G1KlTYWNjw7cUjcBry9YmszMzM3H+/Hmt3tm+t+i78f/Ptm3b4Ovri/DwcL6laAxeu3FtMbuvB2YqeDW7sbFRrYX5bNPXAzMVvJnt4OAAAFqxuqOvB2YqeDNblfUoPz+fLwkA+kdgpoI3sy0sLGBiYsK72f0hMFPBm9kA4OzszKvZ/SUwU8Gr2S4uLrya3V8CMxX92uz+Epip4N3sgoICXuruT4GZCt7N5qtl96fATAXvZtfV1XGe36y/BWYqeDXb3d0dwIM5aVzS3wIzFbybLRaLcfPmTU7r7W+BmQpezRaJRHBxceHU7P4YmKng1WwA8PLyUnu7QXXoj4GZin5ldn8NzFTwbranpydn3Xh/DcxU8G62l5cXiouLu8yVzQb9NTBTwbvZnp6eICKNd+X9OTBToRVmCwQCjZvdnwMzFbybbWBgAEdHR42O2/09MFPBu9mA5iPy/h6YqdAaszXZsvt7YKZCK8zW5O2XPjD7C60w28vLC/n5+ZDL5ayXrQ/M/kIrzPb09IRSqcSdO3dYLVcfmLVFK8z29vYGgNauvKysDKdOncL//d//9Wpygz4wawsvmRdUFBcXIzs7G9euXcM777wDBwcHlJWVtVklUlZW1uV+VQAwfPhwPP/884iOjoajoyMAYMSIEfD09MTevXs1dg06xDZesiV9/PHHNGDAAAJAAEgsFpNYLG79v+rH0tKy22UaGhoSwzAkEAgoIiKCtmzZQgDo1KlTGrwSnYKf1FjXr18ngUDwiLkP/4wbN65b5SmVSmIYpvU8kUhEAMjExISWL1/e55LXqgk/iWp9fX0RExMDsVjc4TESiQRhYWHdKk8mk7XZ3K25uRkAUFdXhw0bNsDd3R2TJ0/G8ePH++XOA63w9TUrLS0lIyOjDlu1UCiknTt3drusjspR/TAMQwYGBnThwgXNXpj2wk/LBh4sxl+2bBmEQmG7n7e0tCA4OLhbZdXV1XXruB07dvCSZE9r4POrVldXR9bW1m3GW9WPQCCg+vr6bpWj2rqxox+GYWjDhg0avhqth7+WDTzY5LujfGMuLi4wMjLqVjmdtWyhUIj58+fjrbfeUltnX4H3hyrz589vfaetQpVLtLt0NMtFJBLh6aefxpYtW3qtsy/Au9lCoRBr165tEyWLxWKEhIR0u4z2zBaLxQgICMCBAwc6jAv6G7ybDQCRkZEYMWJEaxZghULR7eAMeGD234cCkUgEW1tbJCYmwtjYmHW9uopWmA0An3/+OVpaWgA8SGTbE7Pr6upaW69AIIBUKsXx48dhZ2enEa26itaYPWzYMEyePBnAgwcq3dkiWEV9fX3rmC8QCPDrr7/yleZZq+ElK3FHfPrppzh8+DBcXV1x5swZtLS0oLa2Fs3NzTAyMoJUKoWhoSHMzc3h4ODQuhd3fX09mpqawDAMvvvuOzz55JM8X4l2wovZDQ0NSE9PR2ZmJrKysnD16lXcunUL9+7dQ0tLC27evNktwwwMDODs7AwiAhFh+vTpCAkJARHp31+3AyevOJVKJc6fP49jx47h1KlTSE9Ph1wuh6WlJYKCghAYGAhfX184ODjAyMgImZmZePXVVyEQCFoz96sy9jc2NqKyshJFRUUoLi5Gfn4+vvvuO1RUVKC2thYKhQI2NjYYM2YMxo0bh4iICLi6umr6EnUBzb7iTE1NpQULFpCjoyMBIE9PT5o7dy599913nb6Jam5u7lE9+/fvp6amJmpqaqL09HTasGEDRUREkJmZGTEMQ0OGDKHVq1dTYWFhby9Jl2H/FWdtbS1t3ryZgoODCQCFhITQqlWrKDMzk+2qukQul1N8fDzFxMSQtbU1iUQieuGFFygxMZFzLVoAe2bX1tbSpk2byN7engwMDGjatGmUlJTEVvG9Ri6X0/79++mpp54ihmEoJCSE9u/f3y+2Yv7/9N7slpYW2rJlC1lZWdGAAQPovffeo4qKCjbEaYyMjAyKiIgghmFo2LBh9Mcff/AtiQt6Z3ZGRgYNHTqUxGIxLV26VOtNfpiLFy/SE088QQKBgF577TWqqqriW5ImUc9spVJJa9asIbFYTOHh4ZSVlcW2MM5QKpW0e/dusre3p4EDB1JaWhrfkjRFz82urKykCRMmkFgsprVr1/aZMa+srIyeffZZEolEtHbtWr7laIKemZ2Xl0eBgYHk4uLSJ8c5pVJJGzZsIKFQSAsWLOjxLaCW032zb9y4Qc7OzhQcHKyJ7X61ip9//pkMDQ1p6tSp1NTUxLcctuie2UVFReTh4UHDhg3r60FMK2fOnCEjIyOKjo7uK0NV12bX19dTaGgo+fn56cwO82xx9OhREovFtHLlSr6lsEHXZr/22mtkYWFBubm5XAjSOrZu3UoCgYBOnjzJt5Te0rnZv/76KzEMQwcOHOBKkFYydepUcnZ21vUhrGOz5XI5eXp60ksvvcSlIK2ksrKSbGxs6O233+ZbSm/o2OyNGzeSoaEh5eXlcaYmJiamdZUIwzDk4eFBcXFxbY6Jjo4mMzMzAkDe3t509epVTrR98cUXZGBgoMvDWftmt7S0kKurK7311ltcC6Lc3FwyNjYmAwMDunnzZrvHLF++nN544w1OdcnlcnJ1ddXl1t2+2QkJCQSArl27xrUgIiLasGEDAaAJEyY88pnqfp+P8XPlypVkZ2dHCoWC87pZoH2zo6KiaOTIkVyLaaW5uZkGDRpEAGjfvn1tPps0aRLt2LGDF125ubnEMAwlJCTwUn8vaX/5T0pKCp5++mnO5ss8jFAoxPbt2yEUCrFkyZLWTAxHjx5FRUUFoqKieNE1cOBAeHl5ITU1lZf6e8sjZpeXl+PWrVsYOXIkH3paGTRoEBYuXIiSkhKsWLECCoUCsbGx+Oqrr3idTDhq1Cj8/vvvvNXfGx4x++7duyAi+Pr68qGnDR9//DEGDhyIbdu2Yc6cORg7diyGDBnCqyYfHx/k5ubyqkFdHplKXF5eDgCwsrLiXMzDGBsbY/PmzXjuueeQkJCAGzdu8C0JVlZWqKio4FuGWjzSshsaGgAAhoaGnItpj4kTJwJ40KK04QtoYmLCSW50TfCI2RYWFgDA+V5bukJFRUXrShRd4xGzVa2nrKyMczG6QFlZmVb0MOrwiNne3t4wMDDApUuX+NCj9Vy8eLFHK0y1iUfMlkqlCAsLw9mzZ/nQ04YJEybAyckJAPDHH3/A3d0dy5Yt400PEeHcuXO835aqTXuPWt577z1ydnbua3Owes2pU6cIAF25coVvKerQ/hO0qKgoFBYWIikpieOvnnazY8cODB06VGfXfrdrtoeHB8LDw7Fx40au9WgtBQUFOHDgAObNm8e3FPXpqM2fPn2aAOjqQ3/WeeWVV8jNzY0aGxv5lqIunU9Lev755ykwMJAaGhq4EqSV/P777yQUCmnv3r18S+kNnZudl5dHFhYW9Oabb3IlSOuora0lb29vmjhxoq5PKe56dum+ffuIYRj64YcfuBCkVbS0tNCUKVPI3t6eSkpK+JbTW7q3SGDx4sUklUrpxIkTmhakVSxYsIAMDAzozJkzfEthg+6Z3dLSQi+99BKZmppScnKypkXxjlKppNjYWBIKhfTzzz/zLYctur/WS6FQ0MyZM0kqlT4yVagvIZfLadasWSSRSHQ9IHuYnq3ibGlpobfeeosYhqHly5fr6sS7DsnNzaVRo0bRgAEDtCpFCEuotxh/x44dZGxsTCNGjOhwuq+u8eOPP5KFhQUFBgbqdHKBTlA/zUZ2djaFhoaSoaEhffTRRzr7sOH27dv03HPPEQCKiYkhmUzGtyRN0bucKgqFgtauXUsmJibk5eVFu3fv1pmXJ/fu3aPly5eToaEhBQQE9IWFe13BTmqs/Px8mjNnDolEIvL19aWdO3dq7VO3vLw8evvtt8nExIRsbW1p48aNfS726AB2k97duHGDXnnlFZJIJGRpaUmLFy/WivFPoVDQ4cOH6fnnnyehUEj29va0fv36bu9B0kfQzCZuJSUl9Omnn5K7uzsBID8/P/rnP/9J6enpnHXz9+/fp0OHDtGcOXPI0tKSGIah8ePH0/79+0kul3OiQcvYqtFEtUqlEmlpaTh48CB+/vln3L17F2ZmZhg9ejRGjx6NQYMGISgoqHXvTHVpbm7GjRs3kJWVhXPnziElJQWXLl2CUqnEyJEjMWXKFEyZMgVubm7sXJhuso3TjVezsrJw+vRpnDlzBqmpqSgqKgIAWFpawsfHB/b29nBxcYGtrS3MzMwglUpb84yr8o7X1tbi/v37yM/PR2lpKfLy8vDf//4XCoUCIpEI/v7+GDt2LMLDwxEeHq7fTeAvuDX7YSoqKnDlyhVcvXoVN2/eRElJCQoLC1FaWor79+9DLpejvr4eCoUCJiYmEIvFMDU1xYABA+Dk5AR7e3s4OzvDz88PgYGBCAgIgFQq5etytB1+zdbDKdu0Zo8QPZpHb3Y/Qm92P0IE4Ee+RejhhIv/D+YgHlBAg8pJAAAAAElFTkSuQmCC\">"
      ]
    },
    {
      "cell_type": "markdown",
      "metadata": {
        "id": "16083c29"
      },
      "source": [
        "Посещающие семинар и не посещающие изначально несопоставимы, потому что у более амбициозных людей больше вероятность пройти семинар и достичь большего в жизни. Однако, если взять два студента из разных групп, но *с одинаковой вероятностью тритмента*, они будут сопоставимы. А единственная причина, по которой один из них посещал семинар, а другой нет &mdash; это чистая случайность. Фиксация propensity score приводит к тому, что данные выглядят подобно случайным.\n",
        "\n",
        "---\n",
        "\n",
        "Покажем, что условие $(C_1, C_0) {\\perp\\!\\!\\!\\perp} T | P(X)$ эквивалентно $\\mathsf{E}(T|P(X), X) = \\mathsf{E}(T|P(X))$\n",
        "Иначе говоря, при рассмотрении $P (X)$ в условии, сам $X$ не дает никакой дополнительной информации о $T$.\n",
        "\n",
        "Доказательство:\n",
        "* Левая часть\n",
        "$$\\mathsf{E}(T|P(X), X) = \\mathsf{E}(T|X) = P(X)$$\n",
        "\n",
        "* Правая часть\n",
        "$$\\mathsf{E}(T|P(X)) = \\mathsf{E}( \\ \\mathsf{E}(T|P(X), X) \\  |P(X)) = \\mathsf{E}( P(X)  |P(X)) = P(X)$$\n"
      ]
    },
    {
      "cell_type": "markdown",
      "metadata": {
        "id": "a45a18ac"
      },
      "source": [
        "### 1.2 Propensity Weighting\n",
        "\n",
        "После получения propensity score можно использовать оценку, которая зависит только от него, а не от всех признаков $X$.\n",
        "\n",
        "Идея следующая\n",
        "$$\\mathsf{E}(Y|X,T=1)−\\mathsf{E}(Y|X,T=0) = \\mathsf{E}\\bigg[\\left.\\dfrac{Y}{P(X)}\\right|X,T=1\\bigg]P(X) - \\mathsf{E}\\bigg[\\left.\\dfrac{Y}{1-P(X)}\\right|X,T=0\\bigg](1-P(X))$$\n",
        "\n",
        "\n",
        "Первое слагаемое берет всех тех, кто в тестовой группе, и масштабирует их по обратной вероятности попасть в тестовую группу. Тем самым люди с очень низкой вероятностью тритмента имеют высокий вес. Смысл в том, что если у кого-то низкая вероятность тритмента, то этот человек выглядит как представитель контрольной группы. Однако этот человек был в тестовой группе. Тем самым логично придать ему высокий вес. Это создает популяцию того же размера, что и исходная совокупность данных, но в которой тритмент оказывает влияние на всех.\n",
        "\n",
        "Аналогично второе слагаемое взаимодействует с контрольной группой, придавая высокий вес тем, которые выглядят так, как будто они в тестовой группе.\n"
      ]
    },
    {
      "cell_type": "markdown",
      "metadata": {
        "id": "9ad7e963"
      },
      "source": [
        "Можем также унифицировать эти условные мат. ожидания:\n",
        "\n",
        "$$\\mathsf{E}\\bigg[Y \\dfrac{T-P(X)}{P(X)(1-P(X))}\\bigg|X, T\\bigg]$$\n",
        "\n",
        "Далее, беря мат. ожидание по $T$, получаем\n",
        "\n",
        "$$\\mathsf{E}\\bigg[Y \\dfrac{T-P(X)}{P(X)(1-P(X))}\\bigg|X\\bigg]$$\n",
        "\n",
        "Обратите внимание, что $P(X)$ и $1-P(X)$ должны быть больше нуля. Это означает, что у каждого должен быть хотя бы какой-то шанс получить тритмент или не получить его. Иначе говоря, распределения должны пересекаться. Иначе они будут очень разными, не получится надежно экстраполировать эффект одной группы на другую."
      ]
    },
    {
      "cell_type": "markdown",
      "metadata": {
        "id": "19b122bb"
      },
      "source": [
        "## 2. Propensity Score Estimation\n",
        "\n",
        "\n",
        "В идеальном мире у нас был бы истинный $P(x)$. Но в реальности мы можем получить только его оценку $\\widehat{P}(x)$. Наиболее распространенный способ &mdash; логистическая регрессия.\n",
        "\n",
        "Подготовим данные"
      ]
    },
    {
      "cell_type": "code",
      "execution_count": 50,
      "metadata": {
        "id": "556508d7",
        "outputId": "8dc48aba-72ed-4a58-acf8-7200058e8ae0",
        "colab": {
          "base_uri": "https://localhost:8080/"
        }
      },
      "outputs": [
        {
          "output_type": "stream",
          "name": "stdout",
          "text": [
            "(10391, 32)\n"
          ]
        }
      ],
      "source": [
        "categ = [\"ethnicity\", \"gender\", \"school_urbanicity\"]\n",
        "cont = [\n",
        "    \"school_mindset\", \"school_achievement\",\n",
        "    \"school_ethnic_minority\", \"school_poverty\", \"school_size\"\n",
        "]\n",
        "\n",
        "data_with_categ = pd.concat([\n",
        "    # вещественные признаки\n",
        "    data.drop(columns=categ),\n",
        "    # преобразование категориальных признаков\n",
        "    pd.get_dummies(data[categ], columns=categ, drop_first=False)\n",
        "], axis=1)\n",
        "\n",
        "print(data_with_categ.shape)"
      ]
    },
    {
      "cell_type": "code",
      "execution_count": 53,
      "metadata": {
        "id": "f8d91923"
      },
      "outputs": [],
      "source": [
        "def calculate_ps(df, X, T):\n",
        "    '''\n",
        "    Обучает логистическую регрессию для оценки propensity_score\n",
        "\n",
        "    df : pd.DataFrame\n",
        "        данные\n",
        "    X : pd.DataFrame.columns\n",
        "        список признаков\n",
        "    T : str\n",
        "        признак-тритмент\n",
        "    '''\n",
        "\n",
        "    # YOUR CODE HERE\n",
        "    return LogisticRegression().fit(df[X],df[T])\n"
      ]
    },
    {
      "cell_type": "markdown",
      "metadata": {
        "id": "c9114b77"
      },
      "source": [
        "Оценим propensity score с помощью лог регрессии"
      ]
    },
    {
      "cell_type": "code",
      "execution_count": 62,
      "metadata": {
        "id": "b3525083"
      },
      "outputs": [],
      "source": [
        "# YOUR CODE HERE\n",
        "features = data.columns.drop(['intervention','achievement_score'])\n",
        "target = 'intervention'\n",
        "data['scores'] = calculate_ps(data,features,target).predict_proba(data[features])[:,1]"
      ]
    },
    {
      "cell_type": "markdown",
      "metadata": {
        "id": "9fc09638"
      },
      "source": [
        "Убедимся, что propensity score действительно воссоздает популяцию, в которой на всех оказывается влияние, и наоборот."
      ]
    },
    {
      "cell_type": "code",
      "execution_count": 66,
      "metadata": {
        "id": "b784c46b",
        "colab": {
          "base_uri": "https://localhost:8080/"
        },
        "outputId": "be3c4aed-0443-464f-9fd0-df604568f0f6"
      },
      "outputs": [
        {
          "output_type": "stream",
          "name": "stdout",
          "text": [
            "Размер исходной выборки: 10391\n",
            "Размер раздутой тестовой выборки: 10391.57247582371\n",
            "Размер раздутой контрольной выборки: 10390.297657678844\n"
          ]
        }
      ],
      "source": [
        "print(\"Размер исходной выборки:\", len(data))\n",
        "print(\"Размер раздутой тестовой выборки:\", sum(1/data.query(\"intervention==1\")['scores']))\n",
        "print(\"Размер раздутой контрольной выборки:\", sum(1/(1-data.query(\"intervention==0\")['scores'])))"
      ]
    },
    {
      "cell_type": "markdown",
      "metadata": {
        "id": "e081fa35"
      },
      "source": [
        "\n",
        "Можно также использовать propensity score, чтобы увидеть смещение. Если сегментация учеников по уровню самооценки имеет разный propensity score, это означает, что тритмент не является рандомным. Если эта же величина влияет и на таргет, получаем случай парадокса Симпсона\n",
        "\n",
        "\n",
        "Постройте boxplot, демонстрирующий распределение propensity score в зависимости от самооценки студента."
      ]
    },
    {
      "cell_type": "code",
      "execution_count": 61,
      "metadata": {
        "id": "9f165d69",
        "colab": {
          "base_uri": "https://localhost:8080/",
          "height": 464
        },
        "outputId": "4eb56450-9129-4079-d13d-321c1f82f3d8"
      },
      "outputs": [
        {
          "output_type": "display_data",
          "data": {
            "text/plain": [
              "<Figure size 640x480 with 1 Axes>"
            ],
            "image/png": "[encoded data removed]"
          },
          "metadata": {}
        }
      ],
      "source": [
        "sns.boxplot(x=data.success_expect,y=scores)\n",
        "plt.show()"
      ]
    },
    {
      "cell_type": "markdown",
      "metadata": {
        "id": "585303ec"
      },
      "source": [
        "Также необходимо проверить, есть ли пересечение между тестом и контролем. Для этого можно построить гистограмму propensity score по двум группам."
      ]
    },
    {
      "cell_type": "code",
      "execution_count": null,
      "metadata": {
        "id": "d021e410"
      },
      "outputs": [],
      "source": [
        "# YOUR CODE HERE\n"
      ]
    },
    {
      "cell_type": "markdown",
      "metadata": {
        "id": "2341c68c"
      },
      "source": [
        "Наконец, можем использовать веса из propensity score для оценки среднего эффекта тритмента"
      ]
    },
    {
      "cell_type": "code",
      "execution_count": null,
      "metadata": {
        "id": "WQNwSugLC07p"
      },
      "outputs": [],
      "source": [
        "def calculate_ate(df, X, T, y):\n",
        "    '''\n",
        "    Считает средний причинно-следственный эффект\n",
        "\n",
        "    df : pd.DataFrame\n",
        "        данные\n",
        "    X : list\n",
        "        список признаков\n",
        "    T : str\n",
        "        признак-тритмент\n",
        "    y : str\n",
        "        признак-таргет\n",
        "    '''\n",
        "\n",
        "    # YOUR CODE HERE\n",
        "    pass"
      ]
    },
    {
      "cell_type": "code",
      "execution_count": null,
      "metadata": {
        "id": "58078ad1"
      },
      "outputs": [],
      "source": [
        "#YOUR CODE HERE\n",
        "\n",
        "print(f\"mean С1 = {<...>}\")\n",
        "print(f\"mean С0 = {<...>}\")\n",
        "print(f\"ATE = {<...>}\")"
      ]
    },
    {
      "cell_type": "markdown",
      "metadata": {
        "id": "dc59baee"
      },
      "source": [
        "Выводы:\n",
        "<...>"
      ]
    },
    {
      "cell_type": "markdown",
      "metadata": {
        "id": "63911ffb"
      },
      "source": [
        "При попытке оценить стат. значимость оценки ATE и построить для нее доверительный интервал возникнет следующая проблема. Обычные оценки ковариационной матрицы справедливы только если имеется истинная $P(x)$. Но мы используем оценку, которая вносит свое смещение. Простой способ исправить это &mdash; использование бутстрепа"
      ]
    },
    {
      "cell_type": "code",
      "execution_count": null,
      "metadata": {
        "id": "AZg4TybHN83c"
      },
      "outputs": [],
      "source": [
        "np.random.seed(88)\n",
        "bootstrap_sample = 10_000"
      ]
    },
    {
      "cell_type": "code",
      "execution_count": null,
      "metadata": {
        "id": "a667881f"
      },
      "outputs": [],
      "source": [
        "%%time\n",
        "\n",
        "# Запускаем параллельно функцию run_ps с указанными далее аргументами иммитируя цикл\n",
        "ates =  Parallel(n_jobs=4) (\n",
        "    delayed(calculate_ate) (data_with_categ.sample(frac=1, replace=True), X, T, Y)\n",
        "    for _ in range(bootstrap_sample)\n",
        ")\n",
        "ates = np.array(ates)"
      ]
    },
    {
      "cell_type": "markdown",
      "metadata": {
        "id": "02631fde"
      },
      "source": [
        "Посмотрим на результаты"
      ]
    },
    {
      "cell_type": "code",
      "execution_count": null,
      "metadata": {
        "id": "95fc81b8"
      },
      "outputs": [],
      "source": [
        "print(f\"ATE = {ates.mean():.3f}\")\n",
        "print(f\"95% C.I. = ({np.percentile(ates, 2.5):.3f}, {np.percentile(ates, 97.5):.3f})\")"
      ]
    },
    {
      "cell_type": "markdown",
      "metadata": {
        "id": "55323e17"
      },
      "source": [
        "Также можем посмотреть на бутстрепное распределение ATE"
      ]
    },
    {
      "cell_type": "code",
      "execution_count": null,
      "metadata": {
        "id": "f09c8543"
      },
      "outputs": [],
      "source": [
        "sns.kdeplot(ates, lw=3)\n",
        "plt.vlines(np.percentile(ates, [2.5, 97.5]), 0, 25,\n",
        "           color='red', lw=3, linestyles=\"dotted\", label=\"95% CI\")\n",
        "plt.title(\"Бутстрепное распределение ATE\")\n",
        "plt.legend()\n",
        "plt.show();"
      ]
    },
    {
      "cell_type": "markdown",
      "metadata": {
        "id": "0db7e9a4"
      },
      "source": [
        "## 4. Особенности работы с Propensity Score"
      ]
    },
    {
      "cell_type": "markdown",
      "metadata": {
        "id": "6c940ee7"
      },
      "source": [
        "Может возникнуть желание использовать все возможные инструменты машинного обучения, чтобы сделать propensity score максимально точной. Но не стоит все это делать вслепую. Теория о propensity score появилась недавно, и в ней еще многое не изучено.\n",
        "\n",
        "Однако, можно сказать следующее. Прогнозное качество propensity score не отражается на его уравновешивающих свойствах. **По сравнению с традиционным машинным обучением в причинно-следственном выводе необходимо отказаться от рассмотрения любых задач как задач прогнозирования**. Фактически, минимизация ошибки propensity score может даже навредить цели причинно-следственного вывода. **Propensity score не обязательно должен очень хорошо предсказывать тритмент. Ему просто нужно учесть все конфаундеры.** Если мы будем использовать признаки, которые очень классные для прогнозирования тритмента, но не имеют никакого отношения к результату, это увеличит дисперсию propensity score."
      ]
    },
    {
      "cell_type": "markdown",
      "metadata": {
        "id": "b1af7854"
      },
      "source": [
        "---\n",
        "\n",
        "Для примера рассмотрим две школы. Одна в 99% случаев назначает тритмент, а другая только в 1% случаев. Причем делают это рандомизировано, поэтому нет необходимости что-либо контролировать дополнительно.\n",
        "\n",
        "Если добавить признак `school` в модель propensity score, она будет обладать очень высокой прогнозной способностью. Однако, в итоге получим выборку, в которой все в школе А проходят семинар, что приводит к огромной дисперсии.\n",
        "\n",
        "*Отметим, что в этом примере истинный эффект равен 0.1*"
      ]
    },
    {
      "cell_type": "code",
      "execution_count": null,
      "metadata": {
        "id": "7a0bb7b1"
      },
      "outputs": [],
      "source": [
        "np.random.seed(42)\n",
        "school_a = pd.DataFrame(dict(T=np.random.binomial(1, 0.99, 400), school=0, intercept=1))\n",
        "school_b = pd.DataFrame(dict(T=np.random.binomial(1, 0.01, 400), school=1, intercept=1))\n",
        "\n",
        "ex_data = pd.concat([school_a, school_b])\n",
        "ex_data['y'] = np.random.normal(1 +  0.1*ex_data[\"T\"])\n",
        "ex_data.head()"
      ]
    },
    {
      "cell_type": "markdown",
      "metadata": {
        "id": "ef015b2f"
      },
      "source": [
        "Проведем бутстреп по двум моделям. Первая использует `school` как признак, вторая обучает константу."
      ]
    },
    {
      "cell_type": "code",
      "execution_count": null,
      "metadata": {
        "id": "b29b70c2"
      },
      "outputs": [],
      "source": [
        "%%time\n",
        "\n",
        "ate_w_f =  Parallel(n_jobs=4) (\n",
        "    delayed(run_ps) (ex_data.sample(frac=1, replace=True), [\"school\"], \"T\", \"y\")\n",
        "    for _ in range(bootstrap_sample)\n",
        ")\n",
        "ate_w_f = np.array(ate_w_f)\n",
        "\n",
        "\n",
        "ate_wo_f =  Parallel(n_jobs=4) (\n",
        "    delayed(run_ps) (ex_data.sample(frac=1, replace=True), [\"intercept\"], \"T\", \"y\")\n",
        "    for _ in range(bootstrap_sample)\n",
        ")\n",
        "ate_wo_f = np.array(ate_wo_f)"
      ]
    },
    {
      "cell_type": "code",
      "execution_count": null,
      "metadata": {
        "id": "7a2088ea"
      },
      "outputs": [],
      "source": [
        "plt.figure(figsize=(15, 5))\n",
        "plt.subplot(121)\n",
        "sns.histplot(ate_w_f, label=\"C доп. признаком\")\n",
        "sns.histplot(ate_wo_f, label=\"Без доп. признака\")\n",
        "plt.legend()\n",
        "plt.subplot(122)\n",
        "sns.kdeplot(ate_w_f, lw=3, common_norm=False, label=\"C доп. признаком\")\n",
        "sns.kdeplot(ate_wo_f, lw=3, common_norm=False, label=\"Без доп. признака\")\n",
        "plt.legend()\n",
        "plt.suptitle(\"Сравнение двух моделей оценки propensity score\")\n",
        "plt.show();"
      ]
    },
    {
      "cell_type": "markdown",
      "metadata": {
        "id": "42502cdd"
      },
      "source": [
        "По графику видим, что\n",
        "* оценка propensity score без признака `school` несмещенная и обладает небольшой дисперсией,\n",
        "* оценка propensity score с признаком `school` смещенная и обладает большой дисперсией.\n",
        "\n",
        "---\n",
        "\n",
        "Не редко, когда данные сильно не сбалансированы, можно наблюдать следующую ситуацию. Для большого количества объектов здесь вообще нет сопоставимых. В таком случае можно обрезать выборку на основне propensity score. Эмпирическое правило &mdash; удалять тех, у кого вес не меньше 20."
      ]
    },
    {
      "cell_type": "code",
      "execution_count": null,
      "metadata": {
        "id": "087807dc"
      },
      "outputs": [],
      "source": [
        "ps_test = np.random.beta(4, 1, 500)\n",
        "ps_control = np.random.beta(1, 3, 500)\n",
        "\n",
        "plt.figure(figsize=(15, 5))\n",
        "plt.subplot(121)\n",
        "sns.histplot(ps_test, label=\"Тест\")\n",
        "sns.histplot(ps_control, label=\"Контроль\")\n",
        "plt.subplot(122)\n",
        "sns.kdeplot(ps_test, lw=3, common_norm=False, label=\"Тест\")\n",
        "sns.kdeplot(ps_control, lw=3, common_norm=False, label=\"Контроль\")\n",
        "plt.suptitle(\"Проверка на сопоставимость\")\n",
        "plt.show();"
      ]
    },
    {
      "cell_type": "markdown",
      "metadata": {
        "id": "d2f77290"
      },
      "source": [
        "### Propensity Score Matching"
      ]
    },
    {
      "cell_type": "markdown",
      "metadata": {
        "id": "bd682852"
      },
      "source": [
        "Можно также использовать propensity score как признак для линейной регрессии. Тем самым будет производится матчинг по propensity score"
      ]
    },
    {
      "cell_type": "code",
      "execution_count": null,
      "metadata": {
        "id": "90597912"
      },
      "outputs": [],
      "source": [
        "smf.ols(\n",
        "    \"achievement_score ~ intervention + propensity_score\", data=data_ps\n",
        ").fit().summary().tables[1]"
      ]
    },
    {
      "cell_type": "markdown",
      "metadata": {
        "id": "1ACdzuSa2p-V"
      },
      "source": [
        "# 2. Doubly Robust Estimation\n",
        "\n",
        "Что мы уже узнали для оценки причинно-следственного эффекта?\n",
        "* Построение модели линейной регрессии с учетом некоторых признаков.\n",
        "* Построение propensity score для взвешивания или матчинга.\n",
        "\n",
        "Какую из этих моделей использовать на практике? Ведь как одна, так и другая могут ошибаться. Оказывается, можно их скомбинировать таким способом, что результат будет верным как минимум в том случае, если верна хотя бы одна из моделей. Получаемая оценка ATE называется *оценкой с двойной надежностью* или doubly robust estimation.\n"
      ]
    },
    {
      "cell_type": "markdown",
      "metadata": {
        "id": "XZ3U3Xdk2p-f"
      },
      "source": [
        "---\n",
        "\n",
        "Возьмем данные об исследовании семинаров о Growth Mindset, а также вспомним наш граф, который привел нас к propensity score"
      ]
    },
    {
      "cell_type": "markdown",
      "metadata": {
        "id": "EFcju_eaLSwi"
      },
      "source": [
        "<img src=\"data:image/png;base64,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\">"
      ]
    },
    {
      "cell_type": "markdown",
      "metadata": {
        "id": "u8MusjAN2p-k"
      },
      "source": [
        "\n",
        "## Doubly Robust Estimation\n",
        "\n",
        "Знакомьтесь:\n",
        "\n",
        "$$\n",
        "\\widehat{ATE} = \\frac{1}{n}\\sum_{i=1}^n \\bigg( \\dfrac{T_i \\left(Y_i - \\widehat{\\mu}_1(X_i)\\right)}{\\widehat{P}(X_i)} + \\widehat{\\mu}_1(X_i) \\bigg) - \\frac{1}{n}\\sum_{i=1}^n \\bigg( \\dfrac{(1-T_i)\\left(Y_i - \\widehat{\\mu}_0(X_i)\\right)}{1-\\widehat{P}(X_i)} + \\widehat{\\mu}_0(X_i) \\bigg),\n",
        "$$\n",
        "\n",
        "где\n",
        "* $\\widehat{P}(x)$ &mdash; оценка propensity score (напр., логистическая регрессия);\n",
        "* $\\widehat{\\mu}_1(x)$ &mdash; оценка $\\mathsf{E}(Y|X, T=1)$ (напр., линейная регрессия);\n",
        "* $\\widehat{\\mu}_0(x)$ &mdash; оценка $\\mathsf{E}(Y|X, T=0)$ (напр., линейная регрессия).\n",
        "\n",
        "Слагаемые в формуле выше оценивают $\\mathsf{E} C_1$ и $\\mathsf{E} C_0$ соответственно.\n"
      ]
    },
    {
      "cell_type": "code",
      "execution_count": null,
      "metadata": {
        "ExecuteTime": {
          "end_time": "2023-04-22T00:47:40.935317Z",
          "start_time": "2023-04-22T00:47:40.927733Z"
        },
        "id": "DxuEtmBG2p-m"
      },
      "outputs": [],
      "source": [
        "def doubly_robust(df, X, T, Y):\n",
        "    '''\n",
        "    Оценка ATE с двойной надежностью.\n",
        "\n",
        "    * df -- таблица данных\n",
        "    * X -- список имен столбцов конфаундеров\n",
        "    * T -- имя тритмента\n",
        "    * Y -- имя таргета\n",
        "    '''\n",
        "\n",
        "    # Оцениваем propensity score для всех объектов\n",
        "    lr_model = LogisticRegression(C=1e6, max_iter=1000)\n",
        "    lr_model.fit(df[X], df[T])\n",
        "    propensity_score = lr_model.predict_proba(df[X])[:, 1]\n",
        "\n",
        "    # Оцениваем E(Y|X, T=0) для всех объектов\n",
        "    mu0 = LinearRegression().fit(\n",
        "        df.query(f\"{T}==0\")[X],\n",
        "        df.query(f\"{T}==0\")[Y]\n",
        "    ).predict(df[X])\n",
        "\n",
        "    # Оцениваем E(Y|X, T=1) для всех объектов\n",
        "    mu1 = LinearRegression().fit(\n",
        "        df.query(f\"{T}==1\")[X],\n",
        "        df.query(f\"{T}==1\")[Y]\n",
        "    ).predict(df[X])\n",
        "\n",
        "    # Оцениваем E С_1 и E C_0\n",
        "    mean_c1 = np.mean(df[T]*(df[Y] - mu1)/propensity_score + mu1)\n",
        "    mean_c0 = np.mean((1-df[T])*(df[Y] - mu0)/(1-propensity_score) + mu0)\n",
        "\n",
        "    # Итоговая оценка ATE\n",
        "    return mean_c1 - mean_c0"
      ]
    },
    {
      "cell_type": "code",
      "execution_count": null,
      "metadata": {
        "ExecuteTime": {
          "end_time": "2023-04-22T00:47:41.256418Z",
          "start_time": "2023-04-22T00:47:40.938385Z"
        },
        "id": "1LAblKv62p-o"
      },
      "outputs": [],
      "source": [
        "T = 'intervention'\n",
        "Y = 'achievement_score'\n",
        "X = data_with_categ.columns.drop(['schoolid', T, Y])\n",
        "\n",
        "doubly_robust(data_with_categ, X, T, Y)"
      ]
    },
    {
      "cell_type": "markdown",
      "metadata": {
        "id": "n1i-L9IiTlJ1"
      },
      "source": [
        "**ВЫВОД** <...>"
      ]
    },
    {
      "cell_type": "markdown",
      "metadata": {
        "id": "HQh8W6WX2p-p"
      },
      "source": [
        "\n",
        "Аналогично, можно использовать бутстреп для получения доверительных интервалов"
      ]
    },
    {
      "cell_type": "markdown",
      "metadata": {
        "id": "9rfPOD2V2p-r"
      },
      "source": [
        "---\n",
        "\n",
        "Наконец, убедимся в двойной надежности оценки, а именно, почему для ее корректности требуется корректность (несмещенность) только одной из моделей.\n",
        "\n",
        "Проверим на практике данное утверждение. Для начала заменим лог. регрессию для оценки propensity score случайными числами"
      ]
    },
    {
      "cell_type": "code",
      "execution_count": null,
      "metadata": {
        "ExecuteTime": {
          "end_time": "2023-04-22T00:58:55.945682Z",
          "start_time": "2023-04-22T00:58:55.940683Z"
        },
        "id": "TEfwvGE32p-s"
      },
      "outputs": [],
      "source": [
        "def doubly_robust_wrong_ps(df, X, T, Y):\n",
        "    '''\n",
        "    Оценка ATE с двойной надежностью с НЕКОРРЕКТНОЙ propensity score.\n",
        "\n",
        "    * df -- таблица данных\n",
        "    * X -- список имен столбцов конфаундеров\n",
        "    * T -- имя тритмента\n",
        "    * Y -- имя таргета\n",
        "    '''\n",
        "\n",
        "    # Генерируем propensity score для всех объектов\n",
        "    propensity_score = np.random.uniform(0.1, 0.9, df.shape[0])\n",
        "\n",
        "    # Оцениваем E(Y|X, T=0) для всех объектов\n",
        "    mu0 = LinearRegression().fit(\n",
        "        df.query(f\"{T}==0\")[X],\n",
        "        df.query(f\"{T}==0\")[Y]\n",
        "    ).predict(df[X])\n",
        "\n",
        "    # Оцениваем E(Y|X, T=1) для всех объектов\n",
        "    mu1 = LinearRegression().fit(\n",
        "        df.query(f\"{T}==1\")[X],\n",
        "        df.query(f\"{T}==1\")[Y]\n",
        "    ).predict(df[X])\n",
        "\n",
        "    # Оцениваем E С_1 и E C_0\n",
        "    mean_c1 = np.mean(df[T]*(df[Y] - mu1)/propensity_score + mu1)\n",
        "    mean_c0 = np.mean((1-df[T])*(df[Y] - mu0)/(1-propensity_score) + mu0)\n",
        "\n",
        "    # Итоговая оценка ATE\n",
        "    return mean_c1 - mean_c0"
      ]
    },
    {
      "cell_type": "code",
      "execution_count": null,
      "metadata": {
        "ExecuteTime": {
          "end_time": "2023-04-22T00:58:56.004051Z",
          "start_time": "2023-04-22T00:58:55.947438Z"
        },
        "id": "2LVcem1j2p-t"
      },
      "outputs": [],
      "source": [
        "doubly_robust_wrong_ps(data_with_categ, X, T, Y)"
      ]
    },
    {
      "cell_type": "markdown",
      "metadata": {
        "id": "9uYROiJJ2p-y"
      },
      "source": [
        "Теперь рассмотрим другую ситуацию. Линейные регрессии заменим случайными числами"
      ]
    },
    {
      "cell_type": "code",
      "execution_count": null,
      "metadata": {
        "ExecuteTime": {
          "end_time": "2023-04-22T01:00:54.624850Z",
          "start_time": "2023-04-22T01:00:54.617956Z"
        },
        "id": "rUypzcwN2p-y"
      },
      "outputs": [],
      "source": [
        "def doubly_robust_wrong_model(df, X, T, Y):\n",
        "    '''\n",
        "    Оценка ATE с двойной надежностью с НЕКОРРЕКТНЫМИ моделями лин. регрессии.\n",
        "\n",
        "    * df -- таблица данных\n",
        "    * X -- список имен столбцов конфаундеров\n",
        "    * T -- имя тритмента\n",
        "    * Y -- имя таргета\n",
        "    '''\n",
        "\n",
        "    # Генерируем propensity score для всех объектов\n",
        "    lr_model = LogisticRegression(C=1e6, max_iter=1000)\n",
        "    lr_model.fit(df[X], df[T])\n",
        "    propensity_score = lr_model.predict_proba(df[X])[:, 1]\n",
        "\n",
        "    # Генерируем E(Y|X, T=0) для всех объектов\n",
        "    mu0 = np.random.normal(0, 1, df.shape[0])\n",
        "\n",
        "    # Генерируем E(Y|X, T=1) для всех объектов\n",
        "    mu1 = np.random.normal(0, 1, df.shape[0])\n",
        "\n",
        "    # Оцениваем E С_1 и E C_0\n",
        "    mean_c1 = np.mean(df[T]*(df[Y] - mu1)/propensity_score + mu1)\n",
        "    mean_c0 = np.mean((1-df[T])*(df[Y] - mu0)/(1-propensity_score) + mu0)\n",
        "\n",
        "    # Итоговая оценка ATE\n",
        "    return mean_c1 - mean_c0"
      ]
    },
    {
      "cell_type": "code",
      "execution_count": null,
      "metadata": {
        "ExecuteTime": {
          "end_time": "2023-04-22T01:00:54.725287Z",
          "start_time": "2023-04-22T01:00:54.626693Z"
        },
        "id": "dpR7ozlz2p-0"
      },
      "outputs": [],
      "source": [
        "doubly_robust_wrong_model(data_with_categ, X, T, Y)"
      ]
    },
    {
      "cell_type": "markdown",
      "metadata": {
        "id": "mc676otA2p-3"
      },
      "source": [
        "\n",
        "**Вывод**"
      ]
    }
  ],
  "metadata": {
    "colab": {
      "provenance": [],
      "include_colab_link": true
    },
    "kernelspec": {
      "display_name": "Python 3 (ipykernel)",
      "language": "python",
      "name": "python3"
    },
    "language_info": {
      "codemirror_mode": {
        "name": "ipython",
        "version": 3
      },
      "file_extension": ".py",
      "mimetype": "text/x-python",
      "name": "python",
      "nbconvert_exporter": "python",
      "pygments_lexer": "ipython3",
      "version": "3.9.6"
    }
  },
  "nbformat": 4,
  "nbformat_minor": 0
}