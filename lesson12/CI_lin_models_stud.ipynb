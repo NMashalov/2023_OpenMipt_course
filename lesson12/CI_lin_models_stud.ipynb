{
 "cells": [
  {
   "cell_type": "markdown",
   "id": "36bcd147",
   "metadata": {
    "id": "36bcd147"
   },
   "source": [
    "# Семинар\n",
    "\n",
    "$\\newcommand{\\indep}{\\perp \\!\\!\\! \\perp}$\n",
    "$\\newcommand{\\notindep}{\\not\\!\\perp \\!\\!\\! \\perp}$"
   ]
  },
  {
   "cell_type": "code",
   "execution_count": null,
   "id": "b961abfd",
   "metadata": {
    "id": "b961abfd"
   },
   "outputs": [],
   "source": [
    "import pandas as pd\n",
    "import numpy as np\n",
    "import scipy.stats as sps\n",
    "\n",
    "from matplotlib import pyplot as plt\n",
    "from matplotlib import style\n",
    "import seaborn as sns\n",
    "\n",
    "from tqdm.notebook import tqdm\n",
    "\n",
    "import statsmodels.api as sm\n",
    "import statsmodels.datasets as smd\n",
    "import statsmodels.formula.api as smf\n",
    "import statsmodels.stats.api as sms\n",
    "\n",
    "import warnings\n",
    "warnings.filterwarnings(\"ignore\")\n",
    "\n",
    "sns.set(style='whitegrid', font_scale=1.3, palette='Set2')"
   ]
  },
  {
   "cell_type": "markdown",
   "id": "H7aofVVb07iZ",
   "metadata": {
    "id": "H7aofVVb07iZ"
   },
   "source": [
    "## Учет различных признаков в линейной регрессии для оценки ATE\n",
    "\n",
    "На основе материалов <a href=\"https://matheusfacure.github.io/python-causality-handbook/landing-page.html\">учебника</a>."
   ]
  },
  {
   "cell_type": "code",
   "execution_count": null,
   "id": "5oeodAapv5xn",
   "metadata": {
    "colab": {
     "base_uri": "https://localhost:8080/"
    },
    "id": "5oeodAapv5xn",
    "outputId": "3d9e9628-ce1c-4a27-b0f9-af6a04a9950e"
   },
   "outputs": [
    {
     "name": "stdout",
     "output_type": "stream",
     "text": [
      "Mounted at /content/drive\n"
     ]
    }
   ],
   "source": [
    "from google.colab import drive\n",
    "drive.mount('/content/drive')"
   ]
  },
  {
   "cell_type": "markdown",
   "id": "w0MZWjUyhwBa",
   "metadata": {
    "id": "w0MZWjUyhwBa"
   },
   "source": [
    "### 0. Инициализация и обучение моделей через формулы\n",
    "В этом семинаре нам понадобится модуль `statsmodels.formula.api`, который позволяет задавать модели, указав формулу в виде `target ~ features`, которая означает линейную функцию `target` от `features`.\n",
    "\n",
    "Рассмотрим пример задания модели линейной регрессии OLS (подробнее можно почитать в [документации](https://www.statsmodels.org/dev/example_formulas.html)).\n"
   ]
  },
  {
   "cell_type": "code",
   "execution_count": null,
   "id": "X07zG9sgllz7",
   "metadata": {
    "colab": {
     "base_uri": "https://localhost:8080/",
     "height": 206
    },
    "id": "X07zG9sgllz7",
    "outputId": "45651650-8361-4c50-ddbe-006796815bd6"
   },
   "outputs": [
    {
     "data": {
      "text/html": [
       "\n",
       "  <div id=\"df-d00e898c-b249-4e6b-91d7-d942eb7993c2\" class=\"colab-df-container\">\n",
       "    <div>\n",
       "<style scoped>\n",
       "    .dataframe tbody tr th:only-of-type {\n",
       "        vertical-align: middle;\n",
       "    }\n",
       "\n",
       "    .dataframe tbody tr th {\n",
       "        vertical-align: top;\n",
       "    }\n",
       "\n",
       "    .dataframe thead th {\n",
       "        text-align: right;\n",
       "    }\n",
       "</style>\n",
       "<table border=\"1\" class=\"dataframe\">\n",
       "  <thead>\n",
       "    <tr style=\"text-align: right;\">\n",
       "      <th></th>\n",
       "      <th>Lottery</th>\n",
       "      <th>Literacy</th>\n",
       "      <th>Wealth</th>\n",
       "      <th>Region</th>\n",
       "    </tr>\n",
       "  </thead>\n",
       "  <tbody>\n",
       "    <tr>\n",
       "      <th>0</th>\n",
       "      <td>41</td>\n",
       "      <td>37</td>\n",
       "      <td>73</td>\n",
       "      <td>E</td>\n",
       "    </tr>\n",
       "    <tr>\n",
       "      <th>1</th>\n",
       "      <td>38</td>\n",
       "      <td>51</td>\n",
       "      <td>22</td>\n",
       "      <td>N</td>\n",
       "    </tr>\n",
       "    <tr>\n",
       "      <th>2</th>\n",
       "      <td>66</td>\n",
       "      <td>13</td>\n",
       "      <td>61</td>\n",
       "      <td>C</td>\n",
       "    </tr>\n",
       "    <tr>\n",
       "      <th>3</th>\n",
       "      <td>80</td>\n",
       "      <td>46</td>\n",
       "      <td>76</td>\n",
       "      <td>E</td>\n",
       "    </tr>\n",
       "    <tr>\n",
       "      <th>4</th>\n",
       "      <td>79</td>\n",
       "      <td>69</td>\n",
       "      <td>83</td>\n",
       "      <td>E</td>\n",
       "    </tr>\n",
       "  </tbody>\n",
       "</table>\n",
       "</div>\n",
       "    <div class=\"colab-df-buttons\">\n",
       "\n",
       "  <div class=\"colab-df-container\">\n",
       "    <button class=\"colab-df-convert\" onclick=\"convertToInteractive('df-d00e898c-b249-4e6b-91d7-d942eb7993c2')\"\n",
       "            title=\"Convert this dataframe to an interactive table.\"\n",
       "            style=\"display:none;\">\n",
       "\n",
       "  <svg xmlns=\"http://www.w3.org/2000/svg\" height=\"24px\" viewBox=\"0 -960 960 960\">\n",
       "    <path d=\"M120-120v-720h720v720H120Zm60-500h600v-160H180v160Zm220 220h160v-160H400v160Zm0 220h160v-160H400v160ZM180-400h160v-160H180v160Zm440 0h160v-160H620v160ZM180-180h160v-160H180v160Zm440 0h160v-160H620v160Z\"/>\n",
       "  </svg>\n",
       "    </button>\n",
       "\n",
       "  <style>\n",
       "    .colab-df-container {\n",
       "      display:flex;\n",
       "      gap: 12px;\n",
       "    }\n",
       "\n",
       "    .colab-df-convert {\n",
       "      background-color: #E8F0FE;\n",
       "      border: none;\n",
       "      border-radius: 50%;\n",
       "      cursor: pointer;\n",
       "      display: none;\n",
       "      fill: #1967D2;\n",
       "      height: 32px;\n",
       "      padding: 0 0 0 0;\n",
       "      width: 32px;\n",
       "    }\n",
       "\n",
       "    .colab-df-convert:hover {\n",
       "      background-color: #E2EBFA;\n",
       "      box-shadow: 0px 1px 2px rgba(60, 64, 67, 0.3), 0px 1px 3px 1px rgba(60, 64, 67, 0.15);\n",
       "      fill: #174EA6;\n",
       "    }\n",
       "\n",
       "    .colab-df-buttons div {\n",
       "      margin-bottom: 4px;\n",
       "    }\n",
       "\n",
       "    [theme=dark] .colab-df-convert {\n",
       "      background-color: #3B4455;\n",
       "      fill: #D2E3FC;\n",
       "    }\n",
       "\n",
       "    [theme=dark] .colab-df-convert:hover {\n",
       "      background-color: #434B5C;\n",
       "      box-shadow: 0px 1px 3px 1px rgba(0, 0, 0, 0.15);\n",
       "      filter: drop-shadow(0px 1px 2px rgba(0, 0, 0, 0.3));\n",
       "      fill: #FFFFFF;\n",
       "    }\n",
       "  </style>\n",
       "\n",
       "    <script>\n",
       "      const buttonEl =\n",
       "        document.querySelector('#df-d00e898c-b249-4e6b-91d7-d942eb7993c2 button.colab-df-convert');\n",
       "      buttonEl.style.display =\n",
       "        google.colab.kernel.accessAllowed ? 'block' : 'none';\n",
       "\n",
       "      async function convertToInteractive(key) {\n",
       "        const element = document.querySelector('#df-d00e898c-b249-4e6b-91d7-d942eb7993c2');\n",
       "        const dataTable =\n",
       "          await google.colab.kernel.invokeFunction('convertToInteractive',\n",
       "                                                    [key], {});\n",
       "        if (!dataTable) return;\n",
       "\n",
       "        const docLinkHtml = 'Like what you see? Visit the ' +\n",
       "          '<a target=\"_blank\" href=https://colab.research.google.com/notebooks/data_table.ipynb>data table notebook</a>'\n",
       "          + ' to learn more about interactive tables.';\n",
       "        element.innerHTML = '';\n",
       "        dataTable['output_type'] = 'display_data';\n",
       "        await google.colab.output.renderOutput(dataTable, element);\n",
       "        const docLink = document.createElement('div');\n",
       "        docLink.innerHTML = docLinkHtml;\n",
       "        element.appendChild(docLink);\n",
       "      }\n",
       "    </script>\n",
       "  </div>\n",
       "\n",
       "\n",
       "<div id=\"df-476f93d3-6183-4395-a0a7-f8ebefe6584f\">\n",
       "  <button class=\"colab-df-quickchart\" onclick=\"quickchart('df-476f93d3-6183-4395-a0a7-f8ebefe6584f')\"\n",
       "            title=\"Suggest charts\"\n",
       "            style=\"display:none;\">\n",
       "\n",
       "<svg xmlns=\"http://www.w3.org/2000/svg\" height=\"24px\"viewBox=\"0 0 24 24\"\n",
       "     width=\"24px\">\n",
       "    <g>\n",
       "        <path d=\"M19 3H5c-1.1 0-2 .9-2 2v14c0 1.1.9 2 2 2h14c1.1 0 2-.9 2-2V5c0-1.1-.9-2-2-2zM9 17H7v-7h2v7zm4 0h-2V7h2v10zm4 0h-2v-4h2v4z\"/>\n",
       "    </g>\n",
       "</svg>\n",
       "  </button>\n",
       "\n",
       "<style>\n",
       "  .colab-df-quickchart {\n",
       "      --bg-color: #E8F0FE;\n",
       "      --fill-color: #1967D2;\n",
       "      --hover-bg-color: #E2EBFA;\n",
       "      --hover-fill-color: #174EA6;\n",
       "      --disabled-fill-color: #AAA;\n",
       "      --disabled-bg-color: #DDD;\n",
       "  }\n",
       "\n",
       "  [theme=dark] .colab-df-quickchart {\n",
       "      --bg-color: #3B4455;\n",
       "      --fill-color: #D2E3FC;\n",
       "      --hover-bg-color: #434B5C;\n",
       "      --hover-fill-color: #FFFFFF;\n",
       "      --disabled-bg-color: #3B4455;\n",
       "      --disabled-fill-color: #666;\n",
       "  }\n",
       "\n",
       "  .colab-df-quickchart {\n",
       "    background-color: var(--bg-color);\n",
       "    border: none;\n",
       "    border-radius: 50%;\n",
       "    cursor: pointer;\n",
       "    display: none;\n",
       "    fill: var(--fill-color);\n",
       "    height: 32px;\n",
       "    padding: 0;\n",
       "    width: 32px;\n",
       "  }\n",
       "\n",
       "  .colab-df-quickchart:hover {\n",
       "    background-color: var(--hover-bg-color);\n",
       "    box-shadow: 0 1px 2px rgba(60, 64, 67, 0.3), 0 1px 3px 1px rgba(60, 64, 67, 0.15);\n",
       "    fill: var(--button-hover-fill-color);\n",
       "  }\n",
       "\n",
       "  .colab-df-quickchart-complete:disabled,\n",
       "  .colab-df-quickchart-complete:disabled:hover {\n",
       "    background-color: var(--disabled-bg-color);\n",
       "    fill: var(--disabled-fill-color);\n",
       "    box-shadow: none;\n",
       "  }\n",
       "\n",
       "  .colab-df-spinner {\n",
       "    border: 2px solid var(--fill-color);\n",
       "    border-color: transparent;\n",
       "    border-bottom-color: var(--fill-color);\n",
       "    animation:\n",
       "      spin 1s steps(1) infinite;\n",
       "  }\n",
       "\n",
       "  @keyframes spin {\n",
       "    0% {\n",
       "      border-color: transparent;\n",
       "      border-bottom-color: var(--fill-color);\n",
       "      border-left-color: var(--fill-color);\n",
       "    }\n",
       "    20% {\n",
       "      border-color: transparent;\n",
       "      border-left-color: var(--fill-color);\n",
       "      border-top-color: var(--fill-color);\n",
       "    }\n",
       "    30% {\n",
       "      border-color: transparent;\n",
       "      border-left-color: var(--fill-color);\n",
       "      border-top-color: var(--fill-color);\n",
       "      border-right-color: var(--fill-color);\n",
       "    }\n",
       "    40% {\n",
       "      border-color: transparent;\n",
       "      border-right-color: var(--fill-color);\n",
       "      border-top-color: var(--fill-color);\n",
       "    }\n",
       "    60% {\n",
       "      border-color: transparent;\n",
       "      border-right-color: var(--fill-color);\n",
       "    }\n",
       "    80% {\n",
       "      border-color: transparent;\n",
       "      border-right-color: var(--fill-color);\n",
       "      border-bottom-color: var(--fill-color);\n",
       "    }\n",
       "    90% {\n",
       "      border-color: transparent;\n",
       "      border-bottom-color: var(--fill-color);\n",
       "    }\n",
       "  }\n",
       "</style>\n",
       "\n",
       "  <script>\n",
       "    async function quickchart(key) {\n",
       "      const quickchartButtonEl =\n",
       "        document.querySelector('#' + key + ' button');\n",
       "      quickchartButtonEl.disabled = true;  // To prevent multiple clicks.\n",
       "      quickchartButtonEl.classList.add('colab-df-spinner');\n",
       "      try {\n",
       "        const charts = await google.colab.kernel.invokeFunction(\n",
       "            'suggestCharts', [key], {});\n",
       "      } catch (error) {\n",
       "        console.error('Error during call to suggestCharts:', error);\n",
       "      }\n",
       "      quickchartButtonEl.classList.remove('colab-df-spinner');\n",
       "      quickchartButtonEl.classList.add('colab-df-quickchart-complete');\n",
       "    }\n",
       "    (() => {\n",
       "      let quickchartButtonEl =\n",
       "        document.querySelector('#df-476f93d3-6183-4395-a0a7-f8ebefe6584f button');\n",
       "      quickchartButtonEl.style.display =\n",
       "        google.colab.kernel.accessAllowed ? 'block' : 'none';\n",
       "    })();\n",
       "  </script>\n",
       "</div>\n",
       "    </div>\n",
       "  </div>\n"
      ],
      "text/plain": [
       "   Lottery  Literacy  Wealth Region\n",
       "0       41        37      73      E\n",
       "1       38        51      22      N\n",
       "2       66        13      61      C\n",
       "3       80        46      76      E\n",
       "4       79        69      83      E"
      ]
     },
     "execution_count": 2,
     "metadata": {},
     "output_type": "execute_result"
    }
   ],
   "source": [
    "df = sm.datasets.get_rdataset(\"Guerry\", \"HistData\").data\n",
    "df = df[['Lottery', 'Literacy', 'Wealth', 'Region']].dropna()\n",
    "df.head()"
   ]
  },
  {
   "cell_type": "markdown",
   "id": "V6wcFvKcmaK7",
   "metadata": {
    "id": "V6wcFvKcmaK7"
   },
   "source": [
    "Итак, предположим, нам нужно обучить модель для таргета `Lottery` по признакам `Literacy`, `Wealth` и `Region` из датасета выше. Тогда синтаксис будет выглядеть таким образом:"
   ]
  },
  {
   "cell_type": "code",
   "execution_count": null,
   "id": "Ta7S8t7C3PVM",
   "metadata": {
    "id": "Ta7S8t7C3PVM"
   },
   "outputs": [],
   "source": [
    "model = smf.ols(formula='Lottery ~ Literacy + Wealth + Region', data=df)\n",
    "res = model.fit()"
   ]
  },
  {
   "cell_type": "markdown",
   "id": "jwqKlREm3EJV",
   "metadata": {
    "id": "jwqKlREm3EJV"
   },
   "source": [
    "Метод `fit` возвращает объект типа `statsmodels.regression.linear_model.RegressionResults`, который содержит различные характеристики модели:\n",
    "* в первой секции представлены различные характеристики самой модели\n",
    "  * параметры обучения,\n",
    "  * $R^2$\n",
    "  * Проверка гипотезы о значимости регрессии в целом\n",
    "  * логарифмическая функция правдоподобия\n",
    "  * информационные критерии\n",
    "* во второй секции &mdash; подробная информация о коэффициентов, включая анализ их стат. значимости:\n",
    "  * названия коэффициентов (совпадают с именами признаков, или `Intercept` для свободного коэффициента);\n",
    "  * оценки коэффициентов;\n",
    "  * стандартные ошибки &mdash; корень из оценки дисперсии оценки каждого из коэффициентов;\n",
    "  * t-статистика для проверки гипотезы о незначимости коэффициента;\n",
    "  * p-value критерия для проверки гипотезы о незначимости коэффициента (правило: если $\\text{p-value} \\leqslant \\alpha=0.05$, то гипотеза отвергается, иначе &mdash; не отвергается);\n",
    "  * левая и правая граница 95\\% доверительного интервала для коэффициента.\n",
    "* в третьей секции &mdash; анализ остатков модели\n",
    "  * критерии проверки несмещенности, нормальности\n",
    "\n",
    "*Подробнее:* https://www.statsmodels.org/dev/generated/statsmodels.regression.linear_model.RegressionResults.html\n",
    "\n",
    "Посмотрим на результат **в предположении гомоскедастичности**"
   ]
  },
  {
   "cell_type": "code",
   "execution_count": null,
   "id": "1BwoL53rmi9F",
   "metadata": {
    "colab": {
     "base_uri": "https://localhost:8080/"
    },
    "id": "1BwoL53rmi9F",
    "outputId": "a698c0b2-b83b-4d98-aad1-9a0a1eccac72"
   },
   "outputs": [
    {
     "name": "stdout",
     "output_type": "stream",
     "text": [
      "                            OLS Regression Results                            \n",
      "==============================================================================\n",
      "Dep. Variable:                Lottery   R-squared:                       0.338\n",
      "Model:                            OLS   Adj. R-squared:                  0.287\n",
      "Method:                 Least Squares   F-statistic:                     6.636\n",
      "Date:                Wed, 29 Nov 2023   Prob (F-statistic):           1.07e-05\n",
      "Time:                        10:26:46   Log-Likelihood:                -375.30\n",
      "No. Observations:                  85   AIC:                             764.6\n",
      "Df Residuals:                      78   BIC:                             781.7\n",
      "Df Model:                           6                                         \n",
      "Covariance Type:            nonrobust                                         \n",
      "===============================================================================\n",
      "                  coef    std err          t      P>|t|      [0.025      0.975]\n",
      "-------------------------------------------------------------------------------\n",
      "Intercept      38.6517      9.456      4.087      0.000      19.826      57.478\n",
      "Region[T.E]   -15.4278      9.727     -1.586      0.117     -34.793       3.938\n",
      "Region[T.N]   -10.0170      9.260     -1.082      0.283     -28.453       8.419\n",
      "Region[T.S]    -4.5483      7.279     -0.625      0.534     -19.039       9.943\n",
      "Region[T.W]   -10.0913      7.196     -1.402      0.165     -24.418       4.235\n",
      "Literacy       -0.1858      0.210     -0.886      0.378      -0.603       0.232\n",
      "Wealth          0.4515      0.103      4.390      0.000       0.247       0.656\n",
      "==============================================================================\n",
      "Omnibus:                        3.049   Durbin-Watson:                   1.785\n",
      "Prob(Omnibus):                  0.218   Jarque-Bera (JB):                2.694\n",
      "Skew:                          -0.340   Prob(JB):                        0.260\n",
      "Kurtosis:                       2.454   Cond. No.                         371.\n",
      "==============================================================================\n",
      "\n",
      "Notes:\n",
      "[1] Standard Errors assume that the covariance matrix of the errors is correctly specified.\n"
     ]
    }
   ],
   "source": [
    "print(res.summary())"
   ]
  },
  {
   "cell_type": "markdown",
   "id": "kWYdCe6KnwDL",
   "metadata": {
    "id": "kWYdCe6KnwDL"
   },
   "source": [
    "Заметим, что модель автоматически добавила свободный член (`Intercept`) и рассмотрела признак `Region` как категориальный, затем удалив одну из категорий (`С`). Так произошло, потому что значения были строками. При этом, если бы мы имели целочисленный призак и хотели бы рассмотреть его как категориальный, то заключили бы его в `C()` при передаче в формулу. То есть, чтобы специфически указать, что признак категориальный:\n"
   ]
  },
  {
   "cell_type": "code",
   "execution_count": null,
   "id": "_-xlddF6qfUG",
   "metadata": {
    "colab": {
     "base_uri": "https://localhost:8080/"
    },
    "id": "_-xlddF6qfUG",
    "outputId": "f768d8b5-8f33-4c0b-873c-46480700c92c"
   },
   "outputs": [
    {
     "name": "stdout",
     "output_type": "stream",
     "text": [
      "Intercept         38.651655\n",
      "C(Region)[T.E]   -15.427785\n",
      "C(Region)[T.N]   -10.016961\n",
      "C(Region)[T.S]    -4.548257\n",
      "C(Region)[T.W]   -10.091276\n",
      "Literacy          -0.185819\n",
      "Wealth             0.451475\n",
      "dtype: float64\n"
     ]
    }
   ],
   "source": [
    "model = smf.ols(formula='Lottery ~ Literacy + Wealth + C(Region)', data=df)\n",
    "res = model.fit()\n",
    "print(res.params)"
   ]
  },
  {
   "cell_type": "markdown",
   "id": "ffa211ba",
   "metadata": {
    "id": "ffa211ba"
   },
   "source": [
    "### 1. Использование признаков: хороший случай\n",
    "\n",
    "**Задача:** исследовать влияние отправки email с напоминанием о долге. Таргет &mdash; сумма платежей от клиентов, которые просрочили платеж.\n",
    "\n",
    "Выбраны 5000 случайных клиентов для проведения *рандомизированного эксперимента*. Каждый клиент получает электронное письмо случайно с вероятностью 0.5.\n",
    "\n",
    "Загрузим данные collections_email.csv из [репозитория](https://github.com/matheusfacure/python-causality-handbook/blob/master/causal-inference-for-the-brave-and-true/data/collections_email.csv)"
   ]
  },
  {
   "cell_type": "code",
   "execution_count": null,
   "id": "7cIYUSoQvZbG",
   "metadata": {
    "id": "7cIYUSoQvZbG"
   },
   "outputs": [],
   "source": [
    "DATA_PATH = \"/content/drive/MyDrive/colab_data/collections_email.csv\""
   ]
  },
  {
   "cell_type": "code",
   "execution_count": null,
   "id": "2913e255",
   "metadata": {
    "colab": {
     "base_uri": "https://localhost:8080/",
     "height": 206
    },
    "id": "2913e255",
    "outputId": "77d27429-3ecc-4660-92f0-bd8617bbbcac"
   },
   "outputs": [
    {
     "data": {
      "text/html": [
       "\n",
       "  <div id=\"df-5d3210c3-d6e2-43f0-8496-420347b032b5\" class=\"colab-df-container\">\n",
       "    <div>\n",
       "<style scoped>\n",
       "    .dataframe tbody tr th:only-of-type {\n",
       "        vertical-align: middle;\n",
       "    }\n",
       "\n",
       "    .dataframe tbody tr th {\n",
       "        vertical-align: top;\n",
       "    }\n",
       "\n",
       "    .dataframe thead th {\n",
       "        text-align: right;\n",
       "    }\n",
       "</style>\n",
       "<table border=\"1\" class=\"dataframe\">\n",
       "  <thead>\n",
       "    <tr style=\"text-align: right;\">\n",
       "      <th></th>\n",
       "      <th>payments</th>\n",
       "      <th>email</th>\n",
       "      <th>opened</th>\n",
       "      <th>agreement</th>\n",
       "      <th>credit_limit</th>\n",
       "      <th>risk_score</th>\n",
       "    </tr>\n",
       "  </thead>\n",
       "  <tbody>\n",
       "    <tr>\n",
       "      <th>0</th>\n",
       "      <td>740</td>\n",
       "      <td>1</td>\n",
       "      <td>1.0</td>\n",
       "      <td>0.0</td>\n",
       "      <td>2348.495260</td>\n",
       "      <td>0.666752</td>\n",
       "    </tr>\n",
       "    <tr>\n",
       "      <th>1</th>\n",
       "      <td>580</td>\n",
       "      <td>1</td>\n",
       "      <td>1.0</td>\n",
       "      <td>1.0</td>\n",
       "      <td>334.111969</td>\n",
       "      <td>0.207395</td>\n",
       "    </tr>\n",
       "    <tr>\n",
       "      <th>2</th>\n",
       "      <td>600</td>\n",
       "      <td>1</td>\n",
       "      <td>1.0</td>\n",
       "      <td>1.0</td>\n",
       "      <td>1360.660722</td>\n",
       "      <td>0.550479</td>\n",
       "    </tr>\n",
       "    <tr>\n",
       "      <th>3</th>\n",
       "      <td>770</td>\n",
       "      <td>0</td>\n",
       "      <td>0.0</td>\n",
       "      <td>0.0</td>\n",
       "      <td>1531.828576</td>\n",
       "      <td>0.560488</td>\n",
       "    </tr>\n",
       "    <tr>\n",
       "      <th>4</th>\n",
       "      <td>660</td>\n",
       "      <td>0</td>\n",
       "      <td>0.0</td>\n",
       "      <td>0.0</td>\n",
       "      <td>979.855647</td>\n",
       "      <td>0.455140</td>\n",
       "    </tr>\n",
       "  </tbody>\n",
       "</table>\n",
       "</div>\n",
       "    <div class=\"colab-df-buttons\">\n",
       "\n",
       "  <div class=\"colab-df-container\">\n",
       "    <button class=\"colab-df-convert\" onclick=\"convertToInteractive('df-5d3210c3-d6e2-43f0-8496-420347b032b5')\"\n",
       "            title=\"Convert this dataframe to an interactive table.\"\n",
       "            style=\"display:none;\">\n",
       "\n",
       "  <svg xmlns=\"http://www.w3.org/2000/svg\" height=\"24px\" viewBox=\"0 -960 960 960\">\n",
       "    <path d=\"M120-120v-720h720v720H120Zm60-500h600v-160H180v160Zm220 220h160v-160H400v160Zm0 220h160v-160H400v160ZM180-400h160v-160H180v160Zm440 0h160v-160H620v160ZM180-180h160v-160H180v160Zm440 0h160v-160H620v160Z\"/>\n",
       "  </svg>\n",
       "    </button>\n",
       "\n",
       "  <style>\n",
       "    .colab-df-container {\n",
       "      display:flex;\n",
       "      gap: 12px;\n",
       "    }\n",
       "\n",
       "    .colab-df-convert {\n",
       "      background-color: #E8F0FE;\n",
       "      border: none;\n",
       "      border-radius: 50%;\n",
       "      cursor: pointer;\n",
       "      display: none;\n",
       "      fill: #1967D2;\n",
       "      height: 32px;\n",
       "      padding: 0 0 0 0;\n",
       "      width: 32px;\n",
       "    }\n",
       "\n",
       "    .colab-df-convert:hover {\n",
       "      background-color: #E2EBFA;\n",
       "      box-shadow: 0px 1px 2px rgba(60, 64, 67, 0.3), 0px 1px 3px 1px rgba(60, 64, 67, 0.15);\n",
       "      fill: #174EA6;\n",
       "    }\n",
       "\n",
       "    .colab-df-buttons div {\n",
       "      margin-bottom: 4px;\n",
       "    }\n",
       "\n",
       "    [theme=dark] .colab-df-convert {\n",
       "      background-color: #3B4455;\n",
       "      fill: #D2E3FC;\n",
       "    }\n",
       "\n",
       "    [theme=dark] .colab-df-convert:hover {\n",
       "      background-color: #434B5C;\n",
       "      box-shadow: 0px 1px 3px 1px rgba(0, 0, 0, 0.15);\n",
       "      filter: drop-shadow(0px 1px 2px rgba(0, 0, 0, 0.3));\n",
       "      fill: #FFFFFF;\n",
       "    }\n",
       "  </style>\n",
       "\n",
       "    <script>\n",
       "      const buttonEl =\n",
       "        document.querySelector('#df-5d3210c3-d6e2-43f0-8496-420347b032b5 button.colab-df-convert');\n",
       "      buttonEl.style.display =\n",
       "        google.colab.kernel.accessAllowed ? 'block' : 'none';\n",
       "\n",
       "      async function convertToInteractive(key) {\n",
       "        const element = document.querySelector('#df-5d3210c3-d6e2-43f0-8496-420347b032b5');\n",
       "        const dataTable =\n",
       "          await google.colab.kernel.invokeFunction('convertToInteractive',\n",
       "                                                    [key], {});\n",
       "        if (!dataTable) return;\n",
       "\n",
       "        const docLinkHtml = 'Like what you see? Visit the ' +\n",
       "          '<a target=\"_blank\" href=https://colab.research.google.com/notebooks/data_table.ipynb>data table notebook</a>'\n",
       "          + ' to learn more about interactive tables.';\n",
       "        element.innerHTML = '';\n",
       "        dataTable['output_type'] = 'display_data';\n",
       "        await google.colab.output.renderOutput(dataTable, element);\n",
       "        const docLink = document.createElement('div');\n",
       "        docLink.innerHTML = docLinkHtml;\n",
       "        element.appendChild(docLink);\n",
       "      }\n",
       "    </script>\n",
       "  </div>\n",
       "\n",
       "\n",
       "<div id=\"df-0dcd2353-2a59-4667-93c0-cde1e509e28c\">\n",
       "  <button class=\"colab-df-quickchart\" onclick=\"quickchart('df-0dcd2353-2a59-4667-93c0-cde1e509e28c')\"\n",
       "            title=\"Suggest charts\"\n",
       "            style=\"display:none;\">\n",
       "\n",
       "<svg xmlns=\"http://www.w3.org/2000/svg\" height=\"24px\"viewBox=\"0 0 24 24\"\n",
       "     width=\"24px\">\n",
       "    <g>\n",
       "        <path d=\"M19 3H5c-1.1 0-2 .9-2 2v14c0 1.1.9 2 2 2h14c1.1 0 2-.9 2-2V5c0-1.1-.9-2-2-2zM9 17H7v-7h2v7zm4 0h-2V7h2v10zm4 0h-2v-4h2v4z\"/>\n",
       "    </g>\n",
       "</svg>\n",
       "  </button>\n",
       "\n",
       "<style>\n",
       "  .colab-df-quickchart {\n",
       "      --bg-color: #E8F0FE;\n",
       "      --fill-color: #1967D2;\n",
       "      --hover-bg-color: #E2EBFA;\n",
       "      --hover-fill-color: #174EA6;\n",
       "      --disabled-fill-color: #AAA;\n",
       "      --disabled-bg-color: #DDD;\n",
       "  }\n",
       "\n",
       "  [theme=dark] .colab-df-quickchart {\n",
       "      --bg-color: #3B4455;\n",
       "      --fill-color: #D2E3FC;\n",
       "      --hover-bg-color: #434B5C;\n",
       "      --hover-fill-color: #FFFFFF;\n",
       "      --disabled-bg-color: #3B4455;\n",
       "      --disabled-fill-color: #666;\n",
       "  }\n",
       "\n",
       "  .colab-df-quickchart {\n",
       "    background-color: var(--bg-color);\n",
       "    border: none;\n",
       "    border-radius: 50%;\n",
       "    cursor: pointer;\n",
       "    display: none;\n",
       "    fill: var(--fill-color);\n",
       "    height: 32px;\n",
       "    padding: 0;\n",
       "    width: 32px;\n",
       "  }\n",
       "\n",
       "  .colab-df-quickchart:hover {\n",
       "    background-color: var(--hover-bg-color);\n",
       "    box-shadow: 0 1px 2px rgba(60, 64, 67, 0.3), 0 1px 3px 1px rgba(60, 64, 67, 0.15);\n",
       "    fill: var(--button-hover-fill-color);\n",
       "  }\n",
       "\n",
       "  .colab-df-quickchart-complete:disabled,\n",
       "  .colab-df-quickchart-complete:disabled:hover {\n",
       "    background-color: var(--disabled-bg-color);\n",
       "    fill: var(--disabled-fill-color);\n",
       "    box-shadow: none;\n",
       "  }\n",
       "\n",
       "  .colab-df-spinner {\n",
       "    border: 2px solid var(--fill-color);\n",
       "    border-color: transparent;\n",
       "    border-bottom-color: var(--fill-color);\n",
       "    animation:\n",
       "      spin 1s steps(1) infinite;\n",
       "  }\n",
       "\n",
       "  @keyframes spin {\n",
       "    0% {\n",
       "      border-color: transparent;\n",
       "      border-bottom-color: var(--fill-color);\n",
       "      border-left-color: var(--fill-color);\n",
       "    }\n",
       "    20% {\n",
       "      border-color: transparent;\n",
       "      border-left-color: var(--fill-color);\n",
       "      border-top-color: var(--fill-color);\n",
       "    }\n",
       "    30% {\n",
       "      border-color: transparent;\n",
       "      border-left-color: var(--fill-color);\n",
       "      border-top-color: var(--fill-color);\n",
       "      border-right-color: var(--fill-color);\n",
       "    }\n",
       "    40% {\n",
       "      border-color: transparent;\n",
       "      border-right-color: var(--fill-color);\n",
       "      border-top-color: var(--fill-color);\n",
       "    }\n",
       "    60% {\n",
       "      border-color: transparent;\n",
       "      border-right-color: var(--fill-color);\n",
       "    }\n",
       "    80% {\n",
       "      border-color: transparent;\n",
       "      border-right-color: var(--fill-color);\n",
       "      border-bottom-color: var(--fill-color);\n",
       "    }\n",
       "    90% {\n",
       "      border-color: transparent;\n",
       "      border-bottom-color: var(--fill-color);\n",
       "    }\n",
       "  }\n",
       "</style>\n",
       "\n",
       "  <script>\n",
       "    async function quickchart(key) {\n",
       "      const quickchartButtonEl =\n",
       "        document.querySelector('#' + key + ' button');\n",
       "      quickchartButtonEl.disabled = true;  // To prevent multiple clicks.\n",
       "      quickchartButtonEl.classList.add('colab-df-spinner');\n",
       "      try {\n",
       "        const charts = await google.colab.kernel.invokeFunction(\n",
       "            'suggestCharts', [key], {});\n",
       "      } catch (error) {\n",
       "        console.error('Error during call to suggestCharts:', error);\n",
       "      }\n",
       "      quickchartButtonEl.classList.remove('colab-df-spinner');\n",
       "      quickchartButtonEl.classList.add('colab-df-quickchart-complete');\n",
       "    }\n",
       "    (() => {\n",
       "      let quickchartButtonEl =\n",
       "        document.querySelector('#df-0dcd2353-2a59-4667-93c0-cde1e509e28c button');\n",
       "      quickchartButtonEl.style.display =\n",
       "        google.colab.kernel.accessAllowed ? 'block' : 'none';\n",
       "    })();\n",
       "  </script>\n",
       "</div>\n",
       "    </div>\n",
       "  </div>\n"
      ],
      "text/plain": [
       "   payments  email  opened  agreement  credit_limit  risk_score\n",
       "0       740      1     1.0        0.0   2348.495260    0.666752\n",
       "1       580      1     1.0        1.0    334.111969    0.207395\n",
       "2       600      1     1.0        1.0   1360.660722    0.550479\n",
       "3       770      0     0.0        0.0   1531.828576    0.560488\n",
       "4       660      0     0.0        0.0    979.855647    0.455140"
      ]
     },
     "execution_count": 12,
     "metadata": {},
     "output_type": "execute_result"
    }
   ],
   "source": [
    "data = pd.read_csv(DATA_PATH)\n",
    "data.head()"
   ]
  },
  {
   "cell_type": "markdown",
   "id": "91feb905",
   "metadata": {
    "id": "91feb905"
   },
   "source": [
    "Поскольку данные рандомизированы, простая разность средних оценивает ATE.\n",
    "Иначе говоря, ничто не может быть причиной тритмента, кроме рандомизации, поэтому потенциальные исходы не зависят от лечения:  $C_0, C_1 \\indep T$"
   ]
  },
  {
   "cell_type": "code",
   "execution_count": null,
   "id": "f9f47716",
   "metadata": {
    "id": "f9f47716"
   },
   "outputs": [],
   "source": [
    "data.query(\"email==1\")[\"payments\"].mean() - data.query(\"email==0\")[\"payments\"].mean()"
   ]
  },
  {
   "cell_type": "markdown",
   "id": "d5140d8e",
   "metadata": {
    "id": "d5140d8e"
   },
   "source": [
    "Проведите АВ-тесты, чтобы оценить различие между группами (`email`) по таргету (`payments`), двумя способами: с помощью модели OLS и с помощью `ttest_ind`. Сравните результаты и сделайте выводы."
   ]
  },
  {
   "cell_type": "code",
   "execution_count": null,
   "id": "8yxzcEmMsguv",
   "metadata": {
    "id": "8yxzcEmMsguv"
   },
   "outputs": [],
   "source": [
    "<...>"
   ]
  },
  {
   "cell_type": "code",
   "execution_count": null,
   "id": "13bd208a",
   "metadata": {
    "id": "13bd208a"
   },
   "outputs": [],
   "source": [
    "model = <...>\n",
    "print(model.summary().tables[1])"
   ]
  },
  {
   "cell_type": "markdown",
   "id": "JR8Y3jniwcDV",
   "metadata": {
    "id": "JR8Y3jniwcDV"
   },
   "source": [
    "**Вывод:**"
   ]
  },
  {
   "cell_type": "markdown",
   "id": "facc43e2",
   "metadata": {
    "id": "facc43e2"
   },
   "source": [
    "Что делать? Вернуться к заказчику, поджав хвост, и сказать, что эксперимент безрезультатен и нужно больше данных?\n",
    "\n",
    "Но посмотрим на другие признаки\n",
    "\n",
    "* `credit_limit` &mdash; кредитный лимит клиента до того, как он просрочил платеж;\n",
    "* `risk_score` &mdash; предполагаемый риск для клиента до момента отправки email.\n"
   ]
  },
  {
   "cell_type": "markdown",
   "id": "7a16b32d",
   "metadata": {
    "id": "7a16b32d"
   },
   "source": [
    "Добавьте их в качестве признаков и обучите модель\n"
   ]
  },
  {
   "cell_type": "code",
   "execution_count": null,
   "id": "639af8f4",
   "metadata": {
    "id": "639af8f4"
   },
   "outputs": [],
   "source": [
    "model_2 = <...>\n",
    "print(model_2.summary().tables[1])"
   ]
  },
  {
   "cell_type": "markdown",
   "id": "_oygj1Tk5qI0",
   "metadata": {
    "id": "_oygj1Tk5qI0"
   },
   "source": [
    "Заметим, что можно извлечь результаты отдельных тестов, например, проверку гипотезы о незначимости коэффициента перед признаком `email`"
   ]
  },
  {
   "cell_type": "code",
   "execution_count": null,
   "id": "KvVpWT2r6Ch1",
   "metadata": {
    "id": "KvVpWT2r6Ch1"
   },
   "outputs": [],
   "source": [
    "result = model_2.t_test('email = 0')\n",
    "result"
   ]
  },
  {
   "cell_type": "markdown",
   "id": "8ca9bb4e",
   "metadata": {
    "id": "8ca9bb4e"
   },
   "source": [
    "Рассмотренные признаки могут объяснить разброс значений таргета, снизив тем самым его дисперсию. Кроме того, они не влияют на принадлежность к группе, тем самым не могут внести смещение.\n",
    "\n",
    "Итог: **любые признаки, которые влияют на таргет, не влияя при этом на тритмент, можно использовать в модели**. Они называются **ковариатами**. Это помогает снизить дисперсию."
   ]
  },
  {
   "cell_type": "markdown",
   "id": "49ebc570",
   "metadata": {
    "id": "49ebc570"
   },
   "source": [
    "### 2. Использование признаков: нежелательный случай"
   ]
  },
  {
   "cell_type": "markdown",
   "id": "cc4f3b05",
   "metadata": {
    "id": "cc4f3b05"
   },
   "source": [
    "Загрузим данные hospital_treatment.csv из [репозитория](https://github.com/matheusfacure/python-causality-handbook/blob/master/causal-inference-for-the-brave-and-true/data/hospital_treatment.csv).\n",
    "\n",
    "Две больницы проводят рандомизированное испытание нового препарата для лечения некоторой болезни. Таргет &mdash; количество дней госпитализации, хотим сократить эту величину. В одной больнице его назначают 90% пациентам, соответственно 10% пациентов получают плацебо. В другой больнице дают препарат случайным 10% своих пациентам, соответственно 90% получают плацебо. Причем известно, что первая больница обычно получает более тяжелые случаи заболевания."
   ]
  },
  {
   "cell_type": "code",
   "execution_count": null,
   "id": "zrvY5u5BYnyM",
   "metadata": {
    "id": "zrvY5u5BYnyM"
   },
   "outputs": [],
   "source": [
    "DATA_PATH = \"/content/drive/MyDrive/colab_data/hospital_treatment.csv\""
   ]
  },
  {
   "cell_type": "code",
   "execution_count": null,
   "id": "42a10a1e",
   "metadata": {
    "id": "42a10a1e",
    "outputId": "ba8fcd4b-554c-4513-a7fa-f714ee0b3931"
   },
   "outputs": [
    {
     "data": {
      "text/html": [
       "<div>\n",
       "<style scoped>\n",
       "    .dataframe tbody tr th:only-of-type {\n",
       "        vertical-align: middle;\n",
       "    }\n",
       "\n",
       "    .dataframe tbody tr th {\n",
       "        vertical-align: top;\n",
       "    }\n",
       "\n",
       "    .dataframe thead th {\n",
       "        text-align: right;\n",
       "    }\n",
       "</style>\n",
       "<table border=\"1\" class=\"dataframe\">\n",
       "  <thead>\n",
       "    <tr style=\"text-align: right;\">\n",
       "      <th></th>\n",
       "      <th>hospital</th>\n",
       "      <th>treatment</th>\n",
       "      <th>severity</th>\n",
       "      <th>days</th>\n",
       "    </tr>\n",
       "  </thead>\n",
       "  <tbody>\n",
       "    <tr>\n",
       "      <th>0</th>\n",
       "      <td>1</td>\n",
       "      <td>1</td>\n",
       "      <td>29.686618</td>\n",
       "      <td>82</td>\n",
       "    </tr>\n",
       "    <tr>\n",
       "      <th>1</th>\n",
       "      <td>1</td>\n",
       "      <td>1</td>\n",
       "      <td>20.050340</td>\n",
       "      <td>57</td>\n",
       "    </tr>\n",
       "    <tr>\n",
       "      <th>2</th>\n",
       "      <td>1</td>\n",
       "      <td>1</td>\n",
       "      <td>20.302399</td>\n",
       "      <td>49</td>\n",
       "    </tr>\n",
       "    <tr>\n",
       "      <th>3</th>\n",
       "      <td>0</td>\n",
       "      <td>0</td>\n",
       "      <td>10.603118</td>\n",
       "      <td>44</td>\n",
       "    </tr>\n",
       "    <tr>\n",
       "      <th>4</th>\n",
       "      <td>0</td>\n",
       "      <td>0</td>\n",
       "      <td>8.332793</td>\n",
       "      <td>15</td>\n",
       "    </tr>\n",
       "  </tbody>\n",
       "</table>\n",
       "</div>"
      ],
      "text/plain": [
       "   hospital  treatment   severity  days\n",
       "0         1          1  29.686618    82\n",
       "1         1          1  20.050340    57\n",
       "2         1          1  20.302399    49\n",
       "3         0          0  10.603118    44\n",
       "4         0          0   8.332793    15"
      ]
     },
     "execution_count": 7,
     "metadata": {},
     "output_type": "execute_result"
    }
   ],
   "source": [
    "hospital = pd.read_csv(DATA_PATH)\n",
    "hospital.head()"
   ]
  },
  {
   "cell_type": "markdown",
   "id": "012ea07f",
   "metadata": {
    "id": "012ea07f"
   },
   "source": [
    "Так как исследование не рандомизированное, то по общим данным смотреть нельзя"
   ]
  },
  {
   "cell_type": "code",
   "execution_count": null,
   "id": "f3f9d5cd",
   "metadata": {
    "id": "f3f9d5cd"
   },
   "outputs": [],
   "source": [
    "hosp_1 = <...>\n",
    "hosp_1.summary().tables[1]"
   ]
  },
  {
   "cell_type": "markdown",
   "id": "q1dSW52GXN4x",
   "metadata": {
    "id": "q1dSW52GXN4x"
   },
   "source": [
    "Но можно посмотреть отдельно по каждой больнице (`hospital`)"
   ]
  },
  {
   "cell_type": "code",
   "execution_count": null,
   "id": "c8bafe5c",
   "metadata": {
    "id": "c8bafe5c"
   },
   "outputs": [],
   "source": [
    "hosp_2 = <...>\n",
    "hosp_2.summary().tables[1]"
   ]
  },
  {
   "cell_type": "code",
   "execution_count": null,
   "id": "b7fb0bfa",
   "metadata": {
    "id": "b7fb0bfa"
   },
   "outputs": [],
   "source": [
    "hosp_3 = <...>\n",
    "hosp_3.summary().tables[1]"
   ]
  },
  {
   "cell_type": "markdown",
   "id": "63ab07e1",
   "metadata": {
    "id": "63ab07e1"
   },
   "source": [
    "Поскольку мы рассматриваем каждую больницу отдельно, данных недостаточно, и результаты не являются стат. значимыми.\n",
    "\n",
    "Но мы знаем, что на результат влияет степень тяжести заболевания, и можем включить ее в модель. Такой признак называется **конфаундером (confounder)**, он влечет как тритмент, так и таргет."
   ]
  },
  {
   "cell_type": "code",
   "execution_count": null,
   "id": "c6a36d2d",
   "metadata": {
    "id": "c6a36d2d"
   },
   "outputs": [],
   "source": [
    "hosp_4 = <...>\n",
    "hosp_4.summary().tables[1]"
   ]
  },
  {
   "cell_type": "markdown",
   "id": "86fa5163",
   "metadata": {
    "id": "86fa5163"
   },
   "source": [
    "Нужно ли включить больницу в модель? Мы же знаем, что лечение назначается в больницах, и, кажется это будет дополнительной информацией.\n",
    "\n",
    "Однако, при фиксировании степени тяжести и тритмента, больница не коррелирует таргетом. Она влечет только тритмент, поэтому не является конфаундером. Для снижения дисперсии, этот признак должен быть хорошей ковариатой таргета, а не тритмента.\n",
    "\n",
    "Если мы попробуем его использовать, мы повысим дисперсию"
   ]
  },
  {
   "cell_type": "code",
   "execution_count": null,
   "id": "368145e8",
   "metadata": {
    "id": "368145e8"
   },
   "outputs": [],
   "source": [
    "hosp_5 = <...>\n",
    "hosp_5.summary().tables[1]"
   ]
  },
  {
   "cell_type": "markdown",
   "id": "LGfNm7XE8X3L",
   "metadata": {
    "id": "LGfNm7XE8X3L"
   },
   "source": [
    "**Выводы:**"
   ]
  },
  {
   "cell_type": "markdown",
   "id": "2684d90e",
   "metadata": {
    "id": "2684d90e"
   },
   "source": [
    "Итог:\n",
    "* Необходимо добавлять в модель **переменные-ковариаты**, которые влекут таргет.\n",
    "* Необходимо добавлять в модель **переменные-конфаундеры**, которые влекут как тритмент, так и таргет.\n",
    "* Не следует добавлять в модель переменные, которые могут только спрогнозировать тритмент."
   ]
  },
  {
   "cell_type": "markdown",
   "id": "3b18b5be",
   "metadata": {
    "id": "3b18b5be"
   },
   "source": [
    "### 3. Использование признаков: плохой случай, возникновение смещения"
   ]
  },
  {
   "cell_type": "markdown",
   "id": "NDjXs2eyCgVz",
   "metadata": {
    "id": "NDjXs2eyCgVz"
   },
   "source": [
    "Вернемся к примеру с письмами. Рассмотрим два дополнительных признака, которые есть в наших данных:\n",
    "* `opened` &mdash; открыл ли клиент письмо или нет,\n",
    "* `agreement` &mdash; клиент связался для обсуждения своего долга после получения письма.\n",
    "\n",
    "Какая из следующих моделей лучше? Только с `email + credit_limit + risk_score` или с еще двумя признаками?"
   ]
  },
  {
   "cell_type": "code",
   "execution_count": null,
   "id": "ac83fcc7",
   "metadata": {
    "id": "ac83fcc7"
   },
   "outputs": [],
   "source": [
    "email_1 = <...>\n",
    "email_1.summary().tables[1]"
   ]
  },
  {
   "cell_type": "code",
   "execution_count": null,
   "id": "02c64f43",
   "metadata": {
    "id": "02c64f43"
   },
   "outputs": [],
   "source": [
    "email_2 = <...>\n",
    "email_2.summary().tables[1]"
   ]
  },
  {
   "cell_type": "markdown",
   "id": "4069368a",
   "metadata": {
    "id": "4069368a"
   },
   "source": [
    "Первая модель находит статистически значимые результаты для коэффициента `email`, вторая &mdash; нет. Кажется, раз первая модель смогла найти разницу, то она круче. Но ведь во второй модели мы учли дополнительные факторы, и, может быть, она на самом деле правильная, и тритмент никак не влияет на результат?\n",
    "\n",
    "---\n",
    "\n",
    "К какому из трех типов признаков относятся `opened` и `agreement`?"
   ]
  },
  {
   "cell_type": "markdown",
   "id": "auLCHcwu9V8n",
   "metadata": {
    "id": "auLCHcwu9V8n"
   },
   "source": [
    "**Ответ:**"
   ]
  },
  {
   "cell_type": "markdown",
   "id": "n5tBH6DT9lw9",
   "metadata": {
    "id": "n5tBH6DT9lw9"
   },
   "source": [
    "*Примечание.* Заметим, что `email` может влиять на таргет не только через opened, но и напрямую. Например, клиент увидел письмо, и погасил свой долг, не открывая само письмо."
   ]
  },
  {
   "cell_type": "markdown",
   "id": "9a7b578c",
   "metadata": {
    "id": "9a7b578c"
   },
   "source": [
    "Проблема заключается в том, что теперь помимо основного пути `email -> payment` у нас еще есть дополнительный путь `email -> opened -> agreement -> payment`. Тем самым часть истинного эффекта влияния тритмента на таргет перетекла на дополнительный путь, который не учтен в коэффициенте линейной регрессии перед `email`. Ведь есть еще и `opened=1`, то вклад в эффект является уже суммой двух коэффициентов линейной регрессии."
   ]
  },
  {
   "cell_type": "markdown",
   "id": "db12007b",
   "metadata": {
    "id": "db12007b"
   },
   "source": [
    "### 4. Замечание: Bad COP"
   ]
  },
  {
   "cell_type": "markdown",
   "id": "276def1f",
   "metadata": {
    "id": "276def1f"
   },
   "source": [
    "Пусть есть следующий признак"
   ]
  },
  {
   "cell_type": "code",
   "execution_count": null,
   "id": "071cd192",
   "metadata": {
    "id": "071cd192",
    "outputId": "048dbd67-fa72-47b3-eeea-c57958c9ba10"
   },
   "outputs": [
    {
     "data": {
      "image/png": "[encoded data removed]",
      "text/plain": [
       "<Figure size 600x400 with 1 Axes>"
      ]
     },
     "metadata": {},
     "output_type": "display_data"
    }
   ],
   "source": [
    "plt.figure(figsize=(6, 4))\n",
    "plt.hist(np.concatenate([\n",
    "    np.random.gamma(5, 50, 1000),\n",
    "    np.zeros(700)\n",
    "]),  bins = 20)\n",
    "plt.xlabel(\"Траты пользователей\")\n",
    "plt.ylabel(\"Количество случаев\")\n",
    "plt.show()"
   ]
  },
  {
   "cell_type": "markdown",
   "id": "e2810682",
   "metadata": {
    "id": "e2810682"
   },
   "source": [
    "Кажется, что можно произвести моделирование в 2 этапа:\n",
    "* Первая часть &mdash; предсказание, потратит ли клиент деньги.\n",
    "* Вторая часть &mdash; предсказание того, сколько конкретно клиент потратит денег, если он вообще потратит.\n",
    "\n",
    "Вторая часть называется *эффектом обусловленности положительными результатами* (**Conditional-on-Positives effect, COP**). В нашем случае это то, сколько тратит клиент после того, как он решил потратиться.\n",
    "\n",
    "Они соеденены следующим утверждением\n",
    "\n",
    "$$\\mathsf{E}(Y|T) = \\mathsf{E}(Y|Y>0, T)\\ \\mathsf{P}(Y>0|T).$$\n",
    "\n",
    "\n",
    "Проблема в том, что вторая часть COP является предвзятой даже при рандомизированном эксперименте. Например, по следующим соображениям.\n",
    "* Некоторые потратившиеся потратились только потому что на них оказал воздействие тритмент. Если бы его не было, они бы не стали тратиться.\n",
    "* Но некоторые тратятся всегда независимо от тритмента. Точнее, тритмент может побудить их тратить больше, но и без него они тратятся.\n",
    "\n",
    "Ключевой момент &mdash; эти два типа клиентов несопоставимы. Для первых потенциальных исход $C_0=0$, для вторых $C_0>0$. При удалении нулей мы тем самым уберем из контрольной выборки тех клиентов, которые при воздействии тритмента перестали бы быть нулями."
   ]
  },
  {
   "cell_type": "markdown",
   "id": "c10ec009",
   "metadata": {
    "id": "c10ec009"
   },
   "source": [
    "Посмотрим на проблему с математической точки зрения. При случайном назначении тритмента эффект равен разнице средних\n",
    "\n",
    "$$\\begin{split}\n",
    "\\begin{align*}\n",
    "&\\mathsf{E}(Y|T=1) - \\mathsf{E}(Y|T=0)\\\\\n",
    "&=\\mathsf{E}(Y|Y>0, T=1)\\mathsf{P}(Y>0|T=1) - \\mathsf{E}(Y|Y>0, T=0)\\mathsf{P}(Y>0|T=0)\\\\\n",
    "&=\\underbrace{\\bigg[\\mathsf{P}(Y>0|T=1) - \\mathsf{P}(Y>0|T=0)\\bigg]}_{Participation \\ Effect} \\cdot \\mathsf{E}(Y|Y>0, T=1)\\\\\n",
    "&+\\underbrace{\\bigg[\\mathsf{E}(Y|Y>0, T=1) - \\mathsf{E}(Y|Y>0, T=0)\\bigg]}_{COP \\ Effect} \\cdot \\mathsf{P}(Y>0|T=0).\n",
    "\\end{align*}\n",
    "\\end{split}$$\n",
    "\n",
    "То есть разница средних состоит из двух частей:\n",
    "* разность вероятностей того, что таргет является положительным между группами, это называется *эффектом участия*,\n",
    "* разность таргетов между группами среди потратившихся, *эффект COP*.\n",
    "\n",
    "Пока все хорошо, это математическое тождество. Проблема возникает, когда мы пытаемся оценить каждую часть по отдельности. Посмотрим внимательнее на эффект COP.\n",
    "$$\n",
    "\\mathsf{E}(Y|Y>0, T=1) - \\mathsf{E}(Y|Y>0, T=0)=\\\\=\\mathsf{E}(С_{1}|С_{1}>0)-\\mathsf{E}(С_{0}|С_{0}>0) \\\\\n",
    "=\\underbrace{\\mathsf{E}(С_{1} - С_{0}|С_{1}>0)}_{Causal \\ Effect} + \\underbrace{\\bigg[ \\mathsf{E}(С_{0}|С_{1}>0) - \\mathsf{E}(С_{0}|С_{0}>0) \\bigg]}_{Selection \\ Bias}.\n",
    "$$\n",
    "\n",
    "Здесь мы получаем\n",
    "* причинно-следственный эффект для тех, кто решил что-то потратить.\n",
    "* смещение между теми, кто решил принять участие, когда назначен тритмент и теми, которые участвуют даже без тритмента.\n",
    "\n",
    "При оценке COP-составляющей мы исключаем тех клиентов, которые потратились бы при воздействии тритмента, но им не был назначен тритмент. Иначе говоря, мы исключаем $\\{С_{0}=0,С_{1}>0, T=0\\}$, тем самым неправильно оценивая группу $C_0=0$, внося несопоставимость между клиентам, уменьшая тем самым правильное смещение."
   ]
  },
  {
   "cell_type": "markdown",
   "id": "6e94b658",
   "metadata": {
    "id": "6e94b658"
   },
   "source": [
    "\n",
    "**Итог: нельзя контролировать признаки, которые либо находятся между тритментом и таргетом, либо являются общим эффектом тритмента и таргета.**"
   ]
  },
  {
   "cell_type": "code",
   "execution_count": null,
   "id": "38c947ec",
   "metadata": {
    "ExecuteTime": {
     "end_time": "2022-11-22T15:08:12.364107Z",
     "start_time": "2022-11-22T15:08:11.470227Z"
    },
    "id": "38c947ec"
   },
   "outputs": [],
   "source": []
  },
  {
   "cell_type": "markdown",
   "id": "d82de01a",
   "metadata": {
    "id": "d82de01a"
   },
   "source": [
    "## Статистические свойства линейной регрессии\n",
    "\n",
    "Загрузим датасет с данными по стоимости квартир в Москве (<a href=\"https://raw.githubusercontent.com/bdemeshev/em301/master/datasets/flats_moscow.txt\">источник</a>)."
   ]
  },
  {
   "cell_type": "code",
   "execution_count": null,
   "id": "46d1d496",
   "metadata": {
    "ExecuteTime": {
     "end_time": "2022-11-22T15:08:12.381685Z",
     "start_time": "2022-11-22T15:08:12.365772Z"
    },
    "id": "46d1d496"
   },
   "outputs": [],
   "source": [
    "flats = pd.read_csv(\"moscow.txt\", sep='\\t')\n",
    "flats.head()"
   ]
  },
  {
   "cell_type": "markdown",
   "id": "b94cdabc",
   "metadata": {
    "id": "b94cdabc"
   },
   "source": [
    "Будем рассматривать зависимость цены квартиры от ее площади."
   ]
  },
  {
   "cell_type": "code",
   "execution_count": null,
   "id": "19200618",
   "metadata": {
    "ExecuteTime": {
     "end_time": "2022-11-22T15:08:12.578657Z",
     "start_time": "2022-11-22T15:08:12.383366Z"
    },
    "id": "19200618"
   },
   "outputs": [],
   "source": [
    "plt.figure(figsize=(12, 6))\n",
    "plt.scatter(flats['totsp'], flats['price'], alpha=0.4)\n",
    "plt.title('Стоимость квартир в Москве')\n",
    "plt.xlabel('Общая площадь квартиры, кв.м')\n",
    "plt.ylabel('Цена квартиры, $1000');"
   ]
  },
  {
   "cell_type": "markdown",
   "id": "l_Gek1vY8arv",
   "metadata": {
    "id": "l_Gek1vY8arv"
   },
   "source": [
    "По графику явно видна гетероскедастичность.\n",
    "\n",
    "*Примечание. Строго говоря, такой проверки недостаточно, стоит проверять зависимость остатков, а не таргета. Если хотя бы по одному признаку видна разная дисперсия остатков, то имеет смысл говорить о гетероскедастичности.*"
   ]
  },
  {
   "cell_type": "markdown",
   "id": "6e89e6a4",
   "metadata": {
    "id": "6e89e6a4"
   },
   "source": [
    "### 1. Обучение простой линейной модели\n",
    "\n",
    "Сначала обучим линейную регрессию предсказания стоимости квартиры по ее площади."
   ]
  },
  {
   "cell_type": "code",
   "execution_count": null,
   "id": "b395bd6a",
   "metadata": {
    "ExecuteTime": {
     "end_time": "2022-11-22T15:08:12.593585Z",
     "start_time": "2022-11-22T15:08:12.580390Z"
    },
    "id": "b395bd6a"
   },
   "outputs": [],
   "source": []
  },
  {
   "cell_type": "markdown",
   "id": "604ed614",
   "metadata": {
    "id": "604ed614"
   },
   "source": [
    "Посмотрим на результаты модели, полученные **в предположении гомоскедастичности**."
   ]
  },
  {
   "cell_type": "code",
   "execution_count": null,
   "id": "5527a375",
   "metadata": {
    "ExecuteTime": {
     "end_time": "2022-11-22T15:08:12.605748Z",
     "start_time": "2022-11-22T15:08:12.595106Z"
    },
    "id": "5527a375"
   },
   "outputs": [],
   "source": []
  },
  {
   "cell_type": "markdown",
   "id": "69de10ab",
   "metadata": {
    "id": "69de10ab"
   },
   "source": [
    "Можно извлечь результаты отдельных тестов, например, проверка гипотезы о незначимости коэффициента перед признаком `totsp`."
   ]
  },
  {
   "cell_type": "code",
   "execution_count": null,
   "id": "ba76cdcd",
   "metadata": {
    "ExecuteTime": {
     "end_time": "2022-11-22T15:08:12.620849Z",
     "start_time": "2022-11-22T15:08:12.612010Z"
    },
    "id": "ba76cdcd"
   },
   "outputs": [],
   "source": []
  },
  {
   "cell_type": "markdown",
   "id": "ed44e07c",
   "metadata": {
    "id": "ed44e07c"
   },
   "source": [
    "Посмотрим на ковариационную матрицу вектора $\\widehat{\\theta}$ **в условиях гомоскедастичности**, что в данном случае не выполнено. Её можно получить с помощью метода `cov_params`."
   ]
  },
  {
   "cell_type": "code",
   "execution_count": null,
   "id": "d80403ef",
   "metadata": {
    "ExecuteTime": {
     "end_time": "2022-11-22T15:08:12.662748Z",
     "start_time": "2022-11-22T15:08:12.649592Z"
    },
    "id": "d80403ef"
   },
   "outputs": [],
   "source": []
  },
  {
   "cell_type": "markdown",
   "id": "5de8f52f",
   "metadata": {
    "id": "5de8f52f"
   },
   "source": [
    "У нас явная гетероскедастичность, проверим это критериями."
   ]
  },
  {
   "cell_type": "markdown",
   "id": "34bda7bc",
   "metadata": {
    "id": "34bda7bc"
   },
   "source": [
    "### 2. Проверка на гетероскедастичность\n",
    "\n",
    "*При наличии подозрений на гетероскедастичность рекомендуется сразу использовать устойчивые оценки дисперсии (см. далее), не применяя проверку на гетероскедастичность стат. критериями. Данные критерии также имеют свои ошибки, и последовательное применение нескольких критериев может суммировать вероятности ошибок.*\n",
    "\n",
    "$\\mathsf{H}_0: \\gamma_2 = \\gamma_3 = ... = \\gamma_p ⇔ σ_1^2 = ... = σ_n^2 \\Leftrightarrow \\,{\\large остатки \\,\\, гомоскедатичны}$\n",
    "\n",
    "$\\mathsf{H}_1: \\mathsf{H}_0 \\,\\,{\\large неверна}$\n",
    "\n",
    "**Критерий Бройша-Пагана**"
   ]
  },
  {
   "cell_type": "code",
   "execution_count": null,
   "id": "b9b48b16",
   "metadata": {
    "ExecuteTime": {
     "end_time": "2022-11-22T15:08:12.681609Z",
     "start_time": "2022-11-22T15:08:12.664381Z"
    },
    "id": "b9b48b16"
   },
   "outputs": [],
   "source": [
    "test = sms.het_breuschpagan(<...>, <...>)\n",
    "\n",
    "name = [\"Lagrange multiplier statistic\", \"p-value\", \"f-value\", \"f p-value\"]\n",
    "pd.Series(test, index=name)"
   ]
  },
  {
   "cell_type": "markdown",
   "id": "902724a7",
   "metadata": {
    "id": "902724a7"
   },
   "source": [
    "**Критерий Голдфелда-Квандта**"
   ]
  },
  {
   "cell_type": "code",
   "execution_count": null,
   "id": "5daaff1c",
   "metadata": {
    "ExecuteTime": {
     "end_time": "2022-11-22T15:08:12.692814Z",
     "start_time": "2022-11-22T15:08:12.683293Z"
    },
    "id": "5daaff1c"
   },
   "outputs": [],
   "source": [
    "test = sms.het_goldfeldquandt(<...>, <...>)\n",
    "\n",
    "name = [\"F statistic\", \"p-value\", \"type\"]\n",
    "pd.Series(test, index=name)"
   ]
  },
  {
   "cell_type": "markdown",
   "id": "e61412b3",
   "metadata": {
    "id": "e61412b3"
   },
   "source": [
    "**Критерий Уайта**"
   ]
  },
  {
   "cell_type": "code",
   "execution_count": null,
   "id": "06e00536",
   "metadata": {
    "ExecuteTime": {
     "end_time": "2022-11-22T15:08:12.711328Z",
     "start_time": "2022-11-22T15:08:12.697884Z"
    },
    "id": "06e00536"
   },
   "outputs": [],
   "source": [
    "test = sms.het_white(<...>, <...>)\n",
    "\n",
    "name = [\"Lagrange multiplier statistic\", \"p-value\", \"f-value\", \"f p-value\"]\n",
    "pd.Series(test, index=name)"
   ]
  },
  {
   "cell_type": "markdown",
   "id": "3f6ac1b4",
   "metadata": {
    "id": "3f6ac1b4"
   },
   "source": [
    "### 3. Использование устойчивых оценок дисперсии\n",
    "\n",
    "Получите оценку ковариационной матрицы вектора $\\widehat{\\theta}$ в условиях гетероскедастичности. Возьмите `cov_type=\"HC3\"` у метода `fit` модели и посмотрите на результат. Интерпретация значений в таблицах аналогична, см. пояснения выше."
   ]
  },
  {
   "cell_type": "code",
   "execution_count": null,
   "id": "5e037a62",
   "metadata": {
    "ExecuteTime": {
     "end_time": "2022-11-22T15:08:12.726674Z",
     "start_time": "2022-11-22T15:08:12.713015Z"
    },
    "id": "5e037a62"
   },
   "outputs": [],
   "source": []
  },
  {
   "cell_type": "markdown",
   "id": "xXseZPNr_W8y",
   "metadata": {
    "id": "xXseZPNr_W8y"
   },
   "source": [
    "**Вопрос:** Что изменилось при использовании поправки на гетероскедатичность?\n",
    "\n",
    "**Ответ:**\n",
    "\n"
   ]
  },
  {
   "cell_type": "markdown",
   "id": "bc9d08fc",
   "metadata": {
    "id": "bc9d08fc"
   },
   "source": [
    "Посмотрим матрицу ковариации, к сожалению, названия параметров теряются, поэтому необходимо добавить подписи столбцов и строк вручную."
   ]
  },
  {
   "cell_type": "code",
   "execution_count": null,
   "id": "9a57b7d5",
   "metadata": {
    "ExecuteTime": {
     "end_time": "2022-11-22T15:08:12.740802Z",
     "start_time": "2022-11-22T15:08:12.728002Z"
    },
    "id": "9a57b7d5"
   },
   "outputs": [],
   "source": [
    "pd.DataFrame(\n",
    "    <...>,\n",
    "    index=<...>,\n",
    "    columns=<...>\n",
    ")"
   ]
  },
  {
   "cell_type": "code",
   "execution_count": null,
   "id": "eqE3BpNlL9ZU",
   "metadata": {
    "id": "eqE3BpNlL9ZU"
   },
   "outputs": [],
   "source": []
  },
  {
   "cell_type": "markdown",
   "id": "35a83b31",
   "metadata": {
    "id": "35a83b31"
   },
   "source": [
    "### 4. Пример с несколькими признаками\n",
    "\n",
    "Рассмотрим регрессионную модель $$price = \\theta_0 + \\theta_1 \\cdot totsp + \\theta_2 \\cdot livesp + \\theta_3 \\cdot dist$$\n",
    "\n",
    "Напишите формулу для модели и укажите тип используемой оценки матрицы ковариаций в предположении гетероскедастичности."
   ]
  },
  {
   "cell_type": "code",
   "execution_count": null,
   "id": "d504fb91",
   "metadata": {
    "ExecuteTime": {
     "end_time": "2022-11-22T15:08:12.795851Z",
     "start_time": "2022-11-22T15:08:12.761283Z"
    },
    "id": "d504fb91"
   },
   "outputs": [],
   "source": [
    "model2 = smf.ols(<...>, flats)\n",
    "results2 = model2.fit(cov_type=<...>)\n",
    "print(results2.summary())"
   ]
  },
  {
   "cell_type": "markdown",
   "id": "7ab86781",
   "metadata": {
    "id": "7ab86781"
   },
   "source": [
    "Как и раньше, можно извлечь результаты отдельных тестов."
   ]
  },
  {
   "cell_type": "code",
   "execution_count": null,
   "id": "a966dc77",
   "metadata": {
    "ExecuteTime": {
     "end_time": "2022-11-22T15:08:12.814833Z",
     "start_time": "2022-11-22T15:08:12.797928Z"
    },
    "id": "a966dc77"
   },
   "outputs": [],
   "source": [
    "results2.t_test('totsp = 0')"
   ]
  },
  {
   "cell_type": "markdown",
   "id": "3a7f9b8d",
   "metadata": {
    "id": "3a7f9b8d"
   },
   "source": [
    "С помощью t-критерия можно проверять одну любую линейную гипотезу. Например, гипотеза о равенстве $\\theta_{totsp} = 2\\theta_{dist}$."
   ]
  },
  {
   "cell_type": "code",
   "execution_count": null,
   "id": "44ba1425",
   "metadata": {
    "ExecuteTime": {
     "end_time": "2022-11-22T15:08:12.823725Z",
     "start_time": "2022-11-22T15:08:12.816686Z"
    },
    "id": "44ba1425"
   },
   "outputs": [],
   "source": [
    "results2.t_test('totsp = 2*dist')"
   ]
  },
  {
   "cell_type": "markdown",
   "id": "46dfa80c",
   "metadata": {
    "id": "46dfa80c"
   },
   "source": [
    "Можно использовать  f-критерий для проверки нескольких линейных гипотез.\n",
    "\n",
    "Например, проверим гипотезу об одновременной незначимости коэффициентов перед признаками `livesp`, `dist`."
   ]
  },
  {
   "cell_type": "code",
   "execution_count": null,
   "id": "7cf54c56",
   "metadata": {
    "ExecuteTime": {
     "end_time": "2022-11-22T15:08:12.846340Z",
     "start_time": "2022-11-22T15:08:12.825643Z"
    },
    "id": "7cf54c56"
   },
   "outputs": [],
   "source": [
    "print(results2.f_test(\"(livesp=0), (dist=0)\"))"
   ]
  },
  {
   "cell_type": "markdown",
   "id": "6261628b",
   "metadata": {
    "id": "6261628b"
   },
   "source": [
    "Можно проверить гипотезу о равенстве $\\theta_{totsp} = \\theta_{dist}$."
   ]
  },
  {
   "cell_type": "code",
   "execution_count": null,
   "id": "3d01cccf",
   "metadata": {
    "ExecuteTime": {
     "end_time": "2022-11-22T15:08:12.853215Z",
     "start_time": "2022-11-22T15:08:12.848311Z"
    },
    "id": "3d01cccf"
   },
   "outputs": [],
   "source": [
    "print(results2.f_test(\"(livesp=dist)\"))"
   ]
  },
  {
   "cell_type": "markdown",
   "id": "TXoBjeaOYEu9",
   "metadata": {
    "id": "TXoBjeaOYEu9"
   },
   "source": [
    "**Выводы:**"
   ]
  }
 ],
 "metadata": {
  "colab": {
   "collapsed_sections": [
    "w0MZWjUyhwBa",
    "ffa211ba",
    "49ebc570",
    "3b18b5be",
    "db12007b",
    "6e89e6a4",
    "34bda7bc",
    "3f6ac1b4",
    "35a83b31"
   ],
   "provenance": []
  },
  "kernelspec": {
   "display_name": "Python 3 (ipykernel)",
   "language": "python",
   "name": "python3"
  },
  "language_info": {
   "codemirror_mode": {
    "name": "ipython",
    "version": 3
   },
   "file_extension": ".py",
   "mimetype": "text/x-python",
   "name": "python",
   "nbconvert_exporter": "python",
   "pygments_lexer": "ipython3",
   "version": "3.9.6"
  }
 },
 "nbformat": 4,
 "nbformat_minor": 5
}
