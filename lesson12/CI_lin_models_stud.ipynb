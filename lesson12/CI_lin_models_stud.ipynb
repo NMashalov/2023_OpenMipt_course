{
  "cells": [
    {
      "cell_type": "markdown",
      "metadata": {
        "id": "view-in-github",
        "colab_type": "text"
      },
      "source": [
        "<a href=\"https://colab.research.google.com/github/NMashalov/2023_OpenMipt_course/blob/main/lesson12/CI_lin_models_stud.ipynb\" target=\"_parent\"><img src=\"https://colab.research.google.com/assets/colab-badge.svg\" alt=\"Open In Colab\"/></a>"
      ]
    },
    {
      "cell_type": "markdown",
      "id": "36bcd147",
      "metadata": {
        "id": "36bcd147"
      },
      "source": [
        "# Семинар\n",
        "\n",
        "$\\newcommand{\\indep}{\\perp \\!\\!\\! \\perp}$\n",
        "$\\newcommand{\\notindep}{\\not\\!\\perp \\!\\!\\! \\perp}$"
      ]
    },
    {
      "cell_type": "code",
      "execution_count": 7,
      "id": "b961abfd",
      "metadata": {
        "id": "b961abfd"
      },
      "outputs": [],
      "source": [
        "import pandas as pd\n",
        "import numpy as np\n",
        "import scipy.stats as sps\n",
        "\n",
        "from matplotlib import pyplot as plt\n",
        "from matplotlib import style\n",
        "import seaborn as sns\n",
        "\n",
        "from tqdm.notebook import tqdm\n",
        "\n",
        "import statsmodels.api as sm\n",
        "import statsmodels.datasets as smd\n",
        "import statsmodels.formula.api as smf\n",
        "import statsmodels.stats.api as sms\n",
        "\n",
        "import warnings\n",
        "warnings.filterwarnings(\"ignore\")\n",
        "\n",
        "sns.set(style='whitegrid', font_scale=1.3, palette='Set2')"
      ]
    },
    {
      "cell_type": "markdown",
      "id": "H7aofVVb07iZ",
      "metadata": {
        "id": "H7aofVVb07iZ"
      },
      "source": [
        "## Учет различных признаков в линейной регрессии для оценки ATE\n",
        "\n",
        "На основе материалов <a href=\"https://matheusfacure.github.io/python-causality-handbook/landing-page.html\">учебника</a>."
      ]
    },
    {
      "cell_type": "markdown",
      "id": "w0MZWjUyhwBa",
      "metadata": {
        "id": "w0MZWjUyhwBa"
      },
      "source": [
        "### 0. Инициализация и обучение моделей через формулы\n",
        "В этом семинаре нам понадобится модуль `statsmodels.formula.api`, который позволяет задавать модели, указав формулу в виде `target ~ features`, которая означает линейную функцию `target` от `features`.\n",
        "\n",
        "Рассмотрим пример задания модели линейной регрессии OLS (подробнее можно почитать в [документации](https://www.statsmodels.org/dev/example_formulas.html)).\n"
      ]
    },
    {
      "cell_type": "code",
      "execution_count": null,
      "id": "X07zG9sgllz7",
      "metadata": {
        "colab": {
          "base_uri": "https://localhost:8080/",
          "height": 206
        },
        "id": "X07zG9sgllz7",
        "outputId": "5f576604-eb2f-4299-dbd2-e045e501ebc1"
      },
      "outputs": [
        {
          "output_type": "execute_result",
          "data": {
            "text/plain": [
              "   Lottery  Literacy  Wealth Region\n",
              "0       41        37      73      E\n",
              "1       38        51      22      N\n",
              "2       66        13      61      C\n",
              "3       80        46      76      E\n",
              "4       79        69      83      E"
            ],
            "text/html": [
              "\n",
              "  <div id=\"df-29b7364c-b3e4-4aad-8eea-0ba5b670f98d\" class=\"colab-df-container\">\n",
              "    <div>\n",
              "<style scoped>\n",
              "    .dataframe tbody tr th:only-of-type {\n",
              "        vertical-align: middle;\n",
              "    }\n",
              "\n",
              "    .dataframe tbody tr th {\n",
              "        vertical-align: top;\n",
              "    }\n",
              "\n",
              "    .dataframe thead th {\n",
              "        text-align: right;\n",
              "    }\n",
              "</style>\n",
              "<table border=\"1\" class=\"dataframe\">\n",
              "  <thead>\n",
              "    <tr style=\"text-align: right;\">\n",
              "      <th></th>\n",
              "      <th>Lottery</th>\n",
              "      <th>Literacy</th>\n",
              "      <th>Wealth</th>\n",
              "      <th>Region</th>\n",
              "    </tr>\n",
              "  </thead>\n",
              "  <tbody>\n",
              "    <tr>\n",
              "      <th>0</th>\n",
              "      <td>41</td>\n",
              "      <td>37</td>\n",
              "      <td>73</td>\n",
              "      <td>E</td>\n",
              "    </tr>\n",
              "    <tr>\n",
              "      <th>1</th>\n",
              "      <td>38</td>\n",
              "      <td>51</td>\n",
              "      <td>22</td>\n",
              "      <td>N</td>\n",
              "    </tr>\n",
              "    <tr>\n",
              "      <th>2</th>\n",
              "      <td>66</td>\n",
              "      <td>13</td>\n",
              "      <td>61</td>\n",
              "      <td>C</td>\n",
              "    </tr>\n",
              "    <tr>\n",
              "      <th>3</th>\n",
              "      <td>80</td>\n",
              "      <td>46</td>\n",
              "      <td>76</td>\n",
              "      <td>E</td>\n",
              "    </tr>\n",
              "    <tr>\n",
              "      <th>4</th>\n",
              "      <td>79</td>\n",
              "      <td>69</td>\n",
              "      <td>83</td>\n",
              "      <td>E</td>\n",
              "    </tr>\n",
              "  </tbody>\n",
              "</table>\n",
              "</div>\n",
              "    <div class=\"colab-df-buttons\">\n",
              "\n",
              "  <div class=\"colab-df-container\">\n",
              "    <button class=\"colab-df-convert\" onclick=\"convertToInteractive('df-29b7364c-b3e4-4aad-8eea-0ba5b670f98d')\"\n",
              "            title=\"Convert this dataframe to an interactive table.\"\n",
              "            style=\"display:none;\">\n",
              "\n",
              "  <svg xmlns=\"http://www.w3.org/2000/svg\" height=\"24px\" viewBox=\"0 -960 960 960\">\n",
              "    <path d=\"M120-120v-720h720v720H120Zm60-500h600v-160H180v160Zm220 220h160v-160H400v160Zm0 220h160v-160H400v160ZM180-400h160v-160H180v160Zm440 0h160v-160H620v160ZM180-180h160v-160H180v160Zm440 0h160v-160H620v160Z\"/>\n",
              "  </svg>\n",
              "    </button>\n",
              "\n",
              "  <style>\n",
              "    .colab-df-container {\n",
              "      display:flex;\n",
              "      gap: 12px;\n",
              "    }\n",
              "\n",
              "    .colab-df-convert {\n",
              "      background-color: #E8F0FE;\n",
              "      border: none;\n",
              "      border-radius: 50%;\n",
              "      cursor: pointer;\n",
              "      display: none;\n",
              "      fill: #1967D2;\n",
              "      height: 32px;\n",
              "      padding: 0 0 0 0;\n",
              "      width: 32px;\n",
              "    }\n",
              "\n",
              "    .colab-df-convert:hover {\n",
              "      background-color: #E2EBFA;\n",
              "      box-shadow: 0px 1px 2px rgba(60, 64, 67, 0.3), 0px 1px 3px 1px rgba(60, 64, 67, 0.15);\n",
              "      fill: #174EA6;\n",
              "    }\n",
              "\n",
              "    .colab-df-buttons div {\n",
              "      margin-bottom: 4px;\n",
              "    }\n",
              "\n",
              "    [theme=dark] .colab-df-convert {\n",
              "      background-color: #3B4455;\n",
              "      fill: #D2E3FC;\n",
              "    }\n",
              "\n",
              "    [theme=dark] .colab-df-convert:hover {\n",
              "      background-color: #434B5C;\n",
              "      box-shadow: 0px 1px 3px 1px rgba(0, 0, 0, 0.15);\n",
              "      filter: drop-shadow(0px 1px 2px rgba(0, 0, 0, 0.3));\n",
              "      fill: #FFFFFF;\n",
              "    }\n",
              "  </style>\n",
              "\n",
              "    <script>\n",
              "      const buttonEl =\n",
              "        document.querySelector('#df-29b7364c-b3e4-4aad-8eea-0ba5b670f98d button.colab-df-convert');\n",
              "      buttonEl.style.display =\n",
              "        google.colab.kernel.accessAllowed ? 'block' : 'none';\n",
              "\n",
              "      async function convertToInteractive(key) {\n",
              "        const element = document.querySelector('#df-29b7364c-b3e4-4aad-8eea-0ba5b670f98d');\n",
              "        const dataTable =\n",
              "          await google.colab.kernel.invokeFunction('convertToInteractive',\n",
              "                                                    [key], {});\n",
              "        if (!dataTable) return;\n",
              "\n",
              "        const docLinkHtml = 'Like what you see? Visit the ' +\n",
              "          '<a target=\"_blank\" href=https://colab.research.google.com/notebooks/data_table.ipynb>data table notebook</a>'\n",
              "          + ' to learn more about interactive tables.';\n",
              "        element.innerHTML = '';\n",
              "        dataTable['output_type'] = 'display_data';\n",
              "        await google.colab.output.renderOutput(dataTable, element);\n",
              "        const docLink = document.createElement('div');\n",
              "        docLink.innerHTML = docLinkHtml;\n",
              "        element.appendChild(docLink);\n",
              "      }\n",
              "    </script>\n",
              "  </div>\n",
              "\n",
              "\n",
              "<div id=\"df-52bc7292-1f84-4509-ac4d-1ef7073853cd\">\n",
              "  <button class=\"colab-df-quickchart\" onclick=\"quickchart('df-52bc7292-1f84-4509-ac4d-1ef7073853cd')\"\n",
              "            title=\"Suggest charts\"\n",
              "            style=\"display:none;\">\n",
              "\n",
              "<svg xmlns=\"http://www.w3.org/2000/svg\" height=\"24px\"viewBox=\"0 0 24 24\"\n",
              "     width=\"24px\">\n",
              "    <g>\n",
              "        <path d=\"M19 3H5c-1.1 0-2 .9-2 2v14c0 1.1.9 2 2 2h14c1.1 0 2-.9 2-2V5c0-1.1-.9-2-2-2zM9 17H7v-7h2v7zm4 0h-2V7h2v10zm4 0h-2v-4h2v4z\"/>\n",
              "    </g>\n",
              "</svg>\n",
              "  </button>\n",
              "\n",
              "<style>\n",
              "  .colab-df-quickchart {\n",
              "      --bg-color: #E8F0FE;\n",
              "      --fill-color: #1967D2;\n",
              "      --hover-bg-color: #E2EBFA;\n",
              "      --hover-fill-color: #174EA6;\n",
              "      --disabled-fill-color: #AAA;\n",
              "      --disabled-bg-color: #DDD;\n",
              "  }\n",
              "\n",
              "  [theme=dark] .colab-df-quickchart {\n",
              "      --bg-color: #3B4455;\n",
              "      --fill-color: #D2E3FC;\n",
              "      --hover-bg-color: #434B5C;\n",
              "      --hover-fill-color: #FFFFFF;\n",
              "      --disabled-bg-color: #3B4455;\n",
              "      --disabled-fill-color: #666;\n",
              "  }\n",
              "\n",
              "  .colab-df-quickchart {\n",
              "    background-color: var(--bg-color);\n",
              "    border: none;\n",
              "    border-radius: 50%;\n",
              "    cursor: pointer;\n",
              "    display: none;\n",
              "    fill: var(--fill-color);\n",
              "    height: 32px;\n",
              "    padding: 0;\n",
              "    width: 32px;\n",
              "  }\n",
              "\n",
              "  .colab-df-quickchart:hover {\n",
              "    background-color: var(--hover-bg-color);\n",
              "    box-shadow: 0 1px 2px rgba(60, 64, 67, 0.3), 0 1px 3px 1px rgba(60, 64, 67, 0.15);\n",
              "    fill: var(--button-hover-fill-color);\n",
              "  }\n",
              "\n",
              "  .colab-df-quickchart-complete:disabled,\n",
              "  .colab-df-quickchart-complete:disabled:hover {\n",
              "    background-color: var(--disabled-bg-color);\n",
              "    fill: var(--disabled-fill-color);\n",
              "    box-shadow: none;\n",
              "  }\n",
              "\n",
              "  .colab-df-spinner {\n",
              "    border: 2px solid var(--fill-color);\n",
              "    border-color: transparent;\n",
              "    border-bottom-color: var(--fill-color);\n",
              "    animation:\n",
              "      spin 1s steps(1) infinite;\n",
              "  }\n",
              "\n",
              "  @keyframes spin {\n",
              "    0% {\n",
              "      border-color: transparent;\n",
              "      border-bottom-color: var(--fill-color);\n",
              "      border-left-color: var(--fill-color);\n",
              "    }\n",
              "    20% {\n",
              "      border-color: transparent;\n",
              "      border-left-color: var(--fill-color);\n",
              "      border-top-color: var(--fill-color);\n",
              "    }\n",
              "    30% {\n",
              "      border-color: transparent;\n",
              "      border-left-color: var(--fill-color);\n",
              "      border-top-color: var(--fill-color);\n",
              "      border-right-color: var(--fill-color);\n",
              "    }\n",
              "    40% {\n",
              "      border-color: transparent;\n",
              "      border-right-color: var(--fill-color);\n",
              "      border-top-color: var(--fill-color);\n",
              "    }\n",
              "    60% {\n",
              "      border-color: transparent;\n",
              "      border-right-color: var(--fill-color);\n",
              "    }\n",
              "    80% {\n",
              "      border-color: transparent;\n",
              "      border-right-color: var(--fill-color);\n",
              "      border-bottom-color: var(--fill-color);\n",
              "    }\n",
              "    90% {\n",
              "      border-color: transparent;\n",
              "      border-bottom-color: var(--fill-color);\n",
              "    }\n",
              "  }\n",
              "</style>\n",
              "\n",
              "  <script>\n",
              "    async function quickchart(key) {\n",
              "      const quickchartButtonEl =\n",
              "        document.querySelector('#' + key + ' button');\n",
              "      quickchartButtonEl.disabled = true;  // To prevent multiple clicks.\n",
              "      quickchartButtonEl.classList.add('colab-df-spinner');\n",
              "      try {\n",
              "        const charts = await google.colab.kernel.invokeFunction(\n",
              "            'suggestCharts', [key], {});\n",
              "      } catch (error) {\n",
              "        console.error('Error during call to suggestCharts:', error);\n",
              "      }\n",
              "      quickchartButtonEl.classList.remove('colab-df-spinner');\n",
              "      quickchartButtonEl.classList.add('colab-df-quickchart-complete');\n",
              "    }\n",
              "    (() => {\n",
              "      let quickchartButtonEl =\n",
              "        document.querySelector('#df-52bc7292-1f84-4509-ac4d-1ef7073853cd button');\n",
              "      quickchartButtonEl.style.display =\n",
              "        google.colab.kernel.accessAllowed ? 'block' : 'none';\n",
              "    })();\n",
              "  </script>\n",
              "</div>\n",
              "    </div>\n",
              "  </div>\n"
            ]
          },
          "metadata": {},
          "execution_count": 3
        }
      ],
      "source": [
        "df = sm.datasets.get_rdataset(\"Guerry\", \"HistData\").data\n",
        "df = df[['Lottery', 'Literacy', 'Wealth', 'Region']].dropna()\n",
        "df.head()"
      ]
    },
    {
      "cell_type": "markdown",
      "id": "V6wcFvKcmaK7",
      "metadata": {
        "id": "V6wcFvKcmaK7"
      },
      "source": [
        "Итак, предположим, нам нужно обучить модель для таргета `Lottery` по признакам `Literacy`, `Wealth` и `Region` из датасета выше. Тогда синтаксис будет выглядеть таким образом:"
      ]
    },
    {
      "cell_type": "code",
      "execution_count": null,
      "id": "Ta7S8t7C3PVM",
      "metadata": {
        "id": "Ta7S8t7C3PVM"
      },
      "outputs": [],
      "source": [
        "model = smf.ols(formula='Lottery ~ Literacy + Wealth + Region', data=df)\n",
        "res = model.fit()"
      ]
    },
    {
      "cell_type": "markdown",
      "id": "jwqKlREm3EJV",
      "metadata": {
        "id": "jwqKlREm3EJV"
      },
      "source": [
        "Метод `fit` возвращает объект типа `statsmodels.regression.linear_model.RegressionResults`, который содержит различные характеристики модели:\n",
        "* в первой секции представлены различные характеристики самой модели\n",
        "  * параметры обучения,\n",
        "  * $R^2$\n",
        "  * Проверка гипотезы о значимости регрессии в целом\n",
        "  * логарифмическая функция правдоподобия\n",
        "  * информационные критерии\n",
        "* во второй секции &mdash; подробная информация о коэффициентов, включая анализ их стат. значимости:\n",
        "  * названия коэффициентов (совпадают с именами признаков, или `Intercept` для свободного коэффициента);\n",
        "  * оценки коэффициентов;\n",
        "  * стандартные ошибки &mdash; корень из оценки дисперсии оценки каждого из коэффициентов;\n",
        "  * t-статистика для проверки гипотезы о незначимости коэффициента;\n",
        "  * p-value критерия для проверки гипотезы о незначимости коэффициента (правило: если $\\text{p-value} \\leqslant \\alpha=0.05$, то гипотеза отвергается, иначе &mdash; не отвергается);\n",
        "  * левая и правая граница 95\\% доверительного интервала для коэффициента.\n",
        "* в третьей секции &mdash; анализ остатков модели\n",
        "  * критерии проверки несмещенности, нормальности\n",
        "\n",
        "*Подробнее:* https://www.statsmodels.org/dev/generated/statsmodels.regression.linear_model.RegressionResults.html\n",
        "\n",
        "Посмотрим на результат **в предположении гомоскедастичности**"
      ]
    },
    {
      "cell_type": "code",
      "execution_count": null,
      "id": "1BwoL53rmi9F",
      "metadata": {
        "colab": {
          "base_uri": "https://localhost:8080/"
        },
        "id": "1BwoL53rmi9F",
        "outputId": "71085bbf-a05a-46e4-ff31-fb7ce7ca0642"
      },
      "outputs": [
        {
          "output_type": "stream",
          "name": "stdout",
          "text": [
            "                            OLS Regression Results                            \n",
            "==============================================================================\n",
            "Dep. Variable:                Lottery   R-squared:                       0.338\n",
            "Model:                            OLS   Adj. R-squared:                  0.287\n",
            "Method:                 Least Squares   F-statistic:                     6.636\n",
            "Date:                Mon, 01 Jan 2024   Prob (F-statistic):           1.07e-05\n",
            "Time:                        18:16:42   Log-Likelihood:                -375.30\n",
            "No. Observations:                  85   AIC:                             764.6\n",
            "Df Residuals:                      78   BIC:                             781.7\n",
            "Df Model:                           6                                         \n",
            "Covariance Type:            nonrobust                                         \n",
            "===============================================================================\n",
            "                  coef    std err          t      P>|t|      [0.025      0.975]\n",
            "-------------------------------------------------------------------------------\n",
            "Intercept      38.6517      9.456      4.087      0.000      19.826      57.478\n",
            "Region[T.E]   -15.4278      9.727     -1.586      0.117     -34.793       3.938\n",
            "Region[T.N]   -10.0170      9.260     -1.082      0.283     -28.453       8.419\n",
            "Region[T.S]    -4.5483      7.279     -0.625      0.534     -19.039       9.943\n",
            "Region[T.W]   -10.0913      7.196     -1.402      0.165     -24.418       4.235\n",
            "Literacy       -0.1858      0.210     -0.886      0.378      -0.603       0.232\n",
            "Wealth          0.4515      0.103      4.390      0.000       0.247       0.656\n",
            "==============================================================================\n",
            "Omnibus:                        3.049   Durbin-Watson:                   1.785\n",
            "Prob(Omnibus):                  0.218   Jarque-Bera (JB):                2.694\n",
            "Skew:                          -0.340   Prob(JB):                        0.260\n",
            "Kurtosis:                       2.454   Cond. No.                         371.\n",
            "==============================================================================\n",
            "\n",
            "Notes:\n",
            "[1] Standard Errors assume that the covariance matrix of the errors is correctly specified.\n"
          ]
        }
      ],
      "source": [
        "print(res.summary())"
      ]
    },
    {
      "cell_type": "markdown",
      "id": "kWYdCe6KnwDL",
      "metadata": {
        "id": "kWYdCe6KnwDL"
      },
      "source": [
        "Заметим, что модель автоматически добавила свободный член (`Intercept`) и рассмотрела признак `Region` как категориальный, затем удалив одну из категорий (`С`). Так произошло, потому что значения были строками. При этом, если бы мы имели целочисленный призак и хотели бы рассмотреть его как категориальный, то заключили бы его в `C()` при передаче в формулу. То есть, чтобы специфически указать, что признак категориальный:\n"
      ]
    },
    {
      "cell_type": "code",
      "execution_count": null,
      "id": "_-xlddF6qfUG",
      "metadata": {
        "colab": {
          "base_uri": "https://localhost:8080/"
        },
        "id": "_-xlddF6qfUG",
        "outputId": "bafd059e-8359-45e3-ab42-9d3b100b1f21"
      },
      "outputs": [
        {
          "output_type": "stream",
          "name": "stdout",
          "text": [
            "Intercept         38.651655\n",
            "C(Region)[T.E]   -15.427785\n",
            "C(Region)[T.N]   -10.016961\n",
            "C(Region)[T.S]    -4.548257\n",
            "C(Region)[T.W]   -10.091276\n",
            "Literacy          -0.185819\n",
            "Wealth             0.451475\n",
            "dtype: float64\n"
          ]
        }
      ],
      "source": [
        "model = smf.ols(formula='Lottery ~ Literacy + Wealth + C(Region)', data=df)\n",
        "res = model.fit()\n",
        "print(res.params)"
      ]
    },
    {
      "cell_type": "markdown",
      "id": "ffa211ba",
      "metadata": {
        "id": "ffa211ba"
      },
      "source": [
        "### 1. Использование признаков: хороший случай\n",
        "\n",
        "**Задача:** исследовать влияние отправки email с напоминанием о долге. Таргет &mdash; сумма платежей от клиентов, которые просрочили платеж.\n",
        "\n",
        "Выбраны 5000 случайных клиентов для проведения *рандомизированного эксперимента*. Каждый клиент получает электронное письмо случайно с вероятностью 0.5.\n",
        "\n",
        "Загрузим данные collections_email.csv из [репозитория](https://github.com/matheusfacure/python-causality-handbook/blob/master/causal-inference-for-the-brave-and-true/data/collections_email.csv)"
      ]
    },
    {
      "cell_type": "code",
      "source": [
        "!wget https://raw.githubusercontent.com/matheusfacure/python-causality-handbook/master/causal-inference-for-the-brave-and-true/data/collections_email.csv"
      ],
      "metadata": {
        "id": "TQl5nCwkPvJ2",
        "outputId": "31e69421-b42d-420a-8b65-acd5341a4cfc",
        "colab": {
          "base_uri": "https://localhost:8080/"
        }
      },
      "id": "TQl5nCwkPvJ2",
      "execution_count": 34,
      "outputs": [
        {
          "output_type": "stream",
          "name": "stdout",
          "text": [
            "--2024-01-04 15:12:08--  https://raw.githubusercontent.com/matheusfacure/python-causality-handbook/master/causal-inference-for-the-brave-and-true/data/collections_email.csv\n",
            "Resolving raw.githubusercontent.com (raw.githubusercontent.com)... 185.199.108.133, 185.199.109.133, 185.199.111.133, ...\n",
            "Connecting to raw.githubusercontent.com (raw.githubusercontent.com)|185.199.108.133|:443... connected.\n",
            "HTTP request sent, awaiting response... 200 OK\n",
            "Length: 258042 (252K) [text/plain]\n",
            "Saving to: ‘collections_email.csv’\n",
            "\n",
            "collections_email.c 100%[===================>] 251.99K  --.-KB/s    in 0.02s   \n",
            "\n",
            "2024-01-04 15:12:09 (11.0 MB/s) - ‘collections_email.csv’ saved [258042/258042]\n",
            "\n"
          ]
        }
      ]
    },
    {
      "cell_type": "code",
      "execution_count": 35,
      "id": "7cIYUSoQvZbG",
      "metadata": {
        "id": "7cIYUSoQvZbG"
      },
      "outputs": [],
      "source": [
        "DATA_PATH = \"collections_email.csv\""
      ]
    },
    {
      "cell_type": "code",
      "execution_count": 36,
      "id": "2913e255",
      "metadata": {
        "colab": {
          "base_uri": "https://localhost:8080/",
          "height": 206
        },
        "id": "2913e255",
        "outputId": "563518c7-4895-4d60-abb1-4658ad921757"
      },
      "outputs": [
        {
          "output_type": "execute_result",
          "data": {
            "text/plain": [
              "   payments  email  opened  agreement  credit_limit  risk_score\n",
              "0       740      1     1.0        0.0   2348.495260    0.666752\n",
              "1       580      1     1.0        1.0    334.111969    0.207395\n",
              "2       600      1     1.0        1.0   1360.660722    0.550479\n",
              "3       770      0     0.0        0.0   1531.828576    0.560488\n",
              "4       660      0     0.0        0.0    979.855647    0.455140"
            ],
            "text/html": [
              "\n",
              "  <div id=\"df-edc92774-aa85-4e91-a7bb-fdc894a7d1aa\" class=\"colab-df-container\">\n",
              "    <div>\n",
              "<style scoped>\n",
              "    .dataframe tbody tr th:only-of-type {\n",
              "        vertical-align: middle;\n",
              "    }\n",
              "\n",
              "    .dataframe tbody tr th {\n",
              "        vertical-align: top;\n",
              "    }\n",
              "\n",
              "    .dataframe thead th {\n",
              "        text-align: right;\n",
              "    }\n",
              "</style>\n",
              "<table border=\"1\" class=\"dataframe\">\n",
              "  <thead>\n",
              "    <tr style=\"text-align: right;\">\n",
              "      <th></th>\n",
              "      <th>payments</th>\n",
              "      <th>email</th>\n",
              "      <th>opened</th>\n",
              "      <th>agreement</th>\n",
              "      <th>credit_limit</th>\n",
              "      <th>risk_score</th>\n",
              "    </tr>\n",
              "  </thead>\n",
              "  <tbody>\n",
              "    <tr>\n",
              "      <th>0</th>\n",
              "      <td>740</td>\n",
              "      <td>1</td>\n",
              "      <td>1.0</td>\n",
              "      <td>0.0</td>\n",
              "      <td>2348.495260</td>\n",
              "      <td>0.666752</td>\n",
              "    </tr>\n",
              "    <tr>\n",
              "      <th>1</th>\n",
              "      <td>580</td>\n",
              "      <td>1</td>\n",
              "      <td>1.0</td>\n",
              "      <td>1.0</td>\n",
              "      <td>334.111969</td>\n",
              "      <td>0.207395</td>\n",
              "    </tr>\n",
              "    <tr>\n",
              "      <th>2</th>\n",
              "      <td>600</td>\n",
              "      <td>1</td>\n",
              "      <td>1.0</td>\n",
              "      <td>1.0</td>\n",
              "      <td>1360.660722</td>\n",
              "      <td>0.550479</td>\n",
              "    </tr>\n",
              "    <tr>\n",
              "      <th>3</th>\n",
              "      <td>770</td>\n",
              "      <td>0</td>\n",
              "      <td>0.0</td>\n",
              "      <td>0.0</td>\n",
              "      <td>1531.828576</td>\n",
              "      <td>0.560488</td>\n",
              "    </tr>\n",
              "    <tr>\n",
              "      <th>4</th>\n",
              "      <td>660</td>\n",
              "      <td>0</td>\n",
              "      <td>0.0</td>\n",
              "      <td>0.0</td>\n",
              "      <td>979.855647</td>\n",
              "      <td>0.455140</td>\n",
              "    </tr>\n",
              "  </tbody>\n",
              "</table>\n",
              "</div>\n",
              "    <div class=\"colab-df-buttons\">\n",
              "\n",
              "  <div class=\"colab-df-container\">\n",
              "    <button class=\"colab-df-convert\" onclick=\"convertToInteractive('df-edc92774-aa85-4e91-a7bb-fdc894a7d1aa')\"\n",
              "            title=\"Convert this dataframe to an interactive table.\"\n",
              "            style=\"display:none;\">\n",
              "\n",
              "  <svg xmlns=\"http://www.w3.org/2000/svg\" height=\"24px\" viewBox=\"0 -960 960 960\">\n",
              "    <path d=\"M120-120v-720h720v720H120Zm60-500h600v-160H180v160Zm220 220h160v-160H400v160Zm0 220h160v-160H400v160ZM180-400h160v-160H180v160Zm440 0h160v-160H620v160ZM180-180h160v-160H180v160Zm440 0h160v-160H620v160Z\"/>\n",
              "  </svg>\n",
              "    </button>\n",
              "\n",
              "  <style>\n",
              "    .colab-df-container {\n",
              "      display:flex;\n",
              "      gap: 12px;\n",
              "    }\n",
              "\n",
              "    .colab-df-convert {\n",
              "      background-color: #E8F0FE;\n",
              "      border: none;\n",
              "      border-radius: 50%;\n",
              "      cursor: pointer;\n",
              "      display: none;\n",
              "      fill: #1967D2;\n",
              "      height: 32px;\n",
              "      padding: 0 0 0 0;\n",
              "      width: 32px;\n",
              "    }\n",
              "\n",
              "    .colab-df-convert:hover {\n",
              "      background-color: #E2EBFA;\n",
              "      box-shadow: 0px 1px 2px rgba(60, 64, 67, 0.3), 0px 1px 3px 1px rgba(60, 64, 67, 0.15);\n",
              "      fill: #174EA6;\n",
              "    }\n",
              "\n",
              "    .colab-df-buttons div {\n",
              "      margin-bottom: 4px;\n",
              "    }\n",
              "\n",
              "    [theme=dark] .colab-df-convert {\n",
              "      background-color: #3B4455;\n",
              "      fill: #D2E3FC;\n",
              "    }\n",
              "\n",
              "    [theme=dark] .colab-df-convert:hover {\n",
              "      background-color: #434B5C;\n",
              "      box-shadow: 0px 1px 3px 1px rgba(0, 0, 0, 0.15);\n",
              "      filter: drop-shadow(0px 1px 2px rgba(0, 0, 0, 0.3));\n",
              "      fill: #FFFFFF;\n",
              "    }\n",
              "  </style>\n",
              "\n",
              "    <script>\n",
              "      const buttonEl =\n",
              "        document.querySelector('#df-edc92774-aa85-4e91-a7bb-fdc894a7d1aa button.colab-df-convert');\n",
              "      buttonEl.style.display =\n",
              "        google.colab.kernel.accessAllowed ? 'block' : 'none';\n",
              "\n",
              "      async function convertToInteractive(key) {\n",
              "        const element = document.querySelector('#df-edc92774-aa85-4e91-a7bb-fdc894a7d1aa');\n",
              "        const dataTable =\n",
              "          await google.colab.kernel.invokeFunction('convertToInteractive',\n",
              "                                                    [key], {});\n",
              "        if (!dataTable) return;\n",
              "\n",
              "        const docLinkHtml = 'Like what you see? Visit the ' +\n",
              "          '<a target=\"_blank\" href=https://colab.research.google.com/notebooks/data_table.ipynb>data table notebook</a>'\n",
              "          + ' to learn more about interactive tables.';\n",
              "        element.innerHTML = '';\n",
              "        dataTable['output_type'] = 'display_data';\n",
              "        await google.colab.output.renderOutput(dataTable, element);\n",
              "        const docLink = document.createElement('div');\n",
              "        docLink.innerHTML = docLinkHtml;\n",
              "        element.appendChild(docLink);\n",
              "      }\n",
              "    </script>\n",
              "  </div>\n",
              "\n",
              "\n",
              "<div id=\"df-04d94916-aeb7-4c82-beb9-f5581dffe1af\">\n",
              "  <button class=\"colab-df-quickchart\" onclick=\"quickchart('df-04d94916-aeb7-4c82-beb9-f5581dffe1af')\"\n",
              "            title=\"Suggest charts\"\n",
              "            style=\"display:none;\">\n",
              "\n",
              "<svg xmlns=\"http://www.w3.org/2000/svg\" height=\"24px\"viewBox=\"0 0 24 24\"\n",
              "     width=\"24px\">\n",
              "    <g>\n",
              "        <path d=\"M19 3H5c-1.1 0-2 .9-2 2v14c0 1.1.9 2 2 2h14c1.1 0 2-.9 2-2V5c0-1.1-.9-2-2-2zM9 17H7v-7h2v7zm4 0h-2V7h2v10zm4 0h-2v-4h2v4z\"/>\n",
              "    </g>\n",
              "</svg>\n",
              "  </button>\n",
              "\n",
              "<style>\n",
              "  .colab-df-quickchart {\n",
              "      --bg-color: #E8F0FE;\n",
              "      --fill-color: #1967D2;\n",
              "      --hover-bg-color: #E2EBFA;\n",
              "      --hover-fill-color: #174EA6;\n",
              "      --disabled-fill-color: #AAA;\n",
              "      --disabled-bg-color: #DDD;\n",
              "  }\n",
              "\n",
              "  [theme=dark] .colab-df-quickchart {\n",
              "      --bg-color: #3B4455;\n",
              "      --fill-color: #D2E3FC;\n",
              "      --hover-bg-color: #434B5C;\n",
              "      --hover-fill-color: #FFFFFF;\n",
              "      --disabled-bg-color: #3B4455;\n",
              "      --disabled-fill-color: #666;\n",
              "  }\n",
              "\n",
              "  .colab-df-quickchart {\n",
              "    background-color: var(--bg-color);\n",
              "    border: none;\n",
              "    border-radius: 50%;\n",
              "    cursor: pointer;\n",
              "    display: none;\n",
              "    fill: var(--fill-color);\n",
              "    height: 32px;\n",
              "    padding: 0;\n",
              "    width: 32px;\n",
              "  }\n",
              "\n",
              "  .colab-df-quickchart:hover {\n",
              "    background-color: var(--hover-bg-color);\n",
              "    box-shadow: 0 1px 2px rgba(60, 64, 67, 0.3), 0 1px 3px 1px rgba(60, 64, 67, 0.15);\n",
              "    fill: var(--button-hover-fill-color);\n",
              "  }\n",
              "\n",
              "  .colab-df-quickchart-complete:disabled,\n",
              "  .colab-df-quickchart-complete:disabled:hover {\n",
              "    background-color: var(--disabled-bg-color);\n",
              "    fill: var(--disabled-fill-color);\n",
              "    box-shadow: none;\n",
              "  }\n",
              "\n",
              "  .colab-df-spinner {\n",
              "    border: 2px solid var(--fill-color);\n",
              "    border-color: transparent;\n",
              "    border-bottom-color: var(--fill-color);\n",
              "    animation:\n",
              "      spin 1s steps(1) infinite;\n",
              "  }\n",
              "\n",
              "  @keyframes spin {\n",
              "    0% {\n",
              "      border-color: transparent;\n",
              "      border-bottom-color: var(--fill-color);\n",
              "      border-left-color: var(--fill-color);\n",
              "    }\n",
              "    20% {\n",
              "      border-color: transparent;\n",
              "      border-left-color: var(--fill-color);\n",
              "      border-top-color: var(--fill-color);\n",
              "    }\n",
              "    30% {\n",
              "      border-color: transparent;\n",
              "      border-left-color: var(--fill-color);\n",
              "      border-top-color: var(--fill-color);\n",
              "      border-right-color: var(--fill-color);\n",
              "    }\n",
              "    40% {\n",
              "      border-color: transparent;\n",
              "      border-right-color: var(--fill-color);\n",
              "      border-top-color: var(--fill-color);\n",
              "    }\n",
              "    60% {\n",
              "      border-color: transparent;\n",
              "      border-right-color: var(--fill-color);\n",
              "    }\n",
              "    80% {\n",
              "      border-color: transparent;\n",
              "      border-right-color: var(--fill-color);\n",
              "      border-bottom-color: var(--fill-color);\n",
              "    }\n",
              "    90% {\n",
              "      border-color: transparent;\n",
              "      border-bottom-color: var(--fill-color);\n",
              "    }\n",
              "  }\n",
              "</style>\n",
              "\n",
              "  <script>\n",
              "    async function quickchart(key) {\n",
              "      const quickchartButtonEl =\n",
              "        document.querySelector('#' + key + ' button');\n",
              "      quickchartButtonEl.disabled = true;  // To prevent multiple clicks.\n",
              "      quickchartButtonEl.classList.add('colab-df-spinner');\n",
              "      try {\n",
              "        const charts = await google.colab.kernel.invokeFunction(\n",
              "            'suggestCharts', [key], {});\n",
              "      } catch (error) {\n",
              "        console.error('Error during call to suggestCharts:', error);\n",
              "      }\n",
              "      quickchartButtonEl.classList.remove('colab-df-spinner');\n",
              "      quickchartButtonEl.classList.add('colab-df-quickchart-complete');\n",
              "    }\n",
              "    (() => {\n",
              "      let quickchartButtonEl =\n",
              "        document.querySelector('#df-04d94916-aeb7-4c82-beb9-f5581dffe1af button');\n",
              "      quickchartButtonEl.style.display =\n",
              "        google.colab.kernel.accessAllowed ? 'block' : 'none';\n",
              "    })();\n",
              "  </script>\n",
              "</div>\n",
              "\n",
              "    </div>\n",
              "  </div>\n"
            ]
          },
          "metadata": {},
          "execution_count": 36
        }
      ],
      "source": [
        "data = pd.read_csv(DATA_PATH)\n",
        "data.head()"
      ]
    },
    {
      "cell_type": "markdown",
      "id": "91feb905",
      "metadata": {
        "id": "91feb905"
      },
      "source": [
        "Поскольку данные рандомизированы, простая разность средних оценивает ATE.\n",
        "Иначе говоря, ничто не может быть причиной тритмента, кроме рандомизации, поэтому потенциальные исходы не зависят от лечения:  $C_0, C_1 \\indep T$"
      ]
    },
    {
      "cell_type": "code",
      "execution_count": null,
      "id": "f9f47716",
      "metadata": {
        "id": "f9f47716",
        "outputId": "3f4274be-8fd7-4636-8769-0a3bf79bd4c3",
        "colab": {
          "base_uri": "https://localhost:8080/"
        }
      },
      "outputs": [
        {
          "output_type": "execute_result",
          "data": {
            "text/plain": [
              "-0.6202804021329484"
            ]
          },
          "metadata": {},
          "execution_count": 15
        }
      ],
      "source": [
        "data.query(\"email==1\")[\"payments\"].mean() - data.query(\"email==0\")[\"payments\"].mean()"
      ]
    },
    {
      "cell_type": "markdown",
      "id": "d5140d8e",
      "metadata": {
        "id": "d5140d8e"
      },
      "source": [
        "Проведите АВ-тесты, чтобы оценить различие между группами (`email`) по таргету (`payments`), двумя способами: с помощью модели OLS и с помощью `ttest_ind`. Сравните результаты и сделайте выводы."
      ]
    },
    {
      "cell_type": "code",
      "execution_count": null,
      "id": "8yxzcEmMsguv",
      "metadata": {
        "id": "8yxzcEmMsguv",
        "outputId": "9b1e0607-46b5-46a1-91b4-f400b6da9111",
        "colab": {
          "base_uri": "https://localhost:8080/"
        }
      },
      "outputs": [
        {
          "output_type": "execute_result",
          "data": {
            "text/plain": [
              "TtestResult(statistic=-0.21087238565395539, pvalue=0.8329954493440059, df=4998.0)"
            ]
          },
          "metadata": {},
          "execution_count": 29
        }
      ],
      "source": [
        "sps.ttest_ind(data.query(\"email==1\")[\"payments\"],data.query(\"email==0\")[\"payments\"])"
      ]
    },
    {
      "cell_type": "markdown",
      "source": [
        "По t-test отвергаем гипотезу"
      ],
      "metadata": {
        "id": "HirZiiG5R5ID"
      },
      "id": "HirZiiG5R5ID"
    },
    {
      "cell_type": "code",
      "execution_count": null,
      "id": "13bd208a",
      "metadata": {
        "id": "13bd208a",
        "outputId": "157687ec-412c-4853-ebc6-22d62910f727",
        "colab": {
          "base_uri": "https://localhost:8080/"
        }
      },
      "outputs": [
        {
          "output_type": "stream",
          "name": "stdout",
          "text": [
            "==============================================================================\n",
            "                 coef    std err          t      P>|t|      [0.025      0.975]\n",
            "------------------------------------------------------------------------------\n",
            "Intercept    669.9764      2.061    325.116      0.000     665.937     674.016\n",
            "email         -0.6203      2.941     -0.211      0.833      -6.387       5.146\n",
            "==============================================================================\n"
          ]
        }
      ],
      "source": [
        "model = smf.ols(formula='payments ~ email', data=data).fit()\n",
        "print(model.summary().tables[1])"
      ]
    },
    {
      "cell_type": "markdown",
      "id": "JR8Y3jniwcDV",
      "metadata": {
        "id": "JR8Y3jniwcDV"
      },
      "source": [
        "**Вывод:**\n",
        "Результат t-test и линейной модели идентичны. Призрнак email статзначимо не разделяет таргет"
      ]
    },
    {
      "cell_type": "markdown",
      "id": "facc43e2",
      "metadata": {
        "id": "facc43e2"
      },
      "source": [
        "Что делать? Вернуться к заказчику, поджав хвост, и сказать, что эксперимент безрезультатен и нужно больше данных?\n",
        "\n",
        "Но посмотрим на другие признаки\n",
        "\n",
        "* `credit_limit` &mdash; кредитный лимит клиента до того, как он просрочил платеж;\n",
        "* `risk_score` &mdash; предполагаемый риск для клиента до момента отправки email.\n"
      ]
    },
    {
      "cell_type": "markdown",
      "id": "7a16b32d",
      "metadata": {
        "id": "7a16b32d"
      },
      "source": [
        "Добавьте их в качестве признаков и обучите модель\n"
      ]
    },
    {
      "cell_type": "code",
      "execution_count": null,
      "id": "639af8f4",
      "metadata": {
        "id": "639af8f4",
        "outputId": "39f5c31c-429e-4280-95ef-e639969e103a",
        "colab": {
          "base_uri": "https://localhost:8080/"
        }
      },
      "outputs": [
        {
          "output_type": "stream",
          "name": "stdout",
          "text": [
            "================================================================================\n",
            "                   coef    std err          t      P>|t|      [0.025      0.975]\n",
            "--------------------------------------------------------------------------------\n",
            "Intercept      490.8653      9.715     50.527      0.000     471.820     509.911\n",
            "email            4.4304      2.130      2.080      0.038       0.255       8.606\n",
            "credit_limit     0.1511      0.008     18.833      0.000       0.135       0.167\n",
            "risk_score      -8.0516     38.424     -0.210      0.834     -83.379      67.276\n",
            "================================================================================\n"
          ]
        }
      ],
      "source": [
        "model_2 = smf.ols(formula='payments ~ email+ credit_limit + risk_score ', data=data).fit()\n",
        "print(model_2.summary().tables[1])"
      ]
    },
    {
      "cell_type": "markdown",
      "id": "_oygj1Tk5qI0",
      "metadata": {
        "id": "_oygj1Tk5qI0"
      },
      "source": [
        "Заметим, что можно извлечь результаты отдельных тестов, например, проверку гипотезы о незначимости коэффициента перед признаком `email`"
      ]
    },
    {
      "cell_type": "code",
      "execution_count": null,
      "id": "KvVpWT2r6Ch1",
      "metadata": {
        "id": "KvVpWT2r6Ch1",
        "outputId": "0165d92b-d47a-4830-c3e4-c80a7010bf3d",
        "colab": {
          "base_uri": "https://localhost:8080/"
        }
      },
      "outputs": [
        {
          "output_type": "execute_result",
          "data": {
            "text/plain": [
              "<class 'statsmodels.stats.contrast.ContrastResults'>\n",
              "                             Test for Constraints                             \n",
              "==============================================================================\n",
              "                 coef    std err          t      P>|t|      [0.025      0.975]\n",
              "------------------------------------------------------------------------------\n",
              "c0             4.4304      2.130      2.080      0.038       0.255       8.606\n",
              "=============================================================================="
            ]
          },
          "metadata": {},
          "execution_count": 34
        }
      ],
      "source": [
        "result = model_2.t_test('email = 0')\n",
        "result"
      ]
    },
    {
      "cell_type": "markdown",
      "id": "8ca9bb4e",
      "metadata": {
        "id": "8ca9bb4e"
      },
      "source": [
        "Рассмотренные признаки могут объяснить разброс значений таргета, снизив тем самым его дисперсию. Кроме того, они не влияют на принадлежность к группе, тем самым не могут внести смещение.\n",
        "\n",
        "Итог: **любые признаки, которые влияют на таргет, не влияя при этом на тритмент, можно использовать в модели**. Они называются **ковариатами**. Это помогает снизить дисперсию."
      ]
    },
    {
      "cell_type": "markdown",
      "id": "49ebc570",
      "metadata": {
        "id": "49ebc570"
      },
      "source": [
        "### 2. Использование признаков: нежелательный случай"
      ]
    },
    {
      "cell_type": "markdown",
      "id": "cc4f3b05",
      "metadata": {
        "id": "cc4f3b05"
      },
      "source": [
        "Загрузим данные hospital_treatment.csv из [репозитория](https://github.com/matheusfacure/python-causality-handbook/blob/master/causal-inference-for-the-brave-and-true/data/hospital_treatment.csv).\n",
        "\n",
        "Две больницы проводят рандомизированное испытание нового препарата для лечения некоторой болезни. Таргет &mdash; количество дней госпитализации, хотим сократить эту величину. В одной больнице его назначают 90% пациентам, соответственно 10% пациентов получают плацебо. В другой больнице дают препарат случайным 10% своих пациентам, соответственно 90% получают плацебо. Причем известно, что первая больница обычно получает более тяжелые случаи заболевания."
      ]
    },
    {
      "cell_type": "code",
      "source": [
        "!wget https://raw.githubusercontent.com/matheusfacure/python-causality-handbook/master/causal-inference-for-the-brave-and-true/data/hospital_treatment.csv"
      ],
      "metadata": {
        "id": "0Cp-_nzxT583",
        "outputId": "56736379-9f65-4c26-ebcf-f353df492ee1",
        "colab": {
          "base_uri": "https://localhost:8080/"
        }
      },
      "id": "0Cp-_nzxT583",
      "execution_count": 4,
      "outputs": [
        {
          "output_type": "stream",
          "name": "stdout",
          "text": [
            "--2024-01-04 11:24:30--  https://raw.githubusercontent.com/matheusfacure/python-causality-handbook/master/causal-inference-for-the-brave-and-true/data/hospital_treatment.csv\n",
            "Resolving raw.githubusercontent.com (raw.githubusercontent.com)... 185.199.109.133, 185.199.108.133, 185.199.110.133, ...\n",
            "Connecting to raw.githubusercontent.com (raw.githubusercontent.com)|185.199.109.133|:443... connected.\n",
            "HTTP request sent, awaiting response... 200 OK\n",
            "Length: 2068 (2.0K) [text/plain]\n",
            "Saving to: ‘hospital_treatment.csv.1’\n",
            "\n",
            "\rhospital_treatment.   0%[                    ]       0  --.-KB/s               \rhospital_treatment. 100%[===================>]   2.02K  --.-KB/s    in 0s      \n",
            "\n",
            "2024-01-04 11:24:30 (48.2 MB/s) - ‘hospital_treatment.csv.1’ saved [2068/2068]\n",
            "\n"
          ]
        }
      ]
    },
    {
      "cell_type": "code",
      "execution_count": 10,
      "id": "zrvY5u5BYnyM",
      "metadata": {
        "id": "zrvY5u5BYnyM"
      },
      "outputs": [],
      "source": [
        "DATA_PATH = \"hospital_treatment.csv\""
      ]
    },
    {
      "cell_type": "code",
      "execution_count": 13,
      "id": "42a10a1e",
      "metadata": {
        "id": "42a10a1e",
        "outputId": "f97a4549-619c-4106-a35c-0eaf93ec6d7c",
        "colab": {
          "base_uri": "https://localhost:8080/",
          "height": 206
        }
      },
      "outputs": [
        {
          "output_type": "execute_result",
          "data": {
            "text/plain": [
              "   hospital  treatment   severity  days\n",
              "0         1          1  29.686618    82\n",
              "1         1          1  20.050340    57\n",
              "2         1          1  20.302399    49\n",
              "3         0          0  10.603118    44\n",
              "4         0          0   8.332793    15"
            ],
            "text/html": [
              "\n",
              "  <div id=\"df-523a9c83-d4e3-47bb-9a42-118906160111\" class=\"colab-df-container\">\n",
              "    <div>\n",
              "<style scoped>\n",
              "    .dataframe tbody tr th:only-of-type {\n",
              "        vertical-align: middle;\n",
              "    }\n",
              "\n",
              "    .dataframe tbody tr th {\n",
              "        vertical-align: top;\n",
              "    }\n",
              "\n",
              "    .dataframe thead th {\n",
              "        text-align: right;\n",
              "    }\n",
              "</style>\n",
              "<table border=\"1\" class=\"dataframe\">\n",
              "  <thead>\n",
              "    <tr style=\"text-align: right;\">\n",
              "      <th></th>\n",
              "      <th>hospital</th>\n",
              "      <th>treatment</th>\n",
              "      <th>severity</th>\n",
              "      <th>days</th>\n",
              "    </tr>\n",
              "  </thead>\n",
              "  <tbody>\n",
              "    <tr>\n",
              "      <th>0</th>\n",
              "      <td>1</td>\n",
              "      <td>1</td>\n",
              "      <td>29.686618</td>\n",
              "      <td>82</td>\n",
              "    </tr>\n",
              "    <tr>\n",
              "      <th>1</th>\n",
              "      <td>1</td>\n",
              "      <td>1</td>\n",
              "      <td>20.050340</td>\n",
              "      <td>57</td>\n",
              "    </tr>\n",
              "    <tr>\n",
              "      <th>2</th>\n",
              "      <td>1</td>\n",
              "      <td>1</td>\n",
              "      <td>20.302399</td>\n",
              "      <td>49</td>\n",
              "    </tr>\n",
              "    <tr>\n",
              "      <th>3</th>\n",
              "      <td>0</td>\n",
              "      <td>0</td>\n",
              "      <td>10.603118</td>\n",
              "      <td>44</td>\n",
              "    </tr>\n",
              "    <tr>\n",
              "      <th>4</th>\n",
              "      <td>0</td>\n",
              "      <td>0</td>\n",
              "      <td>8.332793</td>\n",
              "      <td>15</td>\n",
              "    </tr>\n",
              "  </tbody>\n",
              "</table>\n",
              "</div>\n",
              "    <div class=\"colab-df-buttons\">\n",
              "\n",
              "  <div class=\"colab-df-container\">\n",
              "    <button class=\"colab-df-convert\" onclick=\"convertToInteractive('df-523a9c83-d4e3-47bb-9a42-118906160111')\"\n",
              "            title=\"Convert this dataframe to an interactive table.\"\n",
              "            style=\"display:none;\">\n",
              "\n",
              "  <svg xmlns=\"http://www.w3.org/2000/svg\" height=\"24px\" viewBox=\"0 -960 960 960\">\n",
              "    <path d=\"M120-120v-720h720v720H120Zm60-500h600v-160H180v160Zm220 220h160v-160H400v160Zm0 220h160v-160H400v160ZM180-400h160v-160H180v160Zm440 0h160v-160H620v160ZM180-180h160v-160H180v160Zm440 0h160v-160H620v160Z\"/>\n",
              "  </svg>\n",
              "    </button>\n",
              "\n",
              "  <style>\n",
              "    .colab-df-container {\n",
              "      display:flex;\n",
              "      gap: 12px;\n",
              "    }\n",
              "\n",
              "    .colab-df-convert {\n",
              "      background-color: #E8F0FE;\n",
              "      border: none;\n",
              "      border-radius: 50%;\n",
              "      cursor: pointer;\n",
              "      display: none;\n",
              "      fill: #1967D2;\n",
              "      height: 32px;\n",
              "      padding: 0 0 0 0;\n",
              "      width: 32px;\n",
              "    }\n",
              "\n",
              "    .colab-df-convert:hover {\n",
              "      background-color: #E2EBFA;\n",
              "      box-shadow: 0px 1px 2px rgba(60, 64, 67, 0.3), 0px 1px 3px 1px rgba(60, 64, 67, 0.15);\n",
              "      fill: #174EA6;\n",
              "    }\n",
              "\n",
              "    .colab-df-buttons div {\n",
              "      margin-bottom: 4px;\n",
              "    }\n",
              "\n",
              "    [theme=dark] .colab-df-convert {\n",
              "      background-color: #3B4455;\n",
              "      fill: #D2E3FC;\n",
              "    }\n",
              "\n",
              "    [theme=dark] .colab-df-convert:hover {\n",
              "      background-color: #434B5C;\n",
              "      box-shadow: 0px 1px 3px 1px rgba(0, 0, 0, 0.15);\n",
              "      filter: drop-shadow(0px 1px 2px rgba(0, 0, 0, 0.3));\n",
              "      fill: #FFFFFF;\n",
              "    }\n",
              "  </style>\n",
              "\n",
              "    <script>\n",
              "      const buttonEl =\n",
              "        document.querySelector('#df-523a9c83-d4e3-47bb-9a42-118906160111 button.colab-df-convert');\n",
              "      buttonEl.style.display =\n",
              "        google.colab.kernel.accessAllowed ? 'block' : 'none';\n",
              "\n",
              "      async function convertToInteractive(key) {\n",
              "        const element = document.querySelector('#df-523a9c83-d4e3-47bb-9a42-118906160111');\n",
              "        const dataTable =\n",
              "          await google.colab.kernel.invokeFunction('convertToInteractive',\n",
              "                                                    [key], {});\n",
              "        if (!dataTable) return;\n",
              "\n",
              "        const docLinkHtml = 'Like what you see? Visit the ' +\n",
              "          '<a target=\"_blank\" href=https://colab.research.google.com/notebooks/data_table.ipynb>data table notebook</a>'\n",
              "          + ' to learn more about interactive tables.';\n",
              "        element.innerHTML = '';\n",
              "        dataTable['output_type'] = 'display_data';\n",
              "        await google.colab.output.renderOutput(dataTable, element);\n",
              "        const docLink = document.createElement('div');\n",
              "        docLink.innerHTML = docLinkHtml;\n",
              "        element.appendChild(docLink);\n",
              "      }\n",
              "    </script>\n",
              "  </div>\n",
              "\n",
              "\n",
              "<div id=\"df-62ef38eb-220b-4e11-81b6-7648e5c25789\">\n",
              "  <button class=\"colab-df-quickchart\" onclick=\"quickchart('df-62ef38eb-220b-4e11-81b6-7648e5c25789')\"\n",
              "            title=\"Suggest charts\"\n",
              "            style=\"display:none;\">\n",
              "\n",
              "<svg xmlns=\"http://www.w3.org/2000/svg\" height=\"24px\"viewBox=\"0 0 24 24\"\n",
              "     width=\"24px\">\n",
              "    <g>\n",
              "        <path d=\"M19 3H5c-1.1 0-2 .9-2 2v14c0 1.1.9 2 2 2h14c1.1 0 2-.9 2-2V5c0-1.1-.9-2-2-2zM9 17H7v-7h2v7zm4 0h-2V7h2v10zm4 0h-2v-4h2v4z\"/>\n",
              "    </g>\n",
              "</svg>\n",
              "  </button>\n",
              "\n",
              "<style>\n",
              "  .colab-df-quickchart {\n",
              "      --bg-color: #E8F0FE;\n",
              "      --fill-color: #1967D2;\n",
              "      --hover-bg-color: #E2EBFA;\n",
              "      --hover-fill-color: #174EA6;\n",
              "      --disabled-fill-color: #AAA;\n",
              "      --disabled-bg-color: #DDD;\n",
              "  }\n",
              "\n",
              "  [theme=dark] .colab-df-quickchart {\n",
              "      --bg-color: #3B4455;\n",
              "      --fill-color: #D2E3FC;\n",
              "      --hover-bg-color: #434B5C;\n",
              "      --hover-fill-color: #FFFFFF;\n",
              "      --disabled-bg-color: #3B4455;\n",
              "      --disabled-fill-color: #666;\n",
              "  }\n",
              "\n",
              "  .colab-df-quickchart {\n",
              "    background-color: var(--bg-color);\n",
              "    border: none;\n",
              "    border-radius: 50%;\n",
              "    cursor: pointer;\n",
              "    display: none;\n",
              "    fill: var(--fill-color);\n",
              "    height: 32px;\n",
              "    padding: 0;\n",
              "    width: 32px;\n",
              "  }\n",
              "\n",
              "  .colab-df-quickchart:hover {\n",
              "    background-color: var(--hover-bg-color);\n",
              "    box-shadow: 0 1px 2px rgba(60, 64, 67, 0.3), 0 1px 3px 1px rgba(60, 64, 67, 0.15);\n",
              "    fill: var(--button-hover-fill-color);\n",
              "  }\n",
              "\n",
              "  .colab-df-quickchart-complete:disabled,\n",
              "  .colab-df-quickchart-complete:disabled:hover {\n",
              "    background-color: var(--disabled-bg-color);\n",
              "    fill: var(--disabled-fill-color);\n",
              "    box-shadow: none;\n",
              "  }\n",
              "\n",
              "  .colab-df-spinner {\n",
              "    border: 2px solid var(--fill-color);\n",
              "    border-color: transparent;\n",
              "    border-bottom-color: var(--fill-color);\n",
              "    animation:\n",
              "      spin 1s steps(1) infinite;\n",
              "  }\n",
              "\n",
              "  @keyframes spin {\n",
              "    0% {\n",
              "      border-color: transparent;\n",
              "      border-bottom-color: var(--fill-color);\n",
              "      border-left-color: var(--fill-color);\n",
              "    }\n",
              "    20% {\n",
              "      border-color: transparent;\n",
              "      border-left-color: var(--fill-color);\n",
              "      border-top-color: var(--fill-color);\n",
              "    }\n",
              "    30% {\n",
              "      border-color: transparent;\n",
              "      border-left-color: var(--fill-color);\n",
              "      border-top-color: var(--fill-color);\n",
              "      border-right-color: var(--fill-color);\n",
              "    }\n",
              "    40% {\n",
              "      border-color: transparent;\n",
              "      border-right-color: var(--fill-color);\n",
              "      border-top-color: var(--fill-color);\n",
              "    }\n",
              "    60% {\n",
              "      border-color: transparent;\n",
              "      border-right-color: var(--fill-color);\n",
              "    }\n",
              "    80% {\n",
              "      border-color: transparent;\n",
              "      border-right-color: var(--fill-color);\n",
              "      border-bottom-color: var(--fill-color);\n",
              "    }\n",
              "    90% {\n",
              "      border-color: transparent;\n",
              "      border-bottom-color: var(--fill-color);\n",
              "    }\n",
              "  }\n",
              "</style>\n",
              "\n",
              "  <script>\n",
              "    async function quickchart(key) {\n",
              "      const quickchartButtonEl =\n",
              "        document.querySelector('#' + key + ' button');\n",
              "      quickchartButtonEl.disabled = true;  // To prevent multiple clicks.\n",
              "      quickchartButtonEl.classList.add('colab-df-spinner');\n",
              "      try {\n",
              "        const charts = await google.colab.kernel.invokeFunction(\n",
              "            'suggestCharts', [key], {});\n",
              "      } catch (error) {\n",
              "        console.error('Error during call to suggestCharts:', error);\n",
              "      }\n",
              "      quickchartButtonEl.classList.remove('colab-df-spinner');\n",
              "      quickchartButtonEl.classList.add('colab-df-quickchart-complete');\n",
              "    }\n",
              "    (() => {\n",
              "      let quickchartButtonEl =\n",
              "        document.querySelector('#df-62ef38eb-220b-4e11-81b6-7648e5c25789 button');\n",
              "      quickchartButtonEl.style.display =\n",
              "        google.colab.kernel.accessAllowed ? 'block' : 'none';\n",
              "    })();\n",
              "  </script>\n",
              "</div>\n",
              "\n",
              "    </div>\n",
              "  </div>\n"
            ]
          },
          "metadata": {},
          "execution_count": 13
        }
      ],
      "source": [
        "df = pd.read_csv(DATA_PATH)\n",
        "df.head()"
      ]
    },
    {
      "cell_type": "markdown",
      "id": "012ea07f",
      "metadata": {
        "id": "012ea07f"
      },
      "source": [
        "Так как исследование не рандомизированное, то по общим данным смотреть нельзя"
      ]
    },
    {
      "cell_type": "code",
      "execution_count": 16,
      "id": "f3f9d5cd",
      "metadata": {
        "id": "f3f9d5cd",
        "outputId": "38b49f57-25f5-409a-9a54-356e58e21f1a",
        "colab": {
          "base_uri": "https://localhost:8080/",
          "height": 80
        }
      },
      "outputs": [
        {
          "output_type": "execute_result",
          "data": {
            "text/plain": [
              "<class 'statsmodels.iolib.table.SimpleTable'>"
            ],
            "text/html": [
              "<table class=\"simpletable\">\n",
              "<tr>\n",
              "      <td></td>         <th>coef</th>     <th>std err</th>      <th>t</th>      <th>P>|t|</th>  <th>[0.025</th>    <th>0.975]</th>  \n",
              "</tr>\n",
              "<tr>\n",
              "  <th>Intercept</th> <td>   33.2667</td> <td>    2.662</td> <td>   12.498</td> <td> 0.000</td> <td>   27.968</td> <td>   38.566</td>\n",
              "</tr>\n",
              "<tr>\n",
              "  <th>treatment</th> <td>   14.1533</td> <td>    3.367</td> <td>    4.204</td> <td> 0.000</td> <td>    7.451</td> <td>   20.856</td>\n",
              "</tr>\n",
              "</table>"
            ],
            "text/latex": "\\begin{center}\n\\begin{tabular}{lcccccc}\n\\toprule\n                   & \\textbf{coef} & \\textbf{std err} & \\textbf{t} & \\textbf{P$> |$t$|$} & \\textbf{[0.025} & \\textbf{0.975]}  \\\\\n\\midrule\n\\textbf{Intercept} &      33.2667  &        2.662     &    12.498  &         0.000        &       27.968    &       38.566     \\\\\n\\textbf{treatment} &      14.1533  &        3.367     &     4.204  &         0.000        &        7.451    &       20.856     \\\\\n\\bottomrule\n\\end{tabular}\n\\end{center}"
          },
          "metadata": {},
          "execution_count": 16
        }
      ],
      "source": [
        "hosp_1 = smf.ols(formula='days ~ treatment', data=df).fit()\n",
        "#print(model_2.summary().tables[1])\n",
        "hosp_1.summary().tables[1]"
      ]
    },
    {
      "cell_type": "markdown",
      "id": "q1dSW52GXN4x",
      "metadata": {
        "id": "q1dSW52GXN4x"
      },
      "source": [
        "Но можно посмотреть отдельно по каждой больнице (`hospital`)"
      ]
    },
    {
      "cell_type": "code",
      "execution_count": 17,
      "id": "c8bafe5c",
      "metadata": {
        "id": "c8bafe5c",
        "colab": {
          "base_uri": "https://localhost:8080/",
          "height": 80
        },
        "outputId": "d04e844a-7858-4855-d2e5-fae3ce97a23c"
      },
      "outputs": [
        {
          "output_type": "execute_result",
          "data": {
            "text/plain": [
              "<class 'statsmodels.iolib.table.SimpleTable'>"
            ],
            "text/html": [
              "<table class=\"simpletable\">\n",
              "<tr>\n",
              "      <td></td>         <th>coef</th>     <th>std err</th>      <th>t</th>      <th>P>|t|</th>  <th>[0.025</th>    <th>0.975]</th>  \n",
              "</tr>\n",
              "<tr>\n",
              "  <th>Intercept</th> <td>   30.4074</td> <td>    2.868</td> <td>   10.602</td> <td> 0.000</td> <td>   24.523</td> <td>   36.292</td>\n",
              "</tr>\n",
              "<tr>\n",
              "  <th>treatment</th> <td>  -11.4074</td> <td>   10.921</td> <td>   -1.045</td> <td> 0.306</td> <td>  -33.816</td> <td>   11.001</td>\n",
              "</tr>\n",
              "</table>"
            ],
            "text/latex": "\\begin{center}\n\\begin{tabular}{lcccccc}\n\\toprule\n                   & \\textbf{coef} & \\textbf{std err} & \\textbf{t} & \\textbf{P$> |$t$|$} & \\textbf{[0.025} & \\textbf{0.975]}  \\\\\n\\midrule\n\\textbf{Intercept} &      30.4074  &        2.868     &    10.602  &         0.000        &       24.523    &       36.292     \\\\\n\\textbf{treatment} &     -11.4074  &       10.921     &    -1.045  &         0.306        &      -33.816    &       11.001     \\\\\n\\bottomrule\n\\end{tabular}\n\\end{center}"
          },
          "metadata": {},
          "execution_count": 17
        }
      ],
      "source": [
        "hosp_2 = smf.ols(formula='days ~ treatment', data=df.query('hospital==0')).fit()\n",
        "hosp_2.summary().tables[1]"
      ]
    },
    {
      "cell_type": "code",
      "execution_count": 20,
      "id": "b7fb0bfa",
      "metadata": {
        "id": "b7fb0bfa",
        "colab": {
          "base_uri": "https://localhost:8080/",
          "height": 80
        },
        "outputId": "5715cff5-87bb-4ba9-83c9-9c7e944e9de0"
      },
      "outputs": [
        {
          "output_type": "execute_result",
          "data": {
            "text/plain": [
              "<class 'statsmodels.iolib.table.SimpleTable'>"
            ],
            "text/html": [
              "<table class=\"simpletable\">\n",
              "<tr>\n",
              "      <td></td>         <th>coef</th>     <th>std err</th>      <th>t</th>      <th>P>|t|</th>  <th>[0.025</th>    <th>0.975]</th>  \n",
              "</tr>\n",
              "<tr>\n",
              "  <th>Intercept</th> <td>   59.0000</td> <td>    6.747</td> <td>    8.745</td> <td> 0.000</td> <td>   45.442</td> <td>   72.558</td>\n",
              "</tr>\n",
              "<tr>\n",
              "  <th>treatment</th> <td>  -10.3958</td> <td>    6.955</td> <td>   -1.495</td> <td> 0.141</td> <td>  -24.371</td> <td>    3.580</td>\n",
              "</tr>\n",
              "</table>"
            ],
            "text/latex": "\\begin{center}\n\\begin{tabular}{lcccccc}\n\\toprule\n                   & \\textbf{coef} & \\textbf{std err} & \\textbf{t} & \\textbf{P$> |$t$|$} & \\textbf{[0.025} & \\textbf{0.975]}  \\\\\n\\midrule\n\\textbf{Intercept} &      59.0000  &        6.747     &     8.745  &         0.000        &       45.442    &       72.558     \\\\\n\\textbf{treatment} &     -10.3958  &        6.955     &    -1.495  &         0.141        &      -24.371    &        3.580     \\\\\n\\bottomrule\n\\end{tabular}\n\\end{center}"
          },
          "metadata": {},
          "execution_count": 20
        }
      ],
      "source": [
        "hosp_3 = smf.ols(formula='days ~ treatment', data=df.query('hospital==1')).fit()\n",
        "hosp_3.summary().tables[1]"
      ]
    },
    {
      "cell_type": "markdown",
      "id": "63ab07e1",
      "metadata": {
        "id": "63ab07e1"
      },
      "source": [
        "Поскольку мы рассматриваем каждую больницу отдельно, данных недостаточно, и результаты не являются стат. значимыми.\n",
        "\n",
        "Но мы знаем, что на результат влияет степень тяжести заболевания, и можем включить ее в модель. Такой признак называется **конфаундером (confounder)**, он влечет как тритмент, так и таргет."
      ]
    },
    {
      "cell_type": "code",
      "execution_count": 25,
      "id": "c6a36d2d",
      "metadata": {
        "id": "c6a36d2d",
        "colab": {
          "base_uri": "https://localhost:8080/",
          "height": 100
        },
        "outputId": "56767691-b4f4-45a0-9e82-ece7035a8a26"
      },
      "outputs": [
        {
          "output_type": "execute_result",
          "data": {
            "text/plain": [
              "<class 'statsmodels.iolib.table.SimpleTable'>"
            ],
            "text/html": [
              "<table class=\"simpletable\">\n",
              "<tr>\n",
              "      <td></td>         <th>coef</th>     <th>std err</th>      <th>t</th>      <th>P>|t|</th>  <th>[0.025</th>    <th>0.975]</th>  \n",
              "</tr>\n",
              "<tr>\n",
              "  <th>Intercept</th> <td>    8.4304</td> <td>    2.897</td> <td>    2.910</td> <td> 0.007</td> <td>    2.475</td> <td>   14.386</td>\n",
              "</tr>\n",
              "<tr>\n",
              "  <th>treatment</th> <td>   -7.5741</td> <td>    5.599</td> <td>   -1.353</td> <td> 0.188</td> <td>  -19.083</td> <td>    3.935</td>\n",
              "</tr>\n",
              "<tr>\n",
              "  <th>severity</th>  <td>    2.7329</td> <td>    0.311</td> <td>    8.795</td> <td> 0.000</td> <td>    2.094</td> <td>    3.372</td>\n",
              "</tr>\n",
              "</table>"
            ],
            "text/latex": "\\begin{center}\n\\begin{tabular}{lcccccc}\n\\toprule\n                   & \\textbf{coef} & \\textbf{std err} & \\textbf{t} & \\textbf{P$> |$t$|$} & \\textbf{[0.025} & \\textbf{0.975]}  \\\\\n\\midrule\n\\textbf{Intercept} &       8.4304  &        2.897     &     2.910  &         0.007        &        2.475    &       14.386     \\\\\n\\textbf{treatment} &      -7.5741  &        5.599     &    -1.353  &         0.188        &      -19.083    &        3.935     \\\\\n\\textbf{severity}  &       2.7329  &        0.311     &     8.795  &         0.000        &        2.094    &        3.372     \\\\\n\\bottomrule\n\\end{tabular}\n\\end{center}"
          },
          "metadata": {},
          "execution_count": 25
        }
      ],
      "source": [
        "hosp_4 = smf.ols(formula='days ~ treatment + severity', data=df.query('hospital==0')).fit()\n",
        "hosp_4.summary().tables[1]"
      ]
    },
    {
      "cell_type": "markdown",
      "id": "86fa5163",
      "metadata": {
        "id": "86fa5163"
      },
      "source": [
        "Нужно ли включить больницу в модель? Мы же знаем, что лечение назначается в больницах, и, кажется это будет дополнительной информацией.\n",
        "\n",
        "Однако, при фиксировании степени тяжести и тритмента, больница не коррелирует таргетом. Она влечет только тритмент, поэтому не является конфаундером. Для снижения дисперсии, этот признак должен быть хорошей ковариатой таргета, а не тритмента.\n",
        "\n",
        "Если мы попробуем его использовать, мы повысим дисперсию"
      ]
    },
    {
      "cell_type": "code",
      "execution_count": 26,
      "id": "368145e8",
      "metadata": {
        "id": "368145e8",
        "colab": {
          "base_uri": "https://localhost:8080/",
          "height": 100
        },
        "outputId": "6be4041e-abff-4051-ab15-37c3a1426d31"
      },
      "outputs": [
        {
          "output_type": "execute_result",
          "data": {
            "text/plain": [
              "<class 'statsmodels.iolib.table.SimpleTable'>"
            ],
            "text/html": [
              "<table class=\"simpletable\">\n",
              "<tr>\n",
              "      <td></td>         <th>coef</th>     <th>std err</th>      <th>t</th>      <th>P>|t|</th>  <th>[0.025</th>    <th>0.975]</th>  \n",
              "</tr>\n",
              "<tr>\n",
              "  <th>Intercept</th> <td>   10.1625</td> <td>    7.068</td> <td>    1.438</td> <td> 0.157</td> <td>   -4.049</td> <td>   24.374</td>\n",
              "</tr>\n",
              "<tr>\n",
              "  <th>treatment</th> <td>   -3.8305</td> <td>    4.455</td> <td>   -0.860</td> <td> 0.394</td> <td>  -12.788</td> <td>    5.127</td>\n",
              "</tr>\n",
              "<tr>\n",
              "  <th>severity</th>  <td>    2.1590</td> <td>    0.249</td> <td>    8.658</td> <td> 0.000</td> <td>    1.658</td> <td>    2.660</td>\n",
              "</tr>\n",
              "</table>"
            ],
            "text/latex": "\\begin{center}\n\\begin{tabular}{lcccccc}\n\\toprule\n                   & \\textbf{coef} & \\textbf{std err} & \\textbf{t} & \\textbf{P$> |$t$|$} & \\textbf{[0.025} & \\textbf{0.975]}  \\\\\n\\midrule\n\\textbf{Intercept} &      10.1625  &        7.068     &     1.438  &         0.157        &       -4.049    &       24.374     \\\\\n\\textbf{treatment} &      -3.8305  &        4.455     &    -0.860  &         0.394        &      -12.788    &        5.127     \\\\\n\\textbf{severity}  &       2.1590  &        0.249     &     8.658  &         0.000        &        1.658    &        2.660     \\\\\n\\bottomrule\n\\end{tabular}\n\\end{center}"
          },
          "metadata": {},
          "execution_count": 26
        }
      ],
      "source": [
        "hosp_5 = smf.ols(formula='days ~ treatment + severity', data=df.query('hospital==1')).fit()\n",
        "hosp_5.summary().tables[1]"
      ]
    },
    {
      "cell_type": "markdown",
      "id": "LGfNm7XE8X3L",
      "metadata": {
        "id": "LGfNm7XE8X3L"
      },
      "source": [
        "**Выводы:**"
      ]
    },
    {
      "cell_type": "markdown",
      "id": "2684d90e",
      "metadata": {
        "id": "2684d90e"
      },
      "source": [
        "Итог:\n",
        "* Необходимо добавлять в модель **переменные-ковариаты**, которые влекут таргет.\n",
        "* Необходимо добавлять в модель **переменные-конфаундеры**, которые влекут как тритмент, так и таргет.\n",
        "* Не следует добавлять в модель переменные, которые могут только спрогнозировать тритмент."
      ]
    },
    {
      "cell_type": "markdown",
      "id": "3b18b5be",
      "metadata": {
        "id": "3b18b5be"
      },
      "source": [
        "### 3. Использование признаков: плохой случай, возникновение смещения"
      ]
    },
    {
      "cell_type": "markdown",
      "id": "NDjXs2eyCgVz",
      "metadata": {
        "id": "NDjXs2eyCgVz"
      },
      "source": [
        "Вернемся к примеру с письмами. Рассмотрим два дополнительных признака, которые есть в наших данных:\n",
        "* `opened` &mdash; открыл ли клиент письмо или нет,\n",
        "* `agreement` &mdash; клиент связался для обсуждения своего долга после получения письма.\n",
        "\n",
        "Какая из следующих моделей лучше? Только с `email + credit_limit + risk_score` или с еще двумя признаками?"
      ]
    },
    {
      "cell_type": "code",
      "source": [
        "DATA_PATH = \"collections_email.csv\"\n",
        "data = pd.read_csv(DATA_PATH)\n",
        "data.head()"
      ],
      "metadata": {
        "colab": {
          "base_uri": "https://localhost:8080/",
          "height": 206
        },
        "id": "PFXKDRXRBwg_",
        "outputId": "c91f0452-96d1-4998-b3bd-557b598c4ee2"
      },
      "id": "PFXKDRXRBwg_",
      "execution_count": 37,
      "outputs": [
        {
          "output_type": "execute_result",
          "data": {
            "text/plain": [
              "   payments  email  opened  agreement  credit_limit  risk_score\n",
              "0       740      1     1.0        0.0   2348.495260    0.666752\n",
              "1       580      1     1.0        1.0    334.111969    0.207395\n",
              "2       600      1     1.0        1.0   1360.660722    0.550479\n",
              "3       770      0     0.0        0.0   1531.828576    0.560488\n",
              "4       660      0     0.0        0.0    979.855647    0.455140"
            ],
            "text/html": [
              "\n",
              "  <div id=\"df-8704269e-48f4-4e77-9fa3-f8d825db89cb\" class=\"colab-df-container\">\n",
              "    <div>\n",
              "<style scoped>\n",
              "    .dataframe tbody tr th:only-of-type {\n",
              "        vertical-align: middle;\n",
              "    }\n",
              "\n",
              "    .dataframe tbody tr th {\n",
              "        vertical-align: top;\n",
              "    }\n",
              "\n",
              "    .dataframe thead th {\n",
              "        text-align: right;\n",
              "    }\n",
              "</style>\n",
              "<table border=\"1\" class=\"dataframe\">\n",
              "  <thead>\n",
              "    <tr style=\"text-align: right;\">\n",
              "      <th></th>\n",
              "      <th>payments</th>\n",
              "      <th>email</th>\n",
              "      <th>opened</th>\n",
              "      <th>agreement</th>\n",
              "      <th>credit_limit</th>\n",
              "      <th>risk_score</th>\n",
              "    </tr>\n",
              "  </thead>\n",
              "  <tbody>\n",
              "    <tr>\n",
              "      <th>0</th>\n",
              "      <td>740</td>\n",
              "      <td>1</td>\n",
              "      <td>1.0</td>\n",
              "      <td>0.0</td>\n",
              "      <td>2348.495260</td>\n",
              "      <td>0.666752</td>\n",
              "    </tr>\n",
              "    <tr>\n",
              "      <th>1</th>\n",
              "      <td>580</td>\n",
              "      <td>1</td>\n",
              "      <td>1.0</td>\n",
              "      <td>1.0</td>\n",
              "      <td>334.111969</td>\n",
              "      <td>0.207395</td>\n",
              "    </tr>\n",
              "    <tr>\n",
              "      <th>2</th>\n",
              "      <td>600</td>\n",
              "      <td>1</td>\n",
              "      <td>1.0</td>\n",
              "      <td>1.0</td>\n",
              "      <td>1360.660722</td>\n",
              "      <td>0.550479</td>\n",
              "    </tr>\n",
              "    <tr>\n",
              "      <th>3</th>\n",
              "      <td>770</td>\n",
              "      <td>0</td>\n",
              "      <td>0.0</td>\n",
              "      <td>0.0</td>\n",
              "      <td>1531.828576</td>\n",
              "      <td>0.560488</td>\n",
              "    </tr>\n",
              "    <tr>\n",
              "      <th>4</th>\n",
              "      <td>660</td>\n",
              "      <td>0</td>\n",
              "      <td>0.0</td>\n",
              "      <td>0.0</td>\n",
              "      <td>979.855647</td>\n",
              "      <td>0.455140</td>\n",
              "    </tr>\n",
              "  </tbody>\n",
              "</table>\n",
              "</div>\n",
              "    <div class=\"colab-df-buttons\">\n",
              "\n",
              "  <div class=\"colab-df-container\">\n",
              "    <button class=\"colab-df-convert\" onclick=\"convertToInteractive('df-8704269e-48f4-4e77-9fa3-f8d825db89cb')\"\n",
              "            title=\"Convert this dataframe to an interactive table.\"\n",
              "            style=\"display:none;\">\n",
              "\n",
              "  <svg xmlns=\"http://www.w3.org/2000/svg\" height=\"24px\" viewBox=\"0 -960 960 960\">\n",
              "    <path d=\"M120-120v-720h720v720H120Zm60-500h600v-160H180v160Zm220 220h160v-160H400v160Zm0 220h160v-160H400v160ZM180-400h160v-160H180v160Zm440 0h160v-160H620v160ZM180-180h160v-160H180v160Zm440 0h160v-160H620v160Z\"/>\n",
              "  </svg>\n",
              "    </button>\n",
              "\n",
              "  <style>\n",
              "    .colab-df-container {\n",
              "      display:flex;\n",
              "      gap: 12px;\n",
              "    }\n",
              "\n",
              "    .colab-df-convert {\n",
              "      background-color: #E8F0FE;\n",
              "      border: none;\n",
              "      border-radius: 50%;\n",
              "      cursor: pointer;\n",
              "      display: none;\n",
              "      fill: #1967D2;\n",
              "      height: 32px;\n",
              "      padding: 0 0 0 0;\n",
              "      width: 32px;\n",
              "    }\n",
              "\n",
              "    .colab-df-convert:hover {\n",
              "      background-color: #E2EBFA;\n",
              "      box-shadow: 0px 1px 2px rgba(60, 64, 67, 0.3), 0px 1px 3px 1px rgba(60, 64, 67, 0.15);\n",
              "      fill: #174EA6;\n",
              "    }\n",
              "\n",
              "    .colab-df-buttons div {\n",
              "      margin-bottom: 4px;\n",
              "    }\n",
              "\n",
              "    [theme=dark] .colab-df-convert {\n",
              "      background-color: #3B4455;\n",
              "      fill: #D2E3FC;\n",
              "    }\n",
              "\n",
              "    [theme=dark] .colab-df-convert:hover {\n",
              "      background-color: #434B5C;\n",
              "      box-shadow: 0px 1px 3px 1px rgba(0, 0, 0, 0.15);\n",
              "      filter: drop-shadow(0px 1px 2px rgba(0, 0, 0, 0.3));\n",
              "      fill: #FFFFFF;\n",
              "    }\n",
              "  </style>\n",
              "\n",
              "    <script>\n",
              "      const buttonEl =\n",
              "        document.querySelector('#df-8704269e-48f4-4e77-9fa3-f8d825db89cb button.colab-df-convert');\n",
              "      buttonEl.style.display =\n",
              "        google.colab.kernel.accessAllowed ? 'block' : 'none';\n",
              "\n",
              "      async function convertToInteractive(key) {\n",
              "        const element = document.querySelector('#df-8704269e-48f4-4e77-9fa3-f8d825db89cb');\n",
              "        const dataTable =\n",
              "          await google.colab.kernel.invokeFunction('convertToInteractive',\n",
              "                                                    [key], {});\n",
              "        if (!dataTable) return;\n",
              "\n",
              "        const docLinkHtml = 'Like what you see? Visit the ' +\n",
              "          '<a target=\"_blank\" href=https://colab.research.google.com/notebooks/data_table.ipynb>data table notebook</a>'\n",
              "          + ' to learn more about interactive tables.';\n",
              "        element.innerHTML = '';\n",
              "        dataTable['output_type'] = 'display_data';\n",
              "        await google.colab.output.renderOutput(dataTable, element);\n",
              "        const docLink = document.createElement('div');\n",
              "        docLink.innerHTML = docLinkHtml;\n",
              "        element.appendChild(docLink);\n",
              "      }\n",
              "    </script>\n",
              "  </div>\n",
              "\n",
              "\n",
              "<div id=\"df-dfd9784f-5b91-40aa-b06c-022c6b706c6e\">\n",
              "  <button class=\"colab-df-quickchart\" onclick=\"quickchart('df-dfd9784f-5b91-40aa-b06c-022c6b706c6e')\"\n",
              "            title=\"Suggest charts\"\n",
              "            style=\"display:none;\">\n",
              "\n",
              "<svg xmlns=\"http://www.w3.org/2000/svg\" height=\"24px\"viewBox=\"0 0 24 24\"\n",
              "     width=\"24px\">\n",
              "    <g>\n",
              "        <path d=\"M19 3H5c-1.1 0-2 .9-2 2v14c0 1.1.9 2 2 2h14c1.1 0 2-.9 2-2V5c0-1.1-.9-2-2-2zM9 17H7v-7h2v7zm4 0h-2V7h2v10zm4 0h-2v-4h2v4z\"/>\n",
              "    </g>\n",
              "</svg>\n",
              "  </button>\n",
              "\n",
              "<style>\n",
              "  .colab-df-quickchart {\n",
              "      --bg-color: #E8F0FE;\n",
              "      --fill-color: #1967D2;\n",
              "      --hover-bg-color: #E2EBFA;\n",
              "      --hover-fill-color: #174EA6;\n",
              "      --disabled-fill-color: #AAA;\n",
              "      --disabled-bg-color: #DDD;\n",
              "  }\n",
              "\n",
              "  [theme=dark] .colab-df-quickchart {\n",
              "      --bg-color: #3B4455;\n",
              "      --fill-color: #D2E3FC;\n",
              "      --hover-bg-color: #434B5C;\n",
              "      --hover-fill-color: #FFFFFF;\n",
              "      --disabled-bg-color: #3B4455;\n",
              "      --disabled-fill-color: #666;\n",
              "  }\n",
              "\n",
              "  .colab-df-quickchart {\n",
              "    background-color: var(--bg-color);\n",
              "    border: none;\n",
              "    border-radius: 50%;\n",
              "    cursor: pointer;\n",
              "    display: none;\n",
              "    fill: var(--fill-color);\n",
              "    height: 32px;\n",
              "    padding: 0;\n",
              "    width: 32px;\n",
              "  }\n",
              "\n",
              "  .colab-df-quickchart:hover {\n",
              "    background-color: var(--hover-bg-color);\n",
              "    box-shadow: 0 1px 2px rgba(60, 64, 67, 0.3), 0 1px 3px 1px rgba(60, 64, 67, 0.15);\n",
              "    fill: var(--button-hover-fill-color);\n",
              "  }\n",
              "\n",
              "  .colab-df-quickchart-complete:disabled,\n",
              "  .colab-df-quickchart-complete:disabled:hover {\n",
              "    background-color: var(--disabled-bg-color);\n",
              "    fill: var(--disabled-fill-color);\n",
              "    box-shadow: none;\n",
              "  }\n",
              "\n",
              "  .colab-df-spinner {\n",
              "    border: 2px solid var(--fill-color);\n",
              "    border-color: transparent;\n",
              "    border-bottom-color: var(--fill-color);\n",
              "    animation:\n",
              "      spin 1s steps(1) infinite;\n",
              "  }\n",
              "\n",
              "  @keyframes spin {\n",
              "    0% {\n",
              "      border-color: transparent;\n",
              "      border-bottom-color: var(--fill-color);\n",
              "      border-left-color: var(--fill-color);\n",
              "    }\n",
              "    20% {\n",
              "      border-color: transparent;\n",
              "      border-left-color: var(--fill-color);\n",
              "      border-top-color: var(--fill-color);\n",
              "    }\n",
              "    30% {\n",
              "      border-color: transparent;\n",
              "      border-left-color: var(--fill-color);\n",
              "      border-top-color: var(--fill-color);\n",
              "      border-right-color: var(--fill-color);\n",
              "    }\n",
              "    40% {\n",
              "      border-color: transparent;\n",
              "      border-right-color: var(--fill-color);\n",
              "      border-top-color: var(--fill-color);\n",
              "    }\n",
              "    60% {\n",
              "      border-color: transparent;\n",
              "      border-right-color: var(--fill-color);\n",
              "    }\n",
              "    80% {\n",
              "      border-color: transparent;\n",
              "      border-right-color: var(--fill-color);\n",
              "      border-bottom-color: var(--fill-color);\n",
              "    }\n",
              "    90% {\n",
              "      border-color: transparent;\n",
              "      border-bottom-color: var(--fill-color);\n",
              "    }\n",
              "  }\n",
              "</style>\n",
              "\n",
              "  <script>\n",
              "    async function quickchart(key) {\n",
              "      const quickchartButtonEl =\n",
              "        document.querySelector('#' + key + ' button');\n",
              "      quickchartButtonEl.disabled = true;  // To prevent multiple clicks.\n",
              "      quickchartButtonEl.classList.add('colab-df-spinner');\n",
              "      try {\n",
              "        const charts = await google.colab.kernel.invokeFunction(\n",
              "            'suggestCharts', [key], {});\n",
              "      } catch (error) {\n",
              "        console.error('Error during call to suggestCharts:', error);\n",
              "      }\n",
              "      quickchartButtonEl.classList.remove('colab-df-spinner');\n",
              "      quickchartButtonEl.classList.add('colab-df-quickchart-complete');\n",
              "    }\n",
              "    (() => {\n",
              "      let quickchartButtonEl =\n",
              "        document.querySelector('#df-dfd9784f-5b91-40aa-b06c-022c6b706c6e button');\n",
              "      quickchartButtonEl.style.display =\n",
              "        google.colab.kernel.accessAllowed ? 'block' : 'none';\n",
              "    })();\n",
              "  </script>\n",
              "</div>\n",
              "\n",
              "    </div>\n",
              "  </div>\n"
            ]
          },
          "metadata": {},
          "execution_count": 37
        }
      ]
    },
    {
      "cell_type": "code",
      "execution_count": 44,
      "id": "ac83fcc7",
      "metadata": {
        "id": "ac83fcc7",
        "colab": {
          "base_uri": "https://localhost:8080/",
          "height": 162
        },
        "outputId": "7836f894-50f4-44bc-a509-55ef912368b2"
      },
      "outputs": [
        {
          "output_type": "execute_result",
          "data": {
            "text/plain": [
              "<class 'statsmodels.iolib.table.SimpleTable'>"
            ],
            "text/html": [
              "<table class=\"simpletable\">\n",
              "<tr>\n",
              "        <td></td>          <th>coef</th>     <th>std err</th>      <th>t</th>      <th>P>|t|</th>  <th>[0.025</th>    <th>0.975]</th>  \n",
              "</tr>\n",
              "<tr>\n",
              "  <th>Intercept</th>    <td>  488.4416</td> <td>    9.716</td> <td>   50.272</td> <td> 0.000</td> <td>  469.394</td> <td>  507.489</td>\n",
              "</tr>\n",
              "<tr>\n",
              "  <th>email</th>        <td>   -1.6095</td> <td>    2.724</td> <td>   -0.591</td> <td> 0.555</td> <td>   -6.949</td> <td>    3.730</td>\n",
              "</tr>\n",
              "<tr>\n",
              "  <th>credit_limit</th> <td>    0.1507</td> <td>    0.008</td> <td>   18.809</td> <td> 0.000</td> <td>    0.135</td> <td>    0.166</td>\n",
              "</tr>\n",
              "<tr>\n",
              "  <th>risk_score</th>   <td>   -2.0929</td> <td>   38.375</td> <td>   -0.055</td> <td> 0.957</td> <td>  -77.325</td> <td>   73.139</td>\n",
              "</tr>\n",
              "<tr>\n",
              "  <th>opened</th>       <td>    3.9808</td> <td>    3.914</td> <td>    1.017</td> <td> 0.309</td> <td>   -3.692</td> <td>   11.654</td>\n",
              "</tr>\n",
              "<tr>\n",
              "  <th>agreement</th>    <td>   11.7093</td> <td>    4.166</td> <td>    2.811</td> <td> 0.005</td> <td>    3.542</td> <td>   19.876</td>\n",
              "</tr>\n",
              "</table>"
            ],
            "text/latex": "\\begin{center}\n\\begin{tabular}{lcccccc}\n\\toprule\n                       & \\textbf{coef} & \\textbf{std err} & \\textbf{t} & \\textbf{P$> |$t$|$} & \\textbf{[0.025} & \\textbf{0.975]}  \\\\\n\\midrule\n\\textbf{Intercept}     &     488.4416  &        9.716     &    50.272  &         0.000        &      469.394    &      507.489     \\\\\n\\textbf{email}         &      -1.6095  &        2.724     &    -0.591  &         0.555        &       -6.949    &        3.730     \\\\\n\\textbf{credit\\_limit} &       0.1507  &        0.008     &    18.809  &         0.000        &        0.135    &        0.166     \\\\\n\\textbf{risk\\_score}   &      -2.0929  &       38.375     &    -0.055  &         0.957        &      -77.325    &       73.139     \\\\\n\\textbf{opened}        &       3.9808  &        3.914     &     1.017  &         0.309        &       -3.692    &       11.654     \\\\\n\\textbf{agreement}     &      11.7093  &        4.166     &     2.811  &         0.005        &        3.542    &       19.876     \\\\\n\\bottomrule\n\\end{tabular}\n\\end{center}"
          },
          "metadata": {},
          "execution_count": 44
        }
      ],
      "source": [
        "email_1 = smf.ols(formula='payments ~ email + credit_limit + risk_score + opened + agreement', data=data).fit()\n",
        "email_1.summary().tables[1]"
      ]
    },
    {
      "cell_type": "code",
      "execution_count": 45,
      "id": "02c64f43",
      "metadata": {
        "id": "02c64f43",
        "colab": {
          "base_uri": "https://localhost:8080/",
          "height": 121
        },
        "outputId": "aec61df8-25e9-4af5-8398-13cb8aacc94c"
      },
      "outputs": [
        {
          "output_type": "execute_result",
          "data": {
            "text/plain": [
              "<class 'statsmodels.iolib.table.SimpleTable'>"
            ],
            "text/html": [
              "<table class=\"simpletable\">\n",
              "<tr>\n",
              "        <td></td>          <th>coef</th>     <th>std err</th>      <th>t</th>      <th>P>|t|</th>  <th>[0.025</th>    <th>0.975]</th>  \n",
              "</tr>\n",
              "<tr>\n",
              "  <th>Intercept</th>    <td>  490.8653</td> <td>    9.715</td> <td>   50.527</td> <td> 0.000</td> <td>  471.820</td> <td>  509.911</td>\n",
              "</tr>\n",
              "<tr>\n",
              "  <th>email</th>        <td>    4.4304</td> <td>    2.130</td> <td>    2.080</td> <td> 0.038</td> <td>    0.255</td> <td>    8.606</td>\n",
              "</tr>\n",
              "<tr>\n",
              "  <th>credit_limit</th> <td>    0.1511</td> <td>    0.008</td> <td>   18.833</td> <td> 0.000</td> <td>    0.135</td> <td>    0.167</td>\n",
              "</tr>\n",
              "<tr>\n",
              "  <th>risk_score</th>   <td>   -8.0516</td> <td>   38.424</td> <td>   -0.210</td> <td> 0.834</td> <td>  -83.379</td> <td>   67.276</td>\n",
              "</tr>\n",
              "</table>"
            ],
            "text/latex": "\\begin{center}\n\\begin{tabular}{lcccccc}\n\\toprule\n                       & \\textbf{coef} & \\textbf{std err} & \\textbf{t} & \\textbf{P$> |$t$|$} & \\textbf{[0.025} & \\textbf{0.975]}  \\\\\n\\midrule\n\\textbf{Intercept}     &     490.8653  &        9.715     &    50.527  &         0.000        &      471.820    &      509.911     \\\\\n\\textbf{email}         &       4.4304  &        2.130     &     2.080  &         0.038        &        0.255    &        8.606     \\\\\n\\textbf{credit\\_limit} &       0.1511  &        0.008     &    18.833  &         0.000        &        0.135    &        0.167     \\\\\n\\textbf{risk\\_score}   &      -8.0516  &       38.424     &    -0.210  &         0.834        &      -83.379    &       67.276     \\\\\n\\bottomrule\n\\end{tabular}\n\\end{center}"
          },
          "metadata": {},
          "execution_count": 45
        }
      ],
      "source": [
        "email_2 = smf.ols(formula='payments ~ email + credit_limit + risk_score', data=data).fit()\n",
        "email_2.summary().tables[1]"
      ]
    },
    {
      "cell_type": "markdown",
      "id": "4069368a",
      "metadata": {
        "id": "4069368a"
      },
      "source": [
        "Первая модель находит статистически значимые результаты для коэффициента `email`, вторая &mdash; нет. Кажется, раз первая модель смогла найти разницу, то она круче. Но ведь во второй модели мы учли дополнительные факторы, и, может быть, она на самом деле правильная, и тритмент никак не влияет на результат?\n",
        "\n",
        "---\n",
        "\n",
        "К какому из трех типов признаков относятся `opened` и `agreement`?"
      ]
    },
    {
      "cell_type": "markdown",
      "id": "auLCHcwu9V8n",
      "metadata": {
        "id": "auLCHcwu9V8n"
      },
      "source": [
        "**Ответ:**\n",
        "Регрессия фиксирует изменения в прочих признаках. Но результат `opened` и `agreement` зависят от `email`. Учесть п"
      ]
    },
    {
      "cell_type": "markdown",
      "id": "n5tBH6DT9lw9",
      "metadata": {
        "id": "n5tBH6DT9lw9"
      },
      "source": [
        "*Примечание.* Заметим, что `email` может влиять на таргет не только через opened, но и напрямую. Например, клиент увидел письмо, и погасил свой долг, не открывая само письмо."
      ]
    },
    {
      "cell_type": "markdown",
      "id": "9a7b578c",
      "metadata": {
        "id": "9a7b578c"
      },
      "source": [
        "Проблема заключается в том, что теперь помимо основного пути `email -> payment` у нас еще есть дополнительный путь `email -> opened -> agreement -> payment`. Тем самым часть истинного эффекта влияния тритмента на таргет перетекла на дополнительный путь, который не учтен в коэффициенте линейной регрессии перед `email`. Ведь есть еще и `opened=1`, то вклад в эффект является уже суммой двух коэффициентов линейной регрессии."
      ]
    },
    {
      "cell_type": "markdown",
      "id": "db12007b",
      "metadata": {
        "id": "db12007b"
      },
      "source": [
        "### 4. Замечание: Bad COP"
      ]
    },
    {
      "cell_type": "markdown",
      "id": "276def1f",
      "metadata": {
        "id": "276def1f"
      },
      "source": [
        "Пусть есть следующий признак"
      ]
    },
    {
      "cell_type": "code",
      "execution_count": 46,
      "id": "071cd192",
      "metadata": {
        "id": "071cd192",
        "outputId": "f5270854-2db0-4b84-a500-d8ad61d99886",
        "colab": {
          "base_uri": "https://localhost:8080/",
          "height": 403
        }
      },
      "outputs": [
        {
          "output_type": "display_data",
          "data": {
            "text/plain": [
              "<Figure size 600x400 with 1 Axes>"
            ],
            "image/png": "[encoded data removed]"
          },
          "metadata": {}
        }
      ],
      "source": [
        "plt.figure(figsize=(6, 4))\n",
        "plt.hist(np.concatenate([\n",
        "    np.random.gamma(5, 50, 1000),\n",
        "    np.zeros(700)\n",
        "]),  bins = 20)\n",
        "plt.xlabel(\"Траты пользователей\")\n",
        "plt.ylabel(\"Количество случаев\")\n",
        "plt.show()"
      ]
    },
    {
      "cell_type": "markdown",
      "id": "e2810682",
      "metadata": {
        "id": "e2810682"
      },
      "source": [
        "Кажется, что можно произвести моделирование в 2 этапа:\n",
        "* Первая часть &mdash; предсказание, потратит ли клиент деньги.\n",
        "* Вторая часть &mdash; предсказание того, сколько конкретно клиент потратит денег, если он вообще потратит.\n",
        "\n",
        "Вторая часть называется *эффектом обусловленности положительными результатами* (**Conditional-on-Positives effect, COP**). В нашем случае это то, сколько тратит клиент после того, как он решил потратиться.\n",
        "\n",
        "Они соеденены следующим утверждением\n",
        "\n",
        "$$\\mathsf{E}(Y|T) = \\mathsf{E}(Y|Y>0, T)\\ \\mathsf{P}(Y>0|T).$$\n",
        "\n",
        "\n",
        "Проблема в том, что вторая часть COP является предвзятой даже при рандомизированном эксперименте. Например, по следующим соображениям.\n",
        "* Некоторые потратившиеся потратились только потому что на них оказал воздействие тритмент. Если бы его не было, они бы не стали тратиться.\n",
        "* Но некоторые тратятся всегда независимо от тритмента. Точнее, тритмент может побудить их тратить больше, но и без него они тратятся.\n",
        "\n",
        "Ключевой момент &mdash; эти два типа клиентов несопоставимы. Для первых потенциальных исход $C_0=0$, для вторых $C_0>0$. При удалении нулей мы тем самым уберем из контрольной выборки тех клиентов, которые при воздействии тритмента перестали бы быть нулями."
      ]
    },
    {
      "cell_type": "markdown",
      "id": "c10ec009",
      "metadata": {
        "id": "c10ec009"
      },
      "source": [
        "Посмотрим на проблему с математической точки зрения. При случайном назначении тритмента эффект равен разнице средних\n",
        "\n",
        "$$\\begin{split}\n",
        "\\begin{align*}\n",
        "&\\mathsf{E}(Y|T=1) - \\mathsf{E}(Y|T=0)\\\\\n",
        "&=\\mathsf{E}(Y|Y>0, T=1)\\mathsf{P}(Y>0|T=1) - \\mathsf{E}(Y|Y>0, T=0)\\mathsf{P}(Y>0|T=0)\\\\\n",
        "&=\\underbrace{\\bigg[\\mathsf{P}(Y>0|T=1) - \\mathsf{P}(Y>0|T=0)\\bigg]}_{Participation \\ Effect} \\cdot \\mathsf{E}(Y|Y>0, T=1)\\\\\n",
        "&+\\underbrace{\\bigg[\\mathsf{E}(Y|Y>0, T=1) - \\mathsf{E}(Y|Y>0, T=0)\\bigg]}_{COP \\ Effect} \\cdot \\mathsf{P}(Y>0|T=0).\n",
        "\\end{align*}\n",
        "\\end{split}$$\n",
        "\n",
        "То есть разница средних состоит из двух частей:\n",
        "* разность вероятностей того, что таргет является положительным между группами, это называется *эффектом участия*,\n",
        "* разность таргетов между группами среди потратившихся, *эффект COP*.\n",
        "\n",
        "Пока все хорошо, это математическое тождество. Проблема возникает, когда мы пытаемся оценить каждую часть по отдельности. Посмотрим внимательнее на эффект COP.\n",
        "$$\n",
        "\\mathsf{E}(Y|Y>0, T=1) - \\mathsf{E}(Y|Y>0, T=0)=\\\\=\\mathsf{E}(С_{1}|С_{1}>0)-\\mathsf{E}(С_{0}|С_{0}>0) \\\\\n",
        "=\\underbrace{\\mathsf{E}(С_{1} - С_{0}|С_{1}>0)}_{Causal \\ Effect} + \\underbrace{\\bigg[ \\mathsf{E}(С_{0}|С_{1}>0) - \\mathsf{E}(С_{0}|С_{0}>0) \\bigg]}_{Selection \\ Bias}.\n",
        "$$\n",
        "\n",
        "Здесь мы получаем\n",
        "* причинно-следственный эффект для тех, кто решил что-то потратить.\n",
        "* смещение между теми, кто решил принять участие, когда назначен тритмент и теми, которые участвуют даже без тритмента.\n",
        "\n",
        "При оценке COP-составляющей мы исключаем тех клиентов, которые потратились бы при воздействии тритмента, но им не был назначен тритмент. Иначе говоря, мы исключаем $\\{С_{0}=0,С_{1}>0, T=0\\}$, тем самым неправильно оценивая группу $C_0=0$, внося несопоставимость между клиентам, уменьшая тем самым правильное смещение."
      ]
    },
    {
      "cell_type": "markdown",
      "id": "6e94b658",
      "metadata": {
        "id": "6e94b658"
      },
      "source": [
        "\n",
        "**Итог: нельзя контролировать признаки, которые либо находятся между тритментом и таргетом, либо являются общим эффектом тритмента и таргета.**"
      ]
    },
    {
      "cell_type": "code",
      "execution_count": null,
      "id": "38c947ec",
      "metadata": {
        "ExecuteTime": {
          "end_time": "2022-11-22T15:08:12.364107Z",
          "start_time": "2022-11-22T15:08:11.470227Z"
        },
        "id": "38c947ec"
      },
      "outputs": [],
      "source": []
    },
    {
      "cell_type": "markdown",
      "id": "d82de01a",
      "metadata": {
        "id": "d82de01a"
      },
      "source": [
        "## Статистические свойства линейной регрессии\n",
        "\n",
        "Загрузим датасет с данными по стоимости квартир в Москве (<a href=\"https://raw.githubusercontent.com/bdemeshev/em301/master/datasets/flats_moscow.txt\">источник</a>)."
      ]
    },
    {
      "cell_type": "code",
      "source": [
        "!wget https://raw.githubusercontent.com/bdemeshev/em301/master/datasets/flats_moscow.txt"
      ],
      "metadata": {
        "id": "4VIirudiUQ0K",
        "outputId": "b5c867d9-267e-4090-81b5-59a8e8385d5f",
        "colab": {
          "base_uri": "https://localhost:8080/"
        }
      },
      "id": "4VIirudiUQ0K",
      "execution_count": 47,
      "outputs": [
        {
          "output_type": "stream",
          "name": "stdout",
          "text": [
            "--2024-01-04 15:57:30--  https://raw.githubusercontent.com/bdemeshev/em301/master/datasets/flats_moscow.txt\n",
            "Resolving raw.githubusercontent.com (raw.githubusercontent.com)... 185.199.109.133, 185.199.108.133, 185.199.111.133, ...\n",
            "Connecting to raw.githubusercontent.com (raw.githubusercontent.com)|185.199.109.133|:443... connected.\n",
            "HTTP request sent, awaiting response... 200 OK\n",
            "Length: 64916 (63K) [text/plain]\n",
            "Saving to: ‘flats_moscow.txt’\n",
            "\n",
            "flats_moscow.txt    100%[===================>]  63.39K  --.-KB/s    in 0.008s  \n",
            "\n",
            "2024-01-04 15:57:31 (8.14 MB/s) - ‘flats_moscow.txt’ saved [64916/64916]\n",
            "\n"
          ]
        }
      ]
    },
    {
      "cell_type": "code",
      "execution_count": 48,
      "id": "46d1d496",
      "metadata": {
        "ExecuteTime": {
          "end_time": "2022-11-22T15:08:12.381685Z",
          "start_time": "2022-11-22T15:08:12.365772Z"
        },
        "id": "46d1d496",
        "outputId": "3f567330-c2f1-43de-f295-f9eaec54a3ad",
        "colab": {
          "base_uri": "https://localhost:8080/",
          "height": 206
        }
      },
      "outputs": [
        {
          "output_type": "execute_result",
          "data": {
            "text/plain": [
              "   n  price  totsp  livesp  kitsp  dist  metrdist  walk  brick  floor  code\n",
              "0  1     81     58      40    6.0  12.5         7     1      1      1     3\n",
              "1  2     75     44      28    6.0  13.5         7     1      0      1     6\n",
              "2  3    128     70      42    6.0  14.5         3     1      1      1     3\n",
              "3  4     95     61      37    6.0  13.5         7     1      0      1     1\n",
              "4  5    330    104      60   11.0  10.5         7     0      1      1     3"
            ],
            "text/html": [
              "\n",
              "  <div id=\"df-2b5531c3-1d34-44eb-baf1-5badfa5bc771\" class=\"colab-df-container\">\n",
              "    <div>\n",
              "<style scoped>\n",
              "    .dataframe tbody tr th:only-of-type {\n",
              "        vertical-align: middle;\n",
              "    }\n",
              "\n",
              "    .dataframe tbody tr th {\n",
              "        vertical-align: top;\n",
              "    }\n",
              "\n",
              "    .dataframe thead th {\n",
              "        text-align: right;\n",
              "    }\n",
              "</style>\n",
              "<table border=\"1\" class=\"dataframe\">\n",
              "  <thead>\n",
              "    <tr style=\"text-align: right;\">\n",
              "      <th></th>\n",
              "      <th>n</th>\n",
              "      <th>price</th>\n",
              "      <th>totsp</th>\n",
              "      <th>livesp</th>\n",
              "      <th>kitsp</th>\n",
              "      <th>dist</th>\n",
              "      <th>metrdist</th>\n",
              "      <th>walk</th>\n",
              "      <th>brick</th>\n",
              "      <th>floor</th>\n",
              "      <th>code</th>\n",
              "    </tr>\n",
              "  </thead>\n",
              "  <tbody>\n",
              "    <tr>\n",
              "      <th>0</th>\n",
              "      <td>1</td>\n",
              "      <td>81</td>\n",
              "      <td>58</td>\n",
              "      <td>40</td>\n",
              "      <td>6.0</td>\n",
              "      <td>12.5</td>\n",
              "      <td>7</td>\n",
              "      <td>1</td>\n",
              "      <td>1</td>\n",
              "      <td>1</td>\n",
              "      <td>3</td>\n",
              "    </tr>\n",
              "    <tr>\n",
              "      <th>1</th>\n",
              "      <td>2</td>\n",
              "      <td>75</td>\n",
              "      <td>44</td>\n",
              "      <td>28</td>\n",
              "      <td>6.0</td>\n",
              "      <td>13.5</td>\n",
              "      <td>7</td>\n",
              "      <td>1</td>\n",
              "      <td>0</td>\n",
              "      <td>1</td>\n",
              "      <td>6</td>\n",
              "    </tr>\n",
              "    <tr>\n",
              "      <th>2</th>\n",
              "      <td>3</td>\n",
              "      <td>128</td>\n",
              "      <td>70</td>\n",
              "      <td>42</td>\n",
              "      <td>6.0</td>\n",
              "      <td>14.5</td>\n",
              "      <td>3</td>\n",
              "      <td>1</td>\n",
              "      <td>1</td>\n",
              "      <td>1</td>\n",
              "      <td>3</td>\n",
              "    </tr>\n",
              "    <tr>\n",
              "      <th>3</th>\n",
              "      <td>4</td>\n",
              "      <td>95</td>\n",
              "      <td>61</td>\n",
              "      <td>37</td>\n",
              "      <td>6.0</td>\n",
              "      <td>13.5</td>\n",
              "      <td>7</td>\n",
              "      <td>1</td>\n",
              "      <td>0</td>\n",
              "      <td>1</td>\n",
              "      <td>1</td>\n",
              "    </tr>\n",
              "    <tr>\n",
              "      <th>4</th>\n",
              "      <td>5</td>\n",
              "      <td>330</td>\n",
              "      <td>104</td>\n",
              "      <td>60</td>\n",
              "      <td>11.0</td>\n",
              "      <td>10.5</td>\n",
              "      <td>7</td>\n",
              "      <td>0</td>\n",
              "      <td>1</td>\n",
              "      <td>1</td>\n",
              "      <td>3</td>\n",
              "    </tr>\n",
              "  </tbody>\n",
              "</table>\n",
              "</div>\n",
              "    <div class=\"colab-df-buttons\">\n",
              "\n",
              "  <div class=\"colab-df-container\">\n",
              "    <button class=\"colab-df-convert\" onclick=\"convertToInteractive('df-2b5531c3-1d34-44eb-baf1-5badfa5bc771')\"\n",
              "            title=\"Convert this dataframe to an interactive table.\"\n",
              "            style=\"display:none;\">\n",
              "\n",
              "  <svg xmlns=\"http://www.w3.org/2000/svg\" height=\"24px\" viewBox=\"0 -960 960 960\">\n",
              "    <path d=\"M120-120v-720h720v720H120Zm60-500h600v-160H180v160Zm220 220h160v-160H400v160Zm0 220h160v-160H400v160ZM180-400h160v-160H180v160Zm440 0h160v-160H620v160ZM180-180h160v-160H180v160Zm440 0h160v-160H620v160Z\"/>\n",
              "  </svg>\n",
              "    </button>\n",
              "\n",
              "  <style>\n",
              "    .colab-df-container {\n",
              "      display:flex;\n",
              "      gap: 12px;\n",
              "    }\n",
              "\n",
              "    .colab-df-convert {\n",
              "      background-color: #E8F0FE;\n",
              "      border: none;\n",
              "      border-radius: 50%;\n",
              "      cursor: pointer;\n",
              "      display: none;\n",
              "      fill: #1967D2;\n",
              "      height: 32px;\n",
              "      padding: 0 0 0 0;\n",
              "      width: 32px;\n",
              "    }\n",
              "\n",
              "    .colab-df-convert:hover {\n",
              "      background-color: #E2EBFA;\n",
              "      box-shadow: 0px 1px 2px rgba(60, 64, 67, 0.3), 0px 1px 3px 1px rgba(60, 64, 67, 0.15);\n",
              "      fill: #174EA6;\n",
              "    }\n",
              "\n",
              "    .colab-df-buttons div {\n",
              "      margin-bottom: 4px;\n",
              "    }\n",
              "\n",
              "    [theme=dark] .colab-df-convert {\n",
              "      background-color: #3B4455;\n",
              "      fill: #D2E3FC;\n",
              "    }\n",
              "\n",
              "    [theme=dark] .colab-df-convert:hover {\n",
              "      background-color: #434B5C;\n",
              "      box-shadow: 0px 1px 3px 1px rgba(0, 0, 0, 0.15);\n",
              "      filter: drop-shadow(0px 1px 2px rgba(0, 0, 0, 0.3));\n",
              "      fill: #FFFFFF;\n",
              "    }\n",
              "  </style>\n",
              "\n",
              "    <script>\n",
              "      const buttonEl =\n",
              "        document.querySelector('#df-2b5531c3-1d34-44eb-baf1-5badfa5bc771 button.colab-df-convert');\n",
              "      buttonEl.style.display =\n",
              "        google.colab.kernel.accessAllowed ? 'block' : 'none';\n",
              "\n",
              "      async function convertToInteractive(key) {\n",
              "        const element = document.querySelector('#df-2b5531c3-1d34-44eb-baf1-5badfa5bc771');\n",
              "        const dataTable =\n",
              "          await google.colab.kernel.invokeFunction('convertToInteractive',\n",
              "                                                    [key], {});\n",
              "        if (!dataTable) return;\n",
              "\n",
              "        const docLinkHtml = 'Like what you see? Visit the ' +\n",
              "          '<a target=\"_blank\" href=https://colab.research.google.com/notebooks/data_table.ipynb>data table notebook</a>'\n",
              "          + ' to learn more about interactive tables.';\n",
              "        element.innerHTML = '';\n",
              "        dataTable['output_type'] = 'display_data';\n",
              "        await google.colab.output.renderOutput(dataTable, element);\n",
              "        const docLink = document.createElement('div');\n",
              "        docLink.innerHTML = docLinkHtml;\n",
              "        element.appendChild(docLink);\n",
              "      }\n",
              "    </script>\n",
              "  </div>\n",
              "\n",
              "\n",
              "<div id=\"df-3251f943-8b42-42cd-af68-a8a5da986f04\">\n",
              "  <button class=\"colab-df-quickchart\" onclick=\"quickchart('df-3251f943-8b42-42cd-af68-a8a5da986f04')\"\n",
              "            title=\"Suggest charts\"\n",
              "            style=\"display:none;\">\n",
              "\n",
              "<svg xmlns=\"http://www.w3.org/2000/svg\" height=\"24px\"viewBox=\"0 0 24 24\"\n",
              "     width=\"24px\">\n",
              "    <g>\n",
              "        <path d=\"M19 3H5c-1.1 0-2 .9-2 2v14c0 1.1.9 2 2 2h14c1.1 0 2-.9 2-2V5c0-1.1-.9-2-2-2zM9 17H7v-7h2v7zm4 0h-2V7h2v10zm4 0h-2v-4h2v4z\"/>\n",
              "    </g>\n",
              "</svg>\n",
              "  </button>\n",
              "\n",
              "<style>\n",
              "  .colab-df-quickchart {\n",
              "      --bg-color: #E8F0FE;\n",
              "      --fill-color: #1967D2;\n",
              "      --hover-bg-color: #E2EBFA;\n",
              "      --hover-fill-color: #174EA6;\n",
              "      --disabled-fill-color: #AAA;\n",
              "      --disabled-bg-color: #DDD;\n",
              "  }\n",
              "\n",
              "  [theme=dark] .colab-df-quickchart {\n",
              "      --bg-color: #3B4455;\n",
              "      --fill-color: #D2E3FC;\n",
              "      --hover-bg-color: #434B5C;\n",
              "      --hover-fill-color: #FFFFFF;\n",
              "      --disabled-bg-color: #3B4455;\n",
              "      --disabled-fill-color: #666;\n",
              "  }\n",
              "\n",
              "  .colab-df-quickchart {\n",
              "    background-color: var(--bg-color);\n",
              "    border: none;\n",
              "    border-radius: 50%;\n",
              "    cursor: pointer;\n",
              "    display: none;\n",
              "    fill: var(--fill-color);\n",
              "    height: 32px;\n",
              "    padding: 0;\n",
              "    width: 32px;\n",
              "  }\n",
              "\n",
              "  .colab-df-quickchart:hover {\n",
              "    background-color: var(--hover-bg-color);\n",
              "    box-shadow: 0 1px 2px rgba(60, 64, 67, 0.3), 0 1px 3px 1px rgba(60, 64, 67, 0.15);\n",
              "    fill: var(--button-hover-fill-color);\n",
              "  }\n",
              "\n",
              "  .colab-df-quickchart-complete:disabled,\n",
              "  .colab-df-quickchart-complete:disabled:hover {\n",
              "    background-color: var(--disabled-bg-color);\n",
              "    fill: var(--disabled-fill-color);\n",
              "    box-shadow: none;\n",
              "  }\n",
              "\n",
              "  .colab-df-spinner {\n",
              "    border: 2px solid var(--fill-color);\n",
              "    border-color: transparent;\n",
              "    border-bottom-color: var(--fill-color);\n",
              "    animation:\n",
              "      spin 1s steps(1) infinite;\n",
              "  }\n",
              "\n",
              "  @keyframes spin {\n",
              "    0% {\n",
              "      border-color: transparent;\n",
              "      border-bottom-color: var(--fill-color);\n",
              "      border-left-color: var(--fill-color);\n",
              "    }\n",
              "    20% {\n",
              "      border-color: transparent;\n",
              "      border-left-color: var(--fill-color);\n",
              "      border-top-color: var(--fill-color);\n",
              "    }\n",
              "    30% {\n",
              "      border-color: transparent;\n",
              "      border-left-color: var(--fill-color);\n",
              "      border-top-color: var(--fill-color);\n",
              "      border-right-color: var(--fill-color);\n",
              "    }\n",
              "    40% {\n",
              "      border-color: transparent;\n",
              "      border-right-color: var(--fill-color);\n",
              "      border-top-color: var(--fill-color);\n",
              "    }\n",
              "    60% {\n",
              "      border-color: transparent;\n",
              "      border-right-color: var(--fill-color);\n",
              "    }\n",
              "    80% {\n",
              "      border-color: transparent;\n",
              "      border-right-color: var(--fill-color);\n",
              "      border-bottom-color: var(--fill-color);\n",
              "    }\n",
              "    90% {\n",
              "      border-color: transparent;\n",
              "      border-bottom-color: var(--fill-color);\n",
              "    }\n",
              "  }\n",
              "</style>\n",
              "\n",
              "  <script>\n",
              "    async function quickchart(key) {\n",
              "      const quickchartButtonEl =\n",
              "        document.querySelector('#' + key + ' button');\n",
              "      quickchartButtonEl.disabled = true;  // To prevent multiple clicks.\n",
              "      quickchartButtonEl.classList.add('colab-df-spinner');\n",
              "      try {\n",
              "        const charts = await google.colab.kernel.invokeFunction(\n",
              "            'suggestCharts', [key], {});\n",
              "      } catch (error) {\n",
              "        console.error('Error during call to suggestCharts:', error);\n",
              "      }\n",
              "      quickchartButtonEl.classList.remove('colab-df-spinner');\n",
              "      quickchartButtonEl.classList.add('colab-df-quickchart-complete');\n",
              "    }\n",
              "    (() => {\n",
              "      let quickchartButtonEl =\n",
              "        document.querySelector('#df-3251f943-8b42-42cd-af68-a8a5da986f04 button');\n",
              "      quickchartButtonEl.style.display =\n",
              "        google.colab.kernel.accessAllowed ? 'block' : 'none';\n",
              "    })();\n",
              "  </script>\n",
              "</div>\n",
              "\n",
              "    </div>\n",
              "  </div>\n"
            ]
          },
          "metadata": {},
          "execution_count": 48
        }
      ],
      "source": [
        "flats = pd.read_csv(\"flats_moscow.txt\", sep='\\t')\n",
        "flats.head()"
      ]
    },
    {
      "cell_type": "markdown",
      "id": "b94cdabc",
      "metadata": {
        "id": "b94cdabc"
      },
      "source": [
        "Будем рассматривать зависимость цены квартиры от ее площади."
      ]
    },
    {
      "cell_type": "code",
      "execution_count": 49,
      "id": "19200618",
      "metadata": {
        "ExecuteTime": {
          "end_time": "2022-11-22T15:08:12.578657Z",
          "start_time": "2022-11-22T15:08:12.383366Z"
        },
        "id": "19200618",
        "outputId": "ee2743a4-7a7c-4c38-cc9a-1108c86a55a7",
        "colab": {
          "base_uri": "https://localhost:8080/",
          "height": 417
        }
      },
      "outputs": [
        {
          "output_type": "display_data",
          "data": {
            "text/plain": [
              "<Figure size 1200x600 with 1 Axes>"
            ],
            "image/png": "[encoded data removed]"
          },
          "metadata": {}
        }
      ],
      "source": [
        "plt.figure(figsize=(12, 6))\n",
        "plt.scatter(flats['totsp'], flats['price'], alpha=0.4)\n",
        "plt.title('Стоимость квартир в Москве')\n",
        "plt.xlabel('Общая площадь квартиры, кв.м')\n",
        "plt.ylabel('Цена квартиры, $1000');"
      ]
    },
    {
      "cell_type": "markdown",
      "id": "l_Gek1vY8arv",
      "metadata": {
        "id": "l_Gek1vY8arv"
      },
      "source": [
        "По графику явно видна гетероскедастичность.\n",
        "\n",
        "*Примечание. Строго говоря, такой проверки недостаточно, стоит проверять зависимость остатков, а не таргета. Если хотя бы по одному признаку видна разная дисперсия остатков, то имеет смысл говорить о гетероскедастичности.*"
      ]
    },
    {
      "cell_type": "markdown",
      "id": "6e89e6a4",
      "metadata": {
        "id": "6e89e6a4"
      },
      "source": [
        "### 1. Обучение простой линейной модели\n",
        "\n",
        "Сначала обучим линейную регрессию предсказания стоимости квартиры по ее площади."
      ]
    },
    {
      "cell_type": "code",
      "execution_count": 111,
      "id": "b395bd6a",
      "metadata": {
        "ExecuteTime": {
          "end_time": "2022-11-22T15:08:12.593585Z",
          "start_time": "2022-11-22T15:08:12.580390Z"
        },
        "id": "b395bd6a"
      },
      "outputs": [],
      "source": [
        "model = smf.ols('price ~ totsp',data=flats).fit()"
      ]
    },
    {
      "cell_type": "markdown",
      "id": "604ed614",
      "metadata": {
        "id": "604ed614"
      },
      "source": [
        "Посмотрим на результаты модели, полученные **в предположении гомоскедастичности**."
      ]
    },
    {
      "cell_type": "code",
      "execution_count": 112,
      "id": "5527a375",
      "metadata": {
        "ExecuteTime": {
          "end_time": "2022-11-22T15:08:12.605748Z",
          "start_time": "2022-11-22T15:08:12.595106Z"
        },
        "id": "5527a375",
        "colab": {
          "base_uri": "https://localhost:8080/",
          "height": 80
        },
        "outputId": "fa823f86-d67c-4fde-9ed8-ec72731e52c9"
      },
      "outputs": [
        {
          "output_type": "execute_result",
          "data": {
            "text/plain": [
              "<class 'statsmodels.iolib.table.SimpleTable'>"
            ],
            "text/html": [
              "<table class=\"simpletable\">\n",
              "<tr>\n",
              "      <td></td>         <th>coef</th>     <th>std err</th>      <th>t</th>      <th>P>|t|</th>  <th>[0.025</th>    <th>0.975]</th>  \n",
              "</tr>\n",
              "<tr>\n",
              "  <th>Intercept</th> <td>  -62.0448</td> <td>    3.712</td> <td>  -16.716</td> <td> 0.000</td> <td>  -69.324</td> <td>  -54.766</td>\n",
              "</tr>\n",
              "<tr>\n",
              "  <th>totsp</th>     <td>    2.5935</td> <td>    0.050</td> <td>   52.146</td> <td> 0.000</td> <td>    2.496</td> <td>    2.691</td>\n",
              "</tr>\n",
              "</table>"
            ],
            "text/latex": "\\begin{center}\n\\begin{tabular}{lcccccc}\n\\toprule\n                   & \\textbf{coef} & \\textbf{std err} & \\textbf{t} & \\textbf{P$> |$t$|$} & \\textbf{[0.025} & \\textbf{0.975]}  \\\\\n\\midrule\n\\textbf{Intercept} &     -62.0448  &        3.712     &   -16.716  &         0.000        &      -69.324    &      -54.766     \\\\\n\\textbf{totsp}     &       2.5935  &        0.050     &    52.146  &         0.000        &        2.496    &        2.691     \\\\\n\\bottomrule\n\\end{tabular}\n\\end{center}"
          },
          "metadata": {},
          "execution_count": 112
        }
      ],
      "source": [
        "model.summary().tables[1]"
      ]
    },
    {
      "cell_type": "markdown",
      "id": "69de10ab",
      "metadata": {
        "id": "69de10ab"
      },
      "source": [
        "Можно извлечь результаты отдельных тестов, например, проверка гипотезы о незначимости коэффициента перед признаком `totsp`."
      ]
    },
    {
      "cell_type": "code",
      "execution_count": 113,
      "id": "ba76cdcd",
      "metadata": {
        "ExecuteTime": {
          "end_time": "2022-11-22T15:08:12.620849Z",
          "start_time": "2022-11-22T15:08:12.612010Z"
        },
        "id": "ba76cdcd",
        "colab": {
          "base_uri": "https://localhost:8080/"
        },
        "outputId": "e1761b0c-db2e-4bf3-e99e-129f9dc1621c"
      },
      "outputs": [
        {
          "output_type": "execute_result",
          "data": {
            "text/plain": [
              "<class 'statsmodels.stats.contrast.ContrastResults'>\n",
              "                             Test for Constraints                             \n",
              "==============================================================================\n",
              "                 coef    std err          t      P>|t|      [0.025      0.975]\n",
              "------------------------------------------------------------------------------\n",
              "c0             2.5935      0.050     52.146      0.000       2.496       2.691\n",
              "=============================================================================="
            ]
          },
          "metadata": {},
          "execution_count": 113
        }
      ],
      "source": [
        "model.t_test('totsp = 0')"
      ]
    },
    {
      "cell_type": "markdown",
      "id": "ed44e07c",
      "metadata": {
        "id": "ed44e07c"
      },
      "source": [
        "Посмотрим на ковариационную матрицу вектора $\\widehat{\\theta}$ **в условиях гомоскедастичности**, что в данном случае не выполнено. Её можно получить с помощью метода `cov_params`."
      ]
    },
    {
      "cell_type": "code",
      "execution_count": 114,
      "id": "d80403ef",
      "metadata": {
        "ExecuteTime": {
          "end_time": "2022-11-22T15:08:12.662748Z",
          "start_time": "2022-11-22T15:08:12.649592Z"
        },
        "id": "d80403ef",
        "colab": {
          "base_uri": "https://localhost:8080/",
          "height": 112
        },
        "outputId": "238d0a07-851b-4135-830d-b41297d275dc"
      },
      "outputs": [
        {
          "output_type": "execute_result",
          "data": {
            "text/plain": [
              "           Intercept     totsp\n",
              "Intercept  13.777292 -0.180775\n",
              "totsp      -0.180775  0.002474"
            ],
            "text/html": [
              "\n",
              "  <div id=\"df-7b9c9920-bfdf-407b-aca8-7f5dc896d62c\" class=\"colab-df-container\">\n",
              "    <div>\n",
              "<style scoped>\n",
              "    .dataframe tbody tr th:only-of-type {\n",
              "        vertical-align: middle;\n",
              "    }\n",
              "\n",
              "    .dataframe tbody tr th {\n",
              "        vertical-align: top;\n",
              "    }\n",
              "\n",
              "    .dataframe thead th {\n",
              "        text-align: right;\n",
              "    }\n",
              "</style>\n",
              "<table border=\"1\" class=\"dataframe\">\n",
              "  <thead>\n",
              "    <tr style=\"text-align: right;\">\n",
              "      <th></th>\n",
              "      <th>Intercept</th>\n",
              "      <th>totsp</th>\n",
              "    </tr>\n",
              "  </thead>\n",
              "  <tbody>\n",
              "    <tr>\n",
              "      <th>Intercept</th>\n",
              "      <td>13.777292</td>\n",
              "      <td>-0.180775</td>\n",
              "    </tr>\n",
              "    <tr>\n",
              "      <th>totsp</th>\n",
              "      <td>-0.180775</td>\n",
              "      <td>0.002474</td>\n",
              "    </tr>\n",
              "  </tbody>\n",
              "</table>\n",
              "</div>\n",
              "    <div class=\"colab-df-buttons\">\n",
              "\n",
              "  <div class=\"colab-df-container\">\n",
              "    <button class=\"colab-df-convert\" onclick=\"convertToInteractive('df-7b9c9920-bfdf-407b-aca8-7f5dc896d62c')\"\n",
              "            title=\"Convert this dataframe to an interactive table.\"\n",
              "            style=\"display:none;\">\n",
              "\n",
              "  <svg xmlns=\"http://www.w3.org/2000/svg\" height=\"24px\" viewBox=\"0 -960 960 960\">\n",
              "    <path d=\"M120-120v-720h720v720H120Zm60-500h600v-160H180v160Zm220 220h160v-160H400v160Zm0 220h160v-160H400v160ZM180-400h160v-160H180v160Zm440 0h160v-160H620v160ZM180-180h160v-160H180v160Zm440 0h160v-160H620v160Z\"/>\n",
              "  </svg>\n",
              "    </button>\n",
              "\n",
              "  <style>\n",
              "    .colab-df-container {\n",
              "      display:flex;\n",
              "      gap: 12px;\n",
              "    }\n",
              "\n",
              "    .colab-df-convert {\n",
              "      background-color: #E8F0FE;\n",
              "      border: none;\n",
              "      border-radius: 50%;\n",
              "      cursor: pointer;\n",
              "      display: none;\n",
              "      fill: #1967D2;\n",
              "      height: 32px;\n",
              "      padding: 0 0 0 0;\n",
              "      width: 32px;\n",
              "    }\n",
              "\n",
              "    .colab-df-convert:hover {\n",
              "      background-color: #E2EBFA;\n",
              "      box-shadow: 0px 1px 2px rgba(60, 64, 67, 0.3), 0px 1px 3px 1px rgba(60, 64, 67, 0.15);\n",
              "      fill: #174EA6;\n",
              "    }\n",
              "\n",
              "    .colab-df-buttons div {\n",
              "      margin-bottom: 4px;\n",
              "    }\n",
              "\n",
              "    [theme=dark] .colab-df-convert {\n",
              "      background-color: #3B4455;\n",
              "      fill: #D2E3FC;\n",
              "    }\n",
              "\n",
              "    [theme=dark] .colab-df-convert:hover {\n",
              "      background-color: #434B5C;\n",
              "      box-shadow: 0px 1px 3px 1px rgba(0, 0, 0, 0.15);\n",
              "      filter: drop-shadow(0px 1px 2px rgba(0, 0, 0, 0.3));\n",
              "      fill: #FFFFFF;\n",
              "    }\n",
              "  </style>\n",
              "\n",
              "    <script>\n",
              "      const buttonEl =\n",
              "        document.querySelector('#df-7b9c9920-bfdf-407b-aca8-7f5dc896d62c button.colab-df-convert');\n",
              "      buttonEl.style.display =\n",
              "        google.colab.kernel.accessAllowed ? 'block' : 'none';\n",
              "\n",
              "      async function convertToInteractive(key) {\n",
              "        const element = document.querySelector('#df-7b9c9920-bfdf-407b-aca8-7f5dc896d62c');\n",
              "        const dataTable =\n",
              "          await google.colab.kernel.invokeFunction('convertToInteractive',\n",
              "                                                    [key], {});\n",
              "        if (!dataTable) return;\n",
              "\n",
              "        const docLinkHtml = 'Like what you see? Visit the ' +\n",
              "          '<a target=\"_blank\" href=https://colab.research.google.com/notebooks/data_table.ipynb>data table notebook</a>'\n",
              "          + ' to learn more about interactive tables.';\n",
              "        element.innerHTML = '';\n",
              "        dataTable['output_type'] = 'display_data';\n",
              "        await google.colab.output.renderOutput(dataTable, element);\n",
              "        const docLink = document.createElement('div');\n",
              "        docLink.innerHTML = docLinkHtml;\n",
              "        element.appendChild(docLink);\n",
              "      }\n",
              "    </script>\n",
              "  </div>\n",
              "\n",
              "\n",
              "<div id=\"df-8a81835c-2772-41b3-97d6-14b889ee7462\">\n",
              "  <button class=\"colab-df-quickchart\" onclick=\"quickchart('df-8a81835c-2772-41b3-97d6-14b889ee7462')\"\n",
              "            title=\"Suggest charts\"\n",
              "            style=\"display:none;\">\n",
              "\n",
              "<svg xmlns=\"http://www.w3.org/2000/svg\" height=\"24px\"viewBox=\"0 0 24 24\"\n",
              "     width=\"24px\">\n",
              "    <g>\n",
              "        <path d=\"M19 3H5c-1.1 0-2 .9-2 2v14c0 1.1.9 2 2 2h14c1.1 0 2-.9 2-2V5c0-1.1-.9-2-2-2zM9 17H7v-7h2v7zm4 0h-2V7h2v10zm4 0h-2v-4h2v4z\"/>\n",
              "    </g>\n",
              "</svg>\n",
              "  </button>\n",
              "\n",
              "<style>\n",
              "  .colab-df-quickchart {\n",
              "      --bg-color: #E8F0FE;\n",
              "      --fill-color: #1967D2;\n",
              "      --hover-bg-color: #E2EBFA;\n",
              "      --hover-fill-color: #174EA6;\n",
              "      --disabled-fill-color: #AAA;\n",
              "      --disabled-bg-color: #DDD;\n",
              "  }\n",
              "\n",
              "  [theme=dark] .colab-df-quickchart {\n",
              "      --bg-color: #3B4455;\n",
              "      --fill-color: #D2E3FC;\n",
              "      --hover-bg-color: #434B5C;\n",
              "      --hover-fill-color: #FFFFFF;\n",
              "      --disabled-bg-color: #3B4455;\n",
              "      --disabled-fill-color: #666;\n",
              "  }\n",
              "\n",
              "  .colab-df-quickchart {\n",
              "    background-color: var(--bg-color);\n",
              "    border: none;\n",
              "    border-radius: 50%;\n",
              "    cursor: pointer;\n",
              "    display: none;\n",
              "    fill: var(--fill-color);\n",
              "    height: 32px;\n",
              "    padding: 0;\n",
              "    width: 32px;\n",
              "  }\n",
              "\n",
              "  .colab-df-quickchart:hover {\n",
              "    background-color: var(--hover-bg-color);\n",
              "    box-shadow: 0 1px 2px rgba(60, 64, 67, 0.3), 0 1px 3px 1px rgba(60, 64, 67, 0.15);\n",
              "    fill: var(--button-hover-fill-color);\n",
              "  }\n",
              "\n",
              "  .colab-df-quickchart-complete:disabled,\n",
              "  .colab-df-quickchart-complete:disabled:hover {\n",
              "    background-color: var(--disabled-bg-color);\n",
              "    fill: var(--disabled-fill-color);\n",
              "    box-shadow: none;\n",
              "  }\n",
              "\n",
              "  .colab-df-spinner {\n",
              "    border: 2px solid var(--fill-color);\n",
              "    border-color: transparent;\n",
              "    border-bottom-color: var(--fill-color);\n",
              "    animation:\n",
              "      spin 1s steps(1) infinite;\n",
              "  }\n",
              "\n",
              "  @keyframes spin {\n",
              "    0% {\n",
              "      border-color: transparent;\n",
              "      border-bottom-color: var(--fill-color);\n",
              "      border-left-color: var(--fill-color);\n",
              "    }\n",
              "    20% {\n",
              "      border-color: transparent;\n",
              "      border-left-color: var(--fill-color);\n",
              "      border-top-color: var(--fill-color);\n",
              "    }\n",
              "    30% {\n",
              "      border-color: transparent;\n",
              "      border-left-color: var(--fill-color);\n",
              "      border-top-color: var(--fill-color);\n",
              "      border-right-color: var(--fill-color);\n",
              "    }\n",
              "    40% {\n",
              "      border-color: transparent;\n",
              "      border-right-color: var(--fill-color);\n",
              "      border-top-color: var(--fill-color);\n",
              "    }\n",
              "    60% {\n",
              "      border-color: transparent;\n",
              "      border-right-color: var(--fill-color);\n",
              "    }\n",
              "    80% {\n",
              "      border-color: transparent;\n",
              "      border-right-color: var(--fill-color);\n",
              "      border-bottom-color: var(--fill-color);\n",
              "    }\n",
              "    90% {\n",
              "      border-color: transparent;\n",
              "      border-bottom-color: var(--fill-color);\n",
              "    }\n",
              "  }\n",
              "</style>\n",
              "\n",
              "  <script>\n",
              "    async function quickchart(key) {\n",
              "      const quickchartButtonEl =\n",
              "        document.querySelector('#' + key + ' button');\n",
              "      quickchartButtonEl.disabled = true;  // To prevent multiple clicks.\n",
              "      quickchartButtonEl.classList.add('colab-df-spinner');\n",
              "      try {\n",
              "        const charts = await google.colab.kernel.invokeFunction(\n",
              "            'suggestCharts', [key], {});\n",
              "      } catch (error) {\n",
              "        console.error('Error during call to suggestCharts:', error);\n",
              "      }\n",
              "      quickchartButtonEl.classList.remove('colab-df-spinner');\n",
              "      quickchartButtonEl.classList.add('colab-df-quickchart-complete');\n",
              "    }\n",
              "    (() => {\n",
              "      let quickchartButtonEl =\n",
              "        document.querySelector('#df-8a81835c-2772-41b3-97d6-14b889ee7462 button');\n",
              "      quickchartButtonEl.style.display =\n",
              "        google.colab.kernel.accessAllowed ? 'block' : 'none';\n",
              "    })();\n",
              "  </script>\n",
              "</div>\n",
              "\n",
              "    </div>\n",
              "  </div>\n"
            ]
          },
          "metadata": {},
          "execution_count": 114
        }
      ],
      "source": [
        "model.cov_params()"
      ]
    },
    {
      "cell_type": "code",
      "source": [
        "from statsmodels.graphics.regressionplots import plot_leverage_resid2\n",
        "\n",
        "fig, ax = plt.subplots(figsize=(8, 6))\n",
        "fig = plot_leverage_resid2(model, ax=ax)"
      ],
      "metadata": {
        "id": "TLeTJWIVXSIg",
        "outputId": "7efbc31b-edd2-4533-b6cd-1bf73755cf29",
        "colab": {
          "base_uri": "https://localhost:8080/",
          "height": 575
        }
      },
      "id": "TLeTJWIVXSIg",
      "execution_count": 116,
      "outputs": [
        {
          "output_type": "display_data",
          "data": {
            "text/plain": [
              "<Figure size 800x600 with 1 Axes>"
            ],
            "image/png": "[encoded data removed]"
          },
          "metadata": {}
        }
      ]
    },
    {
      "cell_type": "markdown",
      "id": "5de8f52f",
      "metadata": {
        "id": "5de8f52f"
      },
      "source": [
        "У нас явная гетероскедастичность, проверим это критериями."
      ]
    },
    {
      "cell_type": "markdown",
      "id": "34bda7bc",
      "metadata": {
        "id": "34bda7bc"
      },
      "source": [
        "### 2. Проверка на гетероскедастичность\n",
        "\n",
        "*При наличии подозрений на гетероскедастичность рекомендуется сразу использовать устойчивые оценки дисперсии (см. далее), не применяя проверку на гетероскедастичность стат. критериями. Данные критерии также имеют свои ошибки, и последовательное применение нескольких критериев может суммировать вероятности ошибок.*\n",
        "\n",
        "$\\mathsf{H}_0: \\gamma_2 = \\gamma_3 = ... = \\gamma_p ⇔ σ_1^2 = ... = σ_n^2 \\Leftrightarrow \\,{\\large остатки \\,\\, гомоскедатичны}$\n",
        "\n",
        "$\\mathsf{H}_1: \\mathsf{H}_0 \\,\\,{\\large неверна}$\n",
        "\n",
        "**Критерий Бройша-Пагана**"
      ]
    },
    {
      "cell_type": "code",
      "source": [
        "model.model.exog"
      ],
      "metadata": {
        "colab": {
          "base_uri": "https://localhost:8080/"
        },
        "id": "Xo7TJJPsQroO",
        "outputId": "90505602-8f9f-4569-b4ae-5e961e32c535"
      },
      "id": "Xo7TJJPsQroO",
      "execution_count": 117,
      "outputs": [
        {
          "output_type": "execute_result",
          "data": {
            "text/plain": [
              "array([[ 1., 58.],\n",
              "       [ 1., 44.],\n",
              "       [ 1., 70.],\n",
              "       ...,\n",
              "       [ 1., 60.],\n",
              "       [ 1., 76.],\n",
              "       [ 1., 64.]])"
            ]
          },
          "metadata": {},
          "execution_count": 117
        }
      ]
    },
    {
      "cell_type": "code",
      "execution_count": 118,
      "id": "b9b48b16",
      "metadata": {
        "ExecuteTime": {
          "end_time": "2022-11-22T15:08:12.681609Z",
          "start_time": "2022-11-22T15:08:12.664381Z"
        },
        "id": "b9b48b16",
        "colab": {
          "base_uri": "https://localhost:8080/"
        },
        "outputId": "522c5f1a-dfc3-4273-a89c-556c8e3e6677"
      },
      "outputs": [
        {
          "output_type": "execute_result",
          "data": {
            "text/plain": [
              "Lagrange multiplier statistic    2.019538e+02\n",
              "p-value                          7.824949e-46\n",
              "f-value                          2.239235e+02\n",
              "f p-value                        4.107852e-48\n",
              "dtype: float64"
            ]
          },
          "metadata": {},
          "execution_count": 118
        }
      ],
      "source": [
        "test = sms.het_breuschpagan(model.resid, model.model.exog)\n",
        "\n",
        "name = [\"Lagrange multiplier statistic\", \"p-value\", \"f-value\", \"f p-value\"]\n",
        "pd.Series(test, index=name)"
      ]
    },
    {
      "cell_type": "markdown",
      "id": "902724a7",
      "metadata": {
        "id": "902724a7"
      },
      "source": [
        "**Критерий Голдфелда-Квандта**"
      ]
    },
    {
      "cell_type": "code",
      "execution_count": 68,
      "id": "5daaff1c",
      "metadata": {
        "ExecuteTime": {
          "end_time": "2022-11-22T15:08:12.692814Z",
          "start_time": "2022-11-22T15:08:12.683293Z"
        },
        "id": "5daaff1c",
        "colab": {
          "base_uri": "https://localhost:8080/"
        },
        "outputId": "b31105ea-d5a1-4f75-eb63-a7bea229ff58"
      },
      "outputs": [
        {
          "output_type": "execute_result",
          "data": {
            "text/plain": [
              "F statistic      0.827954\n",
              "p-value          0.998689\n",
              "type           increasing\n",
              "dtype: object"
            ]
          },
          "metadata": {},
          "execution_count": 68
        }
      ],
      "source": [
        "test = sms.het_goldfeldquandt(model.resid, model.model.exog)\n",
        "\n",
        "name = [\"F statistic\", \"p-value\", \"type\"]\n",
        "pd.Series(test, index=name)"
      ]
    },
    {
      "cell_type": "markdown",
      "id": "e61412b3",
      "metadata": {
        "id": "e61412b3"
      },
      "source": [
        "**Критерий Уайта**"
      ]
    },
    {
      "cell_type": "code",
      "execution_count": 69,
      "id": "06e00536",
      "metadata": {
        "ExecuteTime": {
          "end_time": "2022-11-22T15:08:12.711328Z",
          "start_time": "2022-11-22T15:08:12.697884Z"
        },
        "id": "06e00536",
        "colab": {
          "base_uri": "https://localhost:8080/"
        },
        "outputId": "8b301263-e0d8-44c3-c781-c782218a2a86"
      },
      "outputs": [
        {
          "output_type": "execute_result",
          "data": {
            "text/plain": [
              "Lagrange multiplier statistic    2.473515e+02\n",
              "p-value                          1.942238e-54\n",
              "f-value                          1.405337e+02\n",
              "f p-value                        6.706169e-58\n",
              "dtype: float64"
            ]
          },
          "metadata": {},
          "execution_count": 69
        }
      ],
      "source": [
        "test = sms.het_white(model.resid, model.model.exog)\n",
        "\n",
        "name = [\"Lagrange multiplier statistic\", \"p-value\", \"f-value\", \"f p-value\"]\n",
        "pd.Series(test, index=name)"
      ]
    },
    {
      "cell_type": "markdown",
      "id": "3f6ac1b4",
      "metadata": {
        "id": "3f6ac1b4"
      },
      "source": [
        "### 3. Использование устойчивых оценок дисперсии\n",
        "\n",
        "Получите оценку ковариационной матрицы вектора $\\widehat{\\theta}$ в условиях гетероскедастичности. Возьмите `cov_type=\"HC3\"` у метода `fit` модели и посмотрите на результат. Интерпретация значений в таблицах аналогична, см. пояснения выше."
      ]
    },
    {
      "cell_type": "code",
      "execution_count": 122,
      "id": "5e037a62",
      "metadata": {
        "ExecuteTime": {
          "end_time": "2022-11-22T15:08:12.726674Z",
          "start_time": "2022-11-22T15:08:12.713015Z"
        },
        "id": "5e037a62"
      },
      "outputs": [],
      "source": [
        "model = smf.ols('price ~ totsp',data=flats)\n",
        "result = model.fit(cov_type=\"HC0\")"
      ]
    },
    {
      "cell_type": "code",
      "source": [
        "result.summary().tables[1]"
      ],
      "metadata": {
        "id": "VSXEG-LOWm52",
        "outputId": "d6db0998-833c-46bb-cc8a-f384fd2ae3e4",
        "colab": {
          "base_uri": "https://localhost:8080/",
          "height": 80
        }
      },
      "id": "VSXEG-LOWm52",
      "execution_count": 123,
      "outputs": [
        {
          "output_type": "execute_result",
          "data": {
            "text/plain": [
              "<class 'statsmodels.iolib.table.SimpleTable'>"
            ],
            "text/html": [
              "<table class=\"simpletable\">\n",
              "<tr>\n",
              "      <td></td>         <th>coef</th>     <th>std err</th>      <th>z</th>      <th>P>|z|</th>  <th>[0.025</th>    <th>0.975]</th>  \n",
              "</tr>\n",
              "<tr>\n",
              "  <th>Intercept</th> <td>  -62.0448</td> <td>    7.796</td> <td>   -7.959</td> <td> 0.000</td> <td>  -77.324</td> <td>  -46.765</td>\n",
              "</tr>\n",
              "<tr>\n",
              "  <th>totsp</th>     <td>    2.5935</td> <td>    0.113</td> <td>   22.897</td> <td> 0.000</td> <td>    2.371</td> <td>    2.815</td>\n",
              "</tr>\n",
              "</table>"
            ],
            "text/latex": "\\begin{center}\n\\begin{tabular}{lcccccc}\n\\toprule\n                   & \\textbf{coef} & \\textbf{std err} & \\textbf{z} & \\textbf{P$> |$z$|$} & \\textbf{[0.025} & \\textbf{0.975]}  \\\\\n\\midrule\n\\textbf{Intercept} &     -62.0448  &        7.796     &    -7.959  &         0.000        &      -77.324    &      -46.765     \\\\\n\\textbf{totsp}     &       2.5935  &        0.113     &    22.897  &         0.000        &        2.371    &        2.815     \\\\\n\\bottomrule\n\\end{tabular}\n\\end{center}"
          },
          "metadata": {},
          "execution_count": 123
        }
      ]
    },
    {
      "cell_type": "code",
      "source": [
        "result.cov_params()"
      ],
      "metadata": {
        "colab": {
          "base_uri": "https://localhost:8080/",
          "height": 112
        },
        "id": "GoxRITkZR0lE",
        "outputId": "135d34e5-52fb-4f5f-eee2-89135ea8b1e2"
      },
      "id": "GoxRITkZR0lE",
      "execution_count": 124,
      "outputs": [
        {
          "output_type": "execute_result",
          "data": {
            "text/plain": [
              "           Intercept     totsp\n",
              "Intercept  60.774494 -0.880741\n",
              "totsp      -0.880741  0.012830"
            ],
            "text/html": [
              "\n",
              "  <div id=\"df-7d834087-08bd-420c-b750-4a60093ad97a\" class=\"colab-df-container\">\n",
              "    <div>\n",
              "<style scoped>\n",
              "    .dataframe tbody tr th:only-of-type {\n",
              "        vertical-align: middle;\n",
              "    }\n",
              "\n",
              "    .dataframe tbody tr th {\n",
              "        vertical-align: top;\n",
              "    }\n",
              "\n",
              "    .dataframe thead th {\n",
              "        text-align: right;\n",
              "    }\n",
              "</style>\n",
              "<table border=\"1\" class=\"dataframe\">\n",
              "  <thead>\n",
              "    <tr style=\"text-align: right;\">\n",
              "      <th></th>\n",
              "      <th>Intercept</th>\n",
              "      <th>totsp</th>\n",
              "    </tr>\n",
              "  </thead>\n",
              "  <tbody>\n",
              "    <tr>\n",
              "      <th>Intercept</th>\n",
              "      <td>60.774494</td>\n",
              "      <td>-0.880741</td>\n",
              "    </tr>\n",
              "    <tr>\n",
              "      <th>totsp</th>\n",
              "      <td>-0.880741</td>\n",
              "      <td>0.012830</td>\n",
              "    </tr>\n",
              "  </tbody>\n",
              "</table>\n",
              "</div>\n",
              "    <div class=\"colab-df-buttons\">\n",
              "\n",
              "  <div class=\"colab-df-container\">\n",
              "    <button class=\"colab-df-convert\" onclick=\"convertToInteractive('df-7d834087-08bd-420c-b750-4a60093ad97a')\"\n",
              "            title=\"Convert this dataframe to an interactive table.\"\n",
              "            style=\"display:none;\">\n",
              "\n",
              "  <svg xmlns=\"http://www.w3.org/2000/svg\" height=\"24px\" viewBox=\"0 -960 960 960\">\n",
              "    <path d=\"M120-120v-720h720v720H120Zm60-500h600v-160H180v160Zm220 220h160v-160H400v160Zm0 220h160v-160H400v160ZM180-400h160v-160H180v160Zm440 0h160v-160H620v160ZM180-180h160v-160H180v160Zm440 0h160v-160H620v160Z\"/>\n",
              "  </svg>\n",
              "    </button>\n",
              "\n",
              "  <style>\n",
              "    .colab-df-container {\n",
              "      display:flex;\n",
              "      gap: 12px;\n",
              "    }\n",
              "\n",
              "    .colab-df-convert {\n",
              "      background-color: #E8F0FE;\n",
              "      border: none;\n",
              "      border-radius: 50%;\n",
              "      cursor: pointer;\n",
              "      display: none;\n",
              "      fill: #1967D2;\n",
              "      height: 32px;\n",
              "      padding: 0 0 0 0;\n",
              "      width: 32px;\n",
              "    }\n",
              "\n",
              "    .colab-df-convert:hover {\n",
              "      background-color: #E2EBFA;\n",
              "      box-shadow: 0px 1px 2px rgba(60, 64, 67, 0.3), 0px 1px 3px 1px rgba(60, 64, 67, 0.15);\n",
              "      fill: #174EA6;\n",
              "    }\n",
              "\n",
              "    .colab-df-buttons div {\n",
              "      margin-bottom: 4px;\n",
              "    }\n",
              "\n",
              "    [theme=dark] .colab-df-convert {\n",
              "      background-color: #3B4455;\n",
              "      fill: #D2E3FC;\n",
              "    }\n",
              "\n",
              "    [theme=dark] .colab-df-convert:hover {\n",
              "      background-color: #434B5C;\n",
              "      box-shadow: 0px 1px 3px 1px rgba(0, 0, 0, 0.15);\n",
              "      filter: drop-shadow(0px 1px 2px rgba(0, 0, 0, 0.3));\n",
              "      fill: #FFFFFF;\n",
              "    }\n",
              "  </style>\n",
              "\n",
              "    <script>\n",
              "      const buttonEl =\n",
              "        document.querySelector('#df-7d834087-08bd-420c-b750-4a60093ad97a button.colab-df-convert');\n",
              "      buttonEl.style.display =\n",
              "        google.colab.kernel.accessAllowed ? 'block' : 'none';\n",
              "\n",
              "      async function convertToInteractive(key) {\n",
              "        const element = document.querySelector('#df-7d834087-08bd-420c-b750-4a60093ad97a');\n",
              "        const dataTable =\n",
              "          await google.colab.kernel.invokeFunction('convertToInteractive',\n",
              "                                                    [key], {});\n",
              "        if (!dataTable) return;\n",
              "\n",
              "        const docLinkHtml = 'Like what you see? Visit the ' +\n",
              "          '<a target=\"_blank\" href=https://colab.research.google.com/notebooks/data_table.ipynb>data table notebook</a>'\n",
              "          + ' to learn more about interactive tables.';\n",
              "        element.innerHTML = '';\n",
              "        dataTable['output_type'] = 'display_data';\n",
              "        await google.colab.output.renderOutput(dataTable, element);\n",
              "        const docLink = document.createElement('div');\n",
              "        docLink.innerHTML = docLinkHtml;\n",
              "        element.appendChild(docLink);\n",
              "      }\n",
              "    </script>\n",
              "  </div>\n",
              "\n",
              "\n",
              "<div id=\"df-5859b027-b9e0-4316-ba7c-9792d5dc3c04\">\n",
              "  <button class=\"colab-df-quickchart\" onclick=\"quickchart('df-5859b027-b9e0-4316-ba7c-9792d5dc3c04')\"\n",
              "            title=\"Suggest charts\"\n",
              "            style=\"display:none;\">\n",
              "\n",
              "<svg xmlns=\"http://www.w3.org/2000/svg\" height=\"24px\"viewBox=\"0 0 24 24\"\n",
              "     width=\"24px\">\n",
              "    <g>\n",
              "        <path d=\"M19 3H5c-1.1 0-2 .9-2 2v14c0 1.1.9 2 2 2h14c1.1 0 2-.9 2-2V5c0-1.1-.9-2-2-2zM9 17H7v-7h2v7zm4 0h-2V7h2v10zm4 0h-2v-4h2v4z\"/>\n",
              "    </g>\n",
              "</svg>\n",
              "  </button>\n",
              "\n",
              "<style>\n",
              "  .colab-df-quickchart {\n",
              "      --bg-color: #E8F0FE;\n",
              "      --fill-color: #1967D2;\n",
              "      --hover-bg-color: #E2EBFA;\n",
              "      --hover-fill-color: #174EA6;\n",
              "      --disabled-fill-color: #AAA;\n",
              "      --disabled-bg-color: #DDD;\n",
              "  }\n",
              "\n",
              "  [theme=dark] .colab-df-quickchart {\n",
              "      --bg-color: #3B4455;\n",
              "      --fill-color: #D2E3FC;\n",
              "      --hover-bg-color: #434B5C;\n",
              "      --hover-fill-color: #FFFFFF;\n",
              "      --disabled-bg-color: #3B4455;\n",
              "      --disabled-fill-color: #666;\n",
              "  }\n",
              "\n",
              "  .colab-df-quickchart {\n",
              "    background-color: var(--bg-color);\n",
              "    border: none;\n",
              "    border-radius: 50%;\n",
              "    cursor: pointer;\n",
              "    display: none;\n",
              "    fill: var(--fill-color);\n",
              "    height: 32px;\n",
              "    padding: 0;\n",
              "    width: 32px;\n",
              "  }\n",
              "\n",
              "  .colab-df-quickchart:hover {\n",
              "    background-color: var(--hover-bg-color);\n",
              "    box-shadow: 0 1px 2px rgba(60, 64, 67, 0.3), 0 1px 3px 1px rgba(60, 64, 67, 0.15);\n",
              "    fill: var(--button-hover-fill-color);\n",
              "  }\n",
              "\n",
              "  .colab-df-quickchart-complete:disabled,\n",
              "  .colab-df-quickchart-complete:disabled:hover {\n",
              "    background-color: var(--disabled-bg-color);\n",
              "    fill: var(--disabled-fill-color);\n",
              "    box-shadow: none;\n",
              "  }\n",
              "\n",
              "  .colab-df-spinner {\n",
              "    border: 2px solid var(--fill-color);\n",
              "    border-color: transparent;\n",
              "    border-bottom-color: var(--fill-color);\n",
              "    animation:\n",
              "      spin 1s steps(1) infinite;\n",
              "  }\n",
              "\n",
              "  @keyframes spin {\n",
              "    0% {\n",
              "      border-color: transparent;\n",
              "      border-bottom-color: var(--fill-color);\n",
              "      border-left-color: var(--fill-color);\n",
              "    }\n",
              "    20% {\n",
              "      border-color: transparent;\n",
              "      border-left-color: var(--fill-color);\n",
              "      border-top-color: var(--fill-color);\n",
              "    }\n",
              "    30% {\n",
              "      border-color: transparent;\n",
              "      border-left-color: var(--fill-color);\n",
              "      border-top-color: var(--fill-color);\n",
              "      border-right-color: var(--fill-color);\n",
              "    }\n",
              "    40% {\n",
              "      border-color: transparent;\n",
              "      border-right-color: var(--fill-color);\n",
              "      border-top-color: var(--fill-color);\n",
              "    }\n",
              "    60% {\n",
              "      border-color: transparent;\n",
              "      border-right-color: var(--fill-color);\n",
              "    }\n",
              "    80% {\n",
              "      border-color: transparent;\n",
              "      border-right-color: var(--fill-color);\n",
              "      border-bottom-color: var(--fill-color);\n",
              "    }\n",
              "    90% {\n",
              "      border-color: transparent;\n",
              "      border-bottom-color: var(--fill-color);\n",
              "    }\n",
              "  }\n",
              "</style>\n",
              "\n",
              "  <script>\n",
              "    async function quickchart(key) {\n",
              "      const quickchartButtonEl =\n",
              "        document.querySelector('#' + key + ' button');\n",
              "      quickchartButtonEl.disabled = true;  // To prevent multiple clicks.\n",
              "      quickchartButtonEl.classList.add('colab-df-spinner');\n",
              "      try {\n",
              "        const charts = await google.colab.kernel.invokeFunction(\n",
              "            'suggestCharts', [key], {});\n",
              "      } catch (error) {\n",
              "        console.error('Error during call to suggestCharts:', error);\n",
              "      }\n",
              "      quickchartButtonEl.classList.remove('colab-df-spinner');\n",
              "      quickchartButtonEl.classList.add('colab-df-quickchart-complete');\n",
              "    }\n",
              "    (() => {\n",
              "      let quickchartButtonEl =\n",
              "        document.querySelector('#df-5859b027-b9e0-4316-ba7c-9792d5dc3c04 button');\n",
              "      quickchartButtonEl.style.display =\n",
              "        google.colab.kernel.accessAllowed ? 'block' : 'none';\n",
              "    })();\n",
              "  </script>\n",
              "</div>\n",
              "\n",
              "    </div>\n",
              "  </div>\n"
            ]
          },
          "metadata": {},
          "execution_count": 124
        }
      ]
    },
    {
      "cell_type": "code",
      "source": [
        "result.get_robustcov_results('HC3')"
      ],
      "metadata": {
        "colab": {
          "base_uri": "https://localhost:8080/"
        },
        "id": "Gdk-mYVNZLxV",
        "outputId": "310e6507-ec5a-4845-a833-1f197273c0a2"
      },
      "id": "Gdk-mYVNZLxV",
      "execution_count": 127,
      "outputs": [
        {
          "output_type": "execute_result",
          "data": {
            "text/plain": [
              "<statsmodels.regression.linear_model.OLSResults at 0x7d7bb108f100>"
            ]
          },
          "metadata": {},
          "execution_count": 127
        }
      ]
    },
    {
      "cell_type": "code",
      "source": [
        "test = sms.het_breuschpagan(result.resid, result.model.exog)\n",
        "\n",
        "name = [\"Lagrange multiplier statistic\", \"p-value\", \"f-value\", \"f p-value\"]\n",
        "pd.Series(test, index=name)"
      ],
      "metadata": {
        "id": "4XZ8-JuHVijk",
        "outputId": "c5e9155b-e5db-4d82-d32d-58c6032fa14f",
        "colab": {
          "base_uri": "https://localhost:8080/"
        }
      },
      "id": "4XZ8-JuHVijk",
      "execution_count": 129,
      "outputs": [
        {
          "output_type": "execute_result",
          "data": {
            "text/plain": [
              "Lagrange multiplier statistic    2.019538e+02\n",
              "p-value                          7.824949e-46\n",
              "f-value                          2.239235e+02\n",
              "f p-value                        4.107852e-48\n",
              "dtype: float64"
            ]
          },
          "metadata": {},
          "execution_count": 129
        }
      ]
    },
    {
      "cell_type": "code",
      "source": [
        "0.89 / 61 - 0.18 / 13"
      ],
      "metadata": {
        "id": "Ojs3yCObVNEA",
        "outputId": "d75c17a8-50b6-4db6-f933-19fb3bfb0769",
        "colab": {
          "base_uri": "https://localhost:8080/"
        }
      },
      "id": "Ojs3yCObVNEA",
      "execution_count": 96,
      "outputs": [
        {
          "output_type": "execute_result",
          "data": {
            "text/plain": [
              "0.0007440100882723857"
            ]
          },
          "metadata": {},
          "execution_count": 96
        }
      ]
    },
    {
      "cell_type": "markdown",
      "id": "xXseZPNr_W8y",
      "metadata": {
        "id": "xXseZPNr_W8y"
      },
      "source": [
        "**Вопрос:** Что изменилось при использовании поправки на гетероскедатичность?\n",
        "\n",
        "**Ответ:** Увеличилась дисперсия в оценке свободного члена\n",
        "\n"
      ]
    },
    {
      "cell_type": "markdown",
      "id": "bc9d08fc",
      "metadata": {
        "id": "bc9d08fc"
      },
      "source": [
        "Посмотрим матрицу ковариации, к сожалению, названия параметров теряются, поэтому необходимо добавить подписи столбцов и строк вручную."
      ]
    },
    {
      "cell_type": "code",
      "execution_count": 130,
      "id": "9a57b7d5",
      "metadata": {
        "ExecuteTime": {
          "end_time": "2022-11-22T15:08:12.740802Z",
          "start_time": "2022-11-22T15:08:12.728002Z"
        },
        "id": "9a57b7d5",
        "colab": {
          "base_uri": "https://localhost:8080/",
          "height": 112
        },
        "outputId": "3e3cc68b-6997-4188-d007-49ff91ccff65"
      },
      "outputs": [
        {
          "output_type": "execute_result",
          "data": {
            "text/plain": [
              "           Intercept     totsp\n",
              "Intercept  60.774494 -0.880741\n",
              "totsp      -0.880741  0.012830"
            ],
            "text/html": [
              "\n",
              "  <div id=\"df-12b80153-bbdc-4e58-9e5a-98c42a0bb8ca\" class=\"colab-df-container\">\n",
              "    <div>\n",
              "<style scoped>\n",
              "    .dataframe tbody tr th:only-of-type {\n",
              "        vertical-align: middle;\n",
              "    }\n",
              "\n",
              "    .dataframe tbody tr th {\n",
              "        vertical-align: top;\n",
              "    }\n",
              "\n",
              "    .dataframe thead th {\n",
              "        text-align: right;\n",
              "    }\n",
              "</style>\n",
              "<table border=\"1\" class=\"dataframe\">\n",
              "  <thead>\n",
              "    <tr style=\"text-align: right;\">\n",
              "      <th></th>\n",
              "      <th>Intercept</th>\n",
              "      <th>totsp</th>\n",
              "    </tr>\n",
              "  </thead>\n",
              "  <tbody>\n",
              "    <tr>\n",
              "      <th>Intercept</th>\n",
              "      <td>60.774494</td>\n",
              "      <td>-0.880741</td>\n",
              "    </tr>\n",
              "    <tr>\n",
              "      <th>totsp</th>\n",
              "      <td>-0.880741</td>\n",
              "      <td>0.012830</td>\n",
              "    </tr>\n",
              "  </tbody>\n",
              "</table>\n",
              "</div>\n",
              "    <div class=\"colab-df-buttons\">\n",
              "\n",
              "  <div class=\"colab-df-container\">\n",
              "    <button class=\"colab-df-convert\" onclick=\"convertToInteractive('df-12b80153-bbdc-4e58-9e5a-98c42a0bb8ca')\"\n",
              "            title=\"Convert this dataframe to an interactive table.\"\n",
              "            style=\"display:none;\">\n",
              "\n",
              "  <svg xmlns=\"http://www.w3.org/2000/svg\" height=\"24px\" viewBox=\"0 -960 960 960\">\n",
              "    <path d=\"M120-120v-720h720v720H120Zm60-500h600v-160H180v160Zm220 220h160v-160H400v160Zm0 220h160v-160H400v160ZM180-400h160v-160H180v160Zm440 0h160v-160H620v160ZM180-180h160v-160H180v160Zm440 0h160v-160H620v160Z\"/>\n",
              "  </svg>\n",
              "    </button>\n",
              "\n",
              "  <style>\n",
              "    .colab-df-container {\n",
              "      display:flex;\n",
              "      gap: 12px;\n",
              "    }\n",
              "\n",
              "    .colab-df-convert {\n",
              "      background-color: #E8F0FE;\n",
              "      border: none;\n",
              "      border-radius: 50%;\n",
              "      cursor: pointer;\n",
              "      display: none;\n",
              "      fill: #1967D2;\n",
              "      height: 32px;\n",
              "      padding: 0 0 0 0;\n",
              "      width: 32px;\n",
              "    }\n",
              "\n",
              "    .colab-df-convert:hover {\n",
              "      background-color: #E2EBFA;\n",
              "      box-shadow: 0px 1px 2px rgba(60, 64, 67, 0.3), 0px 1px 3px 1px rgba(60, 64, 67, 0.15);\n",
              "      fill: #174EA6;\n",
              "    }\n",
              "\n",
              "    .colab-df-buttons div {\n",
              "      margin-bottom: 4px;\n",
              "    }\n",
              "\n",
              "    [theme=dark] .colab-df-convert {\n",
              "      background-color: #3B4455;\n",
              "      fill: #D2E3FC;\n",
              "    }\n",
              "\n",
              "    [theme=dark] .colab-df-convert:hover {\n",
              "      background-color: #434B5C;\n",
              "      box-shadow: 0px 1px 3px 1px rgba(0, 0, 0, 0.15);\n",
              "      filter: drop-shadow(0px 1px 2px rgba(0, 0, 0, 0.3));\n",
              "      fill: #FFFFFF;\n",
              "    }\n",
              "  </style>\n",
              "\n",
              "    <script>\n",
              "      const buttonEl =\n",
              "        document.querySelector('#df-12b80153-bbdc-4e58-9e5a-98c42a0bb8ca button.colab-df-convert');\n",
              "      buttonEl.style.display =\n",
              "        google.colab.kernel.accessAllowed ? 'block' : 'none';\n",
              "\n",
              "      async function convertToInteractive(key) {\n",
              "        const element = document.querySelector('#df-12b80153-bbdc-4e58-9e5a-98c42a0bb8ca');\n",
              "        const dataTable =\n",
              "          await google.colab.kernel.invokeFunction('convertToInteractive',\n",
              "                                                    [key], {});\n",
              "        if (!dataTable) return;\n",
              "\n",
              "        const docLinkHtml = 'Like what you see? Visit the ' +\n",
              "          '<a target=\"_blank\" href=https://colab.research.google.com/notebooks/data_table.ipynb>data table notebook</a>'\n",
              "          + ' to learn more about interactive tables.';\n",
              "        element.innerHTML = '';\n",
              "        dataTable['output_type'] = 'display_data';\n",
              "        await google.colab.output.renderOutput(dataTable, element);\n",
              "        const docLink = document.createElement('div');\n",
              "        docLink.innerHTML = docLinkHtml;\n",
              "        element.appendChild(docLink);\n",
              "      }\n",
              "    </script>\n",
              "  </div>\n",
              "\n",
              "\n",
              "<div id=\"df-e5a2ab30-752c-4f58-bd70-0b8d317b5acc\">\n",
              "  <button class=\"colab-df-quickchart\" onclick=\"quickchart('df-e5a2ab30-752c-4f58-bd70-0b8d317b5acc')\"\n",
              "            title=\"Suggest charts\"\n",
              "            style=\"display:none;\">\n",
              "\n",
              "<svg xmlns=\"http://www.w3.org/2000/svg\" height=\"24px\"viewBox=\"0 0 24 24\"\n",
              "     width=\"24px\">\n",
              "    <g>\n",
              "        <path d=\"M19 3H5c-1.1 0-2 .9-2 2v14c0 1.1.9 2 2 2h14c1.1 0 2-.9 2-2V5c0-1.1-.9-2-2-2zM9 17H7v-7h2v7zm4 0h-2V7h2v10zm4 0h-2v-4h2v4z\"/>\n",
              "    </g>\n",
              "</svg>\n",
              "  </button>\n",
              "\n",
              "<style>\n",
              "  .colab-df-quickchart {\n",
              "      --bg-color: #E8F0FE;\n",
              "      --fill-color: #1967D2;\n",
              "      --hover-bg-color: #E2EBFA;\n",
              "      --hover-fill-color: #174EA6;\n",
              "      --disabled-fill-color: #AAA;\n",
              "      --disabled-bg-color: #DDD;\n",
              "  }\n",
              "\n",
              "  [theme=dark] .colab-df-quickchart {\n",
              "      --bg-color: #3B4455;\n",
              "      --fill-color: #D2E3FC;\n",
              "      --hover-bg-color: #434B5C;\n",
              "      --hover-fill-color: #FFFFFF;\n",
              "      --disabled-bg-color: #3B4455;\n",
              "      --disabled-fill-color: #666;\n",
              "  }\n",
              "\n",
              "  .colab-df-quickchart {\n",
              "    background-color: var(--bg-color);\n",
              "    border: none;\n",
              "    border-radius: 50%;\n",
              "    cursor: pointer;\n",
              "    display: none;\n",
              "    fill: var(--fill-color);\n",
              "    height: 32px;\n",
              "    padding: 0;\n",
              "    width: 32px;\n",
              "  }\n",
              "\n",
              "  .colab-df-quickchart:hover {\n",
              "    background-color: var(--hover-bg-color);\n",
              "    box-shadow: 0 1px 2px rgba(60, 64, 67, 0.3), 0 1px 3px 1px rgba(60, 64, 67, 0.15);\n",
              "    fill: var(--button-hover-fill-color);\n",
              "  }\n",
              "\n",
              "  .colab-df-quickchart-complete:disabled,\n",
              "  .colab-df-quickchart-complete:disabled:hover {\n",
              "    background-color: var(--disabled-bg-color);\n",
              "    fill: var(--disabled-fill-color);\n",
              "    box-shadow: none;\n",
              "  }\n",
              "\n",
              "  .colab-df-spinner {\n",
              "    border: 2px solid var(--fill-color);\n",
              "    border-color: transparent;\n",
              "    border-bottom-color: var(--fill-color);\n",
              "    animation:\n",
              "      spin 1s steps(1) infinite;\n",
              "  }\n",
              "\n",
              "  @keyframes spin {\n",
              "    0% {\n",
              "      border-color: transparent;\n",
              "      border-bottom-color: var(--fill-color);\n",
              "      border-left-color: var(--fill-color);\n",
              "    }\n",
              "    20% {\n",
              "      border-color: transparent;\n",
              "      border-left-color: var(--fill-color);\n",
              "      border-top-color: var(--fill-color);\n",
              "    }\n",
              "    30% {\n",
              "      border-color: transparent;\n",
              "      border-left-color: var(--fill-color);\n",
              "      border-top-color: var(--fill-color);\n",
              "      border-right-color: var(--fill-color);\n",
              "    }\n",
              "    40% {\n",
              "      border-color: transparent;\n",
              "      border-right-color: var(--fill-color);\n",
              "      border-top-color: var(--fill-color);\n",
              "    }\n",
              "    60% {\n",
              "      border-color: transparent;\n",
              "      border-right-color: var(--fill-color);\n",
              "    }\n",
              "    80% {\n",
              "      border-color: transparent;\n",
              "      border-right-color: var(--fill-color);\n",
              "      border-bottom-color: var(--fill-color);\n",
              "    }\n",
              "    90% {\n",
              "      border-color: transparent;\n",
              "      border-bottom-color: var(--fill-color);\n",
              "    }\n",
              "  }\n",
              "</style>\n",
              "\n",
              "  <script>\n",
              "    async function quickchart(key) {\n",
              "      const quickchartButtonEl =\n",
              "        document.querySelector('#' + key + ' button');\n",
              "      quickchartButtonEl.disabled = true;  // To prevent multiple clicks.\n",
              "      quickchartButtonEl.classList.add('colab-df-spinner');\n",
              "      try {\n",
              "        const charts = await google.colab.kernel.invokeFunction(\n",
              "            'suggestCharts', [key], {});\n",
              "      } catch (error) {\n",
              "        console.error('Error during call to suggestCharts:', error);\n",
              "      }\n",
              "      quickchartButtonEl.classList.remove('colab-df-spinner');\n",
              "      quickchartButtonEl.classList.add('colab-df-quickchart-complete');\n",
              "    }\n",
              "    (() => {\n",
              "      let quickchartButtonEl =\n",
              "        document.querySelector('#df-e5a2ab30-752c-4f58-bd70-0b8d317b5acc button');\n",
              "      quickchartButtonEl.style.display =\n",
              "        google.colab.kernel.accessAllowed ? 'block' : 'none';\n",
              "    })();\n",
              "  </script>\n",
              "</div>\n",
              "\n",
              "    </div>\n",
              "  </div>\n"
            ]
          },
          "metadata": {},
          "execution_count": 130
        }
      ],
      "source": [
        "result.cov_params()"
      ]
    },
    {
      "cell_type": "markdown",
      "id": "35a83b31",
      "metadata": {
        "id": "35a83b31"
      },
      "source": [
        "### 4. Пример с несколькими признаками\n",
        "\n",
        "Рассмотрим регрессионную модель $$price = \\theta_0 + \\theta_1 \\cdot totsp + \\theta_2 \\cdot livesp + \\theta_3 \\cdot dist$$\n",
        "\n",
        "Напишите формулу для модели и укажите тип используемой оценки матрицы ковариаций в предположении гетероскедастичности."
      ]
    },
    {
      "cell_type": "code",
      "execution_count": 87,
      "id": "d504fb91",
      "metadata": {
        "ExecuteTime": {
          "end_time": "2022-11-22T15:08:12.795851Z",
          "start_time": "2022-11-22T15:08:12.761283Z"
        },
        "id": "d504fb91",
        "colab": {
          "base_uri": "https://localhost:8080/"
        },
        "outputId": "b8758fc1-e161-4029-dd22-d7353874c881"
      },
      "outputs": [
        {
          "output_type": "stream",
          "name": "stdout",
          "text": [
            "                            OLS Regression Results                            \n",
            "==============================================================================\n",
            "Dep. Variable:                  price   R-squared:                       0.644\n",
            "Model:                            OLS   Adj. R-squared:                  0.643\n",
            "Method:                 Least Squares   F-statistic:                     356.3\n",
            "Date:                Thu, 04 Jan 2024   Prob (F-statistic):          5.54e-186\n",
            "Time:                        16:34:45   Log-Likelihood:                -9896.8\n",
            "No. Observations:                2040   AIC:                         1.980e+04\n",
            "Df Residuals:                    2036   BIC:                         1.982e+04\n",
            "Df Model:                           3                                         \n",
            "Covariance Type:                  HC3                                         \n",
            "==============================================================================\n",
            "                 coef    std err          z      P>|z|      [0.025      0.975]\n",
            "------------------------------------------------------------------------------\n",
            "Intercept    -36.2647     13.514     -2.683      0.007     -62.753      -9.777\n",
            "totsp          1.8651      0.175     10.657      0.000       1.522       2.208\n",
            "dist          -3.4822      0.231    -15.065      0.000      -3.935      -3.029\n",
            "livesp         1.4203      0.477      2.975      0.003       0.484       2.356\n",
            "==============================================================================\n",
            "Omnibus:                     1308.916   Durbin-Watson:                   2.036\n",
            "Prob(Omnibus):                  0.000   Jarque-Bera (JB):            40064.458\n",
            "Skew:                           2.528   Prob(JB):                         0.00\n",
            "Kurtosis:                      24.113   Cond. No.                         669.\n",
            "==============================================================================\n",
            "\n",
            "Notes:\n",
            "[1] Standard Errors are heteroscedasticity robust (HC3)\n"
          ]
        }
      ],
      "source": [
        "model2 = smf.ols('price ~ totsp + dist + livesp', flats)\n",
        "results2 = model2.fit(cov_type='HC3')\n",
        "print(results2.summary())"
      ]
    },
    {
      "cell_type": "code",
      "source": [
        "results2.cov_params()"
      ],
      "metadata": {
        "id": "xfUyv3FIUhu-",
        "outputId": "ca71e9ef-cab0-4075-df88-842cf265fa00",
        "colab": {
          "base_uri": "https://localhost:8080/",
          "height": 175
        }
      },
      "id": "xfUyv3FIUhu-",
      "execution_count": 91,
      "outputs": [
        {
          "output_type": "execute_result",
          "data": {
            "text/plain": [
              "            Intercept     totsp      dist    livesp\n",
              "Intercept  182.640631  1.246373 -1.646575 -5.615133\n",
              "totsp        1.246373  0.030626 -0.012472 -0.072394\n",
              "dist        -1.646575 -0.012472  0.053429  0.042269\n",
              "livesp      -5.615133 -0.072394  0.042269  0.227979"
            ],
            "text/html": [
              "\n",
              "  <div id=\"df-109ca425-8ea1-45ec-a1b3-b694dd6f8778\" class=\"colab-df-container\">\n",
              "    <div>\n",
              "<style scoped>\n",
              "    .dataframe tbody tr th:only-of-type {\n",
              "        vertical-align: middle;\n",
              "    }\n",
              "\n",
              "    .dataframe tbody tr th {\n",
              "        vertical-align: top;\n",
              "    }\n",
              "\n",
              "    .dataframe thead th {\n",
              "        text-align: right;\n",
              "    }\n",
              "</style>\n",
              "<table border=\"1\" class=\"dataframe\">\n",
              "  <thead>\n",
              "    <tr style=\"text-align: right;\">\n",
              "      <th></th>\n",
              "      <th>Intercept</th>\n",
              "      <th>totsp</th>\n",
              "      <th>dist</th>\n",
              "      <th>livesp</th>\n",
              "    </tr>\n",
              "  </thead>\n",
              "  <tbody>\n",
              "    <tr>\n",
              "      <th>Intercept</th>\n",
              "      <td>182.640631</td>\n",
              "      <td>1.246373</td>\n",
              "      <td>-1.646575</td>\n",
              "      <td>-5.615133</td>\n",
              "    </tr>\n",
              "    <tr>\n",
              "      <th>totsp</th>\n",
              "      <td>1.246373</td>\n",
              "      <td>0.030626</td>\n",
              "      <td>-0.012472</td>\n",
              "      <td>-0.072394</td>\n",
              "    </tr>\n",
              "    <tr>\n",
              "      <th>dist</th>\n",
              "      <td>-1.646575</td>\n",
              "      <td>-0.012472</td>\n",
              "      <td>0.053429</td>\n",
              "      <td>0.042269</td>\n",
              "    </tr>\n",
              "    <tr>\n",
              "      <th>livesp</th>\n",
              "      <td>-5.615133</td>\n",
              "      <td>-0.072394</td>\n",
              "      <td>0.042269</td>\n",
              "      <td>0.227979</td>\n",
              "    </tr>\n",
              "  </tbody>\n",
              "</table>\n",
              "</div>\n",
              "    <div class=\"colab-df-buttons\">\n",
              "\n",
              "  <div class=\"colab-df-container\">\n",
              "    <button class=\"colab-df-convert\" onclick=\"convertToInteractive('df-109ca425-8ea1-45ec-a1b3-b694dd6f8778')\"\n",
              "            title=\"Convert this dataframe to an interactive table.\"\n",
              "            style=\"display:none;\">\n",
              "\n",
              "  <svg xmlns=\"http://www.w3.org/2000/svg\" height=\"24px\" viewBox=\"0 -960 960 960\">\n",
              "    <path d=\"M120-120v-720h720v720H120Zm60-500h600v-160H180v160Zm220 220h160v-160H400v160Zm0 220h160v-160H400v160ZM180-400h160v-160H180v160Zm440 0h160v-160H620v160ZM180-180h160v-160H180v160Zm440 0h160v-160H620v160Z\"/>\n",
              "  </svg>\n",
              "    </button>\n",
              "\n",
              "  <style>\n",
              "    .colab-df-container {\n",
              "      display:flex;\n",
              "      gap: 12px;\n",
              "    }\n",
              "\n",
              "    .colab-df-convert {\n",
              "      background-color: #E8F0FE;\n",
              "      border: none;\n",
              "      border-radius: 50%;\n",
              "      cursor: pointer;\n",
              "      display: none;\n",
              "      fill: #1967D2;\n",
              "      height: 32px;\n",
              "      padding: 0 0 0 0;\n",
              "      width: 32px;\n",
              "    }\n",
              "\n",
              "    .colab-df-convert:hover {\n",
              "      background-color: #E2EBFA;\n",
              "      box-shadow: 0px 1px 2px rgba(60, 64, 67, 0.3), 0px 1px 3px 1px rgba(60, 64, 67, 0.15);\n",
              "      fill: #174EA6;\n",
              "    }\n",
              "\n",
              "    .colab-df-buttons div {\n",
              "      margin-bottom: 4px;\n",
              "    }\n",
              "\n",
              "    [theme=dark] .colab-df-convert {\n",
              "      background-color: #3B4455;\n",
              "      fill: #D2E3FC;\n",
              "    }\n",
              "\n",
              "    [theme=dark] .colab-df-convert:hover {\n",
              "      background-color: #434B5C;\n",
              "      box-shadow: 0px 1px 3px 1px rgba(0, 0, 0, 0.15);\n",
              "      filter: drop-shadow(0px 1px 2px rgba(0, 0, 0, 0.3));\n",
              "      fill: #FFFFFF;\n",
              "    }\n",
              "  </style>\n",
              "\n",
              "    <script>\n",
              "      const buttonEl =\n",
              "        document.querySelector('#df-109ca425-8ea1-45ec-a1b3-b694dd6f8778 button.colab-df-convert');\n",
              "      buttonEl.style.display =\n",
              "        google.colab.kernel.accessAllowed ? 'block' : 'none';\n",
              "\n",
              "      async function convertToInteractive(key) {\n",
              "        const element = document.querySelector('#df-109ca425-8ea1-45ec-a1b3-b694dd6f8778');\n",
              "        const dataTable =\n",
              "          await google.colab.kernel.invokeFunction('convertToInteractive',\n",
              "                                                    [key], {});\n",
              "        if (!dataTable) return;\n",
              "\n",
              "        const docLinkHtml = 'Like what you see? Visit the ' +\n",
              "          '<a target=\"_blank\" href=https://colab.research.google.com/notebooks/data_table.ipynb>data table notebook</a>'\n",
              "          + ' to learn more about interactive tables.';\n",
              "        element.innerHTML = '';\n",
              "        dataTable['output_type'] = 'display_data';\n",
              "        await google.colab.output.renderOutput(dataTable, element);\n",
              "        const docLink = document.createElement('div');\n",
              "        docLink.innerHTML = docLinkHtml;\n",
              "        element.appendChild(docLink);\n",
              "      }\n",
              "    </script>\n",
              "  </div>\n",
              "\n",
              "\n",
              "<div id=\"df-2f989fc8-6ddb-43e1-9a34-e54356bcf1b3\">\n",
              "  <button class=\"colab-df-quickchart\" onclick=\"quickchart('df-2f989fc8-6ddb-43e1-9a34-e54356bcf1b3')\"\n",
              "            title=\"Suggest charts\"\n",
              "            style=\"display:none;\">\n",
              "\n",
              "<svg xmlns=\"http://www.w3.org/2000/svg\" height=\"24px\"viewBox=\"0 0 24 24\"\n",
              "     width=\"24px\">\n",
              "    <g>\n",
              "        <path d=\"M19 3H5c-1.1 0-2 .9-2 2v14c0 1.1.9 2 2 2h14c1.1 0 2-.9 2-2V5c0-1.1-.9-2-2-2zM9 17H7v-7h2v7zm4 0h-2V7h2v10zm4 0h-2v-4h2v4z\"/>\n",
              "    </g>\n",
              "</svg>\n",
              "  </button>\n",
              "\n",
              "<style>\n",
              "  .colab-df-quickchart {\n",
              "      --bg-color: #E8F0FE;\n",
              "      --fill-color: #1967D2;\n",
              "      --hover-bg-color: #E2EBFA;\n",
              "      --hover-fill-color: #174EA6;\n",
              "      --disabled-fill-color: #AAA;\n",
              "      --disabled-bg-color: #DDD;\n",
              "  }\n",
              "\n",
              "  [theme=dark] .colab-df-quickchart {\n",
              "      --bg-color: #3B4455;\n",
              "      --fill-color: #D2E3FC;\n",
              "      --hover-bg-color: #434B5C;\n",
              "      --hover-fill-color: #FFFFFF;\n",
              "      --disabled-bg-color: #3B4455;\n",
              "      --disabled-fill-color: #666;\n",
              "  }\n",
              "\n",
              "  .colab-df-quickchart {\n",
              "    background-color: var(--bg-color);\n",
              "    border: none;\n",
              "    border-radius: 50%;\n",
              "    cursor: pointer;\n",
              "    display: none;\n",
              "    fill: var(--fill-color);\n",
              "    height: 32px;\n",
              "    padding: 0;\n",
              "    width: 32px;\n",
              "  }\n",
              "\n",
              "  .colab-df-quickchart:hover {\n",
              "    background-color: var(--hover-bg-color);\n",
              "    box-shadow: 0 1px 2px rgba(60, 64, 67, 0.3), 0 1px 3px 1px rgba(60, 64, 67, 0.15);\n",
              "    fill: var(--button-hover-fill-color);\n",
              "  }\n",
              "\n",
              "  .colab-df-quickchart-complete:disabled,\n",
              "  .colab-df-quickchart-complete:disabled:hover {\n",
              "    background-color: var(--disabled-bg-color);\n",
              "    fill: var(--disabled-fill-color);\n",
              "    box-shadow: none;\n",
              "  }\n",
              "\n",
              "  .colab-df-spinner {\n",
              "    border: 2px solid var(--fill-color);\n",
              "    border-color: transparent;\n",
              "    border-bottom-color: var(--fill-color);\n",
              "    animation:\n",
              "      spin 1s steps(1) infinite;\n",
              "  }\n",
              "\n",
              "  @keyframes spin {\n",
              "    0% {\n",
              "      border-color: transparent;\n",
              "      border-bottom-color: var(--fill-color);\n",
              "      border-left-color: var(--fill-color);\n",
              "    }\n",
              "    20% {\n",
              "      border-color: transparent;\n",
              "      border-left-color: var(--fill-color);\n",
              "      border-top-color: var(--fill-color);\n",
              "    }\n",
              "    30% {\n",
              "      border-color: transparent;\n",
              "      border-left-color: var(--fill-color);\n",
              "      border-top-color: var(--fill-color);\n",
              "      border-right-color: var(--fill-color);\n",
              "    }\n",
              "    40% {\n",
              "      border-color: transparent;\n",
              "      border-right-color: var(--fill-color);\n",
              "      border-top-color: var(--fill-color);\n",
              "    }\n",
              "    60% {\n",
              "      border-color: transparent;\n",
              "      border-right-color: var(--fill-color);\n",
              "    }\n",
              "    80% {\n",
              "      border-color: transparent;\n",
              "      border-right-color: var(--fill-color);\n",
              "      border-bottom-color: var(--fill-color);\n",
              "    }\n",
              "    90% {\n",
              "      border-color: transparent;\n",
              "      border-bottom-color: var(--fill-color);\n",
              "    }\n",
              "  }\n",
              "</style>\n",
              "\n",
              "  <script>\n",
              "    async function quickchart(key) {\n",
              "      const quickchartButtonEl =\n",
              "        document.querySelector('#' + key + ' button');\n",
              "      quickchartButtonEl.disabled = true;  // To prevent multiple clicks.\n",
              "      quickchartButtonEl.classList.add('colab-df-spinner');\n",
              "      try {\n",
              "        const charts = await google.colab.kernel.invokeFunction(\n",
              "            'suggestCharts', [key], {});\n",
              "      } catch (error) {\n",
              "        console.error('Error during call to suggestCharts:', error);\n",
              "      }\n",
              "      quickchartButtonEl.classList.remove('colab-df-spinner');\n",
              "      quickchartButtonEl.classList.add('colab-df-quickchart-complete');\n",
              "    }\n",
              "    (() => {\n",
              "      let quickchartButtonEl =\n",
              "        document.querySelector('#df-2f989fc8-6ddb-43e1-9a34-e54356bcf1b3 button');\n",
              "      quickchartButtonEl.style.display =\n",
              "        google.colab.kernel.accessAllowed ? 'block' : 'none';\n",
              "    })();\n",
              "  </script>\n",
              "</div>\n",
              "\n",
              "    </div>\n",
              "  </div>\n"
            ]
          },
          "metadata": {},
          "execution_count": 91
        }
      ]
    },
    {
      "cell_type": "markdown",
      "id": "7ab86781",
      "metadata": {
        "id": "7ab86781"
      },
      "source": [
        "Как и раньше, можно извлечь результаты отдельных тестов."
      ]
    },
    {
      "cell_type": "code",
      "execution_count": 78,
      "id": "a966dc77",
      "metadata": {
        "ExecuteTime": {
          "end_time": "2022-11-22T15:08:12.814833Z",
          "start_time": "2022-11-22T15:08:12.797928Z"
        },
        "id": "a966dc77",
        "colab": {
          "base_uri": "https://localhost:8080/"
        },
        "outputId": "085f02a7-0270-4679-df75-f911f5b466f6"
      },
      "outputs": [
        {
          "output_type": "execute_result",
          "data": {
            "text/plain": [
              "<class 'statsmodels.stats.contrast.ContrastResults'>\n",
              "                             Test for Constraints                             \n",
              "==============================================================================\n",
              "                 coef    std err          z      P>|z|      [0.025      0.975]\n",
              "------------------------------------------------------------------------------\n",
              "c0             1.8651      0.175     10.657      0.000       1.522       2.208\n",
              "=============================================================================="
            ]
          },
          "metadata": {},
          "execution_count": 78
        }
      ],
      "source": [
        "results2.t_test('totsp = 0')"
      ]
    },
    {
      "cell_type": "markdown",
      "id": "3a7f9b8d",
      "metadata": {
        "id": "3a7f9b8d"
      },
      "source": [
        "С помощью t-критерия можно проверять одну любую линейную гипотезу. Например, гипотеза о равенстве $\\theta_{totsp} = 2\\theta_{dist}$."
      ]
    },
    {
      "cell_type": "code",
      "execution_count": 79,
      "id": "44ba1425",
      "metadata": {
        "ExecuteTime": {
          "end_time": "2022-11-22T15:08:12.823725Z",
          "start_time": "2022-11-22T15:08:12.816686Z"
        },
        "id": "44ba1425",
        "colab": {
          "base_uri": "https://localhost:8080/"
        },
        "outputId": "44dc2c5f-c19c-4eaf-ebe8-bd679a1b8646"
      },
      "outputs": [
        {
          "output_type": "execute_result",
          "data": {
            "text/plain": [
              "<class 'statsmodels.stats.contrast.ContrastResults'>\n",
              "                             Test for Constraints                             \n",
              "==============================================================================\n",
              "                 coef    std err          z      P>|z|      [0.025      0.975]\n",
              "------------------------------------------------------------------------------\n",
              "c0             8.8294      0.542     16.278      0.000       7.766       9.893\n",
              "=============================================================================="
            ]
          },
          "metadata": {},
          "execution_count": 79
        }
      ],
      "source": [
        "results2.t_test('totsp = 2*dist')"
      ]
    },
    {
      "cell_type": "markdown",
      "id": "46dfa80c",
      "metadata": {
        "id": "46dfa80c"
      },
      "source": [
        "Можно использовать  f-критерий для проверки нескольких линейных гипотез.\n",
        "\n",
        "Например, проверим гипотезу об одновременной незначимости коэффициентов перед признаками `livesp`, `dist`."
      ]
    },
    {
      "cell_type": "code",
      "execution_count": 80,
      "id": "7cf54c56",
      "metadata": {
        "ExecuteTime": {
          "end_time": "2022-11-22T15:08:12.846340Z",
          "start_time": "2022-11-22T15:08:12.825643Z"
        },
        "id": "7cf54c56",
        "colab": {
          "base_uri": "https://localhost:8080/"
        },
        "outputId": "ef7fb979-7e7b-4f3b-94c3-41a4bff98a1c"
      },
      "outputs": [
        {
          "output_type": "stream",
          "name": "stdout",
          "text": [
            "<F test: F=158.2785695858039, p=1.2819465639801113e-64, df_denom=2.04e+03, df_num=2>\n"
          ]
        }
      ],
      "source": [
        "print(results2.f_test(\"(livesp=0), (dist=0)\"))"
      ]
    },
    {
      "cell_type": "markdown",
      "id": "6261628b",
      "metadata": {
        "id": "6261628b"
      },
      "source": [
        "Можно проверить гипотезу о равенстве $\\theta_{totsp} = \\theta_{dist}$."
      ]
    },
    {
      "cell_type": "code",
      "execution_count": 81,
      "id": "3d01cccf",
      "metadata": {
        "ExecuteTime": {
          "end_time": "2022-11-22T15:08:12.853215Z",
          "start_time": "2022-11-22T15:08:12.848311Z"
        },
        "id": "3d01cccf",
        "colab": {
          "base_uri": "https://localhost:8080/"
        },
        "outputId": "718d1328-7495-4cfa-88db-6b6c03953ace"
      },
      "outputs": [
        {
          "output_type": "stream",
          "name": "stdout",
          "text": [
            "<F test: F=122.08370500665995, p=1.3242745966327198e-27, df_denom=2.04e+03, df_num=1>\n"
          ]
        }
      ],
      "source": [
        "print(results2.f_test(\"(livesp=dist)\"))"
      ]
    },
    {
      "cell_type": "markdown",
      "id": "TXoBjeaOYEu9",
      "metadata": {
        "id": "TXoBjeaOYEu9"
      },
      "source": [
        "**Выводы:** statsmodel предоставляют удобный api для проверки статистических гипотез."
      ]
    }
  ],
  "metadata": {
    "colab": {
      "collapsed_sections": [
        "w0MZWjUyhwBa",
        "ffa211ba",
        "49ebc570",
        "3b18b5be",
        "db12007b",
        "6e89e6a4",
        "34bda7bc",
        "3f6ac1b4",
        "35a83b31"
      ],
      "provenance": [],
      "include_colab_link": true
    },
    "kernelspec": {
      "display_name": "Python 3 (ipykernel)",
      "language": "python",
      "name": "python3"
    },
    "language_info": {
      "codemirror_mode": {
        "name": "ipython",
        "version": 3
      },
      "file_extension": ".py",
      "mimetype": "text/x-python",
      "name": "python",
      "nbconvert_exporter": "python",
      "pygments_lexer": "ipython3",
      "version": "3.9.6"
    }
  },
  "nbformat": 4,
  "nbformat_minor": 5
}