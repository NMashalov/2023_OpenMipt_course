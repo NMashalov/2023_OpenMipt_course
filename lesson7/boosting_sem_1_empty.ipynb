{
 "cells": [
  {
   "cell_type": "code",
   "execution_count": null,
   "metadata": {
    "id": "AOcETDlHd1js"
   },
   "outputs": [],
   "source": [
    "import numpy as np\n",
    "import pandas as pd\n",
    "\n",
    "from tqdm.notebook import tqdm\n",
    "import matplotlib.pyplot as plt\n",
    "import seaborn as sns\n",
    "\n",
    "from sklearn.ensemble import GradientBoostingRegressor\n",
    "from sklearn.ensemble import GradientBoostingClassifier\n",
    "from sklearn.metrics import mean_squared_error as mse\n",
    "from sklearn.tree import plot_tree\n",
    "\n",
    "import scipy\n",
    "\n",
    "sns.set(font_scale=1.8, palette='Set2')"
   ]
  },
  {
   "cell_type": "markdown",
   "metadata": {
    "id": "WEDSdgQO7BRV"
   },
   "source": [
    "# Простая часть"
   ]
  },
  {
   "cell_type": "markdown",
   "metadata": {
    "id": "wn60RylR0VST"
   },
   "source": [
    "Сгенерируем данные."
   ]
  },
  {
   "cell_type": "code",
   "execution_count": null,
   "metadata": {
    "colab": {
     "base_uri": "https://localhost:8080/",
     "height": 494
    },
    "executionInfo": {
     "elapsed": 974,
     "status": "ok",
     "timestamp": 1666177231294,
     "user": {
      "displayName": "Ольга Калиниченко",
      "userId": "02601674627512446822"
     },
     "user_tz": -180
    },
    "id": "Vrclw0zseOFH",
    "outputId": "cd512b6a-bf72-4d31-f184-d85ed9215d5a"
   },
   "outputs": [
    {
     "data": {
      "image/png": "[encoded data removed]",
      "text/plain": [
       "<Figure size 720x576 with 1 Axes>"
      ]
     },
     "metadata": {},
     "output_type": "display_data"
    }
   ],
   "source": [
    "np.random.seed(42)\n",
    "X_train = scipy.stats.uniform.rvs(loc=-3, scale = 6, size=(500, 1))\n",
    "y_train = np.ravel(np.sin(X_train)) + scipy.stats.norm.rvs(scale=0.1, size=500)\n",
    "\n",
    "plt.figure(figsize=(10, 8))\n",
    "plt.scatter(X_train, y_train)\n",
    "\n",
    "plt.show()"
   ]
  },
  {
   "cell_type": "code",
   "execution_count": null,
   "metadata": {
    "colab": {
     "base_uri": "https://localhost:8080/"
    },
    "executionInfo": {
     "elapsed": 3,
     "status": "ok",
     "timestamp": 1666177232646,
     "user": {
      "displayName": "Ольга Калиниченко",
      "userId": "02601674627512446822"
     },
     "user_tz": -180
    },
    "id": "n1nYmG9TzWxL",
    "outputId": "9d908020-7b3d-4170-db69-50fc7826f98a"
   },
   "outputs": [
    {
     "data": {
      "text/plain": [
       "((500, 1), (500,))"
      ]
     },
     "execution_count": 4,
     "metadata": {},
     "output_type": "execute_result"
    }
   ],
   "source": [
    "X_train.shape, y_train.shape"
   ]
  },
  {
   "cell_type": "markdown",
   "metadata": {
    "id": "KGhDU4aCxCFH"
   },
   "source": [
    "Обучите градиентный бустинг `GradientBoostingRegressor` с параметром `learning_rate=1` и 10 деревьями."
   ]
  },
  {
   "cell_type": "code",
   "execution_count": null,
   "metadata": {
    "colab": {
     "base_uri": "https://localhost:8080/"
    },
    "executionInfo": {
     "elapsed": 268,
     "status": "ok",
     "timestamp": 1666177025074,
     "user": {
      "displayName": "Ольга Калиниченко",
      "userId": "02601674627512446822"
     },
     "user_tz": -180
    },
    "id": "wsD1AZ45f1jc",
    "outputId": "968140c7-96a3-417b-a4fb-863422a67266"
   },
   "outputs": [
    {
     "data": {
      "text/plain": [
       "GradientBoostingRegressor(learning_rate=1)"
      ]
     },
     "execution_count": 25,
     "metadata": {},
     "output_type": "execute_result"
    }
   ],
   "source": [
    "regressor = <...>\n"
   ]
  },
  {
   "cell_type": "markdown",
   "metadata": {
    "id": "TuSfWyNYyT5u"
   },
   "source": [
    "Выведите параметры бустинга. Какие деревья используются в бустинге по умолчанию? "
   ]
  },
  {
   "cell_type": "code",
   "execution_count": null,
   "metadata": {
    "id": "TIPd1977lPAZ"
   },
   "outputs": [],
   "source": [
    "<...>"
   ]
  },
  {
   "cell_type": "markdown",
   "metadata": {
    "id": "_hg9996f51x1"
   },
   "source": [
    "**Ответ**"
   ]
  },
  {
   "cell_type": "markdown",
   "metadata": {
    "id": "6Gf9WPU2yl8N"
   },
   "source": [
    "Нарисуйте первые 5 деревьев бустинга. Какие они?"
   ]
  },
  {
   "cell_type": "code",
   "execution_count": null,
   "metadata": {
    "colab": {
     "base_uri": "https://localhost:8080/"
    },
    "executionInfo": {
     "elapsed": 4,
     "status": "ok",
     "timestamp": 1666177025075,
     "user": {
      "displayName": "Ольга Калиниченко",
      "userId": "02601674627512446822"
     },
     "user_tz": -180
    },
    "id": "l--juQLdzinR",
    "outputId": "b6d8f6aa-c742-4f75-f526-880c386d69a2"
   },
   "outputs": [
    {
     "data": {
      "text/plain": [
       "(100, 1)"
      ]
     },
     "execution_count": 27,
     "metadata": {},
     "output_type": "execute_result"
    }
   ],
   "source": [
    "regressor.estimators_.shape"
   ]
  },
  {
   "cell_type": "code",
   "execution_count": null,
   "metadata": {
    "id": "AybMkIygldkV"
   },
   "outputs": [],
   "source": [
    "for elem in regressor.estimators_[:5]:\n",
    "    <...>"
   ]
  },
  {
   "cell_type": "markdown",
   "metadata": {
    "id": "9iTsJG2b0CQd"
   },
   "source": [
    "**Ответ**"
   ]
  },
  {
   "cell_type": "markdown",
   "metadata": {
    "id": "YnSWOFTgznq7"
   },
   "source": [
    "У бустинга есть метод `staged_predict`. Он выдает предсказания композиции первых $i$ моделей бустинга. Используя этот метод, нарисуйте для каждого  $i$ два графика:\n",
    "* График предсказаний первых $i$ моделей и истинных ответов;\n",
    "* График ошибки на шаге $i$ и предсказаний $i$-й компоненты бустинга."
   ]
  },
  {
   "cell_type": "code",
   "execution_count": null,
   "metadata": {
    "id": "OmkRUzU6lqoN"
   },
   "outputs": [],
   "source": [
    "staged = list(regressor.staged_predict(X_train))\n",
    "\n",
    "for i in range(10):\n",
    "    if i == 0:\n",
    "      previous_predict = 0\n",
    "    else:\n",
    "      previous_predict = staged[i-1]\n",
    "\n",
    "    error = <...>\n",
    "    current_step_predict = <...>\n",
    "    \n",
    "    # построение графиков\n",
    "    <...>\n"
   ]
  },
  {
   "cell_type": "markdown",
   "metadata": {
    "id": "ZpRbo9Oe2QiW"
   },
   "source": [
    "Сделайте вывод. Как выглядят графики на разных шагах? Как обучается бустинг? "
   ]
  },
  {
   "cell_type": "markdown",
   "metadata": {
    "id": "Vz_5BieW2kB9"
   },
   "source": [
    "**Вывод**"
   ]
  }
 ],
 "metadata": {
  "colab": {
   "collapsed_sections": [],
   "provenance": [
    {
     "file_id": "1SWG9wJWGGJlmrXQsJrplbCFMqeP9BZlY",
     "timestamp": 1666090454960
    }
   ]
  },
  "kernelspec": {
   "display_name": "Python 3 (ipykernel)",
   "language": "python",
   "name": "python3"
  },
  "language_info": {
   "codemirror_mode": {
    "name": "ipython",
    "version": 3
   },
   "file_extension": ".py",
   "mimetype": "text/x-python",
   "name": "python",
   "nbconvert_exporter": "python",
   "pygments_lexer": "ipython3",
   "version": "3.9.6"
  }
 },
 "nbformat": 4,
 "nbformat_minor": 4
}
