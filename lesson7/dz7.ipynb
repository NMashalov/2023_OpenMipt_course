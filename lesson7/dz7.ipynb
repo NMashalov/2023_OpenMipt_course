{
 "cells": [
  {
   "cell_type": "markdown",
   "metadata": {},
   "source": [
    "# <a href=\"https://miptstats.github.io/courses/ad_mipt.html\">Phystech@DataScience</a>\n",
    "## Домашнее задание 7\n",
    "\n",
    "**Правила, <font color=\"red\">прочитайте внимательно</font>:**\n",
    "\n",
    "* Выполненную работу нужно отправить телеграм-боту `@miptstats_pds_bot`. Для начала работы с ботом каждый раз отправляйте `/start`. **Работы, присланные иным способом, не принимаются.**\n",
    "* Дедлайн см. в боте. После дедлайна работы не принимаются кроме случаев наличия уважительной причины.\n",
    "* Прислать нужно ноутбук в формате `ipynb`.\n",
    "* Выполнять задание необходимо полностью самостоятельно. **При обнаружении списывания все участники списывания будут сдавать устный зачет.**\n",
    "* Решения, размещенные на каких-либо интернет-ресурсах, не принимаются. Кроме того, публикация решения в открытом доступе может быть приравнена к предоставлении возможности списать.\n",
    "* Для выполнения задания используйте этот ноутбук в качестве основы, ничего не удаляя из него. Можно добавлять необходимое количество ячеек.\n",
    "* Комментарии к решению пишите в markdown-ячейках.\n",
    "* Выполнение задания (ход решения, выводы и пр.) должно быть осуществлено на русском языке.\n",
    "* Если код будет не понятен проверяющему, оценка может быть снижена.\n",
    "* Никакой код из данного задания при проверке запускаться не будет. *Если код студента не выполнен, недописан и т.д., то он не оценивается.*\n",
    "* **Код из рассказанных на занятиях ноутбуков можно использовать без ограничений.**\n",
    "\n",
    "**Правила оформления теоретических задач:**\n",
    "\n",
    "* Решения необходимо прислать одним из следующих способов:\n",
    "  * фотографией в правильной ориентации, где все четко видно, а почерк разборчив,\n",
    "    * отправив ее как файл боту вместе с ноутбуком *или*\n",
    "    * вставив ее в ноутбук посредством `Edit -> Insert Image` (<font color=\"red\">фото, вставленные ссылкой, не принимаются</font>);\n",
    "  * в виде $\\LaTeX$ в markdown-ячейках.\n",
    "* Решения не проверяются, если какое-то требование не выполнено. Особенно внимательно все проверьте в случае выбора второго пункта (вставки фото в ноутбук). <font color=\"red\"><b>Неправильно вставленные фотографии могут не передаться при отправке.</b></font> Для проверки попробуйте переместить `ipynb` в другую папку и открыть его там.\n",
    "* В решениях поясняйте, чем вы пользуетесь, хотя бы кратко. Например, если пользуетесь независимостью, то достаточно подписи вида \"*X и Y незав.*\"\n",
    "* Решение, в котором есть только ответ, и отсутствуют вычисления, оценивается в 0 баллов.\n",
    "\n",
    "**Баллы за задание:**\n",
    "\n",
    "* Задача 1 &mdash;  35 баллов\n",
    "* Задача 2 &mdash;  30 баллов\n",
    "\n",
    "\n",
    "\n",
    "\n",
    "\n",
    "\n",
    "-----"
   ]
  },
  {
   "cell_type": "code",
   "execution_count": null,
   "metadata": {},
   "outputs": [],
   "source": [
    "# Bot check\n",
    "\n",
    "# HW_ID: phds_hw6\n",
    "# Бот проверит этот ID и предупредит, если случайно сдать что-то не то.\n",
    "\n",
    "# Status: not final\n",
    "# Перед отправкой в финальном решении удали \"not\" в строчке выше.\n",
    "# Так бот проверит, что ты отправляешь финальную версию, а не промежуточную.\n",
    "# Никакие значения в этой ячейке не влияют на факт сдачи работы."
   ]
  },
  {
   "cell_type": "code",
   "execution_count": null,
   "metadata": {
    "id": "I8SJjaOOeAQ7"
   },
   "outputs": [],
   "source": [
    "import numpy as np\n",
    "import pandas as pd\n",
    "import scipy.stats as sps\n",
    "\n",
    "from tqdm.notebook import tqdm\n",
    "import matplotlib.pyplot as plt\n",
    "import seaborn as sns\n",
    "\n",
    "from sklearn.base import BaseEstimator, RegressorMixin\n",
    "from sklearn.ensemble import BaggingRegressor\n",
    "from sklearn.ensemble import GradientBoostingRegressor\n",
    "from sklearn.ensemble import RandomForestRegressor\n",
    "from sklearn.linear_model import Ridge, LinearRegression\n",
    "from sklearn.tree import DecisionTreeRegressor\n",
    "\n",
    "from catboost import CatBoostRegressor, Pool\n",
    "\n",
    "from sklearn.metrics import mean_squared_error as mse\n",
    "from sklearn.model_selection import RandomizedSearchCV\n",
    "from sklearn.model_selection import train_test_split\n",
    "from sklearn.model_selection import cross_val_score, cross_val_predict\n",
    "from sklearn.utils import shuffle\n",
    "\n",
    "plt.rcParams['axes.facecolor'] = 'lightgrey'\n",
    "sns.set(palette='Set2', font_scale=1.6)"
   ]
  },
  {
   "cell_type": "markdown",
   "metadata": {
    "id": "vUz2u3DMr37s"
   },
   "source": [
    "# Применения градиентного бустинга.\n",
    "\n",
    "Градиентный бустинг может быть применен в огромном множестве реальных задач.\n",
    "\n",
    "Реальные задачи, где применяется бустинг:    \n",
    "\n",
    "☣ \n",
    "\n",
    "[Бустинг в предсказании лекарств](https://jcheminf.biomedcentral.com/articles/10.1186/s13321-017-0209-z)\n",
    "\n",
    "[Предсказание сайтов связывания белков с ДНК](https://bmcbioinformatics.biomedcentral.com/articles/10.1186/s12859-018-2527-1)\n",
    "\n",
    "[Оценивание качества молекулярного докинга](https://pubmed.ncbi.nlm.nih.gov/30873528/)\n",
    "\n",
    "[Бустинг и нейросети в задаче оценивания влияния вариаций в некодирующих регионах ](https://www.ncbi.nlm.nih.gov/pmc/articles/PMC4768299/)\n",
    "\n",
    "⚛\n",
    "\n",
    "[Smuon collider analysis](https://arxiv.org/abs/2109.11815): применяется бустинг, PCA, отбор признаков.\n",
    "\n",
    "\n",
    "[Бустинг и бозон Хиггса](http://proceedings.mlr.press/v42/chen14.pdf)\n",
    "\n",
    "\n",
    "🏫\n",
    "\n",
    "[Предсказание распределения студентов](https://www.researchgate.net/publication/338853863_STUDENT_PLACEMENT_PREDICTION_MODEL_USING_GRADIENT_BOOSTED_TREE_ALGORITHM)\n",
    "\n",
    "\n",
    "[Моделирование индивидуального профиля студента](https://www.igi-global.com/article/student-profile-modeling-using-boosting-algorithms/284084)"
   ]
  },
  {
   "cell_type": "markdown",
   "metadata": {
    "id": "F9ivVWPtr373"
   },
   "source": [
    "# Задача 1\n",
    "\n",
    "**Внимание!** \n",
    "\n",
    "Не забудьте, что на тестовой выборке, по которой делаются итоговые выводы, ничего не должно обучаться.\n",
    "\n",
    "*Совет. При отладке кода используйте небольшую часть данных. Финальные вычисления проведите на полных данных. Для оценки оставшегося времени работы используйте tqdm в циклах.*"
   ]
  },
  {
   "cell_type": "markdown",
   "metadata": {
    "id": "Sb744rKct37A"
   },
   "source": [
    "Для исследования вам предлагается несколько датасетов:\n",
    "\n",
    "### 1. **Профиль биология:** [Датасет](https://archive.ics.uci.edu/ml/datasets/Physicochemical+Properties+of+Protein+Tertiary+Structure) про физикохимические свойства третичной структуры белков.\n",
    "\n",
    "В этом датасете содержатся следующие признаки:\n",
    "```\n",
    " RMSD-Size of the residue.\n",
    " F1 - Total surface area.\n",
    " F2 - Non polar exposed area.\n",
    " F3 - Fractional area of exposed non polar residue.\n",
    " F4 - Fractional area of exposed non polar part of residue.\n",
    " F5 - Molecular mass weighted exposed area.\n",
    " F6 - Average deviation from standard exposed area of residue.\n",
    " F7 - Euclidian distance.\n",
    " F8 - Secondary structure penalty.\n",
    " F9 - Spacial Distribution constraints (N,K Value).\n",
    "```\n",
    "\n",
    "\n",
    "\n",
    "\n",
    "Мы будем предсказывать размер остатка (RMSD) по остальным признакам. \n",
    "Датасет был получен с помощью [CASP9](https://predictioncenter.org/CASP9/).\n",
    "\n",
    "\n",
    "\n",
    "\n",
    "Скачать датасет можно с помощью `sklearn`:"
   ]
  },
  {
   "cell_type": "code",
   "execution_count": null,
   "metadata": {
    "id": "bkA0xtbXt37C"
   },
   "outputs": [],
   "source": [
    "from sklearn.datasets import fetch_openml\n",
    "\n",
    "protein = fetch_openml(name='physicochemical-protein')\n",
    "data = pd.DataFrame(protein.data, columns=protein.feature_names)\n",
    "X, y = data.drop(\"RMSD\", axis=1), data.RMSD"
   ]
  },
  {
   "cell_type": "markdown",
   "metadata": {
    "id": "QB1yCj6036X-"
   },
   "source": [
    "Этот датасет большой по размеру, так что можете взять в качестве данных его случайную половину."
   ]
  },
  {
   "cell_type": "markdown",
   "metadata": {
    "id": "5H0sAtj1ZrOO"
   },
   "source": [
    "### 2. **Профиль физика:**  [Датасет](https://archive.ics.uci.edu/ml/datasets/MAGIC+Gamma+Telescope) про излучение Черенкова.\n",
    "\n",
    "\n",
    "Не забудьте назвать колонки в соотсветствии с признаками (см. описание датасета). Целевой меткой является переменная `class`. Преобразуйте метки классов в числа для корректной работы бустинга."
   ]
  },
  {
   "cell_type": "markdown",
   "metadata": {
    "id": "Kv9s8hQxr374"
   },
   "source": [
    "### 1.\n",
    "\n",
    "Повторите исследование, проведенное в предыдущем домашнем задании, используя градиентный бустинг из `sklearn`. Сравните полученные результаты со случайным лесом. \n",
    "\n",
    "Вкратце опишем задания:\n",
    "1. Посмотрите, как меняется качество модели в зависимости от значений гиперпараметров и сделайте выводы по результатам. Гиперпараметры:\n",
    "    * количество деревьев (`n_estimators`) [от 1 до 400];\n",
    "    * максимальная глубина дерева (`max_depth`) [от 3 до 15]. \n",
    "    * скорость обучения (`learning_rate`), поясните также смысл этого параметра.\n",
    "2. Запустите модель три раза с параметрами по умолчанию. Объясните результаты.\n",
    "3. Подберите оптимальные гиперпараметры, рассмотренные в первом пункте и зафиксируйте их.\n",
    "4. Исследуйте зависимость метрики от количества признаков, по которым происходит разбиение в вершине дерева. Объясните результаты.\n",
    "5. Исследуйте время работы фита и предикта, среднюю глубину деревьев и количество листьев в дереве."
   ]
  },
  {
   "cell_type": "markdown",
   "metadata": {
    "id": "Cd7HPpDUr375"
   },
   "source": [
    "*Замечания.*\n",
    "* В качестве основы можно использовать свое решение предыдущего задания. В большинстве случаев нужно только заменить `RandomForestRegressor` на `GradientBoostingRegressor`.\n",
    "* При сравнении методов по одинаковым свойствам желательно рисовать результаты на одном графике.\n",
    "* Обратите внимание на метод `staged_predict` у `GradientBoostingRegressor`. Он позволяет получить \"кумулятивные\" предсказания, то есть по первым $t$ деревьям по всем значениям $t$.\n",
    "* При желании, границы рассмотрения значений гиперпараметров можно увеличить.\n",
    "* При подборе гиперпараметров при помощи рандомизированного поиска проводите достаточное количество на большой сетке параметров &mdash; как минимум 50. Даже если долго обучается. \n",
    "* Используйте `tqdm` для оценки времени выполнения кода. "
   ]
  },
  {
   "cell_type": "markdown",
   "metadata": {
    "id": "BmZPKAnir376"
   },
   "source": [
    "### 2. \n",
    "\n",
    "Выберите самый значимый признак согласно `feature_importances_`. Визуализируйте работу бустинга, обученного только на одном этом признаке.\n",
    "\n",
    "Для этого рассмотрите процесс построения бустинга для первых 10 итераций. При визуализации требуется для каждой итерации нарисовать:\n",
    "* предсказания новой базовой модели и выборку, на которой эта базовая модель обучается;\n",
    "* предсказания текущей композиции и исходную обучающую выборку. \n",
    "\n",
    "Пример графиков смотрите в лекции в разделе бустинг в задаче регресии."
   ]
  },
  {
   "cell_type": "markdown",
   "metadata": {
    "id": "xhNSqw5QxHw7"
   },
   "source": [
    "# Задача 2\n",
    "\n",
    "\n",
    "Возьмем данные из предыдущего дз.\n",
    "\n",
    "Исследуйте зависимость качества по метрике MAPE для моделей XGBoost, LightGBM,\n",
    "CatBoost, а так же градиентного бустинга из sklearn, в зависимости от количества\n",
    "деревьев, их максимальной глубины, шага обучения, а также различных регуляризаций.  При исследовании одного гиперпараметра рисуйте один график для всех моделей. Тщательно подберите цвета и тип линий так, чтобы картинка была легко читаемой. При проведении исследований не забывайте писать подробные комментарии\n",
    "и выводы.\n",
    "\n",
    "*Совет. Изучите ноутбук про данные фреймворки.*\n"
   ]
  },
  {
   "cell_type": "markdown",
   "metadata": {
    "collapsed": false,
    "jupyter": {
     "outputs_hidden": false
    }
   },
   "source": [
    "В качестве данных возьмём следующие датасеты:\n",
    "\n",
    "**Профиль физика:** <https://www.kaggle.com/datasets/khsamaha/solar-flares-rhessi>. Будем предсказывать длительность солнечных вспышек. Используйте файл с данными до 2018 года.\n",
    "\n",
    "**Профиль биология:** <https://archive.ics.uci.edu/dataset/1/abalone>. Будем предсказывать возраст моллюсков.\n",
    "\n",
    "*Совет.* При отладке кода используйте небольшую часть данных. Финальные вычисления проведите на полных данных. Для оценки времени работы используйте `tqdm` в циклах."
   ]
  },
  {
   "cell_type": "markdown",
   "metadata": {
    "collapsed": false,
    "jupyter": {
     "outputs_hidden": false
    }
   },
   "source": [
    "#### Загрузка и предобработка данных:"
   ]
  },
  {
   "cell_type": "markdown",
   "metadata": {
    "collapsed": false,
    "jupyter": {
     "outputs_hidden": false
    }
   },
   "source": [
    "**Физика:**"
   ]
  },
  {
   "cell_type": "code",
   "execution_count": null,
   "metadata": {
    "collapsed": false,
    "jupyter": {
     "outputs_hidden": false
    }
   },
   "outputs": [],
   "source": [
    "data = pd.read_csv('hessi.solar.flare.UP_To_2018.csv')"
   ]
  },
  {
   "cell_type": "markdown",
   "metadata": {
    "collapsed": false,
    "jupyter": {
     "outputs_hidden": false
    }
   },
   "source": [
    "Уберем категориальные признаки, а также дату и время начала и время конца вспышки:"
   ]
  },
  {
   "cell_type": "code",
   "execution_count": null,
   "metadata": {
    "collapsed": false,
    "jupyter": {
     "outputs_hidden": false
    }
   },
   "outputs": [],
   "source": [
    "data = data.drop(['flare', 'start.date', 'start.time', 'end', 'flag.1', 'flag.2', 'flag.3', 'flag.4', 'flag.5'], axis=1)\n",
    "X = data.drop('duration.s', axis=1)\n",
    "y = data['duration.s']"
   ]
  },
  {
   "cell_type": "markdown",
   "metadata": {
    "collapsed": false,
    "jupyter": {
     "outputs_hidden": false
    }
   },
   "source": [
    "**Биология:**"
   ]
  },
  {
   "cell_type": "code",
   "execution_count": null,
   "metadata": {
    "collapsed": false,
    "jupyter": {
     "outputs_hidden": false
    }
   },
   "outputs": [],
   "source": [
    "data = pd.read_csv('abalone.data', names=['Sex', 'Length', 'Diameter', 'Height', 'Whole weight', \n",
    "                                          'Shucked weight', 'Viscera weight', 'Shell weight',\n",
    "                                          'Rings'])"
   ]
  },
  {
   "cell_type": "markdown",
   "metadata": {
    "collapsed": false,
    "jupyter": {
     "outputs_hidden": false
    }
   },
   "source": [
    "Уберем категориальный признак:"
   ]
  },
  {
   "cell_type": "code",
   "execution_count": null,
   "metadata": {
    "collapsed": false,
    "jupyter": {
     "outputs_hidden": false
    }
   },
   "outputs": [],
   "source": [
    "data = data.drop('Sex', axis=1)\n",
    "X = data.drop('Rings', axis=1)\n",
    "y = data['Rings'] + 1.5"
   ]
  }
 ],
 "metadata": {
  "colab": {
   "collapsed_sections": [],
   "provenance": []
  },
  "kernelspec": {
   "display_name": "Python 3 (ipykernel)",
   "language": "python",
   "name": "python3"
  },
  "language_info": {
   "codemirror_mode": {
    "name": "ipython",
    "version": 3
   },
   "file_extension": ".py",
   "mimetype": "text/x-python",
   "name": "python",
   "nbconvert_exporter": "python",
   "pygments_lexer": "ipython3",
   "version": "3.9.6"
  }
 },
 "nbformat": 4,
 "nbformat_minor": 4
}
