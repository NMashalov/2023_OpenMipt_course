{
 "cells": [
  {
   "cell_type": "code",
   "execution_count": null,
   "metadata": {
    "ExecuteTime": {
     "end_time": "2023-10-17T13:25:06.844884Z",
     "start_time": "2023-10-17T13:25:06.654015Z"
    },
    "executionInfo": {
     "elapsed": 1339,
     "status": "ok",
     "timestamp": 1666092602099,
     "user": {
      "displayName": "Ольга Калиниченко",
      "userId": "02601674627512446822"
     },
     "user_tz": -180
    },
    "id": "f9hp04ZT2Qqs"
   },
   "outputs": [],
   "source": [
    "import numpy as np\n",
    "import pandas as pd\n",
    "\n",
    "from tqdm.notebook import tqdm\n",
    "import matplotlib.pyplot as plt\n",
    "import seaborn as sns\n",
    "\n",
    "from sklearn.ensemble import RandomForestRegressor, RandomForestClassifier\n",
    "from sklearn.ensemble import GradientBoostingRegressor\n",
    "from sklearn.ensemble import GradientBoostingClassifier\n",
    "from sklearn.datasets import fetch_california_housing\n",
    "from sklearn.metrics import accuracy_score\n",
    "from sklearn.metrics import mean_squared_error as mse\n",
    "from sklearn.model_selection import GridSearchCV\n",
    "from sklearn.model_selection import RandomizedSearchCV\n",
    "from sklearn.model_selection import train_test_split\n",
    "from sklearn.utils import shuffle\n",
    "\n",
    "sns.set(font_scale=1.8, palette='Set2')"
   ]
  },
  {
   "cell_type": "markdown",
   "metadata": {
    "id": "5rZtK5OtdUK9"
   },
   "source": [
    "##  Сравнение градиентного бустинга и случайного леса\n",
    "\n",
    "### 1 Задача регрессии\n",
    "\n",
    "Исследуем зависимость качества предсказаний градиентного бустинга и случайного леса в зависимости от числа базовых моделей на примере задаче регрессии. Для случайного леса будем использовать класс `RandomForestRegressor` библиотеки `sklearn`."
   ]
  },
  {
   "cell_type": "code",
   "execution_count": null,
   "metadata": {
    "ExecuteTime": {
     "end_time": "2023-10-17T13:25:09.036478Z",
     "start_time": "2023-10-17T13:25:08.000948Z"
    },
    "executionInfo": {
     "elapsed": 559,
     "status": "ok",
     "timestamp": 1666092602648,
     "user": {
      "displayName": "Ольга Калиниченко",
      "userId": "02601674627512446822"
     },
     "user_tz": -180
    },
    "id": "EplQ_NGddUK9"
   },
   "outputs": [],
   "source": [
    "housing = fetch_california_housing()\n",
    "X, y = housing.data, housing.target"
   ]
  },
  {
   "cell_type": "markdown",
   "metadata": {
    "id": "mSZ8Rt3adUK9"
   },
   "source": [
    "Разобьём данные на обучающую выборку и на валидацию, выделив на валидацию 25% данных."
   ]
  },
  {
   "cell_type": "code",
   "execution_count": null,
   "metadata": {
    "ExecuteTime": {
     "end_time": "2023-10-17T13:25:10.879338Z",
     "start_time": "2023-10-17T13:25:10.872613Z"
    },
    "executionInfo": {
     "elapsed": 379,
     "status": "ok",
     "timestamp": 1666092613445,
     "user": {
      "displayName": "Ольга Калиниченко",
      "userId": "02601674627512446822"
     },
     "user_tz": -180
    },
    "id": "F-OhfAmEdUK9"
   },
   "outputs": [],
   "source": [
    "X_train, X_test, y_train, y_test = train_test_split(X, y, test_size=0.25)"
   ]
  },
  {
   "cell_type": "code",
   "execution_count": null,
   "metadata": {
    "ExecuteTime": {
     "end_time": "2023-10-17T13:25:11.507034Z",
     "start_time": "2023-10-17T13:25:11.503388Z"
    },
    "executionInfo": {
     "elapsed": 2,
     "status": "ok",
     "timestamp": 1666092617195,
     "user": {
      "displayName": "Ольга Калиниченко",
      "userId": "02601674627512446822"
     },
     "user_tz": -180
    },
    "id": "4yLRTjecdUK9"
   },
   "outputs": [],
   "source": [
    "def plot_compare_estimators(estimator_labels, param_grid, train_metrics,\n",
    "                            test_metrics, param_label='', metrics_label='', \n",
    "                            title=''):\n",
    "    '''Функция для построения графиков зависимости целевой метрики \n",
    "    от некоторого параметра модели на обучающей и на валидационной \n",
    "    выборке.\n",
    "    \n",
    "    :param estimator_labels: массив названий моделей\n",
    "    :param param_grid: значения исследуемого параметра\n",
    "    :param train_metrics: массив, где i-ый элемент - \n",
    "        это массив значений метрики на обучающей выборке для i-ой модели\n",
    "    :param test_metrics: массив, где i-ый элемент - \n",
    "        это массив значений метрики на валидационной выборке для i-ой модели\n",
    "    :param param_label: названия параметра\n",
    "    :param metrics_label: название метрики\n",
    "    :param title: заголовок для графика\n",
    "    '''\n",
    "    \n",
    "    plt.figure(figsize=(12, 6))\n",
    "    \n",
    "    for estimator_id in range(len(estimator_labels)):\n",
    "        label = estimator_labels[estimator_id]\n",
    "        plt.plot(\n",
    "            param_grid, train_metrics[estimator_id], \n",
    "            label=f'{label} train', linewidth=3\n",
    "        )\n",
    "        plt.plot(\n",
    "            param_grid, test_metrics[estimator_id],\n",
    "            label=f'{label} test', linewidth=3\n",
    "        )\n",
    "       \n",
    "    plt.legend()\n",
    "    plt.xlabel(param_label)\n",
    "    plt.ylabel(metrics_label)\n",
    "    plt.title(title, fontsize=20)"
   ]
  },
  {
   "cell_type": "markdown",
   "metadata": {
    "id": "hvFi-MOtdUK9"
   },
   "source": [
    "Обучим случайный лес для разного числа деревьев и посчитаем `mse`."
   ]
  },
  {
   "cell_type": "code",
   "execution_count": null,
   "metadata": {
    "ExecuteTime": {
     "end_time": "2023-10-17T13:25:12.703828Z",
     "start_time": "2023-10-17T13:25:12.697508Z"
    },
    "colab": {
     "referenced_widgets": [
      "f11a392622d04525a6b78621ff29357b"
     ]
    },
    "id": "K2SPY2WNdUK-",
    "outputId": "5b6f0a96-744c-479c-f893-ceb8433ff307"
   },
   "outputs": [],
   "source": [
    "rf_mse_train = []  # метрика на трейне\n",
    "rf_mse_test = []  # метрика на тесте\n",
    "n_estimators_grid = range(1, 300, 10)\n",
    "\n",
    "for n_estimators in tqdm(n_estimators_grid):\n",
    "    <...>"
   ]
  },
  {
   "cell_type": "markdown",
   "metadata": {
    "id": "hDeLGNPydUK-"
   },
   "source": [
    "Обучим градиентный бустинг для разного числа деревьев и посчитаем `mse`."
   ]
  },
  {
   "cell_type": "code",
   "execution_count": null,
   "metadata": {
    "ExecuteTime": {
     "end_time": "2021-02-27T17:33:32.988422Z",
     "start_time": "2021-02-27T17:30:50.527002Z"
    },
    "colab": {
     "referenced_widgets": [
      "0ef96d0012bc461d9cd38eec544cb163"
     ]
    },
    "id": "r89ZlrWcdUK-",
    "outputId": "97e1bc2d-d7b8-44af-92ff-3eb421a2385d"
   },
   "outputs": [],
   "source": [
    "boosting_mse_train = []\n",
    "boosting_mse_test = []\n",
    "\n",
    "for n_estimators in tqdm(n_estimators_grid):\n",
    "    <...>"
   ]
  },
  {
   "cell_type": "markdown",
   "metadata": {
    "id": "YaYLWz1jdUK-"
   },
   "source": [
    "Построим график зависимости `mse` от количества базовых моделей."
   ]
  },
  {
   "cell_type": "code",
   "execution_count": null,
   "metadata": {
    "ExecuteTime": {
     "end_time": "2021-02-27T17:33:58.159525Z",
     "start_time": "2021-02-27T17:33:57.598661Z"
    },
    "executionInfo": {
     "elapsed": 417,
     "status": "ok",
     "timestamp": 1666092682845,
     "user": {
      "displayName": "Ольга Калиниченко",
      "userId": "02601674627512446822"
     },
     "user_tz": -180
    },
    "id": "Fta3_4ebdUK-"
   },
   "outputs": [],
   "source": [
    "plot_compare_estimators(\n",
    "    ['random forest', 'boosting'], n_estimators_grid, \n",
    "    [rf_mse_train, boosting_mse_train], \n",
    "    [rf_mse_test, boosting_mse_test],\n",
    "    'Количество деревьев', 'MSE', \n",
    "    'Сравнение случайного леса и градиентного бустинга'\n",
    ")"
   ]
  },
  {
   "cell_type": "markdown",
   "metadata": {
    "id": "Af92oqE5dUK_"
   },
   "source": [
    "**Вывод.** <...>"
   ]
  },
  {
   "cell_type": "markdown",
   "metadata": {
    "collapsed": false,
    "jupyter": {
     "outputs_hidden": false
    }
   },
   "source": [
    "Сравним времена обучения и предсказания случайного леса и градиентного бустинга с параметрами по умолчанию: "
   ]
  },
  {
   "cell_type": "code",
   "execution_count": null,
   "metadata": {
    "collapsed": false,
    "jupyter": {
     "outputs_hidden": false
    }
   },
   "outputs": [],
   "source": [
    "%%timeit\n",
    "\n",
    "<...>"
   ]
  },
  {
   "cell_type": "code",
   "execution_count": null,
   "metadata": {
    "collapsed": false,
    "jupyter": {
     "outputs_hidden": false
    }
   },
   "outputs": [],
   "source": [
    "regressor_boosting = GradientBoostingRegressor().fit(X_train, y_train)"
   ]
  },
  {
   "cell_type": "code",
   "execution_count": null,
   "metadata": {
    "collapsed": false,
    "jupyter": {
     "outputs_hidden": false
    }
   },
   "outputs": [],
   "source": [
    "%%timeit\n",
    "\n",
    "<...>"
   ]
  },
  {
   "cell_type": "code",
   "execution_count": null,
   "metadata": {
    "collapsed": false,
    "jupyter": {
     "outputs_hidden": false
    }
   },
   "outputs": [],
   "source": [
    "%%timeit\n",
    "\n",
    "<...>"
   ]
  },
  {
   "cell_type": "code",
   "execution_count": null,
   "metadata": {
    "collapsed": false,
    "jupyter": {
     "outputs_hidden": false
    }
   },
   "outputs": [],
   "source": [
    "regressor_forest = RandomForestRegressor(n_jobs=-1).fit(X_train, y_train)"
   ]
  },
  {
   "cell_type": "code",
   "execution_count": null,
   "metadata": {
    "collapsed": false,
    "jupyter": {
     "outputs_hidden": false
    }
   },
   "outputs": [],
   "source": [
    "%%timeit\n",
    "\n",
    "<...>"
   ]
  },
  {
   "cell_type": "markdown",
   "metadata": {
    "collapsed": false,
    "jupyter": {
     "outputs_hidden": false
    }
   },
   "source": [
    "**Вывод:** <...>"
   ]
  },
  {
   "cell_type": "markdown",
   "metadata": {
    "id": "K3qHBCnFdUK_"
   },
   "source": [
    "### 2 Задача классификации"
   ]
  },
  {
   "cell_type": "markdown",
   "metadata": {
    "id": "jasm7pZodUK_"
   },
   "source": [
    "Сделаем аналогичный эксперимент с датасетом для классификации рукописных цифр."
   ]
  },
  {
   "cell_type": "code",
   "execution_count": null,
   "metadata": {
    "ExecuteTime": {
     "end_time": "2021-02-27T15:33:45.518398Z",
     "start_time": "2021-02-27T15:33:45.463579Z"
    },
    "id": "14CAvKxLdUK0",
    "outputId": "3c9a5cf8-bcb8-4fe9-8b1d-b961fa03dd01",
    "scrolled": true
   },
   "outputs": [],
   "source": [
    "letters_df = pd.read_csv('letter-recognition.data', header=None)\n",
    "print('shape:', letters_df.shape)\n",
    "letters_df.head()"
   ]
  },
  {
   "cell_type": "code",
   "execution_count": null,
   "metadata": {
    "ExecuteTime": {
     "end_time": "2021-02-27T17:35:33.273260Z",
     "start_time": "2021-02-27T17:35:33.236425Z"
    },
    "id": "Nk-YZ00rdUK_",
    "outputId": "1cbcbc39-a441-46d9-be69-2a8037be6169"
   },
   "outputs": [],
   "source": [
    "print('shape:', letters_df.shape)\n",
    "letters_df.head()"
   ]
  },
  {
   "cell_type": "code",
   "execution_count": null,
   "metadata": {
    "ExecuteTime": {
     "end_time": "2021-02-27T17:35:33.582543Z",
     "start_time": "2021-02-27T17:35:33.559431Z"
    },
    "id": "ryBGC_iFdUK_"
   },
   "outputs": [],
   "source": [
    "X = letters_df.values[:, 1:]\n",
    "y = letters_df.values[:, 0]"
   ]
  },
  {
   "cell_type": "markdown",
   "metadata": {
    "id": "m06PSb9kdUK_"
   },
   "source": [
    "Разобьём данные на обучающую и тестовую выборки."
   ]
  },
  {
   "cell_type": "code",
   "execution_count": null,
   "metadata": {
    "ExecuteTime": {
     "end_time": "2021-02-27T17:35:34.696216Z",
     "start_time": "2021-02-27T17:35:34.678001Z"
    },
    "id": "n85jCvJVdUK_"
   },
   "outputs": [],
   "source": [
    "X_train, X_test, y_train, y_test = train_test_split(X, y, random_state=42)"
   ]
  },
  {
   "cell_type": "markdown",
   "metadata": {
    "id": "M2TNNw92dULA"
   },
   "source": [
    "Обучим случайный лес для разного числа деревьев и посчитаем метрику `accuracy`."
   ]
  },
  {
   "cell_type": "code",
   "execution_count": null,
   "metadata": {
    "ExecuteTime": {
     "end_time": "2021-02-27T17:36:35.348666Z",
     "start_time": "2021-02-27T17:35:45.597692Z"
    },
    "colab": {
     "referenced_widgets": [
      "659117d838b04476b16b0a8a23aa4376"
     ]
    },
    "id": "s-Qpss4adULA",
    "outputId": "3d9fd2a6-a36b-42ad-8cdb-d9e82dda37df"
   },
   "outputs": [],
   "source": [
    "rf_accuracy_train = []\n",
    "rf_accuracy_test = []\n",
    "n_estimators_grid = range(1, 300, 25)\n",
    "\n",
    "for n_estimators in tqdm(n_estimators_grid):\n",
    "    <...>"
   ]
  },
  {
   "cell_type": "markdown",
   "metadata": {
    "id": "kXKAgtThdULA"
   },
   "source": [
    "Обучим градиентный бустинг для разного числа деревьев и посчитаем метрику `accuracy`."
   ]
  },
  {
   "cell_type": "code",
   "execution_count": null,
   "metadata": {
    "ExecuteTime": {
     "end_time": "2021-02-27T17:59:26.584580Z",
     "start_time": "2021-02-27T17:36:35.352637Z"
    },
    "colab": {
     "referenced_widgets": [
      "d1dd79ca07f942768de949d07d2d0795"
     ]
    },
    "id": "EArC6NQndULA",
    "outputId": "087c92e8-91ff-4ff4-aaf4-7aae431da3fb"
   },
   "outputs": [],
   "source": [
    "boosting_accuracy_train = []\n",
    "boosting_accuracy_test = []\n",
    "n_estimators_grid = range(1, 300, 25)\n",
    "\n",
    "for n_estimators in tqdm(n_estimators_grid):\n",
    "    <...>"
   ]
  },
  {
   "cell_type": "markdown",
   "metadata": {
    "id": "gCFNBTz3dULA"
   },
   "source": [
    "Построим график зависимости `accuracy` от количества базовых моделей."
   ]
  },
  {
   "cell_type": "code",
   "execution_count": null,
   "metadata": {
    "ExecuteTime": {
     "end_time": "2021-02-27T17:59:43.326345Z",
     "start_time": "2021-02-27T17:59:42.890734Z"
    },
    "executionInfo": {
     "elapsed": 3,
     "status": "ok",
     "timestamp": 1666092796435,
     "user": {
      "displayName": "Ольга Калиниченко",
      "userId": "02601674627512446822"
     },
     "user_tz": -180
    },
    "id": "Ol2si0dYdULA"
   },
   "outputs": [],
   "source": [
    "plot_compare_estimators(\n",
    "    ['random forest', 'boosting'], n_estimators_grid, \n",
    "    [rf_accuracy_train, boosting_accuracy_train],\n",
    "    [rf_accuracy_test, boosting_accuracy_test],\n",
    "    'Количество деревьев', 'accuracy', \n",
    "    'Сравнение случайного леса и градиентного бустинга'\n",
    ")"
   ]
  },
  {
   "cell_type": "markdown",
   "metadata": {
    "id": "ehYEMx91dULB"
   },
   "source": [
    "**Вывод.** <...>"
   ]
  }
 ],
 "metadata": {
  "colab": {
   "authorship_tag": "ABX9TyNpHGXlAkGeWWEwH/mfukUI",
   "provenance": []
  },
  "kernelspec": {
   "display_name": "Python 3 (ipykernel)",
   "language": "python",
   "name": "python3"
  },
  "language_info": {
   "codemirror_mode": {
    "name": "ipython",
    "version": 3
   },
   "file_extension": ".py",
   "mimetype": "text/x-python",
   "name": "python",
   "nbconvert_exporter": "python",
   "pygments_lexer": "ipython3",
   "version": "3.9.6"
  }
 },
 "nbformat": 4,
 "nbformat_minor": 4
}
