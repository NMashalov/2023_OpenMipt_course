{
  "cells": [
    {
      "cell_type": "markdown",
      "metadata": {
        "id": "view-in-github",
        "colab_type": "text"
      },
      "source": [
        "<a href=\"https://colab.research.google.com/github/NMashalov/2023_OpenMipt_course/blob/main/lesson11/dz11.ipynb\" target=\"_parent\"><img src=\"https://colab.research.google.com/assets/colab-badge.svg\" alt=\"Open In Colab\"/></a>"
      ]
    },
    {
      "cell_type": "markdown",
      "metadata": {
        "id": "vXwEzs46CObj"
      },
      "source": [
        "# <a href=\"https://miptstats.github.io/courses/ad_mipt.html\">Phystech@DataScience</a>\n",
        "## Домашнее задание 11\n",
        "\n",
        "**Правила, <font color=\"red\">прочитайте внимательно</font>:**\n",
        "\n",
        "* Выполненную работу нужно отправить телеграм-боту `@miptstats_pds_bot`. Для начала работы с ботом каждый раз отправляйте `/start`. **Работы, присланные иным способом, не принимаются.**\n",
        "* Дедлайн см. в боте. После дедлайна работы не принимаются кроме случаев наличия уважительной причины.\n",
        "* Прислать нужно ноутбук в формате `ipynb`.\n",
        "* Выполнять задание необходимо полностью самостоятельно. **При обнаружении списывания все участники списывания будут сдавать устный зачет.**\n",
        "* Решения, размещенные на каких-либо интернет-ресурсах, не принимаются. Кроме того, публикация решения в открытом доступе может быть приравнена к предоставлении возможности списать.\n",
        "* Для выполнения задания используйте этот ноутбук в качестве основы, ничего не удаляя из него. Можно добавлять необходимое количество ячеек.\n",
        "* Комментарии к решению пишите в markdown-ячейках.\n",
        "* Выполнение задания (ход решения, выводы и пр.) должно быть осуществлено на русском языке.\n",
        "* Если код будет не понятен проверяющему, оценка может быть снижена.\n",
        "* Никакой код из данного задания при проверке запускаться не будет. *Если код студента не выполнен, недописан и т.д., то он не оценивается.*\n",
        "* **Код из рассказанных на занятиях ноутбуков можно использовать без ограничений.**\n",
        "\n",
        "**Правила оформления теоретических задач:**\n",
        "\n",
        "* Решения необходимо прислать одним из следующих способов:\n",
        "  * фотографией в правильной ориентации, где все четко видно, а почерк разборчив,\n",
        "    * отправив ее как файл боту вместе с ноутбуком *или*\n",
        "    * вставив ее в ноутбук посредством `Edit -> Insert Image` (<font color=\"red\">фото, вставленные ссылкой, не принимаются</font>);\n",
        "  * в виде $\\LaTeX$ в markdown-ячейках.\n",
        "* Решения не проверяются, если какое-то требование не выполнено. Особенно внимательно все проверьте в случае выбора второго пункта (вставки фото в ноутбук). <font color=\"red\"><b>Неправильно вставленные фотографии могут не передаться при отправке.</b></font> Для проверки попробуйте переместить `ipynb` в другую папку и открыть его там.\n",
        "* В решениях поясняйте, чем вы пользуетесь, хотя бы кратко. Например, если пользуетесь независимостью, то достаточно подписи вида \"*X и Y незав.*\"\n",
        "* Решение, в котором есть только ответ, и отсутствуют вычисления, оценивается в 0 баллов.\n",
        "\n",
        "\n",
        "**Баллы за задание:**\n",
        "\n",
        "* Задача 1 &mdash; 20 баллов\n",
        "* Задача 2 &mdash; 30 баллов\n",
        "* Задача 3 &mdash; 60 баллов\n",
        "* Задача 4 &mdash; 50 баллов\n",
        "* Задача 5 &mdash; 50 баллов\n",
        "\n",
        "\n",
        "\n",
        "\n",
        "\n",
        "-----"
      ]
    },
    {
      "cell_type": "code",
      "execution_count": 1,
      "metadata": {
        "id": "aBIdxQNbG2SV"
      },
      "outputs": [],
      "source": [
        "import scipy.stats as sps\n",
        "import numpy as np\n",
        "import pandas as pd\n",
        "from tqdm import tqdm\n",
        "from datetime import datetime, timedelta\n",
        "\n",
        "from statsmodels.stats.proportion import proportion_confint\n",
        "\n",
        "import warnings\n",
        "warnings.filterwarnings(\"ignore\")\n",
        "\n",
        "import matplotlib.pyplot as plt\n",
        "import seaborn as sns\n",
        "sns.set(style='whitegrid', font_scale=1.3, palette='Set2')"
      ]
    },
    {
      "cell_type": "code",
      "execution_count": null,
      "metadata": {
        "id": "fRNJyuFXCObs"
      },
      "outputs": [],
      "source": [
        "# Bot check\n",
        "\n",
        "# HW_ID: phds_hw8\n",
        "# Бот проверит этот ID и предупредит, если случайно сдать что-то не то.\n",
        "\n",
        "# Status: not final\n",
        "# Перед отправкой в финальном решении удали \"not\" в строчке выше.\n",
        "# Так бот проверит, что ты отправляешь финальную версию, а не промежуточную.\n",
        "# Никакие значения в этой ячейке не влияют на факт сдачи работы."
      ]
    },
    {
      "cell_type": "markdown",
      "metadata": {
        "id": "chtQXPGHHSrl"
      },
      "source": [
        "---\n",
        "### Задача 1\n",
        "#### **Профиль физика**\n",
        "\n",
        "Рассмотрим [данные](https://drive.google.com/file/d/1qGNN9pcSg6safgxqvWeimQEPtlyggOYc/view?usp=share_link) из первой задачи прошлого домашнего задания, нам понадобится только поперечный импульс `pT` мюона $\\pi^+$ (`id = 211`). В предположении, что дисперсия значений не зависит от типа мюона, посчитайте с помощью формулы `MDE`, сколько мюонов каждого из двух исследуемых типов надо измерить, чтобы задетектировать разницу в средних импульсах равной 0.02? Можно ли снизить это число и из каких соображений? Сделайте соотвветсвующие вычисления"
      ]
    },
    {
      "cell_type": "markdown",
      "metadata": {
        "id": "uT2xyIMLqCog"
      },
      "source": [
        "Выгрузим данные."
      ]
    },
    {
      "cell_type": "code",
      "source": [
        "!gdown 1qGNN9pcSg6safgxqvWeimQEPtlyggOYc"
      ],
      "metadata": {
        "colab": {
          "base_uri": "https://localhost:8080/"
        },
        "id": "zq2T1mfkCXYv",
        "outputId": "5a9d4694-cb54-483a-9c13-6a1f98b8362a"
      },
      "execution_count": 4,
      "outputs": [
        {
          "output_type": "stream",
          "name": "stdout",
          "text": [
            "Downloading...\n",
            "From: https://drive.google.com/uc?id=1qGNN9pcSg6safgxqvWeimQEPtlyggOYc\n",
            "To: /content/pi.csv\n",
            "\r  0% 0.00/1.97M [00:00<?, ?B/s]\r100% 1.97M/1.97M [00:00<00:00, 145MB/s]\n"
          ]
        }
      ]
    },
    {
      "cell_type": "code",
      "execution_count": 42,
      "metadata": {
        "id": "yDtPWy_cWuFD",
        "colab": {
          "base_uri": "https://localhost:8080/",
          "height": 206
        },
        "outputId": "3ccc4741-06c6-4634-96c4-5b6e63dc5a4a"
      },
      "outputs": [
        {
          "output_type": "execute_result",
          "data": {
            "text/plain": [
              "         pT        xF         E        mP       eta  type\n",
              "0  0.448320  0.099981  0.982772  9.059752  4.096336     0\n",
              "1  0.789911 -0.016602  0.814856  3.563486  2.518421     0\n",
              "2  0.499975 -0.124139  1.191020  2.074630  1.471015     1\n",
              "3  0.025370  0.004610  0.147337  4.236236  4.676719     0\n",
              "4  0.097505 -0.010402  0.192495  2.962972  2.724043     0"
            ],
            "text/html": [
              "\n",
              "  <div id=\"df-6a0740ec-b720-4b76-8dfd-d718efa3a34b\" class=\"colab-df-container\">\n",
              "    <div>\n",
              "<style scoped>\n",
              "    .dataframe tbody tr th:only-of-type {\n",
              "        vertical-align: middle;\n",
              "    }\n",
              "\n",
              "    .dataframe tbody tr th {\n",
              "        vertical-align: top;\n",
              "    }\n",
              "\n",
              "    .dataframe thead th {\n",
              "        text-align: right;\n",
              "    }\n",
              "</style>\n",
              "<table border=\"1\" class=\"dataframe\">\n",
              "  <thead>\n",
              "    <tr style=\"text-align: right;\">\n",
              "      <th></th>\n",
              "      <th>pT</th>\n",
              "      <th>xF</th>\n",
              "      <th>E</th>\n",
              "      <th>mP</th>\n",
              "      <th>eta</th>\n",
              "      <th>type</th>\n",
              "    </tr>\n",
              "  </thead>\n",
              "  <tbody>\n",
              "    <tr>\n",
              "      <th>0</th>\n",
              "      <td>0.448320</td>\n",
              "      <td>0.099981</td>\n",
              "      <td>0.982772</td>\n",
              "      <td>9.059752</td>\n",
              "      <td>4.096336</td>\n",
              "      <td>0</td>\n",
              "    </tr>\n",
              "    <tr>\n",
              "      <th>1</th>\n",
              "      <td>0.789911</td>\n",
              "      <td>-0.016602</td>\n",
              "      <td>0.814856</td>\n",
              "      <td>3.563486</td>\n",
              "      <td>2.518421</td>\n",
              "      <td>0</td>\n",
              "    </tr>\n",
              "    <tr>\n",
              "      <th>2</th>\n",
              "      <td>0.499975</td>\n",
              "      <td>-0.124139</td>\n",
              "      <td>1.191020</td>\n",
              "      <td>2.074630</td>\n",
              "      <td>1.471015</td>\n",
              "      <td>1</td>\n",
              "    </tr>\n",
              "    <tr>\n",
              "      <th>3</th>\n",
              "      <td>0.025370</td>\n",
              "      <td>0.004610</td>\n",
              "      <td>0.147337</td>\n",
              "      <td>4.236236</td>\n",
              "      <td>4.676719</td>\n",
              "      <td>0</td>\n",
              "    </tr>\n",
              "    <tr>\n",
              "      <th>4</th>\n",
              "      <td>0.097505</td>\n",
              "      <td>-0.010402</td>\n",
              "      <td>0.192495</td>\n",
              "      <td>2.962972</td>\n",
              "      <td>2.724043</td>\n",
              "      <td>0</td>\n",
              "    </tr>\n",
              "  </tbody>\n",
              "</table>\n",
              "</div>\n",
              "    <div class=\"colab-df-buttons\">\n",
              "\n",
              "  <div class=\"colab-df-container\">\n",
              "    <button class=\"colab-df-convert\" onclick=\"convertToInteractive('df-6a0740ec-b720-4b76-8dfd-d718efa3a34b')\"\n",
              "            title=\"Convert this dataframe to an interactive table.\"\n",
              "            style=\"display:none;\">\n",
              "\n",
              "  <svg xmlns=\"http://www.w3.org/2000/svg\" height=\"24px\" viewBox=\"0 -960 960 960\">\n",
              "    <path d=\"M120-120v-720h720v720H120Zm60-500h600v-160H180v160Zm220 220h160v-160H400v160Zm0 220h160v-160H400v160ZM180-400h160v-160H180v160Zm440 0h160v-160H620v160ZM180-180h160v-160H180v160Zm440 0h160v-160H620v160Z\"/>\n",
              "  </svg>\n",
              "    </button>\n",
              "\n",
              "  <style>\n",
              "    .colab-df-container {\n",
              "      display:flex;\n",
              "      gap: 12px;\n",
              "    }\n",
              "\n",
              "    .colab-df-convert {\n",
              "      background-color: #E8F0FE;\n",
              "      border: none;\n",
              "      border-radius: 50%;\n",
              "      cursor: pointer;\n",
              "      display: none;\n",
              "      fill: #1967D2;\n",
              "      height: 32px;\n",
              "      padding: 0 0 0 0;\n",
              "      width: 32px;\n",
              "    }\n",
              "\n",
              "    .colab-df-convert:hover {\n",
              "      background-color: #E2EBFA;\n",
              "      box-shadow: 0px 1px 2px rgba(60, 64, 67, 0.3), 0px 1px 3px 1px rgba(60, 64, 67, 0.15);\n",
              "      fill: #174EA6;\n",
              "    }\n",
              "\n",
              "    .colab-df-buttons div {\n",
              "      margin-bottom: 4px;\n",
              "    }\n",
              "\n",
              "    [theme=dark] .colab-df-convert {\n",
              "      background-color: #3B4455;\n",
              "      fill: #D2E3FC;\n",
              "    }\n",
              "\n",
              "    [theme=dark] .colab-df-convert:hover {\n",
              "      background-color: #434B5C;\n",
              "      box-shadow: 0px 1px 3px 1px rgba(0, 0, 0, 0.15);\n",
              "      filter: drop-shadow(0px 1px 2px rgba(0, 0, 0, 0.3));\n",
              "      fill: #FFFFFF;\n",
              "    }\n",
              "  </style>\n",
              "\n",
              "    <script>\n",
              "      const buttonEl =\n",
              "        document.querySelector('#df-6a0740ec-b720-4b76-8dfd-d718efa3a34b button.colab-df-convert');\n",
              "      buttonEl.style.display =\n",
              "        google.colab.kernel.accessAllowed ? 'block' : 'none';\n",
              "\n",
              "      async function convertToInteractive(key) {\n",
              "        const element = document.querySelector('#df-6a0740ec-b720-4b76-8dfd-d718efa3a34b');\n",
              "        const dataTable =\n",
              "          await google.colab.kernel.invokeFunction('convertToInteractive',\n",
              "                                                    [key], {});\n",
              "        if (!dataTable) return;\n",
              "\n",
              "        const docLinkHtml = 'Like what you see? Visit the ' +\n",
              "          '<a target=\"_blank\" href=https://colab.research.google.com/notebooks/data_table.ipynb>data table notebook</a>'\n",
              "          + ' to learn more about interactive tables.';\n",
              "        element.innerHTML = '';\n",
              "        dataTable['output_type'] = 'display_data';\n",
              "        await google.colab.output.renderOutput(dataTable, element);\n",
              "        const docLink = document.createElement('div');\n",
              "        docLink.innerHTML = docLinkHtml;\n",
              "        element.appendChild(docLink);\n",
              "      }\n",
              "    </script>\n",
              "  </div>\n",
              "\n",
              "\n",
              "<div id=\"df-db282f8d-8d22-47d0-a221-4bfa71dfd030\">\n",
              "  <button class=\"colab-df-quickchart\" onclick=\"quickchart('df-db282f8d-8d22-47d0-a221-4bfa71dfd030')\"\n",
              "            title=\"Suggest charts\"\n",
              "            style=\"display:none;\">\n",
              "\n",
              "<svg xmlns=\"http://www.w3.org/2000/svg\" height=\"24px\"viewBox=\"0 0 24 24\"\n",
              "     width=\"24px\">\n",
              "    <g>\n",
              "        <path d=\"M19 3H5c-1.1 0-2 .9-2 2v14c0 1.1.9 2 2 2h14c1.1 0 2-.9 2-2V5c0-1.1-.9-2-2-2zM9 17H7v-7h2v7zm4 0h-2V7h2v10zm4 0h-2v-4h2v4z\"/>\n",
              "    </g>\n",
              "</svg>\n",
              "  </button>\n",
              "\n",
              "<style>\n",
              "  .colab-df-quickchart {\n",
              "      --bg-color: #E8F0FE;\n",
              "      --fill-color: #1967D2;\n",
              "      --hover-bg-color: #E2EBFA;\n",
              "      --hover-fill-color: #174EA6;\n",
              "      --disabled-fill-color: #AAA;\n",
              "      --disabled-bg-color: #DDD;\n",
              "  }\n",
              "\n",
              "  [theme=dark] .colab-df-quickchart {\n",
              "      --bg-color: #3B4455;\n",
              "      --fill-color: #D2E3FC;\n",
              "      --hover-bg-color: #434B5C;\n",
              "      --hover-fill-color: #FFFFFF;\n",
              "      --disabled-bg-color: #3B4455;\n",
              "      --disabled-fill-color: #666;\n",
              "  }\n",
              "\n",
              "  .colab-df-quickchart {\n",
              "    background-color: var(--bg-color);\n",
              "    border: none;\n",
              "    border-radius: 50%;\n",
              "    cursor: pointer;\n",
              "    display: none;\n",
              "    fill: var(--fill-color);\n",
              "    height: 32px;\n",
              "    padding: 0;\n",
              "    width: 32px;\n",
              "  }\n",
              "\n",
              "  .colab-df-quickchart:hover {\n",
              "    background-color: var(--hover-bg-color);\n",
              "    box-shadow: 0 1px 2px rgba(60, 64, 67, 0.3), 0 1px 3px 1px rgba(60, 64, 67, 0.15);\n",
              "    fill: var(--button-hover-fill-color);\n",
              "  }\n",
              "\n",
              "  .colab-df-quickchart-complete:disabled,\n",
              "  .colab-df-quickchart-complete:disabled:hover {\n",
              "    background-color: var(--disabled-bg-color);\n",
              "    fill: var(--disabled-fill-color);\n",
              "    box-shadow: none;\n",
              "  }\n",
              "\n",
              "  .colab-df-spinner {\n",
              "    border: 2px solid var(--fill-color);\n",
              "    border-color: transparent;\n",
              "    border-bottom-color: var(--fill-color);\n",
              "    animation:\n",
              "      spin 1s steps(1) infinite;\n",
              "  }\n",
              "\n",
              "  @keyframes spin {\n",
              "    0% {\n",
              "      border-color: transparent;\n",
              "      border-bottom-color: var(--fill-color);\n",
              "      border-left-color: var(--fill-color);\n",
              "    }\n",
              "    20% {\n",
              "      border-color: transparent;\n",
              "      border-left-color: var(--fill-color);\n",
              "      border-top-color: var(--fill-color);\n",
              "    }\n",
              "    30% {\n",
              "      border-color: transparent;\n",
              "      border-left-color: var(--fill-color);\n",
              "      border-top-color: var(--fill-color);\n",
              "      border-right-color: var(--fill-color);\n",
              "    }\n",
              "    40% {\n",
              "      border-color: transparent;\n",
              "      border-right-color: var(--fill-color);\n",
              "      border-top-color: var(--fill-color);\n",
              "    }\n",
              "    60% {\n",
              "      border-color: transparent;\n",
              "      border-right-color: var(--fill-color);\n",
              "    }\n",
              "    80% {\n",
              "      border-color: transparent;\n",
              "      border-right-color: var(--fill-color);\n",
              "      border-bottom-color: var(--fill-color);\n",
              "    }\n",
              "    90% {\n",
              "      border-color: transparent;\n",
              "      border-bottom-color: var(--fill-color);\n",
              "    }\n",
              "  }\n",
              "</style>\n",
              "\n",
              "  <script>\n",
              "    async function quickchart(key) {\n",
              "      const quickchartButtonEl =\n",
              "        document.querySelector('#' + key + ' button');\n",
              "      quickchartButtonEl.disabled = true;  // To prevent multiple clicks.\n",
              "      quickchartButtonEl.classList.add('colab-df-spinner');\n",
              "      try {\n",
              "        const charts = await google.colab.kernel.invokeFunction(\n",
              "            'suggestCharts', [key], {});\n",
              "      } catch (error) {\n",
              "        console.error('Error during call to suggestCharts:', error);\n",
              "      }\n",
              "      quickchartButtonEl.classList.remove('colab-df-spinner');\n",
              "      quickchartButtonEl.classList.add('colab-df-quickchart-complete');\n",
              "    }\n",
              "    (() => {\n",
              "      let quickchartButtonEl =\n",
              "        document.querySelector('#df-db282f8d-8d22-47d0-a221-4bfa71dfd030 button');\n",
              "      quickchartButtonEl.style.display =\n",
              "        google.colab.kernel.accessAllowed ? 'block' : 'none';\n",
              "    })();\n",
              "  </script>\n",
              "</div>\n",
              "    </div>\n",
              "  </div>\n"
            ]
          },
          "metadata": {},
          "execution_count": 42
        }
      ],
      "source": [
        "df = pd.read_csv('pi.csv')\n",
        "df.head()"
      ]
    },
    {
      "cell_type": "markdown",
      "metadata": {
        "id": "v8Z0PE3AqGaU"
      },
      "source": [
        "Выделим нужные нам."
      ]
    },
    {
      "cell_type": "code",
      "execution_count": 6,
      "metadata": {
        "id": "ZDTjij-qWyy1"
      },
      "outputs": [],
      "source": [
        "pT_plus = df['pT']"
      ]
    },
    {
      "cell_type": "markdown",
      "metadata": {
        "id": "iy9iGQ1uqOh6"
      },
      "source": [
        "Посмотрим на гистограмму."
      ]
    },
    {
      "cell_type": "code",
      "execution_count": 7,
      "metadata": {
        "id": "2BZFd7tgW0Ux",
        "colab": {
          "base_uri": "https://localhost:8080/",
          "height": 454
        },
        "outputId": "fd5a7383-9689-4c61-bcb8-7e52565c2ab0"
      },
      "outputs": [
        {
          "output_type": "display_data",
          "data": {
            "text/plain": [
              "<Figure size 1000x500 with 1 Axes>"
            ],
            "image/png": "[encoded data removed]"
          },
          "metadata": {}
        }
      ],
      "source": [
        "plt.figure(figsize=(10, 5))\n",
        "\n",
        "plt.hist(pT_plus, alpha=0.5, bins=100, density=True, label='$\\pi^+$')\n",
        "\n",
        "plt.legend()\n",
        "plt.show()"
      ]
    },
    {
      "cell_type": "markdown",
      "metadata": {
        "id": "ASXCwx42oleq"
      },
      "source": [
        "По формуле для `MDE` вычислите необходимый размер выборки."
      ]
    },
    {
      "cell_type": "code",
      "execution_count": 8,
      "metadata": {
        "id": "NqOgHZ3cXM76"
      },
      "outputs": [],
      "source": [
        "alpha = 0.05  # уровень значимости\n",
        "beta = 0.8  # мощности\n",
        "eps = 0.02  # размер эффекта\n",
        "\n",
        "# сумма квантилей\n",
        "q = sps.norm.ppf(1 - alpha) + sps.norm.ppf(beta)"
      ]
    },
    {
      "cell_type": "code",
      "execution_count": 9,
      "metadata": {
        "id": "2Df8ErH1XSZm",
        "colab": {
          "base_uri": "https://localhost:8080/"
        },
        "outputId": "1cac8014-6998-458e-ac73-086d14d07d62"
      },
      "outputs": [
        {
          "output_type": "execute_result",
          "data": {
            "text/plain": [
              "(639.8013936429767, 0.04139396496513863)"
            ]
          },
          "metadata": {},
          "execution_count": 9
        }
      ],
      "source": [
        "var_0 = pT_plus.var()\n",
        "n_0 = q**2 * var_0/ eps**2\n",
        "\n",
        "n_0, var_0"
      ]
    },
    {
      "cell_type": "code",
      "execution_count": 16,
      "metadata": {
        "id": "st_2JzOVXSgj",
        "colab": {
          "base_uri": "https://localhost:8080/"
        },
        "outputId": "1dfa0046-e766-4dd9-9bd9-b9a9a2828a8f"
      },
      "outputs": [
        {
          "output_type": "execute_result",
          "data": {
            "text/plain": [
              "count    20000.000000\n",
              "mean         0.324110\n",
              "std          0.203455\n",
              "min          0.003435\n",
              "1%           0.031838\n",
              "13.2%        0.122675\n",
              "25.5%        0.179397\n",
              "37.8%        0.229964\n",
              "50%          0.284422\n",
              "62.3%        0.346122\n",
              "74.5%        0.424607\n",
              "86.8%        0.541018\n",
              "99%          0.976897\n",
              "max          2.113151\n",
              "Name: pT, dtype: float64"
            ]
          },
          "metadata": {},
          "execution_count": 16
        }
      ],
      "source": [
        "pT_plus.describe(np.linspace(0.01,0.99,9))"
      ]
    },
    {
      "cell_type": "markdown",
      "metadata": {
        "id": "cP3kFU8IMN85"
      },
      "source": [
        "Обрежем выбросы, чтобы уменьшить дисперсию\n",
        "\n",
        "**Внимание! Удалять выбросы можно только на основе данных до эксперимента. Например, не рассматривать в эксперименте пользователя, на котором произошел выброс. Удаление пользователей по выбросам по экспериментальным данных может привести к большим ошибкам.**"
      ]
    },
    {
      "cell_type": "code",
      "execution_count": 17,
      "metadata": {
        "id": "qvzb5xBXYk9m"
      },
      "outputs": [],
      "source": [
        "pT_plus = pT_plus[pT_plus < 0.97]"
      ]
    },
    {
      "cell_type": "code",
      "execution_count": 18,
      "metadata": {
        "id": "1e6aVP7wYlU6",
        "colab": {
          "base_uri": "https://localhost:8080/"
        },
        "outputId": "9bd48e13-c474-405e-f3e9-2e423deb49be"
      },
      "outputs": [
        {
          "output_type": "execute_result",
          "data": {
            "text/plain": [
              "(528.202596081394, 0.03417372949470209)"
            ]
          },
          "metadata": {},
          "execution_count": 18
        }
      ],
      "source": [
        "var_0 = pT_plus.var()\n",
        "n_0 = q**2 * var_0 / eps**2\n",
        "\n",
        "n_0, var_0"
      ]
    },
    {
      "cell_type": "markdown",
      "metadata": {
        "id": "sLOUF3-AlfUz"
      },
      "source": [
        "Посмотрим на зависимость размера выборки в исследовании от размера эффекта. Какой минимальный эффект можно зафиксировать с нашей выборкой?"
      ]
    },
    {
      "cell_type": "code",
      "execution_count": 19,
      "metadata": {
        "id": "QQlWDCI5lfcC",
        "colab": {
          "base_uri": "https://localhost:8080/",
          "height": 464
        },
        "outputId": "48bea620-1562-4126-beaf-2b9e072b9570"
      },
      "outputs": [
        {
          "output_type": "display_data",
          "data": {
            "text/plain": [
              "<Figure size 640x480 with 1 Axes>"
            ],
            "image/png": "[encoded data removed]"
          },
          "metadata": {}
        }
      ],
      "source": [
        "eps = np.linspace(0.01, 0.1, 100)\n",
        "n = q**2 * var_0 / eps**2\n",
        "\n",
        "plt.plot(eps, n, lw=3)\n",
        "plt.xlabel('Размер эффекта (MDE)')\n",
        "plt.ylabel('Размер выборки');"
      ]
    },
    {
      "cell_type": "code",
      "execution_count": 20,
      "metadata": {
        "id": "ns9aw2F5rbcX",
        "colab": {
          "base_uri": "https://localhost:8080/"
        },
        "outputId": "0a1755e6-8f24-4480-f24a-394a226c61c9"
      },
      "outputs": [
        {
          "output_type": "execute_result",
          "data": {
            "text/plain": [
              "0.003267190435483464"
            ]
          },
          "metadata": {},
          "execution_count": 20
        }
      ],
      "source": [
        "(q**2 * var_0 / len(pT_plus))**0.5# минимальный эффект, который можно задетектировать с данной выборкой"
      ]
    },
    {
      "cell_type": "markdown",
      "metadata": {
        "id": "VbiLkltbioAj"
      },
      "source": [
        "### Задача 1\n",
        "#### **Профиль биология**\n",
        "\n",
        "Рассмотрим данные [данные по медицинским страховкам](https://www.kaggle.com/datasets/gauravduttakiit/medical-insurance-cost?select=Train_Data.csv) из задачи 2 задания по AВ тестам. С помощью формулы для `MDE` оцените количество клиентов страховых компаний, на которых нужно провести AB-тест новых рекомендаций по употреблению витаминов, чтобы задетектировать снижение средней стоимости страховки на 600 долларов. Считайте, что компании не расширяют свою клиентскую базу и данные представляют всех клиентов, которые могут участвовать в тесте"
      ]
    },
    {
      "cell_type": "code",
      "source": [
        "!pip install opendatasets"
      ],
      "metadata": {
        "colab": {
          "base_uri": "https://localhost:8080/"
        },
        "id": "jFHK269IPrpA",
        "outputId": "f04e2679-fe1b-44f3-ee36-47bd0d9cccff"
      },
      "execution_count": 21,
      "outputs": [
        {
          "output_type": "stream",
          "name": "stdout",
          "text": [
            "Collecting opendatasets\n",
            "  Downloading opendatasets-0.1.22-py3-none-any.whl (15 kB)\n",
            "Requirement already satisfied: tqdm in /usr/local/lib/python3.10/dist-packages (from opendatasets) (4.66.1)\n",
            "Requirement already satisfied: kaggle in /usr/local/lib/python3.10/dist-packages (from opendatasets) (1.5.16)\n",
            "Requirement already satisfied: click in /usr/local/lib/python3.10/dist-packages (from opendatasets) (8.1.7)\n",
            "Requirement already satisfied: six>=1.10 in /usr/local/lib/python3.10/dist-packages (from kaggle->opendatasets) (1.16.0)\n",
            "Requirement already satisfied: certifi in /usr/local/lib/python3.10/dist-packages (from kaggle->opendatasets) (2023.11.17)\n",
            "Requirement already satisfied: python-dateutil in /usr/local/lib/python3.10/dist-packages (from kaggle->opendatasets) (2.8.2)\n",
            "Requirement already satisfied: requests in /usr/local/lib/python3.10/dist-packages (from kaggle->opendatasets) (2.31.0)\n",
            "Requirement already satisfied: python-slugify in /usr/local/lib/python3.10/dist-packages (from kaggle->opendatasets) (8.0.1)\n",
            "Requirement already satisfied: urllib3 in /usr/local/lib/python3.10/dist-packages (from kaggle->opendatasets) (2.0.7)\n",
            "Requirement already satisfied: bleach in /usr/local/lib/python3.10/dist-packages (from kaggle->opendatasets) (6.1.0)\n",
            "Requirement already satisfied: webencodings in /usr/local/lib/python3.10/dist-packages (from bleach->kaggle->opendatasets) (0.5.1)\n",
            "Requirement already satisfied: text-unidecode>=1.3 in /usr/local/lib/python3.10/dist-packages (from python-slugify->kaggle->opendatasets) (1.3)\n",
            "Requirement already satisfied: charset-normalizer<4,>=2 in /usr/local/lib/python3.10/dist-packages (from requests->kaggle->opendatasets) (3.3.2)\n",
            "Requirement already satisfied: idna<4,>=2.5 in /usr/local/lib/python3.10/dist-packages (from requests->kaggle->opendatasets) (3.6)\n",
            "Installing collected packages: opendatasets\n",
            "Successfully installed opendatasets-0.1.22\n"
          ]
        }
      ]
    },
    {
      "cell_type": "code",
      "source": [
        "import opendatasets as od\n",
        "\n",
        "od.download('https://www.kaggle.com/datasets/gauravduttakiit/medical-insurance-cost?select=Train_Data.csv')"
      ],
      "metadata": {
        "colab": {
          "base_uri": "https://localhost:8080/"
        },
        "id": "rCGYYPB0PuyK",
        "outputId": "e3257e48-bd69-43b1-8b2c-4de861e95204"
      },
      "execution_count": 23,
      "outputs": [
        {
          "output_type": "stream",
          "name": "stdout",
          "text": [
            "Please provide your Kaggle credentials to download this dataset. Learn more: http://bit.ly/kaggle-creds\n",
            "Your Kaggle username: mashalovne\n",
            "Your Kaggle Key: ··········\n",
            "Downloading medical-insurance-cost.zip to ./medical-insurance-cost\n"
          ]
        },
        {
          "output_type": "stream",
          "name": "stderr",
          "text": [
            "100%|██████████| 92.3k/92.3k [00:00<00:00, 554kB/s]"
          ]
        },
        {
          "output_type": "stream",
          "name": "stdout",
          "text": [
            "\n"
          ]
        },
        {
          "output_type": "stream",
          "name": "stderr",
          "text": [
            "\n"
          ]
        }
      ]
    },
    {
      "cell_type": "code",
      "execution_count": 43,
      "metadata": {
        "id": "psYdKbPYixMw"
      },
      "outputs": [],
      "source": [
        "DATA_PATH ='medical-insurance-cost/Train_Data.csv'# pd.read_csv()"
      ]
    },
    {
      "cell_type": "code",
      "execution_count": 44,
      "metadata": {
        "id": "N9yg5_Q_ixMw"
      },
      "outputs": [],
      "source": [
        "data = pd.read_csv(DATA_PATH)['charges'].values # before_exp"
      ]
    },
    {
      "cell_type": "code",
      "execution_count": 45,
      "metadata": {
        "colab": {
          "base_uri": "https://localhost:8080/"
        },
        "id": "VdyW5J0hixMw",
        "outputId": "80334fd3-60e4-4c63-e769-acbcb059f483"
      },
      "outputs": [
        {
          "output_type": "execute_result",
          "data": {
            "text/plain": [
              "(3630,)"
            ]
          },
          "metadata": {},
          "execution_count": 45
        }
      ],
      "source": [
        "data.shape"
      ]
    },
    {
      "cell_type": "code",
      "execution_count": 46,
      "metadata": {
        "id": "Vmd8Utr0ixMx",
        "colab": {
          "base_uri": "https://localhost:8080/"
        },
        "outputId": "e2392271-c304-41b8-a118-40b7b52d13ad"
      },
      "outputs": [
        {
          "output_type": "execute_result",
          "data": {
            "text/plain": [
              "(1982.6823374685732, 115448286.96320984)"
            ]
          },
          "metadata": {},
          "execution_count": 46
        }
      ],
      "source": [
        "alpha = 0.05  # уровень значимости\n",
        "beta = 0.8  # мощности\n",
        "eps = 600  # размер эффекта\n",
        "\n",
        "# сумма квантилей\n",
        "q = sps.norm.ppf(1-alpha) +  sps.norm.ppf(beta)\n",
        "\n",
        "var_0 = data.var()\n",
        "\n",
        "n_0 = q**2 * var_0 / eps**2  # размер выборки\n",
        "\n",
        "n_0, var_0"
      ]
    },
    {
      "cell_type": "markdown",
      "metadata": {
        "id": "pCD3f3VtixMx"
      },
      "source": [
        "Достаточно ли у вас клиентов для исследования?\n",
        "\n",
        "**Ответ:** Достаточно. 2_000 < 3_000\n"
      ]
    },
    {
      "cell_type": "markdown",
      "metadata": {
        "id": "9z-oYYFIixMx"
      },
      "source": [
        "Посмотрим на распределение суммы страховки"
      ]
    },
    {
      "cell_type": "code",
      "execution_count": 47,
      "metadata": {
        "id": "5nc_YDyZixMx",
        "colab": {
          "base_uri": "https://localhost:8080/",
          "height": 468
        },
        "outputId": "7fbe3dfe-ee05-4d45-b4cb-7c1b3ed07edf"
      },
      "outputs": [
        {
          "output_type": "display_data",
          "data": {
            "text/plain": [
              "<Figure size 640x480 with 1 Axes>"
            ],
            "image/png": "[encoded data removed]"
          },
          "metadata": {}
        }
      ],
      "source": [
        "plt.hist(data, bins=100)\n",
        "plt.xlabel('Сумма страховки')\n",
        "plt.ylabel('Количество');"
      ]
    },
    {
      "cell_type": "markdown",
      "metadata": {
        "id": "3Jqk-yVmixMx"
      },
      "source": [
        "Видим, что есть выбросы, завышающие нам дисперсию."
      ]
    },
    {
      "cell_type": "markdown",
      "source": [],
      "metadata": {
        "id": "-TXBA1f0RMl6"
      }
    },
    {
      "cell_type": "code",
      "source": [
        "data_1 = data[data < 50_000]"
      ],
      "metadata": {
        "id": "Fsd_tbQiQvgp"
      },
      "execution_count": 40,
      "outputs": []
    },
    {
      "cell_type": "code",
      "execution_count": 41,
      "metadata": {
        "id": "aO2i4JO7ixMx",
        "colab": {
          "base_uri": "https://localhost:8080/"
        },
        "outputId": "65f32359-eed7-4f41-d31b-d8702e62ee50"
      },
      "outputs": [
        {
          "output_type": "execute_result",
          "data": {
            "text/plain": [
              "(3621,)"
            ]
          },
          "metadata": {},
          "execution_count": 41
        }
      ],
      "source": [
        "data_1.shape"
      ]
    },
    {
      "cell_type": "markdown",
      "metadata": {
        "id": "ykZUlrueixMx"
      },
      "source": [
        "**Внимание! Удалять выбросы можно только на основе данных до эксперимента. Например, не рассматривать в эксперименте клиента, на котором произошел выброс. Удаление клиентов по выбросам по экспериментальным данных может привести к большим ошибкам.**\n",
        "\n",
        "Посчитаем, сколько нужно пользователей"
      ]
    },
    {
      "cell_type": "code",
      "execution_count": 48,
      "metadata": {
        "id": "6lX_Y3wHixMx",
        "colab": {
          "base_uri": "https://localhost:8080/"
        },
        "outputId": "f6bf96c0-895a-44f9-b9af-a20d4bdd0b84"
      },
      "outputs": [
        {
          "output_type": "execute_result",
          "data": {
            "text/plain": [
              "(1528.1795939703613, 110627431.3413543)"
            ]
          },
          "metadata": {},
          "execution_count": 48
        }
      ],
      "source": [
        "var_1 = data_1.var()\n",
        "n_1 = q*2 * var_1 / eps**2\n",
        "\n",
        "n_1, var_1"
      ]
    },
    {
      "cell_type": "markdown",
      "metadata": {
        "id": "kbv3AmIXixMx"
      },
      "source": [
        "С помощью удаления выбросов мы сократили требуемое количество клиентов пропорционально уменьшению дисперсии."
      ]
    },
    {
      "cell_type": "code",
      "execution_count": 49,
      "metadata": {
        "id": "TQy1I_d5ixMy",
        "colab": {
          "base_uri": "https://localhost:8080/"
        },
        "outputId": "7b85b945-7967-4105-eadd-ed0e1f82107b"
      },
      "outputs": [
        {
          "output_type": "execute_result",
          "data": {
            "text/plain": [
              "(1.2974144827555045, 1.0435773981498333)"
            ]
          },
          "metadata": {},
          "execution_count": 49
        }
      ],
      "source": [
        "n_0 / n_1, var_0 / var_1"
      ]
    },
    {
      "cell_type": "markdown",
      "metadata": {
        "id": "4H-RqtAkixMy"
      },
      "source": [
        "Как зависит требуемый размер выборки в исследовании от размера эффекта? Постройте график размера выборки от `MDE` для ожидаемой в нашем исследовании дисперсии и сделайте выводы."
      ]
    },
    {
      "cell_type": "code",
      "execution_count": 50,
      "metadata": {
        "id": "m0RzlICmixMz",
        "colab": {
          "base_uri": "https://localhost:8080/",
          "height": 464
        },
        "outputId": "a8bf3881-2cf4-4065-cd2d-108878243968"
      },
      "outputs": [
        {
          "output_type": "display_data",
          "data": {
            "text/plain": [
              "<Figure size 640x480 with 1 Axes>"
            ],
            "image/png": "[encoded data removed]"
          },
          "metadata": {}
        }
      ],
      "source": [
        "eps = np.arange(200, 2000, 50)\n",
        "n = q*2 * var_1 / eps**2\n",
        "\n",
        "plt.plot(eps, n, lw=3)\n",
        "plt.xlabel('Размер эффекта (MDE)')\n",
        "plt.ylabel('Размер выборки');"
      ]
    },
    {
      "cell_type": "markdown",
      "metadata": {
        "id": "AaYPSUhjixMz"
      },
      "source": [
        "**Вывод:** квадратично"
      ]
    },
    {
      "cell_type": "markdown",
      "metadata": {
        "id": "BWHyQSBBHQ70"
      },
      "source": [
        "---\n",
        "### Задача 2\n",
        "\n",
        "Выведите формулу `MDE` для относительного t-теста."
      ]
    },
    {
      "cell_type": "markdown",
      "source": [
        "Подход к поиску дисперсии отношения двух случайных величин описан в https://www.stat.cmu.edu/~hseltman/files/ratio.pdf\n",
        "\n",
        "$$\n",
        "    \\mathbf{D}\\frac{R}{S} \\approx \\frac{\\mu_R^2}{\\mu_s^2} \\left[ \\frac{\\sigma_R^2}{\\mu_R^2} - 2 \\frac{Cov(R,S)}{\\mu_R \\mu_S}+ \\frac{\\sigma^2_S}{\\mu_S^2} \\right]\n",
        "$$\n",
        "\n",
        "Дисперсия отношения разности к значению запишется как:\n",
        "$$\n",
        "    \\mathbf{D}\\frac{\\bar{E}-\\bar{C}}{\\bar{C}} \\approx \\frac{(\\mathbf{E}\\bar{T}- \\mathbf{E}\\bar{C})^2}{\\mathbf{E}\\bar{C}^2} \\left[ \\frac{\\mathbf{D}[\\bar{T}-\\bar{C}]}{\\mathbf{E}\\bar{C}^2} - 2 \\frac{Cov(T-C,C)}{\\mathbf{E}[\\bar{T}-\\bar{C}]\\mathbf{E}\\bar{C}}+ \\frac{\\mathbf{D}\\bar{C}}{\\mathbf{E}\\bar{C}^2} \\right]\n",
        "    \\tag{1}\n",
        "$$\n",
        "\n",
        "Тогда MDE:\n",
        "$$\n",
        "    MDE = (Z_{1-\\alpha} + Z_{\\beta}) \\sqrt{ \\mathbf{D}\\frac{\\bar{E}-\\bar{C}}{\\bar{C}}}\n",
        "$$\n",
        "\n",
        "Формула отличается от обычного теста отсутствием деления на корень размера выборки. Это связанро с тем, что оценивается дисперсия **усредненной** случайной величины.\n"
      ],
      "metadata": {
        "id": "9qgpRkUBEjUs"
      }
    },
    {
      "cell_type": "markdown",
      "metadata": {
        "id": "cYzZ2rrH74__"
      },
      "source": [
        "---\n",
        "### Задача 3\n",
        "#### **Профиль физика**\n",
        "\n",
        "\n",
        "Квантовые компьтеры состоят из кубитов, каждый из которых по-отдельности можно представить в виде единичного вектора на сфере. Считывание состояние кубита — это получение проекции этого вектора на ось $z$, причём считав состояние один раз мы получаем детерменированное значение: 0 или 1. Таким образом для получения значения проекции с определённой точностью мы усредняем некоторое количество считываний.\n",
        "\n",
        "В данной задаче мы будем генерировать выборку из распределения Бернулли, симулируя проекции, получаемые от кубита. Наша задача — исследовать минимальный размер выборки для разных значений разделения состояний.\n",
        "\n",
        "\n",
        "Выберите или оцените каким-нибудь способом:\n",
        "\n",
        "1. Статистический критерий (название / односторонний или двусторонний / связные или независимые выборки);\n",
        "\n",
        "2. Размеры A и B групп;\n",
        "\n",
        "3. Желаемый минимальный детектируемый эффект;\n",
        "\n",
        "4. Мощность критерия.\n",
        "\n",
        "Обоснуйте свой выбор в каждом из пунктов.\n"
      ]
    },
    {
      "cell_type": "markdown",
      "metadata": {
        "id": "1j_1uMQy36Ul"
      },
      "source": [
        "> Статистический критерий (название / односторонний или двусторонний / связные или независимые выборки);\n",
        "\n",
        "**Ответ:** C\n",
        "\n"
      ]
    },
    {
      "cell_type": "markdown",
      "metadata": {
        "id": "QEjaOFrq36hW"
      },
      "source": [
        "> Мощность критерия\n",
        "\n",
        "**Ответ:**"
      ]
    },
    {
      "cell_type": "markdown",
      "metadata": {
        "id": "aSqepdWI75AA"
      },
      "source": [
        "> Желаемый минимальный детектируемый эффект;\n",
        "\n",
        "> Размер А и В групп;"
      ]
    },
    {
      "cell_type": "markdown",
      "metadata": {
        "id": "oOZW2EwV75AA"
      },
      "source": [
        "Будем подбирать по таблице `MDE`-мощность-размер выборки"
      ]
    },
    {
      "cell_type": "code",
      "execution_count": 136,
      "metadata": {
        "id": "NTH64mCa75AA"
      },
      "outputs": [],
      "source": [
        "def get_mde(alpha, beta, sample_size, var_R, two_sided=False):\n",
        "    '''Расчитывает MDE\n",
        "\n",
        "    :param alpha: желаемая ошибка первого рода\n",
        "    :param beta: желаемая мощность\n",
        "    :param sample_size: размер выборок\n",
        "    :param var_R: оценка дисперсии выборок\n",
        "    :param two_sided: двусторонний ли критерий\n",
        "    :returns: теоретический MDE\n",
        "    '''\n",
        "\n",
        "    quantile = sps.norm.ppf(1-alpha) + sps.norm.ppf(beta)\n",
        "    return quantile * (var_R / sample_size)**0.5\n",
        "\n",
        "\n",
        "def get_sample_size(alpha, beta, mde, var_R, two_sided=False):\n",
        "    '''Расчитывает размер выборки для детектирование MDE\n",
        "\n",
        "    :param alpha: желаемая ошибка первого рода\n",
        "    :param beta: желаемая мощность\n",
        "    :param mde: необходимый эффект\n",
        "    :param var_R: дисперсии выборок\n",
        "    :returns: необходимый размер выборки\n",
        "    '''\n",
        "\n",
        "    quantile = sps.norm.ppf(1-alpha) + sps.norm.ppf(beta)\n",
        "    return (var_R * (quantile /mde) **2).astype(int)"
      ]
    },
    {
      "cell_type": "markdown",
      "metadata": {
        "id": "Tlj64Unn8NQJ"
      },
      "source": [
        "Создадим датасеты для разных значений проекций. Задайте размер выборок size=2000."
      ]
    },
    {
      "cell_type": "code",
      "execution_count": 137,
      "metadata": {
        "id": "hvGIfHd6ffjH"
      },
      "outputs": [],
      "source": [
        "data = np.array([np.random.binomial(1,p,size=2000) for p in np.linspace(0.3, 0.8, 6)]) # возьмём центральные значения проекций"
      ]
    },
    {
      "cell_type": "code",
      "source": [
        "data.shape"
      ],
      "metadata": {
        "colab": {
          "base_uri": "https://localhost:8080/"
        },
        "id": "rUAcykTepQRc",
        "outputId": "20584ac5-2a5b-4c99-c729-151e90127fee"
      },
      "execution_count": 138,
      "outputs": [
        {
          "output_type": "execute_result",
          "data": {
            "text/plain": [
              "(6, 2000)"
            ]
          },
          "metadata": {},
          "execution_count": 138
        }
      ]
    },
    {
      "cell_type": "markdown",
      "metadata": {
        "id": "IArUb9y98T42"
      },
      "source": [
        "Вычислим значения таблицы."
      ]
    },
    {
      "cell_type": "code",
      "execution_count": 139,
      "metadata": {
        "id": "yYSa1h7-75AB",
        "colab": {
          "base_uri": "https://localhost:8080/"
        },
        "outputId": "4a18fa42-0333-4331-e510-e955866dbce5"
      },
      "outputs": [
        {
          "output_type": "execute_result",
          "data": {
            "text/plain": [
              "(6, 9, 8)"
            ]
          },
          "metadata": {},
          "execution_count": 139
        }
      ],
      "source": [
        "mde_grid = np.arange(0.01, 0.1, 0.01).reshape(1, -1,1)  # абсолютный MDE\n",
        "beta_grid = np.arange(0.6, 1, 0.05).reshape(1,1,-1)   # мощность\n",
        "alpha = 0.05\n",
        "var = data.var(axis=1).reshape(-1,1,1) # дисперсия\n",
        "\n",
        "sample_sizes = get_sample_size(\n",
        "    alpha = alpha,\n",
        "    beta = beta_grid,\n",
        "    mde = mde_grid,\n",
        "    var_R=var\n",
        ")\n",
        "sample_sizes.shape"
      ]
    },
    {
      "cell_type": "markdown",
      "metadata": {
        "id": "rD7OoNBNzrWo"
      },
      "source": [
        "Посмотрим для крайних и центрального значений, как выглядит таблица."
      ]
    },
    {
      "cell_type": "code",
      "execution_count": 140,
      "metadata": {
        "id": "CBbZyo-4z5De",
        "colab": {
          "base_uri": "https://localhost:8080/",
          "height": 332
        },
        "outputId": "4d62168d-bdb2-4cd6-ac9f-645e9859e05b"
      },
      "outputs": [
        {
          "output_type": "execute_result",
          "data": {
            "text/plain": [
              "      0.60  0.65   0.70   0.75   0.80   0.85   0.90   0.95\n",
              "0.01  7879  9012  10289  11763  13519  15720  18726  23664\n",
              "0.02  1969  2253   2572   2940   3379   3930   4681   5916\n",
              "0.03   875  1001   1143   1307   1502   1746   2080   2629\n",
              "0.04   492   563    643    735    844    982   1170   1479\n",
              "0.05   315   360    411    470    540    628    749    946\n",
              "0.06   218   250    285    326    375    436    520    657\n",
              "0.07   160   183    209    240    275    320    382    482\n",
              "0.08   123   140    160    183    211    245    292    369\n",
              "0.09    97   111    127    145    166    194    231    292"
            ],
            "text/html": [
              "\n",
              "  <div id=\"df-7b854674-72c7-46ca-bc0e-d4b59ef5779a\" class=\"colab-df-container\">\n",
              "    <div>\n",
              "<style scoped>\n",
              "    .dataframe tbody tr th:only-of-type {\n",
              "        vertical-align: middle;\n",
              "    }\n",
              "\n",
              "    .dataframe tbody tr th {\n",
              "        vertical-align: top;\n",
              "    }\n",
              "\n",
              "    .dataframe thead th {\n",
              "        text-align: right;\n",
              "    }\n",
              "</style>\n",
              "<table border=\"1\" class=\"dataframe\">\n",
              "  <thead>\n",
              "    <tr style=\"text-align: right;\">\n",
              "      <th></th>\n",
              "      <th>0.60</th>\n",
              "      <th>0.65</th>\n",
              "      <th>0.70</th>\n",
              "      <th>0.75</th>\n",
              "      <th>0.80</th>\n",
              "      <th>0.85</th>\n",
              "      <th>0.90</th>\n",
              "      <th>0.95</th>\n",
              "    </tr>\n",
              "  </thead>\n",
              "  <tbody>\n",
              "    <tr>\n",
              "      <th>0.01</th>\n",
              "      <td>7879</td>\n",
              "      <td>9012</td>\n",
              "      <td>10289</td>\n",
              "      <td>11763</td>\n",
              "      <td>13519</td>\n",
              "      <td>15720</td>\n",
              "      <td>18726</td>\n",
              "      <td>23664</td>\n",
              "    </tr>\n",
              "    <tr>\n",
              "      <th>0.02</th>\n",
              "      <td>1969</td>\n",
              "      <td>2253</td>\n",
              "      <td>2572</td>\n",
              "      <td>2940</td>\n",
              "      <td>3379</td>\n",
              "      <td>3930</td>\n",
              "      <td>4681</td>\n",
              "      <td>5916</td>\n",
              "    </tr>\n",
              "    <tr>\n",
              "      <th>0.03</th>\n",
              "      <td>875</td>\n",
              "      <td>1001</td>\n",
              "      <td>1143</td>\n",
              "      <td>1307</td>\n",
              "      <td>1502</td>\n",
              "      <td>1746</td>\n",
              "      <td>2080</td>\n",
              "      <td>2629</td>\n",
              "    </tr>\n",
              "    <tr>\n",
              "      <th>0.04</th>\n",
              "      <td>492</td>\n",
              "      <td>563</td>\n",
              "      <td>643</td>\n",
              "      <td>735</td>\n",
              "      <td>844</td>\n",
              "      <td>982</td>\n",
              "      <td>1170</td>\n",
              "      <td>1479</td>\n",
              "    </tr>\n",
              "    <tr>\n",
              "      <th>0.05</th>\n",
              "      <td>315</td>\n",
              "      <td>360</td>\n",
              "      <td>411</td>\n",
              "      <td>470</td>\n",
              "      <td>540</td>\n",
              "      <td>628</td>\n",
              "      <td>749</td>\n",
              "      <td>946</td>\n",
              "    </tr>\n",
              "    <tr>\n",
              "      <th>0.06</th>\n",
              "      <td>218</td>\n",
              "      <td>250</td>\n",
              "      <td>285</td>\n",
              "      <td>326</td>\n",
              "      <td>375</td>\n",
              "      <td>436</td>\n",
              "      <td>520</td>\n",
              "      <td>657</td>\n",
              "    </tr>\n",
              "    <tr>\n",
              "      <th>0.07</th>\n",
              "      <td>160</td>\n",
              "      <td>183</td>\n",
              "      <td>209</td>\n",
              "      <td>240</td>\n",
              "      <td>275</td>\n",
              "      <td>320</td>\n",
              "      <td>382</td>\n",
              "      <td>482</td>\n",
              "    </tr>\n",
              "    <tr>\n",
              "      <th>0.08</th>\n",
              "      <td>123</td>\n",
              "      <td>140</td>\n",
              "      <td>160</td>\n",
              "      <td>183</td>\n",
              "      <td>211</td>\n",
              "      <td>245</td>\n",
              "      <td>292</td>\n",
              "      <td>369</td>\n",
              "    </tr>\n",
              "    <tr>\n",
              "      <th>0.09</th>\n",
              "      <td>97</td>\n",
              "      <td>111</td>\n",
              "      <td>127</td>\n",
              "      <td>145</td>\n",
              "      <td>166</td>\n",
              "      <td>194</td>\n",
              "      <td>231</td>\n",
              "      <td>292</td>\n",
              "    </tr>\n",
              "  </tbody>\n",
              "</table>\n",
              "</div>\n",
              "    <div class=\"colab-df-buttons\">\n",
              "\n",
              "  <div class=\"colab-df-container\">\n",
              "    <button class=\"colab-df-convert\" onclick=\"convertToInteractive('df-7b854674-72c7-46ca-bc0e-d4b59ef5779a')\"\n",
              "            title=\"Convert this dataframe to an interactive table.\"\n",
              "            style=\"display:none;\">\n",
              "\n",
              "  <svg xmlns=\"http://www.w3.org/2000/svg\" height=\"24px\" viewBox=\"0 -960 960 960\">\n",
              "    <path d=\"M120-120v-720h720v720H120Zm60-500h600v-160H180v160Zm220 220h160v-160H400v160Zm0 220h160v-160H400v160ZM180-400h160v-160H180v160Zm440 0h160v-160H620v160ZM180-180h160v-160H180v160Zm440 0h160v-160H620v160Z\"/>\n",
              "  </svg>\n",
              "    </button>\n",
              "\n",
              "  <style>\n",
              "    .colab-df-container {\n",
              "      display:flex;\n",
              "      gap: 12px;\n",
              "    }\n",
              "\n",
              "    .colab-df-convert {\n",
              "      background-color: #E8F0FE;\n",
              "      border: none;\n",
              "      border-radius: 50%;\n",
              "      cursor: pointer;\n",
              "      display: none;\n",
              "      fill: #1967D2;\n",
              "      height: 32px;\n",
              "      padding: 0 0 0 0;\n",
              "      width: 32px;\n",
              "    }\n",
              "\n",
              "    .colab-df-convert:hover {\n",
              "      background-color: #E2EBFA;\n",
              "      box-shadow: 0px 1px 2px rgba(60, 64, 67, 0.3), 0px 1px 3px 1px rgba(60, 64, 67, 0.15);\n",
              "      fill: #174EA6;\n",
              "    }\n",
              "\n",
              "    .colab-df-buttons div {\n",
              "      margin-bottom: 4px;\n",
              "    }\n",
              "\n",
              "    [theme=dark] .colab-df-convert {\n",
              "      background-color: #3B4455;\n",
              "      fill: #D2E3FC;\n",
              "    }\n",
              "\n",
              "    [theme=dark] .colab-df-convert:hover {\n",
              "      background-color: #434B5C;\n",
              "      box-shadow: 0px 1px 3px 1px rgba(0, 0, 0, 0.15);\n",
              "      filter: drop-shadow(0px 1px 2px rgba(0, 0, 0, 0.3));\n",
              "      fill: #FFFFFF;\n",
              "    }\n",
              "  </style>\n",
              "\n",
              "    <script>\n",
              "      const buttonEl =\n",
              "        document.querySelector('#df-7b854674-72c7-46ca-bc0e-d4b59ef5779a button.colab-df-convert');\n",
              "      buttonEl.style.display =\n",
              "        google.colab.kernel.accessAllowed ? 'block' : 'none';\n",
              "\n",
              "      async function convertToInteractive(key) {\n",
              "        const element = document.querySelector('#df-7b854674-72c7-46ca-bc0e-d4b59ef5779a');\n",
              "        const dataTable =\n",
              "          await google.colab.kernel.invokeFunction('convertToInteractive',\n",
              "                                                    [key], {});\n",
              "        if (!dataTable) return;\n",
              "\n",
              "        const docLinkHtml = 'Like what you see? Visit the ' +\n",
              "          '<a target=\"_blank\" href=https://colab.research.google.com/notebooks/data_table.ipynb>data table notebook</a>'\n",
              "          + ' to learn more about interactive tables.';\n",
              "        element.innerHTML = '';\n",
              "        dataTable['output_type'] = 'display_data';\n",
              "        await google.colab.output.renderOutput(dataTable, element);\n",
              "        const docLink = document.createElement('div');\n",
              "        docLink.innerHTML = docLinkHtml;\n",
              "        element.appendChild(docLink);\n",
              "      }\n",
              "    </script>\n",
              "  </div>\n",
              "\n",
              "\n",
              "<div id=\"df-fe869683-761f-4b23-88d3-dc0d931ebd90\">\n",
              "  <button class=\"colab-df-quickchart\" onclick=\"quickchart('df-fe869683-761f-4b23-88d3-dc0d931ebd90')\"\n",
              "            title=\"Suggest charts\"\n",
              "            style=\"display:none;\">\n",
              "\n",
              "<svg xmlns=\"http://www.w3.org/2000/svg\" height=\"24px\"viewBox=\"0 0 24 24\"\n",
              "     width=\"24px\">\n",
              "    <g>\n",
              "        <path d=\"M19 3H5c-1.1 0-2 .9-2 2v14c0 1.1.9 2 2 2h14c1.1 0 2-.9 2-2V5c0-1.1-.9-2-2-2zM9 17H7v-7h2v7zm4 0h-2V7h2v10zm4 0h-2v-4h2v4z\"/>\n",
              "    </g>\n",
              "</svg>\n",
              "  </button>\n",
              "\n",
              "<style>\n",
              "  .colab-df-quickchart {\n",
              "      --bg-color: #E8F0FE;\n",
              "      --fill-color: #1967D2;\n",
              "      --hover-bg-color: #E2EBFA;\n",
              "      --hover-fill-color: #174EA6;\n",
              "      --disabled-fill-color: #AAA;\n",
              "      --disabled-bg-color: #DDD;\n",
              "  }\n",
              "\n",
              "  [theme=dark] .colab-df-quickchart {\n",
              "      --bg-color: #3B4455;\n",
              "      --fill-color: #D2E3FC;\n",
              "      --hover-bg-color: #434B5C;\n",
              "      --hover-fill-color: #FFFFFF;\n",
              "      --disabled-bg-color: #3B4455;\n",
              "      --disabled-fill-color: #666;\n",
              "  }\n",
              "\n",
              "  .colab-df-quickchart {\n",
              "    background-color: var(--bg-color);\n",
              "    border: none;\n",
              "    border-radius: 50%;\n",
              "    cursor: pointer;\n",
              "    display: none;\n",
              "    fill: var(--fill-color);\n",
              "    height: 32px;\n",
              "    padding: 0;\n",
              "    width: 32px;\n",
              "  }\n",
              "\n",
              "  .colab-df-quickchart:hover {\n",
              "    background-color: var(--hover-bg-color);\n",
              "    box-shadow: 0 1px 2px rgba(60, 64, 67, 0.3), 0 1px 3px 1px rgba(60, 64, 67, 0.15);\n",
              "    fill: var(--button-hover-fill-color);\n",
              "  }\n",
              "\n",
              "  .colab-df-quickchart-complete:disabled,\n",
              "  .colab-df-quickchart-complete:disabled:hover {\n",
              "    background-color: var(--disabled-bg-color);\n",
              "    fill: var(--disabled-fill-color);\n",
              "    box-shadow: none;\n",
              "  }\n",
              "\n",
              "  .colab-df-spinner {\n",
              "    border: 2px solid var(--fill-color);\n",
              "    border-color: transparent;\n",
              "    border-bottom-color: var(--fill-color);\n",
              "    animation:\n",
              "      spin 1s steps(1) infinite;\n",
              "  }\n",
              "\n",
              "  @keyframes spin {\n",
              "    0% {\n",
              "      border-color: transparent;\n",
              "      border-bottom-color: var(--fill-color);\n",
              "      border-left-color: var(--fill-color);\n",
              "    }\n",
              "    20% {\n",
              "      border-color: transparent;\n",
              "      border-left-color: var(--fill-color);\n",
              "      border-top-color: var(--fill-color);\n",
              "    }\n",
              "    30% {\n",
              "      border-color: transparent;\n",
              "      border-left-color: var(--fill-color);\n",
              "      border-top-color: var(--fill-color);\n",
              "      border-right-color: var(--fill-color);\n",
              "    }\n",
              "    40% {\n",
              "      border-color: transparent;\n",
              "      border-right-color: var(--fill-color);\n",
              "      border-top-color: var(--fill-color);\n",
              "    }\n",
              "    60% {\n",
              "      border-color: transparent;\n",
              "      border-right-color: var(--fill-color);\n",
              "    }\n",
              "    80% {\n",
              "      border-color: transparent;\n",
              "      border-right-color: var(--fill-color);\n",
              "      border-bottom-color: var(--fill-color);\n",
              "    }\n",
              "    90% {\n",
              "      border-color: transparent;\n",
              "      border-bottom-color: var(--fill-color);\n",
              "    }\n",
              "  }\n",
              "</style>\n",
              "\n",
              "  <script>\n",
              "    async function quickchart(key) {\n",
              "      const quickchartButtonEl =\n",
              "        document.querySelector('#' + key + ' button');\n",
              "      quickchartButtonEl.disabled = true;  // To prevent multiple clicks.\n",
              "      quickchartButtonEl.classList.add('colab-df-spinner');\n",
              "      try {\n",
              "        const charts = await google.colab.kernel.invokeFunction(\n",
              "            'suggestCharts', [key], {});\n",
              "      } catch (error) {\n",
              "        console.error('Error during call to suggestCharts:', error);\n",
              "      }\n",
              "      quickchartButtonEl.classList.remove('colab-df-spinner');\n",
              "      quickchartButtonEl.classList.add('colab-df-quickchart-complete');\n",
              "    }\n",
              "    (() => {\n",
              "      let quickchartButtonEl =\n",
              "        document.querySelector('#df-fe869683-761f-4b23-88d3-dc0d931ebd90 button');\n",
              "      quickchartButtonEl.style.display =\n",
              "        google.colab.kernel.accessAllowed ? 'block' : 'none';\n",
              "    })();\n",
              "  </script>\n",
              "</div>\n",
              "    </div>\n",
              "  </div>\n"
            ]
          },
          "metadata": {},
          "execution_count": 140
        }
      ],
      "source": [
        "pd.DataFrame(sample_sizes[0], columns=beta_grid.reshape(-1), index=mde_grid.reshape(-1))"
      ]
    },
    {
      "cell_type": "code",
      "execution_count": 141,
      "metadata": {
        "id": "5H7Z8GrVzHZX",
        "colab": {
          "base_uri": "https://localhost:8080/",
          "height": 332
        },
        "outputId": "73d84f26-4211-47d5-8393-bc2c368ee6ae"
      },
      "outputs": [
        {
          "output_type": "execute_result",
          "data": {
            "text/plain": [
              "      0.60   0.65   0.70   0.75   0.80   0.85   0.90   0.95\n",
              "0.01  9001  10296  11755  13438  15445  17960  21394  27035\n",
              "0.02  2250   2574   2938   3359   3861   4490   5348   6758\n",
              "0.03  1000   1144   1306   1493   1716   1995   2377   3003\n",
              "0.04   562    643    734    839    965   1122   1337   1689\n",
              "0.05   360    411    470    537    617    718    855   1081\n",
              "0.06   250    286    326    373    429    498    594    750\n",
              "0.07   183    210    239    274    315    366    436    551\n",
              "0.08   140    160    183    209    241    280    334    422\n",
              "0.09   111    127    145    165    190    221    264    333"
            ],
            "text/html": [
              "\n",
              "  <div id=\"df-5cec4207-e49e-43ae-b09c-3e86fa01ebdc\" class=\"colab-df-container\">\n",
              "    <div>\n",
              "<style scoped>\n",
              "    .dataframe tbody tr th:only-of-type {\n",
              "        vertical-align: middle;\n",
              "    }\n",
              "\n",
              "    .dataframe tbody tr th {\n",
              "        vertical-align: top;\n",
              "    }\n",
              "\n",
              "    .dataframe thead th {\n",
              "        text-align: right;\n",
              "    }\n",
              "</style>\n",
              "<table border=\"1\" class=\"dataframe\">\n",
              "  <thead>\n",
              "    <tr style=\"text-align: right;\">\n",
              "      <th></th>\n",
              "      <th>0.60</th>\n",
              "      <th>0.65</th>\n",
              "      <th>0.70</th>\n",
              "      <th>0.75</th>\n",
              "      <th>0.80</th>\n",
              "      <th>0.85</th>\n",
              "      <th>0.90</th>\n",
              "      <th>0.95</th>\n",
              "    </tr>\n",
              "  </thead>\n",
              "  <tbody>\n",
              "    <tr>\n",
              "      <th>0.01</th>\n",
              "      <td>9001</td>\n",
              "      <td>10296</td>\n",
              "      <td>11755</td>\n",
              "      <td>13438</td>\n",
              "      <td>15445</td>\n",
              "      <td>17960</td>\n",
              "      <td>21394</td>\n",
              "      <td>27035</td>\n",
              "    </tr>\n",
              "    <tr>\n",
              "      <th>0.02</th>\n",
              "      <td>2250</td>\n",
              "      <td>2574</td>\n",
              "      <td>2938</td>\n",
              "      <td>3359</td>\n",
              "      <td>3861</td>\n",
              "      <td>4490</td>\n",
              "      <td>5348</td>\n",
              "      <td>6758</td>\n",
              "    </tr>\n",
              "    <tr>\n",
              "      <th>0.03</th>\n",
              "      <td>1000</td>\n",
              "      <td>1144</td>\n",
              "      <td>1306</td>\n",
              "      <td>1493</td>\n",
              "      <td>1716</td>\n",
              "      <td>1995</td>\n",
              "      <td>2377</td>\n",
              "      <td>3003</td>\n",
              "    </tr>\n",
              "    <tr>\n",
              "      <th>0.04</th>\n",
              "      <td>562</td>\n",
              "      <td>643</td>\n",
              "      <td>734</td>\n",
              "      <td>839</td>\n",
              "      <td>965</td>\n",
              "      <td>1122</td>\n",
              "      <td>1337</td>\n",
              "      <td>1689</td>\n",
              "    </tr>\n",
              "    <tr>\n",
              "      <th>0.05</th>\n",
              "      <td>360</td>\n",
              "      <td>411</td>\n",
              "      <td>470</td>\n",
              "      <td>537</td>\n",
              "      <td>617</td>\n",
              "      <td>718</td>\n",
              "      <td>855</td>\n",
              "      <td>1081</td>\n",
              "    </tr>\n",
              "    <tr>\n",
              "      <th>0.06</th>\n",
              "      <td>250</td>\n",
              "      <td>286</td>\n",
              "      <td>326</td>\n",
              "      <td>373</td>\n",
              "      <td>429</td>\n",
              "      <td>498</td>\n",
              "      <td>594</td>\n",
              "      <td>750</td>\n",
              "    </tr>\n",
              "    <tr>\n",
              "      <th>0.07</th>\n",
              "      <td>183</td>\n",
              "      <td>210</td>\n",
              "      <td>239</td>\n",
              "      <td>274</td>\n",
              "      <td>315</td>\n",
              "      <td>366</td>\n",
              "      <td>436</td>\n",
              "      <td>551</td>\n",
              "    </tr>\n",
              "    <tr>\n",
              "      <th>0.08</th>\n",
              "      <td>140</td>\n",
              "      <td>160</td>\n",
              "      <td>183</td>\n",
              "      <td>209</td>\n",
              "      <td>241</td>\n",
              "      <td>280</td>\n",
              "      <td>334</td>\n",
              "      <td>422</td>\n",
              "    </tr>\n",
              "    <tr>\n",
              "      <th>0.09</th>\n",
              "      <td>111</td>\n",
              "      <td>127</td>\n",
              "      <td>145</td>\n",
              "      <td>165</td>\n",
              "      <td>190</td>\n",
              "      <td>221</td>\n",
              "      <td>264</td>\n",
              "      <td>333</td>\n",
              "    </tr>\n",
              "  </tbody>\n",
              "</table>\n",
              "</div>\n",
              "    <div class=\"colab-df-buttons\">\n",
              "\n",
              "  <div class=\"colab-df-container\">\n",
              "    <button class=\"colab-df-convert\" onclick=\"convertToInteractive('df-5cec4207-e49e-43ae-b09c-3e86fa01ebdc')\"\n",
              "            title=\"Convert this dataframe to an interactive table.\"\n",
              "            style=\"display:none;\">\n",
              "\n",
              "  <svg xmlns=\"http://www.w3.org/2000/svg\" height=\"24px\" viewBox=\"0 -960 960 960\">\n",
              "    <path d=\"M120-120v-720h720v720H120Zm60-500h600v-160H180v160Zm220 220h160v-160H400v160Zm0 220h160v-160H400v160ZM180-400h160v-160H180v160Zm440 0h160v-160H620v160ZM180-180h160v-160H180v160Zm440 0h160v-160H620v160Z\"/>\n",
              "  </svg>\n",
              "    </button>\n",
              "\n",
              "  <style>\n",
              "    .colab-df-container {\n",
              "      display:flex;\n",
              "      gap: 12px;\n",
              "    }\n",
              "\n",
              "    .colab-df-convert {\n",
              "      background-color: #E8F0FE;\n",
              "      border: none;\n",
              "      border-radius: 50%;\n",
              "      cursor: pointer;\n",
              "      display: none;\n",
              "      fill: #1967D2;\n",
              "      height: 32px;\n",
              "      padding: 0 0 0 0;\n",
              "      width: 32px;\n",
              "    }\n",
              "\n",
              "    .colab-df-convert:hover {\n",
              "      background-color: #E2EBFA;\n",
              "      box-shadow: 0px 1px 2px rgba(60, 64, 67, 0.3), 0px 1px 3px 1px rgba(60, 64, 67, 0.15);\n",
              "      fill: #174EA6;\n",
              "    }\n",
              "\n",
              "    .colab-df-buttons div {\n",
              "      margin-bottom: 4px;\n",
              "    }\n",
              "\n",
              "    [theme=dark] .colab-df-convert {\n",
              "      background-color: #3B4455;\n",
              "      fill: #D2E3FC;\n",
              "    }\n",
              "\n",
              "    [theme=dark] .colab-df-convert:hover {\n",
              "      background-color: #434B5C;\n",
              "      box-shadow: 0px 1px 3px 1px rgba(0, 0, 0, 0.15);\n",
              "      filter: drop-shadow(0px 1px 2px rgba(0, 0, 0, 0.3));\n",
              "      fill: #FFFFFF;\n",
              "    }\n",
              "  </style>\n",
              "\n",
              "    <script>\n",
              "      const buttonEl =\n",
              "        document.querySelector('#df-5cec4207-e49e-43ae-b09c-3e86fa01ebdc button.colab-df-convert');\n",
              "      buttonEl.style.display =\n",
              "        google.colab.kernel.accessAllowed ? 'block' : 'none';\n",
              "\n",
              "      async function convertToInteractive(key) {\n",
              "        const element = document.querySelector('#df-5cec4207-e49e-43ae-b09c-3e86fa01ebdc');\n",
              "        const dataTable =\n",
              "          await google.colab.kernel.invokeFunction('convertToInteractive',\n",
              "                                                    [key], {});\n",
              "        if (!dataTable) return;\n",
              "\n",
              "        const docLinkHtml = 'Like what you see? Visit the ' +\n",
              "          '<a target=\"_blank\" href=https://colab.research.google.com/notebooks/data_table.ipynb>data table notebook</a>'\n",
              "          + ' to learn more about interactive tables.';\n",
              "        element.innerHTML = '';\n",
              "        dataTable['output_type'] = 'display_data';\n",
              "        await google.colab.output.renderOutput(dataTable, element);\n",
              "        const docLink = document.createElement('div');\n",
              "        docLink.innerHTML = docLinkHtml;\n",
              "        element.appendChild(docLink);\n",
              "      }\n",
              "    </script>\n",
              "  </div>\n",
              "\n",
              "\n",
              "<div id=\"df-0c2c5a13-d73d-4e55-8a99-d1e4d9487692\">\n",
              "  <button class=\"colab-df-quickchart\" onclick=\"quickchart('df-0c2c5a13-d73d-4e55-8a99-d1e4d9487692')\"\n",
              "            title=\"Suggest charts\"\n",
              "            style=\"display:none;\">\n",
              "\n",
              "<svg xmlns=\"http://www.w3.org/2000/svg\" height=\"24px\"viewBox=\"0 0 24 24\"\n",
              "     width=\"24px\">\n",
              "    <g>\n",
              "        <path d=\"M19 3H5c-1.1 0-2 .9-2 2v14c0 1.1.9 2 2 2h14c1.1 0 2-.9 2-2V5c0-1.1-.9-2-2-2zM9 17H7v-7h2v7zm4 0h-2V7h2v10zm4 0h-2v-4h2v4z\"/>\n",
              "    </g>\n",
              "</svg>\n",
              "  </button>\n",
              "\n",
              "<style>\n",
              "  .colab-df-quickchart {\n",
              "      --bg-color: #E8F0FE;\n",
              "      --fill-color: #1967D2;\n",
              "      --hover-bg-color: #E2EBFA;\n",
              "      --hover-fill-color: #174EA6;\n",
              "      --disabled-fill-color: #AAA;\n",
              "      --disabled-bg-color: #DDD;\n",
              "  }\n",
              "\n",
              "  [theme=dark] .colab-df-quickchart {\n",
              "      --bg-color: #3B4455;\n",
              "      --fill-color: #D2E3FC;\n",
              "      --hover-bg-color: #434B5C;\n",
              "      --hover-fill-color: #FFFFFF;\n",
              "      --disabled-bg-color: #3B4455;\n",
              "      --disabled-fill-color: #666;\n",
              "  }\n",
              "\n",
              "  .colab-df-quickchart {\n",
              "    background-color: var(--bg-color);\n",
              "    border: none;\n",
              "    border-radius: 50%;\n",
              "    cursor: pointer;\n",
              "    display: none;\n",
              "    fill: var(--fill-color);\n",
              "    height: 32px;\n",
              "    padding: 0;\n",
              "    width: 32px;\n",
              "  }\n",
              "\n",
              "  .colab-df-quickchart:hover {\n",
              "    background-color: var(--hover-bg-color);\n",
              "    box-shadow: 0 1px 2px rgba(60, 64, 67, 0.3), 0 1px 3px 1px rgba(60, 64, 67, 0.15);\n",
              "    fill: var(--button-hover-fill-color);\n",
              "  }\n",
              "\n",
              "  .colab-df-quickchart-complete:disabled,\n",
              "  .colab-df-quickchart-complete:disabled:hover {\n",
              "    background-color: var(--disabled-bg-color);\n",
              "    fill: var(--disabled-fill-color);\n",
              "    box-shadow: none;\n",
              "  }\n",
              "\n",
              "  .colab-df-spinner {\n",
              "    border: 2px solid var(--fill-color);\n",
              "    border-color: transparent;\n",
              "    border-bottom-color: var(--fill-color);\n",
              "    animation:\n",
              "      spin 1s steps(1) infinite;\n",
              "  }\n",
              "\n",
              "  @keyframes spin {\n",
              "    0% {\n",
              "      border-color: transparent;\n",
              "      border-bottom-color: var(--fill-color);\n",
              "      border-left-color: var(--fill-color);\n",
              "    }\n",
              "    20% {\n",
              "      border-color: transparent;\n",
              "      border-left-color: var(--fill-color);\n",
              "      border-top-color: var(--fill-color);\n",
              "    }\n",
              "    30% {\n",
              "      border-color: transparent;\n",
              "      border-left-color: var(--fill-color);\n",
              "      border-top-color: var(--fill-color);\n",
              "      border-right-color: var(--fill-color);\n",
              "    }\n",
              "    40% {\n",
              "      border-color: transparent;\n",
              "      border-right-color: var(--fill-color);\n",
              "      border-top-color: var(--fill-color);\n",
              "    }\n",
              "    60% {\n",
              "      border-color: transparent;\n",
              "      border-right-color: var(--fill-color);\n",
              "    }\n",
              "    80% {\n",
              "      border-color: transparent;\n",
              "      border-right-color: var(--fill-color);\n",
              "      border-bottom-color: var(--fill-color);\n",
              "    }\n",
              "    90% {\n",
              "      border-color: transparent;\n",
              "      border-bottom-color: var(--fill-color);\n",
              "    }\n",
              "  }\n",
              "</style>\n",
              "\n",
              "  <script>\n",
              "    async function quickchart(key) {\n",
              "      const quickchartButtonEl =\n",
              "        document.querySelector('#' + key + ' button');\n",
              "      quickchartButtonEl.disabled = true;  // To prevent multiple clicks.\n",
              "      quickchartButtonEl.classList.add('colab-df-spinner');\n",
              "      try {\n",
              "        const charts = await google.colab.kernel.invokeFunction(\n",
              "            'suggestCharts', [key], {});\n",
              "      } catch (error) {\n",
              "        console.error('Error during call to suggestCharts:', error);\n",
              "      }\n",
              "      quickchartButtonEl.classList.remove('colab-df-spinner');\n",
              "      quickchartButtonEl.classList.add('colab-df-quickchart-complete');\n",
              "    }\n",
              "    (() => {\n",
              "      let quickchartButtonEl =\n",
              "        document.querySelector('#df-0c2c5a13-d73d-4e55-8a99-d1e4d9487692 button');\n",
              "      quickchartButtonEl.style.display =\n",
              "        google.colab.kernel.accessAllowed ? 'block' : 'none';\n",
              "    })();\n",
              "  </script>\n",
              "</div>\n",
              "    </div>\n",
              "  </div>\n"
            ]
          },
          "metadata": {},
          "execution_count": 141
        }
      ],
      "source": [
        "pd.DataFrame(sample_sizes[2], columns=beta_grid.reshape(-1), index=mde_grid.reshape(-1))"
      ]
    },
    {
      "cell_type": "code",
      "execution_count": 142,
      "metadata": {
        "id": "iLY2k58QkyJM",
        "colab": {
          "base_uri": "https://localhost:8080/",
          "height": 332
        },
        "outputId": "f3292fc4-402c-4bd3-d2bc-4fb87e3fc6bc"
      },
      "outputs": [
        {
          "output_type": "execute_result",
          "data": {
            "text/plain": [
              "      0.60  0.65  0.70  0.75   0.80   0.85   0.90   0.95\n",
              "0.01  5840  6680  7627  8719  10021  11652  13880  17541\n",
              "0.02  1460  1670  1906  2179   2505   2913   3470   4385\n",
              "0.03   648   742   847   968   1113   1294   1542   1949\n",
              "0.04   365   417   476   544    626    728    867   1096\n",
              "0.05   233   267   305   348    400    466    555    701\n",
              "0.06   162   185   211   242    278    323    385    487\n",
              "0.07   119   136   155   177    204    237    283    357\n",
              "0.08    91   104   119   136    156    182    216    274\n",
              "0.09    72    82    94   107    123    143    171    216"
            ],
            "text/html": [
              "\n",
              "  <div id=\"df-3923d9cc-a2fd-4769-a439-feab8a98fa7c\" class=\"colab-df-container\">\n",
              "    <div>\n",
              "<style scoped>\n",
              "    .dataframe tbody tr th:only-of-type {\n",
              "        vertical-align: middle;\n",
              "    }\n",
              "\n",
              "    .dataframe tbody tr th {\n",
              "        vertical-align: top;\n",
              "    }\n",
              "\n",
              "    .dataframe thead th {\n",
              "        text-align: right;\n",
              "    }\n",
              "</style>\n",
              "<table border=\"1\" class=\"dataframe\">\n",
              "  <thead>\n",
              "    <tr style=\"text-align: right;\">\n",
              "      <th></th>\n",
              "      <th>0.60</th>\n",
              "      <th>0.65</th>\n",
              "      <th>0.70</th>\n",
              "      <th>0.75</th>\n",
              "      <th>0.80</th>\n",
              "      <th>0.85</th>\n",
              "      <th>0.90</th>\n",
              "      <th>0.95</th>\n",
              "    </tr>\n",
              "  </thead>\n",
              "  <tbody>\n",
              "    <tr>\n",
              "      <th>0.01</th>\n",
              "      <td>5840</td>\n",
              "      <td>6680</td>\n",
              "      <td>7627</td>\n",
              "      <td>8719</td>\n",
              "      <td>10021</td>\n",
              "      <td>11652</td>\n",
              "      <td>13880</td>\n",
              "      <td>17541</td>\n",
              "    </tr>\n",
              "    <tr>\n",
              "      <th>0.02</th>\n",
              "      <td>1460</td>\n",
              "      <td>1670</td>\n",
              "      <td>1906</td>\n",
              "      <td>2179</td>\n",
              "      <td>2505</td>\n",
              "      <td>2913</td>\n",
              "      <td>3470</td>\n",
              "      <td>4385</td>\n",
              "    </tr>\n",
              "    <tr>\n",
              "      <th>0.03</th>\n",
              "      <td>648</td>\n",
              "      <td>742</td>\n",
              "      <td>847</td>\n",
              "      <td>968</td>\n",
              "      <td>1113</td>\n",
              "      <td>1294</td>\n",
              "      <td>1542</td>\n",
              "      <td>1949</td>\n",
              "    </tr>\n",
              "    <tr>\n",
              "      <th>0.04</th>\n",
              "      <td>365</td>\n",
              "      <td>417</td>\n",
              "      <td>476</td>\n",
              "      <td>544</td>\n",
              "      <td>626</td>\n",
              "      <td>728</td>\n",
              "      <td>867</td>\n",
              "      <td>1096</td>\n",
              "    </tr>\n",
              "    <tr>\n",
              "      <th>0.05</th>\n",
              "      <td>233</td>\n",
              "      <td>267</td>\n",
              "      <td>305</td>\n",
              "      <td>348</td>\n",
              "      <td>400</td>\n",
              "      <td>466</td>\n",
              "      <td>555</td>\n",
              "      <td>701</td>\n",
              "    </tr>\n",
              "    <tr>\n",
              "      <th>0.06</th>\n",
              "      <td>162</td>\n",
              "      <td>185</td>\n",
              "      <td>211</td>\n",
              "      <td>242</td>\n",
              "      <td>278</td>\n",
              "      <td>323</td>\n",
              "      <td>385</td>\n",
              "      <td>487</td>\n",
              "    </tr>\n",
              "    <tr>\n",
              "      <th>0.07</th>\n",
              "      <td>119</td>\n",
              "      <td>136</td>\n",
              "      <td>155</td>\n",
              "      <td>177</td>\n",
              "      <td>204</td>\n",
              "      <td>237</td>\n",
              "      <td>283</td>\n",
              "      <td>357</td>\n",
              "    </tr>\n",
              "    <tr>\n",
              "      <th>0.08</th>\n",
              "      <td>91</td>\n",
              "      <td>104</td>\n",
              "      <td>119</td>\n",
              "      <td>136</td>\n",
              "      <td>156</td>\n",
              "      <td>182</td>\n",
              "      <td>216</td>\n",
              "      <td>274</td>\n",
              "    </tr>\n",
              "    <tr>\n",
              "      <th>0.09</th>\n",
              "      <td>72</td>\n",
              "      <td>82</td>\n",
              "      <td>94</td>\n",
              "      <td>107</td>\n",
              "      <td>123</td>\n",
              "      <td>143</td>\n",
              "      <td>171</td>\n",
              "      <td>216</td>\n",
              "    </tr>\n",
              "  </tbody>\n",
              "</table>\n",
              "</div>\n",
              "    <div class=\"colab-df-buttons\">\n",
              "\n",
              "  <div class=\"colab-df-container\">\n",
              "    <button class=\"colab-df-convert\" onclick=\"convertToInteractive('df-3923d9cc-a2fd-4769-a439-feab8a98fa7c')\"\n",
              "            title=\"Convert this dataframe to an interactive table.\"\n",
              "            style=\"display:none;\">\n",
              "\n",
              "  <svg xmlns=\"http://www.w3.org/2000/svg\" height=\"24px\" viewBox=\"0 -960 960 960\">\n",
              "    <path d=\"M120-120v-720h720v720H120Zm60-500h600v-160H180v160Zm220 220h160v-160H400v160Zm0 220h160v-160H400v160ZM180-400h160v-160H180v160Zm440 0h160v-160H620v160ZM180-180h160v-160H180v160Zm440 0h160v-160H620v160Z\"/>\n",
              "  </svg>\n",
              "    </button>\n",
              "\n",
              "  <style>\n",
              "    .colab-df-container {\n",
              "      display:flex;\n",
              "      gap: 12px;\n",
              "    }\n",
              "\n",
              "    .colab-df-convert {\n",
              "      background-color: #E8F0FE;\n",
              "      border: none;\n",
              "      border-radius: 50%;\n",
              "      cursor: pointer;\n",
              "      display: none;\n",
              "      fill: #1967D2;\n",
              "      height: 32px;\n",
              "      padding: 0 0 0 0;\n",
              "      width: 32px;\n",
              "    }\n",
              "\n",
              "    .colab-df-convert:hover {\n",
              "      background-color: #E2EBFA;\n",
              "      box-shadow: 0px 1px 2px rgba(60, 64, 67, 0.3), 0px 1px 3px 1px rgba(60, 64, 67, 0.15);\n",
              "      fill: #174EA6;\n",
              "    }\n",
              "\n",
              "    .colab-df-buttons div {\n",
              "      margin-bottom: 4px;\n",
              "    }\n",
              "\n",
              "    [theme=dark] .colab-df-convert {\n",
              "      background-color: #3B4455;\n",
              "      fill: #D2E3FC;\n",
              "    }\n",
              "\n",
              "    [theme=dark] .colab-df-convert:hover {\n",
              "      background-color: #434B5C;\n",
              "      box-shadow: 0px 1px 3px 1px rgba(0, 0, 0, 0.15);\n",
              "      filter: drop-shadow(0px 1px 2px rgba(0, 0, 0, 0.3));\n",
              "      fill: #FFFFFF;\n",
              "    }\n",
              "  </style>\n",
              "\n",
              "    <script>\n",
              "      const buttonEl =\n",
              "        document.querySelector('#df-3923d9cc-a2fd-4769-a439-feab8a98fa7c button.colab-df-convert');\n",
              "      buttonEl.style.display =\n",
              "        google.colab.kernel.accessAllowed ? 'block' : 'none';\n",
              "\n",
              "      async function convertToInteractive(key) {\n",
              "        const element = document.querySelector('#df-3923d9cc-a2fd-4769-a439-feab8a98fa7c');\n",
              "        const dataTable =\n",
              "          await google.colab.kernel.invokeFunction('convertToInteractive',\n",
              "                                                    [key], {});\n",
              "        if (!dataTable) return;\n",
              "\n",
              "        const docLinkHtml = 'Like what you see? Visit the ' +\n",
              "          '<a target=\"_blank\" href=https://colab.research.google.com/notebooks/data_table.ipynb>data table notebook</a>'\n",
              "          + ' to learn more about interactive tables.';\n",
              "        element.innerHTML = '';\n",
              "        dataTable['output_type'] = 'display_data';\n",
              "        await google.colab.output.renderOutput(dataTable, element);\n",
              "        const docLink = document.createElement('div');\n",
              "        docLink.innerHTML = docLinkHtml;\n",
              "        element.appendChild(docLink);\n",
              "      }\n",
              "    </script>\n",
              "  </div>\n",
              "\n",
              "\n",
              "<div id=\"df-625c35c3-96fd-449f-a597-8d54b22537c1\">\n",
              "  <button class=\"colab-df-quickchart\" onclick=\"quickchart('df-625c35c3-96fd-449f-a597-8d54b22537c1')\"\n",
              "            title=\"Suggest charts\"\n",
              "            style=\"display:none;\">\n",
              "\n",
              "<svg xmlns=\"http://www.w3.org/2000/svg\" height=\"24px\"viewBox=\"0 0 24 24\"\n",
              "     width=\"24px\">\n",
              "    <g>\n",
              "        <path d=\"M19 3H5c-1.1 0-2 .9-2 2v14c0 1.1.9 2 2 2h14c1.1 0 2-.9 2-2V5c0-1.1-.9-2-2-2zM9 17H7v-7h2v7zm4 0h-2V7h2v10zm4 0h-2v-4h2v4z\"/>\n",
              "    </g>\n",
              "</svg>\n",
              "  </button>\n",
              "\n",
              "<style>\n",
              "  .colab-df-quickchart {\n",
              "      --bg-color: #E8F0FE;\n",
              "      --fill-color: #1967D2;\n",
              "      --hover-bg-color: #E2EBFA;\n",
              "      --hover-fill-color: #174EA6;\n",
              "      --disabled-fill-color: #AAA;\n",
              "      --disabled-bg-color: #DDD;\n",
              "  }\n",
              "\n",
              "  [theme=dark] .colab-df-quickchart {\n",
              "      --bg-color: #3B4455;\n",
              "      --fill-color: #D2E3FC;\n",
              "      --hover-bg-color: #434B5C;\n",
              "      --hover-fill-color: #FFFFFF;\n",
              "      --disabled-bg-color: #3B4455;\n",
              "      --disabled-fill-color: #666;\n",
              "  }\n",
              "\n",
              "  .colab-df-quickchart {\n",
              "    background-color: var(--bg-color);\n",
              "    border: none;\n",
              "    border-radius: 50%;\n",
              "    cursor: pointer;\n",
              "    display: none;\n",
              "    fill: var(--fill-color);\n",
              "    height: 32px;\n",
              "    padding: 0;\n",
              "    width: 32px;\n",
              "  }\n",
              "\n",
              "  .colab-df-quickchart:hover {\n",
              "    background-color: var(--hover-bg-color);\n",
              "    box-shadow: 0 1px 2px rgba(60, 64, 67, 0.3), 0 1px 3px 1px rgba(60, 64, 67, 0.15);\n",
              "    fill: var(--button-hover-fill-color);\n",
              "  }\n",
              "\n",
              "  .colab-df-quickchart-complete:disabled,\n",
              "  .colab-df-quickchart-complete:disabled:hover {\n",
              "    background-color: var(--disabled-bg-color);\n",
              "    fill: var(--disabled-fill-color);\n",
              "    box-shadow: none;\n",
              "  }\n",
              "\n",
              "  .colab-df-spinner {\n",
              "    border: 2px solid var(--fill-color);\n",
              "    border-color: transparent;\n",
              "    border-bottom-color: var(--fill-color);\n",
              "    animation:\n",
              "      spin 1s steps(1) infinite;\n",
              "  }\n",
              "\n",
              "  @keyframes spin {\n",
              "    0% {\n",
              "      border-color: transparent;\n",
              "      border-bottom-color: var(--fill-color);\n",
              "      border-left-color: var(--fill-color);\n",
              "    }\n",
              "    20% {\n",
              "      border-color: transparent;\n",
              "      border-left-color: var(--fill-color);\n",
              "      border-top-color: var(--fill-color);\n",
              "    }\n",
              "    30% {\n",
              "      border-color: transparent;\n",
              "      border-left-color: var(--fill-color);\n",
              "      border-top-color: var(--fill-color);\n",
              "      border-right-color: var(--fill-color);\n",
              "    }\n",
              "    40% {\n",
              "      border-color: transparent;\n",
              "      border-right-color: var(--fill-color);\n",
              "      border-top-color: var(--fill-color);\n",
              "    }\n",
              "    60% {\n",
              "      border-color: transparent;\n",
              "      border-right-color: var(--fill-color);\n",
              "    }\n",
              "    80% {\n",
              "      border-color: transparent;\n",
              "      border-right-color: var(--fill-color);\n",
              "      border-bottom-color: var(--fill-color);\n",
              "    }\n",
              "    90% {\n",
              "      border-color: transparent;\n",
              "      border-bottom-color: var(--fill-color);\n",
              "    }\n",
              "  }\n",
              "</style>\n",
              "\n",
              "  <script>\n",
              "    async function quickchart(key) {\n",
              "      const quickchartButtonEl =\n",
              "        document.querySelector('#' + key + ' button');\n",
              "      quickchartButtonEl.disabled = true;  // To prevent multiple clicks.\n",
              "      quickchartButtonEl.classList.add('colab-df-spinner');\n",
              "      try {\n",
              "        const charts = await google.colab.kernel.invokeFunction(\n",
              "            'suggestCharts', [key], {});\n",
              "      } catch (error) {\n",
              "        console.error('Error during call to suggestCharts:', error);\n",
              "      }\n",
              "      quickchartButtonEl.classList.remove('colab-df-spinner');\n",
              "      quickchartButtonEl.classList.add('colab-df-quickchart-complete');\n",
              "    }\n",
              "    (() => {\n",
              "      let quickchartButtonEl =\n",
              "        document.querySelector('#df-625c35c3-96fd-449f-a597-8d54b22537c1 button');\n",
              "      quickchartButtonEl.style.display =\n",
              "        google.colab.kernel.accessAllowed ? 'block' : 'none';\n",
              "    })();\n",
              "  </script>\n",
              "</div>\n",
              "    </div>\n",
              "  </div>\n"
            ]
          },
          "metadata": {},
          "execution_count": 142
        }
      ],
      "source": [
        "pd.DataFrame(sample_sizes[5], columns=beta_grid.reshape(-1), index=mde_grid.reshape(-1))"
      ]
    },
    {
      "cell_type": "markdown",
      "metadata": {
        "id": "dmTkmq8L2oJ-"
      },
      "source": [
        "Какой размер детектируемого эффекта мы возьмём и какой для него размер выборок?"
      ]
    },
    {
      "cell_type": "markdown",
      "metadata": {
        "id": "4g0Os9Oc75AC"
      },
      "source": [
        "**Ответ:**\n",
        "\n"
      ]
    },
    {
      "cell_type": "markdown",
      "metadata": {
        "id": "08x_Jg3e75AC"
      },
      "source": [
        "Для выбранного критерия проведите АА-тест по сгенерированным данным."
      ]
    },
    {
      "cell_type": "code",
      "execution_count": 58,
      "metadata": {
        "id": "seAn6OXo1M3R"
      },
      "outputs": [],
      "source": [
        "new_data = sps.bernoulli.rvs(0.5, size=2000)"
      ]
    },
    {
      "cell_type": "code",
      "execution_count": 59,
      "metadata": {
        "id": "pJCHuRhp75AC"
      },
      "outputs": [],
      "source": [
        "sample_size = 100\n",
        "mde = 0.01\n",
        "alpha = 0.05"
      ]
    },
    {
      "cell_type": "code",
      "execution_count": null,
      "metadata": {
        "id": "jJUAGEGj75AC"
      },
      "outputs": [],
      "source": [
        "def absolute_ttest(x, y, alpha=0.05):\n",
        "    '''\n",
        "    Абсолютный t-test.\n",
        "\n",
        "    Аргументы:\n",
        "    x, y -- выборки одинакового размера\n",
        "    alpha -- уровень значимости\n",
        "\n",
        "    Возвращает:\n",
        "    stat -- статистика критерия\n",
        "    left_bound, right_bound -- границы дов. интервала\n",
        "    pvalue\n",
        "    '''\n",
        "\n",
        "    n = len(x)\n",
        "    x_mean = x.mean()\n",
        "    y_mean = y.mean()\n",
        "\n",
        "    stat = <...>\n",
        "    var = <...>\n",
        "    std = np.sqrt(var)\n",
        "\n",
        "    z_stat = np.sqrt(n) * stat / std\n",
        "    pvalue = 2*sps.norm.sf(np.abs(z_stat))\n",
        "\n",
        "    q = sps.norm.ppf(1 - alpha/2)\n",
        "    left_bound = q*()\n",
        "    right_bound = <...>\n",
        "\n",
        "    return stat, left_bound, right_bound, pvalue"
      ]
    },
    {
      "cell_type": "code",
      "execution_count": null,
      "metadata": {
        "id": "t-Xhz1_o75AC"
      },
      "outputs": [],
      "source": [
        "p_vals = []\n",
        "\n",
        "for i in tqdm(range(2000)):\n",
        "\n",
        "    sample1, sample2 = np.random.choice(<...>, (2, sample_size), replace=False)\n",
        "\n",
        "    p_val = <...>\n",
        "    p_vals.append(p_val)\n",
        "\n",
        "p_vals = np.array(p_vals)"
      ]
    },
    {
      "cell_type": "code",
      "execution_count": null,
      "metadata": {
        "id": "qc73I5D075AC"
      },
      "outputs": [],
      "source": [
        "def draw_interval(\n",
        "    real_alpha, left_alpha, right_alpha,\n",
        "    alpha=0.05, figsize=(7, 2)\n",
        "):\n",
        "    '''\n",
        "    Отрисовка интервала для реального уровня значимости\n",
        "    real_alpha -- оценка уровня значимости\n",
        "    left_alpha, right_alpha -- границы доверительного интервала\n",
        "    alpha -- теоретический уровень значимости\n",
        "    figsize -- размер фигуры matplotlib\n",
        "    '''\n",
        "\n",
        "    with sns.axes_style(\"whitegrid\"):\n",
        "        plt.figure(figsize=(6, 2))\n",
        "        plt.hlines(0, 0, 1, color='black', lw=2, alpha=0.6)\n",
        "        plt.vlines(alpha, -1, 1, color='red', lw=5, linestyle='--', alpha=0.6)\n",
        "        plt.fill_between(\n",
        "            [left_alpha, right_alpha], [0.15]*2, [-0.15]*2,\n",
        "            color='green', alpha=0.6\n",
        "        )\n",
        "        plt.scatter(real_alpha, 0, s=300, marker='*', color='red')\n",
        "        plt.xlim((min(alpha, left_alpha)-1e-3, max(alpha, right_alpha)+1e-3))\n",
        "        plt.title(\n",
        "            f'Доля отвержений = {100*real_alpha:.2f}%, '\n",
        "            f'интервал ({100*left_alpha:.2f}%, {100*right_alpha:.2f}%)'\n",
        "        )\n",
        "        plt.ylim((-0.5, 0.5))\n",
        "        plt.yticks([])\n",
        "        plt.tight_layout()\n",
        "        plt.show()"
      ]
    },
    {
      "cell_type": "code",
      "execution_count": null,
      "metadata": {
        "id": "EG18ZJjd75AC"
      },
      "outputs": [],
      "source": [
        "real_alpha = (p_vals < alpha).mean()\n",
        "print(f'Реальный уровень значимости: {real_alpha.round(2)}')\n",
        "left_alpha, right_alpha = proportion_confint((p_vals < alpha).sum(), len(p_vals), method='wilson')\n",
        "draw_interval(real_alpha, left_alpha, right_alpha, alpha=alpha)"
      ]
    },
    {
      "cell_type": "markdown",
      "metadata": {
        "id": "pRT2uQUp3fVy"
      },
      "source": [
        "Посмотрите на гистограмму pvalue."
      ]
    },
    {
      "cell_type": "code",
      "execution_count": null,
      "metadata": {
        "id": "ChSdghWf75AD"
      },
      "outputs": [],
      "source": []
    },
    {
      "cell_type": "markdown",
      "metadata": {
        "id": "kOnRQF5D75AD"
      },
      "source": [
        "Какие выводы о валидности выбранного критерия вы можете сделать?\n",
        "\n",
        "**Ответ:**\n"
      ]
    },
    {
      "cell_type": "code",
      "execution_count": null,
      "metadata": {
        "id": "FVqqmzE_75AD"
      },
      "outputs": [],
      "source": [
        "pvals = []\n",
        "\n",
        "for _ in tqdm(range(2000)):\n",
        "    sample1, sample2 = np.random.choice(<...>, (2, sample_size), replace=False)\n",
        "\n",
        "    sample2 = sample2 + <...>\n",
        "    sample2 += sps.norm.rvs(size=len(sample2), scale=0.1)\n",
        "\n",
        "    pvals.append(<...>)\n",
        "\n",
        "pvals = np.array(pvals)"
      ]
    },
    {
      "cell_type": "code",
      "execution_count": null,
      "metadata": {
        "id": "0_qiffXg75AD"
      },
      "outputs": [],
      "source": [
        "print(f'Реальная мощность критерия: {(pvals < alpha).mean().round(3)}')"
      ]
    },
    {
      "cell_type": "markdown",
      "metadata": {
        "id": "uPwu4VYSUfHT"
      },
      "source": [
        "**Вывод**\n",
        "\n"
      ]
    },
    {
      "cell_type": "markdown",
      "metadata": {
        "id": "ZccDWa6RuNNI"
      },
      "source": [
        "### Задача 3\n",
        "#### **Профиль биология**\n",
        "\n",
        "В одной фармацевтической компании собираются проводить II фазу клинических испытаний нового лекарства, ослабляющего симптомы диабета. Перед командой аналитики стоит задача о корректном проведении AB-тестирования. У вас имеются исторические [данные по пациентам](https://www.kaggle.com/datasets/jillanisofttech/diabetes-disease-updated-dataset?select=diabetes.csv), страдающим диабетом. С помощью них проведите дизайн эксперимента.\n",
        "\n",
        "\n",
        "Выберите или оцените каким-нибудь способом:\n",
        "\n",
        "1. Таргет клинических испытаний (первичную контрольную точку): уровень глюкозы, инсулина, толщину кожи и тд.;\n",
        "\n",
        "2. Статистический критерий (название / односторонний или двусторонний / связные или независимые выборки);\n",
        "\n",
        "3. Размеры A и B групп;\n",
        "\n",
        "4. Желаемый минимальный детектируемый эффект;\n",
        "\n",
        "5. Мощность критерия.\n",
        "\n",
        "Обоснуйте свой выбор в каждом из пунктов.\n",
        "\n",
        "Все ли полученные показатели вас устраивают? Если нет, то какие могут быть способы их улучшить?\n",
        "\n",
        "*Примечание.* Если кажется, что информации недостаточно, сделайте свои дополнительные предположения, коррелирующие с реальностью, и работайте с ними.\n",
        "\n",
        "\n",
        "Для выбранного критерия проведите АА-тест по историческим данным. Если исторических данных оказалось недостаточно для вашей модели, придумайте способ решения проблемы."
      ]
    },
    {
      "cell_type": "code",
      "source": [
        "od.download('https://www.kaggle.com/datasets/jillanisofttech/diabetes-disease-updated-dataset?select=diabetes.csv')"
      ],
      "metadata": {
        "colab": {
          "base_uri": "https://localhost:8080/"
        },
        "id": "XzQVoBZMqMB0",
        "outputId": "b470f153-b1d4-48fd-a007-09032f473a7e"
      },
      "execution_count": 143,
      "outputs": [
        {
          "output_type": "stream",
          "name": "stdout",
          "text": [
            "Please provide your Kaggle credentials to download this dataset. Learn more: http://bit.ly/kaggle-creds\n",
            "Your Kaggle username: mashalovne\n",
            "Your Kaggle Key: ··········\n",
            "Downloading diabetes-disease-updated-dataset.zip to ./diabetes-disease-updated-dataset\n"
          ]
        },
        {
          "output_type": "stream",
          "name": "stderr",
          "text": [
            "100%|██████████| 8.91k/8.91k [00:00<00:00, 13.5MB/s]"
          ]
        },
        {
          "output_type": "stream",
          "name": "stdout",
          "text": [
            "\n"
          ]
        },
        {
          "output_type": "stream",
          "name": "stderr",
          "text": [
            "\n"
          ]
        }
      ]
    },
    {
      "cell_type": "code",
      "execution_count": 341,
      "metadata": {
        "id": "IeP_ga6GrMU_"
      },
      "outputs": [],
      "source": [
        "DATA_PATH = '/content/diabetes-disease-updated-dataset/diabetes.csv'"
      ]
    },
    {
      "cell_type": "code",
      "execution_count": 342,
      "metadata": {
        "id": "zLuiUDLTrQP5",
        "colab": {
          "base_uri": "https://localhost:8080/",
          "height": 424
        },
        "outputId": "f9de8e3c-df16-48ff-bc1c-5dd3a2d9d6eb"
      },
      "outputs": [
        {
          "output_type": "execute_result",
          "data": {
            "text/plain": [
              "     Pregnancies  Glucose  BloodPressure  SkinThickness  Insulin   BMI  \\\n",
              "0              6      148             72             35        0  33.6   \n",
              "2              8      183             64              0        0  23.3   \n",
              "4              0      137             40             35      168  43.1   \n",
              "6              3       78             50             32       88  31.0   \n",
              "8              2      197             70             45      543  30.5   \n",
              "..           ...      ...            ...            ...      ...   ...   \n",
              "755            1      128             88             39      110  36.5   \n",
              "757            0      123             72              0        0  36.3   \n",
              "759            6      190             92              0        0  35.5   \n",
              "761            9      170             74             31        0  44.0   \n",
              "766            1      126             60              0        0  30.1   \n",
              "\n",
              "     DiabetesPedigreeFunction  Age  Outcome  \n",
              "0                       0.627   50        1  \n",
              "2                       0.672   32        1  \n",
              "4                       2.288   33        1  \n",
              "6                       0.248   26        1  \n",
              "8                       0.158   53        1  \n",
              "..                        ...  ...      ...  \n",
              "755                     1.057   37        1  \n",
              "757                     0.258   52        1  \n",
              "759                     0.278   66        1  \n",
              "761                     0.403   43        1  \n",
              "766                     0.349   47        1  \n",
              "\n",
              "[268 rows x 9 columns]"
            ],
            "text/html": [
              "\n",
              "  <div id=\"df-10061270-4bb7-4c6a-adf8-af6c733b3c23\" class=\"colab-df-container\">\n",
              "    <div>\n",
              "<style scoped>\n",
              "    .dataframe tbody tr th:only-of-type {\n",
              "        vertical-align: middle;\n",
              "    }\n",
              "\n",
              "    .dataframe tbody tr th {\n",
              "        vertical-align: top;\n",
              "    }\n",
              "\n",
              "    .dataframe thead th {\n",
              "        text-align: right;\n",
              "    }\n",
              "</style>\n",
              "<table border=\"1\" class=\"dataframe\">\n",
              "  <thead>\n",
              "    <tr style=\"text-align: right;\">\n",
              "      <th></th>\n",
              "      <th>Pregnancies</th>\n",
              "      <th>Glucose</th>\n",
              "      <th>BloodPressure</th>\n",
              "      <th>SkinThickness</th>\n",
              "      <th>Insulin</th>\n",
              "      <th>BMI</th>\n",
              "      <th>DiabetesPedigreeFunction</th>\n",
              "      <th>Age</th>\n",
              "      <th>Outcome</th>\n",
              "    </tr>\n",
              "  </thead>\n",
              "  <tbody>\n",
              "    <tr>\n",
              "      <th>0</th>\n",
              "      <td>6</td>\n",
              "      <td>148</td>\n",
              "      <td>72</td>\n",
              "      <td>35</td>\n",
              "      <td>0</td>\n",
              "      <td>33.6</td>\n",
              "      <td>0.627</td>\n",
              "      <td>50</td>\n",
              "      <td>1</td>\n",
              "    </tr>\n",
              "    <tr>\n",
              "      <th>2</th>\n",
              "      <td>8</td>\n",
              "      <td>183</td>\n",
              "      <td>64</td>\n",
              "      <td>0</td>\n",
              "      <td>0</td>\n",
              "      <td>23.3</td>\n",
              "      <td>0.672</td>\n",
              "      <td>32</td>\n",
              "      <td>1</td>\n",
              "    </tr>\n",
              "    <tr>\n",
              "      <th>4</th>\n",
              "      <td>0</td>\n",
              "      <td>137</td>\n",
              "      <td>40</td>\n",
              "      <td>35</td>\n",
              "      <td>168</td>\n",
              "      <td>43.1</td>\n",
              "      <td>2.288</td>\n",
              "      <td>33</td>\n",
              "      <td>1</td>\n",
              "    </tr>\n",
              "    <tr>\n",
              "      <th>6</th>\n",
              "      <td>3</td>\n",
              "      <td>78</td>\n",
              "      <td>50</td>\n",
              "      <td>32</td>\n",
              "      <td>88</td>\n",
              "      <td>31.0</td>\n",
              "      <td>0.248</td>\n",
              "      <td>26</td>\n",
              "      <td>1</td>\n",
              "    </tr>\n",
              "    <tr>\n",
              "      <th>8</th>\n",
              "      <td>2</td>\n",
              "      <td>197</td>\n",
              "      <td>70</td>\n",
              "      <td>45</td>\n",
              "      <td>543</td>\n",
              "      <td>30.5</td>\n",
              "      <td>0.158</td>\n",
              "      <td>53</td>\n",
              "      <td>1</td>\n",
              "    </tr>\n",
              "    <tr>\n",
              "      <th>...</th>\n",
              "      <td>...</td>\n",
              "      <td>...</td>\n",
              "      <td>...</td>\n",
              "      <td>...</td>\n",
              "      <td>...</td>\n",
              "      <td>...</td>\n",
              "      <td>...</td>\n",
              "      <td>...</td>\n",
              "      <td>...</td>\n",
              "    </tr>\n",
              "    <tr>\n",
              "      <th>755</th>\n",
              "      <td>1</td>\n",
              "      <td>128</td>\n",
              "      <td>88</td>\n",
              "      <td>39</td>\n",
              "      <td>110</td>\n",
              "      <td>36.5</td>\n",
              "      <td>1.057</td>\n",
              "      <td>37</td>\n",
              "      <td>1</td>\n",
              "    </tr>\n",
              "    <tr>\n",
              "      <th>757</th>\n",
              "      <td>0</td>\n",
              "      <td>123</td>\n",
              "      <td>72</td>\n",
              "      <td>0</td>\n",
              "      <td>0</td>\n",
              "      <td>36.3</td>\n",
              "      <td>0.258</td>\n",
              "      <td>52</td>\n",
              "      <td>1</td>\n",
              "    </tr>\n",
              "    <tr>\n",
              "      <th>759</th>\n",
              "      <td>6</td>\n",
              "      <td>190</td>\n",
              "      <td>92</td>\n",
              "      <td>0</td>\n",
              "      <td>0</td>\n",
              "      <td>35.5</td>\n",
              "      <td>0.278</td>\n",
              "      <td>66</td>\n",
              "      <td>1</td>\n",
              "    </tr>\n",
              "    <tr>\n",
              "      <th>761</th>\n",
              "      <td>9</td>\n",
              "      <td>170</td>\n",
              "      <td>74</td>\n",
              "      <td>31</td>\n",
              "      <td>0</td>\n",
              "      <td>44.0</td>\n",
              "      <td>0.403</td>\n",
              "      <td>43</td>\n",
              "      <td>1</td>\n",
              "    </tr>\n",
              "    <tr>\n",
              "      <th>766</th>\n",
              "      <td>1</td>\n",
              "      <td>126</td>\n",
              "      <td>60</td>\n",
              "      <td>0</td>\n",
              "      <td>0</td>\n",
              "      <td>30.1</td>\n",
              "      <td>0.349</td>\n",
              "      <td>47</td>\n",
              "      <td>1</td>\n",
              "    </tr>\n",
              "  </tbody>\n",
              "</table>\n",
              "<p>268 rows × 9 columns</p>\n",
              "</div>\n",
              "    <div class=\"colab-df-buttons\">\n",
              "\n",
              "  <div class=\"colab-df-container\">\n",
              "    <button class=\"colab-df-convert\" onclick=\"convertToInteractive('df-10061270-4bb7-4c6a-adf8-af6c733b3c23')\"\n",
              "            title=\"Convert this dataframe to an interactive table.\"\n",
              "            style=\"display:none;\">\n",
              "\n",
              "  <svg xmlns=\"http://www.w3.org/2000/svg\" height=\"24px\" viewBox=\"0 -960 960 960\">\n",
              "    <path d=\"M120-120v-720h720v720H120Zm60-500h600v-160H180v160Zm220 220h160v-160H400v160Zm0 220h160v-160H400v160ZM180-400h160v-160H180v160Zm440 0h160v-160H620v160ZM180-180h160v-160H180v160Zm440 0h160v-160H620v160Z\"/>\n",
              "  </svg>\n",
              "    </button>\n",
              "\n",
              "  <style>\n",
              "    .colab-df-container {\n",
              "      display:flex;\n",
              "      gap: 12px;\n",
              "    }\n",
              "\n",
              "    .colab-df-convert {\n",
              "      background-color: #E8F0FE;\n",
              "      border: none;\n",
              "      border-radius: 50%;\n",
              "      cursor: pointer;\n",
              "      display: none;\n",
              "      fill: #1967D2;\n",
              "      height: 32px;\n",
              "      padding: 0 0 0 0;\n",
              "      width: 32px;\n",
              "    }\n",
              "\n",
              "    .colab-df-convert:hover {\n",
              "      background-color: #E2EBFA;\n",
              "      box-shadow: 0px 1px 2px rgba(60, 64, 67, 0.3), 0px 1px 3px 1px rgba(60, 64, 67, 0.15);\n",
              "      fill: #174EA6;\n",
              "    }\n",
              "\n",
              "    .colab-df-buttons div {\n",
              "      margin-bottom: 4px;\n",
              "    }\n",
              "\n",
              "    [theme=dark] .colab-df-convert {\n",
              "      background-color: #3B4455;\n",
              "      fill: #D2E3FC;\n",
              "    }\n",
              "\n",
              "    [theme=dark] .colab-df-convert:hover {\n",
              "      background-color: #434B5C;\n",
              "      box-shadow: 0px 1px 3px 1px rgba(0, 0, 0, 0.15);\n",
              "      filter: drop-shadow(0px 1px 2px rgba(0, 0, 0, 0.3));\n",
              "      fill: #FFFFFF;\n",
              "    }\n",
              "  </style>\n",
              "\n",
              "    <script>\n",
              "      const buttonEl =\n",
              "        document.querySelector('#df-10061270-4bb7-4c6a-adf8-af6c733b3c23 button.colab-df-convert');\n",
              "      buttonEl.style.display =\n",
              "        google.colab.kernel.accessAllowed ? 'block' : 'none';\n",
              "\n",
              "      async function convertToInteractive(key) {\n",
              "        const element = document.querySelector('#df-10061270-4bb7-4c6a-adf8-af6c733b3c23');\n",
              "        const dataTable =\n",
              "          await google.colab.kernel.invokeFunction('convertToInteractive',\n",
              "                                                    [key], {});\n",
              "        if (!dataTable) return;\n",
              "\n",
              "        const docLinkHtml = 'Like what you see? Visit the ' +\n",
              "          '<a target=\"_blank\" href=https://colab.research.google.com/notebooks/data_table.ipynb>data table notebook</a>'\n",
              "          + ' to learn more about interactive tables.';\n",
              "        element.innerHTML = '';\n",
              "        dataTable['output_type'] = 'display_data';\n",
              "        await google.colab.output.renderOutput(dataTable, element);\n",
              "        const docLink = document.createElement('div');\n",
              "        docLink.innerHTML = docLinkHtml;\n",
              "        element.appendChild(docLink);\n",
              "      }\n",
              "    </script>\n",
              "  </div>\n",
              "\n",
              "\n",
              "<div id=\"df-e7210786-3155-4268-bd79-06122acda726\">\n",
              "  <button class=\"colab-df-quickchart\" onclick=\"quickchart('df-e7210786-3155-4268-bd79-06122acda726')\"\n",
              "            title=\"Suggest charts\"\n",
              "            style=\"display:none;\">\n",
              "\n",
              "<svg xmlns=\"http://www.w3.org/2000/svg\" height=\"24px\"viewBox=\"0 0 24 24\"\n",
              "     width=\"24px\">\n",
              "    <g>\n",
              "        <path d=\"M19 3H5c-1.1 0-2 .9-2 2v14c0 1.1.9 2 2 2h14c1.1 0 2-.9 2-2V5c0-1.1-.9-2-2-2zM9 17H7v-7h2v7zm4 0h-2V7h2v10zm4 0h-2v-4h2v4z\"/>\n",
              "    </g>\n",
              "</svg>\n",
              "  </button>\n",
              "\n",
              "<style>\n",
              "  .colab-df-quickchart {\n",
              "      --bg-color: #E8F0FE;\n",
              "      --fill-color: #1967D2;\n",
              "      --hover-bg-color: #E2EBFA;\n",
              "      --hover-fill-color: #174EA6;\n",
              "      --disabled-fill-color: #AAA;\n",
              "      --disabled-bg-color: #DDD;\n",
              "  }\n",
              "\n",
              "  [theme=dark] .colab-df-quickchart {\n",
              "      --bg-color: #3B4455;\n",
              "      --fill-color: #D2E3FC;\n",
              "      --hover-bg-color: #434B5C;\n",
              "      --hover-fill-color: #FFFFFF;\n",
              "      --disabled-bg-color: #3B4455;\n",
              "      --disabled-fill-color: #666;\n",
              "  }\n",
              "\n",
              "  .colab-df-quickchart {\n",
              "    background-color: var(--bg-color);\n",
              "    border: none;\n",
              "    border-radius: 50%;\n",
              "    cursor: pointer;\n",
              "    display: none;\n",
              "    fill: var(--fill-color);\n",
              "    height: 32px;\n",
              "    padding: 0;\n",
              "    width: 32px;\n",
              "  }\n",
              "\n",
              "  .colab-df-quickchart:hover {\n",
              "    background-color: var(--hover-bg-color);\n",
              "    box-shadow: 0 1px 2px rgba(60, 64, 67, 0.3), 0 1px 3px 1px rgba(60, 64, 67, 0.15);\n",
              "    fill: var(--button-hover-fill-color);\n",
              "  }\n",
              "\n",
              "  .colab-df-quickchart-complete:disabled,\n",
              "  .colab-df-quickchart-complete:disabled:hover {\n",
              "    background-color: var(--disabled-bg-color);\n",
              "    fill: var(--disabled-fill-color);\n",
              "    box-shadow: none;\n",
              "  }\n",
              "\n",
              "  .colab-df-spinner {\n",
              "    border: 2px solid var(--fill-color);\n",
              "    border-color: transparent;\n",
              "    border-bottom-color: var(--fill-color);\n",
              "    animation:\n",
              "      spin 1s steps(1) infinite;\n",
              "  }\n",
              "\n",
              "  @keyframes spin {\n",
              "    0% {\n",
              "      border-color: transparent;\n",
              "      border-bottom-color: var(--fill-color);\n",
              "      border-left-color: var(--fill-color);\n",
              "    }\n",
              "    20% {\n",
              "      border-color: transparent;\n",
              "      border-left-color: var(--fill-color);\n",
              "      border-top-color: var(--fill-color);\n",
              "    }\n",
              "    30% {\n",
              "      border-color: transparent;\n",
              "      border-left-color: var(--fill-color);\n",
              "      border-top-color: var(--fill-color);\n",
              "      border-right-color: var(--fill-color);\n",
              "    }\n",
              "    40% {\n",
              "      border-color: transparent;\n",
              "      border-right-color: var(--fill-color);\n",
              "      border-top-color: var(--fill-color);\n",
              "    }\n",
              "    60% {\n",
              "      border-color: transparent;\n",
              "      border-right-color: var(--fill-color);\n",
              "    }\n",
              "    80% {\n",
              "      border-color: transparent;\n",
              "      border-right-color: var(--fill-color);\n",
              "      border-bottom-color: var(--fill-color);\n",
              "    }\n",
              "    90% {\n",
              "      border-color: transparent;\n",
              "      border-bottom-color: var(--fill-color);\n",
              "    }\n",
              "  }\n",
              "</style>\n",
              "\n",
              "  <script>\n",
              "    async function quickchart(key) {\n",
              "      const quickchartButtonEl =\n",
              "        document.querySelector('#' + key + ' button');\n",
              "      quickchartButtonEl.disabled = true;  // To prevent multiple clicks.\n",
              "      quickchartButtonEl.classList.add('colab-df-spinner');\n",
              "      try {\n",
              "        const charts = await google.colab.kernel.invokeFunction(\n",
              "            'suggestCharts', [key], {});\n",
              "      } catch (error) {\n",
              "        console.error('Error during call to suggestCharts:', error);\n",
              "      }\n",
              "      quickchartButtonEl.classList.remove('colab-df-spinner');\n",
              "      quickchartButtonEl.classList.add('colab-df-quickchart-complete');\n",
              "    }\n",
              "    (() => {\n",
              "      let quickchartButtonEl =\n",
              "        document.querySelector('#df-e7210786-3155-4268-bd79-06122acda726 button');\n",
              "      quickchartButtonEl.style.display =\n",
              "        google.colab.kernel.accessAllowed ? 'block' : 'none';\n",
              "    })();\n",
              "  </script>\n",
              "</div>\n",
              "    </div>\n",
              "  </div>\n"
            ]
          },
          "metadata": {},
          "execution_count": 342
        }
      ],
      "source": [
        "data = pd.read_csv(DATA_PATH)\n",
        "data = data[data['Outcome']==1]\n",
        "data"
      ]
    },
    {
      "cell_type": "markdown",
      "metadata": {
        "id": "Y1WS0oLvtyWe"
      },
      "source": [
        "Выберите, обоснуйте и визуализируйте:\n",
        "\n",
        "> Таргет клинических испытаний (первичную контрольную точку): уровень глюкозы, инсулина, толщину кожи и тд.;\n",
        "\n",
        "**Ответ:**"
      ]
    },
    {
      "cell_type": "code",
      "execution_count": 343,
      "metadata": {
        "id": "TtrjGVYYrMBB",
        "colab": {
          "base_uri": "https://localhost:8080/",
          "height": 209
        },
        "outputId": "dc6cbef0-4203-4e0c-f9aa-05a3f05bae58"
      },
      "outputs": [
        {
          "output_type": "display_data",
          "data": {
            "text/plain": [
              "<Figure size 1000x150 with 1 Axes>"
            ],
            "image/png": "[encoded data removed]"
          },
          "metadata": {}
        }
      ],
      "source": [
        "plt.figure(figsize=(10, 1.5))\n",
        "sns.boxplot(data[['Glucose','Insulin','SkinThickness']], orient='h')\n",
        "plt.title('First')\n",
        "plt.show()"
      ]
    },
    {
      "cell_type": "markdown",
      "metadata": {
        "id": "Vkj_jt4gvaNI"
      },
      "source": [
        "> Статистический критерий (название / односторонний или двусторонний / связные или независимые выборки);\n",
        "\n",
        "**Ответ:** двусторонний t-test, независимые выборки"
      ]
    },
    {
      "cell_type": "markdown",
      "metadata": {
        "id": "HgJ7CFyY2V3k"
      },
      "source": [
        "> Мощность критерия\n",
        "\n",
        "**Ответ:** 0.8"
      ]
    },
    {
      "cell_type": "markdown",
      "metadata": {
        "id": "ChHswB3A4WfC"
      },
      "source": [
        "> Желаемый минимальный детектируемый эффект;\n",
        "\n",
        "> Размер А и В групп;"
      ]
    },
    {
      "cell_type": "markdown",
      "metadata": {
        "id": "G_E94JxP4rTg"
      },
      "source": [
        "Будем подбирать по рассмотренной на семинаре таблице `MDE`-мощность-размер выборки"
      ]
    },
    {
      "cell_type": "code",
      "execution_count": 344,
      "metadata": {
        "id": "XzAT-346tu8l"
      },
      "outputs": [],
      "source": [
        "def get_mde(alpha, beta, sample_size, var_R, two_sided=False):\n",
        "    '''Расчитывает MDE\n",
        "\n",
        "    :param alpha: желаемая ошибка первого рода\n",
        "    :param beta: желаемая мощность\n",
        "    :param sample_size: размер выборок\n",
        "    :param var_R: оценка дисперсии выборок\n",
        "    :param two_sided: двусторонний ли критерий\n",
        "    :returns: теоретический MDE\n",
        "    '''\n",
        "\n",
        "    quantile = sps.norm.ppf(1-alpha) + sps.norm.ppf(beta)\n",
        "    return quantile * (var_R / sample_size)**0.5\n",
        "\n",
        "\n",
        "def get_sample_size(alpha, beta, mde, var_R, two_sided=False):\n",
        "    '''Расчитывает размер выборки для детектирование MDE\n",
        "\n",
        "    :param alpha: желаемая ошибка первого рода\n",
        "    :param beta: желаемая мощность\n",
        "    :param mde: необходимый эффект\n",
        "    :param var_R: дисперсии выборок\n",
        "    :returns: необходимый размер выборки\n",
        "    '''\n",
        "\n",
        "    quantile = sps.norm.ppf(1-alpha) + sps.norm.ppf(beta)\n",
        "    return (var_R * (quantile /mde) **2).astype(int)"
      ]
    },
    {
      "cell_type": "code",
      "execution_count": 345,
      "metadata": {
        "id": "ZbkXDP7a5X_1",
        "colab": {
          "base_uri": "https://localhost:8080/",
          "height": 332
        },
        "outputId": "feb70d56-b123-442e-80ae-38ed8d99de94"
      },
      "outputs": [
        {
          "output_type": "execute_result",
          "data": {
            "text/plain": [
              "      0.60  0.65  0.70  0.75  0.80  0.85  0.90   0.95\n",
              "0.01  3684  4214  4811  5500  6321  7351  8756  11065\n",
              "0.02   921  1053  1202  1375  1580  1837  2189   2766\n",
              "0.03   409   468   534   611   702   816   972   1229\n",
              "0.04   230   263   300   343   395   459   547    691\n",
              "0.05   147   168   192   220   252   294   350    442\n",
              "0.06   102   117   133   152   175   204   243    307\n",
              "0.07    75    86    98   112   129   150   178    225\n",
              "0.08    57    65    75    85    98   114   136    172\n",
              "0.09    45    52    59    67    78    90   108    136"
            ],
            "text/html": [
              "\n",
              "  <div id=\"df-6065f0f9-e5d6-4569-a977-27c40a6a8be1\" class=\"colab-df-container\">\n",
              "    <div>\n",
              "<style scoped>\n",
              "    .dataframe tbody tr th:only-of-type {\n",
              "        vertical-align: middle;\n",
              "    }\n",
              "\n",
              "    .dataframe tbody tr th {\n",
              "        vertical-align: top;\n",
              "    }\n",
              "\n",
              "    .dataframe thead th {\n",
              "        text-align: right;\n",
              "    }\n",
              "</style>\n",
              "<table border=\"1\" class=\"dataframe\">\n",
              "  <thead>\n",
              "    <tr style=\"text-align: right;\">\n",
              "      <th></th>\n",
              "      <th>0.60</th>\n",
              "      <th>0.65</th>\n",
              "      <th>0.70</th>\n",
              "      <th>0.75</th>\n",
              "      <th>0.80</th>\n",
              "      <th>0.85</th>\n",
              "      <th>0.90</th>\n",
              "      <th>0.95</th>\n",
              "    </tr>\n",
              "  </thead>\n",
              "  <tbody>\n",
              "    <tr>\n",
              "      <th>0.01</th>\n",
              "      <td>3684</td>\n",
              "      <td>4214</td>\n",
              "      <td>4811</td>\n",
              "      <td>5500</td>\n",
              "      <td>6321</td>\n",
              "      <td>7351</td>\n",
              "      <td>8756</td>\n",
              "      <td>11065</td>\n",
              "    </tr>\n",
              "    <tr>\n",
              "      <th>0.02</th>\n",
              "      <td>921</td>\n",
              "      <td>1053</td>\n",
              "      <td>1202</td>\n",
              "      <td>1375</td>\n",
              "      <td>1580</td>\n",
              "      <td>1837</td>\n",
              "      <td>2189</td>\n",
              "      <td>2766</td>\n",
              "    </tr>\n",
              "    <tr>\n",
              "      <th>0.03</th>\n",
              "      <td>409</td>\n",
              "      <td>468</td>\n",
              "      <td>534</td>\n",
              "      <td>611</td>\n",
              "      <td>702</td>\n",
              "      <td>816</td>\n",
              "      <td>972</td>\n",
              "      <td>1229</td>\n",
              "    </tr>\n",
              "    <tr>\n",
              "      <th>0.04</th>\n",
              "      <td>230</td>\n",
              "      <td>263</td>\n",
              "      <td>300</td>\n",
              "      <td>343</td>\n",
              "      <td>395</td>\n",
              "      <td>459</td>\n",
              "      <td>547</td>\n",
              "      <td>691</td>\n",
              "    </tr>\n",
              "    <tr>\n",
              "      <th>0.05</th>\n",
              "      <td>147</td>\n",
              "      <td>168</td>\n",
              "      <td>192</td>\n",
              "      <td>220</td>\n",
              "      <td>252</td>\n",
              "      <td>294</td>\n",
              "      <td>350</td>\n",
              "      <td>442</td>\n",
              "    </tr>\n",
              "    <tr>\n",
              "      <th>0.06</th>\n",
              "      <td>102</td>\n",
              "      <td>117</td>\n",
              "      <td>133</td>\n",
              "      <td>152</td>\n",
              "      <td>175</td>\n",
              "      <td>204</td>\n",
              "      <td>243</td>\n",
              "      <td>307</td>\n",
              "    </tr>\n",
              "    <tr>\n",
              "      <th>0.07</th>\n",
              "      <td>75</td>\n",
              "      <td>86</td>\n",
              "      <td>98</td>\n",
              "      <td>112</td>\n",
              "      <td>129</td>\n",
              "      <td>150</td>\n",
              "      <td>178</td>\n",
              "      <td>225</td>\n",
              "    </tr>\n",
              "    <tr>\n",
              "      <th>0.08</th>\n",
              "      <td>57</td>\n",
              "      <td>65</td>\n",
              "      <td>75</td>\n",
              "      <td>85</td>\n",
              "      <td>98</td>\n",
              "      <td>114</td>\n",
              "      <td>136</td>\n",
              "      <td>172</td>\n",
              "    </tr>\n",
              "    <tr>\n",
              "      <th>0.09</th>\n",
              "      <td>45</td>\n",
              "      <td>52</td>\n",
              "      <td>59</td>\n",
              "      <td>67</td>\n",
              "      <td>78</td>\n",
              "      <td>90</td>\n",
              "      <td>108</td>\n",
              "      <td>136</td>\n",
              "    </tr>\n",
              "  </tbody>\n",
              "</table>\n",
              "</div>\n",
              "    <div class=\"colab-df-buttons\">\n",
              "\n",
              "  <div class=\"colab-df-container\">\n",
              "    <button class=\"colab-df-convert\" onclick=\"convertToInteractive('df-6065f0f9-e5d6-4569-a977-27c40a6a8be1')\"\n",
              "            title=\"Convert this dataframe to an interactive table.\"\n",
              "            style=\"display:none;\">\n",
              "\n",
              "  <svg xmlns=\"http://www.w3.org/2000/svg\" height=\"24px\" viewBox=\"0 -960 960 960\">\n",
              "    <path d=\"M120-120v-720h720v720H120Zm60-500h600v-160H180v160Zm220 220h160v-160H400v160Zm0 220h160v-160H400v160ZM180-400h160v-160H180v160Zm440 0h160v-160H620v160ZM180-180h160v-160H180v160Zm440 0h160v-160H620v160Z\"/>\n",
              "  </svg>\n",
              "    </button>\n",
              "\n",
              "  <style>\n",
              "    .colab-df-container {\n",
              "      display:flex;\n",
              "      gap: 12px;\n",
              "    }\n",
              "\n",
              "    .colab-df-convert {\n",
              "      background-color: #E8F0FE;\n",
              "      border: none;\n",
              "      border-radius: 50%;\n",
              "      cursor: pointer;\n",
              "      display: none;\n",
              "      fill: #1967D2;\n",
              "      height: 32px;\n",
              "      padding: 0 0 0 0;\n",
              "      width: 32px;\n",
              "    }\n",
              "\n",
              "    .colab-df-convert:hover {\n",
              "      background-color: #E2EBFA;\n",
              "      box-shadow: 0px 1px 2px rgba(60, 64, 67, 0.3), 0px 1px 3px 1px rgba(60, 64, 67, 0.15);\n",
              "      fill: #174EA6;\n",
              "    }\n",
              "\n",
              "    .colab-df-buttons div {\n",
              "      margin-bottom: 4px;\n",
              "    }\n",
              "\n",
              "    [theme=dark] .colab-df-convert {\n",
              "      background-color: #3B4455;\n",
              "      fill: #D2E3FC;\n",
              "    }\n",
              "\n",
              "    [theme=dark] .colab-df-convert:hover {\n",
              "      background-color: #434B5C;\n",
              "      box-shadow: 0px 1px 3px 1px rgba(0, 0, 0, 0.15);\n",
              "      filter: drop-shadow(0px 1px 2px rgba(0, 0, 0, 0.3));\n",
              "      fill: #FFFFFF;\n",
              "    }\n",
              "  </style>\n",
              "\n",
              "    <script>\n",
              "      const buttonEl =\n",
              "        document.querySelector('#df-6065f0f9-e5d6-4569-a977-27c40a6a8be1 button.colab-df-convert');\n",
              "      buttonEl.style.display =\n",
              "        google.colab.kernel.accessAllowed ? 'block' : 'none';\n",
              "\n",
              "      async function convertToInteractive(key) {\n",
              "        const element = document.querySelector('#df-6065f0f9-e5d6-4569-a977-27c40a6a8be1');\n",
              "        const dataTable =\n",
              "          await google.colab.kernel.invokeFunction('convertToInteractive',\n",
              "                                                    [key], {});\n",
              "        if (!dataTable) return;\n",
              "\n",
              "        const docLinkHtml = 'Like what you see? Visit the ' +\n",
              "          '<a target=\"_blank\" href=https://colab.research.google.com/notebooks/data_table.ipynb>data table notebook</a>'\n",
              "          + ' to learn more about interactive tables.';\n",
              "        element.innerHTML = '';\n",
              "        dataTable['output_type'] = 'display_data';\n",
              "        await google.colab.output.renderOutput(dataTable, element);\n",
              "        const docLink = document.createElement('div');\n",
              "        docLink.innerHTML = docLinkHtml;\n",
              "        element.appendChild(docLink);\n",
              "      }\n",
              "    </script>\n",
              "  </div>\n",
              "\n",
              "\n",
              "<div id=\"df-48dff898-acd4-4ccd-a6ed-846825731611\">\n",
              "  <button class=\"colab-df-quickchart\" onclick=\"quickchart('df-48dff898-acd4-4ccd-a6ed-846825731611')\"\n",
              "            title=\"Suggest charts\"\n",
              "            style=\"display:none;\">\n",
              "\n",
              "<svg xmlns=\"http://www.w3.org/2000/svg\" height=\"24px\"viewBox=\"0 0 24 24\"\n",
              "     width=\"24px\">\n",
              "    <g>\n",
              "        <path d=\"M19 3H5c-1.1 0-2 .9-2 2v14c0 1.1.9 2 2 2h14c1.1 0 2-.9 2-2V5c0-1.1-.9-2-2-2zM9 17H7v-7h2v7zm4 0h-2V7h2v10zm4 0h-2v-4h2v4z\"/>\n",
              "    </g>\n",
              "</svg>\n",
              "  </button>\n",
              "\n",
              "<style>\n",
              "  .colab-df-quickchart {\n",
              "      --bg-color: #E8F0FE;\n",
              "      --fill-color: #1967D2;\n",
              "      --hover-bg-color: #E2EBFA;\n",
              "      --hover-fill-color: #174EA6;\n",
              "      --disabled-fill-color: #AAA;\n",
              "      --disabled-bg-color: #DDD;\n",
              "  }\n",
              "\n",
              "  [theme=dark] .colab-df-quickchart {\n",
              "      --bg-color: #3B4455;\n",
              "      --fill-color: #D2E3FC;\n",
              "      --hover-bg-color: #434B5C;\n",
              "      --hover-fill-color: #FFFFFF;\n",
              "      --disabled-bg-color: #3B4455;\n",
              "      --disabled-fill-color: #666;\n",
              "  }\n",
              "\n",
              "  .colab-df-quickchart {\n",
              "    background-color: var(--bg-color);\n",
              "    border: none;\n",
              "    border-radius: 50%;\n",
              "    cursor: pointer;\n",
              "    display: none;\n",
              "    fill: var(--fill-color);\n",
              "    height: 32px;\n",
              "    padding: 0;\n",
              "    width: 32px;\n",
              "  }\n",
              "\n",
              "  .colab-df-quickchart:hover {\n",
              "    background-color: var(--hover-bg-color);\n",
              "    box-shadow: 0 1px 2px rgba(60, 64, 67, 0.3), 0 1px 3px 1px rgba(60, 64, 67, 0.15);\n",
              "    fill: var(--button-hover-fill-color);\n",
              "  }\n",
              "\n",
              "  .colab-df-quickchart-complete:disabled,\n",
              "  .colab-df-quickchart-complete:disabled:hover {\n",
              "    background-color: var(--disabled-bg-color);\n",
              "    fill: var(--disabled-fill-color);\n",
              "    box-shadow: none;\n",
              "  }\n",
              "\n",
              "  .colab-df-spinner {\n",
              "    border: 2px solid var(--fill-color);\n",
              "    border-color: transparent;\n",
              "    border-bottom-color: var(--fill-color);\n",
              "    animation:\n",
              "      spin 1s steps(1) infinite;\n",
              "  }\n",
              "\n",
              "  @keyframes spin {\n",
              "    0% {\n",
              "      border-color: transparent;\n",
              "      border-bottom-color: var(--fill-color);\n",
              "      border-left-color: var(--fill-color);\n",
              "    }\n",
              "    20% {\n",
              "      border-color: transparent;\n",
              "      border-left-color: var(--fill-color);\n",
              "      border-top-color: var(--fill-color);\n",
              "    }\n",
              "    30% {\n",
              "      border-color: transparent;\n",
              "      border-left-color: var(--fill-color);\n",
              "      border-top-color: var(--fill-color);\n",
              "      border-right-color: var(--fill-color);\n",
              "    }\n",
              "    40% {\n",
              "      border-color: transparent;\n",
              "      border-right-color: var(--fill-color);\n",
              "      border-top-color: var(--fill-color);\n",
              "    }\n",
              "    60% {\n",
              "      border-color: transparent;\n",
              "      border-right-color: var(--fill-color);\n",
              "    }\n",
              "    80% {\n",
              "      border-color: transparent;\n",
              "      border-right-color: var(--fill-color);\n",
              "      border-bottom-color: var(--fill-color);\n",
              "    }\n",
              "    90% {\n",
              "      border-color: transparent;\n",
              "      border-bottom-color: var(--fill-color);\n",
              "    }\n",
              "  }\n",
              "</style>\n",
              "\n",
              "  <script>\n",
              "    async function quickchart(key) {\n",
              "      const quickchartButtonEl =\n",
              "        document.querySelector('#' + key + ' button');\n",
              "      quickchartButtonEl.disabled = true;  // To prevent multiple clicks.\n",
              "      quickchartButtonEl.classList.add('colab-df-spinner');\n",
              "      try {\n",
              "        const charts = await google.colab.kernel.invokeFunction(\n",
              "            'suggestCharts', [key], {});\n",
              "      } catch (error) {\n",
              "        console.error('Error during call to suggestCharts:', error);\n",
              "      }\n",
              "      quickchartButtonEl.classList.remove('colab-df-spinner');\n",
              "      quickchartButtonEl.classList.add('colab-df-quickchart-complete');\n",
              "    }\n",
              "    (() => {\n",
              "      let quickchartButtonEl =\n",
              "        document.querySelector('#df-48dff898-acd4-4ccd-a6ed-846825731611 button');\n",
              "      quickchartButtonEl.style.display =\n",
              "        google.colab.kernel.accessAllowed ? 'block' : 'none';\n",
              "    })();\n",
              "  </script>\n",
              "</div>\n",
              "    </div>\n",
              "  </div>\n"
            ]
          },
          "metadata": {},
          "execution_count": 345
        }
      ],
      "source": [
        "mde_grid = np.arange(0.01, 0.1, 0.01).reshape(-1, 1)  # относительный MDE\n",
        "beta_grid = np.arange(0.6, 1, 0.05)  # мощность\n",
        "alpha = 0.05\n",
        "var = data['Glucose'].var() * 2 / (data['Glucose'].mean()**2)  # относительная дисперсия\n",
        "\n",
        "sample_sizes = get_sample_size(alpha,beta_grid,mde_grid,var)\n",
        "pd.DataFrame(sample_sizes, columns=beta_grid.reshape(-1), index=mde_grid.reshape(-1))"
      ]
    },
    {
      "cell_type": "markdown",
      "metadata": {
        "id": "ayHzW9KH-YCS"
      },
      "source": [
        "**Ответ:** mde 0.07 и мощность 0.8 -> 112. Размер выборки достаточен для проведения A-A теста"
      ]
    },
    {
      "cell_type": "markdown",
      "metadata": {
        "id": "DwcI5HVVAkXt"
      },
      "source": [
        "Для выбранного критерия проведите АА-тест по историческим данным. Если исторических данных оказалось недостаточно для вашей модели, придумайте способ решения проблемы."
      ]
    },
    {
      "cell_type": "code",
      "execution_count": 346,
      "metadata": {
        "id": "kOuYrVw2_9md"
      },
      "outputs": [],
      "source": [
        "sample_size = 98\n",
        "mde = 0.08\n",
        "alpha = 0.05"
      ]
    },
    {
      "cell_type": "code",
      "execution_count": 347,
      "metadata": {
        "id": "6DN_4VixAkXu"
      },
      "outputs": [],
      "source": [
        "def relative_ttest(x, y, alpha=0.05):\n",
        "    '''\n",
        "    Относительный t-test.\n",
        "\n",
        "    Аргументы:\n",
        "    x, y -- выборки одинакового размера\n",
        "    alpha -- уровень значимости\n",
        "\n",
        "    Возвращает:\n",
        "    stat -- статистика критерия\n",
        "    left_bound, right_bound -- границы дов. интервала\n",
        "    pvalue\n",
        "    '''\n",
        "\n",
        "    x_mean = np.mean(x)\n",
        "    y_mean = np.mean(y)\n",
        "\n",
        "    x_mean_var = np.var(x) / len(x)\n",
        "    y_mean_var = np.var(y) / len(y)\n",
        "\n",
        "    #print(x_mean,y_mean,x_mean_var,y_mean_var)\n",
        "\n",
        "\n",
        "    # https://habr.com/ru/companies/avito/articles/571094/\n",
        "    stat = (x_mean - y_mean) / y_mean\n",
        "    var = (\n",
        "        (x_mean_var + y_mean_var) / (y_mean)**2 +\n",
        "        y_mean_var * (\n",
        "            (x_mean - y_mean)**2 / y_mean** 4 +\n",
        "            2 * (x_mean - y_mean) / y_mean** 3\n",
        "        )\n",
        "    )\n",
        "    std = np.sqrt(var)\n",
        "\n",
        "\n",
        "    z_stat =  stat / std # считается дисперсия среднего статистики, поэтому не делим на корень\n",
        "    pvalue = 2*sps.norm.sf(np.abs(z_stat))\n",
        "\n",
        "    q = sps.norm.ppf(1 - alpha/2)\n",
        "    left_bound = - q * std\n",
        "    right_bound =  q * std\n",
        "\n",
        "    return stat, left_bound, right_bound, pvalue"
      ]
    },
    {
      "cell_type": "code",
      "source": [
        "# синтетический пример для отладки теста\n",
        "p_vals = []\n",
        "for i in tqdm(range(2000)):\n",
        "    # 4.a. Тестирую A/B-тест.\n",
        "    control,test = sps.expon(scale=10).rvs(2000),sps.expon(scale=10).rvs(2000)\n",
        "    p_val = relative_ttest(control,test,alpha=alpha)[3]\n",
        "    p_vals.append(p_val)\n",
        "\n",
        "p_vals = np.array(p_vals)"
      ],
      "metadata": {
        "colab": {
          "base_uri": "https://localhost:8080/"
        },
        "id": "pzxpyuKHxJbp",
        "outputId": "dceb9d0f-9036-4683-81ec-581c0b626267"
      },
      "execution_count": 261,
      "outputs": [
        {
          "output_type": "stream",
          "name": "stderr",
          "text": [
            "100%|██████████| 2000/2000 [00:05<00:00, 388.31it/s]\n"
          ]
        }
      ]
    },
    {
      "cell_type": "code",
      "execution_count": 352,
      "metadata": {
        "id": "TPg7tfjyDkAy",
        "colab": {
          "base_uri": "https://localhost:8080/"
        },
        "outputId": "cfa49511-691c-4349-9e24-ae33fb211143"
      },
      "outputs": [
        {
          "output_type": "stream",
          "name": "stderr",
          "text": [
            "100%|██████████| 2000/2000 [00:01<00:00, 1479.29it/s]\n"
          ]
        }
      ],
      "source": [
        "p_vals = []\n",
        "\n",
        "for i in tqdm(range(2000)):\n",
        "\n",
        "    sample1, sample2 = np.random.choice(data['Glucose'], (2, sample_size), replace=False)\n",
        "\n",
        "    p_val = relative_ttest(sample1,sample2,alpha=alpha)[3]\n",
        "    p_vals.append(p_val)\n",
        "\n",
        "p_vals = np.array(p_vals)"
      ]
    },
    {
      "cell_type": "code",
      "execution_count": 353,
      "metadata": {
        "id": "Qe8lIpNPEoxt"
      },
      "outputs": [],
      "source": [
        "def draw_interval(\n",
        "    real_alpha, left_alpha, right_alpha,\n",
        "    alpha=0.05, figsize=(7, 2)\n",
        "):\n",
        "    '''\n",
        "    Отрисовка интервала для реального уровня значимости\n",
        "    real_alpha -- оценка уровня значимости\n",
        "    left_alpha, right_alpha -- границы доверительного интервала\n",
        "    alpha -- теоретический уровень значимости\n",
        "    figsize -- размер фигуры matplotlib\n",
        "    '''\n",
        "\n",
        "    with sns.axes_style(\"whitegrid\"):\n",
        "        plt.figure(figsize=(6, 2))\n",
        "        plt.hlines(0, 0, 1, color='black', lw=2, alpha=0.6)\n",
        "        plt.vlines(alpha, -1, 1, color='red', lw=5, linestyle='--', alpha=0.6)\n",
        "        plt.fill_between(\n",
        "            [left_alpha, right_alpha], [0.15]*2, [-0.15]*2,\n",
        "            color='green', alpha=0.6\n",
        "        )\n",
        "        plt.scatter(real_alpha, 0, s=300, marker='*', color='red')\n",
        "        plt.xlim((min(alpha, left_alpha)-1e-3, max(alpha, right_alpha)+1e-3))\n",
        "        plt.title(\n",
        "            f'Доля отвержений = {100*real_alpha:.2f}%, '\n",
        "            f'интервал ({100*left_alpha:.2f}%, {100*right_alpha:.2f}%)'\n",
        "        )\n",
        "        plt.ylim((-0.5, 0.5))\n",
        "        plt.yticks([])\n",
        "        plt.tight_layout()\n",
        "        plt.show()"
      ]
    },
    {
      "cell_type": "code",
      "execution_count": 354,
      "metadata": {
        "id": "gCkan5fPE0Ro",
        "colab": {
          "base_uri": "https://localhost:8080/",
          "height": 207
        },
        "outputId": "b19760fc-3bef-4de5-8462-4b6080c022b2"
      },
      "outputs": [
        {
          "output_type": "stream",
          "name": "stdout",
          "text": [
            "Реальный уровень значимости: 0.06\n"
          ]
        },
        {
          "output_type": "display_data",
          "data": {
            "text/plain": [
              "<Figure size 600x200 with 1 Axes>"
            ],
            "image/png": "[encoded data removed]"
          },
          "metadata": {}
        }
      ],
      "source": [
        "real_alpha = (p_vals < alpha).mean()\n",
        "print(f'Реальный уровень значимости: {real_alpha.round(2)}')\n",
        "left_alpha, right_alpha = proportion_confint((p_vals < alpha).sum(), len(p_vals), method='wilson')\n",
        "draw_interval(real_alpha, left_alpha, right_alpha, alpha=alpha)"
      ]
    },
    {
      "cell_type": "markdown",
      "metadata": {
        "id": "kQ687217fORS"
      },
      "source": [
        "Посмотрите также на гистограмму p-value"
      ]
    },
    {
      "cell_type": "code",
      "execution_count": 355,
      "metadata": {
        "id": "2-fHP_TCfU33",
        "colab": {
          "base_uri": "https://localhost:8080/",
          "height": 401
        },
        "outputId": "d98b0fe5-7077-4294-825c-ff2fd1f22808"
      },
      "outputs": [
        {
          "output_type": "display_data",
          "data": {
            "text/plain": [
              "<Figure size 1000x400 with 1 Axes>"
            ],
            "image/png": "[encoded data removed]"
          },
          "metadata": {}
        }
      ],
      "source": [
        "sns.set_style(\"whitegrid\")\n",
        "\n",
        "plt.figure(figsize=(10, 4))\n",
        "plt.title('Гистограмма pvalue')\n",
        "sns.histplot(p_vals)\n",
        "plt.show()"
      ]
    },
    {
      "cell_type": "markdown",
      "metadata": {
        "id": "UE9wBtriHsaZ"
      },
      "source": [
        "Какие выводы о валидности выбранного критерия вы можете сделать?\n",
        "\n",
        "**Ответ:** критерий нормальный\n",
        "\n",
        "Проверьте также мощность критерия на выбранном `MDE`.\n"
      ]
    },
    {
      "cell_type": "code",
      "execution_count": 348,
      "metadata": {
        "id": "_ZOMPP6YHqJX",
        "colab": {
          "base_uri": "https://localhost:8080/"
        },
        "outputId": "626e407e-c7e0-4d40-aa00-22ab7709b2d3"
      },
      "outputs": [
        {
          "output_type": "stream",
          "name": "stderr",
          "text": [
            "100%|██████████| 2000/2000 [00:05<00:00, 359.64it/s]\n"
          ]
        }
      ],
      "source": [
        "pvals = []\n",
        "\n",
        "for _ in tqdm(range(2000)):\n",
        "    sample1, sample2 = np.random.choice(data['Glucose'], (2, sample_size), replace=False)\n",
        "\n",
        "    sample2 = sample2 * 1.09\n",
        "    sample2 += sps.norm.rvs(size=len(sample2), scale=10)\n",
        "\n",
        "    pvals.append(relative_ttest(sample2,sample1)[3])\n",
        "\n",
        "pvals = np.array(pvals)"
      ]
    },
    {
      "cell_type": "code",
      "execution_count": 349,
      "metadata": {
        "id": "eBL4O6CPIchI",
        "colab": {
          "base_uri": "https://localhost:8080/"
        },
        "outputId": "991ef145-e8b8-4139-c504-b76c3a02acf1"
      },
      "outputs": [
        {
          "output_type": "stream",
          "name": "stdout",
          "text": [
            "Реальная мощность критерия: 0.724\n"
          ]
        }
      ],
      "source": [
        "print(f'Реальная мощность критерия: {(pvals < alpha).mean().round(3)}')"
      ]
    },
    {
      "cell_type": "markdown",
      "metadata": {
        "id": "kuMtUTWK3ncc"
      },
      "source": [
        "**Вывод** реальная мощность ниже теоретической"
      ]
    },
    {
      "cell_type": "markdown",
      "metadata": {
        "id": "7rzDzIlMHlvw"
      },
      "source": [
        "---\n",
        "\n",
        "### Задача 4\n",
        "#### **Профиль физика**\n",
        "\n",
        "\n",
        "Рассмотрим [данные о звездах](https://www.kaggle.com/datasets/fernandolima23/classification-in-asteroseismology?select=classification_in_asteroseismology.csv) из предыдущего домашнего задания:\n",
        "\n",
        "Датасет содержит информацию о звездах, где `POP` - разделяет звёзды по классам. Нас будeт интересовать столбец `Dnu`."
      ]
    },
    {
      "cell_type": "markdown",
      "metadata": {
        "id": "A9C2t7KnRbRd"
      },
      "source": [
        "Считайте данные."
      ]
    },
    {
      "cell_type": "code",
      "source": [
        "od.download('https://www.kaggle.com/datasets/fernandolima23/classification-in-asteroseismology?select=classification_in_asteroseismology.csv')"
      ],
      "metadata": {
        "colab": {
          "base_uri": "https://localhost:8080/"
        },
        "id": "PTc7rV0uhN9q",
        "outputId": "fd5a30dd-f6d4-4d65-eb8e-2f2f0c241120"
      },
      "execution_count": 60,
      "outputs": [
        {
          "output_type": "stream",
          "name": "stdout",
          "text": [
            "Please provide your Kaggle credentials to download this dataset. Learn more: http://bit.ly/kaggle-creds\n",
            "Your Kaggle username: mashalovne\n",
            "Your Kaggle Key: ··········\n",
            "Downloading classification-in-asteroseismology.zip to ./classification-in-asteroseismology\n"
          ]
        },
        {
          "output_type": "stream",
          "name": "stderr",
          "text": [
            "100%|██████████| 10.7k/10.7k [00:00<00:00, 4.52MB/s]"
          ]
        },
        {
          "output_type": "stream",
          "name": "stdout",
          "text": [
            "\n"
          ]
        },
        {
          "output_type": "stream",
          "name": "stderr",
          "text": [
            "\n"
          ]
        }
      ]
    },
    {
      "cell_type": "code",
      "execution_count": 264,
      "metadata": {
        "id": "Kreg06DpWy8L"
      },
      "outputs": [],
      "source": [
        "df = pd.read_csv(\"/content/classification-in-asteroseismology/classification_in_asteroseismology.csv\")"
      ]
    },
    {
      "cell_type": "code",
      "execution_count": 272,
      "metadata": {
        "id": "3gSBpZWvRHtN",
        "colab": {
          "base_uri": "https://localhost:8080/",
          "height": 424
        },
        "outputId": "12bd9e6f-f6ec-4026-d2e4-bb08de4aa1e5"
      },
      "outputs": [
        {
          "output_type": "execute_result",
          "data": {
            "text/plain": [
              "      POP       Dnu      numax  epsilon\n",
              "0       1   4.44780   43.06289    0.985\n",
              "1       0   6.94399   74.07646    0.150\n",
              "2       1   2.64571   21.57891    0.855\n",
              "3       1   4.24168   32.13189    0.840\n",
              "4       0  10.44719  120.37356    0.275\n",
              "...   ...       ...        ...      ...\n",
              "996     0   5.51582   49.99920    0.060\n",
              "997     1   4.14823   32.09069    0.930\n",
              "998     1   3.98294   30.90257    0.880\n",
              "999     1   4.33893   45.62183    0.975\n",
              "1000    1   3.74869   37.94907    0.205\n",
              "\n",
              "[1001 rows x 4 columns]"
            ],
            "text/html": [
              "\n",
              "  <div id=\"df-8f340dea-7b20-4125-9f8c-e0ca32afbbba\" class=\"colab-df-container\">\n",
              "    <div>\n",
              "<style scoped>\n",
              "    .dataframe tbody tr th:only-of-type {\n",
              "        vertical-align: middle;\n",
              "    }\n",
              "\n",
              "    .dataframe tbody tr th {\n",
              "        vertical-align: top;\n",
              "    }\n",
              "\n",
              "    .dataframe thead th {\n",
              "        text-align: right;\n",
              "    }\n",
              "</style>\n",
              "<table border=\"1\" class=\"dataframe\">\n",
              "  <thead>\n",
              "    <tr style=\"text-align: right;\">\n",
              "      <th></th>\n",
              "      <th>POP</th>\n",
              "      <th>Dnu</th>\n",
              "      <th>numax</th>\n",
              "      <th>epsilon</th>\n",
              "    </tr>\n",
              "  </thead>\n",
              "  <tbody>\n",
              "    <tr>\n",
              "      <th>0</th>\n",
              "      <td>1</td>\n",
              "      <td>4.44780</td>\n",
              "      <td>43.06289</td>\n",
              "      <td>0.985</td>\n",
              "    </tr>\n",
              "    <tr>\n",
              "      <th>1</th>\n",
              "      <td>0</td>\n",
              "      <td>6.94399</td>\n",
              "      <td>74.07646</td>\n",
              "      <td>0.150</td>\n",
              "    </tr>\n",
              "    <tr>\n",
              "      <th>2</th>\n",
              "      <td>1</td>\n",
              "      <td>2.64571</td>\n",
              "      <td>21.57891</td>\n",
              "      <td>0.855</td>\n",
              "    </tr>\n",
              "    <tr>\n",
              "      <th>3</th>\n",
              "      <td>1</td>\n",
              "      <td>4.24168</td>\n",
              "      <td>32.13189</td>\n",
              "      <td>0.840</td>\n",
              "    </tr>\n",
              "    <tr>\n",
              "      <th>4</th>\n",
              "      <td>0</td>\n",
              "      <td>10.44719</td>\n",
              "      <td>120.37356</td>\n",
              "      <td>0.275</td>\n",
              "    </tr>\n",
              "    <tr>\n",
              "      <th>...</th>\n",
              "      <td>...</td>\n",
              "      <td>...</td>\n",
              "      <td>...</td>\n",
              "      <td>...</td>\n",
              "    </tr>\n",
              "    <tr>\n",
              "      <th>996</th>\n",
              "      <td>0</td>\n",
              "      <td>5.51582</td>\n",
              "      <td>49.99920</td>\n",
              "      <td>0.060</td>\n",
              "    </tr>\n",
              "    <tr>\n",
              "      <th>997</th>\n",
              "      <td>1</td>\n",
              "      <td>4.14823</td>\n",
              "      <td>32.09069</td>\n",
              "      <td>0.930</td>\n",
              "    </tr>\n",
              "    <tr>\n",
              "      <th>998</th>\n",
              "      <td>1</td>\n",
              "      <td>3.98294</td>\n",
              "      <td>30.90257</td>\n",
              "      <td>0.880</td>\n",
              "    </tr>\n",
              "    <tr>\n",
              "      <th>999</th>\n",
              "      <td>1</td>\n",
              "      <td>4.33893</td>\n",
              "      <td>45.62183</td>\n",
              "      <td>0.975</td>\n",
              "    </tr>\n",
              "    <tr>\n",
              "      <th>1000</th>\n",
              "      <td>1</td>\n",
              "      <td>3.74869</td>\n",
              "      <td>37.94907</td>\n",
              "      <td>0.205</td>\n",
              "    </tr>\n",
              "  </tbody>\n",
              "</table>\n",
              "<p>1001 rows × 4 columns</p>\n",
              "</div>\n",
              "    <div class=\"colab-df-buttons\">\n",
              "\n",
              "  <div class=\"colab-df-container\">\n",
              "    <button class=\"colab-df-convert\" onclick=\"convertToInteractive('df-8f340dea-7b20-4125-9f8c-e0ca32afbbba')\"\n",
              "            title=\"Convert this dataframe to an interactive table.\"\n",
              "            style=\"display:none;\">\n",
              "\n",
              "  <svg xmlns=\"http://www.w3.org/2000/svg\" height=\"24px\" viewBox=\"0 -960 960 960\">\n",
              "    <path d=\"M120-120v-720h720v720H120Zm60-500h600v-160H180v160Zm220 220h160v-160H400v160Zm0 220h160v-160H400v160ZM180-400h160v-160H180v160Zm440 0h160v-160H620v160ZM180-180h160v-160H180v160Zm440 0h160v-160H620v160Z\"/>\n",
              "  </svg>\n",
              "    </button>\n",
              "\n",
              "  <style>\n",
              "    .colab-df-container {\n",
              "      display:flex;\n",
              "      gap: 12px;\n",
              "    }\n",
              "\n",
              "    .colab-df-convert {\n",
              "      background-color: #E8F0FE;\n",
              "      border: none;\n",
              "      border-radius: 50%;\n",
              "      cursor: pointer;\n",
              "      display: none;\n",
              "      fill: #1967D2;\n",
              "      height: 32px;\n",
              "      padding: 0 0 0 0;\n",
              "      width: 32px;\n",
              "    }\n",
              "\n",
              "    .colab-df-convert:hover {\n",
              "      background-color: #E2EBFA;\n",
              "      box-shadow: 0px 1px 2px rgba(60, 64, 67, 0.3), 0px 1px 3px 1px rgba(60, 64, 67, 0.15);\n",
              "      fill: #174EA6;\n",
              "    }\n",
              "\n",
              "    .colab-df-buttons div {\n",
              "      margin-bottom: 4px;\n",
              "    }\n",
              "\n",
              "    [theme=dark] .colab-df-convert {\n",
              "      background-color: #3B4455;\n",
              "      fill: #D2E3FC;\n",
              "    }\n",
              "\n",
              "    [theme=dark] .colab-df-convert:hover {\n",
              "      background-color: #434B5C;\n",
              "      box-shadow: 0px 1px 3px 1px rgba(0, 0, 0, 0.15);\n",
              "      filter: drop-shadow(0px 1px 2px rgba(0, 0, 0, 0.3));\n",
              "      fill: #FFFFFF;\n",
              "    }\n",
              "  </style>\n",
              "\n",
              "    <script>\n",
              "      const buttonEl =\n",
              "        document.querySelector('#df-8f340dea-7b20-4125-9f8c-e0ca32afbbba button.colab-df-convert');\n",
              "      buttonEl.style.display =\n",
              "        google.colab.kernel.accessAllowed ? 'block' : 'none';\n",
              "\n",
              "      async function convertToInteractive(key) {\n",
              "        const element = document.querySelector('#df-8f340dea-7b20-4125-9f8c-e0ca32afbbba');\n",
              "        const dataTable =\n",
              "          await google.colab.kernel.invokeFunction('convertToInteractive',\n",
              "                                                    [key], {});\n",
              "        if (!dataTable) return;\n",
              "\n",
              "        const docLinkHtml = 'Like what you see? Visit the ' +\n",
              "          '<a target=\"_blank\" href=https://colab.research.google.com/notebooks/data_table.ipynb>data table notebook</a>'\n",
              "          + ' to learn more about interactive tables.';\n",
              "        element.innerHTML = '';\n",
              "        dataTable['output_type'] = 'display_data';\n",
              "        await google.colab.output.renderOutput(dataTable, element);\n",
              "        const docLink = document.createElement('div');\n",
              "        docLink.innerHTML = docLinkHtml;\n",
              "        element.appendChild(docLink);\n",
              "      }\n",
              "    </script>\n",
              "  </div>\n",
              "\n",
              "\n",
              "<div id=\"df-5aaf8cf6-16a4-4f46-939f-a7960c506964\">\n",
              "  <button class=\"colab-df-quickchart\" onclick=\"quickchart('df-5aaf8cf6-16a4-4f46-939f-a7960c506964')\"\n",
              "            title=\"Suggest charts\"\n",
              "            style=\"display:none;\">\n",
              "\n",
              "<svg xmlns=\"http://www.w3.org/2000/svg\" height=\"24px\"viewBox=\"0 0 24 24\"\n",
              "     width=\"24px\">\n",
              "    <g>\n",
              "        <path d=\"M19 3H5c-1.1 0-2 .9-2 2v14c0 1.1.9 2 2 2h14c1.1 0 2-.9 2-2V5c0-1.1-.9-2-2-2zM9 17H7v-7h2v7zm4 0h-2V7h2v10zm4 0h-2v-4h2v4z\"/>\n",
              "    </g>\n",
              "</svg>\n",
              "  </button>\n",
              "\n",
              "<style>\n",
              "  .colab-df-quickchart {\n",
              "      --bg-color: #E8F0FE;\n",
              "      --fill-color: #1967D2;\n",
              "      --hover-bg-color: #E2EBFA;\n",
              "      --hover-fill-color: #174EA6;\n",
              "      --disabled-fill-color: #AAA;\n",
              "      --disabled-bg-color: #DDD;\n",
              "  }\n",
              "\n",
              "  [theme=dark] .colab-df-quickchart {\n",
              "      --bg-color: #3B4455;\n",
              "      --fill-color: #D2E3FC;\n",
              "      --hover-bg-color: #434B5C;\n",
              "      --hover-fill-color: #FFFFFF;\n",
              "      --disabled-bg-color: #3B4455;\n",
              "      --disabled-fill-color: #666;\n",
              "  }\n",
              "\n",
              "  .colab-df-quickchart {\n",
              "    background-color: var(--bg-color);\n",
              "    border: none;\n",
              "    border-radius: 50%;\n",
              "    cursor: pointer;\n",
              "    display: none;\n",
              "    fill: var(--fill-color);\n",
              "    height: 32px;\n",
              "    padding: 0;\n",
              "    width: 32px;\n",
              "  }\n",
              "\n",
              "  .colab-df-quickchart:hover {\n",
              "    background-color: var(--hover-bg-color);\n",
              "    box-shadow: 0 1px 2px rgba(60, 64, 67, 0.3), 0 1px 3px 1px rgba(60, 64, 67, 0.15);\n",
              "    fill: var(--button-hover-fill-color);\n",
              "  }\n",
              "\n",
              "  .colab-df-quickchart-complete:disabled,\n",
              "  .colab-df-quickchart-complete:disabled:hover {\n",
              "    background-color: var(--disabled-bg-color);\n",
              "    fill: var(--disabled-fill-color);\n",
              "    box-shadow: none;\n",
              "  }\n",
              "\n",
              "  .colab-df-spinner {\n",
              "    border: 2px solid var(--fill-color);\n",
              "    border-color: transparent;\n",
              "    border-bottom-color: var(--fill-color);\n",
              "    animation:\n",
              "      spin 1s steps(1) infinite;\n",
              "  }\n",
              "\n",
              "  @keyframes spin {\n",
              "    0% {\n",
              "      border-color: transparent;\n",
              "      border-bottom-color: var(--fill-color);\n",
              "      border-left-color: var(--fill-color);\n",
              "    }\n",
              "    20% {\n",
              "      border-color: transparent;\n",
              "      border-left-color: var(--fill-color);\n",
              "      border-top-color: var(--fill-color);\n",
              "    }\n",
              "    30% {\n",
              "      border-color: transparent;\n",
              "      border-left-color: var(--fill-color);\n",
              "      border-top-color: var(--fill-color);\n",
              "      border-right-color: var(--fill-color);\n",
              "    }\n",
              "    40% {\n",
              "      border-color: transparent;\n",
              "      border-right-color: var(--fill-color);\n",
              "      border-top-color: var(--fill-color);\n",
              "    }\n",
              "    60% {\n",
              "      border-color: transparent;\n",
              "      border-right-color: var(--fill-color);\n",
              "    }\n",
              "    80% {\n",
              "      border-color: transparent;\n",
              "      border-right-color: var(--fill-color);\n",
              "      border-bottom-color: var(--fill-color);\n",
              "    }\n",
              "    90% {\n",
              "      border-color: transparent;\n",
              "      border-bottom-color: var(--fill-color);\n",
              "    }\n",
              "  }\n",
              "</style>\n",
              "\n",
              "  <script>\n",
              "    async function quickchart(key) {\n",
              "      const quickchartButtonEl =\n",
              "        document.querySelector('#' + key + ' button');\n",
              "      quickchartButtonEl.disabled = true;  // To prevent multiple clicks.\n",
              "      quickchartButtonEl.classList.add('colab-df-spinner');\n",
              "      try {\n",
              "        const charts = await google.colab.kernel.invokeFunction(\n",
              "            'suggestCharts', [key], {});\n",
              "      } catch (error) {\n",
              "        console.error('Error during call to suggestCharts:', error);\n",
              "      }\n",
              "      quickchartButtonEl.classList.remove('colab-df-spinner');\n",
              "      quickchartButtonEl.classList.add('colab-df-quickchart-complete');\n",
              "    }\n",
              "    (() => {\n",
              "      let quickchartButtonEl =\n",
              "        document.querySelector('#df-5aaf8cf6-16a4-4f46-939f-a7960c506964 button');\n",
              "      quickchartButtonEl.style.display =\n",
              "        google.colab.kernel.accessAllowed ? 'block' : 'none';\n",
              "    })();\n",
              "  </script>\n",
              "</div>\n",
              "    </div>\n",
              "  </div>\n"
            ]
          },
          "metadata": {},
          "execution_count": 272
        }
      ],
      "source": [
        "feature = df['Dnu']\n",
        "df"
      ]
    },
    {
      "cell_type": "markdown",
      "metadata": {
        "id": "kl5v4Kt_rinG"
      },
      "source": [
        "Получите таблицу `MDE`-мощности-размера выборки для параметра `Dnu` как в 3-м задании, но теперь проведя относительный ttest и написав его функцию."
      ]
    },
    {
      "cell_type": "code",
      "execution_count": 273,
      "metadata": {
        "id": "wF2EtTo-a4_1"
      },
      "outputs": [],
      "source": [
        "def relative_ttest(x, y, alpha=0.05):\n",
        "    '''\n",
        "    Относительный t-test.\n",
        "\n",
        "    Аргументы:\n",
        "    x, y -- выборки одинакового размера\n",
        "    alpha -- уровень значимости\n",
        "\n",
        "    Возвращает:\n",
        "    stat -- статистика критерия\n",
        "    left_bound, right_bound -- границы дов. интервала\n",
        "    pvalue\n",
        "    '''\n",
        "\n",
        "    x_mean = np.mean(x)\n",
        "    y_mean = np.mean(y)\n",
        "\n",
        "    x_mean_var = np.var(x) / len(x)\n",
        "    y_mean_var = np.var(y) / len(y)\n",
        "\n",
        "    #print(x_mean,y_mean,x_mean_var,y_mean_var)\n",
        "\n",
        "\n",
        "    # https://habr.com/ru/companies/avito/articles/571094/\n",
        "    stat = (x_mean - y_mean) / y_mean\n",
        "    var = (\n",
        "        (x_mean_var + y_mean_var) / (y_mean)**2 +\n",
        "        y_mean_var * (\n",
        "            (x_mean - y_mean)**2 / y_mean** 4 +\n",
        "            2 * (x_mean - y_mean) / y_mean** 3\n",
        "        )\n",
        "    )\n",
        "    std = np.sqrt(var)\n",
        "\n",
        "\n",
        "    z_stat =  stat / std # считается дисперсия среднего статистики, поэтому не делим на корень\n",
        "    pvalue = 2*sps.norm.sf(np.abs(z_stat))\n",
        "\n",
        "    q = sps.norm.ppf(1 - alpha/2)\n",
        "    left_bound = - q * std\n",
        "    right_bound =  q * std\n",
        "\n",
        "    return stat, left_bound, right_bound, pvalue"
      ]
    },
    {
      "cell_type": "code",
      "source": [
        "var"
      ],
      "metadata": {
        "colab": {
          "base_uri": "https://localhost:8080/"
        },
        "id": "1R3y05lx3WFm",
        "outputId": "9897229d-4874-4c90-852a-b4ac92445ecd"
      },
      "execution_count": 275,
      "outputs": [
        {
          "output_type": "execute_result",
          "data": {
            "text/plain": [
              "0.5390732988230494"
            ]
          },
          "metadata": {},
          "execution_count": 275
        }
      ]
    },
    {
      "cell_type": "code",
      "execution_count": 276,
      "metadata": {
        "id": "60RVXZxHqAhb",
        "colab": {
          "base_uri": "https://localhost:8080/",
          "height": 349
        },
        "outputId": "42078fea-be40-4cc1-a315-9d2abcc43434"
      },
      "outputs": [
        {
          "output_type": "stream",
          "name": "stdout",
          "text": [
            "(9, 8)\n"
          ]
        },
        {
          "output_type": "execute_result",
          "data": {
            "text/plain": [
              "       0.60   0.65   0.70   0.75   0.80   0.85   0.90   0.95\n",
              "0.01  19423  22218  25366  28998  33328  38755  46165  58339\n",
              "0.02   4855   5554   6341   7249   8332   9688  11541  14584\n",
              "0.03   2158   2468   2818   3222   3703   4306   5129   6482\n",
              "0.04   1213   1388   1585   1812   2083   2422   2885   3646\n",
              "0.05    776    888   1014   1159   1333   1550   1846   2333\n",
              "0.06    539    617    704    805    925   1076   1282   1620\n",
              "0.07    396    453    517    591    680    790    942   1190\n",
              "0.08    303    347    396    453    520    605    721    911\n",
              "0.09    239    274    313    358    411    478    569    720"
            ],
            "text/html": [
              "\n",
              "  <div id=\"df-524ab5dd-58ab-4323-8a29-5395ce630060\" class=\"colab-df-container\">\n",
              "    <div>\n",
              "<style scoped>\n",
              "    .dataframe tbody tr th:only-of-type {\n",
              "        vertical-align: middle;\n",
              "    }\n",
              "\n",
              "    .dataframe tbody tr th {\n",
              "        vertical-align: top;\n",
              "    }\n",
              "\n",
              "    .dataframe thead th {\n",
              "        text-align: right;\n",
              "    }\n",
              "</style>\n",
              "<table border=\"1\" class=\"dataframe\">\n",
              "  <thead>\n",
              "    <tr style=\"text-align: right;\">\n",
              "      <th></th>\n",
              "      <th>0.60</th>\n",
              "      <th>0.65</th>\n",
              "      <th>0.70</th>\n",
              "      <th>0.75</th>\n",
              "      <th>0.80</th>\n",
              "      <th>0.85</th>\n",
              "      <th>0.90</th>\n",
              "      <th>0.95</th>\n",
              "    </tr>\n",
              "  </thead>\n",
              "  <tbody>\n",
              "    <tr>\n",
              "      <th>0.01</th>\n",
              "      <td>19423</td>\n",
              "      <td>22218</td>\n",
              "      <td>25366</td>\n",
              "      <td>28998</td>\n",
              "      <td>33328</td>\n",
              "      <td>38755</td>\n",
              "      <td>46165</td>\n",
              "      <td>58339</td>\n",
              "    </tr>\n",
              "    <tr>\n",
              "      <th>0.02</th>\n",
              "      <td>4855</td>\n",
              "      <td>5554</td>\n",
              "      <td>6341</td>\n",
              "      <td>7249</td>\n",
              "      <td>8332</td>\n",
              "      <td>9688</td>\n",
              "      <td>11541</td>\n",
              "      <td>14584</td>\n",
              "    </tr>\n",
              "    <tr>\n",
              "      <th>0.03</th>\n",
              "      <td>2158</td>\n",
              "      <td>2468</td>\n",
              "      <td>2818</td>\n",
              "      <td>3222</td>\n",
              "      <td>3703</td>\n",
              "      <td>4306</td>\n",
              "      <td>5129</td>\n",
              "      <td>6482</td>\n",
              "    </tr>\n",
              "    <tr>\n",
              "      <th>0.04</th>\n",
              "      <td>1213</td>\n",
              "      <td>1388</td>\n",
              "      <td>1585</td>\n",
              "      <td>1812</td>\n",
              "      <td>2083</td>\n",
              "      <td>2422</td>\n",
              "      <td>2885</td>\n",
              "      <td>3646</td>\n",
              "    </tr>\n",
              "    <tr>\n",
              "      <th>0.05</th>\n",
              "      <td>776</td>\n",
              "      <td>888</td>\n",
              "      <td>1014</td>\n",
              "      <td>1159</td>\n",
              "      <td>1333</td>\n",
              "      <td>1550</td>\n",
              "      <td>1846</td>\n",
              "      <td>2333</td>\n",
              "    </tr>\n",
              "    <tr>\n",
              "      <th>0.06</th>\n",
              "      <td>539</td>\n",
              "      <td>617</td>\n",
              "      <td>704</td>\n",
              "      <td>805</td>\n",
              "      <td>925</td>\n",
              "      <td>1076</td>\n",
              "      <td>1282</td>\n",
              "      <td>1620</td>\n",
              "    </tr>\n",
              "    <tr>\n",
              "      <th>0.07</th>\n",
              "      <td>396</td>\n",
              "      <td>453</td>\n",
              "      <td>517</td>\n",
              "      <td>591</td>\n",
              "      <td>680</td>\n",
              "      <td>790</td>\n",
              "      <td>942</td>\n",
              "      <td>1190</td>\n",
              "    </tr>\n",
              "    <tr>\n",
              "      <th>0.08</th>\n",
              "      <td>303</td>\n",
              "      <td>347</td>\n",
              "      <td>396</td>\n",
              "      <td>453</td>\n",
              "      <td>520</td>\n",
              "      <td>605</td>\n",
              "      <td>721</td>\n",
              "      <td>911</td>\n",
              "    </tr>\n",
              "    <tr>\n",
              "      <th>0.09</th>\n",
              "      <td>239</td>\n",
              "      <td>274</td>\n",
              "      <td>313</td>\n",
              "      <td>358</td>\n",
              "      <td>411</td>\n",
              "      <td>478</td>\n",
              "      <td>569</td>\n",
              "      <td>720</td>\n",
              "    </tr>\n",
              "  </tbody>\n",
              "</table>\n",
              "</div>\n",
              "    <div class=\"colab-df-buttons\">\n",
              "\n",
              "  <div class=\"colab-df-container\">\n",
              "    <button class=\"colab-df-convert\" onclick=\"convertToInteractive('df-524ab5dd-58ab-4323-8a29-5395ce630060')\"\n",
              "            title=\"Convert this dataframe to an interactive table.\"\n",
              "            style=\"display:none;\">\n",
              "\n",
              "  <svg xmlns=\"http://www.w3.org/2000/svg\" height=\"24px\" viewBox=\"0 -960 960 960\">\n",
              "    <path d=\"M120-120v-720h720v720H120Zm60-500h600v-160H180v160Zm220 220h160v-160H400v160Zm0 220h160v-160H400v160ZM180-400h160v-160H180v160Zm440 0h160v-160H620v160ZM180-180h160v-160H180v160Zm440 0h160v-160H620v160Z\"/>\n",
              "  </svg>\n",
              "    </button>\n",
              "\n",
              "  <style>\n",
              "    .colab-df-container {\n",
              "      display:flex;\n",
              "      gap: 12px;\n",
              "    }\n",
              "\n",
              "    .colab-df-convert {\n",
              "      background-color: #E8F0FE;\n",
              "      border: none;\n",
              "      border-radius: 50%;\n",
              "      cursor: pointer;\n",
              "      display: none;\n",
              "      fill: #1967D2;\n",
              "      height: 32px;\n",
              "      padding: 0 0 0 0;\n",
              "      width: 32px;\n",
              "    }\n",
              "\n",
              "    .colab-df-convert:hover {\n",
              "      background-color: #E2EBFA;\n",
              "      box-shadow: 0px 1px 2px rgba(60, 64, 67, 0.3), 0px 1px 3px 1px rgba(60, 64, 67, 0.15);\n",
              "      fill: #174EA6;\n",
              "    }\n",
              "\n",
              "    .colab-df-buttons div {\n",
              "      margin-bottom: 4px;\n",
              "    }\n",
              "\n",
              "    [theme=dark] .colab-df-convert {\n",
              "      background-color: #3B4455;\n",
              "      fill: #D2E3FC;\n",
              "    }\n",
              "\n",
              "    [theme=dark] .colab-df-convert:hover {\n",
              "      background-color: #434B5C;\n",
              "      box-shadow: 0px 1px 3px 1px rgba(0, 0, 0, 0.15);\n",
              "      filter: drop-shadow(0px 1px 2px rgba(0, 0, 0, 0.3));\n",
              "      fill: #FFFFFF;\n",
              "    }\n",
              "  </style>\n",
              "\n",
              "    <script>\n",
              "      const buttonEl =\n",
              "        document.querySelector('#df-524ab5dd-58ab-4323-8a29-5395ce630060 button.colab-df-convert');\n",
              "      buttonEl.style.display =\n",
              "        google.colab.kernel.accessAllowed ? 'block' : 'none';\n",
              "\n",
              "      async function convertToInteractive(key) {\n",
              "        const element = document.querySelector('#df-524ab5dd-58ab-4323-8a29-5395ce630060');\n",
              "        const dataTable =\n",
              "          await google.colab.kernel.invokeFunction('convertToInteractive',\n",
              "                                                    [key], {});\n",
              "        if (!dataTable) return;\n",
              "\n",
              "        const docLinkHtml = 'Like what you see? Visit the ' +\n",
              "          '<a target=\"_blank\" href=https://colab.research.google.com/notebooks/data_table.ipynb>data table notebook</a>'\n",
              "          + ' to learn more about interactive tables.';\n",
              "        element.innerHTML = '';\n",
              "        dataTable['output_type'] = 'display_data';\n",
              "        await google.colab.output.renderOutput(dataTable, element);\n",
              "        const docLink = document.createElement('div');\n",
              "        docLink.innerHTML = docLinkHtml;\n",
              "        element.appendChild(docLink);\n",
              "      }\n",
              "    </script>\n",
              "  </div>\n",
              "\n",
              "\n",
              "<div id=\"df-a8be69eb-21b5-49b3-9b66-08ac4907ce65\">\n",
              "  <button class=\"colab-df-quickchart\" onclick=\"quickchart('df-a8be69eb-21b5-49b3-9b66-08ac4907ce65')\"\n",
              "            title=\"Suggest charts\"\n",
              "            style=\"display:none;\">\n",
              "\n",
              "<svg xmlns=\"http://www.w3.org/2000/svg\" height=\"24px\"viewBox=\"0 0 24 24\"\n",
              "     width=\"24px\">\n",
              "    <g>\n",
              "        <path d=\"M19 3H5c-1.1 0-2 .9-2 2v14c0 1.1.9 2 2 2h14c1.1 0 2-.9 2-2V5c0-1.1-.9-2-2-2zM9 17H7v-7h2v7zm4 0h-2V7h2v10zm4 0h-2v-4h2v4z\"/>\n",
              "    </g>\n",
              "</svg>\n",
              "  </button>\n",
              "\n",
              "<style>\n",
              "  .colab-df-quickchart {\n",
              "      --bg-color: #E8F0FE;\n",
              "      --fill-color: #1967D2;\n",
              "      --hover-bg-color: #E2EBFA;\n",
              "      --hover-fill-color: #174EA6;\n",
              "      --disabled-fill-color: #AAA;\n",
              "      --disabled-bg-color: #DDD;\n",
              "  }\n",
              "\n",
              "  [theme=dark] .colab-df-quickchart {\n",
              "      --bg-color: #3B4455;\n",
              "      --fill-color: #D2E3FC;\n",
              "      --hover-bg-color: #434B5C;\n",
              "      --hover-fill-color: #FFFFFF;\n",
              "      --disabled-bg-color: #3B4455;\n",
              "      --disabled-fill-color: #666;\n",
              "  }\n",
              "\n",
              "  .colab-df-quickchart {\n",
              "    background-color: var(--bg-color);\n",
              "    border: none;\n",
              "    border-radius: 50%;\n",
              "    cursor: pointer;\n",
              "    display: none;\n",
              "    fill: var(--fill-color);\n",
              "    height: 32px;\n",
              "    padding: 0;\n",
              "    width: 32px;\n",
              "  }\n",
              "\n",
              "  .colab-df-quickchart:hover {\n",
              "    background-color: var(--hover-bg-color);\n",
              "    box-shadow: 0 1px 2px rgba(60, 64, 67, 0.3), 0 1px 3px 1px rgba(60, 64, 67, 0.15);\n",
              "    fill: var(--button-hover-fill-color);\n",
              "  }\n",
              "\n",
              "  .colab-df-quickchart-complete:disabled,\n",
              "  .colab-df-quickchart-complete:disabled:hover {\n",
              "    background-color: var(--disabled-bg-color);\n",
              "    fill: var(--disabled-fill-color);\n",
              "    box-shadow: none;\n",
              "  }\n",
              "\n",
              "  .colab-df-spinner {\n",
              "    border: 2px solid var(--fill-color);\n",
              "    border-color: transparent;\n",
              "    border-bottom-color: var(--fill-color);\n",
              "    animation:\n",
              "      spin 1s steps(1) infinite;\n",
              "  }\n",
              "\n",
              "  @keyframes spin {\n",
              "    0% {\n",
              "      border-color: transparent;\n",
              "      border-bottom-color: var(--fill-color);\n",
              "      border-left-color: var(--fill-color);\n",
              "    }\n",
              "    20% {\n",
              "      border-color: transparent;\n",
              "      border-left-color: var(--fill-color);\n",
              "      border-top-color: var(--fill-color);\n",
              "    }\n",
              "    30% {\n",
              "      border-color: transparent;\n",
              "      border-left-color: var(--fill-color);\n",
              "      border-top-color: var(--fill-color);\n",
              "      border-right-color: var(--fill-color);\n",
              "    }\n",
              "    40% {\n",
              "      border-color: transparent;\n",
              "      border-right-color: var(--fill-color);\n",
              "      border-top-color: var(--fill-color);\n",
              "    }\n",
              "    60% {\n",
              "      border-color: transparent;\n",
              "      border-right-color: var(--fill-color);\n",
              "    }\n",
              "    80% {\n",
              "      border-color: transparent;\n",
              "      border-right-color: var(--fill-color);\n",
              "      border-bottom-color: var(--fill-color);\n",
              "    }\n",
              "    90% {\n",
              "      border-color: transparent;\n",
              "      border-bottom-color: var(--fill-color);\n",
              "    }\n",
              "  }\n",
              "</style>\n",
              "\n",
              "  <script>\n",
              "    async function quickchart(key) {\n",
              "      const quickchartButtonEl =\n",
              "        document.querySelector('#' + key + ' button');\n",
              "      quickchartButtonEl.disabled = true;  // To prevent multiple clicks.\n",
              "      quickchartButtonEl.classList.add('colab-df-spinner');\n",
              "      try {\n",
              "        const charts = await google.colab.kernel.invokeFunction(\n",
              "            'suggestCharts', [key], {});\n",
              "      } catch (error) {\n",
              "        console.error('Error during call to suggestCharts:', error);\n",
              "      }\n",
              "      quickchartButtonEl.classList.remove('colab-df-spinner');\n",
              "      quickchartButtonEl.classList.add('colab-df-quickchart-complete');\n",
              "    }\n",
              "    (() => {\n",
              "      let quickchartButtonEl =\n",
              "        document.querySelector('#df-a8be69eb-21b5-49b3-9b66-08ac4907ce65 button');\n",
              "      quickchartButtonEl.style.display =\n",
              "        google.colab.kernel.accessAllowed ? 'block' : 'none';\n",
              "    })();\n",
              "  </script>\n",
              "</div>\n",
              "    </div>\n",
              "  </div>\n"
            ]
          },
          "metadata": {},
          "execution_count": 276
        }
      ],
      "source": [
        "mde_grid = np.arange(0.01, 0.1, 0.01).reshape(-1, 1) # относительный MDE\n",
        "beta_grid = np.arange(0.6, 1, 0.05)  # мощность\n",
        "alpha = 0.05\n",
        "var = feature.var() * 2 / (feature.mean()**2)  # относительная дисперсия\n",
        "\n",
        "sample_sizes = get_sample_size(\n",
        "    alpha=alpha,\n",
        "    beta = beta_grid,\n",
        "    mde=mde_grid,\n",
        "    var_R=var\n",
        ")\n",
        "print(sample_sizes.shape)\n",
        "pd.DataFrame(sample_sizes, columns=beta_grid.reshape(-1), index=mde_grid.reshape(-1))"
      ]
    },
    {
      "cell_type": "markdown",
      "metadata": {
        "id": "VHJ42g36p_5p"
      },
      "source": [
        "Какие значения `MDE`, достоверности и размера выборки стоит выбрать?"
      ]
    },
    {
      "cell_type": "markdown",
      "metadata": {
        "id": "RzO-i0NfquGP"
      },
      "source": [
        "**Ответ:** 0.8 мощность и 0.09 эффект -> размер выборки подойдет для анализа теста\n"
      ]
    },
    {
      "cell_type": "markdown",
      "metadata": {
        "id": "sEXye15lrabq"
      },
      "source": [
        "Далее как в 3-й задаче по физике посмотрим на реальный уровень значимости, гистограмму p_value и реальный уровень значимости."
      ]
    },
    {
      "cell_type": "code",
      "execution_count": 283,
      "metadata": {
        "id": "W3Jpjr8NJ6cQ"
      },
      "outputs": [],
      "source": [
        "sample_size = 420\n",
        "mde = 0.09\n",
        "alpha = 0.05"
      ]
    },
    {
      "cell_type": "code",
      "execution_count": 288,
      "metadata": {
        "id": "Lg9cF2KGra0Z",
        "colab": {
          "base_uri": "https://localhost:8080/"
        },
        "outputId": "7f184c60-4a17-4895-b244-3281047f3e9b"
      },
      "outputs": [
        {
          "output_type": "stream",
          "name": "stderr",
          "text": [
            "100%|██████████| 2000/2000 [00:01<00:00, 1470.44it/s]\n"
          ]
        }
      ],
      "source": [
        "p_vals = []\n",
        "\n",
        "for i in tqdm(range(2000)):\n",
        "\n",
        "    sample1, sample2 = np.random.choice(feature, (2, sample_size), replace=False)\n",
        "\n",
        "    p_val = relative_ttest(sample1,sample2)[3]\n",
        "    p_vals.append(p_val)\n",
        "\n",
        "p_vals = np.array(p_vals)"
      ]
    },
    {
      "cell_type": "code",
      "execution_count": 289,
      "metadata": {
        "id": "mjVIM9vZra0Z",
        "colab": {
          "base_uri": "https://localhost:8080/",
          "height": 207
        },
        "outputId": "9dc30add-620f-45ca-ade9-25bc0ca89977"
      },
      "outputs": [
        {
          "output_type": "stream",
          "name": "stdout",
          "text": [
            "Реальный уровень значимости: 0.04\n"
          ]
        },
        {
          "output_type": "display_data",
          "data": {
            "text/plain": [
              "<Figure size 600x200 with 1 Axes>"
            ],
            "image/png": "[encoded data removed]"
          },
          "metadata": {}
        }
      ],
      "source": [
        "real_alpha = (p_vals < alpha).mean()\n",
        "print(f'Реальный уровень значимости: {real_alpha.round(2)}')\n",
        "left_alpha, right_alpha = proportion_confint((p_vals < alpha).sum(), len(p_vals), method='wilson')\n",
        "draw_interval(real_alpha, left_alpha, right_alpha, alpha=alpha)"
      ]
    },
    {
      "cell_type": "markdown",
      "metadata": {
        "id": "ZC6K_vJFra0a"
      },
      "source": [
        "Посмотрите также на гистограмму p-value."
      ]
    },
    {
      "cell_type": "code",
      "execution_count": 290,
      "metadata": {
        "id": "wVZGAZOKra0a",
        "colab": {
          "base_uri": "https://localhost:8080/",
          "height": 401
        },
        "outputId": "5660c2bc-7836-4e80-d2b6-c98ef21ad365"
      },
      "outputs": [
        {
          "output_type": "display_data",
          "data": {
            "text/plain": [
              "<Figure size 1000x400 with 1 Axes>"
            ],
            "image/png": "[encoded data removed]"
          },
          "metadata": {}
        }
      ],
      "source": [
        "sns.set_style(\"whitegrid\")\n",
        "\n",
        "plt.figure(figsize=(10, 4))\n",
        "plt.title('Гистограмма pvalue')\n",
        "sns.histplot(p_vals)\n",
        "plt.show()"
      ]
    },
    {
      "cell_type": "markdown",
      "metadata": {
        "id": "cOfErnmPra0a"
      },
      "source": [
        "Что можно сказать о валидности критерия?\n",
        "\n",
        "**Ответ:** критерий валиден"
      ]
    },
    {
      "cell_type": "markdown",
      "metadata": {
        "id": "q4LkXlT5JQmb"
      },
      "source": [
        "Проверьте также мощность критерия на выбранном `MDE`.\n"
      ]
    },
    {
      "cell_type": "code",
      "execution_count": 299,
      "metadata": {
        "id": "REjnKzsfra0a",
        "colab": {
          "base_uri": "https://localhost:8080/"
        },
        "outputId": "70f641c4-0cec-4fed-e6dd-94c1eadb5da9"
      },
      "outputs": [
        {
          "output_type": "stream",
          "name": "stderr",
          "text": [
            "100%|██████████| 2000/2000 [00:01<00:00, 1299.60it/s]\n"
          ]
        }
      ],
      "source": [
        "# синтетический пример для отладки теста\n",
        "p_vals = []\n",
        "for i in tqdm(range(2000)):\n",
        "    # 4.a. Тестирую A/B-тест.\n",
        "    control,test = sps.expon(scale=10).rvs(2000),sps.expon(scale=10).rvs(2000)\n",
        "    p_val = relative_ttest(control,test,alpha=alpha)[3]\n",
        "    p_vals.append(p_val)\n",
        "\n",
        "p_vals = np.array(p_vals)"
      ]
    },
    {
      "cell_type": "code",
      "source": [
        "pvals = []\n",
        "\n",
        "for _ in tqdm(range(2000)):\n",
        "    sample1, sample2 = np.random.choice(feature, (2, sample_size), replace=False)\n",
        "\n",
        "    sample2 = sample2 * 1.09\n",
        "    sample2 += sps.norm.rvs(size=len(sample2), scale=0.01)\n",
        "\n",
        "    pvals.append(relative_ttest(sample2,sample1)[3])\n",
        "\n",
        "pvals = np.array(pvals)"
      ],
      "metadata": {
        "colab": {
          "base_uri": "https://localhost:8080/"
        },
        "id": "QP0UKAAI5X-T",
        "outputId": "2cda0492-5cd5-4082-de68-defcb2f039f1"
      },
      "execution_count": 316,
      "outputs": [
        {
          "output_type": "stream",
          "name": "stderr",
          "text": [
            "100%|██████████| 2000/2000 [00:01<00:00, 1282.61it/s]\n"
          ]
        }
      ]
    },
    {
      "cell_type": "code",
      "execution_count": 317,
      "metadata": {
        "id": "0gXG9UwRra0a",
        "colab": {
          "base_uri": "https://localhost:8080/"
        },
        "outputId": "0bc01ffa-0b09-49cc-8c97-bce0408a5f7f"
      },
      "outputs": [
        {
          "output_type": "stream",
          "name": "stdout",
          "text": [
            "Реальная мощность критерия: 0.64\n"
          ]
        }
      ],
      "source": [
        "print(f'Реальная мощность критерия: {(pvals < alpha).mean().round(3)}')"
      ]
    },
    {
      "cell_type": "markdown",
      "source": [
        "Мощность критерия меньше теоретического"
      ],
      "metadata": {
        "id": "fdhuobrb5Sqj"
      }
    },
    {
      "cell_type": "markdown",
      "metadata": {
        "id": "YqbgiEWHTQsV"
      },
      "source": [
        "Теперь воспользуемся стратификацией. Будем разбивать на страты по параметру `POP` выборки."
      ]
    },
    {
      "cell_type": "markdown",
      "metadata": {
        "id": "FXToCwz3NoOA"
      },
      "source": [
        "Реализуйте функции для стратифицированного семплирования и стратифицированного относительного t-test. Заранее вспомните с семинара, какое семплирование какому тесту подходит. Не забудьте о возможности пост-стратификации. Какие методы подойдут вам, учитывая количество страт и размер выборки?\n",
        "\n",
        "**Ответ:**"
      ]
    },
    {
      "cell_type": "code",
      "execution_count": 318,
      "metadata": {
        "id": "lg9tOvfDWzEu"
      },
      "outputs": [],
      "source": [
        "def calculate_strata_weights(data):\n",
        "    '''\n",
        "    Вычисляет веса страт.\n",
        "\n",
        "    :param data: исходные данные\n",
        "    :return: веса страт\n",
        "    '''\n",
        "\n",
        "    strata_weights = data.groupby(by='strata')['sample'].count()\n",
        "    strata_weights = strata_weights / strata_weights.sum()\n",
        "    return strata_weights\n",
        "\n",
        "\n",
        "def weighted_mean(data, weights):\n",
        "    '''\n",
        "    Вычисляет взвешенное среднее.\n",
        "\n",
        "    :param data: данные\n",
        "    :param weights: веса страт\n",
        "    :return: взвешенное среднее\n",
        "    '''\n",
        "\n",
        "    strata_means = data.groupby(by='strata')['sample'].mean()\n",
        "    return np.sum(strata_means * weights)\n",
        "\n",
        "\n",
        "def simple_mean(data, weights):\n",
        "    '''\n",
        "    Вычисляет обычное выборочное среднее\n",
        "\n",
        "    :param data: данные\n",
        "    :param weights: не используется, нужен для совместимости\n",
        "    :return: выборочное среднее\n",
        "    '''\n",
        "\n",
        "    return data.sum()\n",
        "\n",
        "\n",
        "def random_sampler(data, sample_size):\n",
        "    '''\n",
        "    Случайное семплирование двух групп одного размера из данных.\n",
        "\n",
        "    :param data: исходные данные\n",
        "    :param sample_size: размер группы\n",
        "    :return: две группы данных\n",
        "    '''\n",
        "\n",
        "    choiced = data.sample(n=2 * sample_size)\n",
        "    return choiced.iloc[:sample_size], choiced.iloc[sample_size:]\n",
        "\n",
        "def stratified_sampler(data, sample_size):\n",
        "    '''\n",
        "    Стратифицированное семплирование выборок.\n",
        "\n",
        "    :param data: данные\n",
        "    :param sample_size: размер выборки\n",
        "    :return: две выборки\n",
        "    '''\n",
        "\n",
        "    groupped = data.groupby('strata')\n",
        "\n",
        "    # Веса страт\n",
        "    strata_weights = groupped.size() / len(data)\n",
        "\n",
        "    # Размер выборок\n",
        "    strata_sample_size = (sample_size * strata_weights).astype(int)\n",
        "\n",
        "    a_group, b_group = [], []\n",
        "    # Генерируем для каждой страты отдельно\n",
        "    for i, strata in enumerate(groupped):\n",
        "        a, b = random_sampler(strata[1], strata_sample_size[i])\n",
        "        a_group.append(a)\n",
        "        b_group.append(b)\n",
        "\n",
        "    return pd.concat(a_group), pd.concat(b_group)\n",
        "\n",
        "def weighted_var(data, strata_weights):\n",
        "    '''\n",
        "    Вычисляет взвешенную дисперсию при стратификации.\n",
        "\n",
        "    :param data: данные\n",
        "    :param strata_weights: веса страт\n",
        "    :return: дисперсия\n",
        "    '''\n",
        "\n",
        "    strata_vars = data.groupby(by='strata')['sample'].var()\n",
        "    return np.sum(strata_vars * strata_weights)\n",
        "\n",
        "def weighted_post_var(data, strata_weights):\n",
        "    '''\n",
        "    Вычисляет взвешенную дисперсию при постстратификации.\n",
        "\n",
        "    :param data: данные\n",
        "    :param strata_weights: веса страт\n",
        "    :return: дисперсия\n",
        "    '''\n",
        "\n",
        "    strata_vars = data.groupby(by='strata')['sample'].var()\n",
        "    weighted_var = (strata_vars * strata_weights).sum() / len(data)\n",
        "    post_addition = (strata_vars * (1-strata_weights)).sum() / (len(data)**2)\n",
        "    return weighted_var + post_addition\n",
        "\n",
        "\n",
        "def simple_var(data, strata_weights):\n",
        "    '''\n",
        "    Вычисляет обычную дисперсию при случайном семплировании.\n",
        "\n",
        "    :param data: данные\n",
        "    :param strata_weights: веса страт, не используется, нужен для совместимости\n",
        "    :return: дисперсия\n",
        "    '''\n",
        "\n",
        "    return data.var()"
      ]
    },
    {
      "cell_type": "code",
      "execution_count": 319,
      "metadata": {
        "id": "wysNrCaymVd4"
      },
      "outputs": [],
      "source": [
        "def stratified_ttest(x_data, y_data, strata_weights, method='random', alpha=0.05):\n",
        "    '''\n",
        "    Стратифицированный абсолютный t-test.\n",
        "\n",
        "    :param x_data: выборка вместе с информацией о стратах\n",
        "    :param y_data: выборка вместе с информацией о стратах\n",
        "    :param strata_weights: веса страт\n",
        "    :param method: метод 'random', 'stratified', 'post_stratified'\n",
        "    :param alpha: уровень значимости\n",
        "    :return: статистика критерия, границы доверительного интервала, p-value\n",
        "    '''\n",
        "\n",
        "    if method == 'random':\n",
        "        mean_function = simple_mean\n",
        "        var_function = simple_var\n",
        "    elif method == 'stratified':\n",
        "        mean_function = weighted_mean\n",
        "        var_function = weighted_var\n",
        "\n",
        "    x_mean = mean_function(x_data, strata_weights)\n",
        "    y_mean = mean_function(y_data, strata_weights)\n",
        "    x_var  =  var_function(x_data, strata_weights)\n",
        "    y_var  =  var_function(y_data, strata_weights)\n",
        "\n",
        "    stat = x_mean - y_mean\n",
        "    std = np.sqrt(x_var + y_var )\n",
        "\n",
        "    t_stat = np.sqrt(len(x_data)) * stat / std\n",
        "    pvalue = 2*sps.norm.sf(np.abs(t_stat))\n",
        "\n",
        "    q = sps.norm.ppf(1 - alpha/2)\n",
        "    left_bound = - q * std / np.sqrt(len(x_data))\n",
        "    right_bound = q * std / np.sqrt(len(x_data))\n",
        "\n",
        "    return stat, left_bound, right_bound, pvalue"
      ]
    },
    {
      "cell_type": "markdown",
      "metadata": {
        "id": "Xssc8jgQYprM"
      },
      "source": [
        "Теперь проверим корректность применения стратификации в нашем случае.\n",
        "\n",
        "Сначала создадим отдельный датасет для более удобной проверки. У него будет две колонки: `sample`, `strata`, которые соответствуют данным и разделением на страты у исходного датасета."
      ]
    },
    {
      "cell_type": "code",
      "execution_count": 320,
      "metadata": {
        "id": "nBYVVJYAzXlk",
        "colab": {
          "base_uri": "https://localhost:8080/",
          "height": 424
        },
        "outputId": "6f10b04c-2cdd-4508-d5d9-631b20543111"
      },
      "outputs": [
        {
          "output_type": "execute_result",
          "data": {
            "text/plain": [
              "      strata    sample\n",
              "0          1   4.44780\n",
              "1          0   6.94399\n",
              "2          1   2.64571\n",
              "3          1   4.24168\n",
              "4          0  10.44719\n",
              "...      ...       ...\n",
              "996        0   5.51582\n",
              "997        1   4.14823\n",
              "998        1   3.98294\n",
              "999        1   4.33893\n",
              "1000       1   3.74869\n",
              "\n",
              "[1001 rows x 2 columns]"
            ],
            "text/html": [
              "\n",
              "  <div id=\"df-7777c9e2-238a-4f13-a2cd-d1a2c9b47d66\" class=\"colab-df-container\">\n",
              "    <div>\n",
              "<style scoped>\n",
              "    .dataframe tbody tr th:only-of-type {\n",
              "        vertical-align: middle;\n",
              "    }\n",
              "\n",
              "    .dataframe tbody tr th {\n",
              "        vertical-align: top;\n",
              "    }\n",
              "\n",
              "    .dataframe thead th {\n",
              "        text-align: right;\n",
              "    }\n",
              "</style>\n",
              "<table border=\"1\" class=\"dataframe\">\n",
              "  <thead>\n",
              "    <tr style=\"text-align: right;\">\n",
              "      <th></th>\n",
              "      <th>strata</th>\n",
              "      <th>sample</th>\n",
              "    </tr>\n",
              "  </thead>\n",
              "  <tbody>\n",
              "    <tr>\n",
              "      <th>0</th>\n",
              "      <td>1</td>\n",
              "      <td>4.44780</td>\n",
              "    </tr>\n",
              "    <tr>\n",
              "      <th>1</th>\n",
              "      <td>0</td>\n",
              "      <td>6.94399</td>\n",
              "    </tr>\n",
              "    <tr>\n",
              "      <th>2</th>\n",
              "      <td>1</td>\n",
              "      <td>2.64571</td>\n",
              "    </tr>\n",
              "    <tr>\n",
              "      <th>3</th>\n",
              "      <td>1</td>\n",
              "      <td>4.24168</td>\n",
              "    </tr>\n",
              "    <tr>\n",
              "      <th>4</th>\n",
              "      <td>0</td>\n",
              "      <td>10.44719</td>\n",
              "    </tr>\n",
              "    <tr>\n",
              "      <th>...</th>\n",
              "      <td>...</td>\n",
              "      <td>...</td>\n",
              "    </tr>\n",
              "    <tr>\n",
              "      <th>996</th>\n",
              "      <td>0</td>\n",
              "      <td>5.51582</td>\n",
              "    </tr>\n",
              "    <tr>\n",
              "      <th>997</th>\n",
              "      <td>1</td>\n",
              "      <td>4.14823</td>\n",
              "    </tr>\n",
              "    <tr>\n",
              "      <th>998</th>\n",
              "      <td>1</td>\n",
              "      <td>3.98294</td>\n",
              "    </tr>\n",
              "    <tr>\n",
              "      <th>999</th>\n",
              "      <td>1</td>\n",
              "      <td>4.33893</td>\n",
              "    </tr>\n",
              "    <tr>\n",
              "      <th>1000</th>\n",
              "      <td>1</td>\n",
              "      <td>3.74869</td>\n",
              "    </tr>\n",
              "  </tbody>\n",
              "</table>\n",
              "<p>1001 rows × 2 columns</p>\n",
              "</div>\n",
              "    <div class=\"colab-df-buttons\">\n",
              "\n",
              "  <div class=\"colab-df-container\">\n",
              "    <button class=\"colab-df-convert\" onclick=\"convertToInteractive('df-7777c9e2-238a-4f13-a2cd-d1a2c9b47d66')\"\n",
              "            title=\"Convert this dataframe to an interactive table.\"\n",
              "            style=\"display:none;\">\n",
              "\n",
              "  <svg xmlns=\"http://www.w3.org/2000/svg\" height=\"24px\" viewBox=\"0 -960 960 960\">\n",
              "    <path d=\"M120-120v-720h720v720H120Zm60-500h600v-160H180v160Zm220 220h160v-160H400v160Zm0 220h160v-160H400v160ZM180-400h160v-160H180v160Zm440 0h160v-160H620v160ZM180-180h160v-160H180v160Zm440 0h160v-160H620v160Z\"/>\n",
              "  </svg>\n",
              "    </button>\n",
              "\n",
              "  <style>\n",
              "    .colab-df-container {\n",
              "      display:flex;\n",
              "      gap: 12px;\n",
              "    }\n",
              "\n",
              "    .colab-df-convert {\n",
              "      background-color: #E8F0FE;\n",
              "      border: none;\n",
              "      border-radius: 50%;\n",
              "      cursor: pointer;\n",
              "      display: none;\n",
              "      fill: #1967D2;\n",
              "      height: 32px;\n",
              "      padding: 0 0 0 0;\n",
              "      width: 32px;\n",
              "    }\n",
              "\n",
              "    .colab-df-convert:hover {\n",
              "      background-color: #E2EBFA;\n",
              "      box-shadow: 0px 1px 2px rgba(60, 64, 67, 0.3), 0px 1px 3px 1px rgba(60, 64, 67, 0.15);\n",
              "      fill: #174EA6;\n",
              "    }\n",
              "\n",
              "    .colab-df-buttons div {\n",
              "      margin-bottom: 4px;\n",
              "    }\n",
              "\n",
              "    [theme=dark] .colab-df-convert {\n",
              "      background-color: #3B4455;\n",
              "      fill: #D2E3FC;\n",
              "    }\n",
              "\n",
              "    [theme=dark] .colab-df-convert:hover {\n",
              "      background-color: #434B5C;\n",
              "      box-shadow: 0px 1px 3px 1px rgba(0, 0, 0, 0.15);\n",
              "      filter: drop-shadow(0px 1px 2px rgba(0, 0, 0, 0.3));\n",
              "      fill: #FFFFFF;\n",
              "    }\n",
              "  </style>\n",
              "\n",
              "    <script>\n",
              "      const buttonEl =\n",
              "        document.querySelector('#df-7777c9e2-238a-4f13-a2cd-d1a2c9b47d66 button.colab-df-convert');\n",
              "      buttonEl.style.display =\n",
              "        google.colab.kernel.accessAllowed ? 'block' : 'none';\n",
              "\n",
              "      async function convertToInteractive(key) {\n",
              "        const element = document.querySelector('#df-7777c9e2-238a-4f13-a2cd-d1a2c9b47d66');\n",
              "        const dataTable =\n",
              "          await google.colab.kernel.invokeFunction('convertToInteractive',\n",
              "                                                    [key], {});\n",
              "        if (!dataTable) return;\n",
              "\n",
              "        const docLinkHtml = 'Like what you see? Visit the ' +\n",
              "          '<a target=\"_blank\" href=https://colab.research.google.com/notebooks/data_table.ipynb>data table notebook</a>'\n",
              "          + ' to learn more about interactive tables.';\n",
              "        element.innerHTML = '';\n",
              "        dataTable['output_type'] = 'display_data';\n",
              "        await google.colab.output.renderOutput(dataTable, element);\n",
              "        const docLink = document.createElement('div');\n",
              "        docLink.innerHTML = docLinkHtml;\n",
              "        element.appendChild(docLink);\n",
              "      }\n",
              "    </script>\n",
              "  </div>\n",
              "\n",
              "\n",
              "<div id=\"df-be46cd2f-7c95-4f77-8479-97dbd569b324\">\n",
              "  <button class=\"colab-df-quickchart\" onclick=\"quickchart('df-be46cd2f-7c95-4f77-8479-97dbd569b324')\"\n",
              "            title=\"Suggest charts\"\n",
              "            style=\"display:none;\">\n",
              "\n",
              "<svg xmlns=\"http://www.w3.org/2000/svg\" height=\"24px\"viewBox=\"0 0 24 24\"\n",
              "     width=\"24px\">\n",
              "    <g>\n",
              "        <path d=\"M19 3H5c-1.1 0-2 .9-2 2v14c0 1.1.9 2 2 2h14c1.1 0 2-.9 2-2V5c0-1.1-.9-2-2-2zM9 17H7v-7h2v7zm4 0h-2V7h2v10zm4 0h-2v-4h2v4z\"/>\n",
              "    </g>\n",
              "</svg>\n",
              "  </button>\n",
              "\n",
              "<style>\n",
              "  .colab-df-quickchart {\n",
              "      --bg-color: #E8F0FE;\n",
              "      --fill-color: #1967D2;\n",
              "      --hover-bg-color: #E2EBFA;\n",
              "      --hover-fill-color: #174EA6;\n",
              "      --disabled-fill-color: #AAA;\n",
              "      --disabled-bg-color: #DDD;\n",
              "  }\n",
              "\n",
              "  [theme=dark] .colab-df-quickchart {\n",
              "      --bg-color: #3B4455;\n",
              "      --fill-color: #D2E3FC;\n",
              "      --hover-bg-color: #434B5C;\n",
              "      --hover-fill-color: #FFFFFF;\n",
              "      --disabled-bg-color: #3B4455;\n",
              "      --disabled-fill-color: #666;\n",
              "  }\n",
              "\n",
              "  .colab-df-quickchart {\n",
              "    background-color: var(--bg-color);\n",
              "    border: none;\n",
              "    border-radius: 50%;\n",
              "    cursor: pointer;\n",
              "    display: none;\n",
              "    fill: var(--fill-color);\n",
              "    height: 32px;\n",
              "    padding: 0;\n",
              "    width: 32px;\n",
              "  }\n",
              "\n",
              "  .colab-df-quickchart:hover {\n",
              "    background-color: var(--hover-bg-color);\n",
              "    box-shadow: 0 1px 2px rgba(60, 64, 67, 0.3), 0 1px 3px 1px rgba(60, 64, 67, 0.15);\n",
              "    fill: var(--button-hover-fill-color);\n",
              "  }\n",
              "\n",
              "  .colab-df-quickchart-complete:disabled,\n",
              "  .colab-df-quickchart-complete:disabled:hover {\n",
              "    background-color: var(--disabled-bg-color);\n",
              "    fill: var(--disabled-fill-color);\n",
              "    box-shadow: none;\n",
              "  }\n",
              "\n",
              "  .colab-df-spinner {\n",
              "    border: 2px solid var(--fill-color);\n",
              "    border-color: transparent;\n",
              "    border-bottom-color: var(--fill-color);\n",
              "    animation:\n",
              "      spin 1s steps(1) infinite;\n",
              "  }\n",
              "\n",
              "  @keyframes spin {\n",
              "    0% {\n",
              "      border-color: transparent;\n",
              "      border-bottom-color: var(--fill-color);\n",
              "      border-left-color: var(--fill-color);\n",
              "    }\n",
              "    20% {\n",
              "      border-color: transparent;\n",
              "      border-left-color: var(--fill-color);\n",
              "      border-top-color: var(--fill-color);\n",
              "    }\n",
              "    30% {\n",
              "      border-color: transparent;\n",
              "      border-left-color: var(--fill-color);\n",
              "      border-top-color: var(--fill-color);\n",
              "      border-right-color: var(--fill-color);\n",
              "    }\n",
              "    40% {\n",
              "      border-color: transparent;\n",
              "      border-right-color: var(--fill-color);\n",
              "      border-top-color: var(--fill-color);\n",
              "    }\n",
              "    60% {\n",
              "      border-color: transparent;\n",
              "      border-right-color: var(--fill-color);\n",
              "    }\n",
              "    80% {\n",
              "      border-color: transparent;\n",
              "      border-right-color: var(--fill-color);\n",
              "      border-bottom-color: var(--fill-color);\n",
              "    }\n",
              "    90% {\n",
              "      border-color: transparent;\n",
              "      border-bottom-color: var(--fill-color);\n",
              "    }\n",
              "  }\n",
              "</style>\n",
              "\n",
              "  <script>\n",
              "    async function quickchart(key) {\n",
              "      const quickchartButtonEl =\n",
              "        document.querySelector('#' + key + ' button');\n",
              "      quickchartButtonEl.disabled = true;  // To prevent multiple clicks.\n",
              "      quickchartButtonEl.classList.add('colab-df-spinner');\n",
              "      try {\n",
              "        const charts = await google.colab.kernel.invokeFunction(\n",
              "            'suggestCharts', [key], {});\n",
              "      } catch (error) {\n",
              "        console.error('Error during call to suggestCharts:', error);\n",
              "      }\n",
              "      quickchartButtonEl.classList.remove('colab-df-spinner');\n",
              "      quickchartButtonEl.classList.add('colab-df-quickchart-complete');\n",
              "    }\n",
              "    (() => {\n",
              "      let quickchartButtonEl =\n",
              "        document.querySelector('#df-be46cd2f-7c95-4f77-8479-97dbd569b324 button');\n",
              "      quickchartButtonEl.style.display =\n",
              "        google.colab.kernel.accessAllowed ? 'block' : 'none';\n",
              "    })();\n",
              "  </script>\n",
              "</div>\n",
              "    </div>\n",
              "  </div>\n"
            ]
          },
          "metadata": {},
          "execution_count": 320
        }
      ],
      "source": [
        "data = pd.DataFrame()\n",
        "data['strata'] = df['POP']\n",
        "data['sample'] = df['Dnu']\n",
        "data = data[['strata', 'sample']]\n",
        "data"
      ]
    },
    {
      "cell_type": "markdown",
      "metadata": {
        "id": "uY5Ny9Z9A85U"
      },
      "source": [
        "Посмотрите на `boxplot` для двух подгрупп."
      ]
    },
    {
      "cell_type": "code",
      "execution_count": 325,
      "metadata": {
        "id": "GcuSmRaLA85a",
        "colab": {
          "base_uri": "https://localhost:8080/",
          "height": 481
        },
        "outputId": "535738a7-50dd-46dd-d4f4-0b646d1eaf3f"
      },
      "outputs": [
        {
          "output_type": "execute_result",
          "data": {
            "text/plain": [
              "<Axes: xlabel='strata', ylabel='sample'>"
            ]
          },
          "metadata": {},
          "execution_count": 325
        },
        {
          "output_type": "display_data",
          "data": {
            "text/plain": [
              "<Figure size 640x480 with 1 Axes>"
            ],
            "image/png": "[encoded data removed]"
          },
          "metadata": {}
        }
      ],
      "source": [
        "sns.boxplot(data, x='strata', y='sample')"
      ]
    },
    {
      "cell_type": "code",
      "execution_count": 322,
      "metadata": {
        "id": "fvdvd8S0A85a",
        "colab": {
          "base_uri": "https://localhost:8080/"
        },
        "outputId": "80987ae4-ab36-4461-b35b-ef28fd2cd6dd"
      },
      "outputs": [
        {
          "output_type": "execute_result",
          "data": {
            "text/plain": [
              "713"
            ]
          },
          "metadata": {},
          "execution_count": 322
        }
      ],
      "source": [
        "data['strata'].sum()"
      ]
    },
    {
      "cell_type": "markdown",
      "metadata": {
        "id": "Y8Z4qz7LBFdx"
      },
      "source": [
        "Что вы можете сказать уже сейчас о том, повлияет ли стратификация на результаты теста?"
      ]
    },
    {
      "cell_type": "markdown",
      "metadata": {
        "id": "8Nqks4_oA85a"
      },
      "source": [
        "**Ответ:** Средние значительно отличаются, это позволит существенно уменьшить дисперсию. Есть незначительный дисбаланс классов, который может привести к нестабильности теста\n",
        "\n"
      ]
    },
    {
      "cell_type": "code",
      "execution_count": 334,
      "metadata": {
        "id": "EgHIkNQiMoPL",
        "colab": {
          "base_uri": "https://localhost:8080/"
        },
        "outputId": "7d5c70ca-935a-45a5-a408-11d83721ee99"
      },
      "outputs": [
        {
          "output_type": "stream",
          "name": "stderr",
          "text": [
            "100%|██████████| 2000/2000 [00:14<00:00, 135.10it/s]\n"
          ]
        }
      ],
      "source": [
        "p_vals = []\n",
        "strata_weights = calculate_strata_weights(data)\n",
        "\n",
        "for i in tqdm(range(2000)):\n",
        "\n",
        "    control_sample, test_sample = random_sampler(data,sample_size=500)\n",
        "\n",
        "    p_vals.append(stratified_ttest(control_sample,test_sample,strata_weights,method='stratified')[3])\n",
        "\n",
        "p_vals = np.array(p_vals)"
      ]
    },
    {
      "cell_type": "markdown",
      "metadata": {
        "id": "J3zVk4m5hL8v"
      },
      "source": [
        "Посмотрите также на реальный уровень значимости и гистограмму p-value"
      ]
    },
    {
      "cell_type": "code",
      "execution_count": 335,
      "metadata": {
        "id": "KTTC1qJyMoPM",
        "colab": {
          "base_uri": "https://localhost:8080/",
          "height": 207
        },
        "outputId": "2a545108-132e-4f3c-d49a-e48b0f05a301"
      },
      "outputs": [
        {
          "output_type": "stream",
          "name": "stdout",
          "text": [
            "Реальный уровень значимости: 0.05\n"
          ]
        },
        {
          "output_type": "display_data",
          "data": {
            "text/plain": [
              "<Figure size 600x200 with 1 Axes>"
            ],
            "image/png": "[encoded data removed]"
          },
          "metadata": {}
        }
      ],
      "source": [
        "real_alpha = (p_vals < alpha).mean()\n",
        "print(f'Реальный уровень значимости: {real_alpha.round(2)}')\n",
        "left_alpha, right_alpha = proportion_confint((p_vals < alpha).sum(), len(p_vals), method='wilson')\n",
        "draw_interval(real_alpha, left_alpha, right_alpha, alpha=alpha)"
      ]
    },
    {
      "cell_type": "markdown",
      "metadata": {
        "id": "uKxLDWHNMoPM"
      },
      "source": [
        "Корректны ли выбранные методы?\n",
        "\n",
        "**Ответ:** Да\n",
        "\n",
        "Посмотрите на мощность критерия. Улучшилась ли мощность по сравнению с обработкой без стратификации?"
      ]
    },
    {
      "cell_type": "code",
      "execution_count": 339,
      "metadata": {
        "id": "lbIAm-xuOKDr",
        "colab": {
          "base_uri": "https://localhost:8080/"
        },
        "outputId": "f8f0d8ae-7ca9-4f03-cb34-ca30f0445adb"
      },
      "outputs": [
        {
          "output_type": "stream",
          "name": "stderr",
          "text": [
            "100%|██████████| 2000/2000 [00:12<00:00, 155.15it/s]\n"
          ]
        }
      ],
      "source": [
        "p_vals = []\n",
        "strata_weights = calculate_strata_weights(data)\n",
        "\n",
        "for i in tqdm(range(2000)):\n",
        "\n",
        "    control_sample, test_sample = random_sampler(data,sample_size=500)\n",
        "\n",
        "    test_sample['sample'] *= 1.09\n",
        "\n",
        "\n",
        "    test_sample['sample'] += sps.norm.rvs(size=len(test_sample), scale=0.01)\n",
        "\n",
        "    p_vals.append(stratified_ttest(control_sample,test_sample,strata_weights,method='stratified')[3])\n",
        "\n",
        "p_vals = np.array(p_vals)"
      ]
    },
    {
      "cell_type": "code",
      "execution_count": 340,
      "metadata": {
        "id": "7FQTjjpIMoPM",
        "colab": {
          "base_uri": "https://localhost:8080/"
        },
        "outputId": "baaa78b1-d7cc-4b9d-e1b7-5bc7d62e48e1"
      },
      "outputs": [
        {
          "output_type": "stream",
          "name": "stdout",
          "text": [
            "Реальная мощность критерия: 0.64\n"
          ]
        }
      ],
      "source": [
        "print(f'Реальная мощность критерия: {(pvals < alpha).mean().round(3)}')"
      ]
    },
    {
      "cell_type": "markdown",
      "metadata": {
        "id": "K6j5qKaQMoPM"
      },
      "source": [
        "**Ответ на вопрос о мощности:** мощность теста такая же как и относительного не стратифицированного"
      ]
    },
    {
      "cell_type": "markdown",
      "metadata": {
        "id": "mVULcgSUGK7U"
      },
      "source": [
        "---\n",
        "### Задача 5\n",
        "\n",
        "Рассмотренные нами методы стратификации работают в случае стратифицированного семплирования, либо же случайного семплирования. Во втором случае метод называется постстратификацией. Однако, как мы видели на занятии, при наличии сильных перекосов в соотношении между стратами вероятность ошибки 1 рода может сильно увеличиваться.\n",
        "\n",
        "Промоделируйте распределение разности\n",
        "* обычного среднего\n",
        "* стратифицированного среднего\n",
        "\n",
        "при наличии сильных перекосов в соотношении между стратами и проинтерпретируйте результаты.\n",
        "\n",
        "Код для семплирования перекошенных данных и для семплирования разности средних есть в ноутбуке с занятия."
      ]
    },
    {
      "cell_type": "code",
      "execution_count": null,
      "metadata": {
        "id": "xoifM4PlGK7U"
      },
      "outputs": [],
      "source": []
    },
    {
      "cell_type": "markdown",
      "metadata": {
        "id": "ySPU4SPvGK7U"
      },
      "source": [
        "В чем же тогда проблема того, что стратифицированный t-test увеличивает вероятность ошибки 1 рода?\n",
        "\n",
        "...\n",
        "\n",
        "Можно ли как-то исправить его с помощью некоторой универсальной статистической процедуры?\n",
        "\n",
        "..."
      ]
    },
    {
      "cell_type": "markdown",
      "metadata": {
        "id": "QqBrDESBGK7V"
      },
      "source": [
        "Реализуйте эту процедруру."
      ]
    },
    {
      "cell_type": "code",
      "execution_count": null,
      "metadata": {
        "id": "5DTWUCD2GK7V"
      },
      "outputs": [],
      "source": []
    },
    {
      "cell_type": "markdown",
      "metadata": {
        "id": "GQsxz3fLGK7V"
      },
      "source": [
        "Провалидируйте полученный тест, а также сравните его по мощности со стандартным t-test. Используйте код с занятий."
      ]
    },
    {
      "cell_type": "code",
      "execution_count": null,
      "metadata": {
        "id": "RCGRSL_sGK7V"
      },
      "outputs": [],
      "source": []
    }
  ],
  "metadata": {
    "colab": {
      "provenance": [],
      "include_colab_link": true
    },
    "kernelspec": {
      "display_name": "Python 3",
      "name": "python3"
    },
    "language_info": {
      "name": "python"
    }
  },
  "nbformat": 4,
  "nbformat_minor": 0
}