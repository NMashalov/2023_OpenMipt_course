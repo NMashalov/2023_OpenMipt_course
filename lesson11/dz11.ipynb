{
  "cells": [
    {
      "cell_type": "markdown",
      "metadata": {
        "id": "view-in-github",
        "colab_type": "text"
      },
      "source": [
        "<a href=\"https://colab.research.google.com/github/NMashalov/2023_OpenMipt_course/blob/main/lesson11/dz11.ipynb\" target=\"_parent\"><img src=\"https://colab.research.google.com/assets/colab-badge.svg\" alt=\"Open In Colab\"/></a>"
      ]
    },
    {
      "cell_type": "markdown",
      "metadata": {
        "id": "vXwEzs46CObj"
      },
      "source": [
        "# <a href=\"https://miptstats.github.io/courses/ad_mipt.html\">Phystech@DataScience</a>\n",
        "## Домашнее задание 11\n",
        "\n",
        "**Правила, <font color=\"red\">прочитайте внимательно</font>:**\n",
        "\n",
        "* Выполненную работу нужно отправить телеграм-боту `@miptstats_pds_bot`. Для начала работы с ботом каждый раз отправляйте `/start`. **Работы, присланные иным способом, не принимаются.**\n",
        "* Дедлайн см. в боте. После дедлайна работы не принимаются кроме случаев наличия уважительной причины.\n",
        "* Прислать нужно ноутбук в формате `ipynb`.\n",
        "* Выполнять задание необходимо полностью самостоятельно. **При обнаружении списывания все участники списывания будут сдавать устный зачет.**\n",
        "* Решения, размещенные на каких-либо интернет-ресурсах, не принимаются. Кроме того, публикация решения в открытом доступе может быть приравнена к предоставлении возможности списать.\n",
        "* Для выполнения задания используйте этот ноутбук в качестве основы, ничего не удаляя из него. Можно добавлять необходимое количество ячеек.\n",
        "* Комментарии к решению пишите в markdown-ячейках.\n",
        "* Выполнение задания (ход решения, выводы и пр.) должно быть осуществлено на русском языке.\n",
        "* Если код будет не понятен проверяющему, оценка может быть снижена.\n",
        "* Никакой код из данного задания при проверке запускаться не будет. *Если код студента не выполнен, недописан и т.д., то он не оценивается.*\n",
        "* **Код из рассказанных на занятиях ноутбуков можно использовать без ограничений.**\n",
        "\n",
        "**Правила оформления теоретических задач:**\n",
        "\n",
        "* Решения необходимо прислать одним из следующих способов:\n",
        "  * фотографией в правильной ориентации, где все четко видно, а почерк разборчив,\n",
        "    * отправив ее как файл боту вместе с ноутбуком *или*\n",
        "    * вставив ее в ноутбук посредством `Edit -> Insert Image` (<font color=\"red\">фото, вставленные ссылкой, не принимаются</font>);\n",
        "  * в виде $\\LaTeX$ в markdown-ячейках.\n",
        "* Решения не проверяются, если какое-то требование не выполнено. Особенно внимательно все проверьте в случае выбора второго пункта (вставки фото в ноутбук). <font color=\"red\"><b>Неправильно вставленные фотографии могут не передаться при отправке.</b></font> Для проверки попробуйте переместить `ipynb` в другую папку и открыть его там.\n",
        "* В решениях поясняйте, чем вы пользуетесь, хотя бы кратко. Например, если пользуетесь независимостью, то достаточно подписи вида \"*X и Y незав.*\"\n",
        "* Решение, в котором есть только ответ, и отсутствуют вычисления, оценивается в 0 баллов.\n",
        "\n",
        "\n",
        "**Баллы за задание:**\n",
        "\n",
        "* Задача 1 &mdash; 20 баллов\n",
        "* Задача 2 &mdash; 30 баллов\n",
        "* Задача 3 &mdash; 60 баллов\n",
        "* Задача 4 &mdash; 50 баллов\n",
        "* Задача 5 &mdash; 50 баллов\n",
        "\n",
        "\n",
        "\n",
        "\n",
        "\n",
        "-----"
      ]
    },
    {
      "cell_type": "code",
      "execution_count": 214,
      "metadata": {
        "id": "aBIdxQNbG2SV"
      },
      "outputs": [],
      "source": [
        "import scipy.stats as sps\n",
        "import numpy as np\n",
        "import pandas as pd\n",
        "from tqdm import tqdm\n",
        "from datetime import datetime, timedelta\n",
        "\n",
        "from statsmodels.stats.proportion import proportion_confint\n",
        "\n",
        "import warnings\n",
        "warnings.filterwarnings(\"ignore\")\n",
        "\n",
        "import matplotlib.pyplot as plt\n",
        "import seaborn as sns\n",
        "sns.set(style='whitegrid', font_scale=1.3, palette='Set2')"
      ]
    },
    {
      "cell_type": "code",
      "execution_count": 215,
      "metadata": {
        "id": "fRNJyuFXCObs"
      },
      "outputs": [],
      "source": [
        "# Bot check\n",
        "\n",
        "# HW_ID: phds_hw8\n",
        "# Бот проверит этот ID и предупредит, если случайно сдать что-то не то.\n",
        "\n",
        "# Status: not final\n",
        "# Перед отправкой в финальном решении удали \"not\" в строчке выше.\n",
        "# Так бот проверит, что ты отправляешь финальную версию, а не промежуточную.\n",
        "# Никакие значения в этой ячейке не влияют на факт сдачи работы."
      ]
    },
    {
      "cell_type": "markdown",
      "metadata": {
        "id": "chtQXPGHHSrl"
      },
      "source": [
        "---\n",
        "### Задача 1\n",
        "#### **Профиль физика**\n",
        "\n",
        "Рассмотрим [данные](https://drive.google.com/file/d/1qGNN9pcSg6safgxqvWeimQEPtlyggOYc/view?usp=share_link) из первой задачи прошлого домашнего задания, нам понадобится только поперечный импульс `pT` мюона $\\pi^+$ (`id = 211`). В предположении, что дисперсия значений не зависит от типа мюона, посчитайте с помощью формулы `MDE`, сколько мюонов каждого из двух исследуемых типов надо измерить, чтобы задетектировать разницу в средних импульсах равной 0.02? Можно ли снизить это число и из каких соображений? Сделайте соотвветсвующие вычисления"
      ]
    },
    {
      "cell_type": "markdown",
      "metadata": {
        "id": "uT2xyIMLqCog"
      },
      "source": [
        "Выгрузим данные."
      ]
    },
    {
      "cell_type": "code",
      "source": [
        "!gdown 1qGNN9pcSg6safgxqvWeimQEPtlyggOYc"
      ],
      "metadata": {
        "colab": {
          "base_uri": "https://localhost:8080/"
        },
        "id": "zq2T1mfkCXYv",
        "outputId": "7fcd76c7-2909-4804-a0b0-ceb149b91f8a"
      },
      "execution_count": 216,
      "outputs": [
        {
          "output_type": "stream",
          "name": "stdout",
          "text": [
            "Downloading...\n",
            "From: https://drive.google.com/uc?id=1qGNN9pcSg6safgxqvWeimQEPtlyggOYc\n",
            "To: /content/pi.csv\n",
            "100% 1.97M/1.97M [00:00<00:00, 13.9MB/s]\n"
          ]
        }
      ]
    },
    {
      "cell_type": "code",
      "execution_count": 217,
      "metadata": {
        "id": "yDtPWy_cWuFD",
        "colab": {
          "base_uri": "https://localhost:8080/",
          "height": 206
        },
        "outputId": "df1b5cdf-f116-47f9-88f0-12ec336b8f7a"
      },
      "outputs": [
        {
          "output_type": "execute_result",
          "data": {
            "text/plain": [
              "         pT        xF         E        mP       eta  type\n",
              "0  0.448320  0.099981  0.982772  9.059752  4.096336     0\n",
              "1  0.789911 -0.016602  0.814856  3.563486  2.518421     0\n",
              "2  0.499975 -0.124139  1.191020  2.074630  1.471015     1\n",
              "3  0.025370  0.004610  0.147337  4.236236  4.676719     0\n",
              "4  0.097505 -0.010402  0.192495  2.962972  2.724043     0"
            ],
            "text/html": [
              "\n",
              "  <div id=\"df-f52d694c-ed15-4b9b-ae29-f04c65d6e005\" class=\"colab-df-container\">\n",
              "    <div>\n",
              "<style scoped>\n",
              "    .dataframe tbody tr th:only-of-type {\n",
              "        vertical-align: middle;\n",
              "    }\n",
              "\n",
              "    .dataframe tbody tr th {\n",
              "        vertical-align: top;\n",
              "    }\n",
              "\n",
              "    .dataframe thead th {\n",
              "        text-align: right;\n",
              "    }\n",
              "</style>\n",
              "<table border=\"1\" class=\"dataframe\">\n",
              "  <thead>\n",
              "    <tr style=\"text-align: right;\">\n",
              "      <th></th>\n",
              "      <th>pT</th>\n",
              "      <th>xF</th>\n",
              "      <th>E</th>\n",
              "      <th>mP</th>\n",
              "      <th>eta</th>\n",
              "      <th>type</th>\n",
              "    </tr>\n",
              "  </thead>\n",
              "  <tbody>\n",
              "    <tr>\n",
              "      <th>0</th>\n",
              "      <td>0.448320</td>\n",
              "      <td>0.099981</td>\n",
              "      <td>0.982772</td>\n",
              "      <td>9.059752</td>\n",
              "      <td>4.096336</td>\n",
              "      <td>0</td>\n",
              "    </tr>\n",
              "    <tr>\n",
              "      <th>1</th>\n",
              "      <td>0.789911</td>\n",
              "      <td>-0.016602</td>\n",
              "      <td>0.814856</td>\n",
              "      <td>3.563486</td>\n",
              "      <td>2.518421</td>\n",
              "      <td>0</td>\n",
              "    </tr>\n",
              "    <tr>\n",
              "      <th>2</th>\n",
              "      <td>0.499975</td>\n",
              "      <td>-0.124139</td>\n",
              "      <td>1.191020</td>\n",
              "      <td>2.074630</td>\n",
              "      <td>1.471015</td>\n",
              "      <td>1</td>\n",
              "    </tr>\n",
              "    <tr>\n",
              "      <th>3</th>\n",
              "      <td>0.025370</td>\n",
              "      <td>0.004610</td>\n",
              "      <td>0.147337</td>\n",
              "      <td>4.236236</td>\n",
              "      <td>4.676719</td>\n",
              "      <td>0</td>\n",
              "    </tr>\n",
              "    <tr>\n",
              "      <th>4</th>\n",
              "      <td>0.097505</td>\n",
              "      <td>-0.010402</td>\n",
              "      <td>0.192495</td>\n",
              "      <td>2.962972</td>\n",
              "      <td>2.724043</td>\n",
              "      <td>0</td>\n",
              "    </tr>\n",
              "  </tbody>\n",
              "</table>\n",
              "</div>\n",
              "    <div class=\"colab-df-buttons\">\n",
              "\n",
              "  <div class=\"colab-df-container\">\n",
              "    <button class=\"colab-df-convert\" onclick=\"convertToInteractive('df-f52d694c-ed15-4b9b-ae29-f04c65d6e005')\"\n",
              "            title=\"Convert this dataframe to an interactive table.\"\n",
              "            style=\"display:none;\">\n",
              "\n",
              "  <svg xmlns=\"http://www.w3.org/2000/svg\" height=\"24px\" viewBox=\"0 -960 960 960\">\n",
              "    <path d=\"M120-120v-720h720v720H120Zm60-500h600v-160H180v160Zm220 220h160v-160H400v160Zm0 220h160v-160H400v160ZM180-400h160v-160H180v160Zm440 0h160v-160H620v160ZM180-180h160v-160H180v160Zm440 0h160v-160H620v160Z\"/>\n",
              "  </svg>\n",
              "    </button>\n",
              "\n",
              "  <style>\n",
              "    .colab-df-container {\n",
              "      display:flex;\n",
              "      gap: 12px;\n",
              "    }\n",
              "\n",
              "    .colab-df-convert {\n",
              "      background-color: #E8F0FE;\n",
              "      border: none;\n",
              "      border-radius: 50%;\n",
              "      cursor: pointer;\n",
              "      display: none;\n",
              "      fill: #1967D2;\n",
              "      height: 32px;\n",
              "      padding: 0 0 0 0;\n",
              "      width: 32px;\n",
              "    }\n",
              "\n",
              "    .colab-df-convert:hover {\n",
              "      background-color: #E2EBFA;\n",
              "      box-shadow: 0px 1px 2px rgba(60, 64, 67, 0.3), 0px 1px 3px 1px rgba(60, 64, 67, 0.15);\n",
              "      fill: #174EA6;\n",
              "    }\n",
              "\n",
              "    .colab-df-buttons div {\n",
              "      margin-bottom: 4px;\n",
              "    }\n",
              "\n",
              "    [theme=dark] .colab-df-convert {\n",
              "      background-color: #3B4455;\n",
              "      fill: #D2E3FC;\n",
              "    }\n",
              "\n",
              "    [theme=dark] .colab-df-convert:hover {\n",
              "      background-color: #434B5C;\n",
              "      box-shadow: 0px 1px 3px 1px rgba(0, 0, 0, 0.15);\n",
              "      filter: drop-shadow(0px 1px 2px rgba(0, 0, 0, 0.3));\n",
              "      fill: #FFFFFF;\n",
              "    }\n",
              "  </style>\n",
              "\n",
              "    <script>\n",
              "      const buttonEl =\n",
              "        document.querySelector('#df-f52d694c-ed15-4b9b-ae29-f04c65d6e005 button.colab-df-convert');\n",
              "      buttonEl.style.display =\n",
              "        google.colab.kernel.accessAllowed ? 'block' : 'none';\n",
              "\n",
              "      async function convertToInteractive(key) {\n",
              "        const element = document.querySelector('#df-f52d694c-ed15-4b9b-ae29-f04c65d6e005');\n",
              "        const dataTable =\n",
              "          await google.colab.kernel.invokeFunction('convertToInteractive',\n",
              "                                                    [key], {});\n",
              "        if (!dataTable) return;\n",
              "\n",
              "        const docLinkHtml = 'Like what you see? Visit the ' +\n",
              "          '<a target=\"_blank\" href=https://colab.research.google.com/notebooks/data_table.ipynb>data table notebook</a>'\n",
              "          + ' to learn more about interactive tables.';\n",
              "        element.innerHTML = '';\n",
              "        dataTable['output_type'] = 'display_data';\n",
              "        await google.colab.output.renderOutput(dataTable, element);\n",
              "        const docLink = document.createElement('div');\n",
              "        docLink.innerHTML = docLinkHtml;\n",
              "        element.appendChild(docLink);\n",
              "      }\n",
              "    </script>\n",
              "  </div>\n",
              "\n",
              "\n",
              "<div id=\"df-68e6cc19-74b5-4cf2-9219-80dc888c137f\">\n",
              "  <button class=\"colab-df-quickchart\" onclick=\"quickchart('df-68e6cc19-74b5-4cf2-9219-80dc888c137f')\"\n",
              "            title=\"Suggest charts\"\n",
              "            style=\"display:none;\">\n",
              "\n",
              "<svg xmlns=\"http://www.w3.org/2000/svg\" height=\"24px\"viewBox=\"0 0 24 24\"\n",
              "     width=\"24px\">\n",
              "    <g>\n",
              "        <path d=\"M19 3H5c-1.1 0-2 .9-2 2v14c0 1.1.9 2 2 2h14c1.1 0 2-.9 2-2V5c0-1.1-.9-2-2-2zM9 17H7v-7h2v7zm4 0h-2V7h2v10zm4 0h-2v-4h2v4z\"/>\n",
              "    </g>\n",
              "</svg>\n",
              "  </button>\n",
              "\n",
              "<style>\n",
              "  .colab-df-quickchart {\n",
              "      --bg-color: #E8F0FE;\n",
              "      --fill-color: #1967D2;\n",
              "      --hover-bg-color: #E2EBFA;\n",
              "      --hover-fill-color: #174EA6;\n",
              "      --disabled-fill-color: #AAA;\n",
              "      --disabled-bg-color: #DDD;\n",
              "  }\n",
              "\n",
              "  [theme=dark] .colab-df-quickchart {\n",
              "      --bg-color: #3B4455;\n",
              "      --fill-color: #D2E3FC;\n",
              "      --hover-bg-color: #434B5C;\n",
              "      --hover-fill-color: #FFFFFF;\n",
              "      --disabled-bg-color: #3B4455;\n",
              "      --disabled-fill-color: #666;\n",
              "  }\n",
              "\n",
              "  .colab-df-quickchart {\n",
              "    background-color: var(--bg-color);\n",
              "    border: none;\n",
              "    border-radius: 50%;\n",
              "    cursor: pointer;\n",
              "    display: none;\n",
              "    fill: var(--fill-color);\n",
              "    height: 32px;\n",
              "    padding: 0;\n",
              "    width: 32px;\n",
              "  }\n",
              "\n",
              "  .colab-df-quickchart:hover {\n",
              "    background-color: var(--hover-bg-color);\n",
              "    box-shadow: 0 1px 2px rgba(60, 64, 67, 0.3), 0 1px 3px 1px rgba(60, 64, 67, 0.15);\n",
              "    fill: var(--button-hover-fill-color);\n",
              "  }\n",
              "\n",
              "  .colab-df-quickchart-complete:disabled,\n",
              "  .colab-df-quickchart-complete:disabled:hover {\n",
              "    background-color: var(--disabled-bg-color);\n",
              "    fill: var(--disabled-fill-color);\n",
              "    box-shadow: none;\n",
              "  }\n",
              "\n",
              "  .colab-df-spinner {\n",
              "    border: 2px solid var(--fill-color);\n",
              "    border-color: transparent;\n",
              "    border-bottom-color: var(--fill-color);\n",
              "    animation:\n",
              "      spin 1s steps(1) infinite;\n",
              "  }\n",
              "\n",
              "  @keyframes spin {\n",
              "    0% {\n",
              "      border-color: transparent;\n",
              "      border-bottom-color: var(--fill-color);\n",
              "      border-left-color: var(--fill-color);\n",
              "    }\n",
              "    20% {\n",
              "      border-color: transparent;\n",
              "      border-left-color: var(--fill-color);\n",
              "      border-top-color: var(--fill-color);\n",
              "    }\n",
              "    30% {\n",
              "      border-color: transparent;\n",
              "      border-left-color: var(--fill-color);\n",
              "      border-top-color: var(--fill-color);\n",
              "      border-right-color: var(--fill-color);\n",
              "    }\n",
              "    40% {\n",
              "      border-color: transparent;\n",
              "      border-right-color: var(--fill-color);\n",
              "      border-top-color: var(--fill-color);\n",
              "    }\n",
              "    60% {\n",
              "      border-color: transparent;\n",
              "      border-right-color: var(--fill-color);\n",
              "    }\n",
              "    80% {\n",
              "      border-color: transparent;\n",
              "      border-right-color: var(--fill-color);\n",
              "      border-bottom-color: var(--fill-color);\n",
              "    }\n",
              "    90% {\n",
              "      border-color: transparent;\n",
              "      border-bottom-color: var(--fill-color);\n",
              "    }\n",
              "  }\n",
              "</style>\n",
              "\n",
              "  <script>\n",
              "    async function quickchart(key) {\n",
              "      const quickchartButtonEl =\n",
              "        document.querySelector('#' + key + ' button');\n",
              "      quickchartButtonEl.disabled = true;  // To prevent multiple clicks.\n",
              "      quickchartButtonEl.classList.add('colab-df-spinner');\n",
              "      try {\n",
              "        const charts = await google.colab.kernel.invokeFunction(\n",
              "            'suggestCharts', [key], {});\n",
              "      } catch (error) {\n",
              "        console.error('Error during call to suggestCharts:', error);\n",
              "      }\n",
              "      quickchartButtonEl.classList.remove('colab-df-spinner');\n",
              "      quickchartButtonEl.classList.add('colab-df-quickchart-complete');\n",
              "    }\n",
              "    (() => {\n",
              "      let quickchartButtonEl =\n",
              "        document.querySelector('#df-68e6cc19-74b5-4cf2-9219-80dc888c137f button');\n",
              "      quickchartButtonEl.style.display =\n",
              "        google.colab.kernel.accessAllowed ? 'block' : 'none';\n",
              "    })();\n",
              "  </script>\n",
              "</div>\n",
              "    </div>\n",
              "  </div>\n"
            ]
          },
          "metadata": {},
          "execution_count": 217
        }
      ],
      "source": [
        "df = pd.read_csv('pi.csv')\n",
        "df.head()"
      ]
    },
    {
      "cell_type": "markdown",
      "metadata": {
        "id": "v8Z0PE3AqGaU"
      },
      "source": [
        "Выделим нужные нам."
      ]
    },
    {
      "cell_type": "code",
      "execution_count": 218,
      "metadata": {
        "id": "ZDTjij-qWyy1"
      },
      "outputs": [],
      "source": [
        "pT_plus = df['pT']"
      ]
    },
    {
      "cell_type": "markdown",
      "metadata": {
        "id": "iy9iGQ1uqOh6"
      },
      "source": [
        "Посмотрим на гистограмму."
      ]
    },
    {
      "cell_type": "code",
      "execution_count": 219,
      "metadata": {
        "id": "2BZFd7tgW0Ux",
        "colab": {
          "base_uri": "https://localhost:8080/",
          "height": 454
        },
        "outputId": "ad277618-3268-46c2-b70f-0ac38fa449a7"
      },
      "outputs": [
        {
          "output_type": "display_data",
          "data": {
            "text/plain": [
              "<Figure size 1000x500 with 1 Axes>"
            ],
            "image/png": "[encoded data removed]"
          },
          "metadata": {}
        }
      ],
      "source": [
        "plt.figure(figsize=(10, 5))\n",
        "\n",
        "plt.hist(pT_plus, alpha=0.5, bins=100, density=True, label='$\\pi^+$')\n",
        "\n",
        "plt.legend()\n",
        "plt.show()"
      ]
    },
    {
      "cell_type": "markdown",
      "metadata": {
        "id": "ASXCwx42oleq"
      },
      "source": [
        "По формуле для `MDE` вычислите необходимый размер выборки."
      ]
    },
    {
      "cell_type": "code",
      "execution_count": 220,
      "metadata": {
        "id": "NqOgHZ3cXM76"
      },
      "outputs": [],
      "source": [
        "alpha = 0.05  # уровень значимости\n",
        "beta = 0.8  # мощности\n",
        "eps = 0.02  # размер эффекта\n",
        "\n",
        "# сумма квантилей\n",
        "q = sps.norm.ppf(1 - alpha) + sps.norm.ppf(beta)"
      ]
    },
    {
      "cell_type": "code",
      "execution_count": 221,
      "metadata": {
        "id": "2Df8ErH1XSZm",
        "colab": {
          "base_uri": "https://localhost:8080/"
        },
        "outputId": "b4965aa5-f426-4048-a0f2-14f1d153ac24"
      },
      "outputs": [
        {
          "output_type": "execute_result",
          "data": {
            "text/plain": [
              "(639.8013936429767, 0.04139396496513863)"
            ]
          },
          "metadata": {},
          "execution_count": 221
        }
      ],
      "source": [
        "var_0 = pT_plus.var()\n",
        "n_0 = q**2 * var_0/ eps**2\n",
        "\n",
        "n_0, var_0"
      ]
    },
    {
      "cell_type": "code",
      "execution_count": 222,
      "metadata": {
        "id": "st_2JzOVXSgj",
        "colab": {
          "base_uri": "https://localhost:8080/"
        },
        "outputId": "75fc6584-8810-4574-9dc4-143755040c36"
      },
      "outputs": [
        {
          "output_type": "execute_result",
          "data": {
            "text/plain": [
              "count    20000.000000\n",
              "mean         0.324110\n",
              "std          0.203455\n",
              "min          0.003435\n",
              "1%           0.031838\n",
              "13.2%        0.122675\n",
              "25.5%        0.179397\n",
              "37.8%        0.229964\n",
              "50%          0.284422\n",
              "62.3%        0.346122\n",
              "74.5%        0.424607\n",
              "86.8%        0.541018\n",
              "99%          0.976897\n",
              "max          2.113151\n",
              "Name: pT, dtype: float64"
            ]
          },
          "metadata": {},
          "execution_count": 222
        }
      ],
      "source": [
        "pT_plus.describe(np.linspace(0.01,0.99,9))"
      ]
    },
    {
      "cell_type": "markdown",
      "metadata": {
        "id": "cP3kFU8IMN85"
      },
      "source": [
        "Обрежем выбросы, чтобы уменьшить дисперсию\n",
        "\n",
        "**Внимание! Удалять выбросы можно только на основе данных до эксперимента. Например, не рассматривать в эксперименте пользователя, на котором произошел выброс. Удаление пользователей по выбросам по экспериментальным данных может привести к большим ошибкам.**"
      ]
    },
    {
      "cell_type": "code",
      "execution_count": 223,
      "metadata": {
        "id": "qvzb5xBXYk9m"
      },
      "outputs": [],
      "source": [
        "pT_plus = pT_plus[pT_plus < 0.97]"
      ]
    },
    {
      "cell_type": "code",
      "execution_count": 224,
      "metadata": {
        "id": "1e6aVP7wYlU6",
        "colab": {
          "base_uri": "https://localhost:8080/"
        },
        "outputId": "2651c866-22e8-4cfc-935b-bdf11e61400d"
      },
      "outputs": [
        {
          "output_type": "execute_result",
          "data": {
            "text/plain": [
              "(528.202596081394, 0.03417372949470209)"
            ]
          },
          "metadata": {},
          "execution_count": 224
        }
      ],
      "source": [
        "var_0 = pT_plus.var()\n",
        "n_0 = q**2 * var_0 / eps**2\n",
        "\n",
        "n_0, var_0"
      ]
    },
    {
      "cell_type": "markdown",
      "metadata": {
        "id": "sLOUF3-AlfUz"
      },
      "source": [
        "Посмотрим на зависимость размера выборки в исследовании от размера эффекта. Какой минимальный эффект можно зафиксировать с нашей выборкой?"
      ]
    },
    {
      "cell_type": "code",
      "execution_count": 225,
      "metadata": {
        "id": "QQlWDCI5lfcC",
        "colab": {
          "base_uri": "https://localhost:8080/",
          "height": 464
        },
        "outputId": "d01fa6f1-522b-4b8e-c588-42830ebedd3d"
      },
      "outputs": [
        {
          "output_type": "display_data",
          "data": {
            "text/plain": [
              "<Figure size 640x480 with 1 Axes>"
            ],
            "image/png": "[encoded data removed]"
          },
          "metadata": {}
        }
      ],
      "source": [
        "eps = np.linspace(0.01, 0.1, 100)\n",
        "n = q**2 * var_0 / eps**2\n",
        "\n",
        "plt.plot(eps, n, lw=3)\n",
        "plt.xlabel('Размер эффекта (MDE)')\n",
        "plt.ylabel('Размер выборки');"
      ]
    },
    {
      "cell_type": "code",
      "execution_count": 226,
      "metadata": {
        "id": "ns9aw2F5rbcX",
        "colab": {
          "base_uri": "https://localhost:8080/"
        },
        "outputId": "94a7df0f-28dc-4c96-f3aa-5731dffe0b75"
      },
      "outputs": [
        {
          "output_type": "execute_result",
          "data": {
            "text/plain": [
              "0.003267190435483464"
            ]
          },
          "metadata": {},
          "execution_count": 226
        }
      ],
      "source": [
        "(q**2 * var_0 / len(pT_plus))**0.5# минимальный эффект, который можно задетектировать с данной выборкой"
      ]
    },
    {
      "cell_type": "markdown",
      "metadata": {
        "id": "VbiLkltbioAj"
      },
      "source": [
        "### Задача 1\n",
        "#### **Профиль биология**\n",
        "\n",
        "Рассмотрим данные [данные по медицинским страховкам](https://www.kaggle.com/datasets/gauravduttakiit/medical-insurance-cost?select=Train_Data.csv) из задачи 2 задания по AВ тестам. С помощью формулы для `MDE` оцените количество клиентов страховых компаний, на которых нужно провести AB-тест новых рекомендаций по употреблению витаминов, чтобы задетектировать снижение средней стоимости страховки на 600 долларов. Считайте, что компании не расширяют свою клиентскую базу и данные представляют всех клиентов, которые могут участвовать в тесте"
      ]
    },
    {
      "cell_type": "code",
      "source": [
        "!pip install opendatasets"
      ],
      "metadata": {
        "colab": {
          "base_uri": "https://localhost:8080/"
        },
        "id": "jFHK269IPrpA",
        "outputId": "5d4f3127-1d05-4110-8e12-036c2fd770f4"
      },
      "execution_count": 227,
      "outputs": [
        {
          "output_type": "stream",
          "name": "stdout",
          "text": [
            "Collecting opendatasets\n",
            "  Downloading opendatasets-0.1.22-py3-none-any.whl (15 kB)\n",
            "Requirement already satisfied: tqdm in /usr/local/lib/python3.10/dist-packages (from opendatasets) (4.66.1)\n",
            "Requirement already satisfied: kaggle in /usr/local/lib/python3.10/dist-packages (from opendatasets) (1.5.16)\n",
            "Requirement already satisfied: click in /usr/local/lib/python3.10/dist-packages (from opendatasets) (8.1.7)\n",
            "Requirement already satisfied: six>=1.10 in /usr/local/lib/python3.10/dist-packages (from kaggle->opendatasets) (1.16.0)\n",
            "Requirement already satisfied: certifi in /usr/local/lib/python3.10/dist-packages (from kaggle->opendatasets) (2023.11.17)\n",
            "Requirement already satisfied: python-dateutil in /usr/local/lib/python3.10/dist-packages (from kaggle->opendatasets) (2.8.2)\n",
            "Requirement already satisfied: requests in /usr/local/lib/python3.10/dist-packages (from kaggle->opendatasets) (2.31.0)\n",
            "Requirement already satisfied: python-slugify in /usr/local/lib/python3.10/dist-packages (from kaggle->opendatasets) (8.0.1)\n",
            "Requirement already satisfied: urllib3 in /usr/local/lib/python3.10/dist-packages (from kaggle->opendatasets) (2.0.7)\n",
            "Requirement already satisfied: bleach in /usr/local/lib/python3.10/dist-packages (from kaggle->opendatasets) (6.1.0)\n",
            "Requirement already satisfied: webencodings in /usr/local/lib/python3.10/dist-packages (from bleach->kaggle->opendatasets) (0.5.1)\n",
            "Requirement already satisfied: text-unidecode>=1.3 in /usr/local/lib/python3.10/dist-packages (from python-slugify->kaggle->opendatasets) (1.3)\n",
            "Requirement already satisfied: charset-normalizer<4,>=2 in /usr/local/lib/python3.10/dist-packages (from requests->kaggle->opendatasets) (3.3.2)\n",
            "Requirement already satisfied: idna<4,>=2.5 in /usr/local/lib/python3.10/dist-packages (from requests->kaggle->opendatasets) (3.6)\n",
            "Installing collected packages: opendatasets\n",
            "Successfully installed opendatasets-0.1.22\n"
          ]
        }
      ]
    },
    {
      "cell_type": "code",
      "source": [
        "import opendatasets as od\n",
        "\n",
        "od.download('https://www.kaggle.com/datasets/gauravduttakiit/medical-insurance-cost?select=Train_Data.csv')"
      ],
      "metadata": {
        "colab": {
          "base_uri": "https://localhost:8080/"
        },
        "id": "rCGYYPB0PuyK",
        "outputId": "e666ed1a-6155-464f-a028-de6ae9714973"
      },
      "execution_count": 228,
      "outputs": [
        {
          "output_type": "stream",
          "name": "stdout",
          "text": [
            "Please provide your Kaggle credentials to download this dataset. Learn more: http://bit.ly/kaggle-creds\n",
            "Your Kaggle username: mashalovne\n",
            "Your Kaggle Key: ··········\n",
            "Downloading medical-insurance-cost.zip to ./medical-insurance-cost\n"
          ]
        },
        {
          "output_type": "stream",
          "name": "stderr",
          "text": [
            "100%|██████████| 92.3k/92.3k [00:00<00:00, 36.6MB/s]"
          ]
        },
        {
          "output_type": "stream",
          "name": "stdout",
          "text": [
            "\n"
          ]
        },
        {
          "output_type": "stream",
          "name": "stderr",
          "text": [
            "\n"
          ]
        }
      ]
    },
    {
      "cell_type": "code",
      "execution_count": 229,
      "metadata": {
        "id": "psYdKbPYixMw"
      },
      "outputs": [],
      "source": [
        "DATA_PATH ='medical-insurance-cost/Train_Data.csv'# pd.read_csv()"
      ]
    },
    {
      "cell_type": "code",
      "execution_count": 230,
      "metadata": {
        "id": "N9yg5_Q_ixMw"
      },
      "outputs": [],
      "source": [
        "data = pd.read_csv(DATA_PATH)['charges'].values # before_exp"
      ]
    },
    {
      "cell_type": "code",
      "execution_count": 231,
      "metadata": {
        "colab": {
          "base_uri": "https://localhost:8080/"
        },
        "id": "VdyW5J0hixMw",
        "outputId": "2acc7712-269f-4b09-c0e4-ded529ec8c79"
      },
      "outputs": [
        {
          "output_type": "execute_result",
          "data": {
            "text/plain": [
              "(3630,)"
            ]
          },
          "metadata": {},
          "execution_count": 231
        }
      ],
      "source": [
        "data.shape"
      ]
    },
    {
      "cell_type": "code",
      "execution_count": 294,
      "metadata": {
        "id": "Vmd8Utr0ixMx",
        "colab": {
          "base_uri": "https://localhost:8080/"
        },
        "outputId": "80265ced-4391-435b-b6dc-4d7dda7303d6"
      },
      "outputs": [
        {
          "output_type": "execute_result",
          "data": {
            "text/plain": [
              "(strata    0.000004\n",
              " sample    0.000196\n",
              " dtype: float64,\n",
              " strata    0.205139\n",
              " sample    8.988623\n",
              " dtype: float64)"
            ]
          },
          "metadata": {},
          "execution_count": 294
        }
      ],
      "source": [
        "alpha = 0.05  # уровень значимости\n",
        "beta = 0.8  # мощности\n",
        "eps = 600  # размер эффекта\n",
        "\n",
        "# сумма квантилей\n",
        "q = sps.norm.ppf(1-alpha/2) +  sps.norm.ppf(beta)\n",
        "\n",
        "var_0 = data.var()\n",
        "\n",
        "n_0 = q**2 * var_0 / eps**2  # размер выборки\n",
        "\n",
        "n_0, var_0"
      ]
    },
    {
      "cell_type": "markdown",
      "metadata": {
        "id": "pCD3f3VtixMx"
      },
      "source": [
        "Достаточно ли у вас клиентов для исследования?\n",
        "\n",
        "**Ответ:** Достаточно. 2_000 < 3_000\n"
      ]
    },
    {
      "cell_type": "markdown",
      "metadata": {
        "id": "9z-oYYFIixMx"
      },
      "source": [
        "Посмотрим на распределение суммы страховки"
      ]
    },
    {
      "cell_type": "code",
      "execution_count": 233,
      "metadata": {
        "id": "5nc_YDyZixMx",
        "colab": {
          "base_uri": "https://localhost:8080/",
          "height": 468
        },
        "outputId": "080df1e5-0bf3-4b7e-d6bb-8de0ffc85f1f"
      },
      "outputs": [
        {
          "output_type": "display_data",
          "data": {
            "text/plain": [
              "<Figure size 640x480 with 1 Axes>"
            ],
            "image/png": "[encoded data removed]"
          },
          "metadata": {}
        }
      ],
      "source": [
        "plt.hist(data, bins=100)\n",
        "plt.xlabel('Сумма страховки')\n",
        "plt.ylabel('Количество');"
      ]
    },
    {
      "cell_type": "markdown",
      "metadata": {
        "id": "3Jqk-yVmixMx"
      },
      "source": [
        "Видим, что есть выбросы, завышающие нам дисперсию."
      ]
    },
    {
      "cell_type": "markdown",
      "source": [],
      "metadata": {
        "id": "-TXBA1f0RMl6"
      }
    },
    {
      "cell_type": "code",
      "source": [
        "data_1 = data[data < 50_000]"
      ],
      "metadata": {
        "id": "Fsd_tbQiQvgp"
      },
      "execution_count": 234,
      "outputs": []
    },
    {
      "cell_type": "code",
      "execution_count": 235,
      "metadata": {
        "id": "aO2i4JO7ixMx",
        "colab": {
          "base_uri": "https://localhost:8080/"
        },
        "outputId": "a0f42f0c-9c96-4421-f1c1-e7c633bf2235"
      },
      "outputs": [
        {
          "output_type": "execute_result",
          "data": {
            "text/plain": [
              "(3621,)"
            ]
          },
          "metadata": {},
          "execution_count": 235
        }
      ],
      "source": [
        "data_1.shape"
      ]
    },
    {
      "cell_type": "markdown",
      "metadata": {
        "id": "ykZUlrueixMx"
      },
      "source": [
        "**Внимание! Удалять выбросы можно только на основе данных до эксперимента. Например, не рассматривать в эксперименте клиента, на котором произошел выброс. Удаление клиентов по выбросам по экспериментальным данных может привести к большим ошибкам.**\n",
        "\n",
        "Посчитаем, сколько нужно пользователей"
      ]
    },
    {
      "cell_type": "code",
      "execution_count": 236,
      "metadata": {
        "id": "6lX_Y3wHixMx",
        "colab": {
          "base_uri": "https://localhost:8080/"
        },
        "outputId": "b26f9c34-efea-42d5-dd47-84f020876589"
      },
      "outputs": [
        {
          "output_type": "execute_result",
          "data": {
            "text/plain": [
              "(1528.1795939703613, 110627431.3413543)"
            ]
          },
          "metadata": {},
          "execution_count": 236
        }
      ],
      "source": [
        "var_1 = data_1.var()\n",
        "n_1 = q*2 * var_1 / eps**2\n",
        "\n",
        "n_1, var_1"
      ]
    },
    {
      "cell_type": "markdown",
      "metadata": {
        "id": "kbv3AmIXixMx"
      },
      "source": [
        "С помощью удаления выбросов мы сократили требуемое количество клиентов пропорционально уменьшению дисперсии."
      ]
    },
    {
      "cell_type": "code",
      "execution_count": 237,
      "metadata": {
        "id": "TQy1I_d5ixMy",
        "colab": {
          "base_uri": "https://localhost:8080/"
        },
        "outputId": "1e5be52f-2a02-4dfb-acef-5907c2a0d022"
      },
      "outputs": [
        {
          "output_type": "execute_result",
          "data": {
            "text/plain": [
              "(1.2974144827555045, 1.0435773981498333)"
            ]
          },
          "metadata": {},
          "execution_count": 237
        }
      ],
      "source": [
        "n_0 / n_1, var_0 / var_1"
      ]
    },
    {
      "cell_type": "markdown",
      "metadata": {
        "id": "4H-RqtAkixMy"
      },
      "source": [
        "Как зависит требуемый размер выборки в исследовании от размера эффекта? Постройте график размера выборки от `MDE` для ожидаемой в нашем исследовании дисперсии и сделайте выводы."
      ]
    },
    {
      "cell_type": "code",
      "execution_count": 238,
      "metadata": {
        "id": "m0RzlICmixMz",
        "colab": {
          "base_uri": "https://localhost:8080/",
          "height": 464
        },
        "outputId": "54716aab-34ca-422b-c189-ce1229f759b6"
      },
      "outputs": [
        {
          "output_type": "display_data",
          "data": {
            "text/plain": [
              "<Figure size 640x480 with 1 Axes>"
            ],
            "image/png": "[encoded data removed]"
          },
          "metadata": {}
        }
      ],
      "source": [
        "eps = np.arange(200, 2000, 50)\n",
        "n = q*2 * var_1 / eps**2\n",
        "\n",
        "plt.plot(eps, n, lw=3)\n",
        "plt.xlabel('Размер эффекта (MDE)')\n",
        "plt.ylabel('Размер выборки');"
      ]
    },
    {
      "cell_type": "markdown",
      "metadata": {
        "id": "AaYPSUhjixMz"
      },
      "source": [
        "**Вывод:** квадратично"
      ]
    },
    {
      "cell_type": "markdown",
      "metadata": {
        "id": "BWHyQSBBHQ70"
      },
      "source": [
        "---\n",
        "### Задача 2\n",
        "\n",
        "Выведите формулу `MDE` для относительного t-теста."
      ]
    },
    {
      "cell_type": "markdown",
      "source": [
        "### **Решение**\n",
        "\n",
        "Подход к поиску дисперсии отношения двух случайных величин описан в https://www.stat.cmu.edu/~hseltman/files/ratio.pdf\n",
        "\n",
        "$$\n",
        "    \\mathbf{D}\\frac{R}{S} \\approx \\frac{\\mu_R^2}{\\mu_s^2} \\left[ \\frac{\\sigma_R^2}{\\mu_R^2} - 2 \\frac{Cov(R,S)}{\\mu_R \\mu_S}+ \\frac{\\sigma^2_S}{\\mu_S^2} \\right]\n",
        "$$\n",
        "\n",
        "Дисперсия отношения разности к значению запишется как:\n",
        "$$\n",
        "    \\mathbf{D}\\frac{\\bar{E}-\\bar{C}}{\\bar{C}} \\approx \\frac{(\\mathbf{E}\\bar{T}- \\mathbf{E}\\bar{C})^2}{\\mathbf{E}\\bar{C}^2} \\left[ \\frac{\\mathbf{D}[\\bar{T}-\\bar{C}]}{\\mathbf{E}\\bar{C}^2} - 2 \\frac{Cov(T-C,C)}{\\mathbf{E}[\\bar{T}-\\bar{C}]\\mathbf{E}\\bar{C}}+ \\frac{\\mathbf{D}\\bar{C}}{\\mathbf{E}\\bar{C}^2} \\right]\n",
        "    \\tag{1}\n",
        "$$\n",
        "\n",
        "Тогда MDE:\n",
        "$$\n",
        "    MDE = (Z_{1-\\alpha} + Z_{\\beta}) \\sqrt{ \\mathbf{D}\\frac{\\bar{E}-\\bar{C}}{\\bar{C}}}\n",
        "$$\n",
        "\n",
        "Формула отличается от обычного теста отсутствием деления на корень размера выборки. Это связанро с тем, что оценивается дисперсия **усредненной** случайной величины.\n"
      ],
      "metadata": {
        "id": "9qgpRkUBEjUs"
      }
    },
    {
      "cell_type": "markdown",
      "metadata": {
        "id": "cYzZ2rrH74__"
      },
      "source": [
        "---\n",
        "### Задача 3\n",
        "#### **Профиль физика**\n",
        "\n",
        "\n",
        "Квантовые компьтеры состоят из кубитов, каждый из которых по-отдельности можно представить в виде единичного вектора на сфере. Считывание состояние кубита — это получение проекции этого вектора на ось $z$, причём считав состояние один раз мы получаем детерменированное значение: 0 или 1. Таким образом для получения значения проекции с определённой точностью мы усредняем некоторое количество считываний.\n",
        "\n",
        "В данной задаче мы будем генерировать выборку из распределения Бернулли, симулируя проекции, получаемые от кубита. Наша задача — исследовать минимальный размер выборки для разных значений разделения состояний.\n",
        "\n",
        "\n",
        "Выберите или оцените каким-нибудь способом:\n",
        "\n",
        "1. Статистический критерий (название / односторонний или двусторонний / связные или независимые выборки);\n",
        "\n",
        "2. Размеры A и B групп;\n",
        "\n",
        "3. Желаемый минимальный детектируемый эффект;\n",
        "\n",
        "4. Мощность критерия.\n",
        "\n",
        "Обоснуйте свой выбор в каждом из пунктов.\n"
      ]
    },
    {
      "cell_type": "markdown",
      "metadata": {
        "id": "1j_1uMQy36Ul"
      },
      "source": [
        "> Статистический критерий (название / односторонний или двусторонний / связные или независимые выборки);\n",
        "\n",
        "**Ответ:** двусторонний не связанный t-test. Для эксперимента будет полезно отклонение в любую из сторон. Замеры коллапсируют волновую функцию, связность между экспериментами физически невозможна\n",
        "\n"
      ]
    },
    {
      "cell_type": "markdown",
      "metadata": {
        "id": "QEjaOFrq36hW"
      },
      "source": [
        "> Мощность критерия\n",
        "\n",
        "**Ответ:** 0.8. Возьмем стандартные для статистики значения"
      ]
    },
    {
      "cell_type": "markdown",
      "metadata": {
        "id": "aSqepdWI75AA"
      },
      "source": [
        "> Желаемый минимальный детектируемый эффект;\n",
        "\n",
        "> Размер А и В групп;\n",
        "\n",
        "Для оценки разделяющей способности возьмем характерное значение в одну сотую. Размер групп подберем исходя из детектируемого эффекта\n",
        "\n"
      ]
    },
    {
      "cell_type": "markdown",
      "metadata": {
        "id": "oOZW2EwV75AA"
      },
      "source": [
        "Будем подбирать по таблице `MDE`-мощность-размер выборки"
      ]
    },
    {
      "cell_type": "code",
      "execution_count": 239,
      "metadata": {
        "id": "NTH64mCa75AA"
      },
      "outputs": [],
      "source": [
        "def get_mde(alpha, beta, sample_size, var_R, two_sided=False):\n",
        "    '''Расчитывает MDE\n",
        "\n",
        "    :param alpha: желаемая ошибка первого рода\n",
        "    :param beta: желаемая мощность\n",
        "    :param sample_size: размер выборок\n",
        "    :param var_R: оценка дисперсии выборок\n",
        "    :param two_sided: двусторонний ли критерий\n",
        "    :returns: теоретический MDE\n",
        "    '''\n",
        "\n",
        "    quantile = sps.norm.ppf(1-alpha/2) + sps.norm.ppf(beta)\n",
        "    return quantile * (var_R / sample_size)**0.5\n",
        "\n",
        "\n",
        "def get_sample_size(alpha, beta, mde, var_R, two_sided=False):\n",
        "    '''Расчитывает размер выборки для детектирование MDE\n",
        "\n",
        "    :param alpha: желаемая ошибка первого рода\n",
        "    :param beta: желаемая мощность\n",
        "    :param mde: необходимый эффект\n",
        "    :param var_R: дисперсии выборок\n",
        "    :returns: необходимый размер выборки\n",
        "    '''\n",
        "\n",
        "    quantile = sps.norm.ppf(1-alpha/2) + sps.norm.ppf(beta)\n",
        "    return  np.ceil(( quantile ** 2) * (var_R) / (mde * mde)).astype(int)"
      ]
    },
    {
      "cell_type": "markdown",
      "metadata": {
        "id": "Tlj64Unn8NQJ"
      },
      "source": [
        "Создадим датасеты для разных значений проекций. Задайте размер выборок size=2000."
      ]
    },
    {
      "cell_type": "code",
      "execution_count": 240,
      "metadata": {
        "id": "hvGIfHd6ffjH"
      },
      "outputs": [],
      "source": [
        "ber_parameters = np.linspace(0.3, 0.8, 6)\n",
        "data = np.array([np.random.binomial(1,p,size=2000) for p in ber_parameters]) # возьмём центральные значения проекций"
      ]
    },
    {
      "cell_type": "code",
      "source": [
        "data.shape"
      ],
      "metadata": {
        "colab": {
          "base_uri": "https://localhost:8080/"
        },
        "id": "rUAcykTepQRc",
        "outputId": "bb986dd9-4e37-4621-ff45-4016a55fc6c0"
      },
      "execution_count": 241,
      "outputs": [
        {
          "output_type": "execute_result",
          "data": {
            "text/plain": [
              "(6, 2000)"
            ]
          },
          "metadata": {},
          "execution_count": 241
        }
      ]
    },
    {
      "cell_type": "markdown",
      "metadata": {
        "id": "IArUb9y98T42"
      },
      "source": [
        "Вычислим значения таблицы."
      ]
    },
    {
      "cell_type": "code",
      "execution_count": 242,
      "metadata": {
        "id": "yYSa1h7-75AB",
        "colab": {
          "base_uri": "https://localhost:8080/"
        },
        "outputId": "b5ed69bd-a381-438b-bd7d-d707614364b7"
      },
      "outputs": [
        {
          "output_type": "execute_result",
          "data": {
            "text/plain": [
              "(6, 9, 8)"
            ]
          },
          "metadata": {},
          "execution_count": 242
        }
      ],
      "source": [
        "mde_grid = np.arange(0.01, 0.1, 0.01).reshape(1, -1,1)  # абсолютный MDE\n",
        "beta_grid = np.arange(0.6, 1, 0.05).reshape(1,1,-1)   # мощность\n",
        "alpha = 0.05\n",
        "var = 2*data.var(axis=1).reshape(-1,1,1) # дисперсия\n",
        "\n",
        "sample_sizes = get_sample_size(\n",
        "    alpha = alpha,\n",
        "    beta = beta_grid,\n",
        "    mde = mde_grid,\n",
        "    var_R=var\n",
        ")\n",
        "sample_sizes.shape"
      ]
    },
    {
      "cell_type": "markdown",
      "metadata": {
        "id": "rD7OoNBNzrWo"
      },
      "source": [
        "Посмотрим для крайних и центрального значений, как выглядит таблица."
      ]
    },
    {
      "cell_type": "code",
      "execution_count": 243,
      "metadata": {
        "id": "CBbZyo-4z5De",
        "colab": {
          "base_uri": "https://localhost:8080/",
          "height": 332
        },
        "outputId": "00e1713e-c79a-4baf-d319-e170dfea2cbf"
      },
      "outputs": [
        {
          "output_type": "execute_result",
          "data": {
            "text/plain": [
              "       0.60   0.65   0.70   0.75   0.80   0.85   0.90   0.95\n",
              "0.01  19944  22394  25128  28256  31955  36553  42778  52904\n",
              "0.02   4986   5599   6282   7064   7989   9139  10695  13226\n",
              "0.03   2216   2489   2792   3140   3551   4062   4754   5879\n",
              "0.04   1247   1400   1571   1766   1998   2285   2674   3307\n",
              "0.05    798    896   1006   1131   1279   1463   1712   2117\n",
              "0.06    554    623    698    785    888   1016   1189   1470\n",
              "0.07    408    458    513    577    653    746    874   1080\n",
              "0.08    312    350    393    442    500    572    669    827\n",
              "0.09    247    277    311    349    395    452    529    654"
            ],
            "text/html": [
              "\n",
              "  <div id=\"df-10ecb777-5e8c-4c4e-b594-ca7749ce0f41\" class=\"colab-df-container\">\n",
              "    <div>\n",
              "<style scoped>\n",
              "    .dataframe tbody tr th:only-of-type {\n",
              "        vertical-align: middle;\n",
              "    }\n",
              "\n",
              "    .dataframe tbody tr th {\n",
              "        vertical-align: top;\n",
              "    }\n",
              "\n",
              "    .dataframe thead th {\n",
              "        text-align: right;\n",
              "    }\n",
              "</style>\n",
              "<table border=\"1\" class=\"dataframe\">\n",
              "  <thead>\n",
              "    <tr style=\"text-align: right;\">\n",
              "      <th></th>\n",
              "      <th>0.60</th>\n",
              "      <th>0.65</th>\n",
              "      <th>0.70</th>\n",
              "      <th>0.75</th>\n",
              "      <th>0.80</th>\n",
              "      <th>0.85</th>\n",
              "      <th>0.90</th>\n",
              "      <th>0.95</th>\n",
              "    </tr>\n",
              "  </thead>\n",
              "  <tbody>\n",
              "    <tr>\n",
              "      <th>0.01</th>\n",
              "      <td>19944</td>\n",
              "      <td>22394</td>\n",
              "      <td>25128</td>\n",
              "      <td>28256</td>\n",
              "      <td>31955</td>\n",
              "      <td>36553</td>\n",
              "      <td>42778</td>\n",
              "      <td>52904</td>\n",
              "    </tr>\n",
              "    <tr>\n",
              "      <th>0.02</th>\n",
              "      <td>4986</td>\n",
              "      <td>5599</td>\n",
              "      <td>6282</td>\n",
              "      <td>7064</td>\n",
              "      <td>7989</td>\n",
              "      <td>9139</td>\n",
              "      <td>10695</td>\n",
              "      <td>13226</td>\n",
              "    </tr>\n",
              "    <tr>\n",
              "      <th>0.03</th>\n",
              "      <td>2216</td>\n",
              "      <td>2489</td>\n",
              "      <td>2792</td>\n",
              "      <td>3140</td>\n",
              "      <td>3551</td>\n",
              "      <td>4062</td>\n",
              "      <td>4754</td>\n",
              "      <td>5879</td>\n",
              "    </tr>\n",
              "    <tr>\n",
              "      <th>0.04</th>\n",
              "      <td>1247</td>\n",
              "      <td>1400</td>\n",
              "      <td>1571</td>\n",
              "      <td>1766</td>\n",
              "      <td>1998</td>\n",
              "      <td>2285</td>\n",
              "      <td>2674</td>\n",
              "      <td>3307</td>\n",
              "    </tr>\n",
              "    <tr>\n",
              "      <th>0.05</th>\n",
              "      <td>798</td>\n",
              "      <td>896</td>\n",
              "      <td>1006</td>\n",
              "      <td>1131</td>\n",
              "      <td>1279</td>\n",
              "      <td>1463</td>\n",
              "      <td>1712</td>\n",
              "      <td>2117</td>\n",
              "    </tr>\n",
              "    <tr>\n",
              "      <th>0.06</th>\n",
              "      <td>554</td>\n",
              "      <td>623</td>\n",
              "      <td>698</td>\n",
              "      <td>785</td>\n",
              "      <td>888</td>\n",
              "      <td>1016</td>\n",
              "      <td>1189</td>\n",
              "      <td>1470</td>\n",
              "    </tr>\n",
              "    <tr>\n",
              "      <th>0.07</th>\n",
              "      <td>408</td>\n",
              "      <td>458</td>\n",
              "      <td>513</td>\n",
              "      <td>577</td>\n",
              "      <td>653</td>\n",
              "      <td>746</td>\n",
              "      <td>874</td>\n",
              "      <td>1080</td>\n",
              "    </tr>\n",
              "    <tr>\n",
              "      <th>0.08</th>\n",
              "      <td>312</td>\n",
              "      <td>350</td>\n",
              "      <td>393</td>\n",
              "      <td>442</td>\n",
              "      <td>500</td>\n",
              "      <td>572</td>\n",
              "      <td>669</td>\n",
              "      <td>827</td>\n",
              "    </tr>\n",
              "    <tr>\n",
              "      <th>0.09</th>\n",
              "      <td>247</td>\n",
              "      <td>277</td>\n",
              "      <td>311</td>\n",
              "      <td>349</td>\n",
              "      <td>395</td>\n",
              "      <td>452</td>\n",
              "      <td>529</td>\n",
              "      <td>654</td>\n",
              "    </tr>\n",
              "  </tbody>\n",
              "</table>\n",
              "</div>\n",
              "    <div class=\"colab-df-buttons\">\n",
              "\n",
              "  <div class=\"colab-df-container\">\n",
              "    <button class=\"colab-df-convert\" onclick=\"convertToInteractive('df-10ecb777-5e8c-4c4e-b594-ca7749ce0f41')\"\n",
              "            title=\"Convert this dataframe to an interactive table.\"\n",
              "            style=\"display:none;\">\n",
              "\n",
              "  <svg xmlns=\"http://www.w3.org/2000/svg\" height=\"24px\" viewBox=\"0 -960 960 960\">\n",
              "    <path d=\"M120-120v-720h720v720H120Zm60-500h600v-160H180v160Zm220 220h160v-160H400v160Zm0 220h160v-160H400v160ZM180-400h160v-160H180v160Zm440 0h160v-160H620v160ZM180-180h160v-160H180v160Zm440 0h160v-160H620v160Z\"/>\n",
              "  </svg>\n",
              "    </button>\n",
              "\n",
              "  <style>\n",
              "    .colab-df-container {\n",
              "      display:flex;\n",
              "      gap: 12px;\n",
              "    }\n",
              "\n",
              "    .colab-df-convert {\n",
              "      background-color: #E8F0FE;\n",
              "      border: none;\n",
              "      border-radius: 50%;\n",
              "      cursor: pointer;\n",
              "      display: none;\n",
              "      fill: #1967D2;\n",
              "      height: 32px;\n",
              "      padding: 0 0 0 0;\n",
              "      width: 32px;\n",
              "    }\n",
              "\n",
              "    .colab-df-convert:hover {\n",
              "      background-color: #E2EBFA;\n",
              "      box-shadow: 0px 1px 2px rgba(60, 64, 67, 0.3), 0px 1px 3px 1px rgba(60, 64, 67, 0.15);\n",
              "      fill: #174EA6;\n",
              "    }\n",
              "\n",
              "    .colab-df-buttons div {\n",
              "      margin-bottom: 4px;\n",
              "    }\n",
              "\n",
              "    [theme=dark] .colab-df-convert {\n",
              "      background-color: #3B4455;\n",
              "      fill: #D2E3FC;\n",
              "    }\n",
              "\n",
              "    [theme=dark] .colab-df-convert:hover {\n",
              "      background-color: #434B5C;\n",
              "      box-shadow: 0px 1px 3px 1px rgba(0, 0, 0, 0.15);\n",
              "      filter: drop-shadow(0px 1px 2px rgba(0, 0, 0, 0.3));\n",
              "      fill: #FFFFFF;\n",
              "    }\n",
              "  </style>\n",
              "\n",
              "    <script>\n",
              "      const buttonEl =\n",
              "        document.querySelector('#df-10ecb777-5e8c-4c4e-b594-ca7749ce0f41 button.colab-df-convert');\n",
              "      buttonEl.style.display =\n",
              "        google.colab.kernel.accessAllowed ? 'block' : 'none';\n",
              "\n",
              "      async function convertToInteractive(key) {\n",
              "        const element = document.querySelector('#df-10ecb777-5e8c-4c4e-b594-ca7749ce0f41');\n",
              "        const dataTable =\n",
              "          await google.colab.kernel.invokeFunction('convertToInteractive',\n",
              "                                                    [key], {});\n",
              "        if (!dataTable) return;\n",
              "\n",
              "        const docLinkHtml = 'Like what you see? Visit the ' +\n",
              "          '<a target=\"_blank\" href=https://colab.research.google.com/notebooks/data_table.ipynb>data table notebook</a>'\n",
              "          + ' to learn more about interactive tables.';\n",
              "        element.innerHTML = '';\n",
              "        dataTable['output_type'] = 'display_data';\n",
              "        await google.colab.output.renderOutput(dataTable, element);\n",
              "        const docLink = document.createElement('div');\n",
              "        docLink.innerHTML = docLinkHtml;\n",
              "        element.appendChild(docLink);\n",
              "      }\n",
              "    </script>\n",
              "  </div>\n",
              "\n",
              "\n",
              "<div id=\"df-931d6a98-7b77-4c6b-8005-159e48e5ee06\">\n",
              "  <button class=\"colab-df-quickchart\" onclick=\"quickchart('df-931d6a98-7b77-4c6b-8005-159e48e5ee06')\"\n",
              "            title=\"Suggest charts\"\n",
              "            style=\"display:none;\">\n",
              "\n",
              "<svg xmlns=\"http://www.w3.org/2000/svg\" height=\"24px\"viewBox=\"0 0 24 24\"\n",
              "     width=\"24px\">\n",
              "    <g>\n",
              "        <path d=\"M19 3H5c-1.1 0-2 .9-2 2v14c0 1.1.9 2 2 2h14c1.1 0 2-.9 2-2V5c0-1.1-.9-2-2-2zM9 17H7v-7h2v7zm4 0h-2V7h2v10zm4 0h-2v-4h2v4z\"/>\n",
              "    </g>\n",
              "</svg>\n",
              "  </button>\n",
              "\n",
              "<style>\n",
              "  .colab-df-quickchart {\n",
              "      --bg-color: #E8F0FE;\n",
              "      --fill-color: #1967D2;\n",
              "      --hover-bg-color: #E2EBFA;\n",
              "      --hover-fill-color: #174EA6;\n",
              "      --disabled-fill-color: #AAA;\n",
              "      --disabled-bg-color: #DDD;\n",
              "  }\n",
              "\n",
              "  [theme=dark] .colab-df-quickchart {\n",
              "      --bg-color: #3B4455;\n",
              "      --fill-color: #D2E3FC;\n",
              "      --hover-bg-color: #434B5C;\n",
              "      --hover-fill-color: #FFFFFF;\n",
              "      --disabled-bg-color: #3B4455;\n",
              "      --disabled-fill-color: #666;\n",
              "  }\n",
              "\n",
              "  .colab-df-quickchart {\n",
              "    background-color: var(--bg-color);\n",
              "    border: none;\n",
              "    border-radius: 50%;\n",
              "    cursor: pointer;\n",
              "    display: none;\n",
              "    fill: var(--fill-color);\n",
              "    height: 32px;\n",
              "    padding: 0;\n",
              "    width: 32px;\n",
              "  }\n",
              "\n",
              "  .colab-df-quickchart:hover {\n",
              "    background-color: var(--hover-bg-color);\n",
              "    box-shadow: 0 1px 2px rgba(60, 64, 67, 0.3), 0 1px 3px 1px rgba(60, 64, 67, 0.15);\n",
              "    fill: var(--button-hover-fill-color);\n",
              "  }\n",
              "\n",
              "  .colab-df-quickchart-complete:disabled,\n",
              "  .colab-df-quickchart-complete:disabled:hover {\n",
              "    background-color: var(--disabled-bg-color);\n",
              "    fill: var(--disabled-fill-color);\n",
              "    box-shadow: none;\n",
              "  }\n",
              "\n",
              "  .colab-df-spinner {\n",
              "    border: 2px solid var(--fill-color);\n",
              "    border-color: transparent;\n",
              "    border-bottom-color: var(--fill-color);\n",
              "    animation:\n",
              "      spin 1s steps(1) infinite;\n",
              "  }\n",
              "\n",
              "  @keyframes spin {\n",
              "    0% {\n",
              "      border-color: transparent;\n",
              "      border-bottom-color: var(--fill-color);\n",
              "      border-left-color: var(--fill-color);\n",
              "    }\n",
              "    20% {\n",
              "      border-color: transparent;\n",
              "      border-left-color: var(--fill-color);\n",
              "      border-top-color: var(--fill-color);\n",
              "    }\n",
              "    30% {\n",
              "      border-color: transparent;\n",
              "      border-left-color: var(--fill-color);\n",
              "      border-top-color: var(--fill-color);\n",
              "      border-right-color: var(--fill-color);\n",
              "    }\n",
              "    40% {\n",
              "      border-color: transparent;\n",
              "      border-right-color: var(--fill-color);\n",
              "      border-top-color: var(--fill-color);\n",
              "    }\n",
              "    60% {\n",
              "      border-color: transparent;\n",
              "      border-right-color: var(--fill-color);\n",
              "    }\n",
              "    80% {\n",
              "      border-color: transparent;\n",
              "      border-right-color: var(--fill-color);\n",
              "      border-bottom-color: var(--fill-color);\n",
              "    }\n",
              "    90% {\n",
              "      border-color: transparent;\n",
              "      border-bottom-color: var(--fill-color);\n",
              "    }\n",
              "  }\n",
              "</style>\n",
              "\n",
              "  <script>\n",
              "    async function quickchart(key) {\n",
              "      const quickchartButtonEl =\n",
              "        document.querySelector('#' + key + ' button');\n",
              "      quickchartButtonEl.disabled = true;  // To prevent multiple clicks.\n",
              "      quickchartButtonEl.classList.add('colab-df-spinner');\n",
              "      try {\n",
              "        const charts = await google.colab.kernel.invokeFunction(\n",
              "            'suggestCharts', [key], {});\n",
              "      } catch (error) {\n",
              "        console.error('Error during call to suggestCharts:', error);\n",
              "      }\n",
              "      quickchartButtonEl.classList.remove('colab-df-spinner');\n",
              "      quickchartButtonEl.classList.add('colab-df-quickchart-complete');\n",
              "    }\n",
              "    (() => {\n",
              "      let quickchartButtonEl =\n",
              "        document.querySelector('#df-931d6a98-7b77-4c6b-8005-159e48e5ee06 button');\n",
              "      quickchartButtonEl.style.display =\n",
              "        google.colab.kernel.accessAllowed ? 'block' : 'none';\n",
              "    })();\n",
              "  </script>\n",
              "</div>\n",
              "    </div>\n",
              "  </div>\n"
            ]
          },
          "metadata": {},
          "execution_count": 243
        }
      ],
      "source": [
        "pd.DataFrame(sample_sizes[0], columns=beta_grid.reshape(-1), index=mde_grid.reshape(-1))"
      ]
    },
    {
      "cell_type": "code",
      "execution_count": 244,
      "metadata": {
        "id": "5H7Z8GrVzHZX",
        "colab": {
          "base_uri": "https://localhost:8080/",
          "height": 332
        },
        "outputId": "e9206800-1284-4f1b-cefb-acc74ebf1c57"
      },
      "outputs": [
        {
          "output_type": "execute_result",
          "data": {
            "text/plain": [
              "       0.60   0.65   0.70   0.75   0.80   0.85   0.90   0.95\n",
              "0.01  24491  27498  30856  34697  39239  44886  52530  64965\n",
              "0.02   6123   6875   7714   8675   9810  11222  13133  16242\n",
              "0.03   2722   3056   3429   3856   4360   4988   5837   7219\n",
              "0.04   1531   1719   1929   2169   2453   2806   3284   4061\n",
              "0.05    980   1100   1235   1388   1570   1796   2102   2599\n",
              "0.06    681    764    858    964   1090   1247   1460   1805\n",
              "0.07    500    562    630    709    801    917   1073   1326\n",
              "0.08    383    430    483    543    614    702    821   1016\n",
              "0.09    303    340    381    429    485    555    649    803"
            ],
            "text/html": [
              "\n",
              "  <div id=\"df-f78fce86-b603-487f-841b-29c4597b8a72\" class=\"colab-df-container\">\n",
              "    <div>\n",
              "<style scoped>\n",
              "    .dataframe tbody tr th:only-of-type {\n",
              "        vertical-align: middle;\n",
              "    }\n",
              "\n",
              "    .dataframe tbody tr th {\n",
              "        vertical-align: top;\n",
              "    }\n",
              "\n",
              "    .dataframe thead th {\n",
              "        text-align: right;\n",
              "    }\n",
              "</style>\n",
              "<table border=\"1\" class=\"dataframe\">\n",
              "  <thead>\n",
              "    <tr style=\"text-align: right;\">\n",
              "      <th></th>\n",
              "      <th>0.60</th>\n",
              "      <th>0.65</th>\n",
              "      <th>0.70</th>\n",
              "      <th>0.75</th>\n",
              "      <th>0.80</th>\n",
              "      <th>0.85</th>\n",
              "      <th>0.90</th>\n",
              "      <th>0.95</th>\n",
              "    </tr>\n",
              "  </thead>\n",
              "  <tbody>\n",
              "    <tr>\n",
              "      <th>0.01</th>\n",
              "      <td>24491</td>\n",
              "      <td>27498</td>\n",
              "      <td>30856</td>\n",
              "      <td>34697</td>\n",
              "      <td>39239</td>\n",
              "      <td>44886</td>\n",
              "      <td>52530</td>\n",
              "      <td>64965</td>\n",
              "    </tr>\n",
              "    <tr>\n",
              "      <th>0.02</th>\n",
              "      <td>6123</td>\n",
              "      <td>6875</td>\n",
              "      <td>7714</td>\n",
              "      <td>8675</td>\n",
              "      <td>9810</td>\n",
              "      <td>11222</td>\n",
              "      <td>13133</td>\n",
              "      <td>16242</td>\n",
              "    </tr>\n",
              "    <tr>\n",
              "      <th>0.03</th>\n",
              "      <td>2722</td>\n",
              "      <td>3056</td>\n",
              "      <td>3429</td>\n",
              "      <td>3856</td>\n",
              "      <td>4360</td>\n",
              "      <td>4988</td>\n",
              "      <td>5837</td>\n",
              "      <td>7219</td>\n",
              "    </tr>\n",
              "    <tr>\n",
              "      <th>0.04</th>\n",
              "      <td>1531</td>\n",
              "      <td>1719</td>\n",
              "      <td>1929</td>\n",
              "      <td>2169</td>\n",
              "      <td>2453</td>\n",
              "      <td>2806</td>\n",
              "      <td>3284</td>\n",
              "      <td>4061</td>\n",
              "    </tr>\n",
              "    <tr>\n",
              "      <th>0.05</th>\n",
              "      <td>980</td>\n",
              "      <td>1100</td>\n",
              "      <td>1235</td>\n",
              "      <td>1388</td>\n",
              "      <td>1570</td>\n",
              "      <td>1796</td>\n",
              "      <td>2102</td>\n",
              "      <td>2599</td>\n",
              "    </tr>\n",
              "    <tr>\n",
              "      <th>0.06</th>\n",
              "      <td>681</td>\n",
              "      <td>764</td>\n",
              "      <td>858</td>\n",
              "      <td>964</td>\n",
              "      <td>1090</td>\n",
              "      <td>1247</td>\n",
              "      <td>1460</td>\n",
              "      <td>1805</td>\n",
              "    </tr>\n",
              "    <tr>\n",
              "      <th>0.07</th>\n",
              "      <td>500</td>\n",
              "      <td>562</td>\n",
              "      <td>630</td>\n",
              "      <td>709</td>\n",
              "      <td>801</td>\n",
              "      <td>917</td>\n",
              "      <td>1073</td>\n",
              "      <td>1326</td>\n",
              "    </tr>\n",
              "    <tr>\n",
              "      <th>0.08</th>\n",
              "      <td>383</td>\n",
              "      <td>430</td>\n",
              "      <td>483</td>\n",
              "      <td>543</td>\n",
              "      <td>614</td>\n",
              "      <td>702</td>\n",
              "      <td>821</td>\n",
              "      <td>1016</td>\n",
              "    </tr>\n",
              "    <tr>\n",
              "      <th>0.09</th>\n",
              "      <td>303</td>\n",
              "      <td>340</td>\n",
              "      <td>381</td>\n",
              "      <td>429</td>\n",
              "      <td>485</td>\n",
              "      <td>555</td>\n",
              "      <td>649</td>\n",
              "      <td>803</td>\n",
              "    </tr>\n",
              "  </tbody>\n",
              "</table>\n",
              "</div>\n",
              "    <div class=\"colab-df-buttons\">\n",
              "\n",
              "  <div class=\"colab-df-container\">\n",
              "    <button class=\"colab-df-convert\" onclick=\"convertToInteractive('df-f78fce86-b603-487f-841b-29c4597b8a72')\"\n",
              "            title=\"Convert this dataframe to an interactive table.\"\n",
              "            style=\"display:none;\">\n",
              "\n",
              "  <svg xmlns=\"http://www.w3.org/2000/svg\" height=\"24px\" viewBox=\"0 -960 960 960\">\n",
              "    <path d=\"M120-120v-720h720v720H120Zm60-500h600v-160H180v160Zm220 220h160v-160H400v160Zm0 220h160v-160H400v160ZM180-400h160v-160H180v160Zm440 0h160v-160H620v160ZM180-180h160v-160H180v160Zm440 0h160v-160H620v160Z\"/>\n",
              "  </svg>\n",
              "    </button>\n",
              "\n",
              "  <style>\n",
              "    .colab-df-container {\n",
              "      display:flex;\n",
              "      gap: 12px;\n",
              "    }\n",
              "\n",
              "    .colab-df-convert {\n",
              "      background-color: #E8F0FE;\n",
              "      border: none;\n",
              "      border-radius: 50%;\n",
              "      cursor: pointer;\n",
              "      display: none;\n",
              "      fill: #1967D2;\n",
              "      height: 32px;\n",
              "      padding: 0 0 0 0;\n",
              "      width: 32px;\n",
              "    }\n",
              "\n",
              "    .colab-df-convert:hover {\n",
              "      background-color: #E2EBFA;\n",
              "      box-shadow: 0px 1px 2px rgba(60, 64, 67, 0.3), 0px 1px 3px 1px rgba(60, 64, 67, 0.15);\n",
              "      fill: #174EA6;\n",
              "    }\n",
              "\n",
              "    .colab-df-buttons div {\n",
              "      margin-bottom: 4px;\n",
              "    }\n",
              "\n",
              "    [theme=dark] .colab-df-convert {\n",
              "      background-color: #3B4455;\n",
              "      fill: #D2E3FC;\n",
              "    }\n",
              "\n",
              "    [theme=dark] .colab-df-convert:hover {\n",
              "      background-color: #434B5C;\n",
              "      box-shadow: 0px 1px 3px 1px rgba(0, 0, 0, 0.15);\n",
              "      filter: drop-shadow(0px 1px 2px rgba(0, 0, 0, 0.3));\n",
              "      fill: #FFFFFF;\n",
              "    }\n",
              "  </style>\n",
              "\n",
              "    <script>\n",
              "      const buttonEl =\n",
              "        document.querySelector('#df-f78fce86-b603-487f-841b-29c4597b8a72 button.colab-df-convert');\n",
              "      buttonEl.style.display =\n",
              "        google.colab.kernel.accessAllowed ? 'block' : 'none';\n",
              "\n",
              "      async function convertToInteractive(key) {\n",
              "        const element = document.querySelector('#df-f78fce86-b603-487f-841b-29c4597b8a72');\n",
              "        const dataTable =\n",
              "          await google.colab.kernel.invokeFunction('convertToInteractive',\n",
              "                                                    [key], {});\n",
              "        if (!dataTable) return;\n",
              "\n",
              "        const docLinkHtml = 'Like what you see? Visit the ' +\n",
              "          '<a target=\"_blank\" href=https://colab.research.google.com/notebooks/data_table.ipynb>data table notebook</a>'\n",
              "          + ' to learn more about interactive tables.';\n",
              "        element.innerHTML = '';\n",
              "        dataTable['output_type'] = 'display_data';\n",
              "        await google.colab.output.renderOutput(dataTable, element);\n",
              "        const docLink = document.createElement('div');\n",
              "        docLink.innerHTML = docLinkHtml;\n",
              "        element.appendChild(docLink);\n",
              "      }\n",
              "    </script>\n",
              "  </div>\n",
              "\n",
              "\n",
              "<div id=\"df-c1530660-a14a-44a3-bfd3-7fed9b4ed71e\">\n",
              "  <button class=\"colab-df-quickchart\" onclick=\"quickchart('df-c1530660-a14a-44a3-bfd3-7fed9b4ed71e')\"\n",
              "            title=\"Suggest charts\"\n",
              "            style=\"display:none;\">\n",
              "\n",
              "<svg xmlns=\"http://www.w3.org/2000/svg\" height=\"24px\"viewBox=\"0 0 24 24\"\n",
              "     width=\"24px\">\n",
              "    <g>\n",
              "        <path d=\"M19 3H5c-1.1 0-2 .9-2 2v14c0 1.1.9 2 2 2h14c1.1 0 2-.9 2-2V5c0-1.1-.9-2-2-2zM9 17H7v-7h2v7zm4 0h-2V7h2v10zm4 0h-2v-4h2v4z\"/>\n",
              "    </g>\n",
              "</svg>\n",
              "  </button>\n",
              "\n",
              "<style>\n",
              "  .colab-df-quickchart {\n",
              "      --bg-color: #E8F0FE;\n",
              "      --fill-color: #1967D2;\n",
              "      --hover-bg-color: #E2EBFA;\n",
              "      --hover-fill-color: #174EA6;\n",
              "      --disabled-fill-color: #AAA;\n",
              "      --disabled-bg-color: #DDD;\n",
              "  }\n",
              "\n",
              "  [theme=dark] .colab-df-quickchart {\n",
              "      --bg-color: #3B4455;\n",
              "      --fill-color: #D2E3FC;\n",
              "      --hover-bg-color: #434B5C;\n",
              "      --hover-fill-color: #FFFFFF;\n",
              "      --disabled-bg-color: #3B4455;\n",
              "      --disabled-fill-color: #666;\n",
              "  }\n",
              "\n",
              "  .colab-df-quickchart {\n",
              "    background-color: var(--bg-color);\n",
              "    border: none;\n",
              "    border-radius: 50%;\n",
              "    cursor: pointer;\n",
              "    display: none;\n",
              "    fill: var(--fill-color);\n",
              "    height: 32px;\n",
              "    padding: 0;\n",
              "    width: 32px;\n",
              "  }\n",
              "\n",
              "  .colab-df-quickchart:hover {\n",
              "    background-color: var(--hover-bg-color);\n",
              "    box-shadow: 0 1px 2px rgba(60, 64, 67, 0.3), 0 1px 3px 1px rgba(60, 64, 67, 0.15);\n",
              "    fill: var(--button-hover-fill-color);\n",
              "  }\n",
              "\n",
              "  .colab-df-quickchart-complete:disabled,\n",
              "  .colab-df-quickchart-complete:disabled:hover {\n",
              "    background-color: var(--disabled-bg-color);\n",
              "    fill: var(--disabled-fill-color);\n",
              "    box-shadow: none;\n",
              "  }\n",
              "\n",
              "  .colab-df-spinner {\n",
              "    border: 2px solid var(--fill-color);\n",
              "    border-color: transparent;\n",
              "    border-bottom-color: var(--fill-color);\n",
              "    animation:\n",
              "      spin 1s steps(1) infinite;\n",
              "  }\n",
              "\n",
              "  @keyframes spin {\n",
              "    0% {\n",
              "      border-color: transparent;\n",
              "      border-bottom-color: var(--fill-color);\n",
              "      border-left-color: var(--fill-color);\n",
              "    }\n",
              "    20% {\n",
              "      border-color: transparent;\n",
              "      border-left-color: var(--fill-color);\n",
              "      border-top-color: var(--fill-color);\n",
              "    }\n",
              "    30% {\n",
              "      border-color: transparent;\n",
              "      border-left-color: var(--fill-color);\n",
              "      border-top-color: var(--fill-color);\n",
              "      border-right-color: var(--fill-color);\n",
              "    }\n",
              "    40% {\n",
              "      border-color: transparent;\n",
              "      border-right-color: var(--fill-color);\n",
              "      border-top-color: var(--fill-color);\n",
              "    }\n",
              "    60% {\n",
              "      border-color: transparent;\n",
              "      border-right-color: var(--fill-color);\n",
              "    }\n",
              "    80% {\n",
              "      border-color: transparent;\n",
              "      border-right-color: var(--fill-color);\n",
              "      border-bottom-color: var(--fill-color);\n",
              "    }\n",
              "    90% {\n",
              "      border-color: transparent;\n",
              "      border-bottom-color: var(--fill-color);\n",
              "    }\n",
              "  }\n",
              "</style>\n",
              "\n",
              "  <script>\n",
              "    async function quickchart(key) {\n",
              "      const quickchartButtonEl =\n",
              "        document.querySelector('#' + key + ' button');\n",
              "      quickchartButtonEl.disabled = true;  // To prevent multiple clicks.\n",
              "      quickchartButtonEl.classList.add('colab-df-spinner');\n",
              "      try {\n",
              "        const charts = await google.colab.kernel.invokeFunction(\n",
              "            'suggestCharts', [key], {});\n",
              "      } catch (error) {\n",
              "        console.error('Error during call to suggestCharts:', error);\n",
              "      }\n",
              "      quickchartButtonEl.classList.remove('colab-df-spinner');\n",
              "      quickchartButtonEl.classList.add('colab-df-quickchart-complete');\n",
              "    }\n",
              "    (() => {\n",
              "      let quickchartButtonEl =\n",
              "        document.querySelector('#df-c1530660-a14a-44a3-bfd3-7fed9b4ed71e button');\n",
              "      quickchartButtonEl.style.display =\n",
              "        google.colab.kernel.accessAllowed ? 'block' : 'none';\n",
              "    })();\n",
              "  </script>\n",
              "</div>\n",
              "    </div>\n",
              "  </div>\n"
            ]
          },
          "metadata": {},
          "execution_count": 244
        }
      ],
      "source": [
        "pd.DataFrame(sample_sizes[2], columns=beta_grid.reshape(-1), index=mde_grid.reshape(-1))"
      ]
    },
    {
      "cell_type": "code",
      "execution_count": 245,
      "metadata": {
        "id": "iLY2k58QkyJM",
        "colab": {
          "base_uri": "https://localhost:8080/",
          "height": 349
        },
        "outputId": "b4e99e7a-8266-444f-9a06-3b8fd764a29d"
      },
      "outputs": [
        {
          "output_type": "stream",
          "name": "stdout",
          "text": [
            "0.8\n"
          ]
        },
        {
          "output_type": "execute_result",
          "data": {
            "text/plain": [
              "       0.60   0.65   0.70   0.75   0.80   0.85   0.90   0.95\n",
              "0.01  16283  18283  20515  23069  26089  29843  34925  43192\n",
              "0.02   4071   4571   5129   5768   6523   7461   8732  10798\n",
              "0.03   1810   2032   2280   2564   2899   3316   3881   4800\n",
              "0.04   1018   1143   1283   1442   1631   1866   2183   2700\n",
              "0.05    652    732    821    923   1044   1194   1397   1728\n",
              "0.06    453    508    570    641    725    829    971   1200\n",
              "0.07    333    374    419    471    533    610    713    882\n",
              "0.08    255    286    321    361    408    467    546    675\n",
              "0.09    202    226    254    285    323    369    432    534"
            ],
            "text/html": [
              "\n",
              "  <div id=\"df-6cf30e56-ae2c-4748-9f2a-e4a9c7888734\" class=\"colab-df-container\">\n",
              "    <div>\n",
              "<style scoped>\n",
              "    .dataframe tbody tr th:only-of-type {\n",
              "        vertical-align: middle;\n",
              "    }\n",
              "\n",
              "    .dataframe tbody tr th {\n",
              "        vertical-align: top;\n",
              "    }\n",
              "\n",
              "    .dataframe thead th {\n",
              "        text-align: right;\n",
              "    }\n",
              "</style>\n",
              "<table border=\"1\" class=\"dataframe\">\n",
              "  <thead>\n",
              "    <tr style=\"text-align: right;\">\n",
              "      <th></th>\n",
              "      <th>0.60</th>\n",
              "      <th>0.65</th>\n",
              "      <th>0.70</th>\n",
              "      <th>0.75</th>\n",
              "      <th>0.80</th>\n",
              "      <th>0.85</th>\n",
              "      <th>0.90</th>\n",
              "      <th>0.95</th>\n",
              "    </tr>\n",
              "  </thead>\n",
              "  <tbody>\n",
              "    <tr>\n",
              "      <th>0.01</th>\n",
              "      <td>16283</td>\n",
              "      <td>18283</td>\n",
              "      <td>20515</td>\n",
              "      <td>23069</td>\n",
              "      <td>26089</td>\n",
              "      <td>29843</td>\n",
              "      <td>34925</td>\n",
              "      <td>43192</td>\n",
              "    </tr>\n",
              "    <tr>\n",
              "      <th>0.02</th>\n",
              "      <td>4071</td>\n",
              "      <td>4571</td>\n",
              "      <td>5129</td>\n",
              "      <td>5768</td>\n",
              "      <td>6523</td>\n",
              "      <td>7461</td>\n",
              "      <td>8732</td>\n",
              "      <td>10798</td>\n",
              "    </tr>\n",
              "    <tr>\n",
              "      <th>0.03</th>\n",
              "      <td>1810</td>\n",
              "      <td>2032</td>\n",
              "      <td>2280</td>\n",
              "      <td>2564</td>\n",
              "      <td>2899</td>\n",
              "      <td>3316</td>\n",
              "      <td>3881</td>\n",
              "      <td>4800</td>\n",
              "    </tr>\n",
              "    <tr>\n",
              "      <th>0.04</th>\n",
              "      <td>1018</td>\n",
              "      <td>1143</td>\n",
              "      <td>1283</td>\n",
              "      <td>1442</td>\n",
              "      <td>1631</td>\n",
              "      <td>1866</td>\n",
              "      <td>2183</td>\n",
              "      <td>2700</td>\n",
              "    </tr>\n",
              "    <tr>\n",
              "      <th>0.05</th>\n",
              "      <td>652</td>\n",
              "      <td>732</td>\n",
              "      <td>821</td>\n",
              "      <td>923</td>\n",
              "      <td>1044</td>\n",
              "      <td>1194</td>\n",
              "      <td>1397</td>\n",
              "      <td>1728</td>\n",
              "    </tr>\n",
              "    <tr>\n",
              "      <th>0.06</th>\n",
              "      <td>453</td>\n",
              "      <td>508</td>\n",
              "      <td>570</td>\n",
              "      <td>641</td>\n",
              "      <td>725</td>\n",
              "      <td>829</td>\n",
              "      <td>971</td>\n",
              "      <td>1200</td>\n",
              "    </tr>\n",
              "    <tr>\n",
              "      <th>0.07</th>\n",
              "      <td>333</td>\n",
              "      <td>374</td>\n",
              "      <td>419</td>\n",
              "      <td>471</td>\n",
              "      <td>533</td>\n",
              "      <td>610</td>\n",
              "      <td>713</td>\n",
              "      <td>882</td>\n",
              "    </tr>\n",
              "    <tr>\n",
              "      <th>0.08</th>\n",
              "      <td>255</td>\n",
              "      <td>286</td>\n",
              "      <td>321</td>\n",
              "      <td>361</td>\n",
              "      <td>408</td>\n",
              "      <td>467</td>\n",
              "      <td>546</td>\n",
              "      <td>675</td>\n",
              "    </tr>\n",
              "    <tr>\n",
              "      <th>0.09</th>\n",
              "      <td>202</td>\n",
              "      <td>226</td>\n",
              "      <td>254</td>\n",
              "      <td>285</td>\n",
              "      <td>323</td>\n",
              "      <td>369</td>\n",
              "      <td>432</td>\n",
              "      <td>534</td>\n",
              "    </tr>\n",
              "  </tbody>\n",
              "</table>\n",
              "</div>\n",
              "    <div class=\"colab-df-buttons\">\n",
              "\n",
              "  <div class=\"colab-df-container\">\n",
              "    <button class=\"colab-df-convert\" onclick=\"convertToInteractive('df-6cf30e56-ae2c-4748-9f2a-e4a9c7888734')\"\n",
              "            title=\"Convert this dataframe to an interactive table.\"\n",
              "            style=\"display:none;\">\n",
              "\n",
              "  <svg xmlns=\"http://www.w3.org/2000/svg\" height=\"24px\" viewBox=\"0 -960 960 960\">\n",
              "    <path d=\"M120-120v-720h720v720H120Zm60-500h600v-160H180v160Zm220 220h160v-160H400v160Zm0 220h160v-160H400v160ZM180-400h160v-160H180v160Zm440 0h160v-160H620v160ZM180-180h160v-160H180v160Zm440 0h160v-160H620v160Z\"/>\n",
              "  </svg>\n",
              "    </button>\n",
              "\n",
              "  <style>\n",
              "    .colab-df-container {\n",
              "      display:flex;\n",
              "      gap: 12px;\n",
              "    }\n",
              "\n",
              "    .colab-df-convert {\n",
              "      background-color: #E8F0FE;\n",
              "      border: none;\n",
              "      border-radius: 50%;\n",
              "      cursor: pointer;\n",
              "      display: none;\n",
              "      fill: #1967D2;\n",
              "      height: 32px;\n",
              "      padding: 0 0 0 0;\n",
              "      width: 32px;\n",
              "    }\n",
              "\n",
              "    .colab-df-convert:hover {\n",
              "      background-color: #E2EBFA;\n",
              "      box-shadow: 0px 1px 2px rgba(60, 64, 67, 0.3), 0px 1px 3px 1px rgba(60, 64, 67, 0.15);\n",
              "      fill: #174EA6;\n",
              "    }\n",
              "\n",
              "    .colab-df-buttons div {\n",
              "      margin-bottom: 4px;\n",
              "    }\n",
              "\n",
              "    [theme=dark] .colab-df-convert {\n",
              "      background-color: #3B4455;\n",
              "      fill: #D2E3FC;\n",
              "    }\n",
              "\n",
              "    [theme=dark] .colab-df-convert:hover {\n",
              "      background-color: #434B5C;\n",
              "      box-shadow: 0px 1px 3px 1px rgba(0, 0, 0, 0.15);\n",
              "      filter: drop-shadow(0px 1px 2px rgba(0, 0, 0, 0.3));\n",
              "      fill: #FFFFFF;\n",
              "    }\n",
              "  </style>\n",
              "\n",
              "    <script>\n",
              "      const buttonEl =\n",
              "        document.querySelector('#df-6cf30e56-ae2c-4748-9f2a-e4a9c7888734 button.colab-df-convert');\n",
              "      buttonEl.style.display =\n",
              "        google.colab.kernel.accessAllowed ? 'block' : 'none';\n",
              "\n",
              "      async function convertToInteractive(key) {\n",
              "        const element = document.querySelector('#df-6cf30e56-ae2c-4748-9f2a-e4a9c7888734');\n",
              "        const dataTable =\n",
              "          await google.colab.kernel.invokeFunction('convertToInteractive',\n",
              "                                                    [key], {});\n",
              "        if (!dataTable) return;\n",
              "\n",
              "        const docLinkHtml = 'Like what you see? Visit the ' +\n",
              "          '<a target=\"_blank\" href=https://colab.research.google.com/notebooks/data_table.ipynb>data table notebook</a>'\n",
              "          + ' to learn more about interactive tables.';\n",
              "        element.innerHTML = '';\n",
              "        dataTable['output_type'] = 'display_data';\n",
              "        await google.colab.output.renderOutput(dataTable, element);\n",
              "        const docLink = document.createElement('div');\n",
              "        docLink.innerHTML = docLinkHtml;\n",
              "        element.appendChild(docLink);\n",
              "      }\n",
              "    </script>\n",
              "  </div>\n",
              "\n",
              "\n",
              "<div id=\"df-4780b22f-373b-4b63-9264-e0e341632113\">\n",
              "  <button class=\"colab-df-quickchart\" onclick=\"quickchart('df-4780b22f-373b-4b63-9264-e0e341632113')\"\n",
              "            title=\"Suggest charts\"\n",
              "            style=\"display:none;\">\n",
              "\n",
              "<svg xmlns=\"http://www.w3.org/2000/svg\" height=\"24px\"viewBox=\"0 0 24 24\"\n",
              "     width=\"24px\">\n",
              "    <g>\n",
              "        <path d=\"M19 3H5c-1.1 0-2 .9-2 2v14c0 1.1.9 2 2 2h14c1.1 0 2-.9 2-2V5c0-1.1-.9-2-2-2zM9 17H7v-7h2v7zm4 0h-2V7h2v10zm4 0h-2v-4h2v4z\"/>\n",
              "    </g>\n",
              "</svg>\n",
              "  </button>\n",
              "\n",
              "<style>\n",
              "  .colab-df-quickchart {\n",
              "      --bg-color: #E8F0FE;\n",
              "      --fill-color: #1967D2;\n",
              "      --hover-bg-color: #E2EBFA;\n",
              "      --hover-fill-color: #174EA6;\n",
              "      --disabled-fill-color: #AAA;\n",
              "      --disabled-bg-color: #DDD;\n",
              "  }\n",
              "\n",
              "  [theme=dark] .colab-df-quickchart {\n",
              "      --bg-color: #3B4455;\n",
              "      --fill-color: #D2E3FC;\n",
              "      --hover-bg-color: #434B5C;\n",
              "      --hover-fill-color: #FFFFFF;\n",
              "      --disabled-bg-color: #3B4455;\n",
              "      --disabled-fill-color: #666;\n",
              "  }\n",
              "\n",
              "  .colab-df-quickchart {\n",
              "    background-color: var(--bg-color);\n",
              "    border: none;\n",
              "    border-radius: 50%;\n",
              "    cursor: pointer;\n",
              "    display: none;\n",
              "    fill: var(--fill-color);\n",
              "    height: 32px;\n",
              "    padding: 0;\n",
              "    width: 32px;\n",
              "  }\n",
              "\n",
              "  .colab-df-quickchart:hover {\n",
              "    background-color: var(--hover-bg-color);\n",
              "    box-shadow: 0 1px 2px rgba(60, 64, 67, 0.3), 0 1px 3px 1px rgba(60, 64, 67, 0.15);\n",
              "    fill: var(--button-hover-fill-color);\n",
              "  }\n",
              "\n",
              "  .colab-df-quickchart-complete:disabled,\n",
              "  .colab-df-quickchart-complete:disabled:hover {\n",
              "    background-color: var(--disabled-bg-color);\n",
              "    fill: var(--disabled-fill-color);\n",
              "    box-shadow: none;\n",
              "  }\n",
              "\n",
              "  .colab-df-spinner {\n",
              "    border: 2px solid var(--fill-color);\n",
              "    border-color: transparent;\n",
              "    border-bottom-color: var(--fill-color);\n",
              "    animation:\n",
              "      spin 1s steps(1) infinite;\n",
              "  }\n",
              "\n",
              "  @keyframes spin {\n",
              "    0% {\n",
              "      border-color: transparent;\n",
              "      border-bottom-color: var(--fill-color);\n",
              "      border-left-color: var(--fill-color);\n",
              "    }\n",
              "    20% {\n",
              "      border-color: transparent;\n",
              "      border-left-color: var(--fill-color);\n",
              "      border-top-color: var(--fill-color);\n",
              "    }\n",
              "    30% {\n",
              "      border-color: transparent;\n",
              "      border-left-color: var(--fill-color);\n",
              "      border-top-color: var(--fill-color);\n",
              "      border-right-color: var(--fill-color);\n",
              "    }\n",
              "    40% {\n",
              "      border-color: transparent;\n",
              "      border-right-color: var(--fill-color);\n",
              "      border-top-color: var(--fill-color);\n",
              "    }\n",
              "    60% {\n",
              "      border-color: transparent;\n",
              "      border-right-color: var(--fill-color);\n",
              "    }\n",
              "    80% {\n",
              "      border-color: transparent;\n",
              "      border-right-color: var(--fill-color);\n",
              "      border-bottom-color: var(--fill-color);\n",
              "    }\n",
              "    90% {\n",
              "      border-color: transparent;\n",
              "      border-bottom-color: var(--fill-color);\n",
              "    }\n",
              "  }\n",
              "</style>\n",
              "\n",
              "  <script>\n",
              "    async function quickchart(key) {\n",
              "      const quickchartButtonEl =\n",
              "        document.querySelector('#' + key + ' button');\n",
              "      quickchartButtonEl.disabled = true;  // To prevent multiple clicks.\n",
              "      quickchartButtonEl.classList.add('colab-df-spinner');\n",
              "      try {\n",
              "        const charts = await google.colab.kernel.invokeFunction(\n",
              "            'suggestCharts', [key], {});\n",
              "      } catch (error) {\n",
              "        console.error('Error during call to suggestCharts:', error);\n",
              "      }\n",
              "      quickchartButtonEl.classList.remove('colab-df-spinner');\n",
              "      quickchartButtonEl.classList.add('colab-df-quickchart-complete');\n",
              "    }\n",
              "    (() => {\n",
              "      let quickchartButtonEl =\n",
              "        document.querySelector('#df-4780b22f-373b-4b63-9264-e0e341632113 button');\n",
              "      quickchartButtonEl.style.display =\n",
              "        google.colab.kernel.accessAllowed ? 'block' : 'none';\n",
              "    })();\n",
              "  </script>\n",
              "</div>\n",
              "    </div>\n",
              "  </div>\n"
            ]
          },
          "metadata": {},
          "execution_count": 245
        }
      ],
      "source": [
        "print(ber_parameters[5])\n",
        "pd.DataFrame(sample_sizes[5], columns=beta_grid.reshape(-1), index=mde_grid.reshape(-1))"
      ]
    },
    {
      "cell_type": "markdown",
      "metadata": {
        "id": "dmTkmq8L2oJ-"
      },
      "source": [
        "Какой размер детектируемого эффекта мы возьмём и какой для него размер выборок?"
      ]
    },
    {
      "cell_type": "markdown",
      "metadata": {
        "id": "4g0Os9Oc75AC"
      },
      "source": [
        "**Ответ:** MDE = 0.01. Размер выборки будет зависеть от параметров распределения бернулли. Зафиксируем 0.8 Тогда ориентируемся на 10_000\n",
        "\n"
      ]
    },
    {
      "cell_type": "markdown",
      "metadata": {
        "id": "08x_Jg3e75AC"
      },
      "source": [
        "Для выбранного критерия проведите АА-тест по сгенерированным данным."
      ]
    },
    {
      "cell_type": "code",
      "execution_count": 246,
      "metadata": {
        "id": "seAn6OXo1M3R"
      },
      "outputs": [],
      "source": [
        "new_data = sps.bernoulli.rvs(0.8, size=100_000)"
      ]
    },
    {
      "cell_type": "code",
      "execution_count": 247,
      "metadata": {
        "id": "pJCHuRhp75AC"
      },
      "outputs": [],
      "source": [
        "sample_size = 25_000\n",
        "mde = 0.01\n",
        "alpha = 0.05"
      ]
    },
    {
      "cell_type": "code",
      "execution_count": 248,
      "metadata": {
        "id": "jJUAGEGj75AC"
      },
      "outputs": [],
      "source": [
        "def absolute_ttest(x, y, alpha=0.05):\n",
        "    '''\n",
        "    Абсолютный t-test.\n",
        "\n",
        "    Аргументы:\n",
        "    x, y -- выборки одинакового размера\n",
        "    alpha -- уровень значимости\n",
        "\n",
        "    Возвращает:\n",
        "    stat -- статистика критерия\n",
        "    left_bound, right_bound -- границы дов. интервала\n",
        "    pvalue\n",
        "    '''\n",
        "\n",
        "    n = len(x)\n",
        "    x_mean = x.mean()\n",
        "    y_mean = y.mean()\n",
        "\n",
        "    stat = x_mean - y_mean\n",
        "    var = np.var(x) + np.var(y)\n",
        "    std = np.sqrt(var)\n",
        "\n",
        "    z_stat = np.sqrt(n) * stat / std\n",
        "    pvalue = 2*sps.norm.sf(np.abs(z_stat))\n",
        "\n",
        "    q = sps.norm.ppf(1 - alpha/2)\n",
        "    left_bound = -q*std / np.sqrt(n) + stat\n",
        "    right_bound = q*std / np.sqrt(n) + stat\n",
        "\n",
        "    return stat, left_bound, right_bound, pvalue"
      ]
    },
    {
      "cell_type": "code",
      "execution_count": 249,
      "metadata": {
        "id": "t-Xhz1_o75AC",
        "colab": {
          "base_uri": "https://localhost:8080/"
        },
        "outputId": "0385000f-f29f-437b-c26f-c892f2f4da97"
      },
      "outputs": [
        {
          "output_type": "stream",
          "name": "stderr",
          "text": [
            "100%|██████████| 2000/2000 [00:12<00:00, 165.70it/s]\n"
          ]
        }
      ],
      "source": [
        "p_vals = []\n",
        "\n",
        "for i in tqdm(range(2000)):\n",
        "\n",
        "    sample1, sample2 = np.random.choice(new_data, (2, sample_size), replace=False)\n",
        "\n",
        "    p_val = absolute_ttest(sample1,sample2)[3]\n",
        "    p_vals.append(p_val)\n",
        "\n",
        "p_vals = np.array(p_vals)"
      ]
    },
    {
      "cell_type": "code",
      "execution_count": 250,
      "metadata": {
        "id": "qc73I5D075AC"
      },
      "outputs": [],
      "source": [
        "def draw_interval(\n",
        "    real_alpha, left_alpha, right_alpha,\n",
        "    alpha=0.05, figsize=(7, 2)\n",
        "):\n",
        "    '''\n",
        "    Отрисовка интервала для реального уровня значимости\n",
        "    real_alpha -- оценка уровня значимости\n",
        "    left_alpha, right_alpha -- границы доверительного интервала\n",
        "    alpha -- теоретический уровень значимости\n",
        "    figsize -- размер фигуры matplotlib\n",
        "    '''\n",
        "\n",
        "    with sns.axes_style(\"whitegrid\"):\n",
        "        plt.figure(figsize=(6, 2))\n",
        "        plt.hlines(0, 0, 1, color='black', lw=2, alpha=0.6)\n",
        "        plt.vlines(alpha, -1, 1, color='red', lw=5, linestyle='--', alpha=0.6)\n",
        "        plt.fill_between(\n",
        "            [left_alpha, right_alpha], [0.15]*2, [-0.15]*2,\n",
        "            color='green', alpha=0.6\n",
        "        )\n",
        "        plt.scatter(real_alpha, 0, s=300, marker='*', color='red')\n",
        "        plt.xlim((min(alpha, left_alpha)-1e-3, max(alpha, right_alpha)+1e-3))\n",
        "        plt.title(\n",
        "            f'Доля отвержений = {100*real_alpha:.2f}%, '\n",
        "            f'интервал ({100*left_alpha:.2f}%, {100*right_alpha:.2f}%)'\n",
        "        )\n",
        "        plt.ylim((-0.5, 0.5))\n",
        "        plt.yticks([])\n",
        "        plt.tight_layout()\n",
        "        plt.show()"
      ]
    },
    {
      "cell_type": "code",
      "execution_count": 251,
      "metadata": {
        "id": "EG18ZJjd75AC",
        "colab": {
          "base_uri": "https://localhost:8080/",
          "height": 207
        },
        "outputId": "c8ba666d-87da-4924-8d56-73c64c6f3eaf"
      },
      "outputs": [
        {
          "output_type": "stream",
          "name": "stdout",
          "text": [
            "Реальный уровень значимости: 0.06\n"
          ]
        },
        {
          "output_type": "display_data",
          "data": {
            "text/plain": [
              "<Figure size 600x200 with 1 Axes>"
            ],
            "image/png": "[encoded data removed]"
          },
          "metadata": {}
        }
      ],
      "source": [
        "real_alpha = (p_vals < alpha).mean()\n",
        "print(f'Реальный уровень значимости: {real_alpha.round(2)}')\n",
        "left_alpha, right_alpha = proportion_confint((p_vals < alpha).sum(), len(p_vals), method='wilson')\n",
        "draw_interval(real_alpha, left_alpha, right_alpha, alpha=alpha)"
      ]
    },
    {
      "cell_type": "markdown",
      "metadata": {
        "id": "pRT2uQUp3fVy"
      },
      "source": [
        "Посмотрите на гистограмму pvalue."
      ]
    },
    {
      "cell_type": "code",
      "execution_count": 252,
      "metadata": {
        "id": "ChSdghWf75AD",
        "colab": {
          "base_uri": "https://localhost:8080/",
          "height": 401
        },
        "outputId": "43fc166b-88a4-4a37-ecdc-206a239f5f19"
      },
      "outputs": [
        {
          "output_type": "display_data",
          "data": {
            "text/plain": [
              "<Figure size 1000x400 with 1 Axes>"
            ],
            "image/png": "[encoded data removed]"
          },
          "metadata": {}
        }
      ],
      "source": [
        "sns.set_style(\"whitegrid\")\n",
        "\n",
        "plt.figure(figsize=(10, 4))\n",
        "plt.title('Гистограмма pvalue')\n",
        "sns.histplot(p_vals)\n",
        "plt.show()"
      ]
    },
    {
      "cell_type": "markdown",
      "metadata": {
        "id": "kOnRQF5D75AD"
      },
      "source": [
        "Какие выводы о валидности выбранного критерия вы можете сделать?\n",
        "\n",
        "**Ответ:**\n"
      ]
    },
    {
      "cell_type": "code",
      "execution_count": 253,
      "metadata": {
        "id": "FVqqmzE_75AD",
        "colab": {
          "base_uri": "https://localhost:8080/"
        },
        "outputId": "5b9df44b-1403-4678-87b9-d049aa0b8ef0"
      },
      "outputs": [
        {
          "output_type": "stream",
          "name": "stderr",
          "text": [
            "100%|██████████| 2000/2000 [00:27<00:00, 72.44it/s]\n"
          ]
        }
      ],
      "source": [
        "pvals = []\n",
        "\n",
        "for _ in tqdm(range(2000)):\n",
        "    sample1, sample2 = np.random.choice(new_data, (2, sample_size), replace=False)\n",
        "\n",
        "    sample2 = sample2 + mde\n",
        "    #sample2 += sps.norm.rvs(size=len(sample2), scale=0.01)\n",
        "\n",
        "    pvals.append(absolute_ttest(sample1,sample2)[3])\n",
        "\n",
        "pvals = np.array(pvals)"
      ]
    },
    {
      "cell_type": "code",
      "source": [
        "print(f'Реальная мощность критерия: {(pvals < alpha).mean().round(3)}')"
      ],
      "metadata": {
        "colab": {
          "base_uri": "https://localhost:8080/"
        },
        "id": "ODNK8dXh6-Lk",
        "outputId": "61a543cb-632f-4849-8599-f7174d1ea5dc"
      },
      "execution_count": 254,
      "outputs": [
        {
          "output_type": "stream",
          "name": "stdout",
          "text": [
            "Реальная мощность критерия: 0.8\n"
          ]
        }
      ]
    },
    {
      "cell_type": "markdown",
      "source": [
        "$$\n",
        "P( \\left|\\frac{\\bar{X}-\\bar{Y}}{\\sqrt{\\frac{\\sigma^2_1+\\sigma^2_2}{n}}}\\right|>q_{1-\\alpha/2}) = \\beta\n",
        "$$"
      ],
      "metadata": {
        "id": "nujHJHGX10hq"
      }
    },
    {
      "cell_type": "code",
      "source": [
        "# синтетический AB-тест\n",
        "pvals = []\n",
        "\n",
        "mde = 0.01\n",
        "beta = 0.8\n",
        "alpha = 0.05\n",
        "\n",
        "\n",
        "quantile = sps.norm.ppf(1-alpha/2) + sps.norm.ppf(beta)\n",
        "\n",
        "var_R = 0.8*(1-0.8) + (0.8+mde)*(1-0.8-mde)\n",
        "sample_size =  np.ceil(( quantile ** 2) * (var_R) / (mde * mde)).astype(int)\n",
        "\n",
        "\n",
        "for _ in tqdm(range(2000)):\n",
        "    sample1 = sps.bernoulli.rvs(0.8, size=sample_size)\n",
        "    sample2 = sps.bernoulli.rvs(0.8 + mde, size=sample_size)\n",
        "\n",
        "    stat = sample1.mean() - sample2.mean()\n",
        "    var = 0.8*(1-0.8) + (0.8+mde)*(1-0.8-mde)\n",
        "    std = np.sqrt(var)\n",
        "\n",
        "    z_stat = np.sqrt(sample_size) * stat / std\n",
        "    pvals.append(2*sps.norm.sf(np.abs(z_stat)))\n",
        "\n",
        "pvals = np.array(pvals)"
      ],
      "metadata": {
        "colab": {
          "base_uri": "https://localhost:8080/"
        },
        "id": "Q9PqwTbkcgLE",
        "outputId": "5f359c4a-383a-4dbd-ad95-584b08f1e1b3"
      },
      "execution_count": 255,
      "outputs": [
        {
          "output_type": "stream",
          "name": "stderr",
          "text": [
            "100%|██████████| 2000/2000 [00:10<00:00, 189.03it/s]\n"
          ]
        }
      ]
    },
    {
      "cell_type": "code",
      "execution_count": 256,
      "metadata": {
        "id": "0_qiffXg75AD",
        "colab": {
          "base_uri": "https://localhost:8080/"
        },
        "outputId": "101f7302-74f9-4d13-84f6-08e0522e9dfc"
      },
      "outputs": [
        {
          "output_type": "stream",
          "name": "stdout",
          "text": [
            "Реальная мощность критерия: 0.806\n"
          ]
        }
      ],
      "source": [
        "print(f'Реальная мощность критерия: {(pvals < alpha).mean().round(3)}')"
      ]
    },
    {
      "cell_type": "markdown",
      "metadata": {
        "id": "uPwu4VYSUfHT"
      },
      "source": [
        "**Вывод** реальная мощность критерия оказывается слабее теоретической. Даже в случае точно заданной дисперсии выборки.\n",
        "\n",
        "Это связано с ошибкой отвержения нулевой гипотезы alpha.\n",
        "\n",
        "Полезно закладывать амортизацию порядка 1.2 для обеспечения необходимой мощности\n",
        "\n",
        "\n",
        "\n",
        "\n"
      ]
    },
    {
      "cell_type": "markdown",
      "metadata": {
        "id": "ZccDWa6RuNNI"
      },
      "source": [
        "### Задача 3\n",
        "#### **Профиль биология**\n",
        "\n",
        "В одной фармацевтической компании собираются проводить II фазу клинических испытаний нового лекарства, ослабляющего симптомы диабета. Перед командой аналитики стоит задача о корректном проведении AB-тестирования. У вас имеются исторические [данные по пациентам](https://www.kaggle.com/datasets/jillanisofttech/diabetes-disease-updated-dataset?select=diabetes.csv), страдающим диабетом. С помощью них проведите дизайн эксперимента.\n",
        "\n",
        "\n",
        "Выберите или оцените каким-нибудь способом:\n",
        "\n",
        "1. Таргет клинических испытаний (первичную контрольную точку): уровень глюкозы, инсулина, толщину кожи и тд.;\n",
        "\n",
        "2. Статистический критерий (название / односторонний или двусторонний / связные или независимые выборки);\n",
        "\n",
        "3. Размеры A и B групп;\n",
        "\n",
        "4. Желаемый минимальный детектируемый эффект;\n",
        "\n",
        "5. Мощность критерия.\n",
        "\n",
        "Обоснуйте свой выбор в каждом из пунктов.\n",
        "\n",
        "Все ли полученные показатели вас устраивают? Если нет, то какие могут быть способы их улучшить?\n",
        "\n",
        "*Примечание.* Если кажется, что информации недостаточно, сделайте свои дополнительные предположения, коррелирующие с реальностью, и работайте с ними.\n",
        "\n",
        "\n",
        "Для выбранного критерия проведите АА-тест по историческим данным. Если исторических данных оказалось недостаточно для вашей модели, придумайте способ решения проблемы."
      ]
    },
    {
      "cell_type": "code",
      "source": [
        "od.download('https://www.kaggle.com/datasets/jillanisofttech/diabetes-disease-updated-dataset?select=diabetes.csv')"
      ],
      "metadata": {
        "colab": {
          "base_uri": "https://localhost:8080/"
        },
        "id": "XzQVoBZMqMB0",
        "outputId": "da12d3b9-cedb-4657-9e3c-7be549f8647f"
      },
      "execution_count": 257,
      "outputs": [
        {
          "output_type": "stream",
          "name": "stdout",
          "text": [
            "Please provide your Kaggle credentials to download this dataset. Learn more: http://bit.ly/kaggle-creds\n",
            "Your Kaggle username: mashalovne\n",
            "Your Kaggle Key: ··········\n",
            "Downloading diabetes-disease-updated-dataset.zip to ./diabetes-disease-updated-dataset\n"
          ]
        },
        {
          "output_type": "stream",
          "name": "stderr",
          "text": [
            "100%|██████████| 8.91k/8.91k [00:00<00:00, 4.96MB/s]"
          ]
        },
        {
          "output_type": "stream",
          "name": "stdout",
          "text": [
            "\n"
          ]
        },
        {
          "output_type": "stream",
          "name": "stderr",
          "text": [
            "\n"
          ]
        }
      ]
    },
    {
      "cell_type": "code",
      "execution_count": 317,
      "metadata": {
        "id": "IeP_ga6GrMU_"
      },
      "outputs": [],
      "source": [
        "DATA_PATH = '/content/diabetes-disease-updated-dataset/diabetes.csv'"
      ]
    },
    {
      "cell_type": "code",
      "execution_count": 318,
      "metadata": {
        "id": "zLuiUDLTrQP5",
        "colab": {
          "base_uri": "https://localhost:8080/",
          "height": 424
        },
        "outputId": "04fd3a4b-2687-4bed-bfd2-f1f00a6b8ce9"
      },
      "outputs": [
        {
          "output_type": "execute_result",
          "data": {
            "text/plain": [
              "     Pregnancies  Glucose  BloodPressure  SkinThickness  Insulin   BMI  \\\n",
              "0              6      148             72             35        0  33.6   \n",
              "2              8      183             64              0        0  23.3   \n",
              "4              0      137             40             35      168  43.1   \n",
              "6              3       78             50             32       88  31.0   \n",
              "8              2      197             70             45      543  30.5   \n",
              "..           ...      ...            ...            ...      ...   ...   \n",
              "755            1      128             88             39      110  36.5   \n",
              "757            0      123             72              0        0  36.3   \n",
              "759            6      190             92              0        0  35.5   \n",
              "761            9      170             74             31        0  44.0   \n",
              "766            1      126             60              0        0  30.1   \n",
              "\n",
              "     DiabetesPedigreeFunction  Age  Outcome  \n",
              "0                       0.627   50        1  \n",
              "2                       0.672   32        1  \n",
              "4                       2.288   33        1  \n",
              "6                       0.248   26        1  \n",
              "8                       0.158   53        1  \n",
              "..                        ...  ...      ...  \n",
              "755                     1.057   37        1  \n",
              "757                     0.258   52        1  \n",
              "759                     0.278   66        1  \n",
              "761                     0.403   43        1  \n",
              "766                     0.349   47        1  \n",
              "\n",
              "[268 rows x 9 columns]"
            ],
            "text/html": [
              "\n",
              "  <div id=\"df-be4332fa-b6c7-427a-ada0-1a0ce2a97819\" class=\"colab-df-container\">\n",
              "    <div>\n",
              "<style scoped>\n",
              "    .dataframe tbody tr th:only-of-type {\n",
              "        vertical-align: middle;\n",
              "    }\n",
              "\n",
              "    .dataframe tbody tr th {\n",
              "        vertical-align: top;\n",
              "    }\n",
              "\n",
              "    .dataframe thead th {\n",
              "        text-align: right;\n",
              "    }\n",
              "</style>\n",
              "<table border=\"1\" class=\"dataframe\">\n",
              "  <thead>\n",
              "    <tr style=\"text-align: right;\">\n",
              "      <th></th>\n",
              "      <th>Pregnancies</th>\n",
              "      <th>Glucose</th>\n",
              "      <th>BloodPressure</th>\n",
              "      <th>SkinThickness</th>\n",
              "      <th>Insulin</th>\n",
              "      <th>BMI</th>\n",
              "      <th>DiabetesPedigreeFunction</th>\n",
              "      <th>Age</th>\n",
              "      <th>Outcome</th>\n",
              "    </tr>\n",
              "  </thead>\n",
              "  <tbody>\n",
              "    <tr>\n",
              "      <th>0</th>\n",
              "      <td>6</td>\n",
              "      <td>148</td>\n",
              "      <td>72</td>\n",
              "      <td>35</td>\n",
              "      <td>0</td>\n",
              "      <td>33.6</td>\n",
              "      <td>0.627</td>\n",
              "      <td>50</td>\n",
              "      <td>1</td>\n",
              "    </tr>\n",
              "    <tr>\n",
              "      <th>2</th>\n",
              "      <td>8</td>\n",
              "      <td>183</td>\n",
              "      <td>64</td>\n",
              "      <td>0</td>\n",
              "      <td>0</td>\n",
              "      <td>23.3</td>\n",
              "      <td>0.672</td>\n",
              "      <td>32</td>\n",
              "      <td>1</td>\n",
              "    </tr>\n",
              "    <tr>\n",
              "      <th>4</th>\n",
              "      <td>0</td>\n",
              "      <td>137</td>\n",
              "      <td>40</td>\n",
              "      <td>35</td>\n",
              "      <td>168</td>\n",
              "      <td>43.1</td>\n",
              "      <td>2.288</td>\n",
              "      <td>33</td>\n",
              "      <td>1</td>\n",
              "    </tr>\n",
              "    <tr>\n",
              "      <th>6</th>\n",
              "      <td>3</td>\n",
              "      <td>78</td>\n",
              "      <td>50</td>\n",
              "      <td>32</td>\n",
              "      <td>88</td>\n",
              "      <td>31.0</td>\n",
              "      <td>0.248</td>\n",
              "      <td>26</td>\n",
              "      <td>1</td>\n",
              "    </tr>\n",
              "    <tr>\n",
              "      <th>8</th>\n",
              "      <td>2</td>\n",
              "      <td>197</td>\n",
              "      <td>70</td>\n",
              "      <td>45</td>\n",
              "      <td>543</td>\n",
              "      <td>30.5</td>\n",
              "      <td>0.158</td>\n",
              "      <td>53</td>\n",
              "      <td>1</td>\n",
              "    </tr>\n",
              "    <tr>\n",
              "      <th>...</th>\n",
              "      <td>...</td>\n",
              "      <td>...</td>\n",
              "      <td>...</td>\n",
              "      <td>...</td>\n",
              "      <td>...</td>\n",
              "      <td>...</td>\n",
              "      <td>...</td>\n",
              "      <td>...</td>\n",
              "      <td>...</td>\n",
              "    </tr>\n",
              "    <tr>\n",
              "      <th>755</th>\n",
              "      <td>1</td>\n",
              "      <td>128</td>\n",
              "      <td>88</td>\n",
              "      <td>39</td>\n",
              "      <td>110</td>\n",
              "      <td>36.5</td>\n",
              "      <td>1.057</td>\n",
              "      <td>37</td>\n",
              "      <td>1</td>\n",
              "    </tr>\n",
              "    <tr>\n",
              "      <th>757</th>\n",
              "      <td>0</td>\n",
              "      <td>123</td>\n",
              "      <td>72</td>\n",
              "      <td>0</td>\n",
              "      <td>0</td>\n",
              "      <td>36.3</td>\n",
              "      <td>0.258</td>\n",
              "      <td>52</td>\n",
              "      <td>1</td>\n",
              "    </tr>\n",
              "    <tr>\n",
              "      <th>759</th>\n",
              "      <td>6</td>\n",
              "      <td>190</td>\n",
              "      <td>92</td>\n",
              "      <td>0</td>\n",
              "      <td>0</td>\n",
              "      <td>35.5</td>\n",
              "      <td>0.278</td>\n",
              "      <td>66</td>\n",
              "      <td>1</td>\n",
              "    </tr>\n",
              "    <tr>\n",
              "      <th>761</th>\n",
              "      <td>9</td>\n",
              "      <td>170</td>\n",
              "      <td>74</td>\n",
              "      <td>31</td>\n",
              "      <td>0</td>\n",
              "      <td>44.0</td>\n",
              "      <td>0.403</td>\n",
              "      <td>43</td>\n",
              "      <td>1</td>\n",
              "    </tr>\n",
              "    <tr>\n",
              "      <th>766</th>\n",
              "      <td>1</td>\n",
              "      <td>126</td>\n",
              "      <td>60</td>\n",
              "      <td>0</td>\n",
              "      <td>0</td>\n",
              "      <td>30.1</td>\n",
              "      <td>0.349</td>\n",
              "      <td>47</td>\n",
              "      <td>1</td>\n",
              "    </tr>\n",
              "  </tbody>\n",
              "</table>\n",
              "<p>268 rows × 9 columns</p>\n",
              "</div>\n",
              "    <div class=\"colab-df-buttons\">\n",
              "\n",
              "  <div class=\"colab-df-container\">\n",
              "    <button class=\"colab-df-convert\" onclick=\"convertToInteractive('df-be4332fa-b6c7-427a-ada0-1a0ce2a97819')\"\n",
              "            title=\"Convert this dataframe to an interactive table.\"\n",
              "            style=\"display:none;\">\n",
              "\n",
              "  <svg xmlns=\"http://www.w3.org/2000/svg\" height=\"24px\" viewBox=\"0 -960 960 960\">\n",
              "    <path d=\"M120-120v-720h720v720H120Zm60-500h600v-160H180v160Zm220 220h160v-160H400v160Zm0 220h160v-160H400v160ZM180-400h160v-160H180v160Zm440 0h160v-160H620v160ZM180-180h160v-160H180v160Zm440 0h160v-160H620v160Z\"/>\n",
              "  </svg>\n",
              "    </button>\n",
              "\n",
              "  <style>\n",
              "    .colab-df-container {\n",
              "      display:flex;\n",
              "      gap: 12px;\n",
              "    }\n",
              "\n",
              "    .colab-df-convert {\n",
              "      background-color: #E8F0FE;\n",
              "      border: none;\n",
              "      border-radius: 50%;\n",
              "      cursor: pointer;\n",
              "      display: none;\n",
              "      fill: #1967D2;\n",
              "      height: 32px;\n",
              "      padding: 0 0 0 0;\n",
              "      width: 32px;\n",
              "    }\n",
              "\n",
              "    .colab-df-convert:hover {\n",
              "      background-color: #E2EBFA;\n",
              "      box-shadow: 0px 1px 2px rgba(60, 64, 67, 0.3), 0px 1px 3px 1px rgba(60, 64, 67, 0.15);\n",
              "      fill: #174EA6;\n",
              "    }\n",
              "\n",
              "    .colab-df-buttons div {\n",
              "      margin-bottom: 4px;\n",
              "    }\n",
              "\n",
              "    [theme=dark] .colab-df-convert {\n",
              "      background-color: #3B4455;\n",
              "      fill: #D2E3FC;\n",
              "    }\n",
              "\n",
              "    [theme=dark] .colab-df-convert:hover {\n",
              "      background-color: #434B5C;\n",
              "      box-shadow: 0px 1px 3px 1px rgba(0, 0, 0, 0.15);\n",
              "      filter: drop-shadow(0px 1px 2px rgba(0, 0, 0, 0.3));\n",
              "      fill: #FFFFFF;\n",
              "    }\n",
              "  </style>\n",
              "\n",
              "    <script>\n",
              "      const buttonEl =\n",
              "        document.querySelector('#df-be4332fa-b6c7-427a-ada0-1a0ce2a97819 button.colab-df-convert');\n",
              "      buttonEl.style.display =\n",
              "        google.colab.kernel.accessAllowed ? 'block' : 'none';\n",
              "\n",
              "      async function convertToInteractive(key) {\n",
              "        const element = document.querySelector('#df-be4332fa-b6c7-427a-ada0-1a0ce2a97819');\n",
              "        const dataTable =\n",
              "          await google.colab.kernel.invokeFunction('convertToInteractive',\n",
              "                                                    [key], {});\n",
              "        if (!dataTable) return;\n",
              "\n",
              "        const docLinkHtml = 'Like what you see? Visit the ' +\n",
              "          '<a target=\"_blank\" href=https://colab.research.google.com/notebooks/data_table.ipynb>data table notebook</a>'\n",
              "          + ' to learn more about interactive tables.';\n",
              "        element.innerHTML = '';\n",
              "        dataTable['output_type'] = 'display_data';\n",
              "        await google.colab.output.renderOutput(dataTable, element);\n",
              "        const docLink = document.createElement('div');\n",
              "        docLink.innerHTML = docLinkHtml;\n",
              "        element.appendChild(docLink);\n",
              "      }\n",
              "    </script>\n",
              "  </div>\n",
              "\n",
              "\n",
              "<div id=\"df-c8a1b7ce-c280-4ede-9ada-f09dfa7d7cc8\">\n",
              "  <button class=\"colab-df-quickchart\" onclick=\"quickchart('df-c8a1b7ce-c280-4ede-9ada-f09dfa7d7cc8')\"\n",
              "            title=\"Suggest charts\"\n",
              "            style=\"display:none;\">\n",
              "\n",
              "<svg xmlns=\"http://www.w3.org/2000/svg\" height=\"24px\"viewBox=\"0 0 24 24\"\n",
              "     width=\"24px\">\n",
              "    <g>\n",
              "        <path d=\"M19 3H5c-1.1 0-2 .9-2 2v14c0 1.1.9 2 2 2h14c1.1 0 2-.9 2-2V5c0-1.1-.9-2-2-2zM9 17H7v-7h2v7zm4 0h-2V7h2v10zm4 0h-2v-4h2v4z\"/>\n",
              "    </g>\n",
              "</svg>\n",
              "  </button>\n",
              "\n",
              "<style>\n",
              "  .colab-df-quickchart {\n",
              "      --bg-color: #E8F0FE;\n",
              "      --fill-color: #1967D2;\n",
              "      --hover-bg-color: #E2EBFA;\n",
              "      --hover-fill-color: #174EA6;\n",
              "      --disabled-fill-color: #AAA;\n",
              "      --disabled-bg-color: #DDD;\n",
              "  }\n",
              "\n",
              "  [theme=dark] .colab-df-quickchart {\n",
              "      --bg-color: #3B4455;\n",
              "      --fill-color: #D2E3FC;\n",
              "      --hover-bg-color: #434B5C;\n",
              "      --hover-fill-color: #FFFFFF;\n",
              "      --disabled-bg-color: #3B4455;\n",
              "      --disabled-fill-color: #666;\n",
              "  }\n",
              "\n",
              "  .colab-df-quickchart {\n",
              "    background-color: var(--bg-color);\n",
              "    border: none;\n",
              "    border-radius: 50%;\n",
              "    cursor: pointer;\n",
              "    display: none;\n",
              "    fill: var(--fill-color);\n",
              "    height: 32px;\n",
              "    padding: 0;\n",
              "    width: 32px;\n",
              "  }\n",
              "\n",
              "  .colab-df-quickchart:hover {\n",
              "    background-color: var(--hover-bg-color);\n",
              "    box-shadow: 0 1px 2px rgba(60, 64, 67, 0.3), 0 1px 3px 1px rgba(60, 64, 67, 0.15);\n",
              "    fill: var(--button-hover-fill-color);\n",
              "  }\n",
              "\n",
              "  .colab-df-quickchart-complete:disabled,\n",
              "  .colab-df-quickchart-complete:disabled:hover {\n",
              "    background-color: var(--disabled-bg-color);\n",
              "    fill: var(--disabled-fill-color);\n",
              "    box-shadow: none;\n",
              "  }\n",
              "\n",
              "  .colab-df-spinner {\n",
              "    border: 2px solid var(--fill-color);\n",
              "    border-color: transparent;\n",
              "    border-bottom-color: var(--fill-color);\n",
              "    animation:\n",
              "      spin 1s steps(1) infinite;\n",
              "  }\n",
              "\n",
              "  @keyframes spin {\n",
              "    0% {\n",
              "      border-color: transparent;\n",
              "      border-bottom-color: var(--fill-color);\n",
              "      border-left-color: var(--fill-color);\n",
              "    }\n",
              "    20% {\n",
              "      border-color: transparent;\n",
              "      border-left-color: var(--fill-color);\n",
              "      border-top-color: var(--fill-color);\n",
              "    }\n",
              "    30% {\n",
              "      border-color: transparent;\n",
              "      border-left-color: var(--fill-color);\n",
              "      border-top-color: var(--fill-color);\n",
              "      border-right-color: var(--fill-color);\n",
              "    }\n",
              "    40% {\n",
              "      border-color: transparent;\n",
              "      border-right-color: var(--fill-color);\n",
              "      border-top-color: var(--fill-color);\n",
              "    }\n",
              "    60% {\n",
              "      border-color: transparent;\n",
              "      border-right-color: var(--fill-color);\n",
              "    }\n",
              "    80% {\n",
              "      border-color: transparent;\n",
              "      border-right-color: var(--fill-color);\n",
              "      border-bottom-color: var(--fill-color);\n",
              "    }\n",
              "    90% {\n",
              "      border-color: transparent;\n",
              "      border-bottom-color: var(--fill-color);\n",
              "    }\n",
              "  }\n",
              "</style>\n",
              "\n",
              "  <script>\n",
              "    async function quickchart(key) {\n",
              "      const quickchartButtonEl =\n",
              "        document.querySelector('#' + key + ' button');\n",
              "      quickchartButtonEl.disabled = true;  // To prevent multiple clicks.\n",
              "      quickchartButtonEl.classList.add('colab-df-spinner');\n",
              "      try {\n",
              "        const charts = await google.colab.kernel.invokeFunction(\n",
              "            'suggestCharts', [key], {});\n",
              "      } catch (error) {\n",
              "        console.error('Error during call to suggestCharts:', error);\n",
              "      }\n",
              "      quickchartButtonEl.classList.remove('colab-df-spinner');\n",
              "      quickchartButtonEl.classList.add('colab-df-quickchart-complete');\n",
              "    }\n",
              "    (() => {\n",
              "      let quickchartButtonEl =\n",
              "        document.querySelector('#df-c8a1b7ce-c280-4ede-9ada-f09dfa7d7cc8 button');\n",
              "      quickchartButtonEl.style.display =\n",
              "        google.colab.kernel.accessAllowed ? 'block' : 'none';\n",
              "    })();\n",
              "  </script>\n",
              "</div>\n",
              "    </div>\n",
              "  </div>\n"
            ]
          },
          "metadata": {},
          "execution_count": 318
        }
      ],
      "source": [
        "data = pd.read_csv(DATA_PATH)\n",
        "data = data[data['Outcome']==1]\n",
        "data"
      ]
    },
    {
      "cell_type": "markdown",
      "metadata": {
        "id": "Y1WS0oLvtyWe"
      },
      "source": [
        "Выберите, обоснуйте и визуализируйте:\n",
        "\n",
        "> Таргет клинических испытаний (первичную контрольную точку): уровень глюкозы, инсулина, толщину кожи и тд.;\n",
        "\n",
        "**Ответ:**"
      ]
    },
    {
      "cell_type": "code",
      "execution_count": 319,
      "metadata": {
        "id": "TtrjGVYYrMBB",
        "colab": {
          "base_uri": "https://localhost:8080/",
          "height": 209
        },
        "outputId": "337270a1-f395-41f8-fc06-69101ae60d60"
      },
      "outputs": [
        {
          "output_type": "display_data",
          "data": {
            "text/plain": [
              "<Figure size 1000x150 with 1 Axes>"
            ],
            "image/png": "[encoded data removed]"
          },
          "metadata": {}
        }
      ],
      "source": [
        "plt.figure(figsize=(10, 1.5))\n",
        "sns.boxplot(data[['Glucose','Insulin','SkinThickness']], orient='h')\n",
        "plt.title('First')\n",
        "plt.show()"
      ]
    },
    {
      "cell_type": "markdown",
      "metadata": {
        "id": "Vkj_jt4gvaNI"
      },
      "source": [
        "> Статистический критерий (название / односторонний или двусторонний / связные или независимые выборки);\n",
        "\n",
        "**Ответ:** двусторонний t-test, независимые выборки"
      ]
    },
    {
      "cell_type": "markdown",
      "metadata": {
        "id": "HgJ7CFyY2V3k"
      },
      "source": [
        "> Мощность критерия\n",
        "\n",
        "**Ответ:** 0.8"
      ]
    },
    {
      "cell_type": "markdown",
      "metadata": {
        "id": "ChHswB3A4WfC"
      },
      "source": [
        "> Желаемый минимальный детектируемый эффект;\n",
        "\n",
        "> Размер А и В групп;"
      ]
    },
    {
      "cell_type": "markdown",
      "metadata": {
        "id": "G_E94JxP4rTg"
      },
      "source": [
        "Будем подбирать по рассмотренной на семинаре таблице `MDE`-мощность-размер выборки"
      ]
    },
    {
      "cell_type": "code",
      "execution_count": 322,
      "metadata": {
        "id": "XzAT-346tu8l"
      },
      "outputs": [],
      "source": [
        "def get_mde(alpha, beta, sample_size, var_R, two_sided=False):\n",
        "    '''Расчитывает MDE\n",
        "\n",
        "    :param alpha: желаемая ошибка первого рода\n",
        "    :param beta: желаемая мощность\n",
        "    :param sample_size: размер выборок\n",
        "    :param var_R: оценка дисперсии выборок\n",
        "    :param two_sided: двусторонний ли критерий\n",
        "    :returns: теоретический MDE\n",
        "    '''\n",
        "\n",
        "    quantile = sps.norm.ppf(1-alpha/2) + sps.norm.ppf(beta)\n",
        "    return quantile * (var_R / sample_size)**0.5\n",
        "\n",
        "\n",
        "def get_sample_size(alpha, beta, mde, var_R, two_sided=False):\n",
        "    '''Расчитывает размер выборки для детектирование MDE\n",
        "\n",
        "    :param alpha: желаемая ошибка первого рода\n",
        "    :param beta: желаемая мощность\n",
        "    :param mde: необходимый эффект\n",
        "    :param var_R: дисперсии выборок\n",
        "    :returns: необходимый размер выборки\n",
        "    '''\n",
        "\n",
        "    quantile = sps.norm.ppf(1-alpha/2) + sps.norm.ppf(beta)\n",
        "    return (var_R * (quantile /mde) **2).astype(int)"
      ]
    },
    {
      "cell_type": "code",
      "execution_count": 334,
      "metadata": {
        "id": "ZbkXDP7a5X_1",
        "colab": {
          "base_uri": "https://localhost:8080/",
          "height": 332
        },
        "outputId": "fc94f624-d7f1-4a18-876b-174657c132c1"
      },
      "outputs": [
        {
          "output_type": "execute_result",
          "data": {
            "text/plain": [
              "      0.60  0.65  0.70  0.75  0.80  0.85   0.90   0.95\n",
              "0.01  5009  5624  6310  7096  8025  9180  10743  13287\n",
              "0.02  1252  1406  1577  1774  2006  2295   2685   3321\n",
              "0.03   556   624   701   788   891  1020   1193   1476\n",
              "0.04   313   351   394   443   501   573    671    830\n",
              "0.05   200   224   252   283   321   367    429    531\n",
              "0.06   139   156   175   197   222   255    298    369\n",
              "0.07   102   114   128   144   163   187    219    271\n",
              "0.08    78    87    98   110   125   143    167    207\n",
              "0.09    61    69    77    87    99   113    132    164"
            ],
            "text/html": [
              "\n",
              "  <div id=\"df-c6b093df-0741-4231-9b88-c8b7c053c950\" class=\"colab-df-container\">\n",
              "    <div>\n",
              "<style scoped>\n",
              "    .dataframe tbody tr th:only-of-type {\n",
              "        vertical-align: middle;\n",
              "    }\n",
              "\n",
              "    .dataframe tbody tr th {\n",
              "        vertical-align: top;\n",
              "    }\n",
              "\n",
              "    .dataframe thead th {\n",
              "        text-align: right;\n",
              "    }\n",
              "</style>\n",
              "<table border=\"1\" class=\"dataframe\">\n",
              "  <thead>\n",
              "    <tr style=\"text-align: right;\">\n",
              "      <th></th>\n",
              "      <th>0.60</th>\n",
              "      <th>0.65</th>\n",
              "      <th>0.70</th>\n",
              "      <th>0.75</th>\n",
              "      <th>0.80</th>\n",
              "      <th>0.85</th>\n",
              "      <th>0.90</th>\n",
              "      <th>0.95</th>\n",
              "    </tr>\n",
              "  </thead>\n",
              "  <tbody>\n",
              "    <tr>\n",
              "      <th>0.01</th>\n",
              "      <td>5009</td>\n",
              "      <td>5624</td>\n",
              "      <td>6310</td>\n",
              "      <td>7096</td>\n",
              "      <td>8025</td>\n",
              "      <td>9180</td>\n",
              "      <td>10743</td>\n",
              "      <td>13287</td>\n",
              "    </tr>\n",
              "    <tr>\n",
              "      <th>0.02</th>\n",
              "      <td>1252</td>\n",
              "      <td>1406</td>\n",
              "      <td>1577</td>\n",
              "      <td>1774</td>\n",
              "      <td>2006</td>\n",
              "      <td>2295</td>\n",
              "      <td>2685</td>\n",
              "      <td>3321</td>\n",
              "    </tr>\n",
              "    <tr>\n",
              "      <th>0.03</th>\n",
              "      <td>556</td>\n",
              "      <td>624</td>\n",
              "      <td>701</td>\n",
              "      <td>788</td>\n",
              "      <td>891</td>\n",
              "      <td>1020</td>\n",
              "      <td>1193</td>\n",
              "      <td>1476</td>\n",
              "    </tr>\n",
              "    <tr>\n",
              "      <th>0.04</th>\n",
              "      <td>313</td>\n",
              "      <td>351</td>\n",
              "      <td>394</td>\n",
              "      <td>443</td>\n",
              "      <td>501</td>\n",
              "      <td>573</td>\n",
              "      <td>671</td>\n",
              "      <td>830</td>\n",
              "    </tr>\n",
              "    <tr>\n",
              "      <th>0.05</th>\n",
              "      <td>200</td>\n",
              "      <td>224</td>\n",
              "      <td>252</td>\n",
              "      <td>283</td>\n",
              "      <td>321</td>\n",
              "      <td>367</td>\n",
              "      <td>429</td>\n",
              "      <td>531</td>\n",
              "    </tr>\n",
              "    <tr>\n",
              "      <th>0.06</th>\n",
              "      <td>139</td>\n",
              "      <td>156</td>\n",
              "      <td>175</td>\n",
              "      <td>197</td>\n",
              "      <td>222</td>\n",
              "      <td>255</td>\n",
              "      <td>298</td>\n",
              "      <td>369</td>\n",
              "    </tr>\n",
              "    <tr>\n",
              "      <th>0.07</th>\n",
              "      <td>102</td>\n",
              "      <td>114</td>\n",
              "      <td>128</td>\n",
              "      <td>144</td>\n",
              "      <td>163</td>\n",
              "      <td>187</td>\n",
              "      <td>219</td>\n",
              "      <td>271</td>\n",
              "    </tr>\n",
              "    <tr>\n",
              "      <th>0.08</th>\n",
              "      <td>78</td>\n",
              "      <td>87</td>\n",
              "      <td>98</td>\n",
              "      <td>110</td>\n",
              "      <td>125</td>\n",
              "      <td>143</td>\n",
              "      <td>167</td>\n",
              "      <td>207</td>\n",
              "    </tr>\n",
              "    <tr>\n",
              "      <th>0.09</th>\n",
              "      <td>61</td>\n",
              "      <td>69</td>\n",
              "      <td>77</td>\n",
              "      <td>87</td>\n",
              "      <td>99</td>\n",
              "      <td>113</td>\n",
              "      <td>132</td>\n",
              "      <td>164</td>\n",
              "    </tr>\n",
              "  </tbody>\n",
              "</table>\n",
              "</div>\n",
              "    <div class=\"colab-df-buttons\">\n",
              "\n",
              "  <div class=\"colab-df-container\">\n",
              "    <button class=\"colab-df-convert\" onclick=\"convertToInteractive('df-c6b093df-0741-4231-9b88-c8b7c053c950')\"\n",
              "            title=\"Convert this dataframe to an interactive table.\"\n",
              "            style=\"display:none;\">\n",
              "\n",
              "  <svg xmlns=\"http://www.w3.org/2000/svg\" height=\"24px\" viewBox=\"0 -960 960 960\">\n",
              "    <path d=\"M120-120v-720h720v720H120Zm60-500h600v-160H180v160Zm220 220h160v-160H400v160Zm0 220h160v-160H400v160ZM180-400h160v-160H180v160Zm440 0h160v-160H620v160ZM180-180h160v-160H180v160Zm440 0h160v-160H620v160Z\"/>\n",
              "  </svg>\n",
              "    </button>\n",
              "\n",
              "  <style>\n",
              "    .colab-df-container {\n",
              "      display:flex;\n",
              "      gap: 12px;\n",
              "    }\n",
              "\n",
              "    .colab-df-convert {\n",
              "      background-color: #E8F0FE;\n",
              "      border: none;\n",
              "      border-radius: 50%;\n",
              "      cursor: pointer;\n",
              "      display: none;\n",
              "      fill: #1967D2;\n",
              "      height: 32px;\n",
              "      padding: 0 0 0 0;\n",
              "      width: 32px;\n",
              "    }\n",
              "\n",
              "    .colab-df-convert:hover {\n",
              "      background-color: #E2EBFA;\n",
              "      box-shadow: 0px 1px 2px rgba(60, 64, 67, 0.3), 0px 1px 3px 1px rgba(60, 64, 67, 0.15);\n",
              "      fill: #174EA6;\n",
              "    }\n",
              "\n",
              "    .colab-df-buttons div {\n",
              "      margin-bottom: 4px;\n",
              "    }\n",
              "\n",
              "    [theme=dark] .colab-df-convert {\n",
              "      background-color: #3B4455;\n",
              "      fill: #D2E3FC;\n",
              "    }\n",
              "\n",
              "    [theme=dark] .colab-df-convert:hover {\n",
              "      background-color: #434B5C;\n",
              "      box-shadow: 0px 1px 3px 1px rgba(0, 0, 0, 0.15);\n",
              "      filter: drop-shadow(0px 1px 2px rgba(0, 0, 0, 0.3));\n",
              "      fill: #FFFFFF;\n",
              "    }\n",
              "  </style>\n",
              "\n",
              "    <script>\n",
              "      const buttonEl =\n",
              "        document.querySelector('#df-c6b093df-0741-4231-9b88-c8b7c053c950 button.colab-df-convert');\n",
              "      buttonEl.style.display =\n",
              "        google.colab.kernel.accessAllowed ? 'block' : 'none';\n",
              "\n",
              "      async function convertToInteractive(key) {\n",
              "        const element = document.querySelector('#df-c6b093df-0741-4231-9b88-c8b7c053c950');\n",
              "        const dataTable =\n",
              "          await google.colab.kernel.invokeFunction('convertToInteractive',\n",
              "                                                    [key], {});\n",
              "        if (!dataTable) return;\n",
              "\n",
              "        const docLinkHtml = 'Like what you see? Visit the ' +\n",
              "          '<a target=\"_blank\" href=https://colab.research.google.com/notebooks/data_table.ipynb>data table notebook</a>'\n",
              "          + ' to learn more about interactive tables.';\n",
              "        element.innerHTML = '';\n",
              "        dataTable['output_type'] = 'display_data';\n",
              "        await google.colab.output.renderOutput(dataTable, element);\n",
              "        const docLink = document.createElement('div');\n",
              "        docLink.innerHTML = docLinkHtml;\n",
              "        element.appendChild(docLink);\n",
              "      }\n",
              "    </script>\n",
              "  </div>\n",
              "\n",
              "\n",
              "<div id=\"df-4a2614ae-d565-408c-b64b-f1f44b8e6a67\">\n",
              "  <button class=\"colab-df-quickchart\" onclick=\"quickchart('df-4a2614ae-d565-408c-b64b-f1f44b8e6a67')\"\n",
              "            title=\"Suggest charts\"\n",
              "            style=\"display:none;\">\n",
              "\n",
              "<svg xmlns=\"http://www.w3.org/2000/svg\" height=\"24px\"viewBox=\"0 0 24 24\"\n",
              "     width=\"24px\">\n",
              "    <g>\n",
              "        <path d=\"M19 3H5c-1.1 0-2 .9-2 2v14c0 1.1.9 2 2 2h14c1.1 0 2-.9 2-2V5c0-1.1-.9-2-2-2zM9 17H7v-7h2v7zm4 0h-2V7h2v10zm4 0h-2v-4h2v4z\"/>\n",
              "    </g>\n",
              "</svg>\n",
              "  </button>\n",
              "\n",
              "<style>\n",
              "  .colab-df-quickchart {\n",
              "      --bg-color: #E8F0FE;\n",
              "      --fill-color: #1967D2;\n",
              "      --hover-bg-color: #E2EBFA;\n",
              "      --hover-fill-color: #174EA6;\n",
              "      --disabled-fill-color: #AAA;\n",
              "      --disabled-bg-color: #DDD;\n",
              "  }\n",
              "\n",
              "  [theme=dark] .colab-df-quickchart {\n",
              "      --bg-color: #3B4455;\n",
              "      --fill-color: #D2E3FC;\n",
              "      --hover-bg-color: #434B5C;\n",
              "      --hover-fill-color: #FFFFFF;\n",
              "      --disabled-bg-color: #3B4455;\n",
              "      --disabled-fill-color: #666;\n",
              "  }\n",
              "\n",
              "  .colab-df-quickchart {\n",
              "    background-color: var(--bg-color);\n",
              "    border: none;\n",
              "    border-radius: 50%;\n",
              "    cursor: pointer;\n",
              "    display: none;\n",
              "    fill: var(--fill-color);\n",
              "    height: 32px;\n",
              "    padding: 0;\n",
              "    width: 32px;\n",
              "  }\n",
              "\n",
              "  .colab-df-quickchart:hover {\n",
              "    background-color: var(--hover-bg-color);\n",
              "    box-shadow: 0 1px 2px rgba(60, 64, 67, 0.3), 0 1px 3px 1px rgba(60, 64, 67, 0.15);\n",
              "    fill: var(--button-hover-fill-color);\n",
              "  }\n",
              "\n",
              "  .colab-df-quickchart-complete:disabled,\n",
              "  .colab-df-quickchart-complete:disabled:hover {\n",
              "    background-color: var(--disabled-bg-color);\n",
              "    fill: var(--disabled-fill-color);\n",
              "    box-shadow: none;\n",
              "  }\n",
              "\n",
              "  .colab-df-spinner {\n",
              "    border: 2px solid var(--fill-color);\n",
              "    border-color: transparent;\n",
              "    border-bottom-color: var(--fill-color);\n",
              "    animation:\n",
              "      spin 1s steps(1) infinite;\n",
              "  }\n",
              "\n",
              "  @keyframes spin {\n",
              "    0% {\n",
              "      border-color: transparent;\n",
              "      border-bottom-color: var(--fill-color);\n",
              "      border-left-color: var(--fill-color);\n",
              "    }\n",
              "    20% {\n",
              "      border-color: transparent;\n",
              "      border-left-color: var(--fill-color);\n",
              "      border-top-color: var(--fill-color);\n",
              "    }\n",
              "    30% {\n",
              "      border-color: transparent;\n",
              "      border-left-color: var(--fill-color);\n",
              "      border-top-color: var(--fill-color);\n",
              "      border-right-color: var(--fill-color);\n",
              "    }\n",
              "    40% {\n",
              "      border-color: transparent;\n",
              "      border-right-color: var(--fill-color);\n",
              "      border-top-color: var(--fill-color);\n",
              "    }\n",
              "    60% {\n",
              "      border-color: transparent;\n",
              "      border-right-color: var(--fill-color);\n",
              "    }\n",
              "    80% {\n",
              "      border-color: transparent;\n",
              "      border-right-color: var(--fill-color);\n",
              "      border-bottom-color: var(--fill-color);\n",
              "    }\n",
              "    90% {\n",
              "      border-color: transparent;\n",
              "      border-bottom-color: var(--fill-color);\n",
              "    }\n",
              "  }\n",
              "</style>\n",
              "\n",
              "  <script>\n",
              "    async function quickchart(key) {\n",
              "      const quickchartButtonEl =\n",
              "        document.querySelector('#' + key + ' button');\n",
              "      quickchartButtonEl.disabled = true;  // To prevent multiple clicks.\n",
              "      quickchartButtonEl.classList.add('colab-df-spinner');\n",
              "      try {\n",
              "        const charts = await google.colab.kernel.invokeFunction(\n",
              "            'suggestCharts', [key], {});\n",
              "      } catch (error) {\n",
              "        console.error('Error during call to suggestCharts:', error);\n",
              "      }\n",
              "      quickchartButtonEl.classList.remove('colab-df-spinner');\n",
              "      quickchartButtonEl.classList.add('colab-df-quickchart-complete');\n",
              "    }\n",
              "    (() => {\n",
              "      let quickchartButtonEl =\n",
              "        document.querySelector('#df-4a2614ae-d565-408c-b64b-f1f44b8e6a67 button');\n",
              "      quickchartButtonEl.style.display =\n",
              "        google.colab.kernel.accessAllowed ? 'block' : 'none';\n",
              "    })();\n",
              "  </script>\n",
              "</div>\n",
              "    </div>\n",
              "  </div>\n"
            ]
          },
          "metadata": {},
          "execution_count": 334
        }
      ],
      "source": [
        "mde_grid = np.arange(0.01, 0.1, 0.01).reshape(-1, 1)  # относительный MDE\n",
        "beta_grid = np.arange(0.6, 1, 0.05)  # мощность\n",
        "alpha = 0.05\n",
        "var = data['Glucose'].var() * 2 / (data['Glucose'].mean()**2)  # относительная дисперсия\n",
        "\n",
        "sample_sizes = get_sample_size(alpha,beta_grid,mde_grid,var)\n",
        "pd.DataFrame(sample_sizes, columns=beta_grid.reshape(-1), index=mde_grid.reshape(-1))"
      ]
    },
    {
      "cell_type": "markdown",
      "metadata": {
        "id": "ayHzW9KH-YCS"
      },
      "source": [
        "**Ответ:** mde 0.07 и мощность 0.7 -> 128. Размер выборки достаточен для проведения A-A теста"
      ]
    },
    {
      "cell_type": "markdown",
      "metadata": {
        "id": "DwcI5HVVAkXt"
      },
      "source": [
        "Для выбранного критерия проведите АА-тест по историческим данным. Если исторических данных оказалось недостаточно для вашей модели, придумайте способ решения проблемы."
      ]
    },
    {
      "cell_type": "code",
      "execution_count": 358,
      "metadata": {
        "id": "kOuYrVw2_9md"
      },
      "outputs": [],
      "source": [
        "sample_size = 128\n",
        "mde = 0.07\n",
        "alpha = 0.05"
      ]
    },
    {
      "cell_type": "code",
      "execution_count": 345,
      "metadata": {
        "id": "6DN_4VixAkXu"
      },
      "outputs": [],
      "source": [
        "def relative_ttest(x, y, alpha=0.05):\n",
        "    '''\n",
        "    Относительный t-test.\n",
        "\n",
        "    Аргументы:\n",
        "    x, y -- выборки одинакового размера\n",
        "    alpha -- уровень значимости\n",
        "\n",
        "    Возвращает:\n",
        "    stat -- статистика критерия\n",
        "    left_bound, right_bound -- границы дов. интервала\n",
        "    pvalue\n",
        "    '''\n",
        "\n",
        "    x_mean = np.mean(x)\n",
        "    y_mean = np.mean(y)\n",
        "\n",
        "    x_mean_var = np.var(x) / len(x)\n",
        "    y_mean_var = np.var(y) / len(y)\n",
        "\n",
        "    #print(x_mean,y_mean,x_mean_var,y_mean_var)\n",
        "\n",
        "\n",
        "    # https://habr.com/ru/companies/avito/articles/571094/\n",
        "    stat = (x_mean - y_mean) / y_mean\n",
        "    var = (\n",
        "        (x_mean_var + y_mean_var) / (y_mean)**2 +\n",
        "        y_mean_var * (\n",
        "            (x_mean - y_mean)**2 / y_mean** 4 +\n",
        "            2 * (x_mean - y_mean) / y_mean** 3\n",
        "        )\n",
        "    )\n",
        "    std = np.sqrt(var)\n",
        "\n",
        "\n",
        "    z_stat =  stat / std # считается дисперсия среднего статистики, поэтому не делим на корень\n",
        "    pvalue = 2*sps.norm.sf(np.abs(z_stat))\n",
        "\n",
        "    q = sps.norm.ppf(1 - alpha/2)\n",
        "    left_bound = - q * std\n",
        "    right_bound =  q * std\n",
        "\n",
        "    return stat, left_bound, right_bound, pvalue"
      ]
    },
    {
      "cell_type": "code",
      "source": [
        "# синтетический пример для отладки теста\n",
        "p_vals = []\n",
        "for i in tqdm(range(2000)):\n",
        "    # 4.a. Тестирую A/B-тест.\n",
        "    control,test = sps.expon(scale=10).rvs(2000),sps.expon(scale=10).rvs(2000)\n",
        "    p_val = relative_ttest(control,test,alpha=alpha)[3]\n",
        "    p_vals.append(p_val)\n",
        "\n",
        "p_vals = np.array(p_vals)"
      ],
      "metadata": {
        "colab": {
          "base_uri": "https://localhost:8080/"
        },
        "id": "pzxpyuKHxJbp",
        "outputId": "e85bf845-df6c-4c95-d307-e1770667f163"
      },
      "execution_count": 346,
      "outputs": [
        {
          "output_type": "stream",
          "name": "stderr",
          "text": [
            "100%|██████████| 2000/2000 [00:06<00:00, 328.24it/s]\n"
          ]
        }
      ]
    },
    {
      "cell_type": "code",
      "execution_count": 347,
      "metadata": {
        "id": "TPg7tfjyDkAy",
        "colab": {
          "base_uri": "https://localhost:8080/"
        },
        "outputId": "7e7c2d6b-43b9-45e2-cbc4-414776793f09"
      },
      "outputs": [
        {
          "output_type": "stream",
          "name": "stderr",
          "text": [
            "100%|██████████| 2000/2000 [00:01<00:00, 1978.11it/s]\n"
          ]
        }
      ],
      "source": [
        "p_vals = []\n",
        "\n",
        "for i in tqdm(range(2000)):\n",
        "\n",
        "    sample1, sample2 = np.random.choice(data['Glucose'], (2, sample_size), replace=False)\n",
        "\n",
        "    p_val = relative_ttest(sample1,sample2,alpha=alpha)[3]\n",
        "    p_vals.append(p_val)\n",
        "\n",
        "p_vals = np.array(p_vals)"
      ]
    },
    {
      "cell_type": "code",
      "execution_count": 348,
      "metadata": {
        "id": "Qe8lIpNPEoxt"
      },
      "outputs": [],
      "source": [
        "def draw_interval(\n",
        "    real_alpha, left_alpha, right_alpha,\n",
        "    alpha=0.05, figsize=(7, 2)\n",
        "):\n",
        "    '''\n",
        "    Отрисовка интервала для реального уровня значимости\n",
        "    real_alpha -- оценка уровня значимости\n",
        "    left_alpha, right_alpha -- границы доверительного интервала\n",
        "    alpha -- теоретический уровень значимости\n",
        "    figsize -- размер фигуры matplotlib\n",
        "    '''\n",
        "\n",
        "    with sns.axes_style(\"whitegrid\"):\n",
        "        plt.figure(figsize=(6, 2))\n",
        "        plt.hlines(0, 0, 1, color='black', lw=2, alpha=0.6)\n",
        "        plt.vlines(alpha, -1, 1, color='red', lw=5, linestyle='--', alpha=0.6)\n",
        "        plt.fill_between(\n",
        "            [left_alpha, right_alpha], [0.15]*2, [-0.15]*2,\n",
        "            color='green', alpha=0.6\n",
        "        )\n",
        "        plt.scatter(real_alpha, 0, s=300, marker='*', color='red')\n",
        "        plt.xlim((min(alpha, left_alpha)-1e-3, max(alpha, right_alpha)+1e-3))\n",
        "        plt.title(\n",
        "            f'Доля отвержений = {100*real_alpha:.2f}%, '\n",
        "            f'интервал ({100*left_alpha:.2f}%, {100*right_alpha:.2f}%)'\n",
        "        )\n",
        "        plt.ylim((-0.5, 0.5))\n",
        "        plt.yticks([])\n",
        "        plt.tight_layout()\n",
        "        plt.show()"
      ]
    },
    {
      "cell_type": "code",
      "execution_count": 349,
      "metadata": {
        "id": "gCkan5fPE0Ro",
        "colab": {
          "base_uri": "https://localhost:8080/",
          "height": 207
        },
        "outputId": "02005500-579d-48de-f6d7-e743b8bc39c3"
      },
      "outputs": [
        {
          "output_type": "stream",
          "name": "stdout",
          "text": [
            "Реальный уровень значимости: 0.05\n"
          ]
        },
        {
          "output_type": "display_data",
          "data": {
            "text/plain": [
              "<Figure size 600x200 with 1 Axes>"
            ],
            "image/png": "[encoded data removed]"
          },
          "metadata": {}
        }
      ],
      "source": [
        "real_alpha = (p_vals < alpha).mean()\n",
        "print(f'Реальный уровень значимости: {real_alpha.round(2)}')\n",
        "left_alpha, right_alpha = proportion_confint((p_vals < alpha).sum(), len(p_vals), method='wilson')\n",
        "draw_interval(real_alpha, left_alpha, right_alpha, alpha=alpha)"
      ]
    },
    {
      "cell_type": "markdown",
      "metadata": {
        "id": "kQ687217fORS"
      },
      "source": [
        "Посмотрите также на гистограмму p-value"
      ]
    },
    {
      "cell_type": "code",
      "execution_count": 350,
      "metadata": {
        "id": "2-fHP_TCfU33",
        "colab": {
          "base_uri": "https://localhost:8080/",
          "height": 401
        },
        "outputId": "568086ef-72bf-4c9a-b132-48832242d9cb"
      },
      "outputs": [
        {
          "output_type": "display_data",
          "data": {
            "text/plain": [
              "<Figure size 1000x400 with 1 Axes>"
            ],
            "image/png": "[encoded data removed]"
          },
          "metadata": {}
        }
      ],
      "source": [
        "sns.set_style(\"whitegrid\")\n",
        "\n",
        "plt.figure(figsize=(10, 4))\n",
        "plt.title('Гистограмма pvalue')\n",
        "sns.histplot(p_vals)\n",
        "plt.show()"
      ]
    },
    {
      "cell_type": "markdown",
      "metadata": {
        "id": "UE9wBtriHsaZ"
      },
      "source": [
        "Какие выводы о валидности выбранного критерия вы можете сделать?\n",
        "\n",
        "**Ответ:** критерий валидный. p-value распределен равномерно\n",
        "\n",
        "Проверьте также мощность критерия на выбранном `MDE`.\n"
      ]
    },
    {
      "cell_type": "code",
      "execution_count": 369,
      "metadata": {
        "id": "_ZOMPP6YHqJX",
        "colab": {
          "base_uri": "https://localhost:8080/"
        },
        "outputId": "5016bb13-7645-41b1-889b-91594d253d3b"
      },
      "outputs": [
        {
          "output_type": "stream",
          "name": "stderr",
          "text": [
            "100%|██████████| 2000/2000 [00:02<00:00, 980.42it/s]\n"
          ]
        }
      ],
      "source": [
        "pvals = []\n",
        "\n",
        "for _ in tqdm(range(2000)):\n",
        "    sample1, sample2 = np.random.choice(data['Glucose'], (2, sample_size), replace=False)\n",
        "\n",
        "    sample2 = sample2 * (1+mde)\n",
        "    #sample2 += sps.norm.rvs(size=len(sample2), scale=0.001)\n",
        "\n",
        "    pvals.append(relative_ttest(sample2,sample1)[3])\n",
        "\n",
        "pvals = np.array(pvals)"
      ]
    },
    {
      "cell_type": "code",
      "execution_count": 370,
      "metadata": {
        "id": "eBL4O6CPIchI",
        "colab": {
          "base_uri": "https://localhost:8080/"
        },
        "outputId": "1a2bbaf3-6c41-41a0-e40c-2359ae494ff4"
      },
      "outputs": [
        {
          "output_type": "stream",
          "name": "stdout",
          "text": [
            "Реальная мощность критерия: 0.645\n"
          ]
        }
      ],
      "source": [
        "print(f'Реальная мощность критерия: {(pvals < alpha).mean().round(3)}')"
      ]
    },
    {
      "cell_type": "markdown",
      "metadata": {
        "id": "kuMtUTWK3ncc"
      },
      "source": [
        "**Вывод** реальная мощность совпадает с теоретической"
      ]
    },
    {
      "cell_type": "markdown",
      "metadata": {
        "id": "7rzDzIlMHlvw"
      },
      "source": [
        "---\n",
        "\n",
        "### Задача 4\n",
        "#### **Профиль физика**\n",
        "\n",
        "\n",
        "Рассмотрим [данные о звездах](https://www.kaggle.com/datasets/fernandolima23/classification-in-asteroseismology?select=classification_in_asteroseismology.csv) из предыдущего домашнего задания:\n",
        "\n",
        "Датасет содержит информацию о звездах, где `POP` - разделяет звёзды по классам. Нас будeт интересовать столбец `Dnu`."
      ]
    },
    {
      "cell_type": "markdown",
      "metadata": {
        "id": "A9C2t7KnRbRd"
      },
      "source": [
        "Считайте данные."
      ]
    },
    {
      "cell_type": "code",
      "source": [
        "od.download('https://www.kaggle.com/datasets/fernandolima23/classification-in-asteroseismology?select=classification_in_asteroseismology.csv')"
      ],
      "metadata": {
        "colab": {
          "base_uri": "https://localhost:8080/"
        },
        "id": "PTc7rV0uhN9q",
        "outputId": "55d06199-9842-41b8-fa3c-c908b41bb8f6"
      },
      "execution_count": 272,
      "outputs": [
        {
          "output_type": "stream",
          "name": "stdout",
          "text": [
            "Please provide your Kaggle credentials to download this dataset. Learn more: http://bit.ly/kaggle-creds\n",
            "Your Kaggle username: mashalovne\n",
            "Your Kaggle Key: ··········\n",
            "Downloading classification-in-asteroseismology.zip to ./classification-in-asteroseismology\n"
          ]
        },
        {
          "output_type": "stream",
          "name": "stderr",
          "text": [
            "100%|██████████| 10.7k/10.7k [00:00<00:00, 2.69MB/s]"
          ]
        },
        {
          "output_type": "stream",
          "name": "stdout",
          "text": [
            "\n"
          ]
        },
        {
          "output_type": "stream",
          "name": "stderr",
          "text": [
            "\n"
          ]
        }
      ]
    },
    {
      "cell_type": "code",
      "execution_count": 371,
      "metadata": {
        "id": "Kreg06DpWy8L"
      },
      "outputs": [],
      "source": [
        "df = pd.read_csv(\"/content/classification-in-asteroseismology/classification_in_asteroseismology.csv\")"
      ]
    },
    {
      "cell_type": "code",
      "execution_count": 372,
      "metadata": {
        "id": "3gSBpZWvRHtN",
        "colab": {
          "base_uri": "https://localhost:8080/",
          "height": 424
        },
        "outputId": "6508d321-b916-457d-a3cd-cdc26aeaed2c"
      },
      "outputs": [
        {
          "output_type": "execute_result",
          "data": {
            "text/plain": [
              "      POP       Dnu      numax  epsilon\n",
              "0       1   4.44780   43.06289    0.985\n",
              "1       0   6.94399   74.07646    0.150\n",
              "2       1   2.64571   21.57891    0.855\n",
              "3       1   4.24168   32.13189    0.840\n",
              "4       0  10.44719  120.37356    0.275\n",
              "...   ...       ...        ...      ...\n",
              "996     0   5.51582   49.99920    0.060\n",
              "997     1   4.14823   32.09069    0.930\n",
              "998     1   3.98294   30.90257    0.880\n",
              "999     1   4.33893   45.62183    0.975\n",
              "1000    1   3.74869   37.94907    0.205\n",
              "\n",
              "[1001 rows x 4 columns]"
            ],
            "text/html": [
              "\n",
              "  <div id=\"df-abf8dc53-063f-4f4a-9313-3f87c7711b41\" class=\"colab-df-container\">\n",
              "    <div>\n",
              "<style scoped>\n",
              "    .dataframe tbody tr th:only-of-type {\n",
              "        vertical-align: middle;\n",
              "    }\n",
              "\n",
              "    .dataframe tbody tr th {\n",
              "        vertical-align: top;\n",
              "    }\n",
              "\n",
              "    .dataframe thead th {\n",
              "        text-align: right;\n",
              "    }\n",
              "</style>\n",
              "<table border=\"1\" class=\"dataframe\">\n",
              "  <thead>\n",
              "    <tr style=\"text-align: right;\">\n",
              "      <th></th>\n",
              "      <th>POP</th>\n",
              "      <th>Dnu</th>\n",
              "      <th>numax</th>\n",
              "      <th>epsilon</th>\n",
              "    </tr>\n",
              "  </thead>\n",
              "  <tbody>\n",
              "    <tr>\n",
              "      <th>0</th>\n",
              "      <td>1</td>\n",
              "      <td>4.44780</td>\n",
              "      <td>43.06289</td>\n",
              "      <td>0.985</td>\n",
              "    </tr>\n",
              "    <tr>\n",
              "      <th>1</th>\n",
              "      <td>0</td>\n",
              "      <td>6.94399</td>\n",
              "      <td>74.07646</td>\n",
              "      <td>0.150</td>\n",
              "    </tr>\n",
              "    <tr>\n",
              "      <th>2</th>\n",
              "      <td>1</td>\n",
              "      <td>2.64571</td>\n",
              "      <td>21.57891</td>\n",
              "      <td>0.855</td>\n",
              "    </tr>\n",
              "    <tr>\n",
              "      <th>3</th>\n",
              "      <td>1</td>\n",
              "      <td>4.24168</td>\n",
              "      <td>32.13189</td>\n",
              "      <td>0.840</td>\n",
              "    </tr>\n",
              "    <tr>\n",
              "      <th>4</th>\n",
              "      <td>0</td>\n",
              "      <td>10.44719</td>\n",
              "      <td>120.37356</td>\n",
              "      <td>0.275</td>\n",
              "    </tr>\n",
              "    <tr>\n",
              "      <th>...</th>\n",
              "      <td>...</td>\n",
              "      <td>...</td>\n",
              "      <td>...</td>\n",
              "      <td>...</td>\n",
              "    </tr>\n",
              "    <tr>\n",
              "      <th>996</th>\n",
              "      <td>0</td>\n",
              "      <td>5.51582</td>\n",
              "      <td>49.99920</td>\n",
              "      <td>0.060</td>\n",
              "    </tr>\n",
              "    <tr>\n",
              "      <th>997</th>\n",
              "      <td>1</td>\n",
              "      <td>4.14823</td>\n",
              "      <td>32.09069</td>\n",
              "      <td>0.930</td>\n",
              "    </tr>\n",
              "    <tr>\n",
              "      <th>998</th>\n",
              "      <td>1</td>\n",
              "      <td>3.98294</td>\n",
              "      <td>30.90257</td>\n",
              "      <td>0.880</td>\n",
              "    </tr>\n",
              "    <tr>\n",
              "      <th>999</th>\n",
              "      <td>1</td>\n",
              "      <td>4.33893</td>\n",
              "      <td>45.62183</td>\n",
              "      <td>0.975</td>\n",
              "    </tr>\n",
              "    <tr>\n",
              "      <th>1000</th>\n",
              "      <td>1</td>\n",
              "      <td>3.74869</td>\n",
              "      <td>37.94907</td>\n",
              "      <td>0.205</td>\n",
              "    </tr>\n",
              "  </tbody>\n",
              "</table>\n",
              "<p>1001 rows × 4 columns</p>\n",
              "</div>\n",
              "    <div class=\"colab-df-buttons\">\n",
              "\n",
              "  <div class=\"colab-df-container\">\n",
              "    <button class=\"colab-df-convert\" onclick=\"convertToInteractive('df-abf8dc53-063f-4f4a-9313-3f87c7711b41')\"\n",
              "            title=\"Convert this dataframe to an interactive table.\"\n",
              "            style=\"display:none;\">\n",
              "\n",
              "  <svg xmlns=\"http://www.w3.org/2000/svg\" height=\"24px\" viewBox=\"0 -960 960 960\">\n",
              "    <path d=\"M120-120v-720h720v720H120Zm60-500h600v-160H180v160Zm220 220h160v-160H400v160Zm0 220h160v-160H400v160ZM180-400h160v-160H180v160Zm440 0h160v-160H620v160ZM180-180h160v-160H180v160Zm440 0h160v-160H620v160Z\"/>\n",
              "  </svg>\n",
              "    </button>\n",
              "\n",
              "  <style>\n",
              "    .colab-df-container {\n",
              "      display:flex;\n",
              "      gap: 12px;\n",
              "    }\n",
              "\n",
              "    .colab-df-convert {\n",
              "      background-color: #E8F0FE;\n",
              "      border: none;\n",
              "      border-radius: 50%;\n",
              "      cursor: pointer;\n",
              "      display: none;\n",
              "      fill: #1967D2;\n",
              "      height: 32px;\n",
              "      padding: 0 0 0 0;\n",
              "      width: 32px;\n",
              "    }\n",
              "\n",
              "    .colab-df-convert:hover {\n",
              "      background-color: #E2EBFA;\n",
              "      box-shadow: 0px 1px 2px rgba(60, 64, 67, 0.3), 0px 1px 3px 1px rgba(60, 64, 67, 0.15);\n",
              "      fill: #174EA6;\n",
              "    }\n",
              "\n",
              "    .colab-df-buttons div {\n",
              "      margin-bottom: 4px;\n",
              "    }\n",
              "\n",
              "    [theme=dark] .colab-df-convert {\n",
              "      background-color: #3B4455;\n",
              "      fill: #D2E3FC;\n",
              "    }\n",
              "\n",
              "    [theme=dark] .colab-df-convert:hover {\n",
              "      background-color: #434B5C;\n",
              "      box-shadow: 0px 1px 3px 1px rgba(0, 0, 0, 0.15);\n",
              "      filter: drop-shadow(0px 1px 2px rgba(0, 0, 0, 0.3));\n",
              "      fill: #FFFFFF;\n",
              "    }\n",
              "  </style>\n",
              "\n",
              "    <script>\n",
              "      const buttonEl =\n",
              "        document.querySelector('#df-abf8dc53-063f-4f4a-9313-3f87c7711b41 button.colab-df-convert');\n",
              "      buttonEl.style.display =\n",
              "        google.colab.kernel.accessAllowed ? 'block' : 'none';\n",
              "\n",
              "      async function convertToInteractive(key) {\n",
              "        const element = document.querySelector('#df-abf8dc53-063f-4f4a-9313-3f87c7711b41');\n",
              "        const dataTable =\n",
              "          await google.colab.kernel.invokeFunction('convertToInteractive',\n",
              "                                                    [key], {});\n",
              "        if (!dataTable) return;\n",
              "\n",
              "        const docLinkHtml = 'Like what you see? Visit the ' +\n",
              "          '<a target=\"_blank\" href=https://colab.research.google.com/notebooks/data_table.ipynb>data table notebook</a>'\n",
              "          + ' to learn more about interactive tables.';\n",
              "        element.innerHTML = '';\n",
              "        dataTable['output_type'] = 'display_data';\n",
              "        await google.colab.output.renderOutput(dataTable, element);\n",
              "        const docLink = document.createElement('div');\n",
              "        docLink.innerHTML = docLinkHtml;\n",
              "        element.appendChild(docLink);\n",
              "      }\n",
              "    </script>\n",
              "  </div>\n",
              "\n",
              "\n",
              "<div id=\"df-453cc4bf-ea08-4f3f-9737-409749472ba8\">\n",
              "  <button class=\"colab-df-quickchart\" onclick=\"quickchart('df-453cc4bf-ea08-4f3f-9737-409749472ba8')\"\n",
              "            title=\"Suggest charts\"\n",
              "            style=\"display:none;\">\n",
              "\n",
              "<svg xmlns=\"http://www.w3.org/2000/svg\" height=\"24px\"viewBox=\"0 0 24 24\"\n",
              "     width=\"24px\">\n",
              "    <g>\n",
              "        <path d=\"M19 3H5c-1.1 0-2 .9-2 2v14c0 1.1.9 2 2 2h14c1.1 0 2-.9 2-2V5c0-1.1-.9-2-2-2zM9 17H7v-7h2v7zm4 0h-2V7h2v10zm4 0h-2v-4h2v4z\"/>\n",
              "    </g>\n",
              "</svg>\n",
              "  </button>\n",
              "\n",
              "<style>\n",
              "  .colab-df-quickchart {\n",
              "      --bg-color: #E8F0FE;\n",
              "      --fill-color: #1967D2;\n",
              "      --hover-bg-color: #E2EBFA;\n",
              "      --hover-fill-color: #174EA6;\n",
              "      --disabled-fill-color: #AAA;\n",
              "      --disabled-bg-color: #DDD;\n",
              "  }\n",
              "\n",
              "  [theme=dark] .colab-df-quickchart {\n",
              "      --bg-color: #3B4455;\n",
              "      --fill-color: #D2E3FC;\n",
              "      --hover-bg-color: #434B5C;\n",
              "      --hover-fill-color: #FFFFFF;\n",
              "      --disabled-bg-color: #3B4455;\n",
              "      --disabled-fill-color: #666;\n",
              "  }\n",
              "\n",
              "  .colab-df-quickchart {\n",
              "    background-color: var(--bg-color);\n",
              "    border: none;\n",
              "    border-radius: 50%;\n",
              "    cursor: pointer;\n",
              "    display: none;\n",
              "    fill: var(--fill-color);\n",
              "    height: 32px;\n",
              "    padding: 0;\n",
              "    width: 32px;\n",
              "  }\n",
              "\n",
              "  .colab-df-quickchart:hover {\n",
              "    background-color: var(--hover-bg-color);\n",
              "    box-shadow: 0 1px 2px rgba(60, 64, 67, 0.3), 0 1px 3px 1px rgba(60, 64, 67, 0.15);\n",
              "    fill: var(--button-hover-fill-color);\n",
              "  }\n",
              "\n",
              "  .colab-df-quickchart-complete:disabled,\n",
              "  .colab-df-quickchart-complete:disabled:hover {\n",
              "    background-color: var(--disabled-bg-color);\n",
              "    fill: var(--disabled-fill-color);\n",
              "    box-shadow: none;\n",
              "  }\n",
              "\n",
              "  .colab-df-spinner {\n",
              "    border: 2px solid var(--fill-color);\n",
              "    border-color: transparent;\n",
              "    border-bottom-color: var(--fill-color);\n",
              "    animation:\n",
              "      spin 1s steps(1) infinite;\n",
              "  }\n",
              "\n",
              "  @keyframes spin {\n",
              "    0% {\n",
              "      border-color: transparent;\n",
              "      border-bottom-color: var(--fill-color);\n",
              "      border-left-color: var(--fill-color);\n",
              "    }\n",
              "    20% {\n",
              "      border-color: transparent;\n",
              "      border-left-color: var(--fill-color);\n",
              "      border-top-color: var(--fill-color);\n",
              "    }\n",
              "    30% {\n",
              "      border-color: transparent;\n",
              "      border-left-color: var(--fill-color);\n",
              "      border-top-color: var(--fill-color);\n",
              "      border-right-color: var(--fill-color);\n",
              "    }\n",
              "    40% {\n",
              "      border-color: transparent;\n",
              "      border-right-color: var(--fill-color);\n",
              "      border-top-color: var(--fill-color);\n",
              "    }\n",
              "    60% {\n",
              "      border-color: transparent;\n",
              "      border-right-color: var(--fill-color);\n",
              "    }\n",
              "    80% {\n",
              "      border-color: transparent;\n",
              "      border-right-color: var(--fill-color);\n",
              "      border-bottom-color: var(--fill-color);\n",
              "    }\n",
              "    90% {\n",
              "      border-color: transparent;\n",
              "      border-bottom-color: var(--fill-color);\n",
              "    }\n",
              "  }\n",
              "</style>\n",
              "\n",
              "  <script>\n",
              "    async function quickchart(key) {\n",
              "      const quickchartButtonEl =\n",
              "        document.querySelector('#' + key + ' button');\n",
              "      quickchartButtonEl.disabled = true;  // To prevent multiple clicks.\n",
              "      quickchartButtonEl.classList.add('colab-df-spinner');\n",
              "      try {\n",
              "        const charts = await google.colab.kernel.invokeFunction(\n",
              "            'suggestCharts', [key], {});\n",
              "      } catch (error) {\n",
              "        console.error('Error during call to suggestCharts:', error);\n",
              "      }\n",
              "      quickchartButtonEl.classList.remove('colab-df-spinner');\n",
              "      quickchartButtonEl.classList.add('colab-df-quickchart-complete');\n",
              "    }\n",
              "    (() => {\n",
              "      let quickchartButtonEl =\n",
              "        document.querySelector('#df-453cc4bf-ea08-4f3f-9737-409749472ba8 button');\n",
              "      quickchartButtonEl.style.display =\n",
              "        google.colab.kernel.accessAllowed ? 'block' : 'none';\n",
              "    })();\n",
              "  </script>\n",
              "</div>\n",
              "    </div>\n",
              "  </div>\n"
            ]
          },
          "metadata": {},
          "execution_count": 372
        }
      ],
      "source": [
        "feature = df['Dnu']\n",
        "df"
      ]
    },
    {
      "cell_type": "markdown",
      "metadata": {
        "id": "kl5v4Kt_rinG"
      },
      "source": [
        "Получите таблицу `MDE`-мощности-размера выборки для параметра `Dnu` как в 3-м задании, но теперь проведя относительный ttest и написав его функцию."
      ]
    },
    {
      "cell_type": "code",
      "execution_count": 373,
      "metadata": {
        "id": "wF2EtTo-a4_1"
      },
      "outputs": [],
      "source": [
        "def relative_ttest(x, y, alpha=0.05):\n",
        "    '''\n",
        "    Относительный t-test.\n",
        "\n",
        "    Аргументы:\n",
        "    x, y -- выборки одинакового размера\n",
        "    alpha -- уровень значимости\n",
        "\n",
        "    Возвращает:\n",
        "    stat -- статистика критерия\n",
        "    left_bound, right_bound -- границы дов. интервала\n",
        "    pvalue\n",
        "    '''\n",
        "\n",
        "    x_mean = np.mean(x)\n",
        "    y_mean = np.mean(y)\n",
        "\n",
        "    x_mean_var = np.var(x) / len(x)\n",
        "    y_mean_var = np.var(y) / len(y)\n",
        "\n",
        "    #print(x_mean,y_mean,x_mean_var,y_mean_var)\n",
        "\n",
        "\n",
        "    # https://habr.com/ru/companies/avito/articles/571094/\n",
        "    stat = (x_mean - y_mean) / y_mean\n",
        "    var = (\n",
        "        (x_mean_var + y_mean_var) / (y_mean)**2 +\n",
        "        y_mean_var * (\n",
        "            (x_mean - y_mean)**2 / y_mean** 4 +\n",
        "            2 * (x_mean - y_mean) / y_mean** 3\n",
        "        )\n",
        "    )\n",
        "    std = np.sqrt(var)\n",
        "\n",
        "\n",
        "    z_stat =  stat / std # считается дисперсия среднего статистики, поэтому не делим на корень\n",
        "    pvalue = 2*sps.norm.sf(np.abs(z_stat))\n",
        "\n",
        "    q = sps.norm.ppf(1 - alpha/2)\n",
        "    left_bound = - q * std\n",
        "    right_bound =  q * std\n",
        "\n",
        "    return stat, left_bound, right_bound, pvalue"
      ]
    },
    {
      "cell_type": "code",
      "source": [
        "var"
      ],
      "metadata": {
        "colab": {
          "base_uri": "https://localhost:8080/"
        },
        "id": "1R3y05lx3WFm",
        "outputId": "8fbc745b-f647-4b21-998c-59a016e5a359"
      },
      "execution_count": 374,
      "outputs": [
        {
          "output_type": "execute_result",
          "data": {
            "text/plain": [
              "0.10225080580318897"
            ]
          },
          "metadata": {},
          "execution_count": 374
        }
      ]
    },
    {
      "cell_type": "code",
      "execution_count": 376,
      "metadata": {
        "id": "60RVXZxHqAhb",
        "colab": {
          "base_uri": "https://localhost:8080/",
          "height": 349
        },
        "outputId": "6bdbff70-f5a2-4058-8e66-5ccf8a1ba1ab"
      },
      "outputs": [
        {
          "output_type": "stream",
          "name": "stdout",
          "text": [
            "(9, 8)\n"
          ]
        },
        {
          "output_type": "execute_result",
          "data": {
            "text/plain": [
              "       0.60   0.65   0.70   0.75   0.80   0.85   0.90   0.95\n",
              "0.01  26407  29650  33271  37413  42311  48400  56642  70051\n",
              "0.02   6601   7412   8317   9353  10577  12100  14160  17512\n",
              "0.03   2934   3294   3696   4157   4701   5377   6293   7783\n",
              "0.04   1650   1853   2079   2338   2644   3025   3540   4378\n",
              "0.05   1056   1186   1330   1496   1692   1936   2265   2802\n",
              "0.06    733    823    924   1039   1175   1344   1573   1945\n",
              "0.07    538    605    679    763    863    987   1155   1429\n",
              "0.08    412    463    519    584    661    756    885   1094\n",
              "0.09    326    366    410    461    522    597    699    864"
            ],
            "text/html": [
              "\n",
              "  <div id=\"df-7014df25-f929-4a62-b331-b85e40140ca1\" class=\"colab-df-container\">\n",
              "    <div>\n",
              "<style scoped>\n",
              "    .dataframe tbody tr th:only-of-type {\n",
              "        vertical-align: middle;\n",
              "    }\n",
              "\n",
              "    .dataframe tbody tr th {\n",
              "        vertical-align: top;\n",
              "    }\n",
              "\n",
              "    .dataframe thead th {\n",
              "        text-align: right;\n",
              "    }\n",
              "</style>\n",
              "<table border=\"1\" class=\"dataframe\">\n",
              "  <thead>\n",
              "    <tr style=\"text-align: right;\">\n",
              "      <th></th>\n",
              "      <th>0.60</th>\n",
              "      <th>0.65</th>\n",
              "      <th>0.70</th>\n",
              "      <th>0.75</th>\n",
              "      <th>0.80</th>\n",
              "      <th>0.85</th>\n",
              "      <th>0.90</th>\n",
              "      <th>0.95</th>\n",
              "    </tr>\n",
              "  </thead>\n",
              "  <tbody>\n",
              "    <tr>\n",
              "      <th>0.01</th>\n",
              "      <td>26407</td>\n",
              "      <td>29650</td>\n",
              "      <td>33271</td>\n",
              "      <td>37413</td>\n",
              "      <td>42311</td>\n",
              "      <td>48400</td>\n",
              "      <td>56642</td>\n",
              "      <td>70051</td>\n",
              "    </tr>\n",
              "    <tr>\n",
              "      <th>0.02</th>\n",
              "      <td>6601</td>\n",
              "      <td>7412</td>\n",
              "      <td>8317</td>\n",
              "      <td>9353</td>\n",
              "      <td>10577</td>\n",
              "      <td>12100</td>\n",
              "      <td>14160</td>\n",
              "      <td>17512</td>\n",
              "    </tr>\n",
              "    <tr>\n",
              "      <th>0.03</th>\n",
              "      <td>2934</td>\n",
              "      <td>3294</td>\n",
              "      <td>3696</td>\n",
              "      <td>4157</td>\n",
              "      <td>4701</td>\n",
              "      <td>5377</td>\n",
              "      <td>6293</td>\n",
              "      <td>7783</td>\n",
              "    </tr>\n",
              "    <tr>\n",
              "      <th>0.04</th>\n",
              "      <td>1650</td>\n",
              "      <td>1853</td>\n",
              "      <td>2079</td>\n",
              "      <td>2338</td>\n",
              "      <td>2644</td>\n",
              "      <td>3025</td>\n",
              "      <td>3540</td>\n",
              "      <td>4378</td>\n",
              "    </tr>\n",
              "    <tr>\n",
              "      <th>0.05</th>\n",
              "      <td>1056</td>\n",
              "      <td>1186</td>\n",
              "      <td>1330</td>\n",
              "      <td>1496</td>\n",
              "      <td>1692</td>\n",
              "      <td>1936</td>\n",
              "      <td>2265</td>\n",
              "      <td>2802</td>\n",
              "    </tr>\n",
              "    <tr>\n",
              "      <th>0.06</th>\n",
              "      <td>733</td>\n",
              "      <td>823</td>\n",
              "      <td>924</td>\n",
              "      <td>1039</td>\n",
              "      <td>1175</td>\n",
              "      <td>1344</td>\n",
              "      <td>1573</td>\n",
              "      <td>1945</td>\n",
              "    </tr>\n",
              "    <tr>\n",
              "      <th>0.07</th>\n",
              "      <td>538</td>\n",
              "      <td>605</td>\n",
              "      <td>679</td>\n",
              "      <td>763</td>\n",
              "      <td>863</td>\n",
              "      <td>987</td>\n",
              "      <td>1155</td>\n",
              "      <td>1429</td>\n",
              "    </tr>\n",
              "    <tr>\n",
              "      <th>0.08</th>\n",
              "      <td>412</td>\n",
              "      <td>463</td>\n",
              "      <td>519</td>\n",
              "      <td>584</td>\n",
              "      <td>661</td>\n",
              "      <td>756</td>\n",
              "      <td>885</td>\n",
              "      <td>1094</td>\n",
              "    </tr>\n",
              "    <tr>\n",
              "      <th>0.09</th>\n",
              "      <td>326</td>\n",
              "      <td>366</td>\n",
              "      <td>410</td>\n",
              "      <td>461</td>\n",
              "      <td>522</td>\n",
              "      <td>597</td>\n",
              "      <td>699</td>\n",
              "      <td>864</td>\n",
              "    </tr>\n",
              "  </tbody>\n",
              "</table>\n",
              "</div>\n",
              "    <div class=\"colab-df-buttons\">\n",
              "\n",
              "  <div class=\"colab-df-container\">\n",
              "    <button class=\"colab-df-convert\" onclick=\"convertToInteractive('df-7014df25-f929-4a62-b331-b85e40140ca1')\"\n",
              "            title=\"Convert this dataframe to an interactive table.\"\n",
              "            style=\"display:none;\">\n",
              "\n",
              "  <svg xmlns=\"http://www.w3.org/2000/svg\" height=\"24px\" viewBox=\"0 -960 960 960\">\n",
              "    <path d=\"M120-120v-720h720v720H120Zm60-500h600v-160H180v160Zm220 220h160v-160H400v160Zm0 220h160v-160H400v160ZM180-400h160v-160H180v160Zm440 0h160v-160H620v160ZM180-180h160v-160H180v160Zm440 0h160v-160H620v160Z\"/>\n",
              "  </svg>\n",
              "    </button>\n",
              "\n",
              "  <style>\n",
              "    .colab-df-container {\n",
              "      display:flex;\n",
              "      gap: 12px;\n",
              "    }\n",
              "\n",
              "    .colab-df-convert {\n",
              "      background-color: #E8F0FE;\n",
              "      border: none;\n",
              "      border-radius: 50%;\n",
              "      cursor: pointer;\n",
              "      display: none;\n",
              "      fill: #1967D2;\n",
              "      height: 32px;\n",
              "      padding: 0 0 0 0;\n",
              "      width: 32px;\n",
              "    }\n",
              "\n",
              "    .colab-df-convert:hover {\n",
              "      background-color: #E2EBFA;\n",
              "      box-shadow: 0px 1px 2px rgba(60, 64, 67, 0.3), 0px 1px 3px 1px rgba(60, 64, 67, 0.15);\n",
              "      fill: #174EA6;\n",
              "    }\n",
              "\n",
              "    .colab-df-buttons div {\n",
              "      margin-bottom: 4px;\n",
              "    }\n",
              "\n",
              "    [theme=dark] .colab-df-convert {\n",
              "      background-color: #3B4455;\n",
              "      fill: #D2E3FC;\n",
              "    }\n",
              "\n",
              "    [theme=dark] .colab-df-convert:hover {\n",
              "      background-color: #434B5C;\n",
              "      box-shadow: 0px 1px 3px 1px rgba(0, 0, 0, 0.15);\n",
              "      filter: drop-shadow(0px 1px 2px rgba(0, 0, 0, 0.3));\n",
              "      fill: #FFFFFF;\n",
              "    }\n",
              "  </style>\n",
              "\n",
              "    <script>\n",
              "      const buttonEl =\n",
              "        document.querySelector('#df-7014df25-f929-4a62-b331-b85e40140ca1 button.colab-df-convert');\n",
              "      buttonEl.style.display =\n",
              "        google.colab.kernel.accessAllowed ? 'block' : 'none';\n",
              "\n",
              "      async function convertToInteractive(key) {\n",
              "        const element = document.querySelector('#df-7014df25-f929-4a62-b331-b85e40140ca1');\n",
              "        const dataTable =\n",
              "          await google.colab.kernel.invokeFunction('convertToInteractive',\n",
              "                                                    [key], {});\n",
              "        if (!dataTable) return;\n",
              "\n",
              "        const docLinkHtml = 'Like what you see? Visit the ' +\n",
              "          '<a target=\"_blank\" href=https://colab.research.google.com/notebooks/data_table.ipynb>data table notebook</a>'\n",
              "          + ' to learn more about interactive tables.';\n",
              "        element.innerHTML = '';\n",
              "        dataTable['output_type'] = 'display_data';\n",
              "        await google.colab.output.renderOutput(dataTable, element);\n",
              "        const docLink = document.createElement('div');\n",
              "        docLink.innerHTML = docLinkHtml;\n",
              "        element.appendChild(docLink);\n",
              "      }\n",
              "    </script>\n",
              "  </div>\n",
              "\n",
              "\n",
              "<div id=\"df-f64bb227-a4f3-4bd9-b12c-5d4b7d017b77\">\n",
              "  <button class=\"colab-df-quickchart\" onclick=\"quickchart('df-f64bb227-a4f3-4bd9-b12c-5d4b7d017b77')\"\n",
              "            title=\"Suggest charts\"\n",
              "            style=\"display:none;\">\n",
              "\n",
              "<svg xmlns=\"http://www.w3.org/2000/svg\" height=\"24px\"viewBox=\"0 0 24 24\"\n",
              "     width=\"24px\">\n",
              "    <g>\n",
              "        <path d=\"M19 3H5c-1.1 0-2 .9-2 2v14c0 1.1.9 2 2 2h14c1.1 0 2-.9 2-2V5c0-1.1-.9-2-2-2zM9 17H7v-7h2v7zm4 0h-2V7h2v10zm4 0h-2v-4h2v4z\"/>\n",
              "    </g>\n",
              "</svg>\n",
              "  </button>\n",
              "\n",
              "<style>\n",
              "  .colab-df-quickchart {\n",
              "      --bg-color: #E8F0FE;\n",
              "      --fill-color: #1967D2;\n",
              "      --hover-bg-color: #E2EBFA;\n",
              "      --hover-fill-color: #174EA6;\n",
              "      --disabled-fill-color: #AAA;\n",
              "      --disabled-bg-color: #DDD;\n",
              "  }\n",
              "\n",
              "  [theme=dark] .colab-df-quickchart {\n",
              "      --bg-color: #3B4455;\n",
              "      --fill-color: #D2E3FC;\n",
              "      --hover-bg-color: #434B5C;\n",
              "      --hover-fill-color: #FFFFFF;\n",
              "      --disabled-bg-color: #3B4455;\n",
              "      --disabled-fill-color: #666;\n",
              "  }\n",
              "\n",
              "  .colab-df-quickchart {\n",
              "    background-color: var(--bg-color);\n",
              "    border: none;\n",
              "    border-radius: 50%;\n",
              "    cursor: pointer;\n",
              "    display: none;\n",
              "    fill: var(--fill-color);\n",
              "    height: 32px;\n",
              "    padding: 0;\n",
              "    width: 32px;\n",
              "  }\n",
              "\n",
              "  .colab-df-quickchart:hover {\n",
              "    background-color: var(--hover-bg-color);\n",
              "    box-shadow: 0 1px 2px rgba(60, 64, 67, 0.3), 0 1px 3px 1px rgba(60, 64, 67, 0.15);\n",
              "    fill: var(--button-hover-fill-color);\n",
              "  }\n",
              "\n",
              "  .colab-df-quickchart-complete:disabled,\n",
              "  .colab-df-quickchart-complete:disabled:hover {\n",
              "    background-color: var(--disabled-bg-color);\n",
              "    fill: var(--disabled-fill-color);\n",
              "    box-shadow: none;\n",
              "  }\n",
              "\n",
              "  .colab-df-spinner {\n",
              "    border: 2px solid var(--fill-color);\n",
              "    border-color: transparent;\n",
              "    border-bottom-color: var(--fill-color);\n",
              "    animation:\n",
              "      spin 1s steps(1) infinite;\n",
              "  }\n",
              "\n",
              "  @keyframes spin {\n",
              "    0% {\n",
              "      border-color: transparent;\n",
              "      border-bottom-color: var(--fill-color);\n",
              "      border-left-color: var(--fill-color);\n",
              "    }\n",
              "    20% {\n",
              "      border-color: transparent;\n",
              "      border-left-color: var(--fill-color);\n",
              "      border-top-color: var(--fill-color);\n",
              "    }\n",
              "    30% {\n",
              "      border-color: transparent;\n",
              "      border-left-color: var(--fill-color);\n",
              "      border-top-color: var(--fill-color);\n",
              "      border-right-color: var(--fill-color);\n",
              "    }\n",
              "    40% {\n",
              "      border-color: transparent;\n",
              "      border-right-color: var(--fill-color);\n",
              "      border-top-color: var(--fill-color);\n",
              "    }\n",
              "    60% {\n",
              "      border-color: transparent;\n",
              "      border-right-color: var(--fill-color);\n",
              "    }\n",
              "    80% {\n",
              "      border-color: transparent;\n",
              "      border-right-color: var(--fill-color);\n",
              "      border-bottom-color: var(--fill-color);\n",
              "    }\n",
              "    90% {\n",
              "      border-color: transparent;\n",
              "      border-bottom-color: var(--fill-color);\n",
              "    }\n",
              "  }\n",
              "</style>\n",
              "\n",
              "  <script>\n",
              "    async function quickchart(key) {\n",
              "      const quickchartButtonEl =\n",
              "        document.querySelector('#' + key + ' button');\n",
              "      quickchartButtonEl.disabled = true;  // To prevent multiple clicks.\n",
              "      quickchartButtonEl.classList.add('colab-df-spinner');\n",
              "      try {\n",
              "        const charts = await google.colab.kernel.invokeFunction(\n",
              "            'suggestCharts', [key], {});\n",
              "      } catch (error) {\n",
              "        console.error('Error during call to suggestCharts:', error);\n",
              "      }\n",
              "      quickchartButtonEl.classList.remove('colab-df-spinner');\n",
              "      quickchartButtonEl.classList.add('colab-df-quickchart-complete');\n",
              "    }\n",
              "    (() => {\n",
              "      let quickchartButtonEl =\n",
              "        document.querySelector('#df-f64bb227-a4f3-4bd9-b12c-5d4b7d017b77 button');\n",
              "      quickchartButtonEl.style.display =\n",
              "        google.colab.kernel.accessAllowed ? 'block' : 'none';\n",
              "    })();\n",
              "  </script>\n",
              "</div>\n",
              "    </div>\n",
              "  </div>\n"
            ]
          },
          "metadata": {},
          "execution_count": 376
        }
      ],
      "source": [
        "mde_grid = np.arange(0.01, 0.1, 0.01).reshape(-1, 1) # относительный MDE\n",
        "beta_grid = np.arange(0.6, 1, 0.05)  # мощность\n",
        "alpha = 0.05\n",
        "var = feature.var() * 2 / (feature.mean()**2)  # относительная дисперсия\n",
        "\n",
        "sample_sizes = get_sample_size(\n",
        "    alpha=alpha,\n",
        "    beta = beta_grid,\n",
        "    mde=mde_grid,\n",
        "    var_R=var\n",
        ")\n",
        "print(sample_sizes.shape)\n",
        "pd.DataFrame(sample_sizes, columns=beta_grid.reshape(-1), index=mde_grid.reshape(-1))"
      ]
    },
    {
      "cell_type": "markdown",
      "metadata": {
        "id": "VHJ42g36p_5p"
      },
      "source": [
        "Какие значения `MDE`, достоверности и размера выборки стоит выбрать?"
      ]
    },
    {
      "cell_type": "markdown",
      "metadata": {
        "id": "RzO-i0NfquGP"
      },
      "source": [
        "**Ответ:** 0.75 мощность и 0.09 эффект -> единственный доступный размер выборки для проведения теста\n"
      ]
    },
    {
      "cell_type": "markdown",
      "metadata": {
        "id": "sEXye15lrabq"
      },
      "source": [
        "Далее как в 3-й задаче по физике посмотрим на реальный уровень значимости, гистограмму p_value и реальный уровень значимости."
      ]
    },
    {
      "cell_type": "code",
      "execution_count": 377,
      "metadata": {
        "id": "W3Jpjr8NJ6cQ"
      },
      "outputs": [],
      "source": [
        "sample_size = 460\n",
        "mde = 0.09\n",
        "alpha = 0.05"
      ]
    },
    {
      "cell_type": "code",
      "execution_count": 378,
      "metadata": {
        "id": "Lg9cF2KGra0Z",
        "colab": {
          "base_uri": "https://localhost:8080/"
        },
        "outputId": "3fc3039f-2bf0-40ce-ab72-c5c4d749cdd0"
      },
      "outputs": [
        {
          "output_type": "stream",
          "name": "stderr",
          "text": [
            "100%|██████████| 2000/2000 [00:00<00:00, 2102.88it/s]\n"
          ]
        }
      ],
      "source": [
        "p_vals = []\n",
        "\n",
        "for i in tqdm(range(2000)):\n",
        "\n",
        "    sample1, sample2 = np.random.choice(feature, (2, sample_size), replace=False)\n",
        "\n",
        "    p_val = relative_ttest(sample1,sample2)[3]\n",
        "    p_vals.append(p_val)\n",
        "\n",
        "p_vals = np.array(p_vals)"
      ]
    },
    {
      "cell_type": "code",
      "execution_count": 379,
      "metadata": {
        "id": "mjVIM9vZra0Z",
        "colab": {
          "base_uri": "https://localhost:8080/",
          "height": 207
        },
        "outputId": "7176df4a-f921-4c75-d7fc-d21964dfc468"
      },
      "outputs": [
        {
          "output_type": "stream",
          "name": "stdout",
          "text": [
            "Реальный уровень значимости: 0.05\n"
          ]
        },
        {
          "output_type": "display_data",
          "data": {
            "text/plain": [
              "<Figure size 600x200 with 1 Axes>"
            ],
            "image/png": "[encoded data removed]"
          },
          "metadata": {}
        }
      ],
      "source": [
        "real_alpha = (p_vals < alpha).mean()\n",
        "print(f'Реальный уровень значимости: {real_alpha.round(2)}')\n",
        "left_alpha, right_alpha = proportion_confint((p_vals < alpha).sum(), len(p_vals), method='wilson')\n",
        "draw_interval(real_alpha, left_alpha, right_alpha, alpha=alpha)"
      ]
    },
    {
      "cell_type": "markdown",
      "metadata": {
        "id": "ZC6K_vJFra0a"
      },
      "source": [
        "Посмотрите также на гистограмму p-value."
      ]
    },
    {
      "cell_type": "code",
      "execution_count": 380,
      "metadata": {
        "id": "wVZGAZOKra0a",
        "colab": {
          "base_uri": "https://localhost:8080/",
          "height": 401
        },
        "outputId": "e39f3e50-0458-4163-f0fd-d3f1a34f787d"
      },
      "outputs": [
        {
          "output_type": "display_data",
          "data": {
            "text/plain": [
              "<Figure size 1000x400 with 1 Axes>"
            ],
            "image/png": "[encoded data removed]"
          },
          "metadata": {}
        }
      ],
      "source": [
        "sns.set_style(\"whitegrid\")\n",
        "\n",
        "plt.figure(figsize=(10, 4))\n",
        "plt.title('Гистограмма pvalue')\n",
        "sns.histplot(p_vals)\n",
        "plt.show()"
      ]
    },
    {
      "cell_type": "markdown",
      "metadata": {
        "id": "cOfErnmPra0a"
      },
      "source": [
        "Что можно сказать о валидности критерия?\n",
        "\n",
        "**Ответ:** критерий валиден"
      ]
    },
    {
      "cell_type": "markdown",
      "metadata": {
        "id": "q4LkXlT5JQmb"
      },
      "source": [
        "Проверьте также мощность критерия на выбранном `MDE`.\n"
      ]
    },
    {
      "cell_type": "code",
      "source": [
        "pvals = []\n",
        "\n",
        "for _ in tqdm(range(2000)):\n",
        "    sample1, sample2 = np.random.choice(feature, (2, sample_size), replace=False)\n",
        "\n",
        "    sample2 = sample2 * 1.09\n",
        "    #sample2 += sps.norm.rvs(size=len(sample2), scale=0.01)\n",
        "\n",
        "    pvals.append(relative_ttest(sample2,sample1)[3])\n",
        "\n",
        "pvals = np.array(pvals)"
      ],
      "metadata": {
        "colab": {
          "base_uri": "https://localhost:8080/"
        },
        "id": "QP0UKAAI5X-T",
        "outputId": "36edb2b3-75af-4f76-b7aa-99381206c975"
      },
      "execution_count": 381,
      "outputs": [
        {
          "output_type": "stream",
          "name": "stderr",
          "text": [
            "100%|██████████| 2000/2000 [00:01<00:00, 1709.56it/s]\n"
          ]
        }
      ]
    },
    {
      "cell_type": "code",
      "execution_count": 382,
      "metadata": {
        "id": "0gXG9UwRra0a",
        "colab": {
          "base_uri": "https://localhost:8080/"
        },
        "outputId": "a170c0e2-c729-4d94-b26e-c0182b07616e"
      },
      "outputs": [
        {
          "output_type": "stream",
          "name": "stdout",
          "text": [
            "Реальная мощность критерия: 0.69\n"
          ]
        }
      ],
      "source": [
        "print(f'Реальная мощность критерия: {(pvals < alpha).mean().round(3)}')"
      ]
    },
    {
      "cell_type": "markdown",
      "source": [
        "Мощность критерия примерно совпадает с теоретической\n",
        "\n"
      ],
      "metadata": {
        "id": "fdhuobrb5Sqj"
      }
    },
    {
      "cell_type": "markdown",
      "metadata": {
        "id": "YqbgiEWHTQsV"
      },
      "source": [
        "Теперь воспользуемся стратификацией. Будем разбивать на страты по параметру `POP` выборки."
      ]
    },
    {
      "cell_type": "markdown",
      "metadata": {
        "id": "FXToCwz3NoOA"
      },
      "source": [
        "Реализуйте функции для стратифицированного семплирования и стратифицированного относительного t-test. Заранее вспомните с семинара, какое семплирование какому тесту подходит. Не забудьте о возможности пост-стратификации. Какие методы подойдут вам, учитывая количество страт и размер выборки?\n",
        "\n",
        "**Ответ:** страты две. Подойдут любые"
      ]
    },
    {
      "cell_type": "code",
      "execution_count": 383,
      "metadata": {
        "id": "lg9tOvfDWzEu"
      },
      "outputs": [],
      "source": [
        "def calculate_strata_weights(data):\n",
        "    '''\n",
        "    Вычисляет веса страт.\n",
        "\n",
        "    :param data: исходные данные\n",
        "    :return: веса страт\n",
        "    '''\n",
        "\n",
        "    strata_weights = data.groupby(by='strata')['sample'].count()\n",
        "    strata_weights = strata_weights / strata_weights.sum()\n",
        "    return strata_weights\n",
        "\n",
        "\n",
        "def weighted_mean(data, weights):\n",
        "    '''\n",
        "    Вычисляет взвешенное среднее.\n",
        "\n",
        "    :param data: данные\n",
        "    :param weights: веса страт\n",
        "    :return: взвешенное среднее\n",
        "    '''\n",
        "\n",
        "    strata_means = data.groupby(by='strata')['sample'].mean()\n",
        "    return np.sum(strata_means * weights)\n",
        "\n",
        "\n",
        "def simple_mean(data, weights):\n",
        "    '''\n",
        "    Вычисляет обычное выборочное среднее\n",
        "\n",
        "    :param data: данные\n",
        "    :param weights: не используется, нужен для совместимости\n",
        "    :return: выборочное среднее\n",
        "    '''\n",
        "\n",
        "    return data.sum()\n",
        "\n",
        "\n",
        "def random_sampler(data, sample_size):\n",
        "    '''\n",
        "    Случайное семплирование двух групп одного размера из данных.\n",
        "\n",
        "    :param data: исходные данные\n",
        "    :param sample_size: размер группы\n",
        "    :return: две группы данных\n",
        "    '''\n",
        "\n",
        "    choiced = data.sample(n=2 * sample_size)\n",
        "    return choiced.iloc[:sample_size], choiced.iloc[sample_size:]\n",
        "\n",
        "def stratified_sampler(data, sample_size):\n",
        "    '''\n",
        "    Стратифицированное семплирование выборок.\n",
        "\n",
        "    :param data: данные\n",
        "    :param sample_size: размер выборки\n",
        "    :return: две выборки\n",
        "    '''\n",
        "\n",
        "    groupped = data.groupby('strata')\n",
        "\n",
        "    # Веса страт\n",
        "    strata_weights = groupped.size() / len(data)\n",
        "\n",
        "    # Размер выборок\n",
        "    strata_sample_size = (sample_size * strata_weights).astype(int)\n",
        "\n",
        "    a_group, b_group = [], []\n",
        "    # Генерируем для каждой страты отдельно\n",
        "    for i, strata in enumerate(groupped):\n",
        "        a, b = random_sampler(strata[1], strata_sample_size[i])\n",
        "        a_group.append(a)\n",
        "        b_group.append(b)\n",
        "\n",
        "    return pd.concat(a_group), pd.concat(b_group)\n",
        "\n",
        "def weighted_var(data, strata_weights):\n",
        "    '''\n",
        "    Вычисляет взвешенную дисперсию при стратификации.\n",
        "\n",
        "    :param data: данные\n",
        "    :param strata_weights: веса страт\n",
        "    :return: дисперсия\n",
        "    '''\n",
        "\n",
        "    strata_vars = data.groupby(by='strata')['sample'].var()\n",
        "    return np.sum(strata_vars * strata_weights)\n",
        "\n",
        "def weighted_post_var(data, strata_weights):\n",
        "    '''\n",
        "    Вычисляет взвешенную дисперсию при постстратификации.\n",
        "\n",
        "    :param data: данные\n",
        "    :param strata_weights: веса страт\n",
        "    :return: дисперсия\n",
        "    '''\n",
        "\n",
        "    strata_vars = data.groupby(by='strata')['sample'].var()\n",
        "    weighted_var = (strata_vars * strata_weights).sum() / len(data)\n",
        "    post_addition = (strata_vars * (1-strata_weights)).sum() / (len(data)**2)\n",
        "    return weighted_var + post_addition\n",
        "\n",
        "\n",
        "def simple_var(data, strata_weights):\n",
        "    '''\n",
        "    Вычисляет обычную дисперсию при случайном семплировании.\n",
        "\n",
        "    :param data: данные\n",
        "    :param strata_weights: веса страт, не используется, нужен для совместимости\n",
        "    :return: дисперсия\n",
        "    '''\n",
        "\n",
        "    return data.var()"
      ]
    },
    {
      "cell_type": "code",
      "execution_count": 384,
      "metadata": {
        "id": "wysNrCaymVd4"
      },
      "outputs": [],
      "source": [
        "def stratified_ttest(x_data, y_data, strata_weights, method='random', alpha=0.05):\n",
        "    '''\n",
        "    Стратифицированный абсолютный t-test.\n",
        "\n",
        "    :param x_data: выборка вместе с информацией о стратах\n",
        "    :param y_data: выборка вместе с информацией о стратах\n",
        "    :param strata_weights: веса страт\n",
        "    :param method: метод 'random', 'stratified', 'post_stratified'\n",
        "    :param alpha: уровень значимости\n",
        "    :return: статистика критерия, границы доверительного интервала, p-value\n",
        "    '''\n",
        "\n",
        "    if method == 'random':\n",
        "        mean_function = simple_mean\n",
        "        var_function = simple_var\n",
        "    elif method == 'stratified':\n",
        "        mean_function = weighted_mean\n",
        "        var_function = weighted_var\n",
        "\n",
        "    x_mean = mean_function(x_data, strata_weights)\n",
        "    y_mean = mean_function(y_data, strata_weights)\n",
        "    x_var  =  var_function(x_data, strata_weights)\n",
        "    y_var  =  var_function(y_data, strata_weights)\n",
        "\n",
        "    stat = x_mean - y_mean\n",
        "    std = np.sqrt(x_var + y_var )\n",
        "\n",
        "    t_stat = np.sqrt(len(x_data)) * stat / std\n",
        "    pvalue = 2*sps.norm.sf(np.abs(t_stat))\n",
        "\n",
        "    q = sps.norm.ppf(1 - alpha/2)\n",
        "    left_bound = - q * std / np.sqrt(len(x_data))\n",
        "    right_bound = q * std / np.sqrt(len(x_data))\n",
        "\n",
        "    return stat, left_bound, right_bound, pvalue"
      ]
    },
    {
      "cell_type": "markdown",
      "metadata": {
        "id": "Xssc8jgQYprM"
      },
      "source": [
        "Теперь проверим корректность применения стратификации в нашем случае.\n",
        "\n",
        "Сначала создадим отдельный датасет для более удобной проверки. У него будет две колонки: `sample`, `strata`, которые соответствуют данным и разделением на страты у исходного датасета."
      ]
    },
    {
      "cell_type": "code",
      "execution_count": 385,
      "metadata": {
        "id": "nBYVVJYAzXlk",
        "colab": {
          "base_uri": "https://localhost:8080/",
          "height": 424
        },
        "outputId": "06f6ab87-f1ea-4246-dc80-0a5e9dad8c17"
      },
      "outputs": [
        {
          "output_type": "execute_result",
          "data": {
            "text/plain": [
              "      strata    sample\n",
              "0          1   4.44780\n",
              "1          0   6.94399\n",
              "2          1   2.64571\n",
              "3          1   4.24168\n",
              "4          0  10.44719\n",
              "...      ...       ...\n",
              "996        0   5.51582\n",
              "997        1   4.14823\n",
              "998        1   3.98294\n",
              "999        1   4.33893\n",
              "1000       1   3.74869\n",
              "\n",
              "[1001 rows x 2 columns]"
            ],
            "text/html": [
              "\n",
              "  <div id=\"df-71d87a18-d361-4ccd-bf4c-04130633430b\" class=\"colab-df-container\">\n",
              "    <div>\n",
              "<style scoped>\n",
              "    .dataframe tbody tr th:only-of-type {\n",
              "        vertical-align: middle;\n",
              "    }\n",
              "\n",
              "    .dataframe tbody tr th {\n",
              "        vertical-align: top;\n",
              "    }\n",
              "\n",
              "    .dataframe thead th {\n",
              "        text-align: right;\n",
              "    }\n",
              "</style>\n",
              "<table border=\"1\" class=\"dataframe\">\n",
              "  <thead>\n",
              "    <tr style=\"text-align: right;\">\n",
              "      <th></th>\n",
              "      <th>strata</th>\n",
              "      <th>sample</th>\n",
              "    </tr>\n",
              "  </thead>\n",
              "  <tbody>\n",
              "    <tr>\n",
              "      <th>0</th>\n",
              "      <td>1</td>\n",
              "      <td>4.44780</td>\n",
              "    </tr>\n",
              "    <tr>\n",
              "      <th>1</th>\n",
              "      <td>0</td>\n",
              "      <td>6.94399</td>\n",
              "    </tr>\n",
              "    <tr>\n",
              "      <th>2</th>\n",
              "      <td>1</td>\n",
              "      <td>2.64571</td>\n",
              "    </tr>\n",
              "    <tr>\n",
              "      <th>3</th>\n",
              "      <td>1</td>\n",
              "      <td>4.24168</td>\n",
              "    </tr>\n",
              "    <tr>\n",
              "      <th>4</th>\n",
              "      <td>0</td>\n",
              "      <td>10.44719</td>\n",
              "    </tr>\n",
              "    <tr>\n",
              "      <th>...</th>\n",
              "      <td>...</td>\n",
              "      <td>...</td>\n",
              "    </tr>\n",
              "    <tr>\n",
              "      <th>996</th>\n",
              "      <td>0</td>\n",
              "      <td>5.51582</td>\n",
              "    </tr>\n",
              "    <tr>\n",
              "      <th>997</th>\n",
              "      <td>1</td>\n",
              "      <td>4.14823</td>\n",
              "    </tr>\n",
              "    <tr>\n",
              "      <th>998</th>\n",
              "      <td>1</td>\n",
              "      <td>3.98294</td>\n",
              "    </tr>\n",
              "    <tr>\n",
              "      <th>999</th>\n",
              "      <td>1</td>\n",
              "      <td>4.33893</td>\n",
              "    </tr>\n",
              "    <tr>\n",
              "      <th>1000</th>\n",
              "      <td>1</td>\n",
              "      <td>3.74869</td>\n",
              "    </tr>\n",
              "  </tbody>\n",
              "</table>\n",
              "<p>1001 rows × 2 columns</p>\n",
              "</div>\n",
              "    <div class=\"colab-df-buttons\">\n",
              "\n",
              "  <div class=\"colab-df-container\">\n",
              "    <button class=\"colab-df-convert\" onclick=\"convertToInteractive('df-71d87a18-d361-4ccd-bf4c-04130633430b')\"\n",
              "            title=\"Convert this dataframe to an interactive table.\"\n",
              "            style=\"display:none;\">\n",
              "\n",
              "  <svg xmlns=\"http://www.w3.org/2000/svg\" height=\"24px\" viewBox=\"0 -960 960 960\">\n",
              "    <path d=\"M120-120v-720h720v720H120Zm60-500h600v-160H180v160Zm220 220h160v-160H400v160Zm0 220h160v-160H400v160ZM180-400h160v-160H180v160Zm440 0h160v-160H620v160ZM180-180h160v-160H180v160Zm440 0h160v-160H620v160Z\"/>\n",
              "  </svg>\n",
              "    </button>\n",
              "\n",
              "  <style>\n",
              "    .colab-df-container {\n",
              "      display:flex;\n",
              "      gap: 12px;\n",
              "    }\n",
              "\n",
              "    .colab-df-convert {\n",
              "      background-color: #E8F0FE;\n",
              "      border: none;\n",
              "      border-radius: 50%;\n",
              "      cursor: pointer;\n",
              "      display: none;\n",
              "      fill: #1967D2;\n",
              "      height: 32px;\n",
              "      padding: 0 0 0 0;\n",
              "      width: 32px;\n",
              "    }\n",
              "\n",
              "    .colab-df-convert:hover {\n",
              "      background-color: #E2EBFA;\n",
              "      box-shadow: 0px 1px 2px rgba(60, 64, 67, 0.3), 0px 1px 3px 1px rgba(60, 64, 67, 0.15);\n",
              "      fill: #174EA6;\n",
              "    }\n",
              "\n",
              "    .colab-df-buttons div {\n",
              "      margin-bottom: 4px;\n",
              "    }\n",
              "\n",
              "    [theme=dark] .colab-df-convert {\n",
              "      background-color: #3B4455;\n",
              "      fill: #D2E3FC;\n",
              "    }\n",
              "\n",
              "    [theme=dark] .colab-df-convert:hover {\n",
              "      background-color: #434B5C;\n",
              "      box-shadow: 0px 1px 3px 1px rgba(0, 0, 0, 0.15);\n",
              "      filter: drop-shadow(0px 1px 2px rgba(0, 0, 0, 0.3));\n",
              "      fill: #FFFFFF;\n",
              "    }\n",
              "  </style>\n",
              "\n",
              "    <script>\n",
              "      const buttonEl =\n",
              "        document.querySelector('#df-71d87a18-d361-4ccd-bf4c-04130633430b button.colab-df-convert');\n",
              "      buttonEl.style.display =\n",
              "        google.colab.kernel.accessAllowed ? 'block' : 'none';\n",
              "\n",
              "      async function convertToInteractive(key) {\n",
              "        const element = document.querySelector('#df-71d87a18-d361-4ccd-bf4c-04130633430b');\n",
              "        const dataTable =\n",
              "          await google.colab.kernel.invokeFunction('convertToInteractive',\n",
              "                                                    [key], {});\n",
              "        if (!dataTable) return;\n",
              "\n",
              "        const docLinkHtml = 'Like what you see? Visit the ' +\n",
              "          '<a target=\"_blank\" href=https://colab.research.google.com/notebooks/data_table.ipynb>data table notebook</a>'\n",
              "          + ' to learn more about interactive tables.';\n",
              "        element.innerHTML = '';\n",
              "        dataTable['output_type'] = 'display_data';\n",
              "        await google.colab.output.renderOutput(dataTable, element);\n",
              "        const docLink = document.createElement('div');\n",
              "        docLink.innerHTML = docLinkHtml;\n",
              "        element.appendChild(docLink);\n",
              "      }\n",
              "    </script>\n",
              "  </div>\n",
              "\n",
              "\n",
              "<div id=\"df-721e60c8-d84b-427a-aa65-5e3a04b4e250\">\n",
              "  <button class=\"colab-df-quickchart\" onclick=\"quickchart('df-721e60c8-d84b-427a-aa65-5e3a04b4e250')\"\n",
              "            title=\"Suggest charts\"\n",
              "            style=\"display:none;\">\n",
              "\n",
              "<svg xmlns=\"http://www.w3.org/2000/svg\" height=\"24px\"viewBox=\"0 0 24 24\"\n",
              "     width=\"24px\">\n",
              "    <g>\n",
              "        <path d=\"M19 3H5c-1.1 0-2 .9-2 2v14c0 1.1.9 2 2 2h14c1.1 0 2-.9 2-2V5c0-1.1-.9-2-2-2zM9 17H7v-7h2v7zm4 0h-2V7h2v10zm4 0h-2v-4h2v4z\"/>\n",
              "    </g>\n",
              "</svg>\n",
              "  </button>\n",
              "\n",
              "<style>\n",
              "  .colab-df-quickchart {\n",
              "      --bg-color: #E8F0FE;\n",
              "      --fill-color: #1967D2;\n",
              "      --hover-bg-color: #E2EBFA;\n",
              "      --hover-fill-color: #174EA6;\n",
              "      --disabled-fill-color: #AAA;\n",
              "      --disabled-bg-color: #DDD;\n",
              "  }\n",
              "\n",
              "  [theme=dark] .colab-df-quickchart {\n",
              "      --bg-color: #3B4455;\n",
              "      --fill-color: #D2E3FC;\n",
              "      --hover-bg-color: #434B5C;\n",
              "      --hover-fill-color: #FFFFFF;\n",
              "      --disabled-bg-color: #3B4455;\n",
              "      --disabled-fill-color: #666;\n",
              "  }\n",
              "\n",
              "  .colab-df-quickchart {\n",
              "    background-color: var(--bg-color);\n",
              "    border: none;\n",
              "    border-radius: 50%;\n",
              "    cursor: pointer;\n",
              "    display: none;\n",
              "    fill: var(--fill-color);\n",
              "    height: 32px;\n",
              "    padding: 0;\n",
              "    width: 32px;\n",
              "  }\n",
              "\n",
              "  .colab-df-quickchart:hover {\n",
              "    background-color: var(--hover-bg-color);\n",
              "    box-shadow: 0 1px 2px rgba(60, 64, 67, 0.3), 0 1px 3px 1px rgba(60, 64, 67, 0.15);\n",
              "    fill: var(--button-hover-fill-color);\n",
              "  }\n",
              "\n",
              "  .colab-df-quickchart-complete:disabled,\n",
              "  .colab-df-quickchart-complete:disabled:hover {\n",
              "    background-color: var(--disabled-bg-color);\n",
              "    fill: var(--disabled-fill-color);\n",
              "    box-shadow: none;\n",
              "  }\n",
              "\n",
              "  .colab-df-spinner {\n",
              "    border: 2px solid var(--fill-color);\n",
              "    border-color: transparent;\n",
              "    border-bottom-color: var(--fill-color);\n",
              "    animation:\n",
              "      spin 1s steps(1) infinite;\n",
              "  }\n",
              "\n",
              "  @keyframes spin {\n",
              "    0% {\n",
              "      border-color: transparent;\n",
              "      border-bottom-color: var(--fill-color);\n",
              "      border-left-color: var(--fill-color);\n",
              "    }\n",
              "    20% {\n",
              "      border-color: transparent;\n",
              "      border-left-color: var(--fill-color);\n",
              "      border-top-color: var(--fill-color);\n",
              "    }\n",
              "    30% {\n",
              "      border-color: transparent;\n",
              "      border-left-color: var(--fill-color);\n",
              "      border-top-color: var(--fill-color);\n",
              "      border-right-color: var(--fill-color);\n",
              "    }\n",
              "    40% {\n",
              "      border-color: transparent;\n",
              "      border-right-color: var(--fill-color);\n",
              "      border-top-color: var(--fill-color);\n",
              "    }\n",
              "    60% {\n",
              "      border-color: transparent;\n",
              "      border-right-color: var(--fill-color);\n",
              "    }\n",
              "    80% {\n",
              "      border-color: transparent;\n",
              "      border-right-color: var(--fill-color);\n",
              "      border-bottom-color: var(--fill-color);\n",
              "    }\n",
              "    90% {\n",
              "      border-color: transparent;\n",
              "      border-bottom-color: var(--fill-color);\n",
              "    }\n",
              "  }\n",
              "</style>\n",
              "\n",
              "  <script>\n",
              "    async function quickchart(key) {\n",
              "      const quickchartButtonEl =\n",
              "        document.querySelector('#' + key + ' button');\n",
              "      quickchartButtonEl.disabled = true;  // To prevent multiple clicks.\n",
              "      quickchartButtonEl.classList.add('colab-df-spinner');\n",
              "      try {\n",
              "        const charts = await google.colab.kernel.invokeFunction(\n",
              "            'suggestCharts', [key], {});\n",
              "      } catch (error) {\n",
              "        console.error('Error during call to suggestCharts:', error);\n",
              "      }\n",
              "      quickchartButtonEl.classList.remove('colab-df-spinner');\n",
              "      quickchartButtonEl.classList.add('colab-df-quickchart-complete');\n",
              "    }\n",
              "    (() => {\n",
              "      let quickchartButtonEl =\n",
              "        document.querySelector('#df-721e60c8-d84b-427a-aa65-5e3a04b4e250 button');\n",
              "      quickchartButtonEl.style.display =\n",
              "        google.colab.kernel.accessAllowed ? 'block' : 'none';\n",
              "    })();\n",
              "  </script>\n",
              "</div>\n",
              "    </div>\n",
              "  </div>\n"
            ]
          },
          "metadata": {},
          "execution_count": 385
        }
      ],
      "source": [
        "data = pd.DataFrame()\n",
        "data['strata'] = df['POP']\n",
        "data['sample'] = df['Dnu']\n",
        "data = data[['strata', 'sample']]\n",
        "data"
      ]
    },
    {
      "cell_type": "markdown",
      "metadata": {
        "id": "uY5Ny9Z9A85U"
      },
      "source": [
        "Посмотрите на `boxplot` для двух подгрупп."
      ]
    },
    {
      "cell_type": "code",
      "execution_count": 386,
      "metadata": {
        "id": "GcuSmRaLA85a",
        "colab": {
          "base_uri": "https://localhost:8080/",
          "height": 481
        },
        "outputId": "c5a06740-4a91-43d9-c6fd-c6d5a8873837"
      },
      "outputs": [
        {
          "output_type": "execute_result",
          "data": {
            "text/plain": [
              "<Axes: xlabel='strata', ylabel='sample'>"
            ]
          },
          "metadata": {},
          "execution_count": 386
        },
        {
          "output_type": "display_data",
          "data": {
            "text/plain": [
              "<Figure size 640x480 with 1 Axes>"
            ],
            "image/png": "[encoded data removed]"
          },
          "metadata": {}
        }
      ],
      "source": [
        "sns.boxplot(data, x='strata', y='sample')"
      ]
    },
    {
      "cell_type": "code",
      "execution_count": 387,
      "metadata": {
        "id": "fvdvd8S0A85a",
        "colab": {
          "base_uri": "https://localhost:8080/"
        },
        "outputId": "47f18a57-ddf4-4f85-9def-833d8be93fc8"
      },
      "outputs": [
        {
          "output_type": "execute_result",
          "data": {
            "text/plain": [
              "713"
            ]
          },
          "metadata": {},
          "execution_count": 387
        }
      ],
      "source": [
        "data['strata'].sum()"
      ]
    },
    {
      "cell_type": "markdown",
      "metadata": {
        "id": "Y8Z4qz7LBFdx"
      },
      "source": [
        "Что вы можете сказать уже сейчас о том, повлияет ли стратификация на результаты теста?"
      ]
    },
    {
      "cell_type": "markdown",
      "metadata": {
        "id": "8Nqks4_oA85a"
      },
      "source": [
        "**Ответ:** Средние значительно отличаются, это позволит существенно уменьшить дисперсию. Есть незначительный дисбаланс классов, который может привести к нестабильности теста\n",
        "\n"
      ]
    },
    {
      "cell_type": "code",
      "execution_count": 388,
      "metadata": {
        "id": "EgHIkNQiMoPL",
        "colab": {
          "base_uri": "https://localhost:8080/"
        },
        "outputId": "93adcce8-b676-400c-c532-58d677aefde2"
      },
      "outputs": [
        {
          "output_type": "stream",
          "name": "stderr",
          "text": [
            "100%|██████████| 2000/2000 [00:09<00:00, 216.61it/s]\n"
          ]
        }
      ],
      "source": [
        "p_vals = []\n",
        "strata_weights = calculate_strata_weights(data)\n",
        "\n",
        "for i in tqdm(range(2000)):\n",
        "\n",
        "    control_sample, test_sample = random_sampler(data,sample_size=500)\n",
        "\n",
        "    p_vals.append(stratified_ttest(control_sample,test_sample,strata_weights,method='stratified')[3])\n",
        "\n",
        "p_vals = np.array(p_vals)"
      ]
    },
    {
      "cell_type": "markdown",
      "metadata": {
        "id": "J3zVk4m5hL8v"
      },
      "source": [
        "Посмотрите также на реальный уровень значимости и гистограмму p-value"
      ]
    },
    {
      "cell_type": "code",
      "execution_count": 389,
      "metadata": {
        "id": "KTTC1qJyMoPM",
        "colab": {
          "base_uri": "https://localhost:8080/",
          "height": 207
        },
        "outputId": "ef48679d-bf9e-49d3-a9af-5b2a5fa3fd29"
      },
      "outputs": [
        {
          "output_type": "stream",
          "name": "stdout",
          "text": [
            "Реальный уровень значимости: 0.06\n"
          ]
        },
        {
          "output_type": "display_data",
          "data": {
            "text/plain": [
              "<Figure size 600x200 with 1 Axes>"
            ],
            "image/png": "[encoded data removed]"
          },
          "metadata": {}
        }
      ],
      "source": [
        "real_alpha = (p_vals < alpha).mean()\n",
        "print(f'Реальный уровень значимости: {real_alpha.round(2)}')\n",
        "left_alpha, right_alpha = proportion_confint((p_vals < alpha).sum(), len(p_vals), method='wilson')\n",
        "draw_interval(real_alpha, left_alpha, right_alpha, alpha=alpha)"
      ]
    },
    {
      "cell_type": "markdown",
      "metadata": {
        "id": "uKxLDWHNMoPM"
      },
      "source": [
        "Корректны ли выбранные методы?\n",
        "\n",
        "**Ответ:** Да\n",
        "\n",
        "Посмотрите на мощность критерия. Улучшилась ли мощность по сравнению с обработкой без стратификации?"
      ]
    },
    {
      "cell_type": "code",
      "execution_count": 390,
      "metadata": {
        "id": "lbIAm-xuOKDr",
        "colab": {
          "base_uri": "https://localhost:8080/"
        },
        "outputId": "cbc83405-8790-480d-f89d-d2d5b4ae9ae2"
      },
      "outputs": [
        {
          "output_type": "stream",
          "name": "stderr",
          "text": [
            "100%|██████████| 2000/2000 [00:12<00:00, 157.01it/s]\n"
          ]
        }
      ],
      "source": [
        "p_vals = []\n",
        "strata_weights = calculate_strata_weights(data)\n",
        "\n",
        "for i in tqdm(range(2000)):\n",
        "\n",
        "    control_sample, test_sample = random_sampler(data,sample_size=500)\n",
        "\n",
        "    test_sample['sample'] *= 1.09\n",
        "\n",
        "    p_vals.append(stratified_ttest(control_sample,test_sample,strata_weights,method='stratified')[3])\n",
        "\n",
        "p_vals = np.array(p_vals)"
      ]
    },
    {
      "cell_type": "code",
      "execution_count": 391,
      "metadata": {
        "id": "7FQTjjpIMoPM",
        "colab": {
          "base_uri": "https://localhost:8080/"
        },
        "outputId": "83013c60-3629-463b-ab78-d481ecb038fa"
      },
      "outputs": [
        {
          "output_type": "stream",
          "name": "stdout",
          "text": [
            "Реальная мощность критерия: 0.69\n"
          ]
        }
      ],
      "source": [
        "print(f'Реальная мощность критерия: {(pvals < alpha).mean().round(3)}')"
      ]
    },
    {
      "cell_type": "markdown",
      "metadata": {
        "id": "K6j5qKaQMoPM"
      },
      "source": [
        "**Ответ на вопрос о мощности:** мощность совпадает с теоретической"
      ]
    },
    {
      "cell_type": "markdown",
      "metadata": {
        "id": "mVULcgSUGK7U"
      },
      "source": [
        "---\n",
        "### Задача 5\n",
        "\n",
        "Рассмотренные нами методы стратификации работают в случае стратифицированного семплирования, либо же случайного семплирования. Во втором случае метод называется постстратификацией. Однако, как мы видели на занятии, при наличии сильных перекосов в соотношении между стратами вероятность ошибки 1 рода может сильно увеличиваться.\n",
        "\n",
        "Промоделируйте распределение разности\n",
        "* обычного среднего\n",
        "* стратифицированного среднего\n",
        "\n",
        "при наличии сильных перекосов в соотношении между стратами и проинтерпретируйте результаты.\n",
        "\n",
        "Код для семплирования перекошенных данных и для семплирования разности средних есть в ноутбуке с занятия."
      ]
    },
    {
      "cell_type": "code",
      "source": [
        "def generate_data(size, p=0.6, shift=5, scale_factor=1):\n",
        "    '''\n",
        "    Генерация общего объема данных.\n",
        "\n",
        "    :param size: размер данных\n",
        "    :param p: вероятность 1-й страты\n",
        "    :param shift: смещение 1-й страты\n",
        "    :param scale_factor: множитель масштаба 1-й страты\n",
        "    :return: сгенерированные данные\n",
        "    '''\n",
        "\n",
        "    data = pd.DataFrame()\n",
        "    data['strata'] = sps.bernoulli(p=p).rvs(size=size)\n",
        "    data['sample'] = sps.norm.rvs(size=size) * (1 + scale_factor * data['strata']) \\\n",
        "                        + shift*data['strata']\n",
        "    return data\n",
        "\n",
        "def weighted_sampler(data: pd.DataFrame, sample_size: int, strata_weights='default'):\n",
        "    '''\n",
        "    Семплирование выборок по стратам с заданными весами.\n",
        "\n",
        "    :param data: исходные данные\n",
        "    :param sample_size: размер выборок\n",
        "    :param strata_weights: веса страт или же 'default' если их надо определить из данных\n",
        "    :return: две выборки\n",
        "    '''\n",
        "    groupped = data.groupby(by='strata')\n",
        "\n",
        "    if strata_weights == 'default':\n",
        "        # Веса страт определяем по данным\n",
        "        strata_weights = groupped['sample'].count()\n",
        "        strata_weights = strata_weights / strata_weights.sum()\n",
        "    else:\n",
        "        # Веса страт заданы\n",
        "        strata_weights = np.array(strata_weights)\n",
        "\n",
        "    # Размер выборок по стратам\n",
        "    strata_sample_size = np.floor(sample_size * strata_weights + 0.5).astype(int)\n",
        "\n",
        "    a_group, b_group = [], []\n",
        "    # Генерируем отдельно из каждой страты\n",
        "    for i, strata in enumerate(groupped):\n",
        "        a, b = random_sampler(strata[1], strata_sample_size[i])\n",
        "        a_group.append(a)\n",
        "        b_group.append(b)\n",
        "\n",
        "    return pd.concat(a_group), pd.concat(b_group)\n",
        "\n",
        "def weighted_mean(data: pd.DataFrame, weights):\n",
        "    '''\n",
        "    Вычисляет взвешенное среднее.\n",
        "\n",
        "    :param data: данные\n",
        "    :param weights: веса страт\n",
        "    :return: взвешенное среднее\n",
        "\n",
        "\n",
        "    '''\n",
        "    result = 0\n",
        "    for i in range(2):\n",
        "        mask = data['strata'] == i\n",
        "        l = mask.sum()\n",
        "        if l > 0:\n",
        "            result += data.loc[mask,'sample'].sum() * weights[i] / l\n",
        "\n",
        "    return result\n",
        "\n"
      ],
      "metadata": {
        "id": "SXCvdQq5_hSh"
      },
      "execution_count": 518,
      "outputs": []
    },
    {
      "cell_type": "code",
      "source": [
        "weighted_mean(data,[0.5,0.5])"
      ],
      "metadata": {
        "id": "Gq8YIDCLFnIG",
        "outputId": "fcfde9bd-5e36-4d84-f738-5c7899e8be76",
        "colab": {
          "base_uri": "https://localhost:8080/"
        }
      },
      "execution_count": 520,
      "outputs": [
        {
          "output_type": "execute_result",
          "data": {
            "text/plain": [
              "2.5263891406215953"
            ]
          },
          "metadata": {},
          "execution_count": 520
        }
      ]
    },
    {
      "cell_type": "code",
      "source": [
        "# перекос 1:9\n",
        "data = generate_data(10_000,p=0.9)\n",
        "sns.histplot(data,x='sample',hue='strata')"
      ],
      "metadata": {
        "colab": {
          "base_uri": "https://localhost:8080/",
          "height": 481
        },
        "id": "UOjaXn42_pAo",
        "outputId": "bbe47047-2e38-455e-c634-e7011758b9b2"
      },
      "execution_count": 423,
      "outputs": [
        {
          "output_type": "execute_result",
          "data": {
            "text/plain": [
              "<Axes: xlabel='sample', ylabel='Count'>"
            ]
          },
          "metadata": {},
          "execution_count": 423
        },
        {
          "output_type": "display_data",
          "data": {
            "text/plain": [
              "<Figure size 640x480 with 1 Axes>"
            ],
            "image/png": "[encoded data removed]"
          },
          "metadata": {}
        }
      ]
    },
    {
      "cell_type": "code",
      "execution_count": 480,
      "metadata": {
        "id": "xoifM4PlGK7U"
      },
      "outputs": [],
      "source": [
        "from functools import partial\n",
        "# зафиксируем перекос p=1/10\n",
        "\n",
        "def estimate_means(p,data_size=1000):\n",
        "    data_size = 1_000\n",
        "\n",
        "    data = generate_data(data_size,p=0.5)\n",
        "\n",
        "    # стратифицированное среднее отличается от обычного явно заданными весами страт\n",
        "\n",
        "    # веса страт\n",
        "    weights = data['strata'].value_counts(normalize=True).values\n",
        "\n",
        "    calc_strat_mean = partial(weighted_mean, weights=weights)\n",
        "\n",
        "    # среднее в стратах\n",
        "    strat_means = []\n",
        "    means = []\n",
        "\n",
        "    for i in tqdm(range(2000)):\n",
        "        sample1, sample2 =  weighted_sampler(data,sample_size=100,strata_weights=[1-p,p])\n",
        "        means.append(sample1['sample'].mean()-sample2['sample'].mean())\n",
        "        strat_means.append(calc_strat_mean(sample1) - calc_strat_mean(sample2))\n",
        "\n",
        "    return np.array(strat_means), np.array(means)"
      ]
    },
    {
      "cell_type": "code",
      "source": [
        "strat_means,means = estimate_means(p=0.1,data_size=1000)\n",
        "sns.histplot(strat_means,label='Стратифицированное среднее',alpha=0.5)\n",
        "sns.histplot(means,label='Обычное среднее',alpha=0.5)\n",
        "plt.legend()\n",
        "pass"
      ],
      "metadata": {
        "id": "2Ul5ukdupK2B",
        "outputId": "f019977a-c7a6-4d72-bfc8-862c393bf563",
        "colab": {
          "base_uri": "https://localhost:8080/",
          "height": 455
        }
      },
      "execution_count": 481,
      "outputs": [
        {
          "output_type": "stream",
          "name": "stderr",
          "text": [
            "100%|██████████| 2000/2000 [00:11<00:00, 175.19it/s]\n"
          ]
        },
        {
          "output_type": "display_data",
          "data": {
            "text/plain": [
              "<Figure size 640x480 with 1 Axes>"
            ],
            "image/png": "[encoded data removed]"
          },
          "metadata": {}
        }
      ]
    },
    {
      "cell_type": "code",
      "source": [
        "strat_means,means = estimate_means(p=0.25,data_size=1000)\n",
        "sns.histplot(strat_means,label='Стратифицированное среднее',alpha=0.5)\n",
        "sns.histplot(means,label='Обычное среднее',alpha=0.5)\n",
        "plt.legend()\n",
        "pass"
      ],
      "metadata": {
        "id": "zhCKZmSGqwKk",
        "outputId": "382b7e95-1dea-4d23-e5ba-e326cf78454d",
        "colab": {
          "base_uri": "https://localhost:8080/",
          "height": 455
        }
      },
      "execution_count": 482,
      "outputs": [
        {
          "output_type": "stream",
          "name": "stderr",
          "text": [
            "100%|██████████| 2000/2000 [00:08<00:00, 225.39it/s]\n"
          ]
        },
        {
          "output_type": "display_data",
          "data": {
            "text/plain": [
              "<Figure size 640x480 with 1 Axes>"
            ],
            "image/png": "[encoded data removed]"
          },
          "metadata": {}
        }
      ]
    },
    {
      "cell_type": "code",
      "source": [
        "strat_means,means = estimate_means(p=0.5,data_size=1000)\n",
        "sns.histplot(strat_means,label='Стратифицированное среднее',alpha=0.5)\n",
        "sns.histplot(means,label='Обычное среднее',alpha=0.5)\n",
        "plt.legend()\n",
        "pass"
      ],
      "metadata": {
        "colab": {
          "base_uri": "https://localhost:8080/",
          "height": 455
        },
        "id": "IKnMiWccEJ_o",
        "outputId": "4a268b4f-6c2c-45c9-8e37-cb02b9569eed"
      },
      "execution_count": 483,
      "outputs": [
        {
          "output_type": "stream",
          "name": "stderr",
          "text": [
            "100%|██████████| 2000/2000 [00:07<00:00, 254.03it/s]\n"
          ]
        },
        {
          "output_type": "display_data",
          "data": {
            "text/plain": [
              "<Figure size 640x480 with 1 Axes>"
            ],
            "image/png": "[encoded data removed]"
          },
          "metadata": {}
        }
      ]
    },
    {
      "cell_type": "code",
      "source": [
        "strat_means,means = estimate_means(p=0.9,data_size=1000)\n",
        "sns.histplot(strat_means,label='Стратифицированное среднее',alpha=0.5)\n",
        "sns.histplot(means,label='Обычное среднее',alpha=0.5)\n",
        "plt.legend()\n",
        "pass"
      ],
      "metadata": {
        "id": "3PuIpGN6rIQ0",
        "outputId": "f3d4164d-4f36-47a7-b3ff-af6585cfeb2d",
        "colab": {
          "base_uri": "https://localhost:8080/",
          "height": 455
        }
      },
      "execution_count": 484,
      "outputs": [
        {
          "output_type": "stream",
          "name": "stderr",
          "text": [
            "100%|██████████| 2000/2000 [00:08<00:00, 225.93it/s]\n"
          ]
        },
        {
          "output_type": "display_data",
          "data": {
            "text/plain": [
              "<Figure size 640x480 with 1 Axes>"
            ],
            "image/png": "[encoded data removed]"
          },
          "metadata": {}
        }
      ]
    },
    {
      "cell_type": "code",
      "source": [
        "strat_means = [estimate_means(p=p,data_size=1000)[0] for p in [0.1,0.25,0.5,0.9]]\n",
        "[sns.histplot(means,label=f'Stratified mean with {skew=}',alpha=0.5) for means,skew in zip(strat_means,[0.1,0.25,0.5,0.9])]\n",
        "plt.legend()"
      ],
      "metadata": {
        "id": "h1u7X2Sr8Ti7",
        "outputId": "6957947a-9547-49b8-bcaf-10587ec815cf",
        "colab": {
          "base_uri": "https://localhost:8080/",
          "height": 532
        }
      },
      "execution_count": 488,
      "outputs": [
        {
          "output_type": "stream",
          "name": "stderr",
          "text": [
            "100%|██████████| 2000/2000 [00:09<00:00, 205.23it/s]\n",
            "100%|██████████| 2000/2000 [00:08<00:00, 247.89it/s]\n",
            "100%|██████████| 2000/2000 [00:08<00:00, 228.46it/s]\n",
            "100%|██████████| 2000/2000 [00:12<00:00, 162.98it/s]\n"
          ]
        },
        {
          "output_type": "execute_result",
          "data": {
            "text/plain": [
              "<matplotlib.legend.Legend at 0x7fcb81b7cc40>"
            ]
          },
          "metadata": {},
          "execution_count": 488
        },
        {
          "output_type": "display_data",
          "data": {
            "text/plain": [
              "<Figure size 640x480 with 1 Axes>"
            ],
            "image/png": "[encoded data removed]"
          },
          "metadata": {}
        }
      ]
    },
    {
      "cell_type": "markdown",
      "metadata": {
        "id": "ySPU4SPvGK7U"
      },
      "source": [
        "В чем же тогда проблема того, что стратифицированный t-test увеличивает вероятность ошибки 1 рода?\n",
        "\n",
        "При взвешенном сэмплировании мы изменяем пропорцию между стратами относительно генеральной совокупности. Но при оценки среднего и дисперсии групп сэмплов подставляем веса как в генеральной совокупности. Из-за этого вносим ошибку дисперсии\n",
        "\n",
        "\n",
        "Можно ли как-то исправить его с помощью некоторой универсальной статистической процедуры?\n",
        "\n",
        "Переформулируем задачу не на то, как посчитать среднее, а взвешенную статистику с заданными генеральной совокупностью весами по стратам\n",
        "\n",
        "- $w_i$ - априорные веса заданные генеральной совокупностью\n",
        "- $\\mu_i$ - среднее по сэмплируемым стратам  \n",
        "\n",
        "$$\n",
        "    S = \\sum\\limits_{i=1}^n w_i \\mu_i\n",
        "$$\n",
        "\n",
        "Оценку дисперсии можно выполнить с помощью бутстрэпа\n"
      ]
    },
    {
      "cell_type": "markdown",
      "metadata": {
        "id": "QqBrDESBGK7V"
      },
      "source": [
        "Реализуйте эту процедруру."
      ]
    },
    {
      "cell_type": "code",
      "execution_count": 521,
      "metadata": {
        "id": "5DTWUCD2GK7V"
      },
      "outputs": [],
      "source": [
        "from scipy.stats import bootstrap\n",
        "def bootstrap_strat_test(sample1,sample2,calc_strat_mean,B=100):\n",
        "\n",
        "    diff_mean = calc_strat_mean(sample1) - calc_strat_mean(sample2)\n",
        "\n",
        "    calc_var = lambda x: np.var([calc_strat_mean(x.sample(n=len(x),replace=True)) for _ in range(B)])\n",
        "\n",
        "    var =  calc_var(sample1) + calc_var(sample2)\n",
        "\n",
        "    t = diff_mean / np.sqrt(var)\n",
        "    return 2 * sps.norm.sf(np.abs(t))\n"
      ]
    },
    {
      "cell_type": "markdown",
      "metadata": {
        "id": "GQsxz3fLGK7V"
      },
      "source": [
        "Провалидируйте полученный тест, а также сравните его по мощности со стандартным t-test. Используйте код с занятий."
      ]
    },
    {
      "cell_type": "code",
      "execution_count": 532,
      "metadata": {
        "id": "RCGRSL_sGK7V",
        "colab": {
          "base_uri": "https://localhost:8080/"
        },
        "outputId": "20d3bab6-3b5e-4087-bf28-b7ad24b4431b"
      },
      "outputs": [
        {
          "output_type": "stream",
          "name": "stderr",
          "text": [
            "100%|██████████| 2000/2000 [08:54<00:00,  3.74it/s]\n"
          ]
        }
      ],
      "source": [
        "data = generate_data(500,p=0.5)\n",
        "weights = data['strata'].value_counts(normalize=True).values\n",
        "calc_strat_mean = partial(weighted_mean, weights=weights)\n",
        "\n",
        "p = 0.1\n",
        "p_values = []\n",
        "\n",
        "for i in tqdm(range(2000)):\n",
        "    sample1, sample_2 = weighted_sampler(data,sample_size=100,strata_weights=[1-p,p])\n",
        "    p_values.append(\n",
        "        bootstrap_strat_test(sample1,sample_2,calc_strat_mean)\n",
        "    )"
      ]
    },
    {
      "cell_type": "code",
      "source": [
        "proportion_confint((np.array(p_values) < 0.05).sum(), 2000, method='wilson')"
      ],
      "metadata": {
        "id": "sCNziDIsH5QA",
        "outputId": "276ab0d3-487e-4bf1-b9a6-d9a2558a7c1b",
        "colab": {
          "base_uri": "https://localhost:8080/"
        }
      },
      "execution_count": 537,
      "outputs": [
        {
          "output_type": "execute_result",
          "data": {
            "text/plain": [
              "(0.053166899529154835, 0.07450859979466022)"
            ]
          },
          "metadata": {},
          "execution_count": 537
        }
      ]
    },
    {
      "cell_type": "markdown",
      "source": [
        "Тест исправен"
      ],
      "metadata": {
        "id": "Ea00UirAKcJO"
      }
    }
  ],
  "metadata": {
    "colab": {
      "provenance": [],
      "include_colab_link": true
    },
    "kernelspec": {
      "display_name": "Python 3",
      "name": "python3"
    },
    "language_info": {
      "name": "python"
    }
  },
  "nbformat": 4,
  "nbformat_minor": 0
}