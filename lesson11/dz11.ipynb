{
  "cells": [
    {
      "cell_type": "markdown",
      "metadata": {},
      "source": [
        "# <a href=\"https://miptstats.github.io/courses/ad_mipt.html\">Phystech@DataScience</a>\n",
        "## Домашнее задание 11\n",
        "\n",
        "**Правила, <font color=\"red\">прочитайте внимательно</font>:**\n",
        "\n",
        "* Выполненную работу нужно отправить телеграм-боту `@miptstats_pds_bot`. Для начала работы с ботом каждый раз отправляйте `/start`. **Работы, присланные иным способом, не принимаются.**\n",
        "* Дедлайн см. в боте. После дедлайна работы не принимаются кроме случаев наличия уважительной причины.\n",
        "* Прислать нужно ноутбук в формате `ipynb`.\n",
        "* Выполнять задание необходимо полностью самостоятельно. **При обнаружении списывания все участники списывания будут сдавать устный зачет.**\n",
        "* Решения, размещенные на каких-либо интернет-ресурсах, не принимаются. Кроме того, публикация решения в открытом доступе может быть приравнена к предоставлении возможности списать.\n",
        "* Для выполнения задания используйте этот ноутбук в качестве основы, ничего не удаляя из него. Можно добавлять необходимое количество ячеек.\n",
        "* Комментарии к решению пишите в markdown-ячейках.\n",
        "* Выполнение задания (ход решения, выводы и пр.) должно быть осуществлено на русском языке.\n",
        "* Если код будет не понятен проверяющему, оценка может быть снижена.\n",
        "* Никакой код из данного задания при проверке запускаться не будет. *Если код студента не выполнен, недописан и т.д., то он не оценивается.*\n",
        "* **Код из рассказанных на занятиях ноутбуков можно использовать без ограничений.**\n",
        "\n",
        "**Правила оформления теоретических задач:**\n",
        "\n",
        "* Решения необходимо прислать одним из следующих способов:\n",
        "  * фотографией в правильной ориентации, где все четко видно, а почерк разборчив,\n",
        "    * отправив ее как файл боту вместе с ноутбуком *или*\n",
        "    * вставив ее в ноутбук посредством `Edit -> Insert Image` (<font color=\"red\">фото, вставленные ссылкой, не принимаются</font>);\n",
        "  * в виде $\\LaTeX$ в markdown-ячейках.\n",
        "* Решения не проверяются, если какое-то требование не выполнено. Особенно внимательно все проверьте в случае выбора второго пункта (вставки фото в ноутбук). <font color=\"red\"><b>Неправильно вставленные фотографии могут не передаться при отправке.</b></font> Для проверки попробуйте переместить `ipynb` в другую папку и открыть его там.\n",
        "* В решениях поясняйте, чем вы пользуетесь, хотя бы кратко. Например, если пользуетесь независимостью, то достаточно подписи вида \"*X и Y незав.*\"\n",
        "* Решение, в котором есть только ответ, и отсутствуют вычисления, оценивается в 0 баллов.\n",
        "\n",
        "\n",
        "**Баллы за задание:**\n",
        "\n",
        "* Задача 1 &mdash; 20 баллов\n",
        "* Задача 2 &mdash; 30 баллов\n",
        "* Задача 3 &mdash; 60 баллов\n",
        "* Задача 4 &mdash; 50 баллов\n",
        "* Задача 5 &mdash; 50 баллов\n",
        "\n",
        "\n",
        "\n",
        "\n",
        "\n",
        "-----"
      ]
    },
    {
      "cell_type": "code",
      "execution_count": null,
      "metadata": {
        "id": "aBIdxQNbG2SV"
      },
      "outputs": [],
      "source": [
        "import scipy.stats as sps\n",
        "import numpy as np\n",
        "import pandas as pd\n",
        "from tqdm import tqdm\n",
        "from datetime import datetime, timedelta\n",
        "\n",
        "from statsmodels.stats.proportion import proportion_confint\n",
        "\n",
        "import warnings\n",
        "warnings.filterwarnings(\"ignore\")\n",
        "\n",
        "import matplotlib.pyplot as plt\n",
        "import seaborn as sns\n",
        "sns.set(style='whitegrid', font_scale=1.3, palette='Set2')"
      ]
    },
    {
      "cell_type": "code",
      "execution_count": null,
      "metadata": {},
      "outputs": [],
      "source": [
        "# Bot check\n",
        "\n",
        "# HW_ID: phds_hw8\n",
        "# Бот проверит этот ID и предупредит, если случайно сдать что-то не то.\n",
        "\n",
        "# Status: not final\n",
        "# Перед отправкой в финальном решении удали \"not\" в строчке выше.\n",
        "# Так бот проверит, что ты отправляешь финальную версию, а не промежуточную.\n",
        "# Никакие значения в этой ячейке не влияют на факт сдачи работы."
      ]
    },
    {
      "cell_type": "markdown",
      "metadata": {
        "id": "chtQXPGHHSrl"
      },
      "source": [
        "---\n",
        "### Задача 1\n",
        "#### **Профиль физика**\n",
        "\n",
        "Рассмотрим [данные](https://drive.google.com/file/d/1qGNN9pcSg6safgxqvWeimQEPtlyggOYc/view?usp=share_link) из первой задачи прошлого домашнего задания, нам понадобится только поперечный импульс `pT` мюона $\\pi^+$ (`id = 211`). В предположении, что дисперсия значений не зависит от типа мюона, посчитайте с помощью формулы `MDE`, сколько мюонов каждого из двух исследуемых типов надо измерить, чтобы задетектировать разницу в средних импульсах равной 0.02? Можно ли снизить это число и из каких соображений? Сделайте соотвветсвующие вычисления"
      ]
    },
    {
      "cell_type": "markdown",
      "metadata": {
        "id": "uT2xyIMLqCog"
      },
      "source": [
        "Выгрузим данные."
      ]
    },
    {
      "cell_type": "code",
      "execution_count": null,
      "metadata": {
        "id": "yDtPWy_cWuFD"
      },
      "outputs": [],
      "source": [
        "df = pd.read_csv('pi.csv')\n",
        "df.head()"
      ]
    },
    {
      "cell_type": "markdown",
      "metadata": {
        "id": "v8Z0PE3AqGaU"
      },
      "source": [
        "Выделим нужные нам."
      ]
    },
    {
      "cell_type": "code",
      "execution_count": null,
      "metadata": {
        "id": "ZDTjij-qWyy1"
      },
      "outputs": [],
      "source": [
        "pT_plus = <...>"
      ]
    },
    {
      "cell_type": "markdown",
      "metadata": {
        "id": "iy9iGQ1uqOh6"
      },
      "source": [
        "Посмотрим на гистограмму."
      ]
    },
    {
      "cell_type": "code",
      "execution_count": null,
      "metadata": {
        "id": "2BZFd7tgW0Ux"
      },
      "outputs": [],
      "source": [
        "plt.figure(figsize=(10, 5))\n",
        "\n",
        "plt.hist(pT_plus, alpha=0.5, bins=100, density=True, label='$\\pi^+$')\n",
        "\n",
        "plt.legend()\n",
        "plt.show()"
      ]
    },
    {
      "cell_type": "markdown",
      "metadata": {
        "id": "ASXCwx42oleq"
      },
      "source": [
        "По формуле для `MDE` вычислите необходимый размер выборки."
      ]
    },
    {
      "cell_type": "code",
      "execution_count": null,
      "metadata": {
        "id": "NqOgHZ3cXM76"
      },
      "outputs": [],
      "source": [
        "alpha = 0.05  # уровень значимости\n",
        "beta = 0.8  # мощности\n",
        "eps = 0.02  # размер эффекта\n",
        "\n",
        "# сумма квантилей\n",
        "q = <...>"
      ]
    },
    {
      "cell_type": "code",
      "execution_count": null,
      "metadata": {
        "id": "2Df8ErH1XSZm"
      },
      "outputs": [],
      "source": [
        "var_0 = pT_plus.var()\n",
        "n_0 = <...>\n",
        "\n",
        "n_0, var_0"
      ]
    },
    {
      "cell_type": "code",
      "execution_count": null,
      "metadata": {
        "id": "st_2JzOVXSgj"
      },
      "outputs": [],
      "source": [
        "pT_plus.describe()"
      ]
    },
    {
      "cell_type": "markdown",
      "metadata": {
        "id": "cP3kFU8IMN85"
      },
      "source": [
        "Обрежем выбросы, чтобы уменьшить дисперсию\n",
        "\n",
        "**Внимание! Удалять выбросы можно только на основе данных до эксперимента. Например, не рассматривать в эксперименте пользователя, на котором произошел выброс. Удаление пользователей по выбросам по экспериментальным данных может привести к большим ошибкам.**"
      ]
    },
    {
      "cell_type": "code",
      "execution_count": null,
      "metadata": {
        "id": "qvzb5xBXYk9m"
      },
      "outputs": [],
      "source": [
        "pT_plus = pT_plus[pT_plus < ...]"
      ]
    },
    {
      "cell_type": "code",
      "execution_count": null,
      "metadata": {
        "id": "1e6aVP7wYlU6"
      },
      "outputs": [],
      "source": [
        "var_0 = <...>\n",
        "n_0 = <...>\n",
        "\n",
        "n_0, var_0"
      ]
    },
    {
      "cell_type": "markdown",
      "metadata": {
        "id": "sLOUF3-AlfUz"
      },
      "source": [
        "Посмотрим на зависимость размера выборки в исследовании от размера эффекта. Какой минимальный эффект можно зафиксировать с нашей выборкой?"
      ]
    },
    {
      "cell_type": "code",
      "execution_count": null,
      "metadata": {
        "id": "QQlWDCI5lfcC"
      },
      "outputs": [],
      "source": [
        "eps = np.linspace(0.01, 0.1, 100)\n",
        "n = <...>\n",
        "\n",
        "plt.plot(eps, n, lw=3)\n",
        "plt.xlabel('Размер эффекта (MDE)')\n",
        "plt.ylabel('Размер выборки');"
      ]
    },
    {
      "cell_type": "code",
      "execution_count": null,
      "metadata": {
        "id": "ns9aw2F5rbcX"
      },
      "outputs": [],
      "source": [
        "<...> # минимальный эффект, который можно задетектировать с данной выборкой"
      ]
    },
    {
      "cell_type": "markdown",
      "metadata": {
        "id": "eiFXFeQZnbGY"
      },
      "source": [
        "**Вывод**"
      ]
    },
    {
      "cell_type": "markdown",
      "metadata": {
        "id": "VbiLkltbioAj"
      },
      "source": [
        "### Задача 1\n",
        "#### **Профиль биология**\n",
        "\n",
        "Рассмотрим данные [данные по медицинским страховкам](https://www.kaggle.com/datasets/gauravduttakiit/medical-insurance-cost?select=Train_Data.csv) из задачи 2 задания по AВ тестам. С помощью формулы для `MDE` оцените количество клиентов страховых компаний, на которых нужно провести AB-тест новых рекомендаций по употреблению витаминов, чтобы задетектировать снижение средней стоимости страховки на 600 долларов. Считайте, что компании не расширяют свою клиентскую базу и данные представляют всех клиентов, которые могут участвовать в тесте"
      ]
    },
    {
      "cell_type": "code",
      "execution_count": null,
      "metadata": {
        "id": "psYdKbPYixMw"
      },
      "outputs": [],
      "source": [
        "DATA_PATH = <...>"
      ]
    },
    {
      "cell_type": "code",
      "execution_count": null,
      "metadata": {
        "colab": {
          "base_uri": "https://localhost:8080/"
        },
        "id": "N9yg5_Q_ixMw",
        "outputId": "e0336c9a-bdb8-4737-ac8b-edd5d339af0c"
      },
      "outputs": [
        {
          "data": {
            "text/plain": [
              "array([ 3279.86855   , 21454.49423864,  1720.3537    , ...,\n",
              "       10602.385     ,  8976.14045154,  7027.69896823])"
            ]
          },
          "execution_count": 168,
          "metadata": {},
          "output_type": "execute_result"
        }
      ],
      "source": [
        "data = pd.read_csv(DATA_PATH)['charges'].values\n",
        "data"
      ]
    },
    {
      "cell_type": "code",
      "execution_count": null,
      "metadata": {
        "colab": {
          "base_uri": "https://localhost:8080/"
        },
        "id": "VdyW5J0hixMw",
        "outputId": "f1f4a8e6-1371-40a5-c567-61cc032a16f5"
      },
      "outputs": [
        {
          "data": {
            "text/plain": [
              "(3630,)"
            ]
          },
          "execution_count": 169,
          "metadata": {},
          "output_type": "execute_result"
        }
      ],
      "source": [
        "data.shape"
      ]
    },
    {
      "cell_type": "code",
      "execution_count": null,
      "metadata": {
        "id": "Vmd8Utr0ixMx"
      },
      "outputs": [],
      "source": [
        "alpha = 0.05  # уровень значимости\n",
        "beta = 0.8  # мощности\n",
        "eps = 600  # размер эффекта\n",
        "\n",
        "# сумма квантилей\n",
        "q = <...>\n",
        "\n",
        "var_0 = data.var()\n",
        "n_0 = <...>  # размер выборки\n",
        "\n",
        "n_0, var_0"
      ]
    },
    {
      "cell_type": "markdown",
      "metadata": {
        "id": "pCD3f3VtixMx"
      },
      "source": [
        "Достаточно ли у вас клиентов для исследования?\n",
        "\n",
        "**Ответ:**\n"
      ]
    },
    {
      "cell_type": "markdown",
      "metadata": {
        "id": "9z-oYYFIixMx"
      },
      "source": [
        "Посмотрим на распределение суммы страховки"
      ]
    },
    {
      "cell_type": "code",
      "execution_count": null,
      "metadata": {
        "id": "5nc_YDyZixMx"
      },
      "outputs": [],
      "source": [
        "plt.hist(data, bins=100)\n",
        "plt.xlabel('Сумма страховки')\n",
        "plt.ylabel('Количество');"
      ]
    },
    {
      "cell_type": "markdown",
      "metadata": {
        "id": "3Jqk-yVmixMx"
      },
      "source": [
        "Видим, что есть выбросы, завышающие нам дисперсию."
      ]
    },
    {
      "cell_type": "code",
      "execution_count": null,
      "metadata": {
        "id": "CX0zMksAixMx"
      },
      "outputs": [],
      "source": [
        "data_1 = <...>"
      ]
    },
    {
      "cell_type": "code",
      "execution_count": null,
      "metadata": {
        "id": "aO2i4JO7ixMx"
      },
      "outputs": [],
      "source": [
        "data_1.shape"
      ]
    },
    {
      "cell_type": "markdown",
      "metadata": {
        "id": "ykZUlrueixMx"
      },
      "source": [
        "**Внимание! Удалять выбросы можно только на основе данных до эксперимента. Например, не рассматривать в эксперименте клиента, на котором произошел выброс. Удаление клиентов по выбросам по экспериментальным данных может привести к большим ошибкам.**\n",
        "\n",
        "Посчитаем, сколько нужно пользователей"
      ]
    },
    {
      "cell_type": "code",
      "execution_count": null,
      "metadata": {
        "id": "6lX_Y3wHixMx"
      },
      "outputs": [],
      "source": [
        "var_1 = data_1.var()\n",
        "n_1 = <...>\n",
        "\n",
        "n_1, var_1"
      ]
    },
    {
      "cell_type": "markdown",
      "metadata": {
        "id": "kbv3AmIXixMx"
      },
      "source": [
        "С помощью удаления выбросов мы сократили требуемое количество клиентов пропорционально уменьшению дисперсии."
      ]
    },
    {
      "cell_type": "code",
      "execution_count": null,
      "metadata": {
        "id": "TQy1I_d5ixMy"
      },
      "outputs": [],
      "source": [
        "n_0 / n_1, var_0 / var_1"
      ]
    },
    {
      "cell_type": "markdown",
      "metadata": {
        "id": "4H-RqtAkixMy"
      },
      "source": [
        "Как зависит требуемый размер выборки в исследовании от размера эффекта? Постройте график размера выборки от `MDE` для ожидаемой в нашем исследовании дисперсии и сделайте выводы."
      ]
    },
    {
      "cell_type": "code",
      "execution_count": null,
      "metadata": {
        "id": "m0RzlICmixMz"
      },
      "outputs": [],
      "source": [
        "eps = np.arange(200, 2000, 50)\n",
        "n = <...>\n",
        "\n",
        "plt.plot(eps, n, lw=3)\n",
        "plt.xlabel('Размер эффекта (MDE)')\n",
        "plt.ylabel('Размер выборки');"
      ]
    },
    {
      "cell_type": "markdown",
      "metadata": {
        "id": "AaYPSUhjixMz"
      },
      "source": [
        "**Вывод:**"
      ]
    },
    {
      "cell_type": "markdown",
      "metadata": {
        "id": "BWHyQSBBHQ70"
      },
      "source": [
        "---\n",
        "### Задача 2\n",
        "\n",
        "Выведите формулу `MDE` для относительного t-теста."
      ]
    },
    {
      "cell_type": "markdown",
      "metadata": {
        "id": "cYzZ2rrH74__"
      },
      "source": [
        "---\n",
        "### Задача 3\n",
        "#### **Профиль физика**\n",
        "\n",
        "\n",
        "Квантовые компьтеры состоят из кубитов, каждый из которых по-отдельности можно представить в виде единичного вектора на сфере. Считывание состояние кубита — это получение проекции этого вектора на ось $z$, причём считав состояние один раз мы получаем детерменированное значение: 0 или 1. Таким образом для получения значения проекции с определённой точностью мы усредняем некоторое количество считываний.\n",
        "\n",
        "В данной задаче мы будем генерировать выборку из распределения Бернулли, симулируя проекции, получаемые от кубита. Наша задача — исследовать минимальный размер выборки для разных значений разделения состояний.\n",
        "\n",
        "\n",
        "Выберите или оцените каким-нибудь способом:\n",
        "\n",
        "1. Статистический критерий (название / односторонний или двусторонний / связные или независимые выборки);\n",
        "\n",
        "2. Размеры A и B групп;\n",
        "\n",
        "3. Желаемый минимальный детектируемый эффект;\n",
        "\n",
        "4. Мощность критерия.\n",
        "\n",
        "Обоснуйте свой выбор в каждом из пунктов.\n"
      ]
    },
    {
      "cell_type": "markdown",
      "metadata": {
        "id": "1j_1uMQy36Ul"
      },
      "source": [
        "> Статистический критерий (название / односторонний или двусторонний / связные или независимые выборки);\n",
        "\n",
        "**Ответ:**\n"
      ]
    },
    {
      "cell_type": "markdown",
      "metadata": {
        "id": "QEjaOFrq36hW"
      },
      "source": [
        "> Мощность критерия\n",
        "\n",
        "**Ответ:**"
      ]
    },
    {
      "cell_type": "markdown",
      "metadata": {
        "id": "aSqepdWI75AA"
      },
      "source": [
        "> Желаемый минимальный детектируемый эффект;\n",
        "\n",
        "> Размер А и В групп;"
      ]
    },
    {
      "cell_type": "markdown",
      "metadata": {
        "id": "oOZW2EwV75AA"
      },
      "source": [
        "Будем подбирать по таблице `MDE`-мощность-размер выборки"
      ]
    },
    {
      "cell_type": "code",
      "execution_count": null,
      "metadata": {
        "id": "NTH64mCa75AA"
      },
      "outputs": [],
      "source": [
        "def get_mde(alpha, beta, sample_size, var_R, two_sided=False):\n",
        "    '''Расчитывает MDE\n",
        "\n",
        "    :param alpha: желаемая ошибка первого рода\n",
        "    :param beta: желаемая мощность\n",
        "    :param sample_size: размер выборок\n",
        "    :param var_R: оценка дисперсии выборок\n",
        "    :param two_sided: двусторонний ли критерий\n",
        "    :returns: теоретический MDE\n",
        "    '''\n",
        "\n",
        "    a = <...>\n",
        "    return <...>\n",
        "\n",
        "\n",
        "def get_sample_size(alpha, beta, mde, var_R, two_sided=False):\n",
        "    '''Расчитывает размер выборки для детектирование MDE\n",
        "\n",
        "    :param alpha: желаемая ошибка первого рода\n",
        "    :param beta: желаемая мощность\n",
        "    :param mde: необходимый эффект\n",
        "    :param var_R: дисперсии выборок\n",
        "    :returns: необходимый размер выборки\n",
        "    '''\n",
        "\n",
        "    a = <...>\n",
        "    return <...>"
      ]
    },
    {
      "cell_type": "markdown",
      "metadata": {
        "id": "Tlj64Unn8NQJ"
      },
      "source": [
        "Создадим датасеты для разных значений проекций. Задайте размер выборок size=2000."
      ]
    },
    {
      "cell_type": "code",
      "execution_count": null,
      "metadata": {
        "id": "hvGIfHd6ffjH"
      },
      "outputs": [],
      "source": [
        "data = np.array([<...> for i in np.linspace(0.3, 0.8, 6)]) # возьмём центральные значения проекций"
      ]
    },
    {
      "cell_type": "markdown",
      "metadata": {
        "id": "IArUb9y98T42"
      },
      "source": [
        "Вычислим значения таблицы."
      ]
    },
    {
      "cell_type": "code",
      "execution_count": null,
      "metadata": {
        "id": "yYSa1h7-75AB"
      },
      "outputs": [],
      "source": [
        "mde_grid = np.arange(0.01, 0.1, 0.01).reshape(-1, 1)  # абсолютный MDE\n",
        "beta_grid = np.arange(0.6, 1, 0.05)  # мощность\n",
        "alpha = <...>\n",
        "var = <...> # дисперсия\n",
        "\n",
        "sample_sizes = <...>"
      ]
    },
    {
      "cell_type": "markdown",
      "metadata": {
        "id": "rD7OoNBNzrWo"
      },
      "source": [
        "Посмотрим для крайних и центрального значений, как выглядит таблица."
      ]
    },
    {
      "cell_type": "code",
      "execution_count": null,
      "metadata": {
        "id": "CBbZyo-4z5De"
      },
      "outputs": [],
      "source": [
        "pd.DataFrame(sample_sizes[0], columns=beta_grid.reshape(-1), index=mde_grid.reshape(-1))"
      ]
    },
    {
      "cell_type": "code",
      "execution_count": null,
      "metadata": {
        "id": "5H7Z8GrVzHZX"
      },
      "outputs": [],
      "source": [
        "pd.DataFrame(sample_sizes[2], columns=beta_grid.reshape(-1), index=mde_grid.reshape(-1))"
      ]
    },
    {
      "cell_type": "code",
      "execution_count": null,
      "metadata": {
        "id": "iLY2k58QkyJM"
      },
      "outputs": [],
      "source": [
        "pd.DataFrame(sample_sizes[5], columns=beta_grid.reshape(-1), index=mde_grid.reshape(-1))"
      ]
    },
    {
      "cell_type": "markdown",
      "metadata": {
        "id": "dmTkmq8L2oJ-"
      },
      "source": [
        "Какой размер детектируемого эффекта мы возьмём и какой для него размер выборок?"
      ]
    },
    {
      "cell_type": "markdown",
      "metadata": {
        "id": "4g0Os9Oc75AC"
      },
      "source": [
        "**Ответ:**\n",
        "\n"
      ]
    },
    {
      "cell_type": "markdown",
      "metadata": {
        "id": "08x_Jg3e75AC"
      },
      "source": [
        "Для выбранного критерия проведите АА-тест по сгенерированным данным."
      ]
    },
    {
      "cell_type": "code",
      "execution_count": null,
      "metadata": {
        "id": "seAn6OXo1M3R"
      },
      "outputs": [],
      "source": [
        "new_data = sps.bernoulli.rvs(0.5, size=<...>)"
      ]
    },
    {
      "cell_type": "code",
      "execution_count": null,
      "metadata": {
        "id": "pJCHuRhp75AC"
      },
      "outputs": [],
      "source": [
        "sample_size = <...>\n",
        "mde = <...>\n",
        "alpha = <...>"
      ]
    },
    {
      "cell_type": "code",
      "execution_count": null,
      "metadata": {
        "id": "jJUAGEGj75AC"
      },
      "outputs": [],
      "source": [
        "def absolute_ttest(x, y, alpha=0.05):\n",
        "    '''\n",
        "    Абсолютный t-test.\n",
        "\n",
        "    Аргументы:\n",
        "    x, y -- выборки одинакового размера\n",
        "    alpha -- уровень значимости\n",
        "\n",
        "    Возвращает:\n",
        "    stat -- статистика критерия\n",
        "    left_bound, right_bound -- границы дов. интервала\n",
        "    pvalue\n",
        "    '''\n",
        "\n",
        "    n = len(x)\n",
        "    x_mean = x.mean()\n",
        "    y_mean = y.mean()\n",
        "\n",
        "    stat = <...>\n",
        "    var = <...>\n",
        "    std = np.sqrt(var)\n",
        "\n",
        "    z_stat = np.sqrt(n) * stat / std\n",
        "    pvalue = 2*sps.norm.sf(np.abs(z_stat))\n",
        "\n",
        "    q = sps.norm.ppf(1 - alpha/2)\n",
        "    left_bound = <...>\n",
        "    right_bound = <...>\n",
        "\n",
        "    return stat, left_bound, right_bound, pvalue"
      ]
    },
    {
      "cell_type": "code",
      "execution_count": null,
      "metadata": {
        "id": "t-Xhz1_o75AC"
      },
      "outputs": [],
      "source": [
        "p_vals = []\n",
        "\n",
        "for i in tqdm(range(2000)):\n",
        "\n",
        "    sample1, sample2 = np.random.choice(<...>, (2, sample_size), replace=False)\n",
        "\n",
        "    p_val = <...>\n",
        "    p_vals.append(p_val)\n",
        "\n",
        "p_vals = np.array(p_vals)"
      ]
    },
    {
      "cell_type": "code",
      "execution_count": null,
      "metadata": {
        "id": "qc73I5D075AC"
      },
      "outputs": [],
      "source": [
        "def draw_interval(\n",
        "    real_alpha, left_alpha, right_alpha,\n",
        "    alpha=0.05, figsize=(7, 2)\n",
        "):\n",
        "    '''\n",
        "    Отрисовка интервала для реального уровня значимости\n",
        "    real_alpha -- оценка уровня значимости\n",
        "    left_alpha, right_alpha -- границы доверительного интервала\n",
        "    alpha -- теоретический уровень значимости\n",
        "    figsize -- размер фигуры matplotlib\n",
        "    '''\n",
        "\n",
        "    with sns.axes_style(\"whitegrid\"):\n",
        "        plt.figure(figsize=(6, 2))\n",
        "        plt.hlines(0, 0, 1, color='black', lw=2, alpha=0.6)\n",
        "        plt.vlines(alpha, -1, 1, color='red', lw=5, linestyle='--', alpha=0.6)\n",
        "        plt.fill_between(\n",
        "            [left_alpha, right_alpha], [0.15]*2, [-0.15]*2,\n",
        "            color='green', alpha=0.6\n",
        "        )\n",
        "        plt.scatter(real_alpha, 0, s=300, marker='*', color='red')\n",
        "        plt.xlim((min(alpha, left_alpha)-1e-3, max(alpha, right_alpha)+1e-3))\n",
        "        plt.title(\n",
        "            f'Доля отвержений = {100*real_alpha:.2f}%, '\n",
        "            f'интервал ({100*left_alpha:.2f}%, {100*right_alpha:.2f}%)'\n",
        "        )\n",
        "        plt.ylim((-0.5, 0.5))\n",
        "        plt.yticks([])\n",
        "        plt.tight_layout()\n",
        "        plt.show()"
      ]
    },
    {
      "cell_type": "code",
      "execution_count": null,
      "metadata": {
        "id": "EG18ZJjd75AC"
      },
      "outputs": [],
      "source": [
        "real_alpha = (p_vals < alpha).mean()\n",
        "print(f'Реальный уровень значимости: {real_alpha.round(2)}')\n",
        "left_alpha, right_alpha = proportion_confint((p_vals < alpha).sum(), len(p_vals), method='wilson')\n",
        "draw_interval(real_alpha, left_alpha, right_alpha, alpha=alpha)"
      ]
    },
    {
      "cell_type": "markdown",
      "metadata": {
        "id": "pRT2uQUp3fVy"
      },
      "source": [
        "Посмотрите на гистограмму pvalue."
      ]
    },
    {
      "cell_type": "code",
      "execution_count": null,
      "metadata": {
        "id": "ChSdghWf75AD"
      },
      "outputs": [],
      "source": []
    },
    {
      "cell_type": "markdown",
      "metadata": {
        "id": "kOnRQF5D75AD"
      },
      "source": [
        "Какие выводы о валидности выбранного критерия вы можете сделать?\n",
        "\n",
        "**Ответ:**\n"
      ]
    },
    {
      "cell_type": "code",
      "execution_count": null,
      "metadata": {
        "id": "FVqqmzE_75AD"
      },
      "outputs": [],
      "source": [
        "pvals = []\n",
        "\n",
        "for _ in tqdm(range(2000)):\n",
        "    sample1, sample2 = np.random.choice(<...>, (2, sample_size), replace=False)\n",
        "\n",
        "    sample2 = sample2 + <...>\n",
        "    sample2 += sps.norm.rvs(size=len(sample2), scale=0.1)\n",
        "\n",
        "    pvals.append(<...>)\n",
        "\n",
        "pvals = np.array(pvals)"
      ]
    },
    {
      "cell_type": "code",
      "execution_count": null,
      "metadata": {
        "id": "0_qiffXg75AD"
      },
      "outputs": [],
      "source": [
        "print(f'Реальная мощность критерия: {(pvals < alpha).mean().round(3)}')"
      ]
    },
    {
      "cell_type": "markdown",
      "metadata": {
        "id": "uPwu4VYSUfHT"
      },
      "source": [
        "**Вывод**\n",
        "\n"
      ]
    },
    {
      "cell_type": "markdown",
      "metadata": {
        "id": "ZccDWa6RuNNI"
      },
      "source": [
        "### Задача 3\n",
        "#### **Профиль биология**\n",
        "\n",
        "В одной фармацевтической компании собираются проводить II фазу клинических испытаний нового лекарства, ослабляющего симптомы диабета. Перед командой аналитики стоит задача о корректном проведении AB-тестирования. У вас имеются исторические [данные по пациентам](https://www.kaggle.com/datasets/jillanisofttech/diabetes-disease-updated-dataset?select=diabetes.csv), страдающим диабетом. С помощью них проведите дизайн эксперимента.\n",
        "\n",
        "\n",
        "Выберите или оцените каким-нибудь способом:\n",
        "\n",
        "1. Таргет клинических испытаний (первичную контрольную точку): уровень глюкозы, инсулина, толщину кожи и тд.;\n",
        "\n",
        "2. Статистический критерий (название / односторонний или двусторонний / связные или независимые выборки);\n",
        "\n",
        "3. Размеры A и B групп;\n",
        "\n",
        "4. Желаемый минимальный детектируемый эффект;\n",
        "\n",
        "5. Мощность критерия.\n",
        "\n",
        "Обоснуйте свой выбор в каждом из пунктов.\n",
        "\n",
        "Все ли полученные показатели вас устраивают? Если нет, то какие могут быть способы их улучшить?\n",
        "\n",
        "*Примечание.* Если кажется, что информации недостаточно, сделайте свои дополнительные предположения, коррелирующие с реальностью, и работайте с ними.\n",
        "\n",
        "\n",
        "Для выбранного критерия проведите АА-тест по историческим данным. Если исторических данных оказалось недостаточно для вашей модели, придумайте способ решения проблемы."
      ]
    },
    {
      "cell_type": "code",
      "execution_count": null,
      "metadata": {
        "id": "IeP_ga6GrMU_"
      },
      "outputs": [],
      "source": [
        "DATA_PATH ="
      ]
    },
    {
      "cell_type": "code",
      "execution_count": null,
      "metadata": {
        "id": "zLuiUDLTrQP5"
      },
      "outputs": [],
      "source": [
        "data = pd.read_csv(DATA_PATH)\n",
        "data = data[data['Outcome']==1]\n",
        "data"
      ]
    },
    {
      "cell_type": "markdown",
      "metadata": {
        "id": "Y1WS0oLvtyWe"
      },
      "source": [
        "Выберите, обоснуйте и визуализируйте:\n",
        "\n",
        "> Таргет клинических испытаний (первичную контрольную точку): уровень глюкозы, инсулина, толщину кожи и тд.;\n",
        "\n",
        "**Ответ:**"
      ]
    },
    {
      "cell_type": "code",
      "execution_count": null,
      "metadata": {
        "id": "TtrjGVYYrMBB"
      },
      "outputs": [],
      "source": [
        "plt.figure(figsize=(10, 1.5))\n",
        "sns.boxplot(<...>, orient='h')\n",
        "plt.title(<...>)\n",
        "plt.show()"
      ]
    },
    {
      "cell_type": "markdown",
      "metadata": {
        "id": "Vkj_jt4gvaNI"
      },
      "source": [
        "> Статистический критерий (название / односторонний или двусторонний / связные или независимые выборки);\n",
        "\n",
        "**Ответ:**"
      ]
    },
    {
      "cell_type": "markdown",
      "metadata": {
        "id": "HgJ7CFyY2V3k"
      },
      "source": [
        "> Мощность критерия\n",
        "\n",
        "**Ответ:**"
      ]
    },
    {
      "cell_type": "markdown",
      "metadata": {
        "id": "ChHswB3A4WfC"
      },
      "source": [
        "> Желаемый минимальный детектируемый эффект;\n",
        "\n",
        "> Размер А и В групп;"
      ]
    },
    {
      "cell_type": "markdown",
      "metadata": {
        "id": "G_E94JxP4rTg"
      },
      "source": [
        "Будем подбирать по рассмотренной на семинаре таблице `MDE`-мощность-размер выборки"
      ]
    },
    {
      "cell_type": "code",
      "execution_count": null,
      "metadata": {
        "id": "XzAT-346tu8l"
      },
      "outputs": [],
      "source": [
        "def get_mde(alpha, beta, sample_size, var_R, two_sided=False):\n",
        "    '''Расчитывает MDE\n",
        "\n",
        "    :param alpha: желаемая ошибка первого рода\n",
        "    :param beta: желаемая мощность\n",
        "    :param sample_size: размер выборок\n",
        "    :param var_R: оценка дисперсии выборок\n",
        "    :param two_sided: двусторонний ли критерий\n",
        "    :returns: теоретический MDE\n",
        "    '''\n",
        "\n",
        "    a = <...>\n",
        "    return <...>\n",
        "\n",
        "\n",
        "def get_sample_size(alpha, beta, mde, var_R, two_sided=False):\n",
        "    '''Расчитывает размер выборки для детектирование MDE\n",
        "\n",
        "    :param alpha: желаемая ошибка первого рода\n",
        "    :param beta: желаемая мощность\n",
        "    :param mde: необходимый эффект\n",
        "    :param var_R: дисперсии выборок\n",
        "    :returns: необходимый размер выборки\n",
        "    '''\n",
        "\n",
        "    a = <...>\n",
        "    return <...>"
      ]
    },
    {
      "cell_type": "code",
      "execution_count": null,
      "metadata": {
        "id": "ZbkXDP7a5X_1"
      },
      "outputs": [],
      "source": [
        "mde_grid = np.arange(0.01, 0.1, 0.01).reshape(-1, 1)  # относительный MDE\n",
        "beta_grid = np.arange(0.6, 1, 0.05)  # мощность\n",
        "alpha = <...>\n",
        "var = <...>.var() * 2 / (<...>.mean()**2)  # относительная дисперсия\n",
        "\n",
        "sample_sizes = get_sample_size(<...>)\n",
        "pd.DataFrame(sample_sizes, columns=beta_grid.reshape(-1), index=mde_grid.reshape(-1))"
      ]
    },
    {
      "cell_type": "markdown",
      "metadata": {
        "id": "ayHzW9KH-YCS"
      },
      "source": [
        "**Ответ:**"
      ]
    },
    {
      "cell_type": "markdown",
      "metadata": {
        "id": "DwcI5HVVAkXt"
      },
      "source": [
        "Для выбранного критерия проведите АА-тест по историческим данным. Если исторических данных оказалось недостаточно для вашей модели, придумайте способ решения проблемы."
      ]
    },
    {
      "cell_type": "code",
      "execution_count": null,
      "metadata": {
        "id": "kOuYrVw2_9md"
      },
      "outputs": [],
      "source": [
        "sample_size = <...>\n",
        "mde = <...>\n",
        "alpha = <...>"
      ]
    },
    {
      "cell_type": "code",
      "execution_count": null,
      "metadata": {
        "id": "6DN_4VixAkXu"
      },
      "outputs": [],
      "source": [
        "def relative_ttest(x, y, alpha=0.05):\n",
        "    '''\n",
        "    Относительный t-test.\n",
        "\n",
        "    Аргументы:\n",
        "    x, y -- выборки одинакового размера\n",
        "    alpha -- уровень значимости\n",
        "\n",
        "    Возвращает:\n",
        "    stat -- статистика критерия\n",
        "    left_bound, right_bound -- границы дов. интервала\n",
        "    pvalue\n",
        "    '''\n",
        "\n",
        "    n = len(x)\n",
        "    x_mean = x.mean()\n",
        "    y_mean = y.mean()\n",
        "\n",
        "    stat = <...>\n",
        "    var = <...>\n",
        "    std = np.sqrt(var)\n",
        "\n",
        "    z_stat = np.sqrt(n) * stat / std\n",
        "    pvalue = 2*sps.norm.sf(np.abs(z_stat))\n",
        "\n",
        "    q = sps.norm.ppf(1 - alpha/2)\n",
        "    left_bound = <...>\n",
        "    right_bound = <...>\n",
        "\n",
        "    return stat, left_bound, right_bound, pvalue"
      ]
    },
    {
      "cell_type": "code",
      "execution_count": null,
      "metadata": {
        "id": "TPg7tfjyDkAy"
      },
      "outputs": [],
      "source": [
        "p_vals = []\n",
        "\n",
        "for i in tqdm(range(2000)):\n",
        "\n",
        "    sample1, sample2 = np.random.choice(<...>, (2, sample_size), replace=False)\n",
        "\n",
        "    p_val = <...>\n",
        "    p_vals.append(p_val)\n",
        "\n",
        "p_vals = np.array(p_vals)"
      ]
    },
    {
      "cell_type": "code",
      "execution_count": null,
      "metadata": {
        "id": "Qe8lIpNPEoxt"
      },
      "outputs": [],
      "source": [
        "def draw_interval(\n",
        "    real_alpha, left_alpha, right_alpha,\n",
        "    alpha=0.05, figsize=(7, 2)\n",
        "):\n",
        "    '''\n",
        "    Отрисовка интервала для реального уровня значимости\n",
        "    real_alpha -- оценка уровня значимости\n",
        "    left_alpha, right_alpha -- границы доверительного интервала\n",
        "    alpha -- теоретический уровень значимости\n",
        "    figsize -- размер фигуры matplotlib\n",
        "    '''\n",
        "\n",
        "    with sns.axes_style(\"whitegrid\"):\n",
        "        plt.figure(figsize=(6, 2))\n",
        "        plt.hlines(0, 0, 1, color='black', lw=2, alpha=0.6)\n",
        "        plt.vlines(alpha, -1, 1, color='red', lw=5, linestyle='--', alpha=0.6)\n",
        "        plt.fill_between(\n",
        "            [left_alpha, right_alpha], [0.15]*2, [-0.15]*2,\n",
        "            color='green', alpha=0.6\n",
        "        )\n",
        "        plt.scatter(real_alpha, 0, s=300, marker='*', color='red')\n",
        "        plt.xlim((min(alpha, left_alpha)-1e-3, max(alpha, right_alpha)+1e-3))\n",
        "        plt.title(\n",
        "            f'Доля отвержений = {100*real_alpha:.2f}%, '\n",
        "            f'интервал ({100*left_alpha:.2f}%, {100*right_alpha:.2f}%)'\n",
        "        )\n",
        "        plt.ylim((-0.5, 0.5))\n",
        "        plt.yticks([])\n",
        "        plt.tight_layout()\n",
        "        plt.show()"
      ]
    },
    {
      "cell_type": "code",
      "execution_count": null,
      "metadata": {
        "id": "gCkan5fPE0Ro"
      },
      "outputs": [],
      "source": [
        "real_alpha = (p_vals < alpha).mean()\n",
        "print(f'Реальный уровень значимости: {real_alpha.round(2)}')\n",
        "left_alpha, right_alpha = proportion_confint((p_vals < alpha).sum(), len(p_vals), method='wilson')\n",
        "draw_interval(real_alpha, left_alpha, right_alpha, alpha=alpha)"
      ]
    },
    {
      "cell_type": "markdown",
      "metadata": {
        "id": "kQ687217fORS"
      },
      "source": [
        "Посмотрите также на гистограмму p-value"
      ]
    },
    {
      "cell_type": "code",
      "execution_count": null,
      "metadata": {
        "id": "2-fHP_TCfU33"
      },
      "outputs": [],
      "source": []
    },
    {
      "cell_type": "markdown",
      "metadata": {
        "id": "UE9wBtriHsaZ"
      },
      "source": [
        "Какие выводы о валидности выбранного критерия вы можете сделать?\n",
        "\n",
        "**Ответ:**\n",
        "\n",
        "Проверьте также мощность критерия на выбранном `MDE`.\n"
      ]
    },
    {
      "cell_type": "code",
      "execution_count": null,
      "metadata": {
        "id": "_ZOMPP6YHqJX"
      },
      "outputs": [],
      "source": [
        "pvals = []\n",
        "\n",
        "for _ in tqdm(range(2000)):\n",
        "    sample1, sample2 = np.random.choice(<...>, (2, sample_size), replace=False)\n",
        "\n",
        "    sample2 = sample2 * <...>\n",
        "    sample2 += sps.norm.rvs(size=len(sample2), scale=10)\n",
        "\n",
        "    pvals.append(<...>)\n",
        "\n",
        "pvals = np.array(pvals)"
      ]
    },
    {
      "cell_type": "code",
      "execution_count": null,
      "metadata": {
        "id": "eBL4O6CPIchI"
      },
      "outputs": [],
      "source": [
        "print(f'Реальная мощность критерия: {(pvals < alpha).mean().round(3)}')"
      ]
    },
    {
      "cell_type": "markdown",
      "metadata": {
        "id": "kuMtUTWK3ncc"
      },
      "source": [
        "**Вывод**"
      ]
    },
    {
      "cell_type": "markdown",
      "metadata": {
        "id": "7rzDzIlMHlvw"
      },
      "source": [
        "---\n",
        "\n",
        "### Задача 4\n",
        "#### **Профиль физика**\n",
        "\n",
        "\n",
        "Рассмотрим [данные о звездах](https://www.kaggle.com/datasets/fernandolima23/classification-in-asteroseismology?select=classification_in_asteroseismology.csv) из предыдущего домашнего задания:\n",
        "\n",
        "Датасет содержит информацию о звездах, где `POP` - разделяет звёзды по классам. Нас будeт интересовать столбец `Dnu`."
      ]
    },
    {
      "cell_type": "markdown",
      "metadata": {
        "id": "A9C2t7KnRbRd"
      },
      "source": [
        "Считайте данные."
      ]
    },
    {
      "cell_type": "code",
      "execution_count": null,
      "metadata": {
        "id": "Kreg06DpWy8L"
      },
      "outputs": [],
      "source": [
        "df = pd.read_csv(\"classification_in_asteroseismology.csv\")"
      ]
    },
    {
      "cell_type": "code",
      "execution_count": null,
      "metadata": {
        "id": "3gSBpZWvRHtN"
      },
      "outputs": [],
      "source": [
        "df"
      ]
    },
    {
      "cell_type": "markdown",
      "metadata": {
        "id": "kl5v4Kt_rinG"
      },
      "source": [
        "Получите таблицу `MDE`-мощности-размера выборки для параметра `Dnu` как в 3-м задании, но теперь проведя относительный ttest и написав его функцию."
      ]
    },
    {
      "cell_type": "code",
      "execution_count": null,
      "metadata": {
        "id": "wF2EtTo-a4_1"
      },
      "outputs": [],
      "source": [
        "def relative_ttest(x, y, alpha=0.05):\n",
        "    '''\n",
        "    Относительный t-test.\n",
        "\n",
        "    Аргументы:\n",
        "    x, y -- выборки одинакового размера\n",
        "    alpha -- уровень значимости\n",
        "\n",
        "    Возвращает:\n",
        "    stat -- статистика критерия\n",
        "    left_bound, right_bound -- границы дов. интервала\n",
        "    pvalue\n",
        "    '''\n",
        "\n",
        "    n = len(x)\n",
        "    x_mean = x.mean()\n",
        "    y_mean = y.mean()\n",
        "\n",
        "    stat = <...>\n",
        "    var = <...>\n",
        "    std = np.sqrt(var)\n",
        "\n",
        "    z_stat = np.sqrt(n) * stat / std\n",
        "    pvalue = 2*sps.norm.sf(np.abs(z_stat))\n",
        "\n",
        "    q = sps.norm.ppf(1 - alpha/2)\n",
        "    left_bound = <...>\n",
        "    right_bound = <...>\n",
        "\n",
        "    return stat, left_bound, right_bound, pvalue"
      ]
    },
    {
      "cell_type": "code",
      "execution_count": null,
      "metadata": {
        "id": "60RVXZxHqAhb"
      },
      "outputs": [],
      "source": [
        "mde_grid = np.arange(0.01, 0.1, 0.01).reshape(-1, 1) # относительный MDE\n",
        "beta_grid = np.arange(0.6, 1, 0.05)  # мощность\n",
        "alpha = <...>\n",
        "var = <...>.var() * 2 / (<...>.mean()**2)  # относительная дисперсия\n",
        "\n",
        "sample_sizes = get_sample_size(<...>)\n",
        "pd.DataFrame(sample_sizes, columns=beta_grid.reshape(-1), index=mde_grid.reshape(-1))"
      ]
    },
    {
      "cell_type": "markdown",
      "metadata": {
        "id": "VHJ42g36p_5p"
      },
      "source": [
        "Какие значения `MDE`, достоверности и размера выборки стоит выбрать?"
      ]
    },
    {
      "cell_type": "markdown",
      "metadata": {
        "id": "RzO-i0NfquGP"
      },
      "source": [
        "**Ответ:**\n"
      ]
    },
    {
      "cell_type": "markdown",
      "metadata": {
        "id": "sEXye15lrabq"
      },
      "source": [
        "Далее как в 3-й задаче по физике посмотрим на реальный уровень значимости, гистограмму p_value и реальный уровень значимости."
      ]
    },
    {
      "cell_type": "code",
      "execution_count": null,
      "metadata": {
        "id": "W3Jpjr8NJ6cQ"
      },
      "outputs": [],
      "source": [
        "sample_size = <...>\n",
        "mde = <...>\n",
        "alpha = <...>"
      ]
    },
    {
      "cell_type": "code",
      "execution_count": null,
      "metadata": {
        "id": "Lg9cF2KGra0Z"
      },
      "outputs": [],
      "source": [
        "p_vals = []\n",
        "\n",
        "for i in tqdm(range(2000)):\n",
        "\n",
        "    sample1, sample2 = np.random.choice(<...>, (2, sample_size), replace=False)\n",
        "\n",
        "    p_val = <...>\n",
        "    p_vals.append(p_val)\n",
        "\n",
        "p_vals = np.array(p_vals)"
      ]
    },
    {
      "cell_type": "code",
      "execution_count": null,
      "metadata": {
        "id": "mjVIM9vZra0Z"
      },
      "outputs": [],
      "source": [
        "real_alpha = (p_vals < alpha).mean()\n",
        "print(f'Реальный уровень значимости: {real_alpha.round(2)}')\n",
        "left_alpha, right_alpha = proportion_confint((p_vals < alpha).sum(), len(p_vals), method='wilson')\n",
        "draw_interval(real_alpha, left_alpha, right_alpha, alpha=alpha)"
      ]
    },
    {
      "cell_type": "markdown",
      "metadata": {
        "id": "ZC6K_vJFra0a"
      },
      "source": [
        "Посмотрите также на гистограмму p-value."
      ]
    },
    {
      "cell_type": "code",
      "execution_count": null,
      "metadata": {
        "id": "wVZGAZOKra0a"
      },
      "outputs": [],
      "source": [
        "sns.set_style(\"whitegrid\")\n",
        "\n",
        "plt.figure(figsize=(10, 4))\n",
        "plt.title('Гистограмма pvalue')\n",
        "sns.histplot(p_vals)\n",
        "plt.show()"
      ]
    },
    {
      "cell_type": "markdown",
      "metadata": {
        "id": "cOfErnmPra0a"
      },
      "source": [
        "Что можно сказать о валидности критерия?\n",
        "\n",
        "**Ответ:**"
      ]
    },
    {
      "cell_type": "markdown",
      "metadata": {
        "id": "q4LkXlT5JQmb"
      },
      "source": [
        "Проверьте также мощность критерия на выбранном `MDE`.\n"
      ]
    },
    {
      "cell_type": "code",
      "execution_count": null,
      "metadata": {
        "id": "REjnKzsfra0a"
      },
      "outputs": [],
      "source": [
        "pvals = []\n",
        "\n",
        "for _ in tqdm(range(2000)):\n",
        "    sample1, sample2 = np.random.choice(<...>, (2, sample_size), replace=False)\n",
        "\n",
        "    sample2 = sample2 * <...>\n",
        "    sample2 += sps.norm.rvs(size=len(sample2), scale=0.1)\n",
        "\n",
        "    pvals.append(<...>)\n",
        "\n",
        "pvals = np.array(pvals)"
      ]
    },
    {
      "cell_type": "code",
      "execution_count": null,
      "metadata": {
        "id": "0gXG9UwRra0a"
      },
      "outputs": [],
      "source": [
        "print(f'Реальная мощность критерия: {(pvals < alpha).mean().round(3)}')"
      ]
    },
    {
      "cell_type": "markdown",
      "metadata": {
        "id": "YqbgiEWHTQsV"
      },
      "source": [
        "Теперь воспользуемся стратификацией. Будем разбивать на страты по параметру `POP` выборки."
      ]
    },
    {
      "cell_type": "markdown",
      "metadata": {
        "id": "FXToCwz3NoOA"
      },
      "source": [
        "Реализуйте функции для стратифицированного семплирования и стратифицированного относительного t-test. Заранее вспомните с семинара, какое семплирование какому тесту подходит. Не забудьте о возможности пост-стратификации. Какие методы подойдут вам, учитывая количество страт и размер выборки?\n",
        "\n",
        "**Ответ:**"
      ]
    },
    {
      "cell_type": "code",
      "execution_count": null,
      "metadata": {
        "id": "lg9tOvfDWzEu"
      },
      "outputs": [],
      "source": [
        "def calculate_strata_weights(data):\n",
        "    '''\n",
        "    Вычисляет веса страт.\n",
        "\n",
        "    :param data: исходные данные\n",
        "    :return: веса страт\n",
        "    '''\n",
        "\n",
        "    strata_weights = data.groupby(by='strata')['sample'].count()\n",
        "    strata_weights = strata_weights / strata_weights.sum()\n",
        "    return <...>\n",
        "\n",
        "\n",
        "def weighted_mean(data, weights):\n",
        "    '''\n",
        "    Вычисляет взвешенное среднее.\n",
        "\n",
        "    :param data: данные\n",
        "    :param weights: веса страт\n",
        "    :return: взвешенное среднее\n",
        "    '''\n",
        "\n",
        "    strata_means = data.groupby(by='strata')['sample'].mean()\n",
        "    return <...>\n",
        "\n",
        "\n",
        "def simple_mean(data, weights):\n",
        "    '''\n",
        "    Вычисляет обычное выборочное среднее\n",
        "\n",
        "    :param data: данные\n",
        "    :param weights: не используется, нужен для совместимости\n",
        "    :return: выборочное среднее\n",
        "    '''\n",
        "\n",
        "    return <...>\n",
        "\n",
        "\n",
        "def random_sampler(data, sample_size):\n",
        "    '''\n",
        "    Случайное семплирование двух групп одного размера из данных.\n",
        "\n",
        "    :param data: исходные данные\n",
        "    :param sample_size: размер группы\n",
        "    :return: две группы данных\n",
        "    '''\n",
        "\n",
        "    choiced = data.sample(n=2 * sample_size)\n",
        "    return choiced.iloc[:sample_size], choiced.iloc[sample_size:]\n",
        "\n",
        "def stratified_sampler(data, sample_size):\n",
        "    '''\n",
        "    Стратифицированное семплирование выборок.\n",
        "\n",
        "    :param data: данные\n",
        "    :param sample_size: размер выборки\n",
        "    :return: две выборки\n",
        "    '''\n",
        "\n",
        "    groupped = data.groupby(<...>)\n",
        "\n",
        "    # Веса страт\n",
        "    strata_weights = <...>\n",
        "\n",
        "    # Размер выборок\n",
        "    strata_sample_size = <...>\n",
        "\n",
        "    a_group, b_group = [], []\n",
        "    # Генерируем для каждой страты отдельно\n",
        "    for i, strata in enumerate(groupped):\n",
        "        a, b = random_sampler(strata[1], strata_sample_size[i])\n",
        "        a_group.append(a)\n",
        "        b_group.append(b)\n",
        "\n",
        "    return pd.concat(a_group), pd.concat(b_group)\n",
        "\n",
        "def weighted_var(data, strata_weights):\n",
        "    '''\n",
        "    Вычисляет взвешенную дисперсию при стратификации.\n",
        "\n",
        "    :param data: данные\n",
        "    :param strata_weights: веса страт\n",
        "    :return: дисперсия\n",
        "    '''\n",
        "\n",
        "    strata_vars = data.groupby(by='strata')['sample'].var()\n",
        "    return <...>\n",
        "\n",
        "def weighted_post_var(data, strata_weights):\n",
        "    '''\n",
        "    Вычисляет взвешенную дисперсию при постстратификации.\n",
        "\n",
        "    :param data: данные\n",
        "    :param strata_weights: веса страт\n",
        "    :return: дисперсия\n",
        "    '''\n",
        "\n",
        "    strata_vars = data.groupby(by='strata')['sample'].var()\n",
        "    weighted_var = (strata_vars * strata_weights).sum() / len(data)\n",
        "    post_addition = (strata_vars * (1-strata_weights)).sum() / (len(data)**2)\n",
        "    return <...>\n",
        "\n",
        "\n",
        "def simple_var(data, strata_weights):\n",
        "    '''\n",
        "    Вычисляет обычную дисперсию при случайном семплировании.\n",
        "\n",
        "    :param data: данные\n",
        "    :param strata_weights: веса страт, не используется, нужен для совместимости\n",
        "    :return: дисперсия\n",
        "    '''\n",
        "\n",
        "    return <...>"
      ]
    },
    {
      "cell_type": "code",
      "execution_count": null,
      "metadata": {
        "id": "wysNrCaymVd4"
      },
      "outputs": [],
      "source": [
        "def stratified_ttest(x_data, y_data, strata_weights, method='random', alpha=0.05):\n",
        "    '''\n",
        "    Стратифицированный абсолютный t-test.\n",
        "\n",
        "    :param x_data: выборка вместе с информацией о стратах\n",
        "    :param y_data: выборка вместе с информацией о стратах\n",
        "    :param strata_weights: веса страт\n",
        "    :param method: метод 'random', 'stratified', 'post_stratified'\n",
        "    :param alpha: уровень значимости\n",
        "    :return: статистика критерия, границы доверительного интервала, p-value\n",
        "    '''\n",
        "\n",
        "    if method == 'random':\n",
        "        mean_function = simple_mean\n",
        "        var_function = simple_var\n",
        "    elif method == 'stratified':\n",
        "        mean_function = weighted_mean\n",
        "        var_function = weighted_var\n",
        "\n",
        "    x_mean = mean_function(x_data, strata_weights)\n",
        "    y_mean = mean_function(y_data, strata_weights)\n",
        "    x_var  =  var_function(x_data, strata_weights)\n",
        "    y_var  =  var_function(y_data, strata_weights)\n",
        "\n",
        "    stat = <...>\n",
        "    std = <...>\n",
        "\n",
        "    t_stat = <...>\n",
        "    pvalue = <...>\n",
        "\n",
        "    q = sps.norm.ppf(1 - alpha/2)\n",
        "    left_bound = <...>\n",
        "    right_bound = <...>\n",
        "\n",
        "    return stat, left_bound, right_bound, pvalue"
      ]
    },
    {
      "cell_type": "markdown",
      "metadata": {
        "id": "Xssc8jgQYprM"
      },
      "source": [
        "Теперь проверим корректность применения стратификации в нашем случае.\n",
        "\n",
        "Сначала создадим отдельный датасет для более удобной проверки. У него будет две колонки: `sample`, `strata`, которые соответствуют данным и разделением на страты у исходного датасета."
      ]
    },
    {
      "cell_type": "code",
      "execution_count": null,
      "metadata": {
        "id": "nBYVVJYAzXlk"
      },
      "outputs": [],
      "source": [
        "data = pd.DataFrame()\n",
        "data['strata'] = <...>\n",
        "data['sample'] = <...>\n",
        "data = data[['strata', 'sample']]\n",
        "data"
      ]
    },
    {
      "cell_type": "markdown",
      "metadata": {
        "id": "uY5Ny9Z9A85U"
      },
      "source": [
        "Посмотрите на `boxplot` для двух подгрупп."
      ]
    },
    {
      "cell_type": "code",
      "execution_count": null,
      "metadata": {
        "id": "GcuSmRaLA85a"
      },
      "outputs": [],
      "source": [
        "sns.boxplot(data, x=<...>, y=<...>)"
      ]
    },
    {
      "cell_type": "code",
      "execution_count": null,
      "metadata": {
        "id": "fvdvd8S0A85a"
      },
      "outputs": [],
      "source": [
        "data['strata'].sum()"
      ]
    },
    {
      "cell_type": "markdown",
      "metadata": {
        "id": "Y8Z4qz7LBFdx"
      },
      "source": [
        "Что вы можете сказать уже сейчас о том, повлияет ли стратификация на результаты теста?"
      ]
    },
    {
      "cell_type": "markdown",
      "metadata": {
        "id": "8Nqks4_oA85a"
      },
      "source": [
        "**Ответ:**\n",
        "\n"
      ]
    },
    {
      "cell_type": "code",
      "execution_count": null,
      "metadata": {
        "id": "EgHIkNQiMoPL"
      },
      "outputs": [],
      "source": [
        "p_vals = []\n",
        "\n",
        "for i in tqdm(range(2000)):\n",
        "\n",
        "    control_sample, test_sample = <...>\n",
        "\n",
        "    strata_weights = <...>\n",
        "    p_vals.append(<...>)\n",
        "\n",
        "p_vals = np.array(p_vals)"
      ]
    },
    {
      "cell_type": "markdown",
      "metadata": {
        "id": "J3zVk4m5hL8v"
      },
      "source": [
        "Посмотрите также на реальный уровень значимости и гистограмму p-value"
      ]
    },
    {
      "cell_type": "code",
      "execution_count": null,
      "metadata": {
        "id": "KTTC1qJyMoPM"
      },
      "outputs": [],
      "source": []
    },
    {
      "cell_type": "markdown",
      "metadata": {
        "id": "uKxLDWHNMoPM"
      },
      "source": [
        "Корректны ли выбранные методы?\n",
        "\n",
        "**Ответ:**\n",
        "\n",
        "Посмотрите на мощность критерия. Улучшилась ли мощность по сравнению с обработкой без стратификации?"
      ]
    },
    {
      "cell_type": "code",
      "execution_count": null,
      "metadata": {
        "id": "lbIAm-xuOKDr"
      },
      "outputs": [],
      "source": []
    },
    {
      "cell_type": "code",
      "execution_count": null,
      "metadata": {
        "id": "7FQTjjpIMoPM"
      },
      "outputs": [],
      "source": [
        "print(f'Реальная мощность критерия: {(pvals < alpha).mean().round(3)}')"
      ]
    },
    {
      "cell_type": "markdown",
      "metadata": {
        "id": "K6j5qKaQMoPM"
      },
      "source": [
        "**Ответ на вопрос о мощности:**"
      ]
    },
    {
      "cell_type": "markdown",
      "metadata": {
        "id": "k2KUOGp0Yp7V"
      },
      "source": [
        "**Вывод:**"
      ]
    },
    {
      "cell_type": "markdown",
      "metadata": {
        "id": "M2t4BtL59I7I"
      },
      "source": [
        "---\n",
        "### Задача 4\n",
        "#### **Профиль биология**\n",
        "\n",
        "Повторите исследование из предыдущей задачи, используя стратификацию по одному из признаков, например, по числу беременностей. Можно попробовать стратификацию по непрерывным признакам, разбив их на категории, если вы считаете такой признак более важным"
      ]
    },
    {
      "cell_type": "code",
      "execution_count": null,
      "metadata": {
        "id": "W62KKL2ZNMnw"
      },
      "outputs": [],
      "source": [
        "DATA_PATH ="
      ]
    },
    {
      "cell_type": "code",
      "execution_count": null,
      "metadata": {
        "id": "3jNIGet-NPqd"
      },
      "outputs": [],
      "source": [
        "data = pd.read_csv(DATA_PATH)\n",
        "data = data[data['Outcome']==1]\n",
        "data"
      ]
    },
    {
      "cell_type": "code",
      "execution_count": null,
      "metadata": {
        "id": "gl1iexlVTWGG"
      },
      "outputs": [],
      "source": [
        "data.groupby(by=<...>).count().iloc[:, 0]"
      ]
    },
    {
      "cell_type": "markdown",
      "metadata": {
        "id": "_F3jE1TaTbL3"
      },
      "source": [
        "Можно объединить редкие страты в одну страту."
      ]
    },
    {
      "cell_type": "code",
      "execution_count": null,
      "metadata": {
        "id": "vQrhmt18NeHe"
      },
      "outputs": [],
      "source": [
        "<...>"
      ]
    },
    {
      "cell_type": "markdown",
      "metadata": {
        "id": "yo6EkjfFp_PS"
      },
      "source": [
        "Визуализируйте полученные страты"
      ]
    },
    {
      "cell_type": "code",
      "execution_count": null,
      "metadata": {
        "id": "rFuCg3U-njhS"
      },
      "outputs": [],
      "source": [
        "pregnancies = data.groupby(by=<...>).count().iloc[:, 0].sort_values(ascending=False)\n",
        "\n",
        "plt.figure(figsize=(10, 7))\n",
        "sns.countplot(x=<...>, order=pregnancies.index)\n",
        "plt.xlabel(<...>)\n",
        "plt.ylabel('Количество пациентов')\n",
        "plt.xticks(rotation=45)\n",
        "plt.show()"
      ]
    },
    {
      "cell_type": "code",
      "execution_count": null,
      "metadata": {
        "id": "Ci04s2wPUJlY"
      },
      "outputs": [],
      "source": [
        "# преобразуем данные для совместимости с кодом функций\n",
        "data['strata'] = <...>\n",
        "data['sample'] = <...>\n",
        "data = data[['strata', 'sample']]\n",
        "data"
      ]
    },
    {
      "cell_type": "markdown",
      "metadata": {
        "id": "-fBlH-nHqPAk"
      },
      "source": [
        "Реализуйте функции для стратифицированного семплирования и стратифицированного относительного t-test. Заранее вспомните с семинара, какое семплирование какому тесту подходит. Не забудьте о возможности пост-стратификации. Какие методы подойдут вам, учитывая количество страт и размер выборки?\n",
        "\n",
        "**Ответ:**"
      ]
    },
    {
      "cell_type": "code",
      "execution_count": null,
      "metadata": {
        "id": "DHw-giQORuUd"
      },
      "outputs": [],
      "source": [
        "def calculate_strata_weights(data):\n",
        "    '''\n",
        "    Вычисляет веса страт.\n",
        "\n",
        "    :param data: исходные данные\n",
        "    :return: веса страт\n",
        "    '''\n",
        "\n",
        "    strata_weights = data.groupby(by='strata')['sample'].count()\n",
        "    strata_weights = strata_weights / strata_weights.sum()\n",
        "    return <...>\n",
        "\n",
        "\n",
        "def weighted_mean(data, weights):\n",
        "    '''\n",
        "    Вычисляет взвешенное среднее.\n",
        "\n",
        "    :param data: данные\n",
        "    :param weights: веса страт\n",
        "    :return: взвешенное среднее\n",
        "    '''\n",
        "\n",
        "    strata_means = data.groupby(by='strata')['sample'].mean()\n",
        "    return <...>\n",
        "\n",
        "\n",
        "def simple_mean(data, weights):\n",
        "    '''\n",
        "    Вычисляет обычное выборочное среднее\n",
        "\n",
        "    :param data: данные\n",
        "    :param weights: не используется, нужен для совместимости\n",
        "    :return: выборочное среднее\n",
        "    '''\n",
        "\n",
        "    return <...>\n",
        "\n",
        "\n",
        "def random_sampler(data, sample_size):\n",
        "    '''\n",
        "    Случайное семплирование двух групп одного размера из данных.\n",
        "\n",
        "    :param data: исходные данные\n",
        "    :param sample_size: размер группы\n",
        "    :return: две группы данных\n",
        "    '''\n",
        "\n",
        "    choiced = data.sample(n=2 * sample_size)\n",
        "    return choiced.iloc[:sample_size], choiced.iloc[sample_size:]\n",
        "\n",
        "def stratified_sampler(data, sample_size):\n",
        "    '''\n",
        "    Стратифицированное семплирование выборок.\n",
        "\n",
        "    :param data: данные\n",
        "    :param sample_size: размер выборки\n",
        "    :return: две выборки\n",
        "    '''\n",
        "\n",
        "    groupped = data.groupby(<...>)\n",
        "\n",
        "    # Веса страт\n",
        "    strata_weights = <...>\n",
        "\n",
        "    # Размер выборок\n",
        "    strata_sample_size = <...>\n",
        "\n",
        "    a_group, b_group = [], []\n",
        "    # Генерируем для каждой страты отдельно\n",
        "    for i, strata in enumerate(groupped):\n",
        "        a, b = random_sampler(strata[1], strata_sample_size[i])\n",
        "        a_group.append(a)\n",
        "        b_group.append(b)\n",
        "\n",
        "    return pd.concat(a_group), pd.concat(b_group)\n",
        "\n",
        "def weighted_var(data, strata_weights):\n",
        "    '''\n",
        "    Вычисляет взвешенную дисперсию при стратификации.\n",
        "\n",
        "    :param data: данные\n",
        "    :param strata_weights: веса страт\n",
        "    :return: дисперсия\n",
        "    '''\n",
        "\n",
        "    strata_vars = data.groupby(by='strata')['sample'].var()\n",
        "    return <...>\n",
        "\n",
        "def weighted_post_var(data, strata_weights):\n",
        "    '''\n",
        "    Вычисляет взвешенную дисперсию при постстратификации.\n",
        "\n",
        "    :param data: данные\n",
        "    :param strata_weights: веса страт\n",
        "    :return: дисперсия\n",
        "    '''\n",
        "\n",
        "    strata_vars = data.groupby(by='strata')['sample'].var()\n",
        "    weighted_var = (strata_vars * strata_weights).sum() / len(data)\n",
        "    post_addition = (strata_vars * (1-strata_weights)).sum() / (len(data)**2)\n",
        "    return <...>\n",
        "\n",
        "\n",
        "def simple_var(data, strata_weights):\n",
        "    '''\n",
        "    Вычисляет обычную дисперсию при случайном семплировании.\n",
        "\n",
        "    :param data: данные\n",
        "    :param strata_weights: веса страт, не используется, нужен для совместимости\n",
        "    :return: дисперсия\n",
        "    '''\n",
        "\n",
        "    return <...>"
      ]
    },
    {
      "cell_type": "code",
      "execution_count": null,
      "metadata": {
        "id": "mAtqO_EVT1Px"
      },
      "outputs": [],
      "source": [
        "def stratified_ttest(x_data, y_data, strata_weights, method='random', alpha=0.05):\n",
        "    '''\n",
        "    Стратифицированный абсолютный t-test.\n",
        "\n",
        "    :param x_data: выборка вместе с информацией о стратах\n",
        "    :param y_data: выборка вместе с информацией о стратах\n",
        "    :param strata_weights: веса страт\n",
        "    :param method: метод 'random', 'stratified', 'post_stratified'\n",
        "    :param alpha: уровень значимости\n",
        "    :return: статистика критерия, границы доверительного интервала, p-value\n",
        "    '''\n",
        "\n",
        "    if method == 'random':\n",
        "        mean_function = simple_mean\n",
        "        var_function = simple_var\n",
        "    elif method == 'stratified':\n",
        "        mean_function = weighted_mean\n",
        "        var_function = weighted_var\n",
        "    elif method == 'post_stratified':\n",
        "        mean_function = weighted_mean\n",
        "        var_function = weighted_post_var\n",
        "\n",
        "    x_mean = mean_function(x_data, strata_weights)\n",
        "    y_mean = mean_function(y_data, strata_weights)\n",
        "    x_var  =  var_function(x_data, strata_weights)\n",
        "    y_var  =  var_function(y_data, strata_weights)\n",
        "\n",
        "    stat = <...>\n",
        "    std = <...>\n",
        "\n",
        "    t_stat = <...>\n",
        "    pvalue = <...>\n",
        "\n",
        "    q = sps.norm.ppf(1 - alpha/2)\n",
        "    left_bound = <...>\n",
        "    right_bound = <...>\n",
        "\n",
        "    return stat, left_bound, right_bound, pvalue"
      ]
    },
    {
      "cell_type": "code",
      "execution_count": null,
      "metadata": {
        "colab": {
          "base_uri": "https://localhost:8080/"
        },
        "id": "8UZq6vudif35",
        "outputId": "f12e904e-f8e3-4213-dc7a-74f55580f0d2"
      },
      "outputs": [
        {
          "name": "stderr",
          "output_type": "stream",
          "text": [
            "100%|██████████| 2000/2000 [00:26<00:00, 74.37it/s]\n"
          ]
        }
      ],
      "source": [
        "p_vals = []\n",
        "\n",
        "for i in tqdm(range(2000)):\n",
        "\n",
        "    control_sample, test_sample = <...>\n",
        "\n",
        "    strata_weights = <...>\n",
        "    p_vals.append(<...>)\n",
        "\n",
        "p_vals = np.array(p_vals)"
      ]
    },
    {
      "cell_type": "markdown",
      "metadata": {
        "id": "-YFzD37bRjT_"
      },
      "source": [
        "Посмотрите также на реальный уровень значимости и гистограмму p-value"
      ]
    },
    {
      "cell_type": "code",
      "execution_count": null,
      "metadata": {
        "id": "yd7bQ2PjhMsk"
      },
      "outputs": [],
      "source": []
    },
    {
      "cell_type": "markdown",
      "metadata": {
        "id": "zFc561UErkPd"
      },
      "source": [
        "Корректны ли выбранные методы?\n",
        "\n",
        "**Ответ:**\n"
      ]
    },
    {
      "cell_type": "markdown",
      "metadata": {
        "id": "gYo-VsOZgWej"
      },
      "source": [
        "Посмотрите на мощность критерия. Улучшилась ли мощность по сравнению с прошлой задачей? Не забудьте, что при искусственных АВ-тестах при расчете мощности полезно добавлять шум к данным."
      ]
    },
    {
      "cell_type": "code",
      "execution_count": null,
      "metadata": {
        "id": "ymTBlnBxW3cH"
      },
      "outputs": [],
      "source": []
    },
    {
      "cell_type": "code",
      "execution_count": null,
      "metadata": {
        "id": "EYbtK_jKiJ8C"
      },
      "outputs": [],
      "source": [
        "print(f'Реальная мощность критерия: {(pvals < alpha).mean().round(3)}')"
      ]
    },
    {
      "cell_type": "markdown",
      "metadata": {
        "id": "hsL0krg4sHKn"
      },
      "source": [
        "**Ответ:**"
      ]
    },
    {
      "cell_type": "markdown",
      "metadata": {
        "id": "NeeFIGLO01RQ"
      },
      "source": [
        "**Вывод:**"
      ]
    },
    {
      "cell_type": "markdown",
      "metadata": {
        "id": "mVULcgSUGK7U"
      },
      "source": [
        "---\n",
        "### Задача 5\n",
        "\n",
        "Рассмотренные нами методы стратификации работают в случае стратифицированного семплирования, либо же случайного семплирования. Во втором случае метод называется постстратификацией. Однако, как мы видели на занятии, при наличии сильных перекосов в соотношении между стратами вероятность ошибки 1 рода может сильно увеличиваться.\n",
        "\n",
        "Промоделируйте распределение разности\n",
        "* обычного среднего\n",
        "* стратифицированного среднего\n",
        "\n",
        "при наличии сильных перекосов в соотношении между стратами и проинтерпретируйте результаты.\n",
        "\n",
        "Код для семплирования перекошенных данных и для семплирования разности средних есть в ноутбуке с занятия."
      ]
    },
    {
      "cell_type": "code",
      "execution_count": null,
      "metadata": {
        "id": "xoifM4PlGK7U"
      },
      "outputs": [],
      "source": []
    },
    {
      "cell_type": "markdown",
      "metadata": {
        "id": "ySPU4SPvGK7U"
      },
      "source": [
        "В чем же тогда проблема того, что стратифицированный t-test увеличивает вероятность ошибки 1 рода?\n",
        "\n",
        "...\n",
        "\n",
        "Можно ли как-то исправить его с помощью некоторой универсальной статистической процедуры?\n",
        "\n",
        "..."
      ]
    },
    {
      "cell_type": "markdown",
      "metadata": {
        "id": "QqBrDESBGK7V"
      },
      "source": [
        "Реализуйте эту процедруру."
      ]
    },
    {
      "cell_type": "code",
      "execution_count": null,
      "metadata": {
        "id": "5DTWUCD2GK7V"
      },
      "outputs": [],
      "source": []
    },
    {
      "cell_type": "markdown",
      "metadata": {
        "id": "GQsxz3fLGK7V"
      },
      "source": [
        "Провалидируйте полученный тест, а также сравните его по мощности со стандартным t-test. Используйте код с занятий."
      ]
    },
    {
      "cell_type": "code",
      "execution_count": null,
      "metadata": {
        "id": "RCGRSL_sGK7V"
      },
      "outputs": [],
      "source": []
    }
  ],
  "metadata": {
    "colab": {
      "provenance": []
    },
    "kernelspec": {
      "display_name": "Python 3",
      "name": "python3"
    },
    "language_info": {
      "name": "python"
    }
  },
  "nbformat": 4,
  "nbformat_minor": 0
}
