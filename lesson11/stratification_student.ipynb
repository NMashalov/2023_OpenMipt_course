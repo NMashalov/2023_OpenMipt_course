{
  "cells": [
    {
      "cell_type": "markdown",
      "metadata": {
        "id": "GJTJw-4WrS8j"
      },
      "source": [
        "# Стратификация"
      ]
    },
    {
      "cell_type": "markdown",
      "source": [
        "## Теория"
      ],
      "metadata": {
        "id": "cQEz6vsFqovV"
      }
    },
    {
      "cell_type": "markdown",
      "source": [
        "### Введение"
      ],
      "metadata": {
        "id": "9pUQIW4-rrov"
      }
    },
    {
      "cell_type": "markdown",
      "source": [
        "$Y_1, ..., Y_n$ &mdash; целевая выборка\\\n",
        "$X_1, ..., X_n$ &mdash; страты (категориальные признаки, **известные ДО**\n",
        "эксперимента)\n",
        "\n",
        "&nbsp;\n",
        "\n",
        "Введем обозначения:\n",
        "\n",
        "-   $\\mu, \\sigma^2$ &mdash; мат.ожидание и дисперсия по всем данным\n",
        "    (*теоретические*),\n",
        "\n",
        "-   $\\mu_k, \\sigma^2_k$ &mdash; мат.ожидание и дисперсия по страте №$k$\n",
        "    (*теоретические*),\n",
        "\n",
        "-   $w_k$ &mdash; вес страты №$k$, где $k \\in \\left[1..K\\right]$.\n",
        "\n",
        "&nbsp;\n",
        "\n",
        "\n",
        "*Примечание*: $w_1+w_2+...+w_K = 1$"
      ],
      "metadata": {
        "id": "fZF13sIdruBA"
      }
    },
    {
      "cell_type": "markdown",
      "source": [
        "### Как это выглядит"
      ],
      "metadata": {
        "id": "PT7j4dCXzke-"
      }
    },
    {
      "cell_type": "markdown",
      "source": [
        " | Страта  | Размер      |                     Элементы           |                     Среднее      |       Теор. хар-ки|\n",
        " -------- |-------- |----------------------------------------------------------- |------------------ |------------------------|\n",
        " |1  |    $n_1$     |                   $Y_{1}...Y_{n_1}$  |                     $\\overline{Y}_1$ |  $\\mu_1, \\sigma_1, w_1$|\n",
        " |    2   |   $n_2$         |           $Y_{n_1+1}...Y_{n_1+n_2}$       |            $\\overline{Y}_2$  | $\\mu_2, \\sigma_2, w_2$\n",
        " |   \\...   |  \\...         |                     \\...     |                               \\...            |      \\...\n",
        "|     K  |    $n_K$  |  $$Y_{\\sum_{i=1}^{K-1} n_i + 1}...Y_{\\sum_{i=1}^{K} n_i}$$  | $\\overline{Y}_K$  | $\\mu_K, \\sigma_K, w_K$|"
      ],
      "metadata": {
        "id": "monCp4qUsJb5"
      }
    },
    {
      "cell_type": "markdown",
      "source": [
        "### Два подхода к расчету среднего"
      ],
      "metadata": {
        "id": "JrJKqhw61gIm"
      }
    },
    {
      "cell_type": "markdown",
      "source": [
        "$Y_1, ..., Y_n$ &mdash; целевая выборка\\\n",
        "$X_1, ..., X_n$ &mdash; страты (кат. признаки, **известные ДО**\n",
        "эксперимента)\\\n",
        "\n",
        "&nbsp;\n",
        "\n",
        "Обычное среднее: $$\\overline{Y} = \\frac{1}{n} \\sum_{i=1}^{n}Y_i$$\n",
        "\n",
        "&nbsp;\n",
        "\n",
        "&nbsp;\n",
        "\n",
        "&nbsp;\n",
        "\n",
        "&nbsp;\n",
        "\n",
        "\n",
        "Стратифицированное среднее:\n",
        "$$\\overline{Y}_{st} = \\sum_{k=1}^{K}w_k \\overline{Y}_k$$"
      ],
      "metadata": {
        "id": "U7s1lVoD1f4d"
      }
    },
    {
      "cell_type": "markdown",
      "source": [
        "### Способы семплирования"
      ],
      "metadata": {
        "id": "hlFDb0HX1zaO"
      }
    },
    {
      "cell_type": "markdown",
      "source": [
        "#### Случайное разбиение"
      ],
      "metadata": {
        "id": "ipac3I1w158W"
      }
    },
    {
      "cell_type": "markdown",
      "source": [
        "В данном случае математическое ожидание среднего: $$\\mathsf{E}\\overline{Y} = \\mu$$\n"
      ],
      "metadata": {
        "id": "0TucA0uZ2ERJ"
      }
    },
    {
      "cell_type": "markdown",
      "source": [
        "#### Стратифицированное разбиение"
      ],
      "metadata": {
        "id": "FrBFX-Fr16qA"
      }
    },
    {
      "cell_type": "markdown",
      "source": [
        "Берем $n_k = n w_k$ элементов.\n",
        "\n",
        "Получаем математическое ожидание стратифицированного среднего:\n",
        "$$\\mathsf{E}\\left[\\overline{Y}_{st}|n_k = n w_k\\right] = \\sum_{k=1}^{K}w_k \\mathsf{E}\\overline{Y}_k = \\mu$$"
      ],
      "metadata": {
        "id": "-cph-9LX2R5U"
      }
    },
    {
      "cell_type": "markdown",
      "source": [
        "&nbsp;\n",
        "\n",
        "\n",
        "&nbsp;\n",
        "\n",
        "\n",
        "&nbsp;\n",
        "\n",
        "\n",
        "**Вывод:** В обоих случаях оцениваем одну и ту же величину."
      ],
      "metadata": {
        "id": "Az5nsY2h2rxm"
      }
    },
    {
      "cell_type": "markdown",
      "source": [
        "### Дисперсия"
      ],
      "metadata": {
        "id": "WXWXqlWO17Ro"
      }
    },
    {
      "cell_type": "markdown",
      "source": [
        "1.   Стратифицированное разбиение, стратифицированное среднее:\n",
        "\n",
        "&nbsp;\n",
        "\n",
        "&nbsp;\n",
        "\n",
        "$$\\begin{aligned}[c]\n",
        "\t\t\t\t\t\\mathsf{D}\\left[\\overline{Y}_{st}|n_k = n w_k\\right] &= \\mathsf{D}\\left[\\sum_{k=1}^{K}w_k\\overline{Y}_k|n_k = nw_k\\right] = &&\\\\&=\\sum_{k=1}^{K}w_k^2\\mathsf{D}\\left[\\overline{Y}_k|n_k = nw_k\\right] = &&\\\\\n",
        "\t\t\t\t\t&= \\sum_{k=1}^{K}w_k^2 \\frac{1}{n w_k} \\sigma_k^2 = &&\\\\\n",
        "\t\t\t\t\t&= \\frac{1}{n} \\sum_{k=1}^{K}w_k \\sigma_k^2\n",
        "\t\t\t\t\\end{aligned}$$"
      ],
      "metadata": {
        "id": "uq2m-DW13rYo"
      }
    },
    {
      "cell_type": "markdown",
      "source": [
        "&nbsp;\n",
        "\n",
        "&nbsp;\n",
        "\n",
        "&nbsp;\n",
        "\n",
        "**Утверждение**:\n",
        "\n",
        "-   $\\mathsf{E}\\mathsf{E}\\left[Y|X\\right] = \\mathsf{E}Y$;\n",
        "\n",
        "-   Закон полной дисперсии:\n",
        "    $\\mathsf{D}Y = \\mathsf{E}\\mathsf{D}\\left[Y|X\\right] + \\mathsf{D}\\mathsf{E}\\left[Y|X\\right].$\n",
        "\n",
        "&nbsp;\n",
        "\n",
        "&nbsp;\n",
        "\n",
        "2.   Случайное разбиение, обычное среднее:\n",
        "\n",
        "$$\\begin{aligned}[c]\n",
        "\t\t\t\t\t\\mathsf{D}Y_i &= {\\mathsf{E}\\mathsf{D}\\left[Y_i|x\\right]} + {\\mathsf{D}\\mathsf{E}\\left[Y_i|x\\right]} =&&\\\\\\nonumber\n",
        "\t\t\t\t\t&= {\\mathsf{E}\\sum_{k=1}^{K}\\sigma_k^2 I\\left\\{x=k\\right\\}} + {\\mathsf{D}\\sum_{k=1}^{K}\\mu_k I\\left\\{x=k\\right\\}} =&&\\\\\n",
        "\t\t\t\t\t&= {\\sum_{k=1}^{K}w_k \\sigma_k^2} +\n",
        "\t\t\t\t\t{\\mathsf{E}\\left[\\sum_{k=1}^{K}\\mu_k I\\left\\{x=k\\right\\}\\right]^2 - \\left(\\mathsf{E}\\left[\\sum_{k=1}^{K}\\mu_k I\\left\\{x=k\\right\\}\\right]\\right)^2}\n",
        "\t\t\t\t\\end{aligned}$$\n",
        "\n",
        "\n",
        "&nbsp;\n",
        "\n",
        "&nbsp;\n",
        "\n",
        "$$\\begin{aligned}[c]\n",
        "\t\t\t\t\t\\mathsf{D}Y_i &= \\sum_{k=1}^{K}w_k \\sigma_k^2 +\n",
        "\t\t\t\t\t{\\mathsf{E}\\left[\\sum_{k=1}^{K}\\mu_k I\\left\\{x=k\\right\\}\\right]^2} - {\\left(\\mathsf{E}\\left[\\sum_{k=1}^{K}\\mu_k I\\left\\{x=k\\right\\}\\right]\\right)^2} =&&\\\\\n",
        "\t\t\t\t\t&= \\sum_{k=1}^{K}w_k \\sigma_k^2 +\n",
        "\t\t\t\t\t{\\sum_{k=1}^{K}w_k \\mu_k^2} - {\\mu^2} = &&\\\\\n",
        "\t\t\t\t\t&= \\sum_{k=1}^{K}w_k \\sigma_k^2 +\n",
        "\t\t\t\t\t{\\sum_{k=1}^{K}w_k \\mu_k^2} { - 2\\mu\\sum_{k=1}^{K}w_k\\mu_k + \\mu^2 \\sum_{k=1}^{K}w_k} =&&\\\\\n",
        "\t\t\t\t\t&= \\sum_{k=1}^{K}w_k \\sigma_k^2 +\n",
        "\t\t\t\t\t\\sum_{k=1}^{K}w_k \\left(\\mu_k - \\mu\\right)^2\n",
        "\t\t\t\t\\end{aligned}$$"
      ],
      "metadata": {
        "id": "J8vecdHC_dWs"
      }
    },
    {
      "cell_type": "markdown",
      "source": [
        "&nbsp;\n",
        "\n",
        "&nbsp;\n",
        "\n",
        "&nbsp;\n",
        "\n",
        "\n",
        "\n",
        "3.   Постстратификация (*случайное разбиение, стратифицированное среднее*):\n",
        "\n",
        "$$\\begin{aligned}[c]\n",
        "\t\t\t\t\t\\mathsf{D}\\overline{Y}_{st} &= {\\mathsf{E}\\mathsf{D}\\left[\\overline{Y}_{st}|n_1 .. n_K\\right]} + {\\mathsf{D}\\mathsf{E}\\left[\\overline{Y}_{st}|n_1 .. n_k\\right]} =&&\\\\\n",
        "\t\t\t\t\t&= {\\mathsf{E}\\sum_{k=1}^{K}w_k^2 \\mathsf{D}\\left[\\overline{Y}_{k}|n_k\\right]} + {\\mathsf{D}\\mu} =&&\\\\\n",
        "\t\t\t\t\t&= {\\mathsf{E}\\sum_{k=1}^{K}w_k^2 \\sigma_k^2\\frac{1}{n_k}} = \\sum_{k=1}^{K}w_k^2 \\sigma_k^2\\mathsf{E}\\frac{1}{n_k} =&&\\\\\n",
        "\t\t\t\t\t&= \\sum_{k=1}^{K}w_k^2 \\sigma_k^2 \\left( \\frac{1}{n w_k} + \\frac{1-w_k}{n^2 w_k^2} + o\\left( \\frac{1}{n^2}\\right)\\right) =&&\\\\\n",
        "\t\t\t\t\t&= \\frac{1}{n}\\sum_{k=1}^{K}w_k^2 \\sigma_k^2 + \\frac{1}{n^2} \\sum_{k=1}^{K}\\left( 1 - w_k \\right) \\sigma_k^2 + o\\left( \\frac{1}{n^2}\\right)\n",
        "\t\t\t\t\\end{aligned}$$"
      ],
      "metadata": {
        "id": "FF2bo51U1zKI"
      }
    },
    {
      "cell_type": "markdown",
      "source": [
        "### Итоговые формулы"
      ],
      "metadata": {
        "id": "pcwNPWjn1Tnu"
      }
    },
    {
      "cell_type": "markdown",
      "source": [
        "-   Стратифицированное разбиение, стратифицированное среднее: $$\\begin{aligned}[c]\\mathsf{D}\\overline{Y}_{st} = \\frac{1}{n} \\sum_{k=1}^{K}w_k \\sigma_k^2 \\end{aligned}$$\n",
        "\n",
        "-   Случайное разбиение, обычное среднее: $$\\mathsf{D}\\overline{Y} = \\mathsf{D}\\overline{Y}_{st} + \\frac{1}{n} \\sum_{k=1}^{K}w_k \\left(\\mu_k - \\mu\\right)^2$$\n",
        "\n",
        "-   Постстратификация: $$\\mathsf{D}\\overline{Y}^{'}_{st} =\\mathsf{D}\\overline{Y}_{st} + \\frac{1}{n^2} \\sum_{k=1}^{K}\\left( 1 - w_k \\right) \\sigma_k^2 + o\\left( \\frac{1}{n^2}\\right)$$"
      ],
      "metadata": {
        "id": "N4IqULcM2md7"
      }
    },
    {
      "cell_type": "markdown",
      "source": [
        "## Практика"
      ],
      "metadata": {
        "id": "cVTb1t0hCELf"
      }
    },
    {
      "cell_type": "code",
      "execution_count": null,
      "metadata": {
        "ExecuteTime": {
          "end_time": "2023-03-10T20:17:35.989828Z",
          "start_time": "2023-03-10T20:17:34.385969Z"
        },
        "id": "RI7o-wlyrS8o"
      },
      "outputs": [],
      "source": [
        "import numpy as np\n",
        "import scipy.stats as sps\n",
        "import pandas as pd\n",
        "import matplotlib.pyplot as plt\n",
        "import seaborn as sns\n",
        "from tqdm import tqdm\n",
        "\n",
        "from statsmodels.stats.proportion import proportion_confint\n",
        "\n",
        "sns.set(palette='Set2', style='whitegrid', font_scale=1.3)"
      ]
    },
    {
      "cell_type": "code",
      "execution_count": null,
      "metadata": {
        "ExecuteTime": {
          "end_time": "2023-03-10T20:17:35.995853Z",
          "start_time": "2023-03-10T20:17:35.991797Z"
        },
        "id": "cBisIh1zrS8p"
      },
      "outputs": [],
      "source": [
        "total_size = 1000  # Общее количество объектов в данных\n",
        "sample_size = 100  # Размер выборки\n",
        "n_iter = 5000  # Количество итераций семплирования\n",
        "\n",
        "lw = 5  # Толщина линий на графиках"
      ]
    },
    {
      "cell_type": "markdown",
      "metadata": {
        "id": "DoRK9gXirS8p"
      },
      "source": [
        "### 1. Стратифицированное среднее\n"
      ]
    },
    {
      "cell_type": "code",
      "execution_count": null,
      "metadata": {
        "ExecuteTime": {
          "end_time": "2023-03-10T20:17:36.006270Z",
          "start_time": "2023-03-10T20:17:35.997669Z"
        },
        "id": "0RiIGHtXrS8p"
      },
      "outputs": [],
      "source": [
        "def generate_data(size, p=0.6, shift=5, scale_factor=1):\n",
        "    '''\n",
        "    Генерация общего объема данных.\n",
        "\n",
        "    :param size: размер данных\n",
        "    :param p: вероятность 1-й страты\n",
        "    :param shift: смещение 1-й страты\n",
        "    :param scale_factor: множитель масштаба 1-й страты\n",
        "    :return: сгенерированные данные\n",
        "    '''\n",
        "\n",
        "    data = pd.DataFrame()\n",
        "    data['strata'] = sps.bernoulli(p=p).rvs(size=size)\n",
        "    data['sample'] = sps.norm.rvs(size=size) * (1 + scale_factor * data['strata']) \\\n",
        "                        + shift*data['strata']\n",
        "    return data"
      ]
    },
    {
      "cell_type": "markdown",
      "metadata": {
        "id": "DK8ob_lyrS8q"
      },
      "source": [
        "Сгенерируем данные, состоящие из двух страт, и посмотрим на распределение целевой переменной"
      ]
    },
    {
      "cell_type": "code",
      "execution_count": null,
      "metadata": {
        "ExecuteTime": {
          "end_time": "2023-03-10T20:17:36.034716Z",
          "start_time": "2023-03-10T20:17:36.008457Z"
        },
        "id": "seFQoWh4rS8q"
      },
      "outputs": [],
      "source": [
        "data = generate_data(total_size)\n",
        "data.head()"
      ]
    },
    {
      "cell_type": "code",
      "execution_count": null,
      "metadata": {
        "ExecuteTime": {
          "end_time": "2023-03-10T20:17:36.440703Z",
          "start_time": "2023-03-10T20:17:36.036608Z"
        },
        "id": "3hA9XTnyrS8q"
      },
      "outputs": [],
      "source": [
        "plt.figure(figsize=(8, 4))\n",
        "sns.kdeplot(data['sample'], lw=lw)\n",
        "plt.show()"
      ]
    },
    {
      "cell_type": "markdown",
      "metadata": {
        "id": "UADRtF8crS8r"
      },
      "source": [
        "По графику заметно смещение одной страты относительно другой.\n",
        "\n",
        "Определим функции семплирования группы и семплирования выборки разности средних между группами"
      ]
    },
    {
      "cell_type": "code",
      "execution_count": null,
      "metadata": {
        "ExecuteTime": {
          "end_time": "2023-03-10T20:17:36.447036Z",
          "start_time": "2023-03-10T20:17:36.442703Z"
        },
        "id": "zLELDdMyXHGS"
      },
      "outputs": [],
      "source": [
        "def random_sampler(data, sample_size):\n",
        "    '''\n",
        "    Случайное семплирование двух групп одного размера из данных.\n",
        "\n",
        "    :param data: исходные данные\n",
        "    :param sample_size: размер группы\n",
        "    :return: две группы данных\n",
        "    '''\n",
        "    # Создайте выборку размера 2 * sample_size с помощью метода sample\n",
        "    choiced =\n",
        "    # Разбейте выборку на две равные части и верните две группы данных (используйте iloc)\n",
        "    return\n",
        "\n",
        "def sample_mean_diff(data, sample_size, n_iter):\n",
        "    '''\n",
        "    Реализация итераций семплирования двух случайных групп и вычисления разности средних.\n",
        "\n",
        "    :param data: исходные данные\n",
        "    :param sample_size: размер группы\n",
        "    :param n_iter: количество итераций семплирования\n",
        "    :return: выборка разности средних\n",
        "    '''\n",
        "\n",
        "    mean_sample = np.zeros(n_iter)\n",
        "\n",
        "    for i in tqdm(range(n_iter)):\n",
        "        groups = random_sampler(data, sample_size)\n",
        "        mean_sample[i] = groups[0]['sample'].mean() - groups[1]['sample'].mean()\n",
        "\n",
        "    return mean_sample"
      ]
    },
    {
      "cell_type": "markdown",
      "metadata": {
        "id": "8iDCysnXrS8r"
      },
      "source": [
        "Посмотрим на результат"
      ]
    },
    {
      "cell_type": "code",
      "execution_count": null,
      "metadata": {
        "ExecuteTime": {
          "end_time": "2023-03-10T20:18:09.482947Z",
          "start_time": "2023-03-10T20:17:36.448707Z"
        },
        "id": "rs_SH0XLrS8r"
      },
      "outputs": [],
      "source": [
        "means = sample_mean_diff(data, sample_size, n_iter)\n",
        "\n",
        "plt.figure(figsize=(8, 4))\n",
        "sns.kdeplot(means, lw=lw)\n",
        "plt.xlabel('Дисперсия');"
      ]
    },
    {
      "cell_type": "markdown",
      "metadata": {
        "id": "KXSeRQXjrS8r"
      },
      "source": [
        "Сделаем то же самое с каждой стратой отдельно и сравним результат"
      ]
    },
    {
      "cell_type": "code",
      "execution_count": null,
      "metadata": {
        "ExecuteTime": {
          "end_time": "2023-03-10T20:19:03.199059Z",
          "start_time": "2023-03-10T20:18:09.485494Z"
        },
        "id": "tFiRshcFrS8r"
      },
      "outputs": [],
      "source": [
        "means_strata_0 = sample_mean_diff(data[data['strata'] == 0], sample_size, n_iter)\n",
        "means_strata_1 = sample_mean_diff(data[data['strata'] == 1], sample_size, n_iter)"
      ]
    },
    {
      "cell_type": "code",
      "execution_count": null,
      "metadata": {
        "ExecuteTime": {
          "end_time": "2023-03-10T20:19:04.178182Z",
          "start_time": "2023-03-10T20:19:03.200786Z"
        },
        "id": "KBhrBsHkrS8s"
      },
      "outputs": [],
      "source": [
        "plt.figure(figsize=(12, 5))\n",
        "sns.kdeplot(means, lw=lw, label='Общее')\n",
        "sns.kdeplot(means_strata_0, lw=lw, label='Страта 0')\n",
        "sns.kdeplot(means_strata_1, lw=lw, label='Страта 1')\n",
        "plt.xlabel('Дисперсия')\n",
        "plt.legend();"
      ]
    },
    {
      "cell_type": "markdown",
      "source": [
        "Сделйте вывод о том, почему разность средних по отдельным стратам имеет дисперсию меньше, чем дисперсия разности средних в целом по данным?"
      ],
      "metadata": {
        "id": "RUduH2xgjY6w"
      }
    },
    {
      "cell_type": "markdown",
      "metadata": {
        "id": "rVhX9pRMrS8s"
      },
      "source": [
        "**Вывод:**"
      ]
    },
    {
      "cell_type": "markdown",
      "source": [
        "\n",
        "Посмотрим, насколько существенно бывает перекос в соотношении страт в зависимости от размера выборки"
      ],
      "metadata": {
        "id": "dOgcLKVWjTrL"
      }
    },
    {
      "cell_type": "code",
      "execution_count": null,
      "metadata": {
        "ExecuteTime": {
          "end_time": "2023-03-10T20:19:04.408565Z",
          "start_time": "2023-03-10T20:19:04.179674Z"
        },
        "id": "82pBjghkrS8s"
      },
      "outputs": [],
      "source": [
        "sizes_grid = np.arange(10, 300)\n",
        "\n",
        "plt.figure(figsize=(12, 6))\n",
        "plt.fill_between(\n",
        "    sizes_grid,\n",
        "    sps.binom(n=sizes_grid, p=0.6).ppf(0.025)/sizes_grid,\n",
        "    sps.binom(n=sizes_grid, p=0.6).ppf(0.975)/sizes_grid,\n",
        "    alpha=0.7\n",
        ")\n",
        "plt.xlabel('Размер выборки')\n",
        "plt.ylabel('Соотношение страт в выборе');"
      ]
    },
    {
      "cell_type": "markdown",
      "metadata": {
        "id": "gWh1cqXdrS8s"
      },
      "source": [
        "Давайте посмотрим на поведение стратифицированного среднего, которое вычисляется как\n",
        "$$\\overline{Y}_{st} = \\sum_{k=1}^K w_k \\overline{Y}_k,$$\n",
        "где $\\overline{Y}_k$ &mdash; среднее в страте $k$, а $w_k$ &mdash; нормированный вес страты $k$.\n",
        "\n",
        "Для этого сначала посчитаем веса страт по всему датасету"
      ]
    },
    {
      "cell_type": "code",
      "execution_count": null,
      "metadata": {
        "ExecuteTime": {
          "end_time": "2023-03-10T20:19:04.416862Z",
          "start_time": "2023-03-10T20:19:04.410255Z"
        },
        "id": "r6lfcLQKrS8s"
      },
      "outputs": [],
      "source": [
        "def calculate_strata_weights(data):\n",
        "    '''\n",
        "    Вычисляет веса страт.\n",
        "\n",
        "    :param data: исходные данные\n",
        "    :return: веса страт\n",
        "    '''\n",
        "\n",
        "    strata_weights = data.groupby(by='strata')['sample'].count()\n",
        "    strata_weights = strata_weights / strata_weights.sum()\n",
        "    return strata_weights"
      ]
    },
    {
      "cell_type": "code",
      "execution_count": null,
      "metadata": {
        "ExecuteTime": {
          "end_time": "2023-03-10T20:19:04.426332Z",
          "start_time": "2023-03-10T20:19:04.418624Z"
        },
        "id": "HPIOHpIirS8s"
      },
      "outputs": [],
      "source": [
        "strata_weights = calculate_strata_weights(data)\n",
        "strata_weights"
      ]
    },
    {
      "cell_type": "markdown",
      "metadata": {
        "id": "c1Kwn9i9rS8t"
      },
      "source": [
        "Определим функции вычисления стратифицированного среднего и стратифицированного семплирования"
      ]
    },
    {
      "cell_type": "code",
      "execution_count": null,
      "metadata": {
        "ExecuteTime": {
          "end_time": "2023-03-10T20:19:04.434625Z",
          "start_time": "2023-03-10T20:19:04.427893Z"
        },
        "id": "mNS63ElGrS8t"
      },
      "outputs": [],
      "source": [
        "def weighted_mean(data, weights):\n",
        "    '''\n",
        "    Вычисляет взвешенное среднее.\n",
        "\n",
        "    :param data: данные\n",
        "    :param weights: веса страт\n",
        "    :return: взвешенное среднее\n",
        "    '''\n",
        "\n",
        "    strata_means = data.groupby(by='strata')['sample'].mean()\n",
        "    return (strata_means * weights).sum()\n",
        "\n",
        "\n",
        "def simple_mean(data, weights):\n",
        "    '''\n",
        "    Вычисляет обычное выборочное среднее\n",
        "\n",
        "    :param data: данные\n",
        "    :param weights: не используется, нужен для совместимости\n",
        "    :return: выборочное среднее\n",
        "    '''\n",
        "\n",
        "    return data['sample'].mean()\n",
        "\n",
        "# Напишите функцию стратифицированного семплирования\n",
        "def stratified_sampler(data, sample_size):\n",
        "    '''\n",
        "    Стратифицированное семплирование выборок.\n",
        "\n",
        "    :param data: данные\n",
        "    :param sample_size: размер выборки\n",
        "    :return: две выборки\n",
        "    '''\n",
        "    # Сгруппируйте данные по стратам с помощью метода groupby()\n",
        "    groupped =\n",
        "\n",
        "    # Посчитайте веса страт (посчитайте количество элемеентов каждой страты и поделите на размер датасета)\n",
        "    strata_weights =\n",
        "\n",
        "    # Посчитайте размер выборок (умножьте размер сэмпла на веса страт и округлите)\n",
        "    strata_sample_size =\n",
        "\n",
        "    a_group, b_group = [], []\n",
        "\n",
        "    # Генерируем выборки для каждой страты отдельно\n",
        "    for i, strata in enumerate(groupped):\n",
        "\n",
        "        # Сгенерирйте две выборки из strata[1] с размером strata_sample_size[i]\n",
        "        a, b =\n",
        "\n",
        "        a_group.append(a)\n",
        "        b_group.append(b)\n",
        "\n",
        "    return pd.concat(a_group), pd.concat(b_group)\n",
        "\n",
        "\n",
        "def sample_mean_diff(sampler, mean_function, data, sample_size, n_iter):\n",
        "    '''\n",
        "    Реализация итераций семплирования двух групп и вычисления разности средних.\n",
        "\n",
        "    :param sampler: функция семплирования двух групп\n",
        "    :param mean_function: функция вычисления среднего\n",
        "    :param data: исходные данные\n",
        "    :param sample_size: размер группы\n",
        "    :param n_iter: количество итераций семплирования\n",
        "    :return: выборка разности средних\n",
        "    '''\n",
        "\n",
        "    strata_weights = data.groupby(by='strata')['sample'].count()\n",
        "    strata_weights = strata_weights / strata_weights.sum()\n",
        "\n",
        "    mean_sample = np.zeros(n_iter)\n",
        "\n",
        "    for i in tqdm(range(n_iter)):\n",
        "        groups = sampler(data, sample_size)\n",
        "        mean_sample[i] = mean_function(groups[0], strata_weights) - mean_function(groups[1], strata_weights)\n",
        "\n",
        "    return mean_sample"
      ]
    },
    {
      "cell_type": "markdown",
      "metadata": {
        "id": "h8tXA7hHrS8t"
      },
      "source": [
        "Семплируем разности средних для трех случаев:\n",
        "* случайное семплирование групп, обычное среднее"
      ]
    },
    {
      "cell_type": "code",
      "execution_count": null,
      "metadata": {
        "ExecuteTime": {
          "end_time": "2023-03-10T20:24:12.730688Z",
          "start_time": "2023-03-10T20:19:04.435896Z"
        },
        "scrolled": true,
        "id": "7SEp8OdXrS8t"
      },
      "outputs": [],
      "source": [
        "means_random = sample_mean_diff(<нужный сэмплер>, <нужная функция среднего>, data, sample_size, n_iter)"
      ]
    },
    {
      "cell_type": "markdown",
      "source": [
        "* **постстратификация:** случайное семплирование групп, стратифицированное среднее"
      ],
      "metadata": {
        "id": "pQ-xYLaN7u0h"
      }
    },
    {
      "cell_type": "code",
      "source": [
        "means_random_st = sample_mean_diff(<нужный сэмплер>, <нужная функция среднего>, data, sample_size, n_iter)"
      ],
      "metadata": {
        "id": "Wsb5nc5Z7uTy"
      },
      "execution_count": null,
      "outputs": []
    },
    {
      "cell_type": "markdown",
      "source": [
        "* **стратификация:** стратифицированное семплирование групп, стратифицированное среднее"
      ],
      "metadata": {
        "id": "4rjie_Yo7wVC"
      }
    },
    {
      "cell_type": "code",
      "source": [
        "means_st = sample_mean_diff(<нужный сэмплер>, <нужная функция среднего>, data, sample_size, n_iter)"
      ],
      "metadata": {
        "id": "Aj9qm8qE7wEb"
      },
      "execution_count": null,
      "outputs": []
    },
    {
      "cell_type": "code",
      "execution_count": null,
      "metadata": {
        "ExecuteTime": {
          "end_time": "2023-03-10T20:24:13.602789Z",
          "start_time": "2023-03-10T20:24:12.736430Z"
        },
        "id": "xqtyD5fErS8t"
      },
      "outputs": [],
      "source": [
        "labels = [\n",
        "    'Случайное семплир.',\n",
        "    'Стратиф. семплир.',\n",
        "    'Случайное семплир. \\n+ постстратиф.',\n",
        "]\n",
        "\n",
        "plt.figure(figsize=(12, 5))\n",
        "sns.kdeplot(means_random, lw=lw, label=labels[0])\n",
        "sns.kdeplot(means_random_st, lw=lw, label=labels[1])\n",
        "sns.kdeplot(means_st, lw=lw, label=labels[2])\n",
        "plt.xlabel('Дисперсия')\n",
        "plt.legend();"
      ]
    },
    {
      "cell_type": "markdown",
      "source": [
        "Сделайте вывод об общем и стратифицированном средних"
      ],
      "metadata": {
        "id": "GonOGdQxj8Bd"
      }
    },
    {
      "cell_type": "markdown",
      "metadata": {
        "id": "kAoyfeqRrS8u"
      },
      "source": [
        "**Вывод:**"
      ]
    },
    {
      "cell_type": "markdown",
      "metadata": {
        "id": "HL_5bPJYrS8u"
      },
      "source": [
        "### 2. Теоретические зависимости\n",
        "\n",
        "Посмотрим, как ведет себя дисперсия в разных случаях в зависимости от размера выборок и количества страт.\n",
        "\n",
        "Оценим слагаемые по всем данным. **В данном случае мы так делаем исключительно потому как мы хотим посмотреть на теоретические зависимости.**"
      ]
    },
    {
      "cell_type": "code",
      "execution_count": null,
      "metadata": {
        "ExecuteTime": {
          "end_time": "2023-03-10T20:24:13.616440Z",
          "start_time": "2023-03-10T20:24:13.604632Z"
        },
        "id": "E3B1uCk_rS8u"
      },
      "outputs": [],
      "source": [
        "# Мат. ожидания и дисперсии по стратам\n",
        "strata_means = data.groupby(by='strata')['sample'].mean()\n",
        "strata_vars = data.groupby(by='strata')['sample'].var()\n",
        "\n",
        "# Мат. ожидания и дисперсии по всем данным\n",
        "mean = data['sample'].mean()\n",
        "var = data['sample'].var()\n",
        "\n",
        "# Слагаемые из формул дисперсии без деления на размер выборки\n",
        "strata_vars = data.groupby(by='strata')['sample'].var()\n",
        "weighted_var = (strata_vars * strata_weights).sum()\n",
        "post_addition = (strata_vars * (1-strata_weights)).sum()"
      ]
    },
    {
      "cell_type": "markdown",
      "metadata": {
        "id": "7y2MX6n1rS8u"
      },
      "source": [
        "Вычислим дисперсии для разных размеров выборок"
      ]
    },
    {
      "cell_type": "code",
      "execution_count": null,
      "metadata": {
        "ExecuteTime": {
          "end_time": "2023-03-10T20:24:13.626312Z",
          "start_time": "2023-03-10T20:24:13.618174Z"
        },
        "id": "9-eY1RAKrS8u"
      },
      "outputs": [],
      "source": [
        "sample_size_grid = np.arange(5, 105, 5)\n",
        "var_list = np.zeros((3, len(sample_size_grid)))\n",
        "\n",
        "for i, sample_size in enumerate(sample_size_grid):\n",
        "    var_list[0, i] = var / sample_size\n",
        "    var_list[1, i] = weighted_var / sample_size\n",
        "    var_list[2, i] = weighted_var / sample_size + post_addition / sample_size**2"
      ]
    },
    {
      "cell_type": "code",
      "execution_count": null,
      "metadata": {
        "ExecuteTime": {
          "end_time": "2023-03-10T20:24:14.317094Z",
          "start_time": "2023-03-10T20:24:13.627599Z"
        },
        "scrolled": false,
        "id": "9cgIegwVrS8u"
      },
      "outputs": [],
      "source": [
        "plt.figure(figsize=(18, 6))\n",
        "\n",
        "for pic_id in range(2):\n",
        "    plt.subplot(1, 2, pic_id+1)\n",
        "\n",
        "    for i in range(3):\n",
        "        plt.plot(sample_size_grid, var_list[i], lw=lw, label=labels[i])\n",
        "\n",
        "    plt.legend()\n",
        "    plt.xlabel('Размер выборки')\n",
        "    plt.ylabel('Разность средних')\n",
        "\n",
        "plt.yscale('log')"
      ]
    },
    {
      "cell_type": "markdown",
      "source": [
        "Сделайте вывод по получившимся графикам. Как они согласуются с теорией?"
      ],
      "metadata": {
        "id": "rVWBf7Avp3I2"
      }
    },
    {
      "cell_type": "markdown",
      "metadata": {
        "id": "qqMYWdCFrS8v"
      },
      "source": [
        "**Вывод:**"
      ]
    },
    {
      "cell_type": "markdown",
      "source": [
        "Теперь посмотрим, как меняются дисперсии при увеличении смещения между стратами. Размер выборок уменьшим, чтобы лучше увидеть результат"
      ],
      "metadata": {
        "id": "ACTBV1j3nxLf"
      }
    },
    {
      "cell_type": "code",
      "execution_count": null,
      "metadata": {
        "ExecuteTime": {
          "end_time": "2023-03-10T20:24:14.610828Z",
          "start_time": "2023-03-10T20:24:14.318886Z"
        },
        "id": "PAbidWSPrS8v"
      },
      "outputs": [],
      "source": [
        "loc_grid = np.linspace(0, 10, 50)  # сетка сдвигов\n",
        "var_list = np.zeros((3, len(loc_grid)))\n",
        "sample_size = 50\n",
        "\n",
        "for i, loc in enumerate(loc_grid):\n",
        "    # Генерируем данные с заданным смещением\n",
        "    data_iter = generate_data(total_size, shift=loc)\n",
        "\n",
        "    # Мат. ожидания и дисперсии по стратам\n",
        "    strata_means = data_iter.groupby(by='strata')['sample'].mean()\n",
        "    strata_vars = data_iter.groupby(by='strata')['sample'].var()\n",
        "\n",
        "    # Мат. ожидания и дисперсии по всем данным\n",
        "    mean = data_iter['sample'].mean()\n",
        "    var = data_iter['sample'].var()\n",
        "\n",
        "    # Слагаемые из формул дисперсии\n",
        "    strata_vars = data_iter.groupby(by='strata')['sample'].var()\n",
        "    weighted_var = (strata_vars * strata_weights).sum()\n",
        "    post_addition = (strata_vars * (1-strata_weights)).sum()\n",
        "\n",
        "    var_list[0, i] = var / sample_size\n",
        "    var_list[1, i] = weighted_var / sample_size\n",
        "    var_list[2, i] = weighted_var / sample_size + post_addition / sample_size**2"
      ]
    },
    {
      "cell_type": "code",
      "execution_count": null,
      "metadata": {
        "ExecuteTime": {
          "end_time": "2023-03-10T20:24:15.169617Z",
          "start_time": "2023-03-10T20:24:14.612315Z"
        },
        "id": "Ah0apvtCrS8v"
      },
      "outputs": [],
      "source": [
        "plt.figure(figsize=(18, 6))\n",
        "\n",
        "for pic_id in range(2):\n",
        "    plt.subplot(1, 2, pic_id+1)\n",
        "\n",
        "    for i in range(3):\n",
        "        plt.plot(loc_grid, var_list[i], lw=lw, label=labels[i], alpha=0.7)\n",
        "\n",
        "    plt.legend()\n",
        "    plt.xlabel('Смещение между стратами')\n",
        "    plt.ylabel('Разность средних')\n",
        "\n",
        "plt.yscale('log')"
      ]
    },
    {
      "cell_type": "markdown",
      "source": [
        "Сделайте вывод по получившимся графикам. Как они согласуются с теорией?"
      ],
      "metadata": {
        "id": "W9k2MEg9qC2A"
      }
    },
    {
      "cell_type": "markdown",
      "metadata": {
        "id": "UUwT_4RyrS8x"
      },
      "source": [
        "**Вывод:**"
      ]
    },
    {
      "cell_type": "markdown",
      "metadata": {
        "id": "zAdZIHq5rS8x"
      },
      "source": [
        "### 3. Валидация стратифицированного теста\n",
        "\n",
        "Теперь построим стратифицированный t-test, используя статифицированное среднее и полученные ранее формулы дисперсии, а также провалидируем его с помощью AA-теста.\n",
        "\n",
        "Определим сначала функции вычисления дисперсий согласно теоретическим формулам"
      ]
    },
    {
      "cell_type": "code",
      "execution_count": null,
      "metadata": {
        "ExecuteTime": {
          "end_time": "2023-03-10T20:24:15.177139Z",
          "start_time": "2023-03-10T20:24:15.171081Z"
        },
        "id": "OeojebADrS8x"
      },
      "outputs": [],
      "source": [
        "def weighted_var(data, strata_weights):\n",
        "    '''\n",
        "    Вычисляет взвешенную дисперсию при стратификации.\n",
        "\n",
        "    :param data: данные\n",
        "    :param strata_weights: веса страт\n",
        "    :return: дисперсия\n",
        "    '''\n",
        "\n",
        "    strata_vars = data.groupby(by='strata')['sample'].var()\n",
        "    return (strata_vars * strata_weights).sum() / len(data)\n",
        "\n",
        "\n",
        "def weighted_post_var(data, strata_weights):\n",
        "    '''\n",
        "    Вычисляет взвешенную дисперсию при постстратификации.\n",
        "\n",
        "    :param data: данные\n",
        "    :param strata_weights: веса страт\n",
        "    :return: дисперсия\n",
        "    '''\n",
        "\n",
        "    strata_vars = data.groupby(by='strata')['sample'].var()\n",
        "    weighted_var = (strata_vars * strata_weights).sum() / len(data)\n",
        "    post_addition = (strata_vars * (1-strata_weights)).sum() / (len(data)**2)\n",
        "    return weighted_var + post_addition\n",
        "\n",
        "\n",
        "def simple_var(data, strata_weights):\n",
        "    '''\n",
        "    Вычисляет обычную дисперсию при случайном семплировании.\n",
        "\n",
        "    :param data: данные\n",
        "    :param strata_weights: веса страт, не используется, нужен для совместимости\n",
        "    :return: дисперсия\n",
        "    '''\n",
        "\n",
        "    return data['sample'].var() / len(data)"
      ]
    },
    {
      "cell_type": "code",
      "execution_count": null,
      "metadata": {
        "ExecuteTime": {
          "end_time": "2023-03-10T20:24:15.185748Z",
          "start_time": "2023-03-10T20:24:15.180229Z"
        },
        "id": "xT6LJSOmrS8y"
      },
      "outputs": [],
      "source": [
        "def stratified_ttest(x_data, y_data, strata_weights, method='random', alpha=0.05):\n",
        "    '''\n",
        "    Стратифицированный абсолютный t-test.\n",
        "\n",
        "    :param x_data: выборка вместе с информацией о стратах\n",
        "    :param y_data: выборка вместе с информацией о стратах\n",
        "    :param strata_weights: веса страт\n",
        "    :param method: метод 'random', 'stratified', 'post_stratified'\n",
        "    :param alpha: уровень значимости\n",
        "    :return: статистика критерия, границы доверительного интервала, p-value\n",
        "    '''\n",
        "\n",
        "    if method == 'random':\n",
        "        mean_function = simple_mean\n",
        "        var_function = simple_var\n",
        "    elif method == 'stratified':\n",
        "        mean_function = weighted_mean\n",
        "        var_function = weighted_var\n",
        "    elif method == 'post_stratified':\n",
        "        mean_function = weighted_mean\n",
        "        var_function = weighted_post_var\n",
        "\n",
        "    x_mean = mean_function(x_data, strata_weights)\n",
        "    y_mean = mean_function(y_data, strata_weights)\n",
        "    x_var  =  var_function(x_data, strata_weights)\n",
        "    y_var  =  var_function(y_data, strata_weights)\n",
        "\n",
        "    stat = x_mean - y_mean\n",
        "    std = np.sqrt(x_var + y_var)\n",
        "\n",
        "    t_stat = stat / std\n",
        "    pvalue = 2*sps.norm.sf(np.abs(t_stat))\n",
        "\n",
        "    q = sps.norm.ppf(1 - alpha/2)\n",
        "    left_bound = stat - q*std\n",
        "    right_bound = stat + q*std\n",
        "\n",
        "    return stat, left_bound, right_bound, pvalue"
      ]
    },
    {
      "cell_type": "markdown",
      "metadata": {
        "id": "dPQnXSfbrS8y"
      },
      "source": [
        "Далее несколько стандартных функции AA-тестов и построений графиков"
      ]
    },
    {
      "cell_type": "code",
      "execution_count": null,
      "metadata": {
        "ExecuteTime": {
          "end_time": "2023-03-10T20:24:15.196328Z",
          "start_time": "2023-03-10T20:24:15.187652Z"
        },
        "code_folding": [
          3,
          38
        ],
        "id": "0nTMD41VrS8y"
      },
      "outputs": [],
      "source": [
        "def draw_interval(\n",
        "    real_alpha, left_alpha, right_alpha, methods,\n",
        "    alpha=0.05, figsize=(7, 2)\n",
        "):\n",
        "    '''\n",
        "    Отрисовка интервала для реального уровня значимости\n",
        "    real_alpha -- оценка уровня значимости\n",
        "    left_alpha, right_alpha -- границы доверительного интервала\n",
        "    methods --- список методов\n",
        "    alpha -- теоретический уровень значимости\n",
        "    figsize -- размер фигуры matplotlib\n",
        "    '''\n",
        "\n",
        "    texts = []\n",
        "\n",
        "    with sns.axes_style(\"whitegrid\"):\n",
        "        plt.figure(figsize=(10, 3))\n",
        "\n",
        "        for i in range(len(methods)):\n",
        "            plt.hlines(-i, 0, 1, color='black', lw=2, alpha=0.6)\n",
        "            plt.fill_between(\n",
        "                [left_alpha[i], right_alpha[i]], [-i-0.25]*2, [-i+0.25]*2,\n",
        "                color='green', alpha=0.6\n",
        "            )\n",
        "            plt.scatter(real_alpha[i], -i, s=300, marker='*', color='red')\n",
        "            plt.xlim((min(alpha, left_alpha.min())-1e-3, max(alpha, right_alpha.max())+1e-3))\n",
        "            texts.append(\n",
        "                f'{methods[i]}\\n'\n",
        "                f'Доля отвержений = {100*real_alpha[i]:.2f}%,\\n'\n",
        "                f'интервал ({100*left_alpha[i]:.2f}%, {100*right_alpha[i]:.2f}%)'\n",
        "            )\n",
        "        plt.ylim((-len(methods)+0.65, 0.35))\n",
        "\n",
        "        plt.vlines(alpha, -len(methods), 1, color='red', lw=5, linestyle='--', alpha=0.6)\n",
        "        plt.yticks(-np.arange(len(methods)), texts)\n",
        "        plt.tight_layout()\n",
        "        plt.show()\n",
        "\n",
        "def calculate_real_alpha(n_errors, n_iter):\n",
        "    '''\n",
        "    Оценка реального уровня значимости и его дов. интервала.\n",
        "\n",
        "    Аргументы:\n",
        "    n_errors -- количество ошибок в эксперименте\n",
        "    n_iter -- количество экспериментов\n",
        "\n",
        "    Возвращает:\n",
        "    real_alpha -- оценка реального уровня значимости\n",
        "    left_alpha, right_alpha -- границы соотв. дов. интервала\n",
        "    '''\n",
        "\n",
        "    real_alpha = n_errors / n_iter\n",
        "    left_alpha, right_alpha = proportion_confint(n_errors, n_iter, method='wilson')\n",
        "\n",
        "    return real_alpha, left_alpha, right_alpha"
      ]
    },
    {
      "cell_type": "code",
      "execution_count": null,
      "metadata": {
        "ExecuteTime": {
          "end_time": "2023-03-10T20:24:15.221247Z",
          "start_time": "2023-03-10T20:24:15.214185Z"
        },
        "code_folding": [],
        "id": "Qa9m9qvQrS80"
      },
      "outputs": [],
      "source": [
        "def AA_test(\n",
        "    generate_data, sampler, total_size=20000,\n",
        "    methods=['random', 'stratified', 'post_stratified'],\n",
        "    n_iter=10000, sample_size=200, alpha=0.05, effect=0, show=True\n",
        "):\n",
        "    '''\n",
        "    Проведение серии AA-тестов на искусственных выборках.\n",
        "\n",
        "    Аргументы:\n",
        "    generate_data -- функция для семплирования исходных данных\n",
        "    sampler -- функция для семплирования групп\n",
        "    total_size -- общий размер данных\n",
        "    methods -- список методов из 'random', 'stratified', 'post_stratified'\n",
        "    n_iter -- количество итераций\n",
        "    sample_size -- размер выборок\n",
        "    alpha -- теоретический уровень значимости\n",
        "    effect -- величина эффекта\n",
        "    show -- строить ли график\n",
        "    '''\n",
        "\n",
        "    n_errors = np.zeros(len(methods))  # количество отвержений H_0\n",
        "\n",
        "    # Проведение экспериментов\n",
        "    for _ in tqdm(range(n_iter)):\n",
        "        data = generate_data(total_size)\n",
        "        strata_weights = calculate_strata_weights(data)\n",
        "        x, y = sampler(data, sample_size)\n",
        "        y['sample'] += effect\n",
        "\n",
        "        for i in range(len(methods)):\n",
        "            n_errors[i] += stratified_ttest(x, y, strata_weights, method=methods[i])[-1] < alpha\n",
        "\n",
        "    if show:\n",
        "        # Реальный уровень значимости\n",
        "        real_alphas = np.zeros((len(methods), 3))\n",
        "        for i in range(len(methods)):\n",
        "            real_alphas[i] = calculate_real_alpha(n_errors[i], n_iter)\n",
        "        draw_interval(\n",
        "            real_alphas[:, 0], real_alphas[:, 1], real_alphas[:, 2],\n",
        "            methods, alpha=alpha\n",
        "        )\n",
        "\n",
        "    return n_errors / n_iter"
      ]
    },
    {
      "cell_type": "markdown",
      "metadata": {
        "id": "3qddCl0DrS80"
      },
      "source": [
        "**Уровень значимости**\n",
        "\n",
        "Рассмотрим работу теста при случайном семплировании."
      ]
    },
    {
      "cell_type": "code",
      "execution_count": null,
      "metadata": {
        "ExecuteTime": {
          "end_time": "2023-03-10T20:34:11.404287Z",
          "start_time": "2023-03-10T20:24:15.222913Z"
        },
        "id": "5Eyu3c7orS80"
      },
      "outputs": [],
      "source": [
        "AA_test(generate_data, random_sampler, n_iter=n_iter);"
      ]
    },
    {
      "cell_type": "markdown",
      "source": [
        "Сделайте вывод по полученному графику. Корректно ли использовать стратифицированный вариант теста? Если нет, то можно ли это как-то исправить?"
      ],
      "metadata": {
        "id": "3WN8h3VcUEYU"
      }
    },
    {
      "cell_type": "markdown",
      "source": [
        "**Вывод:**"
      ],
      "metadata": {
        "id": "a3SAIVg3UB1V"
      }
    },
    {
      "cell_type": "markdown",
      "metadata": {
        "id": "pIjTmPx_rS80"
      },
      "source": [
        "Теперь сделаем то же самое, но применим стратифицированное семплирование."
      ]
    },
    {
      "cell_type": "code",
      "execution_count": null,
      "metadata": {
        "ExecuteTime": {
          "end_time": "2023-03-10T20:47:03.615773Z",
          "start_time": "2023-03-10T20:34:11.405750Z"
        },
        "id": "K2RvOgAXrS80"
      },
      "outputs": [],
      "source": [
        "AA_test(generate_data, stratified_sampler, n_iter=n_iter);"
      ]
    },
    {
      "cell_type": "markdown",
      "source": [
        "Сделайте вывод."
      ],
      "metadata": {
        "id": "hCGfjrCZVsHb"
      }
    },
    {
      "cell_type": "markdown",
      "source": [
        "**Вывод:**"
      ],
      "metadata": {
        "id": "Oex1d5SzVvFT"
      }
    },
    {
      "cell_type": "markdown",
      "metadata": {
        "id": "1w9BA919rS81"
      },
      "source": [
        "**Мощность**\n",
        "\n",
        "Исследуем мощность критерия при случайном семплировании."
      ]
    },
    {
      "cell_type": "code",
      "execution_count": null,
      "metadata": {
        "ExecuteTime": {
          "end_time": "2023-03-10T20:57:37.654041Z",
          "start_time": "2023-03-10T20:47:03.617156Z"
        },
        "id": "laUWISWmrS81"
      },
      "outputs": [],
      "source": [
        "AA_test(generate_data, random_sampler, n_iter=n_iter, effect=0.5);"
      ]
    },
    {
      "cell_type": "markdown",
      "source": [
        "Сделайте вывод. Сравните постстратификация с обычным вариантом. Можно ли смотреть в этом случае на полную стратификацию?"
      ],
      "metadata": {
        "id": "e2ufZN-KWb_h"
      }
    },
    {
      "cell_type": "markdown",
      "source": [
        "**Вывод:**"
      ],
      "metadata": {
        "id": "-3VdGL80Wa2I"
      }
    },
    {
      "cell_type": "markdown",
      "metadata": {
        "id": "mYb69FTvrS81"
      },
      "source": [
        "Проведём тот же опыт со стратифицированным семплированием."
      ]
    },
    {
      "cell_type": "code",
      "execution_count": null,
      "metadata": {
        "ExecuteTime": {
          "end_time": "2023-03-10T21:10:42.077268Z",
          "start_time": "2023-03-10T20:57:37.655582Z"
        },
        "id": "M03zIk04rS81"
      },
      "outputs": [],
      "source": [
        "AA_test(generate_data, stratified_sampler, n_iter=n_iter, effect=0.5);"
      ]
    },
    {
      "cell_type": "markdown",
      "source": [
        "Сделайте вывод"
      ],
      "metadata": {
        "id": "TuqYYoTkW5A1"
      }
    },
    {
      "cell_type": "markdown",
      "source": [
        " **Вывод:**"
      ],
      "metadata": {
        "id": "WAEsB5nyW6nX"
      }
    },
    {
      "cell_type": "markdown",
      "metadata": {
        "id": "wDaA3ZXerS81"
      },
      "source": [
        "**Перекошенные страты**\n",
        "\n",
        "Посмотрим теперь на случай, в котором выборки генерируются с перекошенным соотношением страт. Определим функцию взвешенного семплирования с заданными весами"
      ]
    },
    {
      "cell_type": "code",
      "execution_count": null,
      "metadata": {
        "ExecuteTime": {
          "end_time": "2023-03-10T21:10:42.084222Z",
          "start_time": "2023-03-10T21:10:42.078752Z"
        },
        "id": "dzwIm4D1rS81"
      },
      "outputs": [],
      "source": [
        "def weighted_sampler(data, sample_size, strata_weights='default'):\n",
        "    '''\n",
        "    Семплирование выборок по стратам с заданными весами.\n",
        "\n",
        "    :param data: исходные данные\n",
        "    :param sample_size: размер выборок\n",
        "    :param strata_weights: веса страт или же 'default' если их надо определить из данных\n",
        "    :return: две выборки\n",
        "    '''\n",
        "    groupped = data.groupby(by='strata')\n",
        "\n",
        "    if strata_weights == 'default':\n",
        "        # Веса страт определяем по данным\n",
        "        strata_weights = groupped['sample'].count()\n",
        "        strata_weights = strata_weights / strata_weights.sum()\n",
        "    else:\n",
        "        # Веса страт заданы\n",
        "        strata_weights = np.array(strata_weights)\n",
        "\n",
        "    # Размер выборок по стратам\n",
        "    strata_sample_size = np.floor(sample_size * strata_weights + 0.5).astype(int)\n",
        "\n",
        "    a_group, b_group = [], []\n",
        "    # Генерируем отдельно из каждой страты\n",
        "    for i, strata in enumerate(groupped):\n",
        "        a, b = random_sampler(strata[1], strata_sample_size[i])\n",
        "        a_group.append(a)\n",
        "        b_group.append(b)\n",
        "\n",
        "    return pd.concat(a_group), pd.concat(b_group)"
      ]
    },
    {
      "cell_type": "markdown",
      "metadata": {
        "id": "uxMgT38ArS81"
      },
      "source": [
        "Вспомним истинное соотношение страт, оно у нас равно 4:6"
      ]
    },
    {
      "cell_type": "code",
      "execution_count": null,
      "metadata": {
        "ExecuteTime": {
          "end_time": "2023-03-10T21:10:42.678839Z",
          "start_time": "2023-03-10T21:10:42.085686Z"
        },
        "id": "BI6GL7dGrS82"
      },
      "outputs": [],
      "source": [
        "strata_weights"
      ]
    },
    {
      "cell_type": "markdown",
      "metadata": {
        "id": "R0tvpoWbrS82"
      },
      "source": [
        "Провалидируем генерацию при соотношениях страт 7:3. Как видим, **при наличии перекосов нельзя пользоваться формулами дисперсии для стратифицированного среднего**"
      ]
    },
    {
      "cell_type": "code",
      "execution_count": null,
      "metadata": {
        "ExecuteTime": {
          "end_time": "2023-03-10T21:23:30.874875Z",
          "start_time": "2023-03-10T21:10:42.682399Z"
        },
        "id": "dZmBX1FbrS82"
      },
      "outputs": [],
      "source": [
        "AA_test(\n",
        "    generate_data,\n",
        "    lambda data, sample_size: weighted_sampler(data, sample_size, strata_weights=[0.7, 0.3]),\n",
        "    n_iter=n_iter\n",
        ");"
      ]
    },
    {
      "cell_type": "markdown",
      "metadata": {
        "id": "uYWmoYa8rS82"
      },
      "source": [
        "И для соотношения 1:9 видим похожий результат"
      ]
    },
    {
      "cell_type": "code",
      "execution_count": null,
      "metadata": {
        "ExecuteTime": {
          "end_time": "2023-03-10T21:35:47.628897Z",
          "start_time": "2023-03-10T21:23:30.876513Z"
        },
        "id": "tRcA9UAUrS82"
      },
      "outputs": [],
      "source": [
        "AA_test(\n",
        "    generate_data,\n",
        "    lambda data, sample_size: weighted_sampler(data, sample_size, strata_weights=[0.1, 0.9]),\n",
        "    n_iter=n_iter\n",
        ");"
      ]
    },
    {
      "cell_type": "markdown",
      "metadata": {
        "id": "iDIeW9uxrS82"
      },
      "source": [
        "### 4. Большое количество страт\n",
        "\n",
        "Посмотрим, как ведут себя характеристики тестов при значительном увеличении количества страт. Обобщим функцию генерации данных на случай нескольких страт"
      ]
    },
    {
      "cell_type": "code",
      "execution_count": null,
      "metadata": {
        "ExecuteTime": {
          "end_time": "2023-03-10T21:35:47.634492Z",
          "start_time": "2023-03-10T21:35:47.630633Z"
        },
        "id": "qOik6IynrS82"
      },
      "outputs": [],
      "source": [
        "def generate_data(size, weights):\n",
        "    '''\n",
        "    Генерация исходных данных.\n",
        "\n",
        "    :param size: размер данных\n",
        "    :param weights: веса страт\n",
        "    :return:\n",
        "    '''\n",
        "\n",
        "    shifts = np.random.normal(size=size, scale=5)\n",
        "    scales = np.random.exponential(size=size)\n",
        "\n",
        "    data = pd.DataFrame()\n",
        "    data['strata'] = (\n",
        "        np.random.multinomial(1, weights, size=size) * np.arange(len(weights))\n",
        "    ).sum(axis=1)\n",
        "    data['sample'] = 0\n",
        "\n",
        "    for i in range(len(weights)):\n",
        "        strata_mask = data['strata'] == i\n",
        "        data['sample'][strata_mask] = np.random.normal(\n",
        "            size=strata_mask.sum(),\n",
        "            loc=shifts[i],\n",
        "            scale=scales[i]\n",
        "        )\n",
        "\n",
        "    return data"
      ]
    },
    {
      "cell_type": "markdown",
      "metadata": {
        "id": "DGdh6NIXrS82"
      },
      "source": [
        "Возьмем 10 страт и посмотрим на реальный уровень значимости при случайном выборе групп"
      ]
    },
    {
      "cell_type": "code",
      "execution_count": null,
      "metadata": {
        "ExecuteTime": {
          "end_time": "2023-03-10T21:53:29.516364Z",
          "start_time": "2023-03-10T21:35:47.638339Z"
        },
        "id": "oZoAFeJ8rS82"
      },
      "outputs": [],
      "source": [
        "n_strats = 10\n",
        "\n",
        "AA_test(\n",
        "    lambda size: generate_data(size, np.ones(n_strats)/n_strats),\n",
        "    random_sampler,\n",
        "    n_iter=n_iter\n",
        ");"
      ]
    },
    {
      "cell_type": "markdown",
      "metadata": {
        "ExecuteTime": {
          "end_time": "2023-03-10T22:15:26.716102Z",
          "start_time": "2023-03-10T21:53:29.519331Z"
        },
        "id": "y-5hRkBWrS83"
      },
      "source": [
        "И для 100 страт при стратифицированном семплировании"
      ]
    },
    {
      "cell_type": "code",
      "execution_count": null,
      "metadata": {
        "ExecuteTime": {
          "end_time": "2023-03-11T00:04:36.947258Z",
          "start_time": "2023-03-10T22:15:26.717954Z"
        },
        "id": "fSr-W9qxrS83"
      },
      "outputs": [],
      "source": [
        "n_strats = 100\n",
        "\n",
        "AA_test(\n",
        "    lambda size: generate_data(size, np.ones(n_strats)/n_strats),\n",
        "    stratified_sampler,\n",
        "    n_iter=n_iter\n",
        ");"
      ]
    },
    {
      "cell_type": "markdown",
      "metadata": {
        "id": "5EqDfSjZeXJy"
      },
      "source": [
        "Теперь посмотрим в целом на зависимость от количества страт по сетке. Для лучших результатов увеличим количество итераций число итераций"
      ]
    },
    {
      "cell_type": "code",
      "execution_count": null,
      "metadata": {
        "ExecuteTime": {
          "end_time": "2023-03-11T01:50:36.258745Z",
          "start_time": "2023-03-11T01:50:36.254416Z"
        },
        "id": "hHdrc8NpeRZa"
      },
      "outputs": [],
      "source": [
        "n_iter = 10000"
      ]
    },
    {
      "cell_type": "markdown",
      "metadata": {
        "id": "xZ35l79feRZh"
      },
      "source": [
        "Оценим реальный уровень значимости тестов в зависимости от количества страт. Напомним, размер выборки постоянный и равен 200."
      ]
    },
    {
      "cell_type": "code",
      "source": [
        "n_strats_list = np.concatenate([np.arange(2, 10, 2), np.arange(10, 101, 10)])\n",
        "\n",
        "real_alphas = np.zeros((len(n_strats_list), 3))"
      ],
      "metadata": {
        "id": "1Cm9Nu3u4zrS"
      },
      "execution_count": null,
      "outputs": []
    },
    {
      "cell_type": "code",
      "execution_count": null,
      "metadata": {
        "ExecuteTime": {
          "end_time": "2023-03-11T04:06:23.883679Z",
          "start_time": "2023-03-11T01:50:36.267298Z"
        },
        "outputId": "950ddde0-7eab-4014-98c9-643bec367dd0",
        "colab": {
          "base_uri": "https://localhost:8080/"
        },
        "id": "UAZq5uMkeRZi"
      },
      "outputs": [
        {
          "output_type": "stream",
          "name": "stderr",
          "text": [
            "100%|██████████| 10000/10000 [04:00<00:00, 41.56it/s]\n",
            "100%|██████████| 10000/10000 [04:41<00:00, 35.52it/s]\n",
            "100%|██████████| 10000/10000 [05:13<00:00, 31.95it/s]\n",
            "100%|██████████| 10000/10000 [05:41<00:00, 29.27it/s]\n",
            "100%|██████████| 10000/10000 [06:20<00:00, 26.27it/s]\n",
            "100%|██████████| 10000/10000 [08:50<00:00, 18.84it/s]\n",
            "100%|██████████| 10000/10000 [11:14<00:00, 14.82it/s]\n",
            "100%|██████████| 10000/10000 [13:42<00:00, 12.16it/s]\n",
            "100%|██████████| 10000/10000 [15:56<00:00, 10.46it/s]\n",
            "100%|██████████| 10000/10000 [18:18<00:00,  9.10it/s]\n",
            "100%|██████████| 10000/10000 [21:21<00:00,  7.81it/s]\n",
            "100%|██████████| 10000/10000 [23:32<00:00,  7.08it/s]\n",
            "100%|██████████| 10000/10000 [25:47<00:00,  6.46it/s]\n",
            "100%|██████████| 10000/10000 [29:37<00:00,  5.62it/s]\n"
          ]
        }
      ],
      "source": [
        "for i, n_strats in enumerate(n_strats_list):\n",
        "    real_alphas[i] = AA_test(\n",
        "        lambda size: generate_data(size, np.ones(n_strats)/n_strats),\n",
        "        stratified_sampler,\n",
        "        n_iter=n_iter,\n",
        "        show=False\n",
        "    )"
      ]
    },
    {
      "cell_type": "code",
      "execution_count": null,
      "metadata": {
        "ExecuteTime": {
          "end_time": "2023-03-11T04:06:24.279423Z",
          "start_time": "2023-03-11T04:06:23.887802Z"
        },
        "outputId": "dc56d060-f84a-4107-bf68-7357d7f2c402",
        "colab": {
          "base_uri": "https://localhost:8080/",
          "height": 479
        },
        "id": "PWN1Bue9eRZj"
      },
      "outputs": [
        {
          "output_type": "display_data",
          "data": {
            "text/plain": [
              "<Figure size 1000x500 with 1 Axes>"
            ],
            "image/png": "[encoded data removed]"
          },
          "metadata": {}
        }
      ],
      "source": [
        "plt.figure(figsize=(10, 5))\n",
        "for i in range(3):\n",
        "    plt.plot(n_strats_list, real_alphas[:, i], lw=lw, label=labels[i])\n",
        "plt.xlabel('Количество страт')\n",
        "plt.ylabel('Реальный уровень значимости')\n",
        "plt.legend();"
      ]
    },
    {
      "cell_type": "markdown",
      "metadata": {
        "id": "3wqq_nQpeRZj"
      },
      "source": [
        "Как видим, при достаточно большом количестве страт (больше 10) статификация может слегка повышать вероятность ошибки 1 рода. Поэтому на практике не следует использовать слишком большое количество страт относительно размеров выборки.\n",
        "\n",
        "Посмотрим также на мощность в зависимости от количества страт"
      ]
    },
    {
      "cell_type": "code",
      "execution_count": null,
      "metadata": {
        "ExecuteTime": {
          "end_time": "2023-03-11T06:21:41.395141Z",
          "start_time": "2023-03-11T04:06:24.282330Z"
        },
        "outputId": "ee59beb1-8c80-44e9-98ee-950cd1d76e62",
        "colab": {
          "base_uri": "https://localhost:8080/"
        },
        "id": "xpoUW0YfeRZj"
      },
      "outputs": [
        {
          "output_type": "stream",
          "name": "stderr",
          "text": [
            "100%|██████████| 10000/10000 [04:15<00:00, 39.07it/s]\n",
            "100%|██████████| 10000/10000 [04:54<00:00, 33.98it/s]\n",
            "100%|██████████| 10000/10000 [05:33<00:00, 30.03it/s]\n",
            "100%|██████████| 10000/10000 [06:03<00:00, 27.54it/s]\n",
            "100%|██████████| 10000/10000 [06:42<00:00, 24.86it/s]\n",
            "100%|██████████| 10000/10000 [09:24<00:00, 17.70it/s]\n",
            "100%|██████████| 10000/10000 [11:48<00:00, 14.12it/s]\n",
            "100%|██████████| 10000/10000 [14:30<00:00, 11.49it/s]\n",
            "100%|██████████| 10000/10000 [16:45<00:00,  9.94it/s]\n",
            "100%|██████████| 10000/10000 [19:36<00:00,  8.50it/s]\n",
            "100%|██████████| 10000/10000 [22:27<00:00,  7.42it/s]\n",
            "100%|██████████| 10000/10000 [24:57<00:00,  6.68it/s]\n",
            "100%|██████████| 10000/10000 [27:10<00:00,  6.13it/s]\n",
            "100%|██████████| 10000/10000 [31:31<00:00,  5.29it/s]\n"
          ]
        }
      ],
      "source": [
        "real_betas = np.zeros((len(n_strats_list), 3))\n",
        "\n",
        "for i, n_strats in enumerate(n_strats_list):\n",
        "    real_betas[i] = AA_test(\n",
        "        lambda size: generate_data(size, np.ones(n_strats)/n_strats),\n",
        "        stratified_sampler,\n",
        "        n_iter=n_iter,\n",
        "        effect=0.5,\n",
        "        show=False\n",
        "    )"
      ]
    },
    {
      "cell_type": "code",
      "execution_count": null,
      "metadata": {
        "ExecuteTime": {
          "end_time": "2023-03-11T06:21:41.669856Z",
          "start_time": "2023-03-11T06:21:41.398594Z"
        },
        "outputId": "38a3d0ec-e281-43dd-82b6-58a946604317",
        "colab": {
          "base_uri": "https://localhost:8080/",
          "height": 479
        },
        "id": "4bzvApUMeRZk"
      },
      "outputs": [
        {
          "output_type": "display_data",
          "data": {
            "text/plain": [
              "<Figure size 1000x500 with 1 Axes>"
            ],
            "image/png": "[encoded data removed]"
          },
          "metadata": {}
        }
      ],
      "source": [
        "plt.figure(figsize=(10, 5))\n",
        "for i in range(3):\n",
        "    plt.plot(n_strats_list, real_betas[:, i], lw=lw, label=labels[i])\n",
        "plt.xlabel('Количество страт')\n",
        "plt.ylabel('Мощность')\n",
        "plt.legend();"
      ]
    },
    {
      "cell_type": "markdown",
      "metadata": {
        "id": "RE1Le3lieRZk"
      },
      "source": [
        "Мощность при постстратификации слегка падает при увеличении количества страт, что довольно логично. Кроме того, мощность обычного t-test падает до нуля при увеличении количества страт, то есть он практически перестает что-либо отвергать."
      ]
    }
  ],
  "metadata": {
    "kernelspec": {
      "display_name": "Python 3",
      "language": "python",
      "name": "python3"
    },
    "language_info": {
      "codemirror_mode": {
        "name": "ipython",
        "version": 3
      },
      "file_extension": ".py",
      "mimetype": "text/x-python",
      "name": "python",
      "nbconvert_exporter": "python",
      "pygments_lexer": "ipython3",
      "version": "3.8.10"
    },
    "colab": {
      "provenance": [],
      "collapsed_sections": [
        "cQEz6vsFqovV",
        "9pUQIW4-rrov",
        "PT7j4dCXzke-",
        "JrJKqhw61gIm",
        "hlFDb0HX1zaO",
        "WXWXqlWO17Ro",
        "DoRK9gXirS8p",
        "iDIeW9uxrS82"
      ]
    }
  },
  "nbformat": 4,
  "nbformat_minor": 0
}