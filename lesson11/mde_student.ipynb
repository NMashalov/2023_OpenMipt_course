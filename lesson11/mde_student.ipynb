{
  "cells": [
    {
      "cell_type": "markdown",
      "metadata": {
        "id": "g5KgUOcwrLU8"
      },
      "source": [
        "# Минимальный детектируемый эффект"
      ],
      "id": "g5KgUOcwrLU8"
    },
    {
      "cell_type": "markdown",
      "source": [
        "## Теория"
      ],
      "metadata": {
        "id": "vmjKgqGKNAej"
      },
      "id": "vmjKgqGKNAej"
    },
    {
      "cell_type": "markdown",
      "source": [
        "### Введение"
      ],
      "metadata": {
        "id": "cJIHLupaTqIT"
      },
      "id": "cJIHLupaTqIT"
    },
    {
      "cell_type": "markdown",
      "source": [
        "**MDE** := Minimum Detectable Effect\n",
        "\n",
        "Обозначения:\n",
        "*   $\\alpha$ &mdash; уровень значимости,\n",
        "*   $\\beta$ &mdash; мощность,\n",
        "*   $n$ &mdash; размер группы,\n",
        "*   $\\varepsilon$ &mdash; величина эффекта.\n",
        "\n",
        "При дизайне эксперимента:\n",
        "1.   Задано: $\\alpha, \\beta, n \\implies$ Какой минимальный эффект $\\varepsilon$ можем задетектировать?\n",
        "2.   Задано: $\\alpha, \\beta, \\varepsilon \\implies$ Какой минимальный размер групп нам необходим?\n",
        "\n",
        "\n",
        "\n"
      ],
      "metadata": {
        "id": "yl34PXfENSTL"
      },
      "id": "yl34PXfENSTL"
    },
    {
      "cell_type": "markdown",
      "source": [
        "### Что в основе\n"
      ],
      "metadata": {
        "id": "NGtyE7cTgb6I"
      },
      "id": "NGtyE7cTgb6I"
    },
    {
      "cell_type": "markdown",
      "source": [
        "$X_1...X_n$ &mdash; выборка  с параметрами $\\mathsf{E} X_i = a_1$, $\\mathsf{D} X_i = \\sigma_1^2$\n",
        "\n",
        "$Y_1...Y_m$ &mdash; выборка с параметрами $\\mathsf{E} Y_i = a_2$, $\\mathsf{D} Y_i = \\sigma_2^2$\n",
        "\n",
        "---\n",
        "Гипотезы:\n",
        "$\\mathsf{H}_0\\colon a_1 = a_2\\ \\ vs.\\ \\ \\mathsf{H}_1\\colon a_1 > a_2$\\\n",
        "Статистика:\n",
        "$T(\\overline{X}, \\overline{Y}) = f\\left(\\overline{X} - \\overline{Y}\\right)$\\\n",
        "Критерий: $S = \\{T(\\overline{X}, \\overline{Y}) > z_{1-\\alpha}\\}$.\n",
        "\n",
        "\n",
        "\n",
        "При справедливости $\\mathsf{H}_0$ получаем\\\n",
        "$$T(\\overline{X}, \\overline{Y}) = \\frac{\\overline{X} - \\overline{Y}}{\\sqrt{\\frac{\\sigma_1^2}{n} + \\frac{\\sigma_2^2}{m}}} \\stackrel{\\mathsf{H}_0}{\\approx} \\mathcal{N}(0, 1)$$.\n"
      ],
      "metadata": {
        "id": "JSI-Oj2uP2CH"
      },
      "id": "JSI-Oj2uP2CH"
    },
    {
      "cell_type": "markdown",
      "source": [
        "### Случай наличия эффекта\n"
      ],
      "metadata": {
        "id": "Sw5EfTajgfVP"
      },
      "id": "Sw5EfTajgfVP"
    },
    {
      "cell_type": "markdown",
      "source": [
        "$X_1...X_n$ &mdash; выборка   $\\mathsf{E}X_i = a_1$,\n",
        "$\\mathsf{D}X_i = \\sigma_1^2$\\\n",
        "$Y_1...Y_m$ &mdash; выборка   $\\mathsf{E}Y_i = a_2$,\n",
        "$\\mathsf{D}Y_i = \\sigma_2^2$\n",
        "\n",
        "Гипотезы:\n",
        "$\\mathsf{H}_0\\colon a_1 = a_2\\  vs.\\ \\ \\mathsf{H}_1\\colon a_1 > a_2$\n",
        "\n",
        "---\n",
        "\n",
        "Пусть $\\varepsilon = (a_1 - a_2)$ &mdash; эффект.\\\n",
        "$$\\overline{X} - \\overline{Y} \\stackrel{\\mathsf{H}_1}{\\approx} \\mathcal{N}\\left(\\varepsilon, \\frac{\\sigma_1^2}{n} + \\frac{\\sigma_2^2}{m}\\right)$$.\\\n",
        "Тогда из условий на уровень значимости и мощность:\n",
        "$$\\varepsilon \\ge \\left( z_{1-\\alpha} + z_{\\beta}\\right) \\sqrt{\\frac{\\sigma_1^2}{n} + \\frac{\\sigma_2^2}{m}} \\stackrel{n=m}{=}\\left( z_{1-\\alpha} + z_{\\beta}\\right) \\sqrt{\\frac{\\sigma_1^2 +\\sigma_2^2}{n}}$$"
      ],
      "metadata": {
        "id": "4_mJWr86eVME"
      },
      "id": "4_mJWr86eVME"
    },
    {
      "cell_type": "markdown",
      "source": [
        "### Итоговый ответ\n"
      ],
      "metadata": {
        "id": "G_QYYsEnfkK2"
      },
      "id": "G_QYYsEnfkK2"
    },
    {
      "cell_type": "markdown",
      "source": [
        "$$\\varepsilon_{min} = MDE = \\left( z_{1-\\alpha} + z_{\\beta}\\right) \\sqrt{\\frac{\\sigma_1^2 +\\sigma_2^2}{n}}$$  \n",
        "  \n",
        "\n",
        "\n",
        "$$n = \\left( z_{1-\\alpha} + z_{\\beta}\\right)^2 \\frac{\\sigma_1^2 +\\sigma_2^2}{\\varepsilon^2}$$"
      ],
      "metadata": {
        "id": "H03dDt10gjDs"
      },
      "id": "H03dDt10gjDs"
    },
    {
      "cell_type": "markdown",
      "source": [
        "## Практика"
      ],
      "metadata": {
        "id": "FGcRM85Zq5SL"
      },
      "id": "FGcRM85Zq5SL"
    },
    {
      "cell_type": "code",
      "execution_count": null,
      "metadata": {
        "ExecuteTime": {
          "end_time": "2023-03-04T06:53:53.315886Z",
          "start_time": "2023-03-04T06:53:51.706895Z"
        },
        "id": "F65FzFwYrLVA"
      },
      "outputs": [],
      "source": [
        "import numpy as np\n",
        "import pandas as pd\n",
        "import seaborn as sns\n",
        "from tqdm import tqdm\n",
        "\n",
        "import matplotlib.pyplot as plt\n",
        "import scipy.stats as sps\n",
        "\n",
        "sns.set_style(\"darkgrid\")\n",
        "sns.set(palette='Set2', font_scale=1.5)"
      ],
      "id": "F65FzFwYrLVA"
    },
    {
      "cell_type": "markdown",
      "metadata": {
        "id": "4BsFvoaHrLVB"
      },
      "source": [
        "### 1. Визуализация теоретических зависимостей"
      ],
      "id": "4BsFvoaHrLVB"
    },
    {
      "cell_type": "markdown",
      "source": [
        "MDE &mdash; это наименьший истинный эффект полученный от изменений, который с уверенностью сможет обнаружить статистический критерий. Формула расчёта MDE зависит от выбранного критерия, в нашем случае она будет следующей:\n",
        "\n",
        "$$\n",
        "\\text{MDE}=(Z_{1-\\alpha}+Z_{\\beta})\\cdot\\sqrt{\\frac{\\sigma_X^2+\\sigma_Y^2}{n}}\n",
        "$$\n",
        "\n",
        "где $Z_{1-\\alpha}$ и $Z_{\\beta}$ - соответствующие квантили нормального распределения, $n$ - размер выборки, $\\sigma_X^2$ и $\\sigma_Y^2$ - дисперсии."
      ],
      "metadata": {
        "id": "Ds4_4bsJuIdg"
      },
      "id": "Ds4_4bsJuIdg"
    },
    {
      "cell_type": "markdown",
      "source": [
        "Также можно совершить обратную операцию: зная требуемое значение эфекта, получить необходимый размер выборки по следующей формуле:\n",
        "\n",
        "$$\n",
        "n = (Z_{1-\\alpha}+Z_{\\beta})^2\\cdot\\frac{\\sigma_X^2+\\sigma_Y^2}{\\varepsilon^2}\n",
        "$$"
      ],
      "metadata": {
        "id": "PsBzInWRwOOO"
      },
      "id": "PsBzInWRwOOO"
    },
    {
      "cell_type": "markdown",
      "metadata": {
        "id": "Pi0SPzP4rLVC"
      },
      "source": [
        "Рассмотрим зависимости формул MDE и размера выборки от дисперсии, желаемых ошибки первого рода и мощности критерия. Для начала зафиксируем значения переменных."
      ],
      "id": "Pi0SPzP4rLVC"
    },
    {
      "cell_type": "code",
      "execution_count": null,
      "metadata": {
        "ExecuteTime": {
          "end_time": "2023-03-04T06:53:53.320705Z",
          "start_time": "2023-03-04T06:53:53.317693Z"
        },
        "id": "atpHqClhrLVC"
      },
      "outputs": [],
      "source": [
        "var_x = var_y = 1  # Дисперсии выборок\n",
        "sample_size = 100  # Размер выборки\n",
        "effect = 0.1  # Размер эффекта\n",
        "alpha = 0.05  # Уровень значимости\n",
        "betas = np.array([0.4, 0.6, 0.8, 0.99]).reshape(-1, 1)  # Значения мощности"
      ],
      "id": "atpHqClhrLVC"
    },
    {
      "cell_type": "markdown",
      "metadata": {
        "id": "MhN6bvLRrLVC"
      },
      "source": [
        "Реализуем функции подбора размера выборки и расчета MDE в соответствии с выведенными формулами"
      ],
      "id": "MhN6bvLRrLVC"
    },
    {
      "cell_type": "code",
      "execution_count": null,
      "metadata": {
        "ExecuteTime": {
          "end_time": "2023-03-04T06:53:53.331675Z",
          "start_time": "2023-03-04T06:53:53.322450Z"
        },
        "id": "BCTM7m_erLVC"
      },
      "outputs": [],
      "source": [
        "def get_mde(alpha, beta, sample_size, var_x, var_y=var_x):\n",
        "    '''Расчитывает MDE\n",
        "\n",
        "    :param alpha: желаемая ошибка первого рода\n",
        "    :param beta: желаемая мощность\n",
        "    :param sample_size: размер выборок\n",
        "    :param var_x, var_y: дисперсии выборок\n",
        "    :returns: теоретический MDE\n",
        "    '''\n",
        "\n",
        "    q_sum = sps.norm.ppf(1 - alpha) + sps.norm.ppf(beta)\n",
        "    return q_sum / np.sqrt(sample_size) * np.sqrt(var_x + var_y)"
      ],
      "id": "BCTM7m_erLVC"
    },
    {
      "cell_type": "code",
      "execution_count": null,
      "metadata": {
        "ExecuteTime": {
          "end_time": "2023-03-04T06:53:53.344592Z",
          "start_time": "2023-03-04T06:53:53.333506Z"
        },
        "id": "-o67r7jPrLVC"
      },
      "outputs": [],
      "source": [
        "def get_sample_size(alpha, beta, mde, var_x, var_y=var_x):\n",
        "    '''Расчитывает размер выборки для детектирование MDE\n",
        "\n",
        "    :param alpha: желаемая ошибка первого рода\n",
        "    :param beta: желаемая мощность\n",
        "    :param mde: необходимый эффект\n",
        "    :param var_x, var_y: дисперсии выборок\n",
        "    :returns: необходимый размер выборки\n",
        "    '''\n",
        "\n",
        "    q_sum = sps.norm.ppf(1 - alpha) + sps.norm.ppf(beta)\n",
        "    return np.ceil((q_sum ** 2) * (var_x + var_y) / (mde * mde)).astype(int)"
      ],
      "id": "-o67r7jPrLVC"
    },
    {
      "cell_type": "markdown",
      "metadata": {
        "id": "iRd_SjDCrLVD"
      },
      "source": [
        "Также сделаем вспомогательную функцию для визуализации результатов"
      ],
      "id": "iRd_SjDCrLVD"
    },
    {
      "cell_type": "code",
      "execution_count": null,
      "metadata": {
        "ExecuteTime": {
          "end_time": "2023-03-04T06:53:53.366187Z",
          "start_time": "2023-03-04T06:53:53.348465Z"
        },
        "id": "OeIQIrOprLVD"
      },
      "outputs": [],
      "source": [
        "def plot(grid, mdes, sample_sizes, title='', third_dimension=None, label=''):\n",
        "    ''' Строит графики MDE и размера выборки по сетке значений. '''\n",
        "\n",
        "    _, axes = plt.subplots(1, 2, figsize=(20, 8))\n",
        "\n",
        "    plt.suptitle(title, fontsize=20)\n",
        "\n",
        "    if third_dimension is not None:\n",
        "        for mde, sample_size, third in zip(mdes, sample_sizes, third_dimension):\n",
        "            axes[0].plot(grid.reshape(-1), mde, lw=5, label=f'{label} = {third[0]}')\n",
        "            axes[0].legend()\n",
        "            axes[1].plot(grid.reshape(-1), sample_size, lw=5)\n",
        "    else:\n",
        "        axes[0].plot(grid.reshape(-1), mdes, lw=5)\n",
        "        axes[1].plot(grid.reshape(-1), sample_sizes, lw=5)\n",
        "\n",
        "\n",
        "    axes[0].set_title('MDE')\n",
        "    axes[0].set_xlabel(title, fontsize=20)\n",
        "    axes[1].set_title('Размер выборки')\n",
        "    axes[1].set_xlabel(title, fontsize=20)\n",
        "\n",
        "    plt.show()"
      ],
      "id": "OeIQIrOprLVD"
    },
    {
      "cell_type": "markdown",
      "metadata": {
        "id": "VVZcbRztrLVD"
      },
      "source": [
        "Будем исследовать зависимости следующим образом: зафиксируем все параметы эксперимента, кроме одного. Для этого выбранного параметра расчитаем формулы в срезе по разным мощностям\n",
        "\n",
        "*Зависимость от дисперсии*"
      ],
      "id": "VVZcbRztrLVD"
    },
    {
      "cell_type": "code",
      "execution_count": null,
      "metadata": {
        "ExecuteTime": {
          "end_time": "2023-03-04T06:53:54.036274Z",
          "start_time": "2023-03-04T06:53:53.368867Z"
        },
        "id": "zQ3uHKcTrLVD"
      },
      "outputs": [],
      "source": [
        "var_x_grid = np.arange(0.1, 10, 0.01).reshape(1, -1)\n",
        "\n",
        "plot(\n",
        "    var_x_grid,\n",
        "    get_mde(alpha, betas, sample_size, var_x_grid),\n",
        "    get_sample_size(alpha, betas, effect, var_x_grid),\n",
        "    title='Дисперсия',\n",
        "    third_dimension=betas,\n",
        "    label='Мощность'\n",
        ")"
      ],
      "id": "zQ3uHKcTrLVD"
    },
    {
      "cell_type": "markdown",
      "metadata": {
        "id": "4aLrKvmTrLVE"
      },
      "source": [
        "*Зависимость от ошибки 1 рода*"
      ],
      "id": "4aLrKvmTrLVE"
    },
    {
      "cell_type": "code",
      "execution_count": null,
      "metadata": {
        "ExecuteTime": {
          "end_time": "2023-03-04T06:53:54.664434Z",
          "start_time": "2023-03-04T06:53:54.037985Z"
        },
        "id": "BCjTwnYmrLVE"
      },
      "outputs": [],
      "source": [
        "alpha_grid = np.arange(1e-4, 0.5, 1e-5)\n",
        "\n",
        "plot(\n",
        "    alpha_grid,\n",
        "    get_mde(alpha_grid, betas, sample_size, var_x),\n",
        "    get_sample_size(alpha_grid, betas, effect, var_x),\n",
        "    title='Ошибка первого рода',\n",
        "    third_dimension=betas,\n",
        "    label='Мощность'\n",
        ")"
      ],
      "id": "BCjTwnYmrLVE"
    },
    {
      "cell_type": "markdown",
      "metadata": {
        "id": "2mUKl-u7rLVF"
      },
      "source": [
        "*Зависимость от мощности*"
      ],
      "id": "2mUKl-u7rLVF"
    },
    {
      "cell_type": "code",
      "execution_count": null,
      "metadata": {
        "ExecuteTime": {
          "end_time": "2023-03-04T06:53:55.160702Z",
          "start_time": "2023-03-04T06:53:54.668655Z"
        },
        "id": "rK2h5GmjrLVF"
      },
      "outputs": [],
      "source": [
        "beta_grid = np.arange(1e-2, 1, 1e-5)\n",
        "\n",
        "plot(\n",
        "    beta_grid,\n",
        "    get_mde(alpha, beta_grid, sample_size, var_x),\n",
        "    get_sample_size(alpha, beta_grid, effect, var_x),\n",
        "    title='Мощность',\n",
        ")"
      ],
      "id": "rK2h5GmjrLVF"
    },
    {
      "cell_type": "markdown",
      "metadata": {
        "id": "3pUbzCYGrLVF"
      },
      "source": [
        "*Зависимость MDE и размера выборки*"
      ],
      "id": "3pUbzCYGrLVF"
    },
    {
      "cell_type": "code",
      "execution_count": null,
      "metadata": {
        "ExecuteTime": {
          "end_time": "2023-03-04T06:53:55.667968Z",
          "start_time": "2023-03-04T06:53:55.162875Z"
        },
        "id": "IV1T1Cq7rLVF"
      },
      "outputs": [],
      "source": [
        "sample_size_grid = np.arange(10, 500, 10)\n",
        "effect_grid = np.arange(1e-2, 0.1, 1e-3)\n",
        "\n",
        "sample_sizes = get_sample_size(alpha, betas, effect_grid, var_x)\n",
        "mdes = get_mde(alpha, betas, sample_size_grid, var_x)\n",
        "\n",
        "third_dimension = betas\n",
        "\n",
        "_, axes = plt.subplots(1, 2, figsize=(20, 8))\n",
        "\n",
        "for mde, ss, third in zip(mdes, sample_sizes, third_dimension):\n",
        "    axes[0].plot(sample_size_grid.reshape(-1), mde, lw=3, label=f'Мощность = {third[0]}')\n",
        "    axes[0].legend()\n",
        "    axes[1].plot(effect_grid.reshape(-1), ss, lw=3)\n",
        "\n",
        "\n",
        "axes[0].set_title('MDE')\n",
        "axes[0].set_xlabel('Размер выборки')\n",
        "axes[1].set_title('Размер выборки')\n",
        "axes[1].set_xlabel('MDE')\n",
        "\n",
        "plt.show()"
      ],
      "id": "IV1T1Cq7rLVF"
    },
    {
      "cell_type": "markdown",
      "metadata": {
        "id": "ot7jd5g2rLVG"
      },
      "source": [
        "Теперь рассмотрим парную зависимость, а именно, как мощность и ошибка первого рода совместно влияют на MDE и размер выборки."
      ],
      "id": "ot7jd5g2rLVG"
    },
    {
      "cell_type": "code",
      "execution_count": null,
      "metadata": {
        "ExecuteTime": {
          "end_time": "2023-03-04T06:53:55.673804Z",
          "start_time": "2023-03-04T06:53:55.669405Z"
        },
        "id": "YmvC5OQArLVG"
      },
      "outputs": [],
      "source": [
        "alpha_grid = np.arange(1e-2, 1, 1e-2).reshape(-1, 1)\n",
        "beta_grid = np.arange(1e-2, 1, 1e-2)\n",
        "\n",
        "mdes = get_mde(alpha_grid, beta_grid, sample_size, var_x)\n",
        "sample_sizes = get_sample_size(alpha_grid, beta_grid, effect, var_x)"
      ],
      "id": "YmvC5OQArLVG"
    },
    {
      "cell_type": "code",
      "execution_count": null,
      "metadata": {
        "ExecuteTime": {
          "end_time": "2023-03-04T06:53:56.706308Z",
          "start_time": "2023-03-04T06:53:55.675133Z"
        },
        "id": "v5K448i8rLVG"
      },
      "outputs": [],
      "source": [
        "_, axes = plt.subplots(1, 2, figsize=(25, 10))\n",
        "\n",
        "ticks = [0, 20, 40, 60, 80, 99]\n",
        "ticklabels = alpha_grid.round(2).reshape(-1).tolist()[::20] + [alpha_grid[-1][0]]\n",
        "\n",
        "axes[0].set_title('MDE')\n",
        "sns.heatmap(mdes, ax=axes[0])\n",
        "\n",
        "axes[1].set_title('Размер выборки')\n",
        "sns.heatmap(sample_sizes, ax=axes[1])\n",
        "\n",
        "for i in [0, 1]:\n",
        "    axes[i].set_yticks(ticks)\n",
        "    axes[i].set_yticklabels(ticklabels)\n",
        "    axes[i].set_ylabel('Ошибка первого рода', fontsize=20)\n",
        "    axes[i].set_xticks(ticks)\n",
        "    axes[i].set_xticklabels(ticklabels)\n",
        "    axes[i].set_xlabel('Мощность', fontsize=20)\n",
        "\n",
        "plt.show()"
      ],
      "id": "v5K448i8rLVG"
    },
    {
      "cell_type": "markdown",
      "source": [
        "Опишите наблюдаемые зависимости."
      ],
      "metadata": {
        "id": "QLTNuanAxoYE"
      },
      "id": "QLTNuanAxoYE"
    },
    {
      "cell_type": "markdown",
      "metadata": {
        "id": "aAA7cqPnrLVG"
      },
      "source": [
        "**Вывод:**"
      ],
      "id": "aAA7cqPnrLVG"
    },
    {
      "cell_type": "markdown",
      "metadata": {
        "id": "6rzqpuEerLVG"
      },
      "source": [
        "### 2. Планирование эксперимента"
      ],
      "id": "6rzqpuEerLVG"
    },
    {
      "cell_type": "markdown",
      "metadata": {
        "id": "igs3YsssrLVG"
      },
      "source": [
        "Перед непосредственным проведением эксперимента используемый критерий необходимо зафиксировать. Если для ошибки первого рода обычно берется значение $0.05$, дисперсия зависит от природы выборок, то величины других параметров нуждаются в подборе. Для этого подойдет следующая таблица:\n",
        "- по строкам отложены значения детектируемого эффекта\n",
        "- по столбцам отложены значения мощности\n",
        "- в ячейках находятся расчитанные размеры выборок, соответствующие заданным MDE и мощности\n",
        "\n",
        "Теперь для выбора значений нужно понять размен между этими величинами. Например, насколько большую выборку бизнес может себе позволить: сколько пользователей могут участовать в AB-тестировании и как долго. MDE также необходимо выбирать исходя из практической значимости эксперимента.\n",
        "\n",
        "Для примера рассмотрим построение подобной таблицы для $\\alpha=0.05$ и $\\sigma_X = \\sigma_Y = 1$:"
      ],
      "id": "igs3YsssrLVG"
    },
    {
      "cell_type": "code",
      "execution_count": null,
      "metadata": {
        "ExecuteTime": {
          "end_time": "2023-03-04T06:53:56.710359Z",
          "start_time": "2023-03-04T06:53:56.707598Z"
        },
        "id": "Ml79jRiIrLVH"
      },
      "outputs": [],
      "source": [
        "mde_grid = np.arange(0.01, 0.1, 0.01).reshape(-1, 1)\n",
        "beta_grid = np.arange(0.1, 1, 0.1)"
      ],
      "id": "Ml79jRiIrLVH"
    },
    {
      "cell_type": "code",
      "execution_count": null,
      "metadata": {
        "ExecuteTime": {
          "end_time": "2023-03-04T06:53:56.736070Z",
          "start_time": "2023-03-04T06:53:56.711770Z"
        },
        "id": "SpmTvTT-rLVH"
      },
      "outputs": [],
      "source": [
        "sample_sizes = get_sample_size(alpha, beta_grid, mde_grid, var_x)\n",
        "df = pd.DataFrame(sample_sizes, columns=beta_grid.reshape(-1), index=mde_grid.reshape(-1))\n",
        "df.columns.name = 'beta'\n",
        "df.index.name = 'mde'\n",
        "\n",
        "df"
      ],
      "id": "SpmTvTT-rLVH"
    },
    {
      "cell_type": "markdown",
      "metadata": {
        "id": "taO3rptxrLVH"
      },
      "source": [
        "Теперь попробуем провести эксперимент. Допустим мы хотим иметь $MDE=0.05$ и мощность $\\beta=0.8$. Оцените какой размер выборки нам необходимо взять?"
      ],
      "id": "taO3rptxrLVH"
    },
    {
      "cell_type": "code",
      "execution_count": null,
      "metadata": {
        "ExecuteTime": {
          "end_time": "2023-03-04T06:53:56.746616Z",
          "start_time": "2023-03-04T06:53:56.738154Z"
        },
        "id": "d6P8jnUorLVH"
      },
      "outputs": [],
      "source": [
        "mde = 0.05\n",
        "beta = 0.8\n",
        "\n",
        "sample_size = # ваш код\n",
        "print(f'Нужно взять выборку размера {sample_size}')"
      ],
      "id": "d6P8jnUorLVH"
    },
    {
      "cell_type": "markdown",
      "metadata": {
        "id": "ZN0Mj3GRrLVH"
      },
      "source": [
        "Посмотрим, как ведет себя мощность критерия в зависимости от реального эффекта. Для этого расчитаем константу критерия\n",
        "\n",
        "$$\n",
        "c_\\alpha = Z_{1-\\alpha}\\cdot\\sqrt{\\frac{2\\sigma_X^2}{n}}\n",
        "$$"
      ],
      "id": "ZN0Mj3GRrLVH"
    },
    {
      "cell_type": "code",
      "execution_count": null,
      "metadata": {
        "ExecuteTime": {
          "end_time": "2023-03-04T06:53:56.751989Z",
          "start_time": "2023-03-04T06:53:56.748769Z"
        },
        "id": "JTWonXSd3JSw"
      },
      "outputs": [],
      "source": [
        "c_alpha = # ваш код"
      ],
      "id": "JTWonXSd3JSw"
    },
    {
      "cell_type": "markdown",
      "metadata": {
        "id": "E6IuOaVI3JSx"
      },
      "source": [
        "Далее будем оценивать мощность как долю отверженных гипотез на случайных запусках. Для этого сгенерируйте две выборки (контрольную и тестовую со смещением) из нормального распределения размера `(iters_count, sample_size)`, усредните каждую из них по `axis=1`, посчитайте разность между получившимися средними и сравните с константой критерия. Посчитайте долю отвержения. Повторите для нескольких значений смещения и постройте график мощности от смещения (эффекта)."
      ],
      "id": "E6IuOaVI3JSx"
    },
    {
      "cell_type": "code",
      "source": [
        "real_effect_grid = np.arange(-0.1, 0.3, 0.01) # смещение\n",
        "iters_count = 10_000"
      ],
      "metadata": {
        "id": "xWsI_ER-1Vx2"
      },
      "execution_count": null,
      "outputs": [],
      "id": "xWsI_ER-1Vx2"
    },
    {
      "cell_type": "code",
      "execution_count": null,
      "metadata": {
        "ExecuteTime": {
          "end_time": "2023-03-04T06:57:13.184511Z",
          "start_time": "2023-03-04T06:53:56.753510Z"
        },
        "id": "ZRCGLvG83JSy"
      },
      "outputs": [],
      "source": [
        "power = []\n",
        "for real_effect in tqdm(real_effect_grid):\n",
        "    # сгенерирйте выборки\n",
        "    control_sample =\n",
        "    test_sample =\n",
        "\n",
        "    # найдите среднее\n",
        "    test_sample_mean =\n",
        "    control_sample_mean =\n",
        "\n",
        "    # посчитайте долю отвержения\n",
        "    reject =\n",
        "\n",
        "    power.append(reject)"
      ],
      "id": "ZRCGLvG83JSy"
    },
    {
      "cell_type": "code",
      "execution_count": null,
      "metadata": {
        "ExecuteTime": {
          "end_time": "2023-03-04T06:57:13.519702Z",
          "start_time": "2023-03-04T06:57:13.186007Z"
        },
        "id": "_8ir3LJg3JSz"
      },
      "outputs": [],
      "source": [
        "plt.figure(figsize=(10, 7))\n",
        "\n",
        "# ваш код\n",
        "\n",
        "plt.hlines(\n",
        "    beta, real_effect_grid.min(), real_effect_grid.max(),\n",
        "    color='red', label='Теоретические'\n",
        ")\n",
        "\n",
        "plt.xlabel('Реальный эффект', fontsize=20)\n",
        "plt.ylabel('Реальная мощность', fontsize=20)\n",
        "\n",
        "plt.legend()\n",
        "plt.show()"
      ],
      "id": "_8ir3LJg3JSz"
    },
    {
      "cell_type": "markdown",
      "source": [
        "**Вывод:**"
      ],
      "metadata": {
        "id": "wPHwjiQk3TLu"
      },
      "id": "wPHwjiQk3TLu"
    }
  ],
  "metadata": {
    "kernelspec": {
      "display_name": "Python 3",
      "language": "python",
      "name": "python3"
    },
    "language_info": {
      "codemirror_mode": {
        "name": "ipython",
        "version": 3
      },
      "file_extension": ".py",
      "mimetype": "text/x-python",
      "name": "python",
      "nbconvert_exporter": "python",
      "pygments_lexer": "ipython3",
      "version": "3.8.10"
    },
    "colab": {
      "provenance": [],
      "collapsed_sections": [
        "vmjKgqGKNAej",
        "cJIHLupaTqIT",
        "NGtyE7cTgb6I",
        "Sw5EfTajgfVP",
        "G_QYYsEnfkK2"
      ]
    }
  },
  "nbformat": 4,
  "nbformat_minor": 5
}