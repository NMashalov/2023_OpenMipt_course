{
  "cells": [
    {
      "cell_type": "markdown",
      "id": "g5KgUOcwrLU8",
      "metadata": {
        "id": "g5KgUOcwrLU8"
      },
      "source": [
        "# Минимальный детектируемый эффект"
      ]
    },
    {
      "cell_type": "markdown",
      "id": "vmjKgqGKNAej",
      "metadata": {
        "id": "vmjKgqGKNAej"
      },
      "source": [
        "## Теория"
      ]
    },
    {
      "cell_type": "markdown",
      "id": "cJIHLupaTqIT",
      "metadata": {
        "id": "cJIHLupaTqIT"
      },
      "source": [
        "### Введение"
      ]
    },
    {
      "cell_type": "markdown",
      "id": "yl34PXfENSTL",
      "metadata": {
        "id": "yl34PXfENSTL"
      },
      "source": [
        "**MDE** := Minimum Detectable Effect\n",
        "\n",
        "Обозначения:\n",
        "*   $\\alpha$ &mdash; уровень значимости,\n",
        "*   $\\beta$ &mdash; мощность,\n",
        "*   $n$ &mdash; размер группы,\n",
        "*   $\\varepsilon$ &mdash; величина эффекта.\n",
        "\n",
        "При дизайне эксперимента:\n",
        "1.   Задано: $\\alpha, \\beta, n \\implies$ Какой минимальный эффект $\\varepsilon$ можем задетектировать?\n",
        "2.   Задано: $\\alpha, \\beta, \\varepsilon \\implies$ Какой минимальный размер групп нам необходим?\n",
        "\n",
        "\n",
        "\n"
      ]
    },
    {
      "cell_type": "markdown",
      "id": "NGtyE7cTgb6I",
      "metadata": {
        "id": "NGtyE7cTgb6I"
      },
      "source": [
        "### Что в основе\n"
      ]
    },
    {
      "cell_type": "markdown",
      "id": "JSI-Oj2uP2CH",
      "metadata": {
        "id": "JSI-Oj2uP2CH"
      },
      "source": [
        "$X_1...X_n$ &mdash; выборка  с параметрами $\\mathsf{E} X_i = a_1$, $\\mathsf{D} X_i = \\sigma_1^2$\n",
        "\n",
        "$Y_1...Y_m$ &mdash; выборка с параметрами $\\mathsf{E} Y_i = a_2$, $\\mathsf{D} Y_i = \\sigma_2^2$\n",
        "\n",
        "---\n",
        "Гипотезы:\n",
        "$\\mathsf{H}_0\\colon a_1 = a_2\\ \\ vs.\\ \\ \\mathsf{H}_1\\colon a_1 > a_2$\\\n",
        "Статистика:\n",
        "$T(\\overline{X}, \\overline{Y}) = f\\left(\\overline{X} - \\overline{Y}\\right)$\\\n",
        "Критерий: $S = \\{T(\\overline{X}, \\overline{Y}) > z_{1-\\alpha}\\}$.\n",
        "\n",
        "\n",
        "\n",
        "При справедливости $\\mathsf{H}_0$ получаем\\\n",
        "$$\n",
        "    T(\\overline{X}, \\overline{Y}) = \\frac{\\overline{X} - \\overline{Y}}{\\sqrt{\\frac{\\sigma_1^2}{n} + \\frac{\\sigma_2^2}{m}}} \\stackrel{\\mathsf{H}_0}{\\approx} \\mathcal{N}(0, 1)\n",
        "$$\n"
      ]
    },
    {
      "cell_type": "markdown",
      "id": "Sw5EfTajgfVP",
      "metadata": {
        "id": "Sw5EfTajgfVP"
      },
      "source": [
        "### Случай наличия эффекта\n"
      ]
    },
    {
      "cell_type": "markdown",
      "id": "4_mJWr86eVME",
      "metadata": {
        "id": "4_mJWr86eVME"
      },
      "source": [
        "$X_1...X_n$ &mdash; выборка   $\\mathsf{E}X_i = a_1$,\n",
        "$\\mathsf{D}X_i = \\sigma_1^2$\\\n",
        "$Y_1...Y_m$ &mdash; выборка   $\\mathsf{E}Y_i = a_2$,\n",
        "$\\mathsf{D}Y_i = \\sigma_2^2$\n",
        "\n",
        "Гипотезы:\n",
        "$\\mathsf{H}_0\\colon a_1 = a_2\\  vs.\\ \\ \\mathsf{H}_1\\colon a_1 > a_2$\n",
        "\n",
        "---\n",
        "\n",
        "Пусть $\\varepsilon = (a_1 - a_2)$ &mdash; эффект.\\\n",
        "$$\n",
        "    \\overline{X} - \\overline{Y} \\stackrel{\\mathsf{H}_1}{\\approx} \\mathcal{N}\\left(\\varepsilon, \\frac{\\sigma_1^2}{n} + \\frac{\\sigma_2^2}{m}\\right)\n",
        "$$.\\\n",
        "Тогда из условий на уровень значимости и мощность:\n",
        "$$\n",
        "    \\varepsilon \\ge \\left( z_{1-\\alpha} + z_{\\beta}\\right) \\sqrt{\\frac{\\sigma_1^2}{n} + \\frac{\\sigma_2^2}{m}} \\stackrel{n=m}{=}\\left( z_{1-\\alpha} + z_{\\beta}\\right) \\sqrt{\\frac{\\sigma_1^2 +\\sigma_2^2}{n}}\n",
        "$$"
      ]
    },
    {
      "cell_type": "markdown",
      "id": "G_QYYsEnfkK2",
      "metadata": {
        "id": "G_QYYsEnfkK2"
      },
      "source": [
        "### Итоговый ответ\n"
      ]
    },
    {
      "cell_type": "markdown",
      "id": "H03dDt10gjDs",
      "metadata": {
        "id": "H03dDt10gjDs"
      },
      "source": [
        "$$\\varepsilon_{min} = MDE = \\left( z_{1-\\alpha} + z_{\\beta}\\right) \\sqrt{\\frac{\\sigma_1^2 +\\sigma_2^2}{n}}$$  \n",
        "  \n",
        "\n",
        "\n",
        "$$n = \\left( z_{1-\\alpha} + z_{\\beta}\\right)^2 \\frac{\\sigma_1^2 +\\sigma_2^2}{\\varepsilon^2}$$"
      ]
    },
    {
      "cell_type": "markdown",
      "id": "FGcRM85Zq5SL",
      "metadata": {
        "id": "FGcRM85Zq5SL"
      },
      "source": [
        "## Практика"
      ]
    },
    {
      "cell_type": "code",
      "execution_count": 3,
      "id": "F65FzFwYrLVA",
      "metadata": {
        "ExecuteTime": {
          "end_time": "2023-03-04T06:53:53.315886Z",
          "start_time": "2023-03-04T06:53:51.706895Z"
        },
        "id": "F65FzFwYrLVA"
      },
      "outputs": [
        {
          "ename": "ModuleNotFoundError",
          "evalue": "No module named 'scipy'",
          "output_type": "error",
          "traceback": [
            "\u001b[1;31m---------------------------------------------------------------------------\u001b[0m",
            "\u001b[1;31mModuleNotFoundError\u001b[0m                       Traceback (most recent call last)",
            "\u001b[1;32mc:\\Users\\bug\\2023_mipt_nn_course\\lesson11\\mde_student.ipynb Cell 12\u001b[0m line \u001b[0;36m7\n\u001b[0;32m      <a href='vscode-notebook-cell:/c%3A/Users/bug/2023_mipt_nn_course/lesson11/mde_student.ipynb#X14sZmlsZQ%3D%3D?line=2'>3</a>\u001b[0m \u001b[39m# import seaborn as sns\u001b[39;00m\n\u001b[0;32m      <a href='vscode-notebook-cell:/c%3A/Users/bug/2023_mipt_nn_course/lesson11/mde_student.ipynb#X14sZmlsZQ%3D%3D?line=3'>4</a>\u001b[0m \u001b[39m# from tqdm import tqdm\u001b[39;00m\n\u001b[0;32m      <a href='vscode-notebook-cell:/c%3A/Users/bug/2023_mipt_nn_course/lesson11/mde_student.ipynb#X14sZmlsZQ%3D%3D?line=5'>6</a>\u001b[0m \u001b[39mimport\u001b[39;00m \u001b[39mmatplotlib\u001b[39;00m\u001b[39m.\u001b[39;00m\u001b[39mpyplot\u001b[39;00m \u001b[39mas\u001b[39;00m \u001b[39mplt\u001b[39;00m\n\u001b[1;32m----> <a href='vscode-notebook-cell:/c%3A/Users/bug/2023_mipt_nn_course/lesson11/mde_student.ipynb#X14sZmlsZQ%3D%3D?line=6'>7</a>\u001b[0m \u001b[39mimport\u001b[39;00m \u001b[39mscipy\u001b[39;00m\u001b[39m.\u001b[39;00m\u001b[39mstats\u001b[39;00m \u001b[39mas\u001b[39;00m \u001b[39msps\u001b[39;00m\n\u001b[0;32m      <a href='vscode-notebook-cell:/c%3A/Users/bug/2023_mipt_nn_course/lesson11/mde_student.ipynb#X14sZmlsZQ%3D%3D?line=8'>9</a>\u001b[0m \u001b[39m# sns.set_style(\"darkgrid\")\u001b[39;00m\n\u001b[0;32m     <a href='vscode-notebook-cell:/c%3A/Users/bug/2023_mipt_nn_course/lesson11/mde_student.ipynb#X14sZmlsZQ%3D%3D?line=9'>10</a>\u001b[0m \u001b[39m# sns.set(palette='Set2', font_scale=1.5)\u001b[39;00m\n",
            "\u001b[1;31mModuleNotFoundError\u001b[0m: No module named 'scipy'"
          ]
        }
      ],
      "source": [
        "import numpy as np\n",
        "import pandas as pd\n",
        "# import seaborn as sns\n",
        "# from tqdm import tqdm\n",
        "\n",
        "import matplotlib.pyplot as plt\n",
        "#import scipy.stats as sps\n",
        "\n",
        "# sns.set_style(\"darkgrid\")\n",
        "# sns.set(palette='Set2', font_scale=1.5)"
      ]
    },
    {
      "cell_type": "markdown",
      "id": "4BsFvoaHrLVB",
      "metadata": {
        "id": "4BsFvoaHrLVB"
      },
      "source": [
        "### 1. Визуализация теоретических зависимостей"
      ]
    },
    {
      "cell_type": "markdown",
      "id": "Ds4_4bsJuIdg",
      "metadata": {
        "id": "Ds4_4bsJuIdg"
      },
      "source": [
        "MDE &mdash; это наименьший истинный эффект полученный от изменений, который с уверенностью сможет обнаружить статистический критерий. Формула расчёта MDE зависит от выбранного критерия, в нашем случае она будет следующей:\n",
        "\n",
        "$$\n",
        "\\text{MDE}=(Z_{1-\\alpha}+Z_{\\beta})\\cdot\\sqrt{\\frac{\\sigma_X^2+\\sigma_Y^2}{n}}\n",
        "$$\n",
        "\n",
        "где $Z_{1-\\alpha}$ и $Z_{\\beta}$ - соответствующие квантили нормального распределения, $n$ - размер выборки, $\\sigma_X^2$ и $\\sigma_Y^2$ - дисперсии."
      ]
    },
    {
      "cell_type": "markdown",
      "id": "PsBzInWRwOOO",
      "metadata": {
        "id": "PsBzInWRwOOO"
      },
      "source": [
        "Также можно совершить обратную операцию: зная требуемое значение эфекта, получить необходимый размер выборки по следующей формуле:\n",
        "\n",
        "$$\n",
        "n = (Z_{1-\\alpha}+Z_{\\beta})^2\\cdot\\frac{\\sigma_X^2+\\sigma_Y^2}{\\varepsilon^2}\n",
        "$$"
      ]
    },
    {
      "cell_type": "markdown",
      "id": "Pi0SPzP4rLVC",
      "metadata": {
        "id": "Pi0SPzP4rLVC"
      },
      "source": [
        "Рассмотрим зависимости формул MDE и размера выборки от дисперсии, желаемых ошибки первого рода и мощности критерия. Для начала зафиксируем значения переменных."
      ]
    },
    {
      "cell_type": "code",
      "execution_count": 4,
      "id": "atpHqClhrLVC",
      "metadata": {
        "ExecuteTime": {
          "end_time": "2023-03-04T06:53:53.320705Z",
          "start_time": "2023-03-04T06:53:53.317693Z"
        },
        "id": "atpHqClhrLVC"
      },
      "outputs": [],
      "source": [
        "var_x = var_y = 1  # Дисперсии выборок\n",
        "sample_size = 100  # Размер выборки\n",
        "effect = 0.1  # Размер эффекта\n",
        "alpha = 0.05  # Уровень значимости\n",
        "betas = np.array([0.4, 0.6, 0.8, 0.99]).reshape(-1, 1)  # Значения мощности"
      ]
    },
    {
      "cell_type": "markdown",
      "id": "MhN6bvLRrLVC",
      "metadata": {
        "id": "MhN6bvLRrLVC"
      },
      "source": [
        "Реализуем функции подбора размера выборки и расчета MDE в соответствии с выведенными формулами"
      ]
    },
    {
      "cell_type": "code",
      "execution_count": 5,
      "id": "BCTM7m_erLVC",
      "metadata": {
        "ExecuteTime": {
          "end_time": "2023-03-04T06:53:53.331675Z",
          "start_time": "2023-03-04T06:53:53.322450Z"
        },
        "id": "BCTM7m_erLVC"
      },
      "outputs": [],
      "source": [
        "def get_mde(alpha, beta, sample_size, var_x, var_y=var_x):\n",
        "    '''Расчитывает MDE\n",
        "\n",
        "    :param alpha: желаемая ошибка первого рода\n",
        "    :param beta: желаемая мощность\n",
        "    :param sample_size: размер выборок\n",
        "    :param var_x, var_y: дисперсии выборок\n",
        "    :returns: теоретический MDE\n",
        "    '''\n",
        "\n",
        "    q_sum = sps.norm.ppf(1 - alpha) + sps.norm.ppf(beta)\n",
        "    return q_sum / np.sqrt(sample_size) * np.sqrt(var_x + var_y)"
      ]
    },
    {
      "cell_type": "code",
      "execution_count": null,
      "id": "-o67r7jPrLVC",
      "metadata": {
        "ExecuteTime": {
          "end_time": "2023-03-04T06:53:53.344592Z",
          "start_time": "2023-03-04T06:53:53.333506Z"
        },
        "id": "-o67r7jPrLVC"
      },
      "outputs": [],
      "source": [
        "def get_sample_size(alpha, beta, mde, var_x, var_y=var_x):\n",
        "    '''Расчитывает размер выборки для детектирование MDE\n",
        "\n",
        "    :param alpha: желаемая ошибка первого рода\n",
        "    :param beta: желаемая мощность\n",
        "    :param mde: необходимый эффект\n",
        "    :param var_x, var_y: дисперсии выборок\n",
        "    :returns: необходимый размер выборки\n",
        "    '''\n",
        "\n",
        "    q_sum = sps.norm.ppf(1 - alpha) + sps.norm.ppf(beta)\n",
        "    return np.ceil((q_sum ** 2) * (var_x + var_y) / (mde * mde)).astype(int)"
      ]
    },
    {
      "cell_type": "markdown",
      "id": "iRd_SjDCrLVD",
      "metadata": {
        "id": "iRd_SjDCrLVD"
      },
      "source": [
        "Также сделаем вспомогательную функцию для визуализации результатов"
      ]
    },
    {
      "cell_type": "code",
      "execution_count": null,
      "id": "OeIQIrOprLVD",
      "metadata": {
        "ExecuteTime": {
          "end_time": "2023-03-04T06:53:53.366187Z",
          "start_time": "2023-03-04T06:53:53.348465Z"
        },
        "id": "OeIQIrOprLVD"
      },
      "outputs": [],
      "source": [
        "def plot(grid, mdes, sample_sizes, title='', third_dimension=None, label=''):\n",
        "    ''' Строит графики MDE и размера выборки по сетке значений. '''\n",
        "\n",
        "    _, axes = plt.subplots(1, 2, figsize=(20, 8))\n",
        "\n",
        "    plt.suptitle(title, fontsize=20)\n",
        "\n",
        "    if third_dimension is not None:\n",
        "        for mde, sample_size, third in zip(mdes, sample_sizes, third_dimension):\n",
        "            axes[0].plot(grid.reshape(-1), mde, lw=5, label=f'{label} = {third[0]}')\n",
        "            axes[0].legend()\n",
        "            axes[1].plot(grid.reshape(-1), sample_size, lw=5)\n",
        "    else:\n",
        "        axes[0].plot(grid.reshape(-1), mdes, lw=5)\n",
        "        axes[1].plot(grid.reshape(-1), sample_sizes, lw=5)\n",
        "\n",
        "\n",
        "    axes[0].set_title('MDE')\n",
        "    axes[0].set_xlabel(title, fontsize=20)\n",
        "    axes[1].set_title('Размер выборки')\n",
        "    axes[1].set_xlabel(title, fontsize=20)\n",
        "\n",
        "    plt.show()"
      ]
    },
    {
      "cell_type": "markdown",
      "id": "VVZcbRztrLVD",
      "metadata": {
        "id": "VVZcbRztrLVD"
      },
      "source": [
        "Будем исследовать зависимости следующим образом: зафиксируем все параметы эксперимента, кроме одного. Для этого выбранного параметра расчитаем формулы в срезе по разным мощностям\n",
        "\n",
        "*Зависимость от дисперсии*"
      ]
    },
    {
      "cell_type": "code",
      "execution_count": null,
      "id": "zQ3uHKcTrLVD",
      "metadata": {
        "ExecuteTime": {
          "end_time": "2023-03-04T06:53:54.036274Z",
          "start_time": "2023-03-04T06:53:53.368867Z"
        },
        "id": "zQ3uHKcTrLVD"
      },
      "outputs": [],
      "source": [
        "var_x_grid = np.arange(0.1, 10, 0.01).reshape(1, -1)\n",
        "\n",
        "plot(\n",
        "    var_x_grid,\n",
        "    get_mde(alpha, betas, sample_size, var_x_grid),\n",
        "    get_sample_size(alpha, betas, effect, var_x_grid),\n",
        "    title='Дисперсия',\n",
        "    third_dimension=betas,\n",
        "    label='Мощность'\n",
        ")"
      ]
    },
    {
      "cell_type": "markdown",
      "id": "4aLrKvmTrLVE",
      "metadata": {
        "id": "4aLrKvmTrLVE"
      },
      "source": [
        "*Зависимость от ошибки 1 рода*"
      ]
    },
    {
      "cell_type": "code",
      "execution_count": null,
      "id": "BCjTwnYmrLVE",
      "metadata": {
        "ExecuteTime": {
          "end_time": "2023-03-04T06:53:54.664434Z",
          "start_time": "2023-03-04T06:53:54.037985Z"
        },
        "id": "BCjTwnYmrLVE"
      },
      "outputs": [],
      "source": [
        "alpha_grid = np.arange(1e-4, 0.5, 1e-5)\n",
        "\n",
        "plot(\n",
        "    alpha_grid,\n",
        "    get_mde(alpha_grid, betas, sample_size, var_x),\n",
        "    get_sample_size(alpha_grid, betas, effect, var_x),\n",
        "    title='Ошибка первого рода',\n",
        "    third_dimension=betas,\n",
        "    label='Мощность'\n",
        ")"
      ]
    },
    {
      "cell_type": "markdown",
      "id": "2mUKl-u7rLVF",
      "metadata": {
        "id": "2mUKl-u7rLVF"
      },
      "source": [
        "*Зависимость от мощности*"
      ]
    },
    {
      "cell_type": "code",
      "execution_count": null,
      "id": "rK2h5GmjrLVF",
      "metadata": {
        "ExecuteTime": {
          "end_time": "2023-03-04T06:53:55.160702Z",
          "start_time": "2023-03-04T06:53:54.668655Z"
        },
        "id": "rK2h5GmjrLVF"
      },
      "outputs": [],
      "source": [
        "beta_grid = np.arange(1e-2, 1, 1e-5)\n",
        "\n",
        "plot(\n",
        "    beta_grid,\n",
        "    get_mde(alpha, beta_grid, sample_size, var_x),\n",
        "    get_sample_size(alpha, beta_grid, effect, var_x),\n",
        "    title='Мощность',\n",
        ")"
      ]
    },
    {
      "cell_type": "markdown",
      "id": "3pUbzCYGrLVF",
      "metadata": {
        "id": "3pUbzCYGrLVF"
      },
      "source": [
        "*Зависимость MDE и размера выборки*"
      ]
    },
    {
      "cell_type": "code",
      "execution_count": null,
      "id": "IV1T1Cq7rLVF",
      "metadata": {
        "ExecuteTime": {
          "end_time": "2023-03-04T06:53:55.667968Z",
          "start_time": "2023-03-04T06:53:55.162875Z"
        },
        "id": "IV1T1Cq7rLVF"
      },
      "outputs": [],
      "source": [
        "sample_size_grid = np.arange(10, 500, 10)\n",
        "effect_grid = np.arange(1e-2, 0.1, 1e-3)\n",
        "\n",
        "sample_sizes = get_sample_size(alpha, betas, effect_grid, var_x)\n",
        "mdes = get_mde(alpha, betas, sample_size_grid, var_x)\n",
        "\n",
        "third_dimension = betas\n",
        "\n",
        "_, axes = plt.subplots(1, 2, figsize=(20, 8))\n",
        "\n",
        "for mde, ss, third in zip(mdes, sample_sizes, third_dimension):\n",
        "    axes[0].plot(sample_size_grid.reshape(-1), mde, lw=3, label=f'Мощность = {third[0]}')\n",
        "    axes[0].legend()\n",
        "    axes[1].plot(effect_grid.reshape(-1), ss, lw=3)\n",
        "\n",
        "\n",
        "axes[0].set_title('MDE')\n",
        "axes[0].set_xlabel('Размер выборки')\n",
        "axes[1].set_title('Размер выборки')\n",
        "axes[1].set_xlabel('MDE')\n",
        "\n",
        "plt.show()"
      ]
    },
    {
      "cell_type": "markdown",
      "id": "ot7jd5g2rLVG",
      "metadata": {
        "id": "ot7jd5g2rLVG"
      },
      "source": [
        "Теперь рассмотрим парную зависимость, а именно, как мощность и ошибка первого рода совместно влияют на MDE и размер выборки."
      ]
    },
    {
      "cell_type": "code",
      "execution_count": null,
      "id": "YmvC5OQArLVG",
      "metadata": {
        "ExecuteTime": {
          "end_time": "2023-03-04T06:53:55.673804Z",
          "start_time": "2023-03-04T06:53:55.669405Z"
        },
        "id": "YmvC5OQArLVG"
      },
      "outputs": [],
      "source": [
        "alpha_grid = np.arange(1e-2, 1, 1e-2).reshape(-1, 1)\n",
        "beta_grid = np.arange(1e-2, 1, 1e-2)\n",
        "\n",
        "mdes = get_mde(alpha_grid, beta_grid, sample_size, var_x)\n",
        "sample_sizes = get_sample_size(alpha_grid, beta_grid, effect, var_x)"
      ]
    },
    {
      "cell_type": "code",
      "execution_count": null,
      "id": "v5K448i8rLVG",
      "metadata": {
        "ExecuteTime": {
          "end_time": "2023-03-04T06:53:56.706308Z",
          "start_time": "2023-03-04T06:53:55.675133Z"
        },
        "id": "v5K448i8rLVG"
      },
      "outputs": [],
      "source": [
        "_, axes = plt.subplots(1, 2, figsize=(25, 10))\n",
        "\n",
        "ticks = [0, 20, 40, 60, 80, 99]\n",
        "ticklabels = alpha_grid.round(2).reshape(-1).tolist()[::20] + [alpha_grid[-1][0]]\n",
        "\n",
        "axes[0].set_title('MDE')\n",
        "sns.heatmap(mdes, ax=axes[0])\n",
        "\n",
        "axes[1].set_title('Размер выборки')\n",
        "sns.heatmap(sample_sizes, ax=axes[1])\n",
        "\n",
        "for i in [0, 1]:\n",
        "    axes[i].set_yticks(ticks)\n",
        "    axes[i].set_yticklabels(ticklabels)\n",
        "    axes[i].set_ylabel('Ошибка первого рода', fontsize=20)\n",
        "    axes[i].set_xticks(ticks)\n",
        "    axes[i].set_xticklabels(ticklabels)\n",
        "    axes[i].set_xlabel('Мощность', fontsize=20)\n",
        "\n",
        "plt.show()"
      ]
    },
    {
      "cell_type": "markdown",
      "id": "QLTNuanAxoYE",
      "metadata": {
        "id": "QLTNuanAxoYE"
      },
      "source": [
        "Опишите наблюдаемые зависимости."
      ]
    },
    {
      "cell_type": "markdown",
      "id": "aAA7cqPnrLVG",
      "metadata": {
        "id": "aAA7cqPnrLVG"
      },
      "source": [
        "**Вывод:**"
      ]
    },
    {
      "cell_type": "markdown",
      "id": "6rzqpuEerLVG",
      "metadata": {
        "id": "6rzqpuEerLVG"
      },
      "source": [
        "### 2. Планирование эксперимента"
      ]
    },
    {
      "cell_type": "markdown",
      "id": "igs3YsssrLVG",
      "metadata": {
        "id": "igs3YsssrLVG"
      },
      "source": [
        "Перед непосредственным проведением эксперимента используемый критерий необходимо зафиксировать. Если для ошибки первого рода обычно берется значение $0.05$, дисперсия зависит от природы выборок, то величины других параметров нуждаются в подборе. Для этого подойдет следующая таблица:\n",
        "- по строкам отложены значения детектируемого эффекта\n",
        "- по столбцам отложены значения мощности\n",
        "- в ячейках находятся расчитанные размеры выборок, соответствующие заданным MDE и мощности\n",
        "\n",
        "Теперь для выбора значений нужно понять размен между этими величинами. Например, насколько большую выборку бизнес может себе позволить: сколько пользователей могут участовать в AB-тестировании и как долго. MDE также необходимо выбирать исходя из практической значимости эксперимента.\n",
        "\n",
        "Для примера рассмотрим построение подобной таблицы для $\\alpha=0.05$ и $\\sigma_X = \\sigma_Y = 1$:"
      ]
    },
    {
      "cell_type": "code",
      "execution_count": null,
      "id": "Ml79jRiIrLVH",
      "metadata": {
        "ExecuteTime": {
          "end_time": "2023-03-04T06:53:56.710359Z",
          "start_time": "2023-03-04T06:53:56.707598Z"
        },
        "id": "Ml79jRiIrLVH"
      },
      "outputs": [],
      "source": [
        "mde_grid = np.arange(0.01, 0.1, 0.01).reshape(-1, 1)\n",
        "beta_grid = np.arange(0.1, 1, 0.1)"
      ]
    },
    {
      "cell_type": "code",
      "execution_count": null,
      "id": "SpmTvTT-rLVH",
      "metadata": {
        "ExecuteTime": {
          "end_time": "2023-03-04T06:53:56.736070Z",
          "start_time": "2023-03-04T06:53:56.711770Z"
        },
        "id": "SpmTvTT-rLVH"
      },
      "outputs": [],
      "source": [
        "sample_sizes = get_sample_size(alpha, beta_grid, mde_grid, var_x)\n",
        "df = pd.DataFrame(sample_sizes, columns=beta_grid.reshape(-1), index=mde_grid.reshape(-1))\n",
        "df.columns.name = 'beta'\n",
        "df.index.name = 'mde'\n",
        "\n",
        "df"
      ]
    },
    {
      "cell_type": "markdown",
      "id": "taO3rptxrLVH",
      "metadata": {
        "id": "taO3rptxrLVH"
      },
      "source": [
        "Теперь попробуем провести эксперимент. Допустим мы хотим иметь $MDE=0.05$ и мощность $\\beta=0.8$. Оцените какой размер выборки нам необходимо взять?"
      ]
    },
    {
      "cell_type": "code",
      "execution_count": null,
      "id": "d6P8jnUorLVH",
      "metadata": {
        "ExecuteTime": {
          "end_time": "2023-03-04T06:53:56.746616Z",
          "start_time": "2023-03-04T06:53:56.738154Z"
        },
        "id": "d6P8jnUorLVH"
      },
      "outputs": [],
      "source": [
        "mde = 0.05\n",
        "beta = 0.8\n",
        "\n",
        "sample_size = # ваш код\n",
        "print(f'Нужно взять выборку размера {sample_size}')"
      ]
    },
    {
      "cell_type": "markdown",
      "id": "ZN0Mj3GRrLVH",
      "metadata": {
        "id": "ZN0Mj3GRrLVH"
      },
      "source": [
        "Посмотрим, как ведет себя мощность критерия в зависимости от реального эффекта. Для этого расчитаем константу критерия\n",
        "\n",
        "$$\n",
        "c_\\alpha = Z_{1-\\alpha}\\cdot\\sqrt{\\frac{2\\sigma_X^2}{n}}\n",
        "$$"
      ]
    },
    {
      "cell_type": "code",
      "execution_count": null,
      "id": "JTWonXSd3JSw",
      "metadata": {
        "ExecuteTime": {
          "end_time": "2023-03-04T06:53:56.751989Z",
          "start_time": "2023-03-04T06:53:56.748769Z"
        },
        "id": "JTWonXSd3JSw"
      },
      "outputs": [],
      "source": [
        "c_alpha = # ваш код"
      ]
    },
    {
      "cell_type": "markdown",
      "id": "E6IuOaVI3JSx",
      "metadata": {
        "id": "E6IuOaVI3JSx"
      },
      "source": [
        "Далее будем оценивать мощность как долю отверженных гипотез на случайных запусках. Для этого сгенерируйте две выборки (контрольную и тестовую со смещением) из нормального распределения размера `(iters_count, sample_size)`, усредните каждую из них по `axis=1`, посчитайте разность между получившимися средними и сравните с константой критерия. Посчитайте долю отвержения. Повторите для нескольких значений смещения и постройте график мощности от смещения (эффекта)."
      ]
    },
    {
      "cell_type": "code",
      "execution_count": null,
      "id": "xWsI_ER-1Vx2",
      "metadata": {
        "id": "xWsI_ER-1Vx2"
      },
      "outputs": [],
      "source": [
        "real_effect_grid = np.arange(-0.1, 0.3, 0.01) # смещение\n",
        "iters_count = 10_000"
      ]
    },
    {
      "cell_type": "code",
      "execution_count": null,
      "id": "ZRCGLvG83JSy",
      "metadata": {
        "ExecuteTime": {
          "end_time": "2023-03-04T06:57:13.184511Z",
          "start_time": "2023-03-04T06:53:56.753510Z"
        },
        "id": "ZRCGLvG83JSy"
      },
      "outputs": [],
      "source": [
        "power = []\n",
        "for real_effect in tqdm(real_effect_grid):\n",
        "    # сгенерирйте выборки\n",
        "    control_sample =\n",
        "    test_sample =\n",
        "\n",
        "    # найдите среднее\n",
        "    test_sample_mean =\n",
        "    control_sample_mean =\n",
        "\n",
        "    # посчитайте долю отвержения\n",
        "    reject =\n",
        "\n",
        "    power.append(reject)"
      ]
    },
    {
      "cell_type": "code",
      "execution_count": null,
      "id": "_8ir3LJg3JSz",
      "metadata": {
        "ExecuteTime": {
          "end_time": "2023-03-04T06:57:13.519702Z",
          "start_time": "2023-03-04T06:57:13.186007Z"
        },
        "id": "_8ir3LJg3JSz"
      },
      "outputs": [],
      "source": [
        "plt.figure(figsize=(10, 7))\n",
        "\n",
        "# ваш код\n",
        "\n",
        "plt.hlines(\n",
        "    beta, real_effect_grid.min(), real_effect_grid.max(),\n",
        "    color='red', label='Теоретические'\n",
        ")\n",
        "\n",
        "plt.xlabel('Реальный эффект', fontsize=20)\n",
        "plt.ylabel('Реальная мощность', fontsize=20)\n",
        "\n",
        "plt.legend()\n",
        "plt.show()"
      ]
    },
    {
      "cell_type": "markdown",
      "id": "wPHwjiQk3TLu",
      "metadata": {
        "id": "wPHwjiQk3TLu"
      },
      "source": [
        "**Вывод:**"
      ]
    }
  ],
  "metadata": {
    "colab": {
      "collapsed_sections": [
        "vmjKgqGKNAej",
        "cJIHLupaTqIT",
        "NGtyE7cTgb6I",
        "Sw5EfTajgfVP",
        "G_QYYsEnfkK2"
      ],
      "provenance": []
    },
    "kernelspec": {
      "display_name": "Python 3",
      "language": "python",
      "name": "python3"
    },
    "language_info": {
      "codemirror_mode": {
        "name": "ipython",
        "version": 3
      },
      "file_extension": ".py",
      "mimetype": "text/x-python",
      "name": "python",
      "nbconvert_exporter": "python",
      "pygments_lexer": "ipython3",
      "version": "3.11.3"
    }
  },
  "nbformat": 4,
  "nbformat_minor": 5
}
