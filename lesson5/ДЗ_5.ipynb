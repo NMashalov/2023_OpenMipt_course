{
  "cells": [
    {
      "cell_type": "markdown",
      "metadata": {
        "id": "view-in-github",
        "colab_type": "text"
      },
      "source": [
        "<a href=\"https://colab.research.google.com/github/NMashalov/2023_OpenMipt_course/blob/main/lesson5/%D0%94%D0%97_5.ipynb\" target=\"_parent\"><img src=\"https://colab.research.google.com/assets/colab-badge.svg\" alt=\"Open In Colab\"/></a>"
      ]
    },
    {
      "cell_type": "markdown",
      "metadata": {
        "id": "l2ZEDW1D5ija"
      },
      "source": [
        "# <a href=\"https://miptstats.github.io/courses/ad_mipt.html\">Phystech@DataScience</a>\n",
        "## Домашнее задание 5\n",
        "\n",
        "**Правила, <font color=\"red\">прочитайте внимательно</font>:**\n",
        "\n",
        "* Выполненную работу нужно отправить телеграм-боту `@miptstats_pds_bot`. Для начала работы с ботом каждый раз отправляйте `/start`. **Работы, присланные иным способом, не принимаются.**\n",
        "* Дедлайн см. в боте. После дедлайна работы не принимаются кроме случаев наличия уважительной причины.\n",
        "* Прислать нужно ноутбук в формате `ipynb`.\n",
        "* Выполнять задание необходимо полностью самостоятельно. **При обнаружении списывания все участники списывания будут сдавать устный зачет.**\n",
        "* Решения, размещенные на каких-либо интернет-ресурсах, не принимаются. Кроме того, публикация решения в открытом доступе может быть приравнена к предоставлении возможности списать.\n",
        "* Для выполнения задания используйте этот ноутбук в качестве основы, ничего не удаляя из него. Можно добавлять необходимое количество ячеек.\n",
        "* Комментарии к решению пишите в markdown-ячейках.\n",
        "* Выполнение задания (ход решения, выводы и пр.) должно быть осуществлено на русском языке.\n",
        "* Если код будет не понятен проверяющему, оценка может быть снижена.\n",
        "* Никакой код из данного задания при проверке запускаться не будет. *Если код студента не выполнен, недописан и т.д., то он не оценивается.*\n",
        "* **Код из рассказанных на занятиях ноутбуков можно использовать без ограничений.**\n",
        "\n",
        "**Правила оформления теоретических задач:**\n",
        "\n",
        "* Решения необходимо прислать одним из следующих способов:\n",
        "  * фотографией в правильной ориентации, где все четко видно, а почерк разборчив,\n",
        "    * отправив ее как файл боту вместе с ноутбуком *или*\n",
        "    * вставив ее в ноутбук посредством `Edit -> Insert Image` (<font color=\"red\">фото, вставленные ссылкой, не принимаются</font>);\n",
        "  * в виде $\\LaTeX$ в markdown-ячейках.\n",
        "* Решения не проверяются, если какое-то требование не выполнено. Особенно внимательно все проверьте в случае выбора второго пункта (вставки фото в ноутбук). <font color=\"red\"><b>Неправильно вставленные фотографии могут не передаться при отправке.</b></font> Для проверки попробуйте переместить `ipynb` в другую папку и открыть его там.\n",
        "* В решениях поясняйте, чем вы пользуетесь, хотя бы кратко. Например, если пользуетесь независимостью, то достаточно подписи вида \"*X и Y незав.*\"\n",
        "* Решение, в котором есть только ответ, и отсутствуют вычисления, оценивается в 0 баллов.\n",
        "\n",
        "**Баллы за задание:**\n",
        "\n",
        "* Задача 1 &mdash;  60 баллов\n",
        "\n",
        "\n",
        "\n",
        "\n",
        "\n",
        "-----"
      ]
    },
    {
      "cell_type": "code",
      "execution_count": null,
      "metadata": {
        "id": "WDQahDqX5ijc"
      },
      "outputs": [],
      "source": [
        "# Bot check\n",
        "\n",
        "# HW_ID: phds_hw5\n",
        "# Бот проверит этот ID и предупредит, если случайно сдать что-то не то.\n",
        "\n",
        "# Status: not final\n",
        "# Перед отправкой в финальном решении удали \"not\" в строчке выше.\n",
        "# Так бот проверит, что ты отправляешь финальную версию, а не промежуточную.\n",
        "# Никакие значения в этой ячейке не влияют на факт сдачи работы."
      ]
    },
    {
      "cell_type": "code",
      "execution_count": 1,
      "metadata": {
        "id": "NHpn4H19pvM0"
      },
      "outputs": [],
      "source": [
        "import time\n",
        "from tqdm.notebook import tqdm\n",
        "from collections import defaultdict\n",
        "\n",
        "import numpy as np\n",
        "import pandas as pd\n",
        "import seaborn as sns\n",
        "import scipy.stats as sps\n",
        "import matplotlib.pyplot as plt\n",
        "from sklearn.model_selection import train_test_split\n",
        "from sklearn.metrics import mean_squared_error\n",
        "from sklearn.preprocessing import MinMaxScaler\n",
        "\n",
        "import torch\n",
        "from torch import nn\n",
        "from torch.utils.data import Dataset, TensorDataset, \\\n",
        "                             DataLoader, RandomSampler, SequentialSampler\n",
        "\n",
        "from IPython.display import clear_output\n",
        "from pylab import rcParams\n",
        "\n",
        "rcParams['figure.figsize'] = 15, 7\n",
        "%matplotlib inline\n",
        "\n",
        "sns.set(font_scale=1.3, palette='Set2')"
      ]
    },
    {
      "cell_type": "markdown",
      "metadata": {
        "id": "DZqaAnp0zNCr"
      },
      "source": [
        "#### **Профиль биология**\n",
        "\n",
        "### Загрузка данных\n",
        "В этом задании вы будете работать с данными о распространении COVID-19, их можно скачать [здесь](https://www.kaggle.com/datasets/gpreda/coronavirus-2019ncov). Мы будем предказывать показатель смертности, потому что способы измерения выздоровевших и заболевших разнятся между регионами.\n",
        "\n",
        " В данных представлены следующие столбцы:\n",
        "\n",
        "* `Country/Region` &mdash; страна или регион,\n",
        "\n",
        "* `Province/State` &mdash; город или населенный пункт,\n",
        "* `Latitude` &mdash; географическая широта,\n",
        "* `Longitude` &mdash; географическая долгота,\n",
        "* `Confirmed` &mdash; кол-во подтвержденных случаев заболевания,\n",
        "* `Recovered` &mdash; кол-во подтвержденных случаев выздоровления,\n",
        "* `Deaths` &mdash; кол-во смертей,\n",
        "* `Date` &mdash; дата."
      ]
    },
    {
      "cell_type": "markdown",
      "metadata": {
        "id": "FtLwptbG6Jq-"
      },
      "source": [
        "Выгрузите датасет."
      ]
    },
    {
      "cell_type": "code",
      "source": [
        "!pip install -q opendatasets"
      ],
      "metadata": {
        "colab": {
          "base_uri": "https://localhost:8080/"
        },
        "id": "Q-m_DpNm5x96",
        "outputId": "156c8b87-d174-4874-f8f5-ecb969e4c8f9"
      },
      "execution_count": 3,
      "outputs": [
        {
          "output_type": "stream",
          "name": "stdout",
          "text": [
            "Collecting opendatasets\n",
            "  Downloading opendatasets-0.1.22-py3-none-any.whl (15 kB)\n",
            "Requirement already satisfied: tqdm in /usr/local/lib/python3.10/dist-packages (from opendatasets) (4.66.1)\n",
            "Requirement already satisfied: kaggle in /usr/local/lib/python3.10/dist-packages (from opendatasets) (1.5.16)\n",
            "Requirement already satisfied: click in /usr/local/lib/python3.10/dist-packages (from opendatasets) (8.1.7)\n",
            "Requirement already satisfied: six>=1.10 in /usr/local/lib/python3.10/dist-packages (from kaggle->opendatasets) (1.16.0)\n",
            "Requirement already satisfied: certifi in /usr/local/lib/python3.10/dist-packages (from kaggle->opendatasets) (2023.7.22)\n",
            "Requirement already satisfied: python-dateutil in /usr/local/lib/python3.10/dist-packages (from kaggle->opendatasets) (2.8.2)\n",
            "Requirement already satisfied: requests in /usr/local/lib/python3.10/dist-packages (from kaggle->opendatasets) (2.31.0)\n",
            "Requirement already satisfied: python-slugify in /usr/local/lib/python3.10/dist-packages (from kaggle->opendatasets) (8.0.1)\n",
            "Requirement already satisfied: urllib3 in /usr/local/lib/python3.10/dist-packages (from kaggle->opendatasets) (2.0.7)\n",
            "Requirement already satisfied: bleach in /usr/local/lib/python3.10/dist-packages (from kaggle->opendatasets) (6.1.0)\n",
            "Requirement already satisfied: webencodings in /usr/local/lib/python3.10/dist-packages (from bleach->kaggle->opendatasets) (0.5.1)\n",
            "Requirement already satisfied: text-unidecode>=1.3 in /usr/local/lib/python3.10/dist-packages (from python-slugify->kaggle->opendatasets) (1.3)\n",
            "Requirement already satisfied: charset-normalizer<4,>=2 in /usr/local/lib/python3.10/dist-packages (from requests->kaggle->opendatasets) (3.3.0)\n",
            "Requirement already satisfied: idna<4,>=2.5 in /usr/local/lib/python3.10/dist-packages (from requests->kaggle->opendatasets) (3.4)\n",
            "Installing collected packages: opendatasets\n",
            "Successfully installed opendatasets-0.1.22\n"
          ]
        }
      ]
    },
    {
      "cell_type": "code",
      "execution_count": 5,
      "metadata": {
        "id": "uAoimHEAr3EP",
        "colab": {
          "base_uri": "https://localhost:8080/"
        },
        "outputId": "07366abd-c7a8-493d-e464-458a2c08b965"
      },
      "outputs": [
        {
          "output_type": "stream",
          "name": "stdout",
          "text": [
            "Please provide your Kaggle credentials to download this dataset. Learn more: http://bit.ly/kaggle-creds\n",
            "Your Kaggle username: mashalovne\n",
            "Your Kaggle Key: ··········\n",
            "Downloading coronavirus-2019ncov.zip to ./coronavirus-2019ncov\n"
          ]
        },
        {
          "output_type": "stream",
          "name": "stderr",
          "text": [
            "100%|██████████| 20.5M/20.5M [00:00<00:00, 88.9MB/s]\n"
          ]
        },
        {
          "output_type": "stream",
          "name": "stdout",
          "text": [
            "\n"
          ]
        }
      ],
      "source": [
        "import opendatasets as od\n",
        "od.download('https://www.kaggle.com/datasets/gpreda/coronavirus-2019ncov')"
      ]
    },
    {
      "cell_type": "markdown",
      "metadata": {
        "id": "x6ftcgfV5H0I"
      },
      "source": [
        "Установите в качестве индекса дату."
      ]
    },
    {
      "cell_type": "code",
      "execution_count": 42,
      "metadata": {
        "id": "J74iDIfBr3I7",
        "colab": {
          "base_uri": "https://localhost:8080/"
        },
        "outputId": "4c5a6170-19f5-403d-8104-69a17854a5f7"
      },
      "outputs": [
        {
          "output_type": "stream",
          "name": "stderr",
          "text": [
            "<ipython-input-42-c02a29b90c69>:2: DtypeWarning: Columns (0,1) have mixed types. Specify dtype option on import or set low_memory=False.\n",
            "  df = pd.read_csv('coronavirus-2019ncov/covid-19-all.csv')\n"
          ]
        }
      ],
      "source": [
        "import pandas as pd\n",
        "df = pd.read_csv('coronavirus-2019ncov/covid-19-all.csv')\n",
        "df['Date'] = pd.to_datetime(df['Date'])"
      ]
    },
    {
      "cell_type": "code",
      "source": [
        "df.set_index('Date',inplace=True)"
      ],
      "metadata": {
        "id": "liLeyJje7mDr"
      },
      "execution_count": 43,
      "outputs": []
    },
    {
      "cell_type": "code",
      "source": [
        "df.sample(20)"
      ],
      "metadata": {
        "colab": {
          "base_uri": "https://localhost:8080/",
          "height": 708
        },
        "id": "SX5hb1tU76LA",
        "outputId": "519fb2c7-bbbb-4bc1-db44-f80e53fcb574"
      },
      "execution_count": 44,
      "outputs": [
        {
          "output_type": "execute_result",
          "data": {
            "text/plain": [
              "           Country/Region  Province/State   Latitude   Longitude  Confirmed  \\\n",
              "Date                                                                          \n",
              "2020-08-25             US            Iowa  42.732704  -93.262569      274.0   \n",
              "2020-04-30             US      New Mexico  33.915141 -108.404659        1.0   \n",
              "2020-06-23             US  North Carolina  35.004177  -79.744910      234.0   \n",
              "2020-08-12             US         Indiana  40.473882  -85.324997       66.0   \n",
              "2020-06-08             US      California  36.603082 -121.069975      107.0   \n",
              "2021-01-22            NaN             NaN        NaN         NaN     3852.0   \n",
              "2020-05-25             US        Oklahoma  34.373666  -96.038025        1.0   \n",
              "2020-09-05             US    Pennsylvania  39.921009  -76.730401     3739.0   \n",
              "2020-04-01             US           Texas  33.610086 -101.820479      100.0   \n",
              "2020-08-14             US       Louisiana  30.714095  -91.602095      838.0   \n",
              "2020-10-24             US         Georgia  34.854917  -85.504904      342.0   \n",
              "2020-09-20             US      New Mexico  34.007155 -106.929835       89.0   \n",
              "2020-09-26             US        Nebraska  40.175569 -100.476998       33.0   \n",
              "2020-06-23             US          Nevada  39.448755 -119.525021        1.0   \n",
              "2020-08-16             US         Florida  28.553645  -82.427002     2225.0   \n",
              "2020-07-12             US           Texas  31.037360  -97.478503     2083.0   \n",
              "2021-02-01            NaN             NaN        NaN         NaN       64.0   \n",
              "2020-08-21   Sierra Leone             NaN   8.460555  -11.779889     1972.0   \n",
              "2020-04-09     Madagascar             NaN -18.766947   46.869107       93.0   \n",
              "2021-02-02            NaN             NaN        NaN         NaN      859.0   \n",
              "\n",
              "            Recovered  Deaths  \n",
              "Date                           \n",
              "2020-08-25        0.0    16.0  \n",
              "2020-04-30        0.0     1.0  \n",
              "2020-06-23        0.0     5.0  \n",
              "2020-08-12        0.0     2.0  \n",
              "2020-06-08        0.0     2.0  \n",
              "2021-01-22        0.0    40.0  \n",
              "2020-05-25        0.0     0.0  \n",
              "2020-09-05        0.0   130.0  \n",
              "2020-04-01        0.0     2.0  \n",
              "2020-08-14        0.0    33.0  \n",
              "2020-10-24        0.0     6.0  \n",
              "2020-09-20        0.0     6.0  \n",
              "2020-09-26        0.0     0.0  \n",
              "2020-06-23        0.0     0.0  \n",
              "2020-08-16        0.0    60.0  \n",
              "2020-07-12        0.0    14.0  \n",
              "2021-02-01        0.0     0.0  \n",
              "2020-08-21     1542.0    69.0  \n",
              "2020-04-09       11.0     0.0  \n",
              "2021-02-02      841.0     1.0  "
            ],
            "text/html": [
              "\n",
              "  <div id=\"df-edefc2d6-3430-45bc-8973-50ef50376f76\" class=\"colab-df-container\">\n",
              "    <div>\n",
              "<style scoped>\n",
              "    .dataframe tbody tr th:only-of-type {\n",
              "        vertical-align: middle;\n",
              "    }\n",
              "\n",
              "    .dataframe tbody tr th {\n",
              "        vertical-align: top;\n",
              "    }\n",
              "\n",
              "    .dataframe thead th {\n",
              "        text-align: right;\n",
              "    }\n",
              "</style>\n",
              "<table border=\"1\" class=\"dataframe\">\n",
              "  <thead>\n",
              "    <tr style=\"text-align: right;\">\n",
              "      <th></th>\n",
              "      <th>Country/Region</th>\n",
              "      <th>Province/State</th>\n",
              "      <th>Latitude</th>\n",
              "      <th>Longitude</th>\n",
              "      <th>Confirmed</th>\n",
              "      <th>Recovered</th>\n",
              "      <th>Deaths</th>\n",
              "    </tr>\n",
              "    <tr>\n",
              "      <th>Date</th>\n",
              "      <th></th>\n",
              "      <th></th>\n",
              "      <th></th>\n",
              "      <th></th>\n",
              "      <th></th>\n",
              "      <th></th>\n",
              "      <th></th>\n",
              "    </tr>\n",
              "  </thead>\n",
              "  <tbody>\n",
              "    <tr>\n",
              "      <th>2020-08-25</th>\n",
              "      <td>US</td>\n",
              "      <td>Iowa</td>\n",
              "      <td>42.732704</td>\n",
              "      <td>-93.262569</td>\n",
              "      <td>274.0</td>\n",
              "      <td>0.0</td>\n",
              "      <td>16.0</td>\n",
              "    </tr>\n",
              "    <tr>\n",
              "      <th>2020-04-30</th>\n",
              "      <td>US</td>\n",
              "      <td>New Mexico</td>\n",
              "      <td>33.915141</td>\n",
              "      <td>-108.404659</td>\n",
              "      <td>1.0</td>\n",
              "      <td>0.0</td>\n",
              "      <td>1.0</td>\n",
              "    </tr>\n",
              "    <tr>\n",
              "      <th>2020-06-23</th>\n",
              "      <td>US</td>\n",
              "      <td>North Carolina</td>\n",
              "      <td>35.004177</td>\n",
              "      <td>-79.744910</td>\n",
              "      <td>234.0</td>\n",
              "      <td>0.0</td>\n",
              "      <td>5.0</td>\n",
              "    </tr>\n",
              "    <tr>\n",
              "      <th>2020-08-12</th>\n",
              "      <td>US</td>\n",
              "      <td>Indiana</td>\n",
              "      <td>40.473882</td>\n",
              "      <td>-85.324997</td>\n",
              "      <td>66.0</td>\n",
              "      <td>0.0</td>\n",
              "      <td>2.0</td>\n",
              "    </tr>\n",
              "    <tr>\n",
              "      <th>2020-06-08</th>\n",
              "      <td>US</td>\n",
              "      <td>California</td>\n",
              "      <td>36.603082</td>\n",
              "      <td>-121.069975</td>\n",
              "      <td>107.0</td>\n",
              "      <td>0.0</td>\n",
              "      <td>2.0</td>\n",
              "    </tr>\n",
              "    <tr>\n",
              "      <th>2021-01-22</th>\n",
              "      <td>NaN</td>\n",
              "      <td>NaN</td>\n",
              "      <td>NaN</td>\n",
              "      <td>NaN</td>\n",
              "      <td>3852.0</td>\n",
              "      <td>0.0</td>\n",
              "      <td>40.0</td>\n",
              "    </tr>\n",
              "    <tr>\n",
              "      <th>2020-05-25</th>\n",
              "      <td>US</td>\n",
              "      <td>Oklahoma</td>\n",
              "      <td>34.373666</td>\n",
              "      <td>-96.038025</td>\n",
              "      <td>1.0</td>\n",
              "      <td>0.0</td>\n",
              "      <td>0.0</td>\n",
              "    </tr>\n",
              "    <tr>\n",
              "      <th>2020-09-05</th>\n",
              "      <td>US</td>\n",
              "      <td>Pennsylvania</td>\n",
              "      <td>39.921009</td>\n",
              "      <td>-76.730401</td>\n",
              "      <td>3739.0</td>\n",
              "      <td>0.0</td>\n",
              "      <td>130.0</td>\n",
              "    </tr>\n",
              "    <tr>\n",
              "      <th>2020-04-01</th>\n",
              "      <td>US</td>\n",
              "      <td>Texas</td>\n",
              "      <td>33.610086</td>\n",
              "      <td>-101.820479</td>\n",
              "      <td>100.0</td>\n",
              "      <td>0.0</td>\n",
              "      <td>2.0</td>\n",
              "    </tr>\n",
              "    <tr>\n",
              "      <th>2020-08-14</th>\n",
              "      <td>US</td>\n",
              "      <td>Louisiana</td>\n",
              "      <td>30.714095</td>\n",
              "      <td>-91.602095</td>\n",
              "      <td>838.0</td>\n",
              "      <td>0.0</td>\n",
              "      <td>33.0</td>\n",
              "    </tr>\n",
              "    <tr>\n",
              "      <th>2020-10-24</th>\n",
              "      <td>US</td>\n",
              "      <td>Georgia</td>\n",
              "      <td>34.854917</td>\n",
              "      <td>-85.504904</td>\n",
              "      <td>342.0</td>\n",
              "      <td>0.0</td>\n",
              "      <td>6.0</td>\n",
              "    </tr>\n",
              "    <tr>\n",
              "      <th>2020-09-20</th>\n",
              "      <td>US</td>\n",
              "      <td>New Mexico</td>\n",
              "      <td>34.007155</td>\n",
              "      <td>-106.929835</td>\n",
              "      <td>89.0</td>\n",
              "      <td>0.0</td>\n",
              "      <td>6.0</td>\n",
              "    </tr>\n",
              "    <tr>\n",
              "      <th>2020-09-26</th>\n",
              "      <td>US</td>\n",
              "      <td>Nebraska</td>\n",
              "      <td>40.175569</td>\n",
              "      <td>-100.476998</td>\n",
              "      <td>33.0</td>\n",
              "      <td>0.0</td>\n",
              "      <td>0.0</td>\n",
              "    </tr>\n",
              "    <tr>\n",
              "      <th>2020-06-23</th>\n",
              "      <td>US</td>\n",
              "      <td>Nevada</td>\n",
              "      <td>39.448755</td>\n",
              "      <td>-119.525021</td>\n",
              "      <td>1.0</td>\n",
              "      <td>0.0</td>\n",
              "      <td>0.0</td>\n",
              "    </tr>\n",
              "    <tr>\n",
              "      <th>2020-08-16</th>\n",
              "      <td>US</td>\n",
              "      <td>Florida</td>\n",
              "      <td>28.553645</td>\n",
              "      <td>-82.427002</td>\n",
              "      <td>2225.0</td>\n",
              "      <td>0.0</td>\n",
              "      <td>60.0</td>\n",
              "    </tr>\n",
              "    <tr>\n",
              "      <th>2020-07-12</th>\n",
              "      <td>US</td>\n",
              "      <td>Texas</td>\n",
              "      <td>31.037360</td>\n",
              "      <td>-97.478503</td>\n",
              "      <td>2083.0</td>\n",
              "      <td>0.0</td>\n",
              "      <td>14.0</td>\n",
              "    </tr>\n",
              "    <tr>\n",
              "      <th>2021-02-01</th>\n",
              "      <td>NaN</td>\n",
              "      <td>NaN</td>\n",
              "      <td>NaN</td>\n",
              "      <td>NaN</td>\n",
              "      <td>64.0</td>\n",
              "      <td>0.0</td>\n",
              "      <td>0.0</td>\n",
              "    </tr>\n",
              "    <tr>\n",
              "      <th>2020-08-21</th>\n",
              "      <td>Sierra Leone</td>\n",
              "      <td>NaN</td>\n",
              "      <td>8.460555</td>\n",
              "      <td>-11.779889</td>\n",
              "      <td>1972.0</td>\n",
              "      <td>1542.0</td>\n",
              "      <td>69.0</td>\n",
              "    </tr>\n",
              "    <tr>\n",
              "      <th>2020-04-09</th>\n",
              "      <td>Madagascar</td>\n",
              "      <td>NaN</td>\n",
              "      <td>-18.766947</td>\n",
              "      <td>46.869107</td>\n",
              "      <td>93.0</td>\n",
              "      <td>11.0</td>\n",
              "      <td>0.0</td>\n",
              "    </tr>\n",
              "    <tr>\n",
              "      <th>2021-02-02</th>\n",
              "      <td>NaN</td>\n",
              "      <td>NaN</td>\n",
              "      <td>NaN</td>\n",
              "      <td>NaN</td>\n",
              "      <td>859.0</td>\n",
              "      <td>841.0</td>\n",
              "      <td>1.0</td>\n",
              "    </tr>\n",
              "  </tbody>\n",
              "</table>\n",
              "</div>\n",
              "    <div class=\"colab-df-buttons\">\n",
              "\n",
              "  <div class=\"colab-df-container\">\n",
              "    <button class=\"colab-df-convert\" onclick=\"convertToInteractive('df-edefc2d6-3430-45bc-8973-50ef50376f76')\"\n",
              "            title=\"Convert this dataframe to an interactive table.\"\n",
              "            style=\"display:none;\">\n",
              "\n",
              "  <svg xmlns=\"http://www.w3.org/2000/svg\" height=\"24px\" viewBox=\"0 -960 960 960\">\n",
              "    <path d=\"M120-120v-720h720v720H120Zm60-500h600v-160H180v160Zm220 220h160v-160H400v160Zm0 220h160v-160H400v160ZM180-400h160v-160H180v160Zm440 0h160v-160H620v160ZM180-180h160v-160H180v160Zm440 0h160v-160H620v160Z\"/>\n",
              "  </svg>\n",
              "    </button>\n",
              "\n",
              "  <style>\n",
              "    .colab-df-container {\n",
              "      display:flex;\n",
              "      gap: 12px;\n",
              "    }\n",
              "\n",
              "    .colab-df-convert {\n",
              "      background-color: #E8F0FE;\n",
              "      border: none;\n",
              "      border-radius: 50%;\n",
              "      cursor: pointer;\n",
              "      display: none;\n",
              "      fill: #1967D2;\n",
              "      height: 32px;\n",
              "      padding: 0 0 0 0;\n",
              "      width: 32px;\n",
              "    }\n",
              "\n",
              "    .colab-df-convert:hover {\n",
              "      background-color: #E2EBFA;\n",
              "      box-shadow: 0px 1px 2px rgba(60, 64, 67, 0.3), 0px 1px 3px 1px rgba(60, 64, 67, 0.15);\n",
              "      fill: #174EA6;\n",
              "    }\n",
              "\n",
              "    .colab-df-buttons div {\n",
              "      margin-bottom: 4px;\n",
              "    }\n",
              "\n",
              "    [theme=dark] .colab-df-convert {\n",
              "      background-color: #3B4455;\n",
              "      fill: #D2E3FC;\n",
              "    }\n",
              "\n",
              "    [theme=dark] .colab-df-convert:hover {\n",
              "      background-color: #434B5C;\n",
              "      box-shadow: 0px 1px 3px 1px rgba(0, 0, 0, 0.15);\n",
              "      filter: drop-shadow(0px 1px 2px rgba(0, 0, 0, 0.3));\n",
              "      fill: #FFFFFF;\n",
              "    }\n",
              "  </style>\n",
              "\n",
              "    <script>\n",
              "      const buttonEl =\n",
              "        document.querySelector('#df-edefc2d6-3430-45bc-8973-50ef50376f76 button.colab-df-convert');\n",
              "      buttonEl.style.display =\n",
              "        google.colab.kernel.accessAllowed ? 'block' : 'none';\n",
              "\n",
              "      async function convertToInteractive(key) {\n",
              "        const element = document.querySelector('#df-edefc2d6-3430-45bc-8973-50ef50376f76');\n",
              "        const dataTable =\n",
              "          await google.colab.kernel.invokeFunction('convertToInteractive',\n",
              "                                                    [key], {});\n",
              "        if (!dataTable) return;\n",
              "\n",
              "        const docLinkHtml = 'Like what you see? Visit the ' +\n",
              "          '<a target=\"_blank\" href=https://colab.research.google.com/notebooks/data_table.ipynb>data table notebook</a>'\n",
              "          + ' to learn more about interactive tables.';\n",
              "        element.innerHTML = '';\n",
              "        dataTable['output_type'] = 'display_data';\n",
              "        await google.colab.output.renderOutput(dataTable, element);\n",
              "        const docLink = document.createElement('div');\n",
              "        docLink.innerHTML = docLinkHtml;\n",
              "        element.appendChild(docLink);\n",
              "      }\n",
              "    </script>\n",
              "  </div>\n",
              "\n",
              "\n",
              "<div id=\"df-ba6ca31c-543f-455b-9e5d-3e7a52a8e212\">\n",
              "  <button class=\"colab-df-quickchart\" onclick=\"quickchart('df-ba6ca31c-543f-455b-9e5d-3e7a52a8e212')\"\n",
              "            title=\"Suggest charts.\"\n",
              "            style=\"display:none;\">\n",
              "\n",
              "<svg xmlns=\"http://www.w3.org/2000/svg\" height=\"24px\"viewBox=\"0 0 24 24\"\n",
              "     width=\"24px\">\n",
              "    <g>\n",
              "        <path d=\"M19 3H5c-1.1 0-2 .9-2 2v14c0 1.1.9 2 2 2h14c1.1 0 2-.9 2-2V5c0-1.1-.9-2-2-2zM9 17H7v-7h2v7zm4 0h-2V7h2v10zm4 0h-2v-4h2v4z\"/>\n",
              "    </g>\n",
              "</svg>\n",
              "  </button>\n",
              "\n",
              "<style>\n",
              "  .colab-df-quickchart {\n",
              "      --bg-color: #E8F0FE;\n",
              "      --fill-color: #1967D2;\n",
              "      --hover-bg-color: #E2EBFA;\n",
              "      --hover-fill-color: #174EA6;\n",
              "      --disabled-fill-color: #AAA;\n",
              "      --disabled-bg-color: #DDD;\n",
              "  }\n",
              "\n",
              "  [theme=dark] .colab-df-quickchart {\n",
              "      --bg-color: #3B4455;\n",
              "      --fill-color: #D2E3FC;\n",
              "      --hover-bg-color: #434B5C;\n",
              "      --hover-fill-color: #FFFFFF;\n",
              "      --disabled-bg-color: #3B4455;\n",
              "      --disabled-fill-color: #666;\n",
              "  }\n",
              "\n",
              "  .colab-df-quickchart {\n",
              "    background-color: var(--bg-color);\n",
              "    border: none;\n",
              "    border-radius: 50%;\n",
              "    cursor: pointer;\n",
              "    display: none;\n",
              "    fill: var(--fill-color);\n",
              "    height: 32px;\n",
              "    padding: 0;\n",
              "    width: 32px;\n",
              "  }\n",
              "\n",
              "  .colab-df-quickchart:hover {\n",
              "    background-color: var(--hover-bg-color);\n",
              "    box-shadow: 0 1px 2px rgba(60, 64, 67, 0.3), 0 1px 3px 1px rgba(60, 64, 67, 0.15);\n",
              "    fill: var(--button-hover-fill-color);\n",
              "  }\n",
              "\n",
              "  .colab-df-quickchart-complete:disabled,\n",
              "  .colab-df-quickchart-complete:disabled:hover {\n",
              "    background-color: var(--disabled-bg-color);\n",
              "    fill: var(--disabled-fill-color);\n",
              "    box-shadow: none;\n",
              "  }\n",
              "\n",
              "  .colab-df-spinner {\n",
              "    border: 2px solid var(--fill-color);\n",
              "    border-color: transparent;\n",
              "    border-bottom-color: var(--fill-color);\n",
              "    animation:\n",
              "      spin 1s steps(1) infinite;\n",
              "  }\n",
              "\n",
              "  @keyframes spin {\n",
              "    0% {\n",
              "      border-color: transparent;\n",
              "      border-bottom-color: var(--fill-color);\n",
              "      border-left-color: var(--fill-color);\n",
              "    }\n",
              "    20% {\n",
              "      border-color: transparent;\n",
              "      border-left-color: var(--fill-color);\n",
              "      border-top-color: var(--fill-color);\n",
              "    }\n",
              "    30% {\n",
              "      border-color: transparent;\n",
              "      border-left-color: var(--fill-color);\n",
              "      border-top-color: var(--fill-color);\n",
              "      border-right-color: var(--fill-color);\n",
              "    }\n",
              "    40% {\n",
              "      border-color: transparent;\n",
              "      border-right-color: var(--fill-color);\n",
              "      border-top-color: var(--fill-color);\n",
              "    }\n",
              "    60% {\n",
              "      border-color: transparent;\n",
              "      border-right-color: var(--fill-color);\n",
              "    }\n",
              "    80% {\n",
              "      border-color: transparent;\n",
              "      border-right-color: var(--fill-color);\n",
              "      border-bottom-color: var(--fill-color);\n",
              "    }\n",
              "    90% {\n",
              "      border-color: transparent;\n",
              "      border-bottom-color: var(--fill-color);\n",
              "    }\n",
              "  }\n",
              "</style>\n",
              "\n",
              "  <script>\n",
              "    async function quickchart(key) {\n",
              "      const quickchartButtonEl =\n",
              "        document.querySelector('#' + key + ' button');\n",
              "      quickchartButtonEl.disabled = true;  // To prevent multiple clicks.\n",
              "      quickchartButtonEl.classList.add('colab-df-spinner');\n",
              "      try {\n",
              "        const charts = await google.colab.kernel.invokeFunction(\n",
              "            'suggestCharts', [key], {});\n",
              "      } catch (error) {\n",
              "        console.error('Error during call to suggestCharts:', error);\n",
              "      }\n",
              "      quickchartButtonEl.classList.remove('colab-df-spinner');\n",
              "      quickchartButtonEl.classList.add('colab-df-quickchart-complete');\n",
              "    }\n",
              "    (() => {\n",
              "      let quickchartButtonEl =\n",
              "        document.querySelector('#df-ba6ca31c-543f-455b-9e5d-3e7a52a8e212 button');\n",
              "      quickchartButtonEl.style.display =\n",
              "        google.colab.kernel.accessAllowed ? 'block' : 'none';\n",
              "    })();\n",
              "  </script>\n",
              "</div>\n",
              "    </div>\n",
              "  </div>\n"
            ]
          },
          "metadata": {},
          "execution_count": 44
        }
      ]
    },
    {
      "cell_type": "markdown",
      "metadata": {
        "id": "dTwzbHWm5MZB"
      },
      "source": [
        "Избавьтесь от `None`, если они есть."
      ]
    },
    {
      "cell_type": "code",
      "execution_count": 45,
      "metadata": {
        "id": "1NcFlddosCWw"
      },
      "outputs": [],
      "source": [
        "df.dropna(inplace=True)"
      ]
    },
    {
      "cell_type": "markdown",
      "metadata": {
        "id": "uBHkCPZc5SZP"
      },
      "source": [
        "Выберите страну и регион, где хотите предсказывать."
      ]
    },
    {
      "cell_type": "code",
      "execution_count": 46,
      "metadata": {
        "id": "DlyDgWGfzZAO"
      },
      "outputs": [],
      "source": [
        "df_ukr = df.loc[df['Country/Region']=='Ukraine']"
      ]
    },
    {
      "cell_type": "markdown",
      "metadata": {
        "id": "m6Pleinb5iJL"
      },
      "source": [
        "Удалите лишние столбцы в выбранных данных."
      ]
    },
    {
      "cell_type": "code",
      "execution_count": 84,
      "metadata": {
        "id": "Z4e4RS2dypt2",
        "colab": {
          "base_uri": "https://localhost:8080/",
          "height": 455
        },
        "outputId": "85e5d06a-d527-42da-a244-33afe585c8e5"
      },
      "outputs": [
        {
          "output_type": "execute_result",
          "data": {
            "text/plain": [
              "           Country/Region         Province/State  Latitude  Longitude  \\\n",
              "Date                                                                    \n",
              "2020-06-01        Ukraine        Cherkasy Oblast   49.4444    32.0598   \n",
              "2020-06-01        Ukraine       Chernihiv Oblast   51.4982    31.2893   \n",
              "2020-06-01        Ukraine      Chernivtsi Oblast   48.2917    25.9352   \n",
              "2020-06-01        Ukraine       Crimea Republic*   45.2835    34.2008   \n",
              "2020-06-01        Ukraine  Dnipropetrovsk Oblast   48.4647    35.0462   \n",
              "...                   ...                    ...       ...        ...   \n",
              "2020-12-31        Ukraine       Vinnytsia Oblast   49.2331    28.4682   \n",
              "2020-12-31        Ukraine           Volyn Oblast   50.7472    25.3254   \n",
              "2020-12-31        Ukraine     Zakarpattia Oblast   48.6208    22.2879   \n",
              "2020-12-31        Ukraine      Zaporizhia Oblast   47.8388    35.1396   \n",
              "2020-12-31        Ukraine        Zhytomyr Oblast   50.2547    28.6587   \n",
              "\n",
              "            Confirmed  Recovered  Deaths  \n",
              "Date                                      \n",
              "2020-06-01      406.0      308.0    16.0  \n",
              "2020-06-01      177.0       63.0     6.0  \n",
              "2020-06-01     3377.0      945.0   144.0  \n",
              "2020-06-01      385.0      229.0     3.0  \n",
              "2020-06-01      942.0      265.0    21.0  \n",
              "...               ...        ...     ...  \n",
              "2020-12-31    22500.0    15237.0   395.0  \n",
              "2020-12-31    33016.0    28605.0   515.0  \n",
              "2020-12-31    28200.0    23526.0   637.0  \n",
              "2020-12-31    54088.0    20530.0   594.0  \n",
              "2020-12-31    39202.0    31998.0   655.0  \n",
              "\n",
              "[5778 rows x 7 columns]"
            ],
            "text/html": [
              "\n",
              "  <div id=\"df-4b8d1709-4ead-4cb0-86b7-2a7f2a7048ac\" class=\"colab-df-container\">\n",
              "    <div>\n",
              "<style scoped>\n",
              "    .dataframe tbody tr th:only-of-type {\n",
              "        vertical-align: middle;\n",
              "    }\n",
              "\n",
              "    .dataframe tbody tr th {\n",
              "        vertical-align: top;\n",
              "    }\n",
              "\n",
              "    .dataframe thead th {\n",
              "        text-align: right;\n",
              "    }\n",
              "</style>\n",
              "<table border=\"1\" class=\"dataframe\">\n",
              "  <thead>\n",
              "    <tr style=\"text-align: right;\">\n",
              "      <th></th>\n",
              "      <th>Country/Region</th>\n",
              "      <th>Province/State</th>\n",
              "      <th>Latitude</th>\n",
              "      <th>Longitude</th>\n",
              "      <th>Confirmed</th>\n",
              "      <th>Recovered</th>\n",
              "      <th>Deaths</th>\n",
              "    </tr>\n",
              "    <tr>\n",
              "      <th>Date</th>\n",
              "      <th></th>\n",
              "      <th></th>\n",
              "      <th></th>\n",
              "      <th></th>\n",
              "      <th></th>\n",
              "      <th></th>\n",
              "      <th></th>\n",
              "    </tr>\n",
              "  </thead>\n",
              "  <tbody>\n",
              "    <tr>\n",
              "      <th>2020-06-01</th>\n",
              "      <td>Ukraine</td>\n",
              "      <td>Cherkasy Oblast</td>\n",
              "      <td>49.4444</td>\n",
              "      <td>32.0598</td>\n",
              "      <td>406.0</td>\n",
              "      <td>308.0</td>\n",
              "      <td>16.0</td>\n",
              "    </tr>\n",
              "    <tr>\n",
              "      <th>2020-06-01</th>\n",
              "      <td>Ukraine</td>\n",
              "      <td>Chernihiv Oblast</td>\n",
              "      <td>51.4982</td>\n",
              "      <td>31.2893</td>\n",
              "      <td>177.0</td>\n",
              "      <td>63.0</td>\n",
              "      <td>6.0</td>\n",
              "    </tr>\n",
              "    <tr>\n",
              "      <th>2020-06-01</th>\n",
              "      <td>Ukraine</td>\n",
              "      <td>Chernivtsi Oblast</td>\n",
              "      <td>48.2917</td>\n",
              "      <td>25.9352</td>\n",
              "      <td>3377.0</td>\n",
              "      <td>945.0</td>\n",
              "      <td>144.0</td>\n",
              "    </tr>\n",
              "    <tr>\n",
              "      <th>2020-06-01</th>\n",
              "      <td>Ukraine</td>\n",
              "      <td>Crimea Republic*</td>\n",
              "      <td>45.2835</td>\n",
              "      <td>34.2008</td>\n",
              "      <td>385.0</td>\n",
              "      <td>229.0</td>\n",
              "      <td>3.0</td>\n",
              "    </tr>\n",
              "    <tr>\n",
              "      <th>2020-06-01</th>\n",
              "      <td>Ukraine</td>\n",
              "      <td>Dnipropetrovsk Oblast</td>\n",
              "      <td>48.4647</td>\n",
              "      <td>35.0462</td>\n",
              "      <td>942.0</td>\n",
              "      <td>265.0</td>\n",
              "      <td>21.0</td>\n",
              "    </tr>\n",
              "    <tr>\n",
              "      <th>...</th>\n",
              "      <td>...</td>\n",
              "      <td>...</td>\n",
              "      <td>...</td>\n",
              "      <td>...</td>\n",
              "      <td>...</td>\n",
              "      <td>...</td>\n",
              "      <td>...</td>\n",
              "    </tr>\n",
              "    <tr>\n",
              "      <th>2020-12-31</th>\n",
              "      <td>Ukraine</td>\n",
              "      <td>Vinnytsia Oblast</td>\n",
              "      <td>49.2331</td>\n",
              "      <td>28.4682</td>\n",
              "      <td>22500.0</td>\n",
              "      <td>15237.0</td>\n",
              "      <td>395.0</td>\n",
              "    </tr>\n",
              "    <tr>\n",
              "      <th>2020-12-31</th>\n",
              "      <td>Ukraine</td>\n",
              "      <td>Volyn Oblast</td>\n",
              "      <td>50.7472</td>\n",
              "      <td>25.3254</td>\n",
              "      <td>33016.0</td>\n",
              "      <td>28605.0</td>\n",
              "      <td>515.0</td>\n",
              "    </tr>\n",
              "    <tr>\n",
              "      <th>2020-12-31</th>\n",
              "      <td>Ukraine</td>\n",
              "      <td>Zakarpattia Oblast</td>\n",
              "      <td>48.6208</td>\n",
              "      <td>22.2879</td>\n",
              "      <td>28200.0</td>\n",
              "      <td>23526.0</td>\n",
              "      <td>637.0</td>\n",
              "    </tr>\n",
              "    <tr>\n",
              "      <th>2020-12-31</th>\n",
              "      <td>Ukraine</td>\n",
              "      <td>Zaporizhia Oblast</td>\n",
              "      <td>47.8388</td>\n",
              "      <td>35.1396</td>\n",
              "      <td>54088.0</td>\n",
              "      <td>20530.0</td>\n",
              "      <td>594.0</td>\n",
              "    </tr>\n",
              "    <tr>\n",
              "      <th>2020-12-31</th>\n",
              "      <td>Ukraine</td>\n",
              "      <td>Zhytomyr Oblast</td>\n",
              "      <td>50.2547</td>\n",
              "      <td>28.6587</td>\n",
              "      <td>39202.0</td>\n",
              "      <td>31998.0</td>\n",
              "      <td>655.0</td>\n",
              "    </tr>\n",
              "  </tbody>\n",
              "</table>\n",
              "<p>5778 rows × 7 columns</p>\n",
              "</div>\n",
              "    <div class=\"colab-df-buttons\">\n",
              "\n",
              "  <div class=\"colab-df-container\">\n",
              "    <button class=\"colab-df-convert\" onclick=\"convertToInteractive('df-4b8d1709-4ead-4cb0-86b7-2a7f2a7048ac')\"\n",
              "            title=\"Convert this dataframe to an interactive table.\"\n",
              "            style=\"display:none;\">\n",
              "\n",
              "  <svg xmlns=\"http://www.w3.org/2000/svg\" height=\"24px\" viewBox=\"0 -960 960 960\">\n",
              "    <path d=\"M120-120v-720h720v720H120Zm60-500h600v-160H180v160Zm220 220h160v-160H400v160Zm0 220h160v-160H400v160ZM180-400h160v-160H180v160Zm440 0h160v-160H620v160ZM180-180h160v-160H180v160Zm440 0h160v-160H620v160Z\"/>\n",
              "  </svg>\n",
              "    </button>\n",
              "\n",
              "  <style>\n",
              "    .colab-df-container {\n",
              "      display:flex;\n",
              "      gap: 12px;\n",
              "    }\n",
              "\n",
              "    .colab-df-convert {\n",
              "      background-color: #E8F0FE;\n",
              "      border: none;\n",
              "      border-radius: 50%;\n",
              "      cursor: pointer;\n",
              "      display: none;\n",
              "      fill: #1967D2;\n",
              "      height: 32px;\n",
              "      padding: 0 0 0 0;\n",
              "      width: 32px;\n",
              "    }\n",
              "\n",
              "    .colab-df-convert:hover {\n",
              "      background-color: #E2EBFA;\n",
              "      box-shadow: 0px 1px 2px rgba(60, 64, 67, 0.3), 0px 1px 3px 1px rgba(60, 64, 67, 0.15);\n",
              "      fill: #174EA6;\n",
              "    }\n",
              "\n",
              "    .colab-df-buttons div {\n",
              "      margin-bottom: 4px;\n",
              "    }\n",
              "\n",
              "    [theme=dark] .colab-df-convert {\n",
              "      background-color: #3B4455;\n",
              "      fill: #D2E3FC;\n",
              "    }\n",
              "\n",
              "    [theme=dark] .colab-df-convert:hover {\n",
              "      background-color: #434B5C;\n",
              "      box-shadow: 0px 1px 3px 1px rgba(0, 0, 0, 0.15);\n",
              "      filter: drop-shadow(0px 1px 2px rgba(0, 0, 0, 0.3));\n",
              "      fill: #FFFFFF;\n",
              "    }\n",
              "  </style>\n",
              "\n",
              "    <script>\n",
              "      const buttonEl =\n",
              "        document.querySelector('#df-4b8d1709-4ead-4cb0-86b7-2a7f2a7048ac button.colab-df-convert');\n",
              "      buttonEl.style.display =\n",
              "        google.colab.kernel.accessAllowed ? 'block' : 'none';\n",
              "\n",
              "      async function convertToInteractive(key) {\n",
              "        const element = document.querySelector('#df-4b8d1709-4ead-4cb0-86b7-2a7f2a7048ac');\n",
              "        const dataTable =\n",
              "          await google.colab.kernel.invokeFunction('convertToInteractive',\n",
              "                                                    [key], {});\n",
              "        if (!dataTable) return;\n",
              "\n",
              "        const docLinkHtml = 'Like what you see? Visit the ' +\n",
              "          '<a target=\"_blank\" href=https://colab.research.google.com/notebooks/data_table.ipynb>data table notebook</a>'\n",
              "          + ' to learn more about interactive tables.';\n",
              "        element.innerHTML = '';\n",
              "        dataTable['output_type'] = 'display_data';\n",
              "        await google.colab.output.renderOutput(dataTable, element);\n",
              "        const docLink = document.createElement('div');\n",
              "        docLink.innerHTML = docLinkHtml;\n",
              "        element.appendChild(docLink);\n",
              "      }\n",
              "    </script>\n",
              "  </div>\n",
              "\n",
              "\n",
              "<div id=\"df-30790721-1afe-4545-934a-94172bca3f84\">\n",
              "  <button class=\"colab-df-quickchart\" onclick=\"quickchart('df-30790721-1afe-4545-934a-94172bca3f84')\"\n",
              "            title=\"Suggest charts.\"\n",
              "            style=\"display:none;\">\n",
              "\n",
              "<svg xmlns=\"http://www.w3.org/2000/svg\" height=\"24px\"viewBox=\"0 0 24 24\"\n",
              "     width=\"24px\">\n",
              "    <g>\n",
              "        <path d=\"M19 3H5c-1.1 0-2 .9-2 2v14c0 1.1.9 2 2 2h14c1.1 0 2-.9 2-2V5c0-1.1-.9-2-2-2zM9 17H7v-7h2v7zm4 0h-2V7h2v10zm4 0h-2v-4h2v4z\"/>\n",
              "    </g>\n",
              "</svg>\n",
              "  </button>\n",
              "\n",
              "<style>\n",
              "  .colab-df-quickchart {\n",
              "      --bg-color: #E8F0FE;\n",
              "      --fill-color: #1967D2;\n",
              "      --hover-bg-color: #E2EBFA;\n",
              "      --hover-fill-color: #174EA6;\n",
              "      --disabled-fill-color: #AAA;\n",
              "      --disabled-bg-color: #DDD;\n",
              "  }\n",
              "\n",
              "  [theme=dark] .colab-df-quickchart {\n",
              "      --bg-color: #3B4455;\n",
              "      --fill-color: #D2E3FC;\n",
              "      --hover-bg-color: #434B5C;\n",
              "      --hover-fill-color: #FFFFFF;\n",
              "      --disabled-bg-color: #3B4455;\n",
              "      --disabled-fill-color: #666;\n",
              "  }\n",
              "\n",
              "  .colab-df-quickchart {\n",
              "    background-color: var(--bg-color);\n",
              "    border: none;\n",
              "    border-radius: 50%;\n",
              "    cursor: pointer;\n",
              "    display: none;\n",
              "    fill: var(--fill-color);\n",
              "    height: 32px;\n",
              "    padding: 0;\n",
              "    width: 32px;\n",
              "  }\n",
              "\n",
              "  .colab-df-quickchart:hover {\n",
              "    background-color: var(--hover-bg-color);\n",
              "    box-shadow: 0 1px 2px rgba(60, 64, 67, 0.3), 0 1px 3px 1px rgba(60, 64, 67, 0.15);\n",
              "    fill: var(--button-hover-fill-color);\n",
              "  }\n",
              "\n",
              "  .colab-df-quickchart-complete:disabled,\n",
              "  .colab-df-quickchart-complete:disabled:hover {\n",
              "    background-color: var(--disabled-bg-color);\n",
              "    fill: var(--disabled-fill-color);\n",
              "    box-shadow: none;\n",
              "  }\n",
              "\n",
              "  .colab-df-spinner {\n",
              "    border: 2px solid var(--fill-color);\n",
              "    border-color: transparent;\n",
              "    border-bottom-color: var(--fill-color);\n",
              "    animation:\n",
              "      spin 1s steps(1) infinite;\n",
              "  }\n",
              "\n",
              "  @keyframes spin {\n",
              "    0% {\n",
              "      border-color: transparent;\n",
              "      border-bottom-color: var(--fill-color);\n",
              "      border-left-color: var(--fill-color);\n",
              "    }\n",
              "    20% {\n",
              "      border-color: transparent;\n",
              "      border-left-color: var(--fill-color);\n",
              "      border-top-color: var(--fill-color);\n",
              "    }\n",
              "    30% {\n",
              "      border-color: transparent;\n",
              "      border-left-color: var(--fill-color);\n",
              "      border-top-color: var(--fill-color);\n",
              "      border-right-color: var(--fill-color);\n",
              "    }\n",
              "    40% {\n",
              "      border-color: transparent;\n",
              "      border-right-color: var(--fill-color);\n",
              "      border-top-color: var(--fill-color);\n",
              "    }\n",
              "    60% {\n",
              "      border-color: transparent;\n",
              "      border-right-color: var(--fill-color);\n",
              "    }\n",
              "    80% {\n",
              "      border-color: transparent;\n",
              "      border-right-color: var(--fill-color);\n",
              "      border-bottom-color: var(--fill-color);\n",
              "    }\n",
              "    90% {\n",
              "      border-color: transparent;\n",
              "      border-bottom-color: var(--fill-color);\n",
              "    }\n",
              "  }\n",
              "</style>\n",
              "\n",
              "  <script>\n",
              "    async function quickchart(key) {\n",
              "      const quickchartButtonEl =\n",
              "        document.querySelector('#' + key + ' button');\n",
              "      quickchartButtonEl.disabled = true;  // To prevent multiple clicks.\n",
              "      quickchartButtonEl.classList.add('colab-df-spinner');\n",
              "      try {\n",
              "        const charts = await google.colab.kernel.invokeFunction(\n",
              "            'suggestCharts', [key], {});\n",
              "      } catch (error) {\n",
              "        console.error('Error during call to suggestCharts:', error);\n",
              "      }\n",
              "      quickchartButtonEl.classList.remove('colab-df-spinner');\n",
              "      quickchartButtonEl.classList.add('colab-df-quickchart-complete');\n",
              "    }\n",
              "    (() => {\n",
              "      let quickchartButtonEl =\n",
              "        document.querySelector('#df-30790721-1afe-4545-934a-94172bca3f84 button');\n",
              "      quickchartButtonEl.style.display =\n",
              "        google.colab.kernel.accessAllowed ? 'block' : 'none';\n",
              "    })();\n",
              "  </script>\n",
              "</div>\n",
              "    </div>\n",
              "  </div>\n"
            ]
          },
          "metadata": {},
          "execution_count": 84
        }
      ],
      "source": [
        "df_ukr"
      ]
    },
    {
      "cell_type": "markdown",
      "metadata": {
        "id": "sEJb-Ote4qIu"
      },
      "source": [
        "Постройте графики заболевших, выздоровевших и количества смертей."
      ]
    },
    {
      "cell_type": "code",
      "execution_count": 85,
      "metadata": {
        "id": "B-TCt6mx50Qu",
        "colab": {
          "base_uri": "https://localhost:8080/",
          "height": 674
        },
        "outputId": "1527b13b-e8cd-44ef-ac13-acdcd6e3ebb2"
      },
      "outputs": [
        {
          "output_type": "execute_result",
          "data": {
            "text/plain": [
              "<Axes: xlabel='Date'>"
            ]
          },
          "metadata": {},
          "execution_count": 85
        },
        {
          "output_type": "display_data",
          "data": {
            "text/plain": [
              "<Figure size 1500x700 with 1 Axes>"
            ],
            "image/png": "[encoded data removed]"
          },
          "metadata": {}
        }
      ],
      "source": [
        "df_temp = df.groupby('Date')[['Confirmed','Recovered','Deaths']].sum()\n",
        "df_temp.plot(logy=True)"
      ]
    },
    {
      "cell_type": "markdown",
      "metadata": {
        "id": "JPiC_g0VypNE"
      },
      "source": [
        "## Модели и обучение"
      ]
    },
    {
      "cell_type": "markdown",
      "metadata": {
        "id": "XhCTSHrm5bBl"
      },
      "source": [
        "### Вспомогательные функции"
      ]
    },
    {
      "cell_type": "markdown",
      "metadata": {
        "id": "eqUrmcv7Ai68"
      },
      "source": [
        "Здесь мы создаём функции для обучения, для вывода кривых обучения и для рекурсивного предсказания."
      ]
    },
    {
      "cell_type": "code",
      "execution_count": 208,
      "metadata": {
        "id": "wmLfcVVnAvlI"
      },
      "outputs": [],
      "source": [
        "def plot_learning_curves(history):\n",
        "    '''\n",
        "    Функция для вывода лосса и метрики во время обучения.\n",
        "\n",
        "    :param history: (dict)\n",
        "        accuracy и loss на обучении и валидации.\n",
        "    '''\n",
        "    fig = plt.figure(figsize=(10, 5))\n",
        "    plt.plot(history['loss'])\n",
        "    plt.ylabel('Лосс')\n",
        "    plt.xlabel('Эпоха')\n",
        "    plt.show()\n",
        "\n",
        "\n",
        "def train_ts_model(\n",
        "    model,\n",
        "    criterion,\n",
        "    optimizer,\n",
        "    train_batch_gen,\n",
        "    num_epochs=50,\n",
        "    device='cuda'\n",
        "):\n",
        "    '''\n",
        "    Функция для обучения модели и вывода лосса во время обучения.\n",
        "\n",
        "    :param model: обучаемая модель\n",
        "    :param criterion: функция потерь\n",
        "    :param optimizer: метод оптимизации\n",
        "    :param train_batch_gen: генератор батчей для обучения\n",
        "    :param num_epochs: количество эпох\n",
        "\n",
        "    :return: обученная модель\n",
        "    :return: (dict) loss на обучении ('история' обучения)\n",
        "    '''\n",
        "    history = defaultdict(list)\n",
        "\n",
        "    for epoch in range(num_epochs):\n",
        "        train_loss = 0\n",
        "        train_acc = 0\n",
        "        val_loss = 0\n",
        "        val_acc = 0\n",
        "\n",
        "        start_time = time.time()\n",
        "\n",
        "        # Устанавливаем поведение dropout / batch_norm  в обучение\n",
        "        model.train(True)\n",
        "\n",
        "        # На каждой 'эпохе' делаем полный проход по данным\n",
        "        for X_batch, y_batch in train_batch_gen:\n",
        "            X_batch = X_batch.type('torch.FloatTensor').to(device)\n",
        "            y_batch = y_batch.type('torch.FloatTensor').to(device)\n",
        "\n",
        "            logits = model(X_batch)\n",
        "\n",
        "            loss = criterion(logits.squeeze(), y_batch.squeeze())\n",
        "\n",
        "            # подсчёт производных\n",
        "            loss.backward()\n",
        "            # шаг градиента\n",
        "            optimizer.step()\n",
        "            # зануление градиентов\n",
        "            optimizer.zero_grad()\n",
        "\n",
        "            train_loss += np.sum(loss.detach().cpu().numpy())\n",
        "\n",
        "        # Подсчитываем лосс и сохраням в 'историю'\n",
        "        train_loss /= len(train_batch_gen)\n",
        "        history['loss'].append(train_loss)\n",
        "\n",
        "        # clear_output()\n",
        "\n",
        "        # Печатаем результаты после каждой эпохи\n",
        "        print('Эпоха {} из {} выполнена за {:.3f} сек.'.format(\n",
        "            epoch + 1, num_epochs, time.time() - start_time))\n",
        "        print('  лосс: \\t{:.6f}'.format(train_loss))\n",
        "    plot_learning_curves(history)\n",
        "\n",
        "    return model, history\n",
        "\n",
        "\n",
        "def evaluate_ts_model(model, start_seq, prediction_len, device='cpu'):\n",
        "    '''\n",
        "    Функция для проверки качества модели на обучающем отрезке ряда.\n",
        "\n",
        "    :param model: обучаемая модель,\n",
        "    :param start_seq: обучающие данные для первого предсказания,\n",
        "    :param test_data: тестовые данные.\n",
        "\n",
        "    :return: результаты предсказания.\n",
        "    '''\n",
        "    result = []\n",
        "    model.train(False)\n",
        "    input_tensor = torch.FloatTensor(start_seq).to(device).unsqueeze(0)\n",
        "\n",
        "    with torch.no_grad():\n",
        "        for i in range(prediction_len):\n",
        "            # делаем предсказание, а unsqueeze нужны, чтобы сделать размерность (1, 1, 1) вместо (1)\n",
        "\n",
        "            logits = model(input_tensor[:, i:, :]).unsqueeze(0)#.unsqueeze(2)\n",
        "\n",
        "            # присоединяем предсказанное значение к последовательности:\n",
        "            #                        (1, timestep, 1) -> (1, 1, 1)   по оси 1\n",
        "            input_tensor = torch.cat((input_tensor,        logits),       1    )\n",
        "\n",
        "            # обратное преобразование к нормальным числам\n",
        "            logits = logits.cpu().numpy().squeeze(0)\n",
        "\n",
        "            # результат сохраняем\n",
        "            result.append(logits.squeeze())\n",
        "\n",
        "    return np.array(result)"
      ]
    },
    {
      "cell_type": "markdown",
      "metadata": {
        "id": "qFvIrMeBApHC"
      },
      "source": [
        "Создадим класс модели."
      ]
    },
    {
      "cell_type": "code",
      "execution_count": 209,
      "metadata": {
        "id": "R19GCMTKAvtA"
      },
      "outputs": [],
      "source": [
        "class LSTM(nn.Module):\n",
        "    def __init__(self, input_size, output_size, hidden_size, num_lstm_layers, use_pool=False):\n",
        "        super(LSTM, self).__init__()\n",
        "\n",
        "        self.hidden_size = hidden_size\n",
        "        self.num_layers  = num_lstm_layers\n",
        "        self.input_size  = input_size\n",
        "        self.output_size = output_size\n",
        "\n",
        "        self.lstm = nn.LSTM(\n",
        "            input_size = self.input_size,\n",
        "            hidden_size = self.hidden_size,\n",
        "            num_layers = self.num_layers,\n",
        "            batch_first=True,\n",
        "            dropout=0.2,\n",
        "        ) # LSTM-модель с batch_first=True и dropout=0.2\n",
        "\n",
        "        # Размерность пространства выхода последнего LSTM-слоя равна hidden_size.\n",
        "        # Линейный слой нужен, чтобы преобразовать выход LSTM к нужному размеру output_size.\n",
        "        self.fc = nn.Linear(self.hidden_size,self.output_size) # добавьте линейный слой\n",
        "\n",
        "        # Пуллинг\n",
        "        self.pool = nn.AdaptiveAvgPool1d(1) # добавьте усредняющий все выходы пуллинг-слой\n",
        "        self.use_pool = use_pool\n",
        "\n",
        "\n",
        "    def forward(self, input_seq):\n",
        "\n",
        "        # инициализируем начальные скрытые состояния\n",
        "        h_0 = torch.zeros(self.num_layers, input_seq.size(0), self.hidden_size).to(device=input_seq.device)\n",
        "        c_0 = torch.zeros(self.num_layers, input_seq.size(0), self.hidden_size).to(device=input_seq.device)\n",
        "\n",
        "        out, (_, _) = self.lstm(input_seq, (h_0, c_0))\n",
        "\n",
        "        if self.use_pool:\n",
        "            # берем среднее от векторов для всей последовательности\n",
        "            out_to_fc = self.pool(out.transpose(1, 2)).squeeze(-1)\n",
        "        else:\n",
        "            # берем последний выходной вектор\n",
        "            out_to_fc = out[:, -1, :]\n",
        "\n",
        "        return self.fc(out_to_fc)"
      ]
    },
    {
      "cell_type": "markdown",
      "metadata": {
        "id": "kfjCQET7ArlX"
      },
      "source": [
        "Напишем функцию для визуализации результатов предсказания."
      ]
    },
    {
      "cell_type": "code",
      "execution_count": 187,
      "metadata": {
        "id": "tdazZJjTAv0D"
      },
      "outputs": [],
      "source": [
        "def plot_results(y_to_train, y_to_test=None, y_forecast=None):\n",
        "    \"\"\"\n",
        "        Функция для визуализации временного ряда и предсказания.\n",
        "\n",
        "        Параметры:\n",
        "            - y_to_train: pd.Series\n",
        "                Временной ряд, на котором обучалась модель.\n",
        "            - y_to_test: pd.Series\n",
        "                Временной ряд, который предсказывает модель.\n",
        "            - y_forecast: array\n",
        "                Предсказания модели.\n",
        "            - plot_conf_int: bool\n",
        "                Надо ли строить предсказательного интервал.\n",
        "            - left_bound: array\n",
        "                Левая граница предсказательного интервала.\n",
        "            - right_bound: array\n",
        "                Правая граница предсказательного интервала.\n",
        "    \"\"\"\n",
        "    plt.figure(figsize=(15, 5))\n",
        "    plt.plot(np.arange(len(y_to_train)), y_to_train, label='train')\n",
        "\n",
        "    if y_to_test is not None:\n",
        "        plt.plot(np.arange(len(y_to_train), len(y_to_train) + len(y_to_test)), y_to_test,  label='test')\n",
        "        if y_forecast is not None:\n",
        "            plt.plot(np.arange(len(y_to_train), len(y_to_train) + len(y_to_test)), y_forecast, label='prediction')\n",
        "    plt.legend()\n",
        "    plt.show()"
      ]
    },
    {
      "cell_type": "markdown",
      "metadata": {
        "id": "dJ0LA_ivypJN"
      },
      "source": [
        "#### **Профиль биология**\n"
      ]
    },
    {
      "cell_type": "markdown",
      "metadata": {
        "id": "tKcJOp-W5ykp"
      },
      "source": [
        "Разделим выборку на тест и трейн."
      ]
    },
    {
      "cell_type": "code",
      "execution_count": 183,
      "metadata": {
        "id": "myYiLYjeyo6N"
      },
      "outputs": [],
      "source": [
        "test_time = pd.Timestamp('2020-12-01')\n",
        "train_bio = df_temp.loc[df_temp.index < test_time]\n",
        "test_bio =  df_temp.loc[df_temp.index > test_time]"
      ]
    },
    {
      "cell_type": "markdown",
      "metadata": {
        "id": "SOKkT7hZ54aO"
      },
      "source": [
        "Посмотрим на то, что получилось."
      ]
    },
    {
      "cell_type": "code",
      "execution_count": 91,
      "metadata": {
        "id": "6tICfo8tOMd3",
        "colab": {
          "base_uri": "https://localhost:8080/",
          "height": 473
        },
        "outputId": "c86efdfe-285a-4e9f-80b1-a8c615a12326"
      },
      "outputs": [
        {
          "output_type": "display_data",
          "data": {
            "text/plain": [
              "<Figure size 1500x500 with 1 Axes>"
            ],
            "image/png": "[encoded data removed]"
          },
          "metadata": {}
        }
      ],
      "source": [
        "plot_results(train_bio, test_bio)"
      ]
    },
    {
      "cell_type": "markdown",
      "metadata": {
        "id": "W-nsCCg4-QQF"
      },
      "source": [
        "Зададим длину подпоследовательности, размер батча, девайс."
      ]
    },
    {
      "cell_type": "code",
      "execution_count": 93,
      "metadata": {
        "colab": {
          "base_uri": "https://localhost:8080/",
          "height": 35
        },
        "id": "ZqxI-piXOh-m",
        "outputId": "865db8da-b09f-416c-97ca-e3e2803faa1a"
      },
      "outputs": [
        {
          "output_type": "execute_result",
          "data": {
            "text/plain": [
              "'cpu'"
            ],
            "application/vnd.google.colaboratory.intrinsic+json": {
              "type": "string"
            }
          },
          "metadata": {},
          "execution_count": 93
        }
      ],
      "source": [
        "timesteps = 8\n",
        "batch_size = 16\n",
        "\n",
        "device = \"cuda\" if torch.cuda.is_available() else \"cpu\"\n",
        "device"
      ]
    },
    {
      "cell_type": "markdown",
      "metadata": {
        "id": "az-uo73v-Vzt"
      },
      "source": [
        "Преобразуйте к датасету с помощью нашего класса и сделайте генератор батчей."
      ]
    },
    {
      "cell_type": "code",
      "source": [
        "class TSDataset(torch.utils.data.Dataset):\n",
        "    def __init__(self, data, timesteps):\n",
        "        self.data = data.copy()\n",
        "        self.timesteps = timesteps\n",
        "        self.target_columns = self.data.columns\n",
        "        # self.data['month'] = self.data.index.month\n",
        "        # self.data['year'] = self.data.index.year\n",
        "\n",
        "    def __len__(self):\n",
        "        return len(self.data)-self.timesteps # количество подпоследовательностей заданной длины\n",
        "\n",
        "    def __getitem__(self, index):\n",
        "        return (self.data.iloc[index:index+self.timesteps].values, self.data.iloc[index+self.timesteps][self.target_columns].values) # верните X и y"
      ],
      "metadata": {
        "id": "JdxyQPvJVCsD"
      },
      "execution_count": 224,
      "outputs": []
    },
    {
      "cell_type": "code",
      "execution_count": 225,
      "metadata": {
        "id": "-PC0aFCKOyMx"
      },
      "outputs": [],
      "source": [
        "train_data = TSDataset(train_bio,timesteps)\n",
        "test_data = TSDataset(test_bio,timesteps=1)"
      ]
    },
    {
      "cell_type": "code",
      "source": [
        "print(*map(lambda x: x.shape,train_data[0]))"
      ],
      "metadata": {
        "id": "vJ8TitnkZbrv",
        "outputId": "dbf10844-ee1c-421e-bc53-7da31b1867d3",
        "colab": {
          "base_uri": "https://localhost:8080/"
        }
      },
      "execution_count": 227,
      "outputs": [
        {
          "output_type": "stream",
          "name": "stdout",
          "text": [
            "(8, 3) (3,)\n"
          ]
        }
      ]
    },
    {
      "cell_type": "markdown",
      "metadata": {
        "id": "Po9i08Xo-qcl"
      },
      "source": [
        "Инициализируйте модель."
      ]
    },
    {
      "cell_type": "code",
      "execution_count": 230,
      "metadata": {
        "id": "KX-_eP25OyW0",
        "colab": {
          "base_uri": "https://localhost:8080/"
        },
        "outputId": "bf5d4994-ec05-46e8-ea8c-ca47795794fc"
      },
      "outputs": [
        {
          "output_type": "stream",
          "name": "stderr",
          "text": [
            "/usr/local/lib/python3.10/dist-packages/torch/nn/modules/rnn.py:82: UserWarning: dropout option adds dropout after all but last recurrent layer, so non-zero dropout expects num_layers greater than 1, but got dropout=0.2 and num_layers=1\n",
            "  warnings.warn(\"dropout option adds dropout after all but last \"\n"
          ]
        }
      ],
      "source": [
        "model = LSTM(\n",
        "    3,\n",
        "    3,\n",
        "    hidden_size=8,\n",
        "    num_lstm_layers=1,\n",
        "    use_pool=True)"
      ]
    },
    {
      "cell_type": "markdown",
      "metadata": {
        "id": "v_SHxJ5B-tZo"
      },
      "source": [
        "Обучите её."
      ]
    },
    {
      "cell_type": "code",
      "execution_count": 231,
      "metadata": {
        "id": "COnN6CrXOiCk",
        "colab": {
          "base_uri": "https://localhost:8080/",
          "height": 1000
        },
        "outputId": "4906f4e6-d8d1-47eb-f02f-145ac100e884"
      },
      "outputs": [
        {
          "output_type": "stream",
          "name": "stdout",
          "text": [
            "Эпоха 1 из 50 выполнена за 0.128 сек.\n",
            "  лосс: \t187850221796505.593750\n",
            "Эпоха 2 из 50 выполнена за 0.138 сек.\n",
            "  лосс: \t187850221794667.187500\n",
            "Эпоха 3 из 50 выполнена за 0.118 сек.\n",
            "  лосс: \t187850221682406.406250\n",
            "Эпоха 4 из 50 выполнена за 0.125 сек.\n",
            "  лосс: \t187850221673598.406250\n",
            "Эпоха 5 из 50 выполнена за 0.136 сек.\n",
            "  лосс: \t187850221671276.812500\n",
            "Эпоха 6 из 50 выполнена за 0.129 сек.\n",
            "  лосс: \t187850221669828.812500\n",
            "Эпоха 7 из 50 выполнена за 0.149 сек.\n",
            "  лосс: \t187850221668366.406250\n",
            "Эпоха 8 из 50 выполнена за 0.130 сек.\n",
            "  лосс: \t187850221611982.406250\n",
            "Эпоха 9 из 50 выполнена за 0.140 сек.\n",
            "  лосс: \t187850221499160.000000\n",
            "Эпоха 10 из 50 выполнена за 0.142 сек.\n",
            "  лосс: \t187850221488766.406250\n",
            "Эпоха 11 из 50 выполнена за 0.143 сек.\n",
            "  лосс: \t187850221486323.187500\n",
            "Эпоха 12 из 50 выполнена за 0.128 сек.\n",
            "  лосс: \t187850219177595.187500\n",
            "Эпоха 13 из 50 выполнена за 0.147 сек.\n",
            "  лосс: \t187850218338009.593750\n",
            "Эпоха 14 из 50 выполнена за 0.135 сек.\n",
            "  лосс: \t187850218336504.000000\n",
            "Эпоха 15 из 50 выполнена за 0.133 сек.\n",
            "  лосс: \t187850218335950.406250\n",
            "Эпоха 16 из 50 выполнена за 0.117 сек.\n",
            "  лосс: \t187850218321312.000000\n",
            "Эпоха 17 из 50 выполнена за 0.133 сек.\n",
            "  лосс: \t187850218319840.000000\n",
            "Эпоха 18 из 50 выполнена за 0.129 сек.\n",
            "  лосс: \t187850218318404.812500\n",
            "Эпоха 19 из 50 выполнена за 0.139 сек.\n",
            "  лосс: \t187850218160430.406250\n",
            "Эпоха 20 из 50 выполнена за 0.147 сек.\n",
            "  лосс: \t187850218154916.812500\n",
            "Эпоха 21 из 50 выполнена за 0.134 сек.\n",
            "  лосс: \t187850218147633.593750\n",
            "Эпоха 22 из 50 выполнена за 0.129 сек.\n",
            "  лосс: \t187850218106097.593750\n",
            "Эпоха 23 из 50 выполнена за 0.124 сек.\n",
            "  лосс: \t187850217999795.187500\n",
            "Эпоха 24 из 50 выполнена за 0.116 сек.\n",
            "  лосс: \t187850211261158.406250\n",
            "Эпоха 25 из 50 выполнена за 0.136 сек.\n",
            "  лосс: \t187850206220776.000000\n",
            "Эпоха 26 из 50 выполнена за 0.131 сек.\n",
            "  лосс: \t187850206218539.187500\n",
            "Эпоха 27 из 50 выполнена за 0.153 сек.\n",
            "  лосс: \t187850206008160.000000\n",
            "Эпоха 28 из 50 выполнена за 0.129 сек.\n",
            "  лосс: \t187850206000875.187500\n",
            "Эпоха 29 из 50 выполнена за 0.138 сек.\n",
            "  лосс: \t187850205972385.593750\n",
            "Эпоха 30 из 50 выполнена за 0.130 сек.\n",
            "  лосс: \t187850205762035.187500\n",
            "Эпоха 31 из 50 выполнена за 0.119 сек.\n",
            "  лосс: \t187850205735179.187500\n",
            "Эпоха 32 из 50 выполнена за 0.137 сек.\n",
            "  лосс: \t187850205726284.812500\n",
            "Эпоха 33 из 50 выполнена за 0.121 сек.\n",
            "  лосс: \t187850205567540.812500\n",
            "Эпоха 34 из 50 выполнена за 0.129 сек.\n",
            "  лосс: \t187850205135974.406250\n",
            "Эпоха 35 из 50 выполнена за 0.132 сек.\n",
            "  лосс: \t187850205131294.406250\n",
            "Эпоха 36 из 50 выполнена за 0.123 сек.\n",
            "  лосс: \t187850205123257.593750\n",
            "Эпоха 37 из 50 выполнена за 0.137 сек.\n",
            "  лосс: \t187850205096288.000000\n",
            "Эпоха 38 из 50 выполнена за 0.149 сек.\n",
            "  лосс: \t187850198305350.406250\n",
            "Эпоха 39 из 50 выполнена за 0.179 сек.\n",
            "  лосс: \t187850197884286.406250\n",
            "Эпоха 40 из 50 выполнена за 0.158 сек.\n",
            "  лосс: \t187850197139123.187500\n",
            "Эпоха 41 из 50 выполнена за 0.165 сек.\n",
            "  лосс: \t187850197137625.593750\n",
            "Эпоха 42 из 50 выполнена за 0.157 сек.\n",
            "  лосс: \t187850197129600.000000\n",
            "Эпоха 43 из 50 выполнена за 0.173 сек.\n",
            "  лосс: \t187850197128936.000000\n",
            "Эпоха 44 из 50 выполнена за 0.170 сек.\n",
            "  лосс: \t187850197128350.406250\n",
            "Эпоха 45 из 50 выполнена за 0.179 сек.\n",
            "  лосс: \t187850197126814.406250\n",
            "Эпоха 46 из 50 выполнена за 0.181 сек.\n",
            "  лосс: \t187850197122884.812500\n",
            "Эпоха 47 из 50 выполнена за 0.190 сек.\n",
            "  лосс: \t187850197114888.000000\n",
            "Эпоха 48 из 50 выполнена за 0.139 сек.\n",
            "  лосс: \t187850196929019.187500\n",
            "Эпоха 49 из 50 выполнена за 0.139 сек.\n",
            "  лосс: \t187850196925195.187500\n",
            "Эпоха 50 из 50 выполнена за 0.126 сек.\n",
            "  лосс: \t187850196922880.000000\n"
          ]
        },
        {
          "output_type": "display_data",
          "data": {
            "text/plain": [
              "<Figure size 1000x500 with 1 Axes>"
            ],
            "image/png": "[encoded data removed]"
          },
          "metadata": {}
        }
      ],
      "source": [
        "from torch.utils.data import DataLoader\n",
        "criterion = nn.MSELoss()\n",
        "optimizer = torch.optim.Adam(model.parameters(),lr=1e-3)\n",
        "train_batch_gen = DataLoader(train_data,batch_size=batch_size)\n",
        "\n",
        "\n",
        "model,_ = train_ts_model(\n",
        "    model,\n",
        "    criterion,\n",
        "    optimizer,\n",
        "    train_batch_gen,\n",
        "    num_epochs=50,\n",
        "    device=device\n",
        ")"
      ]
    },
    {
      "cell_type": "markdown",
      "metadata": {
        "id": "5op_7fB7-w8V"
      },
      "source": [
        "Создадим предсказания на тесте."
      ]
    },
    {
      "cell_type": "code",
      "execution_count": 233,
      "metadata": {
        "id": "YkGN3bsvPJax",
        "colab": {
          "base_uri": "https://localhost:8080/"
        },
        "outputId": "5d5a96fc-8565-4c02-c69a-5e4473097a1a"
      },
      "outputs": [
        {
          "output_type": "execute_result",
          "data": {
            "text/plain": [
              "array([[1.5147041 , 1.9978673 , 2.0721488 ],\n",
              "       [1.4833639 , 1.9645107 , 2.0349386 ],\n",
              "       [1.4566058 , 1.9358332 , 2.0039294 ],\n",
              "       [1.4275317 , 1.9054056 , 1.9726577 ],\n",
              "       [1.3894376 , 1.8668716 , 1.932024  ],\n",
              "       [1.3379089 , 1.8157076 , 1.8733044 ],\n",
              "       [1.2685975 , 1.7474958 , 1.7883089 ],\n",
              "       [1.1764619 , 1.6564283 , 1.6700358 ],\n",
              "       [1.0469618 , 1.5356466 , 1.505907  ],\n",
              "       [1.0290921 , 1.5202864 , 1.484957  ],\n",
              "       [1.009173  , 1.5028259 , 1.4614109 ],\n",
              "       [0.9879297 , 1.4839408 , 1.4363472 ],\n",
              "       [0.9660737 , 1.4643065 , 1.4107687 ],\n",
              "       [0.94448584, 1.4447429 , 1.3858031 ],\n",
              "       [0.9242549 , 1.4262602 , 1.3627346 ],\n",
              "       [0.90672874, 1.41011   , 1.3430264 ],\n",
              "       [0.8934789 , 1.397752  , 1.3282135 ],\n",
              "       [0.88604975, 1.3907485 , 1.3195326 ],\n",
              "       [0.87889796, 1.3840047 , 1.3112073 ],\n",
              "       [0.8722849 , 1.3777692 , 1.3035405 ],\n",
              "       [0.8663826 , 1.3722055 , 1.296725  ],\n",
              "       [0.86129534, 1.3674117 , 1.2908719 ],\n",
              "       [0.85706186, 1.3634231 , 1.2860136 ],\n",
              "       [0.8536492 , 1.3602068 , 1.2821    ],\n",
              "       [0.8509445 , 1.3576549 , 1.2789901 ],\n",
              "       [0.8487534 , 1.3555837 , 1.2764575 ],\n",
              "       [0.8468232 , 1.3537582 , 1.274229  ],\n",
              "       [0.845163  , 1.3521873 , 1.2723141 ],\n",
              "       [0.8437615 , 1.3508607 , 1.2706988 ]], dtype=float32)"
            ]
          },
          "metadata": {},
          "execution_count": 233
        }
      ],
      "source": [
        "prediction = evaluate_ts_model(model, train_data.data.iloc[-timesteps:].values,len(test_data),device=device)\n",
        "\n",
        "prediction"
      ]
    },
    {
      "cell_type": "markdown",
      "metadata": {
        "id": "_6J6Lug6-2mR"
      },
      "source": [
        "Сравним предсказание с реальностью."
      ]
    },
    {
      "cell_type": "code",
      "execution_count": null,
      "metadata": {
        "id": "6qkNhZrzPJP_"
      },
      "outputs": [],
      "source": []
    },
    {
      "cell_type": "markdown",
      "metadata": {
        "id": "55XdDJ_Q9X3k"
      },
      "source": [
        "**Вывод**"
      ]
    },
    {
      "cell_type": "code",
      "execution_count": null,
      "metadata": {
        "id": "3TjvaxhH928B"
      },
      "outputs": [],
      "source": []
    }
  ],
  "metadata": {
    "colab": {
      "gpuType": "T4",
      "provenance": [],
      "include_colab_link": true
    },
    "kernelspec": {
      "display_name": "Python 3",
      "name": "python3"
    },
    "language_info": {
      "codemirror_mode": {
        "name": "ipython",
        "version": 3
      },
      "file_extension": ".py",
      "mimetype": "text/x-python",
      "name": "python",
      "nbconvert_exporter": "python",
      "pygments_lexer": "ipython3",
      "version": "3.11.5"
    }
  },
  "nbformat": 4,
  "nbformat_minor": 0
}