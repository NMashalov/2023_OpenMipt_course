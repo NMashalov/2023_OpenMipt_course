{
  "cells": [
    {
      "cell_type": "markdown",
      "metadata": {},
      "source": [
        "# <a href=\"https://miptstats.github.io/courses/ad_mipt.html\">Phystech@DataScience</a>\n",
        "## Домашнее задание 5\n",
        "\n",
        "**Правила, <font color=\"red\">прочитайте внимательно</font>:**\n",
        "\n",
        "* Выполненную работу нужно отправить телеграм-боту `@miptstats_pds_bot`. Для начала работы с ботом каждый раз отправляйте `/start`. **Работы, присланные иным способом, не принимаются.**\n",
        "* Дедлайн см. в боте. После дедлайна работы не принимаются кроме случаев наличия уважительной причины.\n",
        "* Прислать нужно ноутбук в формате `ipynb`.\n",
        "* Выполнять задание необходимо полностью самостоятельно. **При обнаружении списывания все участники списывания будут сдавать устный зачет.**\n",
        "* Решения, размещенные на каких-либо интернет-ресурсах, не принимаются. Кроме того, публикация решения в открытом доступе может быть приравнена к предоставлении возможности списать.\n",
        "* Для выполнения задания используйте этот ноутбук в качестве основы, ничего не удаляя из него. Можно добавлять необходимое количество ячеек.\n",
        "* Комментарии к решению пишите в markdown-ячейках.\n",
        "* Выполнение задания (ход решения, выводы и пр.) должно быть осуществлено на русском языке.\n",
        "* Если код будет не понятен проверяющему, оценка может быть снижена.\n",
        "* Никакой код из данного задания при проверке запускаться не будет. *Если код студента не выполнен, недописан и т.д., то он не оценивается.*\n",
        "* **Код из рассказанных на занятиях ноутбуков можно использовать без ограничений.**\n",
        "\n",
        "**Правила оформления теоретических задач:**\n",
        "\n",
        "* Решения необходимо прислать одним из следующих способов:\n",
        "  * фотографией в правильной ориентации, где все четко видно, а почерк разборчив,\n",
        "    * отправив ее как файл боту вместе с ноутбуком *или*\n",
        "    * вставив ее в ноутбук посредством `Edit -> Insert Image` (<font color=\"red\">фото, вставленные ссылкой, не принимаются</font>);\n",
        "  * в виде $\\LaTeX$ в markdown-ячейках.\n",
        "* Решения не проверяются, если какое-то требование не выполнено. Особенно внимательно все проверьте в случае выбора второго пункта (вставки фото в ноутбук). <font color=\"red\"><b>Неправильно вставленные фотографии могут не передаться при отправке.</b></font> Для проверки попробуйте переместить `ipynb` в другую папку и открыть его там.\n",
        "* В решениях поясняйте, чем вы пользуетесь, хотя бы кратко. Например, если пользуетесь независимостью, то достаточно подписи вида \"*X и Y незав.*\"\n",
        "* Решение, в котором есть только ответ, и отсутствуют вычисления, оценивается в 0 баллов.\n",
        "\n",
        "**Баллы за задание:**\n",
        "\n",
        "* Задача 1 &mdash;  60 баллов\n",
        "\n",
        "\n",
        "\n",
        "\n",
        "\n",
        "-----"
      ]
    },
    {
      "cell_type": "code",
      "execution_count": null,
      "metadata": {},
      "outputs": [],
      "source": [
        "# Bot check\n",
        "\n",
        "# HW_ID: phds_hw5\n",
        "# Бот проверит этот ID и предупредит, если случайно сдать что-то не то.\n",
        "\n",
        "# Status: not final\n",
        "# Перед отправкой в финальном решении удали \"not\" в строчке выше.\n",
        "# Так бот проверит, что ты отправляешь финальную версию, а не промежуточную.\n",
        "# Никакие значения в этой ячейке не влияют на факт сдачи работы."
      ]
    },
    {
      "cell_type": "code",
      "execution_count": null,
      "metadata": {
        "id": "NHpn4H19pvM0"
      },
      "outputs": [],
      "source": [
        "import time\n",
        "from tqdm.notebook import tqdm\n",
        "from collections import defaultdict\n",
        "\n",
        "import numpy as np\n",
        "import pandas as pd\n",
        "import seaborn as sns\n",
        "import scipy.stats as sps\n",
        "import matplotlib.pyplot as plt\n",
        "from sklearn.model_selection import train_test_split\n",
        "from sklearn.metrics import mean_squared_error\n",
        "from sklearn.preprocessing import MinMaxScaler\n",
        "\n",
        "import torch\n",
        "from torch import nn\n",
        "from torch.utils.data import Dataset, TensorDataset, \\\n",
        "                             DataLoader, RandomSampler, SequentialSampler\n",
        "\n",
        "from IPython.display import clear_output\n",
        "from pylab import rcParams\n",
        "\n",
        "rcParams['figure.figsize'] = 15, 7\n",
        "%matplotlib inline\n",
        "\n",
        "sns.set(font_scale=1.3, palette='Set2')"
      ]
    },
    {
      "cell_type": "markdown",
      "metadata": {
        "id": "DZqaAnp0zNCr"
      },
      "source": [
        "#### **Профиль биология**\n",
        "\n",
        "### Загрузка данных\n",
        "В этом задании вы будете работать с данными о распространении COVID-19, их можно скачать [здесь](https://www.kaggle.com/datasets/gpreda/coronavirus-2019ncov). Мы будем предказывать показатель смертности, потому что способы измерения выздоровевших и заболевших разнятся между регионами.\n",
        "\n",
        " В данных представлены следующие столбцы:\n",
        "\n",
        "* `Country/Region` &mdash; страна или регион,\n",
        "\n",
        "* `Province/State` &mdash; город или населенный пункт,\n",
        "* `Latitude` &mdash; географическая широта,\n",
        "* `Longitude` &mdash; географическая долгота,\n",
        "* `Confirmed` &mdash; кол-во подтвержденных случаев заболевания,\n",
        "* `Recovered` &mdash; кол-во подтвержденных случаев выздоровления,\n",
        "* `Deaths` &mdash; кол-во смертей,\n",
        "* `Date` &mdash; дата."
      ]
    },
    {
      "cell_type": "markdown",
      "metadata": {
        "id": "FtLwptbG6Jq-"
      },
      "source": [
        "Выгрузите датасет."
      ]
    },
    {
      "cell_type": "code",
      "execution_count": null,
      "metadata": {
        "id": "uAoimHEAr3EP"
      },
      "outputs": [],
      "source": []
    },
    {
      "cell_type": "markdown",
      "metadata": {
        "id": "x6ftcgfV5H0I"
      },
      "source": [
        "Установите в качестве индекса дату."
      ]
    },
    {
      "cell_type": "code",
      "execution_count": null,
      "metadata": {
        "id": "J74iDIfBr3I7"
      },
      "outputs": [],
      "source": []
    },
    {
      "cell_type": "markdown",
      "metadata": {
        "id": "dTwzbHWm5MZB"
      },
      "source": [
        "Избавьтесь от `None`, если они есть."
      ]
    },
    {
      "cell_type": "code",
      "execution_count": null,
      "metadata": {
        "id": "1NcFlddosCWw"
      },
      "outputs": [],
      "source": []
    },
    {
      "cell_type": "markdown",
      "metadata": {
        "id": "uBHkCPZc5SZP"
      },
      "source": [
        "Выберите страну и регион, где хотите предсказывать."
      ]
    },
    {
      "cell_type": "code",
      "execution_count": null,
      "metadata": {
        "id": "DlyDgWGfzZAO"
      },
      "outputs": [],
      "source": []
    },
    {
      "cell_type": "markdown",
      "metadata": {
        "id": "m6Pleinb5iJL"
      },
      "source": [
        "Удалите лишние столбцы в выбранных данных."
      ]
    },
    {
      "cell_type": "code",
      "execution_count": null,
      "metadata": {
        "id": "Z4e4RS2dypt2"
      },
      "outputs": [],
      "source": []
    },
    {
      "cell_type": "markdown",
      "metadata": {
        "id": "sEJb-Ote4qIu"
      },
      "source": [
        "Постройте графики заболевших, выздоровевших и количества смертей."
      ]
    },
    {
      "cell_type": "code",
      "execution_count": null,
      "metadata": {
        "id": "B-TCt6mx50Qu"
      },
      "outputs": [],
      "source": []
    },
    {
      "cell_type": "markdown",
      "metadata": {
        "id": "4WXmxu4qzJ23"
      },
      "source": [
        "#### **Профиль физика**\n",
        "\n",
        "В этом задании мы будем работать с данными о загрязнении воздуха в Пекине, которые можно скачать [здесь](https://github.com/Afkerian/Beijing-Multi-Site-Air-Quality-Data-Data-Set/blob/main/data/beijing%2Bmulti%2Bsite%2Bair%2Bquality%2Bdata/PRSA2017_Data_20130301-20170228.zip). В этой папке представлены несколько таблиц, данные в них сняты с различных станций. Для дальнейшей работы выберите любую таблицу.\n",
        "\n",
        " В данных представлены следующие колонки:\n",
        "\n",
        "* `year, month, day, hour`  &mdash; год, месяц, день и час измерения\n",
        "\n",
        "* `PM2.5` концентрация PM2.5 (ug/m^3). `PM2.5` &mdash; описывает мелкие вдыхаемые частицы, диаметр которых обычно составляет 2,5 микрометра и меньше.\n",
        "* `PM10` концентрация PM10 (ug/m^3). `PM10` &mdash; любые твердые частицы в воздухе диаметром 10 микрометров или меньше, включая дым, пыль, сажу, соли, кислоты и металлы.\n",
        "* `SO2`: концентрация SO2 (ug/m^3),\n",
        "* `NO2`: концентрация NO2 (ug/m^3),\n",
        "* `CO`: концентрация CO (ug/m^3),\n",
        "* `O3`: концентрация O3 (ug/m^3),\n",
        "* `TEMP`: температура (degree Celsius),\n",
        "* `PRES`: давление (hPa=100Pa),\n",
        "* `DEWP`: температура точки росы (degree Celsius),\n",
        "* `RAIN`: атмосферные осадки (mm),\n",
        "* `wd`: направление ветра,\n",
        "* `WSPM`: скорость ветра (m/s),\n",
        "* `station`: название станции.\n",
        "\n",
        "Таргетом в этой задаче будет показатель загрязнения воздуха `PM10`."
      ]
    },
    {
      "cell_type": "markdown",
      "metadata": {
        "id": "DqVW2Kni6P4V"
      },
      "source": [
        "Выгрузите данные."
      ]
    },
    {
      "cell_type": "code",
      "execution_count": null,
      "metadata": {
        "id": "hgnHYEYvypkV"
      },
      "outputs": [],
      "source": []
    },
    {
      "cell_type": "markdown",
      "metadata": {
        "id": "6vu7_cra6UmZ"
      },
      "source": [
        "Создайте отдельный столбец в формате даты."
      ]
    },
    {
      "cell_type": "code",
      "execution_count": null,
      "metadata": {
        "id": "2jLqOCCuypeH"
      },
      "outputs": [],
      "source": []
    },
    {
      "cell_type": "markdown",
      "metadata": {
        "id": "wT-otnCSzyR7"
      },
      "source": [
        "Уберите лишние столбцы."
      ]
    },
    {
      "cell_type": "code",
      "execution_count": null,
      "metadata": {
        "id": "Qo_waJMmypaX"
      },
      "outputs": [],
      "source": []
    },
    {
      "cell_type": "markdown",
      "metadata": {
        "id": "k8g0d4xOz3RK"
      },
      "source": [
        "Очистите от null."
      ]
    },
    {
      "cell_type": "code",
      "execution_count": null,
      "metadata": {
        "id": "d4OaNcZj32hs"
      },
      "outputs": [],
      "source": []
    },
    {
      "cell_type": "markdown",
      "metadata": {
        "id": "DHlsrvMI0nvJ"
      },
      "source": [
        "Посмотрите на данные. Постройте временные зависимости для физических параметров."
      ]
    },
    {
      "cell_type": "code",
      "execution_count": null,
      "metadata": {
        "id": "-9_fcktDypQu"
      },
      "outputs": [],
      "source": []
    },
    {
      "cell_type": "markdown",
      "metadata": {
        "id": "BNRXBW3e7R9Q"
      },
      "source": [
        "Попробуйте сделать ещё что-то с данными, потому что модель не сможет определять сразу суточную зависимость, тенденции на месяце и периодичные процессы по сезонам.\n",
        "\n",
        "Посмотрим, есть ли какая-нибудь суточная периодичность. Постройте небольшой кусок какой-нибудь из зависимостей длиной несколько дней."
      ]
    },
    {
      "cell_type": "code",
      "execution_count": null,
      "metadata": {
        "id": "jAa5HPBp7nYW"
      },
      "outputs": [],
      "source": []
    },
    {
      "cell_type": "markdown",
      "metadata": {
        "id": "DDG_btpN7nSA"
      },
      "source": [
        "Есть ли периодичность?"
      ]
    },
    {
      "cell_type": "markdown",
      "metadata": {},
      "source": [
        "**Ответ**"
      ]
    },
    {
      "cell_type": "markdown",
      "metadata": {
        "id": "LPGqhvRlnhUS"
      },
      "source": [
        "Избавимся от суточных изменений, усреднив по дню. Для этого мы не учитывали часы в столбце дней, чтобы было удобнее усреднять.\n",
        "\n",
        "Установите дату как индекс."
      ]
    },
    {
      "cell_type": "code",
      "execution_count": null,
      "metadata": {
        "id": "pHqzlB6_mfuF"
      },
      "outputs": [],
      "source": []
    },
    {
      "cell_type": "markdown",
      "metadata": {
        "id": "hmZD3eSe0jlK"
      },
      "source": [
        "Посмотрим, что получилось. Снова постройте зависимости."
      ]
    },
    {
      "cell_type": "code",
      "execution_count": null,
      "metadata": {
        "id": "l2azYl08mflY"
      },
      "outputs": [],
      "source": []
    },
    {
      "cell_type": "markdown",
      "metadata": {
        "id": "fM-2Tr6_mfWq"
      },
      "source": [
        "Получилось уже лучше, чем было.\n",
        "\n",
        "Оставьте те параметры, которые хотите предсказывать. Учтите, что шумные данные ухудшают возможности в предсказании."
      ]
    },
    {
      "cell_type": "code",
      "execution_count": null,
      "metadata": {
        "id": "yXyI_XCuoVE-"
      },
      "outputs": [],
      "source": []
    },
    {
      "cell_type": "markdown",
      "metadata": {
        "id": "JPiC_g0VypNE"
      },
      "source": [
        "## Модели и обучение"
      ]
    },
    {
      "cell_type": "markdown",
      "metadata": {
        "id": "XhCTSHrm5bBl"
      },
      "source": [
        "### Вспомогательные функции"
      ]
    },
    {
      "cell_type": "markdown",
      "metadata": {
        "id": "mRkmKQlpAZbZ"
      },
      "source": [
        "Напишите класс датасета для данных в виде последовательности."
      ]
    },
    {
      "cell_type": "code",
      "execution_count": null,
      "metadata": {
        "id": "Dmrf65hF5h9U"
      },
      "outputs": [],
      "source": [
        "class TSDataset(torch.utils.data.Dataset):\n",
        "    def __init__(self, data, timesteps):\n",
        "        self.data = <...>\n",
        "        self.timesteps = <...>\n",
        "\n",
        "    def __len__(self):\n",
        "        return <...> # количество подпоследовательностей заданной длины\n",
        "\n",
        "    def __getitem__(self, index):\n",
        "        return <...> # верните X и y"
      ]
    },
    {
      "cell_type": "markdown",
      "metadata": {
        "id": "eqUrmcv7Ai68"
      },
      "source": [
        "Здесь мы создаём функции для обучения, для вывода кривых обучения и для рекурсивного предсказания."
      ]
    },
    {
      "cell_type": "code",
      "execution_count": null,
      "metadata": {
        "id": "wmLfcVVnAvlI"
      },
      "outputs": [],
      "source": [
        "def plot_learning_curves(history):\n",
        "    '''\n",
        "    Функция для вывода лосса и метрики во время обучения.\n",
        "\n",
        "    :param history: (dict)\n",
        "        accuracy и loss на обучении и валидации.\n",
        "    '''\n",
        "    fig = plt.figure(figsize=(10, 5))\n",
        "    plt.plot(history['loss'])\n",
        "    plt.ylabel('Лосс')\n",
        "    plt.xlabel('Эпоха')\n",
        "    plt.show()\n",
        "\n",
        "\n",
        "def train_ts_model(\n",
        "    model,\n",
        "    criterion,\n",
        "    optimizer,\n",
        "    train_batch_gen,\n",
        "    num_epochs=50,\n",
        "    device='cuda'\n",
        "):\n",
        "    '''\n",
        "    Функция для обучения модели и вывода лосса во время обучения.\n",
        "\n",
        "    :param model: обучаемая модель\n",
        "    :param criterion: функция потерь\n",
        "    :param optimizer: метод оптимизации\n",
        "    :param train_batch_gen: генератор батчей для обучения\n",
        "    :param num_epochs: количество эпох\n",
        "\n",
        "    :return: обученная модель\n",
        "    :return: (dict) loss на обучении ('история' обучения)\n",
        "    '''\n",
        "    history = defaultdict(list)\n",
        "\n",
        "    for epoch in range(num_epochs):\n",
        "        train_loss = 0\n",
        "        train_acc = 0\n",
        "        val_loss = 0\n",
        "        val_acc = 0\n",
        "\n",
        "        start_time = time.time()\n",
        "\n",
        "        # Устанавливаем поведение dropout / batch_norm  в обучение\n",
        "        model.train(True)\n",
        "\n",
        "        # На каждой 'эпохе' делаем полный проход по данным\n",
        "        for X_batch, y_batch in train_batch_gen:\n",
        "            X_batch = X_batch.type('torch.FloatTensor').to(device)\n",
        "            y_batch = y_batch.type('torch.FloatTensor').to(device)\n",
        "\n",
        "            logits = model(X_batch)\n",
        "\n",
        "            loss = criterion(logits.squeeze(), y_batch.squeeze())\n",
        "\n",
        "            # подсчёт производных\n",
        "            <...>\n",
        "            # шаг градиента\n",
        "            <...>\n",
        "            # зануление градиентов\n",
        "            <...>\n",
        "\n",
        "            train_loss += np.sum(loss.detach().cpu().numpy())\n",
        "\n",
        "        # Подсчитываем лосс и сохраням в 'историю'\n",
        "        train_loss /= len(train_batch_gen)\n",
        "        history['loss'].append(train_loss)\n",
        "\n",
        "        # clear_output()\n",
        "\n",
        "        # Печатаем результаты после каждой эпохи\n",
        "        print('Эпоха {} из {} выполнена за {:.3f} сек.'.format(\n",
        "            epoch + 1, num_epochs, time.time() - start_time))\n",
        "        print('  лосс: \\t{:.6f}'.format(train_loss))\n",
        "    plot_learning_curves(history)\n",
        "\n",
        "    return model, history\n",
        "\n",
        "\n",
        "def evaluate_ts_model(model, start_seq, test_data, scaler, return_all=False, device='cpu'):\n",
        "    '''\n",
        "    Функция для проверки качества модели на обучающем отрезке ряда.\n",
        "\n",
        "    :param model: обучаемая модель,\n",
        "    :param start_seq: обучающие данные для первого предсказания,\n",
        "    :param test_data: тестовые данные.\n",
        "    :param return_all: возвращать все предсказания или только для 1-го магазина\n",
        "\n",
        "    :return: результаты предсказания.\n",
        "    '''\n",
        "    result = []\n",
        "    model.train(False)\n",
        "    input_tensor = torch.FloatTensor(start_seq).to(device).unsqueeze(0)\n",
        "\n",
        "    with torch.no_grad():\n",
        "        for i in range(len(test_data)):\n",
        "            # делаем предсказание, а unsqueeze нужны, чтобы сделать размерность (1, 1, 1) вместо (1)\n",
        "\n",
        "            logits = model(input_tensor[:, i:, :]).unsqueeze(0)#.unsqueeze(2)\n",
        "\n",
        "            # присоединяем предсказанное значение к последовательности:\n",
        "            #                        (1, timestep, 1) -> (1, 1, 1)   по оси 1\n",
        "            input_tensor = torch.cat((input_tensor,        logits),       1    )\n",
        "\n",
        "            # обратное преобразование к нормальным числам\n",
        "            logits = scaler.inverse_transform(logits.cpu().numpy().squeeze(0))\n",
        "\n",
        "            # результат сохраняем\n",
        "            result.append(logits.squeeze())\n",
        "\n",
        "    if return_all:\n",
        "        return np.array(result)\n",
        "\n",
        "    return np.array(result)"
      ]
    },
    {
      "cell_type": "markdown",
      "metadata": {
        "id": "qFvIrMeBApHC"
      },
      "source": [
        "Создадим класс модели."
      ]
    },
    {
      "cell_type": "code",
      "execution_count": null,
      "metadata": {
        "id": "R19GCMTKAvtA"
      },
      "outputs": [],
      "source": [
        "class LSTM(nn.Module):\n",
        "    def __init__(self, input_size, output_size, hidden_size, num_lstm_layers, use_pool=False):\n",
        "        super(LSTM, self).__init__()\n",
        "\n",
        "        self.hidden_size = hidden_size\n",
        "        self.num_layers  = num_lstm_layers\n",
        "        self.input_size  = input_size\n",
        "\n",
        "        self.lstm = <...> # LSTM-модель с batch_first=True и dropout=0.2\n",
        "\n",
        "        # Размерность пространства выхода последнего LSTM-слоя равна hidden_size.\n",
        "        # Линейный слой нужен, чтобы преобразовать выход LSTM к нужному размеру output_size.\n",
        "        self.fc = <...> # добавьте линейный слой\n",
        "\n",
        "        # Пуллинг\n",
        "        self.pool = <...> # добавьте усредняющий все выходы пуллинг-слой\n",
        "        self.use_pool = use_pool\n",
        "\n",
        "\n",
        "    def forward(self, input_seq):\n",
        "\n",
        "        # инициализируем начальные скрытые состояния\n",
        "        h_0 = torch.zeros(self.num_layers, input_seq.size(0), self.hidden_size).to(device=input_seq.device)\n",
        "        c_0 = torch.zeros(self.num_layers, input_seq.size(0), self.hidden_size).to(device=input_seq.device)\n",
        "\n",
        "        out, (_, _) = self.lstm(input_seq, (h_0, c_0))\n",
        "\n",
        "        if self.use_pool:\n",
        "            # берем среднее от векторов для всей последовательности\n",
        "            out_to_fc = self.pool(out.transpose(1, 2)).squeeze(-1)\n",
        "        else:\n",
        "            # берем последний выходной вектор\n",
        "            out_to_fc = out[:, -1, :]\n",
        "\n",
        "        return self.fc(out_to_fc)"
      ]
    },
    {
      "cell_type": "markdown",
      "metadata": {
        "id": "kfjCQET7ArlX"
      },
      "source": [
        "Напишем функцию для визуализации результатов предсказания."
      ]
    },
    {
      "cell_type": "code",
      "execution_count": null,
      "metadata": {
        "id": "tdazZJjTAv0D"
      },
      "outputs": [],
      "source": [
        "def plot_results(y_to_train, y_to_test=None, y_forecast=None):\n",
        "    \"\"\"\n",
        "        Функция для визуализации временного ряда и предсказания.\n",
        "\n",
        "        Параметры:\n",
        "            - y_to_train: pd.Series\n",
        "                Временной ряд, на котором обучалась модель.\n",
        "            - y_to_test: pd.Series\n",
        "                Временной ряд, который предсказывает модель.\n",
        "            - y_forecast: array\n",
        "                Предсказания модели.\n",
        "            - plot_conf_int: bool\n",
        "                Надо ли строить предсказательного интервал.\n",
        "            - left_bound: array\n",
        "                Левая граница предсказательного интервала.\n",
        "            - right_bound: array\n",
        "                Правая граница предсказательного интервала.\n",
        "    \"\"\"\n",
        "    plt.figure(figsize=(15, 5))\n",
        "    plt.plot(np.arange(len(y_to_train)), y_to_train, label='train')\n",
        "\n",
        "    if y_to_test is not None:\n",
        "        plt.plot(np.arange(len(y_to_train), len(y_to_train) + len(y_to_test)), y_to_test,  label='test')\n",
        "        if y_forecast is not None:\n",
        "            plt.plot(np.arange(len(y_to_train), len(y_to_train) + len(y_to_test)), y_forecast, label='prediction')\n",
        "    plt.legend()\n",
        "    plt.show()"
      ]
    },
    {
      "cell_type": "markdown",
      "metadata": {
        "id": "dJ0LA_ivypJN"
      },
      "source": [
        "#### **Профиль биология**\n"
      ]
    },
    {
      "cell_type": "markdown",
      "metadata": {
        "id": "tKcJOp-W5ykp"
      },
      "source": [
        "Разделим выборку на тест и трейн."
      ]
    },
    {
      "cell_type": "code",
      "execution_count": null,
      "metadata": {
        "id": "myYiLYjeyo6N"
      },
      "outputs": [],
      "source": [
        "test_time = pd.Timestamp('2020-12-01')\n",
        "train_bio = <...>\n",
        "test_bio = <...>"
      ]
    },
    {
      "cell_type": "markdown",
      "metadata": {
        "id": "SOKkT7hZ54aO"
      },
      "source": [
        "Посмотрим на то, что получилось."
      ]
    },
    {
      "cell_type": "code",
      "execution_count": null,
      "metadata": {
        "id": "6tICfo8tOMd3"
      },
      "outputs": [],
      "source": [
        "plot_results(train_bio, test_bio)"
      ]
    },
    {
      "cell_type": "markdown",
      "metadata": {
        "id": "nn3yV5Nn57aN"
      },
      "source": [
        "Преобразуем данные."
      ]
    },
    {
      "cell_type": "code",
      "execution_count": null,
      "metadata": {
        "id": "lwDlLTbBOMMf"
      },
      "outputs": [],
      "source": []
    },
    {
      "cell_type": "markdown",
      "metadata": {
        "id": "W-nsCCg4-QQF"
      },
      "source": [
        "Зададим длину подпоследовательности, размер батча, девайс."
      ]
    },
    {
      "cell_type": "code",
      "execution_count": null,
      "metadata": {
        "colab": {
          "base_uri": "https://localhost:8080/",
          "height": 35
        },
        "id": "ZqxI-piXOh-m",
        "outputId": "51bf3082-b308-4e58-c3f2-1c3c6329a76d"
      },
      "outputs": [
        {
          "data": {
            "application/vnd.google.colaboratory.intrinsic+json": {
              "type": "string"
            },
            "text/plain": [
              "'cpu'"
            ]
          },
          "execution_count": 50,
          "metadata": {},
          "output_type": "execute_result"
        }
      ],
      "source": [
        "timesteps = <...>\n",
        "batch_size = <...>\n",
        "\n",
        "device = \"cuda\" if torch.cuda.is_available() else \"cpu\"\n",
        "device"
      ]
    },
    {
      "cell_type": "markdown",
      "metadata": {
        "id": "az-uo73v-Vzt"
      },
      "source": [
        "Преобразуйте к датасету с помощью нашего класса и сделайте генератор батчей."
      ]
    },
    {
      "cell_type": "code",
      "execution_count": null,
      "metadata": {
        "id": "-PC0aFCKOyMx"
      },
      "outputs": [],
      "source": []
    },
    {
      "cell_type": "markdown",
      "metadata": {
        "id": "Po9i08Xo-qcl"
      },
      "source": [
        "Инициализируйте модель."
      ]
    },
    {
      "cell_type": "code",
      "execution_count": null,
      "metadata": {
        "id": "KX-_eP25OyW0"
      },
      "outputs": [],
      "source": []
    },
    {
      "cell_type": "markdown",
      "metadata": {
        "id": "v_SHxJ5B-tZo"
      },
      "source": [
        "Обучите её."
      ]
    },
    {
      "cell_type": "code",
      "execution_count": null,
      "metadata": {
        "id": "COnN6CrXOiCk"
      },
      "outputs": [],
      "source": []
    },
    {
      "cell_type": "markdown",
      "metadata": {
        "id": "5op_7fB7-w8V"
      },
      "source": [
        "Создадим предсказания на тесте."
      ]
    },
    {
      "cell_type": "code",
      "execution_count": null,
      "metadata": {
        "id": "YkGN3bsvPJax"
      },
      "outputs": [],
      "source": []
    },
    {
      "cell_type": "markdown",
      "metadata": {
        "id": "_6J6Lug6-2mR"
      },
      "source": [
        "Сравним предсказание с реальностью."
      ]
    },
    {
      "cell_type": "code",
      "execution_count": null,
      "metadata": {
        "id": "6qkNhZrzPJP_"
      },
      "outputs": [],
      "source": []
    },
    {
      "cell_type": "markdown",
      "metadata": {
        "id": "55XdDJ_Q9X3k"
      },
      "source": [
        "**Вывод**"
      ]
    },
    {
      "cell_type": "markdown",
      "metadata": {
        "id": "PSk28dY85e1j"
      },
      "source": [
        "#### **Профиль физика**\n"
      ]
    },
    {
      "cell_type": "markdown",
      "metadata": {
        "id": "3BmliBQL_YCM"
      },
      "source": [
        "Разделим выборку на тест и трейн."
      ]
    },
    {
      "cell_type": "code",
      "execution_count": null,
      "metadata": {
        "id": "eP47VPX0PIBI"
      },
      "outputs": [],
      "source": [
        "test_time_phis = pd.Timestamp('2016-04-01')\n",
        "train_phis = <...>\n",
        "test_phis = <...>"
      ]
    },
    {
      "cell_type": "markdown",
      "metadata": {
        "id": "cZHn8U1r_bEx"
      },
      "source": [
        "Посмотрим на то, что получилось."
      ]
    },
    {
      "cell_type": "code",
      "execution_count": null,
      "metadata": {
        "id": "KC7rRjMo5jEY"
      },
      "outputs": [],
      "source": [
        "for name in df_phis.columns:\n",
        "  print(name)\n",
        "  plot_results(train_phis[name], test_phis[name])"
      ]
    },
    {
      "cell_type": "markdown",
      "metadata": {
        "id": "7CE0Lhv6_eON"
      },
      "source": [
        "Отнормируем датасет."
      ]
    },
    {
      "cell_type": "code",
      "execution_count": null,
      "metadata": {
        "id": "egq208rasCFk"
      },
      "outputs": [],
      "source": []
    },
    {
      "cell_type": "markdown",
      "metadata": {
        "id": "zLndBbsH_koo"
      },
      "source": [
        "Зададим длину последовательности, размер батча и девайс."
      ]
    },
    {
      "cell_type": "code",
      "execution_count": null,
      "metadata": {
        "colab": {
          "base_uri": "https://localhost:8080/",
          "height": 35
        },
        "id": "gpyq9GLKR4Zc",
        "outputId": "bb13c513-020a-4b6f-8514-7c017e13d809"
      },
      "outputs": [
        {
          "data": {
            "application/vnd.google.colaboratory.intrinsic+json": {
              "type": "string"
            },
            "text/plain": [
              "'cuda'"
            ]
          },
          "execution_count": 21,
          "metadata": {},
          "output_type": "execute_result"
        }
      ],
      "source": [
        "timesteps = <...>\n",
        "batch_size = <...>\n",
        "\n",
        "device = \"cuda\" if torch.cuda.is_available() else \"cpu\"\n",
        "device"
      ]
    },
    {
      "cell_type": "markdown",
      "metadata": {
        "id": "NK4y6bBU_pg_"
      },
      "source": [
        "Инициализируем датасет и создадим dataloader к нему."
      ]
    },
    {
      "cell_type": "code",
      "execution_count": null,
      "metadata": {
        "id": "1qgsngYdR4c3"
      },
      "outputs": [],
      "source": []
    },
    {
      "cell_type": "markdown",
      "metadata": {
        "id": "-sBBsJ-1_v1v"
      },
      "source": [
        "Инициализируем модель."
      ]
    },
    {
      "cell_type": "code",
      "execution_count": null,
      "metadata": {
        "id": "IfH51p4bR4fN"
      },
      "outputs": [],
      "source": []
    },
    {
      "cell_type": "markdown",
      "metadata": {
        "id": "nXQRfNxb_yfg"
      },
      "source": [
        "Обучим её."
      ]
    },
    {
      "cell_type": "code",
      "execution_count": null,
      "metadata": {
        "id": "ivIvqASCTj5e"
      },
      "outputs": [],
      "source": []
    },
    {
      "cell_type": "markdown",
      "metadata": {
        "id": "BrDTkmre_0vG"
      },
      "source": [
        "Получим предсказания на тесте."
      ]
    },
    {
      "cell_type": "code",
      "execution_count": null,
      "metadata": {
        "id": "bJ-ddhn_TrCf"
      },
      "outputs": [],
      "source": []
    },
    {
      "cell_type": "markdown",
      "metadata": {
        "id": "txqcuHxT_4Ao"
      },
      "source": [
        "Сравним предсказания с истинными значениями."
      ]
    },
    {
      "cell_type": "code",
      "execution_count": null,
      "metadata": {
        "id": "kYr3DwCXT8jc"
      },
      "outputs": [],
      "source": []
    },
    {
      "cell_type": "markdown",
      "metadata": {
        "id": "lUL95wfau8cX"
      },
      "source": [
        "**Вывод**"
      ]
    },
    {
      "cell_type": "code",
      "execution_count": null,
      "metadata": {
        "id": "3TjvaxhH928B"
      },
      "outputs": [],
      "source": []
    }
  ],
  "metadata": {
    "colab": {
      "gpuType": "T4",
      "provenance": []
    },
    "kernelspec": {
      "display_name": "Python 3",
      "name": "python3"
    },
    "language_info": {
      "codemirror_mode": {
        "name": "ipython",
        "version": 3
      },
      "file_extension": ".py",
      "mimetype": "text/x-python",
      "name": "python",
      "nbconvert_exporter": "python",
      "pygments_lexer": "ipython3",
      "version": "3.11.5"
    }
  },
  "nbformat": 4,
  "nbformat_minor": 0
}
