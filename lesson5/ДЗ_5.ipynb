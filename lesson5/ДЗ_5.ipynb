{
  "cells": [
    {
      "cell_type": "markdown",
      "metadata": {
        "id": "view-in-github",
        "colab_type": "text"
      },
      "source": [
        "<a href=\"https://colab.research.google.com/github/NMashalov/2023_OpenMipt_course/blob/main/lesson5/%D0%94%D0%97_5.ipynb\" target=\"_parent\"><img src=\"https://colab.research.google.com/assets/colab-badge.svg\" alt=\"Open In Colab\"/></a>"
      ]
    },
    {
      "cell_type": "markdown",
      "metadata": {
        "id": "l2ZEDW1D5ija"
      },
      "source": [
        "# <a href=\"https://miptstats.github.io/courses/ad_mipt.html\">Phystech@DataScience</a>\n",
        "## Домашнее задание 5\n",
        "\n",
        "**Правила, <font color=\"red\">прочитайте внимательно</font>:**\n",
        "\n",
        "* Выполненную работу нужно отправить телеграм-боту `@miptstats_pds_bot`. Для начала работы с ботом каждый раз отправляйте `/start`. **Работы, присланные иным способом, не принимаются.**\n",
        "* Дедлайн см. в боте. После дедлайна работы не принимаются кроме случаев наличия уважительной причины.\n",
        "* Прислать нужно ноутбук в формате `ipynb`.\n",
        "* Выполнять задание необходимо полностью самостоятельно. **При обнаружении списывания все участники списывания будут сдавать устный зачет.**\n",
        "* Решения, размещенные на каких-либо интернет-ресурсах, не принимаются. Кроме того, публикация решения в открытом доступе может быть приравнена к предоставлении возможности списать.\n",
        "* Для выполнения задания используйте этот ноутбук в качестве основы, ничего не удаляя из него. Можно добавлять необходимое количество ячеек.\n",
        "* Комментарии к решению пишите в markdown-ячейках.\n",
        "* Выполнение задания (ход решения, выводы и пр.) должно быть осуществлено на русском языке.\n",
        "* Если код будет не понятен проверяющему, оценка может быть снижена.\n",
        "* Никакой код из данного задания при проверке запускаться не будет. *Если код студента не выполнен, недописан и т.д., то он не оценивается.*\n",
        "* **Код из рассказанных на занятиях ноутбуков можно использовать без ограничений.**\n",
        "\n",
        "**Правила оформления теоретических задач:**\n",
        "\n",
        "* Решения необходимо прислать одним из следующих способов:\n",
        "  * фотографией в правильной ориентации, где все четко видно, а почерк разборчив,\n",
        "    * отправив ее как файл боту вместе с ноутбуком *или*\n",
        "    * вставив ее в ноутбук посредством `Edit -> Insert Image` (<font color=\"red\">фото, вставленные ссылкой, не принимаются</font>);\n",
        "  * в виде $\\LaTeX$ в markdown-ячейках.\n",
        "* Решения не проверяются, если какое-то требование не выполнено. Особенно внимательно все проверьте в случае выбора второго пункта (вставки фото в ноутбук). <font color=\"red\"><b>Неправильно вставленные фотографии могут не передаться при отправке.</b></font> Для проверки попробуйте переместить `ipynb` в другую папку и открыть его там.\n",
        "* В решениях поясняйте, чем вы пользуетесь, хотя бы кратко. Например, если пользуетесь независимостью, то достаточно подписи вида \"*X и Y незав.*\"\n",
        "* Решение, в котором есть только ответ, и отсутствуют вычисления, оценивается в 0 баллов.\n",
        "\n",
        "**Баллы за задание:**\n",
        "\n",
        "* Задача 1 &mdash;  60 баллов\n",
        "\n",
        "\n",
        "\n",
        "\n",
        "\n",
        "-----"
      ]
    },
    {
      "cell_type": "code",
      "execution_count": null,
      "metadata": {
        "id": "WDQahDqX5ijc"
      },
      "outputs": [],
      "source": [
        "# Bot check\n",
        "\n",
        "# HW_ID: phds_hw5\n",
        "# Бот проверит этот ID и предупредит, если случайно сдать что-то не то.\n",
        "\n",
        "# Status: not final\n",
        "# Перед отправкой в финальном решении удали \"not\" в строчке выше.\n",
        "# Так бот проверит, что ты отправляешь финальную версию, а не промежуточную.\n",
        "# Никакие значения в этой ячейке не влияют на факт сдачи работы."
      ]
    },
    {
      "cell_type": "code",
      "execution_count": 1,
      "metadata": {
        "id": "NHpn4H19pvM0"
      },
      "outputs": [],
      "source": [
        "import time\n",
        "from tqdm.notebook import tqdm\n",
        "from collections import defaultdict\n",
        "\n",
        "import numpy as np\n",
        "import pandas as pd\n",
        "import seaborn as sns\n",
        "import scipy.stats as sps\n",
        "import matplotlib.pyplot as plt\n",
        "from sklearn.model_selection import train_test_split\n",
        "from sklearn.metrics import mean_squared_error\n",
        "from sklearn.preprocessing import MinMaxScaler\n",
        "\n",
        "import torch\n",
        "from torch import nn\n",
        "from torch.utils.data import Dataset, TensorDataset, \\\n",
        "                             DataLoader, RandomSampler, SequentialSampler\n",
        "\n",
        "from IPython.display import clear_output\n",
        "from pylab import rcParams\n",
        "\n",
        "rcParams['figure.figsize'] = 15, 7\n",
        "%matplotlib inline\n",
        "\n",
        "sns.set(font_scale=1.3, palette='Set2')"
      ]
    },
    {
      "cell_type": "markdown",
      "metadata": {
        "id": "DZqaAnp0zNCr"
      },
      "source": [
        "#### **Профиль биология**\n",
        "\n",
        "### Загрузка данных\n",
        "В этом задании вы будете работать с данными о распространении COVID-19, их можно скачать [здесь](https://www.kaggle.com/datasets/gpreda/coronavirus-2019ncov). Мы будем предказывать показатель смертности, потому что способы измерения выздоровевших и заболевших разнятся между регионами.\n",
        "\n",
        " В данных представлены следующие столбцы:\n",
        "\n",
        "* `Country/Region` &mdash; страна или регион,\n",
        "\n",
        "* `Province/State` &mdash; город или населенный пункт,\n",
        "* `Latitude` &mdash; географическая широта,\n",
        "* `Longitude` &mdash; географическая долгота,\n",
        "* `Confirmed` &mdash; кол-во подтвержденных случаев заболевания,\n",
        "* `Recovered` &mdash; кол-во подтвержденных случаев выздоровления,\n",
        "* `Deaths` &mdash; кол-во смертей,\n",
        "* `Date` &mdash; дата."
      ]
    },
    {
      "cell_type": "markdown",
      "metadata": {
        "id": "FtLwptbG6Jq-"
      },
      "source": [
        "Выгрузите датасет."
      ]
    },
    {
      "cell_type": "code",
      "source": [
        "!pip install -q opendatasets"
      ],
      "metadata": {
        "id": "Q-m_DpNm5x96",
        "outputId": "156c8b87-d174-4874-f8f5-ecb969e4c8f9",
        "colab": {
          "base_uri": "https://localhost:8080/"
        }
      },
      "execution_count": 3,
      "outputs": [
        {
          "output_type": "stream",
          "name": "stdout",
          "text": [
            "Collecting opendatasets\n",
            "  Downloading opendatasets-0.1.22-py3-none-any.whl (15 kB)\n",
            "Requirement already satisfied: tqdm in /usr/local/lib/python3.10/dist-packages (from opendatasets) (4.66.1)\n",
            "Requirement already satisfied: kaggle in /usr/local/lib/python3.10/dist-packages (from opendatasets) (1.5.16)\n",
            "Requirement already satisfied: click in /usr/local/lib/python3.10/dist-packages (from opendatasets) (8.1.7)\n",
            "Requirement already satisfied: six>=1.10 in /usr/local/lib/python3.10/dist-packages (from kaggle->opendatasets) (1.16.0)\n",
            "Requirement already satisfied: certifi in /usr/local/lib/python3.10/dist-packages (from kaggle->opendatasets) (2023.7.22)\n",
            "Requirement already satisfied: python-dateutil in /usr/local/lib/python3.10/dist-packages (from kaggle->opendatasets) (2.8.2)\n",
            "Requirement already satisfied: requests in /usr/local/lib/python3.10/dist-packages (from kaggle->opendatasets) (2.31.0)\n",
            "Requirement already satisfied: python-slugify in /usr/local/lib/python3.10/dist-packages (from kaggle->opendatasets) (8.0.1)\n",
            "Requirement already satisfied: urllib3 in /usr/local/lib/python3.10/dist-packages (from kaggle->opendatasets) (2.0.7)\n",
            "Requirement already satisfied: bleach in /usr/local/lib/python3.10/dist-packages (from kaggle->opendatasets) (6.1.0)\n",
            "Requirement already satisfied: webencodings in /usr/local/lib/python3.10/dist-packages (from bleach->kaggle->opendatasets) (0.5.1)\n",
            "Requirement already satisfied: text-unidecode>=1.3 in /usr/local/lib/python3.10/dist-packages (from python-slugify->kaggle->opendatasets) (1.3)\n",
            "Requirement already satisfied: charset-normalizer<4,>=2 in /usr/local/lib/python3.10/dist-packages (from requests->kaggle->opendatasets) (3.3.0)\n",
            "Requirement already satisfied: idna<4,>=2.5 in /usr/local/lib/python3.10/dist-packages (from requests->kaggle->opendatasets) (3.4)\n",
            "Installing collected packages: opendatasets\n",
            "Successfully installed opendatasets-0.1.22\n"
          ]
        }
      ]
    },
    {
      "cell_type": "code",
      "execution_count": 5,
      "metadata": {
        "id": "uAoimHEAr3EP",
        "outputId": "07366abd-c7a8-493d-e464-458a2c08b965",
        "colab": {
          "base_uri": "https://localhost:8080/"
        }
      },
      "outputs": [
        {
          "output_type": "stream",
          "name": "stdout",
          "text": [
            "Please provide your Kaggle credentials to download this dataset. Learn more: http://bit.ly/kaggle-creds\n",
            "Your Kaggle username: mashalovne\n",
            "Your Kaggle Key: ··········\n",
            "Downloading coronavirus-2019ncov.zip to ./coronavirus-2019ncov\n"
          ]
        },
        {
          "output_type": "stream",
          "name": "stderr",
          "text": [
            "100%|██████████| 20.5M/20.5M [00:00<00:00, 88.9MB/s]\n"
          ]
        },
        {
          "output_type": "stream",
          "name": "stdout",
          "text": [
            "\n"
          ]
        }
      ],
      "source": [
        "import opendatasets as od\n",
        "od.download('https://www.kaggle.com/datasets/gpreda/coronavirus-2019ncov')"
      ]
    },
    {
      "cell_type": "markdown",
      "metadata": {
        "id": "x6ftcgfV5H0I"
      },
      "source": [
        "Установите в качестве индекса дату."
      ]
    },
    {
      "cell_type": "code",
      "execution_count": 20,
      "metadata": {
        "id": "J74iDIfBr3I7",
        "outputId": "a75fad86-964b-4b48-f10d-71271a1aa89d",
        "colab": {
          "base_uri": "https://localhost:8080/"
        }
      },
      "outputs": [
        {
          "output_type": "stream",
          "name": "stderr",
          "text": [
            "<ipython-input-20-2e9d80f6466b>:2: DtypeWarning: Columns (0,1) have mixed types. Specify dtype option on import or set low_memory=False.\n",
            "  df = pd.read_csv('coronavirus-2019ncov/covid-19-all.csv')\n"
          ]
        }
      ],
      "source": [
        "import pandas as pd\n",
        "df = pd.read_csv('coronavirus-2019ncov/covid-19-all.csv')"
      ]
    },
    {
      "cell_type": "code",
      "source": [
        "df.set_index('Date',inplace=True)"
      ],
      "metadata": {
        "id": "liLeyJje7mDr"
      },
      "execution_count": 22,
      "outputs": []
    },
    {
      "cell_type": "code",
      "source": [
        "df.sample(20)"
      ],
      "metadata": {
        "id": "SX5hb1tU76LA",
        "outputId": "377fb613-f23e-4cb3-bf83-a020bd1178d9",
        "colab": {
          "base_uri": "https://localhost:8080/",
          "height": 708
        }
      },
      "execution_count": 23,
      "outputs": [
        {
          "output_type": "execute_result",
          "data": {
            "text/plain": [
              "           Country/Region                Province/State   Latitude  \\\n",
              "Date                                                                 \n",
              "2020-12-01       Colombia                          Meta   3.272000   \n",
              "2020-11-18             US                  South Dakota  43.895227   \n",
              "2020-10-30          Japan                       Tochigi  36.689912   \n",
              "2020-03-31          Libya                           NaN  26.335100   \n",
              "2020-07-15             US                 West Virginia  40.273673   \n",
              "2020-07-30          Burma                           NaN  21.916200   \n",
              "2020-05-04             US                     Wisconsin  45.027153   \n",
              "2020-05-02             US                    New Mexico  36.508383   \n",
              "2020-08-29             US                  South Dakota  43.193386   \n",
              "2020-05-02             US                   Mississippi  32.264691   \n",
              "2020-06-04         Russia  Kabardino-Balkarian Republic  43.480605   \n",
              "2020-07-03             US                     Minnesota  48.245397   \n",
              "2020-09-13             US                       Alabama  34.698475   \n",
              "2020-07-03             US                      Illinois  42.322491   \n",
              "2021-01-05            NaN                           NaN        NaN   \n",
              "2020-12-15             US                      Illinois  41.353399   \n",
              "2020-07-07          China                       Qinghai  35.745200   \n",
              "2020-12-13             US                         Texas  28.422701   \n",
              "2020-04-30             US                      Colorado  38.862462   \n",
              "2020-09-24             US                South Carolina  34.078597   \n",
              "\n",
              "             Longitude  Confirmed  Recovered  Deaths  \n",
              "Date                                                  \n",
              "2020-12-01  -73.087700    28438.0    26823.0   634.0  \n",
              "2020-11-18  -99.852019      389.0        0.0     8.0  \n",
              "2020-10-30  139.819213      487.0      461.0     1.0  \n",
              "2020-03-31   17.228331       10.0        1.0     0.0  \n",
              "2020-07-15  -80.579153       33.0        0.0     0.0  \n",
              "2020-07-30   95.956000      353.0      295.0     6.0  \n",
              "2020-05-04  -88.268075       18.0        0.0     0.0  \n",
              "2020-05-02 -108.320437      710.0        0.0    51.0  \n",
              "2020-08-29 -100.719550       78.0        0.0     5.0  \n",
              "2020-05-02  -89.945379      197.0        0.0     5.0  \n",
              "2020-06-04   43.597898     3126.0     1457.0    25.0  \n",
              "2020-07-03  -93.783528       14.0        0.0     1.0  \n",
              "2020-09-13  -87.801685     1536.0        0.0    23.0  \n",
              "2020-07-03  -88.003679     9864.0        0.0   421.0  \n",
              "2021-01-05         NaN    14263.0        0.0   204.0  \n",
              "2020-12-15  -90.132962     3324.0        0.0    26.0  \n",
              "2020-07-07   95.995600       18.0       18.0     0.0  \n",
              "2020-12-13  -99.756451      471.0        0.0     9.0  \n",
              "2020-04-30 -107.863134       44.0        0.0     1.0  \n",
              "2020-09-24  -79.364008      857.0        0.0    23.0  "
            ],
            "text/html": [
              "\n",
              "  <div id=\"df-40a6e163-db91-4c70-ac03-688c819b4f6c\" class=\"colab-df-container\">\n",
              "    <div>\n",
              "<style scoped>\n",
              "    .dataframe tbody tr th:only-of-type {\n",
              "        vertical-align: middle;\n",
              "    }\n",
              "\n",
              "    .dataframe tbody tr th {\n",
              "        vertical-align: top;\n",
              "    }\n",
              "\n",
              "    .dataframe thead th {\n",
              "        text-align: right;\n",
              "    }\n",
              "</style>\n",
              "<table border=\"1\" class=\"dataframe\">\n",
              "  <thead>\n",
              "    <tr style=\"text-align: right;\">\n",
              "      <th></th>\n",
              "      <th>Country/Region</th>\n",
              "      <th>Province/State</th>\n",
              "      <th>Latitude</th>\n",
              "      <th>Longitude</th>\n",
              "      <th>Confirmed</th>\n",
              "      <th>Recovered</th>\n",
              "      <th>Deaths</th>\n",
              "    </tr>\n",
              "    <tr>\n",
              "      <th>Date</th>\n",
              "      <th></th>\n",
              "      <th></th>\n",
              "      <th></th>\n",
              "      <th></th>\n",
              "      <th></th>\n",
              "      <th></th>\n",
              "      <th></th>\n",
              "    </tr>\n",
              "  </thead>\n",
              "  <tbody>\n",
              "    <tr>\n",
              "      <th>2020-12-01</th>\n",
              "      <td>Colombia</td>\n",
              "      <td>Meta</td>\n",
              "      <td>3.272000</td>\n",
              "      <td>-73.087700</td>\n",
              "      <td>28438.0</td>\n",
              "      <td>26823.0</td>\n",
              "      <td>634.0</td>\n",
              "    </tr>\n",
              "    <tr>\n",
              "      <th>2020-11-18</th>\n",
              "      <td>US</td>\n",
              "      <td>South Dakota</td>\n",
              "      <td>43.895227</td>\n",
              "      <td>-99.852019</td>\n",
              "      <td>389.0</td>\n",
              "      <td>0.0</td>\n",
              "      <td>8.0</td>\n",
              "    </tr>\n",
              "    <tr>\n",
              "      <th>2020-10-30</th>\n",
              "      <td>Japan</td>\n",
              "      <td>Tochigi</td>\n",
              "      <td>36.689912</td>\n",
              "      <td>139.819213</td>\n",
              "      <td>487.0</td>\n",
              "      <td>461.0</td>\n",
              "      <td>1.0</td>\n",
              "    </tr>\n",
              "    <tr>\n",
              "      <th>2020-03-31</th>\n",
              "      <td>Libya</td>\n",
              "      <td>NaN</td>\n",
              "      <td>26.335100</td>\n",
              "      <td>17.228331</td>\n",
              "      <td>10.0</td>\n",
              "      <td>1.0</td>\n",
              "      <td>0.0</td>\n",
              "    </tr>\n",
              "    <tr>\n",
              "      <th>2020-07-15</th>\n",
              "      <td>US</td>\n",
              "      <td>West Virginia</td>\n",
              "      <td>40.273673</td>\n",
              "      <td>-80.579153</td>\n",
              "      <td>33.0</td>\n",
              "      <td>0.0</td>\n",
              "      <td>0.0</td>\n",
              "    </tr>\n",
              "    <tr>\n",
              "      <th>2020-07-30</th>\n",
              "      <td>Burma</td>\n",
              "      <td>NaN</td>\n",
              "      <td>21.916200</td>\n",
              "      <td>95.956000</td>\n",
              "      <td>353.0</td>\n",
              "      <td>295.0</td>\n",
              "      <td>6.0</td>\n",
              "    </tr>\n",
              "    <tr>\n",
              "      <th>2020-05-04</th>\n",
              "      <td>US</td>\n",
              "      <td>Wisconsin</td>\n",
              "      <td>45.027153</td>\n",
              "      <td>-88.268075</td>\n",
              "      <td>18.0</td>\n",
              "      <td>0.0</td>\n",
              "      <td>0.0</td>\n",
              "    </tr>\n",
              "    <tr>\n",
              "      <th>2020-05-02</th>\n",
              "      <td>US</td>\n",
              "      <td>New Mexico</td>\n",
              "      <td>36.508383</td>\n",
              "      <td>-108.320437</td>\n",
              "      <td>710.0</td>\n",
              "      <td>0.0</td>\n",
              "      <td>51.0</td>\n",
              "    </tr>\n",
              "    <tr>\n",
              "      <th>2020-08-29</th>\n",
              "      <td>US</td>\n",
              "      <td>South Dakota</td>\n",
              "      <td>43.193386</td>\n",
              "      <td>-100.719550</td>\n",
              "      <td>78.0</td>\n",
              "      <td>0.0</td>\n",
              "      <td>5.0</td>\n",
              "    </tr>\n",
              "    <tr>\n",
              "      <th>2020-05-02</th>\n",
              "      <td>US</td>\n",
              "      <td>Mississippi</td>\n",
              "      <td>32.264691</td>\n",
              "      <td>-89.945379</td>\n",
              "      <td>197.0</td>\n",
              "      <td>0.0</td>\n",
              "      <td>5.0</td>\n",
              "    </tr>\n",
              "    <tr>\n",
              "      <th>2020-06-04</th>\n",
              "      <td>Russia</td>\n",
              "      <td>Kabardino-Balkarian Republic</td>\n",
              "      <td>43.480605</td>\n",
              "      <td>43.597898</td>\n",
              "      <td>3126.0</td>\n",
              "      <td>1457.0</td>\n",
              "      <td>25.0</td>\n",
              "    </tr>\n",
              "    <tr>\n",
              "      <th>2020-07-03</th>\n",
              "      <td>US</td>\n",
              "      <td>Minnesota</td>\n",
              "      <td>48.245397</td>\n",
              "      <td>-93.783528</td>\n",
              "      <td>14.0</td>\n",
              "      <td>0.0</td>\n",
              "      <td>1.0</td>\n",
              "    </tr>\n",
              "    <tr>\n",
              "      <th>2020-09-13</th>\n",
              "      <td>US</td>\n",
              "      <td>Alabama</td>\n",
              "      <td>34.698475</td>\n",
              "      <td>-87.801685</td>\n",
              "      <td>1536.0</td>\n",
              "      <td>0.0</td>\n",
              "      <td>23.0</td>\n",
              "    </tr>\n",
              "    <tr>\n",
              "      <th>2020-07-03</th>\n",
              "      <td>US</td>\n",
              "      <td>Illinois</td>\n",
              "      <td>42.322491</td>\n",
              "      <td>-88.003679</td>\n",
              "      <td>9864.0</td>\n",
              "      <td>0.0</td>\n",
              "      <td>421.0</td>\n",
              "    </tr>\n",
              "    <tr>\n",
              "      <th>2021-01-05</th>\n",
              "      <td>NaN</td>\n",
              "      <td>NaN</td>\n",
              "      <td>NaN</td>\n",
              "      <td>NaN</td>\n",
              "      <td>14263.0</td>\n",
              "      <td>0.0</td>\n",
              "      <td>204.0</td>\n",
              "    </tr>\n",
              "    <tr>\n",
              "      <th>2020-12-15</th>\n",
              "      <td>US</td>\n",
              "      <td>Illinois</td>\n",
              "      <td>41.353399</td>\n",
              "      <td>-90.132962</td>\n",
              "      <td>3324.0</td>\n",
              "      <td>0.0</td>\n",
              "      <td>26.0</td>\n",
              "    </tr>\n",
              "    <tr>\n",
              "      <th>2020-07-07</th>\n",
              "      <td>China</td>\n",
              "      <td>Qinghai</td>\n",
              "      <td>35.745200</td>\n",
              "      <td>95.995600</td>\n",
              "      <td>18.0</td>\n",
              "      <td>18.0</td>\n",
              "      <td>0.0</td>\n",
              "    </tr>\n",
              "    <tr>\n",
              "      <th>2020-12-13</th>\n",
              "      <td>US</td>\n",
              "      <td>Texas</td>\n",
              "      <td>28.422701</td>\n",
              "      <td>-99.756451</td>\n",
              "      <td>471.0</td>\n",
              "      <td>0.0</td>\n",
              "      <td>9.0</td>\n",
              "    </tr>\n",
              "    <tr>\n",
              "      <th>2020-04-30</th>\n",
              "      <td>US</td>\n",
              "      <td>Colorado</td>\n",
              "      <td>38.862462</td>\n",
              "      <td>-107.863134</td>\n",
              "      <td>44.0</td>\n",
              "      <td>0.0</td>\n",
              "      <td>1.0</td>\n",
              "    </tr>\n",
              "    <tr>\n",
              "      <th>2020-09-24</th>\n",
              "      <td>US</td>\n",
              "      <td>South Carolina</td>\n",
              "      <td>34.078597</td>\n",
              "      <td>-79.364008</td>\n",
              "      <td>857.0</td>\n",
              "      <td>0.0</td>\n",
              "      <td>23.0</td>\n",
              "    </tr>\n",
              "  </tbody>\n",
              "</table>\n",
              "</div>\n",
              "    <div class=\"colab-df-buttons\">\n",
              "\n",
              "  <div class=\"colab-df-container\">\n",
              "    <button class=\"colab-df-convert\" onclick=\"convertToInteractive('df-40a6e163-db91-4c70-ac03-688c819b4f6c')\"\n",
              "            title=\"Convert this dataframe to an interactive table.\"\n",
              "            style=\"display:none;\">\n",
              "\n",
              "  <svg xmlns=\"http://www.w3.org/2000/svg\" height=\"24px\" viewBox=\"0 -960 960 960\">\n",
              "    <path d=\"M120-120v-720h720v720H120Zm60-500h600v-160H180v160Zm220 220h160v-160H400v160Zm0 220h160v-160H400v160ZM180-400h160v-160H180v160Zm440 0h160v-160H620v160ZM180-180h160v-160H180v160Zm440 0h160v-160H620v160Z\"/>\n",
              "  </svg>\n",
              "    </button>\n",
              "\n",
              "  <style>\n",
              "    .colab-df-container {\n",
              "      display:flex;\n",
              "      gap: 12px;\n",
              "    }\n",
              "\n",
              "    .colab-df-convert {\n",
              "      background-color: #E8F0FE;\n",
              "      border: none;\n",
              "      border-radius: 50%;\n",
              "      cursor: pointer;\n",
              "      display: none;\n",
              "      fill: #1967D2;\n",
              "      height: 32px;\n",
              "      padding: 0 0 0 0;\n",
              "      width: 32px;\n",
              "    }\n",
              "\n",
              "    .colab-df-convert:hover {\n",
              "      background-color: #E2EBFA;\n",
              "      box-shadow: 0px 1px 2px rgba(60, 64, 67, 0.3), 0px 1px 3px 1px rgba(60, 64, 67, 0.15);\n",
              "      fill: #174EA6;\n",
              "    }\n",
              "\n",
              "    .colab-df-buttons div {\n",
              "      margin-bottom: 4px;\n",
              "    }\n",
              "\n",
              "    [theme=dark] .colab-df-convert {\n",
              "      background-color: #3B4455;\n",
              "      fill: #D2E3FC;\n",
              "    }\n",
              "\n",
              "    [theme=dark] .colab-df-convert:hover {\n",
              "      background-color: #434B5C;\n",
              "      box-shadow: 0px 1px 3px 1px rgba(0, 0, 0, 0.15);\n",
              "      filter: drop-shadow(0px 1px 2px rgba(0, 0, 0, 0.3));\n",
              "      fill: #FFFFFF;\n",
              "    }\n",
              "  </style>\n",
              "\n",
              "    <script>\n",
              "      const buttonEl =\n",
              "        document.querySelector('#df-40a6e163-db91-4c70-ac03-688c819b4f6c button.colab-df-convert');\n",
              "      buttonEl.style.display =\n",
              "        google.colab.kernel.accessAllowed ? 'block' : 'none';\n",
              "\n",
              "      async function convertToInteractive(key) {\n",
              "        const element = document.querySelector('#df-40a6e163-db91-4c70-ac03-688c819b4f6c');\n",
              "        const dataTable =\n",
              "          await google.colab.kernel.invokeFunction('convertToInteractive',\n",
              "                                                    [key], {});\n",
              "        if (!dataTable) return;\n",
              "\n",
              "        const docLinkHtml = 'Like what you see? Visit the ' +\n",
              "          '<a target=\"_blank\" href=https://colab.research.google.com/notebooks/data_table.ipynb>data table notebook</a>'\n",
              "          + ' to learn more about interactive tables.';\n",
              "        element.innerHTML = '';\n",
              "        dataTable['output_type'] = 'display_data';\n",
              "        await google.colab.output.renderOutput(dataTable, element);\n",
              "        const docLink = document.createElement('div');\n",
              "        docLink.innerHTML = docLinkHtml;\n",
              "        element.appendChild(docLink);\n",
              "      }\n",
              "    </script>\n",
              "  </div>\n",
              "\n",
              "\n",
              "<div id=\"df-1cc4db93-341a-472f-b1d4-5abfe39d827c\">\n",
              "  <button class=\"colab-df-quickchart\" onclick=\"quickchart('df-1cc4db93-341a-472f-b1d4-5abfe39d827c')\"\n",
              "            title=\"Suggest charts.\"\n",
              "            style=\"display:none;\">\n",
              "\n",
              "<svg xmlns=\"http://www.w3.org/2000/svg\" height=\"24px\"viewBox=\"0 0 24 24\"\n",
              "     width=\"24px\">\n",
              "    <g>\n",
              "        <path d=\"M19 3H5c-1.1 0-2 .9-2 2v14c0 1.1.9 2 2 2h14c1.1 0 2-.9 2-2V5c0-1.1-.9-2-2-2zM9 17H7v-7h2v7zm4 0h-2V7h2v10zm4 0h-2v-4h2v4z\"/>\n",
              "    </g>\n",
              "</svg>\n",
              "  </button>\n",
              "\n",
              "<style>\n",
              "  .colab-df-quickchart {\n",
              "      --bg-color: #E8F0FE;\n",
              "      --fill-color: #1967D2;\n",
              "      --hover-bg-color: #E2EBFA;\n",
              "      --hover-fill-color: #174EA6;\n",
              "      --disabled-fill-color: #AAA;\n",
              "      --disabled-bg-color: #DDD;\n",
              "  }\n",
              "\n",
              "  [theme=dark] .colab-df-quickchart {\n",
              "      --bg-color: #3B4455;\n",
              "      --fill-color: #D2E3FC;\n",
              "      --hover-bg-color: #434B5C;\n",
              "      --hover-fill-color: #FFFFFF;\n",
              "      --disabled-bg-color: #3B4455;\n",
              "      --disabled-fill-color: #666;\n",
              "  }\n",
              "\n",
              "  .colab-df-quickchart {\n",
              "    background-color: var(--bg-color);\n",
              "    border: none;\n",
              "    border-radius: 50%;\n",
              "    cursor: pointer;\n",
              "    display: none;\n",
              "    fill: var(--fill-color);\n",
              "    height: 32px;\n",
              "    padding: 0;\n",
              "    width: 32px;\n",
              "  }\n",
              "\n",
              "  .colab-df-quickchart:hover {\n",
              "    background-color: var(--hover-bg-color);\n",
              "    box-shadow: 0 1px 2px rgba(60, 64, 67, 0.3), 0 1px 3px 1px rgba(60, 64, 67, 0.15);\n",
              "    fill: var(--button-hover-fill-color);\n",
              "  }\n",
              "\n",
              "  .colab-df-quickchart-complete:disabled,\n",
              "  .colab-df-quickchart-complete:disabled:hover {\n",
              "    background-color: var(--disabled-bg-color);\n",
              "    fill: var(--disabled-fill-color);\n",
              "    box-shadow: none;\n",
              "  }\n",
              "\n",
              "  .colab-df-spinner {\n",
              "    border: 2px solid var(--fill-color);\n",
              "    border-color: transparent;\n",
              "    border-bottom-color: var(--fill-color);\n",
              "    animation:\n",
              "      spin 1s steps(1) infinite;\n",
              "  }\n",
              "\n",
              "  @keyframes spin {\n",
              "    0% {\n",
              "      border-color: transparent;\n",
              "      border-bottom-color: var(--fill-color);\n",
              "      border-left-color: var(--fill-color);\n",
              "    }\n",
              "    20% {\n",
              "      border-color: transparent;\n",
              "      border-left-color: var(--fill-color);\n",
              "      border-top-color: var(--fill-color);\n",
              "    }\n",
              "    30% {\n",
              "      border-color: transparent;\n",
              "      border-left-color: var(--fill-color);\n",
              "      border-top-color: var(--fill-color);\n",
              "      border-right-color: var(--fill-color);\n",
              "    }\n",
              "    40% {\n",
              "      border-color: transparent;\n",
              "      border-right-color: var(--fill-color);\n",
              "      border-top-color: var(--fill-color);\n",
              "    }\n",
              "    60% {\n",
              "      border-color: transparent;\n",
              "      border-right-color: var(--fill-color);\n",
              "    }\n",
              "    80% {\n",
              "      border-color: transparent;\n",
              "      border-right-color: var(--fill-color);\n",
              "      border-bottom-color: var(--fill-color);\n",
              "    }\n",
              "    90% {\n",
              "      border-color: transparent;\n",
              "      border-bottom-color: var(--fill-color);\n",
              "    }\n",
              "  }\n",
              "</style>\n",
              "\n",
              "  <script>\n",
              "    async function quickchart(key) {\n",
              "      const quickchartButtonEl =\n",
              "        document.querySelector('#' + key + ' button');\n",
              "      quickchartButtonEl.disabled = true;  // To prevent multiple clicks.\n",
              "      quickchartButtonEl.classList.add('colab-df-spinner');\n",
              "      try {\n",
              "        const charts = await google.colab.kernel.invokeFunction(\n",
              "            'suggestCharts', [key], {});\n",
              "      } catch (error) {\n",
              "        console.error('Error during call to suggestCharts:', error);\n",
              "      }\n",
              "      quickchartButtonEl.classList.remove('colab-df-spinner');\n",
              "      quickchartButtonEl.classList.add('colab-df-quickchart-complete');\n",
              "    }\n",
              "    (() => {\n",
              "      let quickchartButtonEl =\n",
              "        document.querySelector('#df-1cc4db93-341a-472f-b1d4-5abfe39d827c button');\n",
              "      quickchartButtonEl.style.display =\n",
              "        google.colab.kernel.accessAllowed ? 'block' : 'none';\n",
              "    })();\n",
              "  </script>\n",
              "</div>\n",
              "    </div>\n",
              "  </div>\n"
            ]
          },
          "metadata": {},
          "execution_count": 23
        }
      ]
    },
    {
      "cell_type": "markdown",
      "metadata": {
        "id": "dTwzbHWm5MZB"
      },
      "source": [
        "Избавьтесь от `None`, если они есть."
      ]
    },
    {
      "cell_type": "code",
      "execution_count": 24,
      "metadata": {
        "id": "1NcFlddosCWw"
      },
      "outputs": [],
      "source": [
        "df.dropna(inplace=True)"
      ]
    },
    {
      "cell_type": "markdown",
      "metadata": {
        "id": "uBHkCPZc5SZP"
      },
      "source": [
        "Выберите страну и регион, где хотите предсказывать."
      ]
    },
    {
      "cell_type": "code",
      "execution_count": 25,
      "metadata": {
        "id": "DlyDgWGfzZAO"
      },
      "outputs": [],
      "source": [
        "df_ukr = df.loc[df['Country/Region']=='Ukraine']"
      ]
    },
    {
      "cell_type": "markdown",
      "metadata": {
        "id": "m6Pleinb5iJL"
      },
      "source": [
        "Удалите лишние столбцы в выбранных данных."
      ]
    },
    {
      "cell_type": "code",
      "execution_count": 26,
      "metadata": {
        "id": "Z4e4RS2dypt2",
        "outputId": "ded67bd8-7c45-4e63-c22c-d94072d10ad2",
        "colab": {
          "base_uri": "https://localhost:8080/",
          "height": 455
        }
      },
      "outputs": [
        {
          "output_type": "execute_result",
          "data": {
            "text/plain": [
              "           Country/Region         Province/State  Latitude  Longitude  \\\n",
              "Date                                                                    \n",
              "2020-06-01        Ukraine        Cherkasy Oblast   49.4444    32.0598   \n",
              "2020-06-01        Ukraine       Chernihiv Oblast   51.4982    31.2893   \n",
              "2020-06-01        Ukraine      Chernivtsi Oblast   48.2917    25.9352   \n",
              "2020-06-01        Ukraine       Crimea Republic*   45.2835    34.2008   \n",
              "2020-06-01        Ukraine  Dnipropetrovsk Oblast   48.4647    35.0462   \n",
              "...                   ...                    ...       ...        ...   \n",
              "2020-12-31        Ukraine       Vinnytsia Oblast   49.2331    28.4682   \n",
              "2020-12-31        Ukraine           Volyn Oblast   50.7472    25.3254   \n",
              "2020-12-31        Ukraine     Zakarpattia Oblast   48.6208    22.2879   \n",
              "2020-12-31        Ukraine      Zaporizhia Oblast   47.8388    35.1396   \n",
              "2020-12-31        Ukraine        Zhytomyr Oblast   50.2547    28.6587   \n",
              "\n",
              "            Confirmed  Recovered  Deaths  \n",
              "Date                                      \n",
              "2020-06-01      406.0      308.0    16.0  \n",
              "2020-06-01      177.0       63.0     6.0  \n",
              "2020-06-01     3377.0      945.0   144.0  \n",
              "2020-06-01      385.0      229.0     3.0  \n",
              "2020-06-01      942.0      265.0    21.0  \n",
              "...               ...        ...     ...  \n",
              "2020-12-31    22500.0    15237.0   395.0  \n",
              "2020-12-31    33016.0    28605.0   515.0  \n",
              "2020-12-31    28200.0    23526.0   637.0  \n",
              "2020-12-31    54088.0    20530.0   594.0  \n",
              "2020-12-31    39202.0    31998.0   655.0  \n",
              "\n",
              "[5778 rows x 7 columns]"
            ],
            "text/html": [
              "\n",
              "  <div id=\"df-2dac387f-1fb3-4593-b998-13129422a665\" class=\"colab-df-container\">\n",
              "    <div>\n",
              "<style scoped>\n",
              "    .dataframe tbody tr th:only-of-type {\n",
              "        vertical-align: middle;\n",
              "    }\n",
              "\n",
              "    .dataframe tbody tr th {\n",
              "        vertical-align: top;\n",
              "    }\n",
              "\n",
              "    .dataframe thead th {\n",
              "        text-align: right;\n",
              "    }\n",
              "</style>\n",
              "<table border=\"1\" class=\"dataframe\">\n",
              "  <thead>\n",
              "    <tr style=\"text-align: right;\">\n",
              "      <th></th>\n",
              "      <th>Country/Region</th>\n",
              "      <th>Province/State</th>\n",
              "      <th>Latitude</th>\n",
              "      <th>Longitude</th>\n",
              "      <th>Confirmed</th>\n",
              "      <th>Recovered</th>\n",
              "      <th>Deaths</th>\n",
              "    </tr>\n",
              "    <tr>\n",
              "      <th>Date</th>\n",
              "      <th></th>\n",
              "      <th></th>\n",
              "      <th></th>\n",
              "      <th></th>\n",
              "      <th></th>\n",
              "      <th></th>\n",
              "      <th></th>\n",
              "    </tr>\n",
              "  </thead>\n",
              "  <tbody>\n",
              "    <tr>\n",
              "      <th>2020-06-01</th>\n",
              "      <td>Ukraine</td>\n",
              "      <td>Cherkasy Oblast</td>\n",
              "      <td>49.4444</td>\n",
              "      <td>32.0598</td>\n",
              "      <td>406.0</td>\n",
              "      <td>308.0</td>\n",
              "      <td>16.0</td>\n",
              "    </tr>\n",
              "    <tr>\n",
              "      <th>2020-06-01</th>\n",
              "      <td>Ukraine</td>\n",
              "      <td>Chernihiv Oblast</td>\n",
              "      <td>51.4982</td>\n",
              "      <td>31.2893</td>\n",
              "      <td>177.0</td>\n",
              "      <td>63.0</td>\n",
              "      <td>6.0</td>\n",
              "    </tr>\n",
              "    <tr>\n",
              "      <th>2020-06-01</th>\n",
              "      <td>Ukraine</td>\n",
              "      <td>Chernivtsi Oblast</td>\n",
              "      <td>48.2917</td>\n",
              "      <td>25.9352</td>\n",
              "      <td>3377.0</td>\n",
              "      <td>945.0</td>\n",
              "      <td>144.0</td>\n",
              "    </tr>\n",
              "    <tr>\n",
              "      <th>2020-06-01</th>\n",
              "      <td>Ukraine</td>\n",
              "      <td>Crimea Republic*</td>\n",
              "      <td>45.2835</td>\n",
              "      <td>34.2008</td>\n",
              "      <td>385.0</td>\n",
              "      <td>229.0</td>\n",
              "      <td>3.0</td>\n",
              "    </tr>\n",
              "    <tr>\n",
              "      <th>2020-06-01</th>\n",
              "      <td>Ukraine</td>\n",
              "      <td>Dnipropetrovsk Oblast</td>\n",
              "      <td>48.4647</td>\n",
              "      <td>35.0462</td>\n",
              "      <td>942.0</td>\n",
              "      <td>265.0</td>\n",
              "      <td>21.0</td>\n",
              "    </tr>\n",
              "    <tr>\n",
              "      <th>...</th>\n",
              "      <td>...</td>\n",
              "      <td>...</td>\n",
              "      <td>...</td>\n",
              "      <td>...</td>\n",
              "      <td>...</td>\n",
              "      <td>...</td>\n",
              "      <td>...</td>\n",
              "    </tr>\n",
              "    <tr>\n",
              "      <th>2020-12-31</th>\n",
              "      <td>Ukraine</td>\n",
              "      <td>Vinnytsia Oblast</td>\n",
              "      <td>49.2331</td>\n",
              "      <td>28.4682</td>\n",
              "      <td>22500.0</td>\n",
              "      <td>15237.0</td>\n",
              "      <td>395.0</td>\n",
              "    </tr>\n",
              "    <tr>\n",
              "      <th>2020-12-31</th>\n",
              "      <td>Ukraine</td>\n",
              "      <td>Volyn Oblast</td>\n",
              "      <td>50.7472</td>\n",
              "      <td>25.3254</td>\n",
              "      <td>33016.0</td>\n",
              "      <td>28605.0</td>\n",
              "      <td>515.0</td>\n",
              "    </tr>\n",
              "    <tr>\n",
              "      <th>2020-12-31</th>\n",
              "      <td>Ukraine</td>\n",
              "      <td>Zakarpattia Oblast</td>\n",
              "      <td>48.6208</td>\n",
              "      <td>22.2879</td>\n",
              "      <td>28200.0</td>\n",
              "      <td>23526.0</td>\n",
              "      <td>637.0</td>\n",
              "    </tr>\n",
              "    <tr>\n",
              "      <th>2020-12-31</th>\n",
              "      <td>Ukraine</td>\n",
              "      <td>Zaporizhia Oblast</td>\n",
              "      <td>47.8388</td>\n",
              "      <td>35.1396</td>\n",
              "      <td>54088.0</td>\n",
              "      <td>20530.0</td>\n",
              "      <td>594.0</td>\n",
              "    </tr>\n",
              "    <tr>\n",
              "      <th>2020-12-31</th>\n",
              "      <td>Ukraine</td>\n",
              "      <td>Zhytomyr Oblast</td>\n",
              "      <td>50.2547</td>\n",
              "      <td>28.6587</td>\n",
              "      <td>39202.0</td>\n",
              "      <td>31998.0</td>\n",
              "      <td>655.0</td>\n",
              "    </tr>\n",
              "  </tbody>\n",
              "</table>\n",
              "<p>5778 rows × 7 columns</p>\n",
              "</div>\n",
              "    <div class=\"colab-df-buttons\">\n",
              "\n",
              "  <div class=\"colab-df-container\">\n",
              "    <button class=\"colab-df-convert\" onclick=\"convertToInteractive('df-2dac387f-1fb3-4593-b998-13129422a665')\"\n",
              "            title=\"Convert this dataframe to an interactive table.\"\n",
              "            style=\"display:none;\">\n",
              "\n",
              "  <svg xmlns=\"http://www.w3.org/2000/svg\" height=\"24px\" viewBox=\"0 -960 960 960\">\n",
              "    <path d=\"M120-120v-720h720v720H120Zm60-500h600v-160H180v160Zm220 220h160v-160H400v160Zm0 220h160v-160H400v160ZM180-400h160v-160H180v160Zm440 0h160v-160H620v160ZM180-180h160v-160H180v160Zm440 0h160v-160H620v160Z\"/>\n",
              "  </svg>\n",
              "    </button>\n",
              "\n",
              "  <style>\n",
              "    .colab-df-container {\n",
              "      display:flex;\n",
              "      gap: 12px;\n",
              "    }\n",
              "\n",
              "    .colab-df-convert {\n",
              "      background-color: #E8F0FE;\n",
              "      border: none;\n",
              "      border-radius: 50%;\n",
              "      cursor: pointer;\n",
              "      display: none;\n",
              "      fill: #1967D2;\n",
              "      height: 32px;\n",
              "      padding: 0 0 0 0;\n",
              "      width: 32px;\n",
              "    }\n",
              "\n",
              "    .colab-df-convert:hover {\n",
              "      background-color: #E2EBFA;\n",
              "      box-shadow: 0px 1px 2px rgba(60, 64, 67, 0.3), 0px 1px 3px 1px rgba(60, 64, 67, 0.15);\n",
              "      fill: #174EA6;\n",
              "    }\n",
              "\n",
              "    .colab-df-buttons div {\n",
              "      margin-bottom: 4px;\n",
              "    }\n",
              "\n",
              "    [theme=dark] .colab-df-convert {\n",
              "      background-color: #3B4455;\n",
              "      fill: #D2E3FC;\n",
              "    }\n",
              "\n",
              "    [theme=dark] .colab-df-convert:hover {\n",
              "      background-color: #434B5C;\n",
              "      box-shadow: 0px 1px 3px 1px rgba(0, 0, 0, 0.15);\n",
              "      filter: drop-shadow(0px 1px 2px rgba(0, 0, 0, 0.3));\n",
              "      fill: #FFFFFF;\n",
              "    }\n",
              "  </style>\n",
              "\n",
              "    <script>\n",
              "      const buttonEl =\n",
              "        document.querySelector('#df-2dac387f-1fb3-4593-b998-13129422a665 button.colab-df-convert');\n",
              "      buttonEl.style.display =\n",
              "        google.colab.kernel.accessAllowed ? 'block' : 'none';\n",
              "\n",
              "      async function convertToInteractive(key) {\n",
              "        const element = document.querySelector('#df-2dac387f-1fb3-4593-b998-13129422a665');\n",
              "        const dataTable =\n",
              "          await google.colab.kernel.invokeFunction('convertToInteractive',\n",
              "                                                    [key], {});\n",
              "        if (!dataTable) return;\n",
              "\n",
              "        const docLinkHtml = 'Like what you see? Visit the ' +\n",
              "          '<a target=\"_blank\" href=https://colab.research.google.com/notebooks/data_table.ipynb>data table notebook</a>'\n",
              "          + ' to learn more about interactive tables.';\n",
              "        element.innerHTML = '';\n",
              "        dataTable['output_type'] = 'display_data';\n",
              "        await google.colab.output.renderOutput(dataTable, element);\n",
              "        const docLink = document.createElement('div');\n",
              "        docLink.innerHTML = docLinkHtml;\n",
              "        element.appendChild(docLink);\n",
              "      }\n",
              "    </script>\n",
              "  </div>\n",
              "\n",
              "\n",
              "<div id=\"df-2f3bec65-0c22-4987-b899-7c8817001a78\">\n",
              "  <button class=\"colab-df-quickchart\" onclick=\"quickchart('df-2f3bec65-0c22-4987-b899-7c8817001a78')\"\n",
              "            title=\"Suggest charts.\"\n",
              "            style=\"display:none;\">\n",
              "\n",
              "<svg xmlns=\"http://www.w3.org/2000/svg\" height=\"24px\"viewBox=\"0 0 24 24\"\n",
              "     width=\"24px\">\n",
              "    <g>\n",
              "        <path d=\"M19 3H5c-1.1 0-2 .9-2 2v14c0 1.1.9 2 2 2h14c1.1 0 2-.9 2-2V5c0-1.1-.9-2-2-2zM9 17H7v-7h2v7zm4 0h-2V7h2v10zm4 0h-2v-4h2v4z\"/>\n",
              "    </g>\n",
              "</svg>\n",
              "  </button>\n",
              "\n",
              "<style>\n",
              "  .colab-df-quickchart {\n",
              "      --bg-color: #E8F0FE;\n",
              "      --fill-color: #1967D2;\n",
              "      --hover-bg-color: #E2EBFA;\n",
              "      --hover-fill-color: #174EA6;\n",
              "      --disabled-fill-color: #AAA;\n",
              "      --disabled-bg-color: #DDD;\n",
              "  }\n",
              "\n",
              "  [theme=dark] .colab-df-quickchart {\n",
              "      --bg-color: #3B4455;\n",
              "      --fill-color: #D2E3FC;\n",
              "      --hover-bg-color: #434B5C;\n",
              "      --hover-fill-color: #FFFFFF;\n",
              "      --disabled-bg-color: #3B4455;\n",
              "      --disabled-fill-color: #666;\n",
              "  }\n",
              "\n",
              "  .colab-df-quickchart {\n",
              "    background-color: var(--bg-color);\n",
              "    border: none;\n",
              "    border-radius: 50%;\n",
              "    cursor: pointer;\n",
              "    display: none;\n",
              "    fill: var(--fill-color);\n",
              "    height: 32px;\n",
              "    padding: 0;\n",
              "    width: 32px;\n",
              "  }\n",
              "\n",
              "  .colab-df-quickchart:hover {\n",
              "    background-color: var(--hover-bg-color);\n",
              "    box-shadow: 0 1px 2px rgba(60, 64, 67, 0.3), 0 1px 3px 1px rgba(60, 64, 67, 0.15);\n",
              "    fill: var(--button-hover-fill-color);\n",
              "  }\n",
              "\n",
              "  .colab-df-quickchart-complete:disabled,\n",
              "  .colab-df-quickchart-complete:disabled:hover {\n",
              "    background-color: var(--disabled-bg-color);\n",
              "    fill: var(--disabled-fill-color);\n",
              "    box-shadow: none;\n",
              "  }\n",
              "\n",
              "  .colab-df-spinner {\n",
              "    border: 2px solid var(--fill-color);\n",
              "    border-color: transparent;\n",
              "    border-bottom-color: var(--fill-color);\n",
              "    animation:\n",
              "      spin 1s steps(1) infinite;\n",
              "  }\n",
              "\n",
              "  @keyframes spin {\n",
              "    0% {\n",
              "      border-color: transparent;\n",
              "      border-bottom-color: var(--fill-color);\n",
              "      border-left-color: var(--fill-color);\n",
              "    }\n",
              "    20% {\n",
              "      border-color: transparent;\n",
              "      border-left-color: var(--fill-color);\n",
              "      border-top-color: var(--fill-color);\n",
              "    }\n",
              "    30% {\n",
              "      border-color: transparent;\n",
              "      border-left-color: var(--fill-color);\n",
              "      border-top-color: var(--fill-color);\n",
              "      border-right-color: var(--fill-color);\n",
              "    }\n",
              "    40% {\n",
              "      border-color: transparent;\n",
              "      border-right-color: var(--fill-color);\n",
              "      border-top-color: var(--fill-color);\n",
              "    }\n",
              "    60% {\n",
              "      border-color: transparent;\n",
              "      border-right-color: var(--fill-color);\n",
              "    }\n",
              "    80% {\n",
              "      border-color: transparent;\n",
              "      border-right-color: var(--fill-color);\n",
              "      border-bottom-color: var(--fill-color);\n",
              "    }\n",
              "    90% {\n",
              "      border-color: transparent;\n",
              "      border-bottom-color: var(--fill-color);\n",
              "    }\n",
              "  }\n",
              "</style>\n",
              "\n",
              "  <script>\n",
              "    async function quickchart(key) {\n",
              "      const quickchartButtonEl =\n",
              "        document.querySelector('#' + key + ' button');\n",
              "      quickchartButtonEl.disabled = true;  // To prevent multiple clicks.\n",
              "      quickchartButtonEl.classList.add('colab-df-spinner');\n",
              "      try {\n",
              "        const charts = await google.colab.kernel.invokeFunction(\n",
              "            'suggestCharts', [key], {});\n",
              "      } catch (error) {\n",
              "        console.error('Error during call to suggestCharts:', error);\n",
              "      }\n",
              "      quickchartButtonEl.classList.remove('colab-df-spinner');\n",
              "      quickchartButtonEl.classList.add('colab-df-quickchart-complete');\n",
              "    }\n",
              "    (() => {\n",
              "      let quickchartButtonEl =\n",
              "        document.querySelector('#df-2f3bec65-0c22-4987-b899-7c8817001a78 button');\n",
              "      quickchartButtonEl.style.display =\n",
              "        google.colab.kernel.accessAllowed ? 'block' : 'none';\n",
              "    })();\n",
              "  </script>\n",
              "</div>\n",
              "    </div>\n",
              "  </div>\n"
            ]
          },
          "metadata": {},
          "execution_count": 26
        }
      ],
      "source": [
        "df_ukr"
      ]
    },
    {
      "cell_type": "markdown",
      "metadata": {
        "id": "sEJb-Ote4qIu"
      },
      "source": [
        "Постройте графики заболевших, выздоровевших и количества смертей."
      ]
    },
    {
      "cell_type": "code",
      "execution_count": 32,
      "metadata": {
        "id": "B-TCt6mx50Qu",
        "outputId": "b7372d77-c314-41a1-b614-f08b2d4f3607",
        "colab": {
          "base_uri": "https://localhost:8080/",
          "height": 596
        }
      },
      "outputs": [
        {
          "output_type": "display_data",
          "data": {
            "text/plain": [
              "<Figure size 1500x700 with 1 Axes>"
            ],
            "image/png": "[encoded data removed]"
          },
          "metadata": {}
        }
      ],
      "source": [
        "df_temp = df.groupby('Date')[['Confirmed','Recovered','Deaths']].sum().plot(logy=True)"
      ]
    },
    {
      "cell_type": "markdown",
      "metadata": {
        "id": "JPiC_g0VypNE"
      },
      "source": [
        "## Модели и обучение"
      ]
    },
    {
      "cell_type": "markdown",
      "metadata": {
        "id": "XhCTSHrm5bBl"
      },
      "source": [
        "### Вспомогательные функции"
      ]
    },
    {
      "cell_type": "markdown",
      "metadata": {
        "id": "mRkmKQlpAZbZ"
      },
      "source": [
        "Напишите класс датасета для данных в виде последовательности."
      ]
    },
    {
      "cell_type": "code",
      "execution_count": 33,
      "metadata": {
        "id": "Dmrf65hF5h9U"
      },
      "outputs": [],
      "source": [
        "class TSDataset(torch.utils.data.Dataset):\n",
        "    def __init__(self, data, timesteps):\n",
        "        self.data = data\n",
        "        self.timesteps = timesteps\n",
        "\n",
        "    def __len__(self):\n",
        "        return len(self.data) # количество подпоследовательностей заданной длины\n",
        "\n",
        "    def __getitem__(self, index):\n",
        "        return (self.timesteps[index], self.data[index]) # верните X и y"
      ]
    },
    {
      "cell_type": "markdown",
      "metadata": {
        "id": "eqUrmcv7Ai68"
      },
      "source": [
        "Здесь мы создаём функции для обучения, для вывода кривых обучения и для рекурсивного предсказания."
      ]
    },
    {
      "cell_type": "code",
      "execution_count": 35,
      "metadata": {
        "id": "wmLfcVVnAvlI"
      },
      "outputs": [],
      "source": [
        "def plot_learning_curves(history):\n",
        "    '''\n",
        "    Функция для вывода лосса и метрики во время обучения.\n",
        "\n",
        "    :param history: (dict)\n",
        "        accuracy и loss на обучении и валидации.\n",
        "    '''\n",
        "    fig = plt.figure(figsize=(10, 5))\n",
        "    plt.plot(history['loss'])\n",
        "    plt.ylabel('Лосс')\n",
        "    plt.xlabel('Эпоха')\n",
        "    plt.show()\n",
        "\n",
        "\n",
        "def train_ts_model(\n",
        "    model,\n",
        "    criterion,\n",
        "    optimizer,\n",
        "    train_batch_gen,\n",
        "    num_epochs=50,\n",
        "    device='cuda'\n",
        "):\n",
        "    '''\n",
        "    Функция для обучения модели и вывода лосса во время обучения.\n",
        "\n",
        "    :param model: обучаемая модель\n",
        "    :param criterion: функция потерь\n",
        "    :param optimizer: метод оптимизации\n",
        "    :param train_batch_gen: генератор батчей для обучения\n",
        "    :param num_epochs: количество эпох\n",
        "\n",
        "    :return: обученная модель\n",
        "    :return: (dict) loss на обучении ('история' обучения)\n",
        "    '''\n",
        "    history = defaultdict(list)\n",
        "\n",
        "    for epoch in range(num_epochs):\n",
        "        train_loss = 0\n",
        "        train_acc = 0\n",
        "        val_loss = 0\n",
        "        val_acc = 0\n",
        "\n",
        "        start_time = time.time()\n",
        "\n",
        "        # Устанавливаем поведение dropout / batch_norm  в обучение\n",
        "        model.train(True)\n",
        "\n",
        "        # На каждой 'эпохе' делаем полный проход по данным\n",
        "        for X_batch, y_batch in train_batch_gen:\n",
        "            X_batch = X_batch.type('torch.FloatTensor').to(device)\n",
        "            y_batch = y_batch.type('torch.FloatTensor').to(device)\n",
        "\n",
        "            logits = model(X_batch)\n",
        "\n",
        "            loss = criterion(logits.squeeze(), y_batch.squeeze())\n",
        "\n",
        "            # подсчёт производных\n",
        "            loss.backward()\n",
        "            # шаг градиента\n",
        "            optimizer.step()\n",
        "            # зануление градиентов\n",
        "            optimizer.zero_grad()\n",
        "\n",
        "            train_loss += np.sum(loss.detach().cpu().numpy())\n",
        "\n",
        "        # Подсчитываем лосс и сохраням в 'историю'\n",
        "        train_loss /= len(train_batch_gen)\n",
        "        history['loss'].append(train_loss)\n",
        "\n",
        "        # clear_output()\n",
        "\n",
        "        # Печатаем результаты после каждой эпохи\n",
        "        print('Эпоха {} из {} выполнена за {:.3f} сек.'.format(\n",
        "            epoch + 1, num_epochs, time.time() - start_time))\n",
        "        print('  лосс: \\t{:.6f}'.format(train_loss))\n",
        "    plot_learning_curves(history)\n",
        "\n",
        "    return model, history\n",
        "\n",
        "\n",
        "def evaluate_ts_model(model, start_seq, test_data, scaler, return_all=False, device='cpu'):\n",
        "    '''\n",
        "    Функция для проверки качества модели на обучающем отрезке ряда.\n",
        "\n",
        "    :param model: обучаемая модель,\n",
        "    :param start_seq: обучающие данные для первого предсказания,\n",
        "    :param test_data: тестовые данные.\n",
        "    :param return_all: возвращать все предсказания или только для 1-го магазина\n",
        "\n",
        "    :return: результаты предсказания.\n",
        "    '''\n",
        "    result = []\n",
        "    model.train(False)\n",
        "    input_tensor = torch.FloatTensor(start_seq).to(device).unsqueeze(0)\n",
        "\n",
        "    with torch.no_grad():\n",
        "        for i in range(len(test_data)):\n",
        "            # делаем предсказание, а unsqueeze нужны, чтобы сделать размерность (1, 1, 1) вместо (1)\n",
        "\n",
        "            logits = model(input_tensor[:, i:, :]).unsqueeze(0)#.unsqueeze(2)\n",
        "\n",
        "            # присоединяем предсказанное значение к последовательности:\n",
        "            #                        (1, timestep, 1) -> (1, 1, 1)   по оси 1\n",
        "            input_tensor = torch.cat((input_tensor,        logits),       1    )\n",
        "\n",
        "            # обратное преобразование к нормальным числам\n",
        "            logits = scaler.inverse_transform(logits.cpu().numpy().squeeze(0))\n",
        "\n",
        "            # результат сохраняем\n",
        "            result.append(logits.squeeze())\n",
        "\n",
        "    if return_all:\n",
        "        return np.array(result)\n",
        "\n",
        "    return np.array(result)"
      ]
    },
    {
      "cell_type": "markdown",
      "metadata": {
        "id": "qFvIrMeBApHC"
      },
      "source": [
        "Создадим класс модели."
      ]
    },
    {
      "cell_type": "code",
      "execution_count": null,
      "metadata": {
        "id": "R19GCMTKAvtA"
      },
      "outputs": [],
      "source": [
        "class LSTM(nn.Module):\n",
        "    def __init__(self, input_size, output_size, hidden_size, num_lstm_layers, use_pool=False):\n",
        "        super(LSTM, self).__init__()\n",
        "\n",
        "        self.hidden_size = hidden_size\n",
        "        self.num_layers  = num_lstm_layers\n",
        "        self.input_size  = input_size\n",
        "\n",
        "        self.lstm = nn.LSTM(\n",
        "            self.input_size,\n",
        "            self.hidden_size,\n",
        "\n",
        "        ) # LSTM-модель с batch_first=True и dropout=0.2\n",
        "\n",
        "        # Размерность пространства выхода последнего LSTM-слоя равна hidden_size.\n",
        "        # Линейный слой нужен, чтобы преобразовать выход LSTM к нужному размеру output_size.\n",
        "        self.fc = nn.Linear(self.hidden_size) # добавьте линейный слой\n",
        "\n",
        "        # Пуллинг\n",
        "        self.pool = <...> # добавьте усредняющий все выходы пуллинг-слой\n",
        "        self.use_pool = use_pool\n",
        "\n",
        "\n",
        "    def forward(self, input_seq):\n",
        "\n",
        "        # инициализируем начальные скрытые состояния\n",
        "        h_0 = torch.zeros(self.num_layers, input_seq.size(0), self.hidden_size).to(device=input_seq.device)\n",
        "        c_0 = torch.zeros(self.num_layers, input_seq.size(0), self.hidden_size).to(device=input_seq.device)\n",
        "\n",
        "        out, (_, _) = self.lstm(input_seq, (h_0, c_0))\n",
        "\n",
        "        if self.use_pool:\n",
        "            # берем среднее от векторов для всей последовательности\n",
        "            out_to_fc = self.pool(out.transpose(1, 2)).squeeze(-1)\n",
        "        else:\n",
        "            # берем последний выходной вектор\n",
        "            out_to_fc = out[:, -1, :]\n",
        "\n",
        "        return self.fc(out_to_fc)"
      ]
    },
    {
      "cell_type": "markdown",
      "metadata": {
        "id": "kfjCQET7ArlX"
      },
      "source": [
        "Напишем функцию для визуализации результатов предсказания."
      ]
    },
    {
      "cell_type": "code",
      "execution_count": null,
      "metadata": {
        "id": "tdazZJjTAv0D"
      },
      "outputs": [],
      "source": [
        "def plot_results(y_to_train, y_to_test=None, y_forecast=None):\n",
        "    \"\"\"\n",
        "        Функция для визуализации временного ряда и предсказания.\n",
        "\n",
        "        Параметры:\n",
        "            - y_to_train: pd.Series\n",
        "                Временной ряд, на котором обучалась модель.\n",
        "            - y_to_test: pd.Series\n",
        "                Временной ряд, который предсказывает модель.\n",
        "            - y_forecast: array\n",
        "                Предсказания модели.\n",
        "            - plot_conf_int: bool\n",
        "                Надо ли строить предсказательного интервал.\n",
        "            - left_bound: array\n",
        "                Левая граница предсказательного интервала.\n",
        "            - right_bound: array\n",
        "                Правая граница предсказательного интервала.\n",
        "    \"\"\"\n",
        "    plt.figure(figsize=(15, 5))\n",
        "    plt.plot(np.arange(len(y_to_train)), y_to_train, label='train')\n",
        "\n",
        "    if y_to_test is not None:\n",
        "        plt.plot(np.arange(len(y_to_train), len(y_to_train) + len(y_to_test)), y_to_test,  label='test')\n",
        "        if y_forecast is not None:\n",
        "            plt.plot(np.arange(len(y_to_train), len(y_to_train) + len(y_to_test)), y_forecast, label='prediction')\n",
        "    plt.legend()\n",
        "    plt.show()"
      ]
    },
    {
      "cell_type": "markdown",
      "metadata": {
        "id": "dJ0LA_ivypJN"
      },
      "source": [
        "#### **Профиль биология**\n"
      ]
    },
    {
      "cell_type": "markdown",
      "metadata": {
        "id": "tKcJOp-W5ykp"
      },
      "source": [
        "Разделим выборку на тест и трейн."
      ]
    },
    {
      "cell_type": "code",
      "execution_count": null,
      "metadata": {
        "id": "myYiLYjeyo6N"
      },
      "outputs": [],
      "source": [
        "test_time = pd.Timestamp('2020-12-01')\n",
        "train_bio = <...>\n",
        "test_bio = <...>"
      ]
    },
    {
      "cell_type": "markdown",
      "metadata": {
        "id": "SOKkT7hZ54aO"
      },
      "source": [
        "Посмотрим на то, что получилось."
      ]
    },
    {
      "cell_type": "code",
      "execution_count": null,
      "metadata": {
        "id": "6tICfo8tOMd3"
      },
      "outputs": [],
      "source": [
        "plot_results(train_bio, test_bio)"
      ]
    },
    {
      "cell_type": "markdown",
      "metadata": {
        "id": "nn3yV5Nn57aN"
      },
      "source": [
        "Преобразуем данные."
      ]
    },
    {
      "cell_type": "code",
      "execution_count": null,
      "metadata": {
        "id": "lwDlLTbBOMMf"
      },
      "outputs": [],
      "source": []
    },
    {
      "cell_type": "markdown",
      "metadata": {
        "id": "W-nsCCg4-QQF"
      },
      "source": [
        "Зададим длину подпоследовательности, размер батча, девайс."
      ]
    },
    {
      "cell_type": "code",
      "execution_count": null,
      "metadata": {
        "colab": {
          "base_uri": "https://localhost:8080/",
          "height": 35
        },
        "id": "ZqxI-piXOh-m",
        "outputId": "51bf3082-b308-4e58-c3f2-1c3c6329a76d"
      },
      "outputs": [
        {
          "data": {
            "application/vnd.google.colaboratory.intrinsic+json": {
              "type": "string"
            },
            "text/plain": [
              "'cpu'"
            ]
          },
          "execution_count": 50,
          "metadata": {},
          "output_type": "execute_result"
        }
      ],
      "source": [
        "timesteps = <...>\n",
        "batch_size = <...>\n",
        "\n",
        "device = \"cuda\" if torch.cuda.is_available() else \"cpu\"\n",
        "device"
      ]
    },
    {
      "cell_type": "markdown",
      "metadata": {
        "id": "az-uo73v-Vzt"
      },
      "source": [
        "Преобразуйте к датасету с помощью нашего класса и сделайте генератор батчей."
      ]
    },
    {
      "cell_type": "code",
      "execution_count": null,
      "metadata": {
        "id": "-PC0aFCKOyMx"
      },
      "outputs": [],
      "source": []
    },
    {
      "cell_type": "markdown",
      "metadata": {
        "id": "Po9i08Xo-qcl"
      },
      "source": [
        "Инициализируйте модель."
      ]
    },
    {
      "cell_type": "code",
      "execution_count": null,
      "metadata": {
        "id": "KX-_eP25OyW0"
      },
      "outputs": [],
      "source": []
    },
    {
      "cell_type": "markdown",
      "metadata": {
        "id": "v_SHxJ5B-tZo"
      },
      "source": [
        "Обучите её."
      ]
    },
    {
      "cell_type": "code",
      "execution_count": null,
      "metadata": {
        "id": "COnN6CrXOiCk"
      },
      "outputs": [],
      "source": []
    },
    {
      "cell_type": "markdown",
      "metadata": {
        "id": "5op_7fB7-w8V"
      },
      "source": [
        "Создадим предсказания на тесте."
      ]
    },
    {
      "cell_type": "code",
      "execution_count": null,
      "metadata": {
        "id": "YkGN3bsvPJax"
      },
      "outputs": [],
      "source": []
    },
    {
      "cell_type": "markdown",
      "metadata": {
        "id": "_6J6Lug6-2mR"
      },
      "source": [
        "Сравним предсказание с реальностью."
      ]
    },
    {
      "cell_type": "code",
      "execution_count": null,
      "metadata": {
        "id": "6qkNhZrzPJP_"
      },
      "outputs": [],
      "source": []
    },
    {
      "cell_type": "markdown",
      "metadata": {
        "id": "55XdDJ_Q9X3k"
      },
      "source": [
        "**Вывод**"
      ]
    },
    {
      "cell_type": "code",
      "execution_count": null,
      "metadata": {
        "id": "3TjvaxhH928B"
      },
      "outputs": [],
      "source": []
    }
  ],
  "metadata": {
    "colab": {
      "gpuType": "T4",
      "provenance": [],
      "include_colab_link": true
    },
    "kernelspec": {
      "display_name": "Python 3",
      "name": "python3"
    },
    "language_info": {
      "codemirror_mode": {
        "name": "ipython",
        "version": 3
      },
      "file_extension": ".py",
      "mimetype": "text/x-python",
      "name": "python",
      "nbconvert_exporter": "python",
      "pygments_lexer": "ipython3",
      "version": "3.11.5"
    }
  },
  "nbformat": 4,
  "nbformat_minor": 0
}