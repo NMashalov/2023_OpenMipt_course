{
 "cells": [
  {
   "cell_type": "markdown",
   "metadata": {
    "id": "g-157QBwnV6i"
   },
   "source": [
    "# <a href=\"https://miptstats.github.io/courses/ad_mipt.html\">Phystech@DataScience</a>\n",
    "## Домашнее задание 2\n",
    "\n",
    "**Правила, <font color=\"red\">прочитайте внимательно</font>:**\n",
    "\n",
    "* Выполненную работу нужно отправить телеграм-боту `@miptstats_pds_bot`. Для начала работы с ботом каждый раз отправляйте `/start`. **Работы, присланные иным способом, не принимаются.**\n",
    "* Дедлайн см. в боте. После дедлайна работы не принимаются кроме случаев наличия уважительной причины.\n",
    "* Прислать нужно ноутбук в формате `ipynb`.\n",
    "* Выполнять задание необходимо полностью самостоятельно. **При обнаружении списывания все участники списывания будут сдавать устный зачет.**\n",
    "* Решения, размещенные на каких-либо интернет-ресурсах, не принимаются. Кроме того, публикация решения в открытом доступе может быть приравнена к предоставлении возможности списать.\n",
    "* Для выполнения задания используйте этот ноутбук в качестве основы, ничего не удаляя из него. Можно добавлять необходимое количество ячеек.\n",
    "* Комментарии к решению пишите в markdown-ячейках.\n",
    "* Выполнение задания (ход решения, выводы и пр.) должно быть осуществлено на русском языке.\n",
    "* Если код будет не понятен проверяющему, оценка может быть снижена.\n",
    "* Никакой код из данного задания при проверке запускаться не будет. *Если код студента не выполнен, недописан и т.д., то он не оценивается.*\n",
    "* **Код из рассказанных на занятиях ноутбуков можно использовать без ограничений.**\n",
    "\n",
    "**Правила оформления теоретических задач:**\n",
    "\n",
    "* Решения необходимо прислать одним из следующих способов:\n",
    "  * фотографией в правильной ориентации, где все четко видно, а почерк разборчив,\n",
    "    * отправив ее как файл боту вместе с ноутбуком *или*\n",
    "    * вставив ее в ноутбук посредством `Edit -> Insert Image` (<font color=\"red\">фото, вставленные ссылкой, не принимаются</font>);\n",
    "  * в виде $\\LaTeX$ в markdown-ячейках.\n",
    "* Решения не проверяются, если какое-то требование не выполнено. Особенно внимательно все проверьте в случае выбора второго пункта (вставки фото в ноутбук). <font color=\"red\"><b>Неправильно вставленные фотографии могут не передаться при отправке.</b></font> Для проверки попробуйте переместить `ipynb` в другую папку и открыть его там.\n",
    "* В решениях поясняйте, чем вы пользуетесь, хотя бы кратко. Например, если пользуетесь независимостью, то достаточно подписи вида \"*X и Y незав.*\"\n",
    "* Решение, в котором есть только ответ, и отсутствуют вычисления, оценивается в 0 баллов.\n",
    "\n",
    "**Баллы за задание:**\n",
    "\n",
    "* Задача 1 &mdash;  80 баллов\n",
    "* Задача 2 &mdash;  30 баллов\n",
    "\n",
    "\n",
    "\n",
    "\n",
    "-----"
   ]
  },
  {
   "cell_type": "code",
   "execution_count": null,
   "metadata": {},
   "outputs": [],
   "source": [
    "# Bot check\n",
    "\n",
    "# HW_ID: phds_hw2\n",
    "# Бот проверит этот ID и предупредит, если случайно сдать что-то не то.\n",
    "\n",
    "# Status: not final\n",
    "# Перед отправкой в финальном решении удали \"not\" в строчке выше.\n",
    "# Так бот проверит, что ты отправляешь финальную версию, а не промежуточную.\n",
    "# Никакие значения в этой ячейке не влияют на факт сдачи работы."
   ]
  },
  {
   "cell_type": "markdown",
   "metadata": {
    "id": "R0Nw2SbXFwBn"
   },
   "source": [
    "## Сверточные сети\n",
    "\n",
    "В этой домашней работе вам предстоит построить сверточную сеть для классификации изображений. \n",
    "\n",
    "#### Биология\n",
    "Необходимо классифицировать изображения МРТ головного мозга из датасета [**\"Brain Tumor Classification (MRI)\"**](https://www.kaggle.com/datasets/sartajbhuvaji/brain-tumor-classification-mri) и определить вид опухоли. \n",
    "\n",
    "#### Физика\n",
    "Необходимо классифицировать изображения солнечного затмения из датасета [**\"Solar Eclipse Classification\"**](https://www.kaggle.com/datasets/tshr147/solar-eclipse-classification) по степени: частичное, полное и кольцевое. "
   ]
  },
  {
   "cell_type": "markdown",
   "metadata": {},
   "source": [
    "### Задача 1."
   ]
  },
  {
   "cell_type": "markdown",
   "metadata": {
    "id": "xMi_1QOK3vQQ"
   },
   "source": [
    "**Пожалуйста, ПРОЧИТАЙТЕ ВНИМАТЕЛЬНО то, что написано ниже, там изложены требования к вашей работе и полезные советы!**\n",
    "\n",
    "\n",
    "**Требование к работе**\n",
    "\n",
    "* **Запрещено** использовать предобученные нейросети.\n",
    "\n",
    "* **Запрещено** использовать тестовые данные где-либо за исключением вычисления финальной оценки качества. Подсказка &mdash; распределение данных на тесте такое же как в тестовых данных.\n",
    "\n",
    "\n",
    "### Советы\n",
    "\n",
    "#### Архитектура нейросети\n",
    "* В отличие от семинара в данном датасете могут встретиться картинки разных размеров. Эту проблему можно решить двумя способами:\n",
    "  - Используя `torchvision.transforms.Resize` можно привести картинки к единому размеру. Если вы решите использовать этот способ, стоит посмотреть, какого в принципе размера встречаются картинки, чтобы не сжать их слишком сильно. Для картинок одного размера можно обучить бейзлайн в виде полносвязной сети.\n",
    "  - Учесть переменный размер картинки в архитектуре сети. Общий принцип здесь такой: можно использовать свертки с нужным `padding`, чтобы не иметь проблем из-за уменьшения размеров картинки из-за сверток, последовательно применяя сверточные слои и пуллинги, нужно увеличивать количество каналов одновременно с уменьшением размера картинок (из-за пуллинга), а в конце, получив картинку размера (n_channels, nx, ny), оставить вектор размера (n_channels) (n_channels будет одинаковым для всех картинок, поскольку зависит от архитектуры сети!). Сделать это можно усреднением по пространственным картам [torch.nn.AdaptiveAvgPool2d](https://pytorch.org/docs/stable/generated/torch.nn.AdaptiveAvgPool2d.html).\n",
    "* Попробуйте разные размеры фильтров, страйдинг, паддинг\n",
    "* Также можно попробовать разные активации: `tanh`, `leaky relu` и другие.\n",
    "\n",
    "#### Процесс обучения\n",
    "* Воспользуйтесь GPU google colab или любой другой GPU, которая у вас есть. \n",
    "* Для сокращения вычислительной сложности можно поэксперементировать с параметром `stride`. Кроме того можете попробовать разные виды Poooling-ов.\n",
    "* Помните, что некоторым нейросетям требуется $10$ эпох, чтобы сойтись, а некоторым – $500$. Большие нейросети дольше обучаются. \n",
    "* Если вы достигли какого-то порога на валидации лучше подождать примерно 10 эпох перед тем как останавливать обучение.\n",
    "\n",
    "#### И главное: \n",
    "* Рисуйте кривые обучения: loss и метрика качества (лучше использовать F1-меру) для обучения и валидации."
   ]
  },
  {
   "cell_type": "code",
   "execution_count": null,
   "metadata": {
    "id": "NTJXij7G7uQj"
   },
   "outputs": [],
   "source": [
    "import numpy as np\n",
    "import matplotlib.pyplot as plt\n",
    "import os\n",
    "import shutil\n",
    "\n",
    "import torch\n",
    "from torch import nn\n",
    "import torchvision\n",
    "from torchvision import transforms\n",
    "from sklearn.metrics import f1_score\n",
    "from sklearn.utils.random import sample_without_replacement\n",
    "from IPython.display import Image, clear_output\n",
    "from collections import defaultdict\n",
    "from torch.optim import lr_scheduler \n",
    "from matplotlib.animation import FuncAnimation, ImageMagickFileWriter\n",
    "import time\n",
    "\n",
    "%matplotlib inline"
   ]
  },
  {
   "cell_type": "markdown",
   "metadata": {
    "id": "zEMQU_irscwg"
   },
   "source": [
    "### Для Google Colab\n",
    "Чтобы не грузить данные каждый раз в колаб при его отключении, а данные сюда грузятся небыстро, будет лучше всего поступить следующим образом. \n",
    "* Загрузите архив на диск.\n",
    "* Примонтируйте ваш диск к данному ноутбуку с помощью кода ниже\n"
   ]
  },
  {
   "cell_type": "code",
   "execution_count": null,
   "metadata": {
    "colab": {
     "base_uri": "https://localhost:8080/"
    },
    "id": "E0uMuxuzNhZH",
    "outputId": "eee26c1e-e8c0-4c34-ddbf-ec23303915fc"
   },
   "outputs": [
    {
     "name": "stdout",
     "output_type": "stream",
     "text": [
      "Mounted at /content/drive\n"
     ]
    }
   ],
   "source": [
    "from google.colab import drive\n",
    "drive.mount('/content/drive')"
   ]
  },
  {
   "cell_type": "markdown",
   "metadata": {
    "id": "waf-0tb1smtl"
   },
   "source": [
    "* В панели слева (\"Файлы\") откройте папку `drive/MyDrive/..` и найдите архив с файлом на диске\n",
    "* Кликните по файлу и нажмите на кнопку \"Скопировать путь\"\n",
    "\n",
    "Теперь вы можете обратиться к данным, используя скопированный путь "
   ]
  },
  {
   "cell_type": "code",
   "execution_count": null,
   "metadata": {
    "id": "dgFZbVvzstOQ"
   },
   "outputs": [],
   "source": [
    "# Путь до диска (для напоминания)\n",
    "DISK_PATH = \"drive/MyDrive\"\n",
    "# Путь до архива с данными (пример)\n",
    "ZIP_PATH = \"/content/drive/MyDrive/Ph@DS_ML/data.zip\"\n",
    "# Путь для папки с данными\n",
    "DATA_PATH = \".\""
   ]
  },
  {
   "cell_type": "markdown",
   "metadata": {
    "id": "nnqPLqeKs0ZP"
   },
   "source": [
    "* Разархивируйете данные на диске."
   ]
  },
  {
   "cell_type": "code",
   "execution_count": null,
   "metadata": {
    "colab": {
     "base_uri": "https://localhost:8080/"
    },
    "id": "OeY4GLCas2_P",
    "outputId": "126ebe34-6225-4e56-e5e8-c843e10d94b4"
   },
   "outputs": [],
   "source": [
    "! unzip $ZIP_PATH -d  $DATA_PATH"
   ]
  },
  {
   "cell_type": "code",
   "execution_count": null,
   "metadata": {
    "id": "q47RBOCds4mS"
   },
   "outputs": [],
   "source": [
    "DATA_PATH = os.path.join(DATA_PATH, 'data')"
   ]
  },
  {
   "cell_type": "markdown",
   "metadata": {
    "id": "JwKN4YBFtAEG"
   },
   "source": [
    "В папке `DATA_PATH` теперь хранится папка с тренировочными данными (у биологов - `Training`, у физиков - `Train`) и тестовыми (у биологов - `Testing`, у физиков - `Test`). В папку с тестовыми данными не подглядывать :)"
   ]
  },
  {
   "cell_type": "code",
   "execution_count": null,
   "metadata": {
    "colab": {
     "base_uri": "https://localhost:8080/"
    },
    "id": "HrviTbhws_Gx",
    "outputId": "85f07109-44ef-4060-aa1f-fc2d0a2b4c98"
   },
   "outputs": [],
   "source": [
    "! ls $DATA_PATH"
   ]
  },
  {
   "cell_type": "markdown",
   "metadata": {},
   "source": [
    "### Подготовка датасетов"
   ]
  },
  {
   "cell_type": "markdown",
   "metadata": {},
   "source": [
    "### Биология\n",
    "В `train` датасете $4$ вида опухолей (или их отсутсвия) и $2870$ изображений МРТ головного мозга (объектов). Посмотрим на какую-нибудь картину из набора данных."
   ]
  },
  {
   "cell_type": "code",
   "execution_count": 4,
   "metadata": {
    "colab": {
     "base_uri": "https://localhost:8080/",
     "height": 303
    },
    "id": "PRJFzdSNjv_o",
    "outputId": "fb755c6f-5557-4e5d-fe50-b3e3cb9dbbd4",
    "scrolled": true
   },
   "outputs": [
    {
     "data": {
      "image/png": "[encoded data removed]",
      "text/plain": [
       "<Figure size 864x360 with 1 Axes>"
      ]
     },
     "metadata": {
      "needs_background": "light"
     },
     "output_type": "display_data"
    }
   ],
   "source": [
    "path_to_img = os.path.join(DATA_PATH, \"training/glioma_tumor/gg (40).jpg\")\n",
    "image = plt.imread(path_to_img)\n",
    "plt.figure(figsize=(12, 5))\n",
    "plt.imshow(image)\n",
    "plt.axis(\"off\");"
   ]
  },
  {
   "cell_type": "markdown",
   "metadata": {
    "id": "Pmpc_RdfpSQn"
   },
   "source": [
    "Разобьем `train` выборку на `train` и `val`:\n",
    "\n"
   ]
  },
  {
   "cell_type": "code",
   "execution_count": 5,
   "metadata": {
    "colab": {
     "base_uri": "https://localhost:8080/"
    },
    "id": "3glVY6H9pEEu",
    "outputId": "f8fe7e37-95f7-4ff8-c139-95093ee25ed2"
   },
   "outputs": [
    {
     "name": "stdout",
     "output_type": "stream",
     "text": [
      "glioma_tumor | train images = 579 | val images = 247\n",
      "meningioma_tumor | train images = 576 | val images = 246\n",
      "no_tumor | train images = 277 | val images = 118\n",
      "pituitary_tumor | train images = 579 | val images = 248\n"
     ]
    }
   ],
   "source": [
    "# Папка со всеми МРТ изображениями / папка с изображениями для тренировки\n",
    "TRAIN_DIR = os.path.join(DATA_PATH, \"training\")\n",
    "# Считываем названия директорий, которые и являются видом опухоли\n",
    "TUMOR_LIST = {i:name for i, name in enumerate(os.listdir(TRAIN_DIR))}\n",
    "\n",
    "\n",
    "# Папка с изображениями для валидации\n",
    "VAL_DIR = os.path.join(DATA_PATH, \"val\")\n",
    "os.makedirs(VAL_DIR, exist_ok=True)\n",
    "\n",
    "# Папка с изображениями для теста\n",
    "TEST_DIR = os.path.join(DATA_PATH, \"testing\")\n",
    "\n",
    "\n",
    "# Доля изображений в валидации\n",
    "VAL_FRAC = 0.3\n",
    "\n",
    "\n",
    "# Создаем директорию с валидационной выборкой для каждого вида опухоли.\n",
    "for tumor in TUMOR_LIST.values():\n",
    "    os.makedirs(os.path.join(VAL_DIR, tumor), exist_ok=True)\n",
    "\n",
    "    # Считываем выборку изображений.\n",
    "    tumor_path = os.path.join(TRAIN_DIR, tumor)\n",
    "    \n",
    "    # Сортируем изображения для детерминированнсти\n",
    "    images_filename = sorted(os.listdir(tumor_path))\n",
    "    \n",
    "    # Выделяем часть изображений для валидации\n",
    "    # Выбираем случайные изображения из выборки для валидции, с установленным random_state\n",
    "    num_images = len(images_filename)\n",
    "    num_val = int(num_images * VAL_FRAC)\n",
    "    indices = sample_without_replacement(num_images, num_val, random_state=42)\n",
    "    val_images = np.take(images_filename, indices)\n",
    "\n",
    "    print(f'{tumor} | train images = {num_images - num_val} | val images = {num_val}')\n",
    "    \n",
    "    # Сохраняем валидационную выборку\n",
    "    for image_filename in val_images:\n",
    "        source = os.path.join(TRAIN_DIR, tumor, image_filename)\n",
    "        destination = os.path.join(VAL_DIR, tumor, image_filename)\n",
    "        shutil.copy(source, destination)\n",
    "        os.remove(source)"
   ]
  },
  {
   "cell_type": "markdown",
   "metadata": {
    "id": "alWnsWAesj06"
   },
   "source": [
    "Данный датасет не очень сбалансирован по классам, возможные пути решения:\n",
    "* *random oversampling* – включаем несколько копий объектов меньших классов, увеличивая их до размера большего класса, к копиям можно применять аугментацию;\n",
    "* *random undersampling* – не включаем часть объектов больших классов в обучающую выборку;\n",
    "* *примение весов* к лосс-функции;\n",
    "* ...\n",
    "\n",
    "Предлагаем вам сначала попробовать использовать обучить модель без решения проблемы несбалансированности (а вдруг и так все заработает?), а затем самим выбрать способ борьбы с ним и написать код в случае необходимости."
   ]
  },
  {
   "cell_type": "code",
   "execution_count": null,
   "metadata": {
    "id": "t4oD-BX3gCaV"
   },
   "outputs": [],
   "source": []
  },
  {
   "cell_type": "markdown",
   "metadata": {
    "id": "AAPA_OsQipP0"
   },
   "source": [
    "Убедимся еще раз, что в папке train и val все разложено по папкам-классам (авторам). Эта структура папок важна для использования классов PyTorch по работе с данными (`ImageFolder` и `DataLoader`):"
   ]
  },
  {
   "cell_type": "code",
   "execution_count": null,
   "metadata": {
    "colab": {
     "base_uri": "https://localhost:8080/"
    },
    "id": "G134scOxtJfH",
    "outputId": "a3534568-1027-4533-af5f-8c1b226f0fc8"
   },
   "outputs": [],
   "source": [
    "!ls $TRAIN_DIR"
   ]
  },
  {
   "cell_type": "code",
   "execution_count": null,
   "metadata": {
    "colab": {
     "base_uri": "https://localhost:8080/"
    },
    "id": "Zy9jvWXLi2QQ",
    "outputId": "84ee1cae-88c4-4bec-c6ee-a0670ad3f457"
   },
   "outputs": [],
   "source": [
    "!ls $VAL_DIR"
   ]
  },
  {
   "cell_type": "markdown",
   "metadata": {},
   "source": [
    "### Физика\n",
    "В `train` датасете $3$ вида солнечного затмения и $2214$ изображений Солнца (объектов). Посмотрим на какую-нибудь картину из набора данных."
   ]
  },
  {
   "cell_type": "code",
   "execution_count": 7,
   "metadata": {
    "colab": {
     "base_uri": "https://localhost:8080/",
     "height": 303
    },
    "id": "PRJFzdSNjv_o",
    "outputId": "fb755c6f-5557-4e5d-fe50-b3e3cb9dbbd4",
    "scrolled": true
   },
   "outputs": [
    {
     "data": {
      "image/png": "[encoded data removed]",
      "text/plain": [
       "<Figure size 864x360 with 1 Axes>"
      ]
     },
     "metadata": {
      "needs_background": "light"
     },
     "output_type": "display_data"
    }
   ],
   "source": [
    "path_to_img = os.path.join(DATA_PATH, \"train/Annular_solar_eclipse/Augmented_0__0_714.jpeg\")\n",
    "image = plt.imread(path_to_img)\n",
    "plt.figure(figsize=(12, 5))\n",
    "plt.imshow(image)\n",
    "plt.axis(\"off\");"
   ]
  },
  {
   "cell_type": "markdown",
   "metadata": {
    "id": "Pmpc_RdfpSQn"
   },
   "source": [
    "Разобьем `train` выборку на `train` и `val`:\n",
    "\n"
   ]
  },
  {
   "cell_type": "code",
   "execution_count": 9,
   "metadata": {
    "colab": {
     "base_uri": "https://localhost:8080/"
    },
    "id": "3glVY6H9pEEu",
    "outputId": "f8fe7e37-95f7-4ff8-c139-95093ee25ed2"
   },
   "outputs": [
    {
     "name": "stdout",
     "output_type": "stream",
     "text": [
      "Annular_solar_eclipse | train images = 493 | val images = 211\n",
      "Partial_solar_eclipse | train images = 543 | val images = 232\n",
      "Total_solar_eclipse | train images = 515 | val images = 220\n"
     ]
    }
   ],
   "source": [
    "# Папка со всеми фотографиями / папка с фотографиями для тренировки\n",
    "TRAIN_DIR = os.path.join(DATA_PATH, \"train\")\n",
    "# Считываем названия директорий, которые и являются видом затмения\n",
    "ECLIPSE_LIST = {i:name for i, name in enumerate(os.listdir(TRAIN_DIR))}\n",
    "\n",
    "\n",
    "# Папка с фотографиями для валидации\n",
    "VAL_DIR = os.path.join(DATA_PATH, \"val\")\n",
    "os.makedirs(VAL_DIR, exist_ok=True)\n",
    "\n",
    "# Папка с фотографиями для теста\n",
    "TEST_DIR = os.path.join(DATA_PATH, \"test\")\n",
    "\n",
    "\n",
    "# Доля изображений в валидации\n",
    "VAL_FRAC = 0.3\n",
    "\n",
    "\n",
    "# Создаем директорию с валидационной выборкой для каждого вида затмения.\n",
    "for eclipse in ECLIPSE_LIST.values():\n",
    "    os.makedirs(os.path.join(VAL_DIR, eclipse), exist_ok=True)\n",
    "\n",
    "    # Считываем выборку изображений.\n",
    "    eclipse_path = os.path.join(TRAIN_DIR, eclipse)\n",
    "    \n",
    "    # Сортируем изображения для детерминированнсти\n",
    "    images_filename = sorted(os.listdir(eclipse_path))\n",
    "    \n",
    "    # Выделяем часть изображений для валидации\n",
    "    # Выбираем случайные изображения из выборки для валидции, с установленным random_state\n",
    "    num_images = len(images_filename)\n",
    "    num_val = int(num_images * VAL_FRAC)\n",
    "    indices = sample_without_replacement(num_images, num_val, random_state=42)\n",
    "    val_images = np.take(images_filename, indices)\n",
    "\n",
    "    print(f'{eclipse} | train images = {num_images - num_val} | val images = {num_val}')\n",
    "    \n",
    "    # Сохраняем валидационную выборку\n",
    "    for image_filename in val_images:\n",
    "        source = os.path.join(TRAIN_DIR, eclipse, image_filename)\n",
    "        destination = os.path.join(VAL_DIR, eclipse, image_filename)\n",
    "        shutil.copy(source, destination)\n",
    "        os.remove(source)"
   ]
  },
  {
   "cell_type": "markdown",
   "metadata": {
    "id": "AAPA_OsQipP0"
   },
   "source": [
    "Убедимся еще раз, что в папке train и val все разложено по папкам-классам (авторам). Эта структура папок важна для использования классов PyTorch по работе с данными (`ImageFolder` и `DataLoader`):"
   ]
  },
  {
   "cell_type": "code",
   "execution_count": null,
   "metadata": {
    "colab": {
     "base_uri": "https://localhost:8080/"
    },
    "id": "G134scOxtJfH",
    "outputId": "a3534568-1027-4533-af5f-8c1b226f0fc8"
   },
   "outputs": [],
   "source": [
    "!ls $TRAIN_DIR"
   ]
  },
  {
   "cell_type": "code",
   "execution_count": null,
   "metadata": {
    "colab": {
     "base_uri": "https://localhost:8080/"
    },
    "id": "Zy9jvWXLi2QQ",
    "outputId": "84ee1cae-88c4-4bec-c6ee-a0670ad3f457"
   },
   "outputs": [],
   "source": [
    "!ls $VAL_DIR"
   ]
  },
  {
   "cell_type": "code",
   "execution_count": null,
   "metadata": {
    "colab": {
     "base_uri": "https://localhost:8080/",
     "height": 194
    },
    "id": "DRd8szRVPYeo",
    "outputId": "415566e2-4392-4947-93b6-352950b88ac3"
   },
   "outputs": [],
   "source": [
    "train_dataset = torchvision.datasets.ImageFolder(TRAIN_DIR, transform=transforms.ToTensor())\n",
    "val_dataset = torchvision.datasets.ImageFolder(VAL_DIR, transform=transforms.ToTensor())"
   ]
  },
  {
   "cell_type": "markdown",
   "metadata": {
    "id": "Hsj2NrwqUn6q"
   },
   "source": [
    "### I. Построение сверточных сетей с использованием Dropout и BatchNorm\n",
    "\n",
    "В первой части задания вам предстоит сравнить четыре различные реализации одной и той же сверточной сети. Для реализации сети можете смело использовать код с семинара.\n",
    "\n",
    "1. Постройте простую сверточную сеть без использования функций Dropout и BatchNorm."
   ]
  },
  {
   "cell_type": "code",
   "execution_count": null,
   "metadata": {
    "id": "n2RQL4TTUzvO"
   },
   "outputs": [],
   "source": []
  },
  {
   "cell_type": "markdown",
   "metadata": {},
   "source": [
    "2. Попробуйте добавить BatchNorm на слои своей сверточной сети, не используя Dropout."
   ]
  },
  {
   "cell_type": "code",
   "execution_count": null,
   "metadata": {},
   "outputs": [],
   "source": []
  },
  {
   "cell_type": "markdown",
   "metadata": {},
   "source": [
    "3. Попробуйте добавить Dropout на слои своей сверточной сети, не используя BatchNorm."
   ]
  },
  {
   "cell_type": "code",
   "execution_count": null,
   "metadata": {},
   "outputs": [],
   "source": []
  },
  {
   "cell_type": "markdown",
   "metadata": {},
   "source": [
    "4. Теперь добавьте на все слои сети и Dropout, и BatchNorm."
   ]
  },
  {
   "cell_type": "code",
   "execution_count": null,
   "metadata": {},
   "outputs": [],
   "source": []
  },
  {
   "cell_type": "markdown",
   "metadata": {},
   "source": [
    "Проведите сравнение построенных сверточных сетей.\n",
    "\n",
    "Для наглядности сравнения после обучения всех четырех сетей постройте общий график лосса и метрики качества на обучающей и валидационной выборках."
   ]
  },
  {
   "cell_type": "code",
   "execution_count": null,
   "metadata": {},
   "outputs": [],
   "source": []
  },
  {
   "cell_type": "markdown",
   "metadata": {},
   "source": [
    "**Вывод**\n"
   ]
  },
  {
   "cell_type": "markdown",
   "metadata": {},
   "source": []
  },
  {
   "cell_type": "markdown",
   "metadata": {
    "id": "Hsj2NrwqUn6q"
   },
   "source": [
    "### II. Сравнение различных оптимизаторов\n",
    "\n",
    "Обучите несколько нейронных сетей с различными оптимизаторами. Например, можно использовать `SGD`, `rmsprop`, `adam`, `adagrad` из `torch.optim`.\n",
    "\n",
    "Проведите сравнение работы данных нейронных сетей и выберете лучший оптимизатор для вашей конкретной задачи."
   ]
  },
  {
   "cell_type": "code",
   "execution_count": null,
   "metadata": {},
   "outputs": [],
   "source": []
  },
  {
   "cell_type": "markdown",
   "metadata": {},
   "source": [
    "Проведите сравнение построенных сверточных сетей.\n",
    "\n",
    "Для наглядности сравнения после обучения всех сетей с различными оптимизаторами постройте общий график лосса и метрики качества на обучающей и валидационной выборках."
   ]
  },
  {
   "cell_type": "code",
   "execution_count": null,
   "metadata": {},
   "outputs": [],
   "source": []
  },
  {
   "cell_type": "markdown",
   "metadata": {},
   "source": [
    "**Вывод**\n"
   ]
  },
  {
   "cell_type": "markdown",
   "metadata": {},
   "source": []
  },
  {
   "cell_type": "markdown",
   "metadata": {},
   "source": [
    "Для лучшего оптимизатора попробуйте поварьировать значение параметров (например, `learning rate`, `momentum` и так далее). Четырех различных значений для каждого параметра будет достаточно. Сравните результаты обучения, построив аналогичные общие графики лосса и метрики качества."
   ]
  },
  {
   "cell_type": "code",
   "execution_count": null,
   "metadata": {},
   "outputs": [],
   "source": []
  },
  {
   "cell_type": "markdown",
   "metadata": {},
   "source": [
    "**Вывод**\n"
   ]
  },
  {
   "cell_type": "markdown",
   "metadata": {},
   "source": []
  },
  {
   "cell_type": "markdown",
   "metadata": {
    "id": "Hsj2NrwqUn6q"
   },
   "source": [
    "### III. Способы борьбы с переобучением\n",
    "\n",
    "Мы знаем, что нейронные сети часто в какой-то момент начинают переобучаться. Есть целый набор различных способов борьбы с данным явлением.\n",
    "\n",
    "В данном пункте вам предлагается попробовать использовать две различные методики:\n",
    "`torch.optim.lr_scheduler` и `Label Smoothing`.\n",
    "\n",
    "Обучите еще две сверточные сети, пользуясь данными методами борьбы с переобучением, и сравните их результаты со своей лучшей обученной нейронной сетью из прошлого пункта."
   ]
  },
  {
   "cell_type": "code",
   "execution_count": null,
   "metadata": {},
   "outputs": [],
   "source": []
  },
  {
   "cell_type": "markdown",
   "metadata": {},
   "source": [
    "**Вывод**\n"
   ]
  },
  {
   "cell_type": "code",
   "execution_count": null,
   "metadata": {},
   "outputs": [],
   "source": []
  },
  {
   "cell_type": "markdown",
   "metadata": {
    "id": "Jq1u4ymfVok1"
   },
   "source": [
    "Протестируйте своё лучшее решение:\n"
   ]
  },
  {
   "cell_type": "code",
   "execution_count": null,
   "metadata": {
    "id": "vrMC6cXgVoBg"
   },
   "outputs": [],
   "source": [
    "# Используйте test_dataset только для финальной оценки качества\n",
    "test_dataset = ..."
   ]
  },
  {
   "cell_type": "code",
   "execution_count": null,
   "metadata": {
    "id": "2MSkLGU2nV6u"
   },
   "outputs": [],
   "source": [
    "test_f1_score = ..."
   ]
  },
  {
   "cell_type": "code",
   "execution_count": null,
   "metadata": {
    "id": "IE-pvhvsV_3p"
   },
   "outputs": [],
   "source": [
    "print(\"Итоговый результат:\")\n",
    "print(\"Test F1 score:\\t\\t{:.2f} %\".format(test_f1_score * 100))"
   ]
  },
  {
   "cell_type": "markdown",
   "metadata": {},
   "source": [
    "### Задача 2."
   ]
  },
  {
   "cell_type": "markdown",
   "metadata": {},
   "source": [
    "На семинаре вы уже познакомились с основными методами оптимизации, которые широко используются в классическом машинном обучении. С развитием нейронных сетей и активным внедрением нейросетевого подхода, методы оптимизации стали ещё более актуальными. Но стандартные методы оптимизации, SGD и метод тяжёлого шара, имеют ряд недостатков, из-за чего их редко применяют в чистом виде. Для обучения современных нейросетей используют более продвинутые методы. \n",
    "\n",
    "В данной задаче вам предстоит самостоятельно реализовать различные оптимизаторы (запущенные из одной точки) и сравнить скорости их сходимости.\n",
    "\n",
    "Пусть задача оптимизации имеет вид $f(x) \\longrightarrow \\min\\limits_x$, и $\\nabla_{x} f(x)$ &mdash; градиент функции $f(x)$."
   ]
  },
  {
   "cell_type": "code",
   "execution_count": null,
   "metadata": {},
   "outputs": [],
   "source": [
    "! apt-get install imagemagick"
   ]
  },
  {
   "cell_type": "markdown",
   "metadata": {},
   "source": [
    "#### 1. SGD\n",
    "\n",
    "Обычный и стохастический градиентный спуск.\n",
    "\n",
    "$$x_{t + 1} = x_t - \\eta v_t,$$\n",
    "\n",
    "где $v_{t} = \\nabla f(x_{t})$ &mdash; аналогия со скоростью."
   ]
  },
  {
   "cell_type": "code",
   "execution_count": null,
   "metadata": {},
   "outputs": [],
   "source": [
    "def sgd(init_parameters, func_grad, lr, n_iter):\n",
    "    '''\n",
    "    Метод оптимизации SGD.\n",
    "    \n",
    "    Параметры:\n",
    "    - parameters - начальное приближение параметров,\n",
    "    - func_grad - функция, задающая градиент оптимизируемой функции,\n",
    "    - lr - скорость обучения,\n",
    "    - n_iter - количество итераций метода.\n",
    "    \n",
    "    Возвращает историю обновлений параметров.\n",
    "    '''\n",
    "    \n",
    "    parameters = init_parameters.copy()\n",
    "    history = [parameters.copy()]\n",
    "    \n",
    "    for i in range(n_iter):\n",
    "        # ваш код\n",
    "        \n",
    "    return history"
   ]
  },
  {
   "cell_type": "markdown",
   "metadata": {},
   "source": [
    "#### 2. SGD + Momentum\n",
    "\n",
    "Сгладим градиент, используя информацию о том, как градиент изменялся раньше. \n",
    "Физическая аналогия &mdash; добавляем инерцию.\n",
    "\n",
    "\n",
    "$$x_{t + 1} = x_t + v_{t},$$\n",
    "где $v_{t} = \\mu v_{t - 1} - \\eta \\nabla f(x_{t})$ &mdash; сглаживаем градиенты."
   ]
  },
  {
   "cell_type": "code",
   "execution_count": null,
   "metadata": {},
   "outputs": [],
   "source": [
    "def sgd_momentum(init_parameters, func_grad, lr, mu, n_iter):\n",
    "    '''\n",
    "    Метод оптимизации SGD Momentum.\n",
    "    \n",
    "    Параметры:\n",
    "    - parameters - начальное приближение параметров,\n",
    "    - func_grad - функция, задающая градиент оптимизируемой функции,\n",
    "    - lr - скорость обучения,\n",
    "    - mu - коэффициент сглаживания,\n",
    "    - n_iter - количество итераций метода.\n",
    "    \n",
    "    Возвращает историю обновлений параметров.\n",
    "    '''\n",
    "    parameters = init_parameters.copy()\n",
    "    history = [parameters.copy()]\n",
    "    \n",
    "    for i in range(n_iter):\n",
    "        # ваш код\n",
    "        \n",
    "    return history"
   ]
  },
  {
   "cell_type": "markdown",
   "metadata": {},
   "source": [
    "#### 3. Adagrad\n",
    "\n",
    "Adagrad &mdash; один из самых первых адаптивных методов оптимизации.\n",
    "\n",
    "Во всех изученных ранее методах есть необходимость подбирать шаг метода (коэффициент $\\eta$). На каждой итерации все компоненты градиента оптимизируемой функции домножаются на одно и то же число $\\eta$. Но использовать одно значение $\\eta$ для всех параметров не оптимально, так как они имеют различные распределения и оптимизируемая функция изменяется с совершенно разной скоростью при небольших изменениях разных параметров. \n",
    "\n",
    "Поэтому гораздо логичнее **изменять значение каждого параметра с индивидуальной скоростью**. При этом, *чем c большей степени от изменения параметра меняется значение оптимизируемой функции, тем с меньшей скоростью стоить обновлять этот параметр*. Иначе высок шанс расходимости метода. Получить такой результат удается, если разделить градиент на сумму квадратов скорости изменений параметров.\n",
    "\n",
    "Пусть $x^{(i)}$ &mdash; $i$-я компонента вектора $x$.\n",
    "$$x_{t+1, i} = x_{t, i} - \\frac{\\eta}{\\sqrt{g_{t, i}+\\varepsilon}}\\cdot \\nabla f_i(x_t)$$\n",
    "$$g_{t} = g_{t-1} + \\nabla f(x_t) \\odot \\nabla f(x_t)$$\n",
    "\n",
    "\n",
    "В матрично-векторном виде шаг алгоритма можно переписать так:\n",
    "$$x_{t+1} = x_{t} - \\frac{\\eta}{\\sqrt{g_{t} + \\varepsilon}}\\odot \\nabla f(x_t).$$\n",
    "Здесь $\\odot$ обозначает произведение Адамара, т.е. поэлементное перемножение векторов."
   ]
  },
  {
   "cell_type": "code",
   "execution_count": null,
   "metadata": {},
   "outputs": [],
   "source": [
    "def adagrad(init_parameters, func_grad, lr, eps, n_iter):\n",
    "    '''\n",
    "    Метод оптимизации Adagrad.\n",
    "    \n",
    "    Параметры:\n",
    "    - parameters - начальное приближение параметров,\n",
    "    - func_grad - функция, задающая градиент оптимизируемой функции,\n",
    "    - lr - скорость обучения,\n",
    "    - eps - минимальное значение нормирующего члена,\n",
    "    - n_iter - количество итераций метода.\n",
    "    \n",
    "    Возвращает историю обновлений параметров.\n",
    "    '''\n",
    "    parameters = init_parameters.copy()\n",
    "    history = [parameters.copy()]\n",
    "    \n",
    "    for iter_id in range(n_iter):\n",
    "        \n",
    "        # ваш код\n",
    "        \n",
    "    return history"
   ]
  },
  {
   "cell_type": "markdown",
   "metadata": {},
   "source": [
    "#### 4. RMSProp\n",
    "\n",
    "Алгоритм RMSProp основан на той же идее, что и алгоритм Adagrad &mdash; адаптировать learning rate отдельно для каждого параметра $\\theta^{(i)}$.  Однако Adagrad имеет серьёзный недостаток. Он с одинаковым весом учитывает квадраты градиентов как с самых первых итераций, так и с самых последних. Хотя, на самом деле, наибольшую значимость имеют модули градиентов на последних нескольких итерациях. \n",
    "\n",
    "Для этого предлагается использовать **экспоненциальное сглаживание**.\n",
    "$$x_{t+1} = x_{t} - \\frac{\\eta}{\\sqrt{g_{t} + \\varepsilon}}\\odot \\nabla f(x_t).$$\n",
    "$$g_t = \\mu g_{t-1} + (1-\\mu) \\nabla f(x_t) \\odot \\nabla f(x_t)$$\n",
    "\n",
    "Стандартные значения гиперпараметров: $\\mu = 0.9, \\eta = 0.001$."
   ]
  },
  {
   "cell_type": "code",
   "execution_count": null,
   "metadata": {},
   "outputs": [],
   "source": [
    "def rmsprop(init_parameters, func_grad, lr, mu, eps, n_iter):\n",
    "    '''\n",
    "    Метод оптимизации RMSProp.\n",
    "    \n",
    "    Параметры:\n",
    "    - parameters - начальное приближение параметров,\n",
    "    - func_grad - функция, задающая градиент оптимизируемой функции,\n",
    "    - lr - скорость обучения,\n",
    "    - mu - коэффициент сглаживания,\n",
    "    - eps - минимальное значение нормирующего члена,\n",
    "    - n_iter - количество итераций метода.\n",
    "    \n",
    "    Возвращает историю обновлений параметров.\n",
    "    '''\n",
    "    \n",
    "    parameters = init_parameters.copy()\n",
    "    history = [parameters.copy()]\n",
    "\n",
    "    for iter_id in range(n_iter):\n",
    "        \n",
    "        # ваш код\n",
    "        \n",
    "    return history"
   ]
  },
  {
   "cell_type": "markdown",
   "metadata": {},
   "source": [
    "**5. Adam**\n",
    "\n",
    "Этот алгоритм совмещает в себе 2 идеи: \n",
    "* идею алгоритма Momentum *о накапливании градиента*, \n",
    "* идею методов Adadelta и RMSProp *об экспоненциальном сглаживании* информации о предыдущих значениях квадратов градиентов.\n",
    "\n",
    "Благодаря использованию этих двух идей, метод имеет 2 преимущества над большей частью методов первого порядка, описанных выше:\n",
    "\n",
    "\n",
    "1. Он обновляет все параметры $\\theta$ не с одинаковым `learning rate`, а выбирает для каждого $\\theta_i$ индивидуальный `learning rate`, что *позволяет учитывать разреженные признаки с большим весом*.\n",
    "\n",
    "\n",
    "2. Adam за счёт применения экспоненциального сглаживания к градиенту *работает более устойчиво в окрестности оптимального значения параметра $\\theta^*$*, чем методы, использующие градиент в точке $x_t$, не накапливая значения градиента с прошлых шагов.\n",
    "\n",
    "\n",
    "Формулы шага алгоритма выглядят так:\n",
    "$$v_{t + 1} = \\beta v_{t} + (1-\\beta) \\nabla x(x_{t})$$\n",
    "$$g_t = \\mu g_{t-1} + (1-\\mu) \\nabla x(x_t) \\odot \\nabla x(x_t)$$\n",
    "\n",
    "Чтобы эти оценки не были смещёнными, нужно их отнормировать:\n",
    "$$\\widehat{v}_{t + 1} = \\frac{v_{t + 1}}{1-\\beta^t},$$\n",
    "$$\\widehat{g}_t = \\frac{g_t}{1-\\mu^t}.$$\n",
    "\n",
    "Тогда получим итоговую формулу шага:\n",
    "\n",
    "$$x_{t+1} = x_t - \\frac{\\eta}{\\sqrt{\\widehat{g}_t + \\varepsilon}} \\odot \\widehat{v}_{t + 1}.$$"
   ]
  },
  {
   "cell_type": "code",
   "execution_count": null,
   "metadata": {},
   "outputs": [],
   "source": [
    "def adam(init_parameters, func_grad, eps, lr, beta, mu,  n_iter):\n",
    "    '''\n",
    "    Adam.\n",
    "    \n",
    "    Параметры.\n",
    "    1) theta0 - начальное приближение theta,\n",
    "    2) func_grad - функция, задающая градиент оптимизируемой функции,\n",
    "    3) eps - мин. возможное значение знаменателя,\n",
    "    4) lr - скорость обучения,\n",
    "    5) beta - параметр экспоненциального сглаживания,\n",
    "    6) mu - параметр экспоненциального сглаживания,\n",
    "    7) n_iter - количество итераций метода.\n",
    "    '''\n",
    "    \n",
    "    parameters = init_parameters.copy()\n",
    "    history = [parameters.copy()]\n",
    "    \n",
    "    for iter_id in range(n_iter):\n",
    "        \n",
    "        # ваш код\n",
    "        \n",
    "    return history"
   ]
  },
  {
   "cell_type": "markdown",
   "metadata": {},
   "source": [
    "Сравнение оптимизаторов будем производить на примере двух функций:\n",
    "1. $f(x, y) = 5*x^2 + y^2$\n",
    "2. $f(x, y) = (x-3)^2 + 8(y-5)^4 + \\sqrt{x} + \\sin(xy)$\n",
    "\n",
    "Реализуйте данные функции в ячейке ниже для удобства и читаемости кода."
   ]
  },
  {
   "cell_type": "code",
   "execution_count": null,
   "metadata": {},
   "outputs": [],
   "source": [
    "def square_sum(x):\n",
    "    ''' f(x, y) = 5 * x^2 + y^2 '''\n",
    "    \n",
    "    return # ваш код\n",
    "\n",
    "def square_sum_grad(x):\n",
    "    ''' grad f(x, y) = <..> '''\n",
    "    \n",
    "    return # ваш код\n",
    "\n",
    "\n",
    "def complex_sum(x):\n",
    "    ''' f(x, y) = (x-3)^2 + 8(y-5)^4 + sqrt(x) + sin(xy)'''\n",
    "    \n",
    "    return # ваш код\n",
    "\n",
    "def complex_sum_grad(x):\n",
    "    ''' grad f(x, y) = <..> '''\n",
    "    \n",
    "    partial_x = # ваш код\n",
    "    partial_y = # ваш код\n",
    "                                                                   \n",
    "    return np.array([partial_x, partial_y])"
   ]
  },
  {
   "cell_type": "markdown",
   "metadata": {},
   "source": [
    "Создадим директорию, в которой будем хранить визуализацию экспериментов."
   ]
  },
  {
   "cell_type": "code",
   "execution_count": null,
   "metadata": {},
   "outputs": [],
   "source": [
    "!rm -rf saved_gifs\n",
    "!mkdir saved_gifs"
   ]
  },
  {
   "cell_type": "markdown",
   "metadata": {},
   "source": [
    "Напишем функцию, которая будет отрисовывать процесс оптимизации."
   ]
  },
  {
   "cell_type": "code",
   "execution_count": null,
   "metadata": {},
   "outputs": [],
   "source": [
    "def make_experiment(func, trajectory, graph_title,\n",
    "                    min_y=-7, max_y=7, min_x=-7, max_x=7):\n",
    "    '''\n",
    "    Функция, которая для заданной функции рисует её линии уровня, \n",
    "    а также траекторию сходимости метода оптимизации.\n",
    "    \n",
    "    Параметры.\n",
    "    1) func - оптимизируемая функция,\n",
    "    2) trajectory - траектория метода оптимизации,\n",
    "    3) graph_name - заголовок графика.\n",
    "    '''\n",
    "    \n",
    "    fig, ax = plt.subplots(figsize=(10, 8))\n",
    "    xdata, ydata = [], []\n",
    "    ln, = plt.plot([], [])\n",
    "    \n",
    "    mesh_x = np.linspace(min_x, max_x, 300)\n",
    "    mesh_y = np.linspace(min_y, max_y, 300)\n",
    "    X, Y = np.meshgrid(mesh_x, mesh_y)\n",
    "    Z = np.zeros((len(mesh_x), len(mesh_y)))\n",
    "    \n",
    "    for coord_x in range(len(mesh_x)):\n",
    "        for coord_y in range(len(mesh_y)):\n",
    "            Z[coord_y, coord_x] = func(\n",
    "                np.array((mesh_x[coord_x], \n",
    "                          mesh_y[coord_y]))\n",
    "            )\n",
    "    \n",
    "    def init():\n",
    "        ax.contour(\n",
    "            X, Y, np.log(Z), \n",
    "            np.log([0.5, 10, 30, 80, 130, 200, 300, 500, 900]), \n",
    "            cmap='winter'\n",
    "        )\n",
    "        ax.set_title(graph_title)\n",
    "        return ln,\n",
    "\n",
    "    def update(frame):\n",
    "        xdata.append(trajectory[frame][0])\n",
    "        ydata.append(trajectory[frame][1])\n",
    "        ln.set_data(xdata, ydata)\n",
    "        return ln,\n",
    "    \n",
    "    ani = FuncAnimation(\n",
    "        fig, update, frames=range(len(trajectory)),\n",
    "        init_func=init, repeat=True\n",
    "    )\n",
    "    writer = ImageMagickFileWriter(fps=10)\n",
    "    ani.save(f'saved_gifs/{graph_title}.gif', \n",
    "             writer=writer)\n",
    "    plt.show()"
   ]
  },
  {
   "cell_type": "markdown",
   "metadata": {},
   "source": [
    "### Простая функция $f(x, y) = x^2 + y^2$"
   ]
  },
  {
   "cell_type": "code",
   "execution_count": null,
   "metadata": {},
   "outputs": [],
   "source": [
    "parameters = np.array((5, 5), dtype=float)\n",
    "func_name = '$f(x, y) = 5x^2 + y^2$'\n",
    "func_grad = square_sum_grad\n",
    "func = square_sum\n",
    "n_iter = 100"
   ]
  },
  {
   "cell_type": "markdown",
   "metadata": {},
   "source": [
    "**SGD**"
   ]
  },
  {
   "cell_type": "code",
   "execution_count": null,
   "metadata": {},
   "outputs": [],
   "source": [
    "sgd_trajectory = sgd(\n",
    "    init_parameters=parameters, \n",
    "    func_grad=func_grad, \n",
    "    lr=0.01, \n",
    "    n_iter=n_iter\n",
    ")\n",
    "graph_title = 'Траектория SGD, ' + func_name\n",
    "make_experiment(\n",
    "    func, \n",
    "    sgd_trajectory, \n",
    "    graph_title,\n",
    ")\n",
    "clear_output()\n",
    "Image(open(f'saved_gifs/{graph_title}.gif','rb').read())"
   ]
  },
  {
   "cell_type": "markdown",
   "metadata": {},
   "source": [
    "**SGD Momentum**"
   ]
  },
  {
   "cell_type": "code",
   "execution_count": null,
   "metadata": {},
   "outputs": [],
   "source": [
    "sgd_momentum_trajectory = sgd_momentum(\n",
    "    init_parameters=parameters.copy(), \n",
    "    func_grad=func_grad, \n",
    "    lr=0.01, \n",
    "    n_iter=n_iter,\n",
    "    mu=0.9\n",
    ")\n",
    "graph_title = 'Траектория SGD Momentum, ' + func_name\n",
    "make_experiment(\n",
    "    func, \n",
    "    sgd_momentum_trajectory, \n",
    "    graph_title,\n",
    ")\n",
    "clear_output()\n",
    "Image(open(f'saved_gifs/{graph_title}.gif','rb').read())"
   ]
  },
  {
   "cell_type": "markdown",
   "metadata": {},
   "source": [
    "**Adagrad**"
   ]
  },
  {
   "cell_type": "code",
   "execution_count": null,
   "metadata": {},
   "outputs": [],
   "source": [
    "adagrad_trajectory = adagrad(\n",
    "    init_parameters=parameters.copy(),  \n",
    "    func_grad=func_grad, \n",
    "    lr=0.1, \n",
    "    n_iter=n_iter,\n",
    "    eps=1e-6,\n",
    ")\n",
    "graph_title = 'Траектория Adagrad, ' + func_name\n",
    "make_experiment(\n",
    "    func, \n",
    "    adagrad_trajectory, \n",
    "    graph_title,\n",
    ")\n",
    "clear_output()\n",
    "Image(open(f'saved_gifs/{graph_title}.gif','rb').read())"
   ]
  },
  {
   "cell_type": "markdown",
   "metadata": {},
   "source": [
    "**RMSProp**"
   ]
  },
  {
   "cell_type": "code",
   "execution_count": null,
   "metadata": {},
   "outputs": [],
   "source": [
    "rmsprop_trajectory = rmsprop(\n",
    "    init_parameters=parameters.copy(),  \n",
    "    func_grad=func_grad, \n",
    "    lr=0.1, \n",
    "    n_iter=n_iter,\n",
    "    eps=1e-6,\n",
    "    mu=0.9\n",
    ")\n",
    "graph_title = 'Траектория RMSProp, ' + func_name\n",
    "make_experiment(\n",
    "    func, \n",
    "    rmsprop_trajectory, \n",
    "    graph_title,\n",
    ")\n",
    "clear_output()\n",
    "Image(open(f'saved_gifs/{graph_title}.gif','rb').read())"
   ]
  },
  {
   "cell_type": "markdown",
   "metadata": {},
   "source": [
    "**Adam**"
   ]
  },
  {
   "cell_type": "code",
   "execution_count": null,
   "metadata": {},
   "outputs": [],
   "source": [
    "adam_trajectory = adam(\n",
    "    init_parameters=parameters.copy(),  \n",
    "    func_grad=func_grad, \n",
    "    lr=0.1, \n",
    "    n_iter=n_iter,\n",
    "    eps=1e-6,\n",
    "    mu=0.9,\n",
    "    beta=0.9\n",
    ")\n",
    "graph_title = 'Траектория Adam, ' + func_name\n",
    "make_experiment(\n",
    "    func, \n",
    "    adam_trajectory, \n",
    "    graph_title,\n",
    ")\n",
    "clear_output()\n",
    "Image(open(f'saved_gifs/{graph_title}.gif','rb').read())"
   ]
  },
  {
   "cell_type": "markdown",
   "metadata": {},
   "source": [
    "**Вывод**"
   ]
  },
  {
   "cell_type": "markdown",
   "metadata": {},
   "source": []
  },
  {
   "cell_type": "markdown",
   "metadata": {},
   "source": [
    "### Сложная функция $f(x, y) = (x-3)^2 + 8(y-5)^4 + \\sqrt{x} + \\sin(xy)$"
   ]
  },
  {
   "cell_type": "code",
   "execution_count": null,
   "metadata": {},
   "outputs": [],
   "source": [
    "parameters = np.array((5, -2), dtype=float)\n",
    "func_name = '$f(x, y) = (x-3)^2 + 8(y-5)^4 + \\sqrt{x} + \\sin(xy)$'\n",
    "func_grad = complex_sum_grad\n",
    "func = complex_sum\n",
    "n_iter = 100"
   ]
  },
  {
   "cell_type": "markdown",
   "metadata": {},
   "source": [
    "**SGD**"
   ]
  },
  {
   "cell_type": "code",
   "execution_count": null,
   "metadata": {},
   "outputs": [],
   "source": [
    "sgd_trajectory = sgd(\n",
    "    init_parameters=parameters, \n",
    "    func_grad=func_grad, \n",
    "    lr=0.0002, \n",
    "    n_iter=n_iter\n",
    ")\n",
    "graph_title = 'Траектория SGD, ' +  func_name\n",
    "make_experiment(\n",
    "    func, \n",
    "    sgd_trajectory, \n",
    "    graph_title, \n",
    "    -5, 10, 0, 10\n",
    ")\n",
    "clear_output()\n",
    "Image(open(f'saved_gifs/{graph_title}.gif','rb').read())"
   ]
  },
  {
   "cell_type": "markdown",
   "metadata": {},
   "source": [
    "**SGD Momentum**"
   ]
  },
  {
   "cell_type": "code",
   "execution_count": null,
   "metadata": {},
   "outputs": [],
   "source": [
    "sgd_momentum_trajectory = sgd_momentum(\n",
    "    init_parameters=parameters.copy(), \n",
    "    func_grad=func_grad, \n",
    "    lr=0.0002, \n",
    "    n_iter=n_iter,\n",
    "    mu=0.7\n",
    ")\n",
    "graph_title = 'Траектория SGD Momentum, ' +  func_name\n",
    "make_experiment(\n",
    "    func, \n",
    "    sgd_momentum_trajectory, \n",
    "    graph_title,\n",
    "    -5, 10, 0, 10\n",
    ")\n",
    "clear_output()\n",
    "Image(open(f'saved_gifs/{graph_title}.gif','rb').read())"
   ]
  },
  {
   "cell_type": "markdown",
   "metadata": {},
   "source": [
    "**Adagrad**"
   ]
  },
  {
   "cell_type": "code",
   "execution_count": null,
   "metadata": {},
   "outputs": [],
   "source": [
    "adagrad_trajectory = adagrad(\n",
    "    init_parameters=parameters.copy(),  \n",
    "    func_grad=func_grad, \n",
    "    lr=0.1, \n",
    "    n_iter=n_iter,\n",
    "    eps=1e-6,\n",
    ")\n",
    "graph_title = 'Траектория Adagrad, ' + func_name\n",
    "make_experiment(\n",
    "    func, \n",
    "    adagrad_trajectory, \n",
    "    graph_title,\n",
    "    -5, 10, 0, 10\n",
    ")\n",
    "clear_output()\n",
    "Image(open(f'saved_gifs/{graph_title}.gif','rb').read())"
   ]
  },
  {
   "cell_type": "markdown",
   "metadata": {},
   "source": [
    "**RMSProp**"
   ]
  },
  {
   "cell_type": "code",
   "execution_count": null,
   "metadata": {},
   "outputs": [],
   "source": [
    "rmsprop_trajectory = rmsprop(\n",
    "    init_parameters=parameters.copy(),  \n",
    "    func_grad=func_grad, \n",
    "    lr=0.1, \n",
    "    n_iter=n_iter,\n",
    "    eps=1e-6,\n",
    "    mu=0.9\n",
    ")\n",
    "graph_title = 'Траектория RMSProp, ' + func_name\n",
    "make_experiment(\n",
    "    func, \n",
    "    rmsprop_trajectory, \n",
    "    graph_title,\n",
    "    -5, 10, 0, 10\n",
    ")\n",
    "clear_output()\n",
    "Image(open(f'saved_gifs/{graph_title}.gif','rb').read())"
   ]
  },
  {
   "cell_type": "markdown",
   "metadata": {},
   "source": [
    "**Adam**"
   ]
  },
  {
   "cell_type": "code",
   "execution_count": null,
   "metadata": {},
   "outputs": [],
   "source": [
    "adam_trajectory = adam(\n",
    "    init_parameters=parameters.copy(),  \n",
    "    func_grad=func_grad, \n",
    "    lr=0.1, \n",
    "    n_iter=n_iter,\n",
    "    eps=1e-6,\n",
    "    mu=0.9,\n",
    "    beta=0.9\n",
    ")\n",
    "graph_title = 'Траектория Adam, ' + func_name\n",
    "make_experiment(\n",
    "    func, \n",
    "    adam_trajectory, \n",
    "    graph_title,\n",
    "    -5, 10, 0, 10\n",
    ")\n",
    "clear_output()\n",
    "Image(open(f'saved_gifs/{graph_title}.gif','rb').read())"
   ]
  },
  {
   "cell_type": "markdown",
   "metadata": {},
   "source": [
    "**Вывод**"
   ]
  },
  {
   "cell_type": "markdown",
   "metadata": {},
   "source": []
  }
 ],
 "metadata": {
  "colab": {
   "provenance": []
  },
  "kernelspec": {
   "display_name": "Python 3 (ipykernel)",
   "language": "python",
   "name": "python3"
  },
  "language_info": {
   "codemirror_mode": {
    "name": "ipython",
    "version": 3
   },
   "file_extension": ".py",
   "mimetype": "text/x-python",
   "name": "python",
   "nbconvert_exporter": "python",
   "pygments_lexer": "ipython3",
   "version": "3.9.6"
  },
  "toc": {
   "base_numbering": 1,
   "nav_menu": {},
   "number_sections": true,
   "sideBar": true,
   "skip_h1_title": false,
   "title_cell": "Table of Contents",
   "title_sidebar": "Contents",
   "toc_cell": false,
   "toc_position": {},
   "toc_section_display": true,
   "toc_window_display": false
  }
 },
 "nbformat": 4,
 "nbformat_minor": 1
}
